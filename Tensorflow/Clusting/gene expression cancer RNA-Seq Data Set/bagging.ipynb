{
 "nbformat": 4,
 "nbformat_minor": 0,
 "metadata": {
  "colab": {
   "provenance": [],
   "authorship_tag": "ABX9TyN5H64pIVO10ODTIGMtk09h"
  },
  "kernelspec": {
   "name": "python3",
   "language": "python",
   "display_name": "Python 3 (ipykernel)"
  },
  "language_info": {
   "name": "python"
  }
 },
 "cells": [
  {
   "cell_type": "code",
   "source": [
    "import pandas as pd"
   ],
   "metadata": {
    "id": "kxGXgaBAF47L",
    "executionInfo": {
     "status": "ok",
     "timestamp": 1684244119054,
     "user_tz": -480,
     "elapsed": 10,
     "user": {
      "displayName": "m6",
      "userId": "16445725425625979130"
     }
    },
    "ExecuteTime": {
     "start_time": "2023-05-17T15:46:37.808558Z",
     "end_time": "2023-05-17T15:46:37.811053Z"
    }
   },
   "execution_count": 1,
   "outputs": []
  },
  {
   "cell_type": "code",
   "source": [
    "n = 6\n",
    "table = pd.DataFrame()\n",
    "\n",
    "for i in range(1, n + 1):\n",
    "    table[i] = pd.read_csv(f'./Model/Table_{i}.csv')\n",
    "\n",
    "test = pd.read_csv(\"./Data/test_label.csv\")"
   ],
   "metadata": {
    "id": "uhmNd1CL7rWj",
    "executionInfo": {
     "status": "ok",
     "timestamp": 1684246825775,
     "user_tz": -480,
     "elapsed": 638,
     "user": {
      "displayName": "m6",
      "userId": "16445725425625979130"
     }
    },
    "ExecuteTime": {
     "start_time": "2023-05-17T15:46:37.811053Z",
     "end_time": "2023-05-17T15:46:37.858672Z"
    }
   },
   "execution_count": 2,
   "outputs": []
  },
  {
   "cell_type": "code",
   "source": [
    "test"
   ],
   "metadata": {
    "colab": {
     "base_uri": "https://localhost:8080/",
     "height": 423
    },
    "id": "HdKmoAGZ02r4",
    "executionInfo": {
     "status": "ok",
     "timestamp": 1684246053761,
     "user_tz": -480,
     "elapsed": 568,
     "user": {
      "displayName": "m6",
      "userId": "16445725425625979130"
     }
    },
    "outputId": "78a967e9-d635-4640-e82b-0a764d4291a1",
    "ExecuteTime": {
     "start_time": "2023-05-17T15:46:37.859668Z",
     "end_time": "2023-05-17T15:46:37.878107Z"
    }
   },
   "execution_count": 3,
   "outputs": [
    {
     "data": {
      "text/plain": "             id Class\n0    sample_718  KIRC\n1    sample_391  BRCA\n2    sample_703  KIRC\n3    sample_452  BRCA\n4    sample_289  KIRC\n..          ...   ...\n327  sample_788  PRAD\n328  sample_794  PRAD\n329  sample_798  COAD\n330  sample_799  PRAD\n331  sample_800  PRAD\n\n[332 rows x 2 columns]",
      "text/html": "<div>\n<style scoped>\n    .dataframe tbody tr th:only-of-type {\n        vertical-align: middle;\n    }\n\n    .dataframe tbody tr th {\n        vertical-align: top;\n    }\n\n    .dataframe thead th {\n        text-align: right;\n    }\n</style>\n<table border=\"1\" class=\"dataframe\">\n  <thead>\n    <tr style=\"text-align: right;\">\n      <th></th>\n      <th>id</th>\n      <th>Class</th>\n    </tr>\n  </thead>\n  <tbody>\n    <tr>\n      <th>0</th>\n      <td>sample_718</td>\n      <td>KIRC</td>\n    </tr>\n    <tr>\n      <th>1</th>\n      <td>sample_391</td>\n      <td>BRCA</td>\n    </tr>\n    <tr>\n      <th>2</th>\n      <td>sample_703</td>\n      <td>KIRC</td>\n    </tr>\n    <tr>\n      <th>3</th>\n      <td>sample_452</td>\n      <td>BRCA</td>\n    </tr>\n    <tr>\n      <th>4</th>\n      <td>sample_289</td>\n      <td>KIRC</td>\n    </tr>\n    <tr>\n      <th>...</th>\n      <td>...</td>\n      <td>...</td>\n    </tr>\n    <tr>\n      <th>327</th>\n      <td>sample_788</td>\n      <td>PRAD</td>\n    </tr>\n    <tr>\n      <th>328</th>\n      <td>sample_794</td>\n      <td>PRAD</td>\n    </tr>\n    <tr>\n      <th>329</th>\n      <td>sample_798</td>\n      <td>COAD</td>\n    </tr>\n    <tr>\n      <th>330</th>\n      <td>sample_799</td>\n      <td>PRAD</td>\n    </tr>\n    <tr>\n      <th>331</th>\n      <td>sample_800</td>\n      <td>PRAD</td>\n    </tr>\n  </tbody>\n</table>\n<p>332 rows × 2 columns</p>\n</div>"
     },
     "execution_count": 3,
     "metadata": {},
     "output_type": "execute_result"
    }
   ]
  },
  {
   "cell_type": "code",
   "source": [
    "table"
   ],
   "metadata": {
    "colab": {
     "base_uri": "https://localhost:8080/",
     "height": 423
    },
    "id": "aP1pxczS1W_z",
    "executionInfo": {
     "status": "ok",
     "timestamp": 1684246067501,
     "user_tz": -480,
     "elapsed": 767,
     "user": {
      "displayName": "m6",
      "userId": "16445725425625979130"
     }
    },
    "outputId": "e784f167-591c-41d1-d708-52d4d816bfcf",
    "ExecuteTime": {
     "start_time": "2023-05-17T15:46:37.879099Z",
     "end_time": "2023-05-17T15:46:37.887110Z"
    }
   },
   "execution_count": 4,
   "outputs": [
    {
     "data": {
      "text/plain": "        1     2     3     4     5     6\n0    KIRC  KIRC  KIRC  KIRC  KIRC  KIRC\n1    BRCA  BRCA  BRCA  BRCA  BRCA  BRCA\n2    KIRC  KIRC  KIRC  KIRC  KIRC  KIRC\n3    BRCA  BRCA  BRCA  BRCA  BRCA  BRCA\n4    KIRC  KIRC  KIRC  KIRC  KIRC  KIRC\n..    ...   ...   ...   ...   ...   ...\n327  PRAD  PRAD  PRAD  PRAD  BRCA  PRAD\n328  PRAD  PRAD  PRAD  PRAD  PRAD  PRAD\n329  COAD  COAD  COAD  PRAD  COAD  LUAD\n330  PRAD  PRAD  PRAD  PRAD  PRAD  PRAD\n331  PRAD  PRAD  PRAD  PRAD  PRAD  PRAD\n\n[332 rows x 6 columns]",
      "text/html": "<div>\n<style scoped>\n    .dataframe tbody tr th:only-of-type {\n        vertical-align: middle;\n    }\n\n    .dataframe tbody tr th {\n        vertical-align: top;\n    }\n\n    .dataframe thead th {\n        text-align: right;\n    }\n</style>\n<table border=\"1\" class=\"dataframe\">\n  <thead>\n    <tr style=\"text-align: right;\">\n      <th></th>\n      <th>1</th>\n      <th>2</th>\n      <th>3</th>\n      <th>4</th>\n      <th>5</th>\n      <th>6</th>\n    </tr>\n  </thead>\n  <tbody>\n    <tr>\n      <th>0</th>\n      <td>KIRC</td>\n      <td>KIRC</td>\n      <td>KIRC</td>\n      <td>KIRC</td>\n      <td>KIRC</td>\n      <td>KIRC</td>\n    </tr>\n    <tr>\n      <th>1</th>\n      <td>BRCA</td>\n      <td>BRCA</td>\n      <td>BRCA</td>\n      <td>BRCA</td>\n      <td>BRCA</td>\n      <td>BRCA</td>\n    </tr>\n    <tr>\n      <th>2</th>\n      <td>KIRC</td>\n      <td>KIRC</td>\n      <td>KIRC</td>\n      <td>KIRC</td>\n      <td>KIRC</td>\n      <td>KIRC</td>\n    </tr>\n    <tr>\n      <th>3</th>\n      <td>BRCA</td>\n      <td>BRCA</td>\n      <td>BRCA</td>\n      <td>BRCA</td>\n      <td>BRCA</td>\n      <td>BRCA</td>\n    </tr>\n    <tr>\n      <th>4</th>\n      <td>KIRC</td>\n      <td>KIRC</td>\n      <td>KIRC</td>\n      <td>KIRC</td>\n      <td>KIRC</td>\n      <td>KIRC</td>\n    </tr>\n    <tr>\n      <th>...</th>\n      <td>...</td>\n      <td>...</td>\n      <td>...</td>\n      <td>...</td>\n      <td>...</td>\n      <td>...</td>\n    </tr>\n    <tr>\n      <th>327</th>\n      <td>PRAD</td>\n      <td>PRAD</td>\n      <td>PRAD</td>\n      <td>PRAD</td>\n      <td>BRCA</td>\n      <td>PRAD</td>\n    </tr>\n    <tr>\n      <th>328</th>\n      <td>PRAD</td>\n      <td>PRAD</td>\n      <td>PRAD</td>\n      <td>PRAD</td>\n      <td>PRAD</td>\n      <td>PRAD</td>\n    </tr>\n    <tr>\n      <th>329</th>\n      <td>COAD</td>\n      <td>COAD</td>\n      <td>COAD</td>\n      <td>PRAD</td>\n      <td>COAD</td>\n      <td>LUAD</td>\n    </tr>\n    <tr>\n      <th>330</th>\n      <td>PRAD</td>\n      <td>PRAD</td>\n      <td>PRAD</td>\n      <td>PRAD</td>\n      <td>PRAD</td>\n      <td>PRAD</td>\n    </tr>\n    <tr>\n      <th>331</th>\n      <td>PRAD</td>\n      <td>PRAD</td>\n      <td>PRAD</td>\n      <td>PRAD</td>\n      <td>PRAD</td>\n      <td>PRAD</td>\n    </tr>\n  </tbody>\n</table>\n<p>332 rows × 6 columns</p>\n</div>"
     },
     "execution_count": 4,
     "metadata": {},
     "output_type": "execute_result"
    }
   ]
  },
  {
   "cell_type": "code",
   "source": [
    "eval_label=pd.concat([test, table], axis=1)\n",
    "eval_label"
   ],
   "metadata": {
    "colab": {
     "base_uri": "https://localhost:8080/",
     "height": 467
    },
    "id": "1GY-2SVh5DUQ",
    "executionInfo": {
     "status": "ok",
     "timestamp": 1684246835932,
     "user_tz": -480,
     "elapsed": 1611,
     "user": {
      "displayName": "m6",
      "userId": "16445725425625979130"
     }
    },
    "outputId": "d593f083-1b9d-4a9b-e9d8-aa98187cc4f0",
    "ExecuteTime": {
     "start_time": "2023-05-17T15:46:37.886113Z",
     "end_time": "2023-05-17T15:46:37.906311Z"
    }
   },
   "execution_count": 5,
   "outputs": [
    {
     "data": {
      "text/plain": "             id Class     1     2     3     4     5     6\n0    sample_718  KIRC  KIRC  KIRC  KIRC  KIRC  KIRC  KIRC\n1    sample_391  BRCA  BRCA  BRCA  BRCA  BRCA  BRCA  BRCA\n2    sample_703  KIRC  KIRC  KIRC  KIRC  KIRC  KIRC  KIRC\n3    sample_452  BRCA  BRCA  BRCA  BRCA  BRCA  BRCA  BRCA\n4    sample_289  KIRC  KIRC  KIRC  KIRC  KIRC  KIRC  KIRC\n..          ...   ...   ...   ...   ...   ...   ...   ...\n327  sample_788  PRAD  PRAD  PRAD  PRAD  PRAD  BRCA  PRAD\n328  sample_794  PRAD  PRAD  PRAD  PRAD  PRAD  PRAD  PRAD\n329  sample_798  COAD  COAD  COAD  COAD  PRAD  COAD  LUAD\n330  sample_799  PRAD  PRAD  PRAD  PRAD  PRAD  PRAD  PRAD\n331  sample_800  PRAD  PRAD  PRAD  PRAD  PRAD  PRAD  PRAD\n\n[332 rows x 8 columns]",
      "text/html": "<div>\n<style scoped>\n    .dataframe tbody tr th:only-of-type {\n        vertical-align: middle;\n    }\n\n    .dataframe tbody tr th {\n        vertical-align: top;\n    }\n\n    .dataframe thead th {\n        text-align: right;\n    }\n</style>\n<table border=\"1\" class=\"dataframe\">\n  <thead>\n    <tr style=\"text-align: right;\">\n      <th></th>\n      <th>id</th>\n      <th>Class</th>\n      <th>1</th>\n      <th>2</th>\n      <th>3</th>\n      <th>4</th>\n      <th>5</th>\n      <th>6</th>\n    </tr>\n  </thead>\n  <tbody>\n    <tr>\n      <th>0</th>\n      <td>sample_718</td>\n      <td>KIRC</td>\n      <td>KIRC</td>\n      <td>KIRC</td>\n      <td>KIRC</td>\n      <td>KIRC</td>\n      <td>KIRC</td>\n      <td>KIRC</td>\n    </tr>\n    <tr>\n      <th>1</th>\n      <td>sample_391</td>\n      <td>BRCA</td>\n      <td>BRCA</td>\n      <td>BRCA</td>\n      <td>BRCA</td>\n      <td>BRCA</td>\n      <td>BRCA</td>\n      <td>BRCA</td>\n    </tr>\n    <tr>\n      <th>2</th>\n      <td>sample_703</td>\n      <td>KIRC</td>\n      <td>KIRC</td>\n      <td>KIRC</td>\n      <td>KIRC</td>\n      <td>KIRC</td>\n      <td>KIRC</td>\n      <td>KIRC</td>\n    </tr>\n    <tr>\n      <th>3</th>\n      <td>sample_452</td>\n      <td>BRCA</td>\n      <td>BRCA</td>\n      <td>BRCA</td>\n      <td>BRCA</td>\n      <td>BRCA</td>\n      <td>BRCA</td>\n      <td>BRCA</td>\n    </tr>\n    <tr>\n      <th>4</th>\n      <td>sample_289</td>\n      <td>KIRC</td>\n      <td>KIRC</td>\n      <td>KIRC</td>\n      <td>KIRC</td>\n      <td>KIRC</td>\n      <td>KIRC</td>\n      <td>KIRC</td>\n    </tr>\n    <tr>\n      <th>...</th>\n      <td>...</td>\n      <td>...</td>\n      <td>...</td>\n      <td>...</td>\n      <td>...</td>\n      <td>...</td>\n      <td>...</td>\n      <td>...</td>\n    </tr>\n    <tr>\n      <th>327</th>\n      <td>sample_788</td>\n      <td>PRAD</td>\n      <td>PRAD</td>\n      <td>PRAD</td>\n      <td>PRAD</td>\n      <td>PRAD</td>\n      <td>BRCA</td>\n      <td>PRAD</td>\n    </tr>\n    <tr>\n      <th>328</th>\n      <td>sample_794</td>\n      <td>PRAD</td>\n      <td>PRAD</td>\n      <td>PRAD</td>\n      <td>PRAD</td>\n      <td>PRAD</td>\n      <td>PRAD</td>\n      <td>PRAD</td>\n    </tr>\n    <tr>\n      <th>329</th>\n      <td>sample_798</td>\n      <td>COAD</td>\n      <td>COAD</td>\n      <td>COAD</td>\n      <td>COAD</td>\n      <td>PRAD</td>\n      <td>COAD</td>\n      <td>LUAD</td>\n    </tr>\n    <tr>\n      <th>330</th>\n      <td>sample_799</td>\n      <td>PRAD</td>\n      <td>PRAD</td>\n      <td>PRAD</td>\n      <td>PRAD</td>\n      <td>PRAD</td>\n      <td>PRAD</td>\n      <td>PRAD</td>\n    </tr>\n    <tr>\n      <th>331</th>\n      <td>sample_800</td>\n      <td>PRAD</td>\n      <td>PRAD</td>\n      <td>PRAD</td>\n      <td>PRAD</td>\n      <td>PRAD</td>\n      <td>PRAD</td>\n      <td>PRAD</td>\n    </tr>\n  </tbody>\n</table>\n<p>332 rows × 8 columns</p>\n</div>"
     },
     "execution_count": 5,
     "metadata": {},
     "output_type": "execute_result"
    }
   ]
  },
  {
   "cell_type": "code",
   "source": [
    "eval_label['Most_Frequent_Class'] = eval_label.iloc[:, 2:].apply(lambda x: x.value_counts().idxmax(), axis=1)"
   ],
   "metadata": {
    "id": "pO_Shrz86vGz",
    "executionInfo": {
     "status": "ok",
     "timestamp": 1684246845416,
     "user_tz": -480,
     "elapsed": 1666,
     "user": {
      "displayName": "m6",
      "userId": "16445725425625979130"
     }
    },
    "ExecuteTime": {
     "start_time": "2023-05-17T15:46:37.902320Z",
     "end_time": "2023-05-17T15:46:38.055945Z"
    }
   },
   "execution_count": 6,
   "outputs": []
  },
  {
   "cell_type": "code",
   "source": [
    "eval_label"
   ],
   "metadata": {
    "colab": {
     "base_uri": "https://localhost:8080/",
     "height": 487
    },
    "id": "IZPIqv8a6647",
    "executionInfo": {
     "status": "ok",
     "timestamp": 1684247011460,
     "user_tz": -480,
     "elapsed": 269,
     "user": {
      "displayName": "m6",
      "userId": "16445725425625979130"
     }
    },
    "outputId": "e5cd796d-b4e8-46ea-db53-48f0c7302589",
    "ExecuteTime": {
     "start_time": "2023-05-17T15:46:37.953018Z",
     "end_time": "2023-05-17T15:46:38.056943Z"
    }
   },
   "execution_count": 7,
   "outputs": [
    {
     "data": {
      "text/plain": "             id Class     1     2     3     4     5     6 Most_Frequent_Class\n0    sample_718  KIRC  KIRC  KIRC  KIRC  KIRC  KIRC  KIRC                KIRC\n1    sample_391  BRCA  BRCA  BRCA  BRCA  BRCA  BRCA  BRCA                BRCA\n2    sample_703  KIRC  KIRC  KIRC  KIRC  KIRC  KIRC  KIRC                KIRC\n3    sample_452  BRCA  BRCA  BRCA  BRCA  BRCA  BRCA  BRCA                BRCA\n4    sample_289  KIRC  KIRC  KIRC  KIRC  KIRC  KIRC  KIRC                KIRC\n..          ...   ...   ...   ...   ...   ...   ...   ...                 ...\n327  sample_788  PRAD  PRAD  PRAD  PRAD  PRAD  BRCA  PRAD                PRAD\n328  sample_794  PRAD  PRAD  PRAD  PRAD  PRAD  PRAD  PRAD                PRAD\n329  sample_798  COAD  COAD  COAD  COAD  PRAD  COAD  LUAD                COAD\n330  sample_799  PRAD  PRAD  PRAD  PRAD  PRAD  PRAD  PRAD                PRAD\n331  sample_800  PRAD  PRAD  PRAD  PRAD  PRAD  PRAD  PRAD                PRAD\n\n[332 rows x 9 columns]",
      "text/html": "<div>\n<style scoped>\n    .dataframe tbody tr th:only-of-type {\n        vertical-align: middle;\n    }\n\n    .dataframe tbody tr th {\n        vertical-align: top;\n    }\n\n    .dataframe thead th {\n        text-align: right;\n    }\n</style>\n<table border=\"1\" class=\"dataframe\">\n  <thead>\n    <tr style=\"text-align: right;\">\n      <th></th>\n      <th>id</th>\n      <th>Class</th>\n      <th>1</th>\n      <th>2</th>\n      <th>3</th>\n      <th>4</th>\n      <th>5</th>\n      <th>6</th>\n      <th>Most_Frequent_Class</th>\n    </tr>\n  </thead>\n  <tbody>\n    <tr>\n      <th>0</th>\n      <td>sample_718</td>\n      <td>KIRC</td>\n      <td>KIRC</td>\n      <td>KIRC</td>\n      <td>KIRC</td>\n      <td>KIRC</td>\n      <td>KIRC</td>\n      <td>KIRC</td>\n      <td>KIRC</td>\n    </tr>\n    <tr>\n      <th>1</th>\n      <td>sample_391</td>\n      <td>BRCA</td>\n      <td>BRCA</td>\n      <td>BRCA</td>\n      <td>BRCA</td>\n      <td>BRCA</td>\n      <td>BRCA</td>\n      <td>BRCA</td>\n      <td>BRCA</td>\n    </tr>\n    <tr>\n      <th>2</th>\n      <td>sample_703</td>\n      <td>KIRC</td>\n      <td>KIRC</td>\n      <td>KIRC</td>\n      <td>KIRC</td>\n      <td>KIRC</td>\n      <td>KIRC</td>\n      <td>KIRC</td>\n      <td>KIRC</td>\n    </tr>\n    <tr>\n      <th>3</th>\n      <td>sample_452</td>\n      <td>BRCA</td>\n      <td>BRCA</td>\n      <td>BRCA</td>\n      <td>BRCA</td>\n      <td>BRCA</td>\n      <td>BRCA</td>\n      <td>BRCA</td>\n      <td>BRCA</td>\n    </tr>\n    <tr>\n      <th>4</th>\n      <td>sample_289</td>\n      <td>KIRC</td>\n      <td>KIRC</td>\n      <td>KIRC</td>\n      <td>KIRC</td>\n      <td>KIRC</td>\n      <td>KIRC</td>\n      <td>KIRC</td>\n      <td>KIRC</td>\n    </tr>\n    <tr>\n      <th>...</th>\n      <td>...</td>\n      <td>...</td>\n      <td>...</td>\n      <td>...</td>\n      <td>...</td>\n      <td>...</td>\n      <td>...</td>\n      <td>...</td>\n      <td>...</td>\n    </tr>\n    <tr>\n      <th>327</th>\n      <td>sample_788</td>\n      <td>PRAD</td>\n      <td>PRAD</td>\n      <td>PRAD</td>\n      <td>PRAD</td>\n      <td>PRAD</td>\n      <td>BRCA</td>\n      <td>PRAD</td>\n      <td>PRAD</td>\n    </tr>\n    <tr>\n      <th>328</th>\n      <td>sample_794</td>\n      <td>PRAD</td>\n      <td>PRAD</td>\n      <td>PRAD</td>\n      <td>PRAD</td>\n      <td>PRAD</td>\n      <td>PRAD</td>\n      <td>PRAD</td>\n      <td>PRAD</td>\n    </tr>\n    <tr>\n      <th>329</th>\n      <td>sample_798</td>\n      <td>COAD</td>\n      <td>COAD</td>\n      <td>COAD</td>\n      <td>COAD</td>\n      <td>PRAD</td>\n      <td>COAD</td>\n      <td>LUAD</td>\n      <td>COAD</td>\n    </tr>\n    <tr>\n      <th>330</th>\n      <td>sample_799</td>\n      <td>PRAD</td>\n      <td>PRAD</td>\n      <td>PRAD</td>\n      <td>PRAD</td>\n      <td>PRAD</td>\n      <td>PRAD</td>\n      <td>PRAD</td>\n      <td>PRAD</td>\n    </tr>\n    <tr>\n      <th>331</th>\n      <td>sample_800</td>\n      <td>PRAD</td>\n      <td>PRAD</td>\n      <td>PRAD</td>\n      <td>PRAD</td>\n      <td>PRAD</td>\n      <td>PRAD</td>\n      <td>PRAD</td>\n      <td>PRAD</td>\n    </tr>\n  </tbody>\n</table>\n<p>332 rows × 9 columns</p>\n</div>"
     },
     "execution_count": 7,
     "metadata": {},
     "output_type": "execute_result"
    }
   ]
  },
  {
   "cell_type": "code",
   "source": [
    "accuracy = eval_label[eval_label['Class'] == eval_label['Most_Frequent_Class']].count() / len(eval_label)\n",
    "print('Bagging Accuracy:', accuracy['id'])"
   ],
   "metadata": {
    "colab": {
     "base_uri": "https://localhost:8080/"
    },
    "id": "Ui6ytmiq7AD6",
    "executionInfo": {
     "status": "ok",
     "timestamp": 1684247054736,
     "user_tz": -480,
     "elapsed": 338,
     "user": {
      "displayName": "m6",
      "userId": "16445725425625979130"
     }
    },
    "outputId": "8804e26c-f944-4b2d-942b-8018b8f4f375",
    "ExecuteTime": {
     "start_time": "2023-05-17T15:46:37.962167Z",
     "end_time": "2023-05-17T15:46:38.057939Z"
    }
   },
   "execution_count": 8,
   "outputs": [
    {
     "name": "stdout",
     "output_type": "stream",
     "text": [
      "Bagging Accuracy: 0.9819277108433735\n"
     ]
    }
   ]
  },
  {
   "cell_type": "code",
   "source": [
    "accuracy = []\n",
    "for i in range(1, n + 1):\n",
    "    accuracy.append((eval_label[eval_label['Class'] == eval_label[i]].count() / len(eval_label))['id'])\n",
    "    print('Accuracy:', accuracy[i - 1])"
   ],
   "metadata": {
    "colab": {
     "base_uri": "https://localhost:8080/"
    },
    "id": "uN0ElCfI_ZBG",
    "executionInfo": {
     "status": "ok",
     "timestamp": 1684247923328,
     "user_tz": -480,
     "elapsed": 426,
     "user": {
      "displayName": "m6",
      "userId": "16445725425625979130"
     }
    },
    "outputId": "dc4574ae-4513-44f4-9e74-86879aaa9c99",
    "ExecuteTime": {
     "start_time": "2023-05-17T15:46:37.973581Z",
     "end_time": "2023-05-17T15:46:38.057939Z"
    }
   },
   "execution_count": 9,
   "outputs": [
    {
     "name": "stdout",
     "output_type": "stream",
     "text": [
      "Accuracy: 0.9337349397590361\n",
      "Accuracy: 0.9518072289156626\n",
      "Accuracy: 0.9578313253012049\n",
      "Accuracy: 0.9457831325301205\n",
      "Accuracy: 0.9548192771084337\n",
      "Accuracy: 0.9307228915662651\n"
     ]
    }
   ]
  },
  {
   "cell_type": "code",
   "source": [
    "import numpy as np\n",
    "\n",
    "average_accuracy = np.mean(accuracy)\n",
    "print(f'Model Accuracy : {average_accuracy}')"
   ],
   "metadata": {
    "colab": {
     "base_uri": "https://localhost:8080/"
    },
    "id": "3g2-iyh8AI7u",
    "executionInfo": {
     "status": "ok",
     "timestamp": 1684248150210,
     "user_tz": -480,
     "elapsed": 412,
     "user": {
      "displayName": "m6",
      "userId": "16445725425625979130"
     }
    },
    "outputId": "8546647b-ba44-42f4-f819-1b4e55fbbb67",
    "ExecuteTime": {
     "start_time": "2023-05-17T15:46:37.989138Z",
     "end_time": "2023-05-17T15:46:38.057939Z"
    }
   },
   "execution_count": 10,
   "outputs": [
    {
     "name": "stdout",
     "output_type": "stream",
     "text": [
      "Model Accuracy : 0.9457831325301204\n"
     ]
    }
   ]
  },
  {
   "cell_type": "code",
   "execution_count": 10,
   "outputs": [],
   "source": [],
   "metadata": {
    "collapsed": false,
    "ExecuteTime": {
     "start_time": "2023-05-17T15:46:37.998735Z",
     "end_time": "2023-05-17T15:46:38.057939Z"
    }
   }
  }
 ]
}
