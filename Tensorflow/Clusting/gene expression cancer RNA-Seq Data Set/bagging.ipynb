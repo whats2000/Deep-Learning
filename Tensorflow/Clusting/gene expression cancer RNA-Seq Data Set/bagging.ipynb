{
 "nbformat": 4,
 "nbformat_minor": 0,
 "metadata": {
  "colab": {
   "provenance": [],
   "authorship_tag": "ABX9TyN5H64pIVO10ODTIGMtk09h"
  },
  "kernelspec": {
   "name": "python3",
   "language": "python",
   "display_name": "Python 3 (ipykernel)"
  },
  "language_info": {
   "name": "python"
  }
 },
 "cells": [
  {
   "cell_type": "code",
   "source": [
    "import pandas as pd"
   ],
   "metadata": {
    "id": "kxGXgaBAF47L",
    "executionInfo": {
     "status": "ok",
     "timestamp": 1684244119054,
     "user_tz": -480,
     "elapsed": 10,
     "user": {
      "displayName": "m6",
      "userId": "16445725425625979130"
     }
    },
    "ExecuteTime": {
     "start_time": "2023-05-25T19:11:08.248798Z",
     "end_time": "2023-05-25T19:11:08.254336Z"
    }
   },
   "execution_count": 87,
   "outputs": []
  },
  {
   "cell_type": "code",
   "source": [
    "n = 7\n",
    "table = pd.DataFrame()\n",
    "\n",
    "for i in range(1, n + 1):\n",
    "    table[i] = pd.read_csv(f'./Model/Table_{i}.csv')\n",
    "\n",
    "test = pd.read_csv(\"./Data/test_label.csv\")"
   ],
   "metadata": {
    "id": "uhmNd1CL7rWj",
    "executionInfo": {
     "status": "ok",
     "timestamp": 1684246825775,
     "user_tz": -480,
     "elapsed": 638,
     "user": {
      "displayName": "m6",
      "userId": "16445725425625979130"
     }
    },
    "ExecuteTime": {
     "start_time": "2023-05-25T19:11:08.251337Z",
     "end_time": "2023-05-25T19:11:08.297438Z"
    }
   },
   "execution_count": 88,
   "outputs": []
  },
  {
   "cell_type": "code",
   "source": [
    "test"
   ],
   "metadata": {
    "colab": {
     "base_uri": "https://localhost:8080/",
     "height": 423
    },
    "id": "HdKmoAGZ02r4",
    "executionInfo": {
     "status": "ok",
     "timestamp": 1684246053761,
     "user_tz": -480,
     "elapsed": 568,
     "user": {
      "displayName": "m6",
      "userId": "16445725425625979130"
     }
    },
    "outputId": "78a967e9-d635-4640-e82b-0a764d4291a1",
    "ExecuteTime": {
     "start_time": "2023-05-25T19:11:08.270022Z",
     "end_time": "2023-05-25T19:11:08.304411Z"
    }
   },
   "execution_count": 89,
   "outputs": [
    {
     "data": {
      "text/plain": "             id Class\n0    sample_718  KIRC\n1    sample_391  BRCA\n2    sample_703  KIRC\n3    sample_452  BRCA\n4    sample_289  KIRC\n..          ...   ...\n327  sample_788  PRAD\n328  sample_794  PRAD\n329  sample_798  COAD\n330  sample_799  PRAD\n331  sample_800  PRAD\n\n[332 rows x 2 columns]",
      "text/html": "<div>\n<style scoped>\n    .dataframe tbody tr th:only-of-type {\n        vertical-align: middle;\n    }\n\n    .dataframe tbody tr th {\n        vertical-align: top;\n    }\n\n    .dataframe thead th {\n        text-align: right;\n    }\n</style>\n<table border=\"1\" class=\"dataframe\">\n  <thead>\n    <tr style=\"text-align: right;\">\n      <th></th>\n      <th>id</th>\n      <th>Class</th>\n    </tr>\n  </thead>\n  <tbody>\n    <tr>\n      <th>0</th>\n      <td>sample_718</td>\n      <td>KIRC</td>\n    </tr>\n    <tr>\n      <th>1</th>\n      <td>sample_391</td>\n      <td>BRCA</td>\n    </tr>\n    <tr>\n      <th>2</th>\n      <td>sample_703</td>\n      <td>KIRC</td>\n    </tr>\n    <tr>\n      <th>3</th>\n      <td>sample_452</td>\n      <td>BRCA</td>\n    </tr>\n    <tr>\n      <th>4</th>\n      <td>sample_289</td>\n      <td>KIRC</td>\n    </tr>\n    <tr>\n      <th>...</th>\n      <td>...</td>\n      <td>...</td>\n    </tr>\n    <tr>\n      <th>327</th>\n      <td>sample_788</td>\n      <td>PRAD</td>\n    </tr>\n    <tr>\n      <th>328</th>\n      <td>sample_794</td>\n      <td>PRAD</td>\n    </tr>\n    <tr>\n      <th>329</th>\n      <td>sample_798</td>\n      <td>COAD</td>\n    </tr>\n    <tr>\n      <th>330</th>\n      <td>sample_799</td>\n      <td>PRAD</td>\n    </tr>\n    <tr>\n      <th>331</th>\n      <td>sample_800</td>\n      <td>PRAD</td>\n    </tr>\n  </tbody>\n</table>\n<p>332 rows × 2 columns</p>\n</div>"
     },
     "execution_count": 89,
     "metadata": {},
     "output_type": "execute_result"
    }
   ]
  },
  {
   "cell_type": "code",
   "source": [
    "table"
   ],
   "metadata": {
    "colab": {
     "base_uri": "https://localhost:8080/",
     "height": 423
    },
    "id": "aP1pxczS1W_z",
    "executionInfo": {
     "status": "ok",
     "timestamp": 1684246067501,
     "user_tz": -480,
     "elapsed": 767,
     "user": {
      "displayName": "m6",
      "userId": "16445725425625979130"
     }
    },
    "outputId": "e784f167-591c-41d1-d708-52d4d816bfcf",
    "ExecuteTime": {
     "start_time": "2023-05-25T19:11:08.275885Z",
     "end_time": "2023-05-25T19:11:08.305412Z"
    }
   },
   "execution_count": 90,
   "outputs": [
    {
     "data": {
      "text/plain": "        1     2     3     4     5     6     7\n0    KIRC  KIRC  KIRC  KIRC  KIRC  KIRC  KIRC\n1    BRCA  BRCA  BRCA  BRCA  BRCA  BRCA  BRCA\n2    KIRC  KIRC  KIRC  KIRC  KIRC  KIRC  KIRC\n3    BRCA  BRCA  BRCA  BRCA  BRCA  BRCA  BRCA\n4    KIRC  KIRC  KIRC  KIRC  KIRC  KIRC  KIRC\n..    ...   ...   ...   ...   ...   ...   ...\n327  PRAD  PRAD  PRAD  PRAD  BRCA  PRAD  PRAD\n328  PRAD  PRAD  PRAD  PRAD  PRAD  PRAD  PRAD\n329  COAD  COAD  COAD  PRAD  COAD  LUAD  COAD\n330  PRAD  PRAD  PRAD  PRAD  PRAD  PRAD  PRAD\n331  PRAD  PRAD  PRAD  PRAD  PRAD  PRAD  PRAD\n\n[332 rows x 7 columns]",
      "text/html": "<div>\n<style scoped>\n    .dataframe tbody tr th:only-of-type {\n        vertical-align: middle;\n    }\n\n    .dataframe tbody tr th {\n        vertical-align: top;\n    }\n\n    .dataframe thead th {\n        text-align: right;\n    }\n</style>\n<table border=\"1\" class=\"dataframe\">\n  <thead>\n    <tr style=\"text-align: right;\">\n      <th></th>\n      <th>1</th>\n      <th>2</th>\n      <th>3</th>\n      <th>4</th>\n      <th>5</th>\n      <th>6</th>\n      <th>7</th>\n    </tr>\n  </thead>\n  <tbody>\n    <tr>\n      <th>0</th>\n      <td>KIRC</td>\n      <td>KIRC</td>\n      <td>KIRC</td>\n      <td>KIRC</td>\n      <td>KIRC</td>\n      <td>KIRC</td>\n      <td>KIRC</td>\n    </tr>\n    <tr>\n      <th>1</th>\n      <td>BRCA</td>\n      <td>BRCA</td>\n      <td>BRCA</td>\n      <td>BRCA</td>\n      <td>BRCA</td>\n      <td>BRCA</td>\n      <td>BRCA</td>\n    </tr>\n    <tr>\n      <th>2</th>\n      <td>KIRC</td>\n      <td>KIRC</td>\n      <td>KIRC</td>\n      <td>KIRC</td>\n      <td>KIRC</td>\n      <td>KIRC</td>\n      <td>KIRC</td>\n    </tr>\n    <tr>\n      <th>3</th>\n      <td>BRCA</td>\n      <td>BRCA</td>\n      <td>BRCA</td>\n      <td>BRCA</td>\n      <td>BRCA</td>\n      <td>BRCA</td>\n      <td>BRCA</td>\n    </tr>\n    <tr>\n      <th>4</th>\n      <td>KIRC</td>\n      <td>KIRC</td>\n      <td>KIRC</td>\n      <td>KIRC</td>\n      <td>KIRC</td>\n      <td>KIRC</td>\n      <td>KIRC</td>\n    </tr>\n    <tr>\n      <th>...</th>\n      <td>...</td>\n      <td>...</td>\n      <td>...</td>\n      <td>...</td>\n      <td>...</td>\n      <td>...</td>\n      <td>...</td>\n    </tr>\n    <tr>\n      <th>327</th>\n      <td>PRAD</td>\n      <td>PRAD</td>\n      <td>PRAD</td>\n      <td>PRAD</td>\n      <td>BRCA</td>\n      <td>PRAD</td>\n      <td>PRAD</td>\n    </tr>\n    <tr>\n      <th>328</th>\n      <td>PRAD</td>\n      <td>PRAD</td>\n      <td>PRAD</td>\n      <td>PRAD</td>\n      <td>PRAD</td>\n      <td>PRAD</td>\n      <td>PRAD</td>\n    </tr>\n    <tr>\n      <th>329</th>\n      <td>COAD</td>\n      <td>COAD</td>\n      <td>COAD</td>\n      <td>PRAD</td>\n      <td>COAD</td>\n      <td>LUAD</td>\n      <td>COAD</td>\n    </tr>\n    <tr>\n      <th>330</th>\n      <td>PRAD</td>\n      <td>PRAD</td>\n      <td>PRAD</td>\n      <td>PRAD</td>\n      <td>PRAD</td>\n      <td>PRAD</td>\n      <td>PRAD</td>\n    </tr>\n    <tr>\n      <th>331</th>\n      <td>PRAD</td>\n      <td>PRAD</td>\n      <td>PRAD</td>\n      <td>PRAD</td>\n      <td>PRAD</td>\n      <td>PRAD</td>\n      <td>PRAD</td>\n    </tr>\n  </tbody>\n</table>\n<p>332 rows × 7 columns</p>\n</div>"
     },
     "execution_count": 90,
     "metadata": {},
     "output_type": "execute_result"
    }
   ]
  },
  {
   "cell_type": "code",
   "source": [
    "eval_label=pd.concat([test, table], axis=1)\n",
    "eval_label"
   ],
   "metadata": {
    "colab": {
     "base_uri": "https://localhost:8080/",
     "height": 467
    },
    "id": "1GY-2SVh5DUQ",
    "executionInfo": {
     "status": "ok",
     "timestamp": 1684246835932,
     "user_tz": -480,
     "elapsed": 1611,
     "user": {
      "displayName": "m6",
      "userId": "16445725425625979130"
     }
    },
    "outputId": "d593f083-1b9d-4a9b-e9d8-aa98187cc4f0",
    "ExecuteTime": {
     "start_time": "2023-05-25T19:11:08.287148Z",
     "end_time": "2023-05-25T19:11:08.305412Z"
    }
   },
   "execution_count": 91,
   "outputs": [
    {
     "data": {
      "text/plain": "             id Class     1     2     3     4     5     6     7\n0    sample_718  KIRC  KIRC  KIRC  KIRC  KIRC  KIRC  KIRC  KIRC\n1    sample_391  BRCA  BRCA  BRCA  BRCA  BRCA  BRCA  BRCA  BRCA\n2    sample_703  KIRC  KIRC  KIRC  KIRC  KIRC  KIRC  KIRC  KIRC\n3    sample_452  BRCA  BRCA  BRCA  BRCA  BRCA  BRCA  BRCA  BRCA\n4    sample_289  KIRC  KIRC  KIRC  KIRC  KIRC  KIRC  KIRC  KIRC\n..          ...   ...   ...   ...   ...   ...   ...   ...   ...\n327  sample_788  PRAD  PRAD  PRAD  PRAD  PRAD  BRCA  PRAD  PRAD\n328  sample_794  PRAD  PRAD  PRAD  PRAD  PRAD  PRAD  PRAD  PRAD\n329  sample_798  COAD  COAD  COAD  COAD  PRAD  COAD  LUAD  COAD\n330  sample_799  PRAD  PRAD  PRAD  PRAD  PRAD  PRAD  PRAD  PRAD\n331  sample_800  PRAD  PRAD  PRAD  PRAD  PRAD  PRAD  PRAD  PRAD\n\n[332 rows x 9 columns]",
      "text/html": "<div>\n<style scoped>\n    .dataframe tbody tr th:only-of-type {\n        vertical-align: middle;\n    }\n\n    .dataframe tbody tr th {\n        vertical-align: top;\n    }\n\n    .dataframe thead th {\n        text-align: right;\n    }\n</style>\n<table border=\"1\" class=\"dataframe\">\n  <thead>\n    <tr style=\"text-align: right;\">\n      <th></th>\n      <th>id</th>\n      <th>Class</th>\n      <th>1</th>\n      <th>2</th>\n      <th>3</th>\n      <th>4</th>\n      <th>5</th>\n      <th>6</th>\n      <th>7</th>\n    </tr>\n  </thead>\n  <tbody>\n    <tr>\n      <th>0</th>\n      <td>sample_718</td>\n      <td>KIRC</td>\n      <td>KIRC</td>\n      <td>KIRC</td>\n      <td>KIRC</td>\n      <td>KIRC</td>\n      <td>KIRC</td>\n      <td>KIRC</td>\n      <td>KIRC</td>\n    </tr>\n    <tr>\n      <th>1</th>\n      <td>sample_391</td>\n      <td>BRCA</td>\n      <td>BRCA</td>\n      <td>BRCA</td>\n      <td>BRCA</td>\n      <td>BRCA</td>\n      <td>BRCA</td>\n      <td>BRCA</td>\n      <td>BRCA</td>\n    </tr>\n    <tr>\n      <th>2</th>\n      <td>sample_703</td>\n      <td>KIRC</td>\n      <td>KIRC</td>\n      <td>KIRC</td>\n      <td>KIRC</td>\n      <td>KIRC</td>\n      <td>KIRC</td>\n      <td>KIRC</td>\n      <td>KIRC</td>\n    </tr>\n    <tr>\n      <th>3</th>\n      <td>sample_452</td>\n      <td>BRCA</td>\n      <td>BRCA</td>\n      <td>BRCA</td>\n      <td>BRCA</td>\n      <td>BRCA</td>\n      <td>BRCA</td>\n      <td>BRCA</td>\n      <td>BRCA</td>\n    </tr>\n    <tr>\n      <th>4</th>\n      <td>sample_289</td>\n      <td>KIRC</td>\n      <td>KIRC</td>\n      <td>KIRC</td>\n      <td>KIRC</td>\n      <td>KIRC</td>\n      <td>KIRC</td>\n      <td>KIRC</td>\n      <td>KIRC</td>\n    </tr>\n    <tr>\n      <th>...</th>\n      <td>...</td>\n      <td>...</td>\n      <td>...</td>\n      <td>...</td>\n      <td>...</td>\n      <td>...</td>\n      <td>...</td>\n      <td>...</td>\n      <td>...</td>\n    </tr>\n    <tr>\n      <th>327</th>\n      <td>sample_788</td>\n      <td>PRAD</td>\n      <td>PRAD</td>\n      <td>PRAD</td>\n      <td>PRAD</td>\n      <td>PRAD</td>\n      <td>BRCA</td>\n      <td>PRAD</td>\n      <td>PRAD</td>\n    </tr>\n    <tr>\n      <th>328</th>\n      <td>sample_794</td>\n      <td>PRAD</td>\n      <td>PRAD</td>\n      <td>PRAD</td>\n      <td>PRAD</td>\n      <td>PRAD</td>\n      <td>PRAD</td>\n      <td>PRAD</td>\n      <td>PRAD</td>\n    </tr>\n    <tr>\n      <th>329</th>\n      <td>sample_798</td>\n      <td>COAD</td>\n      <td>COAD</td>\n      <td>COAD</td>\n      <td>COAD</td>\n      <td>PRAD</td>\n      <td>COAD</td>\n      <td>LUAD</td>\n      <td>COAD</td>\n    </tr>\n    <tr>\n      <th>330</th>\n      <td>sample_799</td>\n      <td>PRAD</td>\n      <td>PRAD</td>\n      <td>PRAD</td>\n      <td>PRAD</td>\n      <td>PRAD</td>\n      <td>PRAD</td>\n      <td>PRAD</td>\n      <td>PRAD</td>\n    </tr>\n    <tr>\n      <th>331</th>\n      <td>sample_800</td>\n      <td>PRAD</td>\n      <td>PRAD</td>\n      <td>PRAD</td>\n      <td>PRAD</td>\n      <td>PRAD</td>\n      <td>PRAD</td>\n      <td>PRAD</td>\n      <td>PRAD</td>\n    </tr>\n  </tbody>\n</table>\n<p>332 rows × 9 columns</p>\n</div>"
     },
     "execution_count": 91,
     "metadata": {},
     "output_type": "execute_result"
    }
   ]
  },
  {
   "cell_type": "code",
   "source": [
    "eval_label['Most_Frequent_Class'] = eval_label.iloc[:, 2:].apply(lambda x: x.value_counts().idxmax(), axis=1)"
   ],
   "metadata": {
    "id": "pO_Shrz86vGz",
    "executionInfo": {
     "status": "ok",
     "timestamp": 1684246845416,
     "user_tz": -480,
     "elapsed": 1666,
     "user": {
      "displayName": "m6",
      "userId": "16445725425625979130"
     }
    },
    "ExecuteTime": {
     "start_time": "2023-05-25T19:11:08.295448Z",
     "end_time": "2023-05-25T19:11:08.406810Z"
    }
   },
   "execution_count": 92,
   "outputs": []
  },
  {
   "cell_type": "code",
   "source": [
    "eval_label"
   ],
   "metadata": {
    "colab": {
     "base_uri": "https://localhost:8080/",
     "height": 487
    },
    "id": "IZPIqv8a6647",
    "executionInfo": {
     "status": "ok",
     "timestamp": 1684247011460,
     "user_tz": -480,
     "elapsed": 269,
     "user": {
      "displayName": "m6",
      "userId": "16445725425625979130"
     }
    },
    "outputId": "e5cd796d-b4e8-46ea-db53-48f0c7302589",
    "ExecuteTime": {
     "start_time": "2023-05-25T19:11:08.345099Z",
     "end_time": "2023-05-25T19:11:08.428753Z"
    }
   },
   "execution_count": 93,
   "outputs": [
    {
     "data": {
      "text/plain": "             id Class     1     2     3     4     5     6     7   \n0    sample_718  KIRC  KIRC  KIRC  KIRC  KIRC  KIRC  KIRC  KIRC  \\\n1    sample_391  BRCA  BRCA  BRCA  BRCA  BRCA  BRCA  BRCA  BRCA   \n2    sample_703  KIRC  KIRC  KIRC  KIRC  KIRC  KIRC  KIRC  KIRC   \n3    sample_452  BRCA  BRCA  BRCA  BRCA  BRCA  BRCA  BRCA  BRCA   \n4    sample_289  KIRC  KIRC  KIRC  KIRC  KIRC  KIRC  KIRC  KIRC   \n..          ...   ...   ...   ...   ...   ...   ...   ...   ...   \n327  sample_788  PRAD  PRAD  PRAD  PRAD  PRAD  BRCA  PRAD  PRAD   \n328  sample_794  PRAD  PRAD  PRAD  PRAD  PRAD  PRAD  PRAD  PRAD   \n329  sample_798  COAD  COAD  COAD  COAD  PRAD  COAD  LUAD  COAD   \n330  sample_799  PRAD  PRAD  PRAD  PRAD  PRAD  PRAD  PRAD  PRAD   \n331  sample_800  PRAD  PRAD  PRAD  PRAD  PRAD  PRAD  PRAD  PRAD   \n\n    Most_Frequent_Class  \n0                  KIRC  \n1                  BRCA  \n2                  KIRC  \n3                  BRCA  \n4                  KIRC  \n..                  ...  \n327                PRAD  \n328                PRAD  \n329                COAD  \n330                PRAD  \n331                PRAD  \n\n[332 rows x 10 columns]",
      "text/html": "<div>\n<style scoped>\n    .dataframe tbody tr th:only-of-type {\n        vertical-align: middle;\n    }\n\n    .dataframe tbody tr th {\n        vertical-align: top;\n    }\n\n    .dataframe thead th {\n        text-align: right;\n    }\n</style>\n<table border=\"1\" class=\"dataframe\">\n  <thead>\n    <tr style=\"text-align: right;\">\n      <th></th>\n      <th>id</th>\n      <th>Class</th>\n      <th>1</th>\n      <th>2</th>\n      <th>3</th>\n      <th>4</th>\n      <th>5</th>\n      <th>6</th>\n      <th>7</th>\n      <th>Most_Frequent_Class</th>\n    </tr>\n  </thead>\n  <tbody>\n    <tr>\n      <th>0</th>\n      <td>sample_718</td>\n      <td>KIRC</td>\n      <td>KIRC</td>\n      <td>KIRC</td>\n      <td>KIRC</td>\n      <td>KIRC</td>\n      <td>KIRC</td>\n      <td>KIRC</td>\n      <td>KIRC</td>\n      <td>KIRC</td>\n    </tr>\n    <tr>\n      <th>1</th>\n      <td>sample_391</td>\n      <td>BRCA</td>\n      <td>BRCA</td>\n      <td>BRCA</td>\n      <td>BRCA</td>\n      <td>BRCA</td>\n      <td>BRCA</td>\n      <td>BRCA</td>\n      <td>BRCA</td>\n      <td>BRCA</td>\n    </tr>\n    <tr>\n      <th>2</th>\n      <td>sample_703</td>\n      <td>KIRC</td>\n      <td>KIRC</td>\n      <td>KIRC</td>\n      <td>KIRC</td>\n      <td>KIRC</td>\n      <td>KIRC</td>\n      <td>KIRC</td>\n      <td>KIRC</td>\n      <td>KIRC</td>\n    </tr>\n    <tr>\n      <th>3</th>\n      <td>sample_452</td>\n      <td>BRCA</td>\n      <td>BRCA</td>\n      <td>BRCA</td>\n      <td>BRCA</td>\n      <td>BRCA</td>\n      <td>BRCA</td>\n      <td>BRCA</td>\n      <td>BRCA</td>\n      <td>BRCA</td>\n    </tr>\n    <tr>\n      <th>4</th>\n      <td>sample_289</td>\n      <td>KIRC</td>\n      <td>KIRC</td>\n      <td>KIRC</td>\n      <td>KIRC</td>\n      <td>KIRC</td>\n      <td>KIRC</td>\n      <td>KIRC</td>\n      <td>KIRC</td>\n      <td>KIRC</td>\n    </tr>\n    <tr>\n      <th>...</th>\n      <td>...</td>\n      <td>...</td>\n      <td>...</td>\n      <td>...</td>\n      <td>...</td>\n      <td>...</td>\n      <td>...</td>\n      <td>...</td>\n      <td>...</td>\n      <td>...</td>\n    </tr>\n    <tr>\n      <th>327</th>\n      <td>sample_788</td>\n      <td>PRAD</td>\n      <td>PRAD</td>\n      <td>PRAD</td>\n      <td>PRAD</td>\n      <td>PRAD</td>\n      <td>BRCA</td>\n      <td>PRAD</td>\n      <td>PRAD</td>\n      <td>PRAD</td>\n    </tr>\n    <tr>\n      <th>328</th>\n      <td>sample_794</td>\n      <td>PRAD</td>\n      <td>PRAD</td>\n      <td>PRAD</td>\n      <td>PRAD</td>\n      <td>PRAD</td>\n      <td>PRAD</td>\n      <td>PRAD</td>\n      <td>PRAD</td>\n      <td>PRAD</td>\n    </tr>\n    <tr>\n      <th>329</th>\n      <td>sample_798</td>\n      <td>COAD</td>\n      <td>COAD</td>\n      <td>COAD</td>\n      <td>COAD</td>\n      <td>PRAD</td>\n      <td>COAD</td>\n      <td>LUAD</td>\n      <td>COAD</td>\n      <td>COAD</td>\n    </tr>\n    <tr>\n      <th>330</th>\n      <td>sample_799</td>\n      <td>PRAD</td>\n      <td>PRAD</td>\n      <td>PRAD</td>\n      <td>PRAD</td>\n      <td>PRAD</td>\n      <td>PRAD</td>\n      <td>PRAD</td>\n      <td>PRAD</td>\n      <td>PRAD</td>\n    </tr>\n    <tr>\n      <th>331</th>\n      <td>sample_800</td>\n      <td>PRAD</td>\n      <td>PRAD</td>\n      <td>PRAD</td>\n      <td>PRAD</td>\n      <td>PRAD</td>\n      <td>PRAD</td>\n      <td>PRAD</td>\n      <td>PRAD</td>\n      <td>PRAD</td>\n    </tr>\n  </tbody>\n</table>\n<p>332 rows × 10 columns</p>\n</div>"
     },
     "execution_count": 93,
     "metadata": {},
     "output_type": "execute_result"
    }
   ]
  },
  {
   "cell_type": "code",
   "execution_count": 94,
   "outputs": [],
   "source": [
    "from sklearn.metrics.cluster import  pair_confusion_matrix\n",
    "actual = eval_label['Class']\n",
    "predicted = eval_label['Most_Frequent_Class']"
   ],
   "metadata": {
    "collapsed": false,
    "ExecuteTime": {
     "start_time": "2023-05-25T19:11:08.353754Z",
     "end_time": "2023-05-25T19:11:08.432739Z"
    }
   }
  },
  {
   "cell_type": "code",
   "execution_count": 96,
   "outputs": [
    {
     "name": "stdout",
     "output_type": "stream",
     "text": [
      "              precision    recall  f1-score   support\n",
      "\n",
      "        BRCA     1.0000    1.0000    1.0000        56\n",
      "        COAD     0.9286    1.0000    0.9630        78\n",
      "        KIRC     1.0000    1.0000    1.0000        29\n",
      "        LUAD     1.0000    0.8182    0.9000        33\n",
      "        PRAD     1.0000    1.0000    1.0000       136\n",
      "\n",
      "    accuracy                         0.9819       332\n",
      "   macro avg     0.9857    0.9636    0.9726       332\n",
      "weighted avg     0.9832    0.9819    0.9814       332\n",
      "\n"
     ]
    }
   ],
   "source": [
    "from sklearn.metrics import classification_report\n",
    "\n",
    "# Calculating performance scores\n",
    "print(classification_report(actual, predicted, digits=4))"
   ],
   "metadata": {
    "collapsed": false,
    "ExecuteTime": {
     "start_time": "2023-05-25T19:11:08.375764Z",
     "end_time": "2023-05-25T19:11:08.460646Z"
    }
   }
  },
  {
   "cell_type": "code",
   "source": [
    "accuracy_list = []\n",
    "for i in range(1, n + 1):\n",
    "    accuracy_list.append((eval_label[eval_label['Class'] == eval_label[i]].count() / len(eval_label))['id'])\n",
    "    print('Accuracy:', accuracy_list[i - 1])"
   ],
   "metadata": {
    "colab": {
     "base_uri": "https://localhost:8080/"
    },
    "id": "uN0ElCfI_ZBG",
    "executionInfo": {
     "status": "ok",
     "timestamp": 1684247923328,
     "user_tz": -480,
     "elapsed": 426,
     "user": {
      "displayName": "m6",
      "userId": "16445725425625979130"
     }
    },
    "outputId": "dc4574ae-4513-44f4-9e74-86879aaa9c99",
    "ExecuteTime": {
     "start_time": "2023-05-25T19:11:08.389934Z",
     "end_time": "2023-05-25T19:11:08.465629Z"
    }
   },
   "execution_count": 97,
   "outputs": [
    {
     "name": "stdout",
     "output_type": "stream",
     "text": [
      "Accuracy: 0.9337349397590361\n",
      "Accuracy: 0.9518072289156626\n",
      "Accuracy: 0.9578313253012049\n",
      "Accuracy: 0.9457831325301205\n",
      "Accuracy: 0.9548192771084337\n",
      "Accuracy: 0.9307228915662651\n",
      "Accuracy: 0.9427710843373494\n"
     ]
    }
   ]
  },
  {
   "cell_type": "code",
   "source": [
    "import numpy as np\n",
    "\n",
    "average_accuracy = np.mean(accuracy_list)\n",
    "print(f'Model Accuracy : {average_accuracy}')"
   ],
   "metadata": {
    "colab": {
     "base_uri": "https://localhost:8080/"
    },
    "id": "3g2-iyh8AI7u",
    "executionInfo": {
     "status": "ok",
     "timestamp": 1684248150210,
     "user_tz": -480,
     "elapsed": 412,
     "user": {
      "displayName": "m6",
      "userId": "16445725425625979130"
     }
    },
    "outputId": "8546647b-ba44-42f4-f819-1b4e55fbbb67",
    "ExecuteTime": {
     "start_time": "2023-05-25T19:11:08.403820Z",
     "end_time": "2023-05-25T19:11:08.476159Z"
    }
   },
   "execution_count": 98,
   "outputs": [
    {
     "name": "stdout",
     "output_type": "stream",
     "text": [
      "Model Accuracy : 0.945352839931153\n"
     ]
    }
   ]
  },
  {
   "cell_type": "code",
   "execution_count": 98,
   "outputs": [],
   "source": [],
   "metadata": {
    "collapsed": false,
    "ExecuteTime": {
     "start_time": "2023-05-25T19:11:08.413361Z",
     "end_time": "2023-05-25T19:11:08.476159Z"
    }
   }
  }
 ]
}
