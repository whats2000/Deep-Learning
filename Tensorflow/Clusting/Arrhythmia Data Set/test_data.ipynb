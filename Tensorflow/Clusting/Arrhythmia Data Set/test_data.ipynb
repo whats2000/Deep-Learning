{
 "cells": [
  {
   "cell_type": "code",
   "execution_count": 26,
   "metadata": {
    "collapsed": true,
    "ExecuteTime": {
     "start_time": "2023-05-11T20:23:11.865021Z",
     "end_time": "2023-05-11T20:23:11.907527Z"
    }
   },
   "outputs": [],
   "source": [
    "import pandas as pd\n",
    "import numpy as np"
   ]
  },
  {
   "cell_type": "code",
   "execution_count": 27,
   "outputs": [],
   "source": [
    "data = pd.read_csv('./Data/test_data.csv', header=None)\n",
    "label = pd.read_csv('./Data/test_label.csv', header=None)\n",
    "data.columns = [f'a{i}' for i in data.columns]\n",
    "label.columns = ['label']"
   ],
   "metadata": {
    "collapsed": false,
    "ExecuteTime": {
     "start_time": "2023-05-11T20:23:11.867994Z",
     "end_time": "2023-05-11T20:23:12.000564Z"
    }
   }
  },
  {
   "cell_type": "code",
   "execution_count": 28,
   "outputs": [
    {
     "data": {
      "text/plain": "array([[ 47. ,   1. , 163. , ...,   0.2,  11.5,  13.1],\n       [ 57. ,   0. , 170. , ...,   2.3,  16. ,  38. ],\n       [ 38. ,   1. , 172. , ...,   2. ,   9.4,  27. ],\n       ...,\n       [ 20. ,   0. , 186. , ...,   0.8,  19.5,  25.7],\n       [ 26. ,   0. , 170. , ...,   1. ,  21. ,  28.4],\n       [ 45. ,   0. , 169. , ...,  -0.9, -16.4, -25.4]])"
     },
     "execution_count": 28,
     "metadata": {},
     "output_type": "execute_result"
    }
   ],
   "source": [
    "# 填補缺失值\n",
    "data_no_na = np.array(pd.DataFrame(data).fillna(pd.DataFrame(data).mean()))\n",
    "data_no_na"
   ],
   "metadata": {
    "collapsed": false,
    "ExecuteTime": {
     "start_time": "2023-05-11T20:23:11.890158Z",
     "end_time": "2023-05-11T20:23:12.002557Z"
    }
   }
  },
  {
   "cell_type": "code",
   "execution_count": 29,
   "outputs": [],
   "source": [
    "from sklearn.preprocessing import StandardScaler\n",
    "\n",
    "scaler = StandardScaler()\n",
    "data_scaled = scaler.fit_transform(data_no_na)"
   ],
   "metadata": {
    "collapsed": false,
    "ExecuteTime": {
     "start_time": "2023-05-11T20:23:11.940715Z",
     "end_time": "2023-05-11T20:23:12.003637Z"
    }
   }
  },
  {
   "cell_type": "code",
   "execution_count": 30,
   "outputs": [
    {
     "data": {
      "text/plain": "          0         1         2         3         4         5         6     \n0    0.138017  1.012739 -0.043020  0.914226 -0.525868 -0.477230 -0.192263  \\\n1    0.676454 -0.987421  0.530231  0.032679  0.323887  0.453438  1.747966   \n2   -0.346576  1.012739  0.694017 -0.282159 -0.053782  0.234457  0.937124   \n3    0.084173 -0.987421  1.185374  1.292032 -0.195408  0.070222  0.068364   \n4   -0.077358 -0.987421  0.120766  0.914226  0.229470  0.654171 -0.945188   \n..        ...       ...       ...       ...       ...       ...       ...   \n153 -0.023514  1.012739 -0.534377 -0.345126 -0.337033 -0.112262  0.328992   \n154 -0.454264 -0.987421  0.612124  0.662356 -0.242616  0.070222 -0.134346   \n155 -1.315763 -0.987421  1.840518  0.032679 -0.006573 -0.531976  0.271075   \n156 -0.992700 -0.987421  0.530231 -1.415576 -0.148199 -2.776530 -0.163305   \n157  0.030330 -0.987421  0.448338  0.914226  0.465512  0.836655 -1.205816   \n\n          7         8         9    ...       269       270       271   \n0   -1.003980 -0.575577 -0.461553  ... -0.090264  0.504101 -0.818268  \\\n1   -0.295451 -0.094770  0.521169  ...  0.401517  0.504101  0.123709   \n2   -0.676966  0.283007 -0.813850  ...  0.401517  0.504101 -1.184592   \n3   -0.322702 -0.712951 -0.387386  ...  0.401517  0.504101  0.411535   \n4   -0.595213  0.317350 -1.258856  ...  0.155627  0.504101 -1.734078   \n..        ...       ...       ...  ...       ...       ...       ...   \n153 -0.431706 -0.369517  0.298666  ...  0.155627  0.504101 -0.949098   \n154 -0.104693 -0.094770  0.650963  ...  0.893298 -0.438479  0.019045   \n155 -0.349953 -0.266487  0.447001  ... -0.090264 -0.909769  0.123709   \n156 -0.622464  3.957747 -1.221773  ... -0.090264  0.504101 -0.425777   \n157  1.203362  0.901187 -1.778030  ...  2.245695 -4.994283 -2.283565   \n\n          272  273  274       275       276       277       278  \n0    0.174524  0.0  0.0  0.014273 -0.671725 -0.485466 -0.864855  \n1   -0.003838  0.0  0.0  0.264844  0.593192 -0.214194  0.347427  \n2    0.317213  0.0  0.0  0.014273  0.412489 -0.612059 -0.188119  \n3    0.317213  0.0  0.0 -0.486869  0.593192  0.581536  0.926791  \n4   -0.824303  0.0  0.0 -0.236298 -1.274066 -1.709203 -2.145299  \n..        ...  ...  ...       ...       ...       ...       ...  \n153  0.031834  0.0  0.0  0.014273 -0.069384 -0.593974 -0.446155  \n154  0.245869  0.0  0.0  0.264844  0.834128 -0.129798  0.736916  \n155  0.317213  0.0  0.0  0.014273 -0.310320 -0.003205 -0.251411  \n156  0.709610  0.0  0.0 -0.486869 -0.189852  0.087219 -0.119959  \n157 -1.074010  0.0  0.0  2.018843 -1.334300 -2.167350 -2.739269  \n\n[158 rows x 279 columns]",
      "text/html": "<div>\n<style scoped>\n    .dataframe tbody tr th:only-of-type {\n        vertical-align: middle;\n    }\n\n    .dataframe tbody tr th {\n        vertical-align: top;\n    }\n\n    .dataframe thead th {\n        text-align: right;\n    }\n</style>\n<table border=\"1\" class=\"dataframe\">\n  <thead>\n    <tr style=\"text-align: right;\">\n      <th></th>\n      <th>0</th>\n      <th>1</th>\n      <th>2</th>\n      <th>3</th>\n      <th>4</th>\n      <th>5</th>\n      <th>6</th>\n      <th>7</th>\n      <th>8</th>\n      <th>9</th>\n      <th>...</th>\n      <th>269</th>\n      <th>270</th>\n      <th>271</th>\n      <th>272</th>\n      <th>273</th>\n      <th>274</th>\n      <th>275</th>\n      <th>276</th>\n      <th>277</th>\n      <th>278</th>\n    </tr>\n  </thead>\n  <tbody>\n    <tr>\n      <th>0</th>\n      <td>0.138017</td>\n      <td>1.012739</td>\n      <td>-0.043020</td>\n      <td>0.914226</td>\n      <td>-0.525868</td>\n      <td>-0.477230</td>\n      <td>-0.192263</td>\n      <td>-1.003980</td>\n      <td>-0.575577</td>\n      <td>-0.461553</td>\n      <td>...</td>\n      <td>-0.090264</td>\n      <td>0.504101</td>\n      <td>-0.818268</td>\n      <td>0.174524</td>\n      <td>0.0</td>\n      <td>0.0</td>\n      <td>0.014273</td>\n      <td>-0.671725</td>\n      <td>-0.485466</td>\n      <td>-0.864855</td>\n    </tr>\n    <tr>\n      <th>1</th>\n      <td>0.676454</td>\n      <td>-0.987421</td>\n      <td>0.530231</td>\n      <td>0.032679</td>\n      <td>0.323887</td>\n      <td>0.453438</td>\n      <td>1.747966</td>\n      <td>-0.295451</td>\n      <td>-0.094770</td>\n      <td>0.521169</td>\n      <td>...</td>\n      <td>0.401517</td>\n      <td>0.504101</td>\n      <td>0.123709</td>\n      <td>-0.003838</td>\n      <td>0.0</td>\n      <td>0.0</td>\n      <td>0.264844</td>\n      <td>0.593192</td>\n      <td>-0.214194</td>\n      <td>0.347427</td>\n    </tr>\n    <tr>\n      <th>2</th>\n      <td>-0.346576</td>\n      <td>1.012739</td>\n      <td>0.694017</td>\n      <td>-0.282159</td>\n      <td>-0.053782</td>\n      <td>0.234457</td>\n      <td>0.937124</td>\n      <td>-0.676966</td>\n      <td>0.283007</td>\n      <td>-0.813850</td>\n      <td>...</td>\n      <td>0.401517</td>\n      <td>0.504101</td>\n      <td>-1.184592</td>\n      <td>0.317213</td>\n      <td>0.0</td>\n      <td>0.0</td>\n      <td>0.014273</td>\n      <td>0.412489</td>\n      <td>-0.612059</td>\n      <td>-0.188119</td>\n    </tr>\n    <tr>\n      <th>3</th>\n      <td>0.084173</td>\n      <td>-0.987421</td>\n      <td>1.185374</td>\n      <td>1.292032</td>\n      <td>-0.195408</td>\n      <td>0.070222</td>\n      <td>0.068364</td>\n      <td>-0.322702</td>\n      <td>-0.712951</td>\n      <td>-0.387386</td>\n      <td>...</td>\n      <td>0.401517</td>\n      <td>0.504101</td>\n      <td>0.411535</td>\n      <td>0.317213</td>\n      <td>0.0</td>\n      <td>0.0</td>\n      <td>-0.486869</td>\n      <td>0.593192</td>\n      <td>0.581536</td>\n      <td>0.926791</td>\n    </tr>\n    <tr>\n      <th>4</th>\n      <td>-0.077358</td>\n      <td>-0.987421</td>\n      <td>0.120766</td>\n      <td>0.914226</td>\n      <td>0.229470</td>\n      <td>0.654171</td>\n      <td>-0.945188</td>\n      <td>-0.595213</td>\n      <td>0.317350</td>\n      <td>-1.258856</td>\n      <td>...</td>\n      <td>0.155627</td>\n      <td>0.504101</td>\n      <td>-1.734078</td>\n      <td>-0.824303</td>\n      <td>0.0</td>\n      <td>0.0</td>\n      <td>-0.236298</td>\n      <td>-1.274066</td>\n      <td>-1.709203</td>\n      <td>-2.145299</td>\n    </tr>\n    <tr>\n      <th>...</th>\n      <td>...</td>\n      <td>...</td>\n      <td>...</td>\n      <td>...</td>\n      <td>...</td>\n      <td>...</td>\n      <td>...</td>\n      <td>...</td>\n      <td>...</td>\n      <td>...</td>\n      <td>...</td>\n      <td>...</td>\n      <td>...</td>\n      <td>...</td>\n      <td>...</td>\n      <td>...</td>\n      <td>...</td>\n      <td>...</td>\n      <td>...</td>\n      <td>...</td>\n      <td>...</td>\n    </tr>\n    <tr>\n      <th>153</th>\n      <td>-0.023514</td>\n      <td>1.012739</td>\n      <td>-0.534377</td>\n      <td>-0.345126</td>\n      <td>-0.337033</td>\n      <td>-0.112262</td>\n      <td>0.328992</td>\n      <td>-0.431706</td>\n      <td>-0.369517</td>\n      <td>0.298666</td>\n      <td>...</td>\n      <td>0.155627</td>\n      <td>0.504101</td>\n      <td>-0.949098</td>\n      <td>0.031834</td>\n      <td>0.0</td>\n      <td>0.0</td>\n      <td>0.014273</td>\n      <td>-0.069384</td>\n      <td>-0.593974</td>\n      <td>-0.446155</td>\n    </tr>\n    <tr>\n      <th>154</th>\n      <td>-0.454264</td>\n      <td>-0.987421</td>\n      <td>0.612124</td>\n      <td>0.662356</td>\n      <td>-0.242616</td>\n      <td>0.070222</td>\n      <td>-0.134346</td>\n      <td>-0.104693</td>\n      <td>-0.094770</td>\n      <td>0.650963</td>\n      <td>...</td>\n      <td>0.893298</td>\n      <td>-0.438479</td>\n      <td>0.019045</td>\n      <td>0.245869</td>\n      <td>0.0</td>\n      <td>0.0</td>\n      <td>0.264844</td>\n      <td>0.834128</td>\n      <td>-0.129798</td>\n      <td>0.736916</td>\n    </tr>\n    <tr>\n      <th>155</th>\n      <td>-1.315763</td>\n      <td>-0.987421</td>\n      <td>1.840518</td>\n      <td>0.032679</td>\n      <td>-0.006573</td>\n      <td>-0.531976</td>\n      <td>0.271075</td>\n      <td>-0.349953</td>\n      <td>-0.266487</td>\n      <td>0.447001</td>\n      <td>...</td>\n      <td>-0.090264</td>\n      <td>-0.909769</td>\n      <td>0.123709</td>\n      <td>0.317213</td>\n      <td>0.0</td>\n      <td>0.0</td>\n      <td>0.014273</td>\n      <td>-0.310320</td>\n      <td>-0.003205</td>\n      <td>-0.251411</td>\n    </tr>\n    <tr>\n      <th>156</th>\n      <td>-0.992700</td>\n      <td>-0.987421</td>\n      <td>0.530231</td>\n      <td>-1.415576</td>\n      <td>-0.148199</td>\n      <td>-2.776530</td>\n      <td>-0.163305</td>\n      <td>-0.622464</td>\n      <td>3.957747</td>\n      <td>-1.221773</td>\n      <td>...</td>\n      <td>-0.090264</td>\n      <td>0.504101</td>\n      <td>-0.425777</td>\n      <td>0.709610</td>\n      <td>0.0</td>\n      <td>0.0</td>\n      <td>-0.486869</td>\n      <td>-0.189852</td>\n      <td>0.087219</td>\n      <td>-0.119959</td>\n    </tr>\n    <tr>\n      <th>157</th>\n      <td>0.030330</td>\n      <td>-0.987421</td>\n      <td>0.448338</td>\n      <td>0.914226</td>\n      <td>0.465512</td>\n      <td>0.836655</td>\n      <td>-1.205816</td>\n      <td>1.203362</td>\n      <td>0.901187</td>\n      <td>-1.778030</td>\n      <td>...</td>\n      <td>2.245695</td>\n      <td>-4.994283</td>\n      <td>-2.283565</td>\n      <td>-1.074010</td>\n      <td>0.0</td>\n      <td>0.0</td>\n      <td>2.018843</td>\n      <td>-1.334300</td>\n      <td>-2.167350</td>\n      <td>-2.739269</td>\n    </tr>\n  </tbody>\n</table>\n<p>158 rows × 279 columns</p>\n</div>"
     },
     "execution_count": 30,
     "metadata": {},
     "output_type": "execute_result"
    }
   ],
   "source": [
    "pd.DataFrame(data_scaled)"
   ],
   "metadata": {
    "collapsed": false,
    "ExecuteTime": {
     "start_time": "2023-05-11T20:23:11.947026Z",
     "end_time": "2023-05-11T20:23:12.012650Z"
    }
   }
  },
  {
   "cell_type": "code",
   "execution_count": 31,
   "outputs": [
    {
     "data": {
      "text/plain": "(158, 279)"
     },
     "execution_count": 31,
     "metadata": {},
     "output_type": "execute_result"
    }
   ],
   "source": [
    "data_scaled.shape"
   ],
   "metadata": {
    "collapsed": false,
    "ExecuteTime": {
     "start_time": "2023-05-11T20:23:11.969488Z",
     "end_time": "2023-05-11T20:23:12.014775Z"
    }
   }
  },
  {
   "cell_type": "code",
   "execution_count": 32,
   "outputs": [],
   "source": [
    "data_3d = np.reshape(data_scaled, (data_scaled.shape[0], data_scaled.shape[1], 1))"
   ],
   "metadata": {
    "collapsed": false,
    "ExecuteTime": {
     "start_time": "2023-05-11T20:23:11.980632Z",
     "end_time": "2023-05-11T20:23:12.015118Z"
    }
   }
  },
  {
   "cell_type": "code",
   "execution_count": 33,
   "outputs": [
    {
     "data": {
      "text/plain": "array([[[ 0.13801705],\n        [ 1.01273937],\n        [-0.04301971],\n        ...,\n        [-0.67172496],\n        [-0.48546572],\n        [-0.86485542]],\n\n       [[ 0.67645394],\n        [-0.98742088],\n        [ 0.53023085],\n        ...,\n        [ 0.59319185],\n        [-0.21419401],\n        [ 0.3474274 ]],\n\n       [[-0.34657615],\n        [ 1.01273937],\n        [ 0.69401672],\n        ...,\n        [ 0.41248945],\n        [-0.61205919],\n        [-0.18811923]],\n\n       ...,\n\n       [[-1.31576255],\n        [-0.98742088],\n        [ 1.84051782],\n        ...,\n        [-0.31032016],\n        [-0.0032049 ],\n        [-0.2514111 ]],\n\n       [[-0.99270042],\n        [-0.98742088],\n        [ 0.53023085],\n        ...,\n        [-0.18985189],\n        [ 0.08721901],\n        [-0.11995875]],\n\n       [[ 0.03032967],\n        [-0.98742088],\n        [ 0.44833791],\n        ...,\n        [-1.33430043],\n        [-2.16735036],\n        [-2.73926862]]])"
     },
     "execution_count": 33,
     "metadata": {},
     "output_type": "execute_result"
    }
   ],
   "source": [
    "data_3d"
   ],
   "metadata": {
    "collapsed": false,
    "ExecuteTime": {
     "start_time": "2023-05-11T20:23:11.990029Z",
     "end_time": "2023-05-11T20:23:12.015813Z"
    }
   }
  },
  {
   "cell_type": "code",
   "execution_count": 34,
   "outputs": [
    {
     "data": {
      "text/plain": "(158, 279, 1)"
     },
     "execution_count": 34,
     "metadata": {},
     "output_type": "execute_result"
    }
   ],
   "source": [
    "data_3d.shape"
   ],
   "metadata": {
    "collapsed": false,
    "ExecuteTime": {
     "start_time": "2023-05-11T20:23:12.005904Z",
     "end_time": "2023-05-11T20:23:12.016150Z"
    }
   }
  },
  {
   "cell_type": "code",
   "execution_count": 35,
   "outputs": [],
   "source": [
    "from tensorflow import keras"
   ],
   "metadata": {
    "collapsed": false,
    "ExecuteTime": {
     "start_time": "2023-05-11T20:23:12.018367Z",
     "end_time": "2023-05-11T20:23:12.025134Z"
    }
   }
  },
  {
   "cell_type": "code",
   "execution_count": 36,
   "outputs": [
    {
     "name": "stdout",
     "output_type": "stream",
     "text": [
      "Model: \"sequential\"\n",
      "_________________________________________________________________\n",
      " Layer (type)                Output Shape              Param #   \n",
      "=================================================================\n",
      " lstm (LSTM)                 (None, 48)                9600      \n",
      "                                                                 \n",
      " dropout (Dropout)           (None, 48)                0         \n",
      "                                                                 \n",
      " batch_normalization (BatchN  (None, 48)               192       \n",
      " ormalization)                                                   \n",
      "                                                                 \n",
      " dense (Dense)               (None, 36)                1764      \n",
      "                                                                 \n",
      " dropout_1 (Dropout)         (None, 36)                0         \n",
      "                                                                 \n",
      " batch_normalization_1 (Batc  (None, 36)               144       \n",
      " hNormalization)                                                 \n",
      "                                                                 \n",
      " dense_1 (Dense)             (None, 24)                888       \n",
      "                                                                 \n",
      " dropout_2 (Dropout)         (None, 24)                0         \n",
      "                                                                 \n",
      " batch_normalization_2 (Batc  (None, 24)               96        \n",
      " hNormalization)                                                 \n",
      "                                                                 \n",
      " dense_2 (Dense)             (None, 18)                450       \n",
      "                                                                 \n",
      " dropout_3 (Dropout)         (None, 18)                0         \n",
      "                                                                 \n",
      " batch_normalization_3 (Batc  (None, 18)               72        \n",
      " hNormalization)                                                 \n",
      "                                                                 \n",
      " dense_3 (Dense)             (None, 9)                 171       \n",
      "                                                                 \n",
      "=================================================================\n",
      "Total params: 13,377\n",
      "Trainable params: 13,125\n",
      "Non-trainable params: 252\n",
      "_________________________________________________________________\n"
     ]
    }
   ],
   "source": [
    "model = keras.models.load_model('./LSTM_Arrhythmia_2023-05-11_20-16-46.h5')\n",
    "model.summary()"
   ],
   "metadata": {
    "collapsed": false,
    "ExecuteTime": {
     "start_time": "2023-05-11T20:23:12.022291Z",
     "end_time": "2023-05-11T20:23:12.336329Z"
    }
   }
  },
  {
   "cell_type": "code",
   "execution_count": 37,
   "outputs": [],
   "source": [
    "# 創建新模型，輸入是原始模型的輸入，輸出是中間層的輸出\n",
    "predict_model = keras.Model(inputs=model.input, outputs=model.get_layer('batch_normalization_3').output)"
   ],
   "metadata": {
    "collapsed": false,
    "ExecuteTime": {
     "start_time": "2023-05-11T20:23:12.338350Z",
     "end_time": "2023-05-11T20:23:12.372604Z"
    }
   }
  },
  {
   "cell_type": "code",
   "execution_count": 38,
   "outputs": [
    {
     "name": "stdout",
     "output_type": "stream",
     "text": [
      "5/5 [==============================] - 0s 18ms/step\n"
     ]
    },
    {
     "data": {
      "text/plain": "array([[-0.9755697 ,  1.6300032 , -1.7283384 , ...,  0.1728465 ,\n        -0.68921345, -0.6649797 ],\n       [ 0.36467016,  0.87370425, -1.7283384 , ...,  2.0957422 ,\n        -1.0527941 ,  0.51595676],\n       [-0.9755697 , -0.8123135 , -1.5781085 , ..., -0.24669746,\n        -1.0527941 ,  1.3704822 ],\n       ...,\n       [-0.9755697 , -0.8123135 , -1.7283384 , ..., -0.3355167 ,\n        -1.0527941 ,  1.4624007 ],\n       [-0.9755697 , -0.8123135 , -1.1390722 , ..., -0.65603536,\n        -1.0527941 ,  2.2849822 ],\n       [ 3.1117444 ,  2.323918  , -1.0120733 , ..., -0.65603536,\n         2.178484  , -0.6649797 ]], dtype=float32)"
     },
     "execution_count": 38,
     "metadata": {},
     "output_type": "execute_result"
    }
   ],
   "source": [
    "predict = predict_model.predict(data_scaled)\n",
    "predict"
   ],
   "metadata": {
    "collapsed": false,
    "ExecuteTime": {
     "start_time": "2023-05-11T20:23:12.346506Z",
     "end_time": "2023-05-11T20:23:12.846381Z"
    }
   }
  },
  {
   "cell_type": "code",
   "execution_count": 39,
   "outputs": [
    {
     "name": "stderr",
     "output_type": "stream",
     "text": [
      "C:\\Users\\eddie\\AppData\\Local\\Programs\\Python\\Python311\\Lib\\site-packages\\sklearn\\cluster\\_kmeans.py:870: FutureWarning: The default value of `n_init` will change from 10 to 'auto' in 1.4. Set the value of `n_init` explicitly to suppress the warning\n",
      "  warnings.warn(\n"
     ]
    },
    {
     "data": {
      "text/plain": "     label  Predict\n0       13        3\n1       10        6\n2        6        0\n3        1        1\n4        2        8\n..     ...      ...\n153     10        1\n154     10        5\n155     10        0\n156     10        0\n157     13        2\n\n[158 rows x 2 columns]",
      "text/html": "<div>\n<style scoped>\n    .dataframe tbody tr th:only-of-type {\n        vertical-align: middle;\n    }\n\n    .dataframe tbody tr th {\n        vertical-align: top;\n    }\n\n    .dataframe thead th {\n        text-align: right;\n    }\n</style>\n<table border=\"1\" class=\"dataframe\">\n  <thead>\n    <tr style=\"text-align: right;\">\n      <th></th>\n      <th>label</th>\n      <th>Predict</th>\n    </tr>\n  </thead>\n  <tbody>\n    <tr>\n      <th>0</th>\n      <td>13</td>\n      <td>3</td>\n    </tr>\n    <tr>\n      <th>1</th>\n      <td>10</td>\n      <td>6</td>\n    </tr>\n    <tr>\n      <th>2</th>\n      <td>6</td>\n      <td>0</td>\n    </tr>\n    <tr>\n      <th>3</th>\n      <td>1</td>\n      <td>1</td>\n    </tr>\n    <tr>\n      <th>4</th>\n      <td>2</td>\n      <td>8</td>\n    </tr>\n    <tr>\n      <th>...</th>\n      <td>...</td>\n      <td>...</td>\n    </tr>\n    <tr>\n      <th>153</th>\n      <td>10</td>\n      <td>1</td>\n    </tr>\n    <tr>\n      <th>154</th>\n      <td>10</td>\n      <td>5</td>\n    </tr>\n    <tr>\n      <th>155</th>\n      <td>10</td>\n      <td>0</td>\n    </tr>\n    <tr>\n      <th>156</th>\n      <td>10</td>\n      <td>0</td>\n    </tr>\n    <tr>\n      <th>157</th>\n      <td>13</td>\n      <td>2</td>\n    </tr>\n  </tbody>\n</table>\n<p>158 rows × 2 columns</p>\n</div>"
     },
     "execution_count": 39,
     "metadata": {},
     "output_type": "execute_result"
    }
   ],
   "source": [
    "from sklearn.cluster import KMeans\n",
    "\n",
    "# 設置聚類模型的參數，這裡設置為5群\n",
    "n_clusters = 13\n",
    "kmeans = KMeans(n_clusters=n_clusters, random_state=0)\n",
    "\n",
    "# 進行聚類\n",
    "predict_label = kmeans.fit_predict(predict)\n",
    "\n",
    "# 打印每個樣本所屬的分類\n",
    "eval_label = pd.concat([label, pd.DataFrame(predict_label, columns=['Predict'])], axis=1)\n",
    "eval_label"
   ],
   "metadata": {
    "collapsed": false,
    "ExecuteTime": {
     "start_time": "2023-05-11T20:23:12.847373Z",
     "end_time": "2023-05-11T20:23:12.923133Z"
    }
   }
  },
  {
   "cell_type": "code",
   "execution_count": 40,
   "outputs": [
    {
     "data": {
      "text/plain": "label  Predict\n1      0          12\n10     0           8\n6      0           2\n13     0           2\nName: count, dtype: int64"
     },
     "execution_count": 40,
     "metadata": {},
     "output_type": "execute_result"
    }
   ],
   "source": [
    "eval_label[eval_label['Predict'] == 0].value_counts()"
   ],
   "metadata": {
    "collapsed": false,
    "ExecuteTime": {
     "start_time": "2023-05-11T20:23:12.922365Z",
     "end_time": "2023-05-11T20:23:12.929631Z"
    }
   }
  },
  {
   "cell_type": "code",
   "execution_count": 41,
   "outputs": [
    {
     "data": {
      "text/plain": "label  Predict\n1      1          3\n10     1          3\n13     1          3\n5      1          1\n8      1          1\nName: count, dtype: int64"
     },
     "execution_count": 41,
     "metadata": {},
     "output_type": "execute_result"
    }
   ],
   "source": [
    "eval_label[eval_label['Predict'] == 1].value_counts()"
   ],
   "metadata": {
    "collapsed": false,
    "ExecuteTime": {
     "start_time": "2023-05-11T20:23:12.930241Z",
     "end_time": "2023-05-11T20:23:12.940197Z"
    }
   }
  },
  {
   "cell_type": "code",
   "execution_count": 42,
   "outputs": [
    {
     "data": {
      "text/plain": "label  Predict\n10     2          3\n3      2          2\n12     2          2\n2      2          1\n9      2          1\n13     2          1\nName: count, dtype: int64"
     },
     "execution_count": 42,
     "metadata": {},
     "output_type": "execute_result"
    }
   ],
   "source": [
    "eval_label[eval_label['Predict'] == 2].value_counts()"
   ],
   "metadata": {
    "collapsed": false,
    "ExecuteTime": {
     "start_time": "2023-05-11T20:23:12.939802Z",
     "end_time": "2023-05-11T20:23:12.992778Z"
    }
   }
  },
  {
   "cell_type": "code",
   "execution_count": 43,
   "outputs": [
    {
     "data": {
      "text/plain": "label  Predict\n9      3          2\n13     3          2\n1      3          1\n3      3          1\n5      3          1\n10     3          1\nName: count, dtype: int64"
     },
     "execution_count": 43,
     "metadata": {},
     "output_type": "execute_result"
    }
   ],
   "source": [
    "eval_label[eval_label['Predict'] == 3].value_counts()"
   ],
   "metadata": {
    "collapsed": false,
    "ExecuteTime": {
     "start_time": "2023-05-11T20:23:12.956381Z",
     "end_time": "2023-05-11T20:23:13.042687Z"
    }
   }
  },
  {
   "cell_type": "code",
   "execution_count": 44,
   "outputs": [
    {
     "data": {
      "text/plain": "label  Predict\n10     4          3\n1      4          2\n4      4          1\nName: count, dtype: int64"
     },
     "execution_count": 44,
     "metadata": {},
     "output_type": "execute_result"
    }
   ],
   "source": [
    "eval_label[eval_label['Predict'] == 4].value_counts()"
   ],
   "metadata": {
    "collapsed": false,
    "ExecuteTime": {
     "start_time": "2023-05-11T20:23:12.967645Z",
     "end_time": "2023-05-11T20:23:13.042687Z"
    }
   }
  },
  {
   "cell_type": "code",
   "execution_count": 45,
   "outputs": [
    {
     "data": {
      "text/plain": "label  Predict\n10     5          7\n1      5          6\n6      5          1\n9      5          1\n13     5          1\nName: count, dtype: int64"
     },
     "execution_count": 45,
     "metadata": {},
     "output_type": "execute_result"
    }
   ],
   "source": [
    "eval_label[eval_label['Predict'] == 5].value_counts()"
   ],
   "metadata": {
    "collapsed": false,
    "ExecuteTime": {
     "start_time": "2023-05-11T20:23:12.976748Z",
     "end_time": "2023-05-11T20:23:13.043685Z"
    }
   }
  },
  {
   "cell_type": "code",
   "execution_count": 46,
   "outputs": [
    {
     "data": {
      "text/plain": "label  Predict\n10     6          7\n1      6          2\n13     6          1\nName: count, dtype: int64"
     },
     "execution_count": 46,
     "metadata": {},
     "output_type": "execute_result"
    }
   ],
   "source": [
    "eval_label[eval_label['Predict'] == 6].value_counts()"
   ],
   "metadata": {
    "collapsed": false,
    "ExecuteTime": {
     "start_time": "2023-05-11T20:23:12.986834Z",
     "end_time": "2023-05-11T20:23:13.043685Z"
    }
   }
  },
  {
   "cell_type": "code",
   "execution_count": 48,
   "outputs": [
    {
     "data": {
      "text/plain": "label  Predict\n9      7          2\n13     7          1\nName: count, dtype: int64"
     },
     "execution_count": 48,
     "metadata": {},
     "output_type": "execute_result"
    }
   ],
   "source": [
    "eval_label[eval_label['Predict'] == 7].value_counts()"
   ],
   "metadata": {
    "collapsed": false,
    "ExecuteTime": {
     "start_time": "2023-05-11T20:23:55.730610Z",
     "end_time": "2023-05-11T20:23:55.761361Z"
    }
   }
  },
  {
   "cell_type": "code",
   "execution_count": 49,
   "outputs": [
    {
     "data": {
      "text/plain": "label  Predict\n2      8          2\n9      8          2\n13     8          2\n1      8          1\n10     8          1\n11     8          1\n12     8          1\nName: count, dtype: int64"
     },
     "execution_count": 49,
     "metadata": {},
     "output_type": "execute_result"
    }
   ],
   "source": [
    "eval_label[eval_label['Predict'] == 8].value_counts()"
   ],
   "metadata": {
    "collapsed": false,
    "ExecuteTime": {
     "start_time": "2023-05-11T20:24:02.600772Z",
     "end_time": "2023-05-11T20:24:02.617900Z"
    }
   }
  },
  {
   "cell_type": "code",
   "execution_count": 50,
   "outputs": [
    {
     "data": {
      "text/plain": "label  Predict\n1      9          3\n13     9          3\n11     9          2\nName: count, dtype: int64"
     },
     "execution_count": 50,
     "metadata": {},
     "output_type": "execute_result"
    }
   ],
   "source": [
    "eval_label[eval_label['Predict'] == 9].value_counts()"
   ],
   "metadata": {
    "collapsed": false,
    "ExecuteTime": {
     "start_time": "2023-05-11T20:24:34.428701Z",
     "end_time": "2023-05-11T20:24:34.488621Z"
    }
   }
  },
  {
   "cell_type": "code",
   "execution_count": 51,
   "outputs": [
    {
     "data": {
      "text/plain": "label  Predict\n1      10         4\n13     10         2\n2      10         1\n10     10         1\n11     10         1\nName: count, dtype: int64"
     },
     "execution_count": 51,
     "metadata": {},
     "output_type": "execute_result"
    }
   ],
   "source": [
    "eval_label[eval_label['Predict'] == 10].value_counts()"
   ],
   "metadata": {
    "collapsed": false,
    "ExecuteTime": {
     "start_time": "2023-05-11T20:24:43.014216Z",
     "end_time": "2023-05-11T20:24:43.047689Z"
    }
   }
  },
  {
   "cell_type": "code",
   "execution_count": 52,
   "outputs": [
    {
     "data": {
      "text/plain": "label  Predict\n1      11         7\n10     11         7\n12     11         2\n13     11         1\nName: count, dtype: int64"
     },
     "execution_count": 52,
     "metadata": {},
     "output_type": "execute_result"
    }
   ],
   "source": [
    "eval_label[eval_label['Predict'] == 11].value_counts()"
   ],
   "metadata": {
    "collapsed": false,
    "ExecuteTime": {
     "start_time": "2023-05-11T20:24:49.709591Z",
     "end_time": "2023-05-11T20:24:49.728195Z"
    }
   }
  },
  {
   "cell_type": "code",
   "execution_count": 53,
   "outputs": [
    {
     "data": {
      "text/plain": "label  Predict\n1      12         9\n10     12         9\n2      12         3\n13     12         3\n5      12         1\n9      12         1\nName: count, dtype: int64"
     },
     "execution_count": 53,
     "metadata": {},
     "output_type": "execute_result"
    }
   ],
   "source": [
    "eval_label[eval_label['Predict'] == 12].value_counts()"
   ],
   "metadata": {
    "collapsed": false,
    "ExecuteTime": {
     "start_time": "2023-05-11T20:24:56.908976Z",
     "end_time": "2023-05-11T20:24:56.923545Z"
    }
   }
  },
  {
   "cell_type": "code",
   "execution_count": null,
   "outputs": [],
   "source": [],
   "metadata": {
    "collapsed": false
   }
  }
 ],
 "metadata": {
  "kernelspec": {
   "display_name": "Python 3",
   "language": "python",
   "name": "python3"
  },
  "language_info": {
   "codemirror_mode": {
    "name": "ipython",
    "version": 2
   },
   "file_extension": ".py",
   "mimetype": "text/x-python",
   "name": "python",
   "nbconvert_exporter": "python",
   "pygments_lexer": "ipython2",
   "version": "2.7.6"
  }
 },
 "nbformat": 4,
 "nbformat_minor": 0
}
