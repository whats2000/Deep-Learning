{
 "cells": [
  {
   "cell_type": "markdown",
   "metadata": {},
   "source": [
    "# MIS 583 Assignment 4: Self-supervised and transfer learning on CIFAR10"
   ]
  },
  {
   "cell_type": "markdown",
   "metadata": {},
   "source": [
    "Before we start, please put your name and SID in following format: <br>\n",
    ": LASTNAME Firstname, ?00000000   //   e.g.) 李晨愷 M114020035"
   ]
  },
  {
   "cell_type": "markdown",
   "metadata": {},
   "source": [
    "**Your Answer:**    \n",
    "Hi I'm 鄔仁迪, B104020009."
   ]
  },
  {
   "cell_type": "markdown",
   "metadata": {
    "id": "IWMWW8Ab_345"
   },
   "source": [
    "## Google Colab Setup\n",
    "Next we need to run a few commands to set up our environment on Google Colab. If you are running this notebook on a local machine you can skip this section.\n",
    "\n",
    "Run the following cell to mount your Google Drive. Follow the link, sign in to your Google account (the same account you used to store this notebook!) and copy the authorization code into the text box that appears below."
   ]
  },
  {
   "cell_type": "code",
   "execution_count": 1,
   "metadata": {
    "id": "vH4wc4iD_6w_",
    "ExecuteTime": {
     "end_time": "2023-11-02T13:57:44.100889100Z",
     "start_time": "2023-11-02T13:57:44.080377500Z"
    }
   },
   "outputs": [],
   "source": [
    "# from google.colab import drive\n",
    "# drive.mount('/content/drive')"
   ]
  },
  {
   "cell_type": "code",
   "execution_count": 2,
   "metadata": {
    "id": "XpNsPHZc_879",
    "ExecuteTime": {
     "end_time": "2023-11-02T14:34:35.454618300Z",
     "start_time": "2023-11-02T14:34:35.450610Z"
    }
   },
   "outputs": [],
   "source": [
    "# fill in the path in your Google Drive in the string below. Note: do not escape slashes or spaces\n",
    "# import os\n",
    "# datadir = \"C:/Users/eddie/GitHub/Deep-Learning/PyTorch/Class/pytorch104\"\n",
    "# if not os.path.exists(datadir):\n",
    "#  !ln -s \"/content/drive/My Drive/Your/A4/path/\" $datadir # TODO: Fill your A3 path\n",
    "# os.chdir(datadir)\n",
    "# !pwd"
   ]
  },
  {
   "cell_type": "markdown",
   "metadata": {
    "id": "Um5DJvBwb6xT"
   },
   "source": [
    "# Data Setup (5 points)\n",
    "\n",
    "The first thing to do is implement a dataset class to load rotated CIFAR10 images with matching labels. Since there is already a CIFAR10 dataset class implemented in `torchvision`, we will extend this class and modify the `__get_item__` method appropriately to load rotated images.\n",
    "\n",
    "Each rotation label should be an integer in the set {0, 1, 2, 3} which correspond to rotations of 0, 90, 180, or 270 degrees respectively."
   ]
  },
  {
   "cell_type": "code",
   "execution_count": 6,
   "metadata": {
    "id": "oHkeNUOKiFbP",
    "ExecuteTime": {
     "end_time": "2023-11-02T14:35:47.814867100Z",
     "start_time": "2023-11-02T14:35:47.806802700Z"
    }
   },
   "outputs": [],
   "source": [
    "import torch\n",
    "import torchvision\n",
    "import torchvision.transforms as transforms\n",
    "import numpy as np\n",
    "import random\n",
    "\n",
    "\n",
    "def rotate_img(img, rot):\n",
    "    if rot == 0: # 0 degrees rotation\n",
    "        return img\n",
    "    #######################################################################\n",
    "    #        TODO: Implement rotate_img() - return the rotated img        #                           \n",
    "    #######################################################################\n",
    "    angles = {0: 0, 1: 90, 2: 180, 3: 270}\n",
    "    if rot in angles:\n",
    "        return transforms.functional.rotate(img, angles[rot])\n",
    "    else:\n",
    "        raise ValueError('rotation should be 0, 90, 180, or 270 degrees')\n",
    "\n",
    "    #######################################################################\n",
    "    #                           End of your code                          #\n",
    "    #######################################################################\n",
    "\n",
    "class CIFAR10Rotation(torchvision.datasets.CIFAR10):\n",
    "\n",
    "    def __init__(self, root, train, download, transform) -> None:\n",
    "        super().__init__(root=root, train=train, download=download, transform=transform)\n",
    "\n",
    "    def __len__(self):\n",
    "        return len(self.data)\n",
    "\n",
    "    def __getitem__(self, index: int):\n",
    "        image, cls_label = super().__getitem__(index)\n",
    "\n",
    "        # randomly select image rotation\n",
    "        rotation_label = random.choice([0, 1, 2, 3])\n",
    "        image_rotated = rotate_img(image, rotation_label)\n",
    "\n",
    "        rotation_label = torch.tensor(rotation_label).long()\n",
    "        return image, image_rotated, rotation_label, torch.tensor(cls_label).long()"
   ]
  },
  {
   "cell_type": "code",
   "execution_count": 7,
   "metadata": {
    "id": "CCBSpNWpb8uw",
    "ExecuteTime": {
     "end_time": "2023-11-02T14:35:50.255497800Z",
     "start_time": "2023-11-02T14:35:48.605107300Z"
    }
   },
   "outputs": [
    {
     "name": "stdout",
     "output_type": "stream",
     "text": [
      "Files already downloaded and verified\n",
      "Files already downloaded and verified\n"
     ]
    }
   ],
   "source": [
    "transform_train = transforms.Compose([\n",
    "    transforms.RandomCrop(32, padding=4),\n",
    "    transforms.RandomHorizontalFlip(),\n",
    "    transforms.ToTensor(),\n",
    "    transforms.Normalize((0.4914, 0.4822, 0.4465), (0.2023, 0.1994, 0.2010)),\n",
    "])\n",
    "\n",
    "transform_test = transforms.Compose([\n",
    "    transforms.ToTensor(),\n",
    "    transforms.Normalize((0.4914, 0.4822, 0.4465), (0.2023, 0.1994, 0.2010)),\n",
    "])\n",
    "\n",
    "batch_size = 128\n",
    "\n",
    "trainset = CIFAR10Rotation(root='data', train=True,\n",
    "                                        download=True, transform=transform_train)\n",
    "trainloader = torch.utils.data.DataLoader(trainset, batch_size=batch_size,\n",
    "                                          shuffle=True, num_workers=0)\n",
    "\n",
    "testset = CIFAR10Rotation(root='data', train=False,\n",
    "                                       download=True, transform=transform_test)\n",
    "testloader = torch.utils.data.DataLoader(testset, batch_size=batch_size,\n",
    "                                         shuffle=False, num_workers=0)"
   ]
  },
  {
   "cell_type": "markdown",
   "metadata": {
    "id": "dOCWMyGhVOJB"
   },
   "source": [
    "Show some example images and rotated images with labels:"
   ]
  },
  {
   "cell_type": "code",
   "execution_count": 32,
   "metadata": {
    "id": "A9wN4BJWVMzB",
    "ExecuteTime": {
     "end_time": "2023-11-02T14:37:31.476980600Z",
     "start_time": "2023-11-02T14:37:31.250291300Z"
    }
   },
   "outputs": [
    {
     "name": "stderr",
     "output_type": "stream",
     "text": [
      "Clipping input data to the valid range for imshow with RGB data ([0..1] for floats or [0..255] for integers).\n"
     ]
    },
    {
     "data": {
      "text/plain": "<Figure size 640x480 with 1 Axes>",
      "image/png": "[encoded data removed]"
     },
     "metadata": {},
     "output_type": "display_data"
    },
    {
     "name": "stderr",
     "output_type": "stream",
     "text": [
      "Clipping input data to the valid range for imshow with RGB data ([0..1] for floats or [0..255] for integers).\n"
     ]
    },
    {
     "name": "stdout",
     "output_type": "stream",
     "text": [
      "Class labels:  frog  frog  dog   dog  \n"
     ]
    },
    {
     "data": {
      "text/plain": "<Figure size 640x480 with 1 Axes>",
      "image/png": "[encoded data removed]"
     },
     "metadata": {},
     "output_type": "display_data"
    },
    {
     "name": "stdout",
     "output_type": "stream",
     "text": [
      "Rotation labels:  0     180   90    270  \n"
     ]
    }
   ],
   "source": [
    "import matplotlib.pyplot as plt\n",
    "\n",
    "classes = ('plane', 'car', 'bird', 'cat',\n",
    "           'deer', 'dog', 'frog', 'horse', 'ship', 'truck')\n",
    "\n",
    "rot_classes = ('0', '90', '180', '270')\n",
    "\n",
    "\n",
    "def imshow(img):\n",
    "    # unnormalize\n",
    "    img = transforms.Normalize((0, 0, 0), (1/0.2023, 1/0.1994, 1/0.2010))(img)\n",
    "    img = transforms.Normalize((-0.4914, -0.4822, -0.4465), (1, 1, 1))(img)\n",
    "    npimg = img.numpy()\n",
    "    plt.imshow(np.transpose(npimg, (1, 2, 0)))\n",
    "    plt.show()\n",
    "\n",
    "\n",
    "dataiter = iter(trainloader)\n",
    "images, rot_images, rot_labels, labels = next(dataiter)\n",
    "\n",
    "# print images and rotated images\n",
    "img_grid = imshow(torchvision.utils.make_grid(images[:4], padding=0))\n",
    "print('Class labels: ', ' '.join(f'{classes[labels[j]]:5s}' for j in range(4)))\n",
    "img_grid = imshow(torchvision.utils.make_grid(rot_images[:4], padding=0))\n",
    "print('Rotation labels: ', ' '.join(f'{rot_classes[rot_labels[j]]:5s}' for j in range(4)))"
   ]
  },
  {
   "cell_type": "markdown",
   "metadata": {
    "id": "unCucbHexG4W"
   },
   "source": [
    "# Evaluation code"
   ]
  },
  {
   "cell_type": "code",
   "execution_count": 33,
   "metadata": {
    "id": "pptQRpqK0rOl",
    "ExecuteTime": {
     "end_time": "2023-11-02T14:39:42.526989500Z",
     "start_time": "2023-11-02T14:39:42.518378Z"
    }
   },
   "outputs": [],
   "source": [
    "import time\n",
    "\n",
    "def run_test(net, testloader, criterion, task):\n",
    "    correct = 0\n",
    "    total = 0\n",
    "    avg_test_loss = 0.0\n",
    "    # since we're not training, we don't need to calculate the gradients for our outputs\n",
    "    with torch.no_grad():\n",
    "        for images, images_rotated, labels, cls_labels in testloader:\n",
    "            if task == 'rotation':\n",
    "              images, labels = images_rotated.to(device), labels.to(device)\n",
    "            elif task == 'classification':\n",
    "              images, labels = images.to(device), cls_labels.to(device)\n",
    "            #######################################################################\n",
    "            # TODO: Calculate outputs by running images through the network       #\n",
    "            # The class with the highest energy is what we choose as prediction   #\n",
    "            #######################################################################\n",
    "            # Calculate outputs by running images through the network\n",
    "            outputs = net(images)\n",
    "\n",
    "            # The class with the highest score is what we choose as our prediction\n",
    "            _, predicted = torch.max(outputs.data, 1)\n",
    "            total += labels.size(0)\n",
    "            correct += (predicted == labels).sum().item()\n",
    "            #######################################################################\n",
    "            #                           End of your code                          #\n",
    "            #######################################################################\n",
    "            avg_test_loss += criterion(outputs, labels)  / len(testloader)\n",
    "    print('TESTING:')\n",
    "    print(f'Accuracy of the network on the 10000 test images: {100 * correct / total:.2f} %')\n",
    "    print(f'Average loss on the 10000 test images: {avg_test_loss:.3f}')"
   ]
  },
  {
   "cell_type": "code",
   "execution_count": 34,
   "metadata": {
    "id": "hf698c16A9k5",
    "ExecuteTime": {
     "end_time": "2023-11-02T14:39:45.509578Z",
     "start_time": "2023-11-02T14:39:45.506128300Z"
    }
   },
   "outputs": [],
   "source": [
    "def adjust_learning_rate(optimizer, epoch, init_lr, decay_epochs=30):\n",
    "    \"\"\"Sets the learning rate to the initial LR decayed by 10 every 30 epochs\"\"\"\n",
    "    lr = init_lr * (0.1 ** (epoch // decay_epochs))\n",
    "    for param_group in optimizer.param_groups:\n",
    "        param_group['lr'] = lr"
   ]
  },
  {
   "cell_type": "markdown",
   "metadata": {
    "id": "3lYdnb1Wsta_"
   },
   "source": [
    "# Train a ResNet18 on the rotation task (9 points)\n",
    "\n",
    "In this section, we will train a ResNet18 model **from scratch** on the rotation task. The input is a rotated image and the model predicts the rotation label. See the Data Setup section for details."
   ]
  },
  {
   "cell_type": "code",
   "execution_count": 35,
   "metadata": {
    "id": "knAiwdURvBHk",
    "ExecuteTime": {
     "end_time": "2023-11-02T14:39:50.702658400Z",
     "start_time": "2023-11-02T14:39:49.419439Z"
    }
   },
   "outputs": [
    {
     "data": {
      "text/plain": "'cuda'"
     },
     "execution_count": 35,
     "metadata": {},
     "output_type": "execute_result"
    }
   ],
   "source": [
    "device = 'cuda' if torch.cuda.is_available() else 'cpu'\n",
    "device"
   ]
  },
  {
   "cell_type": "markdown",
   "metadata": {},
   "source": [
    "### Notice: You should not use pretrained weights from ImageNet."
   ]
  },
  {
   "cell_type": "code",
   "execution_count": 38,
   "metadata": {
    "id": "235MEIUgsv65",
    "ExecuteTime": {
     "end_time": "2023-11-02T14:44:33.430446300Z",
     "start_time": "2023-11-02T14:44:33.255328600Z"
    }
   },
   "outputs": [],
   "source": [
    "import torch.nn as nn\n",
    "import torch.nn.functional as F\n",
    "\n",
    "from torchvision.models import resnet18\n",
    "\n",
    "net = resnet18(weights = None, num_classes=4) # Do not modify this line.\n",
    "net = net.to(device)"
   ]
  },
  {
   "cell_type": "code",
   "execution_count": 39,
   "metadata": {
    "id": "Vuhiw0ZoszAd",
    "ExecuteTime": {
     "end_time": "2023-11-02T14:44:34.067709Z",
     "start_time": "2023-11-02T14:44:34.043658700Z"
    }
   },
   "outputs": [],
   "source": [
    "import torch.nn as nn\n",
    "import torch.optim as optim\n",
    "################################################################################\n",
    "# TODO: Define loss and optmizer functions                                     #\n",
    "# Try any loss or optimizer function and learning rate to get better result    #\n",
    "# hint: torch.nn and torch.optim                                               #\n",
    "################################################################################\n",
    "# Loss and optimizer\n",
    "criterion = nn.CrossEntropyLoss(label_smoothing=0.1)\n",
    "learning_rate = 0.001\n",
    "optimizer = optim.Adam(net.parameters(), lr=learning_rate)\n",
    "################################################################################\n",
    "#                               End of your code                               #\n",
    "################################################################################\n",
    "criterion = criterion.to(device)"
   ]
  },
  {
   "cell_type": "code",
   "execution_count": 44,
   "metadata": {
    "id": "WleH-YBgs0rq",
    "ExecuteTime": {
     "end_time": "2023-11-02T14:53:54.693286500Z",
     "start_time": "2023-11-02T14:53:54.676682200Z"
    }
   },
   "outputs": [],
   "source": [
    "# Both the self-supervised rotation task and supervised CIFAR10 classification are\n",
    "# trained with the CrossEntropyLoss, so we can use the training loop code.\n",
    "\n",
    "def train(net, criterion, optimizer, num_epochs, decay_epochs, init_lr, task):\n",
    "\n",
    "    for epoch in range(num_epochs):  # loop over the dataset multiple times\n",
    "\n",
    "        running_loss = 0.0\n",
    "        running_correct = 0.0\n",
    "        running_total = 0.0\n",
    "        start_time = time.time()\n",
    "\n",
    "        net.train()\n",
    "\n",
    "        for i, (imgs, imgs_rotated, rotation_label, cls_label) in enumerate(trainloader, 0):\n",
    "            adjust_learning_rate(optimizer, epoch, init_lr, decay_epochs)\n",
    "            ######################################################################################################\n",
    "            # TODO: Set the data to the correct device; Different task will use different inputs and labels      #  \n",
    "            # TODO: Zero the parameter gradients                                                                 #\n",
    "            # TODO: forward + backward + optimize                                                                #\n",
    "            # TODO: Get predicted results                                                                        #\n",
    "            ######################################################################################################\n",
    "            # Set data to the correct device\n",
    "            if task == 'rotation':\n",
    "                inputs, labels = imgs_rotated.to(device), rotation_label.to(device)\n",
    "            elif task == 'classification':\n",
    "                inputs, labels = imgs.to(device), cls_label.to(device)\n",
    "\n",
    "            optimizer.zero_grad()  # Zero the parameter gradients\n",
    "\n",
    "            # Forward + backward + optimize\n",
    "            outputs = net(inputs)\n",
    "            loss = criterion(outputs, labels)\n",
    "            loss.backward()\n",
    "            optimizer.step()\n",
    "\n",
    "            # Get predicted results for accuracy calculation\n",
    "            _, predicted = torch.max(outputs.data, 1)\n",
    "            ######################################################################################################\n",
    "            #                               End of your code                                                     #\n",
    "            ######################################################################################################\n",
    "\n",
    "            # print statistics\n",
    "            print_freq = 100\n",
    "            running_loss += loss.item()\n",
    "\n",
    "            # calc acc\n",
    "            running_total += labels.size(0)\n",
    "            running_correct += (predicted == labels).sum().item()\n",
    "\n",
    "            if i % print_freq == (print_freq - 1):    # print every 2000 mini-batches\n",
    "                print(f'[{epoch + 1}, {i + 1:5d}] loss: {running_loss / print_freq:.3f} acc: {100*running_correct / running_total:.2f} time: {time.time() - start_time:.2f}')\n",
    "                running_loss, running_correct, running_total = 0.0, 0.0, 0.0\n",
    "                start_time = time.time()\n",
    "        ######################################################################################################\n",
    "        # TODO: Run the run_test() function after each epoch; Set the model to the evaluation mode.          #\n",
    "        ######################################################################################################\n",
    "        # Evaluate the model after each epoch\n",
    "        net.eval()\n",
    "        run_test(net, testloader, criterion, task)\n",
    "        ######################################################################################################\n",
    "        #                               End of your code                                                     #\n",
    "        ######################################################################################################  \n",
    "\n",
    "    print('Finished Training')"
   ]
  },
  {
   "cell_type": "code",
   "execution_count": 45,
   "metadata": {
    "id": "2u4AsfAKtaQS",
    "ExecuteTime": {
     "end_time": "2023-11-02T15:22:09.753158600Z",
     "start_time": "2023-11-02T14:53:56.137263100Z"
    }
   },
   "outputs": [
    {
     "name": "stdout",
     "output_type": "stream",
     "text": [
      "[1,   100] loss: 1.098 acc: 56.41 time: 8.39\n",
      "[1,   200] loss: 1.085 acc: 57.01 time: 8.80\n",
      "[1,   300] loss: 1.081 acc: 58.02 time: 9.22\n",
      "TESTING:\n",
      "Accuracy of the network on the 10000 test images: 58.36 %\n",
      "Average loss on the 10000 test images: 1.072\n",
      "[2,   100] loss: 1.058 acc: 59.49 time: 7.70\n",
      "[2,   200] loss: 1.049 acc: 60.07 time: 7.99\n",
      "[2,   300] loss: 1.047 acc: 59.55 time: 8.07\n",
      "TESTING:\n",
      "Accuracy of the network on the 10000 test images: 62.01 %\n",
      "Average loss on the 10000 test images: 1.011\n",
      "[3,   100] loss: 1.029 acc: 61.00 time: 8.20\n",
      "[3,   200] loss: 1.017 acc: 61.88 time: 8.63\n",
      "[3,   300] loss: 1.022 acc: 61.95 time: 8.72\n",
      "TESTING:\n",
      "Accuracy of the network on the 10000 test images: 62.54 %\n",
      "Average loss on the 10000 test images: 1.018\n",
      "[4,   100] loss: 1.012 acc: 62.79 time: 9.12\n",
      "[4,   200] loss: 0.998 acc: 63.11 time: 10.51\n",
      "[4,   300] loss: 1.008 acc: 62.76 time: 9.68\n",
      "TESTING:\n",
      "Accuracy of the network on the 10000 test images: 64.89 %\n",
      "Average loss on the 10000 test images: 0.986\n",
      "[5,   100] loss: 0.987 acc: 63.90 time: 8.15\n",
      "[5,   200] loss: 0.995 acc: 63.55 time: 8.08\n",
      "[5,   300] loss: 0.979 acc: 64.11 time: 8.13\n",
      "TESTING:\n",
      "Accuracy of the network on the 10000 test images: 65.32 %\n",
      "Average loss on the 10000 test images: 0.968\n",
      "[6,   100] loss: 0.974 acc: 65.07 time: 8.02\n",
      "[6,   200] loss: 0.971 acc: 64.71 time: 8.04\n",
      "[6,   300] loss: 0.974 acc: 64.75 time: 8.06\n",
      "TESTING:\n",
      "Accuracy of the network on the 10000 test images: 66.70 %\n",
      "Average loss on the 10000 test images: 0.939\n",
      "[7,   100] loss: 0.957 acc: 65.59 time: 7.97\n",
      "[7,   200] loss: 0.950 acc: 65.99 time: 8.16\n",
      "[7,   300] loss: 0.953 acc: 65.79 time: 9.09\n",
      "TESTING:\n",
      "Accuracy of the network on the 10000 test images: 65.62 %\n",
      "Average loss on the 10000 test images: 0.970\n",
      "[8,   100] loss: 0.944 acc: 66.61 time: 7.61\n",
      "[8,   200] loss: 0.941 acc: 66.38 time: 8.08\n",
      "[8,   300] loss: 0.938 acc: 67.26 time: 9.44\n",
      "TESTING:\n",
      "Accuracy of the network on the 10000 test images: 65.09 %\n",
      "Average loss on the 10000 test images: 0.978\n",
      "[9,   100] loss: 0.926 acc: 67.72 time: 8.01\n",
      "[9,   200] loss: 0.928 acc: 67.89 time: 8.68\n",
      "[9,   300] loss: 0.930 acc: 67.62 time: 8.56\n",
      "TESTING:\n",
      "Accuracy of the network on the 10000 test images: 68.89 %\n",
      "Average loss on the 10000 test images: 0.910\n",
      "[10,   100] loss: 0.912 acc: 68.64 time: 8.26\n",
      "[10,   200] loss: 0.902 acc: 68.89 time: 8.10\n",
      "[10,   300] loss: 0.909 acc: 68.84 time: 8.20\n",
      "TESTING:\n",
      "Accuracy of the network on the 10000 test images: 70.11 %\n",
      "Average loss on the 10000 test images: 0.884\n",
      "[11,   100] loss: 0.904 acc: 69.67 time: 8.29\n",
      "[11,   200] loss: 0.898 acc: 69.63 time: 8.39\n",
      "[11,   300] loss: 0.896 acc: 69.78 time: 8.31\n",
      "TESTING:\n",
      "Accuracy of the network on the 10000 test images: 70.70 %\n",
      "Average loss on the 10000 test images: 0.872\n",
      "[12,   100] loss: 0.884 acc: 70.47 time: 8.65\n",
      "[12,   200] loss: 0.885 acc: 70.51 time: 8.88\n",
      "[12,   300] loss: 0.891 acc: 70.21 time: 9.23\n",
      "TESTING:\n",
      "Accuracy of the network on the 10000 test images: 69.61 %\n",
      "Average loss on the 10000 test images: 0.898\n",
      "[13,   100] loss: 0.871 acc: 71.62 time: 8.27\n",
      "[13,   200] loss: 0.872 acc: 71.17 time: 8.25\n",
      "[13,   300] loss: 0.863 acc: 72.04 time: 8.19\n",
      "TESTING:\n",
      "Accuracy of the network on the 10000 test images: 72.23 %\n",
      "Average loss on the 10000 test images: 0.847\n",
      "[14,   100] loss: 0.856 acc: 72.16 time: 8.15\n",
      "[14,   200] loss: 0.851 acc: 72.20 time: 8.09\n",
      "[14,   300] loss: 0.862 acc: 71.86 time: 8.08\n",
      "TESTING:\n",
      "Accuracy of the network on the 10000 test images: 73.81 %\n",
      "Average loss on the 10000 test images: 0.834\n",
      "[15,   100] loss: 0.848 acc: 73.02 time: 11.87\n",
      "[15,   200] loss: 0.834 acc: 73.82 time: 8.78\n",
      "[15,   300] loss: 0.845 acc: 72.84 time: 7.98\n",
      "TESTING:\n",
      "Accuracy of the network on the 10000 test images: 73.40 %\n",
      "Average loss on the 10000 test images: 0.842\n",
      "[16,   100] loss: 0.814 acc: 74.55 time: 8.21\n",
      "[16,   200] loss: 0.784 acc: 76.40 time: 8.13\n",
      "[16,   300] loss: 0.791 acc: 75.83 time: 8.49\n",
      "TESTING:\n",
      "Accuracy of the network on the 10000 test images: 77.13 %\n",
      "Average loss on the 10000 test images: 0.765\n",
      "[17,   100] loss: 0.777 acc: 77.02 time: 7.83\n",
      "[17,   200] loss: 0.779 acc: 76.77 time: 8.19\n",
      "[17,   300] loss: 0.778 acc: 76.98 time: 9.98\n",
      "TESTING:\n",
      "Accuracy of the network on the 10000 test images: 77.53 %\n",
      "Average loss on the 10000 test images: 0.758\n",
      "[18,   100] loss: 0.775 acc: 77.11 time: 8.65\n",
      "[18,   200] loss: 0.778 acc: 76.58 time: 15.68\n",
      "[18,   300] loss: 0.773 acc: 77.02 time: 9.56\n",
      "TESTING:\n",
      "Accuracy of the network on the 10000 test images: 77.73 %\n",
      "Average loss on the 10000 test images: 0.758\n",
      "[19,   100] loss: 0.768 acc: 77.22 time: 8.02\n",
      "[19,   200] loss: 0.772 acc: 77.06 time: 8.08\n",
      "[19,   300] loss: 0.758 acc: 77.69 time: 8.10\n",
      "TESTING:\n",
      "Accuracy of the network on the 10000 test images: 77.64 %\n",
      "Average loss on the 10000 test images: 0.754\n",
      "[20,   100] loss: 0.769 acc: 77.35 time: 7.86\n",
      "[20,   200] loss: 0.762 acc: 77.62 time: 8.26\n",
      "[20,   300] loss: 0.757 acc: 77.49 time: 9.07\n",
      "TESTING:\n",
      "Accuracy of the network on the 10000 test images: 77.72 %\n",
      "Average loss on the 10000 test images: 0.754\n",
      "[21,   100] loss: 0.763 acc: 77.41 time: 8.69\n",
      "[21,   200] loss: 0.756 acc: 77.84 time: 8.63\n",
      "[21,   300] loss: 0.762 acc: 77.62 time: 8.79\n",
      "TESTING:\n",
      "Accuracy of the network on the 10000 test images: 77.96 %\n",
      "Average loss on the 10000 test images: 0.751\n",
      "[22,   100] loss: 0.756 acc: 77.94 time: 7.77\n",
      "[22,   200] loss: 0.758 acc: 77.93 time: 8.06\n",
      "[22,   300] loss: 0.750 acc: 78.50 time: 8.14\n",
      "TESTING:\n",
      "Accuracy of the network on the 10000 test images: 78.56 %\n",
      "Average loss on the 10000 test images: 0.747\n",
      "[23,   100] loss: 0.755 acc: 77.98 time: 8.27\n",
      "[23,   200] loss: 0.756 acc: 77.95 time: 8.08\n",
      "[23,   300] loss: 0.756 acc: 77.99 time: 8.38\n",
      "TESTING:\n",
      "Accuracy of the network on the 10000 test images: 78.84 %\n",
      "Average loss on the 10000 test images: 0.747\n",
      "[24,   100] loss: 0.740 acc: 79.12 time: 7.89\n",
      "[24,   200] loss: 0.750 acc: 78.44 time: 8.15\n",
      "[24,   300] loss: 0.746 acc: 78.45 time: 8.22\n",
      "TESTING:\n",
      "Accuracy of the network on the 10000 test images: 79.03 %\n",
      "Average loss on the 10000 test images: 0.732\n",
      "[25,   100] loss: 0.744 acc: 78.05 time: 7.96\n",
      "[25,   200] loss: 0.754 acc: 78.24 time: 8.16\n",
      "[25,   300] loss: 0.757 acc: 77.85 time: 8.07\n",
      "TESTING:\n",
      "Accuracy of the network on the 10000 test images: 78.82 %\n",
      "Average loss on the 10000 test images: 0.740\n",
      "[26,   100] loss: 0.737 acc: 78.89 time: 7.90\n",
      "[26,   200] loss: 0.745 acc: 78.93 time: 8.15\n",
      "[26,   300] loss: 0.736 acc: 79.26 time: 8.32\n",
      "TESTING:\n",
      "Accuracy of the network on the 10000 test images: 78.61 %\n",
      "Average loss on the 10000 test images: 0.741\n",
      "[27,   100] loss: 0.743 acc: 78.66 time: 8.48\n",
      "[27,   200] loss: 0.740 acc: 79.23 time: 8.16\n",
      "[27,   300] loss: 0.744 acc: 78.72 time: 8.19\n",
      "TESTING:\n",
      "Accuracy of the network on the 10000 test images: 78.98 %\n",
      "Average loss on the 10000 test images: 0.735\n",
      "[28,   100] loss: 0.742 acc: 78.77 time: 7.94\n",
      "[28,   200] loss: 0.740 acc: 79.27 time: 8.15\n",
      "[28,   300] loss: 0.726 acc: 79.55 time: 15.27\n",
      "TESTING:\n",
      "Accuracy of the network on the 10000 test images: 79.25 %\n",
      "Average loss on the 10000 test images: 0.736\n",
      "[29,   100] loss: 0.739 acc: 79.33 time: 8.04\n",
      "[29,   200] loss: 0.736 acc: 79.00 time: 8.14\n",
      "[29,   300] loss: 0.735 acc: 79.25 time: 8.25\n",
      "TESTING:\n",
      "Accuracy of the network on the 10000 test images: 79.25 %\n",
      "Average loss on the 10000 test images: 0.732\n",
      "[30,   100] loss: 0.738 acc: 79.19 time: 8.00\n",
      "[30,   200] loss: 0.726 acc: 79.80 time: 8.21\n",
      "[30,   300] loss: 0.729 acc: 79.32 time: 8.18\n",
      "TESTING:\n",
      "Accuracy of the network on the 10000 test images: 79.28 %\n",
      "Average loss on the 10000 test images: 0.727\n",
      "[31,   100] loss: 0.725 acc: 79.83 time: 8.06\n",
      "[31,   200] loss: 0.730 acc: 79.48 time: 8.19\n",
      "[31,   300] loss: 0.728 acc: 79.62 time: 8.16\n",
      "TESTING:\n",
      "Accuracy of the network on the 10000 test images: 79.12 %\n",
      "Average loss on the 10000 test images: 0.727\n",
      "[32,   100] loss: 0.724 acc: 80.12 time: 8.01\n",
      "[32,   200] loss: 0.723 acc: 79.84 time: 8.14\n",
      "[32,   300] loss: 0.732 acc: 79.38 time: 8.31\n",
      "TESTING:\n",
      "Accuracy of the network on the 10000 test images: 79.42 %\n",
      "Average loss on the 10000 test images: 0.722\n",
      "[33,   100] loss: 0.724 acc: 79.62 time: 8.05\n",
      "[33,   200] loss: 0.722 acc: 80.00 time: 8.20\n",
      "[33,   300] loss: 0.719 acc: 79.98 time: 8.17\n",
      "TESTING:\n",
      "Accuracy of the network on the 10000 test images: 79.52 %\n",
      "Average loss on the 10000 test images: 0.722\n",
      "[34,   100] loss: 0.724 acc: 79.85 time: 10.25\n",
      "[34,   200] loss: 0.717 acc: 80.23 time: 8.23\n",
      "[34,   300] loss: 0.738 acc: 79.16 time: 8.19\n",
      "TESTING:\n",
      "Accuracy of the network on the 10000 test images: 79.52 %\n",
      "Average loss on the 10000 test images: 0.726\n",
      "[35,   100] loss: 0.724 acc: 79.83 time: 8.05\n",
      "[35,   200] loss: 0.729 acc: 79.56 time: 8.29\n",
      "[35,   300] loss: 0.714 acc: 80.28 time: 8.14\n",
      "TESTING:\n",
      "Accuracy of the network on the 10000 test images: 79.56 %\n",
      "Average loss on the 10000 test images: 0.723\n",
      "[36,   100] loss: 0.726 acc: 79.33 time: 8.02\n",
      "[36,   200] loss: 0.714 acc: 80.30 time: 8.26\n",
      "[36,   300] loss: 0.718 acc: 80.24 time: 8.45\n",
      "TESTING:\n",
      "Accuracy of the network on the 10000 test images: 79.31 %\n",
      "Average loss on the 10000 test images: 0.724\n",
      "[37,   100] loss: 0.720 acc: 79.84 time: 8.12\n",
      "[37,   200] loss: 0.719 acc: 80.11 time: 8.17\n",
      "[37,   300] loss: 0.725 acc: 79.53 time: 8.22\n",
      "TESTING:\n",
      "Accuracy of the network on the 10000 test images: 79.61 %\n",
      "Average loss on the 10000 test images: 0.720\n",
      "[38,   100] loss: 0.723 acc: 79.62 time: 8.15\n",
      "[38,   200] loss: 0.713 acc: 80.39 time: 8.13\n",
      "[38,   300] loss: 0.727 acc: 79.89 time: 8.18\n",
      "TESTING:\n",
      "Accuracy of the network on the 10000 test images: 79.95 %\n",
      "Average loss on the 10000 test images: 0.720\n",
      "[39,   100] loss: 0.720 acc: 80.20 time: 7.99\n",
      "[39,   200] loss: 0.723 acc: 79.75 time: 8.09\n",
      "[39,   300] loss: 0.717 acc: 80.27 time: 8.31\n",
      "TESTING:\n",
      "Accuracy of the network on the 10000 test images: 79.28 %\n",
      "Average loss on the 10000 test images: 0.726\n",
      "[40,   100] loss: 0.724 acc: 79.77 time: 8.17\n",
      "[40,   200] loss: 0.716 acc: 80.13 time: 8.26\n",
      "[40,   300] loss: 0.719 acc: 80.33 time: 8.17\n",
      "TESTING:\n",
      "Accuracy of the network on the 10000 test images: 79.58 %\n",
      "Average loss on the 10000 test images: 0.720\n",
      "[41,   100] loss: 0.721 acc: 79.86 time: 8.05\n",
      "[41,   200] loss: 0.721 acc: 80.08 time: 8.17\n",
      "[41,   300] loss: 0.713 acc: 80.47 time: 8.78\n",
      "TESTING:\n",
      "Accuracy of the network on the 10000 test images: 79.59 %\n",
      "Average loss on the 10000 test images: 0.721\n",
      "[42,   100] loss: 0.720 acc: 80.00 time: 8.08\n",
      "[42,   200] loss: 0.720 acc: 80.06 time: 8.22\n",
      "[42,   300] loss: 0.719 acc: 79.96 time: 8.14\n",
      "TESTING:\n",
      "Accuracy of the network on the 10000 test images: 79.56 %\n",
      "Average loss on the 10000 test images: 0.722\n",
      "[43,   100] loss: 0.721 acc: 79.92 time: 8.08\n",
      "[43,   200] loss: 0.720 acc: 79.92 time: 8.23\n",
      "[43,   300] loss: 0.723 acc: 79.83 time: 8.18\n",
      "TESTING:\n",
      "Accuracy of the network on the 10000 test images: 79.57 %\n",
      "Average loss on the 10000 test images: 0.724\n",
      "[44,   100] loss: 0.723 acc: 79.66 time: 8.11\n",
      "[44,   200] loss: 0.719 acc: 79.90 time: 8.30\n",
      "[44,   300] loss: 0.725 acc: 79.68 time: 8.40\n",
      "TESTING:\n",
      "Accuracy of the network on the 10000 test images: 79.88 %\n",
      "Average loss on the 10000 test images: 0.719\n",
      "[45,   100] loss: 0.720 acc: 80.29 time: 8.22\n",
      "[45,   200] loss: 0.720 acc: 80.16 time: 8.05\n",
      "[45,   300] loss: 0.715 acc: 80.27 time: 8.01\n",
      "TESTING:\n",
      "Accuracy of the network on the 10000 test images: 79.84 %\n",
      "Average loss on the 10000 test images: 0.719\n",
      "Finished Training\n"
     ]
    }
   ],
   "source": [
    "from datetime import datetime\n",
    "\n",
    "train(net, criterion, optimizer, num_epochs=45, decay_epochs=15, init_lr=0.01, task='rotation')\n",
    "################################\n",
    "#     TODO: Save the model     #  \n",
    "################################\n",
    "# Get current date and time\n",
    "current_time = datetime.now().strftime(\"%Y-%m-%d-%H-%M-%S\")\n",
    "\n",
    "# Save the model\n",
    "model_path = f\"model_{current_time}.pth\"\n",
    "torch.save(net.state_dict(), model_path)\n",
    "################################\n",
    "#      End of your code        #  \n",
    "################################"
   ]
  },
  {
   "cell_type": "markdown",
   "metadata": {
    "id": "PLLMRTS9rTnk"
   },
   "source": [
    "## Fine-tuning on the pre-trained model (9 points)\n",
    "\n",
    "In this section, we will load the ResNet18 model pre-trained on the rotation task and fine-tune on the classification task. We will freeze all previous layers except for the 'layer4' block and 'fc' layer.\n",
    "\n",
    "**Then we will use the trained model from rotation task as the pretrained weights. Notice, you should not use the pretrained weights from ImageNet.**"
   ]
  },
  {
   "cell_type": "code",
   "execution_count": null,
   "metadata": {
    "id": "S4nX4ExlrymI"
   },
   "outputs": [],
   "source": [
    "import torch.nn as nn\n",
    "import torch.nn.functional as F\n",
    "\n",
    "from torchvision.models import resnet18\n",
    "\n",
    "#####################################################\n",
    "#     TODO: Load the pre-trained ResNet18 model     #  \n",
    "#####################################################\n",
    "\n",
    "####################################################\n",
    "#                End of your code                  #   \n",
    "####################################################"
   ]
  },
  {
   "cell_type": "code",
   "execution_count": null,
   "metadata": {
    "id": "kD44g-TxwYdU"
   },
   "outputs": [],
   "source": [
    "#################################################################################################\n",
    "#   TODO: Freeze all previous layers; only keep the 'layer4' block and 'fc' layer trainable     #\n",
    "#################################################################################################\n",
    "\n",
    "#################################################################################################\n",
    "#                                          End of your code                                     #\n",
    "#################################################################################################"
   ]
  },
  {
   "cell_type": "code",
   "execution_count": null,
   "metadata": {
    "id": "9T5DX0efr4fh"
   },
   "outputs": [],
   "source": [
    "# Print all the trainable parameters\n",
    "params_to_update = net.parameters()\n",
    "print(\"Params to learn:\")\n",
    "params_to_update = []\n",
    "for name,param in net.named_parameters():\n",
    "    if param.requires_grad == True:\n",
    "        params_to_update.append(param)\n",
    "        print(\"\\t\",name)"
   ]
  },
  {
   "cell_type": "code",
   "execution_count": null,
   "metadata": {
    "id": "xb032dG700ph"
   },
   "outputs": [],
   "source": [
    "# TODO: Define criterion and optimizer\n",
    "# Note that your optimizer only needs to update the parameters that are trainable.\n",
    "criterion = None\n",
    "optimizer = None"
   ]
  },
  {
   "cell_type": "code",
   "execution_count": null,
   "metadata": {
    "id": "3vLSwOo6sBjl"
   },
   "outputs": [],
   "source": [
    "train(net, criterion, optimizer, num_epochs=20, decay_epochs=10, init_lr=0.01, task='classification')\n"
   ]
  },
  {
   "cell_type": "markdown",
   "metadata": {
    "id": "ghPNhcJBrcNj"
   },
   "source": [
    "## Fine-tuning on the randomly initialized model (9 points)\n",
    "In this section, we will randomly initialize a ResNet18 model and fine-tune on the classification task. We will freeze all previous layers except for the 'layer4' block and 'fc' layer."
   ]
  },
  {
   "cell_type": "code",
   "execution_count": null,
   "metadata": {
    "id": "2RfXAh9vxXRB"
   },
   "outputs": [],
   "source": [
    "import torch.nn as nn\n",
    "import torch.nn.functional as F\n",
    "\n",
    "from torchvision.models import resnet18\n",
    "#################################################\n",
    "# TODO: Randomly initialize a ResNet18 model    #\n",
    "#################################################\n",
    "\n",
    "#################################################\n",
    "#              End of your code                 #\n",
    "#################################################"
   ]
  },
  {
   "cell_type": "code",
   "execution_count": null,
   "metadata": {
    "id": "fpx-SYAizt4p"
   },
   "outputs": [],
   "source": [
    "#################################################################################################\n",
    "# TODO: Freeze all previous layers; only keep the 'layer4' block and 'fc' layer trainable       #\n",
    "# To do this, you should set requires_grad=False for the frozen layers.                         #\n",
    "#################################################################################################\n",
    "\n",
    "#################################################################################################\n",
    "#                                          End of your code                                     #\n",
    "#################################################################################################\n"
   ]
  },
  {
   "cell_type": "code",
   "execution_count": null,
   "metadata": {
    "id": "BUFWizbHxgm2"
   },
   "outputs": [],
   "source": [
    "# Print all the trainable parameters\n",
    "params_to_update = net.parameters()\n",
    "print(\"Params to learn:\")\n",
    "params_to_update = []\n",
    "for name,param in net.named_parameters():\n",
    "    if param.requires_grad == True:\n",
    "        params_to_update.append(param)\n",
    "        print(\"\\t\",name)"
   ]
  },
  {
   "cell_type": "code",
   "execution_count": null,
   "metadata": {
    "id": "BxFrGj091AN_"
   },
   "outputs": [],
   "source": [
    "# TODO: Define criterion and optimizer\n",
    "# Note that your optimizer only needs to update the parameters that are trainable.\n",
    "criterion = None\n",
    "optimizer = None"
   ]
  },
  {
   "cell_type": "code",
   "execution_count": null,
   "metadata": {
    "id": "GzRVy0MZxpoL"
   },
   "outputs": [],
   "source": [
    "train(net, criterion, optimizer, num_epochs=20, decay_epochs=10, init_lr=0.01, task='classification')"
   ]
  },
  {
   "cell_type": "markdown",
   "metadata": {
    "id": "WcN54tcNN15U"
   },
   "source": [
    "## Supervised training on the pre-trained model (9 points)\n",
    "In this section, we will load the ResNet18 model pre-trained on the rotation task and re-train the whole model on the classification task.\n",
    "\n",
    "**Then we will use the trained model from rotation task as the pretrained weights. Notice, you should not use the pretrained weights from ImageNet.**"
   ]
  },
  {
   "cell_type": "code",
   "execution_count": null,
   "metadata": {
    "id": "9xR9h_S1N6Xi"
   },
   "outputs": [],
   "source": [
    "import torch.nn as nn\n",
    "import torch.nn.functional as F\n",
    "\n",
    "from torchvision.models import resnet18\n",
    "\n",
    "#####################################################\n",
    "#     TODO: Load the pre-trained ResNet18 model     #  \n",
    "#####################################################\n",
    "\n",
    "#####################################################\n",
    "#                End of your code                   #   \n",
    "#####################################################"
   ]
  },
  {
   "cell_type": "code",
   "execution_count": null,
   "metadata": {
    "id": "gGozc2cM0ADw"
   },
   "outputs": [],
   "source": [
    "# TODO: Define criterion and optimizer\n",
    "criterion = None\n",
    "optimizer = None"
   ]
  },
  {
   "cell_type": "code",
   "execution_count": null,
   "metadata": {
    "id": "JGWW7gzCz_Bu"
   },
   "outputs": [],
   "source": [
    "train(net, criterion, optimizer, num_epochs=20, decay_epochs=10, init_lr=0.01, task='classification')"
   ]
  },
  {
   "cell_type": "markdown",
   "metadata": {
    "id": "xjVTp9jhefTi"
   },
   "source": [
    "## Supervised training on the randomly initialized model (9 points)\n",
    "In this section, we will randomly initialize a ResNet18 model and re-train the whole model on the classification task."
   ]
  },
  {
   "cell_type": "code",
   "execution_count": null,
   "metadata": {
    "id": "uEjy8TBieeLK"
   },
   "outputs": [],
   "source": [
    "import torch.nn as nn\n",
    "import torch.nn.functional as F\n",
    "\n",
    "from torchvision.models import resnet18\n",
    "\n",
    "#################################################\n",
    "# TODO: Randomly initialize a ResNet18 model    #\n",
    "#################################################\n",
    "...\n",
    "#################################################\n",
    "#              End of your code                 #\n",
    "#################################################"
   ]
  },
  {
   "cell_type": "code",
   "execution_count": null,
   "metadata": {
    "id": "jEY90pK_0ZAm"
   },
   "outputs": [],
   "source": [
    "# TODO: Define criterion and optimizer\n",
    "criterion = None\n",
    "optimizer = None"
   ]
  },
  {
   "cell_type": "code",
   "execution_count": null,
   "metadata": {
    "id": "lMDwelhY0auO"
   },
   "outputs": [],
   "source": [
    "train(net, criterion, optimizer, num_epochs=20, decay_epochs=10, init_lr=0.01, task='classification')"
   ]
  },
  {
   "cell_type": "markdown",
   "metadata": {},
   "source": [
    "# Write report (37 points)\n",
    "\n",
    "本次作業主要有3個tasks需要大家完成，在A4.pdf中有希望大家達成的baseline **(不能低於baseline最多2%，沒有達到不會給全部分數)**，report的撰寫就希望大家可以透過去調整不同的訓練方法、損失函數、優化器，或者是調整凍結不同的層來進行這次的實驗，就請大家將嘗試的結果寫在report裡，祝大家順利！\n",
    "\n",
    "- Rotation task (13 points)\n",
    "- Fine-tuning the specified layers of the pre-trained model (12 points)\n",
    "- Fine-tuning the whole pre-trained model (12 points)"
   ]
  },
  {
   "cell_type": "markdown",
   "metadata": {},
   "source": [
    "# Extra Credit (13 points)\n",
    "\n",
    "上面基本的code跟report最高可以拿到87分，這個加分部分並沒有要求同學們一定要做，若同學們想要獲得更高的分數可以根據以下的加分要求來獲得加分。\n",
    "\n",
    "- In Figure 5(b) from the Gidaris et al. paper, the authors show a plot of CIFAR10 classification performance vs. number of training examples per category for a supervised CIFAR10 model vs. a RotNet model with the final layers fine-tuned on CIFAR10. The plot shows that pre-training on the Rotation task can be advantageous when only a small amount of labeled data is available. Using your RotNet fine-tuning code and supervised CIFAR10 training code from the main assignment, try to create a similar plot by performing supervised fine-tuning/training on only a subset of CIFAR10.\n",
    "- Use a more advanced model than ResNet18 to try to get higher accuracy on the rotation prediction task, as well as for transfer to supervised CIFAR10 classification.\n",
    "  \n",
    "- If you have a good amount of compute at your disposal, try to train a rotation prediction model on the larger ImageNette dataset (still smaller than ImageNet, though).\n"
   ]
  },
  {
   "cell_type": "markdown",
   "metadata": {},
   "source": []
  }
 ],
 "metadata": {
  "accelerator": "GPU",
  "colab": {
   "provenance": [
    {
     "file_id": "1qQ3NEaCUln7yDSksrEOnDwrt3u9dYNr4",
     "timestamp": 1677623843954
    }
   ]
  },
  "gpuClass": "standard",
  "kernelspec": {
   "display_name": "Python 3.8.13",
   "language": "python",
   "name": "python3"
  },
  "language_info": {
   "codemirror_mode": {
    "name": "ipython",
    "version": 3
   },
   "file_extension": ".py",
   "mimetype": "text/x-python",
   "name": "python",
   "nbconvert_exporter": "python",
   "pygments_lexer": "ipython3",
   "version": "3.8.13"
  },
  "vscode": {
   "interpreter": {
    "hash": "aaa478f9632825e83f6a2247407c7a2930de96a6810af7910643e423346524f9"
   }
  }
 },
 "nbformat": 4,
 "nbformat_minor": 0
}
