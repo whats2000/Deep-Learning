{
 "cells": [
  {
   "cell_type": "markdown",
   "metadata": {},
   "source": [
    "# MIS 583 Assignment 4: Self-supervised and transfer learning on CIFAR10"
   ]
  },
  {
   "cell_type": "markdown",
   "metadata": {},
   "source": [
    "Before we start, please put your name and SID in following format: <br>\n",
    ": LASTNAME Firstname, ?00000000   //   e.g.) 李晨愷 M114020035"
   ]
  },
  {
   "cell_type": "markdown",
   "metadata": {},
   "source": [
    "**Your Answer:**    \n",
    "Hi I'm Ren-Di Wu, B104020009."
   ]
  },
  {
   "cell_type": "markdown",
   "metadata": {
    "id": "IWMWW8Ab_345"
   },
   "source": [
    "## Google Colab Setup\n",
    "Next we need to run a few commands to set up our environment on Google Colab. If you are running this notebook on a local machine you can skip this section.\n",
    "\n",
    "Run the following cell to mount your Google Drive. Follow the link, sign in to your Google account (the same account you used to store this notebook!) and copy the authorization code into the text box that appears below."
   ]
  },
  {
   "cell_type": "code",
   "execution_count": 1,
   "metadata": {
    "id": "vH4wc4iD_6w_",
    "ExecuteTime": {
     "end_time": "2023-11-07T06:24:57.203222200Z",
     "start_time": "2023-11-07T06:24:57.201707200Z"
    }
   },
   "outputs": [],
   "source": [
    "# from google.colab import drive\n",
    "# drive.mount('/content/drive')"
   ]
  },
  {
   "cell_type": "markdown",
   "metadata": {
    "id": "Um5DJvBwb6xT"
   },
   "source": [
    "# Data Setup (5 points)\n",
    "\n",
    "The first thing to do is implement a dataset class to load rotated CIFAR10 images with matching labels. Since there is already a CIFAR10 dataset class implemented in `torchvision`, we will extend this class and modify the `__get_item__` method appropriately to load rotated images.\n",
    "\n",
    "Each rotation label should be an integer in the set {0, 1, 2, 3} which correspond to rotations of 0, 90, 180, or 270 degrees respectively."
   ]
  },
  {
   "cell_type": "code",
   "execution_count": 22,
   "metadata": {
    "id": "oHkeNUOKiFbP",
    "ExecuteTime": {
     "end_time": "2023-11-08T07:05:34.923406300Z",
     "start_time": "2023-11-08T07:05:34.916380400Z"
    }
   },
   "outputs": [],
   "source": [
    "import torch\n",
    "import torchvision\n",
    "import torchvision.transforms as transforms\n",
    "import numpy as np\n",
    "import random\n",
    "\n",
    "\n",
    "def rotate_img(img, rot):\n",
    "    if rot == 0: # 0 degrees rotation\n",
    "        return img\n",
    "    #######################################################################\n",
    "    #        TODO: Implement rotate_img() - return the rotated img        #                           \n",
    "    #######################################################################\n",
    "    angles = {0: 0, 1: 90, 2: 180, 3: 270}\n",
    "    if rot in angles:\n",
    "        return transforms.functional.rotate(img, angles[rot])\n",
    "    else:\n",
    "        raise ValueError('rotation should be 0, 90, 180, or 270 degrees')\n",
    "\n",
    "    #######################################################################\n",
    "    #                           End of your code                          #\n",
    "    #######################################################################\n",
    "\n",
    "class CIFAR10Rotation(torchvision.datasets.CIFAR10):\n",
    "\n",
    "    def __init__(self, root, train, download, transform) -> None:\n",
    "        super().__init__(root=root, train=train, download=download, transform=transform)\n",
    "\n",
    "    def __len__(self):\n",
    "        return len(self.data)\n",
    "\n",
    "    def __getitem__(self, index: int):\n",
    "        image, cls_label = super().__getitem__(index)\n",
    "\n",
    "        # randomly select image rotation\n",
    "        rotation_label = random.choice([0, 1, 2, 3])\n",
    "        image_rotated = rotate_img(image, rotation_label)\n",
    "\n",
    "        rotation_label = torch.tensor(rotation_label).long()\n",
    "        return image, image_rotated, rotation_label, torch.tensor(cls_label).long()"
   ]
  },
  {
   "cell_type": "code",
   "execution_count": 23,
   "metadata": {
    "id": "CCBSpNWpb8uw",
    "ExecuteTime": {
     "end_time": "2023-11-08T07:05:37.739399300Z",
     "start_time": "2023-11-08T07:05:35.499557Z"
    }
   },
   "outputs": [
    {
     "name": "stdout",
     "output_type": "stream",
     "text": [
      "Files already downloaded and verified\n",
      "Files already downloaded and verified\n"
     ]
    }
   ],
   "source": [
    "transform_train = transforms.Compose([\n",
    "    transforms.RandomCrop(32, padding=4),\n",
    "    transforms.RandomHorizontalFlip(),\n",
    "    transforms.ToTensor(),\n",
    "    transforms.Normalize((0.4914, 0.4822, 0.4465), (0.2023, 0.1994, 0.2010)),\n",
    "])\n",
    "\n",
    "transform_test = transforms.Compose([\n",
    "    transforms.ToTensor(),\n",
    "    transforms.Normalize((0.4914, 0.4822, 0.4465), (0.2023, 0.1994, 0.2010)),\n",
    "])\n",
    "\n",
    "batch_size = 128\n",
    "\n",
    "trainset = CIFAR10Rotation(root='./data', train=True,\n",
    "                                        download=True, transform=transform_train)\n",
    "trainloader = torch.utils.data.DataLoader(trainset, batch_size=batch_size,\n",
    "                                          shuffle=True, num_workers=0)\n",
    "\n",
    "testset = CIFAR10Rotation(root='./data', train=False,\n",
    "                                       download=True, transform=transform_test)\n",
    "testloader = torch.utils.data.DataLoader(testset, batch_size=batch_size,\n",
    "                                         shuffle=False, num_workers=0)"
   ]
  },
  {
   "cell_type": "markdown",
   "metadata": {
    "id": "dOCWMyGhVOJB"
   },
   "source": [
    "Show some example images and rotated images with labels:"
   ]
  },
  {
   "cell_type": "code",
   "execution_count": 24,
   "metadata": {
    "id": "A9wN4BJWVMzB",
    "ExecuteTime": {
     "end_time": "2023-11-08T07:05:39.224231900Z",
     "start_time": "2023-11-08T07:05:38.812227400Z"
    }
   },
   "outputs": [
    {
     "name": "stderr",
     "output_type": "stream",
     "text": [
      "Clipping input data to the valid range for imshow with RGB data ([0..1] for floats or [0..255] for integers).\n"
     ]
    },
    {
     "data": {
      "text/plain": "<Figure size 640x480 with 1 Axes>",
      "image/png": "[encoded data removed]"
     },
     "metadata": {},
     "output_type": "display_data"
    },
    {
     "name": "stderr",
     "output_type": "stream",
     "text": [
      "Clipping input data to the valid range for imshow with RGB data ([0..1] for floats or [0..255] for integers).\n"
     ]
    },
    {
     "name": "stdout",
     "output_type": "stream",
     "text": [
      "Class labels:  car   bird  dog   cat  \n"
     ]
    },
    {
     "data": {
      "text/plain": "<Figure size 640x480 with 1 Axes>",
      "image/png": "[encoded data removed]"
     },
     "metadata": {},
     "output_type": "display_data"
    },
    {
     "name": "stdout",
     "output_type": "stream",
     "text": [
      "Rotation labels:  0     180   270   180  \n"
     ]
    }
   ],
   "source": [
    "import matplotlib.pyplot as plt\n",
    "\n",
    "classes = ('plane', 'car', 'bird', 'cat',\n",
    "           'deer', 'dog', 'frog', 'horse', 'ship', 'truck')\n",
    "\n",
    "rot_classes = ('0', '90', '180', '270')\n",
    "\n",
    "\n",
    "def imshow(img):\n",
    "    # unnormalize\n",
    "    img = transforms.Normalize((0, 0, 0), (1/0.2023, 1/0.1994, 1/0.2010))(img)\n",
    "    img = transforms.Normalize((-0.4914, -0.4822, -0.4465), (1, 1, 1))(img)\n",
    "    npimg = img.numpy()\n",
    "    plt.imshow(np.transpose(npimg, (1, 2, 0)))\n",
    "    plt.show()\n",
    "\n",
    "\n",
    "dataiter = iter(trainloader)\n",
    "images, rot_images, rot_labels, labels = next(dataiter)\n",
    "\n",
    "# print images and rotated images\n",
    "img_grid = imshow(torchvision.utils.make_grid(images[:4], padding=0))\n",
    "print('Class labels: ', ' '.join(f'{classes[labels[j]]:5s}' for j in range(4)))\n",
    "img_grid = imshow(torchvision.utils.make_grid(rot_images[:4], padding=0))\n",
    "print('Rotation labels: ', ' '.join(f'{rot_classes[rot_labels[j]]:5s}' for j in range(4)))"
   ]
  },
  {
   "cell_type": "markdown",
   "metadata": {
    "id": "unCucbHexG4W"
   },
   "source": [
    "# Evaluation code"
   ]
  },
  {
   "cell_type": "code",
   "execution_count": 25,
   "metadata": {
    "id": "pptQRpqK0rOl",
    "ExecuteTime": {
     "end_time": "2023-11-08T07:05:39.349276400Z",
     "start_time": "2023-11-08T07:05:39.263253700Z"
    }
   },
   "outputs": [],
   "source": [
    "import time\n",
    "\n",
    "def run_test(net, testloader, criterion, task):\n",
    "    correct = 0\n",
    "    total = 0\n",
    "    avg_test_loss = 0.0\n",
    "    # since we're not training, we don't need to calculate the gradients for our outputs\n",
    "    with torch.no_grad():\n",
    "        for images, images_rotated, labels, cls_labels in testloader:\n",
    "            if task == 'rotation':\n",
    "              images, labels = images_rotated.to(device), labels.to(device)\n",
    "            elif task == 'classification':\n",
    "              images, labels = images.to(device), cls_labels.to(device)\n",
    "            #######################################################################\n",
    "            # TODO: Calculate outputs by running images through the network       #\n",
    "            # The class with the highest energy is what we choose as prediction   #\n",
    "            #######################################################################\n",
    "            # Calculate outputs by running images through the network\n",
    "            outputs = net(images)\n",
    "\n",
    "            # The class with the highest score is what we choose as our prediction\n",
    "            _, predicted = torch.max(outputs.data, 1)\n",
    "            total += labels.size(0)\n",
    "            correct += (predicted == labels).sum().item()\n",
    "            #######################################################################\n",
    "            #                           End of your code                          #\n",
    "            #######################################################################\n",
    "            avg_test_loss += criterion(outputs, labels)  / len(testloader)\n",
    "    print('TESTING:')\n",
    "    print(f'Accuracy of the network on the 10000 test images: {100 * correct / total:.2f} %')\n",
    "    print(f'Average loss on the 10000 test images: {avg_test_loss:.3f}')"
   ]
  },
  {
   "cell_type": "code",
   "execution_count": 26,
   "metadata": {
    "id": "hf698c16A9k5",
    "ExecuteTime": {
     "end_time": "2023-11-08T07:05:40.741265500Z",
     "start_time": "2023-11-08T07:05:40.734789900Z"
    }
   },
   "outputs": [],
   "source": [
    "def adjust_learning_rate(optimizer, epoch, init_lr, decay_epochs=30):\n",
    "    \"\"\"Sets the learning rate to the initial LR decayed by 10 every 30 epochs\"\"\"\n",
    "    lr = init_lr * (0.1 ** (epoch // decay_epochs))\n",
    "    for param_group in optimizer.param_groups:\n",
    "        param_group['lr'] = lr"
   ]
  },
  {
   "cell_type": "markdown",
   "metadata": {
    "id": "3lYdnb1Wsta_"
   },
   "source": [
    "# Train a ResNet18 on the rotation task (9 points)\n",
    "\n",
    "In this section, we will train a ResNet18 model **from scratch** on the rotation task. The input is a rotated image and the model predicts the rotation label. See the Data Setup section for details."
   ]
  },
  {
   "cell_type": "code",
   "execution_count": 27,
   "metadata": {
    "id": "knAiwdURvBHk",
    "ExecuteTime": {
     "end_time": "2023-11-08T07:05:41.787161Z",
     "start_time": "2023-11-08T07:05:41.766498800Z"
    }
   },
   "outputs": [
    {
     "data": {
      "text/plain": "'cuda'"
     },
     "execution_count": 27,
     "metadata": {},
     "output_type": "execute_result"
    }
   ],
   "source": [
    "device = 'cuda' if torch.cuda.is_available() else 'cpu'\n",
    "device"
   ]
  },
  {
   "cell_type": "markdown",
   "metadata": {},
   "source": [
    "### Notice: You should not use pretrained weights from ImageNet."
   ]
  },
  {
   "cell_type": "code",
   "execution_count": 28,
   "metadata": {
    "id": "235MEIUgsv65",
    "ExecuteTime": {
     "end_time": "2023-11-08T07:05:42.979885200Z",
     "start_time": "2023-11-08T07:05:42.573418400Z"
    }
   },
   "outputs": [
    {
     "name": "stdout",
     "output_type": "stream",
     "text": [
      "ResNet(\n",
      "  (conv1): Conv2d(3, 64, kernel_size=(7, 7), stride=(2, 2), padding=(3, 3), bias=False)\n",
      "  (bn1): BatchNorm2d(64, eps=1e-05, momentum=0.1, affine=True, track_running_stats=True)\n",
      "  (relu): ReLU(inplace=True)\n",
      "  (maxpool): MaxPool2d(kernel_size=3, stride=2, padding=1, dilation=1, ceil_mode=False)\n",
      "  (layer1): Sequential(\n",
      "    (0): BasicBlock(\n",
      "      (conv1): Conv2d(64, 64, kernel_size=(3, 3), stride=(1, 1), padding=(1, 1), bias=False)\n",
      "      (bn1): BatchNorm2d(64, eps=1e-05, momentum=0.1, affine=True, track_running_stats=True)\n",
      "      (relu): ReLU(inplace=True)\n",
      "      (conv2): Conv2d(64, 64, kernel_size=(3, 3), stride=(1, 1), padding=(1, 1), bias=False)\n",
      "      (bn2): BatchNorm2d(64, eps=1e-05, momentum=0.1, affine=True, track_running_stats=True)\n",
      "    )\n",
      "    (1): BasicBlock(\n",
      "      (conv1): Conv2d(64, 64, kernel_size=(3, 3), stride=(1, 1), padding=(1, 1), bias=False)\n",
      "      (bn1): BatchNorm2d(64, eps=1e-05, momentum=0.1, affine=True, track_running_stats=True)\n",
      "      (relu): ReLU(inplace=True)\n",
      "      (conv2): Conv2d(64, 64, kernel_size=(3, 3), stride=(1, 1), padding=(1, 1), bias=False)\n",
      "      (bn2): BatchNorm2d(64, eps=1e-05, momentum=0.1, affine=True, track_running_stats=True)\n",
      "    )\n",
      "  )\n",
      "  (layer2): Sequential(\n",
      "    (0): BasicBlock(\n",
      "      (conv1): Conv2d(64, 128, kernel_size=(3, 3), stride=(2, 2), padding=(1, 1), bias=False)\n",
      "      (bn1): BatchNorm2d(128, eps=1e-05, momentum=0.1, affine=True, track_running_stats=True)\n",
      "      (relu): ReLU(inplace=True)\n",
      "      (conv2): Conv2d(128, 128, kernel_size=(3, 3), stride=(1, 1), padding=(1, 1), bias=False)\n",
      "      (bn2): BatchNorm2d(128, eps=1e-05, momentum=0.1, affine=True, track_running_stats=True)\n",
      "      (downsample): Sequential(\n",
      "        (0): Conv2d(64, 128, kernel_size=(1, 1), stride=(2, 2), bias=False)\n",
      "        (1): BatchNorm2d(128, eps=1e-05, momentum=0.1, affine=True, track_running_stats=True)\n",
      "      )\n",
      "    )\n",
      "    (1): BasicBlock(\n",
      "      (conv1): Conv2d(128, 128, kernel_size=(3, 3), stride=(1, 1), padding=(1, 1), bias=False)\n",
      "      (bn1): BatchNorm2d(128, eps=1e-05, momentum=0.1, affine=True, track_running_stats=True)\n",
      "      (relu): ReLU(inplace=True)\n",
      "      (conv2): Conv2d(128, 128, kernel_size=(3, 3), stride=(1, 1), padding=(1, 1), bias=False)\n",
      "      (bn2): BatchNorm2d(128, eps=1e-05, momentum=0.1, affine=True, track_running_stats=True)\n",
      "    )\n",
      "  )\n",
      "  (layer3): Sequential(\n",
      "    (0): BasicBlock(\n",
      "      (conv1): Conv2d(128, 256, kernel_size=(3, 3), stride=(2, 2), padding=(1, 1), bias=False)\n",
      "      (bn1): BatchNorm2d(256, eps=1e-05, momentum=0.1, affine=True, track_running_stats=True)\n",
      "      (relu): ReLU(inplace=True)\n",
      "      (conv2): Conv2d(256, 256, kernel_size=(3, 3), stride=(1, 1), padding=(1, 1), bias=False)\n",
      "      (bn2): BatchNorm2d(256, eps=1e-05, momentum=0.1, affine=True, track_running_stats=True)\n",
      "      (downsample): Sequential(\n",
      "        (0): Conv2d(128, 256, kernel_size=(1, 1), stride=(2, 2), bias=False)\n",
      "        (1): BatchNorm2d(256, eps=1e-05, momentum=0.1, affine=True, track_running_stats=True)\n",
      "      )\n",
      "    )\n",
      "    (1): BasicBlock(\n",
      "      (conv1): Conv2d(256, 256, kernel_size=(3, 3), stride=(1, 1), padding=(1, 1), bias=False)\n",
      "      (bn1): BatchNorm2d(256, eps=1e-05, momentum=0.1, affine=True, track_running_stats=True)\n",
      "      (relu): ReLU(inplace=True)\n",
      "      (conv2): Conv2d(256, 256, kernel_size=(3, 3), stride=(1, 1), padding=(1, 1), bias=False)\n",
      "      (bn2): BatchNorm2d(256, eps=1e-05, momentum=0.1, affine=True, track_running_stats=True)\n",
      "    )\n",
      "  )\n",
      "  (layer4): Sequential(\n",
      "    (0): BasicBlock(\n",
      "      (conv1): Conv2d(256, 512, kernel_size=(3, 3), stride=(2, 2), padding=(1, 1), bias=False)\n",
      "      (bn1): BatchNorm2d(512, eps=1e-05, momentum=0.1, affine=True, track_running_stats=True)\n",
      "      (relu): ReLU(inplace=True)\n",
      "      (conv2): Conv2d(512, 512, kernel_size=(3, 3), stride=(1, 1), padding=(1, 1), bias=False)\n",
      "      (bn2): BatchNorm2d(512, eps=1e-05, momentum=0.1, affine=True, track_running_stats=True)\n",
      "      (downsample): Sequential(\n",
      "        (0): Conv2d(256, 512, kernel_size=(1, 1), stride=(2, 2), bias=False)\n",
      "        (1): BatchNorm2d(512, eps=1e-05, momentum=0.1, affine=True, track_running_stats=True)\n",
      "      )\n",
      "    )\n",
      "    (1): BasicBlock(\n",
      "      (conv1): Conv2d(512, 512, kernel_size=(3, 3), stride=(1, 1), padding=(1, 1), bias=False)\n",
      "      (bn1): BatchNorm2d(512, eps=1e-05, momentum=0.1, affine=True, track_running_stats=True)\n",
      "      (relu): ReLU(inplace=True)\n",
      "      (conv2): Conv2d(512, 512, kernel_size=(3, 3), stride=(1, 1), padding=(1, 1), bias=False)\n",
      "      (bn2): BatchNorm2d(512, eps=1e-05, momentum=0.1, affine=True, track_running_stats=True)\n",
      "    )\n",
      "  )\n",
      "  (avgpool): AdaptiveAvgPool2d(output_size=(1, 1))\n",
      "  (fc): Linear(in_features=512, out_features=4, bias=True)\n",
      ")\n"
     ]
    }
   ],
   "source": [
    "import torch.nn as nn\n",
    "import torch.nn.functional as F\n",
    "\n",
    "from torchvision.models import resnet18\n",
    "\n",
    "net = resnet18(weights = None, num_classes=4) # Do not modify this line.\n",
    "net = net.to(device)\n",
    "print(net) # print your model and check the num_classes is correct"
   ]
  },
  {
   "cell_type": "code",
   "execution_count": 29,
   "metadata": {
    "id": "Vuhiw0ZoszAd",
    "ExecuteTime": {
     "end_time": "2023-11-08T07:05:43.324540400Z",
     "start_time": "2023-11-08T07:05:43.308534500Z"
    }
   },
   "outputs": [],
   "source": [
    "import torch.nn as nn\n",
    "import torch.optim as optim\n",
    "################################################################################\n",
    "# TODO: Define loss and optmizer functions                                     #\n",
    "# Try any loss or optimizer function and learning rate to get better result    #\n",
    "# hint: torch.nn and torch.optim                                               #\n",
    "################################################################################\n",
    "criterion = nn.CrossEntropyLoss(label_smoothing=0.1)\n",
    "\n",
    "learning_rate = 0.001\n",
    "optimizer = optim.Adam(net.parameters(), lr=learning_rate)\n",
    "################################################################################\n",
    "#                               End of your code                               #\n",
    "################################################################################\n",
    "criterion = criterion.to(device)"
   ]
  },
  {
   "cell_type": "code",
   "execution_count": 30,
   "metadata": {
    "id": "WleH-YBgs0rq",
    "ExecuteTime": {
     "end_time": "2023-11-08T07:05:44.922491800Z",
     "start_time": "2023-11-08T07:05:44.901481900Z"
    }
   },
   "outputs": [],
   "source": [
    "# Both the self-supervised rotation task and supervised CIFAR10 classification are\n",
    "# trained with the CrossEntropyLoss, so we can use the training loop code.\n",
    "\n",
    "def train(net, criterion, optimizer, num_epochs, decay_epochs, init_lr, task):\n",
    "\n",
    "    for epoch in range(num_epochs):  # loop over the dataset multiple times\n",
    "\n",
    "        running_loss = 0.0\n",
    "        running_correct = 0.0\n",
    "        running_total = 0.0\n",
    "        start_time = time.time()\n",
    "\n",
    "        net.train()\n",
    "\n",
    "        for i, (imgs, imgs_rotated, rotation_label, cls_label) in enumerate(trainloader, 0):\n",
    "            adjust_learning_rate(optimizer, epoch, init_lr, decay_epochs)\n",
    "            ######################################################################################################\n",
    "            # TODO: Set the data to the correct device; Different task will use different inputs and labels      #  \n",
    "            # TODO: Zero the parameter gradients                                                                 #\n",
    "            # TODO: forward + backward + optimize                                                                #\n",
    "            # TODO: Get predicted results                                                                        #\n",
    "            ######################################################################################################\n",
    "            # Set data to the correct device\n",
    "            if task == 'rotation':\n",
    "                inputs, labels = imgs_rotated.to(device), rotation_label.to(device)\n",
    "            elif task == 'classification':\n",
    "                inputs, labels = imgs.to(device), cls_label.to(device)\n",
    "\n",
    "            optimizer.zero_grad()  # Zero the parameter gradients\n",
    "\n",
    "            # Forward + backward + optimize\n",
    "            outputs = net(inputs)\n",
    "            loss = criterion(outputs, labels)\n",
    "            loss.backward()\n",
    "            optimizer.step()\n",
    "\n",
    "            # Get predicted results for accuracy calculation\n",
    "            _, predicted = torch.max(outputs.data, 1)\n",
    "            ######################################################################################################\n",
    "            #                               End of your code                                                     #\n",
    "            ######################################################################################################                                            \n",
    "\n",
    "\n",
    "            # print statistics\n",
    "            print_freq = 100\n",
    "            running_loss += loss.item()\n",
    "\n",
    "            # calc acc\n",
    "            running_total += labels.size(0)\n",
    "            running_correct += (predicted == labels).sum().item()\n",
    "\n",
    "            if i % print_freq == (print_freq - 1):    # print every 2000 mini-batches\n",
    "                print(f'[{epoch + 1}, {i + 1:5d}] loss: {running_loss / print_freq:.3f} acc: {100*running_correct / running_total:.2f} time: {time.time() - start_time:.2f}')\n",
    "                running_loss, running_correct, running_total = 0.0, 0.0, 0.0\n",
    "                start_time = time.time()\n",
    "        ######################################################################################################\n",
    "        # TODO: Run the run_test() function after each epoch; Set the model to the evaluation mode.          #\n",
    "        ######################################################################################################\n",
    "        # Evaluate the model after each epoch\n",
    "        net.eval()\n",
    "        run_test(net, testloader, criterion, task)\n",
    "        ######################################################################################################\n",
    "        #                               End of your code                                                     #\n",
    "        ######################################################################################################  \n",
    "\n",
    "    print('Finished Training')"
   ]
  },
  {
   "cell_type": "code",
   "execution_count": 31,
   "metadata": {
    "id": "2u4AsfAKtaQS",
    "ExecuteTime": {
     "end_time": "2023-11-08T07:32:29.358087600Z",
     "start_time": "2023-11-08T07:05:45.810629200Z"
    }
   },
   "outputs": [
    {
     "name": "stdout",
     "output_type": "stream",
     "text": [
      "[1,   100] loss: 1.519 acc: 31.64 time: 8.89\n",
      "[1,   200] loss: 1.291 acc: 43.62 time: 7.72\n",
      "[1,   300] loss: 1.217 acc: 48.27 time: 8.00\n",
      "TESTING:\n",
      "Accuracy of the network on the 10000 test images: 52.22 %\n",
      "Average loss on the 10000 test images: 1.151\n",
      "[2,   100] loss: 1.176 acc: 51.48 time: 7.93\n",
      "[2,   200] loss: 1.166 acc: 52.25 time: 8.22\n",
      "[2,   300] loss: 1.148 acc: 53.42 time: 7.75\n",
      "TESTING:\n",
      "Accuracy of the network on the 10000 test images: 54.94 %\n",
      "Average loss on the 10000 test images: 1.137\n",
      "[3,   100] loss: 1.135 acc: 54.34 time: 7.60\n",
      "[3,   200] loss: 1.112 acc: 55.20 time: 8.97\n",
      "[3,   300] loss: 1.097 acc: 56.84 time: 8.50\n",
      "TESTING:\n",
      "Accuracy of the network on the 10000 test images: 57.49 %\n",
      "Average loss on the 10000 test images: 1.109\n",
      "[4,   100] loss: 1.082 acc: 58.09 time: 8.13\n",
      "[4,   200] loss: 1.072 acc: 58.38 time: 8.42\n",
      "[4,   300] loss: 1.059 acc: 59.34 time: 8.67\n",
      "TESTING:\n",
      "Accuracy of the network on the 10000 test images: 58.75 %\n",
      "Average loss on the 10000 test images: 1.089\n",
      "[5,   100] loss: 1.060 acc: 59.67 time: 8.00\n",
      "[5,   200] loss: 1.042 acc: 59.91 time: 8.14\n",
      "[5,   300] loss: 1.032 acc: 61.42 time: 8.41\n",
      "TESTING:\n",
      "Accuracy of the network on the 10000 test images: 59.34 %\n",
      "Average loss on the 10000 test images: 1.073\n",
      "[6,   100] loss: 1.025 acc: 61.59 time: 7.69\n",
      "[6,   200] loss: 1.017 acc: 61.91 time: 8.60\n",
      "[6,   300] loss: 1.011 acc: 62.44 time: 8.79\n",
      "TESTING:\n",
      "Accuracy of the network on the 10000 test images: 61.77 %\n",
      "Average loss on the 10000 test images: 1.019\n",
      "[7,   100] loss: 0.991 acc: 64.09 time: 8.16\n",
      "[7,   200] loss: 1.010 acc: 62.16 time: 8.01\n",
      "[7,   300] loss: 0.993 acc: 63.95 time: 8.07\n",
      "TESTING:\n",
      "Accuracy of the network on the 10000 test images: 64.34 %\n",
      "Average loss on the 10000 test images: 0.979\n",
      "[8,   100] loss: 0.986 acc: 64.23 time: 7.91\n",
      "[8,   200] loss: 0.972 acc: 64.64 time: 7.75\n",
      "[8,   300] loss: 0.973 acc: 65.02 time: 7.86\n",
      "TESTING:\n",
      "Accuracy of the network on the 10000 test images: 65.63 %\n",
      "Average loss on the 10000 test images: 0.961\n",
      "[9,   100] loss: 0.953 acc: 66.09 time: 8.12\n",
      "[9,   200] loss: 0.967 acc: 64.71 time: 8.38\n",
      "[9,   300] loss: 0.963 acc: 65.27 time: 8.04\n",
      "TESTING:\n",
      "Accuracy of the network on the 10000 test images: 66.27 %\n",
      "Average loss on the 10000 test images: 0.967\n",
      "[10,   100] loss: 0.950 acc: 66.51 time: 9.13\n",
      "[10,   200] loss: 0.942 acc: 67.13 time: 7.88\n",
      "[10,   300] loss: 0.931 acc: 67.70 time: 8.36\n",
      "TESTING:\n",
      "Accuracy of the network on the 10000 test images: 67.05 %\n",
      "Average loss on the 10000 test images: 0.947\n",
      "[11,   100] loss: 0.933 acc: 67.26 time: 7.63\n",
      "[11,   200] loss: 0.925 acc: 67.94 time: 7.87\n",
      "[11,   300] loss: 0.928 acc: 67.54 time: 7.92\n",
      "TESTING:\n",
      "Accuracy of the network on the 10000 test images: 67.99 %\n",
      "Average loss on the 10000 test images: 0.921\n",
      "[12,   100] loss: 0.911 acc: 68.64 time: 7.82\n",
      "[12,   200] loss: 0.916 acc: 68.32 time: 8.38\n",
      "[12,   300] loss: 0.905 acc: 69.11 time: 7.61\n",
      "TESTING:\n",
      "Accuracy of the network on the 10000 test images: 69.79 %\n",
      "Average loss on the 10000 test images: 0.900\n",
      "[13,   100] loss: 0.904 acc: 69.50 time: 9.28\n",
      "[13,   200] loss: 0.917 acc: 68.20 time: 8.87\n",
      "[13,   300] loss: 0.895 acc: 69.49 time: 7.67\n",
      "TESTING:\n",
      "Accuracy of the network on the 10000 test images: 68.77 %\n",
      "Average loss on the 10000 test images: 0.914\n",
      "[14,   100] loss: 0.897 acc: 69.88 time: 7.59\n",
      "[14,   200] loss: 0.896 acc: 70.12 time: 8.20\n",
      "[14,   300] loss: 0.880 acc: 70.23 time: 7.46\n",
      "TESTING:\n",
      "Accuracy of the network on the 10000 test images: 70.66 %\n",
      "Average loss on the 10000 test images: 0.882\n",
      "[15,   100] loss: 0.880 acc: 70.76 time: 7.97\n",
      "[15,   200] loss: 0.875 acc: 71.27 time: 9.36\n",
      "[15,   300] loss: 0.882 acc: 70.25 time: 7.83\n",
      "TESTING:\n",
      "Accuracy of the network on the 10000 test images: 72.64 %\n",
      "Average loss on the 10000 test images: 0.852\n",
      "[16,   100] loss: 0.841 acc: 73.30 time: 7.19\n",
      "[16,   200] loss: 0.815 acc: 74.85 time: 7.23\n",
      "[16,   300] loss: 0.825 acc: 73.33 time: 7.53\n",
      "TESTING:\n",
      "Accuracy of the network on the 10000 test images: 75.06 %\n",
      "Average loss on the 10000 test images: 0.799\n",
      "[17,   100] loss: 0.809 acc: 75.38 time: 8.46\n",
      "[17,   200] loss: 0.816 acc: 74.46 time: 8.08\n",
      "[17,   300] loss: 0.800 acc: 75.15 time: 7.67\n",
      "TESTING:\n",
      "Accuracy of the network on the 10000 test images: 75.71 %\n",
      "Average loss on the 10000 test images: 0.789\n",
      "[18,   100] loss: 0.804 acc: 74.69 time: 7.15\n",
      "[18,   200] loss: 0.801 acc: 75.22 time: 7.69\n",
      "[18,   300] loss: 0.798 acc: 75.31 time: 7.76\n",
      "TESTING:\n",
      "Accuracy of the network on the 10000 test images: 76.15 %\n",
      "Average loss on the 10000 test images: 0.783\n",
      "[19,   100] loss: 0.790 acc: 76.23 time: 8.52\n",
      "[19,   200] loss: 0.799 acc: 75.91 time: 8.21\n",
      "[19,   300] loss: 0.787 acc: 76.12 time: 8.24\n",
      "TESTING:\n",
      "Accuracy of the network on the 10000 test images: 76.47 %\n",
      "Average loss on the 10000 test images: 0.777\n",
      "[20,   100] loss: 0.797 acc: 75.43 time: 7.63\n",
      "[20,   200] loss: 0.789 acc: 76.12 time: 7.96\n",
      "[20,   300] loss: 0.790 acc: 76.02 time: 7.98\n",
      "TESTING:\n",
      "Accuracy of the network on the 10000 test images: 76.64 %\n",
      "Average loss on the 10000 test images: 0.778\n",
      "[21,   100] loss: 0.792 acc: 75.56 time: 8.10\n",
      "[21,   200] loss: 0.783 acc: 76.22 time: 8.33\n",
      "[21,   300] loss: 0.783 acc: 76.17 time: 7.95\n",
      "TESTING:\n",
      "Accuracy of the network on the 10000 test images: 76.86 %\n",
      "Average loss on the 10000 test images: 0.775\n",
      "[22,   100] loss: 0.781 acc: 76.47 time: 7.75\n",
      "[22,   200] loss: 0.778 acc: 76.44 time: 7.76\n",
      "[22,   300] loss: 0.785 acc: 76.38 time: 7.54\n",
      "TESTING:\n",
      "Accuracy of the network on the 10000 test images: 76.58 %\n",
      "Average loss on the 10000 test images: 0.775\n",
      "[23,   100] loss: 0.773 acc: 76.91 time: 8.07\n",
      "[23,   200] loss: 0.779 acc: 76.59 time: 8.04\n",
      "[23,   300] loss: 0.779 acc: 76.55 time: 8.15\n",
      "TESTING:\n",
      "Accuracy of the network on the 10000 test images: 77.53 %\n",
      "Average loss on the 10000 test images: 0.762\n",
      "[24,   100] loss: 0.775 acc: 76.98 time: 7.74\n",
      "[24,   200] loss: 0.777 acc: 76.95 time: 8.86\n",
      "[24,   300] loss: 0.768 acc: 77.16 time: 8.20\n",
      "TESTING:\n",
      "Accuracy of the network on the 10000 test images: 77.36 %\n",
      "Average loss on the 10000 test images: 0.762\n",
      "[25,   100] loss: 0.766 acc: 77.12 time: 10.56\n",
      "[25,   200] loss: 0.776 acc: 76.27 time: 9.08\n",
      "[25,   300] loss: 0.765 acc: 77.30 time: 9.72\n",
      "TESTING:\n",
      "Accuracy of the network on the 10000 test images: 77.56 %\n",
      "Average loss on the 10000 test images: 0.760\n",
      "[26,   100] loss: 0.765 acc: 77.66 time: 8.51\n",
      "[26,   200] loss: 0.764 acc: 77.45 time: 7.95\n",
      "[26,   300] loss: 0.769 acc: 77.43 time: 7.86\n",
      "TESTING:\n",
      "Accuracy of the network on the 10000 test images: 77.58 %\n",
      "Average loss on the 10000 test images: 0.759\n",
      "[27,   100] loss: 0.757 acc: 77.97 time: 8.76\n",
      "[27,   200] loss: 0.765 acc: 77.66 time: 7.80\n",
      "[27,   300] loss: 0.760 acc: 77.80 time: 7.47\n",
      "TESTING:\n",
      "Accuracy of the network on the 10000 test images: 77.55 %\n",
      "Average loss on the 10000 test images: 0.755\n",
      "[28,   100] loss: 0.758 acc: 77.82 time: 7.40\n",
      "[28,   200] loss: 0.766 acc: 77.27 time: 7.66\n",
      "[28,   300] loss: 0.756 acc: 77.89 time: 7.83\n",
      "TESTING:\n",
      "Accuracy of the network on the 10000 test images: 77.86 %\n",
      "Average loss on the 10000 test images: 0.751\n",
      "[29,   100] loss: 0.762 acc: 77.63 time: 7.56\n",
      "[29,   200] loss: 0.748 acc: 78.19 time: 8.19\n",
      "[29,   300] loss: 0.760 acc: 77.75 time: 22.21\n",
      "TESTING:\n",
      "Accuracy of the network on the 10000 test images: 78.24 %\n",
      "Average loss on the 10000 test images: 0.756\n",
      "[30,   100] loss: 0.751 acc: 78.29 time: 8.08\n",
      "[30,   200] loss: 0.753 acc: 78.18 time: 8.61\n",
      "[30,   300] loss: 0.751 acc: 78.08 time: 9.12\n",
      "TESTING:\n",
      "Accuracy of the network on the 10000 test images: 78.32 %\n",
      "Average loss on the 10000 test images: 0.751\n",
      "[31,   100] loss: 0.759 acc: 77.42 time: 7.45\n",
      "[31,   200] loss: 0.751 acc: 77.85 time: 7.87\n",
      "[31,   300] loss: 0.746 acc: 78.25 time: 7.75\n",
      "TESTING:\n",
      "Accuracy of the network on the 10000 test images: 78.08 %\n",
      "Average loss on the 10000 test images: 0.746\n",
      "[32,   100] loss: 0.736 acc: 79.06 time: 7.37\n",
      "[32,   200] loss: 0.745 acc: 78.73 time: 6.78\n",
      "[32,   300] loss: 0.741 acc: 78.97 time: 6.93\n",
      "TESTING:\n",
      "Accuracy of the network on the 10000 test images: 78.83 %\n",
      "Average loss on the 10000 test images: 0.738\n",
      "[33,   100] loss: 0.738 acc: 79.21 time: 6.89\n",
      "[33,   200] loss: 0.739 acc: 78.87 time: 7.35\n",
      "[33,   300] loss: 0.745 acc: 78.72 time: 7.38\n",
      "TESTING:\n",
      "Accuracy of the network on the 10000 test images: 79.22 %\n",
      "Average loss on the 10000 test images: 0.738\n",
      "[34,   100] loss: 0.746 acc: 78.68 time: 7.10\n",
      "[34,   200] loss: 0.739 acc: 78.98 time: 7.57\n",
      "[34,   300] loss: 0.747 acc: 78.30 time: 7.66\n",
      "TESTING:\n",
      "Accuracy of the network on the 10000 test images: 78.86 %\n",
      "Average loss on the 10000 test images: 0.737\n",
      "[35,   100] loss: 0.741 acc: 78.72 time: 7.24\n",
      "[35,   200] loss: 0.736 acc: 79.05 time: 8.24\n",
      "[35,   300] loss: 0.747 acc: 78.48 time: 7.81\n",
      "TESTING:\n",
      "Accuracy of the network on the 10000 test images: 78.97 %\n",
      "Average loss on the 10000 test images: 0.740\n",
      "[36,   100] loss: 0.744 acc: 78.40 time: 7.21\n",
      "[36,   200] loss: 0.743 acc: 78.82 time: 7.59\n",
      "[36,   300] loss: 0.737 acc: 79.05 time: 7.46\n",
      "TESTING:\n",
      "Accuracy of the network on the 10000 test images: 78.95 %\n",
      "Average loss on the 10000 test images: 0.741\n",
      "[37,   100] loss: 0.741 acc: 79.12 time: 7.45\n",
      "[37,   200] loss: 0.744 acc: 78.40 time: 7.42\n",
      "[37,   300] loss: 0.739 acc: 78.65 time: 7.37\n",
      "TESTING:\n",
      "Accuracy of the network on the 10000 test images: 78.80 %\n",
      "Average loss on the 10000 test images: 0.738\n",
      "[38,   100] loss: 0.743 acc: 78.62 time: 7.36\n",
      "[38,   200] loss: 0.737 acc: 79.04 time: 7.60\n",
      "[38,   300] loss: 0.735 acc: 78.81 time: 7.41\n",
      "TESTING:\n",
      "Accuracy of the network on the 10000 test images: 78.22 %\n",
      "Average loss on the 10000 test images: 0.744\n",
      "[39,   100] loss: 0.743 acc: 78.66 time: 7.36\n",
      "[39,   200] loss: 0.740 acc: 78.92 time: 7.45\n",
      "[39,   300] loss: 0.739 acc: 79.08 time: 7.51\n",
      "TESTING:\n",
      "Accuracy of the network on the 10000 test images: 78.82 %\n",
      "Average loss on the 10000 test images: 0.739\n",
      "[40,   100] loss: 0.740 acc: 78.87 time: 7.49\n",
      "[40,   200] loss: 0.737 acc: 78.91 time: 7.44\n",
      "[40,   300] loss: 0.735 acc: 78.97 time: 7.51\n",
      "TESTING:\n",
      "Accuracy of the network on the 10000 test images: 79.16 %\n",
      "Average loss on the 10000 test images: 0.737\n",
      "[41,   100] loss: 0.735 acc: 79.38 time: 7.27\n",
      "[41,   200] loss: 0.742 acc: 78.81 time: 7.40\n",
      "[41,   300] loss: 0.736 acc: 78.86 time: 7.29\n",
      "TESTING:\n",
      "Accuracy of the network on the 10000 test images: 78.86 %\n",
      "Average loss on the 10000 test images: 0.739\n",
      "[42,   100] loss: 0.738 acc: 79.23 time: 6.97\n",
      "[42,   200] loss: 0.736 acc: 79.12 time: 7.67\n",
      "[42,   300] loss: 0.737 acc: 79.04 time: 7.69\n",
      "TESTING:\n",
      "Accuracy of the network on the 10000 test images: 79.01 %\n",
      "Average loss on the 10000 test images: 0.735\n",
      "[43,   100] loss: 0.739 acc: 79.16 time: 7.01\n",
      "[43,   200] loss: 0.736 acc: 79.42 time: 7.56\n",
      "[43,   300] loss: 0.735 acc: 79.47 time: 7.55\n",
      "TESTING:\n",
      "Accuracy of the network on the 10000 test images: 78.81 %\n",
      "Average loss on the 10000 test images: 0.742\n",
      "[44,   100] loss: 0.739 acc: 79.15 time: 7.56\n",
      "[44,   200] loss: 0.734 acc: 79.25 time: 7.82\n",
      "[44,   300] loss: 0.744 acc: 78.51 time: 8.78\n",
      "TESTING:\n",
      "Accuracy of the network on the 10000 test images: 78.72 %\n",
      "Average loss on the 10000 test images: 0.739\n",
      "[45,   100] loss: 0.740 acc: 78.66 time: 7.94\n",
      "[45,   200] loss: 0.738 acc: 79.08 time: 8.37\n",
      "[45,   300] loss: 0.732 acc: 79.52 time: 7.97\n",
      "TESTING:\n",
      "Accuracy of the network on the 10000 test images: 79.42 %\n",
      "Average loss on the 10000 test images: 0.731\n",
      "Finished Training\n"
     ]
    }
   ],
   "source": [
    "train(net, criterion, optimizer, num_epochs=45, decay_epochs=15, init_lr=0.01, task='rotation')\n",
    "################################\n",
    "#     TODO: Save the model     #  \n",
    "################################\n",
    "from datetime import datetime\n",
    "\n",
    "# Get current date and time\n",
    "current_time = datetime.now().strftime(\"%Y-%m-%d-%H-%M-%S\")\n",
    "\n",
    "# Save the model\n",
    "model_path = f\"model_{current_time}.pth\"\n",
    "torch.save(net.state_dict(), model_path)\n",
    "################################\n",
    "#      End of your code        #  \n",
    "################################"
   ]
  },
  {
   "cell_type": "markdown",
   "metadata": {
    "id": "PLLMRTS9rTnk"
   },
   "source": [
    "## Fine-tuning on the pre-trained model (9 points)\n",
    "\n",
    "In this section, we will load the ResNet18 model pre-trained on the rotation task and fine-tune on the classification task. We will freeze all previous layers except for the 'layer4' block and 'fc' layer.\n",
    "\n",
    "**Then we will use the trained model from rotation task as the pretrained weights. Notice, you should not use the pretrained weights from ImageNet.**"
   ]
  },
  {
   "cell_type": "code",
   "execution_count": 12,
   "metadata": {
    "id": "S4nX4ExlrymI",
    "ExecuteTime": {
     "end_time": "2023-11-05T10:21:42.082962800Z",
     "start_time": "2023-11-05T10:21:41.981960200Z"
    }
   },
   "outputs": [
    {
     "name": "stdout",
     "output_type": "stream",
     "text": [
      "ResNet(\n",
      "  (conv1): Conv2d(3, 64, kernel_size=(7, 7), stride=(2, 2), padding=(3, 3), bias=False)\n",
      "  (bn1): BatchNorm2d(64, eps=1e-05, momentum=0.1, affine=True, track_running_stats=True)\n",
      "  (relu): ReLU(inplace=True)\n",
      "  (maxpool): MaxPool2d(kernel_size=3, stride=2, padding=1, dilation=1, ceil_mode=False)\n",
      "  (layer1): Sequential(\n",
      "    (0): BasicBlock(\n",
      "      (conv1): Conv2d(64, 64, kernel_size=(3, 3), stride=(1, 1), padding=(1, 1), bias=False)\n",
      "      (bn1): BatchNorm2d(64, eps=1e-05, momentum=0.1, affine=True, track_running_stats=True)\n",
      "      (relu): ReLU(inplace=True)\n",
      "      (conv2): Conv2d(64, 64, kernel_size=(3, 3), stride=(1, 1), padding=(1, 1), bias=False)\n",
      "      (bn2): BatchNorm2d(64, eps=1e-05, momentum=0.1, affine=True, track_running_stats=True)\n",
      "    )\n",
      "    (1): BasicBlock(\n",
      "      (conv1): Conv2d(64, 64, kernel_size=(3, 3), stride=(1, 1), padding=(1, 1), bias=False)\n",
      "      (bn1): BatchNorm2d(64, eps=1e-05, momentum=0.1, affine=True, track_running_stats=True)\n",
      "      (relu): ReLU(inplace=True)\n",
      "      (conv2): Conv2d(64, 64, kernel_size=(3, 3), stride=(1, 1), padding=(1, 1), bias=False)\n",
      "      (bn2): BatchNorm2d(64, eps=1e-05, momentum=0.1, affine=True, track_running_stats=True)\n",
      "    )\n",
      "  )\n",
      "  (layer2): Sequential(\n",
      "    (0): BasicBlock(\n",
      "      (conv1): Conv2d(64, 128, kernel_size=(3, 3), stride=(2, 2), padding=(1, 1), bias=False)\n",
      "      (bn1): BatchNorm2d(128, eps=1e-05, momentum=0.1, affine=True, track_running_stats=True)\n",
      "      (relu): ReLU(inplace=True)\n",
      "      (conv2): Conv2d(128, 128, kernel_size=(3, 3), stride=(1, 1), padding=(1, 1), bias=False)\n",
      "      (bn2): BatchNorm2d(128, eps=1e-05, momentum=0.1, affine=True, track_running_stats=True)\n",
      "      (downsample): Sequential(\n",
      "        (0): Conv2d(64, 128, kernel_size=(1, 1), stride=(2, 2), bias=False)\n",
      "        (1): BatchNorm2d(128, eps=1e-05, momentum=0.1, affine=True, track_running_stats=True)\n",
      "      )\n",
      "    )\n",
      "    (1): BasicBlock(\n",
      "      (conv1): Conv2d(128, 128, kernel_size=(3, 3), stride=(1, 1), padding=(1, 1), bias=False)\n",
      "      (bn1): BatchNorm2d(128, eps=1e-05, momentum=0.1, affine=True, track_running_stats=True)\n",
      "      (relu): ReLU(inplace=True)\n",
      "      (conv2): Conv2d(128, 128, kernel_size=(3, 3), stride=(1, 1), padding=(1, 1), bias=False)\n",
      "      (bn2): BatchNorm2d(128, eps=1e-05, momentum=0.1, affine=True, track_running_stats=True)\n",
      "    )\n",
      "  )\n",
      "  (layer3): Sequential(\n",
      "    (0): BasicBlock(\n",
      "      (conv1): Conv2d(128, 256, kernel_size=(3, 3), stride=(2, 2), padding=(1, 1), bias=False)\n",
      "      (bn1): BatchNorm2d(256, eps=1e-05, momentum=0.1, affine=True, track_running_stats=True)\n",
      "      (relu): ReLU(inplace=True)\n",
      "      (conv2): Conv2d(256, 256, kernel_size=(3, 3), stride=(1, 1), padding=(1, 1), bias=False)\n",
      "      (bn2): BatchNorm2d(256, eps=1e-05, momentum=0.1, affine=True, track_running_stats=True)\n",
      "      (downsample): Sequential(\n",
      "        (0): Conv2d(128, 256, kernel_size=(1, 1), stride=(2, 2), bias=False)\n",
      "        (1): BatchNorm2d(256, eps=1e-05, momentum=0.1, affine=True, track_running_stats=True)\n",
      "      )\n",
      "    )\n",
      "    (1): BasicBlock(\n",
      "      (conv1): Conv2d(256, 256, kernel_size=(3, 3), stride=(1, 1), padding=(1, 1), bias=False)\n",
      "      (bn1): BatchNorm2d(256, eps=1e-05, momentum=0.1, affine=True, track_running_stats=True)\n",
      "      (relu): ReLU(inplace=True)\n",
      "      (conv2): Conv2d(256, 256, kernel_size=(3, 3), stride=(1, 1), padding=(1, 1), bias=False)\n",
      "      (bn2): BatchNorm2d(256, eps=1e-05, momentum=0.1, affine=True, track_running_stats=True)\n",
      "    )\n",
      "  )\n",
      "  (layer4): Sequential(\n",
      "    (0): BasicBlock(\n",
      "      (conv1): Conv2d(256, 512, kernel_size=(3, 3), stride=(2, 2), padding=(1, 1), bias=False)\n",
      "      (bn1): BatchNorm2d(512, eps=1e-05, momentum=0.1, affine=True, track_running_stats=True)\n",
      "      (relu): ReLU(inplace=True)\n",
      "      (conv2): Conv2d(512, 512, kernel_size=(3, 3), stride=(1, 1), padding=(1, 1), bias=False)\n",
      "      (bn2): BatchNorm2d(512, eps=1e-05, momentum=0.1, affine=True, track_running_stats=True)\n",
      "      (downsample): Sequential(\n",
      "        (0): Conv2d(256, 512, kernel_size=(1, 1), stride=(2, 2), bias=False)\n",
      "        (1): BatchNorm2d(512, eps=1e-05, momentum=0.1, affine=True, track_running_stats=True)\n",
      "      )\n",
      "    )\n",
      "    (1): BasicBlock(\n",
      "      (conv1): Conv2d(512, 512, kernel_size=(3, 3), stride=(1, 1), padding=(1, 1), bias=False)\n",
      "      (bn1): BatchNorm2d(512, eps=1e-05, momentum=0.1, affine=True, track_running_stats=True)\n",
      "      (relu): ReLU(inplace=True)\n",
      "      (conv2): Conv2d(512, 512, kernel_size=(3, 3), stride=(1, 1), padding=(1, 1), bias=False)\n",
      "      (bn2): BatchNorm2d(512, eps=1e-05, momentum=0.1, affine=True, track_running_stats=True)\n",
      "    )\n",
      "  )\n",
      "  (avgpool): AdaptiveAvgPool2d(output_size=(1, 1))\n",
      "  (fc): Linear(in_features=512, out_features=4, bias=True)\n",
      ")\n"
     ]
    }
   ],
   "source": [
    "import torch.nn as nn\n",
    "import torch.nn.functional as F\n",
    "\n",
    "from torchvision.models import resnet18\n",
    "\n",
    "#####################################################\n",
    "#     TODO: Load the pre-trained ResNet18 model     #  \n",
    "#####################################################\n",
    "# load the trained classifier weights\n",
    "ckpt = torch.load('model_2023-11-02-23-22-09.pth')\n",
    "net.load_state_dict(ckpt)\n",
    "print(net) # print your model and check the num_classes is correct\n",
    "####################################################\n",
    "#                End of your code                  #   \n",
    "####################################################"
   ]
  },
  {
   "cell_type": "code",
   "execution_count": 13,
   "metadata": {
    "id": "kD44g-TxwYdU",
    "ExecuteTime": {
     "end_time": "2023-11-05T10:21:42.092563600Z",
     "start_time": "2023-11-05T10:21:42.082962800Z"
    }
   },
   "outputs": [
    {
     "data": {
      "text/plain": "ResNet(\n  (conv1): Conv2d(3, 64, kernel_size=(7, 7), stride=(2, 2), padding=(3, 3), bias=False)\n  (bn1): BatchNorm2d(64, eps=1e-05, momentum=0.1, affine=True, track_running_stats=True)\n  (relu): ReLU(inplace=True)\n  (maxpool): MaxPool2d(kernel_size=3, stride=2, padding=1, dilation=1, ceil_mode=False)\n  (layer1): Sequential(\n    (0): BasicBlock(\n      (conv1): Conv2d(64, 64, kernel_size=(3, 3), stride=(1, 1), padding=(1, 1), bias=False)\n      (bn1): BatchNorm2d(64, eps=1e-05, momentum=0.1, affine=True, track_running_stats=True)\n      (relu): ReLU(inplace=True)\n      (conv2): Conv2d(64, 64, kernel_size=(3, 3), stride=(1, 1), padding=(1, 1), bias=False)\n      (bn2): BatchNorm2d(64, eps=1e-05, momentum=0.1, affine=True, track_running_stats=True)\n    )\n    (1): BasicBlock(\n      (conv1): Conv2d(64, 64, kernel_size=(3, 3), stride=(1, 1), padding=(1, 1), bias=False)\n      (bn1): BatchNorm2d(64, eps=1e-05, momentum=0.1, affine=True, track_running_stats=True)\n      (relu): ReLU(inplace=True)\n      (conv2): Conv2d(64, 64, kernel_size=(3, 3), stride=(1, 1), padding=(1, 1), bias=False)\n      (bn2): BatchNorm2d(64, eps=1e-05, momentum=0.1, affine=True, track_running_stats=True)\n    )\n  )\n  (layer2): Sequential(\n    (0): BasicBlock(\n      (conv1): Conv2d(64, 128, kernel_size=(3, 3), stride=(2, 2), padding=(1, 1), bias=False)\n      (bn1): BatchNorm2d(128, eps=1e-05, momentum=0.1, affine=True, track_running_stats=True)\n      (relu): ReLU(inplace=True)\n      (conv2): Conv2d(128, 128, kernel_size=(3, 3), stride=(1, 1), padding=(1, 1), bias=False)\n      (bn2): BatchNorm2d(128, eps=1e-05, momentum=0.1, affine=True, track_running_stats=True)\n      (downsample): Sequential(\n        (0): Conv2d(64, 128, kernel_size=(1, 1), stride=(2, 2), bias=False)\n        (1): BatchNorm2d(128, eps=1e-05, momentum=0.1, affine=True, track_running_stats=True)\n      )\n    )\n    (1): BasicBlock(\n      (conv1): Conv2d(128, 128, kernel_size=(3, 3), stride=(1, 1), padding=(1, 1), bias=False)\n      (bn1): BatchNorm2d(128, eps=1e-05, momentum=0.1, affine=True, track_running_stats=True)\n      (relu): ReLU(inplace=True)\n      (conv2): Conv2d(128, 128, kernel_size=(3, 3), stride=(1, 1), padding=(1, 1), bias=False)\n      (bn2): BatchNorm2d(128, eps=1e-05, momentum=0.1, affine=True, track_running_stats=True)\n    )\n  )\n  (layer3): Sequential(\n    (0): BasicBlock(\n      (conv1): Conv2d(128, 256, kernel_size=(3, 3), stride=(2, 2), padding=(1, 1), bias=False)\n      (bn1): BatchNorm2d(256, eps=1e-05, momentum=0.1, affine=True, track_running_stats=True)\n      (relu): ReLU(inplace=True)\n      (conv2): Conv2d(256, 256, kernel_size=(3, 3), stride=(1, 1), padding=(1, 1), bias=False)\n      (bn2): BatchNorm2d(256, eps=1e-05, momentum=0.1, affine=True, track_running_stats=True)\n      (downsample): Sequential(\n        (0): Conv2d(128, 256, kernel_size=(1, 1), stride=(2, 2), bias=False)\n        (1): BatchNorm2d(256, eps=1e-05, momentum=0.1, affine=True, track_running_stats=True)\n      )\n    )\n    (1): BasicBlock(\n      (conv1): Conv2d(256, 256, kernel_size=(3, 3), stride=(1, 1), padding=(1, 1), bias=False)\n      (bn1): BatchNorm2d(256, eps=1e-05, momentum=0.1, affine=True, track_running_stats=True)\n      (relu): ReLU(inplace=True)\n      (conv2): Conv2d(256, 256, kernel_size=(3, 3), stride=(1, 1), padding=(1, 1), bias=False)\n      (bn2): BatchNorm2d(256, eps=1e-05, momentum=0.1, affine=True, track_running_stats=True)\n    )\n  )\n  (layer4): Sequential(\n    (0): BasicBlock(\n      (conv1): Conv2d(256, 512, kernel_size=(3, 3), stride=(2, 2), padding=(1, 1), bias=False)\n      (bn1): BatchNorm2d(512, eps=1e-05, momentum=0.1, affine=True, track_running_stats=True)\n      (relu): ReLU(inplace=True)\n      (conv2): Conv2d(512, 512, kernel_size=(3, 3), stride=(1, 1), padding=(1, 1), bias=False)\n      (bn2): BatchNorm2d(512, eps=1e-05, momentum=0.1, affine=True, track_running_stats=True)\n      (downsample): Sequential(\n        (0): Conv2d(256, 512, kernel_size=(1, 1), stride=(2, 2), bias=False)\n        (1): BatchNorm2d(512, eps=1e-05, momentum=0.1, affine=True, track_running_stats=True)\n      )\n    )\n    (1): BasicBlock(\n      (conv1): Conv2d(512, 512, kernel_size=(3, 3), stride=(1, 1), padding=(1, 1), bias=False)\n      (bn1): BatchNorm2d(512, eps=1e-05, momentum=0.1, affine=True, track_running_stats=True)\n      (relu): ReLU(inplace=True)\n      (conv2): Conv2d(512, 512, kernel_size=(3, 3), stride=(1, 1), padding=(1, 1), bias=False)\n      (bn2): BatchNorm2d(512, eps=1e-05, momentum=0.1, affine=True, track_running_stats=True)\n    )\n  )\n  (avgpool): AdaptiveAvgPool2d(output_size=(1, 1))\n  (fc): Linear(in_features=512, out_features=10, bias=True)\n)"
     },
     "execution_count": 13,
     "metadata": {},
     "output_type": "execute_result"
    }
   ],
   "source": [
    "#################################################################################################\n",
    "#   TODO: Freeze all previous layers; only keep the 'layer4' block and 'fc' layer trainable     #\n",
    "#################################################################################################\n",
    "# Freeze all parameters\n",
    "net.requires_grad_(False)\n",
    "\n",
    "# Adjusting the fully connected layer to have 10 outputs for 10 classes\n",
    "net.fc = nn.Linear(net.fc.in_features, 10)  # Re-define the fc layer\n",
    "\n",
    "# Unfreeze the last block (layer4) and the fully connected (fc) layer\n",
    "net.layer4.requires_grad_(True)\n",
    "net.fc.requires_grad_(True)\n",
    "\n",
    "# Make sure to move the model to the device after modifying it\n",
    "net.to(device)\n",
    "#################################################################################################\n",
    "#                                          End of your code                                     #\n",
    "#################################################################################################"
   ]
  },
  {
   "cell_type": "code",
   "execution_count": 14,
   "metadata": {
    "id": "9T5DX0efr4fh",
    "ExecuteTime": {
     "end_time": "2023-11-05T10:21:42.100565900Z",
     "start_time": "2023-11-05T10:21:42.096566Z"
    }
   },
   "outputs": [
    {
     "name": "stdout",
     "output_type": "stream",
     "text": [
      "Params to learn:\n",
      "\t layer4.0.conv1.weight\n",
      "\t layer4.0.bn1.weight\n",
      "\t layer4.0.bn1.bias\n",
      "\t layer4.0.conv2.weight\n",
      "\t layer4.0.bn2.weight\n",
      "\t layer4.0.bn2.bias\n",
      "\t layer4.0.downsample.0.weight\n",
      "\t layer4.0.downsample.1.weight\n",
      "\t layer4.0.downsample.1.bias\n",
      "\t layer4.1.conv1.weight\n",
      "\t layer4.1.bn1.weight\n",
      "\t layer4.1.bn1.bias\n",
      "\t layer4.1.conv2.weight\n",
      "\t layer4.1.bn2.weight\n",
      "\t layer4.1.bn2.bias\n",
      "\t fc.weight\n",
      "\t fc.bias\n"
     ]
    }
   ],
   "source": [
    "# Print all the trainable parameters\n",
    "params_to_update = net.parameters()\n",
    "print(\"Params to learn:\")\n",
    "params_to_update = []\n",
    "for name,param in net.named_parameters():\n",
    "    if param.requires_grad == True:\n",
    "        params_to_update.append(param)\n",
    "        print(\"\\t\",name)"
   ]
  },
  {
   "cell_type": "code",
   "execution_count": 15,
   "metadata": {
    "id": "xb032dG700ph",
    "ExecuteTime": {
     "end_time": "2023-11-05T10:21:42.110568Z",
     "start_time": "2023-11-05T10:21:42.105564600Z"
    }
   },
   "outputs": [
    {
     "data": {
      "text/plain": "CrossEntropyLoss()"
     },
     "execution_count": 15,
     "metadata": {},
     "output_type": "execute_result"
    }
   ],
   "source": [
    "# TODO: Define criterion and optimizer\n",
    "# Note that your optimizer only needs to update the parameters that are trainable.\n",
    "criterion = nn.CrossEntropyLoss(label_smoothing=0.1)\n",
    "\n",
    "# Optimizer: Update only the parameters of layer4 and fc\n",
    "optimizer = optim.Adam([\n",
    "    {'params': net.layer4.parameters()},\n",
    "    {'params': net.fc.parameters()}\n",
    "], lr=0.001)\n",
    "\n",
    "criterion.to(device)"
   ]
  },
  {
   "cell_type": "code",
   "execution_count": 16,
   "metadata": {
    "id": "3vLSwOo6sBjl",
    "ExecuteTime": {
     "end_time": "2023-11-05T10:32:50.765546400Z",
     "start_time": "2023-11-05T10:21:42.110568Z"
    }
   },
   "outputs": [
    {
     "name": "stdout",
     "output_type": "stream",
     "text": [
      "[1,   100] loss: 1.956 acc: 30.91 time: 6.90\n",
      "[1,   200] loss: 1.740 acc: 41.34 time: 7.43\n",
      "[1,   300] loss: 1.673 acc: 44.98 time: 7.52\n",
      "TESTING:\n",
      "Accuracy of the network on the 10000 test images: 47.17 %\n",
      "Average loss on the 10000 test images: 1.626\n",
      "[2,   100] loss: 1.621 acc: 47.38 time: 6.80\n",
      "[2,   200] loss: 1.609 acc: 48.16 time: 7.47\n",
      "[2,   300] loss: 1.587 acc: 49.48 time: 7.58\n",
      "TESTING:\n",
      "Accuracy of the network on the 10000 test images: 51.27 %\n",
      "Average loss on the 10000 test images: 1.560\n",
      "[3,   100] loss: 1.563 acc: 50.53 time: 6.84\n",
      "[3,   200] loss: 1.564 acc: 51.20 time: 7.45\n",
      "[3,   300] loss: 1.557 acc: 51.13 time: 7.54\n",
      "TESTING:\n",
      "Accuracy of the network on the 10000 test images: 53.10 %\n",
      "Average loss on the 10000 test images: 1.512\n",
      "[4,   100] loss: 1.560 acc: 50.59 time: 6.72\n",
      "[4,   200] loss: 1.532 acc: 52.75 time: 7.38\n",
      "[4,   300] loss: 1.537 acc: 52.34 time: 7.61\n",
      "TESTING:\n",
      "Accuracy of the network on the 10000 test images: 54.80 %\n",
      "Average loss on the 10000 test images: 1.483\n",
      "[5,   100] loss: 1.544 acc: 51.27 time: 6.69\n",
      "[5,   200] loss: 1.523 acc: 52.57 time: 7.53\n",
      "[5,   300] loss: 1.533 acc: 51.98 time: 7.55\n",
      "TESTING:\n",
      "Accuracy of the network on the 10000 test images: 54.93 %\n",
      "Average loss on the 10000 test images: 1.478\n",
      "[6,   100] loss: 1.529 acc: 52.37 time: 6.81\n",
      "[6,   200] loss: 1.515 acc: 52.67 time: 7.49\n",
      "[6,   300] loss: 1.525 acc: 52.69 time: 7.55\n",
      "TESTING:\n",
      "Accuracy of the network on the 10000 test images: 55.20 %\n",
      "Average loss on the 10000 test images: 1.460\n",
      "[7,   100] loss: 1.518 acc: 52.84 time: 6.78\n",
      "[7,   200] loss: 1.508 acc: 53.48 time: 7.45\n",
      "[7,   300] loss: 1.507 acc: 53.05 time: 7.55\n",
      "TESTING:\n",
      "Accuracy of the network on the 10000 test images: 55.34 %\n",
      "Average loss on the 10000 test images: 1.471\n",
      "[8,   100] loss: 1.507 acc: 53.05 time: 6.75\n",
      "[8,   200] loss: 1.490 acc: 54.20 time: 7.49\n",
      "[8,   300] loss: 1.515 acc: 53.23 time: 7.53\n",
      "TESTING:\n",
      "Accuracy of the network on the 10000 test images: 55.34 %\n",
      "Average loss on the 10000 test images: 1.472\n",
      "[9,   100] loss: 1.485 acc: 54.57 time: 6.85\n",
      "[9,   200] loss: 1.497 acc: 53.77 time: 7.51\n",
      "[9,   300] loss: 1.495 acc: 54.12 time: 7.57\n",
      "TESTING:\n",
      "Accuracy of the network on the 10000 test images: 56.35 %\n",
      "Average loss on the 10000 test images: 1.450\n",
      "[10,   100] loss: 1.499 acc: 54.00 time: 6.75\n",
      "[10,   200] loss: 1.486 acc: 54.22 time: 7.49\n",
      "[10,   300] loss: 1.482 acc: 54.66 time: 7.54\n",
      "TESTING:\n",
      "Accuracy of the network on the 10000 test images: 56.62 %\n",
      "Average loss on the 10000 test images: 1.436\n",
      "[11,   100] loss: 1.458 acc: 56.16 time: 6.77\n",
      "[11,   200] loss: 1.435 acc: 57.03 time: 7.43\n",
      "[11,   300] loss: 1.446 acc: 56.22 time: 7.53\n",
      "TESTING:\n",
      "Accuracy of the network on the 10000 test images: 58.78 %\n",
      "Average loss on the 10000 test images: 1.391\n",
      "[12,   100] loss: 1.442 acc: 56.45 time: 6.86\n",
      "[12,   200] loss: 1.433 acc: 57.03 time: 7.47\n",
      "[12,   300] loss: 1.426 acc: 57.58 time: 7.58\n",
      "TESTING:\n",
      "Accuracy of the network on the 10000 test images: 58.98 %\n",
      "Average loss on the 10000 test images: 1.385\n",
      "[13,   100] loss: 1.425 acc: 57.24 time: 6.81\n",
      "[13,   200] loss: 1.430 acc: 56.62 time: 7.48\n",
      "[13,   300] loss: 1.432 acc: 56.55 time: 7.56\n",
      "TESTING:\n",
      "Accuracy of the network on the 10000 test images: 59.05 %\n",
      "Average loss on the 10000 test images: 1.386\n",
      "[14,   100] loss: 1.420 acc: 57.39 time: 6.78\n",
      "[14,   200] loss: 1.425 acc: 57.36 time: 7.60\n",
      "[14,   300] loss: 1.428 acc: 57.18 time: 7.56\n",
      "TESTING:\n",
      "Accuracy of the network on the 10000 test images: 58.72 %\n",
      "Average loss on the 10000 test images: 1.385\n",
      "[15,   100] loss: 1.426 acc: 56.80 time: 6.76\n",
      "[15,   200] loss: 1.416 acc: 57.74 time: 7.45\n",
      "[15,   300] loss: 1.421 acc: 57.34 time: 7.53\n",
      "TESTING:\n",
      "Accuracy of the network on the 10000 test images: 59.13 %\n",
      "Average loss on the 10000 test images: 1.382\n",
      "[16,   100] loss: 1.424 acc: 57.09 time: 6.79\n",
      "[16,   200] loss: 1.419 acc: 57.91 time: 7.45\n",
      "[16,   300] loss: 1.418 acc: 57.77 time: 7.56\n",
      "TESTING:\n",
      "Accuracy of the network on the 10000 test images: 59.11 %\n",
      "Average loss on the 10000 test images: 1.379\n",
      "[17,   100] loss: 1.417 acc: 57.41 time: 6.76\n",
      "[17,   200] loss: 1.419 acc: 57.38 time: 7.54\n",
      "[17,   300] loss: 1.421 acc: 57.14 time: 7.56\n",
      "TESTING:\n",
      "Accuracy of the network on the 10000 test images: 59.33 %\n",
      "Average loss on the 10000 test images: 1.377\n",
      "[18,   100] loss: 1.413 acc: 57.19 time: 6.70\n",
      "[18,   200] loss: 1.423 acc: 57.55 time: 7.39\n",
      "[18,   300] loss: 1.414 acc: 57.57 time: 7.55\n",
      "TESTING:\n",
      "Accuracy of the network on the 10000 test images: 59.10 %\n",
      "Average loss on the 10000 test images: 1.378\n",
      "[19,   100] loss: 1.408 acc: 57.79 time: 6.69\n",
      "[19,   200] loss: 1.425 acc: 56.95 time: 7.71\n",
      "[19,   300] loss: 1.418 acc: 57.21 time: 7.58\n",
      "TESTING:\n",
      "Accuracy of the network on the 10000 test images: 59.65 %\n",
      "Average loss on the 10000 test images: 1.377\n",
      "[20,   100] loss: 1.413 acc: 57.74 time: 6.83\n",
      "[20,   200] loss: 1.414 acc: 58.00 time: 7.44\n",
      "[20,   300] loss: 1.406 acc: 57.84 time: 7.53\n",
      "TESTING:\n",
      "Accuracy of the network on the 10000 test images: 59.55 %\n",
      "Average loss on the 10000 test images: 1.373\n",
      "Finished Training\n"
     ]
    }
   ],
   "source": [
    "train(net, criterion, optimizer, num_epochs=20, decay_epochs=10, init_lr=0.01, task='classification')\n"
   ]
  },
  {
   "cell_type": "markdown",
   "metadata": {
    "id": "ghPNhcJBrcNj"
   },
   "source": [
    "## Fine-tuning on the randomly initialized model (9 points)\n",
    "In this section, we will randomly initialize a ResNet18 model and fine-tune on the classification task. We will freeze all previous layers except for the 'layer4' block and 'fc' layer."
   ]
  },
  {
   "cell_type": "code",
   "execution_count": 17,
   "metadata": {
    "id": "2RfXAh9vxXRB",
    "ExecuteTime": {
     "end_time": "2023-11-05T10:32:50.923150900Z",
     "start_time": "2023-11-05T10:32:50.791551Z"
    }
   },
   "outputs": [
    {
     "name": "stdout",
     "output_type": "stream",
     "text": [
      "ResNet(\n",
      "  (conv1): Conv2d(3, 64, kernel_size=(7, 7), stride=(2, 2), padding=(3, 3), bias=False)\n",
      "  (bn1): BatchNorm2d(64, eps=1e-05, momentum=0.1, affine=True, track_running_stats=True)\n",
      "  (relu): ReLU(inplace=True)\n",
      "  (maxpool): MaxPool2d(kernel_size=3, stride=2, padding=1, dilation=1, ceil_mode=False)\n",
      "  (layer1): Sequential(\n",
      "    (0): BasicBlock(\n",
      "      (conv1): Conv2d(64, 64, kernel_size=(3, 3), stride=(1, 1), padding=(1, 1), bias=False)\n",
      "      (bn1): BatchNorm2d(64, eps=1e-05, momentum=0.1, affine=True, track_running_stats=True)\n",
      "      (relu): ReLU(inplace=True)\n",
      "      (conv2): Conv2d(64, 64, kernel_size=(3, 3), stride=(1, 1), padding=(1, 1), bias=False)\n",
      "      (bn2): BatchNorm2d(64, eps=1e-05, momentum=0.1, affine=True, track_running_stats=True)\n",
      "    )\n",
      "    (1): BasicBlock(\n",
      "      (conv1): Conv2d(64, 64, kernel_size=(3, 3), stride=(1, 1), padding=(1, 1), bias=False)\n",
      "      (bn1): BatchNorm2d(64, eps=1e-05, momentum=0.1, affine=True, track_running_stats=True)\n",
      "      (relu): ReLU(inplace=True)\n",
      "      (conv2): Conv2d(64, 64, kernel_size=(3, 3), stride=(1, 1), padding=(1, 1), bias=False)\n",
      "      (bn2): BatchNorm2d(64, eps=1e-05, momentum=0.1, affine=True, track_running_stats=True)\n",
      "    )\n",
      "  )\n",
      "  (layer2): Sequential(\n",
      "    (0): BasicBlock(\n",
      "      (conv1): Conv2d(64, 128, kernel_size=(3, 3), stride=(2, 2), padding=(1, 1), bias=False)\n",
      "      (bn1): BatchNorm2d(128, eps=1e-05, momentum=0.1, affine=True, track_running_stats=True)\n",
      "      (relu): ReLU(inplace=True)\n",
      "      (conv2): Conv2d(128, 128, kernel_size=(3, 3), stride=(1, 1), padding=(1, 1), bias=False)\n",
      "      (bn2): BatchNorm2d(128, eps=1e-05, momentum=0.1, affine=True, track_running_stats=True)\n",
      "      (downsample): Sequential(\n",
      "        (0): Conv2d(64, 128, kernel_size=(1, 1), stride=(2, 2), bias=False)\n",
      "        (1): BatchNorm2d(128, eps=1e-05, momentum=0.1, affine=True, track_running_stats=True)\n",
      "      )\n",
      "    )\n",
      "    (1): BasicBlock(\n",
      "      (conv1): Conv2d(128, 128, kernel_size=(3, 3), stride=(1, 1), padding=(1, 1), bias=False)\n",
      "      (bn1): BatchNorm2d(128, eps=1e-05, momentum=0.1, affine=True, track_running_stats=True)\n",
      "      (relu): ReLU(inplace=True)\n",
      "      (conv2): Conv2d(128, 128, kernel_size=(3, 3), stride=(1, 1), padding=(1, 1), bias=False)\n",
      "      (bn2): BatchNorm2d(128, eps=1e-05, momentum=0.1, affine=True, track_running_stats=True)\n",
      "    )\n",
      "  )\n",
      "  (layer3): Sequential(\n",
      "    (0): BasicBlock(\n",
      "      (conv1): Conv2d(128, 256, kernel_size=(3, 3), stride=(2, 2), padding=(1, 1), bias=False)\n",
      "      (bn1): BatchNorm2d(256, eps=1e-05, momentum=0.1, affine=True, track_running_stats=True)\n",
      "      (relu): ReLU(inplace=True)\n",
      "      (conv2): Conv2d(256, 256, kernel_size=(3, 3), stride=(1, 1), padding=(1, 1), bias=False)\n",
      "      (bn2): BatchNorm2d(256, eps=1e-05, momentum=0.1, affine=True, track_running_stats=True)\n",
      "      (downsample): Sequential(\n",
      "        (0): Conv2d(128, 256, kernel_size=(1, 1), stride=(2, 2), bias=False)\n",
      "        (1): BatchNorm2d(256, eps=1e-05, momentum=0.1, affine=True, track_running_stats=True)\n",
      "      )\n",
      "    )\n",
      "    (1): BasicBlock(\n",
      "      (conv1): Conv2d(256, 256, kernel_size=(3, 3), stride=(1, 1), padding=(1, 1), bias=False)\n",
      "      (bn1): BatchNorm2d(256, eps=1e-05, momentum=0.1, affine=True, track_running_stats=True)\n",
      "      (relu): ReLU(inplace=True)\n",
      "      (conv2): Conv2d(256, 256, kernel_size=(3, 3), stride=(1, 1), padding=(1, 1), bias=False)\n",
      "      (bn2): BatchNorm2d(256, eps=1e-05, momentum=0.1, affine=True, track_running_stats=True)\n",
      "    )\n",
      "  )\n",
      "  (layer4): Sequential(\n",
      "    (0): BasicBlock(\n",
      "      (conv1): Conv2d(256, 512, kernel_size=(3, 3), stride=(2, 2), padding=(1, 1), bias=False)\n",
      "      (bn1): BatchNorm2d(512, eps=1e-05, momentum=0.1, affine=True, track_running_stats=True)\n",
      "      (relu): ReLU(inplace=True)\n",
      "      (conv2): Conv2d(512, 512, kernel_size=(3, 3), stride=(1, 1), padding=(1, 1), bias=False)\n",
      "      (bn2): BatchNorm2d(512, eps=1e-05, momentum=0.1, affine=True, track_running_stats=True)\n",
      "      (downsample): Sequential(\n",
      "        (0): Conv2d(256, 512, kernel_size=(1, 1), stride=(2, 2), bias=False)\n",
      "        (1): BatchNorm2d(512, eps=1e-05, momentum=0.1, affine=True, track_running_stats=True)\n",
      "      )\n",
      "    )\n",
      "    (1): BasicBlock(\n",
      "      (conv1): Conv2d(512, 512, kernel_size=(3, 3), stride=(1, 1), padding=(1, 1), bias=False)\n",
      "      (bn1): BatchNorm2d(512, eps=1e-05, momentum=0.1, affine=True, track_running_stats=True)\n",
      "      (relu): ReLU(inplace=True)\n",
      "      (conv2): Conv2d(512, 512, kernel_size=(3, 3), stride=(1, 1), padding=(1, 1), bias=False)\n",
      "      (bn2): BatchNorm2d(512, eps=1e-05, momentum=0.1, affine=True, track_running_stats=True)\n",
      "    )\n",
      "  )\n",
      "  (avgpool): AdaptiveAvgPool2d(output_size=(1, 1))\n",
      "  (fc): Linear(in_features=512, out_features=1000, bias=True)\n",
      ")\n"
     ]
    }
   ],
   "source": [
    "import torch.nn as nn\n",
    "import torch.nn.functional as F\n",
    "\n",
    "from torchvision.models import resnet18\n",
    "#################################################\n",
    "# TODO: Randomly initialize a ResNet18 model    #\n",
    "#################################################\n",
    "# Randomly initialize a ResNet18 model\n",
    "net = resnet18(pretrained=False)\n",
    "print(net) # print your model and check the num_classes is correct\n",
    "#################################################\n",
    "#              End of your code                 #\n",
    "#################################################"
   ]
  },
  {
   "cell_type": "code",
   "execution_count": 18,
   "metadata": {
    "id": "fpx-SYAizt4p",
    "ExecuteTime": {
     "end_time": "2023-11-05T10:32:50.983181Z",
     "start_time": "2023-11-05T10:32:50.923150900Z"
    }
   },
   "outputs": [
    {
     "data": {
      "text/plain": "ResNet(\n  (conv1): Conv2d(3, 64, kernel_size=(7, 7), stride=(2, 2), padding=(3, 3), bias=False)\n  (bn1): BatchNorm2d(64, eps=1e-05, momentum=0.1, affine=True, track_running_stats=True)\n  (relu): ReLU(inplace=True)\n  (maxpool): MaxPool2d(kernel_size=3, stride=2, padding=1, dilation=1, ceil_mode=False)\n  (layer1): Sequential(\n    (0): BasicBlock(\n      (conv1): Conv2d(64, 64, kernel_size=(3, 3), stride=(1, 1), padding=(1, 1), bias=False)\n      (bn1): BatchNorm2d(64, eps=1e-05, momentum=0.1, affine=True, track_running_stats=True)\n      (relu): ReLU(inplace=True)\n      (conv2): Conv2d(64, 64, kernel_size=(3, 3), stride=(1, 1), padding=(1, 1), bias=False)\n      (bn2): BatchNorm2d(64, eps=1e-05, momentum=0.1, affine=True, track_running_stats=True)\n    )\n    (1): BasicBlock(\n      (conv1): Conv2d(64, 64, kernel_size=(3, 3), stride=(1, 1), padding=(1, 1), bias=False)\n      (bn1): BatchNorm2d(64, eps=1e-05, momentum=0.1, affine=True, track_running_stats=True)\n      (relu): ReLU(inplace=True)\n      (conv2): Conv2d(64, 64, kernel_size=(3, 3), stride=(1, 1), padding=(1, 1), bias=False)\n      (bn2): BatchNorm2d(64, eps=1e-05, momentum=0.1, affine=True, track_running_stats=True)\n    )\n  )\n  (layer2): Sequential(\n    (0): BasicBlock(\n      (conv1): Conv2d(64, 128, kernel_size=(3, 3), stride=(2, 2), padding=(1, 1), bias=False)\n      (bn1): BatchNorm2d(128, eps=1e-05, momentum=0.1, affine=True, track_running_stats=True)\n      (relu): ReLU(inplace=True)\n      (conv2): Conv2d(128, 128, kernel_size=(3, 3), stride=(1, 1), padding=(1, 1), bias=False)\n      (bn2): BatchNorm2d(128, eps=1e-05, momentum=0.1, affine=True, track_running_stats=True)\n      (downsample): Sequential(\n        (0): Conv2d(64, 128, kernel_size=(1, 1), stride=(2, 2), bias=False)\n        (1): BatchNorm2d(128, eps=1e-05, momentum=0.1, affine=True, track_running_stats=True)\n      )\n    )\n    (1): BasicBlock(\n      (conv1): Conv2d(128, 128, kernel_size=(3, 3), stride=(1, 1), padding=(1, 1), bias=False)\n      (bn1): BatchNorm2d(128, eps=1e-05, momentum=0.1, affine=True, track_running_stats=True)\n      (relu): ReLU(inplace=True)\n      (conv2): Conv2d(128, 128, kernel_size=(3, 3), stride=(1, 1), padding=(1, 1), bias=False)\n      (bn2): BatchNorm2d(128, eps=1e-05, momentum=0.1, affine=True, track_running_stats=True)\n    )\n  )\n  (layer3): Sequential(\n    (0): BasicBlock(\n      (conv1): Conv2d(128, 256, kernel_size=(3, 3), stride=(2, 2), padding=(1, 1), bias=False)\n      (bn1): BatchNorm2d(256, eps=1e-05, momentum=0.1, affine=True, track_running_stats=True)\n      (relu): ReLU(inplace=True)\n      (conv2): Conv2d(256, 256, kernel_size=(3, 3), stride=(1, 1), padding=(1, 1), bias=False)\n      (bn2): BatchNorm2d(256, eps=1e-05, momentum=0.1, affine=True, track_running_stats=True)\n      (downsample): Sequential(\n        (0): Conv2d(128, 256, kernel_size=(1, 1), stride=(2, 2), bias=False)\n        (1): BatchNorm2d(256, eps=1e-05, momentum=0.1, affine=True, track_running_stats=True)\n      )\n    )\n    (1): BasicBlock(\n      (conv1): Conv2d(256, 256, kernel_size=(3, 3), stride=(1, 1), padding=(1, 1), bias=False)\n      (bn1): BatchNorm2d(256, eps=1e-05, momentum=0.1, affine=True, track_running_stats=True)\n      (relu): ReLU(inplace=True)\n      (conv2): Conv2d(256, 256, kernel_size=(3, 3), stride=(1, 1), padding=(1, 1), bias=False)\n      (bn2): BatchNorm2d(256, eps=1e-05, momentum=0.1, affine=True, track_running_stats=True)\n    )\n  )\n  (layer4): Sequential(\n    (0): BasicBlock(\n      (conv1): Conv2d(256, 512, kernel_size=(3, 3), stride=(2, 2), padding=(1, 1), bias=False)\n      (bn1): BatchNorm2d(512, eps=1e-05, momentum=0.1, affine=True, track_running_stats=True)\n      (relu): ReLU(inplace=True)\n      (conv2): Conv2d(512, 512, kernel_size=(3, 3), stride=(1, 1), padding=(1, 1), bias=False)\n      (bn2): BatchNorm2d(512, eps=1e-05, momentum=0.1, affine=True, track_running_stats=True)\n      (downsample): Sequential(\n        (0): Conv2d(256, 512, kernel_size=(1, 1), stride=(2, 2), bias=False)\n        (1): BatchNorm2d(512, eps=1e-05, momentum=0.1, affine=True, track_running_stats=True)\n      )\n    )\n    (1): BasicBlock(\n      (conv1): Conv2d(512, 512, kernel_size=(3, 3), stride=(1, 1), padding=(1, 1), bias=False)\n      (bn1): BatchNorm2d(512, eps=1e-05, momentum=0.1, affine=True, track_running_stats=True)\n      (relu): ReLU(inplace=True)\n      (conv2): Conv2d(512, 512, kernel_size=(3, 3), stride=(1, 1), padding=(1, 1), bias=False)\n      (bn2): BatchNorm2d(512, eps=1e-05, momentum=0.1, affine=True, track_running_stats=True)\n    )\n  )\n  (avgpool): AdaptiveAvgPool2d(output_size=(1, 1))\n  (fc): Linear(in_features=512, out_features=10, bias=True)\n)"
     },
     "execution_count": 18,
     "metadata": {},
     "output_type": "execute_result"
    }
   ],
   "source": [
    "#################################################################################################\n",
    "# TODO: Freeze all previous layers; only keep the 'layer4' block and 'fc' layer trainable       #\n",
    "# To do this, you should set requires_grad=False for the frozen layers.                         #\n",
    "#################################################################################################\n",
    "# Adjusting the fully connected layer for 10 classes\n",
    "net.fc = nn.Linear(net.fc.in_features, 10)\n",
    "\n",
    "# Freeze all layers in the randomly initialized model\n",
    "net.requires_grad_(False)\n",
    "\n",
    "# Unfreeze the last block (layer4) and the fully connected (fc) layer\n",
    "net.layer4.requires_grad_(True)\n",
    "net.fc.requires_grad_(True)\n",
    "\n",
    "# Move the model to the device\n",
    "net.to(device)\n",
    "#################################################################################################\n",
    "#                                          End of your code                                     #\n",
    "#################################################################################################\n"
   ]
  },
  {
   "cell_type": "code",
   "execution_count": 19,
   "metadata": {
    "id": "BUFWizbHxgm2",
    "ExecuteTime": {
     "end_time": "2023-11-05T10:32:50.987448100Z",
     "start_time": "2023-11-05T10:32:50.983181Z"
    }
   },
   "outputs": [
    {
     "name": "stdout",
     "output_type": "stream",
     "text": [
      "Params to learn:\n",
      "\t layer4.0.conv1.weight\n",
      "\t layer4.0.bn1.weight\n",
      "\t layer4.0.bn1.bias\n",
      "\t layer4.0.conv2.weight\n",
      "\t layer4.0.bn2.weight\n",
      "\t layer4.0.bn2.bias\n",
      "\t layer4.0.downsample.0.weight\n",
      "\t layer4.0.downsample.1.weight\n",
      "\t layer4.0.downsample.1.bias\n",
      "\t layer4.1.conv1.weight\n",
      "\t layer4.1.bn1.weight\n",
      "\t layer4.1.bn1.bias\n",
      "\t layer4.1.conv2.weight\n",
      "\t layer4.1.bn2.weight\n",
      "\t layer4.1.bn2.bias\n",
      "\t fc.weight\n",
      "\t fc.bias\n"
     ]
    }
   ],
   "source": [
    "# Print all the trainable parameters\n",
    "params_to_update = net.parameters()\n",
    "print(\"Params to learn:\")\n",
    "params_to_update = []\n",
    "for name,param in net.named_parameters():\n",
    "    if param.requires_grad == True:\n",
    "        params_to_update.append(param)\n",
    "        print(\"\\t\",name)"
   ]
  },
  {
   "cell_type": "code",
   "execution_count": 20,
   "metadata": {
    "id": "BxFrGj091AN_",
    "ExecuteTime": {
     "end_time": "2023-11-05T10:32:50.995535600Z",
     "start_time": "2023-11-05T10:32:50.986434Z"
    }
   },
   "outputs": [
    {
     "data": {
      "text/plain": "CrossEntropyLoss()"
     },
     "execution_count": 20,
     "metadata": {},
     "output_type": "execute_result"
    }
   ],
   "source": [
    "# TODO: Define criterion and optimizer\n",
    "# Note that your optimizer only needs to update the parameters that are trainable.\n",
    "criterion = nn.CrossEntropyLoss(label_smoothing=0.1)\n",
    "\n",
    "# Optimizer: Update only the parameters of layer4 and fc\n",
    "optimizer = optim.Adam([\n",
    "    {'params': net.layer4.parameters()},\n",
    "    {'params': net.fc.parameters()}\n",
    "], lr=0.001)\n",
    "\n",
    "criterion.to(device)"
   ]
  },
  {
   "cell_type": "code",
   "execution_count": 21,
   "metadata": {
    "id": "GzRVy0MZxpoL",
    "ExecuteTime": {
     "end_time": "2023-11-05T10:43:59.132027700Z",
     "start_time": "2023-11-05T10:32:50.995535600Z"
    }
   },
   "outputs": [
    {
     "name": "stdout",
     "output_type": "stream",
     "text": [
      "[1,   100] loss: 2.340 acc: 23.17 time: 6.85\n",
      "[1,   200] loss: 2.033 acc: 29.73 time: 7.45\n",
      "[1,   300] loss: 1.982 acc: 31.26 time: 7.58\n",
      "TESTING:\n",
      "Accuracy of the network on the 10000 test images: 35.74 %\n",
      "Average loss on the 10000 test images: 1.879\n",
      "[2,   100] loss: 1.917 acc: 34.38 time: 6.76\n",
      "[2,   200] loss: 1.914 acc: 34.70 time: 7.45\n",
      "[2,   300] loss: 1.892 acc: 35.75 time: 7.59\n",
      "TESTING:\n",
      "Accuracy of the network on the 10000 test images: 38.41 %\n",
      "Average loss on the 10000 test images: 1.832\n",
      "[3,   100] loss: 1.879 acc: 35.60 time: 6.79\n",
      "[3,   200] loss: 1.878 acc: 35.94 time: 7.55\n",
      "[3,   300] loss: 1.873 acc: 36.68 time: 7.58\n",
      "TESTING:\n",
      "Accuracy of the network on the 10000 test images: 38.75 %\n",
      "Average loss on the 10000 test images: 1.825\n",
      "[4,   100] loss: 1.855 acc: 37.27 time: 6.78\n",
      "[4,   200] loss: 1.859 acc: 37.20 time: 7.53\n",
      "[4,   300] loss: 1.843 acc: 38.43 time: 7.58\n",
      "TESTING:\n",
      "Accuracy of the network on the 10000 test images: 40.19 %\n",
      "Average loss on the 10000 test images: 1.800\n",
      "[5,   100] loss: 1.842 acc: 37.79 time: 6.76\n",
      "[5,   200] loss: 1.842 acc: 38.09 time: 7.43\n",
      "[5,   300] loss: 1.839 acc: 38.61 time: 7.67\n",
      "TESTING:\n",
      "Accuracy of the network on the 10000 test images: 40.47 %\n",
      "Average loss on the 10000 test images: 1.792\n",
      "[6,   100] loss: 1.825 acc: 39.34 time: 6.75\n",
      "[6,   200] loss: 1.828 acc: 39.43 time: 7.45\n",
      "[6,   300] loss: 1.836 acc: 38.47 time: 7.58\n",
      "TESTING:\n",
      "Accuracy of the network on the 10000 test images: 40.26 %\n",
      "Average loss on the 10000 test images: 1.795\n",
      "[7,   100] loss: 1.820 acc: 39.27 time: 6.80\n",
      "[7,   200] loss: 1.824 acc: 39.68 time: 7.51\n",
      "[7,   300] loss: 1.816 acc: 39.32 time: 7.54\n",
      "TESTING:\n",
      "Accuracy of the network on the 10000 test images: 40.99 %\n",
      "Average loss on the 10000 test images: 1.774\n",
      "[8,   100] loss: 1.802 acc: 40.08 time: 6.69\n",
      "[8,   200] loss: 1.822 acc: 39.16 time: 7.55\n",
      "[8,   300] loss: 1.797 acc: 40.40 time: 7.57\n",
      "TESTING:\n",
      "Accuracy of the network on the 10000 test images: 41.71 %\n",
      "Average loss on the 10000 test images: 1.770\n",
      "[9,   100] loss: 1.802 acc: 40.45 time: 6.68\n",
      "[9,   200] loss: 1.806 acc: 40.41 time: 7.44\n",
      "[9,   300] loss: 1.791 acc: 40.82 time: 7.56\n",
      "TESTING:\n",
      "Accuracy of the network on the 10000 test images: 41.90 %\n",
      "Average loss on the 10000 test images: 1.763\n",
      "[10,   100] loss: 1.802 acc: 40.55 time: 6.93\n",
      "[10,   200] loss: 1.800 acc: 40.55 time: 7.49\n",
      "[10,   300] loss: 1.787 acc: 41.30 time: 7.56\n",
      "TESTING:\n",
      "Accuracy of the network on the 10000 test images: 41.91 %\n",
      "Average loss on the 10000 test images: 1.762\n",
      "[11,   100] loss: 1.780 acc: 40.97 time: 6.80\n",
      "[11,   200] loss: 1.761 acc: 42.80 time: 7.48\n",
      "[11,   300] loss: 1.755 acc: 42.66 time: 7.58\n",
      "TESTING:\n",
      "Accuracy of the network on the 10000 test images: 43.56 %\n",
      "Average loss on the 10000 test images: 1.720\n",
      "[12,   100] loss: 1.749 acc: 42.59 time: 6.71\n",
      "[12,   200] loss: 1.742 acc: 42.97 time: 7.36\n",
      "[12,   300] loss: 1.751 acc: 42.80 time: 7.41\n",
      "TESTING:\n",
      "Accuracy of the network on the 10000 test images: 44.18 %\n",
      "Average loss on the 10000 test images: 1.708\n",
      "[13,   100] loss: 1.726 acc: 44.16 time: 6.73\n",
      "[13,   200] loss: 1.734 acc: 43.27 time: 7.42\n",
      "[13,   300] loss: 1.746 acc: 42.48 time: 7.58\n",
      "TESTING:\n",
      "Accuracy of the network on the 10000 test images: 44.52 %\n",
      "Average loss on the 10000 test images: 1.701\n",
      "[14,   100] loss: 1.736 acc: 43.62 time: 6.81\n",
      "[14,   200] loss: 1.730 acc: 43.68 time: 7.44\n",
      "[14,   300] loss: 1.735 acc: 44.02 time: 7.66\n",
      "TESTING:\n",
      "Accuracy of the network on the 10000 test images: 44.73 %\n",
      "Average loss on the 10000 test images: 1.699\n",
      "[15,   100] loss: 1.719 acc: 44.40 time: 6.75\n",
      "[15,   200] loss: 1.733 acc: 43.72 time: 7.50\n",
      "[15,   300] loss: 1.729 acc: 43.23 time: 7.56\n",
      "TESTING:\n",
      "Accuracy of the network on the 10000 test images: 44.63 %\n",
      "Average loss on the 10000 test images: 1.698\n",
      "[16,   100] loss: 1.713 acc: 44.14 time: 6.77\n",
      "[16,   200] loss: 1.725 acc: 43.62 time: 7.40\n",
      "[16,   300] loss: 1.722 acc: 43.59 time: 7.58\n",
      "TESTING:\n",
      "Accuracy of the network on the 10000 test images: 44.95 %\n",
      "Average loss on the 10000 test images: 1.695\n",
      "[17,   100] loss: 1.719 acc: 43.77 time: 6.70\n",
      "[17,   200] loss: 1.720 acc: 44.43 time: 7.48\n",
      "[17,   300] loss: 1.713 acc: 44.30 time: 7.57\n",
      "TESTING:\n",
      "Accuracy of the network on the 10000 test images: 45.05 %\n",
      "Average loss on the 10000 test images: 1.692\n",
      "[18,   100] loss: 1.726 acc: 43.84 time: 6.76\n",
      "[18,   200] loss: 1.713 acc: 44.27 time: 7.43\n",
      "[18,   300] loss: 1.709 acc: 44.07 time: 7.56\n",
      "TESTING:\n",
      "Accuracy of the network on the 10000 test images: 45.20 %\n",
      "Average loss on the 10000 test images: 1.690\n",
      "[19,   100] loss: 1.715 acc: 44.08 time: 6.91\n",
      "[19,   200] loss: 1.721 acc: 44.18 time: 7.50\n",
      "[19,   300] loss: 1.704 acc: 45.03 time: 7.56\n",
      "TESTING:\n",
      "Accuracy of the network on the 10000 test images: 45.41 %\n",
      "Average loss on the 10000 test images: 1.687\n",
      "[20,   100] loss: 1.716 acc: 44.52 time: 6.58\n",
      "[20,   200] loss: 1.707 acc: 44.81 time: 7.23\n",
      "[20,   300] loss: 1.709 acc: 44.55 time: 7.39\n",
      "TESTING:\n",
      "Accuracy of the network on the 10000 test images: 45.18 %\n",
      "Average loss on the 10000 test images: 1.688\n",
      "Finished Training\n"
     ]
    }
   ],
   "source": [
    "train(net, criterion, optimizer, num_epochs=20, decay_epochs=10, init_lr=0.01, task='classification')"
   ]
  },
  {
   "cell_type": "markdown",
   "metadata": {
    "id": "WcN54tcNN15U"
   },
   "source": [
    "## Supervised training on the pre-trained model (9 points)\n",
    "In this section, we will load the ResNet18 model pre-trained on the rotation task and re-train the whole model on the classification task.\n",
    "\n",
    "**Then we will use the trained model from rotation task as the pretrained weights. Notice, you should not use the pretrained weights from ImageNet.**"
   ]
  },
  {
   "cell_type": "code",
   "execution_count": 22,
   "metadata": {
    "id": "9xR9h_S1N6Xi",
    "ExecuteTime": {
     "end_time": "2023-11-05T10:43:59.400540600Z",
     "start_time": "2023-11-05T10:43:59.133028100Z"
    }
   },
   "outputs": [
    {
     "name": "stdout",
     "output_type": "stream",
     "text": [
      "ResNet(\n",
      "  (conv1): Conv2d(3, 64, kernel_size=(7, 7), stride=(2, 2), padding=(3, 3), bias=False)\n",
      "  (bn1): BatchNorm2d(64, eps=1e-05, momentum=0.1, affine=True, track_running_stats=True)\n",
      "  (relu): ReLU(inplace=True)\n",
      "  (maxpool): MaxPool2d(kernel_size=3, stride=2, padding=1, dilation=1, ceil_mode=False)\n",
      "  (layer1): Sequential(\n",
      "    (0): BasicBlock(\n",
      "      (conv1): Conv2d(64, 64, kernel_size=(3, 3), stride=(1, 1), padding=(1, 1), bias=False)\n",
      "      (bn1): BatchNorm2d(64, eps=1e-05, momentum=0.1, affine=True, track_running_stats=True)\n",
      "      (relu): ReLU(inplace=True)\n",
      "      (conv2): Conv2d(64, 64, kernel_size=(3, 3), stride=(1, 1), padding=(1, 1), bias=False)\n",
      "      (bn2): BatchNorm2d(64, eps=1e-05, momentum=0.1, affine=True, track_running_stats=True)\n",
      "    )\n",
      "    (1): BasicBlock(\n",
      "      (conv1): Conv2d(64, 64, kernel_size=(3, 3), stride=(1, 1), padding=(1, 1), bias=False)\n",
      "      (bn1): BatchNorm2d(64, eps=1e-05, momentum=0.1, affine=True, track_running_stats=True)\n",
      "      (relu): ReLU(inplace=True)\n",
      "      (conv2): Conv2d(64, 64, kernel_size=(3, 3), stride=(1, 1), padding=(1, 1), bias=False)\n",
      "      (bn2): BatchNorm2d(64, eps=1e-05, momentum=0.1, affine=True, track_running_stats=True)\n",
      "    )\n",
      "  )\n",
      "  (layer2): Sequential(\n",
      "    (0): BasicBlock(\n",
      "      (conv1): Conv2d(64, 128, kernel_size=(3, 3), stride=(2, 2), padding=(1, 1), bias=False)\n",
      "      (bn1): BatchNorm2d(128, eps=1e-05, momentum=0.1, affine=True, track_running_stats=True)\n",
      "      (relu): ReLU(inplace=True)\n",
      "      (conv2): Conv2d(128, 128, kernel_size=(3, 3), stride=(1, 1), padding=(1, 1), bias=False)\n",
      "      (bn2): BatchNorm2d(128, eps=1e-05, momentum=0.1, affine=True, track_running_stats=True)\n",
      "      (downsample): Sequential(\n",
      "        (0): Conv2d(64, 128, kernel_size=(1, 1), stride=(2, 2), bias=False)\n",
      "        (1): BatchNorm2d(128, eps=1e-05, momentum=0.1, affine=True, track_running_stats=True)\n",
      "      )\n",
      "    )\n",
      "    (1): BasicBlock(\n",
      "      (conv1): Conv2d(128, 128, kernel_size=(3, 3), stride=(1, 1), padding=(1, 1), bias=False)\n",
      "      (bn1): BatchNorm2d(128, eps=1e-05, momentum=0.1, affine=True, track_running_stats=True)\n",
      "      (relu): ReLU(inplace=True)\n",
      "      (conv2): Conv2d(128, 128, kernel_size=(3, 3), stride=(1, 1), padding=(1, 1), bias=False)\n",
      "      (bn2): BatchNorm2d(128, eps=1e-05, momentum=0.1, affine=True, track_running_stats=True)\n",
      "    )\n",
      "  )\n",
      "  (layer3): Sequential(\n",
      "    (0): BasicBlock(\n",
      "      (conv1): Conv2d(128, 256, kernel_size=(3, 3), stride=(2, 2), padding=(1, 1), bias=False)\n",
      "      (bn1): BatchNorm2d(256, eps=1e-05, momentum=0.1, affine=True, track_running_stats=True)\n",
      "      (relu): ReLU(inplace=True)\n",
      "      (conv2): Conv2d(256, 256, kernel_size=(3, 3), stride=(1, 1), padding=(1, 1), bias=False)\n",
      "      (bn2): BatchNorm2d(256, eps=1e-05, momentum=0.1, affine=True, track_running_stats=True)\n",
      "      (downsample): Sequential(\n",
      "        (0): Conv2d(128, 256, kernel_size=(1, 1), stride=(2, 2), bias=False)\n",
      "        (1): BatchNorm2d(256, eps=1e-05, momentum=0.1, affine=True, track_running_stats=True)\n",
      "      )\n",
      "    )\n",
      "    (1): BasicBlock(\n",
      "      (conv1): Conv2d(256, 256, kernel_size=(3, 3), stride=(1, 1), padding=(1, 1), bias=False)\n",
      "      (bn1): BatchNorm2d(256, eps=1e-05, momentum=0.1, affine=True, track_running_stats=True)\n",
      "      (relu): ReLU(inplace=True)\n",
      "      (conv2): Conv2d(256, 256, kernel_size=(3, 3), stride=(1, 1), padding=(1, 1), bias=False)\n",
      "      (bn2): BatchNorm2d(256, eps=1e-05, momentum=0.1, affine=True, track_running_stats=True)\n",
      "    )\n",
      "  )\n",
      "  (layer4): Sequential(\n",
      "    (0): BasicBlock(\n",
      "      (conv1): Conv2d(256, 512, kernel_size=(3, 3), stride=(2, 2), padding=(1, 1), bias=False)\n",
      "      (bn1): BatchNorm2d(512, eps=1e-05, momentum=0.1, affine=True, track_running_stats=True)\n",
      "      (relu): ReLU(inplace=True)\n",
      "      (conv2): Conv2d(512, 512, kernel_size=(3, 3), stride=(1, 1), padding=(1, 1), bias=False)\n",
      "      (bn2): BatchNorm2d(512, eps=1e-05, momentum=0.1, affine=True, track_running_stats=True)\n",
      "      (downsample): Sequential(\n",
      "        (0): Conv2d(256, 512, kernel_size=(1, 1), stride=(2, 2), bias=False)\n",
      "        (1): BatchNorm2d(512, eps=1e-05, momentum=0.1, affine=True, track_running_stats=True)\n",
      "      )\n",
      "    )\n",
      "    (1): BasicBlock(\n",
      "      (conv1): Conv2d(512, 512, kernel_size=(3, 3), stride=(1, 1), padding=(1, 1), bias=False)\n",
      "      (bn1): BatchNorm2d(512, eps=1e-05, momentum=0.1, affine=True, track_running_stats=True)\n",
      "      (relu): ReLU(inplace=True)\n",
      "      (conv2): Conv2d(512, 512, kernel_size=(3, 3), stride=(1, 1), padding=(1, 1), bias=False)\n",
      "      (bn2): BatchNorm2d(512, eps=1e-05, momentum=0.1, affine=True, track_running_stats=True)\n",
      "    )\n",
      "  )\n",
      "  (avgpool): AdaptiveAvgPool2d(output_size=(1, 1))\n",
      "  (fc): Linear(in_features=512, out_features=10, bias=True)\n",
      ")\n"
     ]
    }
   ],
   "source": [
    "import torch.nn as nn\n",
    "import torch.nn.functional as F\n",
    "\n",
    "from torchvision.models import resnet18\n",
    "\n",
    "#####################################################\n",
    "#     TODO: Load the pre-trained ResNet18 model     #  \n",
    "#####################################################\n",
    "# load the trained classifier weights\n",
    "net = resnet18(weights=None, num_classes=4)\n",
    "ckpt = torch.load('model_2023-11-02-23-22-09.pth')\n",
    "net.load_state_dict(ckpt)\n",
    "\n",
    "# Adjusting the fully connected layer for 10 classes\n",
    "net.fc = nn.Linear(net.fc.in_features, 10)\n",
    "net = net.to(device)\n",
    "print(net) # print your model and check the num_classes is correct\n",
    "#####################################################\n",
    "#                End of your code                   #   \n",
    "#####################################################"
   ]
  },
  {
   "cell_type": "code",
   "execution_count": 23,
   "metadata": {
    "id": "gGozc2cM0ADw",
    "ExecuteTime": {
     "end_time": "2023-11-05T10:43:59.405565800Z",
     "start_time": "2023-11-05T10:43:59.400540600Z"
    }
   },
   "outputs": [
    {
     "data": {
      "text/plain": "CrossEntropyLoss()"
     },
     "execution_count": 23,
     "metadata": {},
     "output_type": "execute_result"
    }
   ],
   "source": [
    "# TODO: Define criterion and optimizer\n",
    "criterion = nn.CrossEntropyLoss(label_smoothing=0.1)\n",
    "\n",
    "# Optimizer: Update only the parameters of layer4 and fc\n",
    "optimizer = optim.Adam(lr=0.001, params=net.parameters())\n",
    "\n",
    "criterion.to(device)"
   ]
  },
  {
   "cell_type": "code",
   "execution_count": 24,
   "metadata": {
    "id": "JGWW7gzCz_Bu",
    "ExecuteTime": {
     "end_time": "2023-11-05T10:54:53.903062Z",
     "start_time": "2023-11-05T10:43:59.406557600Z"
    }
   },
   "outputs": [
    {
     "name": "stdout",
     "output_type": "stream",
     "text": [
      "[1,   100] loss: 1.654 acc: 45.31 time: 7.22\n",
      "[1,   200] loss: 1.385 acc: 60.48 time: 7.52\n",
      "[1,   300] loss: 1.303 acc: 63.76 time: 7.40\n",
      "TESTING:\n",
      "Accuracy of the network on the 10000 test images: 66.45 %\n",
      "Average loss on the 10000 test images: 1.259\n",
      "[2,   100] loss: 1.220 acc: 67.86 time: 6.97\n",
      "[2,   200] loss: 1.184 acc: 69.91 time: 7.37\n",
      "[2,   300] loss: 1.174 acc: 69.82 time: 7.43\n",
      "TESTING:\n",
      "Accuracy of the network on the 10000 test images: 71.50 %\n",
      "Average loss on the 10000 test images: 1.152\n",
      "[3,   100] loss: 1.115 acc: 72.78 time: 7.13\n",
      "[3,   200] loss: 1.103 acc: 73.30 time: 7.47\n",
      "[3,   300] loss: 1.099 acc: 73.53 time: 7.53\n",
      "TESTING:\n",
      "Accuracy of the network on the 10000 test images: 74.93 %\n",
      "Average loss on the 10000 test images: 1.073\n",
      "[4,   100] loss: 1.061 acc: 74.88 time: 7.07\n",
      "[4,   200] loss: 1.036 acc: 76.88 time: 7.41\n",
      "[4,   300] loss: 1.056 acc: 75.31 time: 7.43\n",
      "TESTING:\n",
      "Accuracy of the network on the 10000 test images: 75.81 %\n",
      "Average loss on the 10000 test images: 1.050\n",
      "[5,   100] loss: 1.018 acc: 77.01 time: 7.30\n",
      "[5,   200] loss: 1.014 acc: 77.60 time: 7.41\n",
      "[5,   300] loss: 1.009 acc: 77.68 time: 7.39\n",
      "TESTING:\n",
      "Accuracy of the network on the 10000 test images: 75.40 %\n",
      "Average loss on the 10000 test images: 1.093\n",
      "[6,   100] loss: 0.999 acc: 78.44 time: 7.24\n",
      "[6,   200] loss: 0.991 acc: 78.22 time: 7.71\n",
      "[6,   300] loss: 0.982 acc: 78.62 time: 7.43\n",
      "TESTING:\n",
      "Accuracy of the network on the 10000 test images: 77.35 %\n",
      "Average loss on the 10000 test images: 1.029\n",
      "[7,   100] loss: 0.970 acc: 79.24 time: 6.89\n",
      "[7,   200] loss: 0.950 acc: 80.32 time: 7.37\n",
      "[7,   300] loss: 0.959 acc: 80.05 time: 7.43\n",
      "TESTING:\n",
      "Accuracy of the network on the 10000 test images: 79.53 %\n",
      "Average loss on the 10000 test images: 0.977\n",
      "[8,   100] loss: 0.939 acc: 80.77 time: 7.22\n",
      "[8,   200] loss: 0.949 acc: 80.33 time: 7.43\n",
      "[8,   300] loss: 0.941 acc: 80.60 time: 7.42\n",
      "TESTING:\n",
      "Accuracy of the network on the 10000 test images: 78.81 %\n",
      "Average loss on the 10000 test images: 0.978\n",
      "[9,   100] loss: 0.921 acc: 81.83 time: 7.02\n",
      "[9,   200] loss: 0.929 acc: 81.27 time: 7.42\n",
      "[9,   300] loss: 0.926 acc: 80.97 time: 7.44\n",
      "TESTING:\n",
      "Accuracy of the network on the 10000 test images: 80.25 %\n",
      "Average loss on the 10000 test images: 0.952\n",
      "[10,   100] loss: 0.897 acc: 82.62 time: 7.02\n",
      "[10,   200] loss: 0.910 acc: 82.29 time: 7.52\n",
      "[10,   300] loss: 0.918 acc: 81.82 time: 7.41\n",
      "TESTING:\n",
      "Accuracy of the network on the 10000 test images: 78.80 %\n",
      "Average loss on the 10000 test images: 0.990\n",
      "[11,   100] loss: 0.867 acc: 83.83 time: 6.99\n",
      "[11,   200] loss: 0.843 acc: 84.74 time: 7.38\n",
      "[11,   300] loss: 0.824 acc: 85.61 time: 7.44\n",
      "TESTING:\n",
      "Accuracy of the network on the 10000 test images: 82.90 %\n",
      "Average loss on the 10000 test images: 0.886\n",
      "[12,   100] loss: 0.818 acc: 85.87 time: 7.08\n",
      "[12,   200] loss: 0.823 acc: 85.91 time: 7.38\n",
      "[12,   300] loss: 0.809 acc: 86.55 time: 7.50\n",
      "TESTING:\n",
      "Accuracy of the network on the 10000 test images: 83.32 %\n",
      "Average loss on the 10000 test images: 0.879\n",
      "[13,   100] loss: 0.802 acc: 86.68 time: 7.15\n",
      "[13,   200] loss: 0.809 acc: 86.38 time: 7.42\n",
      "[13,   300] loss: 0.806 acc: 86.41 time: 7.43\n",
      "TESTING:\n",
      "Accuracy of the network on the 10000 test images: 83.33 %\n",
      "Average loss on the 10000 test images: 0.875\n",
      "[14,   100] loss: 0.786 acc: 87.25 time: 7.02\n",
      "[14,   200] loss: 0.798 acc: 86.84 time: 7.42\n",
      "[14,   300] loss: 0.794 acc: 86.92 time: 7.40\n",
      "TESTING:\n",
      "Accuracy of the network on the 10000 test images: 83.62 %\n",
      "Average loss on the 10000 test images: 0.873\n",
      "[15,   100] loss: 0.786 acc: 87.10 time: 7.30\n",
      "[15,   200] loss: 0.788 acc: 87.40 time: 7.40\n",
      "[15,   300] loss: 0.787 acc: 87.50 time: 7.45\n",
      "TESTING:\n",
      "Accuracy of the network on the 10000 test images: 83.60 %\n",
      "Average loss on the 10000 test images: 0.871\n",
      "[16,   100] loss: 0.785 acc: 87.31 time: 7.24\n",
      "[16,   200] loss: 0.784 acc: 87.60 time: 7.42\n",
      "[16,   300] loss: 0.784 acc: 87.48 time: 7.43\n",
      "TESTING:\n",
      "Accuracy of the network on the 10000 test images: 83.99 %\n",
      "Average loss on the 10000 test images: 0.871\n",
      "[17,   100] loss: 0.781 acc: 87.65 time: 7.14\n",
      "[17,   200] loss: 0.782 acc: 87.60 time: 7.44\n",
      "[17,   300] loss: 0.777 acc: 87.50 time: 7.44\n",
      "TESTING:\n",
      "Accuracy of the network on the 10000 test images: 83.78 %\n",
      "Average loss on the 10000 test images: 0.871\n",
      "[18,   100] loss: 0.768 acc: 88.23 time: 7.34\n",
      "[18,   200] loss: 0.777 acc: 87.88 time: 7.53\n",
      "[18,   300] loss: 0.786 acc: 87.36 time: 7.40\n",
      "TESTING:\n",
      "Accuracy of the network on the 10000 test images: 84.00 %\n",
      "Average loss on the 10000 test images: 0.869\n",
      "[19,   100] loss: 0.770 acc: 88.26 time: 7.18\n",
      "[19,   200] loss: 0.780 acc: 87.74 time: 7.55\n",
      "[19,   300] loss: 0.768 acc: 88.41 time: 7.41\n",
      "TESTING:\n",
      "Accuracy of the network on the 10000 test images: 84.40 %\n",
      "Average loss on the 10000 test images: 0.868\n",
      "[20,   100] loss: 0.762 acc: 88.37 time: 6.99\n",
      "[20,   200] loss: 0.756 acc: 88.73 time: 7.42\n",
      "[20,   300] loss: 0.768 acc: 88.14 time: 7.44\n",
      "TESTING:\n",
      "Accuracy of the network on the 10000 test images: 84.01 %\n",
      "Average loss on the 10000 test images: 0.869\n",
      "Finished Training\n"
     ]
    }
   ],
   "source": [
    "train(net, criterion, optimizer, num_epochs=20, decay_epochs=10, init_lr=0.01, task='classification')"
   ]
  },
  {
   "cell_type": "markdown",
   "metadata": {
    "id": "xjVTp9jhefTi"
   },
   "source": [
    "## Supervised training on the randomly initialized model (9 points)\n",
    "In this section, we will randomly initialize a ResNet18 model and re-train the whole model on the classification task."
   ]
  },
  {
   "cell_type": "code",
   "execution_count": 25,
   "metadata": {
    "id": "uEjy8TBieeLK",
    "ExecuteTime": {
     "end_time": "2023-11-05T10:54:54.042791Z",
     "start_time": "2023-11-05T10:54:53.902646800Z"
    }
   },
   "outputs": [
    {
     "name": "stdout",
     "output_type": "stream",
     "text": [
      "ResNet(\n",
      "  (conv1): Conv2d(3, 64, kernel_size=(7, 7), stride=(2, 2), padding=(3, 3), bias=False)\n",
      "  (bn1): BatchNorm2d(64, eps=1e-05, momentum=0.1, affine=True, track_running_stats=True)\n",
      "  (relu): ReLU(inplace=True)\n",
      "  (maxpool): MaxPool2d(kernel_size=3, stride=2, padding=1, dilation=1, ceil_mode=False)\n",
      "  (layer1): Sequential(\n",
      "    (0): BasicBlock(\n",
      "      (conv1): Conv2d(64, 64, kernel_size=(3, 3), stride=(1, 1), padding=(1, 1), bias=False)\n",
      "      (bn1): BatchNorm2d(64, eps=1e-05, momentum=0.1, affine=True, track_running_stats=True)\n",
      "      (relu): ReLU(inplace=True)\n",
      "      (conv2): Conv2d(64, 64, kernel_size=(3, 3), stride=(1, 1), padding=(1, 1), bias=False)\n",
      "      (bn2): BatchNorm2d(64, eps=1e-05, momentum=0.1, affine=True, track_running_stats=True)\n",
      "    )\n",
      "    (1): BasicBlock(\n",
      "      (conv1): Conv2d(64, 64, kernel_size=(3, 3), stride=(1, 1), padding=(1, 1), bias=False)\n",
      "      (bn1): BatchNorm2d(64, eps=1e-05, momentum=0.1, affine=True, track_running_stats=True)\n",
      "      (relu): ReLU(inplace=True)\n",
      "      (conv2): Conv2d(64, 64, kernel_size=(3, 3), stride=(1, 1), padding=(1, 1), bias=False)\n",
      "      (bn2): BatchNorm2d(64, eps=1e-05, momentum=0.1, affine=True, track_running_stats=True)\n",
      "    )\n",
      "  )\n",
      "  (layer2): Sequential(\n",
      "    (0): BasicBlock(\n",
      "      (conv1): Conv2d(64, 128, kernel_size=(3, 3), stride=(2, 2), padding=(1, 1), bias=False)\n",
      "      (bn1): BatchNorm2d(128, eps=1e-05, momentum=0.1, affine=True, track_running_stats=True)\n",
      "      (relu): ReLU(inplace=True)\n",
      "      (conv2): Conv2d(128, 128, kernel_size=(3, 3), stride=(1, 1), padding=(1, 1), bias=False)\n",
      "      (bn2): BatchNorm2d(128, eps=1e-05, momentum=0.1, affine=True, track_running_stats=True)\n",
      "      (downsample): Sequential(\n",
      "        (0): Conv2d(64, 128, kernel_size=(1, 1), stride=(2, 2), bias=False)\n",
      "        (1): BatchNorm2d(128, eps=1e-05, momentum=0.1, affine=True, track_running_stats=True)\n",
      "      )\n",
      "    )\n",
      "    (1): BasicBlock(\n",
      "      (conv1): Conv2d(128, 128, kernel_size=(3, 3), stride=(1, 1), padding=(1, 1), bias=False)\n",
      "      (bn1): BatchNorm2d(128, eps=1e-05, momentum=0.1, affine=True, track_running_stats=True)\n",
      "      (relu): ReLU(inplace=True)\n",
      "      (conv2): Conv2d(128, 128, kernel_size=(3, 3), stride=(1, 1), padding=(1, 1), bias=False)\n",
      "      (bn2): BatchNorm2d(128, eps=1e-05, momentum=0.1, affine=True, track_running_stats=True)\n",
      "    )\n",
      "  )\n",
      "  (layer3): Sequential(\n",
      "    (0): BasicBlock(\n",
      "      (conv1): Conv2d(128, 256, kernel_size=(3, 3), stride=(2, 2), padding=(1, 1), bias=False)\n",
      "      (bn1): BatchNorm2d(256, eps=1e-05, momentum=0.1, affine=True, track_running_stats=True)\n",
      "      (relu): ReLU(inplace=True)\n",
      "      (conv2): Conv2d(256, 256, kernel_size=(3, 3), stride=(1, 1), padding=(1, 1), bias=False)\n",
      "      (bn2): BatchNorm2d(256, eps=1e-05, momentum=0.1, affine=True, track_running_stats=True)\n",
      "      (downsample): Sequential(\n",
      "        (0): Conv2d(128, 256, kernel_size=(1, 1), stride=(2, 2), bias=False)\n",
      "        (1): BatchNorm2d(256, eps=1e-05, momentum=0.1, affine=True, track_running_stats=True)\n",
      "      )\n",
      "    )\n",
      "    (1): BasicBlock(\n",
      "      (conv1): Conv2d(256, 256, kernel_size=(3, 3), stride=(1, 1), padding=(1, 1), bias=False)\n",
      "      (bn1): BatchNorm2d(256, eps=1e-05, momentum=0.1, affine=True, track_running_stats=True)\n",
      "      (relu): ReLU(inplace=True)\n",
      "      (conv2): Conv2d(256, 256, kernel_size=(3, 3), stride=(1, 1), padding=(1, 1), bias=False)\n",
      "      (bn2): BatchNorm2d(256, eps=1e-05, momentum=0.1, affine=True, track_running_stats=True)\n",
      "    )\n",
      "  )\n",
      "  (layer4): Sequential(\n",
      "    (0): BasicBlock(\n",
      "      (conv1): Conv2d(256, 512, kernel_size=(3, 3), stride=(2, 2), padding=(1, 1), bias=False)\n",
      "      (bn1): BatchNorm2d(512, eps=1e-05, momentum=0.1, affine=True, track_running_stats=True)\n",
      "      (relu): ReLU(inplace=True)\n",
      "      (conv2): Conv2d(512, 512, kernel_size=(3, 3), stride=(1, 1), padding=(1, 1), bias=False)\n",
      "      (bn2): BatchNorm2d(512, eps=1e-05, momentum=0.1, affine=True, track_running_stats=True)\n",
      "      (downsample): Sequential(\n",
      "        (0): Conv2d(256, 512, kernel_size=(1, 1), stride=(2, 2), bias=False)\n",
      "        (1): BatchNorm2d(512, eps=1e-05, momentum=0.1, affine=True, track_running_stats=True)\n",
      "      )\n",
      "    )\n",
      "    (1): BasicBlock(\n",
      "      (conv1): Conv2d(512, 512, kernel_size=(3, 3), stride=(1, 1), padding=(1, 1), bias=False)\n",
      "      (bn1): BatchNorm2d(512, eps=1e-05, momentum=0.1, affine=True, track_running_stats=True)\n",
      "      (relu): ReLU(inplace=True)\n",
      "      (conv2): Conv2d(512, 512, kernel_size=(3, 3), stride=(1, 1), padding=(1, 1), bias=False)\n",
      "      (bn2): BatchNorm2d(512, eps=1e-05, momentum=0.1, affine=True, track_running_stats=True)\n",
      "    )\n",
      "  )\n",
      "  (avgpool): AdaptiveAvgPool2d(output_size=(1, 1))\n",
      "  (fc): Linear(in_features=512, out_features=10, bias=True)\n",
      ")\n"
     ]
    }
   ],
   "source": [
    "import torch.nn as nn\n",
    "import torch.nn.functional as F\n",
    "\n",
    "from torchvision.models import resnet18\n",
    "\n",
    "#################################################\n",
    "# TODO: Randomly initialize a ResNet18 model    #\n",
    "#################################################\n",
    "net = resnet18(weights=None, num_classes=10)\n",
    "net = net.to(device)\n",
    "print(net) # print your model and check the num_classes is correct\n",
    "#################################################\n",
    "#              End of your code                 #\n",
    "#################################################"
   ]
  },
  {
   "cell_type": "code",
   "execution_count": 26,
   "metadata": {
    "id": "jEY90pK_0ZAm",
    "ExecuteTime": {
     "end_time": "2023-11-05T10:54:54.048024100Z",
     "start_time": "2023-11-05T10:54:54.043791100Z"
    }
   },
   "outputs": [
    {
     "data": {
      "text/plain": "CrossEntropyLoss()"
     },
     "execution_count": 26,
     "metadata": {},
     "output_type": "execute_result"
    }
   ],
   "source": [
    "# TODO: Define criterion and optimizer\n",
    "criterion = nn.CrossEntropyLoss(label_smoothing=0.1)\n",
    "\n",
    "# Optimizer: Update only the parameters of layer4 and fc\n",
    "optimizer = optim.Adam(lr=0.001, params=net.parameters())\n",
    "\n",
    "criterion.to(device)"
   ]
  },
  {
   "cell_type": "code",
   "execution_count": 27,
   "metadata": {
    "id": "lMDwelhY0auO",
    "ExecuteTime": {
     "end_time": "2023-11-05T11:05:59.789229100Z",
     "start_time": "2023-11-05T10:54:54.049025Z"
    }
   },
   "outputs": [
    {
     "name": "stdout",
     "output_type": "stream",
     "text": [
      "[1,   100] loss: 2.279 acc: 23.41 time: 7.28\n",
      "[1,   200] loss: 1.926 acc: 34.48 time: 7.56\n",
      "[1,   300] loss: 1.802 acc: 39.67 time: 7.42\n",
      "TESTING:\n",
      "Accuracy of the network on the 10000 test images: 46.79 %\n",
      "Average loss on the 10000 test images: 1.657\n",
      "[2,   100] loss: 1.657 acc: 46.05 time: 7.21\n",
      "[2,   200] loss: 1.618 acc: 48.73 time: 7.45\n",
      "[2,   300] loss: 1.559 acc: 51.73 time: 7.45\n",
      "TESTING:\n",
      "Accuracy of the network on the 10000 test images: 56.04 %\n",
      "Average loss on the 10000 test images: 1.464\n",
      "[3,   100] loss: 1.441 acc: 57.27 time: 7.24\n",
      "[3,   200] loss: 1.408 acc: 58.66 time: 7.42\n",
      "[3,   300] loss: 1.371 acc: 60.68 time: 7.41\n",
      "TESTING:\n",
      "Accuracy of the network on the 10000 test images: 59.50 %\n",
      "Average loss on the 10000 test images: 1.420\n",
      "[4,   100] loss: 1.303 acc: 63.56 time: 7.22\n",
      "[4,   200] loss: 1.285 acc: 64.72 time: 7.45\n",
      "[4,   300] loss: 1.290 acc: 64.44 time: 7.43\n",
      "TESTING:\n",
      "Accuracy of the network on the 10000 test images: 69.16 %\n",
      "Average loss on the 10000 test images: 1.188\n",
      "[5,   100] loss: 1.225 acc: 67.01 time: 7.15\n",
      "[5,   200] loss: 1.215 acc: 67.70 time: 7.40\n",
      "[5,   300] loss: 1.203 acc: 68.19 time: 7.42\n",
      "TESTING:\n",
      "Accuracy of the network on the 10000 test images: 69.70 %\n",
      "Average loss on the 10000 test images: 1.169\n",
      "[6,   100] loss: 1.160 acc: 70.73 time: 7.24\n",
      "[6,   200] loss: 1.141 acc: 71.52 time: 7.42\n",
      "[6,   300] loss: 1.149 acc: 71.20 time: 7.41\n",
      "TESTING:\n",
      "Accuracy of the network on the 10000 test images: 71.83 %\n",
      "Average loss on the 10000 test images: 1.141\n",
      "[7,   100] loss: 1.127 acc: 72.51 time: 7.31\n",
      "[7,   200] loss: 1.105 acc: 72.95 time: 7.61\n",
      "[7,   300] loss: 1.100 acc: 73.11 time: 7.62\n",
      "TESTING:\n",
      "Accuracy of the network on the 10000 test images: 73.71 %\n",
      "Average loss on the 10000 test images: 1.096\n",
      "[8,   100] loss: 1.063 acc: 74.60 time: 7.54\n",
      "[8,   200] loss: 1.078 acc: 74.24 time: 7.58\n",
      "[8,   300] loss: 1.083 acc: 74.03 time: 7.59\n",
      "TESTING:\n",
      "Accuracy of the network on the 10000 test images: 70.94 %\n",
      "Average loss on the 10000 test images: 1.164\n",
      "[9,   100] loss: 1.054 acc: 75.57 time: 7.50\n",
      "[9,   200] loss: 1.053 acc: 75.84 time: 7.60\n",
      "[9,   300] loss: 1.037 acc: 76.56 time: 7.61\n",
      "TESTING:\n",
      "Accuracy of the network on the 10000 test images: 73.78 %\n",
      "Average loss on the 10000 test images: 1.083\n",
      "[10,   100] loss: 1.015 acc: 77.30 time: 7.45\n",
      "[10,   200] loss: 1.023 acc: 76.73 time: 7.63\n",
      "[10,   300] loss: 1.013 acc: 77.48 time: 7.69\n",
      "TESTING:\n",
      "Accuracy of the network on the 10000 test images: 74.53 %\n",
      "Average loss on the 10000 test images: 1.075\n",
      "[11,   100] loss: 0.961 acc: 79.02 time: 7.12\n",
      "[11,   200] loss: 0.917 acc: 81.23 time: 7.41\n",
      "[11,   300] loss: 0.915 acc: 81.72 time: 7.49\n",
      "TESTING:\n",
      "Accuracy of the network on the 10000 test images: 81.13 %\n",
      "Average loss on the 10000 test images: 0.926\n",
      "[12,   100] loss: 0.893 acc: 82.27 time: 7.28\n",
      "[12,   200] loss: 0.895 acc: 82.38 time: 7.53\n",
      "[12,   300] loss: 0.889 acc: 82.80 time: 7.58\n",
      "TESTING:\n",
      "Accuracy of the network on the 10000 test images: 81.45 %\n",
      "Average loss on the 10000 test images: 0.923\n",
      "[13,   100] loss: 0.887 acc: 82.98 time: 7.44\n",
      "[13,   200] loss: 0.873 acc: 83.23 time: 7.59\n",
      "[13,   300] loss: 0.871 acc: 83.56 time: 7.67\n",
      "TESTING:\n",
      "Accuracy of the network on the 10000 test images: 81.85 %\n",
      "Average loss on the 10000 test images: 0.913\n",
      "[14,   100] loss: 0.860 acc: 84.00 time: 7.29\n",
      "[14,   200] loss: 0.857 acc: 84.05 time: 7.61\n",
      "[14,   300] loss: 0.886 acc: 82.98 time: 7.54\n",
      "TESTING:\n",
      "Accuracy of the network on the 10000 test images: 81.84 %\n",
      "Average loss on the 10000 test images: 0.909\n",
      "[15,   100] loss: 0.851 acc: 84.61 time: 7.28\n",
      "[15,   200] loss: 0.850 acc: 84.63 time: 7.59\n",
      "[15,   300] loss: 0.859 acc: 84.07 time: 7.61\n",
      "TESTING:\n",
      "Accuracy of the network on the 10000 test images: 81.93 %\n",
      "Average loss on the 10000 test images: 0.907\n",
      "[16,   100] loss: 0.862 acc: 83.92 time: 7.13\n",
      "[16,   200] loss: 0.837 acc: 84.87 time: 7.54\n",
      "[16,   300] loss: 0.853 acc: 84.54 time: 7.59\n",
      "TESTING:\n",
      "Accuracy of the network on the 10000 test images: 81.75 %\n",
      "Average loss on the 10000 test images: 0.904\n",
      "[17,   100] loss: 0.842 acc: 85.03 time: 7.28\n",
      "[17,   200] loss: 0.842 acc: 84.63 time: 7.56\n",
      "[17,   300] loss: 0.836 acc: 84.95 time: 7.61\n",
      "TESTING:\n",
      "Accuracy of the network on the 10000 test images: 82.46 %\n",
      "Average loss on the 10000 test images: 0.899\n",
      "[18,   100] loss: 0.831 acc: 85.48 time: 7.58\n",
      "[18,   200] loss: 0.829 acc: 85.35 time: 7.56\n",
      "[18,   300] loss: 0.832 acc: 85.23 time: 7.55\n",
      "TESTING:\n",
      "Accuracy of the network on the 10000 test images: 82.41 %\n",
      "Average loss on the 10000 test images: 0.897\n",
      "[19,   100] loss: 0.825 acc: 85.76 time: 7.39\n",
      "[19,   200] loss: 0.823 acc: 85.77 time: 7.66\n",
      "[19,   300] loss: 0.827 acc: 85.70 time: 7.57\n",
      "TESTING:\n",
      "Accuracy of the network on the 10000 test images: 82.20 %\n",
      "Average loss on the 10000 test images: 0.897\n",
      "[20,   100] loss: 0.816 acc: 86.10 time: 7.11\n",
      "[20,   200] loss: 0.812 acc: 86.27 time: 7.52\n",
      "[20,   300] loss: 0.834 acc: 85.05 time: 7.59\n",
      "TESTING:\n",
      "Accuracy of the network on the 10000 test images: 82.69 %\n",
      "Average loss on the 10000 test images: 0.893\n",
      "Finished Training\n"
     ]
    }
   ],
   "source": [
    "train(net, criterion, optimizer, num_epochs=20, decay_epochs=10, init_lr=0.01, task='classification')"
   ]
  },
  {
   "cell_type": "markdown",
   "metadata": {},
   "source": [
    "# Write report (37 points)\n",
    "\n",
    "本次作業主要有3個tasks需要大家完成，在A4.pdf中有希望大家達成的baseline **(不能低於baseline最多2%，沒有達到不會給全部分數)**，report的撰寫請大家根據以下要求完成，就請大家將嘗試的結果寫在report裡，祝大家順利！\n",
    "\n",
    "1. (13 points) Train a ResNet18 on the Rotation task and report the test performance. Discuss why such a task helps in learning features that are generalizable to other visual tasks.\n",
    "\n",
    "2. (12 points) Initializing from the Rotation model or from random weights, fine-tune only the weights of the final block of convolutional layers and linear layer on the supervised CIFAR10 classification task. Report the test results and compare the performance of these two models. Provide your observations and insights. You can also discuss how the performance of pre-trained models affects downstream tasks, the performance of fine-tuning different numbers of layers, and so on.\n",
    "\n",
    "3. (12 points) Initializing from the Rotation model or from random weights, train the full network on the supervised CIFAR10 classification task. Report the test results and compare the performance of these two models. Provide your observations and insights."
   ]
  },
  {
   "cell_type": "markdown",
   "metadata": {},
   "source": [
    "# Extra Credit (13 points)\n",
    "\n",
    "上面基本的code跟report最高可以拿到87分，這個加分部分並沒有要求同學們一定要做，若同學們想要獲得更高的分數可以根據以下的加分要求來獲得加分。\n",
    "\n",
    "- In Figure 5(b) from the Gidaris et al. paper, the authors show a plot of CIFAR10 classification performance vs. number of training examples per category for a supervised CIFAR10 model vs. a RotNet model with the final layers fine-tuned on CIFAR10. The plot shows that pre-training on the Rotation task can be advantageous when only a small amount of labeled data is available. Using your RotNet fine-tuning code and supervised CIFAR10 training code from the main assignment, try to create a similar plot by performing supervised fine-tuning/training on only a subset of CIFAR10.\n",
    "- Use a more advanced model than ResNet18 to try to get higher accuracy on the rotation prediction task, as well as for transfer to supervised CIFAR10 classification.\n",
    "  \n",
    "- If you have a good amount of compute at your disposal, try to train a rotation prediction model on the larger ImageNette dataset (still smaller than ImageNet, though).\n"
   ]
  },
  {
   "cell_type": "markdown",
   "metadata": {},
   "source": [
    "# Defining a balanced subset of the training set (Extra Credit)"
   ]
  },
  {
   "cell_type": "code",
   "execution_count": 51,
   "outputs": [],
   "source": [
    "from torch.utils.data import Subset\n",
    "import numpy as np\n",
    "\n",
    "def create_balanced_subset(dataset, num_samples_per_class):\n",
    "    \"\"\"\n",
    "    Create a balanced subset of the dataset with a specific number of samples per class.\n",
    "\n",
    "    :param dataset: The dataset from which to create the subset.\n",
    "    :param num_samples_per_class: The number of samples to include from each class.\n",
    "    :return: A Subset of the original dataset.\n",
    "    \"\"\"\n",
    "    class_counts = {i: 0 for i in range(10)}  # Assuming CIFAR10 has 10 classes\n",
    "    class_indices = {i: [] for i in range(10)}\n",
    "\n",
    "    # Iterate over the dataset to collect class indices\n",
    "    for idx in range(len(dataset)):\n",
    "        _, _, _, cls_label = dataset[idx]\n",
    "        cls_label = cls_label.item()  # Convert tensor to integer\n",
    "        if class_counts[cls_label] < num_samples_per_class:\n",
    "            class_counts[cls_label] += 1\n",
    "            class_indices[cls_label].append(idx)\n",
    "        if all(count == num_samples_per_class for count in class_counts.values()):\n",
    "            break  # Early exit if we've collected enough samples for each class\n",
    "\n",
    "    # Flatten the list of indices\n",
    "    subset_indices = [idx for indices in class_indices.values() for idx in indices]\n",
    "\n",
    "    return Subset(dataset, subset_indices)\n",
    "\n",
    "\n",
    "# Create a balanced subset of the training set with 20 samples per class\n",
    "balanced_trainset_20 = create_balanced_subset(trainset,\n",
    "                                            num_samples_per_class=20)\n",
    "balanced_trainloader_20 = torch.utils.data.DataLoader(balanced_trainset_20,\n",
    "                                                    batch_size=batch_size,\n",
    "                                                    shuffle=True,\n",
    "                                                    num_workers=0)"
   ],
   "metadata": {
    "collapsed": false,
    "ExecuteTime": {
     "end_time": "2023-11-08T08:13:22.417298500Z",
     "start_time": "2023-11-08T08:13:22.318623800Z"
    }
   }
  },
  {
   "cell_type": "code",
   "execution_count": 64,
   "outputs": [
    {
     "name": "stderr",
     "output_type": "stream",
     "text": [
      "Clipping input data to the valid range for imshow with RGB data ([0..1] for floats or [0..255] for integers).\n",
      "Clipping input data to the valid range for imshow with RGB data ([0..1] for floats or [0..255] for integers).\n"
     ]
    },
    {
     "name": "stdout",
     "output_type": "stream",
     "text": [
      "Labels counts: {0: 10, 1: 10, 2: 16, 3: 16, 4: 14, 5: 14, 6: 15, 7: 11, 8: 12, 9: 10}\n",
      "Labels counts: {0: 10, 1: 10, 2: 4, 3: 4, 4: 6, 5: 6, 6: 5, 7: 9, 8: 8, 9: 10}\n"
     ]
    },
    {
     "data": {
      "text/plain": "<Figure size 640x480 with 1 Axes>",
      "image/png": "[encoded data removed]"
     },
     "metadata": {},
     "output_type": "display_data"
    }
   ],
   "source": [
    "import numpy as np\n",
    "import torch\n",
    "import torchvision.transforms as transforms\n",
    "import matplotlib.pyplot as plt\n",
    "import torchvision\n",
    "\n",
    "def imshow(img):\n",
    "    # Unnormalize\n",
    "    img = transforms.Normalize((0, 0, 0), (1/0.2023, 1/0.1994, 1/0.2010))(img)\n",
    "    img = transforms.Normalize((-0.4914, -0.4822, -0.4465), (1, 1, 1))(img)\n",
    "    npimg = img.numpy()\n",
    "    plt.imshow(np.transpose(npimg, (1, 2, 0)))\n",
    "\n",
    "def show_images_and_labels(data_loader):\n",
    "    # Loop over the entire data_loader\n",
    "    for images, _, _, labels in data_loader:\n",
    "        # Print images\n",
    "        img_grid = torchvision.utils.make_grid(images, padding=0)\n",
    "        imshow(img_grid)\n",
    "\n",
    "        # Print labels\n",
    "        labels_np = labels.cpu().numpy()  # Convert to numpy array after moving to cpu\n",
    "        unique_labels, counts = np.unique(labels_np, return_counts=True)\n",
    "        print('Labels counts:', dict(zip(unique_labels, counts)))\n",
    "\n",
    "show_images_and_labels(balanced_trainloader_20)"
   ],
   "metadata": {
    "collapsed": false,
    "ExecuteTime": {
     "end_time": "2023-11-08T08:23:56.894780700Z",
     "start_time": "2023-11-08T08:23:56.514720700Z"
    }
   }
  },
  {
   "cell_type": "code",
   "execution_count": null,
   "outputs": [],
   "source": [],
   "metadata": {
    "collapsed": false,
    "ExecuteTime": {
     "start_time": "2023-11-08T08:12:49.103292300Z"
    }
   }
  }
 ],
 "metadata": {
  "accelerator": "GPU",
  "colab": {
   "provenance": [
    {
     "file_id": "1qQ3NEaCUln7yDSksrEOnDwrt3u9dYNr4",
     "timestamp": 1677623843954
    }
   ]
  },
  "gpuClass": "standard",
  "kernelspec": {
   "display_name": "Python 3.8.13",
   "language": "python",
   "name": "python3"
  },
  "language_info": {
   "codemirror_mode": {
    "name": "ipython",
    "version": 3
   },
   "file_extension": ".py",
   "mimetype": "text/x-python",
   "name": "python",
   "nbconvert_exporter": "python",
   "pygments_lexer": "ipython3",
   "version": "3.8.13"
  },
  "vscode": {
   "interpreter": {
    "hash": "aaa478f9632825e83f6a2247407c7a2930de96a6810af7910643e423346524f9"
   }
  }
 },
 "nbformat": 4,
 "nbformat_minor": 0
}
