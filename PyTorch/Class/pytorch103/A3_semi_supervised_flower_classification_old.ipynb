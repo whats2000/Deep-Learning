{
 "cells": [
  {
   "cell_type": "markdown",
   "metadata": {},
   "source": [
    "# MIS 583 Assignment 3: Semi-supervised Flower Classfication"
   ]
  },
  {
   "cell_type": "markdown",
   "metadata": {},
   "source": [
    "Before we start, please put your name and SID in following format: <br>\n",
    ": LASTNAME Firstname, ?00000000   //   e.g.) 李晨愷 M114020035"
   ]
  },
  {
   "cell_type": "markdown",
   "metadata": {},
   "source": [
    "**Your Answer:**    \n",
    "Hi I'm 鄔仁迪, B104020009."
   ]
  },
  {
   "cell_type": "markdown",
   "metadata": {},
   "source": [
    "## Semi-supervised Flower Classfication\n",
    "\n",
    "In this approach, you have a dataset that includes both labeled and unlabeled examples.\n",
    "\n",
    "The goal is to use the labeled data to train the model while also leveraging the unlabeled\n",
    "data to improve the model's performance.\n",
    "\n",
    "In this assignment, you’ll explore a self-training mechanism for this task.\n",
    "\n",
    "\n",
    "**Please note that you’re not allowed to use pre-constructed models or pre-trained weights.**"
   ]
  },
  {
   "cell_type": "markdown",
   "metadata": {},
   "source": [
    "## Kaggle Competition\n",
    "Kaggle is an online community of data scientists and machine learning practitioners. Kaggle allows users to find and publish datasets, explore and build models in a web-based data-science environment, work with other data scientists and machine learning engineers, and enter competitions to solve data science challenges.\n",
    "\n",
    "This assignment use kaggle to calculate your grade.  \n",
    "Please use this [**LINK**](https://www.kaggle.com/t/e304bb12c8a84e5c9c1b27a6c3bd4026) to join the competition.\n",
    "\n",
    "**Again, Use your SID as your team's name!!!**"
   ]
  },
  {
   "cell_type": "markdown",
   "metadata": {},
   "source": [
    "## Google Colab Setup\n",
    "Next we need to run a few commands to set up our environment on Google Colab. If you are running this notebook on a local machine you can skip this section.\n",
    "\n",
    "Run the following cell to mount your Google Drive. Follow the link, sign in to your Google account (the same account you used to store this notebook!) and copy the authorization code into the text box that appears below."
   ]
  },
  {
   "cell_type": "code",
   "execution_count": 1,
   "metadata": {
    "ExecuteTime": {
     "end_time": "2023-10-14T12:05:35.940430200Z",
     "start_time": "2023-10-14T12:05:35.931437Z"
    }
   },
   "outputs": [],
   "source": [
    "# from google.colab import drive\n",
    "# drive.mount('/content/drive')"
   ]
  },
  {
   "cell_type": "markdown",
   "metadata": {},
   "source": [
    "##  Versions of used packages\n",
    "\n",
    "We will check PyTorch version to make sure everything work properly.\n",
    "\n",
    "We use `python==3.10.12`, `torch==2.0.1+cu118` and `torchvision==0.15.2+cu118`. This is the default version in Google Colab."
   ]
  },
  {
   "cell_type": "code",
   "execution_count": 1,
   "metadata": {
    "ExecuteTime": {
     "end_time": "2023-10-19T04:52:15.949627200Z",
     "start_time": "2023-10-19T04:52:09.283576400Z"
    }
   },
   "outputs": [
    {
     "name": "stdout",
     "output_type": "stream",
     "text": [
      "python 3.11.2 (tags/v3.11.2:878ead1, Feb  7 2023, 16:38:35) [MSC v.1934 64 bit (AMD64)]\n",
      "torch 2.1.0+cu118\n",
      "torchvision 0.16.0+cu118\n"
     ]
    }
   ],
   "source": [
    "import sys\n",
    "import torch\n",
    "import torchvision\n",
    "print('python', sys.version.split('\\n')[0])\n",
    "print('torch', torch.__version__)\n",
    "print('torchvision', torchvision.__version__)"
   ]
  },
  {
   "cell_type": "markdown",
   "metadata": {},
   "source": [
    "# Prepare Data"
   ]
  },
  {
   "cell_type": "markdown",
   "metadata": {},
   "source": [
    "We use [Flowers Recognition](https://www.kaggle.com/alxmamaev/flowers-recognition) dataset.\n",
    "This is collected by Alexander Mamaev.\n",
    "\n",
    "**Abstrct**  \n",
    "\n",
    "This dataset contains 4317 flower images.   \n",
    "**IMPORTANT: you CANNOT use any extra images.**\n",
    "\n",
    "The data collection is grabed from the data flicr, google images, yandex images.\n",
    "You can use this datastet to recognize plants from the photo.\n",
    "\n",
    "The pictures are divided into five classes: \n",
    "+ daisy\n",
    "+ tulip\n",
    "+ rose\n",
    "+ sunflower\n",
    "+ dandelion\n",
    "\n",
    "For each class there are about 800 photos. Photos are not high resolution, about 320x240 pixels. Photos are not reduced to a single size, they have different proportions!"
   ]
  },
  {
   "cell_type": "markdown",
   "metadata": {},
   "source": [
    "## How to Get Data\n",
    "\n",
    "請先到共用雲端硬碟將檔案 `A3_data_flower_2023.zip`，建立捷徑到自己的雲端硬碟中。\n",
    "\n",
    "> 操作步驟\n",
    "1. 點開雲端[連結](https://drive.google.com/file/d/11mOkJbDfuqBzoiFSSdHIZw41OmOXtB2p/view?usp=sharing)\n",
    "2. 點選右上角「新增雲端硬碟捷徑」\n",
    "3. 點選「我的雲端硬碟」\n",
    "4. 點選「新增捷徑」\n",
    "\n",
    "完成以上流程會在你的雲端硬碟中建立一個檔案的捷徑，接著我們在colab中取得權限即可使用。"
   ]
  },
  {
   "cell_type": "markdown",
   "metadata": {},
   "source": [
    "## Unzip Data\n",
    "\n",
    "Unzip `A3_data_flower_2023.zip`, there are 2 folders and 4 csvs.\n",
    "\n",
    "- `train/`: contains 5 folders for 5 categories of flowers. Images of flowers inside them.\n",
    "- `test/`: unclassified images of testing set.\n",
    "- `train_labeled_dataset.csv`: file path and true label of training set.\n",
    "- `train_unlabeled_dataset.csv`: file path and without label of training set.\n",
    "- `val.csv`: file path and true label of validation set.\n",
    "- `test.csv`: file paht of testing set.\n",
    "\n",
    "There are **854 images in labeled_dataset_train.**  \n",
    "\n",
    "There are **1735 images in unlabeled_dataset_train.** \n",
    "\n",
    "There are **864 images in dataset_test.**  \n",
    "\n",
    "There are **864 images in dataset_val.**  \n",
    "\n",
    "---\n",
    "\n",
    "解壓縮 `A3_data_flower_2023.zip` 後可以發現裡面有兩個資料夾和四個csv檔。\n",
    "\n",
    "+ `train` : 存有五個資料夾分別是五個種類的花，資料夾內為花的照片。\n",
    "+ `test` : 資料夾中為未分類之測試集照片。\n",
    "+ `train_labeled_dataset.csv` : 讀取 train data 的順序、路徑與圖片所屬花別。\n",
    "+ `train_unlabeled_dataset.csv` : 讀取 train data 的順序、路徑與圖片但沒有所屬花別標籤。\n",
    "+ `val.csv` : 讀取 validate data 的順序、路徑與圖片所屬花別。\n",
    "+ `test.csv` : 讀取 test data 的順序、路徑。\n",
    "\n",
    "其中`train_labeled`的圖片 854 張，`train_unlabeled`的圖片 1735 張，`val` 的圖片 864 張，`test` 的圖片 864 張。\n",
    "\n",
    "注意: 若有另外設定存放在雲端硬碟中的路徑，請記得本處路徑也須做更動。"
   ]
  },
  {
   "cell_type": "code",
   "execution_count": 2,
   "metadata": {
    "ExecuteTime": {
     "end_time": "2023-10-19T04:52:19.027416200Z",
     "start_time": "2023-10-19T04:52:19.022410200Z"
    }
   },
   "outputs": [],
   "source": [
    "# !unzip -qq ./drive/MyDrive/A3_data_flower_2023.zip"
   ]
  },
  {
   "cell_type": "code",
   "execution_count": 3,
   "outputs": [],
   "source": [
    "data_folder = 'A3_data_flower_2023'"
   ],
   "metadata": {
    "collapsed": false,
    "ExecuteTime": {
     "end_time": "2023-10-19T04:52:19.548391900Z",
     "start_time": "2023-10-19T04:52:19.543235900Z"
    }
   }
  },
  {
   "cell_type": "markdown",
   "source": [
    "## Loading the dataset"
   ],
   "metadata": {
    "collapsed": false
   }
  },
  {
   "cell_type": "markdown",
   "source": [
    "### Custom dataset\n",
    "\n",
    "Build a classs inherit `torch.utils.data.Dataset`.\n",
    "Implement `__init__`, `__getitem__` and `__len__` 3 functions.\n",
    "\n",
    "Some operations could be there: setting location of dataset, the method of reading data, label of dataset or transform of dataset.\n",
    "\n",
    "See [torch.utils.data.Dataset](https://pytorch.org/docs/stable/data.html#torch.utils.data.Dataset) for more details\n",
    "\n",
    "---\n",
    "\n",
    "繼承自定義資料集的框架 `torch.utils.data.Dataset`，主要實現 `__getitem__()` 和 `__len__()` 這兩個方法。\n",
    "\n",
    "常使用來做到設定資料位址、設定讀取方式、子資料集的標籤和轉換條件...等。\n",
    "\n",
    "See [torch.utils.data.Dataset](https://pytorch.org/docs/stable/data.html#torch.utils.data.Dataset) for more details"
   ],
   "metadata": {
    "collapsed": false
   }
  },
  {
   "cell_type": "code",
   "execution_count": 4,
   "metadata": {
    "ExecuteTime": {
     "end_time": "2023-10-19T04:52:20.921683300Z",
     "start_time": "2023-10-19T04:52:20.918541200Z"
    }
   },
   "outputs": [],
   "source": [
    "import csv\n",
    "import os\n",
    "import numpy as np\n",
    "from PIL import Image\n",
    "import torch\n",
    "\n",
    "class FlowerData(torch.utils.data.Dataset):\n",
    "    def __init__(self, csv_file, mode='train', transform=None):\n",
    "        self.mode = mode # 'train', 'val' or 'test'\n",
    "        self.data_list = []\n",
    "        self.labels = []\n",
    "        self.transform = transform\n",
    "        \n",
    "        with open(f'{data_folder}/{csv_file}', newline='') as csvfile:\n",
    "            reader = csv.DictReader(csvfile)\n",
    "            for row in reader:\n",
    "                self.data_list.append(f\"{data_folder}/{row['file_path']}\")\n",
    "                if mode != 'test':\n",
    "                    self.labels.append(row['label'])\n",
    "\n",
    "    def __getitem__(self, index):\n",
    "        data = Image.open(self.data_list[index])\n",
    "        if self.transform is not None:\n",
    "            data = self.transform(data)\n",
    "        if self.mode == 'test':\n",
    "            return data\n",
    "        label = int(self.labels[index])\n",
    "\n",
    "        return data, label\n",
    "\n",
    "    def __len__(self):\n",
    "        return len(self.data_list)"
   ]
  },
  {
   "cell_type": "markdown",
   "metadata": {},
   "source": [
    "### Data augmentation \n",
    "\n",
    "Data augmentation are techniques used to increase the amount of data by adding slightly modified copies of already existing data or newly created synthetic data from existing data.\n",
    "\n",
    "PyTorch use `torchvision.transforms` to do data augmentation.\n",
    "[You can see all function here.](https://pytorch.org/vision/stable/transforms.html)\n",
    "\n",
    "**NOTICE**: There are some operations may not be necessary for predict, so we should write one for train and one for others."
   ]
  },
  {
   "cell_type": "code",
   "execution_count": 5,
   "metadata": {
    "ExecuteTime": {
     "end_time": "2023-10-19T04:52:22.598408400Z",
     "start_time": "2023-10-19T04:52:22.588250400Z"
    }
   },
   "outputs": [],
   "source": [
    "from torchvision import transforms\n",
    "# For TRAIN\n",
    "########################################################################\n",
    "#  TODO: use transforms.xxx method to do some data augmentation        #\n",
    "#  This one is for training, find the composition to get better result #\n",
    "########################################################################\n",
    "# These calculate from data eval\n",
    "train_mean = [0.4234, 0.3785, 0.2925]\n",
    "train_std = [0.2588, 0.2345, 0.2227]\n",
    "\n",
    "transforms_train = transforms.Compose([\n",
    "    transforms.RandomResizedCrop(224),                                              # Random crop and resize\n",
    "    transforms.RandomHorizontalFlip(),                                              # Random horizontal flip\n",
    "    transforms.RandomRotation(30),                                                  # Random rotation\n",
    "    transforms.ToTensor(),                                                          # Convert to tensor\n",
    "    transforms.Normalize(mean=train_mean, std=train_std)                            # Normalize\n",
    "])\n",
    "############################################################\n",
    "#                           End of your code                           #\n",
    "########################################################################\n",
    "\n",
    "# For VAL, TEST\n",
    "########################################################################\n",
    "#  TODO: use transforms.xxx method to do some data augmentation        #\n",
    "#  This one is for validate and test,                                  #\n",
    "#  NOTICE some operation we usually not use in this part               #\n",
    "########################################################################\n",
    "transforms_test = transforms.Compose([\n",
    "    transforms.Resize(256),                               # Resize to a fixed size\n",
    "    transforms.CenterCrop(224),                           # Center crop\n",
    "    transforms.ToTensor(),                                # Convert to tensor\n",
    "    transforms.Normalize(mean=train_mean, std=train_std)  # Normalize\n",
    "])\n",
    "########################################################################\n",
    "#                           End of your code                           #\n",
    "########################################################################"
   ]
  },
  {
   "cell_type": "markdown",
   "metadata": {},
   "source": [
    "### Instantiate dataset\n",
    "\n",
    "Let's instantiate three `FlowerData` class.\n",
    "+ train_set: for labeled_training.\n",
    "+ unlabeled_set: for unlabeled_training.\n",
    "+ dataset_val: for validation."
   ]
  },
  {
   "cell_type": "code",
   "execution_count": 6,
   "metadata": {
    "ExecuteTime": {
     "end_time": "2023-10-19T04:52:23.859911600Z",
     "start_time": "2023-10-19T04:52:23.789244500Z"
    }
   },
   "outputs": [],
   "source": [
    "train_set = FlowerData('train_labeled_dataset.csv', mode='train', transform=transforms_train)\n",
    "unlabeled_set = FlowerData('train_unlabeled_dataset.csv', mode='test', transform=transforms_train)\n",
    "valid_set = FlowerData('val.csv', mode='val', transform=transforms_test)"
   ]
  },
  {
   "cell_type": "code",
   "execution_count": 7,
   "metadata": {
    "ExecuteTime": {
     "end_time": "2023-10-19T04:52:24.388466400Z",
     "start_time": "2023-10-19T04:52:24.334885300Z"
    }
   },
   "outputs": [
    {
     "name": "stdout",
     "output_type": "stream",
     "text": [
      "The first image's shape in dataset_train : torch.Size([3, 224, 224])\n",
      "There are 854 images in labeled_dataset_train.\n",
      "There are 1735 images in unlabeled_dataset_train.\n",
      "There are 864 images in dataset_val.\n"
     ]
    }
   ],
   "source": [
    "print(\"The first image's shape in dataset_train :\", train_set[0][0].size())\n",
    "print(\"There are\", len(train_set), \"images in labeled_dataset_train.\")\n",
    "print(\"There are\", len(unlabeled_set), \"images in unlabeled_dataset_train.\")\n",
    "print(\"There are\", len(valid_set), \"images in dataset_val.\")"
   ]
  },
  {
   "cell_type": "markdown",
   "metadata": {},
   "source": [
    "### `DataLoader`\n",
    "\n",
    "`torch.utils.data.DataLoader` define how to sample from `dataset` and some other function like:\n",
    "+ `shuffle` : set to `True` to have the data reshuffled at every epoch\n",
    "+ `batch_size` : how many samples per batch to load\n",
    "\n",
    "See [torch.utils.data.DataLoader](https://pytorch.org/docs/stable/data.html#torch.utils.data.DataLoader) for more details"
   ]
  },
  {
   "cell_type": "code",
   "execution_count": 8,
   "metadata": {
    "ExecuteTime": {
     "end_time": "2023-10-19T04:52:25.788159Z",
     "start_time": "2023-10-19T04:52:25.763152600Z"
    }
   },
   "outputs": [],
   "source": [
    "#####################################################\n",
    "#            You can adjust batch_size              #\n",
    "#####################################################\n",
    "from torch.utils.data import DataLoader\n",
    "\n",
    "batch_size = 32\n",
    "num_workers = 0\n",
    "train_loader = DataLoader(train_set, batch_size=batch_size, num_workers=num_workers, shuffle=True)\n",
    "valid_loader = DataLoader(valid_set, batch_size=batch_size, num_workers=num_workers, shuffle=False)"
   ]
  },
  {
   "cell_type": "markdown",
   "metadata": {},
   "source": [
    "Finally! We have made all data prepared.  \n",
    "Let's go develop our model."
   ]
  },
  {
   "cell_type": "markdown",
   "metadata": {},
   "source": [
    "# Self-training"
   ]
  },
  {
   "cell_type": "markdown",
   "metadata": {},
   "source": [
    "## Step 1: Supervised training"
   ]
  },
  {
   "cell_type": "markdown",
   "metadata": {},
   "source": [
    "### Implement CNN using PyTorch \n",
    "\n",
    "Try to use labeled data design and train a deep convolutional network from scratch to predict the class label of a flower image. \n",
    "\n",
    "**Again, the goal of this assignment is for you to test different convolutional structures. You cannot directly use the blocks/architectures of pre-trained models.**"
   ]
  },
  {
   "cell_type": "code",
   "execution_count": 48,
   "metadata": {
    "ExecuteTime": {
     "end_time": "2023-10-19T06:24:33.701586900Z",
     "start_time": "2023-10-19T06:24:33.692666300Z"
    }
   },
   "outputs": [],
   "source": [
    "from torch.nn.modules.conv import Conv2d\n",
    "import torch.nn as nn \n",
    "import torch.nn.functional as F\n",
    "\n",
    "class YourCNNModel(nn.Module):\n",
    "    def __init__(self): \n",
    "        super().__init__()\n",
    "        ########################################################################\n",
    "        #     TODO: use nn.xxx method to generate a CNN model part             #\n",
    "        ########################################################################\n",
    "        # Initial convolution\n",
    "        self.conv1 = nn.Sequential(\n",
    "            nn.Conv2d(3, 32, kernel_size=7, stride=2, padding=3),\n",
    "            nn.BatchNorm2d(32),\n",
    "            nn.ReLU()\n",
    "        )\n",
    "\n",
    "        # Mobile Inverted Bottleneck Convolution Blocks\n",
    "        self.blocks = nn.Sequential(\n",
    "            self.MBConv_block(32, 16, 3, 1, 1, 1),\n",
    "            self.MBConv_block(16, 24, 3, 1, 2, 2),\n",
    "            self.MBConv_block(24, 40, 5, 2, 2, 2),\n",
    "            self.MBConv_block(40, 80, 3, 1, 2, 3),\n",
    "        )\n",
    "\n",
    "        # Fully connected layers\n",
    "        self.fc = nn.Sequential(\n",
    "            nn.Linear(80, 512),\n",
    "            nn.ReLU(),\n",
    "            nn.BatchNorm1d(512),\n",
    "            nn.Dropout()\n",
    "        )\n",
    "        self.out = nn.Linear(512, 5)\n",
    "\n",
    "    def MBConv_block(self, in_channels, out_channels, kernel_size, padding, stride, num_layers):\n",
    "        # The first layer is a point-wise convolution to expand the number of channels\n",
    "        layers = [nn.Conv2d(in_channels, in_channels * 6, kernel_size=1, stride=1, padding=0, bias=False),\n",
    "                  nn.BatchNorm2d(in_channels * 6), nn.ReLU()]\n",
    "\n",
    "        # Depth-wise separable convolutions with multiple layers\n",
    "        for _ in range(num_layers):\n",
    "            layers.append(nn.Conv2d(in_channels * 6, in_channels * 6, kernel_size=kernel_size, stride=stride, padding=padding, groups=in_channels * 6, bias=False))\n",
    "            layers.append(nn.BatchNorm2d(in_channels * 6))\n",
    "            layers.append(nn.ReLU())\n",
    "\n",
    "        # The last layer is a point-wise convolution to reduce the number of channels to the desired output size\n",
    "        layers.append(nn.Conv2d(in_channels * 6, out_channels, kernel_size=1, stride=1, padding=0, bias=False))\n",
    "        layers.append(nn.BatchNorm2d(out_channels))\n",
    "        layers.append(nn.ReLU())\n",
    "\n",
    "        return nn.Sequential(*layers)\n",
    "        ########################################################################\n",
    "        #                           End of your code                           #\n",
    "        ########################################################################\n",
    "\n",
    "    def forward(self, x):\n",
    "        if not isinstance(x, torch.Tensor):\n",
    "          x = torch.Tensor(x)\n",
    "        ########################################################################\n",
    "        #     TODO: forward your model and get output                          #\n",
    "        ########################################################################\n",
    "        # Forward pass through convolutional layers\n",
    "        x = self.conv1(x)\n",
    "        x = self.blocks(x)\n",
    "        x = x.view(x.size(0), -1)\n",
    "        x = self.fc(x)\n",
    "        out = self.out(x)\n",
    "        ########################################################################\n",
    "        #                           End of your code                           #\n",
    "        ########################################################################\n",
    "        return out"
   ]
  },
  {
   "cell_type": "code",
   "execution_count": 49,
   "metadata": {
    "ExecuteTime": {
     "end_time": "2023-10-19T06:24:36.797099600Z",
     "start_time": "2023-10-19T06:24:36.791659500Z"
    }
   },
   "outputs": [],
   "source": [
    "device = torch.device('cuda')\n",
    "# or\n",
    "# device = torch.device('cpu')"
   ]
  },
  {
   "cell_type": "code",
   "execution_count": 50,
   "metadata": {
    "ExecuteTime": {
     "end_time": "2023-10-19T06:24:39.446936500Z",
     "start_time": "2023-10-19T06:24:39.412686900Z"
    }
   },
   "outputs": [
    {
     "data": {
      "text/plain": "YourCNNModel(\n  (conv1): Sequential(\n    (0): Conv2d(3, 32, kernel_size=(7, 7), stride=(2, 2), padding=(3, 3))\n    (1): BatchNorm2d(32, eps=1e-05, momentum=0.1, affine=True, track_running_stats=True)\n    (2): ReLU()\n  )\n  (blocks): Sequential(\n    (0): Sequential(\n      (0): Conv2d(32, 192, kernel_size=(1, 1), stride=(1, 1), bias=False)\n      (1): BatchNorm2d(192, eps=1e-05, momentum=0.1, affine=True, track_running_stats=True)\n      (2): ReLU()\n      (3): Conv2d(192, 192, kernel_size=(3, 3), stride=(1, 1), padding=(1, 1), groups=192, bias=False)\n      (4): BatchNorm2d(192, eps=1e-05, momentum=0.1, affine=True, track_running_stats=True)\n      (5): ReLU()\n      (6): Conv2d(192, 16, kernel_size=(1, 1), stride=(1, 1), bias=False)\n      (7): BatchNorm2d(16, eps=1e-05, momentum=0.1, affine=True, track_running_stats=True)\n      (8): ReLU()\n    )\n    (1): Sequential(\n      (0): Conv2d(16, 96, kernel_size=(1, 1), stride=(1, 1), bias=False)\n      (1): BatchNorm2d(96, eps=1e-05, momentum=0.1, affine=True, track_running_stats=True)\n      (2): ReLU()\n      (3): Conv2d(96, 96, kernel_size=(3, 3), stride=(2, 2), padding=(1, 1), groups=96, bias=False)\n      (4): BatchNorm2d(96, eps=1e-05, momentum=0.1, affine=True, track_running_stats=True)\n      (5): ReLU()\n      (6): Conv2d(96, 96, kernel_size=(3, 3), stride=(2, 2), padding=(1, 1), groups=96, bias=False)\n      (7): BatchNorm2d(96, eps=1e-05, momentum=0.1, affine=True, track_running_stats=True)\n      (8): ReLU()\n      (9): Conv2d(96, 24, kernel_size=(1, 1), stride=(1, 1), bias=False)\n      (10): BatchNorm2d(24, eps=1e-05, momentum=0.1, affine=True, track_running_stats=True)\n      (11): ReLU()\n    )\n    (2): Sequential(\n      (0): Conv2d(24, 144, kernel_size=(1, 1), stride=(1, 1), bias=False)\n      (1): BatchNorm2d(144, eps=1e-05, momentum=0.1, affine=True, track_running_stats=True)\n      (2): ReLU()\n      (3): Conv2d(144, 144, kernel_size=(5, 5), stride=(2, 2), padding=(2, 2), groups=144, bias=False)\n      (4): BatchNorm2d(144, eps=1e-05, momentum=0.1, affine=True, track_running_stats=True)\n      (5): ReLU()\n      (6): Conv2d(144, 144, kernel_size=(5, 5), stride=(2, 2), padding=(2, 2), groups=144, bias=False)\n      (7): BatchNorm2d(144, eps=1e-05, momentum=0.1, affine=True, track_running_stats=True)\n      (8): ReLU()\n      (9): Conv2d(144, 40, kernel_size=(1, 1), stride=(1, 1), bias=False)\n      (10): BatchNorm2d(40, eps=1e-05, momentum=0.1, affine=True, track_running_stats=True)\n      (11): ReLU()\n    )\n    (3): Sequential(\n      (0): Conv2d(40, 240, kernel_size=(1, 1), stride=(1, 1), bias=False)\n      (1): BatchNorm2d(240, eps=1e-05, momentum=0.1, affine=True, track_running_stats=True)\n      (2): ReLU()\n      (3): Conv2d(240, 240, kernel_size=(3, 3), stride=(2, 2), padding=(1, 1), groups=240, bias=False)\n      (4): BatchNorm2d(240, eps=1e-05, momentum=0.1, affine=True, track_running_stats=True)\n      (5): ReLU()\n      (6): Conv2d(240, 240, kernel_size=(3, 3), stride=(2, 2), padding=(1, 1), groups=240, bias=False)\n      (7): BatchNorm2d(240, eps=1e-05, momentum=0.1, affine=True, track_running_stats=True)\n      (8): ReLU()\n      (9): Conv2d(240, 240, kernel_size=(3, 3), stride=(2, 2), padding=(1, 1), groups=240, bias=False)\n      (10): BatchNorm2d(240, eps=1e-05, momentum=0.1, affine=True, track_running_stats=True)\n      (11): ReLU()\n      (12): Conv2d(240, 80, kernel_size=(1, 1), stride=(1, 1), bias=False)\n      (13): BatchNorm2d(80, eps=1e-05, momentum=0.1, affine=True, track_running_stats=True)\n      (14): ReLU()\n    )\n  )\n  (fc): Sequential(\n    (0): Linear(in_features=80, out_features=512, bias=True)\n    (1): ReLU()\n    (2): BatchNorm1d(512, eps=1e-05, momentum=0.1, affine=True, track_running_stats=True)\n    (3): Dropout(p=0.5, inplace=False)\n  )\n  (out): Linear(in_features=512, out_features=5, bias=True)\n)"
     },
     "execution_count": 50,
     "metadata": {},
     "output_type": "execute_result"
    }
   ],
   "source": [
    "from torchvision.models import resnet34\n",
    "\n",
    "model = YourCNNModel()\n",
    "model.to(device)\n",
    "#print(model)"
   ]
  },
  {
   "cell_type": "markdown",
   "metadata": {},
   "source": [
    "We have made our model!  \n",
    "Next, PyTorch also provide many utility function(loss, optmizer...etc).  \n",
    "You can define them in one-line."
   ]
  },
  {
   "cell_type": "markdown",
   "metadata": {},
   "source": [
    "### Define loss and optimizer"
   ]
  },
  {
   "cell_type": "code",
   "execution_count": 51,
   "metadata": {
    "ExecuteTime": {
     "end_time": "2023-10-19T06:24:44.326009300Z",
     "start_time": "2023-10-19T06:24:44.301508100Z"
    }
   },
   "outputs": [],
   "source": [
    "import torch.nn as nn\n",
    "import torch.optim as optim\n",
    "################################################################################\n",
    "# TODO: Define loss and optmizer functions                                     #\n",
    "# Try any loss or optimizer function and learning rate to get better result    #\n",
    "# hint: torch.nn and torch.optim                                               #\n",
    "################################################################################\n",
    "# CrossEntropyLoss for classification tasks\n",
    "criterion = nn.CrossEntropyLoss()\n",
    "\n",
    "# Adam optimizer\n",
    "learning_rate = 0.001\n",
    "optimizer = optim.Adam(model.parameters(), lr=learning_rate, weight_decay=0.0001)\n",
    "################################################################################\n",
    "#                               End of your code                               #\n",
    "################################################################################\n",
    "criterion = criterion.to(device)"
   ]
  },
  {
   "cell_type": "markdown",
   "metadata": {},
   "source": [
    "### Train the model"
   ]
  },
  {
   "cell_type": "markdown",
   "metadata": {},
   "source": [
    "#### Train function\n",
    "Let's define train function.  \n",
    "It will iterate input data 1 epoch and update model with optmizer.  \n",
    "Finally, calculate mean loss and total accuracy.\n",
    "\n",
    "Hint: [torch.max()](https://pytorch.org/docs/stable/generated/torch.max.html#torch-max) or [torch.argmax()](https://pytorch.org/docs/stable/generated/torch.argmax.html)"
   ]
  },
  {
   "cell_type": "code",
   "execution_count": 52,
   "metadata": {
    "ExecuteTime": {
     "end_time": "2023-10-19T06:24:46.662628300Z",
     "start_time": "2023-10-19T06:24:46.630726100Z"
    }
   },
   "outputs": [],
   "source": [
    "def train(input_data, model, criterion, optimizer):\n",
    "    '''\n",
    "    Argement:\n",
    "    input_data -- iterable data, typr torch.utils.data.Dataloader is prefer\n",
    "    model -- nn.Module, model contain forward to predict output\n",
    "    criterion -- loss function, used to evaluate goodness of model\n",
    "    optimizer -- optmizer function, method for weight updating\n",
    "    '''\n",
    "    model.train()\n",
    "    loss_list = []\n",
    "    total_count = 0\n",
    "    acc_count = 0\n",
    "    for images, labels in input_data:\n",
    "        images = images.to(device)\n",
    "        labels = labels.to(device)\n",
    "\n",
    "        ########################################################################\n",
    "        # TODO: Forward, backward and optimize                                 #\n",
    "        # 1. zero the parameter gradients                                      #\n",
    "        # 2. process input through the network                                 #\n",
    "        # 3. compute the loss                                                  #\n",
    "        # 4. propagate gradients back into the network’s parameters            #\n",
    "        # 5. Update the weights of the network                                 #\n",
    "        ########################################################################\n",
    "        # Zero the parameter gradients\n",
    "        optimizer.zero_grad()\n",
    "\n",
    "        # Forward, backward, and optimize\n",
    "        outputs = model(images)\n",
    "        loss = criterion(outputs, labels)\n",
    "        loss.backward()\n",
    "        optimizer.step()\n",
    "        ########################################################################\n",
    "        #                           End of your code                           #\n",
    "        ########################################################################\n",
    "\n",
    "\n",
    "        ########################################################################\n",
    "        # TODO: Get the counts of correctly classified images                  #\n",
    "        # 1. get the model predicted result                                    #\n",
    "        # 2. sum the number of this batch predicted images                     #\n",
    "        # 3. sum the number of correctly classified                            #\n",
    "        # 4. save this batch's loss into loss_list                             #\n",
    "        # dimension of outputs: [batch_size, number of classes]                #\n",
    "        # Hint 1: use outputs.data to get no auto_grad                         #\n",
    "        # Hint 2: use torch.max()                                              #\n",
    "        ########################################################################\n",
    "        # Get the counts of correctly classified images\n",
    "        _, predicted = torch.max(outputs.data, 1)\n",
    "        total_count += labels.size(0)\n",
    "        acc_count += (predicted == labels).sum().item()\n",
    "        loss_list.append(loss.item())\n",
    "        ########################################################################\n",
    "        #                           End of your code                           #\n",
    "        ########################################################################\n",
    "\n",
    "    # Compute this epoch accuracy and loss\n",
    "    acc = acc_count / total_count\n",
    "    loss = sum(loss_list) / len(loss_list)\n",
    "    return acc, loss"
   ]
  },
  {
   "cell_type": "markdown",
   "metadata": {},
   "source": [
    "#### Validate function\n",
    "Next part is validate function.  \n",
    "It works as training function without optmizer and weight-updating part."
   ]
  },
  {
   "cell_type": "code",
   "execution_count": 53,
   "metadata": {
    "ExecuteTime": {
     "end_time": "2023-10-19T06:24:49.179466600Z",
     "start_time": "2023-10-19T06:24:49.160684300Z"
    }
   },
   "outputs": [],
   "source": [
    "def val(input_data, model, criterion):\n",
    "    model.eval()\n",
    "\n",
    "    loss_list = []\n",
    "    total_count = 0\n",
    "    acc_count = 0\n",
    "    with torch.no_grad():\n",
    "        for images, labels in input_data:\n",
    "            images = images.to(device)\n",
    "            labels = labels.to(device)\n",
    "\n",
    "            ####################################################################\n",
    "            # TODO: Get the predicted result and loss                          #\n",
    "            # 1. process input through the network                             #\n",
    "            # 2. compute the loss                                              #\n",
    "            # 3. get the model predicted result                                #\n",
    "            # 4. get the counts of correctly classified images                 #\n",
    "            # 5. save this batch's loss into loss_list                         #\n",
    "            ####################################################################\n",
    "            # Get the predicted result and loss\n",
    "            outputs = model(images)\n",
    "            loss = criterion(outputs, labels)\n",
    "\n",
    "            # Get the counts of correctly classified images\n",
    "            _, predicted = torch.max(outputs.data, 1)\n",
    "            total_count += labels.size(0)\n",
    "            acc_count += (predicted == labels).sum().item()\n",
    "            loss_list.append(loss.item())\n",
    "            ####################################################################\n",
    "            #                         End of your code                         #\n",
    "            ####################################################################\n",
    "\n",
    "    acc = acc_count / total_count\n",
    "    loss = sum(loss_list) / len(loss_list)\n",
    "    return acc, loss"
   ]
  },
  {
   "cell_type": "markdown",
   "metadata": {},
   "source": [
    "#### Training in a loop\n",
    "Call train and test function in a loop.  \n",
    "Take a break and wait."
   ]
  },
  {
   "cell_type": "code",
   "execution_count": 54,
   "metadata": {
    "ExecuteTime": {
     "end_time": "2023-10-19T06:44:32.308586200Z",
     "start_time": "2023-10-19T06:24:51.410400800Z"
    }
   },
   "outputs": [
    {
     "name": "stdout",
     "output_type": "stream",
     "text": [
      "==================== Epoch 1 ====================\n",
      "Train Acc: 0.198598 Train Loss: 1.827879\n",
      "  Val Acc: 0.244213   Val Loss: 1.645254\n",
      "==================== Epoch 2 ====================\n",
      "Train Acc: 0.245327 Train Loss: 1.758144\n",
      "  Val Acc: 0.269676   Val Loss: 1.640839\n",
      "==================== Epoch 3 ====================\n",
      "Train Acc: 0.225467 Train Loss: 1.754664\n",
      "  Val Acc: 0.281250   Val Loss: 1.606595\n",
      "==================== Epoch 4 ====================\n",
      "Train Acc: 0.251168 Train Loss: 1.692023\n",
      "  Val Acc: 0.276620   Val Loss: 1.597675\n",
      "==================== Epoch 5 ====================\n",
      "Train Acc: 0.273364 Train Loss: 1.665959\n",
      "  Val Acc: 0.278935   Val Loss: 1.609919\n",
      "==================== Epoch 6 ====================\n",
      "Train Acc: 0.311916 Train Loss: 1.610539\n",
      "  Val Acc: 0.303241   Val Loss: 1.549075\n",
      "==================== Epoch 7 ====================\n",
      "Train Acc: 0.339953 Train Loss: 1.567522\n",
      "  Val Acc: 0.335648   Val Loss: 1.557856\n",
      "==================== Epoch 8 ====================\n",
      "Train Acc: 0.323598 Train Loss: 1.562379\n",
      "  Val Acc: 0.325231   Val Loss: 1.578674\n",
      "==================== Epoch 9 ====================\n",
      "Train Acc: 0.308411 Train Loss: 1.583129\n",
      "  Val Acc: 0.314815   Val Loss: 1.543603\n",
      "==================== Epoch 10 ====================\n",
      "Train Acc: 0.330607 Train Loss: 1.523512\n",
      "  Val Acc: 0.359954   Val Loss: 1.491157\n",
      "==================== Epoch 11 ====================\n",
      "Train Acc: 0.353972 Train Loss: 1.506921\n",
      "  Val Acc: 0.375000   Val Loss: 1.479524\n",
      "==================== Epoch 12 ====================\n",
      "Train Acc: 0.383178 Train Loss: 1.447489\n",
      "  Val Acc: 0.351852   Val Loss: 1.446967\n",
      "==================== Epoch 13 ====================\n",
      "Train Acc: 0.400701 Train Loss: 1.423500\n",
      "  Val Acc: 0.413194   Val Loss: 1.391157\n",
      "==================== Epoch 14 ====================\n",
      "Train Acc: 0.387850 Train Loss: 1.397817\n",
      "  Val Acc: 0.418981   Val Loss: 1.382184\n",
      "==================== Epoch 15 ====================\n",
      "Train Acc: 0.399533 Train Loss: 1.409738\n",
      "  Val Acc: 0.427083   Val Loss: 1.353116\n",
      "==================== Epoch 16 ====================\n",
      "Train Acc: 0.384346 Train Loss: 1.404565\n",
      "  Val Acc: 0.460648   Val Loss: 1.321934\n",
      "==================== Epoch 17 ====================\n",
      "Train Acc: 0.428738 Train Loss: 1.338054\n",
      "  Val Acc: 0.484954   Val Loss: 1.302894\n",
      "==================== Epoch 18 ====================\n",
      "Train Acc: 0.445093 Train Loss: 1.347418\n",
      "  Val Acc: 0.481481   Val Loss: 1.270737\n",
      "==================== Epoch 19 ====================\n",
      "Train Acc: 0.443925 Train Loss: 1.316744\n",
      "  Val Acc: 0.471065   Val Loss: 1.291157\n",
      "==================== Epoch 20 ====================\n",
      "Train Acc: 0.446262 Train Loss: 1.316249\n",
      "  Val Acc: 0.442130   Val Loss: 1.301831\n",
      "==================== Epoch 21 ====================\n",
      "Train Acc: 0.438084 Train Loss: 1.299325\n",
      "  Val Acc: 0.488426   Val Loss: 1.240213\n",
      "==================== Epoch 22 ====================\n",
      "Train Acc: 0.452103 Train Loss: 1.276069\n",
      "  Val Acc: 0.512731   Val Loss: 1.215542\n",
      "==================== Epoch 23 ====================\n",
      "Train Acc: 0.480140 Train Loss: 1.244541\n",
      "  Val Acc: 0.519676   Val Loss: 1.248926\n",
      "==================== Epoch 24 ====================\n",
      "Train Acc: 0.497664 Train Loss: 1.202517\n",
      "  Val Acc: 0.526620   Val Loss: 1.239648\n",
      "==================== Epoch 25 ====================\n",
      "Train Acc: 0.515187 Train Loss: 1.202987\n",
      "  Val Acc: 0.543981   Val Loss: 1.185680\n",
      "==================== Epoch 26 ====================\n",
      "Train Acc: 0.484813 Train Loss: 1.187937\n",
      "  Val Acc: 0.547454   Val Loss: 1.164810\n",
      "==================== Epoch 27 ====================\n",
      "Train Acc: 0.538551 Train Loss: 1.142432\n",
      "  Val Acc: 0.547454   Val Loss: 1.164582\n",
      "==================== Epoch 28 ====================\n",
      "Train Acc: 0.535047 Train Loss: 1.125141\n",
      "  Val Acc: 0.553241   Val Loss: 1.173555\n",
      "==================== Epoch 29 ====================\n",
      "Train Acc: 0.532710 Train Loss: 1.160490\n",
      "  Val Acc: 0.548611   Val Loss: 1.162957\n",
      "==================== Epoch 30 ====================\n",
      "Train Acc: 0.514019 Train Loss: 1.208262\n",
      "  Val Acc: 0.511574   Val Loss: 1.200315\n",
      "==================== Epoch 31 ====================\n",
      "Train Acc: 0.510514 Train Loss: 1.133405\n",
      "  Val Acc: 0.555556   Val Loss: 1.123815\n",
      "==================== Epoch 32 ====================\n",
      "Train Acc: 0.523364 Train Loss: 1.137026\n",
      "  Val Acc: 0.548611   Val Loss: 1.128113\n",
      "==================== Epoch 33 ====================\n",
      "Train Acc: 0.550234 Train Loss: 1.078693\n",
      "  Val Acc: 0.547454   Val Loss: 1.138847\n",
      "==================== Epoch 34 ====================\n",
      "Train Acc: 0.519860 Train Loss: 1.145377\n",
      "  Val Acc: 0.559028   Val Loss: 1.141079\n",
      "==================== Epoch 35 ====================\n",
      "Train Acc: 0.580607 Train Loss: 1.095717\n",
      "  Val Acc: 0.552083   Val Loss: 1.117606\n",
      "==================== Epoch 36 ====================\n",
      "Train Acc: 0.556075 Train Loss: 1.070982\n",
      "  Val Acc: 0.562500   Val Loss: 1.115923\n",
      "==================== Epoch 37 ====================\n",
      "Train Acc: 0.545561 Train Loss: 1.091412\n",
      "  Val Acc: 0.552083   Val Loss: 1.131540\n",
      "==================== Epoch 38 ====================\n",
      "Train Acc: 0.571262 Train Loss: 1.072247\n",
      "  Val Acc: 0.550926   Val Loss: 1.162088\n",
      "==================== Epoch 39 ====================\n",
      "Train Acc: 0.578271 Train Loss: 1.074506\n",
      "  Val Acc: 0.564815   Val Loss: 1.120231\n",
      "==================== Epoch 40 ====================\n",
      "Train Acc: 0.546729 Train Loss: 1.109248\n",
      "  Val Acc: 0.535880   Val Loss: 1.107567\n",
      "==================== Epoch 41 ====================\n",
      "Train Acc: 0.533879 Train Loss: 1.116545\n",
      "  Val Acc: 0.584491   Val Loss: 1.105244\n",
      "==================== Epoch 42 ====================\n",
      "Train Acc: 0.561916 Train Loss: 1.081363\n",
      "  Val Acc: 0.563657   Val Loss: 1.104366\n",
      "==================== Epoch 43 ====================\n",
      "Train Acc: 0.564252 Train Loss: 1.084248\n",
      "  Val Acc: 0.568287   Val Loss: 1.081591\n",
      "==================== Epoch 44 ====================\n",
      "Train Acc: 0.568925 Train Loss: 1.063477\n",
      "  Val Acc: 0.564815   Val Loss: 1.069084\n",
      "==================== Epoch 45 ====================\n",
      "Train Acc: 0.566589 Train Loss: 1.060770\n",
      "  Val Acc: 0.579861   Val Loss: 1.084602\n",
      "==================== Epoch 46 ====================\n",
      "Train Acc: 0.592290 Train Loss: 1.023598\n",
      "  Val Acc: 0.581019   Val Loss: 1.061999\n",
      "==================== Epoch 47 ====================\n",
      "Train Acc: 0.577103 Train Loss: 1.042195\n",
      "  Val Acc: 0.560185   Val Loss: 1.121181\n",
      "==================== Epoch 48 ====================\n",
      "Train Acc: 0.568925 Train Loss: 1.053290\n",
      "  Val Acc: 0.582176   Val Loss: 1.108266\n",
      "==================== Epoch 49 ====================\n",
      "Train Acc: 0.589953 Train Loss: 1.032378\n",
      "  Val Acc: 0.583333   Val Loss: 1.078325\n",
      "==================== Epoch 50 ====================\n",
      "Train Acc: 0.566589 Train Loss: 1.068486\n",
      "  Val Acc: 0.572917   Val Loss: 1.065071\n",
      "==================== Epoch 51 ====================\n",
      "Train Acc: 0.594626 Train Loss: 0.989909\n",
      "  Val Acc: 0.607639   Val Loss: 1.063102\n",
      "==================== Epoch 52 ====================\n",
      "Train Acc: 0.591121 Train Loss: 1.014878\n",
      "  Val Acc: 0.587963   Val Loss: 1.067552\n",
      "==================== Epoch 53 ====================\n",
      "Train Acc: 0.601636 Train Loss: 1.008874\n",
      "  Val Acc: 0.594907   Val Loss: 1.025052\n",
      "==================== Epoch 54 ====================\n",
      "Train Acc: 0.615654 Train Loss: 0.986859\n",
      "  Val Acc: 0.615741   Val Loss: 1.004699\n",
      "==================== Epoch 55 ====================\n",
      "Train Acc: 0.613318 Train Loss: 0.974720\n",
      "  Val Acc: 0.582176   Val Loss: 1.050076\n",
      "==================== Epoch 56 ====================\n",
      "Train Acc: 0.602804 Train Loss: 0.987735\n",
      "  Val Acc: 0.620370   Val Loss: 1.025472\n",
      "==================== Epoch 57 ====================\n",
      "Train Acc: 0.601636 Train Loss: 0.971740\n",
      "  Val Acc: 0.594907   Val Loss: 1.044783\n",
      "==================== Epoch 58 ====================\n",
      "Train Acc: 0.622664 Train Loss: 0.974236\n",
      "  Val Acc: 0.611111   Val Loss: 1.016092\n",
      "==================== Epoch 59 ====================\n",
      "Train Acc: 0.616822 Train Loss: 0.972909\n",
      "  Val Acc: 0.620370   Val Loss: 0.974647\n",
      "==================== Epoch 60 ====================\n",
      "Train Acc: 0.616822 Train Loss: 0.968291\n",
      "  Val Acc: 0.627315   Val Loss: 1.015870\n",
      "==================== Epoch 61 ====================\n",
      "Train Acc: 0.629673 Train Loss: 0.928570\n",
      "  Val Acc: 0.618056   Val Loss: 1.002029\n",
      "==================== Epoch 62 ====================\n",
      "Train Acc: 0.633178 Train Loss: 0.970044\n",
      "  Val Acc: 0.603009   Val Loss: 1.044673\n",
      "==================== Epoch 63 ====================\n",
      "Train Acc: 0.596963 Train Loss: 0.983955\n",
      "  Val Acc: 0.616898   Val Loss: 1.038420\n",
      "==================== Epoch 64 ====================\n",
      "Train Acc: 0.615654 Train Loss: 0.957258\n",
      "  Val Acc: 0.620370   Val Loss: 1.014333\n",
      "==================== Epoch 65 ====================\n",
      "Train Acc: 0.637850 Train Loss: 0.933510\n",
      "  Val Acc: 0.630787   Val Loss: 0.994405\n",
      "==================== Epoch 66 ====================\n",
      "Train Acc: 0.614486 Train Loss: 0.968298\n",
      "  Val Acc: 0.633102   Val Loss: 0.998181\n",
      "==================== Epoch 67 ====================\n",
      "Train Acc: 0.616822 Train Loss: 0.999348\n",
      "  Val Acc: 0.636574   Val Loss: 0.963898\n",
      "==================== Epoch 68 ====================\n",
      "Train Acc: 0.616822 Train Loss: 0.948371\n",
      "  Val Acc: 0.618056   Val Loss: 0.987161\n",
      "==================== Epoch 69 ====================\n",
      "Train Acc: 0.623832 Train Loss: 0.948023\n",
      "  Val Acc: 0.626157   Val Loss: 1.018970\n",
      "==================== Epoch 70 ====================\n",
      "Train Acc: 0.612150 Train Loss: 0.992607\n",
      "  Val Acc: 0.609954   Val Loss: 1.018571\n",
      "==================== Epoch 71 ====================\n",
      "Train Acc: 0.653037 Train Loss: 0.924850\n",
      "  Val Acc: 0.631944   Val Loss: 0.986012\n",
      "==================== Epoch 72 ====================\n",
      "Train Acc: 0.632009 Train Loss: 0.942952\n",
      "  Val Acc: 0.642361   Val Loss: 1.001096\n",
      "==================== Epoch 73 ====================\n",
      "Train Acc: 0.665888 Train Loss: 0.880165\n",
      "  Val Acc: 0.656250   Val Loss: 1.002487\n",
      "==================== Epoch 74 ====================\n",
      "Train Acc: 0.636682 Train Loss: 0.926659\n",
      "  Val Acc: 0.635417   Val Loss: 1.009457\n",
      "==================== Epoch 75 ====================\n",
      "Train Acc: 0.642523 Train Loss: 0.917671\n",
      "  Val Acc: 0.631944   Val Loss: 0.996017\n",
      "==================== Epoch 76 ====================\n",
      "Train Acc: 0.660047 Train Loss: 0.884125\n",
      "  Val Acc: 0.613426   Val Loss: 1.049001\n",
      "==================== Epoch 77 ====================\n",
      "Train Acc: 0.639019 Train Loss: 0.911724\n",
      "  Val Acc: 0.623843   Val Loss: 1.018333\n",
      "==================== Epoch 78 ====================\n",
      "Train Acc: 0.632009 Train Loss: 0.923706\n",
      "  Val Acc: 0.653935   Val Loss: 0.959336\n",
      "==================== Epoch 79 ====================\n",
      "Train Acc: 0.642523 Train Loss: 0.892421\n",
      "  Val Acc: 0.622685   Val Loss: 0.997433\n",
      "==================== Epoch 80 ====================\n",
      "Train Acc: 0.647196 Train Loss: 0.883225\n",
      "  Val Acc: 0.641204   Val Loss: 0.970305\n",
      "==================== Epoch 81 ====================\n",
      "Train Acc: 0.658879 Train Loss: 0.885538\n",
      "  Val Acc: 0.646991   Val Loss: 0.971546\n",
      "==================== Epoch 82 ====================\n",
      "Train Acc: 0.679907 Train Loss: 0.853982\n",
      "  Val Acc: 0.657407   Val Loss: 0.972551\n",
      "==================== Epoch 83 ====================\n",
      "Train Acc: 0.690421 Train Loss: 0.824532\n",
      "  Val Acc: 0.646991   Val Loss: 0.968466\n",
      "==================== Epoch 84 ====================\n",
      "Train Acc: 0.658879 Train Loss: 0.877254\n",
      "  Val Acc: 0.673611   Val Loss: 0.925883\n",
      "==================== Epoch 85 ====================\n",
      "Train Acc: 0.678738 Train Loss: 0.843022\n",
      "  Val Acc: 0.660880   Val Loss: 0.922196\n",
      "==================== Epoch 86 ====================\n",
      "Train Acc: 0.651869 Train Loss: 0.912488\n",
      "  Val Acc: 0.668981   Val Loss: 0.936450\n",
      "==================== Epoch 87 ====================\n",
      "Train Acc: 0.707944 Train Loss: 0.821982\n",
      "  Val Acc: 0.659722   Val Loss: 0.970686\n",
      "==================== Epoch 88 ====================\n",
      "Train Acc: 0.667056 Train Loss: 0.864861\n",
      "  Val Acc: 0.649306   Val Loss: 0.979640\n",
      "==================== Epoch 89 ====================\n",
      "Train Acc: 0.667056 Train Loss: 0.855256\n",
      "  Val Acc: 0.659722   Val Loss: 0.969720\n",
      "==================== Epoch 90 ====================\n",
      "Train Acc: 0.674065 Train Loss: 0.841987\n",
      "  Val Acc: 0.652778   Val Loss: 1.020855\n",
      "==================== Epoch 91 ====================\n",
      "Train Acc: 0.692757 Train Loss: 0.833662\n",
      "  Val Acc: 0.666667   Val Loss: 0.944018\n",
      "==================== Epoch 92 ====================\n",
      "Train Acc: 0.686916 Train Loss: 0.819089\n",
      "  Val Acc: 0.650463   Val Loss: 0.948904\n",
      "==================== Epoch 93 ====================\n",
      "Train Acc: 0.702103 Train Loss: 0.790726\n",
      "  Val Acc: 0.665509   Val Loss: 0.962848\n",
      "==================== Epoch 94 ====================\n",
      "Train Acc: 0.702103 Train Loss: 0.786031\n",
      "  Val Acc: 0.663194   Val Loss: 0.964997\n",
      "==================== Epoch 95 ====================\n",
      "Train Acc: 0.692757 Train Loss: 0.846433\n",
      "  Val Acc: 0.665509   Val Loss: 0.911475\n",
      "==================== Epoch 96 ====================\n",
      "Train Acc: 0.696262 Train Loss: 0.811859\n",
      "  Val Acc: 0.662037   Val Loss: 0.949186\n",
      "==================== Epoch 97 ====================\n",
      "Train Acc: 0.679907 Train Loss: 0.830431\n",
      "  Val Acc: 0.665509   Val Loss: 0.938756\n",
      "==================== Epoch 98 ====================\n",
      "Train Acc: 0.692757 Train Loss: 0.795979\n",
      "  Val Acc: 0.674769   Val Loss: 0.950175\n",
      "==================== Epoch 99 ====================\n",
      "Train Acc: 0.719626 Train Loss: 0.744593\n",
      "  Val Acc: 0.665509   Val Loss: 0.999501\n",
      "==================== Epoch 100 ====================\n",
      "Train Acc: 0.709112 Train Loss: 0.764713\n",
      "  Val Acc: 0.680556   Val Loss: 0.948515\n",
      "==================== Epoch 101 ====================\n",
      "Train Acc: 0.702103 Train Loss: 0.821584\n",
      "  Val Acc: 0.665509   Val Loss: 0.971345\n",
      "==================== Epoch 102 ====================\n",
      "Train Acc: 0.688084 Train Loss: 0.804926\n",
      "  Val Acc: 0.672454   Val Loss: 0.929606\n",
      "==================== Epoch 103 ====================\n",
      "Train Acc: 0.696262 Train Loss: 0.799729\n",
      "  Val Acc: 0.650463   Val Loss: 0.988006\n",
      "==================== Epoch 104 ====================\n",
      "Train Acc: 0.690421 Train Loss: 0.797561\n",
      "  Val Acc: 0.668981   Val Loss: 0.922848\n",
      "==================== Epoch 105 ====================\n",
      "Train Acc: 0.723131 Train Loss: 0.748587\n",
      "  Val Acc: 0.668981   Val Loss: 0.962322\n",
      "==================== Epoch 106 ====================\n",
      "Train Acc: 0.698598 Train Loss: 0.741407\n",
      "  Val Acc: 0.668981   Val Loss: 0.980289\n",
      "==================== Epoch 107 ====================\n",
      "Train Acc: 0.697430 Train Loss: 0.764907\n",
      "  Val Acc: 0.667824   Val Loss: 0.921859\n",
      "==================== Epoch 108 ====================\n",
      "Train Acc: 0.695093 Train Loss: 0.781797\n",
      "  Val Acc: 0.645833   Val Loss: 0.952459\n",
      "==================== Epoch 109 ====================\n",
      "Train Acc: 0.716121 Train Loss: 0.736541\n",
      "  Val Acc: 0.670139   Val Loss: 0.987941\n",
      "==================== Epoch 110 ====================\n",
      "Train Acc: 0.695093 Train Loss: 0.759287\n",
      "  Val Acc: 0.668981   Val Loss: 0.926672\n",
      "==================== Epoch 111 ====================\n",
      "Train Acc: 0.706776 Train Loss: 0.755877\n",
      "  Val Acc: 0.672454   Val Loss: 0.916565\n",
      "==================== Epoch 112 ====================\n",
      "Train Acc: 0.706776 Train Loss: 0.788308\n",
      "  Val Acc: 0.678241   Val Loss: 0.916373\n",
      "==================== Epoch 113 ====================\n",
      "Train Acc: 0.720794 Train Loss: 0.736364\n",
      "  Val Acc: 0.672454   Val Loss: 0.912541\n",
      "==================== Epoch 114 ====================\n",
      "Train Acc: 0.700935 Train Loss: 0.778100\n",
      "  Val Acc: 0.679398   Val Loss: 0.957204\n",
      "==================== Epoch 115 ====================\n",
      "Train Acc: 0.702103 Train Loss: 0.746705\n",
      "  Val Acc: 0.700231   Val Loss: 0.898895\n",
      "==================== Epoch 116 ====================\n",
      "Train Acc: 0.702103 Train Loss: 0.765420\n",
      "  Val Acc: 0.688657   Val Loss: 0.916945\n",
      "==================== Epoch 117 ====================\n",
      "Train Acc: 0.704439 Train Loss: 0.760935\n",
      "  Val Acc: 0.653935   Val Loss: 0.973393\n",
      "==================== Epoch 118 ====================\n",
      "Train Acc: 0.724299 Train Loss: 0.773216\n",
      "  Val Acc: 0.679398   Val Loss: 0.914846\n",
      "==================== Epoch 119 ====================\n",
      "Train Acc: 0.711449 Train Loss: 0.762602\n",
      "  Val Acc: 0.679398   Val Loss: 0.878791\n",
      "==================== Epoch 120 ====================\n",
      "Train Acc: 0.713785 Train Loss: 0.719228\n",
      "  Val Acc: 0.689815   Val Loss: 0.890051\n",
      "==================== Epoch 121 ====================\n",
      "Train Acc: 0.717290 Train Loss: 0.732933\n",
      "  Val Acc: 0.697917   Val Loss: 0.903563\n",
      "==================== Epoch 122 ====================\n",
      "Train Acc: 0.721963 Train Loss: 0.718799\n",
      "  Val Acc: 0.668981   Val Loss: 0.931582\n",
      "==================== Epoch 123 ====================\n",
      "Train Acc: 0.739486 Train Loss: 0.707812\n",
      "  Val Acc: 0.686343   Val Loss: 0.890181\n",
      "==================== Epoch 124 ====================\n",
      "Train Acc: 0.733645 Train Loss: 0.718639\n",
      "  Val Acc: 0.689815   Val Loss: 0.918266\n",
      "==================== Epoch 125 ====================\n",
      "Train Acc: 0.733645 Train Loss: 0.739768\n",
      "  Val Acc: 0.668981   Val Loss: 0.967529\n",
      "==================== Epoch 126 ====================\n",
      "Train Acc: 0.733645 Train Loss: 0.713909\n",
      "  Val Acc: 0.674769   Val Loss: 0.885145\n",
      "==================== Epoch 127 ====================\n",
      "Train Acc: 0.718458 Train Loss: 0.747537\n",
      "  Val Acc: 0.684028   Val Loss: 0.891242\n",
      "==================== Epoch 128 ====================\n",
      "Train Acc: 0.712617 Train Loss: 0.718018\n",
      "  Val Acc: 0.663194   Val Loss: 0.961194\n",
      "==================== Epoch 129 ====================\n",
      "Train Acc: 0.726636 Train Loss: 0.709903\n",
      "  Val Acc: 0.704861   Val Loss: 0.866280\n",
      "==================== Epoch 130 ====================\n",
      "Train Acc: 0.723131 Train Loss: 0.743874\n",
      "  Val Acc: 0.694444   Val Loss: 0.895702\n",
      "==================== Epoch 131 ====================\n",
      "Train Acc: 0.734813 Train Loss: 0.683560\n",
      "  Val Acc: 0.685185   Val Loss: 0.917031\n",
      "==================== Epoch 132 ====================\n",
      "Train Acc: 0.759346 Train Loss: 0.684374\n",
      "  Val Acc: 0.672454   Val Loss: 0.957170\n",
      "==================== Epoch 133 ====================\n",
      "Train Acc: 0.717290 Train Loss: 0.760109\n",
      "  Val Acc: 0.675926   Val Loss: 0.957783\n",
      "==================== Epoch 134 ====================\n",
      "Train Acc: 0.721963 Train Loss: 0.722169\n",
      "  Val Acc: 0.687500   Val Loss: 0.929845\n",
      "==================== Epoch 135 ====================\n",
      "Train Acc: 0.730140 Train Loss: 0.682670\n",
      "  Val Acc: 0.679398   Val Loss: 0.931162\n",
      "==================== Epoch 136 ====================\n",
      "Train Acc: 0.724299 Train Loss: 0.737317\n",
      "  Val Acc: 0.679398   Val Loss: 0.909959\n",
      "==================== Epoch 137 ====================\n",
      "Train Acc: 0.746495 Train Loss: 0.666015\n",
      "  Val Acc: 0.684028   Val Loss: 0.929363\n",
      "==================== Epoch 138 ====================\n",
      "Train Acc: 0.747664 Train Loss: 0.656078\n",
      "  Val Acc: 0.700231   Val Loss: 0.939100\n",
      "==================== Epoch 139 ====================\n",
      "Train Acc: 0.751168 Train Loss: 0.678896\n",
      "  Val Acc: 0.682870   Val Loss: 0.936244\n",
      "==================== Epoch 140 ====================\n",
      "Train Acc: 0.751168 Train Loss: 0.646759\n",
      "  Val Acc: 0.692130   Val Loss: 0.884349\n",
      "==================== Epoch 141 ====================\n",
      "Train Acc: 0.767523 Train Loss: 0.663515\n",
      "  Val Acc: 0.699074   Val Loss: 0.900988\n",
      "==================== Epoch 142 ====================\n",
      "Train Acc: 0.717290 Train Loss: 0.730765\n",
      "  Val Acc: 0.697917   Val Loss: 0.908058\n",
      "==================== Epoch 143 ====================\n",
      "Train Acc: 0.737150 Train Loss: 0.693394\n",
      "  Val Acc: 0.712963   Val Loss: 0.888655\n",
      "==================== Epoch 144 ====================\n",
      "Train Acc: 0.760514 Train Loss: 0.646698\n",
      "  Val Acc: 0.712963   Val Loss: 0.871246\n",
      "==================== Epoch 145 ====================\n",
      "Train Acc: 0.731308 Train Loss: 0.687049\n",
      "  Val Acc: 0.694444   Val Loss: 0.899567\n",
      "==================== Epoch 146 ====================\n",
      "Train Acc: 0.745327 Train Loss: 0.664071\n",
      "  Val Acc: 0.696759   Val Loss: 0.872713\n",
      "==================== Epoch 147 ====================\n",
      "Train Acc: 0.773364 Train Loss: 0.614136\n",
      "  Val Acc: 0.690972   Val Loss: 0.906864\n",
      "==================== Epoch 148 ====================\n",
      "Train Acc: 0.732477 Train Loss: 0.691143\n",
      "  Val Acc: 0.686343   Val Loss: 0.950394\n",
      "==================== Epoch 149 ====================\n",
      "Train Acc: 0.714953 Train Loss: 0.698403\n",
      "  Val Acc: 0.701389   Val Loss: 0.913421\n",
      "Early stopping at epoch 149 due to no improvement in validation loss.\n"
     ]
    }
   ],
   "source": [
    "################################################################################\n",
    "#     You can adjust those hyper parameters to loop for max_epochs times       #\n",
    "################################################################################\n",
    "max_epochs = 300\n",
    "log_interval = 1\n",
    "early_stopping_patience = 20    # Number of epochs to wait for improvement\n",
    "\n",
    "train_acc_list = []\n",
    "train_loss_list = []\n",
    "val_acc_list = []\n",
    "val_loss_list = []\n",
    "\n",
    "best_val_loss = torch.inf       # Initialize with a large value\n",
    "no_improvement_count = 0\n",
    "\n",
    "best_model_state_dict = None    # To store the state_dict of the best model\n",
    "\n",
    "for epoch in range(1, max_epochs + 1):\n",
    "    train_acc, train_loss = train(train_loader, model, criterion, optimizer)\n",
    "    val_acc, val_loss = val(valid_loader, model, criterion)\n",
    "\n",
    "    train_acc_list.append(train_acc)\n",
    "    train_loss_list.append(train_loss)\n",
    "    val_acc_list.append(val_acc)\n",
    "    val_loss_list.append(val_loss)\n",
    "\n",
    "    if epoch % log_interval == 0:\n",
    "        print('=' * 20, 'Epoch', epoch, '=' * 20)\n",
    "        print('Train Acc: {:.6f} Train Loss: {:.6f}'.format(train_acc, train_loss))\n",
    "        print('  Val Acc: {:.6f}   Val Loss: {:.6f}'.format(val_acc, val_loss))\n",
    "\n",
    "    # Check for early stopping based on validation loss\n",
    "    if val_loss < best_val_loss:\n",
    "        best_val_loss = val_loss\n",
    "        no_improvement_count = 0\n",
    "\n",
    "        # Save a copy of the model's state_dict when the best validation loss is seen\n",
    "        best_model_state_dict = model.state_dict()\n",
    "    else:\n",
    "        no_improvement_count += 1\n",
    "\n",
    "    if no_improvement_count >= early_stopping_patience:\n",
    "        print(f'Early stopping at epoch {epoch} due to no improvement in validation loss.')\n",
    "\n",
    "        # Restore the best model weights\n",
    "        if best_model_state_dict is not None:\n",
    "            model.load_state_dict(best_model_state_dict)\n",
    "        break\n",
    "\n",
    "################################################################################\n",
    "#                               End of your code                               #\n",
    "################################################################################"
   ]
  },
  {
   "cell_type": "code",
   "execution_count": 55,
   "metadata": {
    "ExecuteTime": {
     "end_time": "2023-10-19T06:45:32.422902Z",
     "start_time": "2023-10-19T06:45:30.234363200Z"
    }
   },
   "outputs": [
    {
     "data": {
      "text/plain": "<Figure size 1200x400 with 1 Axes>",
      "image/png": "[encoded data removed]"
     },
     "metadata": {},
     "output_type": "display_data"
    },
    {
     "data": {
      "text/plain": "<Figure size 1200x400 with 1 Axes>",
      "image/png": "[encoded data removed]"
     },
     "metadata": {},
     "output_type": "display_data"
    }
   ],
   "source": [
    "import matplotlib.pyplot as plt\n",
    "\n",
    "plt.figure(figsize=(12, 4))\n",
    "plt.plot(range(len(train_loss_list)), train_loss_list)\n",
    "plt.plot(range(len(val_loss_list)), val_loss_list, c='r')\n",
    "plt.legend(['train', 'val'])\n",
    "plt.title('Loss')\n",
    "plt.show()\n",
    "plt.figure(figsize=(12, 4))\n",
    "plt.plot(range(len(train_acc_list)), train_acc_list)\n",
    "plt.plot(range(len(val_acc_list)), val_acc_list, c='r')\n",
    "plt.legend(['train', 'val'])\n",
    "plt.title('Acc')\n",
    "plt.show()"
   ]
  },
  {
   "cell_type": "code",
   "execution_count": 56,
   "metadata": {
    "ExecuteTime": {
     "end_time": "2023-10-19T06:47:02.029706400Z",
     "start_time": "2023-10-19T06:47:01.993329100Z"
    }
   },
   "outputs": [],
   "source": [
    "from datetime import datetime\n",
    "\n",
    "# save your well-trained state_dict of model\n",
    "# Get the current timestamp\n",
    "timestamp = datetime.now().strftime(\"%Y-%m-%d-%H-%M\")\n",
    "torch.save(model.state_dict(), f'MB-CONV_{timestamp}.pt')"
   ]
  },
  {
   "cell_type": "markdown",
   "metadata": {},
   "source": [
    "finish training your classifier, next you should use this classifer to predict unlabel images with pseduo label."
   ]
  },
  {
   "cell_type": "markdown",
   "metadata": {},
   "source": [
    "## Step2: Use unlabeled data to enhance model performance"
   ]
  },
  {
   "cell_type": "code",
   "execution_count": 58,
   "metadata": {
    "ExecuteTime": {
     "end_time": "2023-10-16T12:57:31.296528800Z",
     "start_time": "2023-10-16T12:57:31.246811100Z"
    }
   },
   "outputs": [
    {
     "data": {
      "text/plain": "<All keys matched successfully>"
     },
     "execution_count": 58,
     "metadata": {},
     "output_type": "execute_result"
    }
   ],
   "source": [
    "# load the trained classifier weights\n",
    "ckpt = torch.load('MB-CONV_2023-10-15-12-48.pt')\n",
    "model.load_state_dict(ckpt) "
   ]
  },
  {
   "cell_type": "code",
   "execution_count": 60,
   "metadata": {
    "ExecuteTime": {
     "end_time": "2023-10-19T06:51:37.927153100Z",
     "start_time": "2023-10-19T06:51:30.405101700Z"
    }
   },
   "outputs": [
    {
     "name": "stdout",
     "output_type": "stream",
     "text": [
      "1735\n"
     ]
    }
   ],
   "source": [
    "# create a unlabeled data set list, we will use it later\n",
    "unlabeled_set_list = []\n",
    "\n",
    "for img in unlabeled_set:\n",
    "    unlabeled_set_list.append(img)\n",
    "    \n",
    "print(len(unlabeled_set_list))"
   ]
  },
  {
   "cell_type": "markdown",
   "metadata": {},
   "source": [
    "i### Define loss and optimizer"
   ]
  },
  {
   "cell_type": "code",
   "execution_count": 61,
   "metadata": {
    "ExecuteTime": {
     "end_time": "2023-10-19T06:51:41.442220Z",
     "start_time": "2023-10-19T06:51:41.422221600Z"
    }
   },
   "outputs": [],
   "source": [
    "import torch.nn as nn\n",
    "import torch.optim as optim\n",
    "################################################################################\n",
    "# TODO: Define loss and optmizer functions                                     #\n",
    "# Try any loss or optimizer function and learning rate to get better result    #\n",
    "# hint: torch.nn and torch.optim                                               #\n",
    "################################################################################\n",
    "# CrossEntropyLoss for classification tasks\n",
    "criterion = nn.CrossEntropyLoss()\n",
    "\n",
    "# Adam optimizer\n",
    "learning_rate = 0.0001\n",
    "optimizer = optim.Adam(model.parameters(), lr=learning_rate, weight_decay=0.001)\n",
    "################################################################################\n",
    "#                               End of your code                               #\n",
    "################################################################################\n",
    "criterion = criterion.to(device)"
   ]
  },
  {
   "cell_type": "markdown",
   "metadata": {},
   "source": [
    "### Use the trained classifier to generates pseudo-labels of a dataset."
   ]
  },
  {
   "cell_type": "code",
   "execution_count": 62,
   "metadata": {
    "ExecuteTime": {
     "end_time": "2023-10-19T06:51:44.268477900Z",
     "start_time": "2023-10-19T06:51:44.259438600Z"
    }
   },
   "outputs": [],
   "source": [
    "from torch.utils.data import ConcatDataset, DataLoader, Subset\n",
    "from tqdm.auto import tqdm\n",
    "\n",
    "###########################################################\n",
    "#   You can adjust the threshold to get better result !   #                                  \n",
    "###########################################################\n",
    "def get_pseudo_labels(model, threshold=0.5):\n",
    "    \n",
    "    global unlabeled_set_list, train_set\n",
    "    \n",
    "    remove_index, index = [], 0\n",
    "\n",
    "    model.eval()\n",
    "    \n",
    "    softmax = nn.Softmax(dim=-1)\n",
    "\n",
    "    # Iterate over the dataset by batches.\n",
    "    for img in tqdm(unlabeled_set_list):\n",
    "        \n",
    "        #####################################################################################\n",
    "        #     TODO:                                                                         #\n",
    "        #     1. Foward the data, Using torch.no_grad() accelerates the forward process     #\n",
    "        #     2. obtain the probability distributions by applying softmax on logits         #\n",
    "        #     3. Filter the data with threshold                                             #\n",
    "        #     4. Combine the labeled training data with the pseudo-labeled data             #\n",
    "        #        to construct a new training set. then removed                              #\n",
    "        #     5. the unlabeled data from unlabeled_set_list                                 #\n",
    "        #     hint: ConcatDataset                                                           #\n",
    "        ##################################################################################### \n",
    "        with torch.no_grad():\n",
    "            img = img.to(device)  # Move the image to the device (e.g., GPU)\n",
    "\n",
    "            # 1. Forward the data\n",
    "            outputs = model(img.unsqueeze(0))  # Unsqueeze to add batch dimension\n",
    "\n",
    "            # 2. Obtain the probability distributions by applying softmax on logits\n",
    "            probs = softmax(outputs)\n",
    "\n",
    "            # 3. Filter the data with the threshold\n",
    "            max_prob, predicted_label = torch.max(probs, 1)\n",
    "\n",
    "            if max_prob.item() >= threshold:\n",
    "                # 4. Add the pseudo-label and image for the train set.\n",
    "                train_set.data_list.append(unlabeled_set.data_list[index])\n",
    "                train_set.labels.append(predicted_label.item())\n",
    "\n",
    "                # 5. Remove the unlabeled data from unlabeled_set_list\n",
    "                remove_index.append(index)\n",
    "\n",
    "            index += 1\n",
    "        #####################################################################################\n",
    "        #                           End of your code                                        #\n",
    "        #####################################################################################\n",
    "\n",
    "     \n",
    "    remove_index.reverse()\n",
    "    for i in remove_index:\n",
    "        del unlabeled_set_list[i]\n",
    "\n",
    "    print(f\"[{len(train_set)-854}/1735] images have been labeled.\")\n",
    "    \n",
    "    # # Turn off the eval mode.\n",
    "    model.train()"
   ]
  },
  {
   "cell_type": "markdown",
   "metadata": {},
   "source": [
    "### Train the model"
   ]
  },
  {
   "cell_type": "markdown",
   "metadata": {},
   "source": [
    "Let's define train function.  \n",
    "\n",
    "Use the **get_pseudo_labels** function to get the new training set, then construct a new data loader for training.\n",
    "\n",
    "It will iterate input data 1 epoch and update model with optmizer.  \n",
    "\n",
    "Finally, calculate mean loss and total accuracy."
   ]
  },
  {
   "cell_type": "code",
   "execution_count": 63,
   "metadata": {
    "ExecuteTime": {
     "end_time": "2023-10-19T06:53:32.547986800Z",
     "start_time": "2023-10-19T06:51:48.609451600Z"
    }
   },
   "outputs": [
    {
     "data": {
      "text/plain": "  0%|          | 0/1735 [00:00<?, ?it/s]",
      "application/vnd.jupyter.widget-view+json": {
       "version_major": 2,
       "version_minor": 0,
       "model_id": "5114d634b6d74a8bbcd6f7a0a544841c"
      }
     },
     "metadata": {},
     "output_type": "display_data"
    },
    {
     "name": "stdout",
     "output_type": "stream",
     "text": [
      "[620/1735] images have been labeled.\n"
     ]
    },
    {
     "data": {
      "text/plain": "  0%|          | 0/47 [00:00<?, ?it/s]",
      "application/vnd.jupyter.widget-view+json": {
       "version_major": 2,
       "version_minor": 0,
       "model_id": "3dcdfa3467624f4fa51954525cd8b931"
      }
     },
     "metadata": {},
     "output_type": "display_data"
    },
    {
     "name": "stdout",
     "output_type": "stream",
     "text": [
      "[ Train | 001/010 ] loss = 0.55709, acc = 0.78856\n"
     ]
    },
    {
     "data": {
      "text/plain": "  0%|          | 0/27 [00:00<?, ?it/s]",
      "application/vnd.jupyter.widget-view+json": {
       "version_major": 2,
       "version_minor": 0,
       "model_id": "86f3e30207f54cb68cd221f37b8d86aa"
      }
     },
     "metadata": {},
     "output_type": "display_data"
    },
    {
     "name": "stdout",
     "output_type": "stream",
     "text": [
      "[ Valid | 001/010 ] loss = 0.88385, acc = 0.70370\n",
      "[001/010] saving model with acc 0.704\n"
     ]
    },
    {
     "data": {
      "text/plain": "  0%|          | 0/1115 [00:00<?, ?it/s]",
      "application/vnd.jupyter.widget-view+json": {
       "version_major": 2,
       "version_minor": 0,
       "model_id": "5e5deb1e2c7442afb6b6fe0f0e0e704f"
      }
     },
     "metadata": {},
     "output_type": "display_data"
    },
    {
     "name": "stdout",
     "output_type": "stream",
     "text": [
      "[104/1735] images have been labeled.\n"
     ]
    },
    {
     "data": {
      "text/plain": "  0%|          | 0/30 [00:00<?, ?it/s]",
      "application/vnd.jupyter.widget-view+json": {
       "version_major": 2,
       "version_minor": 0,
       "model_id": "6592eae5860a481a95504b2f7e0cee4a"
      }
     },
     "metadata": {},
     "output_type": "display_data"
    },
    {
     "name": "stdout",
     "output_type": "stream",
     "text": [
      "[ Train | 002/010 ] loss = 0.91817, acc = 0.70889\n"
     ]
    },
    {
     "data": {
      "text/plain": "  0%|          | 0/27 [00:00<?, ?it/s]",
      "application/vnd.jupyter.widget-view+json": {
       "version_major": 2,
       "version_minor": 0,
       "model_id": "50af8b17b06249909b0b63afd8cf3dc9"
      }
     },
     "metadata": {},
     "output_type": "display_data"
    },
    {
     "name": "stdout",
     "output_type": "stream",
     "text": [
      "[ Valid | 002/010 ] loss = 0.86258, acc = 0.70602\n",
      "[002/010] saving model with acc 0.706\n"
     ]
    },
    {
     "data": {
      "text/plain": "  0%|          | 0/1011 [00:00<?, ?it/s]",
      "application/vnd.jupyter.widget-view+json": {
       "version_major": 2,
       "version_minor": 0,
       "model_id": "956e027fcf2945ac86b612ea95dd53a7"
      }
     },
     "metadata": {},
     "output_type": "display_data"
    },
    {
     "name": "stdout",
     "output_type": "stream",
     "text": [
      "[38/1735] images have been labeled.\n"
     ]
    },
    {
     "data": {
      "text/plain": "  0%|          | 0/28 [00:00<?, ?it/s]",
      "application/vnd.jupyter.widget-view+json": {
       "version_major": 2,
       "version_minor": 0,
       "model_id": "cca38fb188364038b431564ab675f10f"
      }
     },
     "metadata": {},
     "output_type": "display_data"
    },
    {
     "name": "stdout",
     "output_type": "stream",
     "text": [
      "[ Train | 003/010 ] loss = 0.73668, acc = 0.72162\n"
     ]
    },
    {
     "data": {
      "text/plain": "  0%|          | 0/27 [00:00<?, ?it/s]",
      "application/vnd.jupyter.widget-view+json": {
       "version_major": 2,
       "version_minor": 0,
       "model_id": "303d583b3fbb4542adb306282a76a165"
      }
     },
     "metadata": {},
     "output_type": "display_data"
    },
    {
     "name": "stdout",
     "output_type": "stream",
     "text": [
      "[ Valid | 003/010 ] loss = 0.86549, acc = 0.70486\n"
     ]
    },
    {
     "data": {
      "text/plain": "  0%|          | 0/973 [00:00<?, ?it/s]",
      "application/vnd.jupyter.widget-view+json": {
       "version_major": 2,
       "version_minor": 0,
       "model_id": "f0b10432e395486483d38a9e3ec6d3bc"
      }
     },
     "metadata": {},
     "output_type": "display_data"
    },
    {
     "name": "stdout",
     "output_type": "stream",
     "text": [
      "[15/1735] images have been labeled.\n"
     ]
    },
    {
     "data": {
      "text/plain": "  0%|          | 0/28 [00:00<?, ?it/s]",
      "application/vnd.jupyter.widget-view+json": {
       "version_major": 2,
       "version_minor": 0,
       "model_id": "c28130717c124c0bbe90f82f461e819e"
      }
     },
     "metadata": {},
     "output_type": "display_data"
    },
    {
     "name": "stdout",
     "output_type": "stream",
     "text": [
      "[ Train | 004/010 ] loss = 0.64987, acc = 0.76406\n"
     ]
    },
    {
     "data": {
      "text/plain": "  0%|          | 0/27 [00:00<?, ?it/s]",
      "application/vnd.jupyter.widget-view+json": {
       "version_major": 2,
       "version_minor": 0,
       "model_id": "71ed089982814803a9be4f323db3aec3"
      }
     },
     "metadata": {},
     "output_type": "display_data"
    },
    {
     "name": "stdout",
     "output_type": "stream",
     "text": [
      "[ Valid | 004/010 ] loss = 0.85607, acc = 0.71181\n",
      "[004/010] saving model with acc 0.712\n"
     ]
    },
    {
     "data": {
      "text/plain": "  0%|          | 0/958 [00:00<?, ?it/s]",
      "application/vnd.jupyter.widget-view+json": {
       "version_major": 2,
       "version_minor": 0,
       "model_id": "a2028a8888d44e469fe6073bcf742542"
      }
     },
     "metadata": {},
     "output_type": "display_data"
    },
    {
     "name": "stdout",
     "output_type": "stream",
     "text": [
      "[20/1735] images have been labeled.\n"
     ]
    },
    {
     "data": {
      "text/plain": "  0%|          | 0/28 [00:00<?, ?it/s]",
      "application/vnd.jupyter.widget-view+json": {
       "version_major": 2,
       "version_minor": 0,
       "model_id": "f11c69ad282e4867b5a562df0b139efc"
      }
     },
     "metadata": {},
     "output_type": "display_data"
    },
    {
     "name": "stdout",
     "output_type": "stream",
     "text": [
      "[ Train | 005/010 ] loss = 0.65008, acc = 0.78103\n"
     ]
    },
    {
     "data": {
      "text/plain": "  0%|          | 0/27 [00:00<?, ?it/s]",
      "application/vnd.jupyter.widget-view+json": {
       "version_major": 2,
       "version_minor": 0,
       "model_id": "84cffde28a2c44e59bfb25aaf34fca10"
      }
     },
     "metadata": {},
     "output_type": "display_data"
    },
    {
     "name": "stdout",
     "output_type": "stream",
     "text": [
      "[ Valid | 005/010 ] loss = 0.84689, acc = 0.71296\n",
      "[005/010] saving model with acc 0.713\n"
     ]
    },
    {
     "data": {
      "text/plain": "  0%|          | 0/938 [00:00<?, ?it/s]",
      "application/vnd.jupyter.widget-view+json": {
       "version_major": 2,
       "version_minor": 0,
       "model_id": "e818164cdeaa47078de30779dee6f0de"
      }
     },
     "metadata": {},
     "output_type": "display_data"
    },
    {
     "name": "stdout",
     "output_type": "stream",
     "text": [
      "[5/1735] images have been labeled.\n"
     ]
    },
    {
     "data": {
      "text/plain": "  0%|          | 0/27 [00:00<?, ?it/s]",
      "application/vnd.jupyter.widget-view+json": {
       "version_major": 2,
       "version_minor": 0,
       "model_id": "98cfd72ba24a45bbabaa66daad575625"
      }
     },
     "metadata": {},
     "output_type": "display_data"
    },
    {
     "name": "stdout",
     "output_type": "stream",
     "text": [
      "[ Train | 006/010 ] loss = 0.60130, acc = 0.76462\n"
     ]
    },
    {
     "data": {
      "text/plain": "  0%|          | 0/27 [00:00<?, ?it/s]",
      "application/vnd.jupyter.widget-view+json": {
       "version_major": 2,
       "version_minor": 0,
       "model_id": "2591a3152075411a8f20e63c85b5e571"
      }
     },
     "metadata": {},
     "output_type": "display_data"
    },
    {
     "name": "stdout",
     "output_type": "stream",
     "text": [
      "[ Valid | 006/010 ] loss = 0.83498, acc = 0.71991\n",
      "[006/010] saving model with acc 0.720\n"
     ]
    },
    {
     "data": {
      "text/plain": "  0%|          | 0/933 [00:00<?, ?it/s]",
      "application/vnd.jupyter.widget-view+json": {
       "version_major": 2,
       "version_minor": 0,
       "model_id": "fd5b4708b4d14ee28c98675664321973"
      }
     },
     "metadata": {},
     "output_type": "display_data"
    },
    {
     "name": "stdout",
     "output_type": "stream",
     "text": [
      "[7/1735] images have been labeled.\n"
     ]
    },
    {
     "data": {
      "text/plain": "  0%|          | 0/27 [00:00<?, ?it/s]",
      "application/vnd.jupyter.widget-view+json": {
       "version_major": 2,
       "version_minor": 0,
       "model_id": "a3b397bcb3d94bd58c5734d08b379d1a"
      }
     },
     "metadata": {},
     "output_type": "display_data"
    },
    {
     "name": "stdout",
     "output_type": "stream",
     "text": [
      "[ Train | 007/010 ] loss = 0.61520, acc = 0.76373\n"
     ]
    },
    {
     "data": {
      "text/plain": "  0%|          | 0/27 [00:00<?, ?it/s]",
      "application/vnd.jupyter.widget-view+json": {
       "version_major": 2,
       "version_minor": 0,
       "model_id": "e2cc36c76269466f8292a3713f9a8481"
      }
     },
     "metadata": {},
     "output_type": "display_data"
    },
    {
     "name": "stdout",
     "output_type": "stream",
     "text": [
      "[ Valid | 007/010 ] loss = 0.84370, acc = 0.71644\n"
     ]
    },
    {
     "data": {
      "text/plain": "  0%|          | 0/926 [00:00<?, ?it/s]",
      "application/vnd.jupyter.widget-view+json": {
       "version_major": 2,
       "version_minor": 0,
       "model_id": "1a96cbb3120d44b3b34c209908fa5860"
      }
     },
     "metadata": {},
     "output_type": "display_data"
    },
    {
     "name": "stdout",
     "output_type": "stream",
     "text": [
      "[26/1735] images have been labeled.\n"
     ]
    },
    {
     "data": {
      "text/plain": "  0%|          | 0/28 [00:00<?, ?it/s]",
      "application/vnd.jupyter.widget-view+json": {
       "version_major": 2,
       "version_minor": 0,
       "model_id": "07aea8d463ec4d0da7a828fee6a0ba38"
      }
     },
     "metadata": {},
     "output_type": "display_data"
    },
    {
     "name": "stdout",
     "output_type": "stream",
     "text": [
      "[ Train | 008/010 ] loss = 0.71044, acc = 0.76451\n"
     ]
    },
    {
     "data": {
      "text/plain": "  0%|          | 0/27 [00:00<?, ?it/s]",
      "application/vnd.jupyter.widget-view+json": {
       "version_major": 2,
       "version_minor": 0,
       "model_id": "e07de5a3bf1a4fd781746e6c09e075de"
      }
     },
     "metadata": {},
     "output_type": "display_data"
    },
    {
     "name": "stdout",
     "output_type": "stream",
     "text": [
      "[ Valid | 008/010 ] loss = 0.83393, acc = 0.70833\n"
     ]
    },
    {
     "data": {
      "text/plain": "  0%|          | 0/900 [00:00<?, ?it/s]",
      "application/vnd.jupyter.widget-view+json": {
       "version_major": 2,
       "version_minor": 0,
       "model_id": "87c8c824ab1646e887fa9f91d3fef88a"
      }
     },
     "metadata": {},
     "output_type": "display_data"
    },
    {
     "name": "stdout",
     "output_type": "stream",
     "text": [
      "[9/1735] images have been labeled.\n"
     ]
    },
    {
     "data": {
      "text/plain": "  0%|          | 0/27 [00:00<?, ?it/s]",
      "application/vnd.jupyter.widget-view+json": {
       "version_major": 2,
       "version_minor": 0,
       "model_id": "0091d95016c74eb397f4b85e34083254"
      }
     },
     "metadata": {},
     "output_type": "display_data"
    },
    {
     "name": "stdout",
     "output_type": "stream",
     "text": [
      "[ Train | 009/010 ] loss = 0.60624, acc = 0.76826\n"
     ]
    },
    {
     "data": {
      "text/plain": "  0%|          | 0/27 [00:00<?, ?it/s]",
      "application/vnd.jupyter.widget-view+json": {
       "version_major": 2,
       "version_minor": 0,
       "model_id": "21654c5e42994e449fa0301bb241eadd"
      }
     },
     "metadata": {},
     "output_type": "display_data"
    },
    {
     "name": "stdout",
     "output_type": "stream",
     "text": [
      "[ Valid | 009/010 ] loss = 0.83379, acc = 0.70718\n"
     ]
    },
    {
     "data": {
      "text/plain": "  0%|          | 0/891 [00:00<?, ?it/s]",
      "application/vnd.jupyter.widget-view+json": {
       "version_major": 2,
       "version_minor": 0,
       "model_id": "9074ee74b8fe4107830314f579d5bfbd"
      }
     },
     "metadata": {},
     "output_type": "display_data"
    },
    {
     "name": "stdout",
     "output_type": "stream",
     "text": [
      "[2/1735] images have been labeled.\n"
     ]
    },
    {
     "data": {
      "text/plain": "  0%|          | 0/27 [00:00<?, ?it/s]",
      "application/vnd.jupyter.widget-view+json": {
       "version_major": 2,
       "version_minor": 0,
       "model_id": "aabada8fccbb4bb7abe0e66df6a40eff"
      }
     },
     "metadata": {},
     "output_type": "display_data"
    },
    {
     "name": "stdout",
     "output_type": "stream",
     "text": [
      "[ Train | 010/010 ] loss = 0.58870, acc = 0.78318\n"
     ]
    },
    {
     "data": {
      "text/plain": "  0%|          | 0/27 [00:00<?, ?it/s]",
      "application/vnd.jupyter.widget-view+json": {
       "version_major": 2,
       "version_minor": 0,
       "model_id": "5dd5d6e7470c481aa2f5c7b67082e7fe"
      }
     },
     "metadata": {},
     "output_type": "display_data"
    },
    {
     "name": "stdout",
     "output_type": "stream",
     "text": [
      "[ Valid | 010/010 ] loss = 0.83653, acc = 0.70486\n"
     ]
    }
   ],
   "source": [
    "import sys\n",
    "sys.setrecursionlimit(1000000)\n",
    "#########################################################################################################\n",
    "#         You can adjust those hyper parameters like epochs or threshlod for training                   #\n",
    "#########################################################################################################\n",
    "n_epochs = 10\n",
    "best_acc = 0\n",
    "\n",
    "\n",
    "for epoch in range(n_epochs):\n",
    "\n",
    "    #########################################################################################################\n",
    "    #    TODO:                                                                                              #\n",
    "    #    In each epoch, relabel the unlabeled dataset for semi-supervised learning.                         #\n",
    "    #    1. Obtain pseudo-labels for unlabeled data using trained model.(use get_pseudo_labels function)    #\n",
    "    #    2. Construct a new dataset and a data loader for training.                                         #\n",
    "    #    You can try different way to use the get_pseudo_label function maybe will get the better result.   #                                  #\n",
    "    #########################################################################################################\n",
    "    global train_set\n",
    "    train_set = FlowerData('train_labeled_dataset.csv', mode='train', transform=transforms_train)\n",
    "    get_pseudo_labels(model, threshold=0.85)\n",
    "\n",
    "    # Create a new data loader for training\n",
    "    train_loader = DataLoader(train_set, batch_size=batch_size, num_workers=num_workers, shuffle=True)\n",
    "    #########################################################################################################  \n",
    "    #                                          End of your code                                             #\n",
    "    #########################################################################################################\n",
    "\n",
    "    # ---------- Training ----------\n",
    "    model.train()\n",
    "    \n",
    "    train_loss = []\n",
    "    train_accs = []\n",
    "\n",
    "    for batch in tqdm(train_loader):\n",
    "\n",
    "        imgs, labels = batch\n",
    "\n",
    "        logits = model(imgs.to(device))\n",
    "        \n",
    "        loss = criterion(logits, labels.to(device))\n",
    "\n",
    "        optimizer.zero_grad()\n",
    "\n",
    "        loss.backward()\n",
    "\n",
    "        grad_norm = nn.utils.clip_grad_norm_(model.parameters(), max_norm=10)\n",
    "\n",
    "        optimizer.step()\n",
    "\n",
    "        acc = (logits.argmax(dim=-1) == labels.to(device)).float().mean()\n",
    "\n",
    "        train_loss.append(loss.item())\n",
    "        train_accs.append(acc)\n",
    "\n",
    "    train_loss = sum(train_loss) / len(train_loss)\n",
    "    train_acc = sum(train_accs) / len(train_accs)\n",
    "\n",
    "    print(f\"[ Train | {epoch + 1:03d}/{n_epochs:03d} ] loss = {train_loss:.5f}, acc = {train_acc:.5f}\")\n",
    "\n",
    "    # ---------- Validation ----------\n",
    "    model.eval()\n",
    "\n",
    "    valid_loss = []\n",
    "    valid_accs = []\n",
    "\n",
    "    for batch in tqdm(valid_loader):\n",
    "\n",
    "        imgs, labels = batch\n",
    "\n",
    "        with torch.no_grad():\n",
    "          logits = model(imgs.to(device))\n",
    "\n",
    "        loss = criterion(logits, labels.to(device))\n",
    "\n",
    "        acc = (logits.argmax(dim=-1) == labels.to(device)).float().mean()\n",
    "\n",
    "        valid_loss.append(loss.item())\n",
    "        valid_accs.append(acc)\n",
    "\n",
    "    valid_loss = sum(valid_loss) / len(valid_loss)\n",
    "    valid_acc = sum(valid_accs) / len(valid_accs)\n",
    "    valid_acc_last = valid_acc\n",
    "\n",
    "    print(f\"[ Valid | {epoch + 1:03d}/{n_epochs:03d} ] loss = {valid_loss:.5f}, acc = {valid_acc:.5f}\")\n",
    "    \n",
    "    if valid_acc > best_acc:\n",
    "        best_acc = valid_acc\n",
    "        torch.save(model.state_dict(), 'NAME_OF_SELF_TRAINING_EXPERIMENT.pt')\n",
    "        print('[{:03d}/{:03d}] saving model with acc {:.3f}'.format(epoch + 1, n_epochs, best_acc))\n",
    "#########################################################################################################\n",
    "#                               End of your code                                                        #\n",
    "#########################################################################################################\n",
    "    "
   ]
  },
  {
   "cell_type": "code",
   "execution_count": 65,
   "metadata": {
    "ExecuteTime": {
     "end_time": "2023-10-19T06:53:54.229927500Z",
     "start_time": "2023-10-19T06:53:54.208906300Z"
    }
   },
   "outputs": [],
   "source": [
    "# save your well-trained state_dict of model\n",
    "# Get the current timestamp\n",
    "timestamp = datetime.now().strftime(\"%Y-%m-%d-%H-%M\")\n",
    "torch.save(model.state_dict(), f'MB-CONV_Self_Train_{timestamp}.pt')"
   ]
  },
  {
   "cell_type": "markdown",
   "metadata": {},
   "source": [
    "### Predict Result\n",
    "\n",
    "Predict the labesl based on testing set. Upload to [Kaggle](https://www.kaggle.com/t/e304bb12c8a84e5c9c1b27a6c3bd4026).\n",
    "\n",
    "**How to upload**\n",
    "\n",
    "1. Click the folder icon in the left hand side of Colab.\n",
    "2. Right click \"result.csv\". Select \"Download\"\n",
    "3. To kaggle. Click \"Submit Predictions\"\n",
    "4. Upload the result.csv\n",
    "5. System will automaticlaly calculate the accuracy of 50% dataset and publish this result to leaderboard.\n",
    "\n",
    "---\n",
    "\n",
    "預測`test`並將結果上傳至Kaggle。[**連結**](https://www.kaggle.com/t/e304bb12c8a84e5c9c1b27a6c3bd4026)\n",
    "\n",
    "執行完畢此區的程式碼後，會將`test`預測完的結果存下來。\n",
    "\n",
    "上傳流程\n",
    "1. 點選左側選單最下方的資料夾圖示\n",
    "2. 右鍵「result.csv」\n",
    "3. 點選「Download」\n",
    "4. 至連結網頁點選「Submit Predictions」\n",
    "5. 將剛剛下載的檔案上傳\n",
    "6. 系統會計算並公布其中50%資料的正確率"
   ]
  },
  {
   "cell_type": "code",
   "execution_count": 64,
   "metadata": {
    "ExecuteTime": {
     "end_time": "2023-10-19T06:53:48.419569400Z",
     "start_time": "2023-10-19T06:53:48.361987100Z"
    }
   },
   "outputs": [
    {
     "data": {
      "text/plain": "<All keys matched successfully>"
     },
     "execution_count": 64,
     "metadata": {},
     "output_type": "execute_result"
    }
   ],
   "source": [
    "# if you wanna load previous best model\n",
    "ckpt = torch.load('NAME_OF_SELF_TRAINING_EXPERIMENT.pt')\n",
    "model.load_state_dict(ckpt)"
   ]
  },
  {
   "cell_type": "code",
   "execution_count": 66,
   "metadata": {
    "ExecuteTime": {
     "end_time": "2023-10-19T06:53:58.234534300Z",
     "start_time": "2023-10-19T06:53:58.194356300Z"
    }
   },
   "outputs": [],
   "source": [
    "test_set = FlowerData('test.csv', mode='test', transform=transforms_test)\n",
    "test_loader = DataLoader(test_set, batch_size=batch_size, num_workers=num_workers, shuffle=False)"
   ]
  },
  {
   "cell_type": "code",
   "execution_count": 67,
   "metadata": {
    "ExecuteTime": {
     "end_time": "2023-10-19T06:54:02.582874800Z",
     "start_time": "2023-10-19T06:54:02.542470700Z"
    }
   },
   "outputs": [],
   "source": [
    "def predict(input_data, model):\n",
    "    model.eval()\n",
    "    output_list = []\n",
    "    with torch.no_grad():\n",
    "        for images in input_data:\n",
    "            images = images.to(device)\n",
    "            outputs = model(images)\n",
    "            _, predicted = torch.max(outputs.data, 1)\n",
    "            output_list.extend(predicted.to('cpu').numpy().tolist())\n",
    "    return output_list"
   ]
  },
  {
   "cell_type": "code",
   "execution_count": 68,
   "metadata": {
    "ExecuteTime": {
     "end_time": "2023-10-19T06:54:13.843356400Z",
     "start_time": "2023-10-19T06:54:06.573948300Z"
    }
   },
   "outputs": [],
   "source": [
    "idx = 0\n",
    "output_csv = predict(test_loader, model)\n",
    "with open('result.csv', 'w', newline='') as csvFile:\n",
    "    writer = csv.DictWriter(csvFile, fieldnames=['file_path', 'label'])\n",
    "    writer.writeheader()\n",
    "    for result in output_csv:\n",
    "        file_path = test_set.data_list[idx].replace(data_folder + '/', '')\n",
    "        writer.writerow({'file_path':file_path, 'label':result})\n",
    "        idx += 1"
   ]
  },
  {
   "cell_type": "code",
   "execution_count": null,
   "outputs": [],
   "source": [],
   "metadata": {
    "collapsed": false
   }
  }
 ],
 "metadata": {
  "kernelspec": {
   "display_name": "Python 3.10.9",
   "language": "python",
   "name": "python3"
  },
  "language_info": {
   "codemirror_mode": {
    "name": "ipython",
    "version": 3
   },
   "file_extension": ".py",
   "mimetype": "text/x-python",
   "name": "python",
   "nbconvert_exporter": "python",
   "pygments_lexer": "ipython3",
   "version": "3.9.17"
  },
  "orig_nbformat": 4,
  "vscode": {
   "interpreter": {
    "hash": "51ee1b965d6f75a20b2b6babb72920dce4fab5775c12eb1659af0fb55d185fed"
   }
  }
 },
 "nbformat": 4,
 "nbformat_minor": 2
}
