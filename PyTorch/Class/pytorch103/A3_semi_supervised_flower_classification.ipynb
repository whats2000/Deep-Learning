{
 "cells": [
  {
   "cell_type": "markdown",
   "metadata": {},
   "source": [
    "# MIS 583 Assignment 3: Semi-supervised Flower Classfication"
   ]
  },
  {
   "cell_type": "markdown",
   "metadata": {},
   "source": [
    "Before we start, please put your name and SID in following format: <br>\n",
    ": LASTNAME Firstname, ?00000000   //   e.g.) 李晨愷 M114020035"
   ]
  },
  {
   "cell_type": "markdown",
   "metadata": {},
   "source": [
    "**Your Answer:**    \n",
    "Hi I'm 鄔仁迪, B104020009."
   ]
  },
  {
   "cell_type": "markdown",
   "metadata": {},
   "source": [
    "## Semi-supervised Flower Classfication\n",
    "\n",
    "In this approach, you have a dataset that includes both labeled and unlabeled examples.\n",
    "\n",
    "The goal is to use the labeled data to train the model while also leveraging the unlabeled\n",
    "data to improve the model's performance.\n",
    "\n",
    "In this assignment, you’ll explore a self-training mechanism for this task.\n",
    "\n",
    "\n",
    "**Please note that you’re not allowed to use pre-constructed models or pre-trained weights.**"
   ]
  },
  {
   "cell_type": "markdown",
   "metadata": {},
   "source": [
    "## Kaggle Competition\n",
    "Kaggle is an online community of data scientists and machine learning practitioners. Kaggle allows users to find and publish datasets, explore and build models in a web-based data-science environment, work with other data scientists and machine learning engineers, and enter competitions to solve data science challenges.\n",
    "\n",
    "This assignment use kaggle to calculate your grade.  \n",
    "Please use this [**LINK**](https://www.kaggle.com/t/e304bb12c8a84e5c9c1b27a6c3bd4026) to join the competition.\n",
    "\n",
    "**Again, Use your SID as your team's name!!!**"
   ]
  },
  {
   "cell_type": "markdown",
   "metadata": {},
   "source": [
    "## Google Colab Setup\n",
    "Next we need to run a few commands to set up our environment on Google Colab. If you are running this notebook on a local machine you can skip this section.\n",
    "\n",
    "Run the following cell to mount your Google Drive. Follow the link, sign in to your Google account (the same account you used to store this notebook!) and copy the authorization code into the text box that appears below."
   ]
  },
  {
   "cell_type": "code",
   "execution_count": null,
   "metadata": {},
   "outputs": [],
   "source": [
    "# from google.colab import drive\n",
    "# drive.mount('/content/drive')"
   ]
  },
  {
   "cell_type": "markdown",
   "metadata": {},
   "source": [
    "##  Versions of used packages\n",
    "\n",
    "We will check PyTorch version to make sure everything work properly.\n",
    "\n",
    "We use `python==3.10.12`, `torch==2.0.1+cu118` and `torchvision==0.15.2+cu118`. This is the default version in Google Colab."
   ]
  },
  {
   "cell_type": "code",
   "execution_count": 1,
   "metadata": {
    "ExecuteTime": {
     "end_time": "2023-10-20T05:43:54.223993900Z",
     "start_time": "2023-10-20T05:43:50.455135500Z"
    }
   },
   "outputs": [
    {
     "name": "stdout",
     "output_type": "stream",
     "text": [
      "python 3.11.2 (tags/v3.11.2:878ead1, Feb  7 2023, 16:38:35) [MSC v.1934 64 bit (AMD64)]\n",
      "torch 2.1.0+cu118\n",
      "torchvision 0.16.0+cu118\n"
     ]
    }
   ],
   "source": [
    "import sys\n",
    "import torch\n",
    "import torchvision\n",
    "print('python', sys.version.split('\\n')[0])\n",
    "print('torch', torch.__version__)\n",
    "print('torchvision', torchvision.__version__)"
   ]
  },
  {
   "cell_type": "markdown",
   "metadata": {},
   "source": [
    "# Prepare Data"
   ]
  },
  {
   "cell_type": "markdown",
   "metadata": {},
   "source": [
    "We use [Flowers Recognition](https://www.kaggle.com/alxmamaev/flowers-recognition) dataset.\n",
    "This is collected by Alexander Mamaev.\n",
    "\n",
    "**Abstrct**  \n",
    "\n",
    "We clean the dataset,this dataset contains 4262 flower images.   \n",
    "**IMPORTANT: you CANNOT use any extra images.**\n",
    "\n",
    "The data collection is grabed from the data flicr, google images, yandex images.\n",
    "You can use this datastet to recognize plants from the photo.\n",
    "\n",
    "The pictures are divided into five classes: \n",
    "+ daisy\n",
    "+ tulip\n",
    "+ rose\n",
    "+ sunflower\n",
    "+ dandelion\n",
    "\n",
    "For each class there are about 800 photos. Photos are not high resolution, about 320x240 pixels. Photos are not reduced to a single size, they have different proportions!"
   ]
  },
  {
   "cell_type": "markdown",
   "metadata": {},
   "source": [
    "## How to Get Data\n",
    "\n",
    "請先到共用雲端硬碟將檔案 `A3_data_flower_2023.zip`，建立捷徑到自己的雲端硬碟中。\n",
    "\n",
    "> 操作步驟\n",
    "1. 點開雲端[連結](https://drive.google.com/file/d/1eme754s_uI5dI5SnNUH2ZuvJ5QT-kmaZ/view?usp=sharing)\n",
    "2. 點選右上角「新增雲端硬碟捷徑」\n",
    "3. 點選「我的雲端硬碟」\n",
    "4. 點選「新增捷徑」\n",
    "\n",
    "完成以上流程會在你的雲端硬碟中建立一個檔案的捷徑，接著我們在colab中取得權限即可使用。"
   ]
  },
  {
   "cell_type": "markdown",
   "metadata": {},
   "source": [
    "## Unzip Data\n",
    "\n",
    "Unzip `A3_data_flower_2023.zip`, there are 2 folders and 4 csvs.\n",
    "\n",
    "- `train/`: contains 5 folders for 5 categories of flowers. Images of flowers inside them.\n",
    "- `test/`: unclassified images of testing set.\n",
    "- `train_labeled_dataset.csv`: file path and true label of training set.\n",
    "- `train_unlabeled_dataset.csv`: file path and without label of training set.\n",
    "- `val.csv`: file path and true label of validation set.\n",
    "- `test.csv`: file paht of testing set.\n",
    "\n",
    "There are **843 images in labeled_dataset_train.**  \n",
    "\n",
    "There are **1713 images in unlabeled_dataset_train.** \n",
    "\n",
    "There are **853 images in dataset_test.**  \n",
    "\n",
    "There are **853 images in dataset_val.**  \n",
    "\n",
    "---\n",
    "\n",
    "解壓縮 `A3_data_flower_2023.zip` 後可以發現裡面有兩個資料夾和四個csv檔。\n",
    "\n",
    "+ `train` : 存有五個資料夾分別是五個種類的花，資料夾內為花的照片。\n",
    "+ `test` : 資料夾中為未分類之測試集照片。\n",
    "+ `train_labeled_dataset.csv` : 讀取 train data 的順序、路徑與圖片所屬花別。\n",
    "+ `train_unlabeled_dataset.csv` : 讀取 train data 的順序、路徑與圖片但沒有所屬花別標籤。\n",
    "+ `val.csv` : 讀取 validate data 的順序、路徑與圖片所屬花別。\n",
    "+ `test.csv` : 讀取 test data 的順序、路徑。\n",
    "\n",
    "其中`train_labeled`的圖片 843 張，`train_unlabeled`的圖片 1713 張，`val` 的圖片 853 張，`test` 的圖片 853 張。\n",
    "\n",
    "注意: 若有另外設定存放在雲端硬碟中的路徑，請記得本處路徑也須做更動。"
   ]
  },
  {
   "cell_type": "code",
   "execution_count": 2,
   "metadata": {
    "ExecuteTime": {
     "end_time": "2023-10-20T05:47:22.824354300Z",
     "start_time": "2023-10-20T05:47:22.812834100Z"
    }
   },
   "outputs": [],
   "source": [
    "# !unzip -qq ./drive/MyDrive/A3_data_flower_2023.zip"
   ]
  },
  {
   "cell_type": "code",
   "execution_count": 3,
   "metadata": {
    "ExecuteTime": {
     "end_time": "2023-10-20T05:47:24.017339Z",
     "start_time": "2023-10-20T05:47:24.004825300Z"
    }
   },
   "outputs": [],
   "source": [
    "data_folder = 'A3_data_flower_2023'"
   ]
  },
  {
   "cell_type": "markdown",
   "metadata": {},
   "source": [
    "## Loading the dataset"
   ]
  },
  {
   "cell_type": "markdown",
   "metadata": {},
   "source": [
    "### Custom dataset\n",
    "\n",
    "Build a classs inherit `torch.utils.data.Dataset`.  \n",
    "Implement `__init__`, `__getitem__` and `__len__` 3 functions.  \n",
    "\n",
    "Some operations could be there: setting location of dataset, the method of reading data, label of dataset or transform of dataset.\n",
    "\n",
    "See [torch.utils.data.Dataset](https://pytorch.org/docs/stable/data.html#torch.utils.data.Dataset) for more details\n",
    "\n",
    "---\n",
    "\n",
    "繼承自定義資料集的框架 `torch.utils.data.Dataset`，主要實現 `__getitem__()` 和 `__len__()` 這兩個方法。\n",
    "\n",
    "常使用來做到設定資料位址、設定讀取方式、子資料集的標籤和轉換條件...等。\n",
    "\n",
    "See [torch.utils.data.Dataset](https://pytorch.org/docs/stable/data.html#torch.utils.data.Dataset) for more details"
   ]
  },
  {
   "cell_type": "code",
   "execution_count": 4,
   "metadata": {
    "ExecuteTime": {
     "end_time": "2023-10-20T05:48:03.812550200Z",
     "start_time": "2023-10-20T05:48:03.801543600Z"
    }
   },
   "outputs": [],
   "source": [
    "import csv\n",
    "import os\n",
    "import numpy as np\n",
    "from PIL import Image\n",
    "import torch\n",
    "\n",
    "class FlowerData(torch.utils.data.Dataset):\n",
    "    def __init__(self, csv_file, mode='train', transform=None):\n",
    "        self.mode = mode # 'train', 'val' or 'test'\n",
    "        self.data_list = []\n",
    "        self.labels = []\n",
    "        self.transform = transform\n",
    "        \n",
    "        with open(f'{data_folder}/{csv_file}', newline='') as csvfile:\n",
    "            reader = csv.DictReader(csvfile)\n",
    "            for row in reader:\n",
    "                self.data_list.append(f\"{data_folder}/{row['file_path']}\")\n",
    "                if mode != 'test':\n",
    "                    self.labels.append(row['label'])\n",
    "\n",
    "    def __getitem__(self, index):\n",
    "        data = Image.open(self.data_list[index])\n",
    "        if self.transform is not None:\n",
    "            data = self.transform(data)\n",
    "        if self.mode == 'test':\n",
    "            return data\n",
    "        label = int(self.labels[index])\n",
    "\n",
    "        return data, label\n",
    "\n",
    "    def __len__(self):\n",
    "        return len(self.data_list)"
   ]
  },
  {
   "cell_type": "markdown",
   "metadata": {},
   "source": [
    "### Data augmentation \n",
    "\n",
    "Data augmentation are techniques used to increase the amount of data by adding slightly modified copies of already existing data or newly created synthetic data from existing data.\n",
    "\n",
    "PyTorch use `torchvision.transforms` to do data augmentation.\n",
    "[You can see all function here.](https://pytorch.org/vision/stable/transforms.html)\n",
    "\n",
    "**NOTICE**: There are some operations may not be necessary for predict, so we should write one for train and one for others."
   ]
  },
  {
   "cell_type": "code",
   "execution_count": 22,
   "metadata": {
    "ExecuteTime": {
     "end_time": "2023-10-20T06:02:09.262404800Z",
     "start_time": "2023-10-20T06:02:09.246273300Z"
    }
   },
   "outputs": [],
   "source": [
    "from torchvision import transforms\n",
    "# For TRAIN\n",
    "########################################################################\n",
    "#  TODO: use transforms.xxx method to do some data augmentation        #\n",
    "#  This one is for training, find the composition to get better result #\n",
    "########################################################################\n",
    "# These calculate from data eval\n",
    "train_mean = [0.4552, 0.4027, 0.2775]\n",
    "train_std = [0.2714, 0.2409, 0.2198]\n",
    "\n",
    "transforms_train = transforms.Compose([\n",
    "    transforms.RandomResizedCrop(224),                    # Random crop and resize\n",
    "    transforms.RandomHorizontalFlip(),                    # Random horizontal flip\n",
    "    transforms.RandomRotation(30),                        # Random rotation\n",
    "    transforms.ToTensor(),                                # Convert to tensor\n",
    "    transforms.Normalize(mean=train_mean, std=train_std)  # Normalize\n",
    "])\n",
    "############################################################\n",
    "#                           End of your code                           #\n",
    "########################################################################\n",
    "\n",
    "# For VAL, TEST\n",
    "########################################################################\n",
    "#  TODO: use transforms.xxx method to do some data augmentation        #\n",
    "#  This one is for validate and test,                                  #\n",
    "#  NOTICE some operation we usually not use in this part               #\n",
    "########################################################################\n",
    "transforms_test = transforms.Compose([\n",
    "    transforms.Resize(256),                               # Resize to a fixed size\n",
    "    transforms.CenterCrop(224),                           # Center crop\n",
    "    transforms.ToTensor(),                                # Convert to tensor\n",
    "    transforms.Normalize(mean=train_mean, std=train_std)  # Normalize\n",
    "])\n",
    "########################################################################\n",
    "#                           End of your code                           #\n",
    "########################################################################"
   ]
  },
  {
   "cell_type": "markdown",
   "metadata": {},
   "source": [
    "### Instantiate dataset\n",
    "\n",
    "Let's instantiate three `FlowerData` class.\n",
    "+ train_set: for labeled_training.\n",
    "+ unlabeled_set: for unlabeled_training.\n",
    "+ dataset_val: for validation."
   ]
  },
  {
   "cell_type": "code",
   "execution_count": 23,
   "metadata": {
    "ExecuteTime": {
     "end_time": "2023-10-20T06:02:14.797549800Z",
     "start_time": "2023-10-20T06:02:14.778490700Z"
    }
   },
   "outputs": [],
   "source": [
    "train_set = FlowerData('train_labeled_dataset.csv', mode='train', transform=transforms_train)\n",
    "unlabeled_set = FlowerData('train_unlabeled_dataset.csv', mode='test', transform=transforms_train)\n",
    "valid_set = FlowerData('val.csv', mode='val', transform=transforms_test)"
   ]
  },
  {
   "cell_type": "code",
   "execution_count": 24,
   "metadata": {
    "ExecuteTime": {
     "end_time": "2023-10-20T06:02:15.630949700Z",
     "start_time": "2023-10-20T06:02:15.625852800Z"
    }
   },
   "outputs": [
    {
     "name": "stdout",
     "output_type": "stream",
     "text": [
      "The first image's shape in dataset_train : torch.Size([3, 224, 224])\n",
      "There are 843 images in labeled_dataset_train.\n",
      "There are 1713 images in unlabeled_dataset_train.\n",
      "There are 853 images in dataset_val.\n"
     ]
    }
   ],
   "source": [
    "print(\"The first image's shape in dataset_train :\", train_set[0][0].size())\n",
    "print(\"There are\", len(train_set), \"images in labeled_dataset_train.\")\n",
    "print(\"There are\", len(unlabeled_set), \"images in unlabeled_dataset_train.\")\n",
    "print(\"There are\", len(valid_set), \"images in dataset_val.\")"
   ]
  },
  {
   "cell_type": "markdown",
   "metadata": {},
   "source": [
    "### `DataLoader`\n",
    "\n",
    "`torch.utils.data.DataLoader` define how to sample from `dataset` and some other function like:\n",
    "+ `shuffle` : set to `True` to have the data reshuffled at every epoch\n",
    "+ `batch_size` : how many samples per batch to load\n",
    "\n",
    "See [torch.utils.data.DataLoader](https://pytorch.org/docs/stable/data.html#torch.utils.data.DataLoader) for more details"
   ]
  },
  {
   "cell_type": "code",
   "execution_count": 25,
   "metadata": {
    "ExecuteTime": {
     "end_time": "2023-10-20T06:02:38.634058200Z",
     "start_time": "2023-10-20T06:02:38.583327300Z"
    }
   },
   "outputs": [],
   "source": [
    "#####################################################\n",
    "#            You can adjust batch_size              #\n",
    "#####################################################\n",
    "from torch.utils.data import DataLoader\n",
    "\n",
    "batch_size = 32\n",
    "num_workers = 0\n",
    "train_loader = DataLoader(train_set, batch_size=batch_size, num_workers=num_workers, shuffle=True)\n",
    "valid_loader = DataLoader(valid_set, batch_size=batch_size, num_workers=num_workers, shuffle=False)"
   ]
  },
  {
   "cell_type": "markdown",
   "metadata": {},
   "source": [
    "Finally! We have made all data prepared.  \n",
    "Let's go develop our model."
   ]
  },
  {
   "cell_type": "markdown",
   "metadata": {},
   "source": [
    "# Self-training"
   ]
  },
  {
   "cell_type": "markdown",
   "metadata": {},
   "source": [
    "## Step 1: Supervised training"
   ]
  },
  {
   "cell_type": "markdown",
   "metadata": {},
   "source": [
    "### Implement CNN using PyTorch \n",
    "\n",
    "Try to use labeled data design and train a deep convolutional network from scratch to predict the class label of a flower image. \n",
    "\n",
    "**Again, the goal of this assignment is for you to test different convolutional structures. You cannot directly use the blocks/architectures of pre-trained models.**"
   ]
  },
  {
   "cell_type": "code",
   "execution_count": 30,
   "metadata": {
    "ExecuteTime": {
     "end_time": "2023-10-20T06:06:05.876166800Z",
     "start_time": "2023-10-20T06:06:05.849036300Z"
    }
   },
   "outputs": [],
   "source": [
    "from torch.nn.modules.conv import Conv2d\n",
    "import torch.nn as nn \n",
    "import torch.nn.functional as F\n",
    "\n",
    "class YourCNNModel(nn.Module):\n",
    "    def __init__(self):\n",
    "        super().__init__()\n",
    "        ########################################################################\n",
    "        #     TODO: use nn.xxx method to generate a CNN model part             #\n",
    "        ########################################################################\n",
    "        # Initial convolution\n",
    "        self.conv1 = nn.Sequential(\n",
    "            nn.Conv2d(3, 32, kernel_size=7, stride=2, padding=3),\n",
    "            nn.BatchNorm2d(32),\n",
    "            nn.SELU()\n",
    "        )\n",
    "\n",
    "        # Mobile Inverted Bottleneck Convolution Blocks\n",
    "        self.blocks = nn.Sequential(\n",
    "            self.MBConv_block(32, 16, 3, 1, 1, 1),\n",
    "            self.MBConv_block(16, 24, 3, 1, 2, 2),\n",
    "            self.MBConv_block(24, 40, 5, 2, 2, 2),\n",
    "            self.MBConv_block(40, 80, 3, 1, 2, 3),\n",
    "        )\n",
    "\n",
    "        # Fully connected layers\n",
    "        self.fc = nn.Sequential(\n",
    "            nn.Linear(80, 512),\n",
    "            nn.SELU(),\n",
    "            nn.BatchNorm1d(512),\n",
    "            nn.Dropout()\n",
    "        )\n",
    "        self.out = nn.Linear(512, 5)\n",
    "\n",
    "    def MBConv_block(self, in_channels, out_channels, kernel_size, padding, stride, num_layers):\n",
    "        # The first layer is a point-wise convolution to expand the number of channels\n",
    "        layers = [nn.Conv2d(in_channels, in_channels * 6, kernel_size=1, stride=1, padding=0, bias=False),\n",
    "                  nn.BatchNorm2d(in_channels * 6), nn.SELU()]\n",
    "\n",
    "        # Depth-wise separable convolutions with multiple layers\n",
    "        for _ in range(num_layers):\n",
    "            layers.append(nn.Conv2d(in_channels * 6, in_channels * 6, kernel_size=kernel_size, stride=stride, padding=padding, groups=in_channels * 6, bias=False))\n",
    "            layers.append(nn.BatchNorm2d(in_channels * 6))\n",
    "            layers.append(nn.SELU())\n",
    "\n",
    "        # The last layer is a point-wise convolution to reduce the number of channels to the desired output size\n",
    "        layers.append(nn.Conv2d(in_channels * 6, out_channels, kernel_size=1, stride=1, padding=0, bias=False))\n",
    "        layers.append(nn.BatchNorm2d(out_channels))\n",
    "        layers.append(nn.SELU())\n",
    "\n",
    "        return nn.Sequential(*layers)\n",
    "        ########################################################################\n",
    "        #                           End of your code                           #\n",
    "        ########################################################################\n",
    "\n",
    "    def forward(self, x):\n",
    "        if not isinstance(x, torch.Tensor):\n",
    "          x = torch.Tensor(x)\n",
    "        ########################################################################\n",
    "        #     TODO: forward your model and get output                          #\n",
    "        ########################################################################\n",
    "        # Forward pass through convolutional layers\n",
    "        x = self.conv1(x)\n",
    "        x = self.blocks(x)\n",
    "        x = x.view(x.size(0), -1)\n",
    "        x = self.fc(x)\n",
    "        out = self.out(x)\n",
    "        ########################################################################\n",
    "        #                           End of your code                           #\n",
    "        ########################################################################\n",
    "        return out"
   ]
  },
  {
   "cell_type": "code",
   "execution_count": 31,
   "metadata": {
    "ExecuteTime": {
     "end_time": "2023-10-20T06:06:06.633380600Z",
     "start_time": "2023-10-20T06:06:06.628856700Z"
    }
   },
   "outputs": [],
   "source": [
    "device = torch.device('cuda')\n",
    "# or\n",
    "# device = torch.device('cpu')"
   ]
  },
  {
   "cell_type": "code",
   "execution_count": 32,
   "metadata": {
    "ExecuteTime": {
     "end_time": "2023-10-20T06:06:07.925788600Z",
     "start_time": "2023-10-20T06:06:07.896699400Z"
    }
   },
   "outputs": [
    {
     "data": {
      "text/plain": "YourCNNModel(\n  (conv1): Sequential(\n    (0): Conv2d(3, 32, kernel_size=(7, 7), stride=(2, 2), padding=(3, 3))\n    (1): BatchNorm2d(32, eps=1e-05, momentum=0.1, affine=True, track_running_stats=True)\n    (2): SELU()\n  )\n  (blocks): Sequential(\n    (0): Sequential(\n      (0): Conv2d(32, 192, kernel_size=(1, 1), stride=(1, 1), bias=False)\n      (1): BatchNorm2d(192, eps=1e-05, momentum=0.1, affine=True, track_running_stats=True)\n      (2): SELU()\n      (3): Conv2d(192, 192, kernel_size=(3, 3), stride=(1, 1), padding=(1, 1), groups=192, bias=False)\n      (4): BatchNorm2d(192, eps=1e-05, momentum=0.1, affine=True, track_running_stats=True)\n      (5): SELU()\n      (6): Conv2d(192, 16, kernel_size=(1, 1), stride=(1, 1), bias=False)\n      (7): BatchNorm2d(16, eps=1e-05, momentum=0.1, affine=True, track_running_stats=True)\n      (8): SELU()\n    )\n    (1): Sequential(\n      (0): Conv2d(16, 96, kernel_size=(1, 1), stride=(1, 1), bias=False)\n      (1): BatchNorm2d(96, eps=1e-05, momentum=0.1, affine=True, track_running_stats=True)\n      (2): SELU()\n      (3): Conv2d(96, 96, kernel_size=(3, 3), stride=(2, 2), padding=(1, 1), groups=96, bias=False)\n      (4): BatchNorm2d(96, eps=1e-05, momentum=0.1, affine=True, track_running_stats=True)\n      (5): SELU()\n      (6): Conv2d(96, 96, kernel_size=(3, 3), stride=(2, 2), padding=(1, 1), groups=96, bias=False)\n      (7): BatchNorm2d(96, eps=1e-05, momentum=0.1, affine=True, track_running_stats=True)\n      (8): SELU()\n      (9): Conv2d(96, 24, kernel_size=(1, 1), stride=(1, 1), bias=False)\n      (10): BatchNorm2d(24, eps=1e-05, momentum=0.1, affine=True, track_running_stats=True)\n      (11): SELU()\n    )\n    (2): Sequential(\n      (0): Conv2d(24, 144, kernel_size=(1, 1), stride=(1, 1), bias=False)\n      (1): BatchNorm2d(144, eps=1e-05, momentum=0.1, affine=True, track_running_stats=True)\n      (2): SELU()\n      (3): Conv2d(144, 144, kernel_size=(5, 5), stride=(2, 2), padding=(2, 2), groups=144, bias=False)\n      (4): BatchNorm2d(144, eps=1e-05, momentum=0.1, affine=True, track_running_stats=True)\n      (5): SELU()\n      (6): Conv2d(144, 144, kernel_size=(5, 5), stride=(2, 2), padding=(2, 2), groups=144, bias=False)\n      (7): BatchNorm2d(144, eps=1e-05, momentum=0.1, affine=True, track_running_stats=True)\n      (8): SELU()\n      (9): Conv2d(144, 40, kernel_size=(1, 1), stride=(1, 1), bias=False)\n      (10): BatchNorm2d(40, eps=1e-05, momentum=0.1, affine=True, track_running_stats=True)\n      (11): SELU()\n    )\n    (3): Sequential(\n      (0): Conv2d(40, 240, kernel_size=(1, 1), stride=(1, 1), bias=False)\n      (1): BatchNorm2d(240, eps=1e-05, momentum=0.1, affine=True, track_running_stats=True)\n      (2): SELU()\n      (3): Conv2d(240, 240, kernel_size=(3, 3), stride=(2, 2), padding=(1, 1), groups=240, bias=False)\n      (4): BatchNorm2d(240, eps=1e-05, momentum=0.1, affine=True, track_running_stats=True)\n      (5): SELU()\n      (6): Conv2d(240, 240, kernel_size=(3, 3), stride=(2, 2), padding=(1, 1), groups=240, bias=False)\n      (7): BatchNorm2d(240, eps=1e-05, momentum=0.1, affine=True, track_running_stats=True)\n      (8): SELU()\n      (9): Conv2d(240, 240, kernel_size=(3, 3), stride=(2, 2), padding=(1, 1), groups=240, bias=False)\n      (10): BatchNorm2d(240, eps=1e-05, momentum=0.1, affine=True, track_running_stats=True)\n      (11): SELU()\n      (12): Conv2d(240, 80, kernel_size=(1, 1), stride=(1, 1), bias=False)\n      (13): BatchNorm2d(80, eps=1e-05, momentum=0.1, affine=True, track_running_stats=True)\n      (14): SELU()\n    )\n  )\n  (fc): Sequential(\n    (0): Linear(in_features=80, out_features=512, bias=True)\n    (1): SELU()\n    (2): BatchNorm1d(512, eps=1e-05, momentum=0.1, affine=True, track_running_stats=True)\n    (3): Dropout(p=0.5, inplace=False)\n  )\n  (out): Linear(in_features=512, out_features=5, bias=True)\n)"
     },
     "execution_count": 32,
     "metadata": {},
     "output_type": "execute_result"
    }
   ],
   "source": [
    "model = YourCNNModel()\n",
    "model.to(device)\n",
    "#print(model)"
   ]
  },
  {
   "cell_type": "markdown",
   "metadata": {},
   "source": [
    "We have made our model!  \n",
    "Next, PyTorch also provide many utility function(loss, optmizer...etc).  \n",
    "You can define them in one-line."
   ]
  },
  {
   "cell_type": "markdown",
   "metadata": {},
   "source": [
    "### Define loss and optimizer"
   ]
  },
  {
   "cell_type": "code",
   "execution_count": 33,
   "metadata": {
    "ExecuteTime": {
     "end_time": "2023-10-20T06:06:16.864542900Z",
     "start_time": "2023-10-20T06:06:16.860496400Z"
    }
   },
   "outputs": [],
   "source": [
    "import torch.nn as nn\n",
    "import torch.optim as optim\n",
    "################################################################################\n",
    "# TODO: Define loss and optmizer functions                                     #\n",
    "# Try any loss or optimizer function and learning rate to get better result    #\n",
    "# hint: torch.nn and torch.optim                                               #\n",
    "################################################################################\n",
    "# CrossEntropyLoss for classification tasks\n",
    "criterion = nn.CrossEntropyLoss()\n",
    "\n",
    "# Adam optimizer\n",
    "learning_rate = 0.001\n",
    "optimizer = optim.Adam(model.parameters(), lr=learning_rate, weight_decay=0.0001)\n",
    "################################################################################\n",
    "#                               End of your code                               #\n",
    "################################################################################\n",
    "criterion = criterion.to(device)"
   ]
  },
  {
   "cell_type": "markdown",
   "metadata": {},
   "source": [
    "### Train the model"
   ]
  },
  {
   "cell_type": "markdown",
   "metadata": {},
   "source": [
    "#### Train function\n",
    "Let's define train function.  \n",
    "It will iterate input data 1 epoch and update model with optmizer.  \n",
    "Finally, calculate mean loss and total accuracy.\n",
    "\n",
    "Hint: [torch.max()](https://pytorch.org/docs/stable/generated/torch.max.html#torch-max) or [torch.argmax()](https://pytorch.org/docs/stable/generated/torch.argmax.html)"
   ]
  },
  {
   "cell_type": "code",
   "execution_count": 34,
   "metadata": {
    "ExecuteTime": {
     "end_time": "2023-10-20T06:06:31.165232200Z",
     "start_time": "2023-10-20T06:06:31.155232300Z"
    }
   },
   "outputs": [],
   "source": [
    "def train(input_data, model, criterion, optimizer):\n",
    "    '''\n",
    "    Argement:\n",
    "    input_data -- iterable data, typr torch.utils.data.Dataloader is prefer\n",
    "    model -- nn.Module, model contain forward to predict output\n",
    "    criterion -- loss function, used to evaluate goodness of model\n",
    "    optimizer -- optmizer function, method for weight updating\n",
    "    '''\n",
    "    model.train()\n",
    "    loss_list = []\n",
    "    total_count = 0\n",
    "    acc_count = 0\n",
    "    for images, labels in input_data:\n",
    "        images = images.to(device)\n",
    "        labels = labels.to(device)\n",
    "\n",
    "        ########################################################################\n",
    "        # TODO: Forward, backward and optimize                                 #\n",
    "        # 1. zero the parameter gradients                                      #\n",
    "        # 2. process input through the network                                 #\n",
    "        # 3. compute the loss                                                  #\n",
    "        # 4. propagate gradients back into the network’s parameters            #\n",
    "        # 5. Update the weights of the network                                 #\n",
    "        ########################################################################\n",
    "        # Zero the parameter gradients\n",
    "        optimizer.zero_grad()\n",
    "\n",
    "        # Forward, backward, and optimize\n",
    "        outputs = model(images)\n",
    "        loss = criterion(outputs, labels)\n",
    "        loss.backward()\n",
    "        optimizer.step()\n",
    "        ########################################################################\n",
    "        #                           End of your code                           #\n",
    "        ########################################################################\n",
    "\n",
    "\n",
    "        ########################################################################\n",
    "        # TODO: Get the counts of correctly classified images                  #\n",
    "        # 1. get the model predicted result                                    #\n",
    "        # 2. sum the number of this batch predicted images                     #\n",
    "        # 3. sum the number of correctly classified                            #\n",
    "        # 4. save this batch's loss into loss_list                             #\n",
    "        # dimension of outputs: [batch_size, number of classes]                #\n",
    "        # Hint 1: use outputs.data to get no auto_grad                         #\n",
    "        # Hint 2: use torch.max()                                              #\n",
    "        ########################################################################\n",
    "        # Get the counts of correctly classified images\n",
    "        _, predicted = torch.max(outputs.data, 1)\n",
    "        total_count += labels.size(0)\n",
    "        acc_count += (predicted == labels).sum().item()\n",
    "        loss_list.append(loss.item())\n",
    "        ########################################################################\n",
    "        #                           End of your code                           #\n",
    "        ########################################################################\n",
    "\n",
    "    # Compute this epoch accuracy and loss\n",
    "    acc = acc_count / total_count\n",
    "    loss = sum(loss_list) / len(loss_list)\n",
    "    return acc, loss"
   ]
  },
  {
   "cell_type": "markdown",
   "metadata": {},
   "source": [
    "#### Validate function\n",
    "Next part is validate function.  \n",
    "It works as training function without optmizer and weight-updating part."
   ]
  },
  {
   "cell_type": "code",
   "execution_count": 35,
   "metadata": {
    "ExecuteTime": {
     "end_time": "2023-10-20T06:06:42.087123200Z",
     "start_time": "2023-10-20T06:06:42.084115900Z"
    }
   },
   "outputs": [],
   "source": [
    "def val(input_data, model, criterion):\n",
    "    model.eval()\n",
    "\n",
    "    loss_list = []\n",
    "    total_count = 0\n",
    "    acc_count = 0\n",
    "    with torch.no_grad():\n",
    "        for images, labels in input_data:\n",
    "            images = images.to(device)\n",
    "            labels = labels.to(device)\n",
    "\n",
    "            ####################################################################\n",
    "            # TODO: Get the predicted result and loss                          #\n",
    "            # 1. process input through the network                             #\n",
    "            # 2. compute the loss                                              #\n",
    "            # 3. get the model predicted result                                #\n",
    "            # 4. get the counts of correctly classified images                 #\n",
    "            # 5. save this batch's loss into loss_list                         #\n",
    "            ####################################################################\n",
    "            # Get the predicted result and loss\n",
    "            outputs = model(images)\n",
    "            loss = criterion(outputs, labels)\n",
    "\n",
    "            # Get the counts of correctly classified images\n",
    "            _, predicted = torch.max(outputs.data, 1)\n",
    "            total_count += labels.size(0)\n",
    "            acc_count += (predicted == labels).sum().item()\n",
    "            loss_list.append(loss.item())\n",
    "            ####################################################################\n",
    "            #                         End of your code                         #\n",
    "            ####################################################################\n",
    "\n",
    "    acc = acc_count / total_count\n",
    "    loss = sum(loss_list) / len(loss_list)\n",
    "    return acc, loss"
   ]
  },
  {
   "cell_type": "markdown",
   "metadata": {},
   "source": [
    "#### Training in a loop\n",
    "Call train and test function in a loop.  \n",
    "Take a break and wait."
   ]
  },
  {
   "cell_type": "code",
   "execution_count": 36,
   "metadata": {
    "ExecuteTime": {
     "end_time": "2023-10-20T06:31:59.466470400Z",
     "start_time": "2023-10-20T06:07:03.902832100Z"
    }
   },
   "outputs": [
    {
     "name": "stdout",
     "output_type": "stream",
     "text": [
      "==================== Epoch 1 ====================\n",
      "Train Acc: 0.279953 Train Loss: 1.716208\n",
      "  Val Acc: 0.351700   Val Loss: 1.429080\n",
      "==================== Epoch 2 ====================\n",
      "Train Acc: 0.328588 Train Loss: 1.601097\n",
      "  Val Acc: 0.351700   Val Loss: 1.464623\n",
      "==================== Epoch 3 ====================\n",
      "Train Acc: 0.345196 Train Loss: 1.521171\n",
      "  Val Acc: 0.385698   Val Loss: 1.379599\n",
      "==================== Epoch 4 ====================\n",
      "Train Acc: 0.396204 Train Loss: 1.441699\n",
      "  Val Acc: 0.413834   Val Loss: 1.330147\n",
      "==================== Epoch 5 ====================\n",
      "Train Acc: 0.340451 Train Loss: 1.507288\n",
      "  Val Acc: 0.396249   Val Loss: 1.385454\n",
      "==================== Epoch 6 ====================\n",
      "Train Acc: 0.361803 Train Loss: 1.443759\n",
      "  Val Acc: 0.383353   Val Loss: 1.340177\n",
      "==================== Epoch 7 ====================\n",
      "Train Acc: 0.390273 Train Loss: 1.422183\n",
      "  Val Acc: 0.404455   Val Loss: 1.360639\n",
      "==================== Epoch 8 ====================\n",
      "Train Acc: 0.408066 Train Loss: 1.414624\n",
      "  Val Acc: 0.437280   Val Loss: 1.258790\n",
      "==================== Epoch 9 ====================\n",
      "Train Acc: 0.411625 Train Loss: 1.338100\n",
      "  Val Acc: 0.405627   Val Loss: 1.330625\n",
      "==================== Epoch 10 ====================\n",
      "Train Acc: 0.419929 Train Loss: 1.356753\n",
      "  Val Acc: 0.432591   Val Loss: 1.247362\n",
      "==================== Epoch 11 ====================\n",
      "Train Acc: 0.422301 Train Loss: 1.343881\n",
      "  Val Acc: 0.440797   Val Loss: 1.286583\n",
      "==================== Epoch 12 ====================\n",
      "Train Acc: 0.415184 Train Loss: 1.307543\n",
      "  Val Acc: 0.494725   Val Loss: 1.191521\n",
      "==================== Epoch 13 ====================\n",
      "Train Acc: 0.447212 Train Loss: 1.265330\n",
      "  Val Acc: 0.494725   Val Loss: 1.163191\n",
      "==================== Epoch 14 ====================\n",
      "Train Acc: 0.457888 Train Loss: 1.296989\n",
      "  Val Acc: 0.480657   Val Loss: 1.183612\n",
      "==================== Epoch 15 ====================\n",
      "Train Acc: 0.444840 Train Loss: 1.254158\n",
      "  Val Acc: 0.526377   Val Loss: 1.138989\n",
      "==================== Epoch 16 ====================\n",
      "Train Acc: 0.476868 Train Loss: 1.244616\n",
      "  Val Acc: 0.445487   Val Loss: 1.278224\n",
      "==================== Epoch 17 ====================\n",
      "Train Acc: 0.472123 Train Loss: 1.248512\n",
      "  Val Acc: 0.471278   Val Loss: 1.296743\n",
      "==================== Epoch 18 ====================\n",
      "Train Acc: 0.446026 Train Loss: 1.276807\n",
      "  Val Acc: 0.515826   Val Loss: 1.134744\n",
      "==================== Epoch 19 ====================\n",
      "Train Acc: 0.482800 Train Loss: 1.238943\n",
      "  Val Acc: 0.542790   Val Loss: 1.111814\n",
      "==================== Epoch 20 ====================\n",
      "Train Acc: 0.480427 Train Loss: 1.187166\n",
      "  Val Acc: 0.554513   Val Loss: 1.084514\n",
      "==================== Epoch 21 ====================\n",
      "Train Acc: 0.505338 Train Loss: 1.218431\n",
      "  Val Acc: 0.559203   Val Loss: 1.089816\n",
      "==================== Epoch 22 ====================\n",
      "Train Acc: 0.488731 Train Loss: 1.229468\n",
      "  Val Acc: 0.554513   Val Loss: 1.100134\n",
      "==================== Epoch 23 ====================\n",
      "Train Acc: 0.517200 Train Loss: 1.206773\n",
      "  Val Acc: 0.569754   Val Loss: 1.068396\n",
      "==================== Epoch 24 ====================\n",
      "Train Acc: 0.549229 Train Loss: 1.155044\n",
      "  Val Acc: 0.575615   Val Loss: 1.041255\n",
      "==================== Epoch 25 ====================\n",
      "Train Acc: 0.527877 Train Loss: 1.130704\n",
      "  Val Acc: 0.558030   Val Loss: 1.097692\n",
      "==================== Epoch 26 ====================\n",
      "Train Acc: 0.529063 Train Loss: 1.146920\n",
      "  Val Acc: 0.565064   Val Loss: 1.073599\n",
      "==================== Epoch 27 ====================\n",
      "Train Acc: 0.530249 Train Loss: 1.180829\n",
      "  Val Acc: 0.559203   Val Loss: 1.096842\n",
      "==================== Epoch 28 ====================\n",
      "Train Acc: 0.527877 Train Loss: 1.150062\n",
      "  Val Acc: 0.614302   Val Loss: 1.022993\n",
      "==================== Epoch 29 ====================\n",
      "Train Acc: 0.551601 Train Loss: 1.110457\n",
      "  Val Acc: 0.534584   Val Loss: 1.103729\n",
      "==================== Epoch 30 ====================\n",
      "Train Acc: 0.529063 Train Loss: 1.125961\n",
      "  Val Acc: 0.595545   Val Loss: 1.030667\n",
      "==================== Epoch 31 ====================\n",
      "Train Acc: 0.556346 Train Loss: 1.093772\n",
      "  Val Acc: 0.587339   Val Loss: 1.062129\n",
      "==================== Epoch 32 ====================\n",
      "Train Acc: 0.572954 Train Loss: 1.073211\n",
      "  Val Acc: 0.582649   Val Loss: 1.097906\n",
      "==================== Epoch 33 ====================\n",
      "Train Acc: 0.544484 Train Loss: 1.112299\n",
      "  Val Acc: 0.606096   Val Loss: 0.960428\n",
      "==================== Epoch 34 ====================\n",
      "Train Acc: 0.594306 Train Loss: 1.051902\n",
      "  Val Acc: 0.614302   Val Loss: 0.962953\n",
      "==================== Epoch 35 ====================\n",
      "Train Acc: 0.558719 Train Loss: 1.066268\n",
      "  Val Acc: 0.584994   Val Loss: 1.033869\n",
      "==================== Epoch 36 ====================\n",
      "Train Acc: 0.586002 Train Loss: 1.060400\n",
      "  Val Acc: 0.621336   Val Loss: 0.955420\n",
      "==================== Epoch 37 ====================\n",
      "Train Acc: 0.551601 Train Loss: 1.112959\n",
      "  Val Acc: 0.606096   Val Loss: 1.001811\n",
      "==================== Epoch 38 ====================\n",
      "Train Acc: 0.572954 Train Loss: 1.061410\n",
      "  Val Acc: 0.607268   Val Loss: 0.995468\n",
      "==================== Epoch 39 ====================\n",
      "Train Acc: 0.602610 Train Loss: 1.024698\n",
      "  Val Acc: 0.628370   Val Loss: 0.978795\n",
      "==================== Epoch 40 ====================\n",
      "Train Acc: 0.607355 Train Loss: 0.970617\n",
      "  Val Acc: 0.650645   Val Loss: 0.950193\n",
      "==================== Epoch 41 ====================\n",
      "Train Acc: 0.572954 Train Loss: 1.086815\n",
      "  Val Acc: 0.592028   Val Loss: 1.013412\n",
      "==================== Epoch 42 ====================\n",
      "Train Acc: 0.589561 Train Loss: 1.043063\n",
      "  Val Acc: 0.643611   Val Loss: 0.907637\n",
      "==================== Epoch 43 ====================\n",
      "Train Acc: 0.608541 Train Loss: 1.020361\n",
      "  Val Acc: 0.610785   Val Loss: 1.002026\n",
      "==================== Epoch 44 ====================\n",
      "Train Acc: 0.586002 Train Loss: 1.025051\n",
      "  Val Acc: 0.633060   Val Loss: 0.980593\n",
      "==================== Epoch 45 ====================\n",
      "Train Acc: 0.602610 Train Loss: 1.007632\n",
      "  Val Acc: 0.626026   Val Loss: 0.968144\n",
      "==================== Epoch 46 ====================\n",
      "Train Acc: 0.621590 Train Loss: 0.994544\n",
      "  Val Acc: 0.628370   Val Loss: 0.922540\n",
      "==================== Epoch 47 ====================\n",
      "Train Acc: 0.625148 Train Loss: 0.955166\n",
      "  Val Acc: 0.635404   Val Loss: 0.930369\n",
      "==================== Epoch 48 ====================\n",
      "Train Acc: 0.595492 Train Loss: 1.025363\n",
      "  Val Acc: 0.637749   Val Loss: 0.974504\n",
      "==================== Epoch 49 ====================\n",
      "Train Acc: 0.642942 Train Loss: 0.952946\n",
      "  Val Acc: 0.621336   Val Loss: 0.993237\n",
      "==================== Epoch 50 ====================\n",
      "Train Acc: 0.607355 Train Loss: 0.965502\n",
      "  Val Acc: 0.658851   Val Loss: 0.888054\n",
      "==================== Epoch 51 ====================\n",
      "Train Acc: 0.627521 Train Loss: 0.928234\n",
      "  Val Acc: 0.661196   Val Loss: 0.885149\n",
      "==================== Epoch 52 ====================\n",
      "Train Acc: 0.626335 Train Loss: 0.953869\n",
      "  Val Acc: 0.614302   Val Loss: 1.037145\n",
      "==================== Epoch 53 ====================\n",
      "Train Acc: 0.626335 Train Loss: 0.946640\n",
      "  Val Acc: 0.590856   Val Loss: 1.001589\n",
      "==================== Epoch 54 ====================\n",
      "Train Acc: 0.615658 Train Loss: 0.975317\n",
      "  Val Acc: 0.669402   Val Loss: 0.913793\n",
      "==================== Epoch 55 ====================\n",
      "Train Acc: 0.632266 Train Loss: 0.940279\n",
      "  Val Acc: 0.670574   Val Loss: 0.871337\n",
      "==================== Epoch 56 ====================\n",
      "Train Acc: 0.631079 Train Loss: 0.911599\n",
      "  Val Acc: 0.642438   Val Loss: 0.930406\n",
      "==================== Epoch 57 ====================\n",
      "Train Acc: 0.647687 Train Loss: 0.925577\n",
      "  Val Acc: 0.667057   Val Loss: 0.895677\n",
      "==================== Epoch 58 ====================\n",
      "Train Acc: 0.638197 Train Loss: 0.939081\n",
      "  Val Acc: 0.644783   Val Loss: 0.897121\n",
      "==================== Epoch 59 ====================\n",
      "Train Acc: 0.644128 Train Loss: 0.922188\n",
      "  Val Acc: 0.668230   Val Loss: 0.845011\n",
      "==================== Epoch 60 ====================\n",
      "Train Acc: 0.648873 Train Loss: 0.921313\n",
      "  Val Acc: 0.620164   Val Loss: 0.995859\n",
      "==================== Epoch 61 ====================\n",
      "Train Acc: 0.639383 Train Loss: 0.928854\n",
      "  Val Acc: 0.688159   Val Loss: 0.830507\n",
      "==================== Epoch 62 ====================\n",
      "Train Acc: 0.650059 Train Loss: 0.919918\n",
      "  Val Acc: 0.637749   Val Loss: 0.935097\n",
      "==================== Epoch 63 ====================\n",
      "Train Acc: 0.638197 Train Loss: 0.908239\n",
      "  Val Acc: 0.664713   Val Loss: 0.878120\n",
      "==================== Epoch 64 ====================\n",
      "Train Acc: 0.627521 Train Loss: 0.960383\n",
      "  Val Acc: 0.647128   Val Loss: 0.926804\n",
      "==================== Epoch 65 ====================\n",
      "Train Acc: 0.650059 Train Loss: 0.928060\n",
      "  Val Acc: 0.645955   Val Loss: 0.973910\n",
      "==================== Epoch 66 ====================\n",
      "Train Acc: 0.648873 Train Loss: 0.939595\n",
      "  Val Acc: 0.640094   Val Loss: 0.911157\n",
      "==================== Epoch 67 ====================\n",
      "Train Acc: 0.657177 Train Loss: 0.898860\n",
      "  Val Acc: 0.634232   Val Loss: 0.900358\n",
      "==================== Epoch 68 ====================\n",
      "Train Acc: 0.646501 Train Loss: 0.872003\n",
      "  Val Acc: 0.669402   Val Loss: 0.890262\n",
      "==================== Epoch 69 ====================\n",
      "Train Acc: 0.651246 Train Loss: 0.899493\n",
      "  Val Acc: 0.689332   Val Loss: 0.827777\n",
      "==================== Epoch 70 ====================\n",
      "Train Acc: 0.653618 Train Loss: 0.910417\n",
      "  Val Acc: 0.681125   Val Loss: 0.861814\n",
      "==================== Epoch 71 ====================\n",
      "Train Acc: 0.661922 Train Loss: 0.887371\n",
      "  Val Acc: 0.670574   Val Loss: 0.838765\n",
      "==================== Epoch 72 ====================\n",
      "Train Acc: 0.671412 Train Loss: 0.874529\n",
      "  Val Acc: 0.689332   Val Loss: 0.799458\n",
      "==================== Epoch 73 ====================\n",
      "Train Acc: 0.678529 Train Loss: 0.854456\n",
      "  Val Acc: 0.671747   Val Loss: 0.893276\n",
      "==================== Epoch 74 ====================\n",
      "Train Acc: 0.660735 Train Loss: 0.886704\n",
      "  Val Acc: 0.709261   Val Loss: 0.779156\n",
      "==================== Epoch 75 ====================\n",
      "Train Acc: 0.682088 Train Loss: 0.864508\n",
      "  Val Acc: 0.694021   Val Loss: 0.808969\n",
      "==================== Epoch 76 ====================\n",
      "Train Acc: 0.671412 Train Loss: 0.870577\n",
      "  Val Acc: 0.671747   Val Loss: 0.877262\n",
      "==================== Epoch 77 ====================\n",
      "Train Acc: 0.657177 Train Loss: 0.914023\n",
      "  Val Acc: 0.674091   Val Loss: 0.846454\n",
      "==================== Epoch 78 ====================\n",
      "Train Acc: 0.672598 Train Loss: 0.865509\n",
      "  Val Acc: 0.675264   Val Loss: 0.874639\n",
      "==================== Epoch 79 ====================\n",
      "Train Acc: 0.674970 Train Loss: 0.883470\n",
      "  Val Acc: 0.662368   Val Loss: 0.888151\n",
      "==================== Epoch 80 ====================\n",
      "Train Acc: 0.665480 Train Loss: 0.872263\n",
      "  Val Acc: 0.638921   Val Loss: 0.954449\n",
      "==================== Epoch 81 ====================\n",
      "Train Acc: 0.648873 Train Loss: 0.897261\n",
      "  Val Acc: 0.674091   Val Loss: 0.796732\n",
      "==================== Epoch 82 ====================\n",
      "Train Acc: 0.680902 Train Loss: 0.858739\n",
      "  Val Acc: 0.702227   Val Loss: 0.830619\n",
      "==================== Epoch 83 ====================\n",
      "Train Acc: 0.685647 Train Loss: 0.824857\n",
      "  Val Acc: 0.667057   Val Loss: 0.870166\n",
      "==================== Epoch 84 ====================\n",
      "Train Acc: 0.706999 Train Loss: 0.811425\n",
      "  Val Acc: 0.703400   Val Loss: 0.816011\n",
      "==================== Epoch 85 ====================\n",
      "Train Acc: 0.704626 Train Loss: 0.798159\n",
      "  Val Acc: 0.712778   Val Loss: 0.799264\n",
      "==================== Epoch 86 ====================\n",
      "Train Acc: 0.679715 Train Loss: 0.827183\n",
      "  Val Acc: 0.676436   Val Loss: 0.868053\n",
      "==================== Epoch 87 ====================\n",
      "Train Acc: 0.670225 Train Loss: 0.886199\n",
      "  Val Acc: 0.636577   Val Loss: 0.956891\n",
      "==================== Epoch 88 ====================\n",
      "Train Acc: 0.684460 Train Loss: 0.824328\n",
      "  Val Acc: 0.688159   Val Loss: 0.863572\n",
      "==================== Epoch 89 ====================\n",
      "Train Acc: 0.670225 Train Loss: 0.836797\n",
      "  Val Acc: 0.691676   Val Loss: 0.840209\n",
      "==================== Epoch 90 ====================\n",
      "Train Acc: 0.680902 Train Loss: 0.854840\n",
      "  Val Acc: 0.602579   Val Loss: 1.012911\n",
      "==================== Epoch 91 ====================\n",
      "Train Acc: 0.666667 Train Loss: 0.872166\n",
      "  Val Acc: 0.686987   Val Loss: 0.832741\n",
      "==================== Epoch 92 ====================\n",
      "Train Acc: 0.691578 Train Loss: 0.791498\n",
      "  Val Acc: 0.703400   Val Loss: 0.773213\n",
      "==================== Epoch 93 ====================\n",
      "Train Acc: 0.706999 Train Loss: 0.832653\n",
      "  Val Acc: 0.711606   Val Loss: 0.798080\n",
      "==================== Epoch 94 ====================\n",
      "Train Acc: 0.690391 Train Loss: 0.842415\n",
      "  Val Acc: 0.712778   Val Loss: 0.791508\n",
      "==================== Epoch 95 ====================\n",
      "Train Acc: 0.702254 Train Loss: 0.807285\n",
      "  Val Acc: 0.682298   Val Loss: 0.867780\n",
      "==================== Epoch 96 ====================\n",
      "Train Acc: 0.693950 Train Loss: 0.820673\n",
      "  Val Acc: 0.699883   Val Loss: 0.793351\n",
      "==================== Epoch 97 ====================\n",
      "Train Acc: 0.714116 Train Loss: 0.777398\n",
      "  Val Acc: 0.705744   Val Loss: 0.807420\n",
      "==================== Epoch 98 ====================\n",
      "Train Acc: 0.692764 Train Loss: 0.820223\n",
      "  Val Acc: 0.709261   Val Loss: 0.810306\n",
      "==================== Epoch 99 ====================\n",
      "Train Acc: 0.714116 Train Loss: 0.749355\n",
      "  Val Acc: 0.695193   Val Loss: 0.849901\n",
      "==================== Epoch 100 ====================\n",
      "Train Acc: 0.704626 Train Loss: 0.821882\n",
      "  Val Acc: 0.690504   Val Loss: 0.897181\n",
      "==================== Epoch 101 ====================\n",
      "Train Acc: 0.693950 Train Loss: 0.776888\n",
      "  Val Acc: 0.730363   Val Loss: 0.742196\n",
      "==================== Epoch 102 ====================\n",
      "Train Acc: 0.704626 Train Loss: 0.763490\n",
      "  Val Acc: 0.677608   Val Loss: 0.871171\n",
      "==================== Epoch 103 ====================\n",
      "Train Acc: 0.673784 Train Loss: 0.821580\n",
      "  Val Acc: 0.718640   Val Loss: 0.788727\n",
      "==================== Epoch 104 ====================\n",
      "Train Acc: 0.705813 Train Loss: 0.764474\n",
      "  Val Acc: 0.719812   Val Loss: 0.762781\n",
      "==================== Epoch 105 ====================\n",
      "Train Acc: 0.685647 Train Loss: 0.796569\n",
      "  Val Acc: 0.691676   Val Loss: 0.806272\n",
      "==================== Epoch 106 ====================\n",
      "Train Acc: 0.722420 Train Loss: 0.742556\n",
      "  Val Acc: 0.683470   Val Loss: 0.851160\n",
      "==================== Epoch 107 ====================\n",
      "Train Acc: 0.701068 Train Loss: 0.789906\n",
      "  Val Acc: 0.716295   Val Loss: 0.758134\n",
      "==================== Epoch 108 ====================\n",
      "Train Acc: 0.708185 Train Loss: 0.775165\n",
      "  Val Acc: 0.701055   Val Loss: 0.776291\n",
      "==================== Epoch 109 ====================\n",
      "Train Acc: 0.689205 Train Loss: 0.795426\n",
      "  Val Acc: 0.647128   Val Loss: 0.936553\n",
      "==================== Epoch 110 ====================\n",
      "Train Acc: 0.703440 Train Loss: 0.801679\n",
      "  Val Acc: 0.736225   Val Loss: 0.729560\n",
      "==================== Epoch 111 ====================\n",
      "Train Acc: 0.733096 Train Loss: 0.733476\n",
      "  Val Acc: 0.725674   Val Loss: 0.768207\n",
      "==================== Epoch 112 ====================\n",
      "Train Acc: 0.733096 Train Loss: 0.721487\n",
      "  Val Acc: 0.696366   Val Loss: 0.869126\n",
      "==================== Epoch 113 ====================\n",
      "Train Acc: 0.670225 Train Loss: 0.821489\n",
      "  Val Acc: 0.706917   Val Loss: 0.772386\n",
      "==================== Epoch 114 ====================\n",
      "Train Acc: 0.727165 Train Loss: 0.759236\n",
      "  Val Acc: 0.709261   Val Loss: 0.774279\n",
      "==================== Epoch 115 ====================\n",
      "Train Acc: 0.723606 Train Loss: 0.761588\n",
      "  Val Acc: 0.708089   Val Loss: 0.791104\n",
      "==================== Epoch 116 ====================\n",
      "Train Acc: 0.703440 Train Loss: 0.785821\n",
      "  Val Acc: 0.726846   Val Loss: 0.771523\n",
      "==================== Epoch 117 ====================\n",
      "Train Acc: 0.708185 Train Loss: 0.768663\n",
      "  Val Acc: 0.738570   Val Loss: 0.764499\n",
      "==================== Epoch 118 ====================\n",
      "Train Acc: 0.717675 Train Loss: 0.794775\n",
      "  Val Acc: 0.716295   Val Loss: 0.769781\n",
      "==================== Epoch 119 ====================\n",
      "Train Acc: 0.720047 Train Loss: 0.735034\n",
      "  Val Acc: 0.708089   Val Loss: 0.840248\n",
      "==================== Epoch 120 ====================\n",
      "Train Acc: 0.722420 Train Loss: 0.754910\n",
      "  Val Acc: 0.717468   Val Loss: 0.784308\n",
      "==================== Epoch 121 ====================\n",
      "Train Acc: 0.709371 Train Loss: 0.761253\n",
      "  Val Acc: 0.717468   Val Loss: 0.775856\n",
      "==================== Epoch 122 ====================\n",
      "Train Acc: 0.721234 Train Loss: 0.754761\n",
      "  Val Acc: 0.728019   Val Loss: 0.760357\n",
      "==================== Epoch 123 ====================\n",
      "Train Acc: 0.725979 Train Loss: 0.741387\n",
      "  Val Acc: 0.697538   Val Loss: 0.776165\n",
      "==================== Epoch 124 ====================\n",
      "Train Acc: 0.731910 Train Loss: 0.747335\n",
      "  Val Acc: 0.738570   Val Loss: 0.759236\n",
      "==================== Epoch 125 ====================\n",
      "Train Acc: 0.699881 Train Loss: 0.754902\n",
      "  Val Acc: 0.725674   Val Loss: 0.754742\n",
      "==================== Epoch 126 ====================\n",
      "Train Acc: 0.735469 Train Loss: 0.724572\n",
      "  Val Acc: 0.740914   Val Loss: 0.742315\n",
      "==================== Epoch 127 ====================\n",
      "Train Acc: 0.730724 Train Loss: 0.710447\n",
      "  Val Acc: 0.717468   Val Loss: 0.766719\n",
      "==================== Epoch 128 ====================\n",
      "Train Acc: 0.743772 Train Loss: 0.690502\n",
      "  Val Acc: 0.719812   Val Loss: 0.803888\n",
      "==================== Epoch 129 ====================\n",
      "Train Acc: 0.728351 Train Loss: 0.734046\n",
      "  Val Acc: 0.746776   Val Loss: 0.726161\n",
      "==================== Epoch 130 ====================\n",
      "Train Acc: 0.712930 Train Loss: 0.779526\n",
      "  Val Acc: 0.719812   Val Loss: 0.754761\n",
      "==================== Epoch 131 ====================\n",
      "Train Acc: 0.727165 Train Loss: 0.697642\n",
      "  Val Acc: 0.711606   Val Loss: 0.753823\n",
      "==================== Epoch 132 ====================\n",
      "Train Acc: 0.742586 Train Loss: 0.715039\n",
      "  Val Acc: 0.718640   Val Loss: 0.799711\n",
      "==================== Epoch 133 ====================\n",
      "Train Acc: 0.730724 Train Loss: 0.730464\n",
      "  Val Acc: 0.705744   Val Loss: 0.805542\n",
      "==================== Epoch 134 ====================\n",
      "Train Acc: 0.744958 Train Loss: 0.718649\n",
      "  Val Acc: 0.713951   Val Loss: 0.817783\n",
      "==================== Epoch 135 ====================\n",
      "Train Acc: 0.717675 Train Loss: 0.716262\n",
      "  Val Acc: 0.712778   Val Loss: 0.788487\n",
      "==================== Epoch 136 ====================\n",
      "Train Acc: 0.727165 Train Loss: 0.695028\n",
      "  Val Acc: 0.740914   Val Loss: 0.738257\n",
      "==================== Epoch 137 ====================\n",
      "Train Acc: 0.736655 Train Loss: 0.752855\n",
      "  Val Acc: 0.719812   Val Loss: 0.762408\n",
      "==================== Epoch 138 ====================\n",
      "Train Acc: 0.706999 Train Loss: 0.755928\n",
      "  Val Acc: 0.710434   Val Loss: 0.813487\n",
      "==================== Epoch 139 ====================\n",
      "Train Acc: 0.778173 Train Loss: 0.641313\n",
      "  Val Acc: 0.724502   Val Loss: 0.726822\n",
      "==================== Epoch 140 ====================\n",
      "Train Acc: 0.739027 Train Loss: 0.670512\n",
      "  Val Acc: 0.728019   Val Loss: 0.763912\n",
      "==================== Epoch 141 ====================\n",
      "Train Acc: 0.746145 Train Loss: 0.689075\n",
      "  Val Acc: 0.735053   Val Loss: 0.718355\n",
      "==================== Epoch 142 ====================\n",
      "Train Acc: 0.737841 Train Loss: 0.707452\n",
      "  Val Acc: 0.729191   Val Loss: 0.747354\n",
      "==================== Epoch 143 ====================\n",
      "Train Acc: 0.744958 Train Loss: 0.657889\n",
      "  Val Acc: 0.722157   Val Loss: 0.736221\n",
      "==================== Epoch 144 ====================\n",
      "Train Acc: 0.735469 Train Loss: 0.699193\n",
      "  Val Acc: 0.710434   Val Loss: 0.802756\n",
      "==================== Epoch 145 ====================\n",
      "Train Acc: 0.733096 Train Loss: 0.724684\n",
      "  Val Acc: 0.732708   Val Loss: 0.717754\n",
      "==================== Epoch 146 ====================\n",
      "Train Acc: 0.740214 Train Loss: 0.674030\n",
      "  Val Acc: 0.699883   Val Loss: 0.781834\n",
      "==================== Epoch 147 ====================\n",
      "Train Acc: 0.760380 Train Loss: 0.661561\n",
      "  Val Acc: 0.731536   Val Loss: 0.732182\n",
      "==================== Epoch 148 ====================\n",
      "Train Acc: 0.750890 Train Loss: 0.665234\n",
      "  Val Acc: 0.747948   Val Loss: 0.727078\n",
      "==================== Epoch 149 ====================\n",
      "Train Acc: 0.741400 Train Loss: 0.679580\n",
      "  Val Acc: 0.726846   Val Loss: 0.750150\n",
      "==================== Epoch 150 ====================\n",
      "Train Acc: 0.759193 Train Loss: 0.678020\n",
      "  Val Acc: 0.735053   Val Loss: 0.787535\n",
      "==================== Epoch 151 ====================\n",
      "Train Acc: 0.759193 Train Loss: 0.685645\n",
      "  Val Acc: 0.730363   Val Loss: 0.814414\n",
      "==================== Epoch 152 ====================\n",
      "Train Acc: 0.736655 Train Loss: 0.698968\n",
      "  Val Acc: 0.712778   Val Loss: 0.804915\n",
      "==================== Epoch 153 ====================\n",
      "Train Acc: 0.737841 Train Loss: 0.690005\n",
      "  Val Acc: 0.739742   Val Loss: 0.710263\n",
      "==================== Epoch 154 ====================\n",
      "Train Acc: 0.724792 Train Loss: 0.713397\n",
      "  Val Acc: 0.751465   Val Loss: 0.681148\n",
      "==================== Epoch 155 ====================\n",
      "Train Acc: 0.734282 Train Loss: 0.680244\n",
      "  Val Acc: 0.750293   Val Loss: 0.727882\n",
      "==================== Epoch 156 ====================\n",
      "Train Acc: 0.754448 Train Loss: 0.657540\n",
      "  Val Acc: 0.729191   Val Loss: 0.727155\n",
      "==================== Epoch 157 ====================\n",
      "Train Acc: 0.747331 Train Loss: 0.708882\n",
      "  Val Acc: 0.746776   Val Loss: 0.700947\n",
      "==================== Epoch 158 ====================\n",
      "Train Acc: 0.754448 Train Loss: 0.646584\n",
      "  Val Acc: 0.732708   Val Loss: 0.725085\n",
      "==================== Epoch 159 ====================\n",
      "Train Acc: 0.747331 Train Loss: 0.700351\n",
      "  Val Acc: 0.725674   Val Loss: 0.737084\n",
      "==================== Epoch 160 ====================\n",
      "Train Acc: 0.749703 Train Loss: 0.675193\n",
      "  Val Acc: 0.740914   Val Loss: 0.708743\n",
      "==================== Epoch 161 ====================\n",
      "Train Acc: 0.766311 Train Loss: 0.655770\n",
      "  Val Acc: 0.740914   Val Loss: 0.701111\n",
      "==================== Epoch 162 ====================\n",
      "Train Acc: 0.736655 Train Loss: 0.689785\n",
      "  Val Acc: 0.712778   Val Loss: 0.772663\n",
      "==================== Epoch 163 ====================\n",
      "Train Acc: 0.754448 Train Loss: 0.643825\n",
      "  Val Acc: 0.702227   Val Loss: 0.798947\n",
      "==================== Epoch 164 ====================\n",
      "Train Acc: 0.729537 Train Loss: 0.730190\n",
      "  Val Acc: 0.737397   Val Loss: 0.735565\n",
      "==================== Epoch 165 ====================\n",
      "Train Acc: 0.765125 Train Loss: 0.613600\n",
      "  Val Acc: 0.725674   Val Loss: 0.760819\n",
      "==================== Epoch 166 ====================\n",
      "Train Acc: 0.772242 Train Loss: 0.632555\n",
      "  Val Acc: 0.722157   Val Loss: 0.761274\n",
      "==================== Epoch 167 ====================\n",
      "Train Acc: 0.768683 Train Loss: 0.660625\n",
      "  Val Acc: 0.726846   Val Loss: 0.746147\n",
      "==================== Epoch 168 ====================\n",
      "Train Acc: 0.749703 Train Loss: 0.651197\n",
      "  Val Acc: 0.722157   Val Loss: 0.777212\n",
      "==================== Epoch 169 ====================\n",
      "Train Acc: 0.743772 Train Loss: 0.698342\n",
      "  Val Acc: 0.739742   Val Loss: 0.743401\n",
      "==================== Epoch 170 ====================\n",
      "Train Acc: 0.767497 Train Loss: 0.653088\n",
      "  Val Acc: 0.717468   Val Loss: 0.769253\n",
      "==================== Epoch 171 ====================\n",
      "Train Acc: 0.771056 Train Loss: 0.651688\n",
      "  Val Acc: 0.738570   Val Loss: 0.708631\n",
      "==================== Epoch 172 ====================\n",
      "Train Acc: 0.750890 Train Loss: 0.679908\n",
      "  Val Acc: 0.728019   Val Loss: 0.728169\n",
      "==================== Epoch 173 ====================\n",
      "Train Acc: 0.771056 Train Loss: 0.651042\n",
      "  Val Acc: 0.742087   Val Loss: 0.713264\n",
      "==================== Epoch 174 ====================\n",
      "Train Acc: 0.772242 Train Loss: 0.615799\n",
      "  Val Acc: 0.747948   Val Loss: 0.680709\n",
      "==================== Epoch 175 ====================\n",
      "Train Acc: 0.742586 Train Loss: 0.685741\n",
      "  Val Acc: 0.763189   Val Loss: 0.685137\n",
      "==================== Epoch 176 ====================\n",
      "Train Acc: 0.775801 Train Loss: 0.619566\n",
      "  Val Acc: 0.729191   Val Loss: 0.739382\n",
      "==================== Epoch 177 ====================\n",
      "Train Acc: 0.749703 Train Loss: 0.643524\n",
      "  Val Acc: 0.744431   Val Loss: 0.728303\n",
      "==================== Epoch 178 ====================\n",
      "Train Acc: 0.784104 Train Loss: 0.596650\n",
      "  Val Acc: 0.752638   Val Loss: 0.706041\n",
      "==================== Epoch 179 ====================\n",
      "Train Acc: 0.760380 Train Loss: 0.615929\n",
      "  Val Acc: 0.733880   Val Loss: 0.768463\n",
      "==================== Epoch 180 ====================\n",
      "Train Acc: 0.790036 Train Loss: 0.585175\n",
      "  Val Acc: 0.743259   Val Loss: 0.719013\n",
      "==================== Epoch 181 ====================\n",
      "Train Acc: 0.779359 Train Loss: 0.636004\n",
      "  Val Acc: 0.743259   Val Loss: 0.702328\n",
      "==================== Epoch 182 ====================\n",
      "Train Acc: 0.781732 Train Loss: 0.567981\n",
      "  Val Acc: 0.726846   Val Loss: 0.762882\n",
      "==================== Epoch 183 ====================\n",
      "Train Acc: 0.753262 Train Loss: 0.612155\n",
      "  Val Acc: 0.733880   Val Loss: 0.748497\n",
      "==================== Epoch 184 ====================\n",
      "Train Acc: 0.754448 Train Loss: 0.643708\n",
      "  Val Acc: 0.723329   Val Loss: 0.789521\n",
      "==================== Epoch 185 ====================\n",
      "Train Acc: 0.754448 Train Loss: 0.639084\n",
      "  Val Acc: 0.724502   Val Loss: 0.747062\n",
      "==================== Epoch 186 ====================\n",
      "Train Acc: 0.752076 Train Loss: 0.662246\n",
      "  Val Acc: 0.726846   Val Loss: 0.748497\n",
      "==================== Epoch 187 ====================\n",
      "Train Acc: 0.768683 Train Loss: 0.632487\n",
      "  Val Acc: 0.745604   Val Loss: 0.716766\n",
      "==================== Epoch 188 ====================\n",
      "Train Acc: 0.773428 Train Loss: 0.639667\n",
      "  Val Acc: 0.726846   Val Loss: 0.745878\n",
      "==================== Epoch 189 ====================\n",
      "Train Acc: 0.778173 Train Loss: 0.609999\n",
      "  Val Acc: 0.720985   Val Loss: 0.748510\n",
      "==================== Epoch 190 ====================\n",
      "Train Acc: 0.773428 Train Loss: 0.635673\n",
      "  Val Acc: 0.728019   Val Loss: 0.738129\n",
      "==================== Epoch 191 ====================\n",
      "Train Acc: 0.769870 Train Loss: 0.640977\n",
      "  Val Acc: 0.737397   Val Loss: 0.709593\n",
      "==================== Epoch 192 ====================\n",
      "Train Acc: 0.790036 Train Loss: 0.598782\n",
      "  Val Acc: 0.726846   Val Loss: 0.727806\n",
      "==================== Epoch 193 ====================\n",
      "Train Acc: 0.780546 Train Loss: 0.582598\n",
      "  Val Acc: 0.717468   Val Loss: 0.832049\n",
      "==================== Epoch 194 ====================\n",
      "Train Acc: 0.786477 Train Loss: 0.634112\n",
      "  Val Acc: 0.731536   Val Loss: 0.781504\n",
      "Early stopping at epoch 194 due to no improvement in validation loss.\n"
     ]
    }
   ],
   "source": [
    "################################################################################\n",
    "#     You can adjust those hyper parameters to loop for max_epochs times       #\n",
    "################################################################################\n",
    "max_epochs = 300\n",
    "log_interval = 1\n",
    "early_stopping_patience = 20    # Number of epochs to wait for improvement\n",
    "\n",
    "train_acc_list = []\n",
    "train_loss_list = []\n",
    "val_acc_list = []\n",
    "val_loss_list = []\n",
    "\n",
    "best_val_loss = torch.inf       # Initialize with a large value\n",
    "no_improvement_count = 0\n",
    "\n",
    "best_model_state_dict = None    # To store the state_dict of the best model\n",
    "\n",
    "for epoch in range(1, max_epochs + 1):\n",
    "    train_acc, train_loss = train(train_loader, model, criterion, optimizer)\n",
    "    val_acc, val_loss = val(valid_loader, model, criterion)\n",
    "\n",
    "    train_acc_list.append(train_acc)\n",
    "    train_loss_list.append(train_loss)\n",
    "    val_acc_list.append(val_acc)\n",
    "    val_loss_list.append(val_loss)\n",
    "\n",
    "    if epoch % log_interval == 0:\n",
    "        print('=' * 20, 'Epoch', epoch, '=' * 20)\n",
    "        print('Train Acc: {:.6f} Train Loss: {:.6f}'.format(train_acc, train_loss))\n",
    "        print('  Val Acc: {:.6f}   Val Loss: {:.6f}'.format(val_acc, val_loss))\n",
    "\n",
    "    # Check for early stopping based on validation loss\n",
    "    if val_loss < best_val_loss:\n",
    "        best_val_loss = val_loss\n",
    "        no_improvement_count = 0\n",
    "\n",
    "        # Save a copy of the model's state_dict when the best validation loss is seen\n",
    "        best_model_state_dict = model.state_dict()\n",
    "    else:\n",
    "        no_improvement_count += 1\n",
    "\n",
    "    if no_improvement_count >= early_stopping_patience:\n",
    "        print(f'Early stopping at epoch {epoch} due to no improvement in validation loss.')\n",
    "\n",
    "        # Restore the best model weights\n",
    "        if best_model_state_dict is not None:\n",
    "            model.load_state_dict(best_model_state_dict)\n",
    "        break\n",
    "\n",
    "################################################################################\n",
    "#                               End of your code                               #\n",
    "################################################################################"
   ]
  },
  {
   "cell_type": "markdown",
   "metadata": {},
   "source": [
    "#### Visualize accuracy and loss"
   ]
  },
  {
   "cell_type": "code",
   "execution_count": 37,
   "metadata": {
    "ExecuteTime": {
     "end_time": "2023-10-20T06:36:31.113941600Z",
     "start_time": "2023-10-20T06:36:28.925408Z"
    }
   },
   "outputs": [
    {
     "data": {
      "text/plain": "<Figure size 1200x400 with 1 Axes>",
      "image/png": "[encoded data removed]"
     },
     "metadata": {},
     "output_type": "display_data"
    },
    {
     "data": {
      "text/plain": "<Figure size 1200x400 with 1 Axes>",
      "image/png": "[encoded data removed]"
     },
     "metadata": {},
     "output_type": "display_data"
    }
   ],
   "source": [
    "import matplotlib.pyplot as plt\n",
    "\n",
    "\n",
    "plt.figure(figsize=(12, 4))\n",
    "plt.plot(range(len(train_loss_list)), train_loss_list)\n",
    "plt.plot(range(len(val_loss_list)), val_loss_list, c='r')\n",
    "plt.legend(['train', 'val'])\n",
    "plt.title('Loss')\n",
    "plt.show()\n",
    "plt.figure(figsize=(12, 4))\n",
    "plt.plot(range(len(train_acc_list)), train_acc_list)\n",
    "plt.plot(range(len(val_acc_list)), val_acc_list, c='r')\n",
    "plt.legend(['train', 'val'])\n",
    "plt.title('Acc')\n",
    "plt.show()"
   ]
  },
  {
   "cell_type": "code",
   "execution_count": 38,
   "metadata": {
    "ExecuteTime": {
     "end_time": "2023-10-20T06:42:18.581798Z",
     "start_time": "2023-10-20T06:42:18.539935800Z"
    }
   },
   "outputs": [],
   "source": [
    "from datetime import datetime\n",
    "\n",
    "# save your well-trained state_dict of model\n",
    "# Get the current timestamp\n",
    "timestamp = datetime.now().strftime(\"%Y-%m-%d-%H-%M\")\n",
    "torch.save(model.state_dict(), f'MB-CONV_{timestamp}.pt')"
   ]
  },
  {
   "cell_type": "markdown",
   "metadata": {},
   "source": [
    "finish training your classifier, next you should use this classifer to predict unlabel images with pseduo label."
   ]
  },
  {
   "cell_type": "markdown",
   "metadata": {},
   "source": [
    "## Step2: Use unlabeled data to enhance model performance"
   ]
  },
  {
   "cell_type": "code",
   "execution_count": 65,
   "metadata": {
    "ExecuteTime": {
     "end_time": "2023-10-20T07:01:40.978756300Z",
     "start_time": "2023-10-20T07:01:40.951037800Z"
    }
   },
   "outputs": [
    {
     "data": {
      "text/plain": "<All keys matched successfully>"
     },
     "execution_count": 65,
     "metadata": {},
     "output_type": "execute_result"
    }
   ],
   "source": [
    "# load the trained classifier weights\n",
    "ckpt = torch.load('MB-CONV_2023-10-20-14-42.pt')\n",
    "model.load_state_dict(ckpt) "
   ]
  },
  {
   "cell_type": "code",
   "execution_count": 61,
   "metadata": {
    "ExecuteTime": {
     "end_time": "2023-10-20T06:59:43.582871500Z",
     "start_time": "2023-10-20T06:59:39.350256100Z"
    }
   },
   "outputs": [
    {
     "name": "stdout",
     "output_type": "stream",
     "text": [
      "1713\n"
     ]
    }
   ],
   "source": [
    "# create a unlabeled data set list, we will use it later\n",
    "unlabeled_set_list = []\n",
    "\n",
    "for img in unlabeled_set:\n",
    "    unlabeled_set_list.append(img)\n",
    "    \n",
    "print(len(unlabeled_set_list))"
   ]
  },
  {
   "cell_type": "markdown",
   "metadata": {},
   "source": [
    "### Define loss and optimizer"
   ]
  },
  {
   "cell_type": "code",
   "execution_count": 62,
   "metadata": {
    "ExecuteTime": {
     "end_time": "2023-10-20T06:59:46.516468900Z",
     "start_time": "2023-10-20T06:59:46.503433800Z"
    }
   },
   "outputs": [],
   "source": [
    "import torch.nn as nn\n",
    "import torch.optim as optim\n",
    "################################################################################\n",
    "# TODO: Define loss and optmizer functions                                     #\n",
    "# Try any loss or optimizer function and learning rate to get better result    #\n",
    "# hint: torch.nn and torch.optim                                               #\n",
    "################################################################################\n",
    "# CrossEntropyLoss for classification tasks\n",
    "criterion = nn.CrossEntropyLoss()\n",
    "\n",
    "# Adam optimizer\n",
    "learning_rate = 0.0001\n",
    "optimizer = optim.Adam(model.parameters(), lr=learning_rate, weight_decay=0.001)\n",
    "################################################################################\n",
    "#                               End of your code                               #\n",
    "################################################################################\n",
    "criterion = criterion.to(device)"
   ]
  },
  {
   "cell_type": "markdown",
   "metadata": {},
   "source": [
    "### Use the trained classifier to generates pseudo-labels of a dataset."
   ]
  },
  {
   "cell_type": "code",
   "execution_count": 63,
   "metadata": {
    "ExecuteTime": {
     "end_time": "2023-10-20T06:59:49.593937100Z",
     "start_time": "2023-10-20T06:59:49.575805300Z"
    }
   },
   "outputs": [],
   "source": [
    "from torch.utils.data import ConcatDataset, DataLoader, Subset\n",
    "from tqdm.auto import tqdm\n",
    "\n",
    "###########################################################\n",
    "#   You can adjust the threshold to get better result !   #                                  \n",
    "###########################################################\n",
    "def get_pseudo_labels(model, threshold=0.5):\n",
    "    \n",
    "    global unlabeled_set_list, train_set\n",
    "\n",
    "    remove_index, index = [], 0\n",
    "\n",
    "    model.eval()\n",
    "\n",
    "    softmax = nn.Softmax(dim=-1)\n",
    "\n",
    "    # Iterate over the dataset by batches.\n",
    "    for img in tqdm(unlabeled_set_list):\n",
    "\n",
    "        #####################################################################################\n",
    "        #     TODO:                                                                         #\n",
    "        #     1. Foward the data, Using torch.no_grad() accelerates the forward process     #\n",
    "        #     2. obtain the probability distributions by applying softmax on logits         #\n",
    "        #     3. Filter the data with threshold                                             #\n",
    "        #     4. Combine the labeled training data with the pseudo-labeled data             #\n",
    "        #        to construct a new training set. then removed                              #\n",
    "        #     5. the unlabeled data from unlabeled_set_list                                 #\n",
    "        #     hint: ConcatDataset                                                           #\n",
    "        #####################################################################################\n",
    "        with torch.no_grad():\n",
    "            img = img.to(device)  # Move the image to the device (e.g., GPU)\n",
    "\n",
    "            # 1. Forward the data\n",
    "            outputs = model(img.unsqueeze(0))  # Unsqueeze to add batch dimension\n",
    "\n",
    "            # 2. Obtain the probability distributions by applying softmax on logits\n",
    "            probs = softmax(outputs)\n",
    "\n",
    "            # 3. Filter the data with the threshold\n",
    "            max_prob, predicted_label = torch.max(probs, 1)\n",
    "\n",
    "            if max_prob.item() >= threshold:\n",
    "                # 4. Add the pseudo-label and image for the train set.\n",
    "                train_set.data_list.append(unlabeled_set.data_list[index])\n",
    "                train_set.labels.append(predicted_label.item())\n",
    "\n",
    "                # 5. Remove the unlabeled data from unlabeled_set_list\n",
    "                # remove_index.append(index)\n",
    "\n",
    "            index += 1\n",
    "        #####################################################################################\n",
    "        #                           End of your code                                        #\n",
    "        #####################################################################################\n",
    "\n",
    "\n",
    "    remove_index.reverse()\n",
    "    for i in remove_index:\n",
    "        del unlabeled_set_list[i]\n",
    "\n",
    "    print(f\"[{len(train_set)-843}/1713] images have been labeled.\")\n",
    "    \n",
    "    # # Turn off the eval mode.\n",
    "    model.train()"
   ]
  },
  {
   "cell_type": "markdown",
   "metadata": {},
   "source": [
    "### Train the model"
   ]
  },
  {
   "cell_type": "markdown",
   "metadata": {},
   "source": [
    "Let's define train function.  \n",
    "\n",
    "Use the **get_pseudo_labels** function to get the new training set, then construct a new data loader for training.\n",
    "\n",
    "It will iterate input data 1 epoch and update model with optmizer.  \n",
    "\n",
    "Finally, calculate mean loss and total accuracy."
   ]
  },
  {
   "cell_type": "code",
   "execution_count": 69,
   "metadata": {
    "ExecuteTime": {
     "end_time": "2023-10-20T07:05:25.570722600Z",
     "start_time": "2023-10-20T07:02:53.551994500Z"
    }
   },
   "outputs": [
    {
     "data": {
      "text/plain": "  0%|          | 0/1713 [00:00<?, ?it/s]",
      "application/vnd.jupyter.widget-view+json": {
       "version_major": 2,
       "version_minor": 0,
       "model_id": "121bc83f42ce4ad0a0b1fd4f7ffbe101"
      }
     },
     "metadata": {},
     "output_type": "display_data"
    },
    {
     "name": "stdout",
     "output_type": "stream",
     "text": [
      "[588/1713] images have been labeled.\n"
     ]
    },
    {
     "data": {
      "text/plain": "  0%|          | 0/45 [00:00<?, ?it/s]",
      "application/vnd.jupyter.widget-view+json": {
       "version_major": 2,
       "version_minor": 0,
       "model_id": "0581211f35854ef3b1bc3c881fecfbd8"
      }
     },
     "metadata": {},
     "output_type": "display_data"
    },
    {
     "name": "stdout",
     "output_type": "stream",
     "text": [
      "[ Train | 001/010 ] loss = 0.45011, acc = 0.83684\n"
     ]
    },
    {
     "data": {
      "text/plain": "  0%|          | 0/27 [00:00<?, ?it/s]",
      "application/vnd.jupyter.widget-view+json": {
       "version_major": 2,
       "version_minor": 0,
       "model_id": "5e2d05a6cd8842fcbe62c82a775dd990"
      }
     },
     "metadata": {},
     "output_type": "display_data"
    },
    {
     "name": "stdout",
     "output_type": "stream",
     "text": [
      "[ Valid | 001/010 ] loss = 0.67152, acc = 0.75617\n",
      "[001/010] saving model with acc 0.756\n"
     ]
    },
    {
     "data": {
      "text/plain": "  0%|          | 0/1713 [00:00<?, ?it/s]",
      "application/vnd.jupyter.widget-view+json": {
       "version_major": 2,
       "version_minor": 0,
       "model_id": "5078bf95df85439a9d539873324fdb28"
      }
     },
     "metadata": {},
     "output_type": "display_data"
    },
    {
     "name": "stdout",
     "output_type": "stream",
     "text": [
      "[620/1713] images have been labeled.\n"
     ]
    },
    {
     "data": {
      "text/plain": "  0%|          | 0/46 [00:00<?, ?it/s]",
      "application/vnd.jupyter.widget-view+json": {
       "version_major": 2,
       "version_minor": 0,
       "model_id": "0fb5b03757d24d4b81905616629c7f36"
      }
     },
     "metadata": {},
     "output_type": "display_data"
    },
    {
     "name": "stdout",
     "output_type": "stream",
     "text": [
      "[ Train | 002/010 ] loss = 0.41444, acc = 0.85899\n"
     ]
    },
    {
     "data": {
      "text/plain": "  0%|          | 0/27 [00:00<?, ?it/s]",
      "application/vnd.jupyter.widget-view+json": {
       "version_major": 2,
       "version_minor": 0,
       "model_id": "1289a18953f4456cb17cd33dcdf5c67f"
      }
     },
     "metadata": {},
     "output_type": "display_data"
    },
    {
     "name": "stdout",
     "output_type": "stream",
     "text": [
      "[ Valid | 002/010 ] loss = 0.66754, acc = 0.75562\n"
     ]
    },
    {
     "data": {
      "text/plain": "  0%|          | 0/1713 [00:00<?, ?it/s]",
      "application/vnd.jupyter.widget-view+json": {
       "version_major": 2,
       "version_minor": 0,
       "model_id": "abd01c1ec1b548b5ac782edbf290f1b8"
      }
     },
     "metadata": {},
     "output_type": "display_data"
    },
    {
     "name": "stdout",
     "output_type": "stream",
     "text": [
      "[650/1713] images have been labeled.\n"
     ]
    },
    {
     "data": {
      "text/plain": "  0%|          | 0/47 [00:00<?, ?it/s]",
      "application/vnd.jupyter.widget-view+json": {
       "version_major": 2,
       "version_minor": 0,
       "model_id": "9bd026c4c0574db1be6680cc12471674"
      }
     },
     "metadata": {},
     "output_type": "display_data"
    },
    {
     "name": "stdout",
     "output_type": "stream",
     "text": [
      "[ Train | 003/010 ] loss = 0.37920, acc = 0.87465\n"
     ]
    },
    {
     "data": {
      "text/plain": "  0%|          | 0/27 [00:00<?, ?it/s]",
      "application/vnd.jupyter.widget-view+json": {
       "version_major": 2,
       "version_minor": 0,
       "model_id": "a8aa9b17efa043ada663703382278817"
      }
     },
     "metadata": {},
     "output_type": "display_data"
    },
    {
     "name": "stdout",
     "output_type": "stream",
     "text": [
      "[ Valid | 003/010 ] loss = 0.66969, acc = 0.76080\n",
      "[003/010] saving model with acc 0.761\n"
     ]
    },
    {
     "data": {
      "text/plain": "  0%|          | 0/1713 [00:00<?, ?it/s]",
      "application/vnd.jupyter.widget-view+json": {
       "version_major": 2,
       "version_minor": 0,
       "model_id": "ff40ba93c4994df7833e39b1b272d068"
      }
     },
     "metadata": {},
     "output_type": "display_data"
    },
    {
     "name": "stdout",
     "output_type": "stream",
     "text": [
      "[698/1713] images have been labeled.\n"
     ]
    },
    {
     "data": {
      "text/plain": "  0%|          | 0/49 [00:00<?, ?it/s]",
      "application/vnd.jupyter.widget-view+json": {
       "version_major": 2,
       "version_minor": 0,
       "model_id": "ef0072de980943939e7dd44cdaed9ef0"
      }
     },
     "metadata": {},
     "output_type": "display_data"
    },
    {
     "name": "stdout",
     "output_type": "stream",
     "text": [
      "[ Train | 004/010 ] loss = 0.38892, acc = 0.86582\n"
     ]
    },
    {
     "data": {
      "text/plain": "  0%|          | 0/27 [00:00<?, ?it/s]",
      "application/vnd.jupyter.widget-view+json": {
       "version_major": 2,
       "version_minor": 0,
       "model_id": "d6d6bed3cff34290a9e99f23d13f1b1c"
      }
     },
     "metadata": {},
     "output_type": "display_data"
    },
    {
     "name": "stdout",
     "output_type": "stream",
     "text": [
      "[ Valid | 004/010 ] loss = 0.67105, acc = 0.75154\n"
     ]
    },
    {
     "data": {
      "text/plain": "  0%|          | 0/1713 [00:00<?, ?it/s]",
      "application/vnd.jupyter.widget-view+json": {
       "version_major": 2,
       "version_minor": 0,
       "model_id": "aab466edc84a4053b44ccd4fac7778a2"
      }
     },
     "metadata": {},
     "output_type": "display_data"
    },
    {
     "name": "stdout",
     "output_type": "stream",
     "text": [
      "[742/1713] images have been labeled.\n"
     ]
    },
    {
     "data": {
      "text/plain": "  0%|          | 0/50 [00:00<?, ?it/s]",
      "application/vnd.jupyter.widget-view+json": {
       "version_major": 2,
       "version_minor": 0,
       "model_id": "ea790c6c4ed64398b4e1a04668fce4ac"
      }
     },
     "metadata": {},
     "output_type": "display_data"
    },
    {
     "name": "stdout",
     "output_type": "stream",
     "text": [
      "[ Train | 005/010 ] loss = 0.42626, acc = 0.85390\n"
     ]
    },
    {
     "data": {
      "text/plain": "  0%|          | 0/27 [00:00<?, ?it/s]",
      "application/vnd.jupyter.widget-view+json": {
       "version_major": 2,
       "version_minor": 0,
       "model_id": "2544145a170b4feeb855bfa939cd05e2"
      }
     },
     "metadata": {},
     "output_type": "display_data"
    },
    {
     "name": "stdout",
     "output_type": "stream",
     "text": [
      "[ Valid | 005/010 ] loss = 0.66783, acc = 0.76025\n"
     ]
    },
    {
     "data": {
      "text/plain": "  0%|          | 0/1713 [00:00<?, ?it/s]",
      "application/vnd.jupyter.widget-view+json": {
       "version_major": 2,
       "version_minor": 0,
       "model_id": "c5a47109aedf4e72b0b8fb9d3732ef34"
      }
     },
     "metadata": {},
     "output_type": "display_data"
    },
    {
     "name": "stdout",
     "output_type": "stream",
     "text": [
      "[728/1713] images have been labeled.\n"
     ]
    },
    {
     "data": {
      "text/plain": "  0%|          | 0/50 [00:00<?, ?it/s]",
      "application/vnd.jupyter.widget-view+json": {
       "version_major": 2,
       "version_minor": 0,
       "model_id": "ebea7f37dd514c6cb80d9a452febec2b"
      }
     },
     "metadata": {},
     "output_type": "display_data"
    },
    {
     "name": "stdout",
     "output_type": "stream",
     "text": [
      "[ Train | 006/010 ] loss = 0.45460, acc = 0.83417\n"
     ]
    },
    {
     "data": {
      "text/plain": "  0%|          | 0/27 [00:00<?, ?it/s]",
      "application/vnd.jupyter.widget-view+json": {
       "version_major": 2,
       "version_minor": 0,
       "model_id": "3ba99d2e386f4429bd3f8722c9bb1a90"
      }
     },
     "metadata": {},
     "output_type": "display_data"
    },
    {
     "name": "stdout",
     "output_type": "stream",
     "text": [
      "[ Valid | 006/010 ] loss = 0.67712, acc = 0.76025\n"
     ]
    },
    {
     "data": {
      "text/plain": "  0%|          | 0/1713 [00:00<?, ?it/s]",
      "application/vnd.jupyter.widget-view+json": {
       "version_major": 2,
       "version_minor": 0,
       "model_id": "d9c5658caf9b48f59b107dc9ee080e3d"
      }
     },
     "metadata": {},
     "output_type": "display_data"
    },
    {
     "name": "stdout",
     "output_type": "stream",
     "text": [
      "[777/1713] images have been labeled.\n"
     ]
    },
    {
     "data": {
      "text/plain": "  0%|          | 0/51 [00:00<?, ?it/s]",
      "application/vnd.jupyter.widget-view+json": {
       "version_major": 2,
       "version_minor": 0,
       "model_id": "30ac00b1eb4444b19b3d7beab1daed1e"
      }
     },
     "metadata": {},
     "output_type": "display_data"
    },
    {
     "name": "stdout",
     "output_type": "stream",
     "text": [
      "[ Train | 007/010 ] loss = 0.42400, acc = 0.85331\n"
     ]
    },
    {
     "data": {
      "text/plain": "  0%|          | 0/27 [00:00<?, ?it/s]",
      "application/vnd.jupyter.widget-view+json": {
       "version_major": 2,
       "version_minor": 0,
       "model_id": "832cbf1c60a243d59eabc598fdcf2785"
      }
     },
     "metadata": {},
     "output_type": "display_data"
    },
    {
     "name": "stdout",
     "output_type": "stream",
     "text": [
      "[ Valid | 007/010 ] loss = 0.67502, acc = 0.76257\n",
      "[007/010] saving model with acc 0.763\n"
     ]
    },
    {
     "data": {
      "text/plain": "  0%|          | 0/1713 [00:00<?, ?it/s]",
      "application/vnd.jupyter.widget-view+json": {
       "version_major": 2,
       "version_minor": 0,
       "model_id": "c45bb4abb1124d36b4ae31d0597d3892"
      }
     },
     "metadata": {},
     "output_type": "display_data"
    },
    {
     "name": "stdout",
     "output_type": "stream",
     "text": [
      "[756/1713] images have been labeled.\n"
     ]
    },
    {
     "data": {
      "text/plain": "  0%|          | 0/50 [00:00<?, ?it/s]",
      "application/vnd.jupyter.widget-view+json": {
       "version_major": 2,
       "version_minor": 0,
       "model_id": "93858020f4fa4f39b6d5587737b5f935"
      }
     },
     "metadata": {},
     "output_type": "display_data"
    },
    {
     "name": "stdout",
     "output_type": "stream",
     "text": [
      "[ Train | 008/010 ] loss = 0.41630, acc = 0.85615\n"
     ]
    },
    {
     "data": {
      "text/plain": "  0%|          | 0/27 [00:00<?, ?it/s]",
      "application/vnd.jupyter.widget-view+json": {
       "version_major": 2,
       "version_minor": 0,
       "model_id": "7a438f477aa240dca62433b291015d8c"
      }
     },
     "metadata": {},
     "output_type": "display_data"
    },
    {
     "name": "stdout",
     "output_type": "stream",
     "text": [
      "[ Valid | 008/010 ] loss = 0.68185, acc = 0.76372\n",
      "[008/010] saving model with acc 0.764\n"
     ]
    },
    {
     "data": {
      "text/plain": "  0%|          | 0/1713 [00:00<?, ?it/s]",
      "application/vnd.jupyter.widget-view+json": {
       "version_major": 2,
       "version_minor": 0,
       "model_id": "b04ea22f7c9f4c07b5dc33b99efd419d"
      }
     },
     "metadata": {},
     "output_type": "display_data"
    },
    {
     "name": "stdout",
     "output_type": "stream",
     "text": [
      "[769/1713] images have been labeled.\n"
     ]
    },
    {
     "data": {
      "text/plain": "  0%|          | 0/51 [00:00<?, ?it/s]",
      "application/vnd.jupyter.widget-view+json": {
       "version_major": 2,
       "version_minor": 0,
       "model_id": "c04963c128b945e29bbb4717832e86e0"
      }
     },
     "metadata": {},
     "output_type": "display_data"
    },
    {
     "name": "stdout",
     "output_type": "stream",
     "text": [
      "[ Train | 009/010 ] loss = 0.37980, acc = 0.86928\n"
     ]
    },
    {
     "data": {
      "text/plain": "  0%|          | 0/27 [00:00<?, ?it/s]",
      "application/vnd.jupyter.widget-view+json": {
       "version_major": 2,
       "version_minor": 0,
       "model_id": "14c396b58a8249a68e5c1f36a9a3a8be"
      }
     },
     "metadata": {},
     "output_type": "display_data"
    },
    {
     "name": "stdout",
     "output_type": "stream",
     "text": [
      "[ Valid | 009/010 ] loss = 0.67990, acc = 0.76141\n"
     ]
    },
    {
     "data": {
      "text/plain": "  0%|          | 0/1713 [00:00<?, ?it/s]",
      "application/vnd.jupyter.widget-view+json": {
       "version_major": 2,
       "version_minor": 0,
       "model_id": "0513d3cc47d04b83a81bca3f81119d71"
      }
     },
     "metadata": {},
     "output_type": "display_data"
    },
    {
     "name": "stdout",
     "output_type": "stream",
     "text": [
      "[784/1713] images have been labeled.\n"
     ]
    },
    {
     "data": {
      "text/plain": "  0%|          | 0/51 [00:00<?, ?it/s]",
      "application/vnd.jupyter.widget-view+json": {
       "version_major": 2,
       "version_minor": 0,
       "model_id": "2cf37186f2cd4038baebf3888500f9e1"
      }
     },
     "metadata": {},
     "output_type": "display_data"
    },
    {
     "name": "stdout",
     "output_type": "stream",
     "text": [
      "[ Train | 010/010 ] loss = 0.36428, acc = 0.87060\n"
     ]
    },
    {
     "data": {
      "text/plain": "  0%|          | 0/27 [00:00<?, ?it/s]",
      "application/vnd.jupyter.widget-view+json": {
       "version_major": 2,
       "version_minor": 0,
       "model_id": "4f05208e0d4d48c8aa64c7bd55f5ff32"
      }
     },
     "metadata": {},
     "output_type": "display_data"
    },
    {
     "name": "stdout",
     "output_type": "stream",
     "text": [
      "[ Valid | 010/010 ] loss = 0.68789, acc = 0.75794\n"
     ]
    }
   ],
   "source": [
    "import sys\n",
    "sys.setrecursionlimit(1000000)\n",
    "#########################################################################################################\n",
    "#         You can adjust those hyper parameters like epochs or threshlod for training                   #\n",
    "#########################################################################################################\n",
    "n_epochs = 10\n",
    "best_acc = 0\n",
    "\n",
    "\n",
    "for epoch in range(n_epochs):\n",
    "\n",
    "    #########################################################################################################\n",
    "    #    TODO:                                                                                              #\n",
    "    #    In each epoch, relabel the unlabeled dataset for semi-supervised learning.                         #\n",
    "    #    1. Obtain pseudo-labels for unlabeled data using trained model.(use get_pseudo_labels function)    #\n",
    "    #    2. Construct a new dataset and a data loader for training.                                         #\n",
    "    #    You can try different way to use the get_pseudo_label function maybe will get the better result.   #                                  #\n",
    "    #########################################################################################################\n",
    "    global train_set\n",
    "    train_set = FlowerData('train_labeled_dataset.csv', mode='train', transform=transforms_train)\n",
    "    get_pseudo_labels(model, threshold=0.9)\n",
    "\n",
    "    # Create a new data loader for training\n",
    "    train_loader = DataLoader(train_set, batch_size=batch_size, num_workers=num_workers, shuffle=True)\n",
    "    #########################################################################################################  \n",
    "    #                                          End of your code                                             #\n",
    "    #########################################################################################################\n",
    "\n",
    "    # ---------- Training ----------\n",
    "    model.train()\n",
    "    \n",
    "    train_loss = []\n",
    "    train_accs = []\n",
    "\n",
    "    for batch in tqdm(train_loader):\n",
    "\n",
    "        imgs, labels = batch\n",
    "\n",
    "        logits = model(imgs.to(device))\n",
    "        \n",
    "        loss = criterion(logits, labels.to(device))\n",
    "\n",
    "        optimizer.zero_grad()\n",
    "\n",
    "        loss.backward()\n",
    "\n",
    "        grad_norm = nn.utils.clip_grad_norm_(model.parameters(), max_norm=10)\n",
    "\n",
    "        optimizer.step()\n",
    "\n",
    "        acc = (logits.argmax(dim=-1) == labels.to(device)).float().mean()\n",
    "\n",
    "        train_loss.append(loss.item())\n",
    "        train_accs.append(acc)\n",
    "\n",
    "    train_loss = sum(train_loss) / len(train_loss)\n",
    "    train_acc = sum(train_accs) / len(train_accs)\n",
    "\n",
    "    print(f\"[ Train | {epoch + 1:03d}/{n_epochs:03d} ] loss = {train_loss:.5f}, acc = {train_acc:.5f}\")\n",
    "\n",
    "    # ---------- Validation ----------\n",
    "    model.eval()\n",
    "\n",
    "    valid_loss = []\n",
    "    valid_accs = []\n",
    "\n",
    "    for batch in tqdm(valid_loader):\n",
    "\n",
    "        imgs, labels = batch\n",
    "\n",
    "        with torch.no_grad():\n",
    "          logits = model(imgs.to(device))\n",
    "\n",
    "        loss = criterion(logits, labels.to(device))\n",
    "\n",
    "        acc = (logits.argmax(dim=-1) == labels.to(device)).float().mean()\n",
    "\n",
    "        valid_loss.append(loss.item())\n",
    "        valid_accs.append(acc)\n",
    "\n",
    "    valid_loss = sum(valid_loss) / len(valid_loss)\n",
    "    valid_acc = sum(valid_accs) / len(valid_accs)\n",
    "    valid_acc_last = valid_acc\n",
    "\n",
    "    print(f\"[ Valid | {epoch + 1:03d}/{n_epochs:03d} ] loss = {valid_loss:.5f}, acc = {valid_acc:.5f}\")\n",
    "    \n",
    "    if valid_acc > best_acc:\n",
    "        best_acc = valid_acc\n",
    "        torch.save(model.state_dict(), 'NAME_OF_SELF_TRAINING_EXPERIMENT.pt')\n",
    "        print('[{:03d}/{:03d}] saving model with acc {:.3f}'.format(epoch + 1, n_epochs, best_acc))\n",
    "#########################################################################################################\n",
    "#                               End of your code                                                        #\n",
    "#########################################################################################################\n",
    "    "
   ]
  },
  {
   "cell_type": "code",
   "execution_count": 74,
   "metadata": {
    "ExecuteTime": {
     "end_time": "2023-10-20T07:07:46.095543500Z",
     "start_time": "2023-10-20T07:07:46.059265200Z"
    }
   },
   "outputs": [],
   "source": [
    "# save your well-trained state_dict of model\n",
    "from datetime import datetime\n",
    "\n",
    "# Get the current timestamp\n",
    "timestamp = datetime.now().strftime(\"%Y-%m-%d-%H-%M\")\n",
    "torch.save(model.state_dict(), f'MB-CONV_Self_Train_{timestamp}.pt')"
   ]
  },
  {
   "cell_type": "markdown",
   "metadata": {},
   "source": [
    "### Predict Result\n",
    "\n",
    "Predict the labesl based on testing set. Upload to [Kaggle](https://www.kaggle.com/t/e304bb12c8a84e5c9c1b27a6c3bd4026).\n",
    "\n",
    "**How to upload**\n",
    "\n",
    "1. Click the folder icon in the left hand side of Colab.\n",
    "2. Right click \"result.csv\". Select \"Download\"\n",
    "3. To kaggle. Click \"Submit Predictions\"\n",
    "4. Upload the result.csv\n",
    "5. System will automaticlaly calculate the accuracy of 50% dataset and publish this result to leaderboard.\n",
    "\n",
    "---\n",
    "\n",
    "預測`test`並將結果上傳至Kaggle。[**連結**](https://www.kaggle.com/t/e304bb12c8a84e5c9c1b27a6c3bd4026)\n",
    "\n",
    "執行完畢此區的程式碼後，會將`test`預測完的結果存下來。\n",
    "\n",
    "上傳流程\n",
    "1. 點選左側選單最下方的資料夾圖示\n",
    "2. 右鍵「result.csv」\n",
    "3. 點選「Download」\n",
    "4. 至連結網頁點選「Submit Predictions」\n",
    "5. 將剛剛下載的檔案上傳\n",
    "6. 系統會計算並公布其中50%資料的正確率"
   ]
  },
  {
   "cell_type": "code",
   "execution_count": 70,
   "metadata": {
    "ExecuteTime": {
     "end_time": "2023-10-20T07:05:33.932488400Z",
     "start_time": "2023-10-20T07:05:33.903102Z"
    }
   },
   "outputs": [
    {
     "data": {
      "text/plain": "<All keys matched successfully>"
     },
     "execution_count": 70,
     "metadata": {},
     "output_type": "execute_result"
    }
   ],
   "source": [
    "# if you wanna load previous best model\n",
    "ckpt = torch.load('NAME_OF_SELF_TRAINING_EXPERIMENT.pt')\n",
    "model.load_state_dict(ckpt)"
   ]
  },
  {
   "cell_type": "code",
   "execution_count": 71,
   "metadata": {
    "ExecuteTime": {
     "end_time": "2023-10-20T07:05:38.284517700Z",
     "start_time": "2023-10-20T07:05:38.277018600Z"
    }
   },
   "outputs": [],
   "source": [
    "test_set = FlowerData('test.csv', mode='test', transform=transforms_test)\n",
    "test_loader = DataLoader(test_set, batch_size=batch_size, num_workers=num_workers, shuffle=False)"
   ]
  },
  {
   "cell_type": "code",
   "execution_count": 72,
   "metadata": {
    "ExecuteTime": {
     "end_time": "2023-10-20T07:05:38.291404500Z",
     "start_time": "2023-10-20T07:05:38.285521700Z"
    }
   },
   "outputs": [],
   "source": [
    "def predict(input_data, model):\n",
    "    model.eval()\n",
    "    output_list = []\n",
    "    with torch.no_grad():\n",
    "        for images in input_data:\n",
    "            images = images.to(device)\n",
    "            outputs = model(images)\n",
    "            _, predicted = torch.max(outputs.data, 1)\n",
    "            output_list.extend(predicted.to('cpu').numpy().tolist())\n",
    "    return output_list"
   ]
  },
  {
   "cell_type": "code",
   "execution_count": 73,
   "metadata": {
    "ExecuteTime": {
     "end_time": "2023-10-20T07:05:50.871436Z",
     "start_time": "2023-10-20T07:05:42.693079700Z"
    }
   },
   "outputs": [],
   "source": [
    "idx = 0\n",
    "output_csv = predict(test_loader, model)\n",
    "with open('result.csv', 'w', newline='') as csvFile:\n",
    "    writer = csv.DictWriter(csvFile, fieldnames=['file_path', 'label'])\n",
    "    writer.writeheader()\n",
    "    for result in output_csv:\n",
    "        file_path = test_set.data_list[idx].replace(data_folder + '/', '')\n",
    "        writer.writerow({'file_path':file_path, 'label':result})\n",
    "        idx += 1"
   ]
  },
  {
   "cell_type": "code",
   "execution_count": null,
   "outputs": [],
   "source": [],
   "metadata": {
    "collapsed": false
   }
  }
 ],
 "metadata": {
  "kernelspec": {
   "display_name": "Python 3.10.9",
   "language": "python",
   "name": "python3"
  },
  "language_info": {
   "codemirror_mode": {
    "name": "ipython",
    "version": 3
   },
   "file_extension": ".py",
   "mimetype": "text/x-python",
   "name": "python",
   "nbconvert_exporter": "python",
   "pygments_lexer": "ipython3",
   "version": "3.9.17"
  },
  "orig_nbformat": 4,
  "vscode": {
   "interpreter": {
    "hash": "51ee1b965d6f75a20b2b6babb72920dce4fab5775c12eb1659af0fb55d185fed"
   }
  }
 },
 "nbformat": 4,
 "nbformat_minor": 2
}
