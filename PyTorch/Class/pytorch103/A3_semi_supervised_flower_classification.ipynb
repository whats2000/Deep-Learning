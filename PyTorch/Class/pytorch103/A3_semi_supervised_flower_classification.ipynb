{
 "cells": [
  {
   "cell_type": "markdown",
   "metadata": {},
   "source": [
    "# MIS 583 Assignment 3: Semi-supervised Flower Classfication"
   ]
  },
  {
   "cell_type": "markdown",
   "metadata": {},
   "source": [
    "Before we start, please put your name and SID in following format: <br>\n",
    ": LASTNAME Firstname, ?00000000   //   e.g.) 李晨愷 M114020035"
   ]
  },
  {
   "cell_type": "markdown",
   "metadata": {},
   "source": [
    "**Your Answer:**    \n",
    "Hi I'm 鄔仁迪, B104020009."
   ]
  },
  {
   "cell_type": "markdown",
   "metadata": {},
   "source": [
    "## Semi-supervised Flower Classfication\n",
    "\n",
    "In this approach, you have a dataset that includes both labeled and unlabeled examples.\n",
    "\n",
    "The goal is to use the labeled data to train the model while also leveraging the unlabeled\n",
    "data to improve the model's performance.\n",
    "\n",
    "In this assignment, you’ll explore a self-training mechanism for this task.\n",
    "\n",
    "\n",
    "**Please note that you’re not allowed to use pre-constructed models or pre-trained weights.**"
   ]
  },
  {
   "cell_type": "markdown",
   "metadata": {},
   "source": [
    "## Kaggle Competition\n",
    "Kaggle is an online community of data scientists and machine learning practitioners. Kaggle allows users to find and publish datasets, explore and build models in a web-based data-science environment, work with other data scientists and machine learning engineers, and enter competitions to solve data science challenges.\n",
    "\n",
    "This assignment use kaggle to calculate your grade.  \n",
    "Please use this [**LINK**](https://www.kaggle.com/t/e304bb12c8a84e5c9c1b27a6c3bd4026) to join the competition.\n",
    "\n",
    "**Again, Use your SID as your team's name!!!**"
   ]
  },
  {
   "cell_type": "markdown",
   "metadata": {},
   "source": [
    "## Google Colab Setup\n",
    "Next we need to run a few commands to set up our environment on Google Colab. If you are running this notebook on a local machine you can skip this section.\n",
    "\n",
    "Run the following cell to mount your Google Drive. Follow the link, sign in to your Google account (the same account you used to store this notebook!) and copy the authorization code into the text box that appears below."
   ]
  },
  {
   "cell_type": "code",
   "execution_count": 1,
   "metadata": {},
   "outputs": [],
   "source": [
    "# from google.colab import drive\n",
    "# drive.mount('/content/drive')"
   ]
  },
  {
   "cell_type": "markdown",
   "metadata": {},
   "source": [
    "##  Versions of used packages\n",
    "\n",
    "We will check PyTorch version to make sure everything work properly.\n",
    "\n",
    "We use `python==3.10.12`, `torch==2.0.1+cu118` and `torchvision==0.15.2+cu118`. This is the default version in Google Colab."
   ]
  },
  {
   "cell_type": "code",
   "execution_count": 6,
   "metadata": {
    "ExecuteTime": {
     "end_time": "2023-11-03T10:51:54.359653800Z",
     "start_time": "2023-11-03T10:51:54.351309600Z"
    }
   },
   "outputs": [
    {
     "name": "stdout",
     "output_type": "stream",
     "text": [
      "python 3.11.2 (tags/v3.11.2:878ead1, Feb  7 2023, 16:38:35) [MSC v.1934 64 bit (AMD64)]\n",
      "torch 2.1.0+cu118\n",
      "torchvision 0.16.0+cu118\n"
     ]
    }
   ],
   "source": [
    "import sys\n",
    "import torch\n",
    "import torchvision\n",
    "from torch.nn import Sequential\n",
    "\n",
    "print('python', sys.version.split('\\n')[0])\n",
    "print('torch', torch.__version__)\n",
    "print('torchvision', torchvision.__version__)"
   ]
  },
  {
   "cell_type": "markdown",
   "metadata": {},
   "source": [
    "# Prepare Data"
   ]
  },
  {
   "cell_type": "markdown",
   "metadata": {},
   "source": [
    "We use [Flowers Recognition](https://www.kaggle.com/alxmamaev/flowers-recognition) dataset.\n",
    "This is collected by Alexander Mamaev.\n",
    "\n",
    "**Abstrct**  \n",
    "\n",
    "We clean the dataset,this dataset contains 4262 flower images.   \n",
    "**IMPORTANT: you CANNOT use any extra images.**\n",
    "\n",
    "The data collection is grabed from the data flicr, google images, yandex images.\n",
    "You can use this datastet to recognize plants from the photo.\n",
    "\n",
    "The pictures are divided into five classes: \n",
    "+ daisy\n",
    "+ tulip\n",
    "+ rose\n",
    "+ sunflower\n",
    "+ dandelion\n",
    "\n",
    "For each class there are about 800 photos. Photos are not high resolution, about 320x240 pixels. Photos are not reduced to a single size, they have different proportions!"
   ]
  },
  {
   "cell_type": "markdown",
   "metadata": {},
   "source": [
    "## How to Get Data\n",
    "\n",
    "請先到共用雲端硬碟將檔案 `A3_data_flower_2023.zip`，建立捷徑到自己的雲端硬碟中。\n",
    "\n",
    "> 操作步驟\n",
    "1. 點開雲端[連結](https://drive.google.com/file/d/1eme754s_uI5dI5SnNUH2ZuvJ5QT-kmaZ/view?usp=sharing)\n",
    "2. 點選右上角「新增雲端硬碟捷徑」\n",
    "3. 點選「我的雲端硬碟」\n",
    "4. 點選「新增捷徑」\n",
    "\n",
    "完成以上流程會在你的雲端硬碟中建立一個檔案的捷徑，接著我們在colab中取得權限即可使用。"
   ]
  },
  {
   "cell_type": "markdown",
   "metadata": {},
   "source": [
    "## Unzip Data\n",
    "\n",
    "Unzip `A3_data_flower_2023.zip`, there are 2 folders and 4 csvs.\n",
    "\n",
    "- `train/`: contains 5 folders for 5 categories of flowers. Images of flowers inside them.\n",
    "- `test/`: unclassified images of testing set.\n",
    "- `train_labeled_dataset.csv`: file path and true label of training set.\n",
    "- `train_unlabeled_dataset.csv`: file path and without label of training set.\n",
    "- `val.csv`: file path and true label of validation set.\n",
    "- `test.csv`: file paht of testing set.\n",
    "\n",
    "There are **843 images in labeled_dataset_train.**  \n",
    "\n",
    "There are **1713 images in unlabeled_dataset_train.** \n",
    "\n",
    "There are **853 images in dataset_test.**  \n",
    "\n",
    "There are **853 images in dataset_val.**  \n",
    "\n",
    "---\n",
    "\n",
    "解壓縮 `A3_data_flower_2023.zip` 後可以發現裡面有兩個資料夾和四個csv檔。\n",
    "\n",
    "+ `train` : 存有五個資料夾分別是五個種類的花，資料夾內為花的照片。\n",
    "+ `test` : 資料夾中為未分類之測試集照片。\n",
    "+ `train_labeled_dataset.csv` : 讀取 train data 的順序、路徑與圖片所屬花別。\n",
    "+ `train_unlabeled_dataset.csv` : 讀取 train data 的順序、路徑與圖片但沒有所屬花別標籤。\n",
    "+ `val.csv` : 讀取 validate data 的順序、路徑與圖片所屬花別。\n",
    "+ `test.csv` : 讀取 test data 的順序、路徑。\n",
    "\n",
    "其中`train_labeled`的圖片 843 張，`train_unlabeled`的圖片 1713 張，`val` 的圖片 853 張，`test` 的圖片 853 張。\n",
    "\n",
    "注意: 若有另外設定存放在雲端硬碟中的路徑，請記得本處路徑也須做更動。"
   ]
  },
  {
   "cell_type": "code",
   "execution_count": 7,
   "metadata": {
    "ExecuteTime": {
     "end_time": "2023-11-03T10:51:58.111969600Z",
     "start_time": "2023-11-03T10:51:58.075959200Z"
    }
   },
   "outputs": [],
   "source": [
    "# !unzip -qq ./drive/MyDrive/A3_data_flower_2023.zip"
   ]
  },
  {
   "cell_type": "code",
   "execution_count": 8,
   "metadata": {
    "ExecuteTime": {
     "end_time": "2023-11-03T10:51:59.016501900Z",
     "start_time": "2023-11-03T10:51:59.008988900Z"
    }
   },
   "outputs": [],
   "source": [
    "data_folder = 'A3_data_flower_2023'"
   ]
  },
  {
   "cell_type": "markdown",
   "metadata": {},
   "source": [
    "## Loading the dataset"
   ]
  },
  {
   "cell_type": "markdown",
   "metadata": {},
   "source": [
    "### Custom dataset\n",
    "\n",
    "Build a classs inherit `torch.utils.data.Dataset`.  \n",
    "Implement `__init__`, `__getitem__` and `__len__` 3 functions.  \n",
    "\n",
    "Some operations could be there: setting location of dataset, the method of reading data, label of dataset or transform of dataset.\n",
    "\n",
    "See [torch.utils.data.Dataset](https://pytorch.org/docs/stable/data.html#torch.utils.data.Dataset) for more details\n",
    "\n",
    "---\n",
    "\n",
    "繼承自定義資料集的框架 `torch.utils.data.Dataset`，主要實現 `__getitem__()` 和 `__len__()` 這兩個方法。\n",
    "\n",
    "常使用來做到設定資料位址、設定讀取方式、子資料集的標籤和轉換條件...等。\n",
    "\n",
    "See [torch.utils.data.Dataset](https://pytorch.org/docs/stable/data.html#torch.utils.data.Dataset) for more details"
   ]
  },
  {
   "cell_type": "code",
   "execution_count": 9,
   "metadata": {
    "ExecuteTime": {
     "end_time": "2023-11-03T10:52:01.195632400Z",
     "start_time": "2023-11-03T10:52:01.040621900Z"
    }
   },
   "outputs": [],
   "source": [
    "import csv\n",
    "import os\n",
    "import numpy as np\n",
    "from PIL import Image\n",
    "import torch\n",
    "\n",
    "class FlowerData(torch.utils.data.Dataset):\n",
    "    def __init__(self, csv_file, mode='train', transform=None):\n",
    "        self.mode = mode # 'train', 'unlabeled_train', 'val' or 'test'\n",
    "        self.data_list = []\n",
    "        self.labels = []\n",
    "        self.transform = transform\n",
    "        \n",
    "        with open(f'{data_folder}/{csv_file}', newline='') as csvfile:\n",
    "            reader = csv.DictReader(csvfile)\n",
    "            for row in reader:\n",
    "                self.data_list.append(f\"{data_folder}/{row['file_path']}\")\n",
    "                if mode != 'test' and mode != 'unlabeled_train':\n",
    "                    self.labels.append(row['label'])\n",
    "\n",
    "    def __getitem__(self, index):\n",
    "        data = Image.open(self.data_list[index])\n",
    "        if self.transform is not None:\n",
    "            data = self.transform(data)\n",
    "        if self.mode == 'test':\n",
    "            return data\n",
    "        if self.mode == 'unlabeled_train':\n",
    "            return self.data_list[index]\n",
    "        label = int(self.labels[index])\n",
    "\n",
    "        return data, label\n",
    "\n",
    "    def __len__(self):\n",
    "        return len(self.data_list)"
   ]
  },
  {
   "cell_type": "markdown",
   "metadata": {},
   "source": [
    "### Data augmentation \n",
    "\n",
    "Data augmentation are techniques used to increase the amount of data by adding slightly modified copies of already existing data or newly created synthetic data from existing data.\n",
    "\n",
    "PyTorch use `torchvision.transforms` to do data augmentation.\n",
    "[You can see all function here.](https://pytorch.org/vision/stable/transforms.html)\n",
    "\n",
    "**NOTICE**: There are some operations may not be necessary for predict, so we should write one for train and one for others."
   ]
  },
  {
   "cell_type": "code",
   "execution_count": 15,
   "outputs": [],
   "source": [
    "from torchvision import transforms\n",
    "\n",
    "# Define transforms_train with the necessary transformations.\n",
    "transforms_train = transforms.Compose([\n",
    "    transforms.Resize((224, 224)),  # Resize the image to 224x224 for consistency.\n",
    "    transforms.ToTensor()  # Convert the image to a PyTorch tensor.\n",
    "])\n",
    "\n",
    "def calculate_mean_std(dataset):\n",
    "    loader = torch.utils.data.DataLoader(dataset, batch_size=10, shuffle=False, num_workers=0, pin_memory=True)\n",
    "\n",
    "    mean = 0.\n",
    "    std = 0.\n",
    "    nb_samples = 0.\n",
    "    for data, _ in loader:\n",
    "        batch_samples = data.size(0)\n",
    "        data = data.view(batch_samples, data.size(1), -1)\n",
    "        mean += data.mean(2).sum(0)\n",
    "        std += data.std(2).sum(0)\n",
    "        nb_samples += batch_samples\n",
    "\n",
    "    mean /= nb_samples\n",
    "    std /= nb_samples\n",
    "    return mean, std\n",
    "\n",
    "# Train set\n",
    "train_set = FlowerData('train_labeled_dataset.csv', mode='train', transform=transforms_train)\n",
    "\n",
    "# Calculate the mean and standard deviation\n",
    "train_mean, train_std = calculate_mean_std(train_set)"
   ],
   "metadata": {
    "collapsed": false,
    "ExecuteTime": {
     "end_time": "2023-11-03T10:55:20.421253500Z",
     "start_time": "2023-11-03T10:55:10.748692Z"
    }
   }
  },
  {
   "cell_type": "code",
   "execution_count": 16,
   "outputs": [
    {
     "data": {
      "text/plain": "(tensor([0.4603, 0.4217, 0.2971]), tensor([0.2422, 0.2153, 0.2188]))"
     },
     "execution_count": 16,
     "metadata": {},
     "output_type": "execute_result"
    }
   ],
   "source": [
    "train_mean, train_std"
   ],
   "metadata": {
    "collapsed": false,
    "ExecuteTime": {
     "end_time": "2023-11-03T10:55:22.600811100Z",
     "start_time": "2023-11-03T10:55:22.579396900Z"
    }
   }
  },
  {
   "cell_type": "code",
   "execution_count": 6,
   "metadata": {
    "ExecuteTime": {
     "end_time": "2023-11-01T09:09:55.913103200Z",
     "start_time": "2023-11-01T09:09:55.858149600Z"
    }
   },
   "outputs": [],
   "source": [
    "from torchvision.transforms import AutoAugmentPolicy, AutoAugment\n",
    "from torchvision import transforms\n",
    "# For TRAIN\n",
    "########################################################################\n",
    "#  TODO: use transforms.xxx method to do some data augmentation        #\n",
    "#  This one is for training, find the composition to get better result #\n",
    "########################################################################\n",
    "# These calculate from data eval\n",
    "transforms_train = transforms.Compose([\n",
    "    transforms.RandomResizedCrop(224),\n",
    "    transforms.RandomHorizontalFlip(),\n",
    "    transforms.RandomVerticalFlip(),\n",
    "    transforms.RandomRotation(30),\n",
    "    transforms.ColorJitter(brightness=0.2, contrast=0.2, saturation=0.2),\n",
    "    transforms.ToTensor(),\n",
    "    transforms.Normalize(mean=train_mean, std=train_std)\n",
    "])\n",
    "############################################################\n",
    "#                           End of your code                           #\n",
    "########################################################################\n",
    "\n",
    "# For VAL, TEST\n",
    "########################################################################\n",
    "#  TODO: use transforms.xxx method to do some data augmentation        #\n",
    "#  This one is for validate and test,                                  #\n",
    "#  NOTICE some operation we usually not use in this part               #\n",
    "########################################################################\n",
    "transforms_test = transforms.Compose([\n",
    "    transforms.Resize(256),                               # Resize to a fixed size\n",
    "    transforms.CenterCrop(224),                           # Center crop\n",
    "    transforms.ToTensor(),                                # Convert to tensor\n",
    "    transforms.Normalize(mean=train_mean, std=train_std)  # Normalize\n",
    "])\n",
    "########################################################################\n",
    "#                           End of your code                           #\n",
    "########################################################################"
   ]
  },
  {
   "cell_type": "markdown",
   "metadata": {},
   "source": [
    "### Instantiate dataset\n",
    "\n",
    "Let's instantiate three `FlowerData` class.\n",
    "+ train_set: for labeled_training.\n",
    "+ unlabeled_set: for unlabeled_training.\n",
    "+ dataset_val: for validation."
   ]
  },
  {
   "cell_type": "code",
   "execution_count": 7,
   "metadata": {
    "ExecuteTime": {
     "end_time": "2023-11-01T09:09:55.913103200Z",
     "start_time": "2023-11-01T09:09:55.864490800Z"
    }
   },
   "outputs": [],
   "source": [
    "train_set = FlowerData('train_labeled_dataset.csv', mode='train', transform=transforms_train)\n",
    "unlabeled_set = FlowerData('train_unlabeled_dataset.csv', mode='test', transform=transforms_train)\n",
    "valid_set = FlowerData('val.csv', mode='val', transform=transforms_test)"
   ]
  },
  {
   "cell_type": "code",
   "execution_count": 8,
   "metadata": {
    "ExecuteTime": {
     "end_time": "2023-11-01T09:09:55.922029200Z",
     "start_time": "2023-11-01T09:09:55.882113200Z"
    }
   },
   "outputs": [
    {
     "name": "stdout",
     "output_type": "stream",
     "text": [
      "The first image's shape in dataset_train : torch.Size([3, 224, 224])\n",
      "There are 843 images in labeled_dataset_train.\n",
      "There are 1713 images in unlabeled_dataset_train.\n",
      "There are 853 images in dataset_val.\n"
     ]
    }
   ],
   "source": [
    "print(\"The first image's shape in dataset_train :\", train_set[0][0].size())\n",
    "print(\"There are\", len(train_set), \"images in labeled_dataset_train.\")\n",
    "print(\"There are\", len(unlabeled_set), \"images in unlabeled_dataset_train.\")\n",
    "print(\"There are\", len(valid_set), \"images in dataset_val.\")"
   ]
  },
  {
   "cell_type": "markdown",
   "metadata": {},
   "source": [
    "### `DataLoader`\n",
    "\n",
    "`torch.utils.data.DataLoader` define how to sample from `dataset` and some other function like:\n",
    "+ `shuffle` : set to `True` to have the data reshuffled at every epoch\n",
    "+ `batch_size` : how many samples per batch to load\n",
    "\n",
    "See [torch.utils.data.DataLoader](https://pytorch.org/docs/stable/data.html#torch.utils.data.DataLoader) for more details"
   ]
  },
  {
   "cell_type": "code",
   "execution_count": 9,
   "metadata": {
    "ExecuteTime": {
     "end_time": "2023-11-01T09:09:55.927251500Z",
     "start_time": "2023-11-01T09:09:55.923033900Z"
    }
   },
   "outputs": [],
   "source": [
    "#####################################################\n",
    "#            You can adjust batch_size              #\n",
    "#####################################################\n",
    "from torch.utils.data import DataLoader\n",
    "\n",
    "batch_size = 32\n",
    "num_workers = 0\n",
    "train_loader = DataLoader(train_set, batch_size=batch_size, num_workers=num_workers, shuffle=True)\n",
    "valid_loader = DataLoader(valid_set, batch_size=batch_size, num_workers=num_workers, shuffle=False)"
   ]
  },
  {
   "cell_type": "markdown",
   "metadata": {},
   "source": [
    "Finally! We have made all data prepared.  \n",
    "Let's go develop our model."
   ]
  },
  {
   "cell_type": "markdown",
   "metadata": {},
   "source": [
    "# Self-training"
   ]
  },
  {
   "cell_type": "markdown",
   "metadata": {},
   "source": [
    "## Step 1: Supervised training"
   ]
  },
  {
   "cell_type": "markdown",
   "metadata": {},
   "source": [
    "### Implement CNN using PyTorch \n",
    "\n",
    "Try to use labeled data design and train a deep convolutional network from scratch to predict the class label of a flower image. \n",
    "\n",
    "**Again, the goal of this assignment is for you to test different convolutional structures. You cannot directly use the blocks/architectures of pre-trained models.**"
   ]
  },
  {
   "cell_type": "code",
   "execution_count": 10,
   "outputs": [],
   "source": [
    "from torch.nn.modules.conv import Conv2d\n",
    "import torch.nn as nn\n",
    "import torch.nn.functional as F\n",
    "\n",
    "class YourCNNModel(nn.Module):\n",
    "    def __init__(self):\n",
    "        super().__init__()\n",
    "        ########################################################################\n",
    "        #     TODO: use nn.xxx method to generate a CNN model part             #\n",
    "        ########################################################################\n",
    "        self.conv1 = nn.Sequential(\n",
    "            nn.Conv2d(3, 32, kernel_size=7, stride=2, padding=3),\n",
    "            nn.BatchNorm2d(32),\n",
    "            nn.SELU()\n",
    "        )\n",
    "\n",
    "        # Inverted Bottleneck Convolution Blocks\n",
    "        self.blocks = nn.Sequential(\n",
    "            # in, out, k, p, s, layer, expansion, use_se = True, ues_residual = True, use_shortcut = True\n",
    "            self.inverted_bottleneck_conv_block(32, 16, 3, 1, 1, 1, 1, True, True, False),  # Block 1\n",
    "            self.inverted_bottleneck_conv_block(16, 24, 3, 1, 2, 1, 6, True, True, False),  # Block 2\n",
    "            self.inverted_bottleneck_conv_block(24, 24, 3, 1, 1, 1, 6, True, True, False),  # Repeated Block 2\n",
    "            self.inverted_bottleneck_conv_block(24, 40, 5, 2, 2, 1, 6, True, True, False),  # Block 3\n",
    "            self.inverted_bottleneck_conv_block(40, 40, 5, 2, 1, 1, 6, True, True, False),  # Repeated Block 3\n",
    "            self.inverted_bottleneck_conv_block(40, 80, 3, 1, 2, 1, 6, True, True, False),  # Block 4\n",
    "            self.inverted_bottleneck_conv_block(80, 80, 3, 1, 1, 1, 6, True, True, False),  # Repeated Block 4 (x2)\n",
    "            self.inverted_bottleneck_conv_block(80, 80, 3, 1, 1, 1, 6, True, True, False),  # Repeated Block 4\n",
    "        )\n",
    "\n",
    "        # Final Convolution\n",
    "        self.conv_last = nn.Sequential(\n",
    "            nn.Conv2d(80, 1280, kernel_size=1, stride=1),\n",
    "            nn.BatchNorm2d(1280),\n",
    "            nn.SELU()\n",
    "        )\n",
    "\n",
    "        # Fully connected layers\n",
    "        self.fc = nn.Sequential(\n",
    "            nn.Linear(1280, 512),\n",
    "            nn.SELU(),\n",
    "            nn.BatchNorm1d(512),\n",
    "        )\n",
    "        self.out = nn.Linear(512, 5)\n",
    "\n",
    "    def inverted_bottleneck_conv_block(self,\n",
    "                     in_channels: int,\n",
    "                     out_channels: int,\n",
    "                     kernel_size: int,\n",
    "                     padding: int,\n",
    "                     stride: int,\n",
    "                     num_layers: int,\n",
    "                     expansion: int = 6,\n",
    "                     use_se: bool = True,\n",
    "                     use_residual: bool = True,\n",
    "                     use_shortcut: bool = True):\n",
    "        \"\"\"\n",
    "        Create an Inverted Bottleneck Convolution (IBConv) block with optional Squeeze-and-Excitation (SE) block and residual connections.\n",
    "\n",
    "        Parameters:\n",
    "            in_channels (int): Number of input channels.\n",
    "            out_channels (int): Number of output channels.\n",
    "            kernel_size (int): Size of the convolutional kernel.\n",
    "            padding (int): Padding for the convolutional layer.\n",
    "            stride (int): Stride for the convolutional layer.\n",
    "            num_layers (int): Number of depth-wise separable layers.\n",
    "            expansion (int, optional): Expansion factor for the hidden dimension. Default is 6.\n",
    "            use_se (bool, optional): Whether to include the SE block. Default is True.\n",
    "            use_residual (bool, optional): Whether to include the residual connection when in_channels == out_channels. Default is True.\n",
    "            use_shortcut (bool, optional): Whether to include the shortcut connection when in_channels != out_channels. Default is False.\n",
    "\n",
    "        Returns:\n",
    "            nn.Module: A PyTorch module containing the layers forming the IBConv block.\n",
    "        \"\"\"\n",
    "        class IBConvWithSE(nn.Module):\n",
    "            def __init__(self):\n",
    "                class Swish(nn.Module):\n",
    "                    def forward(self, x):\n",
    "                        return x * torch.sigmoid(x)\n",
    "\n",
    "                super(IBConvWithSE, self).__init__()\n",
    "\n",
    "                # Initial Convolution\n",
    "                self.initial_conv = nn.Sequential(\n",
    "                    nn.Conv2d(in_channels, in_channels * expansion, kernel_size=1, stride=1, padding=0, bias=False),\n",
    "                    nn.BatchNorm2d(in_channels * expansion),\n",
    "                    nn.SELU()\n",
    "                )\n",
    "\n",
    "                # Short-cut point-wise convolution\n",
    "                if use_shortcut:\n",
    "                    self.shortcut = nn.Sequential(\n",
    "                        nn.Conv2d(in_channels, out_channels, kernel_size=1, stride=stride, padding=0, bias=False),\n",
    "                        nn.BatchNorm2d(out_channels)\n",
    "                    )\n",
    "\n",
    "                # Depth-wise separable convolutions with multiple layers\n",
    "                self.depthwise_layers = nn.ModuleList()\n",
    "                for _ in range(num_layers):\n",
    "                    self.depthwise_layers.append(nn.Sequential(\n",
    "                        nn.Conv2d(in_channels * expansion, in_channels * expansion, kernel_size=kernel_size, stride=stride, padding=padding, groups=in_channels * expansion, bias=False),\n",
    "                        nn.BatchNorm2d(in_channels * expansion),\n",
    "                        nn.SELU()\n",
    "                    ))\n",
    "\n",
    "                # SE block\n",
    "                self.se_block = nn.Sequential(\n",
    "                    nn.AdaptiveAvgPool2d(1),\n",
    "                    nn.Conv2d(in_channels * expansion, in_channels * expansion // 16, kernel_size=1),\n",
    "                    Swish(),\n",
    "                    nn.Conv2d(in_channels * expansion // 16, in_channels * expansion, kernel_size=1),\n",
    "                    nn.Sigmoid()\n",
    "                )\n",
    "\n",
    "                # Point-wise convolution\n",
    "                self.pointwise_conv = nn.Sequential(\n",
    "                    nn.Conv2d(in_channels * expansion, out_channels, kernel_size=1, stride=1, padding=0, bias=False),\n",
    "                    nn.BatchNorm2d(out_channels),\n",
    "                    nn.SELU()\n",
    "                )\n",
    "\n",
    "                # Dropout layer\n",
    "                self.dropout = nn.Dropout(0.2)\n",
    "\n",
    "            def forward(self, x):\n",
    "                # Store x for residual\n",
    "                identity = x\n",
    "\n",
    "                x = self.initial_conv(x)\n",
    "                for layer in self.depthwise_layers:\n",
    "                    x = layer(x)\n",
    "\n",
    "                if use_se:\n",
    "                    se = self.se_block(x)\n",
    "                    x = x * se\n",
    "\n",
    "                x = self.pointwise_conv(x)\n",
    "\n",
    "                # Add residual connection if in_channels == out_channels\n",
    "                if in_channels == out_channels and use_residual:\n",
    "                    x += identity  # Element-wise addition\n",
    "                    x = self.dropout(x)  # Apply dropout\n",
    "\n",
    "                # Add shortcut connection if in_channels != out_channels\n",
    "                if in_channels != out_channels and use_shortcut:\n",
    "                    x += self.shortcut(identity)\n",
    "\n",
    "                return x\n",
    "\n",
    "        return IBConvWithSE()\n",
    "        ########################################################################\n",
    "        #                           End of your code                           #\n",
    "        ########################################################################\n",
    "\n",
    "    def forward(self, x):\n",
    "        if not isinstance(x, torch.Tensor):\n",
    "          x = torch.Tensor(x)\n",
    "        ########################################################################\n",
    "        #     TODO: forward your model and get output                          #\n",
    "        ########################################################################\n",
    "        # Forward pass through convolutional layers\n",
    "        x = self.conv1(x)\n",
    "        x = self.blocks(x)\n",
    "        x = self.conv_last(x)\n",
    "        x = nn.AdaptiveAvgPool2d((1, 1))(x)\n",
    "        x = x.view(x.size(0), -1)\n",
    "        x = self.fc(x)\n",
    "        out = self.out(x)\n",
    "        ########################################################################\n",
    "        #                           End of your code                           #\n",
    "        ########################################################################\n",
    "        return out"
   ],
   "metadata": {
    "collapsed": false,
    "ExecuteTime": {
     "end_time": "2023-11-01T09:09:56.008695600Z",
     "start_time": "2023-11-01T09:09:55.927251500Z"
    }
   }
  },
  {
   "cell_type": "code",
   "execution_count": 11,
   "outputs": [],
   "source": [
    "device = torch.device('cuda')\n",
    "# or\n",
    "# device = torch.device('cpu')"
   ],
   "metadata": {
    "collapsed": false,
    "ExecuteTime": {
     "end_time": "2023-11-01T09:09:56.022688700Z",
     "start_time": "2023-11-01T09:09:55.949198700Z"
    }
   }
  },
  {
   "cell_type": "code",
   "execution_count": 12,
   "metadata": {
    "ExecuteTime": {
     "end_time": "2023-11-01T09:09:57.414177Z",
     "start_time": "2023-11-01T09:09:55.963689800Z"
    }
   },
   "outputs": [
    {
     "data": {
      "text/plain": "YourCNNModel(\n  (conv1): Sequential(\n    (0): Conv2d(3, 32, kernel_size=(7, 7), stride=(2, 2), padding=(3, 3))\n    (1): BatchNorm2d(32, eps=1e-05, momentum=0.1, affine=True, track_running_stats=True)\n    (2): SELU()\n  )\n  (blocks): Sequential(\n    (0): IBConvWithSE(\n      (initial_conv): Sequential(\n        (0): Conv2d(32, 32, kernel_size=(1, 1), stride=(1, 1), bias=False)\n        (1): BatchNorm2d(32, eps=1e-05, momentum=0.1, affine=True, track_running_stats=True)\n        (2): SELU()\n      )\n      (depthwise_layers): ModuleList(\n        (0): Sequential(\n          (0): Conv2d(32, 32, kernel_size=(3, 3), stride=(1, 1), padding=(1, 1), groups=32, bias=False)\n          (1): BatchNorm2d(32, eps=1e-05, momentum=0.1, affine=True, track_running_stats=True)\n          (2): SELU()\n        )\n      )\n      (se_block): Sequential(\n        (0): AdaptiveAvgPool2d(output_size=1)\n        (1): Conv2d(32, 2, kernel_size=(1, 1), stride=(1, 1))\n        (2): Swish()\n        (3): Conv2d(2, 32, kernel_size=(1, 1), stride=(1, 1))\n        (4): Sigmoid()\n      )\n      (pointwise_conv): Sequential(\n        (0): Conv2d(32, 16, kernel_size=(1, 1), stride=(1, 1), bias=False)\n        (1): BatchNorm2d(16, eps=1e-05, momentum=0.1, affine=True, track_running_stats=True)\n        (2): SELU()\n      )\n      (dropout): Dropout(p=0.2, inplace=False)\n    )\n    (1): IBConvWithSE(\n      (initial_conv): Sequential(\n        (0): Conv2d(16, 96, kernel_size=(1, 1), stride=(1, 1), bias=False)\n        (1): BatchNorm2d(96, eps=1e-05, momentum=0.1, affine=True, track_running_stats=True)\n        (2): SELU()\n      )\n      (depthwise_layers): ModuleList(\n        (0): Sequential(\n          (0): Conv2d(96, 96, kernel_size=(3, 3), stride=(2, 2), padding=(1, 1), groups=96, bias=False)\n          (1): BatchNorm2d(96, eps=1e-05, momentum=0.1, affine=True, track_running_stats=True)\n          (2): SELU()\n        )\n      )\n      (se_block): Sequential(\n        (0): AdaptiveAvgPool2d(output_size=1)\n        (1): Conv2d(96, 6, kernel_size=(1, 1), stride=(1, 1))\n        (2): Swish()\n        (3): Conv2d(6, 96, kernel_size=(1, 1), stride=(1, 1))\n        (4): Sigmoid()\n      )\n      (pointwise_conv): Sequential(\n        (0): Conv2d(96, 24, kernel_size=(1, 1), stride=(1, 1), bias=False)\n        (1): BatchNorm2d(24, eps=1e-05, momentum=0.1, affine=True, track_running_stats=True)\n        (2): SELU()\n      )\n      (dropout): Dropout(p=0.2, inplace=False)\n    )\n    (2): IBConvWithSE(\n      (initial_conv): Sequential(\n        (0): Conv2d(24, 144, kernel_size=(1, 1), stride=(1, 1), bias=False)\n        (1): BatchNorm2d(144, eps=1e-05, momentum=0.1, affine=True, track_running_stats=True)\n        (2): SELU()\n      )\n      (depthwise_layers): ModuleList(\n        (0): Sequential(\n          (0): Conv2d(144, 144, kernel_size=(3, 3), stride=(1, 1), padding=(1, 1), groups=144, bias=False)\n          (1): BatchNorm2d(144, eps=1e-05, momentum=0.1, affine=True, track_running_stats=True)\n          (2): SELU()\n        )\n      )\n      (se_block): Sequential(\n        (0): AdaptiveAvgPool2d(output_size=1)\n        (1): Conv2d(144, 9, kernel_size=(1, 1), stride=(1, 1))\n        (2): Swish()\n        (3): Conv2d(9, 144, kernel_size=(1, 1), stride=(1, 1))\n        (4): Sigmoid()\n      )\n      (pointwise_conv): Sequential(\n        (0): Conv2d(144, 24, kernel_size=(1, 1), stride=(1, 1), bias=False)\n        (1): BatchNorm2d(24, eps=1e-05, momentum=0.1, affine=True, track_running_stats=True)\n        (2): SELU()\n      )\n      (dropout): Dropout(p=0.2, inplace=False)\n    )\n    (3): IBConvWithSE(\n      (initial_conv): Sequential(\n        (0): Conv2d(24, 144, kernel_size=(1, 1), stride=(1, 1), bias=False)\n        (1): BatchNorm2d(144, eps=1e-05, momentum=0.1, affine=True, track_running_stats=True)\n        (2): SELU()\n      )\n      (depthwise_layers): ModuleList(\n        (0): Sequential(\n          (0): Conv2d(144, 144, kernel_size=(5, 5), stride=(2, 2), padding=(2, 2), groups=144, bias=False)\n          (1): BatchNorm2d(144, eps=1e-05, momentum=0.1, affine=True, track_running_stats=True)\n          (2): SELU()\n        )\n      )\n      (se_block): Sequential(\n        (0): AdaptiveAvgPool2d(output_size=1)\n        (1): Conv2d(144, 9, kernel_size=(1, 1), stride=(1, 1))\n        (2): Swish()\n        (3): Conv2d(9, 144, kernel_size=(1, 1), stride=(1, 1))\n        (4): Sigmoid()\n      )\n      (pointwise_conv): Sequential(\n        (0): Conv2d(144, 40, kernel_size=(1, 1), stride=(1, 1), bias=False)\n        (1): BatchNorm2d(40, eps=1e-05, momentum=0.1, affine=True, track_running_stats=True)\n        (2): SELU()\n      )\n      (dropout): Dropout(p=0.2, inplace=False)\n    )\n    (4): IBConvWithSE(\n      (initial_conv): Sequential(\n        (0): Conv2d(40, 240, kernel_size=(1, 1), stride=(1, 1), bias=False)\n        (1): BatchNorm2d(240, eps=1e-05, momentum=0.1, affine=True, track_running_stats=True)\n        (2): SELU()\n      )\n      (depthwise_layers): ModuleList(\n        (0): Sequential(\n          (0): Conv2d(240, 240, kernel_size=(5, 5), stride=(1, 1), padding=(2, 2), groups=240, bias=False)\n          (1): BatchNorm2d(240, eps=1e-05, momentum=0.1, affine=True, track_running_stats=True)\n          (2): SELU()\n        )\n      )\n      (se_block): Sequential(\n        (0): AdaptiveAvgPool2d(output_size=1)\n        (1): Conv2d(240, 15, kernel_size=(1, 1), stride=(1, 1))\n        (2): Swish()\n        (3): Conv2d(15, 240, kernel_size=(1, 1), stride=(1, 1))\n        (4): Sigmoid()\n      )\n      (pointwise_conv): Sequential(\n        (0): Conv2d(240, 40, kernel_size=(1, 1), stride=(1, 1), bias=False)\n        (1): BatchNorm2d(40, eps=1e-05, momentum=0.1, affine=True, track_running_stats=True)\n        (2): SELU()\n      )\n      (dropout): Dropout(p=0.2, inplace=False)\n    )\n    (5): IBConvWithSE(\n      (initial_conv): Sequential(\n        (0): Conv2d(40, 240, kernel_size=(1, 1), stride=(1, 1), bias=False)\n        (1): BatchNorm2d(240, eps=1e-05, momentum=0.1, affine=True, track_running_stats=True)\n        (2): SELU()\n      )\n      (depthwise_layers): ModuleList(\n        (0): Sequential(\n          (0): Conv2d(240, 240, kernel_size=(3, 3), stride=(2, 2), padding=(1, 1), groups=240, bias=False)\n          (1): BatchNorm2d(240, eps=1e-05, momentum=0.1, affine=True, track_running_stats=True)\n          (2): SELU()\n        )\n      )\n      (se_block): Sequential(\n        (0): AdaptiveAvgPool2d(output_size=1)\n        (1): Conv2d(240, 15, kernel_size=(1, 1), stride=(1, 1))\n        (2): Swish()\n        (3): Conv2d(15, 240, kernel_size=(1, 1), stride=(1, 1))\n        (4): Sigmoid()\n      )\n      (pointwise_conv): Sequential(\n        (0): Conv2d(240, 80, kernel_size=(1, 1), stride=(1, 1), bias=False)\n        (1): BatchNorm2d(80, eps=1e-05, momentum=0.1, affine=True, track_running_stats=True)\n        (2): SELU()\n      )\n      (dropout): Dropout(p=0.2, inplace=False)\n    )\n    (6): IBConvWithSE(\n      (initial_conv): Sequential(\n        (0): Conv2d(80, 480, kernel_size=(1, 1), stride=(1, 1), bias=False)\n        (1): BatchNorm2d(480, eps=1e-05, momentum=0.1, affine=True, track_running_stats=True)\n        (2): SELU()\n      )\n      (depthwise_layers): ModuleList(\n        (0): Sequential(\n          (0): Conv2d(480, 480, kernel_size=(3, 3), stride=(1, 1), padding=(1, 1), groups=480, bias=False)\n          (1): BatchNorm2d(480, eps=1e-05, momentum=0.1, affine=True, track_running_stats=True)\n          (2): SELU()\n        )\n      )\n      (se_block): Sequential(\n        (0): AdaptiveAvgPool2d(output_size=1)\n        (1): Conv2d(480, 30, kernel_size=(1, 1), stride=(1, 1))\n        (2): Swish()\n        (3): Conv2d(30, 480, kernel_size=(1, 1), stride=(1, 1))\n        (4): Sigmoid()\n      )\n      (pointwise_conv): Sequential(\n        (0): Conv2d(480, 80, kernel_size=(1, 1), stride=(1, 1), bias=False)\n        (1): BatchNorm2d(80, eps=1e-05, momentum=0.1, affine=True, track_running_stats=True)\n        (2): SELU()\n      )\n      (dropout): Dropout(p=0.2, inplace=False)\n    )\n    (7): IBConvWithSE(\n      (initial_conv): Sequential(\n        (0): Conv2d(80, 480, kernel_size=(1, 1), stride=(1, 1), bias=False)\n        (1): BatchNorm2d(480, eps=1e-05, momentum=0.1, affine=True, track_running_stats=True)\n        (2): SELU()\n      )\n      (depthwise_layers): ModuleList(\n        (0): Sequential(\n          (0): Conv2d(480, 480, kernel_size=(3, 3), stride=(1, 1), padding=(1, 1), groups=480, bias=False)\n          (1): BatchNorm2d(480, eps=1e-05, momentum=0.1, affine=True, track_running_stats=True)\n          (2): SELU()\n        )\n      )\n      (se_block): Sequential(\n        (0): AdaptiveAvgPool2d(output_size=1)\n        (1): Conv2d(480, 30, kernel_size=(1, 1), stride=(1, 1))\n        (2): Swish()\n        (3): Conv2d(30, 480, kernel_size=(1, 1), stride=(1, 1))\n        (4): Sigmoid()\n      )\n      (pointwise_conv): Sequential(\n        (0): Conv2d(480, 80, kernel_size=(1, 1), stride=(1, 1), bias=False)\n        (1): BatchNorm2d(80, eps=1e-05, momentum=0.1, affine=True, track_running_stats=True)\n        (2): SELU()\n      )\n      (dropout): Dropout(p=0.2, inplace=False)\n    )\n  )\n  (conv_last): Sequential(\n    (0): Conv2d(80, 1280, kernel_size=(1, 1), stride=(1, 1))\n    (1): BatchNorm2d(1280, eps=1e-05, momentum=0.1, affine=True, track_running_stats=True)\n    (2): SELU()\n  )\n  (fc): Sequential(\n    (0): Linear(in_features=1280, out_features=512, bias=True)\n    (1): SELU()\n    (2): BatchNorm1d(512, eps=1e-05, momentum=0.1, affine=True, track_running_stats=True)\n  )\n  (out): Linear(in_features=512, out_features=5, bias=True)\n)"
     },
     "execution_count": 12,
     "metadata": {},
     "output_type": "execute_result"
    }
   ],
   "source": [
    "model = YourCNNModel()\n",
    "model.to(device)\n",
    "#print(model)"
   ]
  },
  {
   "cell_type": "markdown",
   "metadata": {},
   "source": [
    "We have made our model!  \n",
    "Next, PyTorch also provide many utility function(loss, optmizer...etc).  \n",
    "You can define them in one-line."
   ]
  },
  {
   "cell_type": "markdown",
   "metadata": {},
   "source": [
    "### Define loss and optimizer"
   ]
  },
  {
   "cell_type": "code",
   "execution_count": 14,
   "metadata": {
    "ExecuteTime": {
     "end_time": "2023-11-01T09:10:12.328079Z",
     "start_time": "2023-11-01T09:10:12.325069600Z"
    }
   },
   "outputs": [],
   "source": [
    "import torch.nn as nn\n",
    "import torch.optim as optim\n",
    "################################################################################\n",
    "# TODO: Define loss and optmizer functions                                     #\n",
    "# Try any loss or optimizer function and learning rate to get better result    #\n",
    "# hint: torch.nn and torch.optim                                               #\n",
    "################################################################################\n",
    "# CrossEntropyLoss for classification tasks\n",
    "class CrossEntropyLossWithTemperature(nn.CrossEntropyLoss):\n",
    "    def __init__(self, temperature=1.0, *args, **kwargs):\n",
    "        super(CrossEntropyLossWithTemperature, self).__init__(*args, **kwargs)\n",
    "        self.temperature = temperature\n",
    "\n",
    "    def forward(self, input, target):\n",
    "        input_temperature = input / self.temperature\n",
    "        return super(CrossEntropyLossWithTemperature, self).forward(input_temperature, target)\n",
    "\n",
    "criterion = CrossEntropyLossWithTemperature(temperature=2)\n",
    "\n",
    "# Adam optimizer\n",
    "learning_rate = 0.003\n",
    "optimizer = optim.Adam(model.parameters(), lr=learning_rate, weight_decay=1e-5)\n",
    "\n",
    "# Reduce learning rate\n",
    "scheduler = optim.lr_scheduler.ReduceLROnPlateau(optimizer, 'min', patience=20, factor=0.5)\n",
    "################################################################################\n",
    "#                               End of your code                               #\n",
    "################################################################################\n",
    "criterion = criterion.to(device)"
   ]
  },
  {
   "cell_type": "markdown",
   "metadata": {},
   "source": [
    "### Train the model"
   ]
  },
  {
   "cell_type": "markdown",
   "metadata": {},
   "source": [
    "#### Train function\n",
    "Let's define train function.  \n",
    "It will iterate input data 1 epoch and update model with optmizer.  \n",
    "Finally, calculate mean loss and total accuracy.\n",
    "\n",
    "Hint: [torch.max()](https://pytorch.org/docs/stable/generated/torch.max.html#torch-max) or [torch.argmax()](https://pytorch.org/docs/stable/generated/torch.argmax.html)"
   ]
  },
  {
   "cell_type": "code",
   "execution_count": 15,
   "metadata": {
    "ExecuteTime": {
     "end_time": "2023-11-01T09:10:15.921589400Z",
     "start_time": "2023-11-01T09:10:15.892035600Z"
    }
   },
   "outputs": [],
   "source": [
    "def train(input_data, model, criterion, optimizer):\n",
    "    '''\n",
    "    Argement:\n",
    "    input_data -- iterable data, typr torch.utils.data.Dataloader is prefer\n",
    "    model -- nn.Module, model contain forward to predict output\n",
    "    criterion -- loss function, used to evaluate goodness of model\n",
    "    optimizer -- optmizer function, method for weight updating\n",
    "    '''\n",
    "    model.train()\n",
    "    loss_list = []\n",
    "    total_count = 0\n",
    "    acc_count = 0\n",
    "    for images, labels in input_data:\n",
    "        images = images.to(device)\n",
    "        labels = labels.to(device)\n",
    "\n",
    "        ########################################################################\n",
    "        # TODO: Forward, backward and optimize                                 #\n",
    "        # 1. zero the parameter gradients                                      #\n",
    "        # 2. process input through the network                                 #\n",
    "        # 3. compute the loss                                                  #\n",
    "        # 4. propagate gradients back into the network’s parameters            #\n",
    "        # 5. Update the weights of the network                                 #\n",
    "        ########################################################################\n",
    "        # Zero the parameter gradients\n",
    "        optimizer.zero_grad()\n",
    "\n",
    "        # Forward, backward, and optimize\n",
    "        outputs = model(images)\n",
    "        loss = criterion(outputs, labels)\n",
    "        loss.backward()\n",
    "        optimizer.step()\n",
    "        ########################################################################\n",
    "        #                           End of your code                           #\n",
    "        ########################################################################\n",
    "\n",
    "\n",
    "        ########################################################################\n",
    "        # TODO: Get the counts of correctly classified images                  #\n",
    "        # 1. get the model predicted result                                    #\n",
    "        # 2. sum the nuIber of this batch predicted images                     #\n",
    "        # 3. sum the nuIber of correctly classified                            #\n",
    "        # 4. save this batch's loss into loss_list                             #\n",
    "        # dimension of outputs: [batch_size, nuIber of classes]                #\n",
    "        # Hint 1: use outputs.data to get no auto_grad                         #\n",
    "        # Hint 2: use torch.max()                                              #\n",
    "        ########################################################################\n",
    "        # Get the counts of correctly classified images\n",
    "        _, predicted = torch.max(outputs.data, 1)\n",
    "        total_count += labels.size(0)\n",
    "        acc_count += (predicted == labels).sum().item()\n",
    "        loss_list.append(loss.item())\n",
    "        ########################################################################\n",
    "        #                           End of your code                           #\n",
    "        ########################################################################\n",
    "\n",
    "    # Compute this epoch accuracy and loss\n",
    "    acc = acc_count / total_count\n",
    "    loss = sum(loss_list) / len(loss_list)\n",
    "    return acc, loss"
   ]
  },
  {
   "cell_type": "markdown",
   "metadata": {},
   "source": [
    "#### Validate function\n",
    "Next part is validate function.  \n",
    "It works as training function without optmizer and weight-updating part."
   ]
  },
  {
   "cell_type": "code",
   "execution_count": 16,
   "metadata": {
    "ExecuteTime": {
     "end_time": "2023-11-01T09:10:16.914058800Z",
     "start_time": "2023-11-01T09:10:16.901317Z"
    }
   },
   "outputs": [],
   "source": [
    "def val(input_data, model, criterion):\n",
    "    model.eval()\n",
    "\n",
    "    loss_list = []\n",
    "    total_count = 0\n",
    "    acc_count = 0\n",
    "    with torch.no_grad():\n",
    "        for images, labels in input_data:\n",
    "            images = images.to(device)\n",
    "            labels = labels.to(device)\n",
    "\n",
    "            ####################################################################\n",
    "            # TODO: Get the predicted result and loss                          #\n",
    "            # 1. process input through the network                             #\n",
    "            # 2. compute the loss                                              #\n",
    "            # 3. get the model predicted result                                #\n",
    "            # 4. get the counts of correctly classified images                 #\n",
    "            # 5. save this batch's loss into loss_list                         #\n",
    "            ####################################################################\n",
    "            # Get the predicted result and loss\n",
    "            outputs = model(images)\n",
    "            loss = criterion(outputs, labels)\n",
    "\n",
    "            # Get the counts of correctly classified images\n",
    "            _, predicted = torch.max(outputs.data, 1)\n",
    "            total_count += labels.size(0)\n",
    "            acc_count += (predicted == labels).sum().item()\n",
    "            loss_list.append(loss.item())\n",
    "            ####################################################################\n",
    "            #                         End of your code                         #\n",
    "            ####################################################################\n",
    "\n",
    "    acc = acc_count / total_count\n",
    "    loss = sum(loss_list) / len(loss_list)\n",
    "    return acc, loss"
   ]
  },
  {
   "cell_type": "markdown",
   "metadata": {},
   "source": [
    "#### Training in a loop\n",
    "Call train and test function in a loop.  \n",
    "Take a break and wait."
   ]
  },
  {
   "cell_type": "code",
   "execution_count": 17,
   "metadata": {
    "ExecuteTime": {
     "end_time": "2023-11-01T09:52:09.695773600Z",
     "start_time": "2023-11-01T09:10:18.092745200Z"
    }
   },
   "outputs": [
    {
     "name": "stdout",
     "output_type": "stream",
     "text": [
      "==================== Epoch 1 ====================\n",
      "Train Acc: 0.274021 Train Loss: 1.785806\n",
      "  Val Acc: 0.311841   Val Loss: 1.526222\n",
      "==================== Epoch 2 ====================\n",
      "Train Acc: 0.355872 Train Loss: 1.463021\n",
      "  Val Acc: 0.354045   Val Loss: 1.503368\n",
      "==================== Epoch 3 ====================\n",
      "Train Acc: 0.354686 Train Loss: 1.420032\n",
      "  Val Acc: 0.391559   Val Loss: 1.384266\n",
      "==================== Epoch 4 ====================\n",
      "Train Acc: 0.399763 Train Loss: 1.369688\n",
      "  Val Acc: 0.459555   Val Loss: 1.288241\n",
      "==================== Epoch 5 ====================\n",
      "Train Acc: 0.402135 Train Loss: 1.361240\n",
      "  Val Acc: 0.427902   Val Loss: 1.263490\n",
      "==================== Epoch 6 ====================\n",
      "Train Acc: 0.435350 Train Loss: 1.313373\n",
      "  Val Acc: 0.441970   Val Loss: 1.249452\n",
      "==================== Epoch 7 ====================\n",
      "Train Acc: 0.437722 Train Loss: 1.308499\n",
      "  Val Acc: 0.389215   Val Loss: 1.480458\n",
      "==================== Epoch 8 ====================\n",
      "Train Acc: 0.406880 Train Loss: 1.342743\n",
      "  Val Acc: 0.431419   Val Loss: 1.330934\n",
      "==================== Epoch 9 ====================\n",
      "Train Acc: 0.465006 Train Loss: 1.255922\n",
      "  Val Acc: 0.492380   Val Loss: 1.253478\n",
      "==================== Epoch 10 ====================\n",
      "Train Acc: 0.437722 Train Loss: 1.344024\n",
      "  Val Acc: 0.498242   Val Loss: 1.246964\n",
      "==================== Epoch 11 ====================\n",
      "Train Acc: 0.442467 Train Loss: 1.299794\n",
      "  Val Acc: 0.495897   Val Loss: 1.201419\n",
      "==================== Epoch 12 ====================\n",
      "Train Acc: 0.511269 Train Loss: 1.199954\n",
      "  Val Acc: 0.467761   Val Loss: 1.192443\n",
      "==================== Epoch 13 ====================\n",
      "Train Acc: 0.511269 Train Loss: 1.172638\n",
      "  Val Acc: 0.485346   Val Loss: 1.200687\n",
      "==================== Epoch 14 ====================\n",
      "Train Acc: 0.492289 Train Loss: 1.205114\n",
      "  Val Acc: 0.542790   Val Loss: 1.107078\n",
      "==================== Epoch 15 ====================\n",
      "Train Acc: 0.510083 Train Loss: 1.172433\n",
      "  Val Acc: 0.520516   Val Loss: 1.138532\n",
      "==================== Epoch 16 ====================\n",
      "Train Acc: 0.512456 Train Loss: 1.165178\n",
      "  Val Acc: 0.572098   Val Loss: 1.096755\n",
      "==================== Epoch 17 ====================\n",
      "Train Acc: 0.558719 Train Loss: 1.102260\n",
      "  Val Acc: 0.565064   Val Loss: 1.118123\n",
      "==================== Epoch 18 ====================\n",
      "Train Acc: 0.524318 Train Loss: 1.147109\n",
      "  Val Acc: 0.574443   Val Loss: 1.188529\n",
      "==================== Epoch 19 ====================\n",
      "Train Acc: 0.552788 Train Loss: 1.142726\n",
      "  Val Acc: 0.572098   Val Loss: 1.160639\n",
      "==================== Epoch 20 ====================\n",
      "Train Acc: 0.523132 Train Loss: 1.150052\n",
      "  Val Acc: 0.506448   Val Loss: 1.147980\n",
      "==================== Epoch 21 ====================\n",
      "Train Acc: 0.542112 Train Loss: 1.138751\n",
      "  Val Acc: 0.602579   Val Loss: 1.018571\n",
      "==================== Epoch 22 ====================\n",
      "Train Acc: 0.542112 Train Loss: 1.140714\n",
      "  Val Acc: 0.533411   Val Loss: 1.162373\n",
      "==================== Epoch 23 ====================\n",
      "Train Acc: 0.561091 Train Loss: 1.080354\n",
      "  Val Acc: 0.583822   Val Loss: 1.062616\n",
      "==================== Epoch 24 ====================\n",
      "Train Acc: 0.575326 Train Loss: 1.091174\n",
      "  Val Acc: 0.548652   Val Loss: 1.114457\n",
      "==================== Epoch 25 ====================\n",
      "Train Acc: 0.571767 Train Loss: 1.116509\n",
      "  Val Acc: 0.565064   Val Loss: 1.038305\n",
      "==================== Epoch 26 ====================\n",
      "Train Acc: 0.555160 Train Loss: 1.103357\n",
      "  Val Acc: 0.572098   Val Loss: 1.041358\n",
      "==================== Epoch 27 ====================\n",
      "Train Acc: 0.576512 Train Loss: 1.128792\n",
      "  Val Acc: 0.583822   Val Loss: 1.056996\n",
      "==================== Epoch 28 ====================\n",
      "Train Acc: 0.580071 Train Loss: 1.077362\n",
      "  Val Acc: 0.627198   Val Loss: 0.985193\n",
      "==================== Epoch 29 ====================\n",
      "Train Acc: 0.591934 Train Loss: 1.053164\n",
      "  Val Acc: 0.629543   Val Loss: 0.955724\n",
      "==================== Epoch 30 ====================\n",
      "Train Acc: 0.588375 Train Loss: 1.071499\n",
      "  Val Acc: 0.552169   Val Loss: 1.263112\n",
      "==================== Epoch 31 ====================\n",
      "Train Acc: 0.588375 Train Loss: 1.071432\n",
      "  Val Acc: 0.594373   Val Loss: 1.090720\n",
      "==================== Epoch 32 ====================\n",
      "Train Acc: 0.610913 Train Loss: 1.023066\n",
      "  Val Acc: 0.627198   Val Loss: 0.979059\n",
      "==================== Epoch 33 ====================\n",
      "Train Acc: 0.580071 Train Loss: 1.080784\n",
      "  Val Acc: 0.623681   Val Loss: 1.003068\n",
      "==================== Epoch 34 ====================\n",
      "Train Acc: 0.588375 Train Loss: 1.043030\n",
      "  Val Acc: 0.637749   Val Loss: 0.970639\n",
      "==================== Epoch 35 ====================\n",
      "Train Acc: 0.595492 Train Loss: 1.056216\n",
      "  Val Acc: 0.604924   Val Loss: 0.982792\n",
      "==================== Epoch 36 ====================\n",
      "Train Acc: 0.597865 Train Loss: 1.054537\n",
      "  Val Acc: 0.574443   Val Loss: 1.035091\n",
      "==================== Epoch 37 ====================\n",
      "Train Acc: 0.603796 Train Loss: 1.058908\n",
      "  Val Acc: 0.642438   Val Loss: 0.988734\n",
      "==================== Epoch 38 ====================\n",
      "Train Acc: 0.558719 Train Loss: 1.093505\n",
      "  Val Acc: 0.558030   Val Loss: 1.209696\n",
      "==================== Epoch 39 ====================\n",
      "Train Acc: 0.580071 Train Loss: 1.073551\n",
      "  Val Acc: 0.540445   Val Loss: 1.043271\n",
      "==================== Epoch 40 ====================\n",
      "Train Acc: 0.591934 Train Loss: 1.051756\n",
      "  Val Acc: 0.650645   Val Loss: 0.930443\n",
      "==================== Epoch 41 ====================\n",
      "Train Acc: 0.612100 Train Loss: 1.005468\n",
      "  Val Acc: 0.640094   Val Loss: 0.917602\n",
      "==================== Epoch 42 ====================\n",
      "Train Acc: 0.602610 Train Loss: 1.023163\n",
      "  Val Acc: 0.576788   Val Loss: 1.048687\n",
      "==================== Epoch 43 ====================\n",
      "Train Acc: 0.616845 Train Loss: 1.003122\n",
      "  Val Acc: 0.644783   Val Loss: 0.999655\n",
      "==================== Epoch 44 ====================\n",
      "Train Acc: 0.603796 Train Loss: 1.047975\n",
      "  Val Acc: 0.613130   Val Loss: 1.000414\n",
      "==================== Epoch 45 ====================\n",
      "Train Acc: 0.639383 Train Loss: 0.998998\n",
      "  Val Acc: 0.603751   Val Loss: 1.184972\n",
      "==================== Epoch 46 ====================\n",
      "Train Acc: 0.619217 Train Loss: 1.017130\n",
      "  Val Acc: 0.642438   Val Loss: 0.902560\n",
      "==================== Epoch 47 ====================\n",
      "Train Acc: 0.631079 Train Loss: 0.943584\n",
      "  Val Acc: 0.552169   Val Loss: 1.230125\n",
      "==================== Epoch 48 ====================\n",
      "Train Acc: 0.647687 Train Loss: 0.971562\n",
      "  Val Acc: 0.670574   Val Loss: 0.895065\n",
      "==================== Epoch 49 ====================\n",
      "Train Acc: 0.653618 Train Loss: 0.964894\n",
      "  Val Acc: 0.621336   Val Loss: 0.962166\n",
      "==================== Epoch 50 ====================\n",
      "Train Acc: 0.623962 Train Loss: 1.007907\n",
      "  Val Acc: 0.635404   Val Loss: 0.939483\n",
      "==================== Epoch 51 ====================\n",
      "Train Acc: 0.606168 Train Loss: 1.028388\n",
      "  Val Acc: 0.609613   Val Loss: 0.994323\n",
      "==================== Epoch 52 ====================\n",
      "Train Acc: 0.623962 Train Loss: 0.989845\n",
      "  Val Acc: 0.607268   Val Loss: 0.993239\n",
      "==================== Epoch 53 ====================\n",
      "Train Acc: 0.616845 Train Loss: 0.993885\n",
      "  Val Acc: 0.649472   Val Loss: 0.931577\n",
      "==================== Epoch 54 ====================\n",
      "Train Acc: 0.646501 Train Loss: 0.937305\n",
      "  Val Acc: 0.569754   Val Loss: 1.105220\n",
      "==================== Epoch 55 ====================\n",
      "Train Acc: 0.650059 Train Loss: 0.910346\n",
      "  Val Acc: 0.681125   Val Loss: 0.901215\n",
      "==================== Epoch 56 ====================\n",
      "Train Acc: 0.661922 Train Loss: 0.937946\n",
      "  Val Acc: 0.674091   Val Loss: 0.906220\n",
      "==================== Epoch 57 ====================\n",
      "Train Acc: 0.657177 Train Loss: 0.911415\n",
      "  Val Acc: 0.676436   Val Loss: 0.865194\n",
      "==================== Epoch 58 ====================\n",
      "Train Acc: 0.667853 Train Loss: 0.932738\n",
      "  Val Acc: 0.629543   Val Loss: 1.024918\n",
      "==================== Epoch 59 ====================\n",
      "Train Acc: 0.644128 Train Loss: 0.965074\n",
      "  Val Acc: 0.644783   Val Loss: 0.960126\n",
      "==================== Epoch 60 ====================\n",
      "Train Acc: 0.629893 Train Loss: 0.970995\n",
      "  Val Acc: 0.661196   Val Loss: 0.883540\n",
      "==================== Epoch 61 ====================\n",
      "Train Acc: 0.664294 Train Loss: 0.909440\n",
      "  Val Acc: 0.656506   Val Loss: 0.936226\n",
      "==================== Epoch 62 ====================\n",
      "Train Acc: 0.673784 Train Loss: 0.879169\n",
      "  Val Acc: 0.608441   Val Loss: 1.044573\n",
      "==================== Epoch 63 ====================\n",
      "Train Acc: 0.659549 Train Loss: 0.893352\n",
      "  Val Acc: 0.683470   Val Loss: 0.895582\n",
      "==================== Epoch 64 ====================\n",
      "Train Acc: 0.672598 Train Loss: 0.874706\n",
      "  Val Acc: 0.691676   Val Loss: 0.841201\n",
      "==================== Epoch 65 ====================\n",
      "Train Acc: 0.666667 Train Loss: 0.857119\n",
      "  Val Acc: 0.689332   Val Loss: 0.850852\n",
      "==================== Epoch 66 ====================\n",
      "Train Acc: 0.655991 Train Loss: 0.867393\n",
      "  Val Acc: 0.651817   Val Loss: 0.941318\n",
      "==================== Epoch 67 ====================\n",
      "Train Acc: 0.683274 Train Loss: 0.911223\n",
      "  Val Acc: 0.686987   Val Loss: 0.844243\n",
      "==================== Epoch 68 ====================\n",
      "Train Acc: 0.685647 Train Loss: 0.854774\n",
      "  Val Acc: 0.670574   Val Loss: 0.912154\n",
      "==================== Epoch 69 ====================\n",
      "Train Acc: 0.665480 Train Loss: 0.887691\n",
      "  Val Acc: 0.621336   Val Loss: 0.971252\n",
      "==================== Epoch 70 ====================\n",
      "Train Acc: 0.644128 Train Loss: 0.935793\n",
      "  Val Acc: 0.703400   Val Loss: 0.807519\n",
      "==================== Epoch 71 ====================\n",
      "Train Acc: 0.682088 Train Loss: 0.873568\n",
      "  Val Acc: 0.637749   Val Loss: 0.963418\n",
      "==================== Epoch 72 ====================\n",
      "Train Acc: 0.682088 Train Loss: 0.851187\n",
      "  Val Acc: 0.723329   Val Loss: 0.756705\n",
      "==================== Epoch 73 ====================\n",
      "Train Acc: 0.669039 Train Loss: 0.876109\n",
      "  Val Acc: 0.722157   Val Loss: 0.790380\n",
      "==================== Epoch 74 ====================\n",
      "Train Acc: 0.701068 Train Loss: 0.832510\n",
      "  Val Acc: 0.716295   Val Loss: 0.778141\n",
      "==================== Epoch 75 ====================\n",
      "Train Acc: 0.708185 Train Loss: 0.814642\n",
      "  Val Acc: 0.608441   Val Loss: 1.042206\n",
      "==================== Epoch 76 ====================\n",
      "Train Acc: 0.706999 Train Loss: 0.792484\n",
      "  Val Acc: 0.726846   Val Loss: 0.789025\n",
      "==================== Epoch 77 ====================\n",
      "Train Acc: 0.680902 Train Loss: 0.845746\n",
      "  Val Acc: 0.709261   Val Loss: 0.810448\n",
      "==================== Epoch 78 ====================\n",
      "Train Acc: 0.695136 Train Loss: 0.854734\n",
      "  Val Acc: 0.661196   Val Loss: 0.860284\n",
      "==================== Epoch 79 ====================\n",
      "Train Acc: 0.692764 Train Loss: 0.830499\n",
      "  Val Acc: 0.708089   Val Loss: 0.761119\n",
      "==================== Epoch 80 ====================\n",
      "Train Acc: 0.706999 Train Loss: 0.756961\n",
      "  Val Acc: 0.690504   Val Loss: 0.878875\n",
      "==================== Epoch 81 ====================\n",
      "Train Acc: 0.692764 Train Loss: 0.815912\n",
      "  Val Acc: 0.724502   Val Loss: 0.776740\n",
      "==================== Epoch 82 ====================\n",
      "Train Acc: 0.711744 Train Loss: 0.804394\n",
      "  Val Acc: 0.697538   Val Loss: 0.829270\n",
      "==================== Epoch 83 ====================\n",
      "Train Acc: 0.716489 Train Loss: 0.776671\n",
      "  Val Acc: 0.681125   Val Loss: 0.821749\n",
      "==================== Epoch 84 ====================\n",
      "Train Acc: 0.697509 Train Loss: 0.807237\n",
      "  Val Acc: 0.717468   Val Loss: 0.778444\n",
      "==================== Epoch 85 ====================\n",
      "Train Acc: 0.703440 Train Loss: 0.765941\n",
      "  Val Acc: 0.664713   Val Loss: 0.887159\n",
      "==================== Epoch 86 ====================\n",
      "Train Acc: 0.693950 Train Loss: 0.791457\n",
      "  Val Acc: 0.739742   Val Loss: 0.734245\n",
      "==================== Epoch 87 ====================\n",
      "Train Acc: 0.728351 Train Loss: 0.762089\n",
      "  Val Acc: 0.713951   Val Loss: 0.767024\n",
      "==================== Epoch 88 ====================\n",
      "Train Acc: 0.690391 Train Loss: 0.783628\n",
      "  Val Acc: 0.743259   Val Loss: 0.716708\n",
      "==================== Epoch 89 ====================\n",
      "Train Acc: 0.721234 Train Loss: 0.769146\n",
      "  Val Acc: 0.702227   Val Loss: 0.801119\n",
      "==================== Epoch 90 ====================\n",
      "Train Acc: 0.724792 Train Loss: 0.734946\n",
      "  Val Acc: 0.737397   Val Loss: 0.758406\n",
      "==================== Epoch 91 ====================\n",
      "Train Acc: 0.718861 Train Loss: 0.742425\n",
      "  Val Acc: 0.750293   Val Loss: 0.674237\n",
      "==================== Epoch 92 ====================\n",
      "Train Acc: 0.716489 Train Loss: 0.744035\n",
      "  Val Acc: 0.709261   Val Loss: 0.845182\n",
      "==================== Epoch 93 ====================\n",
      "Train Acc: 0.727165 Train Loss: 0.751547\n",
      "  Val Acc: 0.718640   Val Loss: 0.781318\n",
      "==================== Epoch 94 ====================\n",
      "Train Acc: 0.725979 Train Loss: 0.729672\n",
      "  Val Acc: 0.640094   Val Loss: 1.016496\n",
      "==================== Epoch 95 ====================\n",
      "Train Acc: 0.729537 Train Loss: 0.756648\n",
      "  Val Acc: 0.724502   Val Loss: 0.788879\n",
      "==================== Epoch 96 ====================\n",
      "Train Acc: 0.721234 Train Loss: 0.745357\n",
      "  Val Acc: 0.743259   Val Loss: 0.698345\n",
      "==================== Epoch 97 ====================\n",
      "Train Acc: 0.716489 Train Loss: 0.750730\n",
      "  Val Acc: 0.744431   Val Loss: 0.736005\n",
      "==================== Epoch 98 ====================\n",
      "Train Acc: 0.733096 Train Loss: 0.725136\n",
      "  Val Acc: 0.744431   Val Loss: 0.702952\n",
      "==================== Epoch 99 ====================\n",
      "Train Acc: 0.720047 Train Loss: 0.750625\n",
      "  Val Acc: 0.719812   Val Loss: 0.756133\n",
      "==================== Epoch 100 ====================\n",
      "Train Acc: 0.723606 Train Loss: 0.747554\n",
      "  Val Acc: 0.729191   Val Loss: 0.776537\n",
      "==================== Epoch 101 ====================\n",
      "Train Acc: 0.742586 Train Loss: 0.691246\n",
      "  Val Acc: 0.703400   Val Loss: 0.817776\n",
      "==================== Epoch 102 ====================\n",
      "Train Acc: 0.758007 Train Loss: 0.691255\n",
      "  Val Acc: 0.657679   Val Loss: 0.953568\n",
      "==================== Epoch 103 ====================\n",
      "Train Acc: 0.718861 Train Loss: 0.736845\n",
      "  Val Acc: 0.711606   Val Loss: 0.754262\n",
      "==================== Epoch 104 ====================\n",
      "Train Acc: 0.746145 Train Loss: 0.677935\n",
      "  Val Acc: 0.688159   Val Loss: 0.850173\n",
      "==================== Epoch 105 ====================\n",
      "Train Acc: 0.740214 Train Loss: 0.685068\n",
      "  Val Acc: 0.758499   Val Loss: 0.658763\n",
      "==================== Epoch 106 ====================\n",
      "Train Acc: 0.733096 Train Loss: 0.706017\n",
      "  Val Acc: 0.733880   Val Loss: 0.729048\n",
      "==================== Epoch 107 ====================\n",
      "Train Acc: 0.755635 Train Loss: 0.652296\n",
      "  Val Acc: 0.726846   Val Loss: 0.803389\n",
      "==================== Epoch 108 ====================\n",
      "Train Acc: 0.746145 Train Loss: 0.735948\n",
      "  Val Acc: 0.760844   Val Loss: 0.743224\n",
      "==================== Epoch 109 ====================\n",
      "Train Acc: 0.708185 Train Loss: 0.748201\n",
      "  Val Acc: 0.744431   Val Loss: 0.775128\n",
      "==================== Epoch 110 ====================\n",
      "Train Acc: 0.760380 Train Loss: 0.670382\n",
      "  Val Acc: 0.764361   Val Loss: 0.715597\n",
      "==================== Epoch 111 ====================\n",
      "Train Acc: 0.754448 Train Loss: 0.696969\n",
      "  Val Acc: 0.699883   Val Loss: 0.828426\n",
      "==================== Epoch 112 ====================\n",
      "Train Acc: 0.750890 Train Loss: 0.690259\n",
      "  Val Acc: 0.756155   Val Loss: 0.680982\n",
      "==================== Epoch 113 ====================\n",
      "Train Acc: 0.727165 Train Loss: 0.753122\n",
      "  Val Acc: 0.733880   Val Loss: 0.710709\n",
      "==================== Epoch 114 ====================\n",
      "Train Acc: 0.739027 Train Loss: 0.707894\n",
      "  Val Acc: 0.764361   Val Loss: 0.662619\n",
      "==================== Epoch 115 ====================\n",
      "Train Acc: 0.749703 Train Loss: 0.665298\n",
      "  Val Acc: 0.762016   Val Loss: 0.680049\n",
      "==================== Epoch 116 ====================\n",
      "Train Acc: 0.756821 Train Loss: 0.634756\n",
      "  Val Acc: 0.765533   Val Loss: 0.664869\n",
      "==================== Epoch 117 ====================\n",
      "Train Acc: 0.774614 Train Loss: 0.603958\n",
      "  Val Acc: 0.772567   Val Loss: 0.672116\n",
      "==================== Epoch 118 ====================\n",
      "Train Acc: 0.756821 Train Loss: 0.649324\n",
      "  Val Acc: 0.723329   Val Loss: 0.717224\n",
      "==================== Epoch 119 ====================\n",
      "Train Acc: 0.749703 Train Loss: 0.674099\n",
      "  Val Acc: 0.732708   Val Loss: 0.751869\n",
      "==================== Epoch 120 ====================\n",
      "Train Acc: 0.743772 Train Loss: 0.707254\n",
      "  Val Acc: 0.746776   Val Loss: 0.697028\n",
      "==================== Epoch 121 ====================\n",
      "Train Acc: 0.760380 Train Loss: 0.634467\n",
      "  Val Acc: 0.786635   Val Loss: 0.636489\n",
      "==================== Epoch 122 ====================\n",
      "Train Acc: 0.762752 Train Loss: 0.627011\n",
      "  Val Acc: 0.750293   Val Loss: 0.728068\n",
      "==================== Epoch 123 ====================\n",
      "Train Acc: 0.776987 Train Loss: 0.600218\n",
      "  Val Acc: 0.765533   Val Loss: 0.685911\n",
      "==================== Epoch 124 ====================\n",
      "Train Acc: 0.768683 Train Loss: 0.608310\n",
      "  Val Acc: 0.751465   Val Loss: 0.741415\n",
      "==================== Epoch 125 ====================\n",
      "Train Acc: 0.750890 Train Loss: 0.690128\n",
      "  Val Acc: 0.729191   Val Loss: 0.828065\n",
      "==================== Epoch 126 ====================\n",
      "Train Acc: 0.734282 Train Loss: 0.677544\n",
      "  Val Acc: 0.753810   Val Loss: 0.711777\n",
      "==================== Epoch 127 ====================\n",
      "Train Acc: 0.754448 Train Loss: 0.641608\n",
      "  Val Acc: 0.758499   Val Loss: 0.701117\n",
      "==================== Epoch 128 ====================\n",
      "Train Acc: 0.781732 Train Loss: 0.602840\n",
      "  Val Acc: 0.739742   Val Loss: 0.745574\n",
      "==================== Epoch 129 ====================\n",
      "Train Acc: 0.778173 Train Loss: 0.597896\n",
      "  Val Acc: 0.757327   Val Loss: 0.725428\n",
      "==================== Epoch 130 ====================\n",
      "Train Acc: 0.756821 Train Loss: 0.661869\n",
      "  Val Acc: 0.736225   Val Loss: 0.731389\n",
      "==================== Epoch 131 ====================\n",
      "Train Acc: 0.772242 Train Loss: 0.631305\n",
      "  Val Acc: 0.774912   Val Loss: 0.636688\n",
      "==================== Epoch 132 ====================\n",
      "Train Acc: 0.768683 Train Loss: 0.607292\n",
      "  Val Acc: 0.772567   Val Loss: 0.644424\n",
      "==================== Epoch 133 ====================\n",
      "Train Acc: 0.740214 Train Loss: 0.673237\n",
      "  Val Acc: 0.753810   Val Loss: 0.694769\n",
      "==================== Epoch 134 ====================\n",
      "Train Acc: 0.762752 Train Loss: 0.606652\n",
      "  Val Acc: 0.773740   Val Loss: 0.636588\n",
      "==================== Epoch 135 ====================\n",
      "Train Acc: 0.781732 Train Loss: 0.649167\n",
      "  Val Acc: 0.765533   Val Loss: 0.712414\n",
      "==================== Epoch 136 ====================\n",
      "Train Acc: 0.768683 Train Loss: 0.615064\n",
      "  Val Acc: 0.772567   Val Loss: 0.646674\n",
      "==================== Epoch 137 ====================\n",
      "Train Acc: 0.775801 Train Loss: 0.599911\n",
      "  Val Acc: 0.751465   Val Loss: 0.701839\n",
      "==================== Epoch 138 ====================\n",
      "Train Acc: 0.762752 Train Loss: 0.624349\n",
      "  Val Acc: 0.756155   Val Loss: 0.655780\n",
      "==================== Epoch 139 ====================\n",
      "Train Acc: 0.793594 Train Loss: 0.532741\n",
      "  Val Acc: 0.751465   Val Loss: 0.732660\n",
      "==================== Epoch 140 ====================\n",
      "Train Acc: 0.768683 Train Loss: 0.598012\n",
      "  Val Acc: 0.774912   Val Loss: 0.663491\n",
      "==================== Epoch 141 ====================\n",
      "Train Acc: 0.772242 Train Loss: 0.634655\n",
      "  Val Acc: 0.766706   Val Loss: 0.678195\n",
      "==================== Epoch 142 ====================\n",
      "Train Acc: 0.786477 Train Loss: 0.570179\n",
      "  Val Acc: 0.777257   Val Loss: 0.666228\n",
      "==================== Epoch 143 ====================\n",
      "Train Acc: 0.778173 Train Loss: 0.589290\n",
      "  Val Acc: 0.791325   Val Loss: 0.591112\n",
      "==================== Epoch 144 ====================\n",
      "Train Acc: 0.806643 Train Loss: 0.526596\n",
      "  Val Acc: 0.796014   Val Loss: 0.576415\n",
      "==================== Epoch 145 ====================\n",
      "Train Acc: 0.799526 Train Loss: 0.544980\n",
      "  Val Acc: 0.801876   Val Loss: 0.599212\n",
      "==================== Epoch 146 ====================\n",
      "Train Acc: 0.799526 Train Loss: 0.542708\n",
      "  Val Acc: 0.788980   Val Loss: 0.611618\n",
      "==================== Epoch 147 ====================\n",
      "Train Acc: 0.806643 Train Loss: 0.520934\n",
      "  Val Acc: 0.781946   Val Loss: 0.605746\n",
      "==================== Epoch 148 ====================\n",
      "Train Acc: 0.814947 Train Loss: 0.513235\n",
      "  Val Acc: 0.787808   Val Loss: 0.628740\n",
      "==================== Epoch 149 ====================\n",
      "Train Acc: 0.794781 Train Loss: 0.530669\n",
      "  Val Acc: 0.798359   Val Loss: 0.595926\n",
      "==================== Epoch 150 ====================\n",
      "Train Acc: 0.812574 Train Loss: 0.553672\n",
      "  Val Acc: 0.796014   Val Loss: 0.637611\n",
      "==================== Epoch 151 ====================\n",
      "Train Acc: 0.768683 Train Loss: 0.620848\n",
      "  Val Acc: 0.791325   Val Loss: 0.613614\n",
      "==================== Epoch 152 ====================\n",
      "Train Acc: 0.823250 Train Loss: 0.531593\n",
      "  Val Acc: 0.790152   Val Loss: 0.605263\n",
      "==================== Epoch 153 ====================\n",
      "Train Acc: 0.836299 Train Loss: 0.457582\n",
      "  Val Acc: 0.799531   Val Loss: 0.589617\n",
      "==================== Epoch 154 ====================\n",
      "Train Acc: 0.816133 Train Loss: 0.485394\n",
      "  Val Acc: 0.781946   Val Loss: 0.635590\n",
      "==================== Epoch 155 ====================\n",
      "Train Acc: 0.819692 Train Loss: 0.495995\n",
      "  Val Acc: 0.786635   Val Loss: 0.642795\n",
      "==================== Epoch 156 ====================\n",
      "Train Acc: 0.810202 Train Loss: 0.546048\n",
      "  Val Acc: 0.778429   Val Loss: 0.627412\n",
      "==================== Epoch 157 ====================\n",
      "Train Acc: 0.823250 Train Loss: 0.493755\n",
      "  Val Acc: 0.786635   Val Loss: 0.590190\n",
      "==================== Epoch 158 ====================\n",
      "Train Acc: 0.816133 Train Loss: 0.496870\n",
      "  Val Acc: 0.797186   Val Loss: 0.605838\n",
      "==================== Epoch 159 ====================\n",
      "Train Acc: 0.838671 Train Loss: 0.446001\n",
      "  Val Acc: 0.807737   Val Loss: 0.605869\n",
      "==================== Epoch 160 ====================\n",
      "Train Acc: 0.811388 Train Loss: 0.513329\n",
      "  Val Acc: 0.784291   Val Loss: 0.670426\n",
      "==================== Epoch 161 ====================\n",
      "Train Acc: 0.820878 Train Loss: 0.483069\n",
      "  Val Acc: 0.779601   Val Loss: 0.674486\n",
      "==================== Epoch 162 ====================\n",
      "Train Acc: 0.838671 Train Loss: 0.470852\n",
      "  Val Acc: 0.793669   Val Loss: 0.632422\n",
      "==================== Epoch 163 ====================\n",
      "Train Acc: 0.810202 Train Loss: 0.495643\n",
      "  Val Acc: 0.766706   Val Loss: 0.705736\n",
      "==================== Epoch 164 ====================\n",
      "Train Acc: 0.830368 Train Loss: 0.469124\n",
      "  Val Acc: 0.799531   Val Loss: 0.599382\n",
      "==================== Epoch 165 ====================\n",
      "Train Acc: 0.820878 Train Loss: 0.491187\n",
      "  Val Acc: 0.791325   Val Loss: 0.626931\n",
      "==================== Epoch 166 ====================\n",
      "Train Acc: 0.820878 Train Loss: 0.472637\n",
      "  Val Acc: 0.799531   Val Loss: 0.595181\n",
      "==================== Epoch 167 ====================\n",
      "Train Acc: 0.839858 Train Loss: 0.431275\n",
      "  Val Acc: 0.808910   Val Loss: 0.575836\n",
      "==================== Epoch 168 ====================\n",
      "Train Acc: 0.857651 Train Loss: 0.396566\n",
      "  Val Acc: 0.787808   Val Loss: 0.605265\n",
      "==================== Epoch 169 ====================\n",
      "Train Acc: 0.851720 Train Loss: 0.436456\n",
      "  Val Acc: 0.814771   Val Loss: 0.578305\n",
      "==================== Epoch 170 ====================\n",
      "Train Acc: 0.857651 Train Loss: 0.412118\n",
      "  Val Acc: 0.803048   Val Loss: 0.621345\n",
      "==================== Epoch 171 ====================\n",
      "Train Acc: 0.842230 Train Loss: 0.442858\n",
      "  Val Acc: 0.819461   Val Loss: 0.576794\n",
      "==================== Epoch 172 ====================\n",
      "Train Acc: 0.869514 Train Loss: 0.414961\n",
      "  Val Acc: 0.804220   Val Loss: 0.599384\n",
      "==================== Epoch 173 ====================\n",
      "Train Acc: 0.850534 Train Loss: 0.425447\n",
      "  Val Acc: 0.805393   Val Loss: 0.590965\n",
      "==================== Epoch 174 ====================\n",
      "Train Acc: 0.844603 Train Loss: 0.441455\n",
      "  Val Acc: 0.790152   Val Loss: 0.600918\n",
      "==================== Epoch 175 ====================\n",
      "Train Acc: 0.858837 Train Loss: 0.398798\n",
      "  Val Acc: 0.807737   Val Loss: 0.588983\n",
      "==================== Epoch 176 ====================\n",
      "Train Acc: 0.839858 Train Loss: 0.426194\n",
      "  Val Acc: 0.797186   Val Loss: 0.618032\n",
      "==================== Epoch 177 ====================\n",
      "Train Acc: 0.858837 Train Loss: 0.392209\n",
      "  Val Acc: 0.800703   Val Loss: 0.611540\n",
      "==================== Epoch 178 ====================\n",
      "Train Acc: 0.838671 Train Loss: 0.455040\n",
      "  Val Acc: 0.813599   Val Loss: 0.571597\n",
      "==================== Epoch 179 ====================\n",
      "Train Acc: 0.852906 Train Loss: 0.408621\n",
      "  Val Acc: 0.788980   Val Loss: 0.636997\n",
      "==================== Epoch 180 ====================\n",
      "Train Acc: 0.841044 Train Loss: 0.425778\n",
      "  Val Acc: 0.807737   Val Loss: 0.580860\n",
      "==================== Epoch 181 ====================\n",
      "Train Acc: 0.831554 Train Loss: 0.432976\n",
      "  Val Acc: 0.815944   Val Loss: 0.570001\n",
      "==================== Epoch 182 ====================\n",
      "Train Acc: 0.856465 Train Loss: 0.410241\n",
      "  Val Acc: 0.793669   Val Loss: 0.630393\n",
      "==================== Epoch 183 ====================\n",
      "Train Acc: 0.841044 Train Loss: 0.424976\n",
      "  Val Acc: 0.812427   Val Loss: 0.581747\n",
      "==================== Epoch 184 ====================\n",
      "Train Acc: 0.864769 Train Loss: 0.391906\n",
      "  Val Acc: 0.792497   Val Loss: 0.622348\n",
      "==================== Epoch 185 ====================\n",
      "Train Acc: 0.852906 Train Loss: 0.405141\n",
      "  Val Acc: 0.801876   Val Loss: 0.614008\n",
      "==================== Epoch 186 ====================\n",
      "Train Acc: 0.857651 Train Loss: 0.417277\n",
      "  Val Acc: 0.803048   Val Loss: 0.587175\n",
      "==================== Epoch 187 ====================\n",
      "Train Acc: 0.848161 Train Loss: 0.402773\n",
      "  Val Acc: 0.824150   Val Loss: 0.562325\n",
      "==================== Epoch 188 ====================\n",
      "Train Acc: 0.862396 Train Loss: 0.380034\n",
      "  Val Acc: 0.815944   Val Loss: 0.576480\n",
      "==================== Epoch 189 ====================\n",
      "Train Acc: 0.886121 Train Loss: 0.351350\n",
      "  Val Acc: 0.799531   Val Loss: 0.630241\n",
      "==================== Epoch 190 ====================\n",
      "Train Acc: 0.851720 Train Loss: 0.381412\n",
      "  Val Acc: 0.806565   Val Loss: 0.596713\n",
      "==================== Epoch 191 ====================\n",
      "Train Acc: 0.860024 Train Loss: 0.388731\n",
      "  Val Acc: 0.796014   Val Loss: 0.593358\n",
      "==================== Epoch 192 ====================\n",
      "Train Acc: 0.844603 Train Loss: 0.418719\n",
      "  Val Acc: 0.786635   Val Loss: 0.613592\n",
      "==================== Epoch 193 ====================\n",
      "Train Acc: 0.842230 Train Loss: 0.420922\n",
      "  Val Acc: 0.791325   Val Loss: 0.632230\n",
      "==================== Epoch 194 ====================\n",
      "Train Acc: 0.852906 Train Loss: 0.409154\n",
      "  Val Acc: 0.791325   Val Loss: 0.609716\n",
      "==================== Epoch 195 ====================\n",
      "Train Acc: 0.846975 Train Loss: 0.428766\n",
      "  Val Acc: 0.813599   Val Loss: 0.594423\n",
      "==================== Epoch 196 ====================\n",
      "Train Acc: 0.857651 Train Loss: 0.403284\n",
      "  Val Acc: 0.812427   Val Loss: 0.586198\n",
      "==================== Epoch 197 ====================\n",
      "Train Acc: 0.845789 Train Loss: 0.396430\n",
      "  Val Acc: 0.801876   Val Loss: 0.607312\n",
      "==================== Epoch 198 ====================\n",
      "Train Acc: 0.876631 Train Loss: 0.358138\n",
      "  Val Acc: 0.810082   Val Loss: 0.619072\n",
      "==================== Epoch 199 ====================\n",
      "Train Acc: 0.845789 Train Loss: 0.387104\n",
      "  Val Acc: 0.810082   Val Loss: 0.604010\n",
      "==================== Epoch 200 ====================\n",
      "Train Acc: 0.836299 Train Loss: 0.412743\n",
      "  Val Acc: 0.798359   Val Loss: 0.606806\n",
      "==================== Epoch 201 ====================\n",
      "Train Acc: 0.865955 Train Loss: 0.393424\n",
      "  Val Acc: 0.799531   Val Loss: 0.598480\n",
      "==================== Epoch 202 ====================\n",
      "Train Acc: 0.861210 Train Loss: 0.373751\n",
      "  Val Acc: 0.815944   Val Loss: 0.593198\n",
      "==================== Epoch 203 ====================\n",
      "Train Acc: 0.855279 Train Loss: 0.409167\n",
      "  Val Acc: 0.807737   Val Loss: 0.603949\n",
      "==================== Epoch 204 ====================\n",
      "Train Acc: 0.846975 Train Loss: 0.434047\n",
      "  Val Acc: 0.804220   Val Loss: 0.622447\n",
      "==================== Epoch 205 ====================\n",
      "Train Acc: 0.863582 Train Loss: 0.382220\n",
      "  Val Acc: 0.813599   Val Loss: 0.591093\n",
      "==================== Epoch 206 ====================\n",
      "Train Acc: 0.856465 Train Loss: 0.387286\n",
      "  Val Acc: 0.812427   Val Loss: 0.588604\n",
      "==================== Epoch 207 ====================\n",
      "Train Acc: 0.867141 Train Loss: 0.366177\n",
      "  Val Acc: 0.801876   Val Loss: 0.594795\n",
      "==================== Epoch 208 ====================\n",
      "Train Acc: 0.869514 Train Loss: 0.374676\n",
      "  Val Acc: 0.813599   Val Loss: 0.571985\n",
      "==================== Epoch 209 ====================\n",
      "Train Acc: 0.882562 Train Loss: 0.343975\n",
      "  Val Acc: 0.810082   Val Loss: 0.582201\n",
      "==================== Epoch 210 ====================\n",
      "Train Acc: 0.888493 Train Loss: 0.317159\n",
      "  Val Acc: 0.808910   Val Loss: 0.593959\n",
      "==================== Epoch 211 ====================\n",
      "Train Acc: 0.884935 Train Loss: 0.312937\n",
      "  Val Acc: 0.817116   Val Loss: 0.578880\n",
      "==================== Epoch 212 ====================\n",
      "Train Acc: 0.884935 Train Loss: 0.352942\n",
      "  Val Acc: 0.804220   Val Loss: 0.604646\n",
      "==================== Epoch 213 ====================\n",
      "Train Acc: 0.869514 Train Loss: 0.366749\n",
      "  Val Acc: 0.803048   Val Loss: 0.598079\n",
      "==================== Epoch 214 ====================\n",
      "Train Acc: 0.874259 Train Loss: 0.349908\n",
      "  Val Acc: 0.806565   Val Loss: 0.595466\n",
      "==================== Epoch 215 ====================\n",
      "Train Acc: 0.884935 Train Loss: 0.329731\n",
      "  Val Acc: 0.806565   Val Loss: 0.603276\n",
      "==================== Epoch 216 ====================\n",
      "Train Acc: 0.870700 Train Loss: 0.345368\n",
      "  Val Acc: 0.803048   Val Loss: 0.616160\n",
      "==================== Epoch 217 ====================\n",
      "Train Acc: 0.863582 Train Loss: 0.371231\n",
      "  Val Acc: 0.801876   Val Loss: 0.606243\n",
      "Early stopping at epoch 217 due to no improvement in validation loss.\n"
     ]
    }
   ],
   "source": [
    "################################################################################\n",
    "#     You can adjust those hyper parameters to loop for max_epochs times       #\n",
    "################################################################################\n",
    "max_epochs = 5000\n",
    "log_interval = 1\n",
    "early_stopping_patience = 30    # NuIber of epochs to wait for improvement\n",
    "\n",
    "train_acc_list = []\n",
    "train_loss_list = []\n",
    "val_acc_list = []\n",
    "val_loss_list = []\n",
    "\n",
    "best_acc = 0       # Initialize with a small value\n",
    "no_improvement_count = 0\n",
    "\n",
    "best_model_state_dict = None    # To store the state_dict of the best model\n",
    "\n",
    "for epoch in range(1, max_epochs + 1):\n",
    "    train_acc, train_loss = train(train_loader, model, criterion, optimizer)\n",
    "    val_acc, val_loss = val(valid_loader, model, criterion)\n",
    "\n",
    "    scheduler.step(val_loss)\n",
    "\n",
    "    train_acc_list.append(train_acc)\n",
    "    train_loss_list.append(train_loss)\n",
    "    val_acc_list.append(val_acc)\n",
    "    val_loss_list.append(val_loss)\n",
    "\n",
    "    if epoch % log_interval == 0:\n",
    "        print('=' * 20, 'Epoch', epoch, '=' * 20)\n",
    "        print('Train Acc: {:.6f} Train Loss: {:.6f}'.format(train_acc, train_loss))\n",
    "        print('  Val Acc: {:.6f}   Val Loss: {:.6f}'.format(val_acc, val_loss))\n",
    "\n",
    "    # Check for early stopping based on validation loss\n",
    "    if  val_acc > best_acc:\n",
    "        best_acc = val_acc\n",
    "        no_improvement_count = 0\n",
    "\n",
    "        # Save a copy of the model's state_dict when the best validation loss is seen\n",
    "        best_model_state_dict = model.state_dict()\n",
    "    else:\n",
    "        no_improvement_count += 1\n",
    "\n",
    "    if no_improvement_count >= early_stopping_patience:\n",
    "        print(f'Early stopping at epoch {epoch} due to no improvement in validation loss.')\n",
    "\n",
    "        # Restore the best model weights\n",
    "        if best_model_state_dict is not None:\n",
    "            model.load_state_dict(best_model_state_dict)\n",
    "        break\n",
    "################################################################################\n",
    "#                               End of your code                               #\n",
    "################################################################################"
   ]
  },
  {
   "cell_type": "markdown",
   "metadata": {},
   "source": [
    "#### Visualize accuracy and loss"
   ]
  },
  {
   "cell_type": "code",
   "execution_count": 18,
   "metadata": {
    "ExecuteTime": {
     "end_time": "2023-11-01T09:52:45.173035400Z",
     "start_time": "2023-11-01T09:52:43.211538600Z"
    }
   },
   "outputs": [
    {
     "data": {
      "text/plain": "<Figure size 1200x400 with 1 Axes>",
      "image/png": "[encoded data removed]"
     },
     "metadata": {},
     "output_type": "display_data"
    },
    {
     "data": {
      "text/plain": "<Figure size 1200x400 with 1 Axes>",
      "image/png": "[encoded data removed]"
     },
     "metadata": {},
     "output_type": "display_data"
    }
   ],
   "source": [
    "import matplotlib.pyplot as plt\n",
    "\n",
    "\n",
    "plt.figure(figsize=(12, 4))\n",
    "plt.plot(range(len(train_loss_list)), train_loss_list)\n",
    "plt.plot(range(len(val_loss_list)), val_loss_list, c='r')\n",
    "plt.legend(['train', 'val'])\n",
    "plt.title('Loss')\n",
    "plt.show()\n",
    "plt.figure(figsize=(12, 4))\n",
    "plt.plot(range(len(train_acc_list)), train_acc_list)\n",
    "plt.plot(range(len(val_acc_list)), val_acc_list, c='r')\n",
    "plt.legend(['train', 'val'])\n",
    "plt.title('Acc')\n",
    "plt.show()"
   ]
  },
  {
   "cell_type": "code",
   "execution_count": 19,
   "metadata": {
    "ExecuteTime": {
     "end_time": "2023-11-01T09:53:18.359751900Z",
     "start_time": "2023-11-01T09:53:18.306748200Z"
    }
   },
   "outputs": [],
   "source": [
    "from datetime import datetime\n",
    "\n",
    "# save your well-trained state_dict of model\n",
    "# Get the current timestamp\n",
    "timestamp = datetime.now().strftime(\"%Y-%m-%d-%H-%M\")\n",
    "torch.save(model.state_dict(), f'IB-CONV_{timestamp}.pt')"
   ]
  },
  {
   "cell_type": "markdown",
   "metadata": {},
   "source": [
    "finish training your classifier, next you should use this classifer to predict unlabel images with pseduo label."
   ]
  },
  {
   "cell_type": "markdown",
   "metadata": {},
   "source": [
    "## Step2: Use unlabeled data to enhance model performance"
   ]
  },
  {
   "cell_type": "code",
   "execution_count": 16,
   "metadata": {
    "ExecuteTime": {
     "end_time": "2023-11-01T05:31:52.499040700Z",
     "start_time": "2023-11-01T05:31:52.462837600Z"
    }
   },
   "outputs": [
    {
     "data": {
      "text/plain": "<All keys matched successfully>"
     },
     "execution_count": 16,
     "metadata": {},
     "output_type": "execute_result"
    }
   ],
   "source": [
    "# load the trained classifier weights\n",
    "ckpt = torch.load('IB-CONV_Self_Train_2023-11-01-00-33.pt')\n",
    "model.load_state_dict(ckpt) "
   ]
  },
  {
   "cell_type": "code",
   "execution_count": 40,
   "metadata": {
    "ExecuteTime": {
     "end_time": "2023-11-01T05:56:27.980292600Z",
     "start_time": "2023-11-01T05:56:20.138399900Z"
    }
   },
   "outputs": [
    {
     "name": "stdout",
     "output_type": "stream",
     "text": [
      "1713\n"
     ]
    }
   ],
   "source": [
    "# create a unlabeled data set list, we will use it later\n",
    "unlabeled_set_list = []\n",
    "train_set = FlowerData('train_labeled_dataset.csv', mode='train', transform=transforms_train)\n",
    "train_loader = DataLoader(train_set, batch_size=batch_size, num_workers=num_workers, shuffle=True)\n",
    "\n",
    "for img in unlabeled_set:\n",
    "    unlabeled_set_list.append(img)\n",
    "    \n",
    "print(len(unlabeled_set_list))"
   ]
  },
  {
   "cell_type": "markdown",
   "metadata": {},
   "source": [
    "### Define loss and optimizer"
   ]
  },
  {
   "cell_type": "code",
   "execution_count": 41,
   "metadata": {
    "ExecuteTime": {
     "end_time": "2023-11-01T05:56:31.016437600Z",
     "start_time": "2023-11-01T05:56:30.993499Z"
    }
   },
   "outputs": [],
   "source": [
    "import torch.nn as nn\n",
    "import torch.optim as optim\n",
    "################################################################################\n",
    "# TODO: Define loss and optmizer functions                                     #\n",
    "# Try any loss or optimizer function and learning rate to get better result    #\n",
    "# hint: torch.nn and torch.optim                                               #\n",
    "################################################################################\n",
    "# CrossEntropyLoss for classification tasks\n",
    "criterion = nn.CrossEntropyLoss()\n",
    "\n",
    "import copy\n",
    "# EMA copy\n",
    "ema_model = copy.deepcopy(model)\n",
    "\n",
    "# Adam optimizer\n",
    "learning_rate = 0.0001\n",
    "optimizer = optim.Adam(model.parameters(), lr=learning_rate, weight_decay=1e-3)\n",
    "\n",
    "scheduler = optim.lr_scheduler.ReduceLROnPlateau(optimizer, 'min', patience=5, factor=0.5)\n",
    "################################################################################\n",
    "#                               End of your code                               #\n",
    "################################################################################\n",
    "criterion = criterion.to(device)"
   ]
  },
  {
   "cell_type": "markdown",
   "metadata": {},
   "source": [
    "### Use the trained classifier to generates pseudo-labels of a dataset."
   ]
  },
  {
   "cell_type": "code",
   "execution_count": 42,
   "metadata": {
    "ExecuteTime": {
     "end_time": "2023-11-01T05:56:33.817444500Z",
     "start_time": "2023-11-01T05:56:33.814009200Z"
    }
   },
   "outputs": [],
   "source": [
    "from torch.utils.data import ConcatDataset, DataLoader, Subset\n",
    "from tqdm.auto import tqdm\n",
    "\n",
    "###########################################################\n",
    "#   You can adjust the threshold to get better result !   #                                  \n",
    "###########################################################\n",
    "def get_pseudo_labels(model, threshold=0.5):\n",
    "    \n",
    "    global unlabeled_set_list, train_set\n",
    "\n",
    "    remove_index, index = [], 0\n",
    "\n",
    "    model.eval()\n",
    "\n",
    "    softmax = nn.Softmax(dim=-1)\n",
    "\n",
    "    # Iterate over the dataset by batches.\n",
    "    for img in tqdm(unlabeled_set_list):\n",
    "\n",
    "        #####################################################################################\n",
    "        #     TODO:                                                                         #\n",
    "        #     1. Foward the data, Using torch.no_grad() accelerates the forward process     #\n",
    "        #     2. obtain the probability distributions by applying softmax on logits         #\n",
    "        #     3. Filter the data with threshold                                             #\n",
    "        #     4. CoIbine the labeled training data with the pseudo-labeled data             #\n",
    "        #        to construct a new training set. then removed                              #\n",
    "        #     5. the unlabeled data from unlabeled_set_list                                 #\n",
    "        #     hint: ConcatDataset                                                           #\n",
    "        #####################################################################################\n",
    "        with torch.no_grad():\n",
    "            img = img.to(device)  # Move the image to the device (e.g., GPU)\n",
    "\n",
    "            # 1. Forward the data\n",
    "            outputs = model(img.unsqueeze(0))  # Unsqueeze to add batch dimension\n",
    "\n",
    "            # 2. Obtain the probability distributions by applying softmax on logits\n",
    "            probs = softmax(outputs)\n",
    "\n",
    "            # 3. Filter the data with the threshold\n",
    "            max_prob, predicted_label = torch.max(probs, 1)\n",
    "\n",
    "            if max_prob.item() >= threshold:\n",
    "                # 4. Add the pseudo-label and image for the train set.\n",
    "                train_set.data_list.append(unlabeled_set.data_list[index])\n",
    "                train_set.labels.append(predicted_label.item())\n",
    "\n",
    "                # 5. Remove the unlabeled data from unlabeled_set_list\n",
    "                remove_index.append(index)\n",
    "\n",
    "            index += 1\n",
    "        #####################################################################################\n",
    "        #                           End of your code                                        #\n",
    "        #####################################################################################\n",
    "\n",
    "\n",
    "    remove_index.reverse()\n",
    "    for i in remove_index:\n",
    "        del unlabeled_set_list[i]\n",
    "\n",
    "    print(f\"[{len(train_set)-843}/1713] images have been labeled.\")\n",
    "    \n",
    "    # # Turn off the eval mode.\n",
    "    model.train()"
   ]
  },
  {
   "cell_type": "markdown",
   "metadata": {},
   "source": [
    "### Train the model"
   ]
  },
  {
   "cell_type": "markdown",
   "metadata": {},
   "source": [
    "Let's define train function.  \n",
    "\n",
    "Use the **get_pseudo_labels** function to get the new training set, then construct a new data loader for training.\n",
    "\n",
    "It will iterate input data 1 epoch and update model with optmizer.  \n",
    "\n",
    "Finally, calculate mean loss and total accuracy."
   ]
  },
  {
   "cell_type": "code",
   "execution_count": 43,
   "metadata": {
    "ExecuteTime": {
     "end_time": "2023-11-01T05:59:20.383014Z",
     "start_time": "2023-11-01T05:56:41.625997Z"
    }
   },
   "outputs": [
    {
     "data": {
      "text/plain": "  0%|          | 0/1713 [00:00<?, ?it/s]",
      "application/vnd.jupyter.widget-view+json": {
       "version_major": 2,
       "version_minor": 0,
       "model_id": "34abe180e8794947bc1e6ea2237ba2d9"
      }
     },
     "metadata": {},
     "output_type": "display_data"
    },
    {
     "name": "stdout",
     "output_type": "stream",
     "text": [
      "[746/1713] images have been labeled.\n"
     ]
    },
    {
     "data": {
      "text/plain": "  0%|          | 0/50 [00:00<?, ?it/s]",
      "application/vnd.jupyter.widget-view+json": {
       "version_major": 2,
       "version_minor": 0,
       "model_id": "ed1508b6cca44454b40ff72b964c9f3a"
      }
     },
     "metadata": {},
     "output_type": "display_data"
    },
    {
     "name": "stdout",
     "output_type": "stream",
     "text": [
      "[ Train | 001/010 ] loss = 0.40877, acc = 0.86339\n"
     ]
    },
    {
     "data": {
      "text/plain": "  0%|          | 0/27 [00:00<?, ?it/s]",
      "application/vnd.jupyter.widget-view+json": {
       "version_major": 2,
       "version_minor": 0,
       "model_id": "57f9746fbb5a4dbebe70372b89013246"
      }
     },
     "metadata": {},
     "output_type": "display_data"
    },
    {
     "name": "stdout",
     "output_type": "stream",
     "text": [
      "[ Valid | 001/010 ] loss = 0.57149, acc = 0.83317\n",
      "[ EMA Valid | 001/010 ] loss = 0.59612, acc = 0.81757\n",
      "[001/010] saving model with acc 0.833\n",
      "New best validation accuracy: 0.8332. Lowering threshold to 0.9250\n"
     ]
    },
    {
     "data": {
      "text/plain": "  0%|          | 0/1713 [00:00<?, ?it/s]",
      "application/vnd.jupyter.widget-view+json": {
       "version_major": 2,
       "version_minor": 0,
       "model_id": "1b9ed124e57741c690b91b672091d71c"
      }
     },
     "metadata": {},
     "output_type": "display_data"
    },
    {
     "name": "stdout",
     "output_type": "stream",
     "text": [
      "[859/1713] images have been labeled.\n"
     ]
    },
    {
     "data": {
      "text/plain": "  0%|          | 0/54 [00:00<?, ?it/s]",
      "application/vnd.jupyter.widget-view+json": {
       "version_major": 2,
       "version_minor": 0,
       "model_id": "4fe05990b9ee477095a5a991a949073c"
      }
     },
     "metadata": {},
     "output_type": "display_data"
    },
    {
     "name": "stdout",
     "output_type": "stream",
     "text": [
      "[ Train | 002/010 ] loss = 0.38400, acc = 0.87249\n"
     ]
    },
    {
     "data": {
      "text/plain": "  0%|          | 0/27 [00:00<?, ?it/s]",
      "application/vnd.jupyter.widget-view+json": {
       "version_major": 2,
       "version_minor": 0,
       "model_id": "59765e29e7594687a9833ff39129a45d"
      }
     },
     "metadata": {},
     "output_type": "display_data"
    },
    {
     "name": "stdout",
     "output_type": "stream",
     "text": [
      "[ Valid | 002/010 ] loss = 0.57346, acc = 0.82275\n",
      "[ EMA Valid | 002/010 ] loss = 0.59496, acc = 0.81641\n"
     ]
    },
    {
     "data": {
      "text/plain": "  0%|          | 0/1713 [00:00<?, ?it/s]",
      "application/vnd.jupyter.widget-view+json": {
       "version_major": 2,
       "version_minor": 0,
       "model_id": "2a4fd53566f24c18a79135a32f5d60dc"
      }
     },
     "metadata": {},
     "output_type": "display_data"
    },
    {
     "name": "stdout",
     "output_type": "stream",
     "text": [
      "[838/1713] images have been labeled.\n"
     ]
    },
    {
     "data": {
      "text/plain": "  0%|          | 0/53 [00:00<?, ?it/s]",
      "application/vnd.jupyter.widget-view+json": {
       "version_major": 2,
       "version_minor": 0,
       "model_id": "598b29d0517d441fa379261c550dbe2e"
      }
     },
     "metadata": {},
     "output_type": "display_data"
    },
    {
     "name": "stdout",
     "output_type": "stream",
     "text": [
      "[ Train | 003/010 ] loss = 0.38597, acc = 0.86342\n"
     ]
    },
    {
     "data": {
      "text/plain": "  0%|          | 0/27 [00:00<?, ?it/s]",
      "application/vnd.jupyter.widget-view+json": {
       "version_major": 2,
       "version_minor": 0,
       "model_id": "7b8de9257c18421f8b4960fd9507a411"
      }
     },
     "metadata": {},
     "output_type": "display_data"
    },
    {
     "name": "stdout",
     "output_type": "stream",
     "text": [
      "[ Valid | 003/010 ] loss = 0.56637, acc = 0.82622\n",
      "[ EMA Valid | 003/010 ] loss = 0.59314, acc = 0.81410\n"
     ]
    },
    {
     "data": {
      "text/plain": "  0%|          | 0/1713 [00:00<?, ?it/s]",
      "application/vnd.jupyter.widget-view+json": {
       "version_major": 2,
       "version_minor": 0,
       "model_id": "c5c969b546ee4afb839d861c46a3ec60"
      }
     },
     "metadata": {},
     "output_type": "display_data"
    },
    {
     "name": "stdout",
     "output_type": "stream",
     "text": [
      "[839/1713] images have been labeled.\n"
     ]
    },
    {
     "data": {
      "text/plain": "  0%|          | 0/53 [00:00<?, ?it/s]",
      "application/vnd.jupyter.widget-view+json": {
       "version_major": 2,
       "version_minor": 0,
       "model_id": "0e05a7854a964dd185e8110cb2ff8fb3"
      }
     },
     "metadata": {},
     "output_type": "display_data"
    },
    {
     "name": "stdout",
     "output_type": "stream",
     "text": [
      "[ Train | 004/010 ] loss = 0.34550, acc = 0.87317\n"
     ]
    },
    {
     "data": {
      "text/plain": "  0%|          | 0/27 [00:00<?, ?it/s]",
      "application/vnd.jupyter.widget-view+json": {
       "version_major": 2,
       "version_minor": 0,
       "model_id": "2394864cb7a8438b85ec1d39d92eb762"
      }
     },
     "metadata": {},
     "output_type": "display_data"
    },
    {
     "name": "stdout",
     "output_type": "stream",
     "text": [
      "[ Valid | 004/010 ] loss = 0.56304, acc = 0.82738\n",
      "[ EMA Valid | 004/010 ] loss = 0.59057, acc = 0.81294\n"
     ]
    },
    {
     "data": {
      "text/plain": "  0%|          | 0/1713 [00:00<?, ?it/s]",
      "application/vnd.jupyter.widget-view+json": {
       "version_major": 2,
       "version_minor": 0,
       "model_id": "0953c737650b4bb0a62a734ccb4ed016"
      }
     },
     "metadata": {},
     "output_type": "display_data"
    },
    {
     "name": "stdout",
     "output_type": "stream",
     "text": [
      "[838/1713] images have been labeled.\n"
     ]
    },
    {
     "data": {
      "text/plain": "  0%|          | 0/53 [00:00<?, ?it/s]",
      "application/vnd.jupyter.widget-view+json": {
       "version_major": 2,
       "version_minor": 0,
       "model_id": "3db3b5a12a2c46dd99d6db6841b1c99d"
      }
     },
     "metadata": {},
     "output_type": "display_data"
    },
    {
     "name": "stdout",
     "output_type": "stream",
     "text": [
      "[ Train | 005/010 ] loss = 0.36092, acc = 0.87417\n"
     ]
    },
    {
     "data": {
      "text/plain": "  0%|          | 0/27 [00:00<?, ?it/s]",
      "application/vnd.jupyter.widget-view+json": {
       "version_major": 2,
       "version_minor": 0,
       "model_id": "cd5f157b83e74bd2a52fe7e0c6c86a6f"
      }
     },
     "metadata": {},
     "output_type": "display_data"
    },
    {
     "name": "stdout",
     "output_type": "stream",
     "text": [
      "[ Valid | 005/010 ] loss = 0.54964, acc = 0.82330\n",
      "[ EMA Valid | 005/010 ] loss = 0.58773, acc = 0.81063\n"
     ]
    },
    {
     "data": {
      "text/plain": "  0%|          | 0/1713 [00:00<?, ?it/s]",
      "application/vnd.jupyter.widget-view+json": {
       "version_major": 2,
       "version_minor": 0,
       "model_id": "8176585965284d73a9234186baae7513"
      }
     },
     "metadata": {},
     "output_type": "display_data"
    },
    {
     "name": "stdout",
     "output_type": "stream",
     "text": [
      "[809/1713] images have been labeled.\n"
     ]
    },
    {
     "data": {
      "text/plain": "  0%|          | 0/52 [00:00<?, ?it/s]",
      "application/vnd.jupyter.widget-view+json": {
       "version_major": 2,
       "version_minor": 0,
       "model_id": "3ac400036cab4a169f82b729f09d14b7"
      }
     },
     "metadata": {},
     "output_type": "display_data"
    },
    {
     "name": "stdout",
     "output_type": "stream",
     "text": [
      "[ Train | 006/010 ] loss = 0.32289, acc = 0.89627\n"
     ]
    },
    {
     "data": {
      "text/plain": "  0%|          | 0/27 [00:00<?, ?it/s]",
      "application/vnd.jupyter.widget-view+json": {
       "version_major": 2,
       "version_minor": 0,
       "model_id": "0fbca89b6f33400ba0b2077fdfaab742"
      }
     },
     "metadata": {},
     "output_type": "display_data"
    },
    {
     "name": "stdout",
     "output_type": "stream",
     "text": [
      "[ Valid | 006/010 ] loss = 0.56540, acc = 0.82330\n",
      "[ EMA Valid | 006/010 ] loss = 0.58405, acc = 0.81178\n",
      "Early stopping.\n"
     ]
    }
   ],
   "source": [
    "import sys\n",
    "sys.setrecursionlimit(1000000)\n",
    "#########################################################################################################\n",
    "#         You can adjust those hyper parameters like epochs or threshlod for training                   #\n",
    "#########################################################################################################\n",
    "n_epochs = 10               # Number of epochs for training\n",
    "best_acc = 0                # Initialize with a small value\n",
    "early_stopping_counter = 0  # Counter for early stopping\n",
    "early_stopping_limit = 5    # Number of epochs to wait for improvement\n",
    "threshold = 0.95            # Threshold for pseudo-labeling\n",
    "threshold_decay = 0.025     # Decay rate for the threshold\n",
    "min_threshold = 0.8         # Minimum threshold for pseudo-labeling\n",
    "ema_decay = 0.999           # Decay rate for the EMA\n",
    "\n",
    "\n",
    "train_set = FlowerData('train_labeled_dataset.csv', mode='train', transform=transforms_train)\n",
    "get_pseudo_labels(ema_model, threshold=threshold)\n",
    "\n",
    "def update_ema_weights(model, ema_model, ema_decay):\n",
    "    \"\"\"\n",
    "    Update the weights of the ema_model based on the weights of the main model.\n",
    "\n",
    "    Parameters:\n",
    "    - model (torch.nn.Module): Main model whose weights are used for the update.\n",
    "    - ema_model (torch.nn.Module): Model to be updated.\n",
    "    - ema_decay (float): Decay rate for the EMA.\n",
    "    \"\"\"\n",
    "    for model_params, ema_params in zip(model.parameters(), ema_model.parameters()):\n",
    "        ema_params.data.mul_(ema_decay).add_(model_params.data, alpha=1 - ema_decay)\n",
    "\n",
    "\n",
    "for epoch in range(n_epochs):\n",
    "    #########################################################################################################\n",
    "    #    TODO:                                                                                              #\n",
    "    #    In each epoch, relabel the unlabeled dataset for semi-supervised learning.                         #\n",
    "    #    1. Obtain pseudo-labels for unlabeled data using trained model.(use get_pseudo_labels function)    #\n",
    "    #    2. Construct a new dataset and a data loader for training.                                         #\n",
    "    #    You can try different way to use the get_pseudo_label function maybe will get the better result.   #                                  #\n",
    "    #########################################################################################################\n",
    "    global train_set, threshold\n",
    "\n",
    "    # Create a new data loader for training\n",
    "    train_loader = DataLoader(train_set, batch_size=batch_size, num_workers=num_workers, shuffle=True)\n",
    "    #########################################################################################################  \n",
    "    #                                          End of your code                                             #\n",
    "    #########################################################################################################\n",
    "\n",
    "    # ---------- Training ----------\n",
    "    model.train()\n",
    "    \n",
    "    train_loss = []\n",
    "    train_accs = []\n",
    "\n",
    "    for batch in tqdm(train_loader):\n",
    "        imgs, labels = batch\n",
    "\n",
    "        # Forward propagation\n",
    "        logits = model(imgs.to(device))\n",
    "\n",
    "        # Get loss\n",
    "        loss = criterion(logits, labels.to(device))\n",
    "        optimizer.zero_grad()\n",
    "        loss.backward()\n",
    "\n",
    "        # Gradient clipping\n",
    "        grad_norm = nn.utils.clip_grad_norm_(model.parameters(), max_norm=10)\n",
    "        optimizer.step()\n",
    "\n",
    "        # Update EMA weights\n",
    "        update_ema_weights(model, ema_model, ema_decay)\n",
    "\n",
    "        # Evaluation\n",
    "        acc = (logits.argmax(dim=-1) == labels.to(device)).float().mean()\n",
    "\n",
    "        train_loss.append(loss.item())\n",
    "        train_accs.append(acc)\n",
    "\n",
    "    train_loss = sum(train_loss) / len(train_loss)\n",
    "    train_acc = sum(train_accs) / len(train_accs)\n",
    "\n",
    "    print(f\"[ Train | {epoch + 1:03d}/{n_epochs:03d} ] loss = {train_loss:.5f}, acc = {train_acc:.5f}\")\n",
    "\n",
    "    # ---------- Validation ----------\n",
    "    model.eval()\n",
    "    ema_model.eval()\n",
    "\n",
    "    valid_loss = []\n",
    "    valid_accs = []\n",
    "    valid_loss_ema = []\n",
    "    valid_accs_ema = []\n",
    "\n",
    "    for batch in tqdm(valid_loader):\n",
    "\n",
    "        imgs, labels = batch\n",
    "\n",
    "        with torch.no_grad():\n",
    "            logits = model(imgs.to(device))\n",
    "            logits_ema = ema_model(imgs.to(device))\n",
    "\n",
    "        loss = criterion(logits, labels.to(device))\n",
    "        loss_ema = criterion(logits_ema, labels.to(device))\n",
    "\n",
    "        acc = (logits.argmax(dim=-1) == labels.to(device)).float().mean()\n",
    "        acc_ema = (logits_ema.argmax(dim=-1) == labels.to(device)).float().mean()\n",
    "\n",
    "        valid_loss.append(loss.item())\n",
    "        valid_accs.append(acc)\n",
    "\n",
    "        valid_loss_ema.append(loss_ema.item())\n",
    "        valid_accs_ema.append(acc_ema)\n",
    "\n",
    "    valid_loss = sum(valid_loss) / len(valid_loss)\n",
    "    valid_acc = sum(valid_accs) / len(valid_accs)\n",
    "\n",
    "    valid_loss_ema = sum(valid_loss_ema) / len(valid_loss_ema)\n",
    "    valid_acc_ema = sum(valid_accs_ema) / len(valid_accs_ema)\n",
    "\n",
    "    scheduler.step(valid_loss)\n",
    "\n",
    "    print(f\"[ Valid | {epoch + 1:03d}/{n_epochs:03d} ] loss = {valid_loss:.5f}, acc = {valid_acc:.5f}\")\n",
    "    print(f\"[ EMA Valid | {epoch + 1:03d}/{n_epochs:03d} ] loss = {valid_loss_ema:.5f}, acc = {valid_acc_ema:.5f}\")\n",
    "\n",
    "    # Save the best model\n",
    "    if valid_acc > best_acc:\n",
    "        best_acc = valid_acc\n",
    "        torch.save(model.state_dict(), 'NAME_OF_SELF_TRAINING_EXPERIMENT.pt')\n",
    "        print('[{:03d}/{:03d}] saving model with acc {:.3f}'.format(epoch + 1, n_epochs, best_acc))\n",
    "        # Lower the threshold if the model improves on the validation set\n",
    "        early_stopping_counter = 0\n",
    "        threshold = max(min_threshold, threshold - threshold_decay)\n",
    "        print(f\"New best validation accuracy: {best_acc:.4f}. Lowering threshold to {threshold:.4f}\")\n",
    "\n",
    "    # Early stopping\n",
    "    if valid_acc < best_acc:\n",
    "        early_stopping_counter += 1\n",
    "\n",
    "        if early_stopping_counter >= early_stopping_limit:\n",
    "            print(\"Early stopping.\")\n",
    "            break\n",
    "\n",
    "    train_set = FlowerData('train_labeled_dataset.csv', mode='train', transform=transforms_train)\n",
    "    get_pseudo_labels(ema_model if valid_acc_ema > valid_acc else model, threshold=threshold)\n",
    "#########################################################################################################\n",
    "#                               End of your code                                                        #\n",
    "#########################################################################################################\n"
   ]
  },
  {
   "cell_type": "code",
   "execution_count": 22,
   "outputs": [
    {
     "data": {
      "text/plain": "  0%|          | 0/53 [00:00<?, ?it/s]",
      "application/vnd.jupyter.widget-view+json": {
       "version_major": 2,
       "version_minor": 0,
       "model_id": "c0d24a8f0434488195bceb0c5a76e003"
      }
     },
     "metadata": {},
     "output_type": "display_data"
    },
    {
     "name": "stdout",
     "output_type": "stream",
     "text": [
      "[ Train | 001/1000 ] loss = 0.44115\n"
     ]
    },
    {
     "data": {
      "text/plain": "  0%|          | 0/27 [00:00<?, ?it/s]",
      "application/vnd.jupyter.widget-view+json": {
       "version_major": 2,
       "version_minor": 0,
       "model_id": "b30f6930845945b091470d0f9a246f71"
      }
     },
     "metadata": {},
     "output_type": "display_data"
    },
    {
     "name": "stdout",
     "output_type": "stream",
     "text": [
      "[ Valid | 001/1000 ] loss = 0.59418, acc = 0.82507\n",
      "[ EMA Valid | 001/1000 ] loss = 0.57916, acc = 0.82622\n",
      "[001/1000] saving model with acc 0.825\n",
      "New best validation accuracy: 0.8251. Lowering threshold to 0.8500\n"
     ]
    },
    {
     "data": {
      "text/plain": "  0%|          | 0/53 [00:00<?, ?it/s]",
      "application/vnd.jupyter.widget-view+json": {
       "version_major": 2,
       "version_minor": 0,
       "model_id": "a8f1221c67c041deb75d677061f08409"
      }
     },
     "metadata": {},
     "output_type": "display_data"
    },
    {
     "name": "stdout",
     "output_type": "stream",
     "text": [
      "[ Train | 002/1000 ] loss = 0.40705\n"
     ]
    },
    {
     "data": {
      "text/plain": "  0%|          | 0/27 [00:00<?, ?it/s]",
      "application/vnd.jupyter.widget-view+json": {
       "version_major": 2,
       "version_minor": 0,
       "model_id": "1c435c5b4a7b43a1a8860626aa9d72cd"
      }
     },
     "metadata": {},
     "output_type": "display_data"
    },
    {
     "name": "stdout",
     "output_type": "stream",
     "text": [
      "[ Valid | 002/1000 ] loss = 0.60248, acc = 0.82446\n",
      "[ EMA Valid | 002/1000 ] loss = 0.57916, acc = 0.82622\n"
     ]
    },
    {
     "data": {
      "text/plain": "  0%|          | 0/53 [00:00<?, ?it/s]",
      "application/vnd.jupyter.widget-view+json": {
       "version_major": 2,
       "version_minor": 0,
       "model_id": "ffe5dc7db3294092919b9045058d8933"
      }
     },
     "metadata": {},
     "output_type": "display_data"
    },
    {
     "name": "stdout",
     "output_type": "stream",
     "text": [
      "[ Train | 003/1000 ] loss = 0.43744\n"
     ]
    },
    {
     "data": {
      "text/plain": "  0%|          | 0/27 [00:00<?, ?it/s]",
      "application/vnd.jupyter.widget-view+json": {
       "version_major": 2,
       "version_minor": 0,
       "model_id": "9445b10c2f98400ca69e1d0bb45e0356"
      }
     },
     "metadata": {},
     "output_type": "display_data"
    },
    {
     "name": "stdout",
     "output_type": "stream",
     "text": [
      "[ Valid | 003/1000 ] loss = 0.60178, acc = 0.83025\n",
      "[ EMA Valid | 003/1000 ] loss = 0.57916, acc = 0.82622\n",
      "[003/1000] saving model with acc 0.830\n",
      "New best validation accuracy: 0.8302. Lowering threshold to 0.8000\n"
     ]
    },
    {
     "data": {
      "text/plain": "  0%|          | 0/53 [00:00<?, ?it/s]",
      "application/vnd.jupyter.widget-view+json": {
       "version_major": 2,
       "version_minor": 0,
       "model_id": "215fa747c4ee41ab91130db7ba8fd113"
      }
     },
     "metadata": {},
     "output_type": "display_data"
    },
    {
     "name": "stdout",
     "output_type": "stream",
     "text": [
      "[ Train | 004/1000 ] loss = 0.47824\n"
     ]
    },
    {
     "data": {
      "text/plain": "  0%|          | 0/27 [00:00<?, ?it/s]",
      "application/vnd.jupyter.widget-view+json": {
       "version_major": 2,
       "version_minor": 0,
       "model_id": "b83fbdfb6aef480f99896c0a53666d20"
      }
     },
     "metadata": {},
     "output_type": "display_data"
    },
    {
     "name": "stdout",
     "output_type": "stream",
     "text": [
      "[ Valid | 004/1000 ] loss = 0.58395, acc = 0.82391\n",
      "[ EMA Valid | 004/1000 ] loss = 0.57916, acc = 0.82622\n"
     ]
    },
    {
     "data": {
      "text/plain": "  0%|          | 0/53 [00:00<?, ?it/s]",
      "application/vnd.jupyter.widget-view+json": {
       "version_major": 2,
       "version_minor": 0,
       "model_id": "90958ad794bc4c38a20b908120c5bfe4"
      }
     },
     "metadata": {},
     "output_type": "display_data"
    },
    {
     "name": "stdout",
     "output_type": "stream",
     "text": [
      "[ Train | 005/1000 ] loss = 0.46011\n"
     ]
    },
    {
     "data": {
      "text/plain": "  0%|          | 0/27 [00:00<?, ?it/s]",
      "application/vnd.jupyter.widget-view+json": {
       "version_major": 2,
       "version_minor": 0,
       "model_id": "5f3726df69ae4775ab28287be3dd9103"
      }
     },
     "metadata": {},
     "output_type": "display_data"
    },
    {
     "name": "stdout",
     "output_type": "stream",
     "text": [
      "[ Valid | 005/1000 ] loss = 0.58906, acc = 0.82970\n",
      "[ EMA Valid | 005/1000 ] loss = 0.57916, acc = 0.82622\n"
     ]
    },
    {
     "data": {
      "text/plain": "  0%|          | 0/53 [00:00<?, ?it/s]",
      "application/vnd.jupyter.widget-view+json": {
       "version_major": 2,
       "version_minor": 0,
       "model_id": "fb9abc148ee74b48b27724b9ddf0e4f6"
      }
     },
     "metadata": {},
     "output_type": "display_data"
    },
    {
     "name": "stdout",
     "output_type": "stream",
     "text": [
      "[ Train | 006/1000 ] loss = 0.47130\n"
     ]
    },
    {
     "data": {
      "text/plain": "  0%|          | 0/27 [00:00<?, ?it/s]",
      "application/vnd.jupyter.widget-view+json": {
       "version_major": 2,
       "version_minor": 0,
       "model_id": "8764cdba68264591822eeaaf0bfb4862"
      }
     },
     "metadata": {},
     "output_type": "display_data"
    },
    {
     "name": "stdout",
     "output_type": "stream",
     "text": [
      "[ Valid | 006/1000 ] loss = 0.59655, acc = 0.82738\n",
      "[ EMA Valid | 006/1000 ] loss = 0.57916, acc = 0.82622\n"
     ]
    },
    {
     "data": {
      "text/plain": "  0%|          | 0/53 [00:00<?, ?it/s]",
      "application/vnd.jupyter.widget-view+json": {
       "version_major": 2,
       "version_minor": 0,
       "model_id": "02c2b8c368fb4dabb6042831c0a91e23"
      }
     },
     "metadata": {},
     "output_type": "display_data"
    },
    {
     "name": "stdout",
     "output_type": "stream",
     "text": [
      "[ Train | 007/1000 ] loss = 0.45779\n"
     ]
    },
    {
     "data": {
      "text/plain": "  0%|          | 0/27 [00:00<?, ?it/s]",
      "application/vnd.jupyter.widget-view+json": {
       "version_major": 2,
       "version_minor": 0,
       "model_id": "ef3c53dc9a5643afb4d1efb74b5737bb"
      }
     },
     "metadata": {},
     "output_type": "display_data"
    },
    {
     "name": "stdout",
     "output_type": "stream",
     "text": [
      "[ Valid | 007/1000 ] loss = 0.58950, acc = 0.82738\n",
      "[ EMA Valid | 007/1000 ] loss = 0.57916, acc = 0.82622\n"
     ]
    },
    {
     "data": {
      "text/plain": "  0%|          | 0/53 [00:00<?, ?it/s]",
      "application/vnd.jupyter.widget-view+json": {
       "version_major": 2,
       "version_minor": 0,
       "model_id": "59822672d6e04afbb48a6803bfda4f89"
      }
     },
     "metadata": {},
     "output_type": "display_data"
    },
    {
     "name": "stdout",
     "output_type": "stream",
     "text": [
      "[ Train | 008/1000 ] loss = 0.46247\n"
     ]
    },
    {
     "data": {
      "text/plain": "  0%|          | 0/27 [00:00<?, ?it/s]",
      "application/vnd.jupyter.widget-view+json": {
       "version_major": 2,
       "version_minor": 0,
       "model_id": "be5317a3395643ef825c2ccc0238ef16"
      }
     },
     "metadata": {},
     "output_type": "display_data"
    },
    {
     "name": "stdout",
     "output_type": "stream",
     "text": [
      "[ Valid | 008/1000 ] loss = 0.60865, acc = 0.82622\n",
      "[ EMA Valid | 008/1000 ] loss = 0.57916, acc = 0.82622\n"
     ]
    },
    {
     "data": {
      "text/plain": "  0%|          | 0/53 [00:00<?, ?it/s]",
      "application/vnd.jupyter.widget-view+json": {
       "version_major": 2,
       "version_minor": 0,
       "model_id": "29d23c1bc1bc49048be2ec659fb8a9df"
      }
     },
     "metadata": {},
     "output_type": "display_data"
    },
    {
     "name": "stdout",
     "output_type": "stream",
     "text": [
      "[ Train | 009/1000 ] loss = 0.49506\n"
     ]
    },
    {
     "data": {
      "text/plain": "  0%|          | 0/27 [00:00<?, ?it/s]",
      "application/vnd.jupyter.widget-view+json": {
       "version_major": 2,
       "version_minor": 0,
       "model_id": "2289c6db79f54911b77f1867d1bbad86"
      }
     },
     "metadata": {},
     "output_type": "display_data"
    },
    {
     "name": "stdout",
     "output_type": "stream",
     "text": [
      "[ Valid | 009/1000 ] loss = 0.61255, acc = 0.82159\n",
      "[ EMA Valid | 009/1000 ] loss = 0.57916, acc = 0.82622\n"
     ]
    },
    {
     "data": {
      "text/plain": "  0%|          | 0/53 [00:00<?, ?it/s]",
      "application/vnd.jupyter.widget-view+json": {
       "version_major": 2,
       "version_minor": 0,
       "model_id": "85b2f4269b164b21aefa74b20c8258a5"
      }
     },
     "metadata": {},
     "output_type": "display_data"
    },
    {
     "name": "stdout",
     "output_type": "stream",
     "text": [
      "[ Train | 010/1000 ] loss = 0.50873\n"
     ]
    },
    {
     "data": {
      "text/plain": "  0%|          | 0/27 [00:00<?, ?it/s]",
      "application/vnd.jupyter.widget-view+json": {
       "version_major": 2,
       "version_minor": 0,
       "model_id": "3e672f2801c341ffa288f97107533275"
      }
     },
     "metadata": {},
     "output_type": "display_data"
    },
    {
     "name": "stdout",
     "output_type": "stream",
     "text": [
      "[ Valid | 010/1000 ] loss = 0.60349, acc = 0.82391\n",
      "[ EMA Valid | 010/1000 ] loss = 0.57916, acc = 0.82622\n"
     ]
    },
    {
     "data": {
      "text/plain": "  0%|          | 0/53 [00:00<?, ?it/s]",
      "application/vnd.jupyter.widget-view+json": {
       "version_major": 2,
       "version_minor": 0,
       "model_id": "f15ef2ffcd214b7a8bbfb59d1e7a80ba"
      }
     },
     "metadata": {},
     "output_type": "display_data"
    },
    {
     "name": "stdout",
     "output_type": "stream",
     "text": [
      "[ Train | 011/1000 ] loss = 0.58341\n"
     ]
    },
    {
     "data": {
      "text/plain": "  0%|          | 0/27 [00:00<?, ?it/s]",
      "application/vnd.jupyter.widget-view+json": {
       "version_major": 2,
       "version_minor": 0,
       "model_id": "ab60df7d2d394fa2964314c36192fae7"
      }
     },
     "metadata": {},
     "output_type": "display_data"
    },
    {
     "name": "stdout",
     "output_type": "stream",
     "text": [
      "[ Valid | 011/1000 ] loss = 0.58912, acc = 0.82275\n",
      "[ EMA Valid | 011/1000 ] loss = 0.57916, acc = 0.82622\n"
     ]
    },
    {
     "data": {
      "text/plain": "  0%|          | 0/53 [00:00<?, ?it/s]",
      "application/vnd.jupyter.widget-view+json": {
       "version_major": 2,
       "version_minor": 0,
       "model_id": "1b8a9fba29b74a299ac67b11bea77c8e"
      }
     },
     "metadata": {},
     "output_type": "display_data"
    },
    {
     "name": "stdout",
     "output_type": "stream",
     "text": [
      "[ Train | 012/1000 ] loss = 0.54053\n"
     ]
    },
    {
     "data": {
      "text/plain": "  0%|          | 0/27 [00:00<?, ?it/s]",
      "application/vnd.jupyter.widget-view+json": {
       "version_major": 2,
       "version_minor": 0,
       "model_id": "6d38545bc55d43fba3683e5e3682050c"
      }
     },
     "metadata": {},
     "output_type": "display_data"
    },
    {
     "name": "stdout",
     "output_type": "stream",
     "text": [
      "[ Valid | 012/1000 ] loss = 0.59733, acc = 0.82275\n",
      "[ EMA Valid | 012/1000 ] loss = 0.57916, acc = 0.82622\n"
     ]
    },
    {
     "data": {
      "text/plain": "  0%|          | 0/53 [00:00<?, ?it/s]",
      "application/vnd.jupyter.widget-view+json": {
       "version_major": 2,
       "version_minor": 0,
       "model_id": "47ebb93f1ccc4b87864f62af052b9214"
      }
     },
     "metadata": {},
     "output_type": "display_data"
    },
    {
     "name": "stdout",
     "output_type": "stream",
     "text": [
      "[ Train | 013/1000 ] loss = 0.55028\n"
     ]
    },
    {
     "data": {
      "text/plain": "  0%|          | 0/27 [00:00<?, ?it/s]",
      "application/vnd.jupyter.widget-view+json": {
       "version_major": 2,
       "version_minor": 0,
       "model_id": "9668b2f013d74cecb61c045fa6e3b2c7"
      }
     },
     "metadata": {},
     "output_type": "display_data"
    },
    {
     "name": "stdout",
     "output_type": "stream",
     "text": [
      "[ Valid | 013/1000 ] loss = 0.59702, acc = 0.82099\n",
      "[ EMA Valid | 013/1000 ] loss = 0.57916, acc = 0.82622\n"
     ]
    },
    {
     "data": {
      "text/plain": "  0%|          | 0/53 [00:00<?, ?it/s]",
      "application/vnd.jupyter.widget-view+json": {
       "version_major": 2,
       "version_minor": 0,
       "model_id": "0c8e0bdf2e3445b7b54dae0d7d97d081"
      }
     },
     "metadata": {},
     "output_type": "display_data"
    },
    {
     "name": "stdout",
     "output_type": "stream",
     "text": [
      "[ Train | 014/1000 ] loss = 0.45461\n"
     ]
    },
    {
     "data": {
      "text/plain": "  0%|          | 0/27 [00:00<?, ?it/s]",
      "application/vnd.jupyter.widget-view+json": {
       "version_major": 2,
       "version_minor": 0,
       "model_id": "9c587fe6dd684b938aa361a9e9e0d4a2"
      }
     },
     "metadata": {},
     "output_type": "display_data"
    },
    {
     "name": "stdout",
     "output_type": "stream",
     "text": [
      "[ Valid | 014/1000 ] loss = 0.59152, acc = 0.82622\n",
      "[ EMA Valid | 014/1000 ] loss = 0.57916, acc = 0.82622\n"
     ]
    },
    {
     "data": {
      "text/plain": "  0%|          | 0/53 [00:00<?, ?it/s]",
      "application/vnd.jupyter.widget-view+json": {
       "version_major": 2,
       "version_minor": 0,
       "model_id": "b0f4ddbd547d4bb283c6a2e6a6f76807"
      }
     },
     "metadata": {},
     "output_type": "display_data"
    },
    {
     "name": "stdout",
     "output_type": "stream",
     "text": [
      "[ Train | 015/1000 ] loss = 0.53695\n"
     ]
    },
    {
     "data": {
      "text/plain": "  0%|          | 0/27 [00:00<?, ?it/s]",
      "application/vnd.jupyter.widget-view+json": {
       "version_major": 2,
       "version_minor": 0,
       "model_id": "cf4b87ad4fc74c76bd10cf34a4474fd7"
      }
     },
     "metadata": {},
     "output_type": "display_data"
    },
    {
     "name": "stdout",
     "output_type": "stream",
     "text": [
      "[ Valid | 015/1000 ] loss = 0.58888, acc = 0.83085\n",
      "[ EMA Valid | 015/1000 ] loss = 0.57916, acc = 0.82622\n",
      "[015/1000] saving model with acc 0.831\n",
      "New best validation accuracy: 0.8309. Lowering threshold to 0.7500\n"
     ]
    },
    {
     "data": {
      "text/plain": "  0%|          | 0/53 [00:00<?, ?it/s]",
      "application/vnd.jupyter.widget-view+json": {
       "version_major": 2,
       "version_minor": 0,
       "model_id": "06ca31531e0c424da2e6575102bfde98"
      }
     },
     "metadata": {},
     "output_type": "display_data"
    },
    {
     "name": "stdout",
     "output_type": "stream",
     "text": [
      "[ Train | 016/1000 ] loss = 0.56302\n"
     ]
    },
    {
     "data": {
      "text/plain": "  0%|          | 0/27 [00:00<?, ?it/s]",
      "application/vnd.jupyter.widget-view+json": {
       "version_major": 2,
       "version_minor": 0,
       "model_id": "4826746e418f4c17b23f6f4576c04cbe"
      }
     },
     "metadata": {},
     "output_type": "display_data"
    },
    {
     "name": "stdout",
     "output_type": "stream",
     "text": [
      "[ Valid | 016/1000 ] loss = 0.59206, acc = 0.82622\n",
      "[ EMA Valid | 016/1000 ] loss = 0.57916, acc = 0.82622\n"
     ]
    },
    {
     "data": {
      "text/plain": "  0%|          | 0/53 [00:00<?, ?it/s]",
      "application/vnd.jupyter.widget-view+json": {
       "version_major": 2,
       "version_minor": 0,
       "model_id": "db7680a60c8d4e06973ac0493d95bee2"
      }
     },
     "metadata": {},
     "output_type": "display_data"
    },
    {
     "name": "stdout",
     "output_type": "stream",
     "text": [
      "[ Train | 017/1000 ] loss = 0.63184\n"
     ]
    },
    {
     "data": {
      "text/plain": "  0%|          | 0/27 [00:00<?, ?it/s]",
      "application/vnd.jupyter.widget-view+json": {
       "version_major": 2,
       "version_minor": 0,
       "model_id": "4fd51f6981c0447383136d53df3e6bed"
      }
     },
     "metadata": {},
     "output_type": "display_data"
    },
    {
     "name": "stdout",
     "output_type": "stream",
     "text": [
      "[ Valid | 017/1000 ] loss = 0.59883, acc = 0.82622\n",
      "[ EMA Valid | 017/1000 ] loss = 0.57916, acc = 0.82622\n"
     ]
    },
    {
     "data": {
      "text/plain": "  0%|          | 0/53 [00:00<?, ?it/s]",
      "application/vnd.jupyter.widget-view+json": {
       "version_major": 2,
       "version_minor": 0,
       "model_id": "e362b8843ff3480792715fb77b303309"
      }
     },
     "metadata": {},
     "output_type": "display_data"
    },
    {
     "name": "stdout",
     "output_type": "stream",
     "text": [
      "[ Train | 018/1000 ] loss = 0.64537\n"
     ]
    },
    {
     "data": {
      "text/plain": "  0%|          | 0/27 [00:00<?, ?it/s]",
      "application/vnd.jupyter.widget-view+json": {
       "version_major": 2,
       "version_minor": 0,
       "model_id": "b5bd139e2c5b48f49b75ea7f090ded9a"
      }
     },
     "metadata": {},
     "output_type": "display_data"
    },
    {
     "name": "stdout",
     "output_type": "stream",
     "text": [
      "[ Valid | 018/1000 ] loss = 0.58897, acc = 0.83085\n",
      "[ EMA Valid | 018/1000 ] loss = 0.57916, acc = 0.82622\n"
     ]
    },
    {
     "data": {
      "text/plain": "  0%|          | 0/53 [00:00<?, ?it/s]",
      "application/vnd.jupyter.widget-view+json": {
       "version_major": 2,
       "version_minor": 0,
       "model_id": "0cd8b423217948539fe35b4ba428da84"
      }
     },
     "metadata": {},
     "output_type": "display_data"
    },
    {
     "name": "stdout",
     "output_type": "stream",
     "text": [
      "[ Train | 019/1000 ] loss = 0.54922\n"
     ]
    },
    {
     "data": {
      "text/plain": "  0%|          | 0/27 [00:00<?, ?it/s]",
      "application/vnd.jupyter.widget-view+json": {
       "version_major": 2,
       "version_minor": 0,
       "model_id": "cb1aef8758d74368ad98715e75d20fae"
      }
     },
     "metadata": {},
     "output_type": "display_data"
    },
    {
     "name": "stdout",
     "output_type": "stream",
     "text": [
      "[ Valid | 019/1000 ] loss = 0.59272, acc = 0.82507\n",
      "[ EMA Valid | 019/1000 ] loss = 0.57916, acc = 0.82622\n"
     ]
    },
    {
     "data": {
      "text/plain": "  0%|          | 0/53 [00:00<?, ?it/s]",
      "application/vnd.jupyter.widget-view+json": {
       "version_major": 2,
       "version_minor": 0,
       "model_id": "9fa26df24f6f488fb83f1a21b4b428a9"
      }
     },
     "metadata": {},
     "output_type": "display_data"
    },
    {
     "name": "stdout",
     "output_type": "stream",
     "text": [
      "[ Train | 020/1000 ] loss = 0.60369\n"
     ]
    },
    {
     "data": {
      "text/plain": "  0%|          | 0/27 [00:00<?, ?it/s]",
      "application/vnd.jupyter.widget-view+json": {
       "version_major": 2,
       "version_minor": 0,
       "model_id": "ddbd9a52400b405482880ebeb75081ef"
      }
     },
     "metadata": {},
     "output_type": "display_data"
    },
    {
     "name": "stdout",
     "output_type": "stream",
     "text": [
      "[ Valid | 020/1000 ] loss = 0.59302, acc = 0.82507\n",
      "[ EMA Valid | 020/1000 ] loss = 0.57916, acc = 0.82622\n"
     ]
    },
    {
     "data": {
      "text/plain": "  0%|          | 0/53 [00:00<?, ?it/s]",
      "application/vnd.jupyter.widget-view+json": {
       "version_major": 2,
       "version_minor": 0,
       "model_id": "d51dba16929c49d1b12e1e73a7743f79"
      }
     },
     "metadata": {},
     "output_type": "display_data"
    },
    {
     "name": "stdout",
     "output_type": "stream",
     "text": [
      "[ Train | 021/1000 ] loss = 0.58982\n"
     ]
    },
    {
     "data": {
      "text/plain": "  0%|          | 0/27 [00:00<?, ?it/s]",
      "application/vnd.jupyter.widget-view+json": {
       "version_major": 2,
       "version_minor": 0,
       "model_id": "ea279897389b415ebae605d664b013e8"
      }
     },
     "metadata": {},
     "output_type": "display_data"
    },
    {
     "name": "stdout",
     "output_type": "stream",
     "text": [
      "[ Valid | 021/1000 ] loss = 0.58828, acc = 0.82970\n",
      "[ EMA Valid | 021/1000 ] loss = 0.57916, acc = 0.82622\n"
     ]
    },
    {
     "data": {
      "text/plain": "  0%|          | 0/53 [00:00<?, ?it/s]",
      "application/vnd.jupyter.widget-view+json": {
       "version_major": 2,
       "version_minor": 0,
       "model_id": "764bdd1b8e14478482d42924eb31252a"
      }
     },
     "metadata": {},
     "output_type": "display_data"
    },
    {
     "name": "stdout",
     "output_type": "stream",
     "text": [
      "[ Train | 022/1000 ] loss = 0.57523\n"
     ]
    },
    {
     "data": {
      "text/plain": "  0%|          | 0/27 [00:00<?, ?it/s]",
      "application/vnd.jupyter.widget-view+json": {
       "version_major": 2,
       "version_minor": 0,
       "model_id": "273602bdf5f34ef494470a93d5596d86"
      }
     },
     "metadata": {},
     "output_type": "display_data"
    },
    {
     "name": "stdout",
     "output_type": "stream",
     "text": [
      "[ Valid | 022/1000 ] loss = 0.59214, acc = 0.82507\n",
      "[ EMA Valid | 022/1000 ] loss = 0.57916, acc = 0.82622\n"
     ]
    },
    {
     "data": {
      "text/plain": "  0%|          | 0/53 [00:00<?, ?it/s]",
      "application/vnd.jupyter.widget-view+json": {
       "version_major": 2,
       "version_minor": 0,
       "model_id": "e703c2ebf95f458aad5398e683719d2d"
      }
     },
     "metadata": {},
     "output_type": "display_data"
    },
    {
     "name": "stdout",
     "output_type": "stream",
     "text": [
      "[ Train | 023/1000 ] loss = 0.55964\n"
     ]
    },
    {
     "data": {
      "text/plain": "  0%|          | 0/27 [00:00<?, ?it/s]",
      "application/vnd.jupyter.widget-view+json": {
       "version_major": 2,
       "version_minor": 0,
       "model_id": "360215ba6c034d6aba9d9aa400a6534f"
      }
     },
     "metadata": {},
     "output_type": "display_data"
    },
    {
     "name": "stdout",
     "output_type": "stream",
     "text": [
      "[ Valid | 023/1000 ] loss = 0.60999, acc = 0.81812\n",
      "[ EMA Valid | 023/1000 ] loss = 0.57916, acc = 0.82622\n"
     ]
    },
    {
     "data": {
      "text/plain": "  0%|          | 0/53 [00:00<?, ?it/s]",
      "application/vnd.jupyter.widget-view+json": {
       "version_major": 2,
       "version_minor": 0,
       "model_id": "89e51893b21149a5a889f324cca66165"
      }
     },
     "metadata": {},
     "output_type": "display_data"
    },
    {
     "name": "stdout",
     "output_type": "stream",
     "text": [
      "[ Train | 024/1000 ] loss = 0.60690\n"
     ]
    },
    {
     "data": {
      "text/plain": "  0%|          | 0/27 [00:00<?, ?it/s]",
      "application/vnd.jupyter.widget-view+json": {
       "version_major": 2,
       "version_minor": 0,
       "model_id": "636e2f4005a84b90ac586d9e2480a4f8"
      }
     },
     "metadata": {},
     "output_type": "display_data"
    },
    {
     "name": "stdout",
     "output_type": "stream",
     "text": [
      "[ Valid | 024/1000 ] loss = 0.60379, acc = 0.82507\n",
      "[ EMA Valid | 024/1000 ] loss = 0.57916, acc = 0.82622\n"
     ]
    },
    {
     "data": {
      "text/plain": "  0%|          | 0/53 [00:00<?, ?it/s]",
      "application/vnd.jupyter.widget-view+json": {
       "version_major": 2,
       "version_minor": 0,
       "model_id": "c1022f46add14258b6acebeebe0946ac"
      }
     },
     "metadata": {},
     "output_type": "display_data"
    },
    {
     "name": "stdout",
     "output_type": "stream",
     "text": [
      "[ Train | 025/1000 ] loss = 0.58192\n"
     ]
    },
    {
     "data": {
      "text/plain": "  0%|          | 0/27 [00:00<?, ?it/s]",
      "application/vnd.jupyter.widget-view+json": {
       "version_major": 2,
       "version_minor": 0,
       "model_id": "a6525325d29348bd9b8be23c97bc4ed1"
      }
     },
     "metadata": {},
     "output_type": "display_data"
    },
    {
     "name": "stdout",
     "output_type": "stream",
     "text": [
      "[ Valid | 025/1000 ] loss = 0.60210, acc = 0.82738\n",
      "[ EMA Valid | 025/1000 ] loss = 0.57916, acc = 0.82622\n"
     ]
    },
    {
     "data": {
      "text/plain": "  0%|          | 0/53 [00:00<?, ?it/s]",
      "application/vnd.jupyter.widget-view+json": {
       "version_major": 2,
       "version_minor": 0,
       "model_id": "256e71fb85ce473dbca2ecdeed26c628"
      }
     },
     "metadata": {},
     "output_type": "display_data"
    },
    {
     "name": "stdout",
     "output_type": "stream",
     "text": [
      "[ Train | 026/1000 ] loss = 0.59592\n"
     ]
    },
    {
     "data": {
      "text/plain": "  0%|          | 0/27 [00:00<?, ?it/s]",
      "application/vnd.jupyter.widget-view+json": {
       "version_major": 2,
       "version_minor": 0,
       "model_id": "4fb1109afeda44679b8532d370ad3d15"
      }
     },
     "metadata": {},
     "output_type": "display_data"
    },
    {
     "name": "stdout",
     "output_type": "stream",
     "text": [
      "[ Valid | 026/1000 ] loss = 0.60321, acc = 0.82622\n",
      "[ EMA Valid | 026/1000 ] loss = 0.57916, acc = 0.82622\n"
     ]
    },
    {
     "data": {
      "text/plain": "  0%|          | 0/53 [00:00<?, ?it/s]",
      "application/vnd.jupyter.widget-view+json": {
       "version_major": 2,
       "version_minor": 0,
       "model_id": "dd441ca92edd4b01abb66a199892a4f6"
      }
     },
     "metadata": {},
     "output_type": "display_data"
    },
    {
     "name": "stdout",
     "output_type": "stream",
     "text": [
      "[ Train | 027/1000 ] loss = 0.58033\n"
     ]
    },
    {
     "data": {
      "text/plain": "  0%|          | 0/27 [00:00<?, ?it/s]",
      "application/vnd.jupyter.widget-view+json": {
       "version_major": 2,
       "version_minor": 0,
       "model_id": "3a38a40f638443b4bfafe1ad708e3aad"
      }
     },
     "metadata": {},
     "output_type": "display_data"
    },
    {
     "name": "stdout",
     "output_type": "stream",
     "text": [
      "[ Valid | 027/1000 ] loss = 0.59841, acc = 0.82330\n",
      "[ EMA Valid | 027/1000 ] loss = 0.57916, acc = 0.82622\n"
     ]
    },
    {
     "data": {
      "text/plain": "  0%|          | 0/53 [00:00<?, ?it/s]",
      "application/vnd.jupyter.widget-view+json": {
       "version_major": 2,
       "version_minor": 0,
       "model_id": "5feddb53ef8548a9bb2adf8705d2fb7e"
      }
     },
     "metadata": {},
     "output_type": "display_data"
    },
    {
     "name": "stdout",
     "output_type": "stream",
     "text": [
      "[ Train | 028/1000 ] loss = 0.56584\n"
     ]
    },
    {
     "data": {
      "text/plain": "  0%|          | 0/27 [00:00<?, ?it/s]",
      "application/vnd.jupyter.widget-view+json": {
       "version_major": 2,
       "version_minor": 0,
       "model_id": "f2a6e12198354f70a0dc8d2b3d7fb900"
      }
     },
     "metadata": {},
     "output_type": "display_data"
    },
    {
     "name": "stdout",
     "output_type": "stream",
     "text": [
      "[ Valid | 028/1000 ] loss = 0.58993, acc = 0.83317\n",
      "[ EMA Valid | 028/1000 ] loss = 0.57916, acc = 0.82622\n",
      "[028/1000] saving model with acc 0.833\n",
      "New best validation accuracy: 0.8332. Lowering threshold to 0.7000\n"
     ]
    },
    {
     "data": {
      "text/plain": "  0%|          | 0/53 [00:00<?, ?it/s]",
      "application/vnd.jupyter.widget-view+json": {
       "version_major": 2,
       "version_minor": 0,
       "model_id": "1b7c93f7c0d148019f18a57e30c5d985"
      }
     },
     "metadata": {},
     "output_type": "display_data"
    },
    {
     "name": "stdout",
     "output_type": "stream",
     "text": [
      "[ Train | 029/1000 ] loss = 0.61991\n"
     ]
    },
    {
     "data": {
      "text/plain": "  0%|          | 0/27 [00:00<?, ?it/s]",
      "application/vnd.jupyter.widget-view+json": {
       "version_major": 2,
       "version_minor": 0,
       "model_id": "7ae325fb8bb64f17845c2b3afcbe5f94"
      }
     },
     "metadata": {},
     "output_type": "display_data"
    },
    {
     "name": "stdout",
     "output_type": "stream",
     "text": [
      "[ Valid | 029/1000 ] loss = 0.61370, acc = 0.82159\n",
      "[ EMA Valid | 029/1000 ] loss = 0.57916, acc = 0.82622\n"
     ]
    },
    {
     "data": {
      "text/plain": "  0%|          | 0/53 [00:00<?, ?it/s]",
      "application/vnd.jupyter.widget-view+json": {
       "version_major": 2,
       "version_minor": 0,
       "model_id": "6c5f0ff971c2499587808c023d02a659"
      }
     },
     "metadata": {},
     "output_type": "display_data"
    },
    {
     "name": "stdout",
     "output_type": "stream",
     "text": [
      "[ Train | 030/1000 ] loss = 0.60494\n"
     ]
    },
    {
     "data": {
      "text/plain": "  0%|          | 0/27 [00:00<?, ?it/s]",
      "application/vnd.jupyter.widget-view+json": {
       "version_major": 2,
       "version_minor": 0,
       "model_id": "032f05ab619b49b5a88c90001ae5c2b9"
      }
     },
     "metadata": {},
     "output_type": "display_data"
    },
    {
     "name": "stdout",
     "output_type": "stream",
     "text": [
      "[ Valid | 030/1000 ] loss = 0.59940, acc = 0.82507\n",
      "[ EMA Valid | 030/1000 ] loss = 0.57916, acc = 0.82622\n"
     ]
    },
    {
     "data": {
      "text/plain": "  0%|          | 0/53 [00:00<?, ?it/s]",
      "application/vnd.jupyter.widget-view+json": {
       "version_major": 2,
       "version_minor": 0,
       "model_id": "251108cfb2cc4ea8b0324528a240544e"
      }
     },
     "metadata": {},
     "output_type": "display_data"
    },
    {
     "name": "stdout",
     "output_type": "stream",
     "text": [
      "[ Train | 031/1000 ] loss = 0.56870\n"
     ]
    },
    {
     "data": {
      "text/plain": "  0%|          | 0/27 [00:00<?, ?it/s]",
      "application/vnd.jupyter.widget-view+json": {
       "version_major": 2,
       "version_minor": 0,
       "model_id": "d98da5e7b3c04006a8b9e7037c6f5803"
      }
     },
     "metadata": {},
     "output_type": "display_data"
    },
    {
     "name": "stdout",
     "output_type": "stream",
     "text": [
      "[ Valid | 031/1000 ] loss = 0.60028, acc = 0.82622\n",
      "[ EMA Valid | 031/1000 ] loss = 0.57916, acc = 0.82622\n"
     ]
    },
    {
     "data": {
      "text/plain": "  0%|          | 0/53 [00:00<?, ?it/s]",
      "application/vnd.jupyter.widget-view+json": {
       "version_major": 2,
       "version_minor": 0,
       "model_id": "f5338f93fb8c4251a939870af25649a7"
      }
     },
     "metadata": {},
     "output_type": "display_data"
    },
    {
     "name": "stdout",
     "output_type": "stream",
     "text": [
      "[ Train | 032/1000 ] loss = 0.61323\n"
     ]
    },
    {
     "data": {
      "text/plain": "  0%|          | 0/27 [00:00<?, ?it/s]",
      "application/vnd.jupyter.widget-view+json": {
       "version_major": 2,
       "version_minor": 0,
       "model_id": "598e01ee99eb488192f561897a99406f"
      }
     },
     "metadata": {},
     "output_type": "display_data"
    },
    {
     "name": "stdout",
     "output_type": "stream",
     "text": [
      "[ Valid | 032/1000 ] loss = 0.60072, acc = 0.82275\n",
      "[ EMA Valid | 032/1000 ] loss = 0.57916, acc = 0.82622\n"
     ]
    },
    {
     "data": {
      "text/plain": "  0%|          | 0/53 [00:00<?, ?it/s]",
      "application/vnd.jupyter.widget-view+json": {
       "version_major": 2,
       "version_minor": 0,
       "model_id": "2a8f5df09a644f2189c63305cc24fc58"
      }
     },
     "metadata": {},
     "output_type": "display_data"
    },
    {
     "name": "stdout",
     "output_type": "stream",
     "text": [
      "[ Train | 033/1000 ] loss = 0.59614\n"
     ]
    },
    {
     "data": {
      "text/plain": "  0%|          | 0/27 [00:00<?, ?it/s]",
      "application/vnd.jupyter.widget-view+json": {
       "version_major": 2,
       "version_minor": 0,
       "model_id": "126830444d6d4a1789b3b019c5167355"
      }
     },
     "metadata": {},
     "output_type": "display_data"
    },
    {
     "name": "stdout",
     "output_type": "stream",
     "text": [
      "[ Valid | 033/1000 ] loss = 0.58878, acc = 0.82562\n",
      "[ EMA Valid | 033/1000 ] loss = 0.57916, acc = 0.82622\n"
     ]
    },
    {
     "data": {
      "text/plain": "  0%|          | 0/53 [00:00<?, ?it/s]",
      "application/vnd.jupyter.widget-view+json": {
       "version_major": 2,
       "version_minor": 0,
       "model_id": "302adcb6d0244631bbfb26cb6bc79ef2"
      }
     },
     "metadata": {},
     "output_type": "display_data"
    },
    {
     "name": "stdout",
     "output_type": "stream",
     "text": [
      "[ Train | 034/1000 ] loss = 0.57044\n"
     ]
    },
    {
     "data": {
      "text/plain": "  0%|          | 0/27 [00:00<?, ?it/s]",
      "application/vnd.jupyter.widget-view+json": {
       "version_major": 2,
       "version_minor": 0,
       "model_id": "984262ab0bbc4d9a99fb013b4d45bee6"
      }
     },
     "metadata": {},
     "output_type": "display_data"
    },
    {
     "name": "stdout",
     "output_type": "stream",
     "text": [
      "[ Valid | 034/1000 ] loss = 0.60394, acc = 0.82507\n",
      "[ EMA Valid | 034/1000 ] loss = 0.57916, acc = 0.82622\n"
     ]
    },
    {
     "data": {
      "text/plain": "  0%|          | 0/53 [00:00<?, ?it/s]",
      "application/vnd.jupyter.widget-view+json": {
       "version_major": 2,
       "version_minor": 0,
       "model_id": "576dc45ec8a0465883f2e9069c3ee4cb"
      }
     },
     "metadata": {},
     "output_type": "display_data"
    },
    {
     "name": "stdout",
     "output_type": "stream",
     "text": [
      "[ Train | 035/1000 ] loss = 0.60874\n"
     ]
    },
    {
     "data": {
      "text/plain": "  0%|          | 0/27 [00:00<?, ?it/s]",
      "application/vnd.jupyter.widget-view+json": {
       "version_major": 2,
       "version_minor": 0,
       "model_id": "442a2620d940456580b0feae5ba177da"
      }
     },
     "metadata": {},
     "output_type": "display_data"
    },
    {
     "name": "stdout",
     "output_type": "stream",
     "text": [
      "[ Valid | 035/1000 ] loss = 0.59328, acc = 0.83201\n",
      "[ EMA Valid | 035/1000 ] loss = 0.57916, acc = 0.82622\n"
     ]
    },
    {
     "data": {
      "text/plain": "  0%|          | 0/53 [00:00<?, ?it/s]",
      "application/vnd.jupyter.widget-view+json": {
       "version_major": 2,
       "version_minor": 0,
       "model_id": "66f810e9bb0d4c2aab3ba3af139a00d7"
      }
     },
     "metadata": {},
     "output_type": "display_data"
    },
    {
     "name": "stdout",
     "output_type": "stream",
     "text": [
      "[ Train | 036/1000 ] loss = 0.61046\n"
     ]
    },
    {
     "data": {
      "text/plain": "  0%|          | 0/27 [00:00<?, ?it/s]",
      "application/vnd.jupyter.widget-view+json": {
       "version_major": 2,
       "version_minor": 0,
       "model_id": "b25a5776c214465f8e356982ee291ab7"
      }
     },
     "metadata": {},
     "output_type": "display_data"
    },
    {
     "name": "stdout",
     "output_type": "stream",
     "text": [
      "[ Valid | 036/1000 ] loss = 0.59968, acc = 0.82391\n",
      "[ EMA Valid | 036/1000 ] loss = 0.57916, acc = 0.82622\n"
     ]
    },
    {
     "data": {
      "text/plain": "  0%|          | 0/53 [00:00<?, ?it/s]",
      "application/vnd.jupyter.widget-view+json": {
       "version_major": 2,
       "version_minor": 0,
       "model_id": "89ae418bf4da4891803112bcace29a83"
      }
     },
     "metadata": {},
     "output_type": "display_data"
    },
    {
     "name": "stdout",
     "output_type": "stream",
     "text": [
      "[ Train | 037/1000 ] loss = 0.60256\n"
     ]
    },
    {
     "data": {
      "text/plain": "  0%|          | 0/27 [00:00<?, ?it/s]",
      "application/vnd.jupyter.widget-view+json": {
       "version_major": 2,
       "version_minor": 0,
       "model_id": "15d7972b65d144ecbc3b3937889b87e3"
      }
     },
     "metadata": {},
     "output_type": "display_data"
    },
    {
     "name": "stdout",
     "output_type": "stream",
     "text": [
      "[ Valid | 037/1000 ] loss = 0.58548, acc = 0.82391\n",
      "[ EMA Valid | 037/1000 ] loss = 0.57916, acc = 0.82622\n"
     ]
    },
    {
     "data": {
      "text/plain": "  0%|          | 0/53 [00:00<?, ?it/s]",
      "application/vnd.jupyter.widget-view+json": {
       "version_major": 2,
       "version_minor": 0,
       "model_id": "2004fe3d576e4a10b5bf54418264e55d"
      }
     },
     "metadata": {},
     "output_type": "display_data"
    },
    {
     "name": "stdout",
     "output_type": "stream",
     "text": [
      "[ Train | 038/1000 ] loss = 0.57958\n"
     ]
    },
    {
     "data": {
      "text/plain": "  0%|          | 0/27 [00:00<?, ?it/s]",
      "application/vnd.jupyter.widget-view+json": {
       "version_major": 2,
       "version_minor": 0,
       "model_id": "3a7532e59ad649ea9b5c1f63c7f86190"
      }
     },
     "metadata": {},
     "output_type": "display_data"
    },
    {
     "name": "stdout",
     "output_type": "stream",
     "text": [
      "[ Valid | 038/1000 ] loss = 0.60366, acc = 0.81812\n",
      "[ EMA Valid | 038/1000 ] loss = 0.57916, acc = 0.82622\n"
     ]
    },
    {
     "data": {
      "text/plain": "  0%|          | 0/53 [00:00<?, ?it/s]",
      "application/vnd.jupyter.widget-view+json": {
       "version_major": 2,
       "version_minor": 0,
       "model_id": "2a8f7084c84e422ea7d36ed6e14342a9"
      }
     },
     "metadata": {},
     "output_type": "display_data"
    },
    {
     "name": "stdout",
     "output_type": "stream",
     "text": [
      "[ Train | 039/1000 ] loss = 0.65347\n"
     ]
    },
    {
     "data": {
      "text/plain": "  0%|          | 0/27 [00:00<?, ?it/s]",
      "application/vnd.jupyter.widget-view+json": {
       "version_major": 2,
       "version_minor": 0,
       "model_id": "219cb14938b148c5a897e3e177a674de"
      }
     },
     "metadata": {},
     "output_type": "display_data"
    },
    {
     "name": "stdout",
     "output_type": "stream",
     "text": [
      "[ Valid | 039/1000 ] loss = 0.58668, acc = 0.83085\n",
      "[ EMA Valid | 039/1000 ] loss = 0.57916, acc = 0.82622\n"
     ]
    },
    {
     "data": {
      "text/plain": "  0%|          | 0/53 [00:00<?, ?it/s]",
      "application/vnd.jupyter.widget-view+json": {
       "version_major": 2,
       "version_minor": 0,
       "model_id": "af6d61a3ca644e75b5c43df35dc54ba4"
      }
     },
     "metadata": {},
     "output_type": "display_data"
    },
    {
     "name": "stdout",
     "output_type": "stream",
     "text": [
      "[ Train | 040/1000 ] loss = 0.63289\n"
     ]
    },
    {
     "data": {
      "text/plain": "  0%|          | 0/27 [00:00<?, ?it/s]",
      "application/vnd.jupyter.widget-view+json": {
       "version_major": 2,
       "version_minor": 0,
       "model_id": "6e7067abbf5346a3839584e1362a9953"
      }
     },
     "metadata": {},
     "output_type": "display_data"
    },
    {
     "name": "stdout",
     "output_type": "stream",
     "text": [
      "[ Valid | 040/1000 ] loss = 0.59472, acc = 0.82622\n",
      "[ EMA Valid | 040/1000 ] loss = 0.57916, acc = 0.82622\n"
     ]
    },
    {
     "data": {
      "text/plain": "  0%|          | 0/53 [00:00<?, ?it/s]",
      "application/vnd.jupyter.widget-view+json": {
       "version_major": 2,
       "version_minor": 0,
       "model_id": "020489544856467a9f1bf2366b89cea4"
      }
     },
     "metadata": {},
     "output_type": "display_data"
    },
    {
     "name": "stdout",
     "output_type": "stream",
     "text": [
      "[ Train | 041/1000 ] loss = 0.55046\n"
     ]
    },
    {
     "data": {
      "text/plain": "  0%|          | 0/27 [00:00<?, ?it/s]",
      "application/vnd.jupyter.widget-view+json": {
       "version_major": 2,
       "version_minor": 0,
       "model_id": "30a2d5c25440447cb0dc2d316c1633c8"
      }
     },
     "metadata": {},
     "output_type": "display_data"
    },
    {
     "name": "stdout",
     "output_type": "stream",
     "text": [
      "[ Valid | 041/1000 ] loss = 0.59391, acc = 0.82330\n",
      "[ EMA Valid | 041/1000 ] loss = 0.57916, acc = 0.82622\n"
     ]
    },
    {
     "data": {
      "text/plain": "  0%|          | 0/53 [00:00<?, ?it/s]",
      "application/vnd.jupyter.widget-view+json": {
       "version_major": 2,
       "version_minor": 0,
       "model_id": "3852a4597b3045db985ae1cd5026b1f8"
      }
     },
     "metadata": {},
     "output_type": "display_data"
    },
    {
     "name": "stdout",
     "output_type": "stream",
     "text": [
      "[ Train | 042/1000 ] loss = 0.62640\n"
     ]
    },
    {
     "data": {
      "text/plain": "  0%|          | 0/27 [00:00<?, ?it/s]",
      "application/vnd.jupyter.widget-view+json": {
       "version_major": 2,
       "version_minor": 0,
       "model_id": "3e7ead8134e34d2d932f9087cc4f6592"
      }
     },
     "metadata": {},
     "output_type": "display_data"
    },
    {
     "name": "stdout",
     "output_type": "stream",
     "text": [
      "[ Valid | 042/1000 ] loss = 0.59472, acc = 0.82970\n",
      "[ EMA Valid | 042/1000 ] loss = 0.57916, acc = 0.82622\n"
     ]
    },
    {
     "data": {
      "text/plain": "  0%|          | 0/53 [00:00<?, ?it/s]",
      "application/vnd.jupyter.widget-view+json": {
       "version_major": 2,
       "version_minor": 0,
       "model_id": "354fdfc59b6a44afa1e6397035051789"
      }
     },
     "metadata": {},
     "output_type": "display_data"
    },
    {
     "name": "stdout",
     "output_type": "stream",
     "text": [
      "[ Train | 043/1000 ] loss = 0.56278\n"
     ]
    },
    {
     "data": {
      "text/plain": "  0%|          | 0/27 [00:00<?, ?it/s]",
      "application/vnd.jupyter.widget-view+json": {
       "version_major": 2,
       "version_minor": 0,
       "model_id": "ac8524d7dfa64c34ab6af7058d874ca4"
      }
     },
     "metadata": {},
     "output_type": "display_data"
    },
    {
     "name": "stdout",
     "output_type": "stream",
     "text": [
      "[ Valid | 043/1000 ] loss = 0.59367, acc = 0.82391\n",
      "[ EMA Valid | 043/1000 ] loss = 0.57916, acc = 0.82622\n"
     ]
    },
    {
     "data": {
      "text/plain": "  0%|          | 0/53 [00:00<?, ?it/s]",
      "application/vnd.jupyter.widget-view+json": {
       "version_major": 2,
       "version_minor": 0,
       "model_id": "48c886eb662b49568207127c162fc5bc"
      }
     },
     "metadata": {},
     "output_type": "display_data"
    },
    {
     "name": "stdout",
     "output_type": "stream",
     "text": [
      "[ Train | 044/1000 ] loss = 0.59289\n"
     ]
    },
    {
     "data": {
      "text/plain": "  0%|          | 0/27 [00:00<?, ?it/s]",
      "application/vnd.jupyter.widget-view+json": {
       "version_major": 2,
       "version_minor": 0,
       "model_id": "038e08a6c4274faaa479c03ca0cd7226"
      }
     },
     "metadata": {},
     "output_type": "display_data"
    },
    {
     "name": "stdout",
     "output_type": "stream",
     "text": [
      "[ Valid | 044/1000 ] loss = 0.59117, acc = 0.82507\n",
      "[ EMA Valid | 044/1000 ] loss = 0.57916, acc = 0.82622\n"
     ]
    },
    {
     "data": {
      "text/plain": "  0%|          | 0/53 [00:00<?, ?it/s]",
      "application/vnd.jupyter.widget-view+json": {
       "version_major": 2,
       "version_minor": 0,
       "model_id": "0b2ff6856670407199c4424963cbe62d"
      }
     },
     "metadata": {},
     "output_type": "display_data"
    },
    {
     "name": "stdout",
     "output_type": "stream",
     "text": [
      "[ Train | 045/1000 ] loss = 0.67270\n"
     ]
    },
    {
     "data": {
      "text/plain": "  0%|          | 0/27 [00:00<?, ?it/s]",
      "application/vnd.jupyter.widget-view+json": {
       "version_major": 2,
       "version_minor": 0,
       "model_id": "787370206ee54a4c90282932f22176fe"
      }
     },
     "metadata": {},
     "output_type": "display_data"
    },
    {
     "name": "stdout",
     "output_type": "stream",
     "text": [
      "[ Valid | 045/1000 ] loss = 0.60321, acc = 0.82275\n",
      "[ EMA Valid | 045/1000 ] loss = 0.57916, acc = 0.82622\n"
     ]
    },
    {
     "data": {
      "text/plain": "  0%|          | 0/53 [00:00<?, ?it/s]",
      "application/vnd.jupyter.widget-view+json": {
       "version_major": 2,
       "version_minor": 0,
       "model_id": "04cdf0afff3443d1b5439eda4c8cfe1b"
      }
     },
     "metadata": {},
     "output_type": "display_data"
    },
    {
     "name": "stdout",
     "output_type": "stream",
     "text": [
      "[ Train | 046/1000 ] loss = 0.63608\n"
     ]
    },
    {
     "data": {
      "text/plain": "  0%|          | 0/27 [00:00<?, ?it/s]",
      "application/vnd.jupyter.widget-view+json": {
       "version_major": 2,
       "version_minor": 0,
       "model_id": "8f71081139ac483aa4032e1eb39ee2b1"
      }
     },
     "metadata": {},
     "output_type": "display_data"
    },
    {
     "name": "stdout",
     "output_type": "stream",
     "text": [
      "[ Valid | 046/1000 ] loss = 0.60606, acc = 0.82044\n",
      "[ EMA Valid | 046/1000 ] loss = 0.57916, acc = 0.82622\n"
     ]
    },
    {
     "data": {
      "text/plain": "  0%|          | 0/53 [00:00<?, ?it/s]",
      "application/vnd.jupyter.widget-view+json": {
       "version_major": 2,
       "version_minor": 0,
       "model_id": "3867462c975c4930a035eb6a8e1e76c2"
      }
     },
     "metadata": {},
     "output_type": "display_data"
    },
    {
     "name": "stdout",
     "output_type": "stream",
     "text": [
      "[ Train | 047/1000 ] loss = 0.61274\n"
     ]
    },
    {
     "data": {
      "text/plain": "  0%|          | 0/27 [00:00<?, ?it/s]",
      "application/vnd.jupyter.widget-view+json": {
       "version_major": 2,
       "version_minor": 0,
       "model_id": "f7bce46e754740aca4b2dd0891dab606"
      }
     },
     "metadata": {},
     "output_type": "display_data"
    },
    {
     "name": "stdout",
     "output_type": "stream",
     "text": [
      "[ Valid | 047/1000 ] loss = 0.61225, acc = 0.82159\n",
      "[ EMA Valid | 047/1000 ] loss = 0.57916, acc = 0.82622\n"
     ]
    },
    {
     "data": {
      "text/plain": "  0%|          | 0/53 [00:00<?, ?it/s]",
      "application/vnd.jupyter.widget-view+json": {
       "version_major": 2,
       "version_minor": 0,
       "model_id": "70dd0726356b464cab0ebef27b6f96d1"
      }
     },
     "metadata": {},
     "output_type": "display_data"
    },
    {
     "name": "stdout",
     "output_type": "stream",
     "text": [
      "[ Train | 048/1000 ] loss = 0.57823\n"
     ]
    },
    {
     "data": {
      "text/plain": "  0%|          | 0/27 [00:00<?, ?it/s]",
      "application/vnd.jupyter.widget-view+json": {
       "version_major": 2,
       "version_minor": 0,
       "model_id": "d05104712d1b4713bd728ff0d57f4183"
      }
     },
     "metadata": {},
     "output_type": "display_data"
    },
    {
     "name": "stdout",
     "output_type": "stream",
     "text": [
      "[ Valid | 048/1000 ] loss = 0.59650, acc = 0.82391\n",
      "[ EMA Valid | 048/1000 ] loss = 0.57916, acc = 0.82622\n",
      "Early stopping.\n"
     ]
    }
   ],
   "source": [
    "import copy\n",
    "import sys\n",
    "from tqdm.auto import tqdm\n",
    "sys.setrecursionlimit(1000000)\n",
    "#########################################################################################################\n",
    "#         You can adjust those hyper parameters like epochs or threshlod for training                   #\n",
    "#########################################################################################################\n",
    "# FixMatch Semi-Supervise\n",
    "# https://arxiv.org/ftp/arxiv/papers/2001/2001.07685.pdf\n",
    "alpha = 0.9                 # Mix-up parameter\n",
    "initial_weight = 0.1        # Initial weight for the EMA model\n",
    "step = 0.1                  # Step size for the EMA model\n",
    "n_epochs = 1000             # Number of epochs to train for\n",
    "temperature = 2             # Temperature for sharpening the pseudo-labels\n",
    "threshold = 0.9             # Threshold for the pseudo-labels\n",
    "threshold_decay = 0.05      # Decay rate for the threshold\n",
    "min_threshold = 0.7         # Minimum threshold for the pseudo-labels\n",
    "early_stopping_limit = 20   # Number of epochs to wait for improvement in validation loss\n",
    "\n",
    "# ckpt = torch.load('IB-CONV_Self_Train_2023-11-01-14-58.pt')\n",
    "# model.load_state_dict(ckpt)\n",
    "\n",
    "# Copy the model\n",
    "teacher_model = copy.deepcopy(model)\n",
    "student_model = copy.deepcopy(model)\n",
    "\n",
    "# CrossEntropyLoss for classification tasks different from FixMatch\n",
    "criterion_label = nn.CrossEntropyLoss(reduction='mean').to(device)\n",
    "criterion_unlabeled = nn.CrossEntropyLoss(reduction='none').to(device)\n",
    "\n",
    "# Reset the counter\n",
    "global_step = 0\n",
    "best_acc = 0\n",
    "early_stopping_counter = 0\n",
    "\n",
    "def update_ema_weights(student_model, teacher_model, ema_decay, global_step):\n",
    "    \"\"\"\n",
    "    Update the weights of the teacher_model based on the weights of the student_model.\n",
    "\n",
    "    Parameters:\n",
    "    - student_model (torch.nn.Module): Main model (student) whose weights are used for the update.\n",
    "    - teacher_model (torch.nn.Module): Model (teacher) to be updated.\n",
    "    - ema_decay (float): Decay rate for the EMA.\n",
    "    - global_step (int): Current step in the training loop.\n",
    "\n",
    "    Returns:\n",
    "    - None\n",
    "    \"\"\"\n",
    "    # Calculate decay rate for this specific step\n",
    "    decay = min(ema_decay, (1.0 + global_step) / (10.0 + global_step))\n",
    "\n",
    "    # Update the EMA model\n",
    "    with torch.no_grad():\n",
    "        for ema_params, params in zip(teacher_model.parameters(), student_model.parameters()):\n",
    "            ema_params.data.mul_(decay).add_(params.data, alpha=1 - decay)\n",
    "\n",
    "\n",
    "# Define two different sets of transforms\n",
    "transforms_less = transforms.Compose([\n",
    "    transforms.Resize(256),                               # Resize to a fixed size\n",
    "    transforms.CenterCrop(224),                           # Center crop\n",
    "    transforms.ToTensor(),                                # Convert to tensor\n",
    "    transforms.Normalize(mean=train_mean, std=train_std)  # Normalize\n",
    "])\n",
    "transforms_more = transforms.Compose([\n",
    "    transforms.RandomResizedCrop(224),\n",
    "    transforms.RandomHorizontalFlip(),\n",
    "    transforms.RandomVerticalFlip(),\n",
    "    transforms.RandomRotation(30),\n",
    "    transforms.ColorJitter(brightness=0.2, contrast=0.2, saturation=0.2),\n",
    "    transforms.ToTensor(),\n",
    "    transforms.Normalize(mean=train_mean, std=train_std)\n",
    "])\n",
    "\n",
    "# Training loop\n",
    "for epoch in range(n_epochs):\n",
    "     #########################################################################################################\n",
    "    #    TODO:                                                                                              #\n",
    "    #    In each epoch, relabel the unlabeled dataset for semi-supervised learning.                         #\n",
    "    #    1. Obtain pseudo-labels for unlabeled data using trained model.(use get_pseudo_labels function)    #\n",
    "    #    2. Construct a new dataset and a data loader for training.                                         #\n",
    "    #    You can try different way to use the get_pseudo_label function maybe will get the better result.   #                                  #\n",
    "    #########################################################################################################\n",
    "    # Create data loaders for labeled and unlabeled data\n",
    "    labeled_loader = DataLoader(train_set, batch_size=batch_size//2, shuffle=True)\n",
    "    unlabeled_set = FlowerData('train_unlabeled_dataset.csv', mode='unlabeled_train', transform=None)\n",
    "    unlabeled_loader = DataLoader(unlabeled_set, batch_size=batch_size//2, shuffle=True, drop_last=True)\n",
    "     #########################################################################################################\n",
    "    #                                          End of your code                                             #\n",
    "    #########################################################################################################\n",
    "\n",
    "    # ---------- Training ----------\n",
    "\n",
    "    train_loss = []\n",
    "    student_model.train()\n",
    "\n",
    "    # Create tqdm object based on the data loader\n",
    "    pbar = tqdm(zip(labeled_loader, unlabeled_loader), total=len(labeled_loader))\n",
    "\n",
    "    for (labeled_batch, unlabeled_batch) in pbar:\n",
    "        # Apply the less aggressive transform to unlabeled_batch for the teacher model\n",
    "        teacher_images = [transforms_less(Image.open(img)) for img in unlabeled_batch]\n",
    "        teacher_images = torch.stack(teacher_images).to(device)\n",
    "\n",
    "        # Apply the more aggressive transform to unlabeled_batch for the student model\n",
    "        student_images = [transforms_more(Image.open(img)) for img in unlabeled_batch]\n",
    "        student_images = torch.stack(student_images).to(device)\n",
    "\n",
    "        # Prepare mixed batch\n",
    "        mixed_images = torch.cat([labeled_batch[0].to(device), student_images], dim=0)\n",
    "        labels = labeled_batch[1]  # Only the labeled part has labels\n",
    "\n",
    "        # Forward pass through a student\n",
    "        logits_student = student_model(mixed_images)\n",
    "\n",
    "        # Calculate Loss for labeled data\n",
    "        loss_labeled = criterion_label(logits_student[:len(labeled_batch[0])], labels.to(device))\n",
    "\n",
    "        with torch.no_grad():\n",
    "            # Add noise to teacher's logits\n",
    "            logits_teacher = teacher_model(teacher_images)\n",
    "\n",
    "        # Apply softmax and get the most confident predictions\n",
    "        probs = torch.softmax(logits_teacher.detach() / temperature, dim=-1)\n",
    "        max_prob, predicted_label = torch.max(probs, 1)\n",
    "        mask = max_prob.ge(threshold).float()\n",
    "\n",
    "        # Calculate Loss for unlabeled data\n",
    "        loss_unlabeled = (criterion_unlabeled(logits_student[len(labeled_batch[0]):], predicted_label) * mask).mean()\n",
    "\n",
    "        # Combine the two losses, backpropagation, and update student model\n",
    "        unlabeled_loss_weight = min(1, initial_weight + step * epoch)\n",
    "        loss = loss_labeled + unlabeled_loss_weight * loss_unlabeled\n",
    "\n",
    "        optimizer.zero_grad()\n",
    "        loss.backward()\n",
    "        optimizer.step()\n",
    "\n",
    "        # Update the EMA model\n",
    "        update_ema_weights(student_model, teacher_model, alpha, global_step)\n",
    "\n",
    "        train_loss.append(loss.item())\n",
    "\n",
    "        global_step += 1\n",
    "\n",
    "    train_loss = sum(train_loss) / len(train_loss)\n",
    "\n",
    "    print(f\"[ Train | {epoch + 1:03d}/{n_epochs:03d} ] loss = {train_loss:.5f}\")\n",
    "\n",
    "    # ---------- Validation ----------\n",
    "    student_model.eval()\n",
    "    teacher_model.eval()\n",
    "\n",
    "    valid_loss = []\n",
    "    valid_accs = []\n",
    "    valid_loss_ema = []\n",
    "    valid_accs_ema = []\n",
    "\n",
    "    # Create tqdm object based on the valid loader\n",
    "    for batch in tqdm(valid_loader):\n",
    "        imgs, labels = batch\n",
    "\n",
    "        # Forward propagation\n",
    "        with torch.no_grad():\n",
    "            logits = student_model(imgs.to(device))\n",
    "            logits_ema = teacher_model(imgs.to(device))\n",
    "\n",
    "        # Calculate loss\n",
    "        loss = criterion_label(logits, labels.to(device))\n",
    "        loss_ema = criterion_label(logits_ema, labels.to(device))\n",
    "\n",
    "        # Calculate accuracy\n",
    "        acc = (logits.argmax(dim=-1) == labels.to(device)).float().mean()\n",
    "        acc_ema = (logits_ema.argmax(dim=-1) == labels.to(device)).float().mean()\n",
    "\n",
    "        # Save the loss and accuracy\n",
    "        valid_loss.append(loss.item())\n",
    "        valid_accs.append(acc)\n",
    "\n",
    "        valid_loss_ema.append(loss_ema.item())\n",
    "        valid_accs_ema.append(acc_ema)\n",
    "\n",
    "    valid_loss = sum(valid_loss) / len(valid_loss)\n",
    "    valid_acc = sum(valid_accs) / len(valid_accs)\n",
    "\n",
    "    valid_loss_ema = sum(valid_loss_ema) / len(valid_loss_ema)\n",
    "    valid_acc_ema = sum(valid_accs_ema) / len(valid_accs_ema)\n",
    "\n",
    "    scheduler.step(valid_loss)\n",
    "\n",
    "    print(f\"[ Valid | {epoch + 1:03d}/{n_epochs:03d} ] loss = {valid_loss:.5f}, acc = {valid_acc:.5f}\")\n",
    "    print(f\"[ EMA Valid | {epoch + 1:03d}/{n_epochs:03d} ] loss = {valid_loss_ema:.5f}, acc = {valid_acc_ema:.5f}\")\n",
    "\n",
    "    # Save the model with the best validation accuracy\n",
    "    if valid_acc > best_acc:\n",
    "        best_acc = valid_acc\n",
    "        torch.save(model.state_dict(), 'FixMatchModel.pt')\n",
    "        print('[{:03d}/{:03d}] saving model with acc {:.3f}'.format(epoch + 1, n_epochs, best_acc))\n",
    "        # Lower the threshold if the model improves on the validation set\n",
    "        early_stopping_counter = 0\n",
    "        threshold = max(min_threshold, threshold - threshold_decay)\n",
    "        print(f\"New best validation accuracy: {best_acc:.4f}. Lowering threshold to {threshold:.4f}\")\n",
    "\n",
    "    # Stop training if the model does not improve for a while\n",
    "    if valid_acc < best_acc:\n",
    "        early_stopping_counter += 1\n",
    "\n",
    "        if early_stopping_counter >= early_stopping_limit:\n",
    "            print(\"Early stopping.\")\n",
    "            break\n",
    "#########################################################################################################\n",
    "#                               End of your code                                                        #\n",
    "#########################################################################################################"
   ],
   "metadata": {
    "collapsed": false,
    "ExecuteTime": {
     "end_time": "2023-11-01T10:15:05.755509900Z",
     "start_time": "2023-11-01T09:57:29.821070700Z"
    }
   }
  },
  {
   "cell_type": "code",
   "execution_count": 93,
   "outputs": [],
   "source": [
    "# save your well-trained state_dict of model\n",
    "from datetime import datetime\n",
    "\n",
    "# Get the current timestamp\n",
    "timestamp = datetime.now().strftime(\"%Y-%m-%d-%H-%M\")\n",
    "torch.save(model.state_dict(), f'IB-CONV_Self_Train_{timestamp}.pt')"
   ],
   "metadata": {
    "collapsed": false,
    "ExecuteTime": {
     "end_time": "2023-11-01T07:58:40.778341400Z",
     "start_time": "2023-11-01T07:58:40.720892500Z"
    }
   }
  },
  {
   "cell_type": "markdown",
   "source": [
    "### Predict Result\n",
    "\n",
    "Predict the labesl based on testing set. Upload to [Kaggle](https://www.kaggle.com/t/e304bb12c8a84e5c9c1b27a6c3bd4026).\n",
    "\n",
    "**How to upload**\n",
    "\n",
    "1. Click the folder icon in the left hand side of Colab.\n",
    "2. Right click \"result.csv\". Select \"Download\"\n",
    "3. To kaggle. Click \"Submit Predictions\"\n",
    "4. Upload the result.csv\n",
    "5. System will automaticlaly calculate the accuracy of 50% dataset and publish this result to leaderboard.\n",
    "\n",
    "---\n",
    "\n",
    "預測`test`並將結果上傳至Kaggle。[**連結**](https://www.kaggle.com/t/e304bb12c8a84e5c9c1b27a6c3bd4026)\n",
    "\n",
    "執行完畢此區的程式碼後，會將`test`預測完的結果存下來。\n",
    "\n",
    "上傳流程\n",
    "1. 點選左側選單最下方的資料夾圖示\n",
    "2. 右鍵「result.csv」\n",
    "3. 點選「Download」\n",
    "4. 至連結網頁點選「Submit Predictions」\n",
    "5. 將剛剛下載的檔案上傳\n",
    "6. 系統會計算並公布其中50%資料的正確率"
   ],
   "metadata": {
    "collapsed": false
   }
  },
  {
   "cell_type": "code",
   "execution_count": 23,
   "outputs": [
    {
     "data": {
      "text/plain": "<All keys matched successfully>"
     },
     "execution_count": 23,
     "metadata": {},
     "output_type": "execute_result"
    }
   ],
   "source": [
    "# if you wanna load previous best model\n",
    "ckpt = torch.load('FixMatchModel.pt')\n",
    "model.load_state_dict(ckpt)"
   ],
   "metadata": {
    "collapsed": false,
    "ExecuteTime": {
     "end_time": "2023-11-01T11:12:36.184372600Z",
     "start_time": "2023-11-01T11:12:36.108809600Z"
    }
   }
  },
  {
   "cell_type": "code",
   "execution_count": 24,
   "outputs": [],
   "source": [
    "test_set = FlowerData('test.csv', mode='test', transform=transforms_test)\n",
    "test_loader = DataLoader(test_set, batch_size=batch_size, num_workers=num_workers, shuffle=False)"
   ],
   "metadata": {
    "collapsed": false,
    "ExecuteTime": {
     "end_time": "2023-11-01T11:12:44.744282700Z",
     "start_time": "2023-11-01T11:12:44.697002700Z"
    }
   }
  },
  {
   "cell_type": "code",
   "execution_count": 25,
   "outputs": [],
   "source": [
    "def predict(input_data, model):\n",
    "    model.eval()\n",
    "    output_list = []\n",
    "    with torch.no_grad():\n",
    "        for images in input_data:\n",
    "            images = images.to(device)\n",
    "            outputs = model(images)\n",
    "            _, predicted = torch.max(outputs.data, 1)\n",
    "            output_list.extend(predicted.to('cpu').numpy().tolist())\n",
    "    return output_list"
   ],
   "metadata": {
    "collapsed": false,
    "ExecuteTime": {
     "end_time": "2023-11-01T11:12:44.751272800Z",
     "start_time": "2023-11-01T11:12:44.745279Z"
    }
   }
  },
  {
   "cell_type": "code",
   "execution_count": 26,
   "metadata": {
    "ExecuteTime": {
     "end_time": "2023-11-01T11:12:57.278320900Z",
     "start_time": "2023-11-01T11:12:44.745279Z"
    }
   },
   "outputs": [],
   "source": [
    "idx = 0\n",
    "output_csv = predict(test_loader, model)\n",
    "with open('result.csv', 'w', newline='') as csvFile:\n",
    "    writer = csv.DictWriter(csvFile, fieldnames=['file_path', 'label'])\n",
    "    writer.writeheader()\n",
    "    for result in output_csv:\n",
    "        file_path = test_set.data_list[idx].replace(data_folder + '/', '')\n",
    "        writer.writerow({'file_path':file_path, 'label':result})\n",
    "        idx += 1"
   ]
  },
  {
   "cell_type": "code",
   "execution_count": 27,
   "outputs": [
    {
     "name": "stderr",
     "output_type": "stream",
     "text": [
      "\n",
      "(dot.exe:24916): Pango-WARNING **: couldn't load font \"Linux libertine Not-Rotated 10\", falling back to \"Sans Not-Rotated 10\", expect ugly output.\n"
     ]
    },
    {
     "data": {
      "image/svg+xml": "<?xml version=\"1.0\" encoding=\"UTF-8\" standalone=\"no\"?>\n<!DOCTYPE svg PUBLIC \"-//W3C//DTD SVG 1.1//EN\"\n \"http://www.w3.org/Graphics/SVG/1.1/DTD/svg11.dtd\">\n<!-- Generated by graphviz version 9.0.0 (20230911.1827)\n -->\n<!-- Title: model Pages: 1 -->\n<svg width=\"218pt\" height=\"3694pt\"\n viewBox=\"0.00 0.00 218.11 3694.00\" xmlns=\"http://www.w3.org/2000/svg\" xmlns:xlink=\"http://www.w3.org/1999/xlink\">\n<g id=\"graph0\" class=\"graph\" transform=\"scale(0.73192 0.73192) rotate(0) translate(4 5043)\">\n<title>model</title>\n<polygon fill=\"white\" stroke=\"none\" points=\"-4,4 -4,-5043 294,-5043 294,4 -4,4\"/>\n<g id=\"clust2\" class=\"cluster\">\n<title>cluster_3</title>\n<polygon fill=\"none\" stroke=\"black\" stroke-dasharray=\"5,2\" points=\"8,-794.5 8,-4746.75 282,-4746.75 282,-794.5 8,-794.5\"/>\n<text text-anchor=\"middle\" x=\"39.25\" y=\"-4731.35\" font-family=\"Times New Roman,serif\" font-size=\"12.00\">Sequential</text>\n</g>\n<g id=\"clust5\" class=\"cluster\">\n<title>cluster_6</title>\n<polygon fill=\"none\" stroke=\"black\" stroke-dasharray=\"5,2\" points=\"16,-3333.75 16,-3896 262,-3896 262,-3333.75 16,-3333.75\"/>\n<text text-anchor=\"middle\" x=\"59.62\" y=\"-3880.6\" font-family=\"Times New Roman,serif\" font-size=\"12.00\">IBConvWithSE</text>\n</g>\n<g id=\"clust3\" class=\"cluster\">\n<title>cluster_4</title>\n<polygon fill=\"none\" stroke=\"black\" stroke-dasharray=\"5,2\" points=\"22,-4314.25 22,-4716.5 268,-4716.5 268,-4314.25 22,-4314.25\"/>\n<text text-anchor=\"middle\" x=\"65.62\" y=\"-4701.1\" font-family=\"Times New Roman,serif\" font-size=\"12.00\">IBConvWithSE</text>\n</g>\n<g id=\"clust4\" class=\"cluster\">\n<title>cluster_5</title>\n<polygon fill=\"none\" stroke=\"black\" stroke-dasharray=\"5,2\" points=\"38,-3904 38,-4306.25 274,-4306.25 274,-3904 38,-3904\"/>\n<text text-anchor=\"middle\" x=\"81.62\" y=\"-4290.85\" font-family=\"Times New Roman,serif\" font-size=\"12.00\">IBConvWithSE</text>\n</g>\n<g id=\"clust7\" class=\"cluster\">\n<title>cluster_8</title>\n<polygon fill=\"none\" stroke=\"black\" stroke-dasharray=\"5,2\" points=\"16,-2353.25 16,-2915.5 262,-2915.5 262,-2353.25 16,-2353.25\"/>\n<text text-anchor=\"middle\" x=\"59.62\" y=\"-2900.1\" font-family=\"Times New Roman,serif\" font-size=\"12.00\">IBConvWithSE</text>\n</g>\n<g id=\"clust9\" class=\"cluster\">\n<title>cluster_10</title>\n<polygon fill=\"none\" stroke=\"black\" stroke-dasharray=\"5,2\" points=\"16,-1372.75 16,-1935 262,-1935 262,-1372.75 16,-1372.75\"/>\n<text text-anchor=\"middle\" x=\"59.62\" y=\"-1919.6\" font-family=\"Times New Roman,serif\" font-size=\"12.00\">IBConvWithSE</text>\n</g>\n<g id=\"clust8\" class=\"cluster\">\n<title>cluster_9</title>\n<polygon fill=\"none\" stroke=\"black\" stroke-dasharray=\"5,2\" points=\"28,-1943 28,-2345.25 274,-2345.25 274,-1943 28,-1943\"/>\n<text text-anchor=\"middle\" x=\"71.62\" y=\"-2329.85\" font-family=\"Times New Roman,serif\" font-size=\"12.00\">IBConvWithSE</text>\n</g>\n<g id=\"clust6\" class=\"cluster\">\n<title>cluster_7</title>\n<polygon fill=\"none\" stroke=\"black\" stroke-dasharray=\"5,2\" points=\"28,-2923.5 28,-3325.75 274,-3325.75 274,-2923.5 28,-2923.5\"/>\n<text text-anchor=\"middle\" x=\"71.62\" y=\"-3310.35\" font-family=\"Times New Roman,serif\" font-size=\"12.00\">IBConvWithSE</text>\n</g>\n<g id=\"clust10\" class=\"cluster\">\n<title>cluster_11</title>\n<polygon fill=\"none\" stroke=\"black\" stroke-dasharray=\"5,2\" points=\"16,-802.5 16,-1364.75 262,-1364.75 262,-802.5 16,-802.5\"/>\n<text text-anchor=\"middle\" x=\"59.62\" y=\"-1349.35\" font-family=\"Times New Roman,serif\" font-size=\"12.00\">IBConvWithSE</text>\n</g>\n<g id=\"clust1\" class=\"cluster\">\n<title>cluster_2</title>\n<polygon fill=\"none\" stroke=\"black\" stroke-dasharray=\"5,2\" points=\"27,-4754.75 27,-4997 239,-4997 239,-4754.75 27,-4754.75\"/>\n<text text-anchor=\"middle\" x=\"58.25\" y=\"-4981.6\" font-family=\"Times New Roman,serif\" font-size=\"12.00\">Sequential</text>\n</g>\n<g id=\"clust12\" class=\"cluster\">\n<title>cluster_13</title>\n<polygon fill=\"none\" stroke=\"black\" stroke-dasharray=\"5,2\" points=\"71,-142 71,-384.25 245,-384.25 245,-142 71,-142\"/>\n<text text-anchor=\"middle\" x=\"102.25\" y=\"-368.85\" font-family=\"Times New Roman,serif\" font-size=\"12.00\">Sequential</text>\n</g>\n<g id=\"clust11\" class=\"cluster\">\n<title>cluster_12</title>\n<polygon fill=\"none\" stroke=\"black\" stroke-dasharray=\"5,2\" points=\"52,-544.25 52,-786.5 264,-786.5 264,-544.25 52,-544.25\"/>\n<text text-anchor=\"middle\" x=\"83.25\" y=\"-771.1\" font-family=\"Times New Roman,serif\" font-size=\"12.00\">Sequential</text>\n</g>\n<!-- 0 -->\n<g id=\"node1\" class=\"node\">\n<title>0</title>\n<polygon fill=\"lightyellow\" stroke=\"none\" points=\"202.62,-5039 63.38,-5039 63.38,-5005 202.62,-5005 202.62,-5039\"/>\n<polygon fill=\"none\" stroke=\"black\" points=\"63.38,-5005 63.38,-5039 125.12,-5039 125.12,-5005 63.38,-5005\"/>\n<text text-anchor=\"start\" x=\"68.38\" y=\"-5024.5\" font-family=\"Linux libertine\" font-size=\"10.00\">input&#45;tensor</text>\n<text text-anchor=\"start\" x=\"77.75\" y=\"-5012.5\" font-family=\"Linux libertine\" font-size=\"10.00\">depth:0</text>\n<polygon fill=\"none\" stroke=\"black\" points=\"125.12,-5005 125.12,-5039 202.62,-5039 202.62,-5005 125.12,-5005\"/>\n<text text-anchor=\"start\" x=\"130.12\" y=\"-5018.5\" font-family=\"Linux libertine\" font-size=\"10.00\">(1, 3, 224, 224)</text>\n</g>\n<!-- 1 -->\n<g id=\"node2\" class=\"node\">\n<title>1</title>\n<polygon fill=\"#c1ffc1\" stroke=\"none\" points=\"218.5,-4966.75 47.5,-4966.75 47.5,-4922.75 218.5,-4922.75 218.5,-4966.75\"/>\n<polygon fill=\"none\" stroke=\"black\" points=\"47.5,-4922.75 47.5,-4966.75 90.5,-4966.75 90.5,-4922.75 47.5,-4922.75\"/>\n<text text-anchor=\"start\" x=\"53.25\" y=\"-4947.25\" font-family=\"Linux libertine\" font-size=\"10.00\">Conv2d</text>\n<text text-anchor=\"start\" x=\"52.5\" y=\"-4935.25\" font-family=\"Linux libertine\" font-size=\"10.00\">depth:2</text>\n<polygon fill=\"none\" stroke=\"black\" points=\"90.5,-4944.75 90.5,-4966.75 133.5,-4966.75 133.5,-4944.75 90.5,-4944.75\"/>\n<text text-anchor=\"start\" x=\"99.62\" y=\"-4952.25\" font-family=\"Linux libertine\" font-size=\"10.00\">input:</text>\n<polygon fill=\"none\" stroke=\"black\" points=\"133.5,-4944.75 133.5,-4966.75 218.5,-4966.75 218.5,-4944.75 133.5,-4944.75\"/>\n<text text-anchor=\"start\" x=\"140.75\" y=\"-4952.25\" font-family=\"Linux libertine\" font-size=\"10.00\">(1, 3, 224, 224) </text>\n<polygon fill=\"none\" stroke=\"black\" points=\"90.5,-4922.75 90.5,-4944.75 133.5,-4944.75 133.5,-4922.75 90.5,-4922.75\"/>\n<text text-anchor=\"start\" x=\"95.12\" y=\"-4930.25\" font-family=\"Linux libertine\" font-size=\"10.00\">output: </text>\n<polygon fill=\"none\" stroke=\"black\" points=\"133.5,-4922.75 133.5,-4944.75 218.5,-4944.75 218.5,-4922.75 133.5,-4922.75\"/>\n<text text-anchor=\"start\" x=\"138.12\" y=\"-4930.25\" font-family=\"Linux libertine\" font-size=\"10.00\">(1, 32, 112, 112) </text>\n</g>\n<!-- 0&#45;&gt;1 -->\n<g id=\"edge1\" class=\"edge\">\n<title>0&#45;&gt;1</title>\n<path fill=\"none\" stroke=\"black\" d=\"M133,-5005.04C133,-4997.15 133,-4987.34 133,-4977.98\"/>\n<polygon fill=\"black\" stroke=\"black\" points=\"136.5,-4978.06 133,-4968.06 129.5,-4978.06 136.5,-4978.06\"/>\n</g>\n<!-- 2 -->\n<g id=\"node3\" class=\"node\">\n<title>2</title>\n<polygon fill=\"#c1ffc1\" stroke=\"none\" points=\"230.5,-4886.75 35.5,-4886.75 35.5,-4842.75 230.5,-4842.75 230.5,-4886.75\"/>\n<polygon fill=\"none\" stroke=\"black\" points=\"35.5,-4842.75 35.5,-4886.75 102.5,-4886.75 102.5,-4842.75 35.5,-4842.75\"/>\n<text text-anchor=\"start\" x=\"40.5\" y=\"-4867.25\" font-family=\"Linux libertine\" font-size=\"10.00\">BatchNorm2d</text>\n<text text-anchor=\"start\" x=\"52.5\" y=\"-4855.25\" font-family=\"Linux libertine\" font-size=\"10.00\">depth:2</text>\n<polygon fill=\"none\" stroke=\"black\" points=\"102.5,-4864.75 102.5,-4886.75 145.5,-4886.75 145.5,-4864.75 102.5,-4864.75\"/>\n<text text-anchor=\"start\" x=\"111.62\" y=\"-4872.25\" font-family=\"Linux libertine\" font-size=\"10.00\">input:</text>\n<polygon fill=\"none\" stroke=\"black\" points=\"145.5,-4864.75 145.5,-4886.75 230.5,-4886.75 230.5,-4864.75 145.5,-4864.75\"/>\n<text text-anchor=\"start\" x=\"150.12\" y=\"-4872.25\" font-family=\"Linux libertine\" font-size=\"10.00\">(1, 32, 112, 112) </text>\n<polygon fill=\"none\" stroke=\"black\" points=\"102.5,-4842.75 102.5,-4864.75 145.5,-4864.75 145.5,-4842.75 102.5,-4842.75\"/>\n<text text-anchor=\"start\" x=\"107.12\" y=\"-4850.25\" font-family=\"Linux libertine\" font-size=\"10.00\">output: </text>\n<polygon fill=\"none\" stroke=\"black\" points=\"145.5,-4842.75 145.5,-4864.75 230.5,-4864.75 230.5,-4842.75 145.5,-4842.75\"/>\n<text text-anchor=\"start\" x=\"150.12\" y=\"-4850.25\" font-family=\"Linux libertine\" font-size=\"10.00\">(1, 32, 112, 112) </text>\n</g>\n<!-- 1&#45;&gt;2 -->\n<g id=\"edge2\" class=\"edge\">\n<title>1&#45;&gt;2</title>\n<path fill=\"none\" stroke=\"black\" d=\"M133,-4922.85C133,-4915.24 133,-4906.45 133,-4898.09\"/>\n<polygon fill=\"black\" stroke=\"black\" points=\"136.5,-4898.22 133,-4888.22 129.5,-4898.22 136.5,-4898.22\"/>\n</g>\n<!-- 3 -->\n<g id=\"node4\" class=\"node\">\n<title>3</title>\n<polygon fill=\"#c1ffc1\" stroke=\"none\" points=\"218.5,-4806.75 47.5,-4806.75 47.5,-4762.75 218.5,-4762.75 218.5,-4806.75\"/>\n<polygon fill=\"none\" stroke=\"black\" points=\"47.5,-4762.75 47.5,-4806.75 90.5,-4806.75 90.5,-4762.75 47.5,-4762.75\"/>\n<text text-anchor=\"start\" x=\"58.12\" y=\"-4787.25\" font-family=\"Linux libertine\" font-size=\"10.00\">SELU</text>\n<text text-anchor=\"start\" x=\"52.5\" y=\"-4775.25\" font-family=\"Linux libertine\" font-size=\"10.00\">depth:2</text>\n<polygon fill=\"none\" stroke=\"black\" points=\"90.5,-4784.75 90.5,-4806.75 133.5,-4806.75 133.5,-4784.75 90.5,-4784.75\"/>\n<text text-anchor=\"start\" x=\"99.62\" y=\"-4792.25\" font-family=\"Linux libertine\" font-size=\"10.00\">input:</text>\n<polygon fill=\"none\" stroke=\"black\" points=\"133.5,-4784.75 133.5,-4806.75 218.5,-4806.75 218.5,-4784.75 133.5,-4784.75\"/>\n<text text-anchor=\"start\" x=\"138.12\" y=\"-4792.25\" font-family=\"Linux libertine\" font-size=\"10.00\">(1, 32, 112, 112) </text>\n<polygon fill=\"none\" stroke=\"black\" points=\"90.5,-4762.75 90.5,-4784.75 133.5,-4784.75 133.5,-4762.75 90.5,-4762.75\"/>\n<text text-anchor=\"start\" x=\"95.12\" y=\"-4770.25\" font-family=\"Linux libertine\" font-size=\"10.00\">output: </text>\n<polygon fill=\"none\" stroke=\"black\" points=\"133.5,-4762.75 133.5,-4784.75 218.5,-4784.75 218.5,-4762.75 133.5,-4762.75\"/>\n<text text-anchor=\"start\" x=\"138.12\" y=\"-4770.25\" font-family=\"Linux libertine\" font-size=\"10.00\">(1, 32, 112, 112) </text>\n</g>\n<!-- 2&#45;&gt;3 -->\n<g id=\"edge3\" class=\"edge\">\n<title>2&#45;&gt;3</title>\n<path fill=\"none\" stroke=\"black\" d=\"M133,-4842.85C133,-4835.24 133,-4826.45 133,-4818.09\"/>\n<polygon fill=\"black\" stroke=\"black\" points=\"136.5,-4818.22 133,-4808.22 129.5,-4818.22 136.5,-4818.22\"/>\n</g>\n<!-- 4 -->\n<g id=\"node5\" class=\"node\">\n<title>4</title>\n<polygon fill=\"#c1ffc1\" stroke=\"none\" points=\"224.5,-4686.25 41.5,-4686.25 41.5,-4642.25 224.5,-4642.25 224.5,-4686.25\"/>\n<polygon fill=\"none\" stroke=\"black\" points=\"41.5,-4642.25 41.5,-4686.25 96.5,-4686.25 96.5,-4642.25 41.5,-4642.25\"/>\n<text text-anchor=\"start\" x=\"46.5\" y=\"-4666.75\" font-family=\"Linux libertine\" font-size=\"10.00\">Sequential</text>\n<text text-anchor=\"start\" x=\"52.5\" y=\"-4654.75\" font-family=\"Linux libertine\" font-size=\"10.00\">depth:3</text>\n<polygon fill=\"none\" stroke=\"black\" points=\"96.5,-4664.25 96.5,-4686.25 139.5,-4686.25 139.5,-4664.25 96.5,-4664.25\"/>\n<text text-anchor=\"start\" x=\"105.62\" y=\"-4671.75\" font-family=\"Linux libertine\" font-size=\"10.00\">input:</text>\n<polygon fill=\"none\" stroke=\"black\" points=\"139.5,-4664.25 139.5,-4686.25 224.5,-4686.25 224.5,-4664.25 139.5,-4664.25\"/>\n<text text-anchor=\"start\" x=\"144.12\" y=\"-4671.75\" font-family=\"Linux libertine\" font-size=\"10.00\">(1, 32, 112, 112) </text>\n<polygon fill=\"none\" stroke=\"black\" points=\"96.5,-4642.25 96.5,-4664.25 139.5,-4664.25 139.5,-4642.25 96.5,-4642.25\"/>\n<text text-anchor=\"start\" x=\"101.12\" y=\"-4649.75\" font-family=\"Linux libertine\" font-size=\"10.00\">output: </text>\n<polygon fill=\"none\" stroke=\"black\" points=\"139.5,-4642.25 139.5,-4664.25 224.5,-4664.25 224.5,-4642.25 139.5,-4642.25\"/>\n<text text-anchor=\"start\" x=\"144.12\" y=\"-4649.75\" font-family=\"Linux libertine\" font-size=\"10.00\">(1, 32, 112, 112) </text>\n</g>\n<!-- 3&#45;&gt;4 -->\n<g id=\"edge4\" class=\"edge\">\n<title>3&#45;&gt;4</title>\n<path fill=\"none\" stroke=\"black\" d=\"M133,-4762.84C133,-4744.73 133,-4718.25 133,-4697.44\"/>\n<polygon fill=\"black\" stroke=\"black\" points=\"136.5,-4697.47 133,-4687.47 129.5,-4697.47 136.5,-4697.47\"/>\n</g>\n<!-- 5 -->\n<g id=\"node6\" class=\"node\">\n<title>5</title>\n<polygon fill=\"#c1ffc1\" stroke=\"none\" points=\"224.5,-4606.25 41.5,-4606.25 41.5,-4562.25 224.5,-4562.25 224.5,-4606.25\"/>\n<polygon fill=\"none\" stroke=\"black\" points=\"41.5,-4562.25 41.5,-4606.25 96.5,-4606.25 96.5,-4562.25 41.5,-4562.25\"/>\n<text text-anchor=\"start\" x=\"46.5\" y=\"-4586.75\" font-family=\"Linux libertine\" font-size=\"10.00\">Sequential</text>\n<text text-anchor=\"start\" x=\"52.5\" y=\"-4574.75\" font-family=\"Linux libertine\" font-size=\"10.00\">depth:3</text>\n<polygon fill=\"none\" stroke=\"black\" points=\"96.5,-4584.25 96.5,-4606.25 139.5,-4606.25 139.5,-4584.25 96.5,-4584.25\"/>\n<text text-anchor=\"start\" x=\"105.62\" y=\"-4591.75\" font-family=\"Linux libertine\" font-size=\"10.00\">input:</text>\n<polygon fill=\"none\" stroke=\"black\" points=\"139.5,-4584.25 139.5,-4606.25 224.5,-4606.25 224.5,-4584.25 139.5,-4584.25\"/>\n<text text-anchor=\"start\" x=\"144.12\" y=\"-4591.75\" font-family=\"Linux libertine\" font-size=\"10.00\">(1, 32, 112, 112) </text>\n<polygon fill=\"none\" stroke=\"black\" points=\"96.5,-4562.25 96.5,-4584.25 139.5,-4584.25 139.5,-4562.25 96.5,-4562.25\"/>\n<text text-anchor=\"start\" x=\"101.12\" y=\"-4569.75\" font-family=\"Linux libertine\" font-size=\"10.00\">output: </text>\n<polygon fill=\"none\" stroke=\"black\" points=\"139.5,-4562.25 139.5,-4584.25 224.5,-4584.25 224.5,-4562.25 139.5,-4562.25\"/>\n<text text-anchor=\"start\" x=\"144.12\" y=\"-4569.75\" font-family=\"Linux libertine\" font-size=\"10.00\">(1, 32, 112, 112) </text>\n</g>\n<!-- 4&#45;&gt;5 -->\n<g id=\"edge5\" class=\"edge\">\n<title>4&#45;&gt;5</title>\n<path fill=\"none\" stroke=\"black\" d=\"M133,-4642.35C133,-4634.74 133,-4625.95 133,-4617.59\"/>\n<polygon fill=\"black\" stroke=\"black\" points=\"136.5,-4617.72 133,-4607.72 129.5,-4617.72 136.5,-4617.72\"/>\n</g>\n<!-- 6 -->\n<g id=\"node7\" class=\"node\">\n<title>6</title>\n<polygon fill=\"#c1ffc1\" stroke=\"none\" points=\"247.5,-4526.25 64.5,-4526.25 64.5,-4482.25 247.5,-4482.25 247.5,-4526.25\"/>\n<polygon fill=\"none\" stroke=\"black\" points=\"64.5,-4482.25 64.5,-4526.25 119.5,-4526.25 119.5,-4482.25 64.5,-4482.25\"/>\n<text text-anchor=\"start\" x=\"69.5\" y=\"-4506.75\" font-family=\"Linux libertine\" font-size=\"10.00\">Sequential</text>\n<text text-anchor=\"start\" x=\"75.5\" y=\"-4494.75\" font-family=\"Linux libertine\" font-size=\"10.00\">depth:3</text>\n<polygon fill=\"none\" stroke=\"black\" points=\"119.5,-4504.25 119.5,-4526.25 162.5,-4526.25 162.5,-4504.25 119.5,-4504.25\"/>\n<text text-anchor=\"start\" x=\"128.62\" y=\"-4511.75\" font-family=\"Linux libertine\" font-size=\"10.00\">input:</text>\n<polygon fill=\"none\" stroke=\"black\" points=\"162.5,-4504.25 162.5,-4526.25 247.5,-4526.25 247.5,-4504.25 162.5,-4504.25\"/>\n<text text-anchor=\"start\" x=\"167.12\" y=\"-4511.75\" font-family=\"Linux libertine\" font-size=\"10.00\">(1, 32, 112, 112) </text>\n<polygon fill=\"none\" stroke=\"black\" points=\"119.5,-4482.25 119.5,-4504.25 162.5,-4504.25 162.5,-4482.25 119.5,-4482.25\"/>\n<text text-anchor=\"start\" x=\"124.12\" y=\"-4489.75\" font-family=\"Linux libertine\" font-size=\"10.00\">output: </text>\n<polygon fill=\"none\" stroke=\"black\" points=\"162.5,-4482.25 162.5,-4504.25 247.5,-4504.25 247.5,-4482.25 162.5,-4482.25\"/>\n<text text-anchor=\"start\" x=\"177.62\" y=\"-4489.75\" font-family=\"Linux libertine\" font-size=\"10.00\">(1, 32, 1, 1) </text>\n</g>\n<!-- 5&#45;&gt;6 -->\n<g id=\"edge6\" class=\"edge\">\n<title>5&#45;&gt;6</title>\n<path fill=\"none\" stroke=\"black\" d=\"M139.16,-4562.35C141.46,-4554.57 144.12,-4545.55 146.63,-4537.01\"/>\n<polygon fill=\"black\" stroke=\"black\" points=\"149.92,-4538.24 149.39,-4527.66 143.21,-4536.26 149.92,-4538.24\"/>\n</g>\n<!-- 7 -->\n<g id=\"node8\" class=\"node\">\n<title>7</title>\n<polygon fill=\"aliceblue\" stroke=\"none\" points=\"259.5,-4446.25 30.5,-4446.25 30.5,-4402.25 259.5,-4402.25 259.5,-4446.25\"/>\n<polygon fill=\"none\" stroke=\"black\" points=\"30.5,-4402.25 30.5,-4446.25 73.5,-4446.25 73.5,-4402.25 30.5,-4402.25\"/>\n<text text-anchor=\"start\" x=\"44.12\" y=\"-4426.75\" font-family=\"Linux libertine\" font-size=\"10.00\">mul</text>\n<text text-anchor=\"start\" x=\"35.5\" y=\"-4414.75\" font-family=\"Linux libertine\" font-size=\"10.00\">depth:3</text>\n<polygon fill=\"none\" stroke=\"black\" points=\"73.5,-4424.25 73.5,-4446.25 116.5,-4446.25 116.5,-4424.25 73.5,-4424.25\"/>\n<text text-anchor=\"start\" x=\"82.62\" y=\"-4431.75\" font-family=\"Linux libertine\" font-size=\"10.00\">input:</text>\n<polygon fill=\"none\" stroke=\"black\" points=\"116.5,-4424.25 116.5,-4446.25 259.5,-4446.25 259.5,-4424.25 116.5,-4424.25\"/>\n<text text-anchor=\"start\" x=\"121.25\" y=\"-4431.75\" font-family=\"Linux libertine\" font-size=\"10.00\">(1, 32, 112, 112), (1, 32, 1, 1) </text>\n<polygon fill=\"none\" stroke=\"black\" points=\"73.5,-4402.25 73.5,-4424.25 116.5,-4424.25 116.5,-4402.25 73.5,-4402.25\"/>\n<text text-anchor=\"start\" x=\"78.12\" y=\"-4409.75\" font-family=\"Linux libertine\" font-size=\"10.00\">output: </text>\n<polygon fill=\"none\" stroke=\"black\" points=\"116.5,-4402.25 116.5,-4424.25 259.5,-4424.25 259.5,-4402.25 116.5,-4402.25\"/>\n<text text-anchor=\"start\" x=\"150.12\" y=\"-4409.75\" font-family=\"Linux libertine\" font-size=\"10.00\">(1, 32, 112, 112) </text>\n</g>\n<!-- 5&#45;&gt;7 -->\n<g id=\"edge7\" class=\"edge\">\n<title>5&#45;&gt;7</title>\n<path fill=\"none\" stroke=\"black\" d=\"M90.28,-4562.48C76.43,-4553.41 62.67,-4541.35 55,-4526.25 46.15,-4508.81 45.57,-4499.38 55,-4482.25 61.76,-4469.98 72.39,-4459.98 84.02,-4451.98\"/>\n<polygon fill=\"black\" stroke=\"black\" points=\"85.64,-4455.09 92.23,-4446.79 81.91,-4449.17 85.64,-4455.09\"/>\n</g>\n<!-- 6&#45;&gt;7 -->\n<g id=\"edge8\" class=\"edge\">\n<title>6&#45;&gt;7</title>\n<path fill=\"none\" stroke=\"black\" d=\"M153.05,-4482.35C151.98,-4474.74 150.74,-4465.95 149.56,-4457.59\"/>\n<polygon fill=\"black\" stroke=\"black\" points=\"153.03,-4457.12 148.17,-4447.71 146.1,-4458.1 153.03,-4457.12\"/>\n</g>\n<!-- 8 -->\n<g id=\"node9\" class=\"node\">\n<title>8</title>\n<polygon fill=\"#c1ffc1\" stroke=\"none\" points=\"236.5,-4366.25 53.5,-4366.25 53.5,-4322.25 236.5,-4322.25 236.5,-4366.25\"/>\n<polygon fill=\"none\" stroke=\"black\" points=\"53.5,-4322.25 53.5,-4366.25 108.5,-4366.25 108.5,-4322.25 53.5,-4322.25\"/>\n<text text-anchor=\"start\" x=\"58.5\" y=\"-4346.75\" font-family=\"Linux libertine\" font-size=\"10.00\">Sequential</text>\n<text text-anchor=\"start\" x=\"64.5\" y=\"-4334.75\" font-family=\"Linux libertine\" font-size=\"10.00\">depth:3</text>\n<polygon fill=\"none\" stroke=\"black\" points=\"108.5,-4344.25 108.5,-4366.25 151.5,-4366.25 151.5,-4344.25 108.5,-4344.25\"/>\n<text text-anchor=\"start\" x=\"117.62\" y=\"-4351.75\" font-family=\"Linux libertine\" font-size=\"10.00\">input:</text>\n<polygon fill=\"none\" stroke=\"black\" points=\"151.5,-4344.25 151.5,-4366.25 236.5,-4366.25 236.5,-4344.25 151.5,-4344.25\"/>\n<text text-anchor=\"start\" x=\"156.12\" y=\"-4351.75\" font-family=\"Linux libertine\" font-size=\"10.00\">(1, 32, 112, 112) </text>\n<polygon fill=\"none\" stroke=\"black\" points=\"108.5,-4322.25 108.5,-4344.25 151.5,-4344.25 151.5,-4322.25 108.5,-4322.25\"/>\n<text text-anchor=\"start\" x=\"113.12\" y=\"-4329.75\" font-family=\"Linux libertine\" font-size=\"10.00\">output: </text>\n<polygon fill=\"none\" stroke=\"black\" points=\"151.5,-4322.25 151.5,-4344.25 236.5,-4344.25 236.5,-4322.25 151.5,-4322.25\"/>\n<text text-anchor=\"start\" x=\"156.12\" y=\"-4329.75\" font-family=\"Linux libertine\" font-size=\"10.00\">(1, 16, 112, 112) </text>\n</g>\n<!-- 7&#45;&gt;8 -->\n<g id=\"edge9\" class=\"edge\">\n<title>7&#45;&gt;8</title>\n<path fill=\"none\" stroke=\"black\" d=\"M145,-4402.35C145,-4394.74 145,-4385.95 145,-4377.59\"/>\n<polygon fill=\"black\" stroke=\"black\" points=\"148.5,-4377.72 145,-4367.72 141.5,-4377.72 148.5,-4377.72\"/>\n</g>\n<!-- 9 -->\n<g id=\"node10\" class=\"node\">\n<title>9</title>\n<polygon fill=\"#c1ffc1\" stroke=\"none\" points=\"236.5,-4276 53.5,-4276 53.5,-4232 236.5,-4232 236.5,-4276\"/>\n<polygon fill=\"none\" stroke=\"black\" points=\"53.5,-4232 53.5,-4276 108.5,-4276 108.5,-4232 53.5,-4232\"/>\n<text text-anchor=\"start\" x=\"58.5\" y=\"-4256.5\" font-family=\"Linux libertine\" font-size=\"10.00\">Sequential</text>\n<text text-anchor=\"start\" x=\"64.5\" y=\"-4244.5\" font-family=\"Linux libertine\" font-size=\"10.00\">depth:3</text>\n<polygon fill=\"none\" stroke=\"black\" points=\"108.5,-4254 108.5,-4276 151.5,-4276 151.5,-4254 108.5,-4254\"/>\n<text text-anchor=\"start\" x=\"117.62\" y=\"-4261.5\" font-family=\"Linux libertine\" font-size=\"10.00\">input:</text>\n<polygon fill=\"none\" stroke=\"black\" points=\"151.5,-4254 151.5,-4276 236.5,-4276 236.5,-4254 151.5,-4254\"/>\n<text text-anchor=\"start\" x=\"156.12\" y=\"-4261.5\" font-family=\"Linux libertine\" font-size=\"10.00\">(1, 16, 112, 112) </text>\n<polygon fill=\"none\" stroke=\"black\" points=\"108.5,-4232 108.5,-4254 151.5,-4254 151.5,-4232 108.5,-4232\"/>\n<text text-anchor=\"start\" x=\"113.12\" y=\"-4239.5\" font-family=\"Linux libertine\" font-size=\"10.00\">output: </text>\n<polygon fill=\"none\" stroke=\"black\" points=\"151.5,-4232 151.5,-4254 236.5,-4254 236.5,-4232 151.5,-4232\"/>\n<text text-anchor=\"start\" x=\"156.12\" y=\"-4239.5\" font-family=\"Linux libertine\" font-size=\"10.00\">(1, 96, 112, 112) </text>\n</g>\n<!-- 8&#45;&gt;9 -->\n<g id=\"edge10\" class=\"edge\">\n<title>8&#45;&gt;9</title>\n<path fill=\"none\" stroke=\"black\" d=\"M145,-4322.34C145,-4311.79 145,-4298.76 145,-4286.98\"/>\n<polygon fill=\"black\" stroke=\"black\" points=\"148.5,-4287.28 145,-4277.28 141.5,-4287.28 148.5,-4287.28\"/>\n</g>\n<!-- 10 -->\n<g id=\"node11\" class=\"node\">\n<title>10</title>\n<polygon fill=\"#c1ffc1\" stroke=\"none\" points=\"236.5,-4196 53.5,-4196 53.5,-4152 236.5,-4152 236.5,-4196\"/>\n<polygon fill=\"none\" stroke=\"black\" points=\"53.5,-4152 53.5,-4196 108.5,-4196 108.5,-4152 53.5,-4152\"/>\n<text text-anchor=\"start\" x=\"58.5\" y=\"-4176.5\" font-family=\"Linux libertine\" font-size=\"10.00\">Sequential</text>\n<text text-anchor=\"start\" x=\"64.5\" y=\"-4164.5\" font-family=\"Linux libertine\" font-size=\"10.00\">depth:3</text>\n<polygon fill=\"none\" stroke=\"black\" points=\"108.5,-4174 108.5,-4196 151.5,-4196 151.5,-4174 108.5,-4174\"/>\n<text text-anchor=\"start\" x=\"117.62\" y=\"-4181.5\" font-family=\"Linux libertine\" font-size=\"10.00\">input:</text>\n<polygon fill=\"none\" stroke=\"black\" points=\"151.5,-4174 151.5,-4196 236.5,-4196 236.5,-4174 151.5,-4174\"/>\n<text text-anchor=\"start\" x=\"156.12\" y=\"-4181.5\" font-family=\"Linux libertine\" font-size=\"10.00\">(1, 96, 112, 112) </text>\n<polygon fill=\"none\" stroke=\"black\" points=\"108.5,-4152 108.5,-4174 151.5,-4174 151.5,-4152 108.5,-4152\"/>\n<text text-anchor=\"start\" x=\"113.12\" y=\"-4159.5\" font-family=\"Linux libertine\" font-size=\"10.00\">output: </text>\n<polygon fill=\"none\" stroke=\"black\" points=\"151.5,-4152 151.5,-4174 236.5,-4174 236.5,-4152 151.5,-4152\"/>\n<text text-anchor=\"start\" x=\"161.38\" y=\"-4159.5\" font-family=\"Linux libertine\" font-size=\"10.00\">(1, 96, 56, 56) </text>\n</g>\n<!-- 9&#45;&gt;10 -->\n<g id=\"edge11\" class=\"edge\">\n<title>9&#45;&gt;10</title>\n<path fill=\"none\" stroke=\"black\" d=\"M145,-4232.1C145,-4224.49 145,-4215.7 145,-4207.34\"/>\n<polygon fill=\"black\" stroke=\"black\" points=\"148.5,-4207.47 145,-4197.47 141.5,-4207.47 148.5,-4207.47\"/>\n</g>\n<!-- 11 -->\n<g id=\"node12\" class=\"node\">\n<title>11</title>\n<polygon fill=\"#c1ffc1\" stroke=\"none\" points=\"253.5,-4116 80.5,-4116 80.5,-4072 253.5,-4072 253.5,-4116\"/>\n<polygon fill=\"none\" stroke=\"black\" points=\"80.5,-4072 80.5,-4116 135.5,-4116 135.5,-4072 80.5,-4072\"/>\n<text text-anchor=\"start\" x=\"85.5\" y=\"-4096.5\" font-family=\"Linux libertine\" font-size=\"10.00\">Sequential</text>\n<text text-anchor=\"start\" x=\"91.5\" y=\"-4084.5\" font-family=\"Linux libertine\" font-size=\"10.00\">depth:3</text>\n<polygon fill=\"none\" stroke=\"black\" points=\"135.5,-4094 135.5,-4116 178.5,-4116 178.5,-4094 135.5,-4094\"/>\n<text text-anchor=\"start\" x=\"144.62\" y=\"-4101.5\" font-family=\"Linux libertine\" font-size=\"10.00\">input:</text>\n<polygon fill=\"none\" stroke=\"black\" points=\"178.5,-4094 178.5,-4116 253.5,-4116 253.5,-4094 178.5,-4094\"/>\n<text text-anchor=\"start\" x=\"183.38\" y=\"-4101.5\" font-family=\"Linux libertine\" font-size=\"10.00\">(1, 96, 56, 56) </text>\n<polygon fill=\"none\" stroke=\"black\" points=\"135.5,-4072 135.5,-4094 178.5,-4094 178.5,-4072 135.5,-4072\"/>\n<text text-anchor=\"start\" x=\"140.12\" y=\"-4079.5\" font-family=\"Linux libertine\" font-size=\"10.00\">output: </text>\n<polygon fill=\"none\" stroke=\"black\" points=\"178.5,-4072 178.5,-4094 253.5,-4094 253.5,-4072 178.5,-4072\"/>\n<text text-anchor=\"start\" x=\"188.62\" y=\"-4079.5\" font-family=\"Linux libertine\" font-size=\"10.00\">(1, 96, 1, 1) </text>\n</g>\n<!-- 10&#45;&gt;11 -->\n<g id=\"edge12\" class=\"edge\">\n<title>10&#45;&gt;11</title>\n<path fill=\"none\" stroke=\"black\" d=\"M150.9,-4152.1C153.09,-4144.32 155.63,-4135.3 158.04,-4126.76\"/>\n<polygon fill=\"black\" stroke=\"black\" points=\"161.33,-4127.99 160.68,-4117.42 154.59,-4126.09 161.33,-4127.99\"/>\n</g>\n<!-- 12 -->\n<g id=\"node13\" class=\"node\">\n<title>12</title>\n<polygon fill=\"aliceblue\" stroke=\"none\" points=\"265.5,-4036 46.5,-4036 46.5,-3992 265.5,-3992 265.5,-4036\"/>\n<polygon fill=\"none\" stroke=\"black\" points=\"46.5,-3992 46.5,-4036 89.5,-4036 89.5,-3992 46.5,-3992\"/>\n<text text-anchor=\"start\" x=\"60.12\" y=\"-4016.5\" font-family=\"Linux libertine\" font-size=\"10.00\">mul</text>\n<text text-anchor=\"start\" x=\"51.5\" y=\"-4004.5\" font-family=\"Linux libertine\" font-size=\"10.00\">depth:3</text>\n<polygon fill=\"none\" stroke=\"black\" points=\"89.5,-4014 89.5,-4036 132.5,-4036 132.5,-4014 89.5,-4014\"/>\n<text text-anchor=\"start\" x=\"98.62\" y=\"-4021.5\" font-family=\"Linux libertine\" font-size=\"10.00\">input:</text>\n<polygon fill=\"none\" stroke=\"black\" points=\"132.5,-4014 132.5,-4036 265.5,-4036 265.5,-4014 132.5,-4014\"/>\n<text text-anchor=\"start\" x=\"137.5\" y=\"-4021.5\" font-family=\"Linux libertine\" font-size=\"10.00\">(1, 96, 56, 56), (1, 96, 1, 1) </text>\n<polygon fill=\"none\" stroke=\"black\" points=\"89.5,-3992 89.5,-4014 132.5,-4014 132.5,-3992 89.5,-3992\"/>\n<text text-anchor=\"start\" x=\"94.12\" y=\"-3999.5\" font-family=\"Linux libertine\" font-size=\"10.00\">output: </text>\n<polygon fill=\"none\" stroke=\"black\" points=\"132.5,-3992 132.5,-4014 265.5,-4014 265.5,-3992 132.5,-3992\"/>\n<text text-anchor=\"start\" x=\"166.38\" y=\"-3999.5\" font-family=\"Linux libertine\" font-size=\"10.00\">(1, 96, 56, 56) </text>\n</g>\n<!-- 10&#45;&gt;12 -->\n<g id=\"edge13\" class=\"edge\">\n<title>10&#45;&gt;12</title>\n<path fill=\"none\" stroke=\"black\" d=\"M104.81,-4152.05C91.53,-4142.91 78.3,-4130.84 71,-4116 62.37,-4098.45 61.8,-4089.25 71,-4072 77.4,-4060 87.58,-4050.08 98.7,-4042.06\"/>\n<polygon fill=\"black\" stroke=\"black\" points=\"100.53,-4045.05 106.94,-4036.61 96.66,-4039.21 100.53,-4045.05\"/>\n</g>\n<!-- 11&#45;&gt;12 -->\n<g id=\"edge14\" class=\"edge\">\n<title>11&#45;&gt;12</title>\n<path fill=\"none\" stroke=\"black\" d=\"M164.05,-4072.1C162.98,-4064.49 161.74,-4055.7 160.56,-4047.34\"/>\n<polygon fill=\"black\" stroke=\"black\" points=\"164.03,-4046.87 159.17,-4037.46 157.1,-4047.85 164.03,-4046.87\"/>\n</g>\n<!-- 13 -->\n<g id=\"node14\" class=\"node\">\n<title>13</title>\n<polygon fill=\"#c1ffc1\" stroke=\"none\" points=\"244.5,-3956 71.5,-3956 71.5,-3912 244.5,-3912 244.5,-3956\"/>\n<polygon fill=\"none\" stroke=\"black\" points=\"71.5,-3912 71.5,-3956 126.5,-3956 126.5,-3912 71.5,-3912\"/>\n<text text-anchor=\"start\" x=\"76.5\" y=\"-3936.5\" font-family=\"Linux libertine\" font-size=\"10.00\">Sequential</text>\n<text text-anchor=\"start\" x=\"82.5\" y=\"-3924.5\" font-family=\"Linux libertine\" font-size=\"10.00\">depth:3</text>\n<polygon fill=\"none\" stroke=\"black\" points=\"126.5,-3934 126.5,-3956 169.5,-3956 169.5,-3934 126.5,-3934\"/>\n<text text-anchor=\"start\" x=\"135.62\" y=\"-3941.5\" font-family=\"Linux libertine\" font-size=\"10.00\">input:</text>\n<polygon fill=\"none\" stroke=\"black\" points=\"169.5,-3934 169.5,-3956 244.5,-3956 244.5,-3934 169.5,-3934\"/>\n<text text-anchor=\"start\" x=\"174.38\" y=\"-3941.5\" font-family=\"Linux libertine\" font-size=\"10.00\">(1, 96, 56, 56) </text>\n<polygon fill=\"none\" stroke=\"black\" points=\"126.5,-3912 126.5,-3934 169.5,-3934 169.5,-3912 126.5,-3912\"/>\n<text text-anchor=\"start\" x=\"131.12\" y=\"-3919.5\" font-family=\"Linux libertine\" font-size=\"10.00\">output: </text>\n<polygon fill=\"none\" stroke=\"black\" points=\"169.5,-3912 169.5,-3934 244.5,-3934 244.5,-3912 169.5,-3912\"/>\n<text text-anchor=\"start\" x=\"174.38\" y=\"-3919.5\" font-family=\"Linux libertine\" font-size=\"10.00\">(1, 24, 56, 56) </text>\n</g>\n<!-- 12&#45;&gt;13 -->\n<g id=\"edge15\" class=\"edge\">\n<title>12&#45;&gt;13</title>\n<path fill=\"none\" stroke=\"black\" d=\"M156.54,-3992.1C156.73,-3984.49 156.96,-3975.7 157.17,-3967.34\"/>\n<polygon fill=\"black\" stroke=\"black\" points=\"160.67,-3967.56 157.42,-3957.47 153.67,-3967.38 160.67,-3967.56\"/>\n</g>\n<!-- 14 -->\n<g id=\"node15\" class=\"node\">\n<title>14</title>\n<polygon fill=\"#c1ffc1\" stroke=\"none\" points=\"247,-3865.75 69,-3865.75 69,-3821.75 247,-3821.75 247,-3865.75\"/>\n<polygon fill=\"none\" stroke=\"black\" points=\"69,-3821.75 69,-3865.75 124,-3865.75 124,-3821.75 69,-3821.75\"/>\n<text text-anchor=\"start\" x=\"74\" y=\"-3846.25\" font-family=\"Linux libertine\" font-size=\"10.00\">Sequential</text>\n<text text-anchor=\"start\" x=\"80\" y=\"-3834.25\" font-family=\"Linux libertine\" font-size=\"10.00\">depth:3</text>\n<polygon fill=\"none\" stroke=\"black\" points=\"124,-3843.75 124,-3865.75 167,-3865.75 167,-3843.75 124,-3843.75\"/>\n<text text-anchor=\"start\" x=\"133.12\" y=\"-3851.25\" font-family=\"Linux libertine\" font-size=\"10.00\">input:</text>\n<polygon fill=\"none\" stroke=\"black\" points=\"167,-3843.75 167,-3865.75 247,-3865.75 247,-3843.75 167,-3843.75\"/>\n<text text-anchor=\"start\" x=\"174.38\" y=\"-3851.25\" font-family=\"Linux libertine\" font-size=\"10.00\">(1, 24, 56, 56) </text>\n<polygon fill=\"none\" stroke=\"black\" points=\"124,-3821.75 124,-3843.75 167,-3843.75 167,-3821.75 124,-3821.75\"/>\n<text text-anchor=\"start\" x=\"128.62\" y=\"-3829.25\" font-family=\"Linux libertine\" font-size=\"10.00\">output: </text>\n<polygon fill=\"none\" stroke=\"black\" points=\"167,-3821.75 167,-3843.75 247,-3843.75 247,-3821.75 167,-3821.75\"/>\n<text text-anchor=\"start\" x=\"171.75\" y=\"-3829.25\" font-family=\"Linux libertine\" font-size=\"10.00\">(1, 144, 56, 56) </text>\n</g>\n<!-- 13&#45;&gt;14 -->\n<g id=\"edge16\" class=\"edge\">\n<title>13&#45;&gt;14</title>\n<path fill=\"none\" stroke=\"black\" d=\"M158,-3912.09C158,-3901.54 158,-3888.51 158,-3876.73\"/>\n<polygon fill=\"black\" stroke=\"black\" points=\"161.5,-3877.03 158,-3867.03 154.5,-3877.03 161.5,-3877.03\"/>\n</g>\n<!-- 19 -->\n<g id=\"node20\" class=\"node\">\n<title>19</title>\n<polygon fill=\"aliceblue\" stroke=\"none\" points=\"242.5,-3465.75 65.5,-3465.75 65.5,-3421.75 242.5,-3421.75 242.5,-3465.75\"/>\n<polygon fill=\"none\" stroke=\"black\" points=\"65.5,-3421.75 65.5,-3465.75 108.5,-3465.75 108.5,-3421.75 65.5,-3421.75\"/>\n<text text-anchor=\"start\" x=\"76.5\" y=\"-3446.25\" font-family=\"Linux libertine\" font-size=\"10.00\">add_</text>\n<text text-anchor=\"start\" x=\"70.5\" y=\"-3434.25\" font-family=\"Linux libertine\" font-size=\"10.00\">depth:3</text>\n<polygon fill=\"none\" stroke=\"black\" points=\"108.5,-3443.75 108.5,-3465.75 151.5,-3465.75 151.5,-3443.75 108.5,-3443.75\"/>\n<text text-anchor=\"start\" x=\"117.62\" y=\"-3451.25\" font-family=\"Linux libertine\" font-size=\"10.00\">input:</text>\n<polygon fill=\"none\" stroke=\"black\" points=\"151.5,-3443.75 151.5,-3465.75 242.5,-3465.75 242.5,-3443.75 151.5,-3443.75\"/>\n<text text-anchor=\"start\" x=\"156.5\" y=\"-3451.25\" font-family=\"Linux libertine\" font-size=\"10.00\">2 x (1, 24, 56, 56) </text>\n<polygon fill=\"none\" stroke=\"black\" points=\"108.5,-3421.75 108.5,-3443.75 151.5,-3443.75 151.5,-3421.75 108.5,-3421.75\"/>\n<text text-anchor=\"start\" x=\"113.12\" y=\"-3429.25\" font-family=\"Linux libertine\" font-size=\"10.00\">output: </text>\n<polygon fill=\"none\" stroke=\"black\" points=\"151.5,-3421.75 151.5,-3443.75 242.5,-3443.75 242.5,-3421.75 151.5,-3421.75\"/>\n<text text-anchor=\"start\" x=\"164.38\" y=\"-3429.25\" font-family=\"Linux libertine\" font-size=\"10.00\">(1, 24, 56, 56) </text>\n</g>\n<!-- 13&#45;&gt;19 -->\n<g id=\"edge17\" class=\"edge\">\n<title>13&#45;&gt;19</title>\n<path fill=\"none\" stroke=\"black\" d=\"M237.63,-3912.11C244.6,-3907.72 250.92,-3902.42 256,-3896 292.49,-3849.87 273,-3823.57 273,-3764.75 273,-3764.75 273,-3764.75 273,-3602.75 273,-3556.28 273.7,-3539.06 246,-3501.75 237.07,-3489.73 224.79,-3479.67 212.11,-3471.51\"/>\n<polygon fill=\"black\" stroke=\"black\" points=\"214.04,-3468.59 203.67,-3466.43 210.43,-3474.59 214.04,-3468.59\"/>\n</g>\n<!-- 15 -->\n<g id=\"node16\" class=\"node\">\n<title>15</title>\n<polygon fill=\"#c1ffc1\" stroke=\"none\" points=\"247,-3785.75 69,-3785.75 69,-3741.75 247,-3741.75 247,-3785.75\"/>\n<polygon fill=\"none\" stroke=\"black\" points=\"69,-3741.75 69,-3785.75 124,-3785.75 124,-3741.75 69,-3741.75\"/>\n<text text-anchor=\"start\" x=\"74\" y=\"-3766.25\" font-family=\"Linux libertine\" font-size=\"10.00\">Sequential</text>\n<text text-anchor=\"start\" x=\"80\" y=\"-3754.25\" font-family=\"Linux libertine\" font-size=\"10.00\">depth:3</text>\n<polygon fill=\"none\" stroke=\"black\" points=\"124,-3763.75 124,-3785.75 167,-3785.75 167,-3763.75 124,-3763.75\"/>\n<text text-anchor=\"start\" x=\"133.12\" y=\"-3771.25\" font-family=\"Linux libertine\" font-size=\"10.00\">input:</text>\n<polygon fill=\"none\" stroke=\"black\" points=\"167,-3763.75 167,-3785.75 247,-3785.75 247,-3763.75 167,-3763.75\"/>\n<text text-anchor=\"start\" x=\"171.75\" y=\"-3771.25\" font-family=\"Linux libertine\" font-size=\"10.00\">(1, 144, 56, 56) </text>\n<polygon fill=\"none\" stroke=\"black\" points=\"124,-3741.75 124,-3763.75 167,-3763.75 167,-3741.75 124,-3741.75\"/>\n<text text-anchor=\"start\" x=\"128.62\" y=\"-3749.25\" font-family=\"Linux libertine\" font-size=\"10.00\">output: </text>\n<polygon fill=\"none\" stroke=\"black\" points=\"167,-3741.75 167,-3763.75 247,-3763.75 247,-3741.75 167,-3741.75\"/>\n<text text-anchor=\"start\" x=\"171.75\" y=\"-3749.25\" font-family=\"Linux libertine\" font-size=\"10.00\">(1, 144, 56, 56) </text>\n</g>\n<!-- 14&#45;&gt;15 -->\n<g id=\"edge18\" class=\"edge\">\n<title>14&#45;&gt;15</title>\n<path fill=\"none\" stroke=\"black\" d=\"M158,-3821.85C158,-3814.24 158,-3805.45 158,-3797.09\"/>\n<polygon fill=\"black\" stroke=\"black\" points=\"161.5,-3797.22 158,-3787.22 154.5,-3797.22 161.5,-3797.22\"/>\n</g>\n<!-- 16 -->\n<g id=\"node17\" class=\"node\">\n<title>16</title>\n<polygon fill=\"#c1ffc1\" stroke=\"none\" points=\"251,-3705.75 73,-3705.75 73,-3661.75 251,-3661.75 251,-3705.75\"/>\n<polygon fill=\"none\" stroke=\"black\" points=\"73,-3661.75 73,-3705.75 128,-3705.75 128,-3661.75 73,-3661.75\"/>\n<text text-anchor=\"start\" x=\"78\" y=\"-3686.25\" font-family=\"Linux libertine\" font-size=\"10.00\">Sequential</text>\n<text text-anchor=\"start\" x=\"84\" y=\"-3674.25\" font-family=\"Linux libertine\" font-size=\"10.00\">depth:3</text>\n<polygon fill=\"none\" stroke=\"black\" points=\"128,-3683.75 128,-3705.75 171,-3705.75 171,-3683.75 128,-3683.75\"/>\n<text text-anchor=\"start\" x=\"137.12\" y=\"-3691.25\" font-family=\"Linux libertine\" font-size=\"10.00\">input:</text>\n<polygon fill=\"none\" stroke=\"black\" points=\"171,-3683.75 171,-3705.75 251,-3705.75 251,-3683.75 171,-3683.75\"/>\n<text text-anchor=\"start\" x=\"175.75\" y=\"-3691.25\" font-family=\"Linux libertine\" font-size=\"10.00\">(1, 144, 56, 56) </text>\n<polygon fill=\"none\" stroke=\"black\" points=\"128,-3661.75 128,-3683.75 171,-3683.75 171,-3661.75 128,-3661.75\"/>\n<text text-anchor=\"start\" x=\"132.62\" y=\"-3669.25\" font-family=\"Linux libertine\" font-size=\"10.00\">output: </text>\n<polygon fill=\"none\" stroke=\"black\" points=\"171,-3661.75 171,-3683.75 251,-3683.75 251,-3661.75 171,-3661.75\"/>\n<text text-anchor=\"start\" x=\"181\" y=\"-3669.25\" font-family=\"Linux libertine\" font-size=\"10.00\">(1, 144, 1, 1) </text>\n</g>\n<!-- 15&#45;&gt;16 -->\n<g id=\"edge19\" class=\"edge\">\n<title>15&#45;&gt;16</title>\n<path fill=\"none\" stroke=\"black\" d=\"M159.07,-3741.85C159.46,-3734.24 159.91,-3725.45 160.34,-3717.09\"/>\n<polygon fill=\"black\" stroke=\"black\" points=\"163.83,-3717.39 160.85,-3707.22 156.84,-3717.03 163.83,-3717.39\"/>\n</g>\n<!-- 17 -->\n<g id=\"node18\" class=\"node\">\n<title>17</title>\n<polygon fill=\"aliceblue\" stroke=\"none\" points=\"253.5,-3625.75 24.5,-3625.75 24.5,-3581.75 253.5,-3581.75 253.5,-3625.75\"/>\n<polygon fill=\"none\" stroke=\"black\" points=\"24.5,-3581.75 24.5,-3625.75 67.5,-3625.75 67.5,-3581.75 24.5,-3581.75\"/>\n<text text-anchor=\"start\" x=\"38.12\" y=\"-3606.25\" font-family=\"Linux libertine\" font-size=\"10.00\">mul</text>\n<text text-anchor=\"start\" x=\"29.5\" y=\"-3594.25\" font-family=\"Linux libertine\" font-size=\"10.00\">depth:3</text>\n<polygon fill=\"none\" stroke=\"black\" points=\"67.5,-3603.75 67.5,-3625.75 110.5,-3625.75 110.5,-3603.75 67.5,-3603.75\"/>\n<text text-anchor=\"start\" x=\"76.62\" y=\"-3611.25\" font-family=\"Linux libertine\" font-size=\"10.00\">input:</text>\n<polygon fill=\"none\" stroke=\"black\" points=\"110.5,-3603.75 110.5,-3625.75 253.5,-3625.75 253.5,-3603.75 110.5,-3603.75\"/>\n<text text-anchor=\"start\" x=\"115.25\" y=\"-3611.25\" font-family=\"Linux libertine\" font-size=\"10.00\">(1, 144, 56, 56), (1, 144, 1, 1) </text>\n<polygon fill=\"none\" stroke=\"black\" points=\"67.5,-3581.75 67.5,-3603.75 110.5,-3603.75 110.5,-3581.75 67.5,-3581.75\"/>\n<text text-anchor=\"start\" x=\"72.12\" y=\"-3589.25\" font-family=\"Linux libertine\" font-size=\"10.00\">output: </text>\n<polygon fill=\"none\" stroke=\"black\" points=\"110.5,-3581.75 110.5,-3603.75 253.5,-3603.75 253.5,-3581.75 110.5,-3581.75\"/>\n<text text-anchor=\"start\" x=\"146.75\" y=\"-3589.25\" font-family=\"Linux libertine\" font-size=\"10.00\">(1, 144, 56, 56) </text>\n</g>\n<!-- 15&#45;&gt;17 -->\n<g id=\"edge20\" class=\"edge\">\n<title>15&#45;&gt;17</title>\n<path fill=\"none\" stroke=\"black\" d=\"M103.29,-3741.94C87.81,-3733.22 72.8,-3721.38 64,-3705.75 54.4,-3688.71 55.31,-3679.27 64,-3661.75 69.73,-3650.19 79.06,-3640.34 89.21,-3632.25\"/>\n<polygon fill=\"black\" stroke=\"black\" points=\"91.07,-3635.23 97.06,-3626.49 86.93,-3629.58 91.07,-3635.23\"/>\n</g>\n<!-- 16&#45;&gt;17 -->\n<g id=\"edge21\" class=\"edge\">\n<title>16&#45;&gt;17</title>\n<path fill=\"none\" stroke=\"black\" d=\"M155.84,-3661.85C153.54,-3654.07 150.88,-3645.05 148.37,-3636.51\"/>\n<polygon fill=\"black\" stroke=\"black\" points=\"151.79,-3635.76 145.61,-3627.16 145.08,-3637.74 151.79,-3635.76\"/>\n</g>\n<!-- 18 -->\n<g id=\"node19\" class=\"node\">\n<title>18</title>\n<polygon fill=\"#c1ffc1\" stroke=\"none\" points=\"237,-3545.75 59,-3545.75 59,-3501.75 237,-3501.75 237,-3545.75\"/>\n<polygon fill=\"none\" stroke=\"black\" points=\"59,-3501.75 59,-3545.75 114,-3545.75 114,-3501.75 59,-3501.75\"/>\n<text text-anchor=\"start\" x=\"64\" y=\"-3526.25\" font-family=\"Linux libertine\" font-size=\"10.00\">Sequential</text>\n<text text-anchor=\"start\" x=\"70\" y=\"-3514.25\" font-family=\"Linux libertine\" font-size=\"10.00\">depth:3</text>\n<polygon fill=\"none\" stroke=\"black\" points=\"114,-3523.75 114,-3545.75 157,-3545.75 157,-3523.75 114,-3523.75\"/>\n<text text-anchor=\"start\" x=\"123.12\" y=\"-3531.25\" font-family=\"Linux libertine\" font-size=\"10.00\">input:</text>\n<polygon fill=\"none\" stroke=\"black\" points=\"157,-3523.75 157,-3545.75 237,-3545.75 237,-3523.75 157,-3523.75\"/>\n<text text-anchor=\"start\" x=\"161.75\" y=\"-3531.25\" font-family=\"Linux libertine\" font-size=\"10.00\">(1, 144, 56, 56) </text>\n<polygon fill=\"none\" stroke=\"black\" points=\"114,-3501.75 114,-3523.75 157,-3523.75 157,-3501.75 114,-3501.75\"/>\n<text text-anchor=\"start\" x=\"118.62\" y=\"-3509.25\" font-family=\"Linux libertine\" font-size=\"10.00\">output: </text>\n<polygon fill=\"none\" stroke=\"black\" points=\"157,-3501.75 157,-3523.75 237,-3523.75 237,-3501.75 157,-3501.75\"/>\n<text text-anchor=\"start\" x=\"164.38\" y=\"-3509.25\" font-family=\"Linux libertine\" font-size=\"10.00\">(1, 24, 56, 56) </text>\n</g>\n<!-- 17&#45;&gt;18 -->\n<g id=\"edge22\" class=\"edge\">\n<title>17&#45;&gt;18</title>\n<path fill=\"none\" stroke=\"black\" d=\"M141.41,-3581.85C142.29,-3574.24 143.3,-3565.45 144.27,-3557.09\"/>\n<polygon fill=\"black\" stroke=\"black\" points=\"147.74,-3557.55 145.41,-3547.21 140.78,-3556.75 147.74,-3557.55\"/>\n</g>\n<!-- 18&#45;&gt;19 -->\n<g id=\"edge23\" class=\"edge\">\n<title>18&#45;&gt;19</title>\n<path fill=\"none\" stroke=\"black\" d=\"M149.61,-3501.85C150.19,-3494.24 150.87,-3485.45 151.51,-3477.09\"/>\n<polygon fill=\"black\" stroke=\"black\" points=\"154.99,-3477.46 152.27,-3467.22 148.01,-3476.92 154.99,-3477.46\"/>\n</g>\n<!-- 20 -->\n<g id=\"node21\" class=\"node\">\n<title>20</title>\n<polygon fill=\"#c1ffc1\" stroke=\"none\" points=\"234.5,-3385.75 73.5,-3385.75 73.5,-3341.75 234.5,-3341.75 234.5,-3385.75\"/>\n<polygon fill=\"none\" stroke=\"black\" points=\"73.5,-3341.75 73.5,-3385.75 116.5,-3385.75 116.5,-3341.75 73.5,-3341.75\"/>\n<text text-anchor=\"start\" x=\"78.12\" y=\"-3366.25\" font-family=\"Linux libertine\" font-size=\"10.00\">Dropout</text>\n<text text-anchor=\"start\" x=\"78.5\" y=\"-3354.25\" font-family=\"Linux libertine\" font-size=\"10.00\">depth:3</text>\n<polygon fill=\"none\" stroke=\"black\" points=\"116.5,-3363.75 116.5,-3385.75 159.5,-3385.75 159.5,-3363.75 116.5,-3363.75\"/>\n<text text-anchor=\"start\" x=\"125.62\" y=\"-3371.25\" font-family=\"Linux libertine\" font-size=\"10.00\">input:</text>\n<polygon fill=\"none\" stroke=\"black\" points=\"159.5,-3363.75 159.5,-3385.75 234.5,-3385.75 234.5,-3363.75 159.5,-3363.75\"/>\n<text text-anchor=\"start\" x=\"164.38\" y=\"-3371.25\" font-family=\"Linux libertine\" font-size=\"10.00\">(1, 24, 56, 56) </text>\n<polygon fill=\"none\" stroke=\"black\" points=\"116.5,-3341.75 116.5,-3363.75 159.5,-3363.75 159.5,-3341.75 116.5,-3341.75\"/>\n<text text-anchor=\"start\" x=\"121.12\" y=\"-3349.25\" font-family=\"Linux libertine\" font-size=\"10.00\">output: </text>\n<polygon fill=\"none\" stroke=\"black\" points=\"159.5,-3341.75 159.5,-3363.75 234.5,-3363.75 234.5,-3341.75 159.5,-3341.75\"/>\n<text text-anchor=\"start\" x=\"164.38\" y=\"-3349.25\" font-family=\"Linux libertine\" font-size=\"10.00\">(1, 24, 56, 56) </text>\n</g>\n<!-- 19&#45;&gt;20 -->\n<g id=\"edge24\" class=\"edge\">\n<title>19&#45;&gt;20</title>\n<path fill=\"none\" stroke=\"black\" d=\"M154,-3421.85C154,-3414.24 154,-3405.45 154,-3397.09\"/>\n<polygon fill=\"black\" stroke=\"black\" points=\"157.5,-3397.22 154,-3387.22 150.5,-3397.22 157.5,-3397.22\"/>\n</g>\n<!-- 21 -->\n<g id=\"node22\" class=\"node\">\n<title>21</title>\n<polygon fill=\"#c1ffc1\" stroke=\"none\" points=\"243,-3295.5 65,-3295.5 65,-3251.5 243,-3251.5 243,-3295.5\"/>\n<polygon fill=\"none\" stroke=\"black\" points=\"65,-3251.5 65,-3295.5 120,-3295.5 120,-3251.5 65,-3251.5\"/>\n<text text-anchor=\"start\" x=\"70\" y=\"-3276\" font-family=\"Linux libertine\" font-size=\"10.00\">Sequential</text>\n<text text-anchor=\"start\" x=\"76\" y=\"-3264\" font-family=\"Linux libertine\" font-size=\"10.00\">depth:3</text>\n<polygon fill=\"none\" stroke=\"black\" points=\"120,-3273.5 120,-3295.5 163,-3295.5 163,-3273.5 120,-3273.5\"/>\n<text text-anchor=\"start\" x=\"129.12\" y=\"-3281\" font-family=\"Linux libertine\" font-size=\"10.00\">input:</text>\n<polygon fill=\"none\" stroke=\"black\" points=\"163,-3273.5 163,-3295.5 243,-3295.5 243,-3273.5 163,-3273.5\"/>\n<text text-anchor=\"start\" x=\"170.38\" y=\"-3281\" font-family=\"Linux libertine\" font-size=\"10.00\">(1, 24, 56, 56) </text>\n<polygon fill=\"none\" stroke=\"black\" points=\"120,-3251.5 120,-3273.5 163,-3273.5 163,-3251.5 120,-3251.5\"/>\n<text text-anchor=\"start\" x=\"124.62\" y=\"-3259\" font-family=\"Linux libertine\" font-size=\"10.00\">output: </text>\n<polygon fill=\"none\" stroke=\"black\" points=\"163,-3251.5 163,-3273.5 243,-3273.5 243,-3251.5 163,-3251.5\"/>\n<text text-anchor=\"start\" x=\"167.75\" y=\"-3259\" font-family=\"Linux libertine\" font-size=\"10.00\">(1, 144, 56, 56) </text>\n</g>\n<!-- 20&#45;&gt;21 -->\n<g id=\"edge25\" class=\"edge\">\n<title>20&#45;&gt;21</title>\n<path fill=\"none\" stroke=\"black\" d=\"M154,-3341.84C154,-3331.29 154,-3318.26 154,-3306.48\"/>\n<polygon fill=\"black\" stroke=\"black\" points=\"157.5,-3306.78 154,-3296.78 150.5,-3306.78 157.5,-3306.78\"/>\n</g>\n<!-- 22 -->\n<g id=\"node23\" class=\"node\">\n<title>22</title>\n<polygon fill=\"#c1ffc1\" stroke=\"none\" points=\"243,-3215.5 65,-3215.5 65,-3171.5 243,-3171.5 243,-3215.5\"/>\n<polygon fill=\"none\" stroke=\"black\" points=\"65,-3171.5 65,-3215.5 120,-3215.5 120,-3171.5 65,-3171.5\"/>\n<text text-anchor=\"start\" x=\"70\" y=\"-3196\" font-family=\"Linux libertine\" font-size=\"10.00\">Sequential</text>\n<text text-anchor=\"start\" x=\"76\" y=\"-3184\" font-family=\"Linux libertine\" font-size=\"10.00\">depth:3</text>\n<polygon fill=\"none\" stroke=\"black\" points=\"120,-3193.5 120,-3215.5 163,-3215.5 163,-3193.5 120,-3193.5\"/>\n<text text-anchor=\"start\" x=\"129.12\" y=\"-3201\" font-family=\"Linux libertine\" font-size=\"10.00\">input:</text>\n<polygon fill=\"none\" stroke=\"black\" points=\"163,-3193.5 163,-3215.5 243,-3215.5 243,-3193.5 163,-3193.5\"/>\n<text text-anchor=\"start\" x=\"167.75\" y=\"-3201\" font-family=\"Linux libertine\" font-size=\"10.00\">(1, 144, 56, 56) </text>\n<polygon fill=\"none\" stroke=\"black\" points=\"120,-3171.5 120,-3193.5 163,-3193.5 163,-3171.5 120,-3171.5\"/>\n<text text-anchor=\"start\" x=\"124.62\" y=\"-3179\" font-family=\"Linux libertine\" font-size=\"10.00\">output: </text>\n<polygon fill=\"none\" stroke=\"black\" points=\"163,-3171.5 163,-3193.5 243,-3193.5 243,-3171.5 163,-3171.5\"/>\n<text text-anchor=\"start\" x=\"167.75\" y=\"-3179\" font-family=\"Linux libertine\" font-size=\"10.00\">(1, 144, 28, 28) </text>\n</g>\n<!-- 21&#45;&gt;22 -->\n<g id=\"edge26\" class=\"edge\">\n<title>21&#45;&gt;22</title>\n<path fill=\"none\" stroke=\"black\" d=\"M154,-3251.6C154,-3243.99 154,-3235.2 154,-3226.84\"/>\n<polygon fill=\"black\" stroke=\"black\" points=\"157.5,-3226.97 154,-3216.97 150.5,-3226.97 157.5,-3226.97\"/>\n</g>\n<!-- 23 -->\n<g id=\"node24\" class=\"node\">\n<title>23</title>\n<polygon fill=\"#c1ffc1\" stroke=\"none\" points=\"253,-3135.5 75,-3135.5 75,-3091.5 253,-3091.5 253,-3135.5\"/>\n<polygon fill=\"none\" stroke=\"black\" points=\"75,-3091.5 75,-3135.5 130,-3135.5 130,-3091.5 75,-3091.5\"/>\n<text text-anchor=\"start\" x=\"80\" y=\"-3116\" font-family=\"Linux libertine\" font-size=\"10.00\">Sequential</text>\n<text text-anchor=\"start\" x=\"86\" y=\"-3104\" font-family=\"Linux libertine\" font-size=\"10.00\">depth:3</text>\n<polygon fill=\"none\" stroke=\"black\" points=\"130,-3113.5 130,-3135.5 173,-3135.5 173,-3113.5 130,-3113.5\"/>\n<text text-anchor=\"start\" x=\"139.12\" y=\"-3121\" font-family=\"Linux libertine\" font-size=\"10.00\">input:</text>\n<polygon fill=\"none\" stroke=\"black\" points=\"173,-3113.5 173,-3135.5 253,-3135.5 253,-3113.5 173,-3113.5\"/>\n<text text-anchor=\"start\" x=\"177.75\" y=\"-3121\" font-family=\"Linux libertine\" font-size=\"10.00\">(1, 144, 28, 28) </text>\n<polygon fill=\"none\" stroke=\"black\" points=\"130,-3091.5 130,-3113.5 173,-3113.5 173,-3091.5 130,-3091.5\"/>\n<text text-anchor=\"start\" x=\"134.62\" y=\"-3099\" font-family=\"Linux libertine\" font-size=\"10.00\">output: </text>\n<polygon fill=\"none\" stroke=\"black\" points=\"173,-3091.5 173,-3113.5 253,-3113.5 253,-3091.5 173,-3091.5\"/>\n<text text-anchor=\"start\" x=\"183\" y=\"-3099\" font-family=\"Linux libertine\" font-size=\"10.00\">(1, 144, 1, 1) </text>\n</g>\n<!-- 22&#45;&gt;23 -->\n<g id=\"edge27\" class=\"edge\">\n<title>22&#45;&gt;23</title>\n<path fill=\"none\" stroke=\"black\" d=\"M156.68,-3171.6C157.66,-3163.99 158.78,-3155.2 159.85,-3146.84\"/>\n<polygon fill=\"black\" stroke=\"black\" points=\"163.32,-3147.33 161.12,-3136.96 156.38,-3146.44 163.32,-3147.33\"/>\n</g>\n<!-- 24 -->\n<g id=\"node25\" class=\"node\">\n<title>24</title>\n<polygon fill=\"aliceblue\" stroke=\"none\" points=\"265.5,-3055.5 36.5,-3055.5 36.5,-3011.5 265.5,-3011.5 265.5,-3055.5\"/>\n<polygon fill=\"none\" stroke=\"black\" points=\"36.5,-3011.5 36.5,-3055.5 79.5,-3055.5 79.5,-3011.5 36.5,-3011.5\"/>\n<text text-anchor=\"start\" x=\"50.12\" y=\"-3036\" font-family=\"Linux libertine\" font-size=\"10.00\">mul</text>\n<text text-anchor=\"start\" x=\"41.5\" y=\"-3024\" font-family=\"Linux libertine\" font-size=\"10.00\">depth:3</text>\n<polygon fill=\"none\" stroke=\"black\" points=\"79.5,-3033.5 79.5,-3055.5 122.5,-3055.5 122.5,-3033.5 79.5,-3033.5\"/>\n<text text-anchor=\"start\" x=\"88.62\" y=\"-3041\" font-family=\"Linux libertine\" font-size=\"10.00\">input:</text>\n<polygon fill=\"none\" stroke=\"black\" points=\"122.5,-3033.5 122.5,-3055.5 265.5,-3055.5 265.5,-3033.5 122.5,-3033.5\"/>\n<text text-anchor=\"start\" x=\"127.25\" y=\"-3041\" font-family=\"Linux libertine\" font-size=\"10.00\">(1, 144, 28, 28), (1, 144, 1, 1) </text>\n<polygon fill=\"none\" stroke=\"black\" points=\"79.5,-3011.5 79.5,-3033.5 122.5,-3033.5 122.5,-3011.5 79.5,-3011.5\"/>\n<text text-anchor=\"start\" x=\"84.12\" y=\"-3019\" font-family=\"Linux libertine\" font-size=\"10.00\">output: </text>\n<polygon fill=\"none\" stroke=\"black\" points=\"122.5,-3011.5 122.5,-3033.5 265.5,-3033.5 265.5,-3011.5 122.5,-3011.5\"/>\n<text text-anchor=\"start\" x=\"158.75\" y=\"-3019\" font-family=\"Linux libertine\" font-size=\"10.00\">(1, 144, 28, 28) </text>\n</g>\n<!-- 22&#45;&gt;24 -->\n<g id=\"edge28\" class=\"edge\">\n<title>22&#45;&gt;24</title>\n<path fill=\"none\" stroke=\"black\" d=\"M103.63,-3171.53C88.81,-3162.71 74.35,-3150.85 66,-3135.5 56.66,-3118.32 56.8,-3108.75 66,-3091.5 72.4,-3079.5 82.58,-3069.58 93.7,-3061.56\"/>\n<polygon fill=\"black\" stroke=\"black\" points=\"95.53,-3064.55 101.94,-3056.11 91.66,-3058.71 95.53,-3064.55\"/>\n</g>\n<!-- 23&#45;&gt;24 -->\n<g id=\"edge29\" class=\"edge\">\n<title>23&#45;&gt;24</title>\n<path fill=\"none\" stroke=\"black\" d=\"M160.52,-3091.6C159.23,-3083.9 157.75,-3075 156.34,-3066.55\"/>\n<polygon fill=\"black\" stroke=\"black\" points=\"159.84,-3066.24 154.74,-3056.95 152.93,-3067.39 159.84,-3066.24\"/>\n</g>\n<!-- 25 -->\n<g id=\"node26\" class=\"node\">\n<title>25</title>\n<polygon fill=\"#c1ffc1\" stroke=\"none\" points=\"243,-2975.5 65,-2975.5 65,-2931.5 243,-2931.5 243,-2975.5\"/>\n<polygon fill=\"none\" stroke=\"black\" points=\"65,-2931.5 65,-2975.5 120,-2975.5 120,-2931.5 65,-2931.5\"/>\n<text text-anchor=\"start\" x=\"70\" y=\"-2956\" font-family=\"Linux libertine\" font-size=\"10.00\">Sequential</text>\n<text text-anchor=\"start\" x=\"76\" y=\"-2944\" font-family=\"Linux libertine\" font-size=\"10.00\">depth:3</text>\n<polygon fill=\"none\" stroke=\"black\" points=\"120,-2953.5 120,-2975.5 163,-2975.5 163,-2953.5 120,-2953.5\"/>\n<text text-anchor=\"start\" x=\"129.12\" y=\"-2961\" font-family=\"Linux libertine\" font-size=\"10.00\">input:</text>\n<polygon fill=\"none\" stroke=\"black\" points=\"163,-2953.5 163,-2975.5 243,-2975.5 243,-2953.5 163,-2953.5\"/>\n<text text-anchor=\"start\" x=\"167.75\" y=\"-2961\" font-family=\"Linux libertine\" font-size=\"10.00\">(1, 144, 28, 28) </text>\n<polygon fill=\"none\" stroke=\"black\" points=\"120,-2931.5 120,-2953.5 163,-2953.5 163,-2931.5 120,-2931.5\"/>\n<text text-anchor=\"start\" x=\"124.62\" y=\"-2939\" font-family=\"Linux libertine\" font-size=\"10.00\">output: </text>\n<polygon fill=\"none\" stroke=\"black\" points=\"163,-2931.5 163,-2953.5 243,-2953.5 243,-2931.5 163,-2931.5\"/>\n<text text-anchor=\"start\" x=\"170.38\" y=\"-2939\" font-family=\"Linux libertine\" font-size=\"10.00\">(1, 40, 28, 28) </text>\n</g>\n<!-- 24&#45;&gt;25 -->\n<g id=\"edge30\" class=\"edge\">\n<title>24&#45;&gt;25</title>\n<path fill=\"none\" stroke=\"black\" d=\"M151.8,-3011.6C152.1,-3003.99 152.43,-2995.2 152.76,-2986.84\"/>\n<polygon fill=\"black\" stroke=\"black\" points=\"156.25,-2987.1 153.14,-2976.97 149.25,-2986.83 156.25,-2987.1\"/>\n</g>\n<!-- 26 -->\n<g id=\"node27\" class=\"node\">\n<title>26</title>\n<polygon fill=\"#c1ffc1\" stroke=\"none\" points=\"243,-2885.25 65,-2885.25 65,-2841.25 243,-2841.25 243,-2885.25\"/>\n<polygon fill=\"none\" stroke=\"black\" points=\"65,-2841.25 65,-2885.25 120,-2885.25 120,-2841.25 65,-2841.25\"/>\n<text text-anchor=\"start\" x=\"70\" y=\"-2865.75\" font-family=\"Linux libertine\" font-size=\"10.00\">Sequential</text>\n<text text-anchor=\"start\" x=\"76\" y=\"-2853.75\" font-family=\"Linux libertine\" font-size=\"10.00\">depth:3</text>\n<polygon fill=\"none\" stroke=\"black\" points=\"120,-2863.25 120,-2885.25 163,-2885.25 163,-2863.25 120,-2863.25\"/>\n<text text-anchor=\"start\" x=\"129.12\" y=\"-2870.75\" font-family=\"Linux libertine\" font-size=\"10.00\">input:</text>\n<polygon fill=\"none\" stroke=\"black\" points=\"163,-2863.25 163,-2885.25 243,-2885.25 243,-2863.25 163,-2863.25\"/>\n<text text-anchor=\"start\" x=\"170.38\" y=\"-2870.75\" font-family=\"Linux libertine\" font-size=\"10.00\">(1, 40, 28, 28) </text>\n<polygon fill=\"none\" stroke=\"black\" points=\"120,-2841.25 120,-2863.25 163,-2863.25 163,-2841.25 120,-2841.25\"/>\n<text text-anchor=\"start\" x=\"124.62\" y=\"-2848.75\" font-family=\"Linux libertine\" font-size=\"10.00\">output: </text>\n<polygon fill=\"none\" stroke=\"black\" points=\"163,-2841.25 163,-2863.25 243,-2863.25 243,-2841.25 163,-2841.25\"/>\n<text text-anchor=\"start\" x=\"167.75\" y=\"-2848.75\" font-family=\"Linux libertine\" font-size=\"10.00\">(1, 240, 28, 28) </text>\n</g>\n<!-- 25&#45;&gt;26 -->\n<g id=\"edge31\" class=\"edge\">\n<title>25&#45;&gt;26</title>\n<path fill=\"none\" stroke=\"black\" d=\"M154,-2931.59C154,-2921.04 154,-2908.01 154,-2896.23\"/>\n<polygon fill=\"black\" stroke=\"black\" points=\"157.5,-2896.53 154,-2886.53 150.5,-2896.53 157.5,-2896.53\"/>\n</g>\n<!-- 31 -->\n<g id=\"node32\" class=\"node\">\n<title>31</title>\n<polygon fill=\"aliceblue\" stroke=\"none\" points=\"242.5,-2485.25 65.5,-2485.25 65.5,-2441.25 242.5,-2441.25 242.5,-2485.25\"/>\n<polygon fill=\"none\" stroke=\"black\" points=\"65.5,-2441.25 65.5,-2485.25 108.5,-2485.25 108.5,-2441.25 65.5,-2441.25\"/>\n<text text-anchor=\"start\" x=\"76.5\" y=\"-2465.75\" font-family=\"Linux libertine\" font-size=\"10.00\">add_</text>\n<text text-anchor=\"start\" x=\"70.5\" y=\"-2453.75\" font-family=\"Linux libertine\" font-size=\"10.00\">depth:3</text>\n<polygon fill=\"none\" stroke=\"black\" points=\"108.5,-2463.25 108.5,-2485.25 151.5,-2485.25 151.5,-2463.25 108.5,-2463.25\"/>\n<text text-anchor=\"start\" x=\"117.62\" y=\"-2470.75\" font-family=\"Linux libertine\" font-size=\"10.00\">input:</text>\n<polygon fill=\"none\" stroke=\"black\" points=\"151.5,-2463.25 151.5,-2485.25 242.5,-2485.25 242.5,-2463.25 151.5,-2463.25\"/>\n<text text-anchor=\"start\" x=\"156.5\" y=\"-2470.75\" font-family=\"Linux libertine\" font-size=\"10.00\">2 x (1, 40, 28, 28) </text>\n<polygon fill=\"none\" stroke=\"black\" points=\"108.5,-2441.25 108.5,-2463.25 151.5,-2463.25 151.5,-2441.25 108.5,-2441.25\"/>\n<text text-anchor=\"start\" x=\"113.12\" y=\"-2448.75\" font-family=\"Linux libertine\" font-size=\"10.00\">output: </text>\n<polygon fill=\"none\" stroke=\"black\" points=\"151.5,-2441.25 151.5,-2463.25 242.5,-2463.25 242.5,-2441.25 151.5,-2441.25\"/>\n<text text-anchor=\"start\" x=\"164.38\" y=\"-2448.75\" font-family=\"Linux libertine\" font-size=\"10.00\">(1, 40, 28, 28) </text>\n</g>\n<!-- 25&#45;&gt;31 -->\n<g id=\"edge32\" class=\"edge\">\n<title>25&#45;&gt;31</title>\n<path fill=\"none\" stroke=\"black\" d=\"M232.97,-2931.74C240.16,-2927.33 246.71,-2921.98 252,-2915.5 289.34,-2869.72 273,-2843.33 273,-2784.25 273,-2784.25 273,-2784.25 273,-2622.25 273,-2575.78 273.7,-2558.56 246,-2521.25 237.07,-2509.23 224.79,-2499.17 212.11,-2491.01\"/>\n<polygon fill=\"black\" stroke=\"black\" points=\"214.04,-2488.09 203.67,-2485.93 210.43,-2494.09 214.04,-2488.09\"/>\n</g>\n<!-- 27 -->\n<g id=\"node28\" class=\"node\">\n<title>27</title>\n<polygon fill=\"#c1ffc1\" stroke=\"none\" points=\"243,-2805.25 65,-2805.25 65,-2761.25 243,-2761.25 243,-2805.25\"/>\n<polygon fill=\"none\" stroke=\"black\" points=\"65,-2761.25 65,-2805.25 120,-2805.25 120,-2761.25 65,-2761.25\"/>\n<text text-anchor=\"start\" x=\"70\" y=\"-2785.75\" font-family=\"Linux libertine\" font-size=\"10.00\">Sequential</text>\n<text text-anchor=\"start\" x=\"76\" y=\"-2773.75\" font-family=\"Linux libertine\" font-size=\"10.00\">depth:3</text>\n<polygon fill=\"none\" stroke=\"black\" points=\"120,-2783.25 120,-2805.25 163,-2805.25 163,-2783.25 120,-2783.25\"/>\n<text text-anchor=\"start\" x=\"129.12\" y=\"-2790.75\" font-family=\"Linux libertine\" font-size=\"10.00\">input:</text>\n<polygon fill=\"none\" stroke=\"black\" points=\"163,-2783.25 163,-2805.25 243,-2805.25 243,-2783.25 163,-2783.25\"/>\n<text text-anchor=\"start\" x=\"167.75\" y=\"-2790.75\" font-family=\"Linux libertine\" font-size=\"10.00\">(1, 240, 28, 28) </text>\n<polygon fill=\"none\" stroke=\"black\" points=\"120,-2761.25 120,-2783.25 163,-2783.25 163,-2761.25 120,-2761.25\"/>\n<text text-anchor=\"start\" x=\"124.62\" y=\"-2768.75\" font-family=\"Linux libertine\" font-size=\"10.00\">output: </text>\n<polygon fill=\"none\" stroke=\"black\" points=\"163,-2761.25 163,-2783.25 243,-2783.25 243,-2761.25 163,-2761.25\"/>\n<text text-anchor=\"start\" x=\"167.75\" y=\"-2768.75\" font-family=\"Linux libertine\" font-size=\"10.00\">(1, 240, 28, 28) </text>\n</g>\n<!-- 26&#45;&gt;27 -->\n<g id=\"edge33\" class=\"edge\">\n<title>26&#45;&gt;27</title>\n<path fill=\"none\" stroke=\"black\" d=\"M154,-2841.35C154,-2833.74 154,-2824.95 154,-2816.59\"/>\n<polygon fill=\"black\" stroke=\"black\" points=\"157.5,-2816.72 154,-2806.72 150.5,-2816.72 157.5,-2816.72\"/>\n</g>\n<!-- 28 -->\n<g id=\"node29\" class=\"node\">\n<title>28</title>\n<polygon fill=\"#c1ffc1\" stroke=\"none\" points=\"247,-2725.25 69,-2725.25 69,-2681.25 247,-2681.25 247,-2725.25\"/>\n<polygon fill=\"none\" stroke=\"black\" points=\"69,-2681.25 69,-2725.25 124,-2725.25 124,-2681.25 69,-2681.25\"/>\n<text text-anchor=\"start\" x=\"74\" y=\"-2705.75\" font-family=\"Linux libertine\" font-size=\"10.00\">Sequential</text>\n<text text-anchor=\"start\" x=\"80\" y=\"-2693.75\" font-family=\"Linux libertine\" font-size=\"10.00\">depth:3</text>\n<polygon fill=\"none\" stroke=\"black\" points=\"124,-2703.25 124,-2725.25 167,-2725.25 167,-2703.25 124,-2703.25\"/>\n<text text-anchor=\"start\" x=\"133.12\" y=\"-2710.75\" font-family=\"Linux libertine\" font-size=\"10.00\">input:</text>\n<polygon fill=\"none\" stroke=\"black\" points=\"167,-2703.25 167,-2725.25 247,-2725.25 247,-2703.25 167,-2703.25\"/>\n<text text-anchor=\"start\" x=\"171.75\" y=\"-2710.75\" font-family=\"Linux libertine\" font-size=\"10.00\">(1, 240, 28, 28) </text>\n<polygon fill=\"none\" stroke=\"black\" points=\"124,-2681.25 124,-2703.25 167,-2703.25 167,-2681.25 124,-2681.25\"/>\n<text text-anchor=\"start\" x=\"128.62\" y=\"-2688.75\" font-family=\"Linux libertine\" font-size=\"10.00\">output: </text>\n<polygon fill=\"none\" stroke=\"black\" points=\"167,-2681.25 167,-2703.25 247,-2703.25 247,-2681.25 167,-2681.25\"/>\n<text text-anchor=\"start\" x=\"177\" y=\"-2688.75\" font-family=\"Linux libertine\" font-size=\"10.00\">(1, 240, 1, 1) </text>\n</g>\n<!-- 27&#45;&gt;28 -->\n<g id=\"edge34\" class=\"edge\">\n<title>27&#45;&gt;28</title>\n<path fill=\"none\" stroke=\"black\" d=\"M155.07,-2761.35C155.46,-2753.74 155.91,-2744.95 156.34,-2736.59\"/>\n<polygon fill=\"black\" stroke=\"black\" points=\"159.83,-2736.89 156.85,-2726.72 152.84,-2736.53 159.83,-2736.89\"/>\n</g>\n<!-- 29 -->\n<g id=\"node30\" class=\"node\">\n<title>29</title>\n<polygon fill=\"aliceblue\" stroke=\"none\" points=\"253.5,-2645.25 24.5,-2645.25 24.5,-2601.25 253.5,-2601.25 253.5,-2645.25\"/>\n<polygon fill=\"none\" stroke=\"black\" points=\"24.5,-2601.25 24.5,-2645.25 67.5,-2645.25 67.5,-2601.25 24.5,-2601.25\"/>\n<text text-anchor=\"start\" x=\"38.12\" y=\"-2625.75\" font-family=\"Linux libertine\" font-size=\"10.00\">mul</text>\n<text text-anchor=\"start\" x=\"29.5\" y=\"-2613.75\" font-family=\"Linux libertine\" font-size=\"10.00\">depth:3</text>\n<polygon fill=\"none\" stroke=\"black\" points=\"67.5,-2623.25 67.5,-2645.25 110.5,-2645.25 110.5,-2623.25 67.5,-2623.25\"/>\n<text text-anchor=\"start\" x=\"76.62\" y=\"-2630.75\" font-family=\"Linux libertine\" font-size=\"10.00\">input:</text>\n<polygon fill=\"none\" stroke=\"black\" points=\"110.5,-2623.25 110.5,-2645.25 253.5,-2645.25 253.5,-2623.25 110.5,-2623.25\"/>\n<text text-anchor=\"start\" x=\"115.25\" y=\"-2630.75\" font-family=\"Linux libertine\" font-size=\"10.00\">(1, 240, 28, 28), (1, 240, 1, 1) </text>\n<polygon fill=\"none\" stroke=\"black\" points=\"67.5,-2601.25 67.5,-2623.25 110.5,-2623.25 110.5,-2601.25 67.5,-2601.25\"/>\n<text text-anchor=\"start\" x=\"72.12\" y=\"-2608.75\" font-family=\"Linux libertine\" font-size=\"10.00\">output: </text>\n<polygon fill=\"none\" stroke=\"black\" points=\"110.5,-2601.25 110.5,-2623.25 253.5,-2623.25 253.5,-2601.25 110.5,-2601.25\"/>\n<text text-anchor=\"start\" x=\"146.75\" y=\"-2608.75\" font-family=\"Linux libertine\" font-size=\"10.00\">(1, 240, 28, 28) </text>\n</g>\n<!-- 27&#45;&gt;29 -->\n<g id=\"edge35\" class=\"edge\">\n<title>27&#45;&gt;29</title>\n<path fill=\"none\" stroke=\"black\" d=\"M99.29,-2761.44C83.81,-2752.72 68.8,-2740.88 60,-2725.25 50.4,-2708.21 51.09,-2698.66 60,-2681.25 65.96,-2669.6 75.53,-2659.79 85.98,-2651.77\"/>\n<polygon fill=\"black\" stroke=\"black\" points=\"87.93,-2654.67 94.09,-2646.05 83.9,-2648.95 87.93,-2654.67\"/>\n</g>\n<!-- 28&#45;&gt;29 -->\n<g id=\"edge36\" class=\"edge\">\n<title>28&#45;&gt;29</title>\n<path fill=\"none\" stroke=\"black\" d=\"M152.91,-2681.35C151.03,-2673.65 148.87,-2664.75 146.81,-2656.3\"/>\n<polygon fill=\"black\" stroke=\"black\" points=\"150.23,-2655.57 144.46,-2646.68 143.43,-2657.23 150.23,-2655.57\"/>\n</g>\n<!-- 30 -->\n<g id=\"node31\" class=\"node\">\n<title>30</title>\n<polygon fill=\"#c1ffc1\" stroke=\"none\" points=\"237,-2565.25 59,-2565.25 59,-2521.25 237,-2521.25 237,-2565.25\"/>\n<polygon fill=\"none\" stroke=\"black\" points=\"59,-2521.25 59,-2565.25 114,-2565.25 114,-2521.25 59,-2521.25\"/>\n<text text-anchor=\"start\" x=\"64\" y=\"-2545.75\" font-family=\"Linux libertine\" font-size=\"10.00\">Sequential</text>\n<text text-anchor=\"start\" x=\"70\" y=\"-2533.75\" font-family=\"Linux libertine\" font-size=\"10.00\">depth:3</text>\n<polygon fill=\"none\" stroke=\"black\" points=\"114,-2543.25 114,-2565.25 157,-2565.25 157,-2543.25 114,-2543.25\"/>\n<text text-anchor=\"start\" x=\"123.12\" y=\"-2550.75\" font-family=\"Linux libertine\" font-size=\"10.00\">input:</text>\n<polygon fill=\"none\" stroke=\"black\" points=\"157,-2543.25 157,-2565.25 237,-2565.25 237,-2543.25 157,-2543.25\"/>\n<text text-anchor=\"start\" x=\"161.75\" y=\"-2550.75\" font-family=\"Linux libertine\" font-size=\"10.00\">(1, 240, 28, 28) </text>\n<polygon fill=\"none\" stroke=\"black\" points=\"114,-2521.25 114,-2543.25 157,-2543.25 157,-2521.25 114,-2521.25\"/>\n<text text-anchor=\"start\" x=\"118.62\" y=\"-2528.75\" font-family=\"Linux libertine\" font-size=\"10.00\">output: </text>\n<polygon fill=\"none\" stroke=\"black\" points=\"157,-2521.25 157,-2543.25 237,-2543.25 237,-2521.25 157,-2521.25\"/>\n<text text-anchor=\"start\" x=\"164.38\" y=\"-2528.75\" font-family=\"Linux libertine\" font-size=\"10.00\">(1, 40, 28, 28) </text>\n</g>\n<!-- 29&#45;&gt;30 -->\n<g id=\"edge37\" class=\"edge\">\n<title>29&#45;&gt;30</title>\n<path fill=\"none\" stroke=\"black\" d=\"M141.41,-2601.35C142.29,-2593.74 143.3,-2584.95 144.27,-2576.59\"/>\n<polygon fill=\"black\" stroke=\"black\" points=\"147.74,-2577.05 145.41,-2566.71 140.78,-2576.25 147.74,-2577.05\"/>\n</g>\n<!-- 30&#45;&gt;31 -->\n<g id=\"edge38\" class=\"edge\">\n<title>30&#45;&gt;31</title>\n<path fill=\"none\" stroke=\"black\" d=\"M149.61,-2521.35C150.19,-2513.74 150.87,-2504.95 151.51,-2496.59\"/>\n<polygon fill=\"black\" stroke=\"black\" points=\"154.99,-2496.96 152.27,-2486.72 148.01,-2496.42 154.99,-2496.96\"/>\n</g>\n<!-- 32 -->\n<g id=\"node33\" class=\"node\">\n<title>32</title>\n<polygon fill=\"#c1ffc1\" stroke=\"none\" points=\"234.5,-2405.25 73.5,-2405.25 73.5,-2361.25 234.5,-2361.25 234.5,-2405.25\"/>\n<polygon fill=\"none\" stroke=\"black\" points=\"73.5,-2361.25 73.5,-2405.25 116.5,-2405.25 116.5,-2361.25 73.5,-2361.25\"/>\n<text text-anchor=\"start\" x=\"78.12\" y=\"-2385.75\" font-family=\"Linux libertine\" font-size=\"10.00\">Dropout</text>\n<text text-anchor=\"start\" x=\"78.5\" y=\"-2373.75\" font-family=\"Linux libertine\" font-size=\"10.00\">depth:3</text>\n<polygon fill=\"none\" stroke=\"black\" points=\"116.5,-2383.25 116.5,-2405.25 159.5,-2405.25 159.5,-2383.25 116.5,-2383.25\"/>\n<text text-anchor=\"start\" x=\"125.62\" y=\"-2390.75\" font-family=\"Linux libertine\" font-size=\"10.00\">input:</text>\n<polygon fill=\"none\" stroke=\"black\" points=\"159.5,-2383.25 159.5,-2405.25 234.5,-2405.25 234.5,-2383.25 159.5,-2383.25\"/>\n<text text-anchor=\"start\" x=\"164.38\" y=\"-2390.75\" font-family=\"Linux libertine\" font-size=\"10.00\">(1, 40, 28, 28) </text>\n<polygon fill=\"none\" stroke=\"black\" points=\"116.5,-2361.25 116.5,-2383.25 159.5,-2383.25 159.5,-2361.25 116.5,-2361.25\"/>\n<text text-anchor=\"start\" x=\"121.12\" y=\"-2368.75\" font-family=\"Linux libertine\" font-size=\"10.00\">output: </text>\n<polygon fill=\"none\" stroke=\"black\" points=\"159.5,-2361.25 159.5,-2383.25 234.5,-2383.25 234.5,-2361.25 159.5,-2361.25\"/>\n<text text-anchor=\"start\" x=\"164.38\" y=\"-2368.75\" font-family=\"Linux libertine\" font-size=\"10.00\">(1, 40, 28, 28) </text>\n</g>\n<!-- 31&#45;&gt;32 -->\n<g id=\"edge39\" class=\"edge\">\n<title>31&#45;&gt;32</title>\n<path fill=\"none\" stroke=\"black\" d=\"M154,-2441.35C154,-2433.74 154,-2424.95 154,-2416.59\"/>\n<polygon fill=\"black\" stroke=\"black\" points=\"157.5,-2416.72 154,-2406.72 150.5,-2416.72 157.5,-2416.72\"/>\n</g>\n<!-- 33 -->\n<g id=\"node34\" class=\"node\">\n<title>33</title>\n<polygon fill=\"#c1ffc1\" stroke=\"none\" points=\"243,-2315 65,-2315 65,-2271 243,-2271 243,-2315\"/>\n<polygon fill=\"none\" stroke=\"black\" points=\"65,-2271 65,-2315 120,-2315 120,-2271 65,-2271\"/>\n<text text-anchor=\"start\" x=\"70\" y=\"-2295.5\" font-family=\"Linux libertine\" font-size=\"10.00\">Sequential</text>\n<text text-anchor=\"start\" x=\"76\" y=\"-2283.5\" font-family=\"Linux libertine\" font-size=\"10.00\">depth:3</text>\n<polygon fill=\"none\" stroke=\"black\" points=\"120,-2293 120,-2315 163,-2315 163,-2293 120,-2293\"/>\n<text text-anchor=\"start\" x=\"129.12\" y=\"-2300.5\" font-family=\"Linux libertine\" font-size=\"10.00\">input:</text>\n<polygon fill=\"none\" stroke=\"black\" points=\"163,-2293 163,-2315 243,-2315 243,-2293 163,-2293\"/>\n<text text-anchor=\"start\" x=\"170.38\" y=\"-2300.5\" font-family=\"Linux libertine\" font-size=\"10.00\">(1, 40, 28, 28) </text>\n<polygon fill=\"none\" stroke=\"black\" points=\"120,-2271 120,-2293 163,-2293 163,-2271 120,-2271\"/>\n<text text-anchor=\"start\" x=\"124.62\" y=\"-2278.5\" font-family=\"Linux libertine\" font-size=\"10.00\">output: </text>\n<polygon fill=\"none\" stroke=\"black\" points=\"163,-2271 163,-2293 243,-2293 243,-2271 163,-2271\"/>\n<text text-anchor=\"start\" x=\"167.75\" y=\"-2278.5\" font-family=\"Linux libertine\" font-size=\"10.00\">(1, 240, 28, 28) </text>\n</g>\n<!-- 32&#45;&gt;33 -->\n<g id=\"edge40\" class=\"edge\">\n<title>32&#45;&gt;33</title>\n<path fill=\"none\" stroke=\"black\" d=\"M154,-2361.34C154,-2350.79 154,-2337.76 154,-2325.98\"/>\n<polygon fill=\"black\" stroke=\"black\" points=\"157.5,-2326.28 154,-2316.28 150.5,-2326.28 157.5,-2326.28\"/>\n</g>\n<!-- 34 -->\n<g id=\"node35\" class=\"node\">\n<title>34</title>\n<polygon fill=\"#c1ffc1\" stroke=\"none\" points=\"243,-2235 65,-2235 65,-2191 243,-2191 243,-2235\"/>\n<polygon fill=\"none\" stroke=\"black\" points=\"65,-2191 65,-2235 120,-2235 120,-2191 65,-2191\"/>\n<text text-anchor=\"start\" x=\"70\" y=\"-2215.5\" font-family=\"Linux libertine\" font-size=\"10.00\">Sequential</text>\n<text text-anchor=\"start\" x=\"76\" y=\"-2203.5\" font-family=\"Linux libertine\" font-size=\"10.00\">depth:3</text>\n<polygon fill=\"none\" stroke=\"black\" points=\"120,-2213 120,-2235 163,-2235 163,-2213 120,-2213\"/>\n<text text-anchor=\"start\" x=\"129.12\" y=\"-2220.5\" font-family=\"Linux libertine\" font-size=\"10.00\">input:</text>\n<polygon fill=\"none\" stroke=\"black\" points=\"163,-2213 163,-2235 243,-2235 243,-2213 163,-2213\"/>\n<text text-anchor=\"start\" x=\"167.75\" y=\"-2220.5\" font-family=\"Linux libertine\" font-size=\"10.00\">(1, 240, 28, 28) </text>\n<polygon fill=\"none\" stroke=\"black\" points=\"120,-2191 120,-2213 163,-2213 163,-2191 120,-2191\"/>\n<text text-anchor=\"start\" x=\"124.62\" y=\"-2198.5\" font-family=\"Linux libertine\" font-size=\"10.00\">output: </text>\n<polygon fill=\"none\" stroke=\"black\" points=\"163,-2191 163,-2213 243,-2213 243,-2191 163,-2191\"/>\n<text text-anchor=\"start\" x=\"167.75\" y=\"-2198.5\" font-family=\"Linux libertine\" font-size=\"10.00\">(1, 240, 14, 14) </text>\n</g>\n<!-- 33&#45;&gt;34 -->\n<g id=\"edge41\" class=\"edge\">\n<title>33&#45;&gt;34</title>\n<path fill=\"none\" stroke=\"black\" d=\"M154,-2271.1C154,-2263.49 154,-2254.7 154,-2246.34\"/>\n<polygon fill=\"black\" stroke=\"black\" points=\"157.5,-2246.47 154,-2236.47 150.5,-2246.47 157.5,-2246.47\"/>\n</g>\n<!-- 35 -->\n<g id=\"node36\" class=\"node\">\n<title>35</title>\n<polygon fill=\"#c1ffc1\" stroke=\"none\" points=\"253,-2155 75,-2155 75,-2111 253,-2111 253,-2155\"/>\n<polygon fill=\"none\" stroke=\"black\" points=\"75,-2111 75,-2155 130,-2155 130,-2111 75,-2111\"/>\n<text text-anchor=\"start\" x=\"80\" y=\"-2135.5\" font-family=\"Linux libertine\" font-size=\"10.00\">Sequential</text>\n<text text-anchor=\"start\" x=\"86\" y=\"-2123.5\" font-family=\"Linux libertine\" font-size=\"10.00\">depth:3</text>\n<polygon fill=\"none\" stroke=\"black\" points=\"130,-2133 130,-2155 173,-2155 173,-2133 130,-2133\"/>\n<text text-anchor=\"start\" x=\"139.12\" y=\"-2140.5\" font-family=\"Linux libertine\" font-size=\"10.00\">input:</text>\n<polygon fill=\"none\" stroke=\"black\" points=\"173,-2133 173,-2155 253,-2155 253,-2133 173,-2133\"/>\n<text text-anchor=\"start\" x=\"177.75\" y=\"-2140.5\" font-family=\"Linux libertine\" font-size=\"10.00\">(1, 240, 14, 14) </text>\n<polygon fill=\"none\" stroke=\"black\" points=\"130,-2111 130,-2133 173,-2133 173,-2111 130,-2111\"/>\n<text text-anchor=\"start\" x=\"134.62\" y=\"-2118.5\" font-family=\"Linux libertine\" font-size=\"10.00\">output: </text>\n<polygon fill=\"none\" stroke=\"black\" points=\"173,-2111 173,-2133 253,-2133 253,-2111 173,-2111\"/>\n<text text-anchor=\"start\" x=\"183\" y=\"-2118.5\" font-family=\"Linux libertine\" font-size=\"10.00\">(1, 240, 1, 1) </text>\n</g>\n<!-- 34&#45;&gt;35 -->\n<g id=\"edge42\" class=\"edge\">\n<title>34&#45;&gt;35</title>\n<path fill=\"none\" stroke=\"black\" d=\"M156.68,-2191.1C157.66,-2183.49 158.78,-2174.7 159.85,-2166.34\"/>\n<polygon fill=\"black\" stroke=\"black\" points=\"163.32,-2166.83 161.12,-2156.46 156.38,-2165.94 163.32,-2166.83\"/>\n</g>\n<!-- 36 -->\n<g id=\"node37\" class=\"node\">\n<title>36</title>\n<polygon fill=\"aliceblue\" stroke=\"none\" points=\"265.5,-2075 36.5,-2075 36.5,-2031 265.5,-2031 265.5,-2075\"/>\n<polygon fill=\"none\" stroke=\"black\" points=\"36.5,-2031 36.5,-2075 79.5,-2075 79.5,-2031 36.5,-2031\"/>\n<text text-anchor=\"start\" x=\"50.12\" y=\"-2055.5\" font-family=\"Linux libertine\" font-size=\"10.00\">mul</text>\n<text text-anchor=\"start\" x=\"41.5\" y=\"-2043.5\" font-family=\"Linux libertine\" font-size=\"10.00\">depth:3</text>\n<polygon fill=\"none\" stroke=\"black\" points=\"79.5,-2053 79.5,-2075 122.5,-2075 122.5,-2053 79.5,-2053\"/>\n<text text-anchor=\"start\" x=\"88.62\" y=\"-2060.5\" font-family=\"Linux libertine\" font-size=\"10.00\">input:</text>\n<polygon fill=\"none\" stroke=\"black\" points=\"122.5,-2053 122.5,-2075 265.5,-2075 265.5,-2053 122.5,-2053\"/>\n<text text-anchor=\"start\" x=\"127.25\" y=\"-2060.5\" font-family=\"Linux libertine\" font-size=\"10.00\">(1, 240, 14, 14), (1, 240, 1, 1) </text>\n<polygon fill=\"none\" stroke=\"black\" points=\"79.5,-2031 79.5,-2053 122.5,-2053 122.5,-2031 79.5,-2031\"/>\n<text text-anchor=\"start\" x=\"84.12\" y=\"-2038.5\" font-family=\"Linux libertine\" font-size=\"10.00\">output: </text>\n<polygon fill=\"none\" stroke=\"black\" points=\"122.5,-2031 122.5,-2053 265.5,-2053 265.5,-2031 122.5,-2031\"/>\n<text text-anchor=\"start\" x=\"158.75\" y=\"-2038.5\" font-family=\"Linux libertine\" font-size=\"10.00\">(1, 240, 14, 14) </text>\n</g>\n<!-- 34&#45;&gt;36 -->\n<g id=\"edge43\" class=\"edge\">\n<title>34&#45;&gt;36</title>\n<path fill=\"none\" stroke=\"black\" d=\"M103.63,-2191.03C88.81,-2182.21 74.35,-2170.35 66,-2155 56.66,-2137.82 56.8,-2128.25 66,-2111 72.4,-2099 82.58,-2089.08 93.7,-2081.06\"/>\n<polygon fill=\"black\" stroke=\"black\" points=\"95.53,-2084.05 101.94,-2075.61 91.66,-2078.21 95.53,-2084.05\"/>\n</g>\n<!-- 35&#45;&gt;36 -->\n<g id=\"edge44\" class=\"edge\">\n<title>35&#45;&gt;36</title>\n<path fill=\"none\" stroke=\"black\" d=\"M160.52,-2111.1C159.23,-2103.4 157.75,-2094.5 156.34,-2086.05\"/>\n<polygon fill=\"black\" stroke=\"black\" points=\"159.84,-2085.74 154.74,-2076.45 152.93,-2086.89 159.84,-2085.74\"/>\n</g>\n<!-- 37 -->\n<g id=\"node38\" class=\"node\">\n<title>37</title>\n<polygon fill=\"#c1ffc1\" stroke=\"none\" points=\"243,-1995 65,-1995 65,-1951 243,-1951 243,-1995\"/>\n<polygon fill=\"none\" stroke=\"black\" points=\"65,-1951 65,-1995 120,-1995 120,-1951 65,-1951\"/>\n<text text-anchor=\"start\" x=\"70\" y=\"-1975.5\" font-family=\"Linux libertine\" font-size=\"10.00\">Sequential</text>\n<text text-anchor=\"start\" x=\"76\" y=\"-1963.5\" font-family=\"Linux libertine\" font-size=\"10.00\">depth:3</text>\n<polygon fill=\"none\" stroke=\"black\" points=\"120,-1973 120,-1995 163,-1995 163,-1973 120,-1973\"/>\n<text text-anchor=\"start\" x=\"129.12\" y=\"-1980.5\" font-family=\"Linux libertine\" font-size=\"10.00\">input:</text>\n<polygon fill=\"none\" stroke=\"black\" points=\"163,-1973 163,-1995 243,-1995 243,-1973 163,-1973\"/>\n<text text-anchor=\"start\" x=\"167.75\" y=\"-1980.5\" font-family=\"Linux libertine\" font-size=\"10.00\">(1, 240, 14, 14) </text>\n<polygon fill=\"none\" stroke=\"black\" points=\"120,-1951 120,-1973 163,-1973 163,-1951 120,-1951\"/>\n<text text-anchor=\"start\" x=\"124.62\" y=\"-1958.5\" font-family=\"Linux libertine\" font-size=\"10.00\">output: </text>\n<polygon fill=\"none\" stroke=\"black\" points=\"163,-1951 163,-1973 243,-1973 243,-1951 163,-1951\"/>\n<text text-anchor=\"start\" x=\"170.38\" y=\"-1958.5\" font-family=\"Linux libertine\" font-size=\"10.00\">(1, 80, 14, 14) </text>\n</g>\n<!-- 36&#45;&gt;37 -->\n<g id=\"edge45\" class=\"edge\">\n<title>36&#45;&gt;37</title>\n<path fill=\"none\" stroke=\"black\" d=\"M151.8,-2031.1C152.1,-2023.49 152.43,-2014.7 152.76,-2006.34\"/>\n<polygon fill=\"black\" stroke=\"black\" points=\"156.25,-2006.6 153.14,-1996.47 149.25,-2006.33 156.25,-2006.6\"/>\n</g>\n<!-- 38 -->\n<g id=\"node39\" class=\"node\">\n<title>38</title>\n<polygon fill=\"#c1ffc1\" stroke=\"none\" points=\"243,-1904.75 65,-1904.75 65,-1860.75 243,-1860.75 243,-1904.75\"/>\n<polygon fill=\"none\" stroke=\"black\" points=\"65,-1860.75 65,-1904.75 120,-1904.75 120,-1860.75 65,-1860.75\"/>\n<text text-anchor=\"start\" x=\"70\" y=\"-1885.25\" font-family=\"Linux libertine\" font-size=\"10.00\">Sequential</text>\n<text text-anchor=\"start\" x=\"76\" y=\"-1873.25\" font-family=\"Linux libertine\" font-size=\"10.00\">depth:3</text>\n<polygon fill=\"none\" stroke=\"black\" points=\"120,-1882.75 120,-1904.75 163,-1904.75 163,-1882.75 120,-1882.75\"/>\n<text text-anchor=\"start\" x=\"129.12\" y=\"-1890.25\" font-family=\"Linux libertine\" font-size=\"10.00\">input:</text>\n<polygon fill=\"none\" stroke=\"black\" points=\"163,-1882.75 163,-1904.75 243,-1904.75 243,-1882.75 163,-1882.75\"/>\n<text text-anchor=\"start\" x=\"170.38\" y=\"-1890.25\" font-family=\"Linux libertine\" font-size=\"10.00\">(1, 80, 14, 14) </text>\n<polygon fill=\"none\" stroke=\"black\" points=\"120,-1860.75 120,-1882.75 163,-1882.75 163,-1860.75 120,-1860.75\"/>\n<text text-anchor=\"start\" x=\"124.62\" y=\"-1868.25\" font-family=\"Linux libertine\" font-size=\"10.00\">output: </text>\n<polygon fill=\"none\" stroke=\"black\" points=\"163,-1860.75 163,-1882.75 243,-1882.75 243,-1860.75 163,-1860.75\"/>\n<text text-anchor=\"start\" x=\"167.75\" y=\"-1868.25\" font-family=\"Linux libertine\" font-size=\"10.00\">(1, 480, 14, 14) </text>\n</g>\n<!-- 37&#45;&gt;38 -->\n<g id=\"edge46\" class=\"edge\">\n<title>37&#45;&gt;38</title>\n<path fill=\"none\" stroke=\"black\" d=\"M154,-1951.09C154,-1940.54 154,-1927.51 154,-1915.73\"/>\n<polygon fill=\"black\" stroke=\"black\" points=\"157.5,-1916.03 154,-1906.03 150.5,-1916.03 157.5,-1916.03\"/>\n</g>\n<!-- 43 -->\n<g id=\"node44\" class=\"node\">\n<title>43</title>\n<polygon fill=\"aliceblue\" stroke=\"none\" points=\"253.5,-1504.75 76.5,-1504.75 76.5,-1460.75 253.5,-1460.75 253.5,-1504.75\"/>\n<polygon fill=\"none\" stroke=\"black\" points=\"76.5,-1460.75 76.5,-1504.75 119.5,-1504.75 119.5,-1460.75 76.5,-1460.75\"/>\n<text text-anchor=\"start\" x=\"87.5\" y=\"-1485.25\" font-family=\"Linux libertine\" font-size=\"10.00\">add_</text>\n<text text-anchor=\"start\" x=\"81.5\" y=\"-1473.25\" font-family=\"Linux libertine\" font-size=\"10.00\">depth:3</text>\n<polygon fill=\"none\" stroke=\"black\" points=\"119.5,-1482.75 119.5,-1504.75 162.5,-1504.75 162.5,-1482.75 119.5,-1482.75\"/>\n<text text-anchor=\"start\" x=\"128.62\" y=\"-1490.25\" font-family=\"Linux libertine\" font-size=\"10.00\">input:</text>\n<polygon fill=\"none\" stroke=\"black\" points=\"162.5,-1482.75 162.5,-1504.75 253.5,-1504.75 253.5,-1482.75 162.5,-1482.75\"/>\n<text text-anchor=\"start\" x=\"167.5\" y=\"-1490.25\" font-family=\"Linux libertine\" font-size=\"10.00\">2 x (1, 80, 14, 14) </text>\n<polygon fill=\"none\" stroke=\"black\" points=\"119.5,-1460.75 119.5,-1482.75 162.5,-1482.75 162.5,-1460.75 119.5,-1460.75\"/>\n<text text-anchor=\"start\" x=\"124.12\" y=\"-1468.25\" font-family=\"Linux libertine\" font-size=\"10.00\">output: </text>\n<polygon fill=\"none\" stroke=\"black\" points=\"162.5,-1460.75 162.5,-1482.75 253.5,-1482.75 253.5,-1460.75 162.5,-1460.75\"/>\n<text text-anchor=\"start\" x=\"175.38\" y=\"-1468.25\" font-family=\"Linux libertine\" font-size=\"10.00\">(1, 80, 14, 14) </text>\n</g>\n<!-- 37&#45;&gt;43 -->\n<g id=\"edge47\" class=\"edge\">\n<title>37&#45;&gt;43</title>\n<path fill=\"none\" stroke=\"black\" d=\"M232.97,-1951.24C240.16,-1946.83 246.71,-1941.48 252,-1935 289.34,-1889.22 273,-1862.83 273,-1803.75 273,-1803.75 273,-1803.75 273,-1641.75 273,-1595.71 276.07,-1578.69 250,-1540.75 241.9,-1528.96 230.49,-1518.95 218.66,-1510.77\"/>\n<polygon fill=\"black\" stroke=\"black\" points=\"220.7,-1507.92 210.4,-1505.42 216.89,-1513.79 220.7,-1507.92\"/>\n</g>\n<!-- 39 -->\n<g id=\"node40\" class=\"node\">\n<title>39</title>\n<polygon fill=\"#c1ffc1\" stroke=\"none\" points=\"243,-1824.75 65,-1824.75 65,-1780.75 243,-1780.75 243,-1824.75\"/>\n<polygon fill=\"none\" stroke=\"black\" points=\"65,-1780.75 65,-1824.75 120,-1824.75 120,-1780.75 65,-1780.75\"/>\n<text text-anchor=\"start\" x=\"70\" y=\"-1805.25\" font-family=\"Linux libertine\" font-size=\"10.00\">Sequential</text>\n<text text-anchor=\"start\" x=\"76\" y=\"-1793.25\" font-family=\"Linux libertine\" font-size=\"10.00\">depth:3</text>\n<polygon fill=\"none\" stroke=\"black\" points=\"120,-1802.75 120,-1824.75 163,-1824.75 163,-1802.75 120,-1802.75\"/>\n<text text-anchor=\"start\" x=\"129.12\" y=\"-1810.25\" font-family=\"Linux libertine\" font-size=\"10.00\">input:</text>\n<polygon fill=\"none\" stroke=\"black\" points=\"163,-1802.75 163,-1824.75 243,-1824.75 243,-1802.75 163,-1802.75\"/>\n<text text-anchor=\"start\" x=\"167.75\" y=\"-1810.25\" font-family=\"Linux libertine\" font-size=\"10.00\">(1, 480, 14, 14) </text>\n<polygon fill=\"none\" stroke=\"black\" points=\"120,-1780.75 120,-1802.75 163,-1802.75 163,-1780.75 120,-1780.75\"/>\n<text text-anchor=\"start\" x=\"124.62\" y=\"-1788.25\" font-family=\"Linux libertine\" font-size=\"10.00\">output: </text>\n<polygon fill=\"none\" stroke=\"black\" points=\"163,-1780.75 163,-1802.75 243,-1802.75 243,-1780.75 163,-1780.75\"/>\n<text text-anchor=\"start\" x=\"167.75\" y=\"-1788.25\" font-family=\"Linux libertine\" font-size=\"10.00\">(1, 480, 14, 14) </text>\n</g>\n<!-- 38&#45;&gt;39 -->\n<g id=\"edge48\" class=\"edge\">\n<title>38&#45;&gt;39</title>\n<path fill=\"none\" stroke=\"black\" d=\"M154,-1860.85C154,-1853.24 154,-1844.45 154,-1836.09\"/>\n<polygon fill=\"black\" stroke=\"black\" points=\"157.5,-1836.22 154,-1826.22 150.5,-1836.22 157.5,-1836.22\"/>\n</g>\n<!-- 40 -->\n<g id=\"node41\" class=\"node\">\n<title>40</title>\n<polygon fill=\"#c1ffc1\" stroke=\"none\" points=\"250,-1744.75 72,-1744.75 72,-1700.75 250,-1700.75 250,-1744.75\"/>\n<polygon fill=\"none\" stroke=\"black\" points=\"72,-1700.75 72,-1744.75 127,-1744.75 127,-1700.75 72,-1700.75\"/>\n<text text-anchor=\"start\" x=\"77\" y=\"-1725.25\" font-family=\"Linux libertine\" font-size=\"10.00\">Sequential</text>\n<text text-anchor=\"start\" x=\"83\" y=\"-1713.25\" font-family=\"Linux libertine\" font-size=\"10.00\">depth:3</text>\n<polygon fill=\"none\" stroke=\"black\" points=\"127,-1722.75 127,-1744.75 170,-1744.75 170,-1722.75 127,-1722.75\"/>\n<text text-anchor=\"start\" x=\"136.12\" y=\"-1730.25\" font-family=\"Linux libertine\" font-size=\"10.00\">input:</text>\n<polygon fill=\"none\" stroke=\"black\" points=\"170,-1722.75 170,-1744.75 250,-1744.75 250,-1722.75 170,-1722.75\"/>\n<text text-anchor=\"start\" x=\"174.75\" y=\"-1730.25\" font-family=\"Linux libertine\" font-size=\"10.00\">(1, 480, 14, 14) </text>\n<polygon fill=\"none\" stroke=\"black\" points=\"127,-1700.75 127,-1722.75 170,-1722.75 170,-1700.75 127,-1700.75\"/>\n<text text-anchor=\"start\" x=\"131.62\" y=\"-1708.25\" font-family=\"Linux libertine\" font-size=\"10.00\">output: </text>\n<polygon fill=\"none\" stroke=\"black\" points=\"170,-1700.75 170,-1722.75 250,-1722.75 250,-1700.75 170,-1700.75\"/>\n<text text-anchor=\"start\" x=\"180\" y=\"-1708.25\" font-family=\"Linux libertine\" font-size=\"10.00\">(1, 480, 1, 1) </text>\n</g>\n<!-- 39&#45;&gt;40 -->\n<g id=\"edge49\" class=\"edge\">\n<title>39&#45;&gt;40</title>\n<path fill=\"none\" stroke=\"black\" d=\"M155.88,-1780.85C156.56,-1773.24 157.35,-1764.45 158.1,-1756.09\"/>\n<polygon fill=\"black\" stroke=\"black\" points=\"161.58,-1756.49 158.98,-1746.22 154.6,-1755.86 161.58,-1756.49\"/>\n</g>\n<!-- 41 -->\n<g id=\"node42\" class=\"node\">\n<title>41</title>\n<polygon fill=\"aliceblue\" stroke=\"none\" points=\"253.5,-1664.75 24.5,-1664.75 24.5,-1620.75 253.5,-1620.75 253.5,-1664.75\"/>\n<polygon fill=\"none\" stroke=\"black\" points=\"24.5,-1620.75 24.5,-1664.75 67.5,-1664.75 67.5,-1620.75 24.5,-1620.75\"/>\n<text text-anchor=\"start\" x=\"38.12\" y=\"-1645.25\" font-family=\"Linux libertine\" font-size=\"10.00\">mul</text>\n<text text-anchor=\"start\" x=\"29.5\" y=\"-1633.25\" font-family=\"Linux libertine\" font-size=\"10.00\">depth:3</text>\n<polygon fill=\"none\" stroke=\"black\" points=\"67.5,-1642.75 67.5,-1664.75 110.5,-1664.75 110.5,-1642.75 67.5,-1642.75\"/>\n<text text-anchor=\"start\" x=\"76.62\" y=\"-1650.25\" font-family=\"Linux libertine\" font-size=\"10.00\">input:</text>\n<polygon fill=\"none\" stroke=\"black\" points=\"110.5,-1642.75 110.5,-1664.75 253.5,-1664.75 253.5,-1642.75 110.5,-1642.75\"/>\n<text text-anchor=\"start\" x=\"115.25\" y=\"-1650.25\" font-family=\"Linux libertine\" font-size=\"10.00\">(1, 480, 14, 14), (1, 480, 1, 1) </text>\n<polygon fill=\"none\" stroke=\"black\" points=\"67.5,-1620.75 67.5,-1642.75 110.5,-1642.75 110.5,-1620.75 67.5,-1620.75\"/>\n<text text-anchor=\"start\" x=\"72.12\" y=\"-1628.25\" font-family=\"Linux libertine\" font-size=\"10.00\">output: </text>\n<polygon fill=\"none\" stroke=\"black\" points=\"110.5,-1620.75 110.5,-1642.75 253.5,-1642.75 253.5,-1620.75 110.5,-1620.75\"/>\n<text text-anchor=\"start\" x=\"146.75\" y=\"-1628.25\" font-family=\"Linux libertine\" font-size=\"10.00\">(1, 480, 14, 14) </text>\n</g>\n<!-- 39&#45;&gt;41 -->\n<g id=\"edge50\" class=\"edge\">\n<title>39&#45;&gt;41</title>\n<path fill=\"none\" stroke=\"black\" d=\"M101.47,-1780.86C86.32,-1772.09 71.58,-1760.24 63,-1744.75 53.53,-1727.64 54.25,-1718.24 63,-1700.75 68.76,-1689.23 78.08,-1679.43 88.26,-1671.37\"/>\n<polygon fill=\"black\" stroke=\"black\" points=\"90.11,-1674.36 96.12,-1665.64 85.98,-1668.7 90.11,-1674.36\"/>\n</g>\n<!-- 40&#45;&gt;41 -->\n<g id=\"edge51\" class=\"edge\">\n<title>40&#45;&gt;41</title>\n<path fill=\"none\" stroke=\"black\" d=\"M155.1,-1700.85C152.91,-1693.07 150.37,-1684.05 147.96,-1675.51\"/>\n<polygon fill=\"black\" stroke=\"black\" points=\"151.41,-1674.84 145.32,-1666.17 144.67,-1676.74 151.41,-1674.84\"/>\n</g>\n<!-- 42 -->\n<g id=\"node43\" class=\"node\">\n<title>42</title>\n<polygon fill=\"#c1ffc1\" stroke=\"none\" points=\"241,-1584.75 63,-1584.75 63,-1540.75 241,-1540.75 241,-1584.75\"/>\n<polygon fill=\"none\" stroke=\"black\" points=\"63,-1540.75 63,-1584.75 118,-1584.75 118,-1540.75 63,-1540.75\"/>\n<text text-anchor=\"start\" x=\"68\" y=\"-1565.25\" font-family=\"Linux libertine\" font-size=\"10.00\">Sequential</text>\n<text text-anchor=\"start\" x=\"74\" y=\"-1553.25\" font-family=\"Linux libertine\" font-size=\"10.00\">depth:3</text>\n<polygon fill=\"none\" stroke=\"black\" points=\"118,-1562.75 118,-1584.75 161,-1584.75 161,-1562.75 118,-1562.75\"/>\n<text text-anchor=\"start\" x=\"127.12\" y=\"-1570.25\" font-family=\"Linux libertine\" font-size=\"10.00\">input:</text>\n<polygon fill=\"none\" stroke=\"black\" points=\"161,-1562.75 161,-1584.75 241,-1584.75 241,-1562.75 161,-1562.75\"/>\n<text text-anchor=\"start\" x=\"165.75\" y=\"-1570.25\" font-family=\"Linux libertine\" font-size=\"10.00\">(1, 480, 14, 14) </text>\n<polygon fill=\"none\" stroke=\"black\" points=\"118,-1540.75 118,-1562.75 161,-1562.75 161,-1540.75 118,-1540.75\"/>\n<text text-anchor=\"start\" x=\"122.62\" y=\"-1548.25\" font-family=\"Linux libertine\" font-size=\"10.00\">output: </text>\n<polygon fill=\"none\" stroke=\"black\" points=\"161,-1540.75 161,-1562.75 241,-1562.75 241,-1540.75 161,-1540.75\"/>\n<text text-anchor=\"start\" x=\"168.38\" y=\"-1548.25\" font-family=\"Linux libertine\" font-size=\"10.00\">(1, 80, 14, 14) </text>\n</g>\n<!-- 41&#45;&gt;42 -->\n<g id=\"edge52\" class=\"edge\">\n<title>41&#45;&gt;42</title>\n<path fill=\"none\" stroke=\"black\" d=\"M142.48,-1620.85C143.77,-1613.15 145.25,-1604.25 146.66,-1595.8\"/>\n<polygon fill=\"black\" stroke=\"black\" points=\"150.07,-1596.64 148.26,-1586.2 143.16,-1595.49 150.07,-1596.64\"/>\n</g>\n<!-- 42&#45;&gt;43 -->\n<g id=\"edge53\" class=\"edge\">\n<title>42&#45;&gt;43</title>\n<path fill=\"none\" stroke=\"black\" d=\"M155.48,-1540.85C156.77,-1533.15 158.25,-1524.25 159.66,-1515.8\"/>\n<polygon fill=\"black\" stroke=\"black\" points=\"163.07,-1516.64 161.26,-1506.2 156.16,-1515.49 163.07,-1516.64\"/>\n</g>\n<!-- 44 -->\n<g id=\"node45\" class=\"node\">\n<title>44</title>\n<polygon fill=\"#c1ffc1\" stroke=\"none\" points=\"245.5,-1424.75 84.5,-1424.75 84.5,-1380.75 245.5,-1380.75 245.5,-1424.75\"/>\n<polygon fill=\"none\" stroke=\"black\" points=\"84.5,-1380.75 84.5,-1424.75 127.5,-1424.75 127.5,-1380.75 84.5,-1380.75\"/>\n<text text-anchor=\"start\" x=\"89.12\" y=\"-1405.25\" font-family=\"Linux libertine\" font-size=\"10.00\">Dropout</text>\n<text text-anchor=\"start\" x=\"89.5\" y=\"-1393.25\" font-family=\"Linux libertine\" font-size=\"10.00\">depth:3</text>\n<polygon fill=\"none\" stroke=\"black\" points=\"127.5,-1402.75 127.5,-1424.75 170.5,-1424.75 170.5,-1402.75 127.5,-1402.75\"/>\n<text text-anchor=\"start\" x=\"136.62\" y=\"-1410.25\" font-family=\"Linux libertine\" font-size=\"10.00\">input:</text>\n<polygon fill=\"none\" stroke=\"black\" points=\"170.5,-1402.75 170.5,-1424.75 245.5,-1424.75 245.5,-1402.75 170.5,-1402.75\"/>\n<text text-anchor=\"start\" x=\"175.38\" y=\"-1410.25\" font-family=\"Linux libertine\" font-size=\"10.00\">(1, 80, 14, 14) </text>\n<polygon fill=\"none\" stroke=\"black\" points=\"127.5,-1380.75 127.5,-1402.75 170.5,-1402.75 170.5,-1380.75 127.5,-1380.75\"/>\n<text text-anchor=\"start\" x=\"132.12\" y=\"-1388.25\" font-family=\"Linux libertine\" font-size=\"10.00\">output: </text>\n<polygon fill=\"none\" stroke=\"black\" points=\"170.5,-1380.75 170.5,-1402.75 245.5,-1402.75 245.5,-1380.75 170.5,-1380.75\"/>\n<text text-anchor=\"start\" x=\"175.38\" y=\"-1388.25\" font-family=\"Linux libertine\" font-size=\"10.00\">(1, 80, 14, 14) </text>\n</g>\n<!-- 43&#45;&gt;44 -->\n<g id=\"edge54\" class=\"edge\">\n<title>43&#45;&gt;44</title>\n<path fill=\"none\" stroke=\"black\" d=\"M165,-1460.85C165,-1453.24 165,-1444.45 165,-1436.09\"/>\n<polygon fill=\"black\" stroke=\"black\" points=\"168.5,-1436.22 165,-1426.22 161.5,-1436.22 168.5,-1436.22\"/>\n</g>\n<!-- 45 -->\n<g id=\"node46\" class=\"node\">\n<title>45</title>\n<polygon fill=\"#c1ffc1\" stroke=\"none\" points=\"254,-1334.5 76,-1334.5 76,-1290.5 254,-1290.5 254,-1334.5\"/>\n<polygon fill=\"none\" stroke=\"black\" points=\"76,-1290.5 76,-1334.5 131,-1334.5 131,-1290.5 76,-1290.5\"/>\n<text text-anchor=\"start\" x=\"81\" y=\"-1315\" font-family=\"Linux libertine\" font-size=\"10.00\">Sequential</text>\n<text text-anchor=\"start\" x=\"87\" y=\"-1303\" font-family=\"Linux libertine\" font-size=\"10.00\">depth:3</text>\n<polygon fill=\"none\" stroke=\"black\" points=\"131,-1312.5 131,-1334.5 174,-1334.5 174,-1312.5 131,-1312.5\"/>\n<text text-anchor=\"start\" x=\"140.12\" y=\"-1320\" font-family=\"Linux libertine\" font-size=\"10.00\">input:</text>\n<polygon fill=\"none\" stroke=\"black\" points=\"174,-1312.5 174,-1334.5 254,-1334.5 254,-1312.5 174,-1312.5\"/>\n<text text-anchor=\"start\" x=\"181.38\" y=\"-1320\" font-family=\"Linux libertine\" font-size=\"10.00\">(1, 80, 14, 14) </text>\n<polygon fill=\"none\" stroke=\"black\" points=\"131,-1290.5 131,-1312.5 174,-1312.5 174,-1290.5 131,-1290.5\"/>\n<text text-anchor=\"start\" x=\"135.62\" y=\"-1298\" font-family=\"Linux libertine\" font-size=\"10.00\">output: </text>\n<polygon fill=\"none\" stroke=\"black\" points=\"174,-1290.5 174,-1312.5 254,-1312.5 254,-1290.5 174,-1290.5\"/>\n<text text-anchor=\"start\" x=\"178.75\" y=\"-1298\" font-family=\"Linux libertine\" font-size=\"10.00\">(1, 480, 14, 14) </text>\n</g>\n<!-- 44&#45;&gt;45 -->\n<g id=\"edge55\" class=\"edge\">\n<title>44&#45;&gt;45</title>\n<path fill=\"none\" stroke=\"black\" d=\"M165,-1380.84C165,-1370.29 165,-1357.26 165,-1345.48\"/>\n<polygon fill=\"black\" stroke=\"black\" points=\"168.5,-1345.78 165,-1335.78 161.5,-1345.78 168.5,-1345.78\"/>\n</g>\n<!-- 50 -->\n<g id=\"node51\" class=\"node\">\n<title>50</title>\n<polygon fill=\"aliceblue\" stroke=\"none\" points=\"246.5,-934.5 69.5,-934.5 69.5,-890.5 246.5,-890.5 246.5,-934.5\"/>\n<polygon fill=\"none\" stroke=\"black\" points=\"69.5,-890.5 69.5,-934.5 112.5,-934.5 112.5,-890.5 69.5,-890.5\"/>\n<text text-anchor=\"start\" x=\"80.5\" y=\"-915\" font-family=\"Linux libertine\" font-size=\"10.00\">add_</text>\n<text text-anchor=\"start\" x=\"74.5\" y=\"-903\" font-family=\"Linux libertine\" font-size=\"10.00\">depth:3</text>\n<polygon fill=\"none\" stroke=\"black\" points=\"112.5,-912.5 112.5,-934.5 155.5,-934.5 155.5,-912.5 112.5,-912.5\"/>\n<text text-anchor=\"start\" x=\"121.62\" y=\"-920\" font-family=\"Linux libertine\" font-size=\"10.00\">input:</text>\n<polygon fill=\"none\" stroke=\"black\" points=\"155.5,-912.5 155.5,-934.5 246.5,-934.5 246.5,-912.5 155.5,-912.5\"/>\n<text text-anchor=\"start\" x=\"160.5\" y=\"-920\" font-family=\"Linux libertine\" font-size=\"10.00\">2 x (1, 80, 14, 14) </text>\n<polygon fill=\"none\" stroke=\"black\" points=\"112.5,-890.5 112.5,-912.5 155.5,-912.5 155.5,-890.5 112.5,-890.5\"/>\n<text text-anchor=\"start\" x=\"117.12\" y=\"-898\" font-family=\"Linux libertine\" font-size=\"10.00\">output: </text>\n<polygon fill=\"none\" stroke=\"black\" points=\"155.5,-890.5 155.5,-912.5 246.5,-912.5 246.5,-890.5 155.5,-890.5\"/>\n<text text-anchor=\"start\" x=\"168.38\" y=\"-898\" font-family=\"Linux libertine\" font-size=\"10.00\">(1, 80, 14, 14) </text>\n</g>\n<!-- 44&#45;&gt;50 -->\n<g id=\"edge56\" class=\"edge\">\n<title>44&#45;&gt;50</title>\n<path fill=\"none\" stroke=\"black\" d=\"M245.44,-1380.83C252.16,-1376.45 258.2,-1371.15 263,-1364.75 298.07,-1317.93 273,-1292 273,-1233.5 273,-1233.5 273,-1233.5 273,-1071.5 273,-1024.67 270.75,-1008.22 243,-970.5 234.44,-958.87 222.75,-948.88 210.78,-940.66\"/>\n<polygon fill=\"black\" stroke=\"black\" points=\"212.74,-937.76 202.44,-935.27 208.94,-943.64 212.74,-937.76\"/>\n</g>\n<!-- 46 -->\n<g id=\"node47\" class=\"node\">\n<title>46</title>\n<polygon fill=\"#c1ffc1\" stroke=\"none\" points=\"254,-1254.5 76,-1254.5 76,-1210.5 254,-1210.5 254,-1254.5\"/>\n<polygon fill=\"none\" stroke=\"black\" points=\"76,-1210.5 76,-1254.5 131,-1254.5 131,-1210.5 76,-1210.5\"/>\n<text text-anchor=\"start\" x=\"81\" y=\"-1235\" font-family=\"Linux libertine\" font-size=\"10.00\">Sequential</text>\n<text text-anchor=\"start\" x=\"87\" y=\"-1223\" font-family=\"Linux libertine\" font-size=\"10.00\">depth:3</text>\n<polygon fill=\"none\" stroke=\"black\" points=\"131,-1232.5 131,-1254.5 174,-1254.5 174,-1232.5 131,-1232.5\"/>\n<text text-anchor=\"start\" x=\"140.12\" y=\"-1240\" font-family=\"Linux libertine\" font-size=\"10.00\">input:</text>\n<polygon fill=\"none\" stroke=\"black\" points=\"174,-1232.5 174,-1254.5 254,-1254.5 254,-1232.5 174,-1232.5\"/>\n<text text-anchor=\"start\" x=\"178.75\" y=\"-1240\" font-family=\"Linux libertine\" font-size=\"10.00\">(1, 480, 14, 14) </text>\n<polygon fill=\"none\" stroke=\"black\" points=\"131,-1210.5 131,-1232.5 174,-1232.5 174,-1210.5 131,-1210.5\"/>\n<text text-anchor=\"start\" x=\"135.62\" y=\"-1218\" font-family=\"Linux libertine\" font-size=\"10.00\">output: </text>\n<polygon fill=\"none\" stroke=\"black\" points=\"174,-1210.5 174,-1232.5 254,-1232.5 254,-1210.5 174,-1210.5\"/>\n<text text-anchor=\"start\" x=\"178.75\" y=\"-1218\" font-family=\"Linux libertine\" font-size=\"10.00\">(1, 480, 14, 14) </text>\n</g>\n<!-- 45&#45;&gt;46 -->\n<g id=\"edge57\" class=\"edge\">\n<title>45&#45;&gt;46</title>\n<path fill=\"none\" stroke=\"black\" d=\"M165,-1290.6C165,-1282.99 165,-1274.2 165,-1265.84\"/>\n<polygon fill=\"black\" stroke=\"black\" points=\"168.5,-1265.97 165,-1255.97 161.5,-1265.97 168.5,-1265.97\"/>\n</g>\n<!-- 47 -->\n<g id=\"node48\" class=\"node\">\n<title>47</title>\n<polygon fill=\"#c1ffc1\" stroke=\"none\" points=\"254,-1174.5 76,-1174.5 76,-1130.5 254,-1130.5 254,-1174.5\"/>\n<polygon fill=\"none\" stroke=\"black\" points=\"76,-1130.5 76,-1174.5 131,-1174.5 131,-1130.5 76,-1130.5\"/>\n<text text-anchor=\"start\" x=\"81\" y=\"-1155\" font-family=\"Linux libertine\" font-size=\"10.00\">Sequential</text>\n<text text-anchor=\"start\" x=\"87\" y=\"-1143\" font-family=\"Linux libertine\" font-size=\"10.00\">depth:3</text>\n<polygon fill=\"none\" stroke=\"black\" points=\"131,-1152.5 131,-1174.5 174,-1174.5 174,-1152.5 131,-1152.5\"/>\n<text text-anchor=\"start\" x=\"140.12\" y=\"-1160\" font-family=\"Linux libertine\" font-size=\"10.00\">input:</text>\n<polygon fill=\"none\" stroke=\"black\" points=\"174,-1152.5 174,-1174.5 254,-1174.5 254,-1152.5 174,-1152.5\"/>\n<text text-anchor=\"start\" x=\"178.75\" y=\"-1160\" font-family=\"Linux libertine\" font-size=\"10.00\">(1, 480, 14, 14) </text>\n<polygon fill=\"none\" stroke=\"black\" points=\"131,-1130.5 131,-1152.5 174,-1152.5 174,-1130.5 131,-1130.5\"/>\n<text text-anchor=\"start\" x=\"135.62\" y=\"-1138\" font-family=\"Linux libertine\" font-size=\"10.00\">output: </text>\n<polygon fill=\"none\" stroke=\"black\" points=\"174,-1130.5 174,-1152.5 254,-1152.5 254,-1130.5 174,-1130.5\"/>\n<text text-anchor=\"start\" x=\"184\" y=\"-1138\" font-family=\"Linux libertine\" font-size=\"10.00\">(1, 480, 1, 1) </text>\n</g>\n<!-- 46&#45;&gt;47 -->\n<g id=\"edge58\" class=\"edge\">\n<title>46&#45;&gt;47</title>\n<path fill=\"none\" stroke=\"black\" d=\"M165,-1210.6C165,-1202.99 165,-1194.2 165,-1185.84\"/>\n<polygon fill=\"black\" stroke=\"black\" points=\"168.5,-1185.97 165,-1175.97 161.5,-1185.97 168.5,-1185.97\"/>\n</g>\n<!-- 48 -->\n<g id=\"node49\" class=\"node\">\n<title>48</title>\n<polygon fill=\"aliceblue\" stroke=\"none\" points=\"253.5,-1094.5 24.5,-1094.5 24.5,-1050.5 253.5,-1050.5 253.5,-1094.5\"/>\n<polygon fill=\"none\" stroke=\"black\" points=\"24.5,-1050.5 24.5,-1094.5 67.5,-1094.5 67.5,-1050.5 24.5,-1050.5\"/>\n<text text-anchor=\"start\" x=\"38.12\" y=\"-1075\" font-family=\"Linux libertine\" font-size=\"10.00\">mul</text>\n<text text-anchor=\"start\" x=\"29.5\" y=\"-1063\" font-family=\"Linux libertine\" font-size=\"10.00\">depth:3</text>\n<polygon fill=\"none\" stroke=\"black\" points=\"67.5,-1072.5 67.5,-1094.5 110.5,-1094.5 110.5,-1072.5 67.5,-1072.5\"/>\n<text text-anchor=\"start\" x=\"76.62\" y=\"-1080\" font-family=\"Linux libertine\" font-size=\"10.00\">input:</text>\n<polygon fill=\"none\" stroke=\"black\" points=\"110.5,-1072.5 110.5,-1094.5 253.5,-1094.5 253.5,-1072.5 110.5,-1072.5\"/>\n<text text-anchor=\"start\" x=\"115.25\" y=\"-1080\" font-family=\"Linux libertine\" font-size=\"10.00\">(1, 480, 14, 14), (1, 480, 1, 1) </text>\n<polygon fill=\"none\" stroke=\"black\" points=\"67.5,-1050.5 67.5,-1072.5 110.5,-1072.5 110.5,-1050.5 67.5,-1050.5\"/>\n<text text-anchor=\"start\" x=\"72.12\" y=\"-1058\" font-family=\"Linux libertine\" font-size=\"10.00\">output: </text>\n<polygon fill=\"none\" stroke=\"black\" points=\"110.5,-1050.5 110.5,-1072.5 253.5,-1072.5 253.5,-1050.5 110.5,-1050.5\"/>\n<text text-anchor=\"start\" x=\"146.75\" y=\"-1058\" font-family=\"Linux libertine\" font-size=\"10.00\">(1, 480, 14, 14) </text>\n</g>\n<!-- 46&#45;&gt;48 -->\n<g id=\"edge59\" class=\"edge\">\n<title>46&#45;&gt;48</title>\n<path fill=\"none\" stroke=\"black\" d=\"M106.99,-1210.62C91.22,-1201.97 76.03,-1190.2 67,-1174.5 57.25,-1157.55 58.48,-1148.1 67,-1130.5 72.48,-1119.18 81.41,-1109.43 91.15,-1101.35\"/>\n<polygon fill=\"black\" stroke=\"black\" points=\"93.22,-1104.17 99.05,-1095.32 88.97,-1098.61 93.22,-1104.17\"/>\n</g>\n<!-- 47&#45;&gt;48 -->\n<g id=\"edge60\" class=\"edge\">\n<title>47&#45;&gt;48</title>\n<path fill=\"none\" stroke=\"black\" d=\"M158.03,-1130.6C155.44,-1122.82 152.43,-1113.8 149.59,-1105.26\"/>\n<polygon fill=\"black\" stroke=\"black\" points=\"152.95,-1104.28 146.47,-1095.9 146.31,-1106.49 152.95,-1104.28\"/>\n</g>\n<!-- 49 -->\n<g id=\"node50\" class=\"node\">\n<title>49</title>\n<polygon fill=\"#c1ffc1\" stroke=\"none\" points=\"234,-1014.5 56,-1014.5 56,-970.5 234,-970.5 234,-1014.5\"/>\n<polygon fill=\"none\" stroke=\"black\" points=\"56,-970.5 56,-1014.5 111,-1014.5 111,-970.5 56,-970.5\"/>\n<text text-anchor=\"start\" x=\"61\" y=\"-995\" font-family=\"Linux libertine\" font-size=\"10.00\">Sequential</text>\n<text text-anchor=\"start\" x=\"67\" y=\"-983\" font-family=\"Linux libertine\" font-size=\"10.00\">depth:3</text>\n<polygon fill=\"none\" stroke=\"black\" points=\"111,-992.5 111,-1014.5 154,-1014.5 154,-992.5 111,-992.5\"/>\n<text text-anchor=\"start\" x=\"120.12\" y=\"-1000\" font-family=\"Linux libertine\" font-size=\"10.00\">input:</text>\n<polygon fill=\"none\" stroke=\"black\" points=\"154,-992.5 154,-1014.5 234,-1014.5 234,-992.5 154,-992.5\"/>\n<text text-anchor=\"start\" x=\"158.75\" y=\"-1000\" font-family=\"Linux libertine\" font-size=\"10.00\">(1, 480, 14, 14) </text>\n<polygon fill=\"none\" stroke=\"black\" points=\"111,-970.5 111,-992.5 154,-992.5 154,-970.5 111,-970.5\"/>\n<text text-anchor=\"start\" x=\"115.62\" y=\"-978\" font-family=\"Linux libertine\" font-size=\"10.00\">output: </text>\n<polygon fill=\"none\" stroke=\"black\" points=\"154,-970.5 154,-992.5 234,-992.5 234,-970.5 154,-970.5\"/>\n<text text-anchor=\"start\" x=\"161.38\" y=\"-978\" font-family=\"Linux libertine\" font-size=\"10.00\">(1, 80, 14, 14) </text>\n</g>\n<!-- 48&#45;&gt;49 -->\n<g id=\"edge61\" class=\"edge\">\n<title>48&#45;&gt;49</title>\n<path fill=\"none\" stroke=\"black\" d=\"M140.61,-1050.6C141.19,-1042.99 141.87,-1034.2 142.51,-1025.84\"/>\n<polygon fill=\"black\" stroke=\"black\" points=\"145.99,-1026.21 143.27,-1015.97 139.01,-1025.67 145.99,-1026.21\"/>\n</g>\n<!-- 49&#45;&gt;50 -->\n<g id=\"edge62\" class=\"edge\">\n<title>49&#45;&gt;50</title>\n<path fill=\"none\" stroke=\"black\" d=\"M148.48,-970.6C149.77,-962.9 151.25,-954 152.66,-945.55\"/>\n<polygon fill=\"black\" stroke=\"black\" points=\"156.07,-946.39 154.26,-935.95 149.16,-945.24 156.07,-946.39\"/>\n</g>\n<!-- 51 -->\n<g id=\"node52\" class=\"node\">\n<title>51</title>\n<polygon fill=\"#c1ffc1\" stroke=\"none\" points=\"238.5,-854.5 77.5,-854.5 77.5,-810.5 238.5,-810.5 238.5,-854.5\"/>\n<polygon fill=\"none\" stroke=\"black\" points=\"77.5,-810.5 77.5,-854.5 120.5,-854.5 120.5,-810.5 77.5,-810.5\"/>\n<text text-anchor=\"start\" x=\"82.12\" y=\"-835\" font-family=\"Linux libertine\" font-size=\"10.00\">Dropout</text>\n<text text-anchor=\"start\" x=\"82.5\" y=\"-823\" font-family=\"Linux libertine\" font-size=\"10.00\">depth:3</text>\n<polygon fill=\"none\" stroke=\"black\" points=\"120.5,-832.5 120.5,-854.5 163.5,-854.5 163.5,-832.5 120.5,-832.5\"/>\n<text text-anchor=\"start\" x=\"129.62\" y=\"-840\" font-family=\"Linux libertine\" font-size=\"10.00\">input:</text>\n<polygon fill=\"none\" stroke=\"black\" points=\"163.5,-832.5 163.5,-854.5 238.5,-854.5 238.5,-832.5 163.5,-832.5\"/>\n<text text-anchor=\"start\" x=\"168.38\" y=\"-840\" font-family=\"Linux libertine\" font-size=\"10.00\">(1, 80, 14, 14) </text>\n<polygon fill=\"none\" stroke=\"black\" points=\"120.5,-810.5 120.5,-832.5 163.5,-832.5 163.5,-810.5 120.5,-810.5\"/>\n<text text-anchor=\"start\" x=\"125.12\" y=\"-818\" font-family=\"Linux libertine\" font-size=\"10.00\">output: </text>\n<polygon fill=\"none\" stroke=\"black\" points=\"163.5,-810.5 163.5,-832.5 238.5,-832.5 238.5,-810.5 163.5,-810.5\"/>\n<text text-anchor=\"start\" x=\"168.38\" y=\"-818\" font-family=\"Linux libertine\" font-size=\"10.00\">(1, 80, 14, 14) </text>\n</g>\n<!-- 50&#45;&gt;51 -->\n<g id=\"edge63\" class=\"edge\">\n<title>50&#45;&gt;51</title>\n<path fill=\"none\" stroke=\"black\" d=\"M158,-890.6C158,-882.99 158,-874.2 158,-865.84\"/>\n<polygon fill=\"black\" stroke=\"black\" points=\"161.5,-865.97 158,-855.97 154.5,-865.97 161.5,-865.97\"/>\n</g>\n<!-- 52 -->\n<g id=\"node53\" class=\"node\">\n<title>52</title>\n<polygon fill=\"#c1ffc1\" stroke=\"none\" points=\"243.5,-756.25 72.5,-756.25 72.5,-712.25 243.5,-712.25 243.5,-756.25\"/>\n<polygon fill=\"none\" stroke=\"black\" points=\"72.5,-712.25 72.5,-756.25 115.5,-756.25 115.5,-712.25 72.5,-712.25\"/>\n<text text-anchor=\"start\" x=\"78.25\" y=\"-736.75\" font-family=\"Linux libertine\" font-size=\"10.00\">Conv2d</text>\n<text text-anchor=\"start\" x=\"77.5\" y=\"-724.75\" font-family=\"Linux libertine\" font-size=\"10.00\">depth:2</text>\n<polygon fill=\"none\" stroke=\"black\" points=\"115.5,-734.25 115.5,-756.25 158.5,-756.25 158.5,-734.25 115.5,-734.25\"/>\n<text text-anchor=\"start\" x=\"124.62\" y=\"-741.75\" font-family=\"Linux libertine\" font-size=\"10.00\">input:</text>\n<polygon fill=\"none\" stroke=\"black\" points=\"158.5,-734.25 158.5,-756.25 243.5,-756.25 243.5,-734.25 158.5,-734.25\"/>\n<text text-anchor=\"start\" x=\"168.38\" y=\"-741.75\" font-family=\"Linux libertine\" font-size=\"10.00\">(1, 80, 14, 14) </text>\n<polygon fill=\"none\" stroke=\"black\" points=\"115.5,-712.25 115.5,-734.25 158.5,-734.25 158.5,-712.25 115.5,-712.25\"/>\n<text text-anchor=\"start\" x=\"120.12\" y=\"-719.75\" font-family=\"Linux libertine\" font-size=\"10.00\">output: </text>\n<polygon fill=\"none\" stroke=\"black\" points=\"158.5,-712.25 158.5,-734.25 243.5,-734.25 243.5,-712.25 158.5,-712.25\"/>\n<text text-anchor=\"start\" x=\"163.12\" y=\"-719.75\" font-family=\"Linux libertine\" font-size=\"10.00\">(1, 1280, 14, 14) </text>\n</g>\n<!-- 51&#45;&gt;52 -->\n<g id=\"edge64\" class=\"edge\">\n<title>51&#45;&gt;52</title>\n<path fill=\"none\" stroke=\"black\" d=\"M158,-810.62C158,-798 158,-781.67 158,-767.43\"/>\n<polygon fill=\"black\" stroke=\"black\" points=\"161.5,-767.61 158,-757.61 154.5,-767.61 161.5,-767.61\"/>\n</g>\n<!-- 53 -->\n<g id=\"node54\" class=\"node\">\n<title>53</title>\n<polygon fill=\"#c1ffc1\" stroke=\"none\" points=\"255.5,-676.25 60.5,-676.25 60.5,-632.25 255.5,-632.25 255.5,-676.25\"/>\n<polygon fill=\"none\" stroke=\"black\" points=\"60.5,-632.25 60.5,-676.25 127.5,-676.25 127.5,-632.25 60.5,-632.25\"/>\n<text text-anchor=\"start\" x=\"65.5\" y=\"-656.75\" font-family=\"Linux libertine\" font-size=\"10.00\">BatchNorm2d</text>\n<text text-anchor=\"start\" x=\"77.5\" y=\"-644.75\" font-family=\"Linux libertine\" font-size=\"10.00\">depth:2</text>\n<polygon fill=\"none\" stroke=\"black\" points=\"127.5,-654.25 127.5,-676.25 170.5,-676.25 170.5,-654.25 127.5,-654.25\"/>\n<text text-anchor=\"start\" x=\"136.62\" y=\"-661.75\" font-family=\"Linux libertine\" font-size=\"10.00\">input:</text>\n<polygon fill=\"none\" stroke=\"black\" points=\"170.5,-654.25 170.5,-676.25 255.5,-676.25 255.5,-654.25 170.5,-654.25\"/>\n<text text-anchor=\"start\" x=\"175.12\" y=\"-661.75\" font-family=\"Linux libertine\" font-size=\"10.00\">(1, 1280, 14, 14) </text>\n<polygon fill=\"none\" stroke=\"black\" points=\"127.5,-632.25 127.5,-654.25 170.5,-654.25 170.5,-632.25 127.5,-632.25\"/>\n<text text-anchor=\"start\" x=\"132.12\" y=\"-639.75\" font-family=\"Linux libertine\" font-size=\"10.00\">output: </text>\n<polygon fill=\"none\" stroke=\"black\" points=\"170.5,-632.25 170.5,-654.25 255.5,-654.25 255.5,-632.25 170.5,-632.25\"/>\n<text text-anchor=\"start\" x=\"175.12\" y=\"-639.75\" font-family=\"Linux libertine\" font-size=\"10.00\">(1, 1280, 14, 14) </text>\n</g>\n<!-- 52&#45;&gt;53 -->\n<g id=\"edge65\" class=\"edge\">\n<title>52&#45;&gt;53</title>\n<path fill=\"none\" stroke=\"black\" d=\"M158,-712.35C158,-704.74 158,-695.95 158,-687.59\"/>\n<polygon fill=\"black\" stroke=\"black\" points=\"161.5,-687.72 158,-677.72 154.5,-687.72 161.5,-687.72\"/>\n</g>\n<!-- 54 -->\n<g id=\"node55\" class=\"node\">\n<title>54</title>\n<polygon fill=\"#c1ffc1\" stroke=\"none\" points=\"243.5,-596.25 72.5,-596.25 72.5,-552.25 243.5,-552.25 243.5,-596.25\"/>\n<polygon fill=\"none\" stroke=\"black\" points=\"72.5,-552.25 72.5,-596.25 115.5,-596.25 115.5,-552.25 72.5,-552.25\"/>\n<text text-anchor=\"start\" x=\"83.12\" y=\"-576.75\" font-family=\"Linux libertine\" font-size=\"10.00\">SELU</text>\n<text text-anchor=\"start\" x=\"77.5\" y=\"-564.75\" font-family=\"Linux libertine\" font-size=\"10.00\">depth:2</text>\n<polygon fill=\"none\" stroke=\"black\" points=\"115.5,-574.25 115.5,-596.25 158.5,-596.25 158.5,-574.25 115.5,-574.25\"/>\n<text text-anchor=\"start\" x=\"124.62\" y=\"-581.75\" font-family=\"Linux libertine\" font-size=\"10.00\">input:</text>\n<polygon fill=\"none\" stroke=\"black\" points=\"158.5,-574.25 158.5,-596.25 243.5,-596.25 243.5,-574.25 158.5,-574.25\"/>\n<text text-anchor=\"start\" x=\"163.12\" y=\"-581.75\" font-family=\"Linux libertine\" font-size=\"10.00\">(1, 1280, 14, 14) </text>\n<polygon fill=\"none\" stroke=\"black\" points=\"115.5,-552.25 115.5,-574.25 158.5,-574.25 158.5,-552.25 115.5,-552.25\"/>\n<text text-anchor=\"start\" x=\"120.12\" y=\"-559.75\" font-family=\"Linux libertine\" font-size=\"10.00\">output: </text>\n<polygon fill=\"none\" stroke=\"black\" points=\"158.5,-552.25 158.5,-574.25 243.5,-574.25 243.5,-552.25 158.5,-552.25\"/>\n<text text-anchor=\"start\" x=\"163.12\" y=\"-559.75\" font-family=\"Linux libertine\" font-size=\"10.00\">(1, 1280, 14, 14) </text>\n</g>\n<!-- 53&#45;&gt;54 -->\n<g id=\"edge66\" class=\"edge\">\n<title>53&#45;&gt;54</title>\n<path fill=\"none\" stroke=\"black\" d=\"M158,-632.35C158,-624.74 158,-615.95 158,-607.59\"/>\n<polygon fill=\"black\" stroke=\"black\" points=\"161.5,-607.72 158,-597.72 154.5,-607.72 161.5,-607.72\"/>\n</g>\n<!-- 55 -->\n<g id=\"node56\" class=\"node\">\n<title>55</title>\n<polygon fill=\"#c1ffc1\" stroke=\"none\" points=\"267.5,-516.25 48.5,-516.25 48.5,-472.25 267.5,-472.25 267.5,-516.25\"/>\n<polygon fill=\"none\" stroke=\"black\" points=\"48.5,-472.25 48.5,-516.25 139.5,-516.25 139.5,-472.25 48.5,-472.25\"/>\n<text text-anchor=\"start\" x=\"53.5\" y=\"-496.75\" font-family=\"Linux libertine\" font-size=\"10.00\">AdaptiveAvgPool2d</text>\n<text text-anchor=\"start\" x=\"77.5\" y=\"-484.75\" font-family=\"Linux libertine\" font-size=\"10.00\">depth:1</text>\n<polygon fill=\"none\" stroke=\"black\" points=\"139.5,-494.25 139.5,-516.25 182.5,-516.25 182.5,-494.25 139.5,-494.25\"/>\n<text text-anchor=\"start\" x=\"148.62\" y=\"-501.75\" font-family=\"Linux libertine\" font-size=\"10.00\">input:</text>\n<polygon fill=\"none\" stroke=\"black\" points=\"182.5,-494.25 182.5,-516.25 267.5,-516.25 267.5,-494.25 182.5,-494.25\"/>\n<text text-anchor=\"start\" x=\"187.12\" y=\"-501.75\" font-family=\"Linux libertine\" font-size=\"10.00\">(1, 1280, 14, 14) </text>\n<polygon fill=\"none\" stroke=\"black\" points=\"139.5,-472.25 139.5,-494.25 182.5,-494.25 182.5,-472.25 139.5,-472.25\"/>\n<text text-anchor=\"start\" x=\"144.12\" y=\"-479.75\" font-family=\"Linux libertine\" font-size=\"10.00\">output: </text>\n<polygon fill=\"none\" stroke=\"black\" points=\"182.5,-472.25 182.5,-494.25 267.5,-494.25 267.5,-472.25 182.5,-472.25\"/>\n<text text-anchor=\"start\" x=\"192.38\" y=\"-479.75\" font-family=\"Linux libertine\" font-size=\"10.00\">(1, 1280, 1, 1) </text>\n</g>\n<!-- 54&#45;&gt;55 -->\n<g id=\"edge67\" class=\"edge\">\n<title>54&#45;&gt;55</title>\n<path fill=\"none\" stroke=\"black\" d=\"M158,-552.35C158,-544.74 158,-535.95 158,-527.59\"/>\n<polygon fill=\"black\" stroke=\"black\" points=\"161.5,-527.72 158,-517.72 154.5,-527.72 161.5,-527.72\"/>\n</g>\n<!-- 56 -->\n<g id=\"node57\" class=\"node\">\n<title>56</title>\n<polygon fill=\"aliceblue\" stroke=\"none\" points=\"238.5,-436.25 77.5,-436.25 77.5,-392.25 238.5,-392.25 238.5,-436.25\"/>\n<polygon fill=\"none\" stroke=\"black\" points=\"77.5,-392.25 77.5,-436.25 120.5,-436.25 120.5,-392.25 77.5,-392.25\"/>\n<text text-anchor=\"start\" x=\"89.25\" y=\"-416.75\" font-family=\"Linux libertine\" font-size=\"10.00\">view</text>\n<text text-anchor=\"start\" x=\"82.5\" y=\"-404.75\" font-family=\"Linux libertine\" font-size=\"10.00\">depth:1</text>\n<polygon fill=\"none\" stroke=\"black\" points=\"120.5,-414.25 120.5,-436.25 163.5,-436.25 163.5,-414.25 120.5,-414.25\"/>\n<text text-anchor=\"start\" x=\"129.62\" y=\"-421.75\" font-family=\"Linux libertine\" font-size=\"10.00\">input:</text>\n<polygon fill=\"none\" stroke=\"black\" points=\"163.5,-414.25 163.5,-436.25 238.5,-436.25 238.5,-414.25 163.5,-414.25\"/>\n<text text-anchor=\"start\" x=\"168.38\" y=\"-421.75\" font-family=\"Linux libertine\" font-size=\"10.00\">(1, 1280, 1, 1) </text>\n<polygon fill=\"none\" stroke=\"black\" points=\"120.5,-392.25 120.5,-414.25 163.5,-414.25 163.5,-392.25 120.5,-392.25\"/>\n<text text-anchor=\"start\" x=\"125.12\" y=\"-399.75\" font-family=\"Linux libertine\" font-size=\"10.00\">output: </text>\n<polygon fill=\"none\" stroke=\"black\" points=\"163.5,-392.25 163.5,-414.25 238.5,-414.25 238.5,-392.25 163.5,-392.25\"/>\n<text text-anchor=\"start\" x=\"179.62\" y=\"-399.75\" font-family=\"Linux libertine\" font-size=\"10.00\">(1, 1280) </text>\n</g>\n<!-- 55&#45;&gt;56 -->\n<g id=\"edge68\" class=\"edge\">\n<title>55&#45;&gt;56</title>\n<path fill=\"none\" stroke=\"black\" d=\"M158,-472.35C158,-464.74 158,-455.95 158,-447.59\"/>\n<polygon fill=\"black\" stroke=\"black\" points=\"161.5,-447.72 158,-437.72 154.5,-447.72 161.5,-447.72\"/>\n</g>\n<!-- 57 -->\n<g id=\"node58\" class=\"node\">\n<title>57</title>\n<polygon fill=\"#c1ffc1\" stroke=\"none\" points=\"227,-354 89,-354 89,-310 227,-310 227,-354\"/>\n<polygon fill=\"none\" stroke=\"black\" points=\"89,-310 89,-354 132,-354 132,-310 89,-310\"/>\n<text text-anchor=\"start\" x=\"97.38\" y=\"-334.5\" font-family=\"Linux libertine\" font-size=\"10.00\">Linear</text>\n<text text-anchor=\"start\" x=\"94\" y=\"-322.5\" font-family=\"Linux libertine\" font-size=\"10.00\">depth:2</text>\n<polygon fill=\"none\" stroke=\"black\" points=\"132,-332 132,-354 175,-354 175,-332 132,-332\"/>\n<text text-anchor=\"start\" x=\"141.12\" y=\"-339.5\" font-family=\"Linux libertine\" font-size=\"10.00\">input:</text>\n<polygon fill=\"none\" stroke=\"black\" points=\"175,-332 175,-354 227,-354 227,-332 175,-332\"/>\n<text text-anchor=\"start\" x=\"179.62\" y=\"-339.5\" font-family=\"Linux libertine\" font-size=\"10.00\">(1, 1280) </text>\n<polygon fill=\"none\" stroke=\"black\" points=\"132,-310 132,-332 175,-332 175,-310 132,-310\"/>\n<text text-anchor=\"start\" x=\"136.62\" y=\"-317.5\" font-family=\"Linux libertine\" font-size=\"10.00\">output: </text>\n<polygon fill=\"none\" stroke=\"black\" points=\"175,-310 175,-332 227,-332 227,-310 175,-310\"/>\n<text text-anchor=\"start\" x=\"182.25\" y=\"-317.5\" font-family=\"Linux libertine\" font-size=\"10.00\">(1, 512) </text>\n</g>\n<!-- 56&#45;&gt;57 -->\n<g id=\"edge69\" class=\"edge\">\n<title>56&#45;&gt;57</title>\n<path fill=\"none\" stroke=\"black\" d=\"M158,-392.58C158,-384.22 158,-374.38 158,-365.12\"/>\n<polygon fill=\"black\" stroke=\"black\" points=\"161.5,-365.39 158,-355.39 154.5,-365.39 161.5,-365.39\"/>\n</g>\n<!-- 58 -->\n<g id=\"node59\" class=\"node\">\n<title>58</title>\n<polygon fill=\"#c1ffc1\" stroke=\"none\" points=\"224.5,-274 91.5,-274 91.5,-230 224.5,-230 224.5,-274\"/>\n<polygon fill=\"none\" stroke=\"black\" points=\"91.5,-230 91.5,-274 134.5,-274 134.5,-230 91.5,-230\"/>\n<text text-anchor=\"start\" x=\"102.12\" y=\"-254.5\" font-family=\"Linux libertine\" font-size=\"10.00\">SELU</text>\n<text text-anchor=\"start\" x=\"96.5\" y=\"-242.5\" font-family=\"Linux libertine\" font-size=\"10.00\">depth:2</text>\n<polygon fill=\"none\" stroke=\"black\" points=\"134.5,-252 134.5,-274 177.5,-274 177.5,-252 134.5,-252\"/>\n<text text-anchor=\"start\" x=\"143.62\" y=\"-259.5\" font-family=\"Linux libertine\" font-size=\"10.00\">input:</text>\n<polygon fill=\"none\" stroke=\"black\" points=\"177.5,-252 177.5,-274 224.5,-274 224.5,-252 177.5,-252\"/>\n<text text-anchor=\"start\" x=\"182.25\" y=\"-259.5\" font-family=\"Linux libertine\" font-size=\"10.00\">(1, 512) </text>\n<polygon fill=\"none\" stroke=\"black\" points=\"134.5,-230 134.5,-252 177.5,-252 177.5,-230 134.5,-230\"/>\n<text text-anchor=\"start\" x=\"139.12\" y=\"-237.5\" font-family=\"Linux libertine\" font-size=\"10.00\">output: </text>\n<polygon fill=\"none\" stroke=\"black\" points=\"177.5,-230 177.5,-252 224.5,-252 224.5,-230 177.5,-230\"/>\n<text text-anchor=\"start\" x=\"182.25\" y=\"-237.5\" font-family=\"Linux libertine\" font-size=\"10.00\">(1, 512) </text>\n</g>\n<!-- 57&#45;&gt;58 -->\n<g id=\"edge70\" class=\"edge\">\n<title>57&#45;&gt;58</title>\n<path fill=\"none\" stroke=\"black\" d=\"M158,-310.1C158,-302.49 158,-293.7 158,-285.34\"/>\n<polygon fill=\"black\" stroke=\"black\" points=\"161.5,-285.47 158,-275.47 154.5,-285.47 161.5,-285.47\"/>\n</g>\n<!-- 59 -->\n<g id=\"node60\" class=\"node\">\n<title>59</title>\n<polygon fill=\"#c1ffc1\" stroke=\"none\" points=\"236.5,-194 79.5,-194 79.5,-150 236.5,-150 236.5,-194\"/>\n<polygon fill=\"none\" stroke=\"black\" points=\"79.5,-150 79.5,-194 146.5,-194 146.5,-150 79.5,-150\"/>\n<text text-anchor=\"start\" x=\"84.5\" y=\"-174.5\" font-family=\"Linux libertine\" font-size=\"10.00\">BatchNorm1d</text>\n<text text-anchor=\"start\" x=\"96.5\" y=\"-162.5\" font-family=\"Linux libertine\" font-size=\"10.00\">depth:2</text>\n<polygon fill=\"none\" stroke=\"black\" points=\"146.5,-172 146.5,-194 189.5,-194 189.5,-172 146.5,-172\"/>\n<text text-anchor=\"start\" x=\"155.62\" y=\"-179.5\" font-family=\"Linux libertine\" font-size=\"10.00\">input:</text>\n<polygon fill=\"none\" stroke=\"black\" points=\"189.5,-172 189.5,-194 236.5,-194 236.5,-172 189.5,-172\"/>\n<text text-anchor=\"start\" x=\"194.25\" y=\"-179.5\" font-family=\"Linux libertine\" font-size=\"10.00\">(1, 512) </text>\n<polygon fill=\"none\" stroke=\"black\" points=\"146.5,-150 146.5,-172 189.5,-172 189.5,-150 146.5,-150\"/>\n<text text-anchor=\"start\" x=\"151.12\" y=\"-157.5\" font-family=\"Linux libertine\" font-size=\"10.00\">output: </text>\n<polygon fill=\"none\" stroke=\"black\" points=\"189.5,-150 189.5,-172 236.5,-172 236.5,-150 189.5,-150\"/>\n<text text-anchor=\"start\" x=\"194.25\" y=\"-157.5\" font-family=\"Linux libertine\" font-size=\"10.00\">(1, 512) </text>\n</g>\n<!-- 58&#45;&gt;59 -->\n<g id=\"edge71\" class=\"edge\">\n<title>58&#45;&gt;59</title>\n<path fill=\"none\" stroke=\"black\" d=\"M158,-230.1C158,-222.49 158,-213.7 158,-205.34\"/>\n<polygon fill=\"black\" stroke=\"black\" points=\"161.5,-205.47 158,-195.47 154.5,-205.47 161.5,-205.47\"/>\n</g>\n<!-- 60 -->\n<g id=\"node61\" class=\"node\">\n<title>60</title>\n<polygon fill=\"#c1ffc1\" stroke=\"none\" points=\"224.5,-114 91.5,-114 91.5,-70 224.5,-70 224.5,-114\"/>\n<polygon fill=\"none\" stroke=\"black\" points=\"91.5,-70 91.5,-114 134.5,-114 134.5,-70 91.5,-70\"/>\n<text text-anchor=\"start\" x=\"99.88\" y=\"-94.5\" font-family=\"Linux libertine\" font-size=\"10.00\">Linear</text>\n<text text-anchor=\"start\" x=\"96.5\" y=\"-82.5\" font-family=\"Linux libertine\" font-size=\"10.00\">depth:1</text>\n<polygon fill=\"none\" stroke=\"black\" points=\"134.5,-92 134.5,-114 177.5,-114 177.5,-92 134.5,-92\"/>\n<text text-anchor=\"start\" x=\"143.62\" y=\"-99.5\" font-family=\"Linux libertine\" font-size=\"10.00\">input:</text>\n<polygon fill=\"none\" stroke=\"black\" points=\"177.5,-92 177.5,-114 224.5,-114 224.5,-92 177.5,-92\"/>\n<text text-anchor=\"start\" x=\"182.25\" y=\"-99.5\" font-family=\"Linux libertine\" font-size=\"10.00\">(1, 512) </text>\n<polygon fill=\"none\" stroke=\"black\" points=\"134.5,-70 134.5,-92 177.5,-92 177.5,-70 134.5,-70\"/>\n<text text-anchor=\"start\" x=\"139.12\" y=\"-77.5\" font-family=\"Linux libertine\" font-size=\"10.00\">output: </text>\n<polygon fill=\"none\" stroke=\"black\" points=\"177.5,-70 177.5,-92 224.5,-92 224.5,-70 177.5,-70\"/>\n<text text-anchor=\"start\" x=\"187.5\" y=\"-77.5\" font-family=\"Linux libertine\" font-size=\"10.00\">(1, 5) </text>\n</g>\n<!-- 59&#45;&gt;60 -->\n<g id=\"edge72\" class=\"edge\">\n<title>59&#45;&gt;60</title>\n<path fill=\"none\" stroke=\"black\" d=\"M158,-150.1C158,-142.49 158,-133.7 158,-125.34\"/>\n<polygon fill=\"black\" stroke=\"black\" points=\"161.5,-125.47 158,-115.47 154.5,-125.47 161.5,-125.47\"/>\n</g>\n<!-- 61 -->\n<g id=\"node62\" class=\"node\">\n<title>61</title>\n<polygon fill=\"lightyellow\" stroke=\"none\" points=\"208.88,-34 107.12,-34 107.12,0 208.88,0 208.88,-34\"/>\n<polygon fill=\"none\" stroke=\"black\" points=\"107.12,0 107.12,-34 174.88,-34 174.88,0 107.12,0\"/>\n<text text-anchor=\"start\" x=\"112.12\" y=\"-19.5\" font-family=\"Linux libertine\" font-size=\"10.00\">output&#45;tensor</text>\n<text text-anchor=\"start\" x=\"124.5\" y=\"-7.5\" font-family=\"Linux libertine\" font-size=\"10.00\">depth:0</text>\n<polygon fill=\"none\" stroke=\"black\" points=\"174.88,0 174.88,-34 208.88,-34 208.88,0 174.88,0\"/>\n<text text-anchor=\"start\" x=\"179.88\" y=\"-13.5\" font-family=\"Linux libertine\" font-size=\"10.00\">(1, 5)</text>\n</g>\n<!-- 60&#45;&gt;61 -->\n<g id=\"edge73\" class=\"edge\">\n<title>60&#45;&gt;61</title>\n<path fill=\"none\" stroke=\"black\" d=\"M158,-70.28C158,-62.46 158,-53.45 158,-45.13\"/>\n<polygon fill=\"black\" stroke=\"black\" points=\"161.5,-45.18 158,-35.18 154.5,-45.18 161.5,-45.18\"/>\n</g>\n</g>\n</svg>\n",
      "text/plain": "<graphviz.graphs.Digraph at 0x2311d3da990>"
     },
     "execution_count": 27,
     "metadata": {},
     "output_type": "execute_result"
    }
   ],
   "source": [
    "from torchview import draw_graph\n",
    "\n",
    "model_graph = draw_graph(model, input_size=(1,3,224,224), expand_nested=True)\n",
    "model_graph.visual_graph"
   ],
   "metadata": {
    "collapsed": false,
    "ExecuteTime": {
     "end_time": "2023-11-01T11:12:57.981543700Z",
     "start_time": "2023-11-01T11:12:57.278320900Z"
    }
   }
  },
  {
   "cell_type": "code",
   "execution_count": 110,
   "outputs": [
    {
     "name": "stderr",
     "output_type": "stream",
     "text": [
      "\r\n",
      "(dot.exe:40644): Pango-WARNING **: couldn't load font \"Linux libertine Not-Rotated 10\", falling back to \"Sans Not-Rotated 10\", expect ugly output.\r\n"
     ]
    },
    {
     "data": {
      "text/plain": "'model_architecture.png'"
     },
     "execution_count": 110,
     "metadata": {},
     "output_type": "execute_result"
    }
   ],
   "source": [
    "model_graph.visual_graph.format = 'png'\n",
    "model_graph.visual_graph.render(filename='model_architecture')"
   ],
   "metadata": {
    "collapsed": false,
    "ExecuteTime": {
     "end_time": "2023-10-30T05:11:17.420711Z",
     "start_time": "2023-10-30T05:11:17.211630700Z"
    }
   }
  },
  {
   "cell_type": "code",
   "execution_count": null,
   "outputs": [],
   "source": [],
   "metadata": {
    "collapsed": false
   }
  }
 ],
 "metadata": {
  "kernelspec": {
   "display_name": "Python 3.10.9",
   "language": "python",
   "name": "python3"
  },
  "language_info": {
   "codemirror_mode": {
    "name": "ipython",
    "version": 3
   },
   "file_extension": ".py",
   "mimetype": "text/x-python",
   "name": "python",
   "nbconvert_exporter": "python",
   "pygments_lexer": "ipython3",
   "version": "3.9.17"
  },
  "orig_nbformat": 4,
  "vscode": {
   "interpreter": {
    "hash": "51ee1b965d6f75a20b2b6babb72920dce4fab5775c12eb1659af0fb55d185fed"
   }
  }
 },
 "nbformat": 4,
 "nbformat_minor": 2
}
