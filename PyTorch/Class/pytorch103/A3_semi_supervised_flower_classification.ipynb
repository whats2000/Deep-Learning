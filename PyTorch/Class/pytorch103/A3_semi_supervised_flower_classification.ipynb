{
 "cells": [
  {
   "cell_type": "markdown",
   "metadata": {},
   "source": [
    "# MIS 583 Assignment 3: Semi-supervised Flower Classfication"
   ]
  },
  {
   "cell_type": "markdown",
   "metadata": {},
   "source": [
    "Before we start, please put your name and SID in following format: <br>\n",
    ": LASTNAME Firstname, ?00000000   //   e.g.) 李晨愷 M114020035"
   ]
  },
  {
   "cell_type": "markdown",
   "metadata": {},
   "source": [
    "**Your Answer:**    \n",
    "Hi I'm 鄔仁迪, B104020009."
   ]
  },
  {
   "cell_type": "markdown",
   "metadata": {},
   "source": [
    "## Semi-supervised Flower Classfication\n",
    "\n",
    "In this approach, you have a dataset that includes both labeled and unlabeled examples.\n",
    "\n",
    "The goal is to use the labeled data to train the model while also leveraging the unlabeled\n",
    "data to improve the model's performance.\n",
    "\n",
    "In this assignment, you’ll explore a self-training mechanism for this task.\n",
    "\n",
    "\n",
    "**Please note that you’re not allowed to use pre-constructed models or pre-trained weights.**"
   ]
  },
  {
   "cell_type": "markdown",
   "metadata": {},
   "source": [
    "## Kaggle Competition\n",
    "Kaggle is an online community of data scientists and machine learning practitioners. Kaggle allows users to find and publish datasets, explore and build models in a web-based data-science environment, work with other data scientists and machine learning engineers, and enter competitions to solve data science challenges.\n",
    "\n",
    "This assignment use kaggle to calculate your grade.  \n",
    "Please use this [**LINK**](https://www.kaggle.com/t/e304bb12c8a84e5c9c1b27a6c3bd4026) to join the competition.\n",
    "\n",
    "**Again, Use your SID as your team's name!!!**"
   ]
  },
  {
   "cell_type": "markdown",
   "metadata": {},
   "source": [
    "## Google Colab Setup\n",
    "Next we need to run a few commands to set up our environment on Google Colab. If you are running this notebook on a local machine you can skip this section.\n",
    "\n",
    "Run the following cell to mount your Google Drive. Follow the link, sign in to your Google account (the same account you used to store this notebook!) and copy the authorization code into the text box that appears below."
   ]
  },
  {
   "cell_type": "code",
   "execution_count": 1,
   "metadata": {
    "ExecuteTime": {
     "end_time": "2023-10-28T07:34:08.363058400Z",
     "start_time": "2023-10-28T07:34:08.359303Z"
    }
   },
   "outputs": [],
   "source": [
    "# from google.colab import drive\n",
    "# drive.mount('/content/drive')"
   ]
  },
  {
   "cell_type": "markdown",
   "metadata": {},
   "source": [
    "##  Versions of used packages\n",
    "\n",
    "We will check PyTorch version to make sure everything work properly.\n",
    "\n",
    "We use `python==3.10.12`, `torch==2.0.1+cu118` and `torchvision==0.15.2+cu118`. This is the default version in Google Colab."
   ]
  },
  {
   "cell_type": "code",
   "execution_count": 1,
   "metadata": {
    "ExecuteTime": {
     "end_time": "2023-10-31T15:33:38.261306400Z",
     "start_time": "2023-10-31T15:33:31.339305300Z"
    }
   },
   "outputs": [
    {
     "name": "stdout",
     "output_type": "stream",
     "text": [
      "python 3.11.2 (tags/v3.11.2:878ead1, Feb  7 2023, 16:38:35) [MSC v.1934 64 bit (AMD64)]\n",
      "torch 2.1.0+cu118\n",
      "torchvision 0.16.0+cu118\n"
     ]
    }
   ],
   "source": [
    "import sys\n",
    "import torch\n",
    "import torchvision\n",
    "from torch.nn import Sequential\n",
    "\n",
    "print('python', sys.version.split('\\n')[0])\n",
    "print('torch', torch.__version__)\n",
    "print('torchvision', torchvision.__version__)"
   ]
  },
  {
   "cell_type": "markdown",
   "metadata": {},
   "source": [
    "# Prepare Data"
   ]
  },
  {
   "cell_type": "markdown",
   "metadata": {},
   "source": [
    "We use [Flowers Recognition](https://www.kaggle.com/alxmamaev/flowers-recognition) dataset.\n",
    "This is collected by Alexander Mamaev.\n",
    "\n",
    "**Abstrct**  \n",
    "\n",
    "We clean the dataset,this dataset contains 4262 flower images.   \n",
    "**IMPORTANT: you CANNOT use any extra images.**\n",
    "\n",
    "The data collection is grabed from the data flicr, google images, yandex images.\n",
    "You can use this datastet to recognize plants from the photo.\n",
    "\n",
    "The pictures are divided into five classes: \n",
    "+ daisy\n",
    "+ tulip\n",
    "+ rose\n",
    "+ sunflower\n",
    "+ dandelion\n",
    "\n",
    "For each class there are about 800 photos. Photos are not high resolution, about 320x240 pixels. Photos are not reduced to a single size, they have different proportions!"
   ]
  },
  {
   "cell_type": "markdown",
   "metadata": {},
   "source": [
    "## How to Get Data\n",
    "\n",
    "請先到共用雲端硬碟將檔案 `A3_data_flower_2023.zip`，建立捷徑到自己的雲端硬碟中。\n",
    "\n",
    "> 操作步驟\n",
    "1. 點開雲端[連結](https://drive.google.com/file/d/1eme754s_uI5dI5SnNUH2ZuvJ5QT-kmaZ/view?usp=sharing)\n",
    "2. 點選右上角「新增雲端硬碟捷徑」\n",
    "3. 點選「我的雲端硬碟」\n",
    "4. 點選「新增捷徑」\n",
    "\n",
    "完成以上流程會在你的雲端硬碟中建立一個檔案的捷徑，接著我們在colab中取得權限即可使用。"
   ]
  },
  {
   "cell_type": "markdown",
   "metadata": {},
   "source": [
    "## Unzip Data\n",
    "\n",
    "Unzip `A3_data_flower_2023.zip`, there are 2 folders and 4 csvs.\n",
    "\n",
    "- `train/`: contains 5 folders for 5 categories of flowers. Images of flowers inside them.\n",
    "- `test/`: unclassified images of testing set.\n",
    "- `train_labeled_dataset.csv`: file path and true label of training set.\n",
    "- `train_unlabeled_dataset.csv`: file path and without label of training set.\n",
    "- `val.csv`: file path and true label of validation set.\n",
    "- `test.csv`: file paht of testing set.\n",
    "\n",
    "There are **843 images in labeled_dataset_train.**  \n",
    "\n",
    "There are **1713 images in unlabeled_dataset_train.** \n",
    "\n",
    "There are **853 images in dataset_test.**  \n",
    "\n",
    "There are **853 images in dataset_val.**  \n",
    "\n",
    "---\n",
    "\n",
    "解壓縮 `A3_data_flower_2023.zip` 後可以發現裡面有兩個資料夾和四個csv檔。\n",
    "\n",
    "+ `train` : 存有五個資料夾分別是五個種類的花，資料夾內為花的照片。\n",
    "+ `test` : 資料夾中為未分類之測試集照片。\n",
    "+ `train_labeled_dataset.csv` : 讀取 train data 的順序、路徑與圖片所屬花別。\n",
    "+ `train_unlabeled_dataset.csv` : 讀取 train data 的順序、路徑與圖片但沒有所屬花別標籤。\n",
    "+ `val.csv` : 讀取 validate data 的順序、路徑與圖片所屬花別。\n",
    "+ `test.csv` : 讀取 test data 的順序、路徑。\n",
    "\n",
    "其中`train_labeled`的圖片 843 張，`train_unlabeled`的圖片 1713 張，`val` 的圖片 853 張，`test` 的圖片 853 張。\n",
    "\n",
    "注意: 若有另外設定存放在雲端硬碟中的路徑，請記得本處路徑也須做更動。"
   ]
  },
  {
   "cell_type": "code",
   "execution_count": 2,
   "metadata": {
    "ExecuteTime": {
     "end_time": "2023-10-31T15:33:38.261306400Z",
     "start_time": "2023-10-31T15:33:38.257235700Z"
    }
   },
   "outputs": [],
   "source": [
    "# !unzip -qq ./drive/MyDrive/A3_data_flower_2023.zip"
   ]
  },
  {
   "cell_type": "code",
   "execution_count": 3,
   "metadata": {
    "ExecuteTime": {
     "end_time": "2023-10-31T15:33:38.269494Z",
     "start_time": "2023-10-31T15:33:38.261306400Z"
    }
   },
   "outputs": [],
   "source": [
    "data_folder = 'A3_data_flower_2023'"
   ]
  },
  {
   "cell_type": "markdown",
   "metadata": {},
   "source": [
    "## Loading the dataset"
   ]
  },
  {
   "cell_type": "markdown",
   "metadata": {},
   "source": [
    "### Custom dataset\n",
    "\n",
    "Build a classs inherit `torch.utils.data.Dataset`.  \n",
    "Implement `__init__`, `__getitem__` and `__len__` 3 functions.  \n",
    "\n",
    "Some operations could be there: setting location of dataset, the method of reading data, label of dataset or transform of dataset.\n",
    "\n",
    "See [torch.utils.data.Dataset](https://pytorch.org/docs/stable/data.html#torch.utils.data.Dataset) for more details\n",
    "\n",
    "---\n",
    "\n",
    "繼承自定義資料集的框架 `torch.utils.data.Dataset`，主要實現 `__getitem__()` 和 `__len__()` 這兩個方法。\n",
    "\n",
    "常使用來做到設定資料位址、設定讀取方式、子資料集的標籤和轉換條件...等。\n",
    "\n",
    "See [torch.utils.data.Dataset](https://pytorch.org/docs/stable/data.html#torch.utils.data.Dataset) for more details"
   ]
  },
  {
   "cell_type": "code",
   "execution_count": 4,
   "metadata": {
    "ExecuteTime": {
     "end_time": "2023-10-31T15:33:38.277852600Z",
     "start_time": "2023-10-31T15:33:38.271495300Z"
    }
   },
   "outputs": [],
   "source": [
    "import csv\n",
    "import os\n",
    "import numpy as np\n",
    "from PIL import Image\n",
    "import torch\n",
    "\n",
    "class FlowerData(torch.utils.data.Dataset):\n",
    "    def __init__(self, csv_file, mode='train', transform=None):\n",
    "        self.mode = mode # 'train', 'val' or 'test'\n",
    "        self.data_list = []\n",
    "        self.labels = []\n",
    "        self.transform = transform\n",
    "        \n",
    "        with open(f'{data_folder}/{csv_file}', newline='') as csvfile:\n",
    "            reader = csv.DictReader(csvfile)\n",
    "            for row in reader:\n",
    "                self.data_list.append(f\"{data_folder}/{row['file_path']}\")\n",
    "                if mode != 'test':\n",
    "                    self.labels.append(row['label'])\n",
    "\n",
    "    def __getitem__(self, index):\n",
    "        data = Image.open(self.data_list[index])\n",
    "        if self.transform is not None:\n",
    "            data = self.transform(data)\n",
    "        if self.mode == 'test':\n",
    "            return data\n",
    "        label = int(self.labels[index])\n",
    "\n",
    "        return data, label\n",
    "\n",
    "    def __len__(self):\n",
    "        return len(self.data_list)"
   ]
  },
  {
   "cell_type": "markdown",
   "metadata": {},
   "source": [
    "### Data augmentation \n",
    "\n",
    "Data augmentation are techniques used to increase the amount of data by adding slightly modified copies of already existing data or newly created synthetic data from existing data.\n",
    "\n",
    "PyTorch use `torchvision.transforms` to do data augmentation.\n",
    "[You can see all function here.](https://pytorch.org/vision/stable/transforms.html)\n",
    "\n",
    "**NOTICE**: There are some operations may not be necessary for predict, so we should write one for train and one for others."
   ]
  },
  {
   "cell_type": "code",
   "execution_count": 5,
   "metadata": {
    "ExecuteTime": {
     "end_time": "2023-10-31T15:33:38.332862200Z",
     "start_time": "2023-10-31T15:33:38.280850300Z"
    }
   },
   "outputs": [],
   "source": [
    "from torchvision.transforms import AutoAugmentPolicy, AutoAugment\n",
    "from torchvision import transforms\n",
    "# For TRAIN\n",
    "########################################################################\n",
    "#  TODO: use transforms.xxx method to do some data augmentation        #\n",
    "#  This one is for training, find the composition to get better result #\n",
    "########################################################################\n",
    "# These calculate from data eval\n",
    "train_mean = [0.4552, 0.4027, 0.2775]\n",
    "train_std = [0.2714, 0.2409, 0.2198]\n",
    "\n",
    "transforms_train = transforms.Compose([\n",
    "    transforms.RandomResizedCrop(224),\n",
    "    transforms.RandomHorizontalFlip(),\n",
    "    transforms.RandomVerticalFlip(),\n",
    "    transforms.RandomRotation(30),\n",
    "    transforms.ColorJitter(brightness=0.2, contrast=0.2, saturation=0.2),\n",
    "    transforms.ToTensor(),\n",
    "    transforms.Normalize(mean=train_mean, std=train_std)\n",
    "])\n",
    "############################################################\n",
    "#                           End of your code                           #\n",
    "########################################################################\n",
    "\n",
    "# For VAL, TEST\n",
    "########################################################################\n",
    "#  TODO: use transforms.xxx method to do some data augmentation        #\n",
    "#  This one is for validate and test,                                  #\n",
    "#  NOTICE some operation we usually not use in this part               #\n",
    "########################################################################\n",
    "transforms_test = transforms.Compose([\n",
    "    transforms.Resize(256),                               # Resize to a fixed size\n",
    "    transforms.CenterCrop(224),                           # Center crop\n",
    "    transforms.ToTensor(),                                # Convert to tensor\n",
    "    transforms.Normalize(mean=train_mean, std=train_std)  # Normalize\n",
    "])\n",
    "########################################################################\n",
    "#                           End of your code                           #\n",
    "########################################################################"
   ]
  },
  {
   "cell_type": "markdown",
   "metadata": {},
   "source": [
    "### Instantiate dataset\n",
    "\n",
    "Let's instantiate three `FlowerData` class.\n",
    "+ train_set: for labeled_training.\n",
    "+ unlabeled_set: for unlabeled_training.\n",
    "+ dataset_val: for validation."
   ]
  },
  {
   "cell_type": "code",
   "execution_count": 6,
   "metadata": {
    "ExecuteTime": {
     "end_time": "2023-10-31T15:33:38.344686600Z",
     "start_time": "2023-10-31T15:33:38.288049900Z"
    }
   },
   "outputs": [],
   "source": [
    "train_set = FlowerData('train_labeled_dataset.csv', mode='train', transform=transforms_train)\n",
    "unlabeled_set = FlowerData('train_unlabeled_dataset.csv', mode='test', transform=transforms_train)\n",
    "valid_set = FlowerData('val.csv', mode='val', transform=transforms_test)"
   ]
  },
  {
   "cell_type": "code",
   "execution_count": 7,
   "metadata": {
    "ExecuteTime": {
     "end_time": "2023-10-31T15:33:38.344686600Z",
     "start_time": "2023-10-31T15:33:38.306854800Z"
    }
   },
   "outputs": [
    {
     "name": "stdout",
     "output_type": "stream",
     "text": [
      "The first image's shape in dataset_train : torch.Size([3, 224, 224])\n",
      "There are 843 images in labeled_dataset_train.\n",
      "There are 1713 images in unlabeled_dataset_train.\n",
      "There are 853 images in dataset_val.\n"
     ]
    }
   ],
   "source": [
    "print(\"The first image's shape in dataset_train :\", train_set[0][0].size())\n",
    "print(\"There are\", len(train_set), \"images in labeled_dataset_train.\")\n",
    "print(\"There are\", len(unlabeled_set), \"images in unlabeled_dataset_train.\")\n",
    "print(\"There are\", len(valid_set), \"images in dataset_val.\")"
   ]
  },
  {
   "cell_type": "markdown",
   "metadata": {},
   "source": [
    "### `DataLoader`\n",
    "\n",
    "`torch.utils.data.DataLoader` define how to sample from `dataset` and some other function like:\n",
    "+ `shuffle` : set to `True` to have the data reshuffled at every epoch\n",
    "+ `batch_size` : how many samples per batch to load\n",
    "\n",
    "See [torch.utils.data.DataLoader](https://pytorch.org/docs/stable/data.html#torch.utils.data.DataLoader) for more details"
   ]
  },
  {
   "cell_type": "code",
   "execution_count": 8,
   "metadata": {
    "ExecuteTime": {
     "end_time": "2023-10-31T15:33:38.344686600Z",
     "start_time": "2023-10-31T15:33:38.341748200Z"
    }
   },
   "outputs": [],
   "source": [
    "#####################################################\n",
    "#            You can adjust batch_size              #\n",
    "#####################################################\n",
    "from torch.utils.data import DataLoader\n",
    "\n",
    "batch_size = 32\n",
    "num_workers = 0\n",
    "train_loader = DataLoader(train_set, batch_size=batch_size, num_workers=num_workers, shuffle=True)\n",
    "valid_loader = DataLoader(valid_set, batch_size=batch_size, num_workers=num_workers, shuffle=False)"
   ]
  },
  {
   "cell_type": "markdown",
   "metadata": {},
   "source": [
    "Finally! We have made all data prepared.  \n",
    "Let's go develop our model."
   ]
  },
  {
   "cell_type": "markdown",
   "metadata": {},
   "source": [
    "# Self-training"
   ]
  },
  {
   "cell_type": "markdown",
   "metadata": {},
   "source": [
    "## Step 1: Supervised training"
   ]
  },
  {
   "cell_type": "markdown",
   "metadata": {},
   "source": [
    "### Implement CNN using PyTorch \n",
    "\n",
    "Try to use labeled data design and train a deep convolutional network from scratch to predict the class label of a flower image. \n",
    "\n",
    "**Again, the goal of this assignment is for you to test different convolutional structures. You cannot directly use the blocks/architectures of pre-trained models.**"
   ]
  },
  {
   "cell_type": "code",
   "execution_count": 9,
   "outputs": [],
   "source": [
    "from torch.nn.modules.conv import Conv2d\n",
    "import torch.nn as nn\n",
    "import torch.nn.functional as F\n",
    "\n",
    "class YourCNNModel(nn.Module):\n",
    "    def __init__(self):\n",
    "        super().__init__()\n",
    "        ########################################################################\n",
    "        #     TODO: use nn.xxx method to generate a CNN model part             #\n",
    "        ########################################################################\n",
    "        self.conv1 = nn.Sequential(\n",
    "            nn.Conv2d(3, 32, kernel_size=7, stride=2, padding=3),\n",
    "            nn.BatchNorm2d(32),\n",
    "            nn.SELU()\n",
    "        )\n",
    "\n",
    "        # Inverted Bottleneck Convolution Blocks\n",
    "        self.blocks = nn.Sequential(\n",
    "            # in, out, k, p, s, layer, expansion, use_se = True, ues_residual = True, use_shortcut = True\n",
    "            self.inverted_bottleneck_conv_block(32, 16, 3, 1, 1, 1, 1, True, True, False),  # Block 1\n",
    "            self.inverted_bottleneck_conv_block(16, 24, 3, 1, 2, 1, 6, True, True, False),  # Block 2\n",
    "            self.inverted_bottleneck_conv_block(24, 24, 3, 1, 1, 1, 6, True, True, False),  # Repeated Block 2\n",
    "            self.inverted_bottleneck_conv_block(24, 40, 5, 2, 2, 1, 6, True, True, False),  # Block 3\n",
    "            self.inverted_bottleneck_conv_block(40, 40, 5, 2, 1, 1, 6, True, True, False),  # Repeated Block 3\n",
    "            self.inverted_bottleneck_conv_block(40, 80, 3, 1, 2, 1, 6, True, True, False),  # Block 4\n",
    "            self.inverted_bottleneck_conv_block(80, 80, 3, 1, 1, 1, 6, True, True, False),  # Repeated Block 4 (x2)\n",
    "            self.inverted_bottleneck_conv_block(80, 80, 3, 1, 1, 1, 6, True, True, False),  # Repeated Block 4\n",
    "        )\n",
    "\n",
    "        # Final Convolution\n",
    "        self.conv_last = nn.Sequential(\n",
    "            nn.Conv2d(80, 1280, kernel_size=1, stride=1),\n",
    "            nn.BatchNorm2d(1280),\n",
    "            nn.SELU()\n",
    "        )\n",
    "\n",
    "        # Fully connected layers\n",
    "        self.fc = nn.Sequential(\n",
    "            nn.Linear(1280, 512),\n",
    "            nn.SELU(),\n",
    "            nn.BatchNorm1d(512),\n",
    "        )\n",
    "        self.out = nn.Linear(512, 5)\n",
    "\n",
    "    def inverted_bottleneck_conv_block(self,\n",
    "                     in_channels: int,\n",
    "                     out_channels: int,\n",
    "                     kernel_size: int,\n",
    "                     padding: int,\n",
    "                     stride: int,\n",
    "                     num_layers: int,\n",
    "                     expansion: int = 6,\n",
    "                     use_se: bool = True,\n",
    "                     use_residual: bool = True,\n",
    "                     use_shortcut: bool = True):\n",
    "        \"\"\"\n",
    "        Create an Inverted Bottleneck Convolution (IBConv) block with optional Squeeze-and-Excitation (SE) block and residual connections.\n",
    "\n",
    "        Parameters:\n",
    "            in_channels (int): Number of input channels.\n",
    "            out_channels (int): Number of output channels.\n",
    "            kernel_size (int): Size of the convolutional kernel.\n",
    "            padding (int): Padding for the convolutional layer.\n",
    "            stride (int): Stride for the convolutional layer.\n",
    "            num_layers (int): Number of depth-wise separable layers.\n",
    "            expansion (int, optional): Expansion factor for the hidden dimension. Default is 6.\n",
    "            use_se (bool, optional): Whether to include the SE block. Default is True.\n",
    "            use_residual (bool, optional): Whether to include the residual connection when in_channels == out_channels. Default is True.\n",
    "            use_shortcut (bool, optional): Whether to include the shortcut connection when in_channels != out_channels. Default is False.\n",
    "\n",
    "        Returns:\n",
    "            nn.Module: A PyTorch module containing the layers forming the IBConv block.\n",
    "        \"\"\"\n",
    "        class IBConvWithSE(nn.Module):\n",
    "            def __init__(self):\n",
    "                class Swish(nn.Module):\n",
    "                    def forward(self, x):\n",
    "                        return x * torch.sigmoid(x)\n",
    "\n",
    "                super(IBConvWithSE, self).__init__()\n",
    "\n",
    "                # Initial Convolution\n",
    "                self.initial_conv = nn.Sequential(\n",
    "                    nn.Conv2d(in_channels, in_channels * expansion, kernel_size=1, stride=1, padding=0, bias=False),\n",
    "                    nn.BatchNorm2d(in_channels * expansion),\n",
    "                    nn.SELU()\n",
    "                )\n",
    "\n",
    "                # Short-cut point-wise convolution\n",
    "                if use_shortcut:\n",
    "                    self.shortcut = nn.Sequential(\n",
    "                        nn.Conv2d(in_channels, out_channels, kernel_size=1, stride=stride, padding=0, bias=False),\n",
    "                        nn.BatchNorm2d(out_channels)\n",
    "                    )\n",
    "\n",
    "                # Depth-wise separable convolutions with multiple layers\n",
    "                self.depthwise_layers = nn.ModuleList()\n",
    "                for _ in range(num_layers):\n",
    "                    self.depthwise_layers.append(nn.Sequential(\n",
    "                        nn.Conv2d(in_channels * expansion, in_channels * expansion, kernel_size=kernel_size, stride=stride, padding=padding, groups=in_channels * expansion, bias=False),\n",
    "                        nn.BatchNorm2d(in_channels * expansion),\n",
    "                        nn.SELU()\n",
    "                    ))\n",
    "\n",
    "                # SE block\n",
    "                self.se_block = nn.Sequential(\n",
    "                    nn.AdaptiveAvgPool2d(1),\n",
    "                    nn.Conv2d(in_channels * expansion, in_channels * expansion // 16, kernel_size=1),\n",
    "                    Swish(),\n",
    "                    nn.Conv2d(in_channels * expansion // 16, in_channels * expansion, kernel_size=1),\n",
    "                    nn.Sigmoid()\n",
    "                )\n",
    "\n",
    "                # Point-wise convolution\n",
    "                self.pointwise_conv = nn.Sequential(\n",
    "                    nn.Conv2d(in_channels * expansion, out_channels, kernel_size=1, stride=1, padding=0, bias=False),\n",
    "                    nn.BatchNorm2d(out_channels),\n",
    "                    nn.SELU()\n",
    "                )\n",
    "\n",
    "                # Dropout layer\n",
    "                self.dropout = nn.Dropout(0.2)\n",
    "\n",
    "            def forward(self, x):\n",
    "                # Store x for residual\n",
    "                identity = x\n",
    "\n",
    "                x = self.initial_conv(x)\n",
    "                for layer in self.depthwise_layers:\n",
    "                    x = layer(x)\n",
    "\n",
    "                if use_se:\n",
    "                    se = self.se_block(x)\n",
    "                    x = x * se\n",
    "\n",
    "                x = self.pointwise_conv(x)\n",
    "\n",
    "                # Add residual connection if in_channels == out_channels\n",
    "                if in_channels == out_channels and use_residual:\n",
    "                    x += identity  # Element-wise addition\n",
    "                    x = self.dropout(x)  # Apply dropout\n",
    "\n",
    "                # Add shortcut connection if in_channels != out_channels\n",
    "                if in_channels != out_channels and use_shortcut:\n",
    "                    x += self.shortcut(identity)\n",
    "\n",
    "                return x\n",
    "\n",
    "        return IBConvWithSE()\n",
    "        ########################################################################\n",
    "        #                           End of your code                           #\n",
    "        ########################################################################\n",
    "\n",
    "    def forward(self, x):\n",
    "        if not isinstance(x, torch.Tensor):\n",
    "          x = torch.Tensor(x)\n",
    "        ########################################################################\n",
    "        #     TODO: forward your model and get output                          #\n",
    "        ########################################################################\n",
    "        # Forward pass through convolutional layers\n",
    "        x = self.conv1(x)\n",
    "        x = self.blocks(x)\n",
    "        x = self.conv_last(x)\n",
    "        x = nn.AdaptiveAvgPool2d((1, 1))(x)\n",
    "        x = x.view(x.size(0), -1)\n",
    "        x = self.fc(x)\n",
    "        out = self.out(x)\n",
    "        ########################################################################\n",
    "        #                           End of your code                           #\n",
    "        ########################################################################\n",
    "        return out"
   ],
   "metadata": {
    "collapsed": false,
    "ExecuteTime": {
     "end_time": "2023-10-31T15:33:38.362099500Z",
     "start_time": "2023-10-31T15:33:38.345686300Z"
    }
   }
  },
  {
   "cell_type": "code",
   "execution_count": 10,
   "outputs": [],
   "source": [
    "device = torch.device('cuda')\n",
    "# or\n",
    "# device = torch.device('cpu')"
   ],
   "metadata": {
    "collapsed": false,
    "ExecuteTime": {
     "end_time": "2023-10-31T15:33:38.426812200Z",
     "start_time": "2023-10-31T15:33:38.361100200Z"
    }
   }
  },
  {
   "cell_type": "code",
   "execution_count": 11,
   "metadata": {
    "ExecuteTime": {
     "end_time": "2023-10-31T15:33:38.583447600Z",
     "start_time": "2023-10-31T15:33:38.370824700Z"
    }
   },
   "outputs": [
    {
     "data": {
      "text/plain": "YourCNNModel(\n  (conv1): Sequential(\n    (0): Conv2d(3, 32, kernel_size=(7, 7), stride=(2, 2), padding=(3, 3))\n    (1): BatchNorm2d(32, eps=1e-05, momentum=0.1, affine=True, track_running_stats=True)\n    (2): SELU()\n  )\n  (blocks): Sequential(\n    (0): IBConvWithSE(\n      (initial_conv): Sequential(\n        (0): Conv2d(32, 32, kernel_size=(1, 1), stride=(1, 1), bias=False)\n        (1): BatchNorm2d(32, eps=1e-05, momentum=0.1, affine=True, track_running_stats=True)\n        (2): SELU()\n      )\n      (depthwise_layers): ModuleList(\n        (0): Sequential(\n          (0): Conv2d(32, 32, kernel_size=(3, 3), stride=(1, 1), padding=(1, 1), groups=32, bias=False)\n          (1): BatchNorm2d(32, eps=1e-05, momentum=0.1, affine=True, track_running_stats=True)\n          (2): SELU()\n        )\n      )\n      (se_block): Sequential(\n        (0): AdaptiveAvgPool2d(output_size=1)\n        (1): Conv2d(32, 2, kernel_size=(1, 1), stride=(1, 1))\n        (2): Swish()\n        (3): Conv2d(2, 32, kernel_size=(1, 1), stride=(1, 1))\n        (4): Sigmoid()\n      )\n      (pointwise_conv): Sequential(\n        (0): Conv2d(32, 16, kernel_size=(1, 1), stride=(1, 1), bias=False)\n        (1): BatchNorm2d(16, eps=1e-05, momentum=0.1, affine=True, track_running_stats=True)\n        (2): SELU()\n      )\n      (dropout): Dropout(p=0.2, inplace=False)\n    )\n    (1): IBConvWithSE(\n      (initial_conv): Sequential(\n        (0): Conv2d(16, 96, kernel_size=(1, 1), stride=(1, 1), bias=False)\n        (1): BatchNorm2d(96, eps=1e-05, momentum=0.1, affine=True, track_running_stats=True)\n        (2): SELU()\n      )\n      (depthwise_layers): ModuleList(\n        (0): Sequential(\n          (0): Conv2d(96, 96, kernel_size=(3, 3), stride=(2, 2), padding=(1, 1), groups=96, bias=False)\n          (1): BatchNorm2d(96, eps=1e-05, momentum=0.1, affine=True, track_running_stats=True)\n          (2): SELU()\n        )\n      )\n      (se_block): Sequential(\n        (0): AdaptiveAvgPool2d(output_size=1)\n        (1): Conv2d(96, 6, kernel_size=(1, 1), stride=(1, 1))\n        (2): Swish()\n        (3): Conv2d(6, 96, kernel_size=(1, 1), stride=(1, 1))\n        (4): Sigmoid()\n      )\n      (pointwise_conv): Sequential(\n        (0): Conv2d(96, 24, kernel_size=(1, 1), stride=(1, 1), bias=False)\n        (1): BatchNorm2d(24, eps=1e-05, momentum=0.1, affine=True, track_running_stats=True)\n        (2): SELU()\n      )\n      (dropout): Dropout(p=0.2, inplace=False)\n    )\n    (2): IBConvWithSE(\n      (initial_conv): Sequential(\n        (0): Conv2d(24, 144, kernel_size=(1, 1), stride=(1, 1), bias=False)\n        (1): BatchNorm2d(144, eps=1e-05, momentum=0.1, affine=True, track_running_stats=True)\n        (2): SELU()\n      )\n      (depthwise_layers): ModuleList(\n        (0): Sequential(\n          (0): Conv2d(144, 144, kernel_size=(3, 3), stride=(1, 1), padding=(1, 1), groups=144, bias=False)\n          (1): BatchNorm2d(144, eps=1e-05, momentum=0.1, affine=True, track_running_stats=True)\n          (2): SELU()\n        )\n      )\n      (se_block): Sequential(\n        (0): AdaptiveAvgPool2d(output_size=1)\n        (1): Conv2d(144, 9, kernel_size=(1, 1), stride=(1, 1))\n        (2): Swish()\n        (3): Conv2d(9, 144, kernel_size=(1, 1), stride=(1, 1))\n        (4): Sigmoid()\n      )\n      (pointwise_conv): Sequential(\n        (0): Conv2d(144, 24, kernel_size=(1, 1), stride=(1, 1), bias=False)\n        (1): BatchNorm2d(24, eps=1e-05, momentum=0.1, affine=True, track_running_stats=True)\n        (2): SELU()\n      )\n      (dropout): Dropout(p=0.2, inplace=False)\n    )\n    (3): IBConvWithSE(\n      (initial_conv): Sequential(\n        (0): Conv2d(24, 144, kernel_size=(1, 1), stride=(1, 1), bias=False)\n        (1): BatchNorm2d(144, eps=1e-05, momentum=0.1, affine=True, track_running_stats=True)\n        (2): SELU()\n      )\n      (depthwise_layers): ModuleList(\n        (0): Sequential(\n          (0): Conv2d(144, 144, kernel_size=(5, 5), stride=(2, 2), padding=(2, 2), groups=144, bias=False)\n          (1): BatchNorm2d(144, eps=1e-05, momentum=0.1, affine=True, track_running_stats=True)\n          (2): SELU()\n        )\n      )\n      (se_block): Sequential(\n        (0): AdaptiveAvgPool2d(output_size=1)\n        (1): Conv2d(144, 9, kernel_size=(1, 1), stride=(1, 1))\n        (2): Swish()\n        (3): Conv2d(9, 144, kernel_size=(1, 1), stride=(1, 1))\n        (4): Sigmoid()\n      )\n      (pointwise_conv): Sequential(\n        (0): Conv2d(144, 40, kernel_size=(1, 1), stride=(1, 1), bias=False)\n        (1): BatchNorm2d(40, eps=1e-05, momentum=0.1, affine=True, track_running_stats=True)\n        (2): SELU()\n      )\n      (dropout): Dropout(p=0.2, inplace=False)\n    )\n    (4): IBConvWithSE(\n      (initial_conv): Sequential(\n        (0): Conv2d(40, 240, kernel_size=(1, 1), stride=(1, 1), bias=False)\n        (1): BatchNorm2d(240, eps=1e-05, momentum=0.1, affine=True, track_running_stats=True)\n        (2): SELU()\n      )\n      (depthwise_layers): ModuleList(\n        (0): Sequential(\n          (0): Conv2d(240, 240, kernel_size=(5, 5), stride=(1, 1), padding=(2, 2), groups=240, bias=False)\n          (1): BatchNorm2d(240, eps=1e-05, momentum=0.1, affine=True, track_running_stats=True)\n          (2): SELU()\n        )\n      )\n      (se_block): Sequential(\n        (0): AdaptiveAvgPool2d(output_size=1)\n        (1): Conv2d(240, 15, kernel_size=(1, 1), stride=(1, 1))\n        (2): Swish()\n        (3): Conv2d(15, 240, kernel_size=(1, 1), stride=(1, 1))\n        (4): Sigmoid()\n      )\n      (pointwise_conv): Sequential(\n        (0): Conv2d(240, 40, kernel_size=(1, 1), stride=(1, 1), bias=False)\n        (1): BatchNorm2d(40, eps=1e-05, momentum=0.1, affine=True, track_running_stats=True)\n        (2): SELU()\n      )\n      (dropout): Dropout(p=0.2, inplace=False)\n    )\n    (5): IBConvWithSE(\n      (initial_conv): Sequential(\n        (0): Conv2d(40, 240, kernel_size=(1, 1), stride=(1, 1), bias=False)\n        (1): BatchNorm2d(240, eps=1e-05, momentum=0.1, affine=True, track_running_stats=True)\n        (2): SELU()\n      )\n      (depthwise_layers): ModuleList(\n        (0): Sequential(\n          (0): Conv2d(240, 240, kernel_size=(3, 3), stride=(2, 2), padding=(1, 1), groups=240, bias=False)\n          (1): BatchNorm2d(240, eps=1e-05, momentum=0.1, affine=True, track_running_stats=True)\n          (2): SELU()\n        )\n      )\n      (se_block): Sequential(\n        (0): AdaptiveAvgPool2d(output_size=1)\n        (1): Conv2d(240, 15, kernel_size=(1, 1), stride=(1, 1))\n        (2): Swish()\n        (3): Conv2d(15, 240, kernel_size=(1, 1), stride=(1, 1))\n        (4): Sigmoid()\n      )\n      (pointwise_conv): Sequential(\n        (0): Conv2d(240, 80, kernel_size=(1, 1), stride=(1, 1), bias=False)\n        (1): BatchNorm2d(80, eps=1e-05, momentum=0.1, affine=True, track_running_stats=True)\n        (2): SELU()\n      )\n      (dropout): Dropout(p=0.2, inplace=False)\n    )\n    (6): IBConvWithSE(\n      (initial_conv): Sequential(\n        (0): Conv2d(80, 480, kernel_size=(1, 1), stride=(1, 1), bias=False)\n        (1): BatchNorm2d(480, eps=1e-05, momentum=0.1, affine=True, track_running_stats=True)\n        (2): SELU()\n      )\n      (depthwise_layers): ModuleList(\n        (0): Sequential(\n          (0): Conv2d(480, 480, kernel_size=(3, 3), stride=(1, 1), padding=(1, 1), groups=480, bias=False)\n          (1): BatchNorm2d(480, eps=1e-05, momentum=0.1, affine=True, track_running_stats=True)\n          (2): SELU()\n        )\n      )\n      (se_block): Sequential(\n        (0): AdaptiveAvgPool2d(output_size=1)\n        (1): Conv2d(480, 30, kernel_size=(1, 1), stride=(1, 1))\n        (2): Swish()\n        (3): Conv2d(30, 480, kernel_size=(1, 1), stride=(1, 1))\n        (4): Sigmoid()\n      )\n      (pointwise_conv): Sequential(\n        (0): Conv2d(480, 80, kernel_size=(1, 1), stride=(1, 1), bias=False)\n        (1): BatchNorm2d(80, eps=1e-05, momentum=0.1, affine=True, track_running_stats=True)\n        (2): SELU()\n      )\n      (dropout): Dropout(p=0.2, inplace=False)\n    )\n    (7): IBConvWithSE(\n      (initial_conv): Sequential(\n        (0): Conv2d(80, 480, kernel_size=(1, 1), stride=(1, 1), bias=False)\n        (1): BatchNorm2d(480, eps=1e-05, momentum=0.1, affine=True, track_running_stats=True)\n        (2): SELU()\n      )\n      (depthwise_layers): ModuleList(\n        (0): Sequential(\n          (0): Conv2d(480, 480, kernel_size=(3, 3), stride=(1, 1), padding=(1, 1), groups=480, bias=False)\n          (1): BatchNorm2d(480, eps=1e-05, momentum=0.1, affine=True, track_running_stats=True)\n          (2): SELU()\n        )\n      )\n      (se_block): Sequential(\n        (0): AdaptiveAvgPool2d(output_size=1)\n        (1): Conv2d(480, 30, kernel_size=(1, 1), stride=(1, 1))\n        (2): Swish()\n        (3): Conv2d(30, 480, kernel_size=(1, 1), stride=(1, 1))\n        (4): Sigmoid()\n      )\n      (pointwise_conv): Sequential(\n        (0): Conv2d(480, 80, kernel_size=(1, 1), stride=(1, 1), bias=False)\n        (1): BatchNorm2d(80, eps=1e-05, momentum=0.1, affine=True, track_running_stats=True)\n        (2): SELU()\n      )\n      (dropout): Dropout(p=0.2, inplace=False)\n    )\n  )\n  (conv_last): Sequential(\n    (0): Conv2d(80, 1280, kernel_size=(1, 1), stride=(1, 1))\n    (1): BatchNorm2d(1280, eps=1e-05, momentum=0.1, affine=True, track_running_stats=True)\n    (2): SELU()\n  )\n  (fc): Sequential(\n    (0): Linear(in_features=1280, out_features=512, bias=True)\n    (1): SELU()\n    (2): BatchNorm1d(512, eps=1e-05, momentum=0.1, affine=True, track_running_stats=True)\n  )\n  (out): Linear(in_features=512, out_features=5, bias=True)\n)"
     },
     "execution_count": 11,
     "metadata": {},
     "output_type": "execute_result"
    }
   ],
   "source": [
    "model = YourCNNModel()\n",
    "model.to(device)\n",
    "#print(model)"
   ]
  },
  {
   "cell_type": "markdown",
   "metadata": {},
   "source": [
    "We have made our model!  \n",
    "Next, PyTorch also provide many utility function(loss, optmizer...etc).  \n",
    "You can define them in one-line."
   ]
  },
  {
   "cell_type": "markdown",
   "metadata": {},
   "source": [
    "### Define loss and optimizer"
   ]
  },
  {
   "cell_type": "code",
   "execution_count": 12,
   "metadata": {
    "ExecuteTime": {
     "end_time": "2023-10-31T15:33:38.587891100Z",
     "start_time": "2023-10-31T15:33:38.585438300Z"
    }
   },
   "outputs": [],
   "source": [
    "import torch.nn as nn\n",
    "import torch.optim as optim\n",
    "################################################################################\n",
    "# TODO: Define loss and optmizer functions                                     #\n",
    "# Try any loss or optimizer function and learning rate to get better result    #\n",
    "# hint: torch.nn and torch.optim                                               #\n",
    "################################################################################\n",
    "# CrossEntropyLoss for classification tasks\n",
    "criterion = nn.CrossEntropyLoss()\n",
    "\n",
    "# Adam optimizer\n",
    "learning_rate = 0.003\n",
    "optimizer = optim.Adam(model.parameters(), lr=learning_rate, weight_decay=1e-5)\n",
    "\n",
    "# Reduce learning rate\n",
    "scheduler = optim.lr_scheduler.ReduceLROnPlateau(optimizer, 'min', patience=20, factor=0.5)\n",
    "################################################################################\n",
    "#                               End of your code                               #\n",
    "################################################################################\n",
    "criterion = criterion.to(device)"
   ]
  },
  {
   "cell_type": "markdown",
   "metadata": {},
   "source": [
    "### Train the model"
   ]
  },
  {
   "cell_type": "markdown",
   "metadata": {},
   "source": [
    "#### Train function\n",
    "Let's define train function.  \n",
    "It will iterate input data 1 epoch and update model with optmizer.  \n",
    "Finally, calculate mean loss and total accuracy.\n",
    "\n",
    "Hint: [torch.max()](https://pytorch.org/docs/stable/generated/torch.max.html#torch-max) or [torch.argmax()](https://pytorch.org/docs/stable/generated/torch.argmax.html)"
   ]
  },
  {
   "cell_type": "code",
   "execution_count": 13,
   "metadata": {
    "ExecuteTime": {
     "end_time": "2023-10-31T15:33:38.598436300Z",
     "start_time": "2023-10-31T15:33:38.590883500Z"
    }
   },
   "outputs": [],
   "source": [
    "def train(input_data, model, criterion, optimizer):\n",
    "    '''\n",
    "    Argement:\n",
    "    input_data -- iterable data, typr torch.utils.data.Dataloader is prefer\n",
    "    model -- nn.Module, model contain forward to predict output\n",
    "    criterion -- loss function, used to evaluate goodness of model\n",
    "    optimizer -- optmizer function, method for weight updating\n",
    "    '''\n",
    "    model.train()\n",
    "    loss_list = []\n",
    "    total_count = 0\n",
    "    acc_count = 0\n",
    "    for images, labels in input_data:\n",
    "        images = images.to(device)\n",
    "        labels = labels.to(device)\n",
    "\n",
    "        ########################################################################\n",
    "        # TODO: Forward, backward and optimize                                 #\n",
    "        # 1. zero the parameter gradients                                      #\n",
    "        # 2. process input through the network                                 #\n",
    "        # 3. compute the loss                                                  #\n",
    "        # 4. propagate gradients back into the network’s parameters            #\n",
    "        # 5. Update the weights of the network                                 #\n",
    "        ########################################################################\n",
    "        # Zero the parameter gradients\n",
    "        optimizer.zero_grad()\n",
    "\n",
    "        # Forward, backward, and optimize\n",
    "        outputs = model(images)\n",
    "        loss = criterion(outputs, labels)\n",
    "        loss.backward()\n",
    "        optimizer.step()\n",
    "        ########################################################################\n",
    "        #                           End of your code                           #\n",
    "        ########################################################################\n",
    "\n",
    "\n",
    "        ########################################################################\n",
    "        # TODO: Get the counts of correctly classified images                  #\n",
    "        # 1. get the model predicted result                                    #\n",
    "        # 2. sum the nuIber of this batch predicted images                     #\n",
    "        # 3. sum the nuIber of correctly classified                            #\n",
    "        # 4. save this batch's loss into loss_list                             #\n",
    "        # dimension of outputs: [batch_size, nuIber of classes]                #\n",
    "        # Hint 1: use outputs.data to get no auto_grad                         #\n",
    "        # Hint 2: use torch.max()                                              #\n",
    "        ########################################################################\n",
    "        # Get the counts of correctly classified images\n",
    "        _, predicted = torch.max(outputs.data, 1)\n",
    "        total_count += labels.size(0)\n",
    "        acc_count += (predicted == labels).sum().item()\n",
    "        loss_list.append(loss.item())\n",
    "        ########################################################################\n",
    "        #                           End of your code                           #\n",
    "        ########################################################################\n",
    "\n",
    "    # Compute this epoch accuracy and loss\n",
    "    acc = acc_count / total_count\n",
    "    loss = sum(loss_list) / len(loss_list)\n",
    "    return acc, loss"
   ]
  },
  {
   "cell_type": "markdown",
   "metadata": {},
   "source": [
    "#### Validate function\n",
    "Next part is validate function.  \n",
    "It works as training function without optmizer and weight-updating part."
   ]
  },
  {
   "cell_type": "code",
   "execution_count": 14,
   "metadata": {
    "ExecuteTime": {
     "end_time": "2023-10-31T15:33:38.605940300Z",
     "start_time": "2023-10-31T15:33:38.600445300Z"
    }
   },
   "outputs": [],
   "source": [
    "def val(input_data, model, criterion):\n",
    "    model.eval()\n",
    "\n",
    "    loss_list = []\n",
    "    total_count = 0\n",
    "    acc_count = 0\n",
    "    with torch.no_grad():\n",
    "        for images, labels in input_data:\n",
    "            images = images.to(device)\n",
    "            labels = labels.to(device)\n",
    "\n",
    "            ####################################################################\n",
    "            # TODO: Get the predicted result and loss                          #\n",
    "            # 1. process input through the network                             #\n",
    "            # 2. compute the loss                                              #\n",
    "            # 3. get the model predicted result                                #\n",
    "            # 4. get the counts of correctly classified images                 #\n",
    "            # 5. save this batch's loss into loss_list                         #\n",
    "            ####################################################################\n",
    "            # Get the predicted result and loss\n",
    "            outputs = model(images)\n",
    "            loss = criterion(outputs, labels)\n",
    "\n",
    "            # Get the counts of correctly classified images\n",
    "            _, predicted = torch.max(outputs.data, 1)\n",
    "            total_count += labels.size(0)\n",
    "            acc_count += (predicted == labels).sum().item()\n",
    "            loss_list.append(loss.item())\n",
    "            ####################################################################\n",
    "            #                         End of your code                         #\n",
    "            ####################################################################\n",
    "\n",
    "    acc = acc_count / total_count\n",
    "    loss = sum(loss_list) / len(loss_list)\n",
    "    return acc, loss"
   ]
  },
  {
   "cell_type": "markdown",
   "metadata": {},
   "source": [
    "#### Training in a loop\n",
    "Call train and test function in a loop.  \n",
    "Take a break and wait."
   ]
  },
  {
   "cell_type": "code",
   "execution_count": 49,
   "metadata": {
    "ExecuteTime": {
     "end_time": "2023-10-30T03:32:03.012591800Z",
     "start_time": "2023-10-30T03:01:05.537700200Z"
    }
   },
   "outputs": [
    {
     "name": "stdout",
     "output_type": "stream",
     "text": [
      "==================== Epoch 1 ====================\n",
      "Train Acc: 0.276394 Train Loss: 1.910581\n",
      "  Val Acc: 0.331770   Val Loss: 1.539451\n",
      "==================== Epoch 2 ====================\n",
      "Train Acc: 0.346382 Train Loss: 1.464646\n",
      "  Val Acc: 0.393904   Val Loss: 1.403066\n",
      "==================== Epoch 3 ====================\n",
      "Train Acc: 0.367734 Train Loss: 1.420224\n",
      "  Val Acc: 0.393904   Val Loss: 1.609658\n",
      "==================== Epoch 4 ====================\n",
      "Train Acc: 0.397390 Train Loss: 1.428328\n",
      "  Val Acc: 0.412661   Val Loss: 1.427616\n",
      "==================== Epoch 5 ====================\n",
      "Train Acc: 0.431791 Train Loss: 1.360206\n",
      "  Val Acc: 0.500586   Val Loss: 1.270301\n",
      "==================== Epoch 6 ====================\n",
      "Train Acc: 0.465006 Train Loss: 1.340503\n",
      "  Val Acc: 0.485346   Val Loss: 1.396159\n",
      "==================== Epoch 7 ====================\n",
      "Train Acc: 0.475682 Train Loss: 1.280346\n",
      "  Val Acc: 0.465416   Val Loss: 1.615390\n",
      "==================== Epoch 8 ====================\n",
      "Train Acc: 0.468565 Train Loss: 1.321177\n",
      "  Val Acc: 0.416178   Val Loss: 1.582685\n",
      "==================== Epoch 9 ====================\n",
      "Train Acc: 0.481613 Train Loss: 1.244724\n",
      "  Val Acc: 0.554513   Val Loss: 1.132435\n",
      "==================== Epoch 10 ====================\n",
      "Train Acc: 0.488731 Train Loss: 1.230376\n",
      "  Val Acc: 0.507620   Val Loss: 1.226741\n",
      "==================== Epoch 11 ====================\n",
      "Train Acc: 0.510083 Train Loss: 1.194689\n",
      "  Val Acc: 0.546307   Val Loss: 1.190182\n",
      "==================== Epoch 12 ====================\n",
      "Train Acc: 0.534994 Train Loss: 1.197620\n",
      "  Val Acc: 0.536928   Val Loss: 1.385887\n",
      "==================== Epoch 13 ====================\n",
      "Train Acc: 0.499407 Train Loss: 1.210813\n",
      "  Val Acc: 0.403283   Val Loss: 1.795352\n",
      "==================== Epoch 14 ====================\n",
      "Train Acc: 0.508897 Train Loss: 1.216927\n",
      "  Val Acc: 0.516999   Val Loss: 1.199372\n",
      "==================== Epoch 15 ====================\n",
      "Train Acc: 0.536180 Train Loss: 1.150821\n",
      "  Val Acc: 0.472450   Val Loss: 1.362287\n",
      "==================== Epoch 16 ====================\n",
      "Train Acc: 0.518387 Train Loss: 1.145805\n",
      "  Val Acc: 0.603751   Val Loss: 1.030132\n",
      "==================== Epoch 17 ====================\n",
      "Train Acc: 0.532622 Train Loss: 1.169812\n",
      "  Val Acc: 0.599062   Val Loss: 1.039329\n",
      "==================== Epoch 18 ====================\n",
      "Train Acc: 0.553974 Train Loss: 1.069695\n",
      "  Val Acc: 0.538101   Val Loss: 1.374445\n",
      "==================== Epoch 19 ====================\n",
      "Train Acc: 0.565836 Train Loss: 1.107020\n",
      "  Val Acc: 0.586166   Val Loss: 1.034440\n",
      "==================== Epoch 20 ====================\n",
      "Train Acc: 0.567023 Train Loss: 1.119794\n",
      "  Val Acc: 0.584994   Val Loss: 1.062345\n",
      "==================== Epoch 21 ====================\n",
      "Train Acc: 0.549229 Train Loss: 1.112979\n",
      "  Val Acc: 0.607268   Val Loss: 1.004458\n",
      "==================== Epoch 22 ====================\n",
      "Train Acc: 0.538553 Train Loss: 1.151307\n",
      "  Val Acc: 0.478312   Val Loss: 1.395885\n",
      "==================== Epoch 23 ====================\n",
      "Train Acc: 0.562278 Train Loss: 1.133084\n",
      "  Val Acc: 0.588511   Val Loss: 1.199141\n",
      "==================== Epoch 24 ====================\n",
      "Train Acc: 0.577699 Train Loss: 1.085209\n",
      "  Val Acc: 0.600234   Val Loss: 1.037538\n",
      "==================== Epoch 25 ====================\n",
      "Train Acc: 0.596679 Train Loss: 1.036913\n",
      "  Val Acc: 0.617819   Val Loss: 1.007821\n",
      "==================== Epoch 26 ====================\n",
      "Train Acc: 0.577699 Train Loss: 1.052509\n",
      "  Val Acc: 0.629543   Val Loss: 0.946358\n",
      "==================== Epoch 27 ====================\n",
      "Train Acc: 0.588375 Train Loss: 1.054609\n",
      "  Val Acc: 0.582649   Val Loss: 1.063280\n",
      "==================== Epoch 28 ====================\n",
      "Train Acc: 0.613286 Train Loss: 1.008512\n",
      "  Val Acc: 0.626026   Val Loss: 1.078880\n",
      "==================== Epoch 29 ====================\n",
      "Train Acc: 0.596679 Train Loss: 1.039783\n",
      "  Val Acc: 0.622509   Val Loss: 0.971514\n",
      "==================== Epoch 30 ====================\n",
      "Train Acc: 0.607355 Train Loss: 0.987851\n",
      "  Val Acc: 0.633060   Val Loss: 0.944388\n",
      "==================== Epoch 31 ====================\n",
      "Train Acc: 0.608541 Train Loss: 1.038378\n",
      "  Val Acc: 0.665885   Val Loss: 0.879098\n",
      "==================== Epoch 32 ====================\n",
      "Train Acc: 0.602610 Train Loss: 0.979016\n",
      "  Val Acc: 0.586166   Val Loss: 1.056182\n",
      "==================== Epoch 33 ====================\n",
      "Train Acc: 0.596679 Train Loss: 1.013018\n",
      "  Val Acc: 0.579132   Val Loss: 1.137667\n",
      "==================== Epoch 34 ====================\n",
      "Train Acc: 0.603796 Train Loss: 1.003045\n",
      "  Val Acc: 0.633060   Val Loss: 0.981335\n",
      "==================== Epoch 35 ====================\n",
      "Train Acc: 0.616845 Train Loss: 0.979894\n",
      "  Val Acc: 0.658851   Val Loss: 0.913107\n",
      "==================== Epoch 36 ====================\n",
      "Train Acc: 0.607355 Train Loss: 1.020494\n",
      "  Val Acc: 0.588511   Val Loss: 1.055557\n",
      "==================== Epoch 37 ====================\n",
      "Train Acc: 0.606168 Train Loss: 0.982405\n",
      "  Val Acc: 0.651817   Val Loss: 0.877811\n",
      "==================== Epoch 38 ====================\n",
      "Train Acc: 0.610913 Train Loss: 0.997616\n",
      "  Val Acc: 0.648300   Val Loss: 0.892995\n",
      "==================== Epoch 39 ====================\n",
      "Train Acc: 0.609727 Train Loss: 0.999779\n",
      "  Val Acc: 0.607268   Val Loss: 1.004021\n",
      "==================== Epoch 40 ====================\n",
      "Train Acc: 0.606168 Train Loss: 0.974228\n",
      "  Val Acc: 0.602579   Val Loss: 1.025127\n",
      "==================== Epoch 41 ====================\n",
      "Train Acc: 0.631079 Train Loss: 0.928478\n",
      "  Val Acc: 0.638921   Val Loss: 1.034414\n",
      "==================== Epoch 42 ====================\n",
      "Train Acc: 0.609727 Train Loss: 0.943173\n",
      "  Val Acc: 0.636577   Val Loss: 0.946279\n",
      "==================== Epoch 43 ====================\n",
      "Train Acc: 0.626335 Train Loss: 0.994400\n",
      "  Val Acc: 0.661196   Val Loss: 0.890546\n",
      "==================== Epoch 44 ====================\n",
      "Train Acc: 0.654804 Train Loss: 0.901065\n",
      "  Val Acc: 0.683470   Val Loss: 0.850919\n",
      "==================== Epoch 45 ====================\n",
      "Train Acc: 0.654804 Train Loss: 0.900482\n",
      "  Val Acc: 0.677608   Val Loss: 0.842569\n",
      "==================== Epoch 46 ====================\n",
      "Train Acc: 0.641756 Train Loss: 0.901455\n",
      "  Val Acc: 0.699883   Val Loss: 0.837028\n",
      "==================== Epoch 47 ====================\n",
      "Train Acc: 0.660735 Train Loss: 0.899106\n",
      "  Val Acc: 0.695193   Val Loss: 0.833727\n",
      "==================== Epoch 48 ====================\n",
      "Train Acc: 0.648873 Train Loss: 0.904518\n",
      "  Val Acc: 0.663540   Val Loss: 0.925953\n",
      "==================== Epoch 49 ====================\n",
      "Train Acc: 0.644128 Train Loss: 0.895125\n",
      "  Val Acc: 0.711606   Val Loss: 0.811863\n",
      "==================== Epoch 50 ====================\n",
      "Train Acc: 0.664294 Train Loss: 0.906200\n",
      "  Val Acc: 0.691676   Val Loss: 0.853400\n",
      "==================== Epoch 51 ====================\n",
      "Train Acc: 0.657177 Train Loss: 0.884841\n",
      "  Val Acc: 0.636577   Val Loss: 0.916896\n",
      "==================== Epoch 52 ====================\n",
      "Train Acc: 0.648873 Train Loss: 0.908098\n",
      "  Val Acc: 0.719812   Val Loss: 0.757115\n",
      "==================== Epoch 53 ====================\n",
      "Train Acc: 0.648873 Train Loss: 0.868068\n",
      "  Val Acc: 0.697538   Val Loss: 0.838996\n",
      "==================== Epoch 54 ====================\n",
      "Train Acc: 0.672598 Train Loss: 0.849340\n",
      "  Val Acc: 0.642438   Val Loss: 0.933872\n",
      "==================== Epoch 55 ====================\n",
      "Train Acc: 0.657177 Train Loss: 0.885452\n",
      "  Val Acc: 0.681125   Val Loss: 0.848239\n",
      "==================== Epoch 56 ====================\n",
      "Train Acc: 0.670225 Train Loss: 0.886774\n",
      "  Val Acc: 0.695193   Val Loss: 0.823784\n",
      "==================== Epoch 57 ====================\n",
      "Train Acc: 0.669039 Train Loss: 0.835609\n",
      "  Val Acc: 0.719812   Val Loss: 0.759440\n",
      "==================== Epoch 58 ====================\n",
      "Train Acc: 0.709371 Train Loss: 0.821328\n",
      "  Val Acc: 0.710434   Val Loss: 0.800623\n",
      "==================== Epoch 59 ====================\n",
      "Train Acc: 0.671412 Train Loss: 0.830547\n",
      "  Val Acc: 0.731536   Val Loss: 0.758676\n",
      "==================== Epoch 60 ====================\n",
      "Train Acc: 0.679715 Train Loss: 0.800703\n",
      "  Val Acc: 0.697538   Val Loss: 0.862786\n",
      "==================== Epoch 61 ====================\n",
      "Train Acc: 0.699881 Train Loss: 0.817624\n",
      "  Val Acc: 0.740914   Val Loss: 0.709607\n",
      "==================== Epoch 62 ====================\n",
      "Train Acc: 0.689205 Train Loss: 0.826560\n",
      "  Val Acc: 0.695193   Val Loss: 0.808899\n",
      "==================== Epoch 63 ====================\n",
      "Train Acc: 0.692764 Train Loss: 0.815431\n",
      "  Val Acc: 0.726846   Val Loss: 0.761289\n",
      "==================== Epoch 64 ====================\n",
      "Train Acc: 0.680902 Train Loss: 0.827531\n",
      "  Val Acc: 0.737397   Val Loss: 0.727474\n",
      "==================== Epoch 65 ====================\n",
      "Train Acc: 0.702254 Train Loss: 0.794146\n",
      "  Val Acc: 0.743259   Val Loss: 0.742328\n",
      "==================== Epoch 66 ====================\n",
      "Train Acc: 0.708185 Train Loss: 0.789415\n",
      "  Val Acc: 0.742087   Val Loss: 0.696111\n",
      "==================== Epoch 67 ====================\n",
      "Train Acc: 0.708185 Train Loss: 0.775211\n",
      "  Val Acc: 0.715123   Val Loss: 0.798415\n",
      "==================== Epoch 68 ====================\n",
      "Train Acc: 0.718861 Train Loss: 0.771371\n",
      "  Val Acc: 0.746776   Val Loss: 0.716877\n",
      "==================== Epoch 69 ====================\n",
      "Train Acc: 0.692764 Train Loss: 0.784239\n",
      "  Val Acc: 0.740914   Val Loss: 0.760468\n",
      "==================== Epoch 70 ====================\n",
      "Train Acc: 0.686833 Train Loss: 0.803020\n",
      "  Val Acc: 0.732708   Val Loss: 0.737742\n",
      "==================== Epoch 71 ====================\n",
      "Train Acc: 0.690391 Train Loss: 0.835394\n",
      "  Val Acc: 0.730363   Val Loss: 0.726901\n",
      "==================== Epoch 72 ====================\n",
      "Train Acc: 0.717675 Train Loss: 0.770858\n",
      "  Val Acc: 0.751465   Val Loss: 0.694454\n",
      "==================== Epoch 73 ====================\n",
      "Train Acc: 0.706999 Train Loss: 0.757441\n",
      "  Val Acc: 0.712778   Val Loss: 0.815309\n",
      "==================== Epoch 74 ====================\n",
      "Train Acc: 0.712930 Train Loss: 0.758087\n",
      "  Val Acc: 0.696366   Val Loss: 0.820998\n",
      "==================== Epoch 75 ====================\n",
      "Train Acc: 0.716489 Train Loss: 0.753975\n",
      "  Val Acc: 0.733880   Val Loss: 0.765118\n",
      "==================== Epoch 76 ====================\n",
      "Train Acc: 0.722420 Train Loss: 0.733933\n",
      "  Val Acc: 0.776084   Val Loss: 0.667099\n",
      "==================== Epoch 77 ====================\n",
      "Train Acc: 0.714116 Train Loss: 0.759350\n",
      "  Val Acc: 0.754982   Val Loss: 0.696999\n",
      "==================== Epoch 78 ====================\n",
      "Train Acc: 0.731910 Train Loss: 0.703129\n",
      "  Val Acc: 0.736225   Val Loss: 0.709201\n",
      "==================== Epoch 79 ====================\n",
      "Train Acc: 0.721234 Train Loss: 0.715208\n",
      "  Val Acc: 0.770223   Val Loss: 0.650836\n",
      "==================== Epoch 80 ====================\n",
      "Train Acc: 0.735469 Train Loss: 0.720304\n",
      "  Val Acc: 0.737397   Val Loss: 0.779699\n",
      "==================== Epoch 81 ====================\n",
      "Train Acc: 0.693950 Train Loss: 0.765543\n",
      "  Val Acc: 0.765533   Val Loss: 0.651100\n",
      "==================== Epoch 82 ====================\n",
      "Train Acc: 0.743772 Train Loss: 0.678364\n",
      "  Val Acc: 0.733880   Val Loss: 0.766912\n",
      "==================== Epoch 83 ====================\n",
      "Train Acc: 0.733096 Train Loss: 0.706693\n",
      "  Val Acc: 0.709261   Val Loss: 0.826781\n",
      "==================== Epoch 84 ====================\n",
      "Train Acc: 0.697509 Train Loss: 0.791056\n",
      "  Val Acc: 0.746776   Val Loss: 0.712940\n",
      "==================== Epoch 85 ====================\n",
      "Train Acc: 0.730724 Train Loss: 0.733562\n",
      "  Val Acc: 0.735053   Val Loss: 0.745354\n",
      "==================== Epoch 86 ====================\n",
      "Train Acc: 0.763938 Train Loss: 0.642057\n",
      "  Val Acc: 0.763189   Val Loss: 0.698083\n",
      "==================== Epoch 87 ====================\n",
      "Train Acc: 0.718861 Train Loss: 0.733873\n",
      "  Val Acc: 0.739742   Val Loss: 0.731423\n",
      "==================== Epoch 88 ====================\n",
      "Train Acc: 0.709371 Train Loss: 0.743554\n",
      "  Val Acc: 0.674091   Val Loss: 0.850176\n",
      "==================== Epoch 89 ====================\n",
      "Train Acc: 0.734282 Train Loss: 0.712091\n",
      "  Val Acc: 0.760844   Val Loss: 0.671147\n",
      "==================== Epoch 90 ====================\n",
      "Train Acc: 0.723606 Train Loss: 0.772519\n",
      "  Val Acc: 0.729191   Val Loss: 0.752925\n",
      "==================== Epoch 91 ====================\n",
      "Train Acc: 0.735469 Train Loss: 0.691085\n",
      "  Val Acc: 0.762016   Val Loss: 0.695672\n",
      "==================== Epoch 92 ====================\n",
      "Train Acc: 0.768683 Train Loss: 0.692541\n",
      "  Val Acc: 0.728019   Val Loss: 0.800663\n",
      "==================== Epoch 93 ====================\n",
      "Train Acc: 0.748517 Train Loss: 0.696543\n",
      "  Val Acc: 0.785463   Val Loss: 0.621786\n",
      "==================== Epoch 94 ====================\n",
      "Train Acc: 0.740214 Train Loss: 0.681076\n",
      "  Val Acc: 0.762016   Val Loss: 0.700414\n",
      "==================== Epoch 95 ====================\n",
      "Train Acc: 0.768683 Train Loss: 0.648561\n",
      "  Val Acc: 0.760844   Val Loss: 0.680441\n",
      "==================== Epoch 96 ====================\n",
      "Train Acc: 0.768683 Train Loss: 0.662228\n",
      "  Val Acc: 0.710434   Val Loss: 0.800326\n",
      "==================== Epoch 97 ====================\n",
      "Train Acc: 0.759193 Train Loss: 0.647035\n",
      "  Val Acc: 0.765533   Val Loss: 0.644170\n",
      "==================== Epoch 98 ====================\n",
      "Train Acc: 0.749703 Train Loss: 0.670270\n",
      "  Val Acc: 0.763189   Val Loss: 0.653396\n",
      "==================== Epoch 99 ====================\n",
      "Train Acc: 0.746145 Train Loss: 0.690831\n",
      "  Val Acc: 0.784291   Val Loss: 0.636802\n",
      "==================== Epoch 100 ====================\n",
      "Train Acc: 0.752076 Train Loss: 0.643246\n",
      "  Val Acc: 0.781946   Val Loss: 0.649868\n",
      "==================== Epoch 101 ====================\n",
      "Train Acc: 0.769870 Train Loss: 0.600011\n",
      "  Val Acc: 0.785463   Val Loss: 0.624406\n",
      "==================== Epoch 102 ====================\n",
      "Train Acc: 0.756821 Train Loss: 0.656456\n",
      "  Val Acc: 0.751465   Val Loss: 0.723110\n",
      "==================== Epoch 103 ====================\n",
      "Train Acc: 0.772242 Train Loss: 0.639591\n",
      "  Val Acc: 0.750293   Val Loss: 0.679300\n",
      "==================== Epoch 104 ====================\n",
      "Train Acc: 0.747331 Train Loss: 0.648026\n",
      "  Val Acc: 0.763189   Val Loss: 0.655357\n",
      "==================== Epoch 105 ====================\n",
      "Train Acc: 0.749703 Train Loss: 0.659387\n",
      "  Val Acc: 0.759672   Val Loss: 0.676896\n",
      "==================== Epoch 106 ====================\n",
      "Train Acc: 0.765125 Train Loss: 0.650445\n",
      "  Val Acc: 0.776084   Val Loss: 0.631395\n",
      "==================== Epoch 107 ====================\n",
      "Train Acc: 0.767497 Train Loss: 0.668298\n",
      "  Val Acc: 0.769050   Val Loss: 0.659626\n",
      "==================== Epoch 108 ====================\n",
      "Train Acc: 0.762752 Train Loss: 0.660770\n",
      "  Val Acc: 0.731536   Val Loss: 0.759730\n",
      "==================== Epoch 109 ====================\n",
      "Train Acc: 0.753262 Train Loss: 0.656000\n",
      "  Val Acc: 0.750293   Val Loss: 0.717425\n",
      "==================== Epoch 110 ====================\n",
      "Train Acc: 0.750890 Train Loss: 0.658408\n",
      "  Val Acc: 0.780774   Val Loss: 0.612792\n",
      "==================== Epoch 111 ====================\n",
      "Train Acc: 0.771056 Train Loss: 0.598306\n",
      "  Val Acc: 0.786635   Val Loss: 0.607458\n",
      "==================== Epoch 112 ====================\n",
      "Train Acc: 0.767497 Train Loss: 0.588165\n",
      "  Val Acc: 0.787808   Val Loss: 0.683459\n",
      "==================== Epoch 113 ====================\n",
      "Train Acc: 0.762752 Train Loss: 0.641327\n",
      "  Val Acc: 0.760844   Val Loss: 0.668376\n",
      "==================== Epoch 114 ====================\n",
      "Train Acc: 0.769870 Train Loss: 0.637738\n",
      "  Val Acc: 0.785463   Val Loss: 0.640299\n",
      "==================== Epoch 115 ====================\n",
      "Train Acc: 0.784104 Train Loss: 0.591562\n",
      "  Val Acc: 0.777257   Val Loss: 0.696848\n",
      "==================== Epoch 116 ====================\n",
      "Train Acc: 0.739027 Train Loss: 0.725172\n",
      "  Val Acc: 0.770223   Val Loss: 0.612939\n",
      "==================== Epoch 117 ====================\n",
      "Train Acc: 0.742586 Train Loss: 0.672326\n",
      "  Val Acc: 0.776084   Val Loss: 0.606389\n",
      "==================== Epoch 118 ====================\n",
      "Train Acc: 0.775801 Train Loss: 0.580062\n",
      "  Val Acc: 0.776084   Val Loss: 0.666462\n",
      "==================== Epoch 119 ====================\n",
      "Train Acc: 0.780546 Train Loss: 0.569650\n",
      "  Val Acc: 0.791325   Val Loss: 0.649939\n",
      "==================== Epoch 120 ====================\n",
      "Train Acc: 0.767497 Train Loss: 0.619311\n",
      "  Val Acc: 0.787808   Val Loss: 0.634833\n",
      "==================== Epoch 121 ====================\n",
      "Train Acc: 0.787663 Train Loss: 0.575420\n",
      "  Val Acc: 0.776084   Val Loss: 0.655822\n",
      "==================== Epoch 122 ====================\n",
      "Train Acc: 0.762752 Train Loss: 0.579034\n",
      "  Val Acc: 0.773740   Val Loss: 0.685452\n",
      "==================== Epoch 123 ====================\n",
      "Train Acc: 0.792408 Train Loss: 0.556857\n",
      "  Val Acc: 0.763189   Val Loss: 0.715836\n",
      "==================== Epoch 124 ====================\n",
      "Train Acc: 0.784104 Train Loss: 0.562477\n",
      "  Val Acc: 0.757327   Val Loss: 0.727525\n",
      "==================== Epoch 125 ====================\n",
      "Train Acc: 0.782918 Train Loss: 0.561901\n",
      "  Val Acc: 0.762016   Val Loss: 0.699679\n",
      "==================== Epoch 126 ====================\n",
      "Train Acc: 0.801898 Train Loss: 0.559839\n",
      "  Val Acc: 0.739742   Val Loss: 0.764892\n",
      "==================== Epoch 127 ====================\n",
      "Train Acc: 0.782918 Train Loss: 0.603940\n",
      "  Val Acc: 0.773740   Val Loss: 0.718954\n",
      "==================== Epoch 128 ====================\n",
      "Train Acc: 0.792408 Train Loss: 0.550989\n",
      "  Val Acc: 0.788980   Val Loss: 0.644452\n",
      "==================== Epoch 129 ====================\n",
      "Train Acc: 0.807829 Train Loss: 0.568986\n",
      "  Val Acc: 0.738570   Val Loss: 0.737738\n",
      "==================== Epoch 130 ====================\n",
      "Train Acc: 0.782918 Train Loss: 0.581423\n",
      "  Val Acc: 0.771395   Val Loss: 0.647978\n",
      "==================== Epoch 131 ====================\n",
      "Train Acc: 0.788849 Train Loss: 0.577154\n",
      "  Val Acc: 0.804220   Val Loss: 0.615877\n",
      "==================== Epoch 132 ====================\n",
      "Train Acc: 0.747331 Train Loss: 0.654902\n",
      "  Val Acc: 0.783118   Val Loss: 0.638641\n",
      "==================== Epoch 133 ====================\n",
      "Train Acc: 0.797153 Train Loss: 0.528208\n",
      "  Val Acc: 0.772567   Val Loss: 0.662637\n",
      "==================== Epoch 134 ====================\n",
      "Train Acc: 0.809015 Train Loss: 0.511532\n",
      "  Val Acc: 0.783118   Val Loss: 0.655364\n",
      "==================== Epoch 135 ====================\n",
      "Train Acc: 0.774614 Train Loss: 0.614689\n",
      "  Val Acc: 0.777257   Val Loss: 0.620193\n",
      "==================== Epoch 136 ====================\n",
      "Train Acc: 0.773428 Train Loss: 0.617137\n",
      "  Val Acc: 0.778429   Val Loss: 0.653096\n",
      "==================== Epoch 137 ====================\n",
      "Train Acc: 0.804270 Train Loss: 0.530639\n",
      "  Val Acc: 0.780774   Val Loss: 0.665949\n",
      "==================== Epoch 138 ====================\n",
      "Train Acc: 0.790036 Train Loss: 0.589415\n",
      "  Val Acc: 0.763189   Val Loss: 0.670205\n",
      "==================== Epoch 139 ====================\n",
      "Train Acc: 0.818505 Train Loss: 0.483881\n",
      "  Val Acc: 0.813599   Val Loss: 0.568108\n",
      "==================== Epoch 140 ====================\n",
      "Train Acc: 0.799526 Train Loss: 0.517277\n",
      "  Val Acc: 0.801876   Val Loss: 0.598285\n",
      "==================== Epoch 141 ====================\n",
      "Train Acc: 0.819692 Train Loss: 0.501652\n",
      "  Val Acc: 0.803048   Val Loss: 0.567909\n",
      "==================== Epoch 142 ====================\n",
      "Train Acc: 0.822064 Train Loss: 0.457485\n",
      "  Val Acc: 0.792497   Val Loss: 0.627103\n",
      "==================== Epoch 143 ====================\n",
      "Train Acc: 0.814947 Train Loss: 0.450954\n",
      "  Val Acc: 0.791325   Val Loss: 0.637677\n",
      "==================== Epoch 144 ====================\n",
      "Train Acc: 0.816133 Train Loss: 0.487745\n",
      "  Val Acc: 0.794842   Val Loss: 0.639062\n",
      "==================== Epoch 145 ====================\n",
      "Train Acc: 0.825623 Train Loss: 0.470269\n",
      "  Val Acc: 0.793669   Val Loss: 0.622711\n",
      "==================== Epoch 146 ====================\n",
      "Train Acc: 0.803084 Train Loss: 0.497896\n",
      "  Val Acc: 0.806565   Val Loss: 0.631357\n",
      "==================== Epoch 147 ====================\n",
      "Train Acc: 0.793594 Train Loss: 0.552068\n",
      "  Val Acc: 0.796014   Val Loss: 0.633486\n",
      "==================== Epoch 148 ====================\n",
      "Train Acc: 0.817319 Train Loss: 0.483116\n",
      "  Val Acc: 0.799531   Val Loss: 0.581889\n",
      "==================== Epoch 149 ====================\n",
      "Train Acc: 0.830368 Train Loss: 0.487332\n",
      "  Val Acc: 0.785463   Val Loss: 0.633580\n",
      "==================== Epoch 150 ====================\n",
      "Train Acc: 0.842230 Train Loss: 0.429010\n",
      "  Val Acc: 0.801876   Val Loss: 0.623497\n",
      "==================== Epoch 151 ====================\n",
      "Train Acc: 0.824437 Train Loss: 0.453796\n",
      "  Val Acc: 0.778429   Val Loss: 0.646350\n",
      "==================== Epoch 152 ====================\n",
      "Train Acc: 0.839858 Train Loss: 0.458877\n",
      "  Val Acc: 0.806565   Val Loss: 0.594555\n",
      "==================== Epoch 153 ====================\n",
      "Train Acc: 0.835113 Train Loss: 0.420531\n",
      "  Val Acc: 0.804220   Val Loss: 0.599354\n",
      "==================== Epoch 154 ====================\n",
      "Train Acc: 0.849348 Train Loss: 0.451213\n",
      "  Val Acc: 0.765533   Val Loss: 0.661578\n",
      "==================== Epoch 155 ====================\n",
      "Train Acc: 0.857651 Train Loss: 0.457907\n",
      "  Val Acc: 0.803048   Val Loss: 0.594202\n",
      "==================== Epoch 156 ====================\n",
      "Train Acc: 0.835113 Train Loss: 0.441417\n",
      "  Val Acc: 0.785463   Val Loss: 0.616728\n",
      "==================== Epoch 157 ====================\n",
      "Train Acc: 0.846975 Train Loss: 0.428249\n",
      "  Val Acc: 0.810082   Val Loss: 0.561255\n",
      "==================== Epoch 158 ====================\n",
      "Train Acc: 0.816133 Train Loss: 0.506033\n",
      "  Val Acc: 0.798359   Val Loss: 0.606920\n",
      "==================== Epoch 159 ====================\n",
      "Train Acc: 0.819692 Train Loss: 0.518082\n",
      "  Val Acc: 0.776084   Val Loss: 0.678633\n",
      "==================== Epoch 160 ====================\n",
      "Train Acc: 0.844603 Train Loss: 0.449661\n",
      "  Val Acc: 0.796014   Val Loss: 0.606953\n",
      "==================== Epoch 161 ====================\n",
      "Train Acc: 0.841044 Train Loss: 0.410045\n",
      "  Val Acc: 0.799531   Val Loss: 0.621598\n",
      "==================== Epoch 162 ====================\n",
      "Train Acc: 0.833926 Train Loss: 0.437554\n",
      "  Val Acc: 0.810082   Val Loss: 0.583353\n",
      "==================== Epoch 163 ====================\n",
      "Train Acc: 0.851720 Train Loss: 0.387894\n",
      "  Val Acc: 0.805393   Val Loss: 0.576169\n",
      "==================== Epoch 164 ====================\n",
      "Train Acc: 0.851720 Train Loss: 0.422032\n",
      "  Val Acc: 0.808910   Val Loss: 0.624280\n",
      "==================== Epoch 165 ====================\n",
      "Train Acc: 0.809015 Train Loss: 0.526207\n",
      "  Val Acc: 0.791325   Val Loss: 0.627791\n",
      "==================== Epoch 166 ====================\n",
      "Train Acc: 0.841044 Train Loss: 0.461152\n",
      "  Val Acc: 0.793669   Val Loss: 0.593206\n",
      "==================== Epoch 167 ====================\n",
      "Train Acc: 0.870700 Train Loss: 0.401615\n",
      "  Val Acc: 0.797186   Val Loss: 0.647834\n",
      "==================== Epoch 168 ====================\n",
      "Train Acc: 0.861210 Train Loss: 0.398641\n",
      "  Val Acc: 0.796014   Val Loss: 0.624889\n",
      "==================== Epoch 169 ====================\n",
      "Train Acc: 0.841044 Train Loss: 0.432934\n",
      "  Val Acc: 0.807737   Val Loss: 0.595190\n",
      "Early stopping at epoch 169 due to no improvement in validation loss.\n"
     ]
    }
   ],
   "source": [
    "################################################################################\n",
    "#     You can adjust those hyper parameters to loop for max_epochs times       #\n",
    "################################################################################\n",
    "max_epochs = 5000\n",
    "log_interval = 1\n",
    "early_stopping_patience = 30    # NuIber of epochs to wait for improvement\n",
    "\n",
    "train_acc_list = []\n",
    "train_loss_list = []\n",
    "val_acc_list = []\n",
    "val_loss_list = []\n",
    "\n",
    "best_acc = 0       # Initialize with a small value\n",
    "no_improvement_count = 0\n",
    "\n",
    "best_model_state_dict = None    # To store the state_dict of the best model\n",
    "\n",
    "for epoch in range(1, max_epochs + 1):\n",
    "    train_acc, train_loss = train(train_loader, model, criterion, optimizer)\n",
    "    val_acc, val_loss = val(valid_loader, model, criterion)\n",
    "\n",
    "    scheduler.step(val_loss)\n",
    "\n",
    "    train_acc_list.append(train_acc)\n",
    "    train_loss_list.append(train_loss)\n",
    "    val_acc_list.append(val_acc)\n",
    "    val_loss_list.append(val_loss)\n",
    "\n",
    "    if epoch % log_interval == 0:\n",
    "        print('=' * 20, 'Epoch', epoch, '=' * 20)\n",
    "        print('Train Acc: {:.6f} Train Loss: {:.6f}'.format(train_acc, train_loss))\n",
    "        print('  Val Acc: {:.6f}   Val Loss: {:.6f}'.format(val_acc, val_loss))\n",
    "\n",
    "    # Check for early stopping based on validation loss\n",
    "    if  val_acc > best_acc:\n",
    "        best_acc = val_acc\n",
    "        no_improvement_count = 0\n",
    "\n",
    "        # Save a copy of the model's state_dict when the best validation loss is seen\n",
    "        best_model_state_dict = model.state_dict()\n",
    "    else:\n",
    "        no_improvement_count += 1\n",
    "\n",
    "    if no_improvement_count >= early_stopping_patience:\n",
    "        print(f'Early stopping at epoch {epoch} due to no improvement in validation loss.')\n",
    "\n",
    "        # Restore the best model weights\n",
    "        if best_model_state_dict is not None:\n",
    "            model.load_state_dict(best_model_state_dict)\n",
    "        break\n",
    "################################################################################\n",
    "#                               End of your code                               #\n",
    "################################################################################"
   ]
  },
  {
   "cell_type": "markdown",
   "metadata": {},
   "source": [
    "#### Visualize accuracy and loss"
   ]
  },
  {
   "cell_type": "code",
   "execution_count": 50,
   "metadata": {
    "ExecuteTime": {
     "end_time": "2023-10-30T03:32:36.442893500Z",
     "start_time": "2023-10-30T03:32:36.165356900Z"
    }
   },
   "outputs": [
    {
     "data": {
      "text/plain": "<Figure size 1200x400 with 1 Axes>",
      "image/png": "[encoded data removed]"
     },
     "metadata": {},
     "output_type": "display_data"
    },
    {
     "data": {
      "text/plain": "<Figure size 1200x400 with 1 Axes>",
      "image/png": "[encoded data removed]"
     },
     "metadata": {},
     "output_type": "display_data"
    }
   ],
   "source": [
    "import matplotlib.pyplot as plt\n",
    "\n",
    "\n",
    "plt.figure(figsize=(12, 4))\n",
    "plt.plot(range(len(train_loss_list)), train_loss_list)\n",
    "plt.plot(range(len(val_loss_list)), val_loss_list, c='r')\n",
    "plt.legend(['train', 'val'])\n",
    "plt.title('Loss')\n",
    "plt.show()\n",
    "plt.figure(figsize=(12, 4))\n",
    "plt.plot(range(len(train_acc_list)), train_acc_list)\n",
    "plt.plot(range(len(val_acc_list)), val_acc_list, c='r')\n",
    "plt.legend(['train', 'val'])\n",
    "plt.title('Acc')\n",
    "plt.show()"
   ]
  },
  {
   "cell_type": "code",
   "execution_count": 51,
   "metadata": {
    "ExecuteTime": {
     "end_time": "2023-10-30T03:32:46.530713800Z",
     "start_time": "2023-10-30T03:32:46.490347400Z"
    }
   },
   "outputs": [],
   "source": [
    "from datetime import datetime\n",
    "\n",
    "# save your well-trained state_dict of model\n",
    "# Get the current timestamp\n",
    "timestamp = datetime.now().strftime(\"%Y-%m-%d-%H-%M\")\n",
    "torch.save(model.state_dict(), f'IB-CONV_{timestamp}.pt')"
   ]
  },
  {
   "cell_type": "markdown",
   "metadata": {},
   "source": [
    "finish training your classifier, next you should use this classifer to predict unlabel images with pseduo label."
   ]
  },
  {
   "cell_type": "markdown",
   "metadata": {},
   "source": [
    "## Step2: Use unlabeled data to enhance model performance"
   ]
  },
  {
   "cell_type": "code",
   "execution_count": 41,
   "metadata": {
    "ExecuteTime": {
     "end_time": "2023-10-31T16:27:57.376699700Z",
     "start_time": "2023-10-31T16:27:57.305130400Z"
    }
   },
   "outputs": [
    {
     "data": {
      "text/plain": "<All keys matched successfully>"
     },
     "execution_count": 41,
     "metadata": {},
     "output_type": "execute_result"
    }
   ],
   "source": [
    "# load the trained classifier weights\n",
    "ckpt = torch.load('IB-CONV_Self_Train_2023-10-28-22-53.pt')\n",
    "model.load_state_dict(ckpt) "
   ]
  },
  {
   "cell_type": "code",
   "execution_count": 16,
   "metadata": {
    "ExecuteTime": {
     "end_time": "2023-10-31T15:33:55.261023400Z",
     "start_time": "2023-10-31T15:33:44.890304500Z"
    }
   },
   "outputs": [
    {
     "name": "stdout",
     "output_type": "stream",
     "text": [
      "1713\n"
     ]
    }
   ],
   "source": [
    "# create a unlabeled data set list, we will use it later\n",
    "unlabeled_set_list = []\n",
    "train_set = FlowerData('train_labeled_dataset.csv', mode='train', transform=transforms_train)\n",
    "train_loader = DataLoader(train_set, batch_size=batch_size, num_workers=num_workers, shuffle=True)\n",
    "\n",
    "for img in unlabeled_set:\n",
    "    unlabeled_set_list.append(img)\n",
    "    \n",
    "print(len(unlabeled_set_list))"
   ]
  },
  {
   "cell_type": "markdown",
   "metadata": {},
   "source": [
    "### Define loss and optimizer"
   ]
  },
  {
   "cell_type": "code",
   "execution_count": 42,
   "metadata": {
    "ExecuteTime": {
     "end_time": "2023-10-31T16:28:00.155421400Z",
     "start_time": "2023-10-31T16:28:00.112397300Z"
    }
   },
   "outputs": [],
   "source": [
    "import torch.nn as nn\n",
    "import torch.optim as optim\n",
    "################################################################################\n",
    "# TODO: Define loss and optmizer functions                                     #\n",
    "# Try any loss or optimizer function and learning rate to get better result    #\n",
    "# hint: torch.nn and torch.optim                                               #\n",
    "################################################################################\n",
    "# CrossEntropyLoss for classification tasks\n",
    "criterion = nn.CrossEntropyLoss()\n",
    "\n",
    "import copy\n",
    "# EMA copy\n",
    "ema_model = copy.deepcopy(model)\n",
    "\n",
    "# Adam optimizer\n",
    "learning_rate = 0.0001\n",
    "optimizer = optim.Adam(model.parameters(), lr=learning_rate, weight_decay=1e-3)\n",
    "\n",
    "scheduler = optim.lr_scheduler.ReduceLROnPlateau(optimizer, 'min', patience=5, factor=0.5)\n",
    "################################################################################\n",
    "#                               End of your code                               #\n",
    "################################################################################\n",
    "criterion = criterion.to(device)"
   ]
  },
  {
   "cell_type": "markdown",
   "metadata": {},
   "source": [
    "### Use the trained classifier to generates pseudo-labels of a dataset."
   ]
  },
  {
   "cell_type": "code",
   "execution_count": 39,
   "metadata": {
    "ExecuteTime": {
     "end_time": "2023-10-31T16:23:03.387839500Z",
     "start_time": "2023-10-31T16:23:03.355840500Z"
    }
   },
   "outputs": [],
   "source": [
    "from torch.utils.data import ConcatDataset, DataLoader, Subset\n",
    "from tqdm.auto import tqdm\n",
    "\n",
    "###########################################################\n",
    "#   You can adjust the threshold to get better result !   #                                  \n",
    "###########################################################\n",
    "def get_pseudo_labels(model, threshold=0.5):\n",
    "    \n",
    "    global unlabeled_set_list, train_set\n",
    "\n",
    "    remove_index, index = [], 0\n",
    "\n",
    "    model.eval()\n",
    "\n",
    "    softmax = nn.Softmax(dim=-1)\n",
    "\n",
    "    # Iterate over the dataset by batches.\n",
    "    for img in tqdm(unlabeled_set_list):\n",
    "\n",
    "        #####################################################################################\n",
    "        #     TODO:                                                                         #\n",
    "        #     1. Foward the data, Using torch.no_grad() accelerates the forward process     #\n",
    "        #     2. obtain the probability distributions by applying softmax on logits         #\n",
    "        #     3. Filter the data with threshold                                             #\n",
    "        #     4. CoIbine the labeled training data with the pseudo-labeled data             #\n",
    "        #        to construct a new training set. then removed                              #\n",
    "        #     5. the unlabeled data from unlabeled_set_list                                 #\n",
    "        #     hint: ConcatDataset                                                           #\n",
    "        #####################################################################################\n",
    "        with torch.no_grad():\n",
    "            img = img.to(device)  # Move the image to the device (e.g., GPU)\n",
    "\n",
    "            # 1. Forward the data\n",
    "            outputs = model(img.unsqueeze(0))  # Unsqueeze to add batch dimension\n",
    "\n",
    "            # 2. Obtain the probability distributions by applying softmax on logits\n",
    "            probs = softmax(outputs)\n",
    "\n",
    "            # 3. Filter the data with the threshold\n",
    "            max_prob, predicted_label = torch.max(probs, 1)\n",
    "\n",
    "            if max_prob.item() >= threshold:\n",
    "                # 4. Add the pseudo-label and image for the train set.\n",
    "                train_set.data_list.append(unlabeled_set.data_list[index])\n",
    "                train_set.labels.append(predicted_label.item())\n",
    "\n",
    "                # 5. Remove the unlabeled data from unlabeled_set_list\n",
    "                # remove_index.append(index)\n",
    "\n",
    "            index += 1\n",
    "        #####################################################################################\n",
    "        #                           End of your code                                        #\n",
    "        #####################################################################################\n",
    "\n",
    "\n",
    "    remove_index.reverse()\n",
    "    for i in remove_index:\n",
    "        del unlabeled_set_list[i]\n",
    "\n",
    "    print(f\"[{len(train_set)-843}/1713] images have been labeled.\")\n",
    "    \n",
    "    # # Turn off the eval mode.\n",
    "    model.train()"
   ]
  },
  {
   "cell_type": "markdown",
   "metadata": {},
   "source": [
    "### Train the model"
   ]
  },
  {
   "cell_type": "markdown",
   "metadata": {},
   "source": [
    "Let's define train function.  \n",
    "\n",
    "Use the **get_pseudo_labels** function to get the new training set, then construct a new data loader for training.\n",
    "\n",
    "It will iterate input data 1 epoch and update model with optmizer.  \n",
    "\n",
    "Finally, calculate mean loss and total accuracy."
   ]
  },
  {
   "cell_type": "code",
   "execution_count": 43,
   "metadata": {
    "ExecuteTime": {
     "end_time": "2023-10-31T16:30:41.457192300Z",
     "start_time": "2023-10-31T16:28:08.213146Z"
    }
   },
   "outputs": [
    {
     "data": {
      "text/plain": "  0%|          | 0/1713 [00:00<?, ?it/s]",
      "application/vnd.jupyter.widget-view+json": {
       "version_major": 2,
       "version_minor": 0,
       "model_id": "ca747f69200246128479b80618a78e5b"
      }
     },
     "metadata": {},
     "output_type": "display_data"
    },
    {
     "name": "stdout",
     "output_type": "stream",
     "text": [
      "[805/1713] images have been labeled.\n"
     ]
    },
    {
     "data": {
      "text/plain": "  0%|          | 0/52 [00:00<?, ?it/s]",
      "application/vnd.jupyter.widget-view+json": {
       "version_major": 2,
       "version_minor": 0,
       "model_id": "8ae9496f25d840218037feb057bc92d0"
      }
     },
     "metadata": {},
     "output_type": "display_data"
    },
    {
     "name": "stdout",
     "output_type": "stream",
     "text": [
      "[ Train | 001/010 ] loss = 0.39372, acc = 0.87380\n"
     ]
    },
    {
     "data": {
      "text/plain": "  0%|          | 0/27 [00:00<?, ?it/s]",
      "application/vnd.jupyter.widget-view+json": {
       "version_major": 2,
       "version_minor": 0,
       "model_id": "178a38587fa54837a567f20106144294"
      }
     },
     "metadata": {},
     "output_type": "display_data"
    },
    {
     "name": "stdout",
     "output_type": "stream",
     "text": [
      "[ Valid | 001/010 ] loss = 0.57916, acc = 0.82622\n",
      "[ EMA Valid | 001/010 ] loss = 0.60507, acc = 0.82044\n",
      "[001/010] saving model with acc 0.826\n",
      "New best validation accuracy: 0.8262. Lowering threshold to 0.9250\n"
     ]
    },
    {
     "data": {
      "text/plain": "  0%|          | 0/1713 [00:00<?, ?it/s]",
      "application/vnd.jupyter.widget-view+json": {
       "version_major": 2,
       "version_minor": 0,
       "model_id": "5c88b680be984f8c8aabb07f38c415a0"
      }
     },
     "metadata": {},
     "output_type": "display_data"
    },
    {
     "name": "stdout",
     "output_type": "stream",
     "text": [
      "[902/1713] images have been labeled.\n"
     ]
    },
    {
     "data": {
      "text/plain": "  0%|          | 0/55 [00:00<?, ?it/s]",
      "application/vnd.jupyter.widget-view+json": {
       "version_major": 2,
       "version_minor": 0,
       "model_id": "b67c27e466d7437cac4d838e25ca0ab9"
      }
     },
     "metadata": {},
     "output_type": "display_data"
    },
    {
     "name": "stdout",
     "output_type": "stream",
     "text": [
      "[ Train | 002/010 ] loss = 0.36252, acc = 0.87507\n"
     ]
    },
    {
     "data": {
      "text/plain": "  0%|          | 0/27 [00:00<?, ?it/s]",
      "application/vnd.jupyter.widget-view+json": {
       "version_major": 2,
       "version_minor": 0,
       "model_id": "b576d42a87dc444dbf150827ddd6fdf1"
      }
     },
     "metadata": {},
     "output_type": "display_data"
    },
    {
     "name": "stdout",
     "output_type": "stream",
     "text": [
      "[ Valid | 002/010 ] loss = 0.57331, acc = 0.82159\n",
      "[ EMA Valid | 002/010 ] loss = 0.60303, acc = 0.81928\n"
     ]
    },
    {
     "data": {
      "text/plain": "  0%|          | 0/1713 [00:00<?, ?it/s]",
      "application/vnd.jupyter.widget-view+json": {
       "version_major": 2,
       "version_minor": 0,
       "model_id": "ac755e98b62449748409951109fd941a"
      }
     },
     "metadata": {},
     "output_type": "display_data"
    },
    {
     "name": "stdout",
     "output_type": "stream",
     "text": [
      "[889/1713] images have been labeled.\n"
     ]
    },
    {
     "data": {
      "text/plain": "  0%|          | 0/55 [00:00<?, ?it/s]",
      "application/vnd.jupyter.widget-view+json": {
       "version_major": 2,
       "version_minor": 0,
       "model_id": "8d7c481f22644ae78125ff880d283b03"
      }
     },
     "metadata": {},
     "output_type": "display_data"
    },
    {
     "name": "stdout",
     "output_type": "stream",
     "text": [
      "[ Train | 003/010 ] loss = 0.42219, acc = 0.85568\n"
     ]
    },
    {
     "data": {
      "text/plain": "  0%|          | 0/27 [00:00<?, ?it/s]",
      "application/vnd.jupyter.widget-view+json": {
       "version_major": 2,
       "version_minor": 0,
       "model_id": "45454815995b46ba9c79cd904bc0fd41"
      }
     },
     "metadata": {},
     "output_type": "display_data"
    },
    {
     "name": "stdout",
     "output_type": "stream",
     "text": [
      "[ Valid | 003/010 ] loss = 0.59164, acc = 0.82159\n",
      "[ EMA Valid | 003/010 ] loss = 0.59959, acc = 0.81465\n"
     ]
    },
    {
     "data": {
      "text/plain": "  0%|          | 0/1713 [00:00<?, ?it/s]",
      "application/vnd.jupyter.widget-view+json": {
       "version_major": 2,
       "version_minor": 0,
       "model_id": "3d33434906ae4270a980cc2befa681a1"
      }
     },
     "metadata": {},
     "output_type": "display_data"
    },
    {
     "name": "stdout",
     "output_type": "stream",
     "text": [
      "[899/1713] images have been labeled.\n"
     ]
    },
    {
     "data": {
      "text/plain": "  0%|          | 0/55 [00:00<?, ?it/s]",
      "application/vnd.jupyter.widget-view+json": {
       "version_major": 2,
       "version_minor": 0,
       "model_id": "8f7baf2a0e754091ad49ce4dcaaa40db"
      }
     },
     "metadata": {},
     "output_type": "display_data"
    },
    {
     "name": "stdout",
     "output_type": "stream",
     "text": [
      "[ Train | 004/010 ] loss = 0.39161, acc = 0.86485\n"
     ]
    },
    {
     "data": {
      "text/plain": "  0%|          | 0/27 [00:00<?, ?it/s]",
      "application/vnd.jupyter.widget-view+json": {
       "version_major": 2,
       "version_minor": 0,
       "model_id": "c75c5736abd04207bf7f995ef944dc3e"
      }
     },
     "metadata": {},
     "output_type": "display_data"
    },
    {
     "name": "stdout",
     "output_type": "stream",
     "text": [
      "[ Valid | 004/010 ] loss = 0.58223, acc = 0.80831\n",
      "[ EMA Valid | 004/010 ] loss = 0.59515, acc = 0.81465\n"
     ]
    },
    {
     "data": {
      "text/plain": "  0%|          | 0/1713 [00:00<?, ?it/s]",
      "application/vnd.jupyter.widget-view+json": {
       "version_major": 2,
       "version_minor": 0,
       "model_id": "59775fd9bac14b16ad98f1eec5990d8a"
      }
     },
     "metadata": {},
     "output_type": "display_data"
    },
    {
     "name": "stdout",
     "output_type": "stream",
     "text": [
      "[888/1713] images have been labeled.\n"
     ]
    },
    {
     "data": {
      "text/plain": "  0%|          | 0/55 [00:00<?, ?it/s]",
      "application/vnd.jupyter.widget-view+json": {
       "version_major": 2,
       "version_minor": 0,
       "model_id": "08334db11aea4aebb2a0d5456b2f2113"
      }
     },
     "metadata": {},
     "output_type": "display_data"
    },
    {
     "name": "stdout",
     "output_type": "stream",
     "text": [
      "[ Train | 005/010 ] loss = 0.41867, acc = 0.84621\n"
     ]
    },
    {
     "data": {
      "text/plain": "  0%|          | 0/27 [00:00<?, ?it/s]",
      "application/vnd.jupyter.widget-view+json": {
       "version_major": 2,
       "version_minor": 0,
       "model_id": "d7326b23653e433b9cc28d3d1668210e"
      }
     },
     "metadata": {},
     "output_type": "display_data"
    },
    {
     "name": "stdout",
     "output_type": "stream",
     "text": [
      "[ Valid | 005/010 ] loss = 0.57328, acc = 0.81757\n",
      "[ EMA Valid | 005/010 ] loss = 0.59013, acc = 0.81581\n"
     ]
    },
    {
     "data": {
      "text/plain": "  0%|          | 0/1713 [00:00<?, ?it/s]",
      "application/vnd.jupyter.widget-view+json": {
       "version_major": 2,
       "version_minor": 0,
       "model_id": "94d7f4b9705c4e4e9a4c79eb95660764"
      }
     },
     "metadata": {},
     "output_type": "display_data"
    },
    {
     "name": "stdout",
     "output_type": "stream",
     "text": [
      "[871/1713] images have been labeled.\n"
     ]
    },
    {
     "data": {
      "text/plain": "  0%|          | 0/54 [00:00<?, ?it/s]",
      "application/vnd.jupyter.widget-view+json": {
       "version_major": 2,
       "version_minor": 0,
       "model_id": "f435302cbc8a4877b805e6321dcf6cac"
      }
     },
     "metadata": {},
     "output_type": "display_data"
    },
    {
     "name": "stdout",
     "output_type": "stream",
     "text": [
      "[ Train | 006/010 ] loss = 0.36319, acc = 0.86902\n"
     ]
    },
    {
     "data": {
      "text/plain": "  0%|          | 0/27 [00:00<?, ?it/s]",
      "application/vnd.jupyter.widget-view+json": {
       "version_major": 2,
       "version_minor": 0,
       "model_id": "c7fba8bce6684fe49eeb18cb73a59755"
      }
     },
     "metadata": {},
     "output_type": "display_data"
    },
    {
     "name": "stdout",
     "output_type": "stream",
     "text": [
      "[ Valid | 006/010 ] loss = 0.57293, acc = 0.81928\n",
      "[ EMA Valid | 006/010 ] loss = 0.58574, acc = 0.81581\n",
      "Early stopping.\n"
     ]
    }
   ],
   "source": [
    "import sys\n",
    "sys.setrecursionlimit(1000000)\n",
    "#########################################################################################################\n",
    "#         You can adjust those hyper parameters like epochs or threshlod for training                   #\n",
    "#########################################################################################################\n",
    "n_epochs = 10\n",
    "best_acc = 0\n",
    "early_stopping_counter = 0\n",
    "early_stopping_limit = 5\n",
    "threshold = 0.95\n",
    "threshold_decay = 0.025\n",
    "min_threshold = 0.8\n",
    "ema_decay = 0.999\n",
    "\n",
    "\n",
    "train_set = FlowerData('train_labeled_dataset.csv', mode='train', transform=transforms_train)\n",
    "get_pseudo_labels(ema_model, threshold=threshold)\n",
    "\n",
    "def update_ema_weights(model, ema_model, ema_decay):\n",
    "    \"\"\"\n",
    "    Update the weights of the ema_model based on the weights of the main model.\n",
    "\n",
    "    Parameters:\n",
    "    - model (torch.nn.Module): Main model whose weights are used for the update.\n",
    "    - ema_model (torch.nn.Module): Model to be updated.\n",
    "    - ema_decay (float): Decay rate for the EMA.\n",
    "    \"\"\"\n",
    "    for model_params, ema_params in zip(model.parameters(), ema_model.parameters()):\n",
    "        ema_params.data.mul_(ema_decay).add_(model_params.data, alpha=1 - ema_decay)\n",
    "\n",
    "\n",
    "for epoch in range(n_epochs):\n",
    "    #########################################################################################################\n",
    "    #    TODO:                                                                                              #\n",
    "    #    In each epoch, relabel the unlabeled dataset for semi-supervised learning.                         #\n",
    "    #    1. Obtain pseudo-labels for unlabeled data using trained model.(use get_pseudo_labels function)    #\n",
    "    #    2. Construct a new dataset and a data loader for training.                                         #\n",
    "    #    You can try different way to use the get_pseudo_label function maybe will get the better result.   #                                  #\n",
    "    #########################################################################################################\n",
    "    global train_set, threshold\n",
    "\n",
    "    # Create a new data loader for training\n",
    "    train_loader = DataLoader(train_set, batch_size=batch_size, num_workers=num_workers, shuffle=True)\n",
    "    #########################################################################################################  \n",
    "    #                                          End of your code                                             #\n",
    "    #########################################################################################################\n",
    "\n",
    "    # ---------- Training ----------\n",
    "    model.train()\n",
    "    \n",
    "    train_loss = []\n",
    "    train_accs = []\n",
    "\n",
    "    for batch in tqdm(train_loader):\n",
    "        imgs, labels = batch\n",
    "\n",
    "        # Forward propagation\n",
    "        logits = model(imgs.to(device))\n",
    "\n",
    "        # Get loss\n",
    "        loss = criterion(logits, labels.to(device))\n",
    "        optimizer.zero_grad()\n",
    "        loss.backward()\n",
    "\n",
    "        # Gradient clipping\n",
    "        grad_norm = nn.utils.clip_grad_norm_(model.parameters(), max_norm=10)\n",
    "        optimizer.step()\n",
    "\n",
    "        # Update EMA weights\n",
    "        update_ema_weights(model, ema_model, ema_decay)\n",
    "\n",
    "        # Evaluation\n",
    "        acc = (logits.argmax(dim=-1) == labels.to(device)).float().mean()\n",
    "\n",
    "        train_loss.append(loss.item())\n",
    "        train_accs.append(acc)\n",
    "\n",
    "    train_loss = sum(train_loss) / len(train_loss)\n",
    "    train_acc = sum(train_accs) / len(train_accs)\n",
    "\n",
    "    print(f\"[ Train | {epoch + 1:03d}/{n_epochs:03d} ] loss = {train_loss:.5f}, acc = {train_acc:.5f}\")\n",
    "\n",
    "    # ---------- Validation ----------\n",
    "    model.eval()\n",
    "    ema_model.eval()\n",
    "\n",
    "    valid_loss = []\n",
    "    valid_accs = []\n",
    "    valid_loss_ema = []\n",
    "    valid_accs_ema = []\n",
    "\n",
    "    for batch in tqdm(valid_loader):\n",
    "\n",
    "        imgs, labels = batch\n",
    "\n",
    "        with torch.no_grad():\n",
    "            logits = model(imgs.to(device))\n",
    "            logits_ema = ema_model(imgs.to(device))\n",
    "\n",
    "        loss = criterion(logits, labels.to(device))\n",
    "        loss_ema = criterion(logits_ema, labels.to(device))\n",
    "\n",
    "        acc = (logits.argmax(dim=-1) == labels.to(device)).float().mean()\n",
    "        acc_ema = (logits_ema.argmax(dim=-1) == labels.to(device)).float().mean()\n",
    "\n",
    "        valid_loss.append(loss.item())\n",
    "        valid_accs.append(acc)\n",
    "\n",
    "        valid_loss_ema.append(loss_ema.item())\n",
    "        valid_accs_ema.append(acc_ema)\n",
    "\n",
    "    valid_loss = sum(valid_loss) / len(valid_loss)\n",
    "    valid_acc = sum(valid_accs) / len(valid_accs)\n",
    "\n",
    "    valid_loss_ema = sum(valid_loss_ema) / len(valid_loss_ema)\n",
    "    valid_acc_ema = sum(valid_accs_ema) / len(valid_accs_ema)\n",
    "\n",
    "    scheduler.step(valid_loss)\n",
    "\n",
    "    print(f\"[ Valid | {epoch + 1:03d}/{n_epochs:03d} ] loss = {valid_loss:.5f}, acc = {valid_acc:.5f}\")\n",
    "    print(f\"[ EMA Valid | {epoch + 1:03d}/{n_epochs:03d} ] loss = {valid_loss_ema:.5f}, acc = {valid_acc_ema:.5f}\")\n",
    "    \n",
    "    if valid_acc > best_acc:\n",
    "        best_acc = valid_acc\n",
    "        torch.save(model.state_dict(), 'NAME_OF_SELF_TRAINING_EXPERIMENT.pt')\n",
    "        print('[{:03d}/{:03d}] saving model with acc {:.3f}'.format(epoch + 1, n_epochs, best_acc))\n",
    "        # Lower the threshold if the model improves on the validation set\n",
    "        early_stopping_counter = 0\n",
    "        threshold = max(min_threshold, threshold - threshold_decay)\n",
    "        print(f\"New best validation accuracy: {best_acc:.4f}. Lowering threshold to {threshold:.4f}\")\n",
    "\n",
    "\n",
    "    if valid_acc < best_acc:\n",
    "        early_stopping_counter += 1\n",
    "\n",
    "        if early_stopping_counter >= early_stopping_limit:\n",
    "            print(\"Early stopping.\")\n",
    "            break\n",
    "\n",
    "    train_set = FlowerData('train_labeled_dataset.csv', mode='train', transform=transforms_train)\n",
    "    get_pseudo_labels(ema_model if valid_acc_ema > valid_acc else model, threshold=threshold)\n",
    "#########################################################################################################\n",
    "#                               End of your code                                                        #\n",
    "#########################################################################################################\n",
    "    "
   ]
  },
  {
   "cell_type": "code",
   "execution_count": 50,
   "metadata": {
    "ExecuteTime": {
     "end_time": "2023-10-31T16:33:58.774085400Z",
     "start_time": "2023-10-31T16:33:58.688715700Z"
    }
   },
   "outputs": [],
   "source": [
    "# save your well-trained state_dict of model\n",
    "from datetime import datetime\n",
    "\n",
    "# Get the current timestamp\n",
    "timestamp = datetime.now().strftime(\"%Y-%m-%d-%H-%M\")\n",
    "torch.save(model.state_dict(), f'IB-CONV_Self_Train_{timestamp}.pt')"
   ]
  },
  {
   "cell_type": "markdown",
   "metadata": {},
   "source": [
    "### Predict Result\n",
    "\n",
    "Predict the labesl based on testing set. Upload to [Kaggle](https://www.kaggle.com/t/e304bb12c8a84e5c9c1b27a6c3bd4026).\n",
    "\n",
    "**How to upload**\n",
    "\n",
    "1. Click the folder icon in the left hand side of Colab.\n",
    "2. Right click \"result.csv\". Select \"Download\"\n",
    "3. To kaggle. Click \"Submit Predictions\"\n",
    "4. Upload the result.csv\n",
    "5. System will automaticlaly calculate the accuracy of 50% dataset and publish this result to leaderboard.\n",
    "\n",
    "---\n",
    "\n",
    "預測`test`並將結果上傳至Kaggle。[**連結**](https://www.kaggle.com/t/e304bb12c8a84e5c9c1b27a6c3bd4026)\n",
    "\n",
    "執行完畢此區的程式碼後，會將`test`預測完的結果存下來。\n",
    "\n",
    "上傳流程\n",
    "1. 點選左側選單最下方的資料夾圖示\n",
    "2. 右鍵「result.csv」\n",
    "3. 點選「Download」\n",
    "4. 至連結網頁點選「Submit Predictions」\n",
    "5. 將剛剛下載的檔案上傳\n",
    "6. 系統會計算並公布其中50%資料的正確率"
   ]
  },
  {
   "cell_type": "code",
   "execution_count": 49,
   "metadata": {
    "ExecuteTime": {
     "end_time": "2023-10-31T16:33:55.535073100Z",
     "start_time": "2023-10-31T16:33:55.438358400Z"
    }
   },
   "outputs": [
    {
     "data": {
      "text/plain": "<All keys matched successfully>"
     },
     "execution_count": 49,
     "metadata": {},
     "output_type": "execute_result"
    }
   ],
   "source": [
    "# if you wanna load previous best model\n",
    "ckpt = torch.load('NAME_OF_SELF_TRAINING_EXPERIMENT.pt')\n",
    "model.load_state_dict(ckpt)"
   ]
  },
  {
   "cell_type": "code",
   "execution_count": 45,
   "metadata": {
    "ExecuteTime": {
     "end_time": "2023-10-31T16:31:30.494685100Z",
     "start_time": "2023-10-31T16:31:30.469879700Z"
    }
   },
   "outputs": [],
   "source": [
    "test_set = FlowerData('test.csv', mode='test', transform=transforms_test)\n",
    "test_loader = DataLoader(test_set, batch_size=batch_size, num_workers=num_workers, shuffle=False)"
   ]
  },
  {
   "cell_type": "code",
   "execution_count": 46,
   "metadata": {
    "ExecuteTime": {
     "end_time": "2023-10-31T16:31:30.956434200Z",
     "start_time": "2023-10-31T16:31:30.949685900Z"
    }
   },
   "outputs": [],
   "source": [
    "def predict(input_data, model):\n",
    "    model.eval()\n",
    "    output_list = []\n",
    "    with torch.no_grad():\n",
    "        for images in input_data:\n",
    "            images = images.to(device)\n",
    "            outputs = model(images)\n",
    "            _, predicted = torch.max(outputs.data, 1)\n",
    "            output_list.extend(predicted.to('cpu').numpy().tolist())\n",
    "    return output_list"
   ]
  },
  {
   "cell_type": "code",
   "execution_count": 47,
   "metadata": {
    "ExecuteTime": {
     "end_time": "2023-10-31T16:31:43.226301300Z",
     "start_time": "2023-10-31T16:31:31.838970600Z"
    }
   },
   "outputs": [],
   "source": [
    "idx = 0\n",
    "output_csv = predict(test_loader, model)\n",
    "with open('result.csv', 'w', newline='') as csvFile:\n",
    "    writer = csv.DictWriter(csvFile, fieldnames=['file_path', 'label'])\n",
    "    writer.writeheader()\n",
    "    for result in output_csv:\n",
    "        file_path = test_set.data_list[idx].replace(data_folder + '/', '')\n",
    "        writer.writerow({'file_path':file_path, 'label':result})\n",
    "        idx += 1"
   ]
  },
  {
   "cell_type": "code",
   "execution_count": 48,
   "outputs": [
    {
     "name": "stderr",
     "output_type": "stream",
     "text": [
      "\n",
      "(dot.exe:38392): Pango-WARNING **: couldn't load font \"Linux libertine Not-Rotated 10\", falling back to \"Sans Not-Rotated 10\", expect ugly output.\n"
     ]
    },
    {
     "data": {
      "image/svg+xml": "<?xml version=\"1.0\" encoding=\"UTF-8\" standalone=\"no\"?>\n<!DOCTYPE svg PUBLIC \"-//W3C//DTD SVG 1.1//EN\"\n \"http://www.w3.org/Graphics/SVG/1.1/DTD/svg11.dtd\">\n<!-- Generated by graphviz version 9.0.0 (20230911.1827)\n -->\n<!-- Title: model Pages: 1 -->\n<svg width=\"218pt\" height=\"3694pt\"\n viewBox=\"0.00 0.00 218.11 3694.00\" xmlns=\"http://www.w3.org/2000/svg\" xmlns:xlink=\"http://www.w3.org/1999/xlink\">\n<g id=\"graph0\" class=\"graph\" transform=\"scale(0.73192 0.73192) rotate(0) translate(4 5043)\">\n<title>model</title>\n<polygon fill=\"white\" stroke=\"none\" points=\"-4,4 -4,-5043 294,-5043 294,4 -4,4\"/>\n<g id=\"clust2\" class=\"cluster\">\n<title>cluster_3</title>\n<polygon fill=\"none\" stroke=\"black\" stroke-dasharray=\"5,2\" points=\"8,-794.5 8,-4746.75 282,-4746.75 282,-794.5 8,-794.5\"/>\n<text text-anchor=\"middle\" x=\"39.25\" y=\"-4731.35\" font-family=\"Times New Roman,serif\" font-size=\"12.00\">Sequential</text>\n</g>\n<g id=\"clust5\" class=\"cluster\">\n<title>cluster_6</title>\n<polygon fill=\"none\" stroke=\"black\" stroke-dasharray=\"5,2\" points=\"16,-3333.75 16,-3896 262,-3896 262,-3333.75 16,-3333.75\"/>\n<text text-anchor=\"middle\" x=\"59.62\" y=\"-3880.6\" font-family=\"Times New Roman,serif\" font-size=\"12.00\">IBConvWithSE</text>\n</g>\n<g id=\"clust4\" class=\"cluster\">\n<title>cluster_5</title>\n<polygon fill=\"none\" stroke=\"black\" stroke-dasharray=\"5,2\" points=\"38,-3904 38,-4306.25 274,-4306.25 274,-3904 38,-3904\"/>\n<text text-anchor=\"middle\" x=\"81.62\" y=\"-4290.85\" font-family=\"Times New Roman,serif\" font-size=\"12.00\">IBConvWithSE</text>\n</g>\n<g id=\"clust3\" class=\"cluster\">\n<title>cluster_4</title>\n<polygon fill=\"none\" stroke=\"black\" stroke-dasharray=\"5,2\" points=\"22,-4314.25 22,-4716.5 268,-4716.5 268,-4314.25 22,-4314.25\"/>\n<text text-anchor=\"middle\" x=\"65.62\" y=\"-4701.1\" font-family=\"Times New Roman,serif\" font-size=\"12.00\">IBConvWithSE</text>\n</g>\n<g id=\"clust9\" class=\"cluster\">\n<title>cluster_10</title>\n<polygon fill=\"none\" stroke=\"black\" stroke-dasharray=\"5,2\" points=\"16,-1372.75 16,-1935 262,-1935 262,-1372.75 16,-1372.75\"/>\n<text text-anchor=\"middle\" x=\"59.62\" y=\"-1919.6\" font-family=\"Times New Roman,serif\" font-size=\"12.00\">IBConvWithSE</text>\n</g>\n<g id=\"clust7\" class=\"cluster\">\n<title>cluster_8</title>\n<polygon fill=\"none\" stroke=\"black\" stroke-dasharray=\"5,2\" points=\"16,-2353.25 16,-2915.5 262,-2915.5 262,-2353.25 16,-2353.25\"/>\n<text text-anchor=\"middle\" x=\"59.62\" y=\"-2900.1\" font-family=\"Times New Roman,serif\" font-size=\"12.00\">IBConvWithSE</text>\n</g>\n<g id=\"clust6\" class=\"cluster\">\n<title>cluster_7</title>\n<polygon fill=\"none\" stroke=\"black\" stroke-dasharray=\"5,2\" points=\"28,-2923.5 28,-3325.75 274,-3325.75 274,-2923.5 28,-2923.5\"/>\n<text text-anchor=\"middle\" x=\"71.62\" y=\"-3310.35\" font-family=\"Times New Roman,serif\" font-size=\"12.00\">IBConvWithSE</text>\n</g>\n<g id=\"clust10\" class=\"cluster\">\n<title>cluster_11</title>\n<polygon fill=\"none\" stroke=\"black\" stroke-dasharray=\"5,2\" points=\"16,-802.5 16,-1364.75 262,-1364.75 262,-802.5 16,-802.5\"/>\n<text text-anchor=\"middle\" x=\"59.62\" y=\"-1349.35\" font-family=\"Times New Roman,serif\" font-size=\"12.00\">IBConvWithSE</text>\n</g>\n<g id=\"clust8\" class=\"cluster\">\n<title>cluster_9</title>\n<polygon fill=\"none\" stroke=\"black\" stroke-dasharray=\"5,2\" points=\"28,-1943 28,-2345.25 274,-2345.25 274,-1943 28,-1943\"/>\n<text text-anchor=\"middle\" x=\"71.62\" y=\"-2329.85\" font-family=\"Times New Roman,serif\" font-size=\"12.00\">IBConvWithSE</text>\n</g>\n<g id=\"clust1\" class=\"cluster\">\n<title>cluster_2</title>\n<polygon fill=\"none\" stroke=\"black\" stroke-dasharray=\"5,2\" points=\"27,-4754.75 27,-4997 239,-4997 239,-4754.75 27,-4754.75\"/>\n<text text-anchor=\"middle\" x=\"58.25\" y=\"-4981.6\" font-family=\"Times New Roman,serif\" font-size=\"12.00\">Sequential</text>\n</g>\n<g id=\"clust11\" class=\"cluster\">\n<title>cluster_12</title>\n<polygon fill=\"none\" stroke=\"black\" stroke-dasharray=\"5,2\" points=\"52,-544.25 52,-786.5 264,-786.5 264,-544.25 52,-544.25\"/>\n<text text-anchor=\"middle\" x=\"83.25\" y=\"-771.1\" font-family=\"Times New Roman,serif\" font-size=\"12.00\">Sequential</text>\n</g>\n<g id=\"clust12\" class=\"cluster\">\n<title>cluster_13</title>\n<polygon fill=\"none\" stroke=\"black\" stroke-dasharray=\"5,2\" points=\"71,-142 71,-384.25 245,-384.25 245,-142 71,-142\"/>\n<text text-anchor=\"middle\" x=\"102.25\" y=\"-368.85\" font-family=\"Times New Roman,serif\" font-size=\"12.00\">Sequential</text>\n</g>\n<!-- 0 -->\n<g id=\"node1\" class=\"node\">\n<title>0</title>\n<polygon fill=\"lightyellow\" stroke=\"none\" points=\"202.62,-5039 63.38,-5039 63.38,-5005 202.62,-5005 202.62,-5039\"/>\n<polygon fill=\"none\" stroke=\"black\" points=\"63.38,-5005 63.38,-5039 125.12,-5039 125.12,-5005 63.38,-5005\"/>\n<text text-anchor=\"start\" x=\"68.38\" y=\"-5024.5\" font-family=\"Linux libertine\" font-size=\"10.00\">input&#45;tensor</text>\n<text text-anchor=\"start\" x=\"77.75\" y=\"-5012.5\" font-family=\"Linux libertine\" font-size=\"10.00\">depth:0</text>\n<polygon fill=\"none\" stroke=\"black\" points=\"125.12,-5005 125.12,-5039 202.62,-5039 202.62,-5005 125.12,-5005\"/>\n<text text-anchor=\"start\" x=\"130.12\" y=\"-5018.5\" font-family=\"Linux libertine\" font-size=\"10.00\">(1, 3, 224, 224)</text>\n</g>\n<!-- 1 -->\n<g id=\"node2\" class=\"node\">\n<title>1</title>\n<polygon fill=\"#c1ffc1\" stroke=\"none\" points=\"218.5,-4966.75 47.5,-4966.75 47.5,-4922.75 218.5,-4922.75 218.5,-4966.75\"/>\n<polygon fill=\"none\" stroke=\"black\" points=\"47.5,-4922.75 47.5,-4966.75 90.5,-4966.75 90.5,-4922.75 47.5,-4922.75\"/>\n<text text-anchor=\"start\" x=\"53.25\" y=\"-4947.25\" font-family=\"Linux libertine\" font-size=\"10.00\">Conv2d</text>\n<text text-anchor=\"start\" x=\"52.5\" y=\"-4935.25\" font-family=\"Linux libertine\" font-size=\"10.00\">depth:2</text>\n<polygon fill=\"none\" stroke=\"black\" points=\"90.5,-4944.75 90.5,-4966.75 133.5,-4966.75 133.5,-4944.75 90.5,-4944.75\"/>\n<text text-anchor=\"start\" x=\"99.62\" y=\"-4952.25\" font-family=\"Linux libertine\" font-size=\"10.00\">input:</text>\n<polygon fill=\"none\" stroke=\"black\" points=\"133.5,-4944.75 133.5,-4966.75 218.5,-4966.75 218.5,-4944.75 133.5,-4944.75\"/>\n<text text-anchor=\"start\" x=\"140.75\" y=\"-4952.25\" font-family=\"Linux libertine\" font-size=\"10.00\">(1, 3, 224, 224) </text>\n<polygon fill=\"none\" stroke=\"black\" points=\"90.5,-4922.75 90.5,-4944.75 133.5,-4944.75 133.5,-4922.75 90.5,-4922.75\"/>\n<text text-anchor=\"start\" x=\"95.12\" y=\"-4930.25\" font-family=\"Linux libertine\" font-size=\"10.00\">output: </text>\n<polygon fill=\"none\" stroke=\"black\" points=\"133.5,-4922.75 133.5,-4944.75 218.5,-4944.75 218.5,-4922.75 133.5,-4922.75\"/>\n<text text-anchor=\"start\" x=\"138.12\" y=\"-4930.25\" font-family=\"Linux libertine\" font-size=\"10.00\">(1, 32, 112, 112) </text>\n</g>\n<!-- 0&#45;&gt;1 -->\n<g id=\"edge1\" class=\"edge\">\n<title>0&#45;&gt;1</title>\n<path fill=\"none\" stroke=\"black\" d=\"M133,-5005.04C133,-4997.15 133,-4987.34 133,-4977.98\"/>\n<polygon fill=\"black\" stroke=\"black\" points=\"136.5,-4978.06 133,-4968.06 129.5,-4978.06 136.5,-4978.06\"/>\n</g>\n<!-- 2 -->\n<g id=\"node3\" class=\"node\">\n<title>2</title>\n<polygon fill=\"#c1ffc1\" stroke=\"none\" points=\"230.5,-4886.75 35.5,-4886.75 35.5,-4842.75 230.5,-4842.75 230.5,-4886.75\"/>\n<polygon fill=\"none\" stroke=\"black\" points=\"35.5,-4842.75 35.5,-4886.75 102.5,-4886.75 102.5,-4842.75 35.5,-4842.75\"/>\n<text text-anchor=\"start\" x=\"40.5\" y=\"-4867.25\" font-family=\"Linux libertine\" font-size=\"10.00\">BatchNorm2d</text>\n<text text-anchor=\"start\" x=\"52.5\" y=\"-4855.25\" font-family=\"Linux libertine\" font-size=\"10.00\">depth:2</text>\n<polygon fill=\"none\" stroke=\"black\" points=\"102.5,-4864.75 102.5,-4886.75 145.5,-4886.75 145.5,-4864.75 102.5,-4864.75\"/>\n<text text-anchor=\"start\" x=\"111.62\" y=\"-4872.25\" font-family=\"Linux libertine\" font-size=\"10.00\">input:</text>\n<polygon fill=\"none\" stroke=\"black\" points=\"145.5,-4864.75 145.5,-4886.75 230.5,-4886.75 230.5,-4864.75 145.5,-4864.75\"/>\n<text text-anchor=\"start\" x=\"150.12\" y=\"-4872.25\" font-family=\"Linux libertine\" font-size=\"10.00\">(1, 32, 112, 112) </text>\n<polygon fill=\"none\" stroke=\"black\" points=\"102.5,-4842.75 102.5,-4864.75 145.5,-4864.75 145.5,-4842.75 102.5,-4842.75\"/>\n<text text-anchor=\"start\" x=\"107.12\" y=\"-4850.25\" font-family=\"Linux libertine\" font-size=\"10.00\">output: </text>\n<polygon fill=\"none\" stroke=\"black\" points=\"145.5,-4842.75 145.5,-4864.75 230.5,-4864.75 230.5,-4842.75 145.5,-4842.75\"/>\n<text text-anchor=\"start\" x=\"150.12\" y=\"-4850.25\" font-family=\"Linux libertine\" font-size=\"10.00\">(1, 32, 112, 112) </text>\n</g>\n<!-- 1&#45;&gt;2 -->\n<g id=\"edge2\" class=\"edge\">\n<title>1&#45;&gt;2</title>\n<path fill=\"none\" stroke=\"black\" d=\"M133,-4922.85C133,-4915.24 133,-4906.45 133,-4898.09\"/>\n<polygon fill=\"black\" stroke=\"black\" points=\"136.5,-4898.22 133,-4888.22 129.5,-4898.22 136.5,-4898.22\"/>\n</g>\n<!-- 3 -->\n<g id=\"node4\" class=\"node\">\n<title>3</title>\n<polygon fill=\"#c1ffc1\" stroke=\"none\" points=\"218.5,-4806.75 47.5,-4806.75 47.5,-4762.75 218.5,-4762.75 218.5,-4806.75\"/>\n<polygon fill=\"none\" stroke=\"black\" points=\"47.5,-4762.75 47.5,-4806.75 90.5,-4806.75 90.5,-4762.75 47.5,-4762.75\"/>\n<text text-anchor=\"start\" x=\"58.12\" y=\"-4787.25\" font-family=\"Linux libertine\" font-size=\"10.00\">SELU</text>\n<text text-anchor=\"start\" x=\"52.5\" y=\"-4775.25\" font-family=\"Linux libertine\" font-size=\"10.00\">depth:2</text>\n<polygon fill=\"none\" stroke=\"black\" points=\"90.5,-4784.75 90.5,-4806.75 133.5,-4806.75 133.5,-4784.75 90.5,-4784.75\"/>\n<text text-anchor=\"start\" x=\"99.62\" y=\"-4792.25\" font-family=\"Linux libertine\" font-size=\"10.00\">input:</text>\n<polygon fill=\"none\" stroke=\"black\" points=\"133.5,-4784.75 133.5,-4806.75 218.5,-4806.75 218.5,-4784.75 133.5,-4784.75\"/>\n<text text-anchor=\"start\" x=\"138.12\" y=\"-4792.25\" font-family=\"Linux libertine\" font-size=\"10.00\">(1, 32, 112, 112) </text>\n<polygon fill=\"none\" stroke=\"black\" points=\"90.5,-4762.75 90.5,-4784.75 133.5,-4784.75 133.5,-4762.75 90.5,-4762.75\"/>\n<text text-anchor=\"start\" x=\"95.12\" y=\"-4770.25\" font-family=\"Linux libertine\" font-size=\"10.00\">output: </text>\n<polygon fill=\"none\" stroke=\"black\" points=\"133.5,-4762.75 133.5,-4784.75 218.5,-4784.75 218.5,-4762.75 133.5,-4762.75\"/>\n<text text-anchor=\"start\" x=\"138.12\" y=\"-4770.25\" font-family=\"Linux libertine\" font-size=\"10.00\">(1, 32, 112, 112) </text>\n</g>\n<!-- 2&#45;&gt;3 -->\n<g id=\"edge3\" class=\"edge\">\n<title>2&#45;&gt;3</title>\n<path fill=\"none\" stroke=\"black\" d=\"M133,-4842.85C133,-4835.24 133,-4826.45 133,-4818.09\"/>\n<polygon fill=\"black\" stroke=\"black\" points=\"136.5,-4818.22 133,-4808.22 129.5,-4818.22 136.5,-4818.22\"/>\n</g>\n<!-- 4 -->\n<g id=\"node5\" class=\"node\">\n<title>4</title>\n<polygon fill=\"#c1ffc1\" stroke=\"none\" points=\"224.5,-4686.25 41.5,-4686.25 41.5,-4642.25 224.5,-4642.25 224.5,-4686.25\"/>\n<polygon fill=\"none\" stroke=\"black\" points=\"41.5,-4642.25 41.5,-4686.25 96.5,-4686.25 96.5,-4642.25 41.5,-4642.25\"/>\n<text text-anchor=\"start\" x=\"46.5\" y=\"-4666.75\" font-family=\"Linux libertine\" font-size=\"10.00\">Sequential</text>\n<text text-anchor=\"start\" x=\"52.5\" y=\"-4654.75\" font-family=\"Linux libertine\" font-size=\"10.00\">depth:3</text>\n<polygon fill=\"none\" stroke=\"black\" points=\"96.5,-4664.25 96.5,-4686.25 139.5,-4686.25 139.5,-4664.25 96.5,-4664.25\"/>\n<text text-anchor=\"start\" x=\"105.62\" y=\"-4671.75\" font-family=\"Linux libertine\" font-size=\"10.00\">input:</text>\n<polygon fill=\"none\" stroke=\"black\" points=\"139.5,-4664.25 139.5,-4686.25 224.5,-4686.25 224.5,-4664.25 139.5,-4664.25\"/>\n<text text-anchor=\"start\" x=\"144.12\" y=\"-4671.75\" font-family=\"Linux libertine\" font-size=\"10.00\">(1, 32, 112, 112) </text>\n<polygon fill=\"none\" stroke=\"black\" points=\"96.5,-4642.25 96.5,-4664.25 139.5,-4664.25 139.5,-4642.25 96.5,-4642.25\"/>\n<text text-anchor=\"start\" x=\"101.12\" y=\"-4649.75\" font-family=\"Linux libertine\" font-size=\"10.00\">output: </text>\n<polygon fill=\"none\" stroke=\"black\" points=\"139.5,-4642.25 139.5,-4664.25 224.5,-4664.25 224.5,-4642.25 139.5,-4642.25\"/>\n<text text-anchor=\"start\" x=\"144.12\" y=\"-4649.75\" font-family=\"Linux libertine\" font-size=\"10.00\">(1, 32, 112, 112) </text>\n</g>\n<!-- 3&#45;&gt;4 -->\n<g id=\"edge4\" class=\"edge\">\n<title>3&#45;&gt;4</title>\n<path fill=\"none\" stroke=\"black\" d=\"M133,-4762.84C133,-4744.73 133,-4718.25 133,-4697.44\"/>\n<polygon fill=\"black\" stroke=\"black\" points=\"136.5,-4697.47 133,-4687.47 129.5,-4697.47 136.5,-4697.47\"/>\n</g>\n<!-- 5 -->\n<g id=\"node6\" class=\"node\">\n<title>5</title>\n<polygon fill=\"#c1ffc1\" stroke=\"none\" points=\"224.5,-4606.25 41.5,-4606.25 41.5,-4562.25 224.5,-4562.25 224.5,-4606.25\"/>\n<polygon fill=\"none\" stroke=\"black\" points=\"41.5,-4562.25 41.5,-4606.25 96.5,-4606.25 96.5,-4562.25 41.5,-4562.25\"/>\n<text text-anchor=\"start\" x=\"46.5\" y=\"-4586.75\" font-family=\"Linux libertine\" font-size=\"10.00\">Sequential</text>\n<text text-anchor=\"start\" x=\"52.5\" y=\"-4574.75\" font-family=\"Linux libertine\" font-size=\"10.00\">depth:3</text>\n<polygon fill=\"none\" stroke=\"black\" points=\"96.5,-4584.25 96.5,-4606.25 139.5,-4606.25 139.5,-4584.25 96.5,-4584.25\"/>\n<text text-anchor=\"start\" x=\"105.62\" y=\"-4591.75\" font-family=\"Linux libertine\" font-size=\"10.00\">input:</text>\n<polygon fill=\"none\" stroke=\"black\" points=\"139.5,-4584.25 139.5,-4606.25 224.5,-4606.25 224.5,-4584.25 139.5,-4584.25\"/>\n<text text-anchor=\"start\" x=\"144.12\" y=\"-4591.75\" font-family=\"Linux libertine\" font-size=\"10.00\">(1, 32, 112, 112) </text>\n<polygon fill=\"none\" stroke=\"black\" points=\"96.5,-4562.25 96.5,-4584.25 139.5,-4584.25 139.5,-4562.25 96.5,-4562.25\"/>\n<text text-anchor=\"start\" x=\"101.12\" y=\"-4569.75\" font-family=\"Linux libertine\" font-size=\"10.00\">output: </text>\n<polygon fill=\"none\" stroke=\"black\" points=\"139.5,-4562.25 139.5,-4584.25 224.5,-4584.25 224.5,-4562.25 139.5,-4562.25\"/>\n<text text-anchor=\"start\" x=\"144.12\" y=\"-4569.75\" font-family=\"Linux libertine\" font-size=\"10.00\">(1, 32, 112, 112) </text>\n</g>\n<!-- 4&#45;&gt;5 -->\n<g id=\"edge5\" class=\"edge\">\n<title>4&#45;&gt;5</title>\n<path fill=\"none\" stroke=\"black\" d=\"M133,-4642.35C133,-4634.74 133,-4625.95 133,-4617.59\"/>\n<polygon fill=\"black\" stroke=\"black\" points=\"136.5,-4617.72 133,-4607.72 129.5,-4617.72 136.5,-4617.72\"/>\n</g>\n<!-- 6 -->\n<g id=\"node7\" class=\"node\">\n<title>6</title>\n<polygon fill=\"#c1ffc1\" stroke=\"none\" points=\"247.5,-4526.25 64.5,-4526.25 64.5,-4482.25 247.5,-4482.25 247.5,-4526.25\"/>\n<polygon fill=\"none\" stroke=\"black\" points=\"64.5,-4482.25 64.5,-4526.25 119.5,-4526.25 119.5,-4482.25 64.5,-4482.25\"/>\n<text text-anchor=\"start\" x=\"69.5\" y=\"-4506.75\" font-family=\"Linux libertine\" font-size=\"10.00\">Sequential</text>\n<text text-anchor=\"start\" x=\"75.5\" y=\"-4494.75\" font-family=\"Linux libertine\" font-size=\"10.00\">depth:3</text>\n<polygon fill=\"none\" stroke=\"black\" points=\"119.5,-4504.25 119.5,-4526.25 162.5,-4526.25 162.5,-4504.25 119.5,-4504.25\"/>\n<text text-anchor=\"start\" x=\"128.62\" y=\"-4511.75\" font-family=\"Linux libertine\" font-size=\"10.00\">input:</text>\n<polygon fill=\"none\" stroke=\"black\" points=\"162.5,-4504.25 162.5,-4526.25 247.5,-4526.25 247.5,-4504.25 162.5,-4504.25\"/>\n<text text-anchor=\"start\" x=\"167.12\" y=\"-4511.75\" font-family=\"Linux libertine\" font-size=\"10.00\">(1, 32, 112, 112) </text>\n<polygon fill=\"none\" stroke=\"black\" points=\"119.5,-4482.25 119.5,-4504.25 162.5,-4504.25 162.5,-4482.25 119.5,-4482.25\"/>\n<text text-anchor=\"start\" x=\"124.12\" y=\"-4489.75\" font-family=\"Linux libertine\" font-size=\"10.00\">output: </text>\n<polygon fill=\"none\" stroke=\"black\" points=\"162.5,-4482.25 162.5,-4504.25 247.5,-4504.25 247.5,-4482.25 162.5,-4482.25\"/>\n<text text-anchor=\"start\" x=\"177.62\" y=\"-4489.75\" font-family=\"Linux libertine\" font-size=\"10.00\">(1, 32, 1, 1) </text>\n</g>\n<!-- 5&#45;&gt;6 -->\n<g id=\"edge6\" class=\"edge\">\n<title>5&#45;&gt;6</title>\n<path fill=\"none\" stroke=\"black\" d=\"M139.16,-4562.35C141.46,-4554.57 144.12,-4545.55 146.63,-4537.01\"/>\n<polygon fill=\"black\" stroke=\"black\" points=\"149.92,-4538.24 149.39,-4527.66 143.21,-4536.26 149.92,-4538.24\"/>\n</g>\n<!-- 7 -->\n<g id=\"node8\" class=\"node\">\n<title>7</title>\n<polygon fill=\"aliceblue\" stroke=\"none\" points=\"259.5,-4446.25 30.5,-4446.25 30.5,-4402.25 259.5,-4402.25 259.5,-4446.25\"/>\n<polygon fill=\"none\" stroke=\"black\" points=\"30.5,-4402.25 30.5,-4446.25 73.5,-4446.25 73.5,-4402.25 30.5,-4402.25\"/>\n<text text-anchor=\"start\" x=\"44.12\" y=\"-4426.75\" font-family=\"Linux libertine\" font-size=\"10.00\">mul</text>\n<text text-anchor=\"start\" x=\"35.5\" y=\"-4414.75\" font-family=\"Linux libertine\" font-size=\"10.00\">depth:3</text>\n<polygon fill=\"none\" stroke=\"black\" points=\"73.5,-4424.25 73.5,-4446.25 116.5,-4446.25 116.5,-4424.25 73.5,-4424.25\"/>\n<text text-anchor=\"start\" x=\"82.62\" y=\"-4431.75\" font-family=\"Linux libertine\" font-size=\"10.00\">input:</text>\n<polygon fill=\"none\" stroke=\"black\" points=\"116.5,-4424.25 116.5,-4446.25 259.5,-4446.25 259.5,-4424.25 116.5,-4424.25\"/>\n<text text-anchor=\"start\" x=\"121.25\" y=\"-4431.75\" font-family=\"Linux libertine\" font-size=\"10.00\">(1, 32, 112, 112), (1, 32, 1, 1) </text>\n<polygon fill=\"none\" stroke=\"black\" points=\"73.5,-4402.25 73.5,-4424.25 116.5,-4424.25 116.5,-4402.25 73.5,-4402.25\"/>\n<text text-anchor=\"start\" x=\"78.12\" y=\"-4409.75\" font-family=\"Linux libertine\" font-size=\"10.00\">output: </text>\n<polygon fill=\"none\" stroke=\"black\" points=\"116.5,-4402.25 116.5,-4424.25 259.5,-4424.25 259.5,-4402.25 116.5,-4402.25\"/>\n<text text-anchor=\"start\" x=\"150.12\" y=\"-4409.75\" font-family=\"Linux libertine\" font-size=\"10.00\">(1, 32, 112, 112) </text>\n</g>\n<!-- 5&#45;&gt;7 -->\n<g id=\"edge7\" class=\"edge\">\n<title>5&#45;&gt;7</title>\n<path fill=\"none\" stroke=\"black\" d=\"M90.28,-4562.48C76.43,-4553.41 62.67,-4541.35 55,-4526.25 46.15,-4508.81 45.57,-4499.38 55,-4482.25 61.76,-4469.98 72.39,-4459.98 84.02,-4451.98\"/>\n<polygon fill=\"black\" stroke=\"black\" points=\"85.64,-4455.09 92.23,-4446.79 81.91,-4449.17 85.64,-4455.09\"/>\n</g>\n<!-- 6&#45;&gt;7 -->\n<g id=\"edge8\" class=\"edge\">\n<title>6&#45;&gt;7</title>\n<path fill=\"none\" stroke=\"black\" d=\"M153.05,-4482.35C151.98,-4474.74 150.74,-4465.95 149.56,-4457.59\"/>\n<polygon fill=\"black\" stroke=\"black\" points=\"153.03,-4457.12 148.17,-4447.71 146.1,-4458.1 153.03,-4457.12\"/>\n</g>\n<!-- 8 -->\n<g id=\"node9\" class=\"node\">\n<title>8</title>\n<polygon fill=\"#c1ffc1\" stroke=\"none\" points=\"236.5,-4366.25 53.5,-4366.25 53.5,-4322.25 236.5,-4322.25 236.5,-4366.25\"/>\n<polygon fill=\"none\" stroke=\"black\" points=\"53.5,-4322.25 53.5,-4366.25 108.5,-4366.25 108.5,-4322.25 53.5,-4322.25\"/>\n<text text-anchor=\"start\" x=\"58.5\" y=\"-4346.75\" font-family=\"Linux libertine\" font-size=\"10.00\">Sequential</text>\n<text text-anchor=\"start\" x=\"64.5\" y=\"-4334.75\" font-family=\"Linux libertine\" font-size=\"10.00\">depth:3</text>\n<polygon fill=\"none\" stroke=\"black\" points=\"108.5,-4344.25 108.5,-4366.25 151.5,-4366.25 151.5,-4344.25 108.5,-4344.25\"/>\n<text text-anchor=\"start\" x=\"117.62\" y=\"-4351.75\" font-family=\"Linux libertine\" font-size=\"10.00\">input:</text>\n<polygon fill=\"none\" stroke=\"black\" points=\"151.5,-4344.25 151.5,-4366.25 236.5,-4366.25 236.5,-4344.25 151.5,-4344.25\"/>\n<text text-anchor=\"start\" x=\"156.12\" y=\"-4351.75\" font-family=\"Linux libertine\" font-size=\"10.00\">(1, 32, 112, 112) </text>\n<polygon fill=\"none\" stroke=\"black\" points=\"108.5,-4322.25 108.5,-4344.25 151.5,-4344.25 151.5,-4322.25 108.5,-4322.25\"/>\n<text text-anchor=\"start\" x=\"113.12\" y=\"-4329.75\" font-family=\"Linux libertine\" font-size=\"10.00\">output: </text>\n<polygon fill=\"none\" stroke=\"black\" points=\"151.5,-4322.25 151.5,-4344.25 236.5,-4344.25 236.5,-4322.25 151.5,-4322.25\"/>\n<text text-anchor=\"start\" x=\"156.12\" y=\"-4329.75\" font-family=\"Linux libertine\" font-size=\"10.00\">(1, 16, 112, 112) </text>\n</g>\n<!-- 7&#45;&gt;8 -->\n<g id=\"edge9\" class=\"edge\">\n<title>7&#45;&gt;8</title>\n<path fill=\"none\" stroke=\"black\" d=\"M145,-4402.35C145,-4394.74 145,-4385.95 145,-4377.59\"/>\n<polygon fill=\"black\" stroke=\"black\" points=\"148.5,-4377.72 145,-4367.72 141.5,-4377.72 148.5,-4377.72\"/>\n</g>\n<!-- 9 -->\n<g id=\"node10\" class=\"node\">\n<title>9</title>\n<polygon fill=\"#c1ffc1\" stroke=\"none\" points=\"236.5,-4276 53.5,-4276 53.5,-4232 236.5,-4232 236.5,-4276\"/>\n<polygon fill=\"none\" stroke=\"black\" points=\"53.5,-4232 53.5,-4276 108.5,-4276 108.5,-4232 53.5,-4232\"/>\n<text text-anchor=\"start\" x=\"58.5\" y=\"-4256.5\" font-family=\"Linux libertine\" font-size=\"10.00\">Sequential</text>\n<text text-anchor=\"start\" x=\"64.5\" y=\"-4244.5\" font-family=\"Linux libertine\" font-size=\"10.00\">depth:3</text>\n<polygon fill=\"none\" stroke=\"black\" points=\"108.5,-4254 108.5,-4276 151.5,-4276 151.5,-4254 108.5,-4254\"/>\n<text text-anchor=\"start\" x=\"117.62\" y=\"-4261.5\" font-family=\"Linux libertine\" font-size=\"10.00\">input:</text>\n<polygon fill=\"none\" stroke=\"black\" points=\"151.5,-4254 151.5,-4276 236.5,-4276 236.5,-4254 151.5,-4254\"/>\n<text text-anchor=\"start\" x=\"156.12\" y=\"-4261.5\" font-family=\"Linux libertine\" font-size=\"10.00\">(1, 16, 112, 112) </text>\n<polygon fill=\"none\" stroke=\"black\" points=\"108.5,-4232 108.5,-4254 151.5,-4254 151.5,-4232 108.5,-4232\"/>\n<text text-anchor=\"start\" x=\"113.12\" y=\"-4239.5\" font-family=\"Linux libertine\" font-size=\"10.00\">output: </text>\n<polygon fill=\"none\" stroke=\"black\" points=\"151.5,-4232 151.5,-4254 236.5,-4254 236.5,-4232 151.5,-4232\"/>\n<text text-anchor=\"start\" x=\"156.12\" y=\"-4239.5\" font-family=\"Linux libertine\" font-size=\"10.00\">(1, 96, 112, 112) </text>\n</g>\n<!-- 8&#45;&gt;9 -->\n<g id=\"edge10\" class=\"edge\">\n<title>8&#45;&gt;9</title>\n<path fill=\"none\" stroke=\"black\" d=\"M145,-4322.34C145,-4311.79 145,-4298.76 145,-4286.98\"/>\n<polygon fill=\"black\" stroke=\"black\" points=\"148.5,-4287.28 145,-4277.28 141.5,-4287.28 148.5,-4287.28\"/>\n</g>\n<!-- 10 -->\n<g id=\"node11\" class=\"node\">\n<title>10</title>\n<polygon fill=\"#c1ffc1\" stroke=\"none\" points=\"236.5,-4196 53.5,-4196 53.5,-4152 236.5,-4152 236.5,-4196\"/>\n<polygon fill=\"none\" stroke=\"black\" points=\"53.5,-4152 53.5,-4196 108.5,-4196 108.5,-4152 53.5,-4152\"/>\n<text text-anchor=\"start\" x=\"58.5\" y=\"-4176.5\" font-family=\"Linux libertine\" font-size=\"10.00\">Sequential</text>\n<text text-anchor=\"start\" x=\"64.5\" y=\"-4164.5\" font-family=\"Linux libertine\" font-size=\"10.00\">depth:3</text>\n<polygon fill=\"none\" stroke=\"black\" points=\"108.5,-4174 108.5,-4196 151.5,-4196 151.5,-4174 108.5,-4174\"/>\n<text text-anchor=\"start\" x=\"117.62\" y=\"-4181.5\" font-family=\"Linux libertine\" font-size=\"10.00\">input:</text>\n<polygon fill=\"none\" stroke=\"black\" points=\"151.5,-4174 151.5,-4196 236.5,-4196 236.5,-4174 151.5,-4174\"/>\n<text text-anchor=\"start\" x=\"156.12\" y=\"-4181.5\" font-family=\"Linux libertine\" font-size=\"10.00\">(1, 96, 112, 112) </text>\n<polygon fill=\"none\" stroke=\"black\" points=\"108.5,-4152 108.5,-4174 151.5,-4174 151.5,-4152 108.5,-4152\"/>\n<text text-anchor=\"start\" x=\"113.12\" y=\"-4159.5\" font-family=\"Linux libertine\" font-size=\"10.00\">output: </text>\n<polygon fill=\"none\" stroke=\"black\" points=\"151.5,-4152 151.5,-4174 236.5,-4174 236.5,-4152 151.5,-4152\"/>\n<text text-anchor=\"start\" x=\"161.38\" y=\"-4159.5\" font-family=\"Linux libertine\" font-size=\"10.00\">(1, 96, 56, 56) </text>\n</g>\n<!-- 9&#45;&gt;10 -->\n<g id=\"edge11\" class=\"edge\">\n<title>9&#45;&gt;10</title>\n<path fill=\"none\" stroke=\"black\" d=\"M145,-4232.1C145,-4224.49 145,-4215.7 145,-4207.34\"/>\n<polygon fill=\"black\" stroke=\"black\" points=\"148.5,-4207.47 145,-4197.47 141.5,-4207.47 148.5,-4207.47\"/>\n</g>\n<!-- 11 -->\n<g id=\"node12\" class=\"node\">\n<title>11</title>\n<polygon fill=\"#c1ffc1\" stroke=\"none\" points=\"253.5,-4116 80.5,-4116 80.5,-4072 253.5,-4072 253.5,-4116\"/>\n<polygon fill=\"none\" stroke=\"black\" points=\"80.5,-4072 80.5,-4116 135.5,-4116 135.5,-4072 80.5,-4072\"/>\n<text text-anchor=\"start\" x=\"85.5\" y=\"-4096.5\" font-family=\"Linux libertine\" font-size=\"10.00\">Sequential</text>\n<text text-anchor=\"start\" x=\"91.5\" y=\"-4084.5\" font-family=\"Linux libertine\" font-size=\"10.00\">depth:3</text>\n<polygon fill=\"none\" stroke=\"black\" points=\"135.5,-4094 135.5,-4116 178.5,-4116 178.5,-4094 135.5,-4094\"/>\n<text text-anchor=\"start\" x=\"144.62\" y=\"-4101.5\" font-family=\"Linux libertine\" font-size=\"10.00\">input:</text>\n<polygon fill=\"none\" stroke=\"black\" points=\"178.5,-4094 178.5,-4116 253.5,-4116 253.5,-4094 178.5,-4094\"/>\n<text text-anchor=\"start\" x=\"183.38\" y=\"-4101.5\" font-family=\"Linux libertine\" font-size=\"10.00\">(1, 96, 56, 56) </text>\n<polygon fill=\"none\" stroke=\"black\" points=\"135.5,-4072 135.5,-4094 178.5,-4094 178.5,-4072 135.5,-4072\"/>\n<text text-anchor=\"start\" x=\"140.12\" y=\"-4079.5\" font-family=\"Linux libertine\" font-size=\"10.00\">output: </text>\n<polygon fill=\"none\" stroke=\"black\" points=\"178.5,-4072 178.5,-4094 253.5,-4094 253.5,-4072 178.5,-4072\"/>\n<text text-anchor=\"start\" x=\"188.62\" y=\"-4079.5\" font-family=\"Linux libertine\" font-size=\"10.00\">(1, 96, 1, 1) </text>\n</g>\n<!-- 10&#45;&gt;11 -->\n<g id=\"edge12\" class=\"edge\">\n<title>10&#45;&gt;11</title>\n<path fill=\"none\" stroke=\"black\" d=\"M150.9,-4152.1C153.09,-4144.32 155.63,-4135.3 158.04,-4126.76\"/>\n<polygon fill=\"black\" stroke=\"black\" points=\"161.33,-4127.99 160.68,-4117.42 154.59,-4126.09 161.33,-4127.99\"/>\n</g>\n<!-- 12 -->\n<g id=\"node13\" class=\"node\">\n<title>12</title>\n<polygon fill=\"aliceblue\" stroke=\"none\" points=\"265.5,-4036 46.5,-4036 46.5,-3992 265.5,-3992 265.5,-4036\"/>\n<polygon fill=\"none\" stroke=\"black\" points=\"46.5,-3992 46.5,-4036 89.5,-4036 89.5,-3992 46.5,-3992\"/>\n<text text-anchor=\"start\" x=\"60.12\" y=\"-4016.5\" font-family=\"Linux libertine\" font-size=\"10.00\">mul</text>\n<text text-anchor=\"start\" x=\"51.5\" y=\"-4004.5\" font-family=\"Linux libertine\" font-size=\"10.00\">depth:3</text>\n<polygon fill=\"none\" stroke=\"black\" points=\"89.5,-4014 89.5,-4036 132.5,-4036 132.5,-4014 89.5,-4014\"/>\n<text text-anchor=\"start\" x=\"98.62\" y=\"-4021.5\" font-family=\"Linux libertine\" font-size=\"10.00\">input:</text>\n<polygon fill=\"none\" stroke=\"black\" points=\"132.5,-4014 132.5,-4036 265.5,-4036 265.5,-4014 132.5,-4014\"/>\n<text text-anchor=\"start\" x=\"137.5\" y=\"-4021.5\" font-family=\"Linux libertine\" font-size=\"10.00\">(1, 96, 56, 56), (1, 96, 1, 1) </text>\n<polygon fill=\"none\" stroke=\"black\" points=\"89.5,-3992 89.5,-4014 132.5,-4014 132.5,-3992 89.5,-3992\"/>\n<text text-anchor=\"start\" x=\"94.12\" y=\"-3999.5\" font-family=\"Linux libertine\" font-size=\"10.00\">output: </text>\n<polygon fill=\"none\" stroke=\"black\" points=\"132.5,-3992 132.5,-4014 265.5,-4014 265.5,-3992 132.5,-3992\"/>\n<text text-anchor=\"start\" x=\"166.38\" y=\"-3999.5\" font-family=\"Linux libertine\" font-size=\"10.00\">(1, 96, 56, 56) </text>\n</g>\n<!-- 10&#45;&gt;12 -->\n<g id=\"edge13\" class=\"edge\">\n<title>10&#45;&gt;12</title>\n<path fill=\"none\" stroke=\"black\" d=\"M104.81,-4152.05C91.53,-4142.91 78.3,-4130.84 71,-4116 62.37,-4098.45 61.8,-4089.25 71,-4072 77.4,-4060 87.58,-4050.08 98.7,-4042.06\"/>\n<polygon fill=\"black\" stroke=\"black\" points=\"100.53,-4045.05 106.94,-4036.61 96.66,-4039.21 100.53,-4045.05\"/>\n</g>\n<!-- 11&#45;&gt;12 -->\n<g id=\"edge14\" class=\"edge\">\n<title>11&#45;&gt;12</title>\n<path fill=\"none\" stroke=\"black\" d=\"M164.05,-4072.1C162.98,-4064.49 161.74,-4055.7 160.56,-4047.34\"/>\n<polygon fill=\"black\" stroke=\"black\" points=\"164.03,-4046.87 159.17,-4037.46 157.1,-4047.85 164.03,-4046.87\"/>\n</g>\n<!-- 13 -->\n<g id=\"node14\" class=\"node\">\n<title>13</title>\n<polygon fill=\"#c1ffc1\" stroke=\"none\" points=\"246.5,-3956 73.5,-3956 73.5,-3912 246.5,-3912 246.5,-3956\"/>\n<polygon fill=\"none\" stroke=\"black\" points=\"73.5,-3912 73.5,-3956 128.5,-3956 128.5,-3912 73.5,-3912\"/>\n<text text-anchor=\"start\" x=\"78.5\" y=\"-3936.5\" font-family=\"Linux libertine\" font-size=\"10.00\">Sequential</text>\n<text text-anchor=\"start\" x=\"84.5\" y=\"-3924.5\" font-family=\"Linux libertine\" font-size=\"10.00\">depth:3</text>\n<polygon fill=\"none\" stroke=\"black\" points=\"128.5,-3934 128.5,-3956 171.5,-3956 171.5,-3934 128.5,-3934\"/>\n<text text-anchor=\"start\" x=\"137.62\" y=\"-3941.5\" font-family=\"Linux libertine\" font-size=\"10.00\">input:</text>\n<polygon fill=\"none\" stroke=\"black\" points=\"171.5,-3934 171.5,-3956 246.5,-3956 246.5,-3934 171.5,-3934\"/>\n<text text-anchor=\"start\" x=\"176.38\" y=\"-3941.5\" font-family=\"Linux libertine\" font-size=\"10.00\">(1, 96, 56, 56) </text>\n<polygon fill=\"none\" stroke=\"black\" points=\"128.5,-3912 128.5,-3934 171.5,-3934 171.5,-3912 128.5,-3912\"/>\n<text text-anchor=\"start\" x=\"133.12\" y=\"-3919.5\" font-family=\"Linux libertine\" font-size=\"10.00\">output: </text>\n<polygon fill=\"none\" stroke=\"black\" points=\"171.5,-3912 171.5,-3934 246.5,-3934 246.5,-3912 171.5,-3912\"/>\n<text text-anchor=\"start\" x=\"176.38\" y=\"-3919.5\" font-family=\"Linux libertine\" font-size=\"10.00\">(1, 24, 56, 56) </text>\n</g>\n<!-- 12&#45;&gt;13 -->\n<g id=\"edge15\" class=\"edge\">\n<title>12&#45;&gt;13</title>\n<path fill=\"none\" stroke=\"black\" d=\"M157.07,-3992.1C157.46,-3984.49 157.91,-3975.7 158.34,-3967.34\"/>\n<polygon fill=\"black\" stroke=\"black\" points=\"161.83,-3967.64 158.85,-3957.47 154.84,-3967.28 161.83,-3967.64\"/>\n</g>\n<!-- 14 -->\n<g id=\"node15\" class=\"node\">\n<title>14</title>\n<polygon fill=\"#c1ffc1\" stroke=\"none\" points=\"249,-3865.75 71,-3865.75 71,-3821.75 249,-3821.75 249,-3865.75\"/>\n<polygon fill=\"none\" stroke=\"black\" points=\"71,-3821.75 71,-3865.75 126,-3865.75 126,-3821.75 71,-3821.75\"/>\n<text text-anchor=\"start\" x=\"76\" y=\"-3846.25\" font-family=\"Linux libertine\" font-size=\"10.00\">Sequential</text>\n<text text-anchor=\"start\" x=\"82\" y=\"-3834.25\" font-family=\"Linux libertine\" font-size=\"10.00\">depth:3</text>\n<polygon fill=\"none\" stroke=\"black\" points=\"126,-3843.75 126,-3865.75 169,-3865.75 169,-3843.75 126,-3843.75\"/>\n<text text-anchor=\"start\" x=\"135.12\" y=\"-3851.25\" font-family=\"Linux libertine\" font-size=\"10.00\">input:</text>\n<polygon fill=\"none\" stroke=\"black\" points=\"169,-3843.75 169,-3865.75 249,-3865.75 249,-3843.75 169,-3843.75\"/>\n<text text-anchor=\"start\" x=\"176.38\" y=\"-3851.25\" font-family=\"Linux libertine\" font-size=\"10.00\">(1, 24, 56, 56) </text>\n<polygon fill=\"none\" stroke=\"black\" points=\"126,-3821.75 126,-3843.75 169,-3843.75 169,-3821.75 126,-3821.75\"/>\n<text text-anchor=\"start\" x=\"130.62\" y=\"-3829.25\" font-family=\"Linux libertine\" font-size=\"10.00\">output: </text>\n<polygon fill=\"none\" stroke=\"black\" points=\"169,-3821.75 169,-3843.75 249,-3843.75 249,-3821.75 169,-3821.75\"/>\n<text text-anchor=\"start\" x=\"173.75\" y=\"-3829.25\" font-family=\"Linux libertine\" font-size=\"10.00\">(1, 144, 56, 56) </text>\n</g>\n<!-- 13&#45;&gt;14 -->\n<g id=\"edge16\" class=\"edge\">\n<title>13&#45;&gt;14</title>\n<path fill=\"none\" stroke=\"black\" d=\"M160,-3912.09C160,-3901.54 160,-3888.51 160,-3876.73\"/>\n<polygon fill=\"black\" stroke=\"black\" points=\"163.5,-3877.03 160,-3867.03 156.5,-3877.03 163.5,-3877.03\"/>\n</g>\n<!-- 19 -->\n<g id=\"node20\" class=\"node\">\n<title>19</title>\n<polygon fill=\"aliceblue\" stroke=\"none\" points=\"242.5,-3465.75 65.5,-3465.75 65.5,-3421.75 242.5,-3421.75 242.5,-3465.75\"/>\n<polygon fill=\"none\" stroke=\"black\" points=\"65.5,-3421.75 65.5,-3465.75 108.5,-3465.75 108.5,-3421.75 65.5,-3421.75\"/>\n<text text-anchor=\"start\" x=\"76.5\" y=\"-3446.25\" font-family=\"Linux libertine\" font-size=\"10.00\">add_</text>\n<text text-anchor=\"start\" x=\"70.5\" y=\"-3434.25\" font-family=\"Linux libertine\" font-size=\"10.00\">depth:3</text>\n<polygon fill=\"none\" stroke=\"black\" points=\"108.5,-3443.75 108.5,-3465.75 151.5,-3465.75 151.5,-3443.75 108.5,-3443.75\"/>\n<text text-anchor=\"start\" x=\"117.62\" y=\"-3451.25\" font-family=\"Linux libertine\" font-size=\"10.00\">input:</text>\n<polygon fill=\"none\" stroke=\"black\" points=\"151.5,-3443.75 151.5,-3465.75 242.5,-3465.75 242.5,-3443.75 151.5,-3443.75\"/>\n<text text-anchor=\"start\" x=\"156.5\" y=\"-3451.25\" font-family=\"Linux libertine\" font-size=\"10.00\">2 x (1, 24, 56, 56) </text>\n<polygon fill=\"none\" stroke=\"black\" points=\"108.5,-3421.75 108.5,-3443.75 151.5,-3443.75 151.5,-3421.75 108.5,-3421.75\"/>\n<text text-anchor=\"start\" x=\"113.12\" y=\"-3429.25\" font-family=\"Linux libertine\" font-size=\"10.00\">output: </text>\n<polygon fill=\"none\" stroke=\"black\" points=\"151.5,-3421.75 151.5,-3443.75 242.5,-3443.75 242.5,-3421.75 151.5,-3421.75\"/>\n<text text-anchor=\"start\" x=\"164.38\" y=\"-3429.25\" font-family=\"Linux libertine\" font-size=\"10.00\">(1, 24, 56, 56) </text>\n</g>\n<!-- 13&#45;&gt;19 -->\n<g id=\"edge17\" class=\"edge\">\n<title>13&#45;&gt;19</title>\n<path fill=\"none\" stroke=\"black\" d=\"M239.73,-3912.19C246.68,-3907.79 252.97,-3902.46 258,-3896 294.08,-3849.68 273,-3823.46 273,-3764.75 273,-3764.75 273,-3764.75 273,-3602.75 273,-3556.28 273.7,-3539.06 246,-3501.75 237.07,-3489.73 224.79,-3479.67 212.11,-3471.51\"/>\n<polygon fill=\"black\" stroke=\"black\" points=\"214.04,-3468.59 203.67,-3466.43 210.43,-3474.59 214.04,-3468.59\"/>\n</g>\n<!-- 15 -->\n<g id=\"node16\" class=\"node\">\n<title>15</title>\n<polygon fill=\"#c1ffc1\" stroke=\"none\" points=\"249,-3785.75 71,-3785.75 71,-3741.75 249,-3741.75 249,-3785.75\"/>\n<polygon fill=\"none\" stroke=\"black\" points=\"71,-3741.75 71,-3785.75 126,-3785.75 126,-3741.75 71,-3741.75\"/>\n<text text-anchor=\"start\" x=\"76\" y=\"-3766.25\" font-family=\"Linux libertine\" font-size=\"10.00\">Sequential</text>\n<text text-anchor=\"start\" x=\"82\" y=\"-3754.25\" font-family=\"Linux libertine\" font-size=\"10.00\">depth:3</text>\n<polygon fill=\"none\" stroke=\"black\" points=\"126,-3763.75 126,-3785.75 169,-3785.75 169,-3763.75 126,-3763.75\"/>\n<text text-anchor=\"start\" x=\"135.12\" y=\"-3771.25\" font-family=\"Linux libertine\" font-size=\"10.00\">input:</text>\n<polygon fill=\"none\" stroke=\"black\" points=\"169,-3763.75 169,-3785.75 249,-3785.75 249,-3763.75 169,-3763.75\"/>\n<text text-anchor=\"start\" x=\"173.75\" y=\"-3771.25\" font-family=\"Linux libertine\" font-size=\"10.00\">(1, 144, 56, 56) </text>\n<polygon fill=\"none\" stroke=\"black\" points=\"126,-3741.75 126,-3763.75 169,-3763.75 169,-3741.75 126,-3741.75\"/>\n<text text-anchor=\"start\" x=\"130.62\" y=\"-3749.25\" font-family=\"Linux libertine\" font-size=\"10.00\">output: </text>\n<polygon fill=\"none\" stroke=\"black\" points=\"169,-3741.75 169,-3763.75 249,-3763.75 249,-3741.75 169,-3741.75\"/>\n<text text-anchor=\"start\" x=\"173.75\" y=\"-3749.25\" font-family=\"Linux libertine\" font-size=\"10.00\">(1, 144, 56, 56) </text>\n</g>\n<!-- 14&#45;&gt;15 -->\n<g id=\"edge18\" class=\"edge\">\n<title>14&#45;&gt;15</title>\n<path fill=\"none\" stroke=\"black\" d=\"M160,-3821.85C160,-3814.24 160,-3805.45 160,-3797.09\"/>\n<polygon fill=\"black\" stroke=\"black\" points=\"163.5,-3797.22 160,-3787.22 156.5,-3797.22 163.5,-3797.22\"/>\n</g>\n<!-- 16 -->\n<g id=\"node17\" class=\"node\">\n<title>16</title>\n<polygon fill=\"#c1ffc1\" stroke=\"none\" points=\"251,-3705.75 73,-3705.75 73,-3661.75 251,-3661.75 251,-3705.75\"/>\n<polygon fill=\"none\" stroke=\"black\" points=\"73,-3661.75 73,-3705.75 128,-3705.75 128,-3661.75 73,-3661.75\"/>\n<text text-anchor=\"start\" x=\"78\" y=\"-3686.25\" font-family=\"Linux libertine\" font-size=\"10.00\">Sequential</text>\n<text text-anchor=\"start\" x=\"84\" y=\"-3674.25\" font-family=\"Linux libertine\" font-size=\"10.00\">depth:3</text>\n<polygon fill=\"none\" stroke=\"black\" points=\"128,-3683.75 128,-3705.75 171,-3705.75 171,-3683.75 128,-3683.75\"/>\n<text text-anchor=\"start\" x=\"137.12\" y=\"-3691.25\" font-family=\"Linux libertine\" font-size=\"10.00\">input:</text>\n<polygon fill=\"none\" stroke=\"black\" points=\"171,-3683.75 171,-3705.75 251,-3705.75 251,-3683.75 171,-3683.75\"/>\n<text text-anchor=\"start\" x=\"175.75\" y=\"-3691.25\" font-family=\"Linux libertine\" font-size=\"10.00\">(1, 144, 56, 56) </text>\n<polygon fill=\"none\" stroke=\"black\" points=\"128,-3661.75 128,-3683.75 171,-3683.75 171,-3661.75 128,-3661.75\"/>\n<text text-anchor=\"start\" x=\"132.62\" y=\"-3669.25\" font-family=\"Linux libertine\" font-size=\"10.00\">output: </text>\n<polygon fill=\"none\" stroke=\"black\" points=\"171,-3661.75 171,-3683.75 251,-3683.75 251,-3661.75 171,-3661.75\"/>\n<text text-anchor=\"start\" x=\"181\" y=\"-3669.25\" font-family=\"Linux libertine\" font-size=\"10.00\">(1, 144, 1, 1) </text>\n</g>\n<!-- 15&#45;&gt;16 -->\n<g id=\"edge19\" class=\"edge\">\n<title>15&#45;&gt;16</title>\n<path fill=\"none\" stroke=\"black\" d=\"M160.54,-3741.85C160.73,-3734.24 160.96,-3725.45 161.17,-3717.09\"/>\n<polygon fill=\"black\" stroke=\"black\" points=\"164.67,-3717.31 161.42,-3707.22 157.67,-3717.13 164.67,-3717.31\"/>\n</g>\n<!-- 17 -->\n<g id=\"node18\" class=\"node\">\n<title>17</title>\n<polygon fill=\"aliceblue\" stroke=\"none\" points=\"253.5,-3625.75 24.5,-3625.75 24.5,-3581.75 253.5,-3581.75 253.5,-3625.75\"/>\n<polygon fill=\"none\" stroke=\"black\" points=\"24.5,-3581.75 24.5,-3625.75 67.5,-3625.75 67.5,-3581.75 24.5,-3581.75\"/>\n<text text-anchor=\"start\" x=\"38.12\" y=\"-3606.25\" font-family=\"Linux libertine\" font-size=\"10.00\">mul</text>\n<text text-anchor=\"start\" x=\"29.5\" y=\"-3594.25\" font-family=\"Linux libertine\" font-size=\"10.00\">depth:3</text>\n<polygon fill=\"none\" stroke=\"black\" points=\"67.5,-3603.75 67.5,-3625.75 110.5,-3625.75 110.5,-3603.75 67.5,-3603.75\"/>\n<text text-anchor=\"start\" x=\"76.62\" y=\"-3611.25\" font-family=\"Linux libertine\" font-size=\"10.00\">input:</text>\n<polygon fill=\"none\" stroke=\"black\" points=\"110.5,-3603.75 110.5,-3625.75 253.5,-3625.75 253.5,-3603.75 110.5,-3603.75\"/>\n<text text-anchor=\"start\" x=\"115.25\" y=\"-3611.25\" font-family=\"Linux libertine\" font-size=\"10.00\">(1, 144, 56, 56), (1, 144, 1, 1) </text>\n<polygon fill=\"none\" stroke=\"black\" points=\"67.5,-3581.75 67.5,-3603.75 110.5,-3603.75 110.5,-3581.75 67.5,-3581.75\"/>\n<text text-anchor=\"start\" x=\"72.12\" y=\"-3589.25\" font-family=\"Linux libertine\" font-size=\"10.00\">output: </text>\n<polygon fill=\"none\" stroke=\"black\" points=\"110.5,-3581.75 110.5,-3603.75 253.5,-3603.75 253.5,-3581.75 110.5,-3581.75\"/>\n<text text-anchor=\"start\" x=\"146.75\" y=\"-3589.25\" font-family=\"Linux libertine\" font-size=\"10.00\">(1, 144, 56, 56) </text>\n</g>\n<!-- 15&#45;&gt;17 -->\n<g id=\"edge20\" class=\"edge\">\n<title>15&#45;&gt;17</title>\n<path fill=\"none\" stroke=\"black\" d=\"M103.4,-3741.77C87.86,-3733.1 72.87,-3721.33 64,-3705.75 54.33,-3688.76 55.31,-3679.27 64,-3661.75 69.73,-3650.19 79.06,-3640.34 89.21,-3632.25\"/>\n<polygon fill=\"black\" stroke=\"black\" points=\"91.07,-3635.23 97.06,-3626.49 86.93,-3629.58 91.07,-3635.23\"/>\n</g>\n<!-- 16&#45;&gt;17 -->\n<g id=\"edge21\" class=\"edge\">\n<title>16&#45;&gt;17</title>\n<path fill=\"none\" stroke=\"black\" d=\"M155.84,-3661.85C153.54,-3654.07 150.88,-3645.05 148.37,-3636.51\"/>\n<polygon fill=\"black\" stroke=\"black\" points=\"151.79,-3635.76 145.61,-3627.16 145.08,-3637.74 151.79,-3635.76\"/>\n</g>\n<!-- 18 -->\n<g id=\"node19\" class=\"node\">\n<title>18</title>\n<polygon fill=\"#c1ffc1\" stroke=\"none\" points=\"237,-3545.75 59,-3545.75 59,-3501.75 237,-3501.75 237,-3545.75\"/>\n<polygon fill=\"none\" stroke=\"black\" points=\"59,-3501.75 59,-3545.75 114,-3545.75 114,-3501.75 59,-3501.75\"/>\n<text text-anchor=\"start\" x=\"64\" y=\"-3526.25\" font-family=\"Linux libertine\" font-size=\"10.00\">Sequential</text>\n<text text-anchor=\"start\" x=\"70\" y=\"-3514.25\" font-family=\"Linux libertine\" font-size=\"10.00\">depth:3</text>\n<polygon fill=\"none\" stroke=\"black\" points=\"114,-3523.75 114,-3545.75 157,-3545.75 157,-3523.75 114,-3523.75\"/>\n<text text-anchor=\"start\" x=\"123.12\" y=\"-3531.25\" font-family=\"Linux libertine\" font-size=\"10.00\">input:</text>\n<polygon fill=\"none\" stroke=\"black\" points=\"157,-3523.75 157,-3545.75 237,-3545.75 237,-3523.75 157,-3523.75\"/>\n<text text-anchor=\"start\" x=\"161.75\" y=\"-3531.25\" font-family=\"Linux libertine\" font-size=\"10.00\">(1, 144, 56, 56) </text>\n<polygon fill=\"none\" stroke=\"black\" points=\"114,-3501.75 114,-3523.75 157,-3523.75 157,-3501.75 114,-3501.75\"/>\n<text text-anchor=\"start\" x=\"118.62\" y=\"-3509.25\" font-family=\"Linux libertine\" font-size=\"10.00\">output: </text>\n<polygon fill=\"none\" stroke=\"black\" points=\"157,-3501.75 157,-3523.75 237,-3523.75 237,-3501.75 157,-3501.75\"/>\n<text text-anchor=\"start\" x=\"164.38\" y=\"-3509.25\" font-family=\"Linux libertine\" font-size=\"10.00\">(1, 24, 56, 56) </text>\n</g>\n<!-- 17&#45;&gt;18 -->\n<g id=\"edge22\" class=\"edge\">\n<title>17&#45;&gt;18</title>\n<path fill=\"none\" stroke=\"black\" d=\"M141.41,-3581.85C142.29,-3574.24 143.3,-3565.45 144.27,-3557.09\"/>\n<polygon fill=\"black\" stroke=\"black\" points=\"147.74,-3557.55 145.41,-3547.21 140.78,-3556.75 147.74,-3557.55\"/>\n</g>\n<!-- 18&#45;&gt;19 -->\n<g id=\"edge23\" class=\"edge\">\n<title>18&#45;&gt;19</title>\n<path fill=\"none\" stroke=\"black\" d=\"M149.61,-3501.85C150.19,-3494.24 150.87,-3485.45 151.51,-3477.09\"/>\n<polygon fill=\"black\" stroke=\"black\" points=\"154.99,-3477.46 152.27,-3467.22 148.01,-3476.92 154.99,-3477.46\"/>\n</g>\n<!-- 20 -->\n<g id=\"node21\" class=\"node\">\n<title>20</title>\n<polygon fill=\"#c1ffc1\" stroke=\"none\" points=\"234.5,-3385.75 73.5,-3385.75 73.5,-3341.75 234.5,-3341.75 234.5,-3385.75\"/>\n<polygon fill=\"none\" stroke=\"black\" points=\"73.5,-3341.75 73.5,-3385.75 116.5,-3385.75 116.5,-3341.75 73.5,-3341.75\"/>\n<text text-anchor=\"start\" x=\"78.12\" y=\"-3366.25\" font-family=\"Linux libertine\" font-size=\"10.00\">Dropout</text>\n<text text-anchor=\"start\" x=\"78.5\" y=\"-3354.25\" font-family=\"Linux libertine\" font-size=\"10.00\">depth:3</text>\n<polygon fill=\"none\" stroke=\"black\" points=\"116.5,-3363.75 116.5,-3385.75 159.5,-3385.75 159.5,-3363.75 116.5,-3363.75\"/>\n<text text-anchor=\"start\" x=\"125.62\" y=\"-3371.25\" font-family=\"Linux libertine\" font-size=\"10.00\">input:</text>\n<polygon fill=\"none\" stroke=\"black\" points=\"159.5,-3363.75 159.5,-3385.75 234.5,-3385.75 234.5,-3363.75 159.5,-3363.75\"/>\n<text text-anchor=\"start\" x=\"164.38\" y=\"-3371.25\" font-family=\"Linux libertine\" font-size=\"10.00\">(1, 24, 56, 56) </text>\n<polygon fill=\"none\" stroke=\"black\" points=\"116.5,-3341.75 116.5,-3363.75 159.5,-3363.75 159.5,-3341.75 116.5,-3341.75\"/>\n<text text-anchor=\"start\" x=\"121.12\" y=\"-3349.25\" font-family=\"Linux libertine\" font-size=\"10.00\">output: </text>\n<polygon fill=\"none\" stroke=\"black\" points=\"159.5,-3341.75 159.5,-3363.75 234.5,-3363.75 234.5,-3341.75 159.5,-3341.75\"/>\n<text text-anchor=\"start\" x=\"164.38\" y=\"-3349.25\" font-family=\"Linux libertine\" font-size=\"10.00\">(1, 24, 56, 56) </text>\n</g>\n<!-- 19&#45;&gt;20 -->\n<g id=\"edge24\" class=\"edge\">\n<title>19&#45;&gt;20</title>\n<path fill=\"none\" stroke=\"black\" d=\"M154,-3421.85C154,-3414.24 154,-3405.45 154,-3397.09\"/>\n<polygon fill=\"black\" stroke=\"black\" points=\"157.5,-3397.22 154,-3387.22 150.5,-3397.22 157.5,-3397.22\"/>\n</g>\n<!-- 21 -->\n<g id=\"node22\" class=\"node\">\n<title>21</title>\n<polygon fill=\"#c1ffc1\" stroke=\"none\" points=\"243,-3295.5 65,-3295.5 65,-3251.5 243,-3251.5 243,-3295.5\"/>\n<polygon fill=\"none\" stroke=\"black\" points=\"65,-3251.5 65,-3295.5 120,-3295.5 120,-3251.5 65,-3251.5\"/>\n<text text-anchor=\"start\" x=\"70\" y=\"-3276\" font-family=\"Linux libertine\" font-size=\"10.00\">Sequential</text>\n<text text-anchor=\"start\" x=\"76\" y=\"-3264\" font-family=\"Linux libertine\" font-size=\"10.00\">depth:3</text>\n<polygon fill=\"none\" stroke=\"black\" points=\"120,-3273.5 120,-3295.5 163,-3295.5 163,-3273.5 120,-3273.5\"/>\n<text text-anchor=\"start\" x=\"129.12\" y=\"-3281\" font-family=\"Linux libertine\" font-size=\"10.00\">input:</text>\n<polygon fill=\"none\" stroke=\"black\" points=\"163,-3273.5 163,-3295.5 243,-3295.5 243,-3273.5 163,-3273.5\"/>\n<text text-anchor=\"start\" x=\"170.38\" y=\"-3281\" font-family=\"Linux libertine\" font-size=\"10.00\">(1, 24, 56, 56) </text>\n<polygon fill=\"none\" stroke=\"black\" points=\"120,-3251.5 120,-3273.5 163,-3273.5 163,-3251.5 120,-3251.5\"/>\n<text text-anchor=\"start\" x=\"124.62\" y=\"-3259\" font-family=\"Linux libertine\" font-size=\"10.00\">output: </text>\n<polygon fill=\"none\" stroke=\"black\" points=\"163,-3251.5 163,-3273.5 243,-3273.5 243,-3251.5 163,-3251.5\"/>\n<text text-anchor=\"start\" x=\"167.75\" y=\"-3259\" font-family=\"Linux libertine\" font-size=\"10.00\">(1, 144, 56, 56) </text>\n</g>\n<!-- 20&#45;&gt;21 -->\n<g id=\"edge25\" class=\"edge\">\n<title>20&#45;&gt;21</title>\n<path fill=\"none\" stroke=\"black\" d=\"M154,-3341.84C154,-3331.29 154,-3318.26 154,-3306.48\"/>\n<polygon fill=\"black\" stroke=\"black\" points=\"157.5,-3306.78 154,-3296.78 150.5,-3306.78 157.5,-3306.78\"/>\n</g>\n<!-- 22 -->\n<g id=\"node23\" class=\"node\">\n<title>22</title>\n<polygon fill=\"#c1ffc1\" stroke=\"none\" points=\"243,-3215.5 65,-3215.5 65,-3171.5 243,-3171.5 243,-3215.5\"/>\n<polygon fill=\"none\" stroke=\"black\" points=\"65,-3171.5 65,-3215.5 120,-3215.5 120,-3171.5 65,-3171.5\"/>\n<text text-anchor=\"start\" x=\"70\" y=\"-3196\" font-family=\"Linux libertine\" font-size=\"10.00\">Sequential</text>\n<text text-anchor=\"start\" x=\"76\" y=\"-3184\" font-family=\"Linux libertine\" font-size=\"10.00\">depth:3</text>\n<polygon fill=\"none\" stroke=\"black\" points=\"120,-3193.5 120,-3215.5 163,-3215.5 163,-3193.5 120,-3193.5\"/>\n<text text-anchor=\"start\" x=\"129.12\" y=\"-3201\" font-family=\"Linux libertine\" font-size=\"10.00\">input:</text>\n<polygon fill=\"none\" stroke=\"black\" points=\"163,-3193.5 163,-3215.5 243,-3215.5 243,-3193.5 163,-3193.5\"/>\n<text text-anchor=\"start\" x=\"167.75\" y=\"-3201\" font-family=\"Linux libertine\" font-size=\"10.00\">(1, 144, 56, 56) </text>\n<polygon fill=\"none\" stroke=\"black\" points=\"120,-3171.5 120,-3193.5 163,-3193.5 163,-3171.5 120,-3171.5\"/>\n<text text-anchor=\"start\" x=\"124.62\" y=\"-3179\" font-family=\"Linux libertine\" font-size=\"10.00\">output: </text>\n<polygon fill=\"none\" stroke=\"black\" points=\"163,-3171.5 163,-3193.5 243,-3193.5 243,-3171.5 163,-3171.5\"/>\n<text text-anchor=\"start\" x=\"167.75\" y=\"-3179\" font-family=\"Linux libertine\" font-size=\"10.00\">(1, 144, 28, 28) </text>\n</g>\n<!-- 21&#45;&gt;22 -->\n<g id=\"edge26\" class=\"edge\">\n<title>21&#45;&gt;22</title>\n<path fill=\"none\" stroke=\"black\" d=\"M154,-3251.6C154,-3243.99 154,-3235.2 154,-3226.84\"/>\n<polygon fill=\"black\" stroke=\"black\" points=\"157.5,-3226.97 154,-3216.97 150.5,-3226.97 157.5,-3226.97\"/>\n</g>\n<!-- 23 -->\n<g id=\"node24\" class=\"node\">\n<title>23</title>\n<polygon fill=\"#c1ffc1\" stroke=\"none\" points=\"253,-3135.5 75,-3135.5 75,-3091.5 253,-3091.5 253,-3135.5\"/>\n<polygon fill=\"none\" stroke=\"black\" points=\"75,-3091.5 75,-3135.5 130,-3135.5 130,-3091.5 75,-3091.5\"/>\n<text text-anchor=\"start\" x=\"80\" y=\"-3116\" font-family=\"Linux libertine\" font-size=\"10.00\">Sequential</text>\n<text text-anchor=\"start\" x=\"86\" y=\"-3104\" font-family=\"Linux libertine\" font-size=\"10.00\">depth:3</text>\n<polygon fill=\"none\" stroke=\"black\" points=\"130,-3113.5 130,-3135.5 173,-3135.5 173,-3113.5 130,-3113.5\"/>\n<text text-anchor=\"start\" x=\"139.12\" y=\"-3121\" font-family=\"Linux libertine\" font-size=\"10.00\">input:</text>\n<polygon fill=\"none\" stroke=\"black\" points=\"173,-3113.5 173,-3135.5 253,-3135.5 253,-3113.5 173,-3113.5\"/>\n<text text-anchor=\"start\" x=\"177.75\" y=\"-3121\" font-family=\"Linux libertine\" font-size=\"10.00\">(1, 144, 28, 28) </text>\n<polygon fill=\"none\" stroke=\"black\" points=\"130,-3091.5 130,-3113.5 173,-3113.5 173,-3091.5 130,-3091.5\"/>\n<text text-anchor=\"start\" x=\"134.62\" y=\"-3099\" font-family=\"Linux libertine\" font-size=\"10.00\">output: </text>\n<polygon fill=\"none\" stroke=\"black\" points=\"173,-3091.5 173,-3113.5 253,-3113.5 253,-3091.5 173,-3091.5\"/>\n<text text-anchor=\"start\" x=\"183\" y=\"-3099\" font-family=\"Linux libertine\" font-size=\"10.00\">(1, 144, 1, 1) </text>\n</g>\n<!-- 22&#45;&gt;23 -->\n<g id=\"edge27\" class=\"edge\">\n<title>22&#45;&gt;23</title>\n<path fill=\"none\" stroke=\"black\" d=\"M156.68,-3171.6C157.66,-3163.99 158.78,-3155.2 159.85,-3146.84\"/>\n<polygon fill=\"black\" stroke=\"black\" points=\"163.32,-3147.33 161.12,-3136.96 156.38,-3146.44 163.32,-3147.33\"/>\n</g>\n<!-- 24 -->\n<g id=\"node25\" class=\"node\">\n<title>24</title>\n<polygon fill=\"aliceblue\" stroke=\"none\" points=\"265.5,-3055.5 36.5,-3055.5 36.5,-3011.5 265.5,-3011.5 265.5,-3055.5\"/>\n<polygon fill=\"none\" stroke=\"black\" points=\"36.5,-3011.5 36.5,-3055.5 79.5,-3055.5 79.5,-3011.5 36.5,-3011.5\"/>\n<text text-anchor=\"start\" x=\"50.12\" y=\"-3036\" font-family=\"Linux libertine\" font-size=\"10.00\">mul</text>\n<text text-anchor=\"start\" x=\"41.5\" y=\"-3024\" font-family=\"Linux libertine\" font-size=\"10.00\">depth:3</text>\n<polygon fill=\"none\" stroke=\"black\" points=\"79.5,-3033.5 79.5,-3055.5 122.5,-3055.5 122.5,-3033.5 79.5,-3033.5\"/>\n<text text-anchor=\"start\" x=\"88.62\" y=\"-3041\" font-family=\"Linux libertine\" font-size=\"10.00\">input:</text>\n<polygon fill=\"none\" stroke=\"black\" points=\"122.5,-3033.5 122.5,-3055.5 265.5,-3055.5 265.5,-3033.5 122.5,-3033.5\"/>\n<text text-anchor=\"start\" x=\"127.25\" y=\"-3041\" font-family=\"Linux libertine\" font-size=\"10.00\">(1, 144, 28, 28), (1, 144, 1, 1) </text>\n<polygon fill=\"none\" stroke=\"black\" points=\"79.5,-3011.5 79.5,-3033.5 122.5,-3033.5 122.5,-3011.5 79.5,-3011.5\"/>\n<text text-anchor=\"start\" x=\"84.12\" y=\"-3019\" font-family=\"Linux libertine\" font-size=\"10.00\">output: </text>\n<polygon fill=\"none\" stroke=\"black\" points=\"122.5,-3011.5 122.5,-3033.5 265.5,-3033.5 265.5,-3011.5 122.5,-3011.5\"/>\n<text text-anchor=\"start\" x=\"158.75\" y=\"-3019\" font-family=\"Linux libertine\" font-size=\"10.00\">(1, 144, 28, 28) </text>\n</g>\n<!-- 22&#45;&gt;24 -->\n<g id=\"edge28\" class=\"edge\">\n<title>22&#45;&gt;24</title>\n<path fill=\"none\" stroke=\"black\" d=\"M103.63,-3171.53C88.81,-3162.71 74.35,-3150.85 66,-3135.5 56.66,-3118.32 56.8,-3108.75 66,-3091.5 72.4,-3079.5 82.58,-3069.58 93.7,-3061.56\"/>\n<polygon fill=\"black\" stroke=\"black\" points=\"95.53,-3064.55 101.94,-3056.11 91.66,-3058.71 95.53,-3064.55\"/>\n</g>\n<!-- 23&#45;&gt;24 -->\n<g id=\"edge29\" class=\"edge\">\n<title>23&#45;&gt;24</title>\n<path fill=\"none\" stroke=\"black\" d=\"M160.52,-3091.6C159.23,-3083.9 157.75,-3075 156.34,-3066.55\"/>\n<polygon fill=\"black\" stroke=\"black\" points=\"159.84,-3066.24 154.74,-3056.95 152.93,-3067.39 159.84,-3066.24\"/>\n</g>\n<!-- 25 -->\n<g id=\"node26\" class=\"node\">\n<title>25</title>\n<polygon fill=\"#c1ffc1\" stroke=\"none\" points=\"243,-2975.5 65,-2975.5 65,-2931.5 243,-2931.5 243,-2975.5\"/>\n<polygon fill=\"none\" stroke=\"black\" points=\"65,-2931.5 65,-2975.5 120,-2975.5 120,-2931.5 65,-2931.5\"/>\n<text text-anchor=\"start\" x=\"70\" y=\"-2956\" font-family=\"Linux libertine\" font-size=\"10.00\">Sequential</text>\n<text text-anchor=\"start\" x=\"76\" y=\"-2944\" font-family=\"Linux libertine\" font-size=\"10.00\">depth:3</text>\n<polygon fill=\"none\" stroke=\"black\" points=\"120,-2953.5 120,-2975.5 163,-2975.5 163,-2953.5 120,-2953.5\"/>\n<text text-anchor=\"start\" x=\"129.12\" y=\"-2961\" font-family=\"Linux libertine\" font-size=\"10.00\">input:</text>\n<polygon fill=\"none\" stroke=\"black\" points=\"163,-2953.5 163,-2975.5 243,-2975.5 243,-2953.5 163,-2953.5\"/>\n<text text-anchor=\"start\" x=\"167.75\" y=\"-2961\" font-family=\"Linux libertine\" font-size=\"10.00\">(1, 144, 28, 28) </text>\n<polygon fill=\"none\" stroke=\"black\" points=\"120,-2931.5 120,-2953.5 163,-2953.5 163,-2931.5 120,-2931.5\"/>\n<text text-anchor=\"start\" x=\"124.62\" y=\"-2939\" font-family=\"Linux libertine\" font-size=\"10.00\">output: </text>\n<polygon fill=\"none\" stroke=\"black\" points=\"163,-2931.5 163,-2953.5 243,-2953.5 243,-2931.5 163,-2931.5\"/>\n<text text-anchor=\"start\" x=\"170.38\" y=\"-2939\" font-family=\"Linux libertine\" font-size=\"10.00\">(1, 40, 28, 28) </text>\n</g>\n<!-- 24&#45;&gt;25 -->\n<g id=\"edge30\" class=\"edge\">\n<title>24&#45;&gt;25</title>\n<path fill=\"none\" stroke=\"black\" d=\"M151.8,-3011.6C152.1,-3003.99 152.43,-2995.2 152.76,-2986.84\"/>\n<polygon fill=\"black\" stroke=\"black\" points=\"156.25,-2987.1 153.14,-2976.97 149.25,-2986.83 156.25,-2987.1\"/>\n</g>\n<!-- 26 -->\n<g id=\"node27\" class=\"node\">\n<title>26</title>\n<polygon fill=\"#c1ffc1\" stroke=\"none\" points=\"243,-2885.25 65,-2885.25 65,-2841.25 243,-2841.25 243,-2885.25\"/>\n<polygon fill=\"none\" stroke=\"black\" points=\"65,-2841.25 65,-2885.25 120,-2885.25 120,-2841.25 65,-2841.25\"/>\n<text text-anchor=\"start\" x=\"70\" y=\"-2865.75\" font-family=\"Linux libertine\" font-size=\"10.00\">Sequential</text>\n<text text-anchor=\"start\" x=\"76\" y=\"-2853.75\" font-family=\"Linux libertine\" font-size=\"10.00\">depth:3</text>\n<polygon fill=\"none\" stroke=\"black\" points=\"120,-2863.25 120,-2885.25 163,-2885.25 163,-2863.25 120,-2863.25\"/>\n<text text-anchor=\"start\" x=\"129.12\" y=\"-2870.75\" font-family=\"Linux libertine\" font-size=\"10.00\">input:</text>\n<polygon fill=\"none\" stroke=\"black\" points=\"163,-2863.25 163,-2885.25 243,-2885.25 243,-2863.25 163,-2863.25\"/>\n<text text-anchor=\"start\" x=\"170.38\" y=\"-2870.75\" font-family=\"Linux libertine\" font-size=\"10.00\">(1, 40, 28, 28) </text>\n<polygon fill=\"none\" stroke=\"black\" points=\"120,-2841.25 120,-2863.25 163,-2863.25 163,-2841.25 120,-2841.25\"/>\n<text text-anchor=\"start\" x=\"124.62\" y=\"-2848.75\" font-family=\"Linux libertine\" font-size=\"10.00\">output: </text>\n<polygon fill=\"none\" stroke=\"black\" points=\"163,-2841.25 163,-2863.25 243,-2863.25 243,-2841.25 163,-2841.25\"/>\n<text text-anchor=\"start\" x=\"167.75\" y=\"-2848.75\" font-family=\"Linux libertine\" font-size=\"10.00\">(1, 240, 28, 28) </text>\n</g>\n<!-- 25&#45;&gt;26 -->\n<g id=\"edge31\" class=\"edge\">\n<title>25&#45;&gt;26</title>\n<path fill=\"none\" stroke=\"black\" d=\"M154,-2931.59C154,-2921.04 154,-2908.01 154,-2896.23\"/>\n<polygon fill=\"black\" stroke=\"black\" points=\"157.5,-2896.53 154,-2886.53 150.5,-2896.53 157.5,-2896.53\"/>\n</g>\n<!-- 31 -->\n<g id=\"node32\" class=\"node\">\n<title>31</title>\n<polygon fill=\"aliceblue\" stroke=\"none\" points=\"242.5,-2485.25 65.5,-2485.25 65.5,-2441.25 242.5,-2441.25 242.5,-2485.25\"/>\n<polygon fill=\"none\" stroke=\"black\" points=\"65.5,-2441.25 65.5,-2485.25 108.5,-2485.25 108.5,-2441.25 65.5,-2441.25\"/>\n<text text-anchor=\"start\" x=\"76.5\" y=\"-2465.75\" font-family=\"Linux libertine\" font-size=\"10.00\">add_</text>\n<text text-anchor=\"start\" x=\"70.5\" y=\"-2453.75\" font-family=\"Linux libertine\" font-size=\"10.00\">depth:3</text>\n<polygon fill=\"none\" stroke=\"black\" points=\"108.5,-2463.25 108.5,-2485.25 151.5,-2485.25 151.5,-2463.25 108.5,-2463.25\"/>\n<text text-anchor=\"start\" x=\"117.62\" y=\"-2470.75\" font-family=\"Linux libertine\" font-size=\"10.00\">input:</text>\n<polygon fill=\"none\" stroke=\"black\" points=\"151.5,-2463.25 151.5,-2485.25 242.5,-2485.25 242.5,-2463.25 151.5,-2463.25\"/>\n<text text-anchor=\"start\" x=\"156.5\" y=\"-2470.75\" font-family=\"Linux libertine\" font-size=\"10.00\">2 x (1, 40, 28, 28) </text>\n<polygon fill=\"none\" stroke=\"black\" points=\"108.5,-2441.25 108.5,-2463.25 151.5,-2463.25 151.5,-2441.25 108.5,-2441.25\"/>\n<text text-anchor=\"start\" x=\"113.12\" y=\"-2448.75\" font-family=\"Linux libertine\" font-size=\"10.00\">output: </text>\n<polygon fill=\"none\" stroke=\"black\" points=\"151.5,-2441.25 151.5,-2463.25 242.5,-2463.25 242.5,-2441.25 151.5,-2441.25\"/>\n<text text-anchor=\"start\" x=\"164.38\" y=\"-2448.75\" font-family=\"Linux libertine\" font-size=\"10.00\">(1, 40, 28, 28) </text>\n</g>\n<!-- 25&#45;&gt;31 -->\n<g id=\"edge32\" class=\"edge\">\n<title>25&#45;&gt;31</title>\n<path fill=\"none\" stroke=\"black\" d=\"M232.97,-2931.74C240.16,-2927.33 246.71,-2921.98 252,-2915.5 289.34,-2869.72 273,-2843.33 273,-2784.25 273,-2784.25 273,-2784.25 273,-2622.25 273,-2575.78 273.7,-2558.56 246,-2521.25 237.07,-2509.23 224.79,-2499.17 212.11,-2491.01\"/>\n<polygon fill=\"black\" stroke=\"black\" points=\"214.04,-2488.09 203.67,-2485.93 210.43,-2494.09 214.04,-2488.09\"/>\n</g>\n<!-- 27 -->\n<g id=\"node28\" class=\"node\">\n<title>27</title>\n<polygon fill=\"#c1ffc1\" stroke=\"none\" points=\"243,-2805.25 65,-2805.25 65,-2761.25 243,-2761.25 243,-2805.25\"/>\n<polygon fill=\"none\" stroke=\"black\" points=\"65,-2761.25 65,-2805.25 120,-2805.25 120,-2761.25 65,-2761.25\"/>\n<text text-anchor=\"start\" x=\"70\" y=\"-2785.75\" font-family=\"Linux libertine\" font-size=\"10.00\">Sequential</text>\n<text text-anchor=\"start\" x=\"76\" y=\"-2773.75\" font-family=\"Linux libertine\" font-size=\"10.00\">depth:3</text>\n<polygon fill=\"none\" stroke=\"black\" points=\"120,-2783.25 120,-2805.25 163,-2805.25 163,-2783.25 120,-2783.25\"/>\n<text text-anchor=\"start\" x=\"129.12\" y=\"-2790.75\" font-family=\"Linux libertine\" font-size=\"10.00\">input:</text>\n<polygon fill=\"none\" stroke=\"black\" points=\"163,-2783.25 163,-2805.25 243,-2805.25 243,-2783.25 163,-2783.25\"/>\n<text text-anchor=\"start\" x=\"167.75\" y=\"-2790.75\" font-family=\"Linux libertine\" font-size=\"10.00\">(1, 240, 28, 28) </text>\n<polygon fill=\"none\" stroke=\"black\" points=\"120,-2761.25 120,-2783.25 163,-2783.25 163,-2761.25 120,-2761.25\"/>\n<text text-anchor=\"start\" x=\"124.62\" y=\"-2768.75\" font-family=\"Linux libertine\" font-size=\"10.00\">output: </text>\n<polygon fill=\"none\" stroke=\"black\" points=\"163,-2761.25 163,-2783.25 243,-2783.25 243,-2761.25 163,-2761.25\"/>\n<text text-anchor=\"start\" x=\"167.75\" y=\"-2768.75\" font-family=\"Linux libertine\" font-size=\"10.00\">(1, 240, 28, 28) </text>\n</g>\n<!-- 26&#45;&gt;27 -->\n<g id=\"edge33\" class=\"edge\">\n<title>26&#45;&gt;27</title>\n<path fill=\"none\" stroke=\"black\" d=\"M154,-2841.35C154,-2833.74 154,-2824.95 154,-2816.59\"/>\n<polygon fill=\"black\" stroke=\"black\" points=\"157.5,-2816.72 154,-2806.72 150.5,-2816.72 157.5,-2816.72\"/>\n</g>\n<!-- 28 -->\n<g id=\"node29\" class=\"node\">\n<title>28</title>\n<polygon fill=\"#c1ffc1\" stroke=\"none\" points=\"247,-2725.25 69,-2725.25 69,-2681.25 247,-2681.25 247,-2725.25\"/>\n<polygon fill=\"none\" stroke=\"black\" points=\"69,-2681.25 69,-2725.25 124,-2725.25 124,-2681.25 69,-2681.25\"/>\n<text text-anchor=\"start\" x=\"74\" y=\"-2705.75\" font-family=\"Linux libertine\" font-size=\"10.00\">Sequential</text>\n<text text-anchor=\"start\" x=\"80\" y=\"-2693.75\" font-family=\"Linux libertine\" font-size=\"10.00\">depth:3</text>\n<polygon fill=\"none\" stroke=\"black\" points=\"124,-2703.25 124,-2725.25 167,-2725.25 167,-2703.25 124,-2703.25\"/>\n<text text-anchor=\"start\" x=\"133.12\" y=\"-2710.75\" font-family=\"Linux libertine\" font-size=\"10.00\">input:</text>\n<polygon fill=\"none\" stroke=\"black\" points=\"167,-2703.25 167,-2725.25 247,-2725.25 247,-2703.25 167,-2703.25\"/>\n<text text-anchor=\"start\" x=\"171.75\" y=\"-2710.75\" font-family=\"Linux libertine\" font-size=\"10.00\">(1, 240, 28, 28) </text>\n<polygon fill=\"none\" stroke=\"black\" points=\"124,-2681.25 124,-2703.25 167,-2703.25 167,-2681.25 124,-2681.25\"/>\n<text text-anchor=\"start\" x=\"128.62\" y=\"-2688.75\" font-family=\"Linux libertine\" font-size=\"10.00\">output: </text>\n<polygon fill=\"none\" stroke=\"black\" points=\"167,-2681.25 167,-2703.25 247,-2703.25 247,-2681.25 167,-2681.25\"/>\n<text text-anchor=\"start\" x=\"177\" y=\"-2688.75\" font-family=\"Linux libertine\" font-size=\"10.00\">(1, 240, 1, 1) </text>\n</g>\n<!-- 27&#45;&gt;28 -->\n<g id=\"edge34\" class=\"edge\">\n<title>27&#45;&gt;28</title>\n<path fill=\"none\" stroke=\"black\" d=\"M155.07,-2761.35C155.46,-2753.74 155.91,-2744.95 156.34,-2736.59\"/>\n<polygon fill=\"black\" stroke=\"black\" points=\"159.83,-2736.89 156.85,-2726.72 152.84,-2736.53 159.83,-2736.89\"/>\n</g>\n<!-- 29 -->\n<g id=\"node30\" class=\"node\">\n<title>29</title>\n<polygon fill=\"aliceblue\" stroke=\"none\" points=\"253.5,-2645.25 24.5,-2645.25 24.5,-2601.25 253.5,-2601.25 253.5,-2645.25\"/>\n<polygon fill=\"none\" stroke=\"black\" points=\"24.5,-2601.25 24.5,-2645.25 67.5,-2645.25 67.5,-2601.25 24.5,-2601.25\"/>\n<text text-anchor=\"start\" x=\"38.12\" y=\"-2625.75\" font-family=\"Linux libertine\" font-size=\"10.00\">mul</text>\n<text text-anchor=\"start\" x=\"29.5\" y=\"-2613.75\" font-family=\"Linux libertine\" font-size=\"10.00\">depth:3</text>\n<polygon fill=\"none\" stroke=\"black\" points=\"67.5,-2623.25 67.5,-2645.25 110.5,-2645.25 110.5,-2623.25 67.5,-2623.25\"/>\n<text text-anchor=\"start\" x=\"76.62\" y=\"-2630.75\" font-family=\"Linux libertine\" font-size=\"10.00\">input:</text>\n<polygon fill=\"none\" stroke=\"black\" points=\"110.5,-2623.25 110.5,-2645.25 253.5,-2645.25 253.5,-2623.25 110.5,-2623.25\"/>\n<text text-anchor=\"start\" x=\"115.25\" y=\"-2630.75\" font-family=\"Linux libertine\" font-size=\"10.00\">(1, 240, 28, 28), (1, 240, 1, 1) </text>\n<polygon fill=\"none\" stroke=\"black\" points=\"67.5,-2601.25 67.5,-2623.25 110.5,-2623.25 110.5,-2601.25 67.5,-2601.25\"/>\n<text text-anchor=\"start\" x=\"72.12\" y=\"-2608.75\" font-family=\"Linux libertine\" font-size=\"10.00\">output: </text>\n<polygon fill=\"none\" stroke=\"black\" points=\"110.5,-2601.25 110.5,-2623.25 253.5,-2623.25 253.5,-2601.25 110.5,-2601.25\"/>\n<text text-anchor=\"start\" x=\"146.75\" y=\"-2608.75\" font-family=\"Linux libertine\" font-size=\"10.00\">(1, 240, 28, 28) </text>\n</g>\n<!-- 27&#45;&gt;29 -->\n<g id=\"edge35\" class=\"edge\">\n<title>27&#45;&gt;29</title>\n<path fill=\"none\" stroke=\"black\" d=\"M99.29,-2761.44C83.81,-2752.72 68.8,-2740.88 60,-2725.25 50.4,-2708.21 51.09,-2698.66 60,-2681.25 65.96,-2669.6 75.53,-2659.79 85.98,-2651.77\"/>\n<polygon fill=\"black\" stroke=\"black\" points=\"87.93,-2654.67 94.09,-2646.05 83.9,-2648.95 87.93,-2654.67\"/>\n</g>\n<!-- 28&#45;&gt;29 -->\n<g id=\"edge36\" class=\"edge\">\n<title>28&#45;&gt;29</title>\n<path fill=\"none\" stroke=\"black\" d=\"M152.91,-2681.35C151.03,-2673.65 148.87,-2664.75 146.81,-2656.3\"/>\n<polygon fill=\"black\" stroke=\"black\" points=\"150.23,-2655.57 144.46,-2646.68 143.43,-2657.23 150.23,-2655.57\"/>\n</g>\n<!-- 30 -->\n<g id=\"node31\" class=\"node\">\n<title>30</title>\n<polygon fill=\"#c1ffc1\" stroke=\"none\" points=\"237,-2565.25 59,-2565.25 59,-2521.25 237,-2521.25 237,-2565.25\"/>\n<polygon fill=\"none\" stroke=\"black\" points=\"59,-2521.25 59,-2565.25 114,-2565.25 114,-2521.25 59,-2521.25\"/>\n<text text-anchor=\"start\" x=\"64\" y=\"-2545.75\" font-family=\"Linux libertine\" font-size=\"10.00\">Sequential</text>\n<text text-anchor=\"start\" x=\"70\" y=\"-2533.75\" font-family=\"Linux libertine\" font-size=\"10.00\">depth:3</text>\n<polygon fill=\"none\" stroke=\"black\" points=\"114,-2543.25 114,-2565.25 157,-2565.25 157,-2543.25 114,-2543.25\"/>\n<text text-anchor=\"start\" x=\"123.12\" y=\"-2550.75\" font-family=\"Linux libertine\" font-size=\"10.00\">input:</text>\n<polygon fill=\"none\" stroke=\"black\" points=\"157,-2543.25 157,-2565.25 237,-2565.25 237,-2543.25 157,-2543.25\"/>\n<text text-anchor=\"start\" x=\"161.75\" y=\"-2550.75\" font-family=\"Linux libertine\" font-size=\"10.00\">(1, 240, 28, 28) </text>\n<polygon fill=\"none\" stroke=\"black\" points=\"114,-2521.25 114,-2543.25 157,-2543.25 157,-2521.25 114,-2521.25\"/>\n<text text-anchor=\"start\" x=\"118.62\" y=\"-2528.75\" font-family=\"Linux libertine\" font-size=\"10.00\">output: </text>\n<polygon fill=\"none\" stroke=\"black\" points=\"157,-2521.25 157,-2543.25 237,-2543.25 237,-2521.25 157,-2521.25\"/>\n<text text-anchor=\"start\" x=\"164.38\" y=\"-2528.75\" font-family=\"Linux libertine\" font-size=\"10.00\">(1, 40, 28, 28) </text>\n</g>\n<!-- 29&#45;&gt;30 -->\n<g id=\"edge37\" class=\"edge\">\n<title>29&#45;&gt;30</title>\n<path fill=\"none\" stroke=\"black\" d=\"M141.41,-2601.35C142.29,-2593.74 143.3,-2584.95 144.27,-2576.59\"/>\n<polygon fill=\"black\" stroke=\"black\" points=\"147.74,-2577.05 145.41,-2566.71 140.78,-2576.25 147.74,-2577.05\"/>\n</g>\n<!-- 30&#45;&gt;31 -->\n<g id=\"edge38\" class=\"edge\">\n<title>30&#45;&gt;31</title>\n<path fill=\"none\" stroke=\"black\" d=\"M149.61,-2521.35C150.19,-2513.74 150.87,-2504.95 151.51,-2496.59\"/>\n<polygon fill=\"black\" stroke=\"black\" points=\"154.99,-2496.96 152.27,-2486.72 148.01,-2496.42 154.99,-2496.96\"/>\n</g>\n<!-- 32 -->\n<g id=\"node33\" class=\"node\">\n<title>32</title>\n<polygon fill=\"#c1ffc1\" stroke=\"none\" points=\"234.5,-2405.25 73.5,-2405.25 73.5,-2361.25 234.5,-2361.25 234.5,-2405.25\"/>\n<polygon fill=\"none\" stroke=\"black\" points=\"73.5,-2361.25 73.5,-2405.25 116.5,-2405.25 116.5,-2361.25 73.5,-2361.25\"/>\n<text text-anchor=\"start\" x=\"78.12\" y=\"-2385.75\" font-family=\"Linux libertine\" font-size=\"10.00\">Dropout</text>\n<text text-anchor=\"start\" x=\"78.5\" y=\"-2373.75\" font-family=\"Linux libertine\" font-size=\"10.00\">depth:3</text>\n<polygon fill=\"none\" stroke=\"black\" points=\"116.5,-2383.25 116.5,-2405.25 159.5,-2405.25 159.5,-2383.25 116.5,-2383.25\"/>\n<text text-anchor=\"start\" x=\"125.62\" y=\"-2390.75\" font-family=\"Linux libertine\" font-size=\"10.00\">input:</text>\n<polygon fill=\"none\" stroke=\"black\" points=\"159.5,-2383.25 159.5,-2405.25 234.5,-2405.25 234.5,-2383.25 159.5,-2383.25\"/>\n<text text-anchor=\"start\" x=\"164.38\" y=\"-2390.75\" font-family=\"Linux libertine\" font-size=\"10.00\">(1, 40, 28, 28) </text>\n<polygon fill=\"none\" stroke=\"black\" points=\"116.5,-2361.25 116.5,-2383.25 159.5,-2383.25 159.5,-2361.25 116.5,-2361.25\"/>\n<text text-anchor=\"start\" x=\"121.12\" y=\"-2368.75\" font-family=\"Linux libertine\" font-size=\"10.00\">output: </text>\n<polygon fill=\"none\" stroke=\"black\" points=\"159.5,-2361.25 159.5,-2383.25 234.5,-2383.25 234.5,-2361.25 159.5,-2361.25\"/>\n<text text-anchor=\"start\" x=\"164.38\" y=\"-2368.75\" font-family=\"Linux libertine\" font-size=\"10.00\">(1, 40, 28, 28) </text>\n</g>\n<!-- 31&#45;&gt;32 -->\n<g id=\"edge39\" class=\"edge\">\n<title>31&#45;&gt;32</title>\n<path fill=\"none\" stroke=\"black\" d=\"M154,-2441.35C154,-2433.74 154,-2424.95 154,-2416.59\"/>\n<polygon fill=\"black\" stroke=\"black\" points=\"157.5,-2416.72 154,-2406.72 150.5,-2416.72 157.5,-2416.72\"/>\n</g>\n<!-- 33 -->\n<g id=\"node34\" class=\"node\">\n<title>33</title>\n<polygon fill=\"#c1ffc1\" stroke=\"none\" points=\"243,-2315 65,-2315 65,-2271 243,-2271 243,-2315\"/>\n<polygon fill=\"none\" stroke=\"black\" points=\"65,-2271 65,-2315 120,-2315 120,-2271 65,-2271\"/>\n<text text-anchor=\"start\" x=\"70\" y=\"-2295.5\" font-family=\"Linux libertine\" font-size=\"10.00\">Sequential</text>\n<text text-anchor=\"start\" x=\"76\" y=\"-2283.5\" font-family=\"Linux libertine\" font-size=\"10.00\">depth:3</text>\n<polygon fill=\"none\" stroke=\"black\" points=\"120,-2293 120,-2315 163,-2315 163,-2293 120,-2293\"/>\n<text text-anchor=\"start\" x=\"129.12\" y=\"-2300.5\" font-family=\"Linux libertine\" font-size=\"10.00\">input:</text>\n<polygon fill=\"none\" stroke=\"black\" points=\"163,-2293 163,-2315 243,-2315 243,-2293 163,-2293\"/>\n<text text-anchor=\"start\" x=\"170.38\" y=\"-2300.5\" font-family=\"Linux libertine\" font-size=\"10.00\">(1, 40, 28, 28) </text>\n<polygon fill=\"none\" stroke=\"black\" points=\"120,-2271 120,-2293 163,-2293 163,-2271 120,-2271\"/>\n<text text-anchor=\"start\" x=\"124.62\" y=\"-2278.5\" font-family=\"Linux libertine\" font-size=\"10.00\">output: </text>\n<polygon fill=\"none\" stroke=\"black\" points=\"163,-2271 163,-2293 243,-2293 243,-2271 163,-2271\"/>\n<text text-anchor=\"start\" x=\"167.75\" y=\"-2278.5\" font-family=\"Linux libertine\" font-size=\"10.00\">(1, 240, 28, 28) </text>\n</g>\n<!-- 32&#45;&gt;33 -->\n<g id=\"edge40\" class=\"edge\">\n<title>32&#45;&gt;33</title>\n<path fill=\"none\" stroke=\"black\" d=\"M154,-2361.34C154,-2350.79 154,-2337.76 154,-2325.98\"/>\n<polygon fill=\"black\" stroke=\"black\" points=\"157.5,-2326.28 154,-2316.28 150.5,-2326.28 157.5,-2326.28\"/>\n</g>\n<!-- 34 -->\n<g id=\"node35\" class=\"node\">\n<title>34</title>\n<polygon fill=\"#c1ffc1\" stroke=\"none\" points=\"243,-2235 65,-2235 65,-2191 243,-2191 243,-2235\"/>\n<polygon fill=\"none\" stroke=\"black\" points=\"65,-2191 65,-2235 120,-2235 120,-2191 65,-2191\"/>\n<text text-anchor=\"start\" x=\"70\" y=\"-2215.5\" font-family=\"Linux libertine\" font-size=\"10.00\">Sequential</text>\n<text text-anchor=\"start\" x=\"76\" y=\"-2203.5\" font-family=\"Linux libertine\" font-size=\"10.00\">depth:3</text>\n<polygon fill=\"none\" stroke=\"black\" points=\"120,-2213 120,-2235 163,-2235 163,-2213 120,-2213\"/>\n<text text-anchor=\"start\" x=\"129.12\" y=\"-2220.5\" font-family=\"Linux libertine\" font-size=\"10.00\">input:</text>\n<polygon fill=\"none\" stroke=\"black\" points=\"163,-2213 163,-2235 243,-2235 243,-2213 163,-2213\"/>\n<text text-anchor=\"start\" x=\"167.75\" y=\"-2220.5\" font-family=\"Linux libertine\" font-size=\"10.00\">(1, 240, 28, 28) </text>\n<polygon fill=\"none\" stroke=\"black\" points=\"120,-2191 120,-2213 163,-2213 163,-2191 120,-2191\"/>\n<text text-anchor=\"start\" x=\"124.62\" y=\"-2198.5\" font-family=\"Linux libertine\" font-size=\"10.00\">output: </text>\n<polygon fill=\"none\" stroke=\"black\" points=\"163,-2191 163,-2213 243,-2213 243,-2191 163,-2191\"/>\n<text text-anchor=\"start\" x=\"167.75\" y=\"-2198.5\" font-family=\"Linux libertine\" font-size=\"10.00\">(1, 240, 14, 14) </text>\n</g>\n<!-- 33&#45;&gt;34 -->\n<g id=\"edge41\" class=\"edge\">\n<title>33&#45;&gt;34</title>\n<path fill=\"none\" stroke=\"black\" d=\"M154,-2271.1C154,-2263.49 154,-2254.7 154,-2246.34\"/>\n<polygon fill=\"black\" stroke=\"black\" points=\"157.5,-2246.47 154,-2236.47 150.5,-2246.47 157.5,-2246.47\"/>\n</g>\n<!-- 35 -->\n<g id=\"node36\" class=\"node\">\n<title>35</title>\n<polygon fill=\"#c1ffc1\" stroke=\"none\" points=\"253,-2155 75,-2155 75,-2111 253,-2111 253,-2155\"/>\n<polygon fill=\"none\" stroke=\"black\" points=\"75,-2111 75,-2155 130,-2155 130,-2111 75,-2111\"/>\n<text text-anchor=\"start\" x=\"80\" y=\"-2135.5\" font-family=\"Linux libertine\" font-size=\"10.00\">Sequential</text>\n<text text-anchor=\"start\" x=\"86\" y=\"-2123.5\" font-family=\"Linux libertine\" font-size=\"10.00\">depth:3</text>\n<polygon fill=\"none\" stroke=\"black\" points=\"130,-2133 130,-2155 173,-2155 173,-2133 130,-2133\"/>\n<text text-anchor=\"start\" x=\"139.12\" y=\"-2140.5\" font-family=\"Linux libertine\" font-size=\"10.00\">input:</text>\n<polygon fill=\"none\" stroke=\"black\" points=\"173,-2133 173,-2155 253,-2155 253,-2133 173,-2133\"/>\n<text text-anchor=\"start\" x=\"177.75\" y=\"-2140.5\" font-family=\"Linux libertine\" font-size=\"10.00\">(1, 240, 14, 14) </text>\n<polygon fill=\"none\" stroke=\"black\" points=\"130,-2111 130,-2133 173,-2133 173,-2111 130,-2111\"/>\n<text text-anchor=\"start\" x=\"134.62\" y=\"-2118.5\" font-family=\"Linux libertine\" font-size=\"10.00\">output: </text>\n<polygon fill=\"none\" stroke=\"black\" points=\"173,-2111 173,-2133 253,-2133 253,-2111 173,-2111\"/>\n<text text-anchor=\"start\" x=\"183\" y=\"-2118.5\" font-family=\"Linux libertine\" font-size=\"10.00\">(1, 240, 1, 1) </text>\n</g>\n<!-- 34&#45;&gt;35 -->\n<g id=\"edge42\" class=\"edge\">\n<title>34&#45;&gt;35</title>\n<path fill=\"none\" stroke=\"black\" d=\"M156.68,-2191.1C157.66,-2183.49 158.78,-2174.7 159.85,-2166.34\"/>\n<polygon fill=\"black\" stroke=\"black\" points=\"163.32,-2166.83 161.12,-2156.46 156.38,-2165.94 163.32,-2166.83\"/>\n</g>\n<!-- 36 -->\n<g id=\"node37\" class=\"node\">\n<title>36</title>\n<polygon fill=\"aliceblue\" stroke=\"none\" points=\"265.5,-2075 36.5,-2075 36.5,-2031 265.5,-2031 265.5,-2075\"/>\n<polygon fill=\"none\" stroke=\"black\" points=\"36.5,-2031 36.5,-2075 79.5,-2075 79.5,-2031 36.5,-2031\"/>\n<text text-anchor=\"start\" x=\"50.12\" y=\"-2055.5\" font-family=\"Linux libertine\" font-size=\"10.00\">mul</text>\n<text text-anchor=\"start\" x=\"41.5\" y=\"-2043.5\" font-family=\"Linux libertine\" font-size=\"10.00\">depth:3</text>\n<polygon fill=\"none\" stroke=\"black\" points=\"79.5,-2053 79.5,-2075 122.5,-2075 122.5,-2053 79.5,-2053\"/>\n<text text-anchor=\"start\" x=\"88.62\" y=\"-2060.5\" font-family=\"Linux libertine\" font-size=\"10.00\">input:</text>\n<polygon fill=\"none\" stroke=\"black\" points=\"122.5,-2053 122.5,-2075 265.5,-2075 265.5,-2053 122.5,-2053\"/>\n<text text-anchor=\"start\" x=\"127.25\" y=\"-2060.5\" font-family=\"Linux libertine\" font-size=\"10.00\">(1, 240, 14, 14), (1, 240, 1, 1) </text>\n<polygon fill=\"none\" stroke=\"black\" points=\"79.5,-2031 79.5,-2053 122.5,-2053 122.5,-2031 79.5,-2031\"/>\n<text text-anchor=\"start\" x=\"84.12\" y=\"-2038.5\" font-family=\"Linux libertine\" font-size=\"10.00\">output: </text>\n<polygon fill=\"none\" stroke=\"black\" points=\"122.5,-2031 122.5,-2053 265.5,-2053 265.5,-2031 122.5,-2031\"/>\n<text text-anchor=\"start\" x=\"158.75\" y=\"-2038.5\" font-family=\"Linux libertine\" font-size=\"10.00\">(1, 240, 14, 14) </text>\n</g>\n<!-- 34&#45;&gt;36 -->\n<g id=\"edge43\" class=\"edge\">\n<title>34&#45;&gt;36</title>\n<path fill=\"none\" stroke=\"black\" d=\"M103.63,-2191.03C88.81,-2182.21 74.35,-2170.35 66,-2155 56.66,-2137.82 56.8,-2128.25 66,-2111 72.4,-2099 82.58,-2089.08 93.7,-2081.06\"/>\n<polygon fill=\"black\" stroke=\"black\" points=\"95.53,-2084.05 101.94,-2075.61 91.66,-2078.21 95.53,-2084.05\"/>\n</g>\n<!-- 35&#45;&gt;36 -->\n<g id=\"edge44\" class=\"edge\">\n<title>35&#45;&gt;36</title>\n<path fill=\"none\" stroke=\"black\" d=\"M160.52,-2111.1C159.23,-2103.4 157.75,-2094.5 156.34,-2086.05\"/>\n<polygon fill=\"black\" stroke=\"black\" points=\"159.84,-2085.74 154.74,-2076.45 152.93,-2086.89 159.84,-2085.74\"/>\n</g>\n<!-- 37 -->\n<g id=\"node38\" class=\"node\">\n<title>37</title>\n<polygon fill=\"#c1ffc1\" stroke=\"none\" points=\"254,-1995 76,-1995 76,-1951 254,-1951 254,-1995\"/>\n<polygon fill=\"none\" stroke=\"black\" points=\"76,-1951 76,-1995 131,-1995 131,-1951 76,-1951\"/>\n<text text-anchor=\"start\" x=\"81\" y=\"-1975.5\" font-family=\"Linux libertine\" font-size=\"10.00\">Sequential</text>\n<text text-anchor=\"start\" x=\"87\" y=\"-1963.5\" font-family=\"Linux libertine\" font-size=\"10.00\">depth:3</text>\n<polygon fill=\"none\" stroke=\"black\" points=\"131,-1973 131,-1995 174,-1995 174,-1973 131,-1973\"/>\n<text text-anchor=\"start\" x=\"140.12\" y=\"-1980.5\" font-family=\"Linux libertine\" font-size=\"10.00\">input:</text>\n<polygon fill=\"none\" stroke=\"black\" points=\"174,-1973 174,-1995 254,-1995 254,-1973 174,-1973\"/>\n<text text-anchor=\"start\" x=\"178.75\" y=\"-1980.5\" font-family=\"Linux libertine\" font-size=\"10.00\">(1, 240, 14, 14) </text>\n<polygon fill=\"none\" stroke=\"black\" points=\"131,-1951 131,-1973 174,-1973 174,-1951 131,-1951\"/>\n<text text-anchor=\"start\" x=\"135.62\" y=\"-1958.5\" font-family=\"Linux libertine\" font-size=\"10.00\">output: </text>\n<polygon fill=\"none\" stroke=\"black\" points=\"174,-1951 174,-1973 254,-1973 254,-1951 174,-1951\"/>\n<text text-anchor=\"start\" x=\"181.38\" y=\"-1958.5\" font-family=\"Linux libertine\" font-size=\"10.00\">(1, 80, 14, 14) </text>\n</g>\n<!-- 36&#45;&gt;37 -->\n<g id=\"edge45\" class=\"edge\">\n<title>36&#45;&gt;37</title>\n<path fill=\"none\" stroke=\"black\" d=\"M154.75,-2031.1C156.13,-2023.4 157.73,-2014.5 159.25,-2006.05\"/>\n<polygon fill=\"black\" stroke=\"black\" points=\"162.65,-2006.91 160.97,-1996.45 155.76,-2005.67 162.65,-2006.91\"/>\n</g>\n<!-- 38 -->\n<g id=\"node39\" class=\"node\">\n<title>38</title>\n<polygon fill=\"#c1ffc1\" stroke=\"none\" points=\"254,-1904.75 76,-1904.75 76,-1860.75 254,-1860.75 254,-1904.75\"/>\n<polygon fill=\"none\" stroke=\"black\" points=\"76,-1860.75 76,-1904.75 131,-1904.75 131,-1860.75 76,-1860.75\"/>\n<text text-anchor=\"start\" x=\"81\" y=\"-1885.25\" font-family=\"Linux libertine\" font-size=\"10.00\">Sequential</text>\n<text text-anchor=\"start\" x=\"87\" y=\"-1873.25\" font-family=\"Linux libertine\" font-size=\"10.00\">depth:3</text>\n<polygon fill=\"none\" stroke=\"black\" points=\"131,-1882.75 131,-1904.75 174,-1904.75 174,-1882.75 131,-1882.75\"/>\n<text text-anchor=\"start\" x=\"140.12\" y=\"-1890.25\" font-family=\"Linux libertine\" font-size=\"10.00\">input:</text>\n<polygon fill=\"none\" stroke=\"black\" points=\"174,-1882.75 174,-1904.75 254,-1904.75 254,-1882.75 174,-1882.75\"/>\n<text text-anchor=\"start\" x=\"181.38\" y=\"-1890.25\" font-family=\"Linux libertine\" font-size=\"10.00\">(1, 80, 14, 14) </text>\n<polygon fill=\"none\" stroke=\"black\" points=\"131,-1860.75 131,-1882.75 174,-1882.75 174,-1860.75 131,-1860.75\"/>\n<text text-anchor=\"start\" x=\"135.62\" y=\"-1868.25\" font-family=\"Linux libertine\" font-size=\"10.00\">output: </text>\n<polygon fill=\"none\" stroke=\"black\" points=\"174,-1860.75 174,-1882.75 254,-1882.75 254,-1860.75 174,-1860.75\"/>\n<text text-anchor=\"start\" x=\"178.75\" y=\"-1868.25\" font-family=\"Linux libertine\" font-size=\"10.00\">(1, 480, 14, 14) </text>\n</g>\n<!-- 37&#45;&gt;38 -->\n<g id=\"edge46\" class=\"edge\">\n<title>37&#45;&gt;38</title>\n<path fill=\"none\" stroke=\"black\" d=\"M165,-1951.09C165,-1940.54 165,-1927.51 165,-1915.73\"/>\n<polygon fill=\"black\" stroke=\"black\" points=\"168.5,-1916.03 165,-1906.03 161.5,-1916.03 168.5,-1916.03\"/>\n</g>\n<!-- 43 -->\n<g id=\"node44\" class=\"node\">\n<title>43</title>\n<polygon fill=\"aliceblue\" stroke=\"none\" points=\"253.5,-1504.75 76.5,-1504.75 76.5,-1460.75 253.5,-1460.75 253.5,-1504.75\"/>\n<polygon fill=\"none\" stroke=\"black\" points=\"76.5,-1460.75 76.5,-1504.75 119.5,-1504.75 119.5,-1460.75 76.5,-1460.75\"/>\n<text text-anchor=\"start\" x=\"87.5\" y=\"-1485.25\" font-family=\"Linux libertine\" font-size=\"10.00\">add_</text>\n<text text-anchor=\"start\" x=\"81.5\" y=\"-1473.25\" font-family=\"Linux libertine\" font-size=\"10.00\">depth:3</text>\n<polygon fill=\"none\" stroke=\"black\" points=\"119.5,-1482.75 119.5,-1504.75 162.5,-1504.75 162.5,-1482.75 119.5,-1482.75\"/>\n<text text-anchor=\"start\" x=\"128.62\" y=\"-1490.25\" font-family=\"Linux libertine\" font-size=\"10.00\">input:</text>\n<polygon fill=\"none\" stroke=\"black\" points=\"162.5,-1482.75 162.5,-1504.75 253.5,-1504.75 253.5,-1482.75 162.5,-1482.75\"/>\n<text text-anchor=\"start\" x=\"167.5\" y=\"-1490.25\" font-family=\"Linux libertine\" font-size=\"10.00\">2 x (1, 80, 14, 14) </text>\n<polygon fill=\"none\" stroke=\"black\" points=\"119.5,-1460.75 119.5,-1482.75 162.5,-1482.75 162.5,-1460.75 119.5,-1460.75\"/>\n<text text-anchor=\"start\" x=\"124.12\" y=\"-1468.25\" font-family=\"Linux libertine\" font-size=\"10.00\">output: </text>\n<polygon fill=\"none\" stroke=\"black\" points=\"162.5,-1460.75 162.5,-1482.75 253.5,-1482.75 253.5,-1460.75 162.5,-1460.75\"/>\n<text text-anchor=\"start\" x=\"175.38\" y=\"-1468.25\" font-family=\"Linux libertine\" font-size=\"10.00\">(1, 80, 14, 14) </text>\n</g>\n<!-- 37&#45;&gt;43 -->\n<g id=\"edge47\" class=\"edge\">\n<title>37&#45;&gt;43</title>\n<path fill=\"none\" stroke=\"black\" d=\"M245.44,-1951.08C252.16,-1946.7 258.2,-1941.4 263,-1935 298.07,-1888.18 273,-1862.25 273,-1803.75 273,-1803.75 273,-1803.75 273,-1641.75 273,-1595.71 276.07,-1578.69 250,-1540.75 241.9,-1528.96 230.49,-1518.95 218.66,-1510.77\"/>\n<polygon fill=\"black\" stroke=\"black\" points=\"220.7,-1507.92 210.4,-1505.42 216.89,-1513.79 220.7,-1507.92\"/>\n</g>\n<!-- 39 -->\n<g id=\"node40\" class=\"node\">\n<title>39</title>\n<polygon fill=\"#c1ffc1\" stroke=\"none\" points=\"254,-1824.75 76,-1824.75 76,-1780.75 254,-1780.75 254,-1824.75\"/>\n<polygon fill=\"none\" stroke=\"black\" points=\"76,-1780.75 76,-1824.75 131,-1824.75 131,-1780.75 76,-1780.75\"/>\n<text text-anchor=\"start\" x=\"81\" y=\"-1805.25\" font-family=\"Linux libertine\" font-size=\"10.00\">Sequential</text>\n<text text-anchor=\"start\" x=\"87\" y=\"-1793.25\" font-family=\"Linux libertine\" font-size=\"10.00\">depth:3</text>\n<polygon fill=\"none\" stroke=\"black\" points=\"131,-1802.75 131,-1824.75 174,-1824.75 174,-1802.75 131,-1802.75\"/>\n<text text-anchor=\"start\" x=\"140.12\" y=\"-1810.25\" font-family=\"Linux libertine\" font-size=\"10.00\">input:</text>\n<polygon fill=\"none\" stroke=\"black\" points=\"174,-1802.75 174,-1824.75 254,-1824.75 254,-1802.75 174,-1802.75\"/>\n<text text-anchor=\"start\" x=\"178.75\" y=\"-1810.25\" font-family=\"Linux libertine\" font-size=\"10.00\">(1, 480, 14, 14) </text>\n<polygon fill=\"none\" stroke=\"black\" points=\"131,-1780.75 131,-1802.75 174,-1802.75 174,-1780.75 131,-1780.75\"/>\n<text text-anchor=\"start\" x=\"135.62\" y=\"-1788.25\" font-family=\"Linux libertine\" font-size=\"10.00\">output: </text>\n<polygon fill=\"none\" stroke=\"black\" points=\"174,-1780.75 174,-1802.75 254,-1802.75 254,-1780.75 174,-1780.75\"/>\n<text text-anchor=\"start\" x=\"178.75\" y=\"-1788.25\" font-family=\"Linux libertine\" font-size=\"10.00\">(1, 480, 14, 14) </text>\n</g>\n<!-- 38&#45;&gt;39 -->\n<g id=\"edge48\" class=\"edge\">\n<title>38&#45;&gt;39</title>\n<path fill=\"none\" stroke=\"black\" d=\"M165,-1860.85C165,-1853.24 165,-1844.45 165,-1836.09\"/>\n<polygon fill=\"black\" stroke=\"black\" points=\"168.5,-1836.22 165,-1826.22 161.5,-1836.22 168.5,-1836.22\"/>\n</g>\n<!-- 40 -->\n<g id=\"node41\" class=\"node\">\n<title>40</title>\n<polygon fill=\"#c1ffc1\" stroke=\"none\" points=\"254,-1744.75 76,-1744.75 76,-1700.75 254,-1700.75 254,-1744.75\"/>\n<polygon fill=\"none\" stroke=\"black\" points=\"76,-1700.75 76,-1744.75 131,-1744.75 131,-1700.75 76,-1700.75\"/>\n<text text-anchor=\"start\" x=\"81\" y=\"-1725.25\" font-family=\"Linux libertine\" font-size=\"10.00\">Sequential</text>\n<text text-anchor=\"start\" x=\"87\" y=\"-1713.25\" font-family=\"Linux libertine\" font-size=\"10.00\">depth:3</text>\n<polygon fill=\"none\" stroke=\"black\" points=\"131,-1722.75 131,-1744.75 174,-1744.75 174,-1722.75 131,-1722.75\"/>\n<text text-anchor=\"start\" x=\"140.12\" y=\"-1730.25\" font-family=\"Linux libertine\" font-size=\"10.00\">input:</text>\n<polygon fill=\"none\" stroke=\"black\" points=\"174,-1722.75 174,-1744.75 254,-1744.75 254,-1722.75 174,-1722.75\"/>\n<text text-anchor=\"start\" x=\"178.75\" y=\"-1730.25\" font-family=\"Linux libertine\" font-size=\"10.00\">(1, 480, 14, 14) </text>\n<polygon fill=\"none\" stroke=\"black\" points=\"131,-1700.75 131,-1722.75 174,-1722.75 174,-1700.75 131,-1700.75\"/>\n<text text-anchor=\"start\" x=\"135.62\" y=\"-1708.25\" font-family=\"Linux libertine\" font-size=\"10.00\">output: </text>\n<polygon fill=\"none\" stroke=\"black\" points=\"174,-1700.75 174,-1722.75 254,-1722.75 254,-1700.75 174,-1700.75\"/>\n<text text-anchor=\"start\" x=\"184\" y=\"-1708.25\" font-family=\"Linux libertine\" font-size=\"10.00\">(1, 480, 1, 1) </text>\n</g>\n<!-- 39&#45;&gt;40 -->\n<g id=\"edge49\" class=\"edge\">\n<title>39&#45;&gt;40</title>\n<path fill=\"none\" stroke=\"black\" d=\"M165,-1780.85C165,-1773.24 165,-1764.45 165,-1756.09\"/>\n<polygon fill=\"black\" stroke=\"black\" points=\"168.5,-1756.22 165,-1746.22 161.5,-1756.22 168.5,-1756.22\"/>\n</g>\n<!-- 41 -->\n<g id=\"node42\" class=\"node\">\n<title>41</title>\n<polygon fill=\"aliceblue\" stroke=\"none\" points=\"253.5,-1664.75 24.5,-1664.75 24.5,-1620.75 253.5,-1620.75 253.5,-1664.75\"/>\n<polygon fill=\"none\" stroke=\"black\" points=\"24.5,-1620.75 24.5,-1664.75 67.5,-1664.75 67.5,-1620.75 24.5,-1620.75\"/>\n<text text-anchor=\"start\" x=\"38.12\" y=\"-1645.25\" font-family=\"Linux libertine\" font-size=\"10.00\">mul</text>\n<text text-anchor=\"start\" x=\"29.5\" y=\"-1633.25\" font-family=\"Linux libertine\" font-size=\"10.00\">depth:3</text>\n<polygon fill=\"none\" stroke=\"black\" points=\"67.5,-1642.75 67.5,-1664.75 110.5,-1664.75 110.5,-1642.75 67.5,-1642.75\"/>\n<text text-anchor=\"start\" x=\"76.62\" y=\"-1650.25\" font-family=\"Linux libertine\" font-size=\"10.00\">input:</text>\n<polygon fill=\"none\" stroke=\"black\" points=\"110.5,-1642.75 110.5,-1664.75 253.5,-1664.75 253.5,-1642.75 110.5,-1642.75\"/>\n<text text-anchor=\"start\" x=\"115.25\" y=\"-1650.25\" font-family=\"Linux libertine\" font-size=\"10.00\">(1, 480, 14, 14), (1, 480, 1, 1) </text>\n<polygon fill=\"none\" stroke=\"black\" points=\"67.5,-1620.75 67.5,-1642.75 110.5,-1642.75 110.5,-1620.75 67.5,-1620.75\"/>\n<text text-anchor=\"start\" x=\"72.12\" y=\"-1628.25\" font-family=\"Linux libertine\" font-size=\"10.00\">output: </text>\n<polygon fill=\"none\" stroke=\"black\" points=\"110.5,-1620.75 110.5,-1642.75 253.5,-1642.75 253.5,-1620.75 110.5,-1620.75\"/>\n<text text-anchor=\"start\" x=\"146.75\" y=\"-1628.25\" font-family=\"Linux libertine\" font-size=\"10.00\">(1, 480, 14, 14) </text>\n</g>\n<!-- 39&#45;&gt;41 -->\n<g id=\"edge50\" class=\"edge\">\n<title>39&#45;&gt;41</title>\n<path fill=\"none\" stroke=\"black\" d=\"M106.99,-1780.87C91.22,-1772.22 76.03,-1760.45 67,-1744.75 57.25,-1727.8 58.48,-1718.35 67,-1700.75 72.48,-1689.43 81.41,-1679.68 91.15,-1671.6\"/>\n<polygon fill=\"black\" stroke=\"black\" points=\"93.22,-1674.42 99.05,-1665.57 88.97,-1668.86 93.22,-1674.42\"/>\n</g>\n<!-- 40&#45;&gt;41 -->\n<g id=\"edge51\" class=\"edge\">\n<title>40&#45;&gt;41</title>\n<path fill=\"none\" stroke=\"black\" d=\"M158.03,-1700.85C155.44,-1693.07 152.43,-1684.05 149.59,-1675.51\"/>\n<polygon fill=\"black\" stroke=\"black\" points=\"152.95,-1674.53 146.47,-1666.15 146.31,-1676.74 152.95,-1674.53\"/>\n</g>\n<!-- 42 -->\n<g id=\"node43\" class=\"node\">\n<title>42</title>\n<polygon fill=\"#c1ffc1\" stroke=\"none\" points=\"241,-1584.75 63,-1584.75 63,-1540.75 241,-1540.75 241,-1584.75\"/>\n<polygon fill=\"none\" stroke=\"black\" points=\"63,-1540.75 63,-1584.75 118,-1584.75 118,-1540.75 63,-1540.75\"/>\n<text text-anchor=\"start\" x=\"68\" y=\"-1565.25\" font-family=\"Linux libertine\" font-size=\"10.00\">Sequential</text>\n<text text-anchor=\"start\" x=\"74\" y=\"-1553.25\" font-family=\"Linux libertine\" font-size=\"10.00\">depth:3</text>\n<polygon fill=\"none\" stroke=\"black\" points=\"118,-1562.75 118,-1584.75 161,-1584.75 161,-1562.75 118,-1562.75\"/>\n<text text-anchor=\"start\" x=\"127.12\" y=\"-1570.25\" font-family=\"Linux libertine\" font-size=\"10.00\">input:</text>\n<polygon fill=\"none\" stroke=\"black\" points=\"161,-1562.75 161,-1584.75 241,-1584.75 241,-1562.75 161,-1562.75\"/>\n<text text-anchor=\"start\" x=\"165.75\" y=\"-1570.25\" font-family=\"Linux libertine\" font-size=\"10.00\">(1, 480, 14, 14) </text>\n<polygon fill=\"none\" stroke=\"black\" points=\"118,-1540.75 118,-1562.75 161,-1562.75 161,-1540.75 118,-1540.75\"/>\n<text text-anchor=\"start\" x=\"122.62\" y=\"-1548.25\" font-family=\"Linux libertine\" font-size=\"10.00\">output: </text>\n<polygon fill=\"none\" stroke=\"black\" points=\"161,-1540.75 161,-1562.75 241,-1562.75 241,-1540.75 161,-1540.75\"/>\n<text text-anchor=\"start\" x=\"168.38\" y=\"-1548.25\" font-family=\"Linux libertine\" font-size=\"10.00\">(1, 80, 14, 14) </text>\n</g>\n<!-- 41&#45;&gt;42 -->\n<g id=\"edge52\" class=\"edge\">\n<title>41&#45;&gt;42</title>\n<path fill=\"none\" stroke=\"black\" d=\"M142.48,-1620.85C143.77,-1613.15 145.25,-1604.25 146.66,-1595.8\"/>\n<polygon fill=\"black\" stroke=\"black\" points=\"150.07,-1596.64 148.26,-1586.2 143.16,-1595.49 150.07,-1596.64\"/>\n</g>\n<!-- 42&#45;&gt;43 -->\n<g id=\"edge53\" class=\"edge\">\n<title>42&#45;&gt;43</title>\n<path fill=\"none\" stroke=\"black\" d=\"M155.48,-1540.85C156.77,-1533.15 158.25,-1524.25 159.66,-1515.8\"/>\n<polygon fill=\"black\" stroke=\"black\" points=\"163.07,-1516.64 161.26,-1506.2 156.16,-1515.49 163.07,-1516.64\"/>\n</g>\n<!-- 44 -->\n<g id=\"node45\" class=\"node\">\n<title>44</title>\n<polygon fill=\"#c1ffc1\" stroke=\"none\" points=\"245.5,-1424.75 84.5,-1424.75 84.5,-1380.75 245.5,-1380.75 245.5,-1424.75\"/>\n<polygon fill=\"none\" stroke=\"black\" points=\"84.5,-1380.75 84.5,-1424.75 127.5,-1424.75 127.5,-1380.75 84.5,-1380.75\"/>\n<text text-anchor=\"start\" x=\"89.12\" y=\"-1405.25\" font-family=\"Linux libertine\" font-size=\"10.00\">Dropout</text>\n<text text-anchor=\"start\" x=\"89.5\" y=\"-1393.25\" font-family=\"Linux libertine\" font-size=\"10.00\">depth:3</text>\n<polygon fill=\"none\" stroke=\"black\" points=\"127.5,-1402.75 127.5,-1424.75 170.5,-1424.75 170.5,-1402.75 127.5,-1402.75\"/>\n<text text-anchor=\"start\" x=\"136.62\" y=\"-1410.25\" font-family=\"Linux libertine\" font-size=\"10.00\">input:</text>\n<polygon fill=\"none\" stroke=\"black\" points=\"170.5,-1402.75 170.5,-1424.75 245.5,-1424.75 245.5,-1402.75 170.5,-1402.75\"/>\n<text text-anchor=\"start\" x=\"175.38\" y=\"-1410.25\" font-family=\"Linux libertine\" font-size=\"10.00\">(1, 80, 14, 14) </text>\n<polygon fill=\"none\" stroke=\"black\" points=\"127.5,-1380.75 127.5,-1402.75 170.5,-1402.75 170.5,-1380.75 127.5,-1380.75\"/>\n<text text-anchor=\"start\" x=\"132.12\" y=\"-1388.25\" font-family=\"Linux libertine\" font-size=\"10.00\">output: </text>\n<polygon fill=\"none\" stroke=\"black\" points=\"170.5,-1380.75 170.5,-1402.75 245.5,-1402.75 245.5,-1380.75 170.5,-1380.75\"/>\n<text text-anchor=\"start\" x=\"175.38\" y=\"-1388.25\" font-family=\"Linux libertine\" font-size=\"10.00\">(1, 80, 14, 14) </text>\n</g>\n<!-- 43&#45;&gt;44 -->\n<g id=\"edge54\" class=\"edge\">\n<title>43&#45;&gt;44</title>\n<path fill=\"none\" stroke=\"black\" d=\"M165,-1460.85C165,-1453.24 165,-1444.45 165,-1436.09\"/>\n<polygon fill=\"black\" stroke=\"black\" points=\"168.5,-1436.22 165,-1426.22 161.5,-1436.22 168.5,-1436.22\"/>\n</g>\n<!-- 45 -->\n<g id=\"node46\" class=\"node\">\n<title>45</title>\n<polygon fill=\"#c1ffc1\" stroke=\"none\" points=\"254,-1334.5 76,-1334.5 76,-1290.5 254,-1290.5 254,-1334.5\"/>\n<polygon fill=\"none\" stroke=\"black\" points=\"76,-1290.5 76,-1334.5 131,-1334.5 131,-1290.5 76,-1290.5\"/>\n<text text-anchor=\"start\" x=\"81\" y=\"-1315\" font-family=\"Linux libertine\" font-size=\"10.00\">Sequential</text>\n<text text-anchor=\"start\" x=\"87\" y=\"-1303\" font-family=\"Linux libertine\" font-size=\"10.00\">depth:3</text>\n<polygon fill=\"none\" stroke=\"black\" points=\"131,-1312.5 131,-1334.5 174,-1334.5 174,-1312.5 131,-1312.5\"/>\n<text text-anchor=\"start\" x=\"140.12\" y=\"-1320\" font-family=\"Linux libertine\" font-size=\"10.00\">input:</text>\n<polygon fill=\"none\" stroke=\"black\" points=\"174,-1312.5 174,-1334.5 254,-1334.5 254,-1312.5 174,-1312.5\"/>\n<text text-anchor=\"start\" x=\"181.38\" y=\"-1320\" font-family=\"Linux libertine\" font-size=\"10.00\">(1, 80, 14, 14) </text>\n<polygon fill=\"none\" stroke=\"black\" points=\"131,-1290.5 131,-1312.5 174,-1312.5 174,-1290.5 131,-1290.5\"/>\n<text text-anchor=\"start\" x=\"135.62\" y=\"-1298\" font-family=\"Linux libertine\" font-size=\"10.00\">output: </text>\n<polygon fill=\"none\" stroke=\"black\" points=\"174,-1290.5 174,-1312.5 254,-1312.5 254,-1290.5 174,-1290.5\"/>\n<text text-anchor=\"start\" x=\"178.75\" y=\"-1298\" font-family=\"Linux libertine\" font-size=\"10.00\">(1, 480, 14, 14) </text>\n</g>\n<!-- 44&#45;&gt;45 -->\n<g id=\"edge55\" class=\"edge\">\n<title>44&#45;&gt;45</title>\n<path fill=\"none\" stroke=\"black\" d=\"M165,-1380.84C165,-1370.29 165,-1357.26 165,-1345.48\"/>\n<polygon fill=\"black\" stroke=\"black\" points=\"168.5,-1345.78 165,-1335.78 161.5,-1345.78 168.5,-1345.78\"/>\n</g>\n<!-- 50 -->\n<g id=\"node51\" class=\"node\">\n<title>50</title>\n<polygon fill=\"aliceblue\" stroke=\"none\" points=\"246.5,-934.5 69.5,-934.5 69.5,-890.5 246.5,-890.5 246.5,-934.5\"/>\n<polygon fill=\"none\" stroke=\"black\" points=\"69.5,-890.5 69.5,-934.5 112.5,-934.5 112.5,-890.5 69.5,-890.5\"/>\n<text text-anchor=\"start\" x=\"80.5\" y=\"-915\" font-family=\"Linux libertine\" font-size=\"10.00\">add_</text>\n<text text-anchor=\"start\" x=\"74.5\" y=\"-903\" font-family=\"Linux libertine\" font-size=\"10.00\">depth:3</text>\n<polygon fill=\"none\" stroke=\"black\" points=\"112.5,-912.5 112.5,-934.5 155.5,-934.5 155.5,-912.5 112.5,-912.5\"/>\n<text text-anchor=\"start\" x=\"121.62\" y=\"-920\" font-family=\"Linux libertine\" font-size=\"10.00\">input:</text>\n<polygon fill=\"none\" stroke=\"black\" points=\"155.5,-912.5 155.5,-934.5 246.5,-934.5 246.5,-912.5 155.5,-912.5\"/>\n<text text-anchor=\"start\" x=\"160.5\" y=\"-920\" font-family=\"Linux libertine\" font-size=\"10.00\">2 x (1, 80, 14, 14) </text>\n<polygon fill=\"none\" stroke=\"black\" points=\"112.5,-890.5 112.5,-912.5 155.5,-912.5 155.5,-890.5 112.5,-890.5\"/>\n<text text-anchor=\"start\" x=\"117.12\" y=\"-898\" font-family=\"Linux libertine\" font-size=\"10.00\">output: </text>\n<polygon fill=\"none\" stroke=\"black\" points=\"155.5,-890.5 155.5,-912.5 246.5,-912.5 246.5,-890.5 155.5,-890.5\"/>\n<text text-anchor=\"start\" x=\"168.38\" y=\"-898\" font-family=\"Linux libertine\" font-size=\"10.00\">(1, 80, 14, 14) </text>\n</g>\n<!-- 44&#45;&gt;50 -->\n<g id=\"edge56\" class=\"edge\">\n<title>44&#45;&gt;50</title>\n<path fill=\"none\" stroke=\"black\" d=\"M245.44,-1380.83C252.16,-1376.45 258.2,-1371.15 263,-1364.75 298.07,-1317.93 273,-1292 273,-1233.5 273,-1233.5 273,-1233.5 273,-1071.5 273,-1024.67 270.75,-1008.22 243,-970.5 234.44,-958.87 222.75,-948.88 210.78,-940.66\"/>\n<polygon fill=\"black\" stroke=\"black\" points=\"212.74,-937.76 202.44,-935.27 208.94,-943.64 212.74,-937.76\"/>\n</g>\n<!-- 46 -->\n<g id=\"node47\" class=\"node\">\n<title>46</title>\n<polygon fill=\"#c1ffc1\" stroke=\"none\" points=\"254,-1254.5 76,-1254.5 76,-1210.5 254,-1210.5 254,-1254.5\"/>\n<polygon fill=\"none\" stroke=\"black\" points=\"76,-1210.5 76,-1254.5 131,-1254.5 131,-1210.5 76,-1210.5\"/>\n<text text-anchor=\"start\" x=\"81\" y=\"-1235\" font-family=\"Linux libertine\" font-size=\"10.00\">Sequential</text>\n<text text-anchor=\"start\" x=\"87\" y=\"-1223\" font-family=\"Linux libertine\" font-size=\"10.00\">depth:3</text>\n<polygon fill=\"none\" stroke=\"black\" points=\"131,-1232.5 131,-1254.5 174,-1254.5 174,-1232.5 131,-1232.5\"/>\n<text text-anchor=\"start\" x=\"140.12\" y=\"-1240\" font-family=\"Linux libertine\" font-size=\"10.00\">input:</text>\n<polygon fill=\"none\" stroke=\"black\" points=\"174,-1232.5 174,-1254.5 254,-1254.5 254,-1232.5 174,-1232.5\"/>\n<text text-anchor=\"start\" x=\"178.75\" y=\"-1240\" font-family=\"Linux libertine\" font-size=\"10.00\">(1, 480, 14, 14) </text>\n<polygon fill=\"none\" stroke=\"black\" points=\"131,-1210.5 131,-1232.5 174,-1232.5 174,-1210.5 131,-1210.5\"/>\n<text text-anchor=\"start\" x=\"135.62\" y=\"-1218\" font-family=\"Linux libertine\" font-size=\"10.00\">output: </text>\n<polygon fill=\"none\" stroke=\"black\" points=\"174,-1210.5 174,-1232.5 254,-1232.5 254,-1210.5 174,-1210.5\"/>\n<text text-anchor=\"start\" x=\"178.75\" y=\"-1218\" font-family=\"Linux libertine\" font-size=\"10.00\">(1, 480, 14, 14) </text>\n</g>\n<!-- 45&#45;&gt;46 -->\n<g id=\"edge57\" class=\"edge\">\n<title>45&#45;&gt;46</title>\n<path fill=\"none\" stroke=\"black\" d=\"M165,-1290.6C165,-1282.99 165,-1274.2 165,-1265.84\"/>\n<polygon fill=\"black\" stroke=\"black\" points=\"168.5,-1265.97 165,-1255.97 161.5,-1265.97 168.5,-1265.97\"/>\n</g>\n<!-- 47 -->\n<g id=\"node48\" class=\"node\">\n<title>47</title>\n<polygon fill=\"#c1ffc1\" stroke=\"none\" points=\"254,-1174.5 76,-1174.5 76,-1130.5 254,-1130.5 254,-1174.5\"/>\n<polygon fill=\"none\" stroke=\"black\" points=\"76,-1130.5 76,-1174.5 131,-1174.5 131,-1130.5 76,-1130.5\"/>\n<text text-anchor=\"start\" x=\"81\" y=\"-1155\" font-family=\"Linux libertine\" font-size=\"10.00\">Sequential</text>\n<text text-anchor=\"start\" x=\"87\" y=\"-1143\" font-family=\"Linux libertine\" font-size=\"10.00\">depth:3</text>\n<polygon fill=\"none\" stroke=\"black\" points=\"131,-1152.5 131,-1174.5 174,-1174.5 174,-1152.5 131,-1152.5\"/>\n<text text-anchor=\"start\" x=\"140.12\" y=\"-1160\" font-family=\"Linux libertine\" font-size=\"10.00\">input:</text>\n<polygon fill=\"none\" stroke=\"black\" points=\"174,-1152.5 174,-1174.5 254,-1174.5 254,-1152.5 174,-1152.5\"/>\n<text text-anchor=\"start\" x=\"178.75\" y=\"-1160\" font-family=\"Linux libertine\" font-size=\"10.00\">(1, 480, 14, 14) </text>\n<polygon fill=\"none\" stroke=\"black\" points=\"131,-1130.5 131,-1152.5 174,-1152.5 174,-1130.5 131,-1130.5\"/>\n<text text-anchor=\"start\" x=\"135.62\" y=\"-1138\" font-family=\"Linux libertine\" font-size=\"10.00\">output: </text>\n<polygon fill=\"none\" stroke=\"black\" points=\"174,-1130.5 174,-1152.5 254,-1152.5 254,-1130.5 174,-1130.5\"/>\n<text text-anchor=\"start\" x=\"184\" y=\"-1138\" font-family=\"Linux libertine\" font-size=\"10.00\">(1, 480, 1, 1) </text>\n</g>\n<!-- 46&#45;&gt;47 -->\n<g id=\"edge58\" class=\"edge\">\n<title>46&#45;&gt;47</title>\n<path fill=\"none\" stroke=\"black\" d=\"M165,-1210.6C165,-1202.99 165,-1194.2 165,-1185.84\"/>\n<polygon fill=\"black\" stroke=\"black\" points=\"168.5,-1185.97 165,-1175.97 161.5,-1185.97 168.5,-1185.97\"/>\n</g>\n<!-- 48 -->\n<g id=\"node49\" class=\"node\">\n<title>48</title>\n<polygon fill=\"aliceblue\" stroke=\"none\" points=\"253.5,-1094.5 24.5,-1094.5 24.5,-1050.5 253.5,-1050.5 253.5,-1094.5\"/>\n<polygon fill=\"none\" stroke=\"black\" points=\"24.5,-1050.5 24.5,-1094.5 67.5,-1094.5 67.5,-1050.5 24.5,-1050.5\"/>\n<text text-anchor=\"start\" x=\"38.12\" y=\"-1075\" font-family=\"Linux libertine\" font-size=\"10.00\">mul</text>\n<text text-anchor=\"start\" x=\"29.5\" y=\"-1063\" font-family=\"Linux libertine\" font-size=\"10.00\">depth:3</text>\n<polygon fill=\"none\" stroke=\"black\" points=\"67.5,-1072.5 67.5,-1094.5 110.5,-1094.5 110.5,-1072.5 67.5,-1072.5\"/>\n<text text-anchor=\"start\" x=\"76.62\" y=\"-1080\" font-family=\"Linux libertine\" font-size=\"10.00\">input:</text>\n<polygon fill=\"none\" stroke=\"black\" points=\"110.5,-1072.5 110.5,-1094.5 253.5,-1094.5 253.5,-1072.5 110.5,-1072.5\"/>\n<text text-anchor=\"start\" x=\"115.25\" y=\"-1080\" font-family=\"Linux libertine\" font-size=\"10.00\">(1, 480, 14, 14), (1, 480, 1, 1) </text>\n<polygon fill=\"none\" stroke=\"black\" points=\"67.5,-1050.5 67.5,-1072.5 110.5,-1072.5 110.5,-1050.5 67.5,-1050.5\"/>\n<text text-anchor=\"start\" x=\"72.12\" y=\"-1058\" font-family=\"Linux libertine\" font-size=\"10.00\">output: </text>\n<polygon fill=\"none\" stroke=\"black\" points=\"110.5,-1050.5 110.5,-1072.5 253.5,-1072.5 253.5,-1050.5 110.5,-1050.5\"/>\n<text text-anchor=\"start\" x=\"146.75\" y=\"-1058\" font-family=\"Linux libertine\" font-size=\"10.00\">(1, 480, 14, 14) </text>\n</g>\n<!-- 46&#45;&gt;48 -->\n<g id=\"edge59\" class=\"edge\">\n<title>46&#45;&gt;48</title>\n<path fill=\"none\" stroke=\"black\" d=\"M106.99,-1210.62C91.22,-1201.97 76.03,-1190.2 67,-1174.5 57.25,-1157.55 58.48,-1148.1 67,-1130.5 72.48,-1119.18 81.41,-1109.43 91.15,-1101.35\"/>\n<polygon fill=\"black\" stroke=\"black\" points=\"93.22,-1104.17 99.05,-1095.32 88.97,-1098.61 93.22,-1104.17\"/>\n</g>\n<!-- 47&#45;&gt;48 -->\n<g id=\"edge60\" class=\"edge\">\n<title>47&#45;&gt;48</title>\n<path fill=\"none\" stroke=\"black\" d=\"M158.03,-1130.6C155.44,-1122.82 152.43,-1113.8 149.59,-1105.26\"/>\n<polygon fill=\"black\" stroke=\"black\" points=\"152.95,-1104.28 146.47,-1095.9 146.31,-1106.49 152.95,-1104.28\"/>\n</g>\n<!-- 49 -->\n<g id=\"node50\" class=\"node\">\n<title>49</title>\n<polygon fill=\"#c1ffc1\" stroke=\"none\" points=\"234,-1014.5 56,-1014.5 56,-970.5 234,-970.5 234,-1014.5\"/>\n<polygon fill=\"none\" stroke=\"black\" points=\"56,-970.5 56,-1014.5 111,-1014.5 111,-970.5 56,-970.5\"/>\n<text text-anchor=\"start\" x=\"61\" y=\"-995\" font-family=\"Linux libertine\" font-size=\"10.00\">Sequential</text>\n<text text-anchor=\"start\" x=\"67\" y=\"-983\" font-family=\"Linux libertine\" font-size=\"10.00\">depth:3</text>\n<polygon fill=\"none\" stroke=\"black\" points=\"111,-992.5 111,-1014.5 154,-1014.5 154,-992.5 111,-992.5\"/>\n<text text-anchor=\"start\" x=\"120.12\" y=\"-1000\" font-family=\"Linux libertine\" font-size=\"10.00\">input:</text>\n<polygon fill=\"none\" stroke=\"black\" points=\"154,-992.5 154,-1014.5 234,-1014.5 234,-992.5 154,-992.5\"/>\n<text text-anchor=\"start\" x=\"158.75\" y=\"-1000\" font-family=\"Linux libertine\" font-size=\"10.00\">(1, 480, 14, 14) </text>\n<polygon fill=\"none\" stroke=\"black\" points=\"111,-970.5 111,-992.5 154,-992.5 154,-970.5 111,-970.5\"/>\n<text text-anchor=\"start\" x=\"115.62\" y=\"-978\" font-family=\"Linux libertine\" font-size=\"10.00\">output: </text>\n<polygon fill=\"none\" stroke=\"black\" points=\"154,-970.5 154,-992.5 234,-992.5 234,-970.5 154,-970.5\"/>\n<text text-anchor=\"start\" x=\"161.38\" y=\"-978\" font-family=\"Linux libertine\" font-size=\"10.00\">(1, 80, 14, 14) </text>\n</g>\n<!-- 48&#45;&gt;49 -->\n<g id=\"edge61\" class=\"edge\">\n<title>48&#45;&gt;49</title>\n<path fill=\"none\" stroke=\"black\" d=\"M140.61,-1050.6C141.19,-1042.99 141.87,-1034.2 142.51,-1025.84\"/>\n<polygon fill=\"black\" stroke=\"black\" points=\"145.99,-1026.21 143.27,-1015.97 139.01,-1025.67 145.99,-1026.21\"/>\n</g>\n<!-- 49&#45;&gt;50 -->\n<g id=\"edge62\" class=\"edge\">\n<title>49&#45;&gt;50</title>\n<path fill=\"none\" stroke=\"black\" d=\"M148.48,-970.6C149.77,-962.9 151.25,-954 152.66,-945.55\"/>\n<polygon fill=\"black\" stroke=\"black\" points=\"156.07,-946.39 154.26,-935.95 149.16,-945.24 156.07,-946.39\"/>\n</g>\n<!-- 51 -->\n<g id=\"node52\" class=\"node\">\n<title>51</title>\n<polygon fill=\"#c1ffc1\" stroke=\"none\" points=\"238.5,-854.5 77.5,-854.5 77.5,-810.5 238.5,-810.5 238.5,-854.5\"/>\n<polygon fill=\"none\" stroke=\"black\" points=\"77.5,-810.5 77.5,-854.5 120.5,-854.5 120.5,-810.5 77.5,-810.5\"/>\n<text text-anchor=\"start\" x=\"82.12\" y=\"-835\" font-family=\"Linux libertine\" font-size=\"10.00\">Dropout</text>\n<text text-anchor=\"start\" x=\"82.5\" y=\"-823\" font-family=\"Linux libertine\" font-size=\"10.00\">depth:3</text>\n<polygon fill=\"none\" stroke=\"black\" points=\"120.5,-832.5 120.5,-854.5 163.5,-854.5 163.5,-832.5 120.5,-832.5\"/>\n<text text-anchor=\"start\" x=\"129.62\" y=\"-840\" font-family=\"Linux libertine\" font-size=\"10.00\">input:</text>\n<polygon fill=\"none\" stroke=\"black\" points=\"163.5,-832.5 163.5,-854.5 238.5,-854.5 238.5,-832.5 163.5,-832.5\"/>\n<text text-anchor=\"start\" x=\"168.38\" y=\"-840\" font-family=\"Linux libertine\" font-size=\"10.00\">(1, 80, 14, 14) </text>\n<polygon fill=\"none\" stroke=\"black\" points=\"120.5,-810.5 120.5,-832.5 163.5,-832.5 163.5,-810.5 120.5,-810.5\"/>\n<text text-anchor=\"start\" x=\"125.12\" y=\"-818\" font-family=\"Linux libertine\" font-size=\"10.00\">output: </text>\n<polygon fill=\"none\" stroke=\"black\" points=\"163.5,-810.5 163.5,-832.5 238.5,-832.5 238.5,-810.5 163.5,-810.5\"/>\n<text text-anchor=\"start\" x=\"168.38\" y=\"-818\" font-family=\"Linux libertine\" font-size=\"10.00\">(1, 80, 14, 14) </text>\n</g>\n<!-- 50&#45;&gt;51 -->\n<g id=\"edge63\" class=\"edge\">\n<title>50&#45;&gt;51</title>\n<path fill=\"none\" stroke=\"black\" d=\"M158,-890.6C158,-882.99 158,-874.2 158,-865.84\"/>\n<polygon fill=\"black\" stroke=\"black\" points=\"161.5,-865.97 158,-855.97 154.5,-865.97 161.5,-865.97\"/>\n</g>\n<!-- 52 -->\n<g id=\"node53\" class=\"node\">\n<title>52</title>\n<polygon fill=\"#c1ffc1\" stroke=\"none\" points=\"243.5,-756.25 72.5,-756.25 72.5,-712.25 243.5,-712.25 243.5,-756.25\"/>\n<polygon fill=\"none\" stroke=\"black\" points=\"72.5,-712.25 72.5,-756.25 115.5,-756.25 115.5,-712.25 72.5,-712.25\"/>\n<text text-anchor=\"start\" x=\"78.25\" y=\"-736.75\" font-family=\"Linux libertine\" font-size=\"10.00\">Conv2d</text>\n<text text-anchor=\"start\" x=\"77.5\" y=\"-724.75\" font-family=\"Linux libertine\" font-size=\"10.00\">depth:2</text>\n<polygon fill=\"none\" stroke=\"black\" points=\"115.5,-734.25 115.5,-756.25 158.5,-756.25 158.5,-734.25 115.5,-734.25\"/>\n<text text-anchor=\"start\" x=\"124.62\" y=\"-741.75\" font-family=\"Linux libertine\" font-size=\"10.00\">input:</text>\n<polygon fill=\"none\" stroke=\"black\" points=\"158.5,-734.25 158.5,-756.25 243.5,-756.25 243.5,-734.25 158.5,-734.25\"/>\n<text text-anchor=\"start\" x=\"168.38\" y=\"-741.75\" font-family=\"Linux libertine\" font-size=\"10.00\">(1, 80, 14, 14) </text>\n<polygon fill=\"none\" stroke=\"black\" points=\"115.5,-712.25 115.5,-734.25 158.5,-734.25 158.5,-712.25 115.5,-712.25\"/>\n<text text-anchor=\"start\" x=\"120.12\" y=\"-719.75\" font-family=\"Linux libertine\" font-size=\"10.00\">output: </text>\n<polygon fill=\"none\" stroke=\"black\" points=\"158.5,-712.25 158.5,-734.25 243.5,-734.25 243.5,-712.25 158.5,-712.25\"/>\n<text text-anchor=\"start\" x=\"163.12\" y=\"-719.75\" font-family=\"Linux libertine\" font-size=\"10.00\">(1, 1280, 14, 14) </text>\n</g>\n<!-- 51&#45;&gt;52 -->\n<g id=\"edge64\" class=\"edge\">\n<title>51&#45;&gt;52</title>\n<path fill=\"none\" stroke=\"black\" d=\"M158,-810.62C158,-798 158,-781.67 158,-767.43\"/>\n<polygon fill=\"black\" stroke=\"black\" points=\"161.5,-767.61 158,-757.61 154.5,-767.61 161.5,-767.61\"/>\n</g>\n<!-- 53 -->\n<g id=\"node54\" class=\"node\">\n<title>53</title>\n<polygon fill=\"#c1ffc1\" stroke=\"none\" points=\"255.5,-676.25 60.5,-676.25 60.5,-632.25 255.5,-632.25 255.5,-676.25\"/>\n<polygon fill=\"none\" stroke=\"black\" points=\"60.5,-632.25 60.5,-676.25 127.5,-676.25 127.5,-632.25 60.5,-632.25\"/>\n<text text-anchor=\"start\" x=\"65.5\" y=\"-656.75\" font-family=\"Linux libertine\" font-size=\"10.00\">BatchNorm2d</text>\n<text text-anchor=\"start\" x=\"77.5\" y=\"-644.75\" font-family=\"Linux libertine\" font-size=\"10.00\">depth:2</text>\n<polygon fill=\"none\" stroke=\"black\" points=\"127.5,-654.25 127.5,-676.25 170.5,-676.25 170.5,-654.25 127.5,-654.25\"/>\n<text text-anchor=\"start\" x=\"136.62\" y=\"-661.75\" font-family=\"Linux libertine\" font-size=\"10.00\">input:</text>\n<polygon fill=\"none\" stroke=\"black\" points=\"170.5,-654.25 170.5,-676.25 255.5,-676.25 255.5,-654.25 170.5,-654.25\"/>\n<text text-anchor=\"start\" x=\"175.12\" y=\"-661.75\" font-family=\"Linux libertine\" font-size=\"10.00\">(1, 1280, 14, 14) </text>\n<polygon fill=\"none\" stroke=\"black\" points=\"127.5,-632.25 127.5,-654.25 170.5,-654.25 170.5,-632.25 127.5,-632.25\"/>\n<text text-anchor=\"start\" x=\"132.12\" y=\"-639.75\" font-family=\"Linux libertine\" font-size=\"10.00\">output: </text>\n<polygon fill=\"none\" stroke=\"black\" points=\"170.5,-632.25 170.5,-654.25 255.5,-654.25 255.5,-632.25 170.5,-632.25\"/>\n<text text-anchor=\"start\" x=\"175.12\" y=\"-639.75\" font-family=\"Linux libertine\" font-size=\"10.00\">(1, 1280, 14, 14) </text>\n</g>\n<!-- 52&#45;&gt;53 -->\n<g id=\"edge65\" class=\"edge\">\n<title>52&#45;&gt;53</title>\n<path fill=\"none\" stroke=\"black\" d=\"M158,-712.35C158,-704.74 158,-695.95 158,-687.59\"/>\n<polygon fill=\"black\" stroke=\"black\" points=\"161.5,-687.72 158,-677.72 154.5,-687.72 161.5,-687.72\"/>\n</g>\n<!-- 54 -->\n<g id=\"node55\" class=\"node\">\n<title>54</title>\n<polygon fill=\"#c1ffc1\" stroke=\"none\" points=\"243.5,-596.25 72.5,-596.25 72.5,-552.25 243.5,-552.25 243.5,-596.25\"/>\n<polygon fill=\"none\" stroke=\"black\" points=\"72.5,-552.25 72.5,-596.25 115.5,-596.25 115.5,-552.25 72.5,-552.25\"/>\n<text text-anchor=\"start\" x=\"83.12\" y=\"-576.75\" font-family=\"Linux libertine\" font-size=\"10.00\">SELU</text>\n<text text-anchor=\"start\" x=\"77.5\" y=\"-564.75\" font-family=\"Linux libertine\" font-size=\"10.00\">depth:2</text>\n<polygon fill=\"none\" stroke=\"black\" points=\"115.5,-574.25 115.5,-596.25 158.5,-596.25 158.5,-574.25 115.5,-574.25\"/>\n<text text-anchor=\"start\" x=\"124.62\" y=\"-581.75\" font-family=\"Linux libertine\" font-size=\"10.00\">input:</text>\n<polygon fill=\"none\" stroke=\"black\" points=\"158.5,-574.25 158.5,-596.25 243.5,-596.25 243.5,-574.25 158.5,-574.25\"/>\n<text text-anchor=\"start\" x=\"163.12\" y=\"-581.75\" font-family=\"Linux libertine\" font-size=\"10.00\">(1, 1280, 14, 14) </text>\n<polygon fill=\"none\" stroke=\"black\" points=\"115.5,-552.25 115.5,-574.25 158.5,-574.25 158.5,-552.25 115.5,-552.25\"/>\n<text text-anchor=\"start\" x=\"120.12\" y=\"-559.75\" font-family=\"Linux libertine\" font-size=\"10.00\">output: </text>\n<polygon fill=\"none\" stroke=\"black\" points=\"158.5,-552.25 158.5,-574.25 243.5,-574.25 243.5,-552.25 158.5,-552.25\"/>\n<text text-anchor=\"start\" x=\"163.12\" y=\"-559.75\" font-family=\"Linux libertine\" font-size=\"10.00\">(1, 1280, 14, 14) </text>\n</g>\n<!-- 53&#45;&gt;54 -->\n<g id=\"edge66\" class=\"edge\">\n<title>53&#45;&gt;54</title>\n<path fill=\"none\" stroke=\"black\" d=\"M158,-632.35C158,-624.74 158,-615.95 158,-607.59\"/>\n<polygon fill=\"black\" stroke=\"black\" points=\"161.5,-607.72 158,-597.72 154.5,-607.72 161.5,-607.72\"/>\n</g>\n<!-- 55 -->\n<g id=\"node56\" class=\"node\">\n<title>55</title>\n<polygon fill=\"#c1ffc1\" stroke=\"none\" points=\"267.5,-516.25 48.5,-516.25 48.5,-472.25 267.5,-472.25 267.5,-516.25\"/>\n<polygon fill=\"none\" stroke=\"black\" points=\"48.5,-472.25 48.5,-516.25 139.5,-516.25 139.5,-472.25 48.5,-472.25\"/>\n<text text-anchor=\"start\" x=\"53.5\" y=\"-496.75\" font-family=\"Linux libertine\" font-size=\"10.00\">AdaptiveAvgPool2d</text>\n<text text-anchor=\"start\" x=\"77.5\" y=\"-484.75\" font-family=\"Linux libertine\" font-size=\"10.00\">depth:1</text>\n<polygon fill=\"none\" stroke=\"black\" points=\"139.5,-494.25 139.5,-516.25 182.5,-516.25 182.5,-494.25 139.5,-494.25\"/>\n<text text-anchor=\"start\" x=\"148.62\" y=\"-501.75\" font-family=\"Linux libertine\" font-size=\"10.00\">input:</text>\n<polygon fill=\"none\" stroke=\"black\" points=\"182.5,-494.25 182.5,-516.25 267.5,-516.25 267.5,-494.25 182.5,-494.25\"/>\n<text text-anchor=\"start\" x=\"187.12\" y=\"-501.75\" font-family=\"Linux libertine\" font-size=\"10.00\">(1, 1280, 14, 14) </text>\n<polygon fill=\"none\" stroke=\"black\" points=\"139.5,-472.25 139.5,-494.25 182.5,-494.25 182.5,-472.25 139.5,-472.25\"/>\n<text text-anchor=\"start\" x=\"144.12\" y=\"-479.75\" font-family=\"Linux libertine\" font-size=\"10.00\">output: </text>\n<polygon fill=\"none\" stroke=\"black\" points=\"182.5,-472.25 182.5,-494.25 267.5,-494.25 267.5,-472.25 182.5,-472.25\"/>\n<text text-anchor=\"start\" x=\"192.38\" y=\"-479.75\" font-family=\"Linux libertine\" font-size=\"10.00\">(1, 1280, 1, 1) </text>\n</g>\n<!-- 54&#45;&gt;55 -->\n<g id=\"edge67\" class=\"edge\">\n<title>54&#45;&gt;55</title>\n<path fill=\"none\" stroke=\"black\" d=\"M158,-552.35C158,-544.74 158,-535.95 158,-527.59\"/>\n<polygon fill=\"black\" stroke=\"black\" points=\"161.5,-527.72 158,-517.72 154.5,-527.72 161.5,-527.72\"/>\n</g>\n<!-- 56 -->\n<g id=\"node57\" class=\"node\">\n<title>56</title>\n<polygon fill=\"aliceblue\" stroke=\"none\" points=\"238.5,-436.25 77.5,-436.25 77.5,-392.25 238.5,-392.25 238.5,-436.25\"/>\n<polygon fill=\"none\" stroke=\"black\" points=\"77.5,-392.25 77.5,-436.25 120.5,-436.25 120.5,-392.25 77.5,-392.25\"/>\n<text text-anchor=\"start\" x=\"89.25\" y=\"-416.75\" font-family=\"Linux libertine\" font-size=\"10.00\">view</text>\n<text text-anchor=\"start\" x=\"82.5\" y=\"-404.75\" font-family=\"Linux libertine\" font-size=\"10.00\">depth:1</text>\n<polygon fill=\"none\" stroke=\"black\" points=\"120.5,-414.25 120.5,-436.25 163.5,-436.25 163.5,-414.25 120.5,-414.25\"/>\n<text text-anchor=\"start\" x=\"129.62\" y=\"-421.75\" font-family=\"Linux libertine\" font-size=\"10.00\">input:</text>\n<polygon fill=\"none\" stroke=\"black\" points=\"163.5,-414.25 163.5,-436.25 238.5,-436.25 238.5,-414.25 163.5,-414.25\"/>\n<text text-anchor=\"start\" x=\"168.38\" y=\"-421.75\" font-family=\"Linux libertine\" font-size=\"10.00\">(1, 1280, 1, 1) </text>\n<polygon fill=\"none\" stroke=\"black\" points=\"120.5,-392.25 120.5,-414.25 163.5,-414.25 163.5,-392.25 120.5,-392.25\"/>\n<text text-anchor=\"start\" x=\"125.12\" y=\"-399.75\" font-family=\"Linux libertine\" font-size=\"10.00\">output: </text>\n<polygon fill=\"none\" stroke=\"black\" points=\"163.5,-392.25 163.5,-414.25 238.5,-414.25 238.5,-392.25 163.5,-392.25\"/>\n<text text-anchor=\"start\" x=\"179.62\" y=\"-399.75\" font-family=\"Linux libertine\" font-size=\"10.00\">(1, 1280) </text>\n</g>\n<!-- 55&#45;&gt;56 -->\n<g id=\"edge68\" class=\"edge\">\n<title>55&#45;&gt;56</title>\n<path fill=\"none\" stroke=\"black\" d=\"M158,-472.35C158,-464.74 158,-455.95 158,-447.59\"/>\n<polygon fill=\"black\" stroke=\"black\" points=\"161.5,-447.72 158,-437.72 154.5,-447.72 161.5,-447.72\"/>\n</g>\n<!-- 57 -->\n<g id=\"node58\" class=\"node\">\n<title>57</title>\n<polygon fill=\"#c1ffc1\" stroke=\"none\" points=\"227,-354 89,-354 89,-310 227,-310 227,-354\"/>\n<polygon fill=\"none\" stroke=\"black\" points=\"89,-310 89,-354 132,-354 132,-310 89,-310\"/>\n<text text-anchor=\"start\" x=\"97.38\" y=\"-334.5\" font-family=\"Linux libertine\" font-size=\"10.00\">Linear</text>\n<text text-anchor=\"start\" x=\"94\" y=\"-322.5\" font-family=\"Linux libertine\" font-size=\"10.00\">depth:2</text>\n<polygon fill=\"none\" stroke=\"black\" points=\"132,-332 132,-354 175,-354 175,-332 132,-332\"/>\n<text text-anchor=\"start\" x=\"141.12\" y=\"-339.5\" font-family=\"Linux libertine\" font-size=\"10.00\">input:</text>\n<polygon fill=\"none\" stroke=\"black\" points=\"175,-332 175,-354 227,-354 227,-332 175,-332\"/>\n<text text-anchor=\"start\" x=\"179.62\" y=\"-339.5\" font-family=\"Linux libertine\" font-size=\"10.00\">(1, 1280) </text>\n<polygon fill=\"none\" stroke=\"black\" points=\"132,-310 132,-332 175,-332 175,-310 132,-310\"/>\n<text text-anchor=\"start\" x=\"136.62\" y=\"-317.5\" font-family=\"Linux libertine\" font-size=\"10.00\">output: </text>\n<polygon fill=\"none\" stroke=\"black\" points=\"175,-310 175,-332 227,-332 227,-310 175,-310\"/>\n<text text-anchor=\"start\" x=\"182.25\" y=\"-317.5\" font-family=\"Linux libertine\" font-size=\"10.00\">(1, 512) </text>\n</g>\n<!-- 56&#45;&gt;57 -->\n<g id=\"edge69\" class=\"edge\">\n<title>56&#45;&gt;57</title>\n<path fill=\"none\" stroke=\"black\" d=\"M158,-392.58C158,-384.22 158,-374.38 158,-365.12\"/>\n<polygon fill=\"black\" stroke=\"black\" points=\"161.5,-365.39 158,-355.39 154.5,-365.39 161.5,-365.39\"/>\n</g>\n<!-- 58 -->\n<g id=\"node59\" class=\"node\">\n<title>58</title>\n<polygon fill=\"#c1ffc1\" stroke=\"none\" points=\"224.5,-274 91.5,-274 91.5,-230 224.5,-230 224.5,-274\"/>\n<polygon fill=\"none\" stroke=\"black\" points=\"91.5,-230 91.5,-274 134.5,-274 134.5,-230 91.5,-230\"/>\n<text text-anchor=\"start\" x=\"102.12\" y=\"-254.5\" font-family=\"Linux libertine\" font-size=\"10.00\">SELU</text>\n<text text-anchor=\"start\" x=\"96.5\" y=\"-242.5\" font-family=\"Linux libertine\" font-size=\"10.00\">depth:2</text>\n<polygon fill=\"none\" stroke=\"black\" points=\"134.5,-252 134.5,-274 177.5,-274 177.5,-252 134.5,-252\"/>\n<text text-anchor=\"start\" x=\"143.62\" y=\"-259.5\" font-family=\"Linux libertine\" font-size=\"10.00\">input:</text>\n<polygon fill=\"none\" stroke=\"black\" points=\"177.5,-252 177.5,-274 224.5,-274 224.5,-252 177.5,-252\"/>\n<text text-anchor=\"start\" x=\"182.25\" y=\"-259.5\" font-family=\"Linux libertine\" font-size=\"10.00\">(1, 512) </text>\n<polygon fill=\"none\" stroke=\"black\" points=\"134.5,-230 134.5,-252 177.5,-252 177.5,-230 134.5,-230\"/>\n<text text-anchor=\"start\" x=\"139.12\" y=\"-237.5\" font-family=\"Linux libertine\" font-size=\"10.00\">output: </text>\n<polygon fill=\"none\" stroke=\"black\" points=\"177.5,-230 177.5,-252 224.5,-252 224.5,-230 177.5,-230\"/>\n<text text-anchor=\"start\" x=\"182.25\" y=\"-237.5\" font-family=\"Linux libertine\" font-size=\"10.00\">(1, 512) </text>\n</g>\n<!-- 57&#45;&gt;58 -->\n<g id=\"edge70\" class=\"edge\">\n<title>57&#45;&gt;58</title>\n<path fill=\"none\" stroke=\"black\" d=\"M158,-310.1C158,-302.49 158,-293.7 158,-285.34\"/>\n<polygon fill=\"black\" stroke=\"black\" points=\"161.5,-285.47 158,-275.47 154.5,-285.47 161.5,-285.47\"/>\n</g>\n<!-- 59 -->\n<g id=\"node60\" class=\"node\">\n<title>59</title>\n<polygon fill=\"#c1ffc1\" stroke=\"none\" points=\"236.5,-194 79.5,-194 79.5,-150 236.5,-150 236.5,-194\"/>\n<polygon fill=\"none\" stroke=\"black\" points=\"79.5,-150 79.5,-194 146.5,-194 146.5,-150 79.5,-150\"/>\n<text text-anchor=\"start\" x=\"84.5\" y=\"-174.5\" font-family=\"Linux libertine\" font-size=\"10.00\">BatchNorm1d</text>\n<text text-anchor=\"start\" x=\"96.5\" y=\"-162.5\" font-family=\"Linux libertine\" font-size=\"10.00\">depth:2</text>\n<polygon fill=\"none\" stroke=\"black\" points=\"146.5,-172 146.5,-194 189.5,-194 189.5,-172 146.5,-172\"/>\n<text text-anchor=\"start\" x=\"155.62\" y=\"-179.5\" font-family=\"Linux libertine\" font-size=\"10.00\">input:</text>\n<polygon fill=\"none\" stroke=\"black\" points=\"189.5,-172 189.5,-194 236.5,-194 236.5,-172 189.5,-172\"/>\n<text text-anchor=\"start\" x=\"194.25\" y=\"-179.5\" font-family=\"Linux libertine\" font-size=\"10.00\">(1, 512) </text>\n<polygon fill=\"none\" stroke=\"black\" points=\"146.5,-150 146.5,-172 189.5,-172 189.5,-150 146.5,-150\"/>\n<text text-anchor=\"start\" x=\"151.12\" y=\"-157.5\" font-family=\"Linux libertine\" font-size=\"10.00\">output: </text>\n<polygon fill=\"none\" stroke=\"black\" points=\"189.5,-150 189.5,-172 236.5,-172 236.5,-150 189.5,-150\"/>\n<text text-anchor=\"start\" x=\"194.25\" y=\"-157.5\" font-family=\"Linux libertine\" font-size=\"10.00\">(1, 512) </text>\n</g>\n<!-- 58&#45;&gt;59 -->\n<g id=\"edge71\" class=\"edge\">\n<title>58&#45;&gt;59</title>\n<path fill=\"none\" stroke=\"black\" d=\"M158,-230.1C158,-222.49 158,-213.7 158,-205.34\"/>\n<polygon fill=\"black\" stroke=\"black\" points=\"161.5,-205.47 158,-195.47 154.5,-205.47 161.5,-205.47\"/>\n</g>\n<!-- 60 -->\n<g id=\"node61\" class=\"node\">\n<title>60</title>\n<polygon fill=\"#c1ffc1\" stroke=\"none\" points=\"224.5,-114 91.5,-114 91.5,-70 224.5,-70 224.5,-114\"/>\n<polygon fill=\"none\" stroke=\"black\" points=\"91.5,-70 91.5,-114 134.5,-114 134.5,-70 91.5,-70\"/>\n<text text-anchor=\"start\" x=\"99.88\" y=\"-94.5\" font-family=\"Linux libertine\" font-size=\"10.00\">Linear</text>\n<text text-anchor=\"start\" x=\"96.5\" y=\"-82.5\" font-family=\"Linux libertine\" font-size=\"10.00\">depth:1</text>\n<polygon fill=\"none\" stroke=\"black\" points=\"134.5,-92 134.5,-114 177.5,-114 177.5,-92 134.5,-92\"/>\n<text text-anchor=\"start\" x=\"143.62\" y=\"-99.5\" font-family=\"Linux libertine\" font-size=\"10.00\">input:</text>\n<polygon fill=\"none\" stroke=\"black\" points=\"177.5,-92 177.5,-114 224.5,-114 224.5,-92 177.5,-92\"/>\n<text text-anchor=\"start\" x=\"182.25\" y=\"-99.5\" font-family=\"Linux libertine\" font-size=\"10.00\">(1, 512) </text>\n<polygon fill=\"none\" stroke=\"black\" points=\"134.5,-70 134.5,-92 177.5,-92 177.5,-70 134.5,-70\"/>\n<text text-anchor=\"start\" x=\"139.12\" y=\"-77.5\" font-family=\"Linux libertine\" font-size=\"10.00\">output: </text>\n<polygon fill=\"none\" stroke=\"black\" points=\"177.5,-70 177.5,-92 224.5,-92 224.5,-70 177.5,-70\"/>\n<text text-anchor=\"start\" x=\"187.5\" y=\"-77.5\" font-family=\"Linux libertine\" font-size=\"10.00\">(1, 5) </text>\n</g>\n<!-- 59&#45;&gt;60 -->\n<g id=\"edge72\" class=\"edge\">\n<title>59&#45;&gt;60</title>\n<path fill=\"none\" stroke=\"black\" d=\"M158,-150.1C158,-142.49 158,-133.7 158,-125.34\"/>\n<polygon fill=\"black\" stroke=\"black\" points=\"161.5,-125.47 158,-115.47 154.5,-125.47 161.5,-125.47\"/>\n</g>\n<!-- 61 -->\n<g id=\"node62\" class=\"node\">\n<title>61</title>\n<polygon fill=\"lightyellow\" stroke=\"none\" points=\"208.88,-34 107.12,-34 107.12,0 208.88,0 208.88,-34\"/>\n<polygon fill=\"none\" stroke=\"black\" points=\"107.12,0 107.12,-34 174.88,-34 174.88,0 107.12,0\"/>\n<text text-anchor=\"start\" x=\"112.12\" y=\"-19.5\" font-family=\"Linux libertine\" font-size=\"10.00\">output&#45;tensor</text>\n<text text-anchor=\"start\" x=\"124.5\" y=\"-7.5\" font-family=\"Linux libertine\" font-size=\"10.00\">depth:0</text>\n<polygon fill=\"none\" stroke=\"black\" points=\"174.88,0 174.88,-34 208.88,-34 208.88,0 174.88,0\"/>\n<text text-anchor=\"start\" x=\"179.88\" y=\"-13.5\" font-family=\"Linux libertine\" font-size=\"10.00\">(1, 5)</text>\n</g>\n<!-- 60&#45;&gt;61 -->\n<g id=\"edge73\" class=\"edge\">\n<title>60&#45;&gt;61</title>\n<path fill=\"none\" stroke=\"black\" d=\"M158,-70.28C158,-62.46 158,-53.45 158,-45.13\"/>\n<polygon fill=\"black\" stroke=\"black\" points=\"161.5,-45.18 158,-35.18 154.5,-45.18 161.5,-45.18\"/>\n</g>\n</g>\n</svg>\n",
      "text/plain": "<graphviz.graphs.Digraph at 0x1d3a77fa410>"
     },
     "execution_count": 48,
     "metadata": {},
     "output_type": "execute_result"
    }
   ],
   "source": [
    "from torchview import draw_graph\n",
    "\n",
    "model_graph = draw_graph(model, input_size=(1,3,224,224), expand_nested=True)\n",
    "model_graph.visual_graph"
   ],
   "metadata": {
    "collapsed": false,
    "ExecuteTime": {
     "end_time": "2023-10-31T16:31:44.660593200Z",
     "start_time": "2023-10-31T16:31:43.227301800Z"
    }
   }
  },
  {
   "cell_type": "code",
   "execution_count": 110,
   "outputs": [
    {
     "name": "stderr",
     "output_type": "stream",
     "text": [
      "\r\n",
      "(dot.exe:40644): Pango-WARNING **: couldn't load font \"Linux libertine Not-Rotated 10\", falling back to \"Sans Not-Rotated 10\", expect ugly output.\r\n"
     ]
    },
    {
     "data": {
      "text/plain": "'model_architecture.png'"
     },
     "execution_count": 110,
     "metadata": {},
     "output_type": "execute_result"
    }
   ],
   "source": [
    "model_graph.visual_graph.format = 'png'\n",
    "model_graph.visual_graph.render(filename='model_architecture')"
   ],
   "metadata": {
    "collapsed": false,
    "ExecuteTime": {
     "end_time": "2023-10-30T05:11:17.420711Z",
     "start_time": "2023-10-30T05:11:17.211630700Z"
    }
   }
  },
  {
   "cell_type": "code",
   "execution_count": null,
   "outputs": [],
   "source": [],
   "metadata": {
    "collapsed": false
   }
  }
 ],
 "metadata": {
  "kernelspec": {
   "display_name": "Python 3.10.9",
   "language": "python",
   "name": "python3"
  },
  "language_info": {
   "codemirror_mode": {
    "name": "ipython",
    "version": 3
   },
   "file_extension": ".py",
   "mimetype": "text/x-python",
   "name": "python",
   "nbconvert_exporter": "python",
   "pygments_lexer": "ipython3",
   "version": "3.9.17"
  },
  "orig_nbformat": 4,
  "vscode": {
   "interpreter": {
    "hash": "51ee1b965d6f75a20b2b6babb72920dce4fab5775c12eb1659af0fb55d185fed"
   }
  }
 },
 "nbformat": 4,
 "nbformat_minor": 2
}
