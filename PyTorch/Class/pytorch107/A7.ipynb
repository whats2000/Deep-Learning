{
 "cells": [
  {
   "cell_type": "markdown",
   "metadata": {},
   "source": [
    "# MIS 583 A7 Semantic Segmentation on BCSS"
   ]
  },
  {
   "cell_type": "markdown",
   "metadata": {},
   "source": [
    "Before we start, please put your name and SID in following format: <br>\n",
    ": LASTNAME Firstname, ?00000000   //   e.g.) 李晨愷 M114020035"
   ]
  },
  {
   "cell_type": "markdown",
   "metadata": {},
   "source": [
    "**Your Answer:**    \n",
    "Hi I'm 鄔仁迪, B104020009."
   ]
  },
  {
   "cell_type": "markdown",
   "metadata": {},
   "source": [
    "## Overview\n",
    "\n",
    "- Semantic segmentation is a computer vision task that aims to classify each pixel in an image into specific objects or regions.\n",
    "\n",
    "- In this assignment, you will implement a segmentor to classify the specific types of breast cancer lesions.\n",
    "\n",
    "- The segmentor implemented in this assignment is U-Net, and you are required to construct it from scratch\n"
   ]
  },
  {
   "cell_type": "markdown",
   "metadata": {},
   "source": [
    "## Kaggle Competition\n",
    "Kaggle is an online community of data scientists and machine learning practitioners. Kaggle allows users to find and publish datasets, explore and build models in a web-based data-science environment, work with other data scientists and machine learning engineers, and enter competitions to solve data science challenges.\n",
    "\n",
    "This assignment use kaggle to calculate your grade.  \n",
    "Please use this [**LINK**](https://www.kaggle.com/t/13040d09b42940ba90f96cca324ee90d) to join the competition."
   ]
  },
  {
   "cell_type": "markdown",
   "metadata": {},
   "source": [
    "## Google Colab Setup\n",
    "Next we need to run a few commands to set up our environment on Google Colab. If you are running this notebook on a local machine you can skip this section.\n",
    "\n",
    "Run the following cell to mount your Google Drive. Follow the link, sign in to your Google account (the same account you used to store this notebook!) and copy the authorization code into the text box that appears below."
   ]
  },
  {
   "cell_type": "code",
   "execution_count": 1,
   "metadata": {
    "ExecuteTime": {
     "end_time": "2023-12-20T04:35:28.900250300Z",
     "start_time": "2023-12-20T04:35:28.886600200Z"
    }
   },
   "outputs": [],
   "source": [
    "# from google.colab import drive\n",
    "# drive.mount('/content/drive')"
   ]
  },
  {
   "cell_type": "markdown",
   "metadata": {},
   "source": [
    "## How to Get Data\n",
    "\n",
    "請先到共用雲端硬碟將檔案 `BCSS.zip`，建立捷徑到自己的雲端硬碟中。\n",
    "\n",
    "> 操作步驟\n",
    "1. 點開雲端[連結](https://drive.google.com/file/d/1uW9SInf6jrF5YUCjf-2ObxLolYYEb2Np/view?usp=sharing)\n",
    "2. 點選右上角「新增雲端硬碟捷徑」\n",
    "3. 點選「我的雲端硬碟」\n",
    "4. 點選「新增捷徑」\n",
    "\n",
    "完成以上流程會在你的雲端硬碟中建立一個檔案的捷徑，接著我們在colab中取得權限即可使用。"
   ]
  },
  {
   "cell_type": "markdown",
   "metadata": {},
   "source": [
    "## Unzip Data\n",
    "\n",
    "解壓縮 `BCSS.zip` \n",
    "\n",
    "+ `train` : 包含了train的所有圖片\n",
    "+ `val` : 包含了val的所有圖片\n",
    "+ `test` : 包含了test的所有圖片\n",
    "+ `train_mask` : 包含了train的所有mask\n",
    "+ `val_mask` : 包含了val所有mask\n",
    "+ `test_mask` : 包含了test的所有mask\n",
    "\n",
    "\n",
    "其中`train`的圖片 30760 張，`val`的圖片 5429 張，`test` 的圖片 4021 張。\n",
    "\n",
    "注意: 若有另外設定存放在雲端硬碟中的路徑，請記得本處路徑也須做更動。"
   ]
  },
  {
   "cell_type": "code",
   "execution_count": 2,
   "metadata": {
    "ExecuteTime": {
     "end_time": "2023-12-20T04:35:28.908249900Z",
     "start_time": "2023-12-20T04:35:28.901254500Z"
    }
   },
   "outputs": [],
   "source": [
    "# !unzip -qq C:/Users/eddie/GitHub/Deep-Learning/PyTorch/Class/pytorch107/BCSS.zip"
   ]
  },
  {
   "cell_type": "markdown",
   "metadata": {
    "id": "l5i3N-weKP6-",
    "papermill": {
     "duration": 0.022866,
     "end_time": "2021-02-18T10:06:03.865074",
     "exception": false,
     "start_time": "2021-02-18T10:06:03.842208",
     "status": "completed"
    },
    "tags": []
   },
   "source": [
    "# Import Libraries"
   ]
  },
  {
   "cell_type": "code",
   "execution_count": 3,
   "metadata": {
    "ExecuteTime": {
     "end_time": "2023-12-20T04:35:46.089303800Z",
     "start_time": "2023-12-20T04:35:28.904247700Z"
    },
    "execution": {
     "iopub.execute_input": "2023-10-07T09:51:23.323783Z",
     "iopub.status.busy": "2023-10-07T09:51:23.32341Z",
     "iopub.status.idle": "2023-10-07T09:51:46.33636Z",
     "shell.execute_reply": "2023-10-07T09:51:46.335174Z",
     "shell.execute_reply.started": "2023-10-07T09:51:23.323704Z"
    },
    "id": "kFSYoYRqJSfB",
    "papermill": {
     "duration": 23.025453,
     "end_time": "2021-02-18T10:06:26.911588",
     "exception": false,
     "start_time": "2021-02-18T10:06:03.886135",
     "status": "completed"
    },
    "tags": [],
    "trusted": true
   },
   "outputs": [],
   "source": [
    "import numpy as np \n",
    "import pandas as pd\n",
    "import matplotlib.pyplot as plt\n",
    "\n",
    "import torch\n",
    "import torch.nn as nn\n",
    "from torch.utils.data import Dataset, DataLoader\n",
    "from torchvision import transforms as T\n",
    "import torchvision\n",
    "import torch.nn.functional as F\n",
    "from torch.autograd import Variable\n",
    "\n",
    "from PIL import Image\n",
    "import cv2\n",
    "import albumentations as A\n",
    "\n",
    "import time\n",
    "import os\n",
    "from tqdm.notebook import tqdm\n",
    "\n",
    "device = torch.device(\"cuda\" if torch.cuda.is_available() else \"cpu\")"
   ]
  },
  {
   "cell_type": "markdown",
   "metadata": {
    "id": "1_HWVOdhJSfP",
    "papermill": {
     "duration": 0.026783,
     "end_time": "2021-02-18T10:06:26.966143",
     "exception": false,
     "start_time": "2021-02-18T10:06:26.93936",
     "status": "completed"
    },
    "tags": []
   },
   "source": [
    "# Preprocessing\n",
    "\n",
    "#### Verify that the paths to the image and mask are correct, and plot the position of the mask on the image.\n",
    "\n",
    "First, the code establishes DataFrames for the paths of training and validation images, including their corresponding mask paths.\n",
    "\n",
    "Second, it presents the total number of images in both the training and validation sets.\n",
    "\n",
    "Third, the code loads a sample training image and its associated mask, visually demonstrating the image and the applied mask in a graphical representation."
   ]
  },
  {
   "cell_type": "code",
   "execution_count": 4,
   "metadata": {
    "ExecuteTime": {
     "end_time": "2023-12-20T04:35:46.094252800Z",
     "start_time": "2023-12-20T04:35:46.091736500Z"
    },
    "execution": {
     "iopub.execute_input": "2023-10-07T09:51:46.338892Z",
     "iopub.status.busy": "2023-10-07T09:51:46.338474Z",
     "iopub.status.idle": "2023-10-07T09:51:46.342763Z",
     "shell.execute_reply": "2023-10-07T09:51:46.341799Z",
     "shell.execute_reply.started": "2023-10-07T09:51:46.338854Z"
    },
    "papermill": {
     "duration": 0.033799,
     "end_time": "2021-02-18T10:06:27.027862",
     "exception": false,
     "start_time": "2021-02-18T10:06:26.994063",
     "status": "completed"
    },
    "tags": [],
    "trusted": true
   },
   "outputs": [],
   "source": [
    "TRAIN_IMAGE_PATH = 'BCSS/train/'\n",
    "VAL_IMAGE_PATH = 'BCSS/val/'\n",
    "TRAIN_MASK_PATH = 'BCSS/train_mask/'\n",
    "VAL_MASK_PATH = 'BCSS/val_mask/'"
   ]
  },
  {
   "cell_type": "code",
   "execution_count": 5,
   "metadata": {
    "ExecuteTime": {
     "end_time": "2023-12-20T04:35:47.610153800Z",
     "start_time": "2023-12-20T04:35:46.096251700Z"
    },
    "execution": {
     "iopub.execute_input": "2023-10-07T09:51:46.344808Z",
     "iopub.status.busy": "2023-10-07T09:51:46.344281Z",
     "iopub.status.idle": "2023-10-07T09:51:46.56445Z",
     "shell.execute_reply": "2023-10-07T09:51:46.563454Z",
     "shell.execute_reply.started": "2023-10-07T09:51:46.344771Z"
    },
    "id": "gmPIy2ZFJSfQ",
    "outputId": "895760d0-0896-49e9-b90b-3a06dc227886",
    "papermill": {
     "duration": 0.157328,
     "end_time": "2021-02-18T10:06:27.211938",
     "exception": false,
     "start_time": "2021-02-18T10:06:27.05461",
     "status": "completed"
    },
    "tags": [],
    "trusted": true
   },
   "outputs": [
    {
     "name": "stdout",
     "output_type": "stream",
     "text": [
      "Total Train Images:  30760\n",
      "Total Val Images:  5429\n"
     ]
    }
   ],
   "source": [
    "n_classes = 3\n",
    "\n",
    "def create_df(IMAGE_PATH):\n",
    "    name = []\n",
    "    for dirname, _, filenames in os.walk(IMAGE_PATH):\n",
    "        for filename in filenames:\n",
    "            name.append(filename.split('.')[0])\n",
    "    \n",
    "    return pd.DataFrame({'id': name}, index = np.arange(0, len(name)))\n",
    "\n",
    "train_df = create_df(TRAIN_IMAGE_PATH)\n",
    "val_df = create_df(VAL_IMAGE_PATH)\n",
    "\n",
    "\n",
    "print('Total Train Images: ', len(train_df))\n",
    "print('Total Val Images: ', len(val_df))"
   ]
  },
  {
   "cell_type": "code",
   "execution_count": 6,
   "metadata": {
    "ExecuteTime": {
     "end_time": "2023-12-20T04:35:47.616359700Z",
     "start_time": "2023-12-20T04:35:47.611155300Z"
    }
   },
   "outputs": [],
   "source": [
    "X_train = train_df['id'].to_numpy()\n",
    "X_val = val_df['id'].to_numpy()"
   ]
  },
  {
   "cell_type": "code",
   "execution_count": 7,
   "metadata": {
    "ExecuteTime": {
     "end_time": "2023-12-20T04:35:47.998541800Z",
     "start_time": "2023-12-20T04:35:47.617366400Z"
    },
    "execution": {
     "iopub.execute_input": "2023-10-07T09:51:46.58284Z",
     "iopub.status.busy": "2023-10-07T09:51:46.58261Z",
     "iopub.status.idle": "2023-10-07T09:51:50.573511Z",
     "shell.execute_reply": "2023-10-07T09:51:50.572598Z",
     "shell.execute_reply.started": "2023-10-07T09:51:46.582818Z"
    },
    "id": "-uXF6vetJSff",
    "outputId": "3dbf6719-75ed-46f7-805c-7892b7b3a6d1",
    "papermill": {
     "duration": 4.280771,
     "end_time": "2021-02-18T10:06:31.595115",
     "exception": false,
     "start_time": "2021-02-18T10:06:27.314344",
     "status": "completed"
    },
    "tags": [],
    "trusted": true
   },
   "outputs": [
    {
     "name": "stdout",
     "output_type": "stream",
     "text": [
      "Image Size (224, 224, 3)\n",
      "Mask Size (224, 224)\n"
     ]
    },
    {
     "data": {
      "image/png": "[encoded data removed]",
      "text/plain": [
       "<Figure size 640x480 with 1 Axes>"
      ]
     },
     "metadata": {},
     "output_type": "display_data"
    }
   ],
   "source": [
    "img = Image.open(TRAIN_IMAGE_PATH + train_df['id'][100] + '.png')\n",
    "mask = Image.open(TRAIN_MASK_PATH + train_df['id'][100] + '.png')\n",
    "print('Image Size', np.asarray(img).shape)\n",
    "print('Mask Size', np.asarray(mask).shape)\n",
    "\n",
    "\n",
    "plt.imshow(img)\n",
    "plt.imshow(mask, alpha=0.6)\n",
    "plt.title('Picture with Mask Appplied')\n",
    "plt.show()"
   ]
  },
  {
   "cell_type": "markdown",
   "metadata": {
    "id": "dkjFEoe7JSfo",
    "papermill": {
     "duration": 0.030107,
     "end_time": "2021-02-18T10:06:31.656378",
     "exception": false,
     "start_time": "2021-02-18T10:06:31.626271",
     "status": "completed"
    },
    "tags": []
   },
   "source": [
    "# Loading the Dataset\n",
    "\n",
    "Define the BCSSDataset for loading the dataset, where each sample comprises an image and its corresponding mask\n",
    "\n",
    "Build a classs inherit `torch.utils.data.Dataset`.\n",
    "  \n",
    "Implement `__init__`, `__getitem__` and `__len__` 3 functions.  \n",
    "\n",
    "Some operations could be there: setting location of dataset, the method of reading data, label of dataset or transform of dataset.\n",
    "\n",
    "See [torch.utils.data.Dataset](https://pytorch.org/docs/stable/data.html#torch.utils.data.Dataset) for more details"
   ]
  },
  {
   "cell_type": "code",
   "execution_count": 8,
   "metadata": {
    "ExecuteTime": {
     "end_time": "2023-12-20T04:35:47.998541800Z",
     "start_time": "2023-12-20T04:35:47.997541600Z"
    },
    "execution": {
     "iopub.execute_input": "2023-10-07T09:51:50.576239Z",
     "iopub.status.busy": "2023-10-07T09:51:50.575909Z",
     "iopub.status.idle": "2023-10-07T09:51:50.729274Z",
     "shell.execute_reply": "2023-10-07T09:51:50.728347Z",
     "shell.execute_reply.started": "2023-10-07T09:51:50.57618Z"
    },
    "id": "yne-vteuJSfp",
    "papermill": {
     "duration": 0.045449,
     "end_time": "2021-02-18T10:06:31.732603",
     "exception": false,
     "start_time": "2021-02-18T10:06:31.687154",
     "status": "completed"
    },
    "tags": [],
    "trusted": true
   },
   "outputs": [],
   "source": [
    "class BCSSDataset(Dataset):\n",
    "    \n",
    "    def __init__(self, img_path, mask_path, X, mean, std, transform=None):\n",
    "        self.img_path = img_path\n",
    "        self.mask_path = mask_path\n",
    "        self.X = X\n",
    "        self.transform = transform\n",
    "        self.mean = mean\n",
    "        self.std = std\n",
    "        \n",
    "    def __len__(self):\n",
    "        return len(self.X)\n",
    "    \n",
    "    def __getitem__(self, idx):\n",
    "        img = cv2.imread(self.img_path + self.X[idx] + '.png')\n",
    "        img = cv2.cvtColor(img, cv2.COLOR_BGR2RGB)\n",
    "        mask = cv2.imread(self.mask_path + self.X[idx] + '.png', cv2.IMREAD_GRAYSCALE)\n",
    "        \n",
    "        if self.transform is not None:\n",
    "            aug = self.transform(image=img, mask=mask)\n",
    "            img = Image.fromarray(aug['image'])\n",
    "            mask = aug['mask']\n",
    "        \n",
    "        if self.transform is None:\n",
    "            img = Image.fromarray(img)\n",
    "        \n",
    "        t = T.Compose([T.ToTensor(), T.Normalize(self.mean, self.std)])\n",
    "        img = t(img)\n",
    "        mask = torch.from_numpy(mask).long()\n",
    "            \n",
    "        return img, mask"
   ]
  },
  {
   "cell_type": "markdown",
   "metadata": {},
   "source": [
    "## Data augmentation \n",
    "\n",
    "Data augmentation are techniques used to increase the amount of data by adding slightly modified copies of already existing data or newly created synthetic data from existing data.\n",
    "\n",
    "PyTorch use `torchvision.transforms` to do data augmentation.\n",
    "[You can see all function here.](https://pytorch.org/vision/stable/transforms.html)"
   ]
  },
  {
   "cell_type": "code",
   "execution_count": 9,
   "metadata": {
    "ExecuteTime": {
     "end_time": "2023-12-20T04:35:48.139252400Z",
     "start_time": "2023-12-20T04:35:47.998541800Z"
    },
    "execution": {
     "iopub.execute_input": "2023-10-07T09:51:50.731573Z",
     "iopub.status.busy": "2023-10-07T09:51:50.730886Z",
     "iopub.status.idle": "2023-10-07T09:51:50.746718Z",
     "shell.execute_reply": "2023-10-07T09:51:50.745914Z",
     "shell.execute_reply.started": "2023-10-07T09:51:50.731536Z"
    },
    "id": "CCL93_giJSft",
    "papermill": {
     "duration": 0.041706,
     "end_time": "2021-02-18T10:06:31.80439",
     "exception": false,
     "start_time": "2021-02-18T10:06:31.762684",
     "status": "completed"
    },
    "tags": [],
    "trusted": true
   },
   "outputs": [],
   "source": [
    "mean=[0.485, 0.456, 0.406]\n",
    "std=[0.229, 0.224, 0.225]\n",
    "\n",
    "# For TRAIN\n",
    "########################################################################\n",
    "#  TODO: use transforms.xxx method to do some data augmentation        #\n",
    "#  This one is for training, find the composition to get better result #\n",
    "########################################################################\n",
    "transforms_train = A.Compose([\n",
    "    A.HorizontalFlip(p=0.5),\n",
    "    A.VerticalFlip(p=0.5),\n",
    "    A.RandomRotate90(p=0.5),\n",
    "    A.ColorJitter(brightness=0.2, contrast=0.2, saturation=0.2, hue=0.1, p=0.5),\n",
    "    A.GaussianBlur(blur_limit=(3, 7), p=0.5),\n",
    "    A.ElasticTransform(alpha=1, sigma=50, alpha_affine=50, p=0.5)\n",
    "])\n",
    "########################################################################\n",
    "#                           End of your code                           #\n",
    "########################################################################\n",
    "\n",
    "# For VAL\n",
    "########################################################################\n",
    "#  TODO: use transforms.xxx method to do some data augmentation        #\n",
    "#  This one is for validate and test,                                  #\n",
    "#  NOTICE some operation we usually not use in this part               #\n",
    "########################################################################\n",
    "transforms_val = A.Compose([\n",
    "    # Usually, validation transforms are simpler and do not include augmentation\n",
    "])\n",
    "########################################################################\n",
    "#                           End of your code                           #\n",
    "########################################################################\n",
    "\n",
    "#datasets\n",
    "train_set = BCSSDataset(TRAIN_IMAGE_PATH, TRAIN_MASK_PATH, X_train, mean, std, transforms_train)\n",
    "val_set = BCSSDataset(VAL_IMAGE_PATH, VAL_MASK_PATH, X_val, mean, std, transforms_val)\n",
    "\n",
    "#dataloader\n",
    "batch_size= 10\n",
    "\n",
    "train_loader = DataLoader(train_set, batch_size=batch_size, shuffle=True)\n",
    "val_loader = DataLoader(val_set, batch_size=batch_size, shuffle=True)               "
   ]
  },
  {
   "cell_type": "code",
   "execution_count": 10,
   "metadata": {
    "ExecuteTime": {
     "end_time": "2023-12-20T04:35:48.166975100Z",
     "start_time": "2023-12-20T04:35:48.040252500Z"
    }
   },
   "outputs": [
    {
     "data": {
      "text/plain": [
       "(tensor([[[ 1.2728,  1.3413,  1.5297,  ...,  1.1700,  1.2214,  1.2385],\n",
       "          [ 1.3242,  1.3927,  1.6153,  ...,  1.1700,  1.2214,  1.2214],\n",
       "          [ 1.4440,  1.5297,  1.7523,  ...,  1.1700,  1.1872,  1.2043],\n",
       "          ...,\n",
       "          [ 1.1187,  1.0673,  0.9303,  ...,  0.4679,  0.4166,  0.3652],\n",
       "          [ 1.1187,  1.0331,  0.8276,  ...,  0.2282,  0.2111,  0.1768],\n",
       "          [ 1.0844,  0.9988,  0.7762,  ...,  0.1426,  0.1254,  0.0912]],\n",
       " \n",
       "         [[ 0.7479,  0.8704,  1.2031,  ...,  0.8704,  0.9230,  0.9055],\n",
       "          [ 0.8704,  1.0105,  1.3431,  ...,  0.8179,  0.8880,  0.8704],\n",
       "          [ 1.1681,  1.2906,  1.6057,  ...,  0.7129,  0.8004,  0.8179],\n",
       "          ...,\n",
       "          [ 0.3803,  0.2927,  0.0826,  ..., -0.4426, -0.4251, -0.4426],\n",
       "          [ 0.3102,  0.2052, -0.0924,  ..., -0.6527, -0.6176, -0.6352],\n",
       "          [ 0.2752,  0.1352, -0.1800,  ..., -0.7402, -0.6877, -0.7052]],\n",
       " \n",
       "         [[ 2.0300,  2.0823,  2.2391,  ...,  1.8034,  1.8208,  1.8208],\n",
       "          [ 2.0997,  2.1520,  2.3088,  ...,  1.7337,  1.8034,  1.8208],\n",
       "          [ 2.2043,  2.2740,  2.4134,  ...,  1.6291,  1.7337,  1.8034],\n",
       "          ...,\n",
       "          [ 1.5594,  1.4722,  1.2980,  ...,  0.7576,  0.8448,  0.8797],\n",
       "          [ 1.5071,  1.4200,  1.2108,  ...,  0.6879,  0.7402,  0.7402],\n",
       "          [ 1.4897,  1.3677,  1.1585,  ...,  0.6705,  0.6879,  0.6705]]]),\n",
       " tensor([[2, 2, 2,  ..., 1, 1, 1],\n",
       "         [2, 2, 2,  ..., 1, 1, 1],\n",
       "         [2, 2, 2,  ..., 1, 1, 1],\n",
       "         ...,\n",
       "         [1, 1, 1,  ..., 1, 1, 1],\n",
       "         [1, 1, 1,  ..., 1, 1, 1],\n",
       "         [2, 2, 2,  ..., 2, 2, 2]]))"
      ]
     },
     "execution_count": 10,
     "metadata": {},
     "output_type": "execute_result"
    }
   ],
   "source": [
    "train_set[0]"
   ]
  },
  {
   "cell_type": "markdown",
   "metadata": {
    "id": "jJ-ZypiFJSgJ",
    "papermill": {
     "duration": 0.029797,
     "end_time": "2021-02-18T10:06:31.864199",
     "exception": false,
     "start_time": "2021-02-18T10:06:31.834402",
     "status": "completed"
    },
    "tags": []
   },
   "source": [
    "# U-net\n",
    "\n",
    "U-net is a fully convolution neural network for image semantic segmentation. Consist of encoder and decoder parts connected with skip connections. Encoder extract features of different spatial resolution (skip connections) which are used by decoder to define accurate segmentation mask. Use concatenation for fusing decoder blocks with skip connections.\n",
    "\n",
    "\n",
    "![image](https://hackmd.io/_uploads/rJXtsY_Up.png)"
   ]
  },
  {
   "cell_type": "code",
   "execution_count": 11,
   "metadata": {
    "ExecuteTime": {
     "end_time": "2023-12-20T04:35:48.233564900Z",
     "start_time": "2023-12-20T04:35:48.162973Z"
    }
   },
   "outputs": [],
   "source": [
    "class DoubleConv(nn.Module):\n",
    "    \"\"\"\n",
    "    Block with two convolutional blocks\n",
    "    \"\"\"\n",
    "\n",
    "    def __init__(self, in_channels, out_channels, mid_channels=None):\n",
    "        \"\"\"\n",
    "        Double convolution\n",
    "\n",
    "        :param in_channels: number of in channels for first conv layer\n",
    "        :param out_channels: number of out channels for last conv layer\n",
    "        :param mid_channels: number of out channels for first conv layer\n",
    "        \"\"\"\n",
    "        super().__init__()\n",
    "        if not mid_channels:\n",
    "            mid_channels = out_channels\n",
    "        ########################################################################\n",
    "        #  TODO:                                                               #\n",
    "        #  write model that contains 2 conv layer with batch normalization     #\n",
    "        #  and relu activation function                                        #\n",
    "        ########################################################################\n",
    "        self.double_conv = nn.Sequential(\n",
    "            nn.Conv2d(in_channels, mid_channels, kernel_size=3, padding=1),\n",
    "            nn.BatchNorm2d(mid_channels),\n",
    "            nn.ReLU(inplace=True),\n",
    "            nn.Conv2d(mid_channels, out_channels, kernel_size=3, padding=1),\n",
    "            nn.BatchNorm2d(out_channels),\n",
    "            nn.ReLU(inplace=True)\n",
    "        )\n",
    "        ########################################################################\n",
    "        #                           End of your code                           #\n",
    "        ########################################################################\n",
    "\n",
    "    def forward(self, x):\n",
    "        return self.double_conv(x)\n",
    "\n",
    "\n",
    "class Down(nn.Module):\n",
    "    \"\"\"\n",
    "    Block for down path\n",
    "    \"\"\"\n",
    "\n",
    "    def __init__(self, in_channels, out_channels):\n",
    "        \"\"\"\n",
    "        Down block\n",
    "\n",
    "        :param in_channels: number of in channels for double conv block\n",
    "        :param out_channels: number of out channels for double conv block\n",
    "        \"\"\"\n",
    "        super().__init__()\n",
    "        ########################################################################\n",
    "        #  TODO:                                                               #\n",
    "        #  write model which contains pooling and double conv block            #\n",
    "        ########################################################################\n",
    "        self.maxpool_conv = nn.Sequential(\n",
    "            nn.MaxPool2d(2),\n",
    "            DoubleConv(in_channels, out_channels)\n",
    "        )\n",
    "        ########################################################################\n",
    "        #                           End of your code                           #\n",
    "        ########################################################################\n",
    "\n",
    "    def forward(self, x):\n",
    "        return self.maxpool_conv(x)\n",
    "\n",
    "\n",
    "class Up(nn.Module):\n",
    "    \"\"\"\n",
    "    Block for up path\n",
    "    \"\"\"\n",
    "\n",
    "    def __init__(self, in_channels, out_channels):\n",
    "        \"\"\"\n",
    "        Down block\n",
    "\n",
    "        :param in_channels: number of in channels for transpose convolution\n",
    "        :param out_channels: number of out channels for double conv block\n",
    "        \"\"\"\n",
    "        super().__init__()\n",
    "\n",
    "        self.up = nn.ConvTranspose2d(in_channels, in_channels // 2, kernel_size=2, stride=2)\n",
    "        self.conv = DoubleConv(in_channels, out_channels)\n",
    "\n",
    "    def forward(self, x1, x2): \n",
    "        \n",
    "        #########################################################################################\n",
    "        # 1. Up-sample the input tensor using transpose convolution                             #\n",
    "        # 2. Calculate the difference in height and width between x2 and the up-sampled x1      #\n",
    "        # 3. Pad the up-sampled x1 to match the size of x2                                      #\n",
    "        # 4. Concatenate x2 and the up-sampled x1 along the channel dimension                   #\n",
    "        #########################################################################################\n",
    "        # Upsample x1\n",
    "        x1 = self.up(x1)\n",
    "\n",
    "        # Calculate size differences\n",
    "        diff_y = x2.size()[2] - x1.size()[2]\n",
    "        diff_x = x2.size()[3] - x1.size()[3]\n",
    "\n",
    "        # Padding x1 to match the size of x2\n",
    "        x1 = F.pad(x1, [diff_x // 2, diff_x - diff_x // 2,\n",
    "                        diff_y // 2, diff_y - diff_y // 2])\n",
    "\n",
    "        # Concatenate along the channel dimension\n",
    "        x = torch.cat([x2, x1], dim=1)\n",
    "\n",
    "        return self.conv(x)\n",
    "\n",
    "\n",
    "class OutConv(nn.Module):\n",
    "    def __init__(self, in_channels, out_channels):\n",
    "        \"\"\"\n",
    "        Final convolution block\n",
    "\n",
    "        :param in_channels: number of in channels for conv layer\n",
    "        :param out_channels: number of out channels for conv layer\n",
    "        \"\"\"\n",
    "        super(OutConv, self).__init__()\n",
    "        self.conv = nn.Conv2d(in_channels, out_channels, kernel_size=1)\n",
    "\n",
    "    def forward(self, x):\n",
    "        x = self.conv(x)\n",
    "        return x"
   ]
  },
  {
   "cell_type": "code",
   "execution_count": 12,
   "metadata": {
    "ExecuteTime": {
     "end_time": "2023-12-20T04:35:48.256565200Z",
     "start_time": "2023-12-20T04:35:48.181098100Z"
    }
   },
   "outputs": [],
   "source": [
    "class UNet(nn.Module):\n",
    "    \"\"\"\n",
    "    UNet model\n",
    "    \"\"\"\n",
    "\n",
    "    def __init__(self, n_channels, n_classes):\n",
    "        super(UNet, self).__init__()\n",
    "        self.n_channels = n_channels\n",
    "        self.n_classes = n_classes\n",
    "\n",
    "        #############################################################\n",
    "        #  implement the model according to the UNet architecture   #\n",
    "        ############################################################# \n",
    "        self.inc = DoubleConv(n_channels, 64)\n",
    "        self.down1 = Down(64, 128)\n",
    "        self.down2 = Down(128, 256)\n",
    "        self.down3 = Down(256, 512)\n",
    "        self.down4 = Down(512, 1024)\n",
    "        self.up1 = Up(1024, 512)\n",
    "        self.up2 = Up(512, 256)\n",
    "        self.up3 = Up(256, 128)\n",
    "        self.up4 = Up(128, 64)\n",
    "        self.outc = OutConv(64, n_classes)\n",
    "\n",
    "    def forward(self, x):\n",
    "        # Contracting Path\n",
    "        x1 = self.inc(x)\n",
    "        x2 = self.down1(x1)\n",
    "        x3 = self.down2(x2)\n",
    "        x4 = self.down3(x3)\n",
    "        x5 = self.down4(x4)\n",
    "\n",
    "        # Expansive Path\n",
    "        x = self.up1(x5, x4)\n",
    "        x = self.up2(x, x3)\n",
    "        x = self.up3(x, x2)\n",
    "        x = self.up4(x, x1)\n",
    "\n",
    "        # Output Layer\n",
    "        logits = self.outc(x)\n",
    "        return logits\n",
    "        #############################################################\n",
    "        #                   End of your code                        #\n",
    "        #############################################################"
   ]
  },
  {
   "cell_type": "code",
   "execution_count": 13,
   "metadata": {
    "ExecuteTime": {
     "end_time": "2023-12-20T04:35:48.511633900Z",
     "start_time": "2023-12-20T04:35:48.192565300Z"
    }
   },
   "outputs": [],
   "source": [
    "model = UNet(n_channels=3, n_classes=3)"
   ]
  },
  {
   "cell_type": "code",
   "execution_count": 14,
   "metadata": {
    "ExecuteTime": {
     "end_time": "2023-12-20T04:35:48.526992800Z",
     "start_time": "2023-12-20T04:35:48.512634Z"
    }
   },
   "outputs": [
    {
     "data": {
      "text/plain": [
       "UNet(\n",
       "  (inc): DoubleConv(\n",
       "    (double_conv): Sequential(\n",
       "      (0): Conv2d(3, 64, kernel_size=(3, 3), stride=(1, 1), padding=(1, 1))\n",
       "      (1): BatchNorm2d(64, eps=1e-05, momentum=0.1, affine=True, track_running_stats=True)\n",
       "      (2): ReLU(inplace=True)\n",
       "      (3): Conv2d(64, 64, kernel_size=(3, 3), stride=(1, 1), padding=(1, 1))\n",
       "      (4): BatchNorm2d(64, eps=1e-05, momentum=0.1, affine=True, track_running_stats=True)\n",
       "      (5): ReLU(inplace=True)\n",
       "    )\n",
       "  )\n",
       "  (down1): Down(\n",
       "    (maxpool_conv): Sequential(\n",
       "      (0): MaxPool2d(kernel_size=2, stride=2, padding=0, dilation=1, ceil_mode=False)\n",
       "      (1): DoubleConv(\n",
       "        (double_conv): Sequential(\n",
       "          (0): Conv2d(64, 128, kernel_size=(3, 3), stride=(1, 1), padding=(1, 1))\n",
       "          (1): BatchNorm2d(128, eps=1e-05, momentum=0.1, affine=True, track_running_stats=True)\n",
       "          (2): ReLU(inplace=True)\n",
       "          (3): Conv2d(128, 128, kernel_size=(3, 3), stride=(1, 1), padding=(1, 1))\n",
       "          (4): BatchNorm2d(128, eps=1e-05, momentum=0.1, affine=True, track_running_stats=True)\n",
       "          (5): ReLU(inplace=True)\n",
       "        )\n",
       "      )\n",
       "    )\n",
       "  )\n",
       "  (down2): Down(\n",
       "    (maxpool_conv): Sequential(\n",
       "      (0): MaxPool2d(kernel_size=2, stride=2, padding=0, dilation=1, ceil_mode=False)\n",
       "      (1): DoubleConv(\n",
       "        (double_conv): Sequential(\n",
       "          (0): Conv2d(128, 256, kernel_size=(3, 3), stride=(1, 1), padding=(1, 1))\n",
       "          (1): BatchNorm2d(256, eps=1e-05, momentum=0.1, affine=True, track_running_stats=True)\n",
       "          (2): ReLU(inplace=True)\n",
       "          (3): Conv2d(256, 256, kernel_size=(3, 3), stride=(1, 1), padding=(1, 1))\n",
       "          (4): BatchNorm2d(256, eps=1e-05, momentum=0.1, affine=True, track_running_stats=True)\n",
       "          (5): ReLU(inplace=True)\n",
       "        )\n",
       "      )\n",
       "    )\n",
       "  )\n",
       "  (down3): Down(\n",
       "    (maxpool_conv): Sequential(\n",
       "      (0): MaxPool2d(kernel_size=2, stride=2, padding=0, dilation=1, ceil_mode=False)\n",
       "      (1): DoubleConv(\n",
       "        (double_conv): Sequential(\n",
       "          (0): Conv2d(256, 512, kernel_size=(3, 3), stride=(1, 1), padding=(1, 1))\n",
       "          (1): BatchNorm2d(512, eps=1e-05, momentum=0.1, affine=True, track_running_stats=True)\n",
       "          (2): ReLU(inplace=True)\n",
       "          (3): Conv2d(512, 512, kernel_size=(3, 3), stride=(1, 1), padding=(1, 1))\n",
       "          (4): BatchNorm2d(512, eps=1e-05, momentum=0.1, affine=True, track_running_stats=True)\n",
       "          (5): ReLU(inplace=True)\n",
       "        )\n",
       "      )\n",
       "    )\n",
       "  )\n",
       "  (down4): Down(\n",
       "    (maxpool_conv): Sequential(\n",
       "      (0): MaxPool2d(kernel_size=2, stride=2, padding=0, dilation=1, ceil_mode=False)\n",
       "      (1): DoubleConv(\n",
       "        (double_conv): Sequential(\n",
       "          (0): Conv2d(512, 1024, kernel_size=(3, 3), stride=(1, 1), padding=(1, 1))\n",
       "          (1): BatchNorm2d(1024, eps=1e-05, momentum=0.1, affine=True, track_running_stats=True)\n",
       "          (2): ReLU(inplace=True)\n",
       "          (3): Conv2d(1024, 1024, kernel_size=(3, 3), stride=(1, 1), padding=(1, 1))\n",
       "          (4): BatchNorm2d(1024, eps=1e-05, momentum=0.1, affine=True, track_running_stats=True)\n",
       "          (5): ReLU(inplace=True)\n",
       "        )\n",
       "      )\n",
       "    )\n",
       "  )\n",
       "  (up1): Up(\n",
       "    (up): ConvTranspose2d(1024, 512, kernel_size=(2, 2), stride=(2, 2))\n",
       "    (conv): DoubleConv(\n",
       "      (double_conv): Sequential(\n",
       "        (0): Conv2d(1024, 512, kernel_size=(3, 3), stride=(1, 1), padding=(1, 1))\n",
       "        (1): BatchNorm2d(512, eps=1e-05, momentum=0.1, affine=True, track_running_stats=True)\n",
       "        (2): ReLU(inplace=True)\n",
       "        (3): Conv2d(512, 512, kernel_size=(3, 3), stride=(1, 1), padding=(1, 1))\n",
       "        (4): BatchNorm2d(512, eps=1e-05, momentum=0.1, affine=True, track_running_stats=True)\n",
       "        (5): ReLU(inplace=True)\n",
       "      )\n",
       "    )\n",
       "  )\n",
       "  (up2): Up(\n",
       "    (up): ConvTranspose2d(512, 256, kernel_size=(2, 2), stride=(2, 2))\n",
       "    (conv): DoubleConv(\n",
       "      (double_conv): Sequential(\n",
       "        (0): Conv2d(512, 256, kernel_size=(3, 3), stride=(1, 1), padding=(1, 1))\n",
       "        (1): BatchNorm2d(256, eps=1e-05, momentum=0.1, affine=True, track_running_stats=True)\n",
       "        (2): ReLU(inplace=True)\n",
       "        (3): Conv2d(256, 256, kernel_size=(3, 3), stride=(1, 1), padding=(1, 1))\n",
       "        (4): BatchNorm2d(256, eps=1e-05, momentum=0.1, affine=True, track_running_stats=True)\n",
       "        (5): ReLU(inplace=True)\n",
       "      )\n",
       "    )\n",
       "  )\n",
       "  (up3): Up(\n",
       "    (up): ConvTranspose2d(256, 128, kernel_size=(2, 2), stride=(2, 2))\n",
       "    (conv): DoubleConv(\n",
       "      (double_conv): Sequential(\n",
       "        (0): Conv2d(256, 128, kernel_size=(3, 3), stride=(1, 1), padding=(1, 1))\n",
       "        (1): BatchNorm2d(128, eps=1e-05, momentum=0.1, affine=True, track_running_stats=True)\n",
       "        (2): ReLU(inplace=True)\n",
       "        (3): Conv2d(128, 128, kernel_size=(3, 3), stride=(1, 1), padding=(1, 1))\n",
       "        (4): BatchNorm2d(128, eps=1e-05, momentum=0.1, affine=True, track_running_stats=True)\n",
       "        (5): ReLU(inplace=True)\n",
       "      )\n",
       "    )\n",
       "  )\n",
       "  (up4): Up(\n",
       "    (up): ConvTranspose2d(128, 64, kernel_size=(2, 2), stride=(2, 2))\n",
       "    (conv): DoubleConv(\n",
       "      (double_conv): Sequential(\n",
       "        (0): Conv2d(128, 64, kernel_size=(3, 3), stride=(1, 1), padding=(1, 1))\n",
       "        (1): BatchNorm2d(64, eps=1e-05, momentum=0.1, affine=True, track_running_stats=True)\n",
       "        (2): ReLU(inplace=True)\n",
       "        (3): Conv2d(64, 64, kernel_size=(3, 3), stride=(1, 1), padding=(1, 1))\n",
       "        (4): BatchNorm2d(64, eps=1e-05, momentum=0.1, affine=True, track_running_stats=True)\n",
       "        (5): ReLU(inplace=True)\n",
       "      )\n",
       "    )\n",
       "  )\n",
       "  (outc): OutConv(\n",
       "    (conv): Conv2d(64, 3, kernel_size=(1, 1), stride=(1, 1))\n",
       "  )\n",
       ")"
      ]
     },
     "execution_count": 14,
     "metadata": {},
     "output_type": "execute_result"
    }
   ],
   "source": [
    "model"
   ]
  },
  {
   "cell_type": "markdown",
   "metadata": {
    "id": "ncudHa0UJSgQ",
    "papermill": {
     "duration": 0.031715,
     "end_time": "2021-02-18T10:06:32.670851",
     "exception": false,
     "start_time": "2021-02-18T10:06:32.639136",
     "status": "completed"
    },
    "tags": []
   },
   "source": [
    "# Training\n",
    "\n",
    "In this section, you will implement some functions in your training loop. There are several crucial functions you need to implement:\n",
    "\n",
    "- Pixel Accuracy: Pixel Accuracy measures the percentage of correctly predicted pixels out of the total pixels in the image\n",
    "\n",
    "- mIoU (Mean Intersection over Union): mIoU evaluates the spatial overlap between the predicted and ground truth segmentation masks for multiple classes.\n",
    "\n",
    "- Dice Loss: Dice Loss quantifies the dissimilarity between the predicted and ground truth masks, emphasizing the agreement between the two masks\n",
    "\n",
    "Try to use labeled data design and train a segmentor (Unet) from scratch to predict the mask of a breast cancer lesions image. "
   ]
  },
  {
   "cell_type": "code",
   "execution_count": 15,
   "metadata": {
    "ExecuteTime": {
     "end_time": "2023-12-20T04:35:48.612296400Z",
     "start_time": "2023-12-20T04:35:48.525992900Z"
    },
    "execution": {
     "iopub.execute_input": "2023-10-07T09:51:51.219871Z",
     "iopub.status.busy": "2023-10-07T09:51:51.219382Z",
     "iopub.status.idle": "2023-10-07T09:51:51.229928Z",
     "shell.execute_reply": "2023-10-07T09:51:51.229293Z",
     "shell.execute_reply.started": "2023-10-07T09:51:51.219835Z"
    },
    "papermill": {
     "duration": 0.039711,
     "end_time": "2021-02-18T10:06:32.742919",
     "exception": false,
     "start_time": "2021-02-18T10:06:32.703208",
     "status": "completed"
    },
    "tags": [],
    "trusted": true
   },
   "outputs": [],
   "source": [
    "def pixel_accuracy(output, mask):\n",
    "    with torch.no_grad():\n",
    "        #############################################################################################################\n",
    "        #  1. Convert the output to class predictions using argmax after applying softmax                           # \n",
    "        #  2. Create a tensor of binary values indicating correct predictions                                       #\n",
    "        #  3. Calculate accuracy by dividing the number of correct predictions by the total number of predictions   #\n",
    "        #############################################################################################################\n",
    "        # Apply softmax and then argmax to get class predictions\n",
    "        predictions = torch.argmax(F.softmax(output, dim=1), dim=1)\n",
    "\n",
    "        # Create a binary tensor indicating correct predictions\n",
    "        correct_predictions = (predictions == mask)\n",
    "\n",
    "        # Calculate accuracy\n",
    "        accuracy = torch.sum(correct_predictions).item() / correct_predictions.numel()\n",
    "        #############################################################################################################\n",
    "        #                                      End of your code                                                     #\n",
    "        #############################################################################################################\n",
    "    return accuracy"
   ]
  },
  {
   "cell_type": "markdown",
   "metadata": {},
   "source": [
    "## mIoU\n",
    "\n",
    "mean Intersection over Union (mIoU), a metric used to evaluate the performance of a segmentation model. It takes predicted masks and ground truth masks as input, computes the IoU for each class, and returns the average IoU across all classes. \n",
    "\n",
    "![image](https://hackmd.io/_uploads/SkLIbhFL6.png)"
   ]
  },
  {
   "cell_type": "code",
   "execution_count": 16,
   "metadata": {
    "ExecuteTime": {
     "end_time": "2023-12-20T04:35:48.636295300Z",
     "start_time": "2023-12-20T04:35:48.554305700Z"
    },
    "execution": {
     "iopub.execute_input": "2023-10-07T09:51:51.231937Z",
     "iopub.status.busy": "2023-10-07T09:51:51.231409Z",
     "iopub.status.idle": "2023-10-07T09:51:51.241722Z",
     "shell.execute_reply": "2023-10-07T09:51:51.240971Z",
     "shell.execute_reply.started": "2023-10-07T09:51:51.231895Z"
    },
    "id": "5cqfcLtOJSgS",
    "papermill": {
     "duration": 0.048322,
     "end_time": "2021-02-18T10:06:32.826838",
     "exception": false,
     "start_time": "2021-02-18T10:06:32.778516",
     "status": "completed"
    },
    "tags": [],
    "trusted": true
   },
   "outputs": [],
   "source": [
    "def mIoU(pred_mask, mask, smooth=1e-10, n_classes=3):\n",
    "    with torch.no_grad():\n",
    "        pred_mask = F.softmax(pred_mask, dim=1)\n",
    "        pred_mask = torch.argmax(pred_mask, dim=1)\n",
    "        pred_mask = pred_mask.contiguous().view(-1)\n",
    "        mask = mask.contiguous().view(-1)\n",
    "\n",
    "        iou_per_class = []\n",
    "        for clas in range(0, n_classes): #loop per pixel class\n",
    "            true_class = pred_mask == clas\n",
    "            true_label = mask == clas\n",
    "\n",
    "            if true_label.long().sum().item() == 0: #no exist label in this loop\n",
    "                iou_per_class.append(np.nan)\n",
    "            else:\n",
    "\n",
    "                #############################################################################################################\n",
    "                #  Calculate the intersection of the true positive pixels for the current class                             # \n",
    "                #  Calculate the union of the true positive and false negative pixels for the current class                 #\n",
    "                #############################################################################################################\n",
    "                # Calculate the intersection and union\n",
    "                intersect = torch.logical_and(true_class, true_label).sum().item()\n",
    "                union = torch.logical_or(true_class, true_label).sum().item()\n",
    "                #############################################################################################################\n",
    "                #                                      End of your code                                                     #\n",
    "                #############################################################################################################\n",
    "                iou = (intersect + smooth) / (union +smooth)\n",
    "                iou_per_class.append(iou)\n",
    "        return np.nanmean(iou_per_class)"
   ]
  },
  {
   "cell_type": "markdown",
   "metadata": {},
   "source": [
    "## Dice Loss\n",
    "\n",
    "Dice loss is based on Sørensen-Dice coefficient. It measures the overlap between the predicted and target segmentation masks. Dice loss provides a differentiable and smooth measure of segmentation accuracy.\n",
    "\n",
    "${DiceLoss}(y, \\bar p) = 1 - \\cfrac{(2y\\bar p + \\epsilon)}{(y + \\bar p + \\epsilon)}$ \n",
    "\n",
    "- $y$ represents the ground truth mask.\n",
    "- $\\bar p$ represents the predicted mask.\n",
    "- $\\epsilon$ is a small constant added for numerical stability."
   ]
  },
  {
   "cell_type": "code",
   "execution_count": 17,
   "metadata": {
    "ExecuteTime": {
     "end_time": "2023-12-20T04:35:48.637295100Z",
     "start_time": "2023-12-20T04:35:48.577418700Z"
    }
   },
   "outputs": [],
   "source": [
    "class DiceLoss(nn.Module):\n",
    "    \"\"\"\n",
    "    Dice loss\n",
    "    \"\"\"\n",
    "\n",
    "    def __init__(self):\n",
    "        super(DiceLoss, self).__init__()\n",
    "\n",
    "    def forward(self, inputs, targets, eps=1e-6):\n",
    "        \"\"\"\n",
    "        Calculation of dice loss\n",
    "\n",
    "        :param inputs: model predictions\n",
    "        :param targets: target values\n",
    "        :param eps: stability factor, defaults to 1e-6\n",
    "        :return: loss value\n",
    "        \"\"\"\n",
    "        # \n",
    "        #######################################\n",
    "        #        implement dice loss          #                                                                      \n",
    "        #######################################\n",
    "        # Apply softmax to the inputs\n",
    "        inputs = torch.softmax(inputs, dim=1)\n",
    "\n",
    "        # Create the one-hot encoding of targets\n",
    "        targets_one_hot = F.one_hot(targets, num_classes=inputs.shape[1])\n",
    "        targets_one_hot = targets_one_hot.permute(0, 3, 1, 2).float()\n",
    "\n",
    "        # Flatten inputs and targets\n",
    "        inputs_flat = inputs.view(inputs.shape[0], inputs.shape[1], -1)\n",
    "        targets_flat = targets_one_hot.view(targets_one_hot.shape[0], targets_one_hot.shape[1], -1)\n",
    "\n",
    "        # Calculate intersection and union\n",
    "        intersection = torch.sum(inputs_flat * targets_flat, dim=2)\n",
    "        total = torch.sum(inputs_flat, dim=2) + torch.sum(targets_flat, dim=2)\n",
    "\n",
    "        # Calculate dice score for each class and average\n",
    "        dice = (2. * intersection + eps) / (total + eps)\n",
    "        dice = dice.mean(dim=1)  # Average over classes\n",
    "        #######################################\n",
    "        #          End of your code           #                              \n",
    "        #######################################\n",
    "        return 1.0 - dice.mean()"
   ]
  },
  {
   "cell_type": "markdown",
   "metadata": {},
   "source": [
    "# Training loop\n",
    "\n",
    "Call train function in a loop.  \n",
    "Take a break and wait."
   ]
  },
  {
   "cell_type": "code",
   "execution_count": 18,
   "metadata": {},
   "outputs": [
    {
     "data": {
      "text/plain": [
       "EMA(\n",
       "  (online_model): UNet(\n",
       "    (inc): DoubleConv(\n",
       "      (double_conv): Sequential(\n",
       "        (0): Conv2d(3, 64, kernel_size=(3, 3), stride=(1, 1), padding=(1, 1))\n",
       "        (1): BatchNorm2d(64, eps=1e-05, momentum=0.1, affine=True, track_running_stats=True)\n",
       "        (2): ReLU(inplace=True)\n",
       "        (3): Conv2d(64, 64, kernel_size=(3, 3), stride=(1, 1), padding=(1, 1))\n",
       "        (4): BatchNorm2d(64, eps=1e-05, momentum=0.1, affine=True, track_running_stats=True)\n",
       "        (5): ReLU(inplace=True)\n",
       "      )\n",
       "    )\n",
       "    (down1): Down(\n",
       "      (maxpool_conv): Sequential(\n",
       "        (0): MaxPool2d(kernel_size=2, stride=2, padding=0, dilation=1, ceil_mode=False)\n",
       "        (1): DoubleConv(\n",
       "          (double_conv): Sequential(\n",
       "            (0): Conv2d(64, 128, kernel_size=(3, 3), stride=(1, 1), padding=(1, 1))\n",
       "            (1): BatchNorm2d(128, eps=1e-05, momentum=0.1, affine=True, track_running_stats=True)\n",
       "            (2): ReLU(inplace=True)\n",
       "            (3): Conv2d(128, 128, kernel_size=(3, 3), stride=(1, 1), padding=(1, 1))\n",
       "            (4): BatchNorm2d(128, eps=1e-05, momentum=0.1, affine=True, track_running_stats=True)\n",
       "            (5): ReLU(inplace=True)\n",
       "          )\n",
       "        )\n",
       "      )\n",
       "    )\n",
       "    (down2): Down(\n",
       "      (maxpool_conv): Sequential(\n",
       "        (0): MaxPool2d(kernel_size=2, stride=2, padding=0, dilation=1, ceil_mode=False)\n",
       "        (1): DoubleConv(\n",
       "          (double_conv): Sequential(\n",
       "            (0): Conv2d(128, 256, kernel_size=(3, 3), stride=(1, 1), padding=(1, 1))\n",
       "            (1): BatchNorm2d(256, eps=1e-05, momentum=0.1, affine=True, track_running_stats=True)\n",
       "            (2): ReLU(inplace=True)\n",
       "            (3): Conv2d(256, 256, kernel_size=(3, 3), stride=(1, 1), padding=(1, 1))\n",
       "            (4): BatchNorm2d(256, eps=1e-05, momentum=0.1, affine=True, track_running_stats=True)\n",
       "            (5): ReLU(inplace=True)\n",
       "          )\n",
       "        )\n",
       "      )\n",
       "    )\n",
       "    (down3): Down(\n",
       "      (maxpool_conv): Sequential(\n",
       "        (0): MaxPool2d(kernel_size=2, stride=2, padding=0, dilation=1, ceil_mode=False)\n",
       "        (1): DoubleConv(\n",
       "          (double_conv): Sequential(\n",
       "            (0): Conv2d(256, 512, kernel_size=(3, 3), stride=(1, 1), padding=(1, 1))\n",
       "            (1): BatchNorm2d(512, eps=1e-05, momentum=0.1, affine=True, track_running_stats=True)\n",
       "            (2): ReLU(inplace=True)\n",
       "            (3): Conv2d(512, 512, kernel_size=(3, 3), stride=(1, 1), padding=(1, 1))\n",
       "            (4): BatchNorm2d(512, eps=1e-05, momentum=0.1, affine=True, track_running_stats=True)\n",
       "            (5): ReLU(inplace=True)\n",
       "          )\n",
       "        )\n",
       "      )\n",
       "    )\n",
       "    (down4): Down(\n",
       "      (maxpool_conv): Sequential(\n",
       "        (0): MaxPool2d(kernel_size=2, stride=2, padding=0, dilation=1, ceil_mode=False)\n",
       "        (1): DoubleConv(\n",
       "          (double_conv): Sequential(\n",
       "            (0): Conv2d(512, 1024, kernel_size=(3, 3), stride=(1, 1), padding=(1, 1))\n",
       "            (1): BatchNorm2d(1024, eps=1e-05, momentum=0.1, affine=True, track_running_stats=True)\n",
       "            (2): ReLU(inplace=True)\n",
       "            (3): Conv2d(1024, 1024, kernel_size=(3, 3), stride=(1, 1), padding=(1, 1))\n",
       "            (4): BatchNorm2d(1024, eps=1e-05, momentum=0.1, affine=True, track_running_stats=True)\n",
       "            (5): ReLU(inplace=True)\n",
       "          )\n",
       "        )\n",
       "      )\n",
       "    )\n",
       "    (up1): Up(\n",
       "      (up): ConvTranspose2d(1024, 512, kernel_size=(2, 2), stride=(2, 2))\n",
       "      (conv): DoubleConv(\n",
       "        (double_conv): Sequential(\n",
       "          (0): Conv2d(1024, 512, kernel_size=(3, 3), stride=(1, 1), padding=(1, 1))\n",
       "          (1): BatchNorm2d(512, eps=1e-05, momentum=0.1, affine=True, track_running_stats=True)\n",
       "          (2): ReLU(inplace=True)\n",
       "          (3): Conv2d(512, 512, kernel_size=(3, 3), stride=(1, 1), padding=(1, 1))\n",
       "          (4): BatchNorm2d(512, eps=1e-05, momentum=0.1, affine=True, track_running_stats=True)\n",
       "          (5): ReLU(inplace=True)\n",
       "        )\n",
       "      )\n",
       "    )\n",
       "    (up2): Up(\n",
       "      (up): ConvTranspose2d(512, 256, kernel_size=(2, 2), stride=(2, 2))\n",
       "      (conv): DoubleConv(\n",
       "        (double_conv): Sequential(\n",
       "          (0): Conv2d(512, 256, kernel_size=(3, 3), stride=(1, 1), padding=(1, 1))\n",
       "          (1): BatchNorm2d(256, eps=1e-05, momentum=0.1, affine=True, track_running_stats=True)\n",
       "          (2): ReLU(inplace=True)\n",
       "          (3): Conv2d(256, 256, kernel_size=(3, 3), stride=(1, 1), padding=(1, 1))\n",
       "          (4): BatchNorm2d(256, eps=1e-05, momentum=0.1, affine=True, track_running_stats=True)\n",
       "          (5): ReLU(inplace=True)\n",
       "        )\n",
       "      )\n",
       "    )\n",
       "    (up3): Up(\n",
       "      (up): ConvTranspose2d(256, 128, kernel_size=(2, 2), stride=(2, 2))\n",
       "      (conv): DoubleConv(\n",
       "        (double_conv): Sequential(\n",
       "          (0): Conv2d(256, 128, kernel_size=(3, 3), stride=(1, 1), padding=(1, 1))\n",
       "          (1): BatchNorm2d(128, eps=1e-05, momentum=0.1, affine=True, track_running_stats=True)\n",
       "          (2): ReLU(inplace=True)\n",
       "          (3): Conv2d(128, 128, kernel_size=(3, 3), stride=(1, 1), padding=(1, 1))\n",
       "          (4): BatchNorm2d(128, eps=1e-05, momentum=0.1, affine=True, track_running_stats=True)\n",
       "          (5): ReLU(inplace=True)\n",
       "        )\n",
       "      )\n",
       "    )\n",
       "    (up4): Up(\n",
       "      (up): ConvTranspose2d(128, 64, kernel_size=(2, 2), stride=(2, 2))\n",
       "      (conv): DoubleConv(\n",
       "        (double_conv): Sequential(\n",
       "          (0): Conv2d(128, 64, kernel_size=(3, 3), stride=(1, 1), padding=(1, 1))\n",
       "          (1): BatchNorm2d(64, eps=1e-05, momentum=0.1, affine=True, track_running_stats=True)\n",
       "          (2): ReLU(inplace=True)\n",
       "          (3): Conv2d(64, 64, kernel_size=(3, 3), stride=(1, 1), padding=(1, 1))\n",
       "          (4): BatchNorm2d(64, eps=1e-05, momentum=0.1, affine=True, track_running_stats=True)\n",
       "          (5): ReLU(inplace=True)\n",
       "        )\n",
       "      )\n",
       "    )\n",
       "    (outc): OutConv(\n",
       "      (conv): Conv2d(64, 3, kernel_size=(1, 1), stride=(1, 1))\n",
       "    )\n",
       "  )\n",
       "  (ema_model): UNet(\n",
       "    (inc): DoubleConv(\n",
       "      (double_conv): Sequential(\n",
       "        (0): Conv2d(3, 64, kernel_size=(3, 3), stride=(1, 1), padding=(1, 1))\n",
       "        (1): BatchNorm2d(64, eps=1e-05, momentum=0.1, affine=True, track_running_stats=True)\n",
       "        (2): ReLU(inplace=True)\n",
       "        (3): Conv2d(64, 64, kernel_size=(3, 3), stride=(1, 1), padding=(1, 1))\n",
       "        (4): BatchNorm2d(64, eps=1e-05, momentum=0.1, affine=True, track_running_stats=True)\n",
       "        (5): ReLU(inplace=True)\n",
       "      )\n",
       "    )\n",
       "    (down1): Down(\n",
       "      (maxpool_conv): Sequential(\n",
       "        (0): MaxPool2d(kernel_size=2, stride=2, padding=0, dilation=1, ceil_mode=False)\n",
       "        (1): DoubleConv(\n",
       "          (double_conv): Sequential(\n",
       "            (0): Conv2d(64, 128, kernel_size=(3, 3), stride=(1, 1), padding=(1, 1))\n",
       "            (1): BatchNorm2d(128, eps=1e-05, momentum=0.1, affine=True, track_running_stats=True)\n",
       "            (2): ReLU(inplace=True)\n",
       "            (3): Conv2d(128, 128, kernel_size=(3, 3), stride=(1, 1), padding=(1, 1))\n",
       "            (4): BatchNorm2d(128, eps=1e-05, momentum=0.1, affine=True, track_running_stats=True)\n",
       "            (5): ReLU(inplace=True)\n",
       "          )\n",
       "        )\n",
       "      )\n",
       "    )\n",
       "    (down2): Down(\n",
       "      (maxpool_conv): Sequential(\n",
       "        (0): MaxPool2d(kernel_size=2, stride=2, padding=0, dilation=1, ceil_mode=False)\n",
       "        (1): DoubleConv(\n",
       "          (double_conv): Sequential(\n",
       "            (0): Conv2d(128, 256, kernel_size=(3, 3), stride=(1, 1), padding=(1, 1))\n",
       "            (1): BatchNorm2d(256, eps=1e-05, momentum=0.1, affine=True, track_running_stats=True)\n",
       "            (2): ReLU(inplace=True)\n",
       "            (3): Conv2d(256, 256, kernel_size=(3, 3), stride=(1, 1), padding=(1, 1))\n",
       "            (4): BatchNorm2d(256, eps=1e-05, momentum=0.1, affine=True, track_running_stats=True)\n",
       "            (5): ReLU(inplace=True)\n",
       "          )\n",
       "        )\n",
       "      )\n",
       "    )\n",
       "    (down3): Down(\n",
       "      (maxpool_conv): Sequential(\n",
       "        (0): MaxPool2d(kernel_size=2, stride=2, padding=0, dilation=1, ceil_mode=False)\n",
       "        (1): DoubleConv(\n",
       "          (double_conv): Sequential(\n",
       "            (0): Conv2d(256, 512, kernel_size=(3, 3), stride=(1, 1), padding=(1, 1))\n",
       "            (1): BatchNorm2d(512, eps=1e-05, momentum=0.1, affine=True, track_running_stats=True)\n",
       "            (2): ReLU(inplace=True)\n",
       "            (3): Conv2d(512, 512, kernel_size=(3, 3), stride=(1, 1), padding=(1, 1))\n",
       "            (4): BatchNorm2d(512, eps=1e-05, momentum=0.1, affine=True, track_running_stats=True)\n",
       "            (5): ReLU(inplace=True)\n",
       "          )\n",
       "        )\n",
       "      )\n",
       "    )\n",
       "    (down4): Down(\n",
       "      (maxpool_conv): Sequential(\n",
       "        (0): MaxPool2d(kernel_size=2, stride=2, padding=0, dilation=1, ceil_mode=False)\n",
       "        (1): DoubleConv(\n",
       "          (double_conv): Sequential(\n",
       "            (0): Conv2d(512, 1024, kernel_size=(3, 3), stride=(1, 1), padding=(1, 1))\n",
       "            (1): BatchNorm2d(1024, eps=1e-05, momentum=0.1, affine=True, track_running_stats=True)\n",
       "            (2): ReLU(inplace=True)\n",
       "            (3): Conv2d(1024, 1024, kernel_size=(3, 3), stride=(1, 1), padding=(1, 1))\n",
       "            (4): BatchNorm2d(1024, eps=1e-05, momentum=0.1, affine=True, track_running_stats=True)\n",
       "            (5): ReLU(inplace=True)\n",
       "          )\n",
       "        )\n",
       "      )\n",
       "    )\n",
       "    (up1): Up(\n",
       "      (up): ConvTranspose2d(1024, 512, kernel_size=(2, 2), stride=(2, 2))\n",
       "      (conv): DoubleConv(\n",
       "        (double_conv): Sequential(\n",
       "          (0): Conv2d(1024, 512, kernel_size=(3, 3), stride=(1, 1), padding=(1, 1))\n",
       "          (1): BatchNorm2d(512, eps=1e-05, momentum=0.1, affine=True, track_running_stats=True)\n",
       "          (2): ReLU(inplace=True)\n",
       "          (3): Conv2d(512, 512, kernel_size=(3, 3), stride=(1, 1), padding=(1, 1))\n",
       "          (4): BatchNorm2d(512, eps=1e-05, momentum=0.1, affine=True, track_running_stats=True)\n",
       "          (5): ReLU(inplace=True)\n",
       "        )\n",
       "      )\n",
       "    )\n",
       "    (up2): Up(\n",
       "      (up): ConvTranspose2d(512, 256, kernel_size=(2, 2), stride=(2, 2))\n",
       "      (conv): DoubleConv(\n",
       "        (double_conv): Sequential(\n",
       "          (0): Conv2d(512, 256, kernel_size=(3, 3), stride=(1, 1), padding=(1, 1))\n",
       "          (1): BatchNorm2d(256, eps=1e-05, momentum=0.1, affine=True, track_running_stats=True)\n",
       "          (2): ReLU(inplace=True)\n",
       "          (3): Conv2d(256, 256, kernel_size=(3, 3), stride=(1, 1), padding=(1, 1))\n",
       "          (4): BatchNorm2d(256, eps=1e-05, momentum=0.1, affine=True, track_running_stats=True)\n",
       "          (5): ReLU(inplace=True)\n",
       "        )\n",
       "      )\n",
       "    )\n",
       "    (up3): Up(\n",
       "      (up): ConvTranspose2d(256, 128, kernel_size=(2, 2), stride=(2, 2))\n",
       "      (conv): DoubleConv(\n",
       "        (double_conv): Sequential(\n",
       "          (0): Conv2d(256, 128, kernel_size=(3, 3), stride=(1, 1), padding=(1, 1))\n",
       "          (1): BatchNorm2d(128, eps=1e-05, momentum=0.1, affine=True, track_running_stats=True)\n",
       "          (2): ReLU(inplace=True)\n",
       "          (3): Conv2d(128, 128, kernel_size=(3, 3), stride=(1, 1), padding=(1, 1))\n",
       "          (4): BatchNorm2d(128, eps=1e-05, momentum=0.1, affine=True, track_running_stats=True)\n",
       "          (5): ReLU(inplace=True)\n",
       "        )\n",
       "      )\n",
       "    )\n",
       "    (up4): Up(\n",
       "      (up): ConvTranspose2d(128, 64, kernel_size=(2, 2), stride=(2, 2))\n",
       "      (conv): DoubleConv(\n",
       "        (double_conv): Sequential(\n",
       "          (0): Conv2d(128, 64, kernel_size=(3, 3), stride=(1, 1), padding=(1, 1))\n",
       "          (1): BatchNorm2d(64, eps=1e-05, momentum=0.1, affine=True, track_running_stats=True)\n",
       "          (2): ReLU(inplace=True)\n",
       "          (3): Conv2d(64, 64, kernel_size=(3, 3), stride=(1, 1), padding=(1, 1))\n",
       "          (4): BatchNorm2d(64, eps=1e-05, momentum=0.1, affine=True, track_running_stats=True)\n",
       "          (5): ReLU(inplace=True)\n",
       "        )\n",
       "      )\n",
       "    )\n",
       "    (outc): OutConv(\n",
       "      (conv): Conv2d(64, 3, kernel_size=(1, 1), stride=(1, 1))\n",
       "    )\n",
       "  )\n",
       ")"
      ]
     },
     "execution_count": 18,
     "metadata": {},
     "output_type": "execute_result"
    }
   ],
   "source": [
    "from ema_pytorch import EMA\n",
    "\n",
    "alpha = 0.999  # decay factor for EMA\n",
    "global_step = 0  # to keep track of the number of steps\n",
    "\n",
    "# Initialize EMA with your model and decay rate\n",
    "# Initialize EMA\n",
    "ema = EMA(\n",
    "    model=model,\n",
    "    beta=0.9999,  # Decay rate for EMA\n",
    "    update_after_step=100,  # Number of steps after which to start updating EMA\n",
    "    update_every=10,  # Frequency of updates (every 10 steps)\n",
    "    # Other parameters as needed\n",
    ")\n",
    "\n",
    "ema.to(device)"
   ]
  },
  {
   "cell_type": "code",
   "execution_count": 19,
   "metadata": {
    "ExecuteTime": {
     "end_time": "2023-12-20T04:35:48.708663Z",
     "start_time": "2023-12-20T04:35:48.603297500Z"
    },
    "execution": {
     "iopub.execute_input": "2023-10-07T09:51:51.24363Z",
     "iopub.status.busy": "2023-10-07T09:51:51.243068Z",
     "iopub.status.idle": "2023-10-07T09:51:51.262225Z",
     "shell.execute_reply": "2023-10-07T09:51:51.26144Z",
     "shell.execute_reply.started": "2023-10-07T09:51:51.243596Z"
    },
    "id": "8i9UIFUJJSgZ",
    "papermill": {
     "duration": 0.060048,
     "end_time": "2021-02-18T10:06:32.922403",
     "exception": false,
     "start_time": "2021-02-18T10:06:32.862355",
     "status": "completed"
    },
    "tags": [],
    "trusted": true
   },
   "outputs": [],
   "source": [
    "def save_checkpoint(state, filename=\"checkpoint.pth.tar\"):\n",
    "    \"\"\"Save the current training state as a checkpoint.\"\"\"\n",
    "    torch.save(state, filename)\n",
    "\n",
    "\n",
    "def get_lr(optimizer):\n",
    "    for param_group in optimizer.param_groups:\n",
    "        return param_group['lr']\n",
    "\n",
    "def fit(epochs, model, train_loader, val_loader, criterion1, criterion2, optimizer, scheduler, patch=False):\n",
    "    torch.cuda.empty_cache()\n",
    "    train_losses = []\n",
    "    test_losses = []\n",
    "    ema_losses = []\n",
    "    val_iou = []; val_acc = []\n",
    "    train_iou = []; train_acc = []\n",
    "    ema_iou = []; ema_acc = []\n",
    "    lrs = []\n",
    "    min_loss = np.inf\n",
    "    max_iou = 0\n",
    "    decrease = 1 ; not_improve=0\n",
    "\n",
    "    model.to(device)\n",
    "    fit_time = time.time()\n",
    "    \n",
    "    # Check if there's a checkpoint to resume from\n",
    "    if os.path.exists('last_checkpoint.pth.tar'):\n",
    "        checkpoint = torch.load('last_checkpoint.pth.tar')\n",
    "        model.load_state_dict(checkpoint['model_state'])\n",
    "        ema.load_state_dict(checkpoint['ema_state'])\n",
    "        optimizer.load_state_dict(checkpoint['optimizer_state'])\n",
    "        scheduler.load_state_dict(checkpoint['scheduler_state'])\n",
    "        train_losses = checkpoint['train_losses']\n",
    "        test_losses = checkpoint['test_losses']\n",
    "        ema_losses = checkpoint['ema_losses']\n",
    "        val_iou = checkpoint['val_iou']\n",
    "        val_acc = checkpoint['val_acc']\n",
    "        train_iou = checkpoint['train_iou']\n",
    "        train_acc = checkpoint['train_acc']\n",
    "        ema_iou = checkpoint['ema_iou']\n",
    "        ema_acc = checkpoint['ema_acc']\n",
    "        lrs = checkpoint['lrs']\n",
    "        decrease = checkpoint['decrease']\n",
    "        not_improve = checkpoint['not_improve']\n",
    "        min_loss = checkpoint['min_loss']\n",
    "        max_iou = checkpoint['max_iou']\n",
    "        start_epoch = checkpoint['epoch']\n",
    "    else:\n",
    "        start_epoch = 0\n",
    "    \n",
    "    \n",
    "    for e in range(start_epoch, epochs):\n",
    "        since = time.time()\n",
    "        running_loss = 0\n",
    "        iou_score = 0\n",
    "        accuracy = 0\n",
    "        #training loop\n",
    "        model.train()\n",
    "        train_loop = tqdm(train_loader, desc='Training', leave=True)\n",
    "        for i, data in enumerate(train_loop):\n",
    "            #training phase\n",
    "            ########################################################################\n",
    "            # TODO: Forward, backward and optimize                                 #\n",
    "            # 1. process input through the network                                 #\n",
    "            # 2. compute the two losses                                            #\n",
    "            # 3. calculate mIoU and pixel accuracy                                   #\n",
    "            # 4. propagate gradients back into the network’s parameters            #\n",
    "            # 5. update the weights of the network                                 #\n",
    "            # 6. reset gradient                                                    #\n",
    "            ########################################################################\n",
    "            image, mask = data\n",
    "            image = image.to(device)\n",
    "            mask = mask.to(device)\n",
    "\n",
    "            # 1. process input through the network\n",
    "            output = model(image)\n",
    "\n",
    "            # 2. Compute the two losses\n",
    "            loss = criterion1(output, mask) + criterion2(output, mask)\n",
    "\n",
    "            # 3. Calculate mIoU and pixel accuracy\n",
    "            iou_score += mIoU(output, mask)\n",
    "            accuracy += pixel_accuracy(output, mask)\n",
    "\n",
    "            # 4. Propagate gradients back into the network’s parameters\n",
    "            loss.backward()\n",
    "\n",
    "            # 5. Update the weights of the network\n",
    "            optimizer.step()\n",
    "\n",
    "            # 6. Reset gradient\n",
    "            optimizer.zero_grad()\n",
    "\n",
    "            # Show Current Mean Loss, Mean mIoU, Mean Accuracy to tqdm\n",
    "            train_loop.set_postfix(loss=(running_loss + loss.item())/(i+1), mIoU=iou_score/(i+1), acc=accuracy/(i+1))\n",
    "            \n",
    "            # Update EMA after every training step\n",
    "            ema.update()\n",
    "            ########################################################################\n",
    "            #                           End of your code                           #\n",
    "            ########################################################################\n",
    "            #step the learning rate\n",
    "            lrs.append(get_lr(optimizer))\n",
    "            scheduler.step() \n",
    "            \n",
    "            running_loss += loss.item()\n",
    "            \n",
    "        else:\n",
    "            model.eval()\n",
    "            test_loss = 0\n",
    "            test_accuracy = 0\n",
    "            val_iou_score = 0\n",
    "            \n",
    "            ema_loss = 0\n",
    "            ema_accuracy = 0\n",
    "            ema_iou_score = 0\n",
    "\n",
    "            val_loop = tqdm(val_loader, desc='Validation', leave=True)\n",
    "            #validation loop\n",
    "            with torch.no_grad():\n",
    "                for i, data in enumerate(val_loop):\n",
    "                    ########################################################################\n",
    "                    # TODO: Forward, backward and optimize                                 #\n",
    "                    # 1. process input through the network                                 #\n",
    "                    # 2. compute the two losses                                            #\n",
    "                    # 3. caluate mIoU and piexl accuracy                                   #\n",
    "                    # 4. save this batch's loss into test_loss                             #\n",
    "                    ########################################################################\n",
    "                    image, mask = data\n",
    "                    image = image.to(device)\n",
    "                    mask = mask.to(device)\n",
    "\n",
    "                    # 1. Process input through the network\n",
    "                    output = model(image)\n",
    "\n",
    "                    # 2. Compute the two losses\n",
    "                    loss = criterion1(output, mask) + criterion2(output, mask)\n",
    "\n",
    "                    # 3. Calculate mIoU and pixel accuracy\n",
    "                    val_iou_score += mIoU(output, mask)\n",
    "                    test_accuracy += pixel_accuracy(output, mask)\n",
    "\n",
    "                    # 4. Save this batch's loss into test_loss\n",
    "                    test_loss += loss.item()\n",
    "                    \n",
    "                    # Get exponential moving average of model predictions\n",
    "                    output = ema(image)\n",
    "                    loss = criterion1(output, mask) + criterion2(output, mask)\n",
    "                    ema_iou_score += mIoU(output, mask)\n",
    "                    ema_accuracy += pixel_accuracy(output, mask)\n",
    "                    ema_loss += loss.item()\n",
    "\n",
    "                    # Show Current Mean Loss, Mean mIoU, Mean Accuracy to tqdm\n",
    "                    val_loop.set_postfix(loss=test_loss/(i+1), mIoU=val_iou_score/(i+1), acc=test_accuracy/(i+1), ema_loss=ema_loss/(i+1), ema_mIoU=ema_iou_score/(i+1), ema_acc=ema_accuracy/(i+1))\n",
    "                    ########################################################################\n",
    "                    #                           End of your code                           #\n",
    "                    ########################################################################\n",
    "            \n",
    "            #calculatio mean for each batch\n",
    "            train_losses.append(running_loss/len(train_loader))\n",
    "            test_losses.append(test_loss/len(val_loader))\n",
    "            ema_losses.append(ema_loss/len(val_loader))\n",
    "\n",
    "\n",
    "            if min_loss > (test_loss/len(val_loader)):\n",
    "                print('Loss Decreasing.. {:.3f} >> {:.3f} '.format(min_loss, (test_loss/len(val_loader))))\n",
    "                min_loss = (test_loss/len(val_loader))\n",
    "                decrease += 1\n",
    "                torch.save(model, 'Unet-Mobilenet_v2_mIoU-best.pt'.format(val_iou_score/len(val_loader)))\n",
    "                if decrease % 5 == 0:\n",
    "                    print('saving model...')\n",
    "                    torch.save(model, 'Unet-Mobilenet_v2_mIoU-{:.3f}.pt'.format(val_iou_score/len(val_loader)))\n",
    "                    \n",
    "            if ema_iou_score/len(val_loader) > max_iou:\n",
    "                print('EMA mIoU Increasing.. {:.3f} >> {:.3f} '.format(max_iou, ema_iou_score/len(val_loader)))\n",
    "                max_iou = (ema_iou_score/len(val_loader))\n",
    "                torch.save(ema, 'Unet-Mobilenet_v2_EMA_mIoU-best.pt'.format(val_iou_score))\n",
    "                    \n",
    "\n",
    "            if (test_loss/len(val_loader)) > min_loss:\n",
    "                not_improve += 1\n",
    "                min_loss = (test_loss/len(val_loader))\n",
    "                print(f'Loss Not Decrease for {not_improve} time')\n",
    "                if not_improve == 5:\n",
    "                    print('Loss not decrease for 5 times, Stop Training')\n",
    "                    break\n",
    "            else:\n",
    "                not_improve = 0\n",
    "            \n",
    "            #iou\n",
    "            val_iou.append(val_iou_score/len(val_loader))\n",
    "            train_iou.append(iou_score/len(train_loader))\n",
    "            ema_iou.append(ema_iou_score/len(val_loader))\n",
    "            \n",
    "            train_acc.append(accuracy/len(train_loader))\n",
    "            val_acc.append(test_accuracy/ len(val_loader))\n",
    "            ema_acc.append(ema_accuracy/len(val_loader))\n",
    "            \n",
    "            print(\"Epoch:{}/{}..\".format(e+1, epochs),\n",
    "                  \"Train Loss: {:.3f}..\".format(running_loss/len(train_loader)),\n",
    "                  \"Val Loss: {:.3f}..\".format(test_loss/len(val_loader)),\n",
    "                  \"Train mIoU:{:.3f}..\".format(iou_score/len(train_loader)),\n",
    "                  \"Val mIoU: {:.3f}..\".format(val_iou_score/len(val_loader)),\n",
    "                  \"Train Acc:{:.3f}..\".format(accuracy/len(train_loader)),\n",
    "                  \"Val Acc:{:.3f}..\".format(test_accuracy/len(val_loader)),\n",
    "                  \"Time: {:.2f}m\".format((time.time()-since)/60))\n",
    "    \n",
    "        # Save checkpoint\n",
    "        state = {\n",
    "            'epoch': e + 1,\n",
    "            'model_state': model.state_dict(),\n",
    "            'ema_state': ema.state_dict(),\n",
    "            'optimizer_state': optimizer.state_dict(),\n",
    "            'scheduler_state': scheduler.state_dict(),\n",
    "            'train_losses': train_losses,\n",
    "            'test_losses': test_losses,\n",
    "            'ema_losses': ema_losses,\n",
    "            'val_iou': val_iou,\n",
    "            'val_acc': val_acc,\n",
    "            'train_iou': train_iou,\n",
    "            'train_acc': train_acc,\n",
    "            'ema_iou': ema_iou,\n",
    "            'ema_acc': ema_acc,\n",
    "            'lrs': lrs,\n",
    "            'decrease': decrease,\n",
    "            'not_improve': not_improve,\n",
    "            'min_loss': min_loss,\n",
    "            'max_iou': max_iou\n",
    "        }\n",
    "        save_checkpoint(state, filename='last_checkpoint.pth.tar')\n",
    "        \n",
    "    history = {'train_loss' : train_losses, 'val_loss': test_losses, 'ema_loss': ema_losses,\n",
    "               'train_miou' :train_iou, 'val_miou':val_iou, 'ema_miou':ema_iou,\n",
    "               'train_acc' :train_acc, 'val_acc':val_acc, 'ema_acc':ema_acc,\n",
    "               'lrs': lrs}\n",
    "    print('Total time: {:.2f} m' .format((time.time()- fit_time)/60))\n",
    "    return history"
   ]
  },
  {
   "cell_type": "code",
   "execution_count": 20,
   "metadata": {
    "ExecuteTime": {
     "start_time": "2023-12-20T04:35:48.710670500Z"
    },
    "execution": {
     "iopub.execute_input": "2023-10-07T09:51:51.263871Z",
     "iopub.status.busy": "2023-10-07T09:51:51.263388Z",
     "iopub.status.idle": "2023-10-07T10:59:19.931143Z",
     "shell.execute_reply": "2023-10-07T10:59:19.930125Z",
     "shell.execute_reply.started": "2023-10-07T09:51:51.263837Z"
    },
    "id": "vo-VQwfJJSgg",
    "is_executing": true,
    "outputId": "6f9ba55a-1dc1-49e2-f4ef-6fac29b235e8",
    "papermill": {
     "duration": 3881.864248,
     "end_time": "2021-02-18T11:11:14.819081",
     "exception": false,
     "start_time": "2021-02-18T10:06:32.954833",
     "status": "completed"
    },
    "tags": [],
    "trusted": true
   },
   "outputs": [
    {
     "data": {
      "application/vnd.jupyter.widget-view+json": {
       "model_id": "53c6ed006be949238f0b536a14d7f495",
       "version_major": 2,
       "version_minor": 0
      },
      "text/plain": [
       "Training:   0%|          | 0/3076 [00:00<?, ?it/s]"
      ]
     },
     "metadata": {},
     "output_type": "display_data"
    },
    {
     "data": {
      "application/vnd.jupyter.widget-view+json": {
       "model_id": "712605f6636a4edd8f2488023154b180",
       "version_major": 2,
       "version_minor": 0
      },
      "text/plain": [
       "Validation:   0%|          | 0/543 [00:00<?, ?it/s]"
      ]
     },
     "metadata": {},
     "output_type": "display_data"
    },
    {
     "name": "stdout",
     "output_type": "stream",
     "text": [
      "Loss Decreasing.. 1.405 >> 1.391 \n",
      "saving model...\n",
      "EMA mIoU Increasing.. 0.575 >> 0.576 \n",
      "Epoch:19/50.. Train Loss: 1.447.. Val Loss: 1.391.. Train mIoU:0.542.. Val mIoU: 0.578.. Train Acc:0.719.. Val Acc:0.749.. Time: 54.59m\n"
     ]
    },
    {
     "data": {
      "application/vnd.jupyter.widget-view+json": {
       "model_id": "61a4c000820a4f24a46c61717c977d1f",
       "version_major": 2,
       "version_minor": 0
      },
      "text/plain": [
       "Training:   0%|          | 0/3076 [00:00<?, ?it/s]"
      ]
     },
     "metadata": {},
     "output_type": "display_data"
    },
    {
     "data": {
      "application/vnd.jupyter.widget-view+json": {
       "model_id": "e5e850357a3e4052bd09d3e5f139235d",
       "version_major": 2,
       "version_minor": 0
      },
      "text/plain": [
       "Validation:   0%|          | 0/543 [00:00<?, ?it/s]"
      ]
     },
     "metadata": {},
     "output_type": "display_data"
    },
    {
     "name": "stdout",
     "output_type": "stream",
     "text": [
      "Loss Decreasing.. 1.391 >> 1.388 \n",
      "EMA mIoU Increasing.. 0.576 >> 0.576 \n",
      "Epoch:20/50.. Train Loss: 1.443.. Val Loss: 1.388.. Train mIoU:0.545.. Val mIoU: 0.580.. Train Acc:0.721.. Val Acc:0.749.. Time: 53.62m\n"
     ]
    },
    {
     "data": {
      "application/vnd.jupyter.widget-view+json": {
       "model_id": "5639d69c2b6e4252bfa0f32cca99f0f7",
       "version_major": 2,
       "version_minor": 0
      },
      "text/plain": [
       "Training:   0%|          | 0/3076 [00:00<?, ?it/s]"
      ]
     },
     "metadata": {},
     "output_type": "display_data"
    },
    {
     "data": {
      "application/vnd.jupyter.widget-view+json": {
       "model_id": "86757410ff1644efbe8a17e247607843",
       "version_major": 2,
       "version_minor": 0
      },
      "text/plain": [
       "Validation:   0%|          | 0/543 [00:00<?, ?it/s]"
      ]
     },
     "metadata": {},
     "output_type": "display_data"
    },
    {
     "name": "stdout",
     "output_type": "stream",
     "text": [
      "EMA mIoU Increasing.. 0.576 >> 0.581 \n",
      "Loss Not Decrease for 1 time\n",
      "Epoch:21/50.. Train Loss: 1.437.. Val Loss: 1.390.. Train mIoU:0.548.. Val mIoU: 0.579.. Train Acc:0.725.. Val Acc:0.751.. Time: 53.87m\n"
     ]
    },
    {
     "data": {
      "application/vnd.jupyter.widget-view+json": {
       "model_id": "f1a07e5175684a9e894d623c080ad0bc",
       "version_major": 2,
       "version_minor": 0
      },
      "text/plain": [
       "Training:   0%|          | 0/3076 [00:00<?, ?it/s]"
      ]
     },
     "metadata": {},
     "output_type": "display_data"
    },
    {
     "data": {
      "application/vnd.jupyter.widget-view+json": {
       "model_id": "7ec36bdfc82b4b2dab1e4afe3fe85d8d",
       "version_major": 2,
       "version_minor": 0
      },
      "text/plain": [
       "Validation:   0%|          | 0/543 [00:00<?, ?it/s]"
      ]
     },
     "metadata": {},
     "output_type": "display_data"
    },
    {
     "name": "stdout",
     "output_type": "stream",
     "text": [
      "Loss Decreasing.. 1.390 >> 1.382 \n",
      "EMA mIoU Increasing.. 0.581 >> 0.582 \n",
      "Epoch:22/50.. Train Loss: 1.434.. Val Loss: 1.382.. Train mIoU:0.549.. Val mIoU: 0.584.. Train Acc:0.726.. Val Acc:0.753.. Time: 52.05m\n"
     ]
    },
    {
     "data": {
      "application/vnd.jupyter.widget-view+json": {
       "model_id": "1838c10c1888451c99640d56726e4b1d",
       "version_major": 2,
       "version_minor": 0
      },
      "text/plain": [
       "Training:   0%|          | 0/3076 [00:00<?, ?it/s]"
      ]
     },
     "metadata": {},
     "output_type": "display_data"
    },
    {
     "data": {
      "application/vnd.jupyter.widget-view+json": {
       "model_id": "15b600522f7b4c3bb78a18116bf5a5d1",
       "version_major": 2,
       "version_minor": 0
      },
      "text/plain": [
       "Validation:   0%|          | 0/543 [00:00<?, ?it/s]"
      ]
     },
     "metadata": {},
     "output_type": "display_data"
    },
    {
     "name": "stdout",
     "output_type": "stream",
     "text": [
      "Loss Not Decrease for 1 time\n",
      "Epoch:23/50.. Train Loss: 1.432.. Val Loss: 1.394.. Train mIoU:0.550.. Val mIoU: 0.570.. Train Acc:0.727.. Val Acc:0.746.. Time: 53.79m\n"
     ]
    },
    {
     "data": {
      "application/vnd.jupyter.widget-view+json": {
       "model_id": "d05e5c2402314d7cb0cf0ece1419ec7b",
       "version_major": 2,
       "version_minor": 0
      },
      "text/plain": [
       "Training:   0%|          | 0/3076 [00:00<?, ?it/s]"
      ]
     },
     "metadata": {},
     "output_type": "display_data"
    },
    {
     "data": {
      "application/vnd.jupyter.widget-view+json": {
       "model_id": "65582934974b4dd48ec1b03e28bb7328",
       "version_major": 2,
       "version_minor": 0
      },
      "text/plain": [
       "Validation:   0%|          | 0/543 [00:00<?, ?it/s]"
      ]
     },
     "metadata": {},
     "output_type": "display_data"
    },
    {
     "name": "stdout",
     "output_type": "stream",
     "text": [
      "Loss Decreasing.. 1.394 >> 1.385 \n",
      "EMA mIoU Increasing.. 0.582 >> 0.583 \n",
      "Epoch:24/50.. Train Loss: 1.427.. Val Loss: 1.385.. Train mIoU:0.553.. Val mIoU: 0.583.. Train Acc:0.729.. Val Acc:0.753.. Time: 52.45m\n"
     ]
    },
    {
     "data": {
      "application/vnd.jupyter.widget-view+json": {
       "model_id": "31f03f2ce93c436a80900153eb2101b8",
       "version_major": 2,
       "version_minor": 0
      },
      "text/plain": [
       "Training:   0%|          | 0/3076 [00:00<?, ?it/s]"
      ]
     },
     "metadata": {},
     "output_type": "display_data"
    },
    {
     "data": {
      "application/vnd.jupyter.widget-view+json": {
       "model_id": "d32537a3a3b0498ca7c86741460b444a",
       "version_major": 2,
       "version_minor": 0
      },
      "text/plain": [
       "Validation:   0%|          | 0/543 [00:00<?, ?it/s]"
      ]
     },
     "metadata": {},
     "output_type": "display_data"
    },
    {
     "name": "stdout",
     "output_type": "stream",
     "text": [
      "EMA mIoU Increasing.. 0.583 >> 0.585 \n",
      "Loss Not Decrease for 1 time\n",
      "Epoch:25/50.. Train Loss: 1.424.. Val Loss: 1.386.. Train mIoU:0.556.. Val mIoU: 0.583.. Train Acc:0.731.. Val Acc:0.753.. Time: 52.66m\n"
     ]
    },
    {
     "data": {
      "application/vnd.jupyter.widget-view+json": {
       "model_id": "b5daf1cb90c04318bd013dbfb7874c4e",
       "version_major": 2,
       "version_minor": 0
      },
      "text/plain": [
       "Training:   0%|          | 0/3076 [00:00<?, ?it/s]"
      ]
     },
     "metadata": {},
     "output_type": "display_data"
    },
    {
     "data": {
      "application/vnd.jupyter.widget-view+json": {
       "model_id": "9ea87b9b97e14c23be31b1fb005b0a13",
       "version_major": 2,
       "version_minor": 0
      },
      "text/plain": [
       "Validation:   0%|          | 0/543 [00:00<?, ?it/s]"
      ]
     },
     "metadata": {},
     "output_type": "display_data"
    },
    {
     "name": "stdout",
     "output_type": "stream",
     "text": [
      "Loss Decreasing.. 1.386 >> 1.382 \n",
      "EMA mIoU Increasing.. 0.585 >> 0.585 \n",
      "Epoch:26/50.. Train Loss: 1.421.. Val Loss: 1.382.. Train mIoU:0.557.. Val mIoU: 0.578.. Train Acc:0.732.. Val Acc:0.752.. Time: 52.43m\n"
     ]
    },
    {
     "data": {
      "application/vnd.jupyter.widget-view+json": {
       "model_id": "a7780dcffad947718c7e6cd124368277",
       "version_major": 2,
       "version_minor": 0
      },
      "text/plain": [
       "Training:   0%|          | 0/3076 [00:00<?, ?it/s]"
      ]
     },
     "metadata": {},
     "output_type": "display_data"
    },
    {
     "data": {
      "application/vnd.jupyter.widget-view+json": {
       "model_id": "3ad2695ba53d40f58e4cca0364a09991",
       "version_major": 2,
       "version_minor": 0
      },
      "text/plain": [
       "Validation:   0%|          | 0/543 [00:00<?, ?it/s]"
      ]
     },
     "metadata": {},
     "output_type": "display_data"
    },
    {
     "name": "stdout",
     "output_type": "stream",
     "text": [
      "Loss Decreasing.. 1.382 >> 1.368 \n",
      "saving model...\n",
      "EMA mIoU Increasing.. 0.585 >> 0.590 \n",
      "Epoch:27/50.. Train Loss: 1.415.. Val Loss: 1.368.. Train mIoU:0.560.. Val mIoU: 0.591.. Train Acc:0.734.. Val Acc:0.759.. Time: 53.53m\n"
     ]
    },
    {
     "data": {
      "application/vnd.jupyter.widget-view+json": {
       "model_id": "5f28c45f357b411b917ce36b8f546774",
       "version_major": 2,
       "version_minor": 0
      },
      "text/plain": [
       "Training:   0%|          | 0/3076 [00:00<?, ?it/s]"
      ]
     },
     "metadata": {},
     "output_type": "display_data"
    },
    {
     "data": {
      "application/vnd.jupyter.widget-view+json": {
       "model_id": "4f081597075f4a5a99cc380dd294b0fe",
       "version_major": 2,
       "version_minor": 0
      },
      "text/plain": [
       "Validation:   0%|          | 0/543 [00:00<?, ?it/s]"
      ]
     },
     "metadata": {},
     "output_type": "display_data"
    },
    {
     "name": "stdout",
     "output_type": "stream",
     "text": [
      "Loss Not Decrease for 1 time\n",
      "Epoch:28/50.. Train Loss: 1.415.. Val Loss: 1.380.. Train mIoU:0.560.. Val mIoU: 0.585.. Train Acc:0.735.. Val Acc:0.757.. Time: 54.84m\n"
     ]
    },
    {
     "data": {
      "application/vnd.jupyter.widget-view+json": {
       "model_id": "cee07546f53d44a095a2948bdace1cd1",
       "version_major": 2,
       "version_minor": 0
      },
      "text/plain": [
       "Training:   0%|          | 0/3076 [00:00<?, ?it/s]"
      ]
     },
     "metadata": {},
     "output_type": "display_data"
    },
    {
     "data": {
      "application/vnd.jupyter.widget-view+json": {
       "model_id": "6c7f47c8b3ad43d6add0c8e5ad76bc05",
       "version_major": 2,
       "version_minor": 0
      },
      "text/plain": [
       "Validation:   0%|          | 0/543 [00:00<?, ?it/s]"
      ]
     },
     "metadata": {},
     "output_type": "display_data"
    },
    {
     "name": "stdout",
     "output_type": "stream",
     "text": [
      "Loss Decreasing.. 1.380 >> 1.366 \n",
      "Epoch:29/50.. Train Loss: 1.411.. Val Loss: 1.366.. Train mIoU:0.563.. Val mIoU: 0.591.. Train Acc:0.737.. Val Acc:0.759.. Time: 54.70m\n"
     ]
    },
    {
     "data": {
      "application/vnd.jupyter.widget-view+json": {
       "model_id": "db5e5556de014a2d98be399366097e5e",
       "version_major": 2,
       "version_minor": 0
      },
      "text/plain": [
       "Training:   0%|          | 0/3076 [00:00<?, ?it/s]"
      ]
     },
     "metadata": {},
     "output_type": "display_data"
    },
    {
     "data": {
      "application/vnd.jupyter.widget-view+json": {
       "model_id": "990796a4819e4be4a3a2e5e329697784",
       "version_major": 2,
       "version_minor": 0
      },
      "text/plain": [
       "Validation:   0%|          | 0/543 [00:00<?, ?it/s]"
      ]
     },
     "metadata": {},
     "output_type": "display_data"
    },
    {
     "name": "stdout",
     "output_type": "stream",
     "text": [
      "Loss Not Decrease for 1 time\n",
      "Epoch:30/50.. Train Loss: 1.406.. Val Loss: 1.369.. Train mIoU:0.565.. Val mIoU: 0.585.. Train Acc:0.738.. Val Acc:0.756.. Time: 52.30m\n"
     ]
    },
    {
     "data": {
      "application/vnd.jupyter.widget-view+json": {
       "model_id": "fcb5735a69c747559139415f65e2c0b7",
       "version_major": 2,
       "version_minor": 0
      },
      "text/plain": [
       "Training:   0%|          | 0/3076 [00:00<?, ?it/s]"
      ]
     },
     "metadata": {},
     "output_type": "display_data"
    },
    {
     "data": {
      "application/vnd.jupyter.widget-view+json": {
       "model_id": "8fb6f48f2f4f445e8084f68ab995201f",
       "version_major": 2,
       "version_minor": 0
      },
      "text/plain": [
       "Validation:   0%|          | 0/543 [00:00<?, ?it/s]"
      ]
     },
     "metadata": {},
     "output_type": "display_data"
    },
    {
     "name": "stdout",
     "output_type": "stream",
     "text": [
      "Loss Decreasing.. 1.369 >> 1.360 \n",
      "EMA mIoU Increasing.. 0.590 >> 0.593 \n",
      "Epoch:31/50.. Train Loss: 1.401.. Val Loss: 1.360.. Train mIoU:0.568.. Val mIoU: 0.595.. Train Acc:0.741.. Val Acc:0.760.. Time: 52.20m\n"
     ]
    },
    {
     "data": {
      "application/vnd.jupyter.widget-view+json": {
       "model_id": "5a56ce761c8e493982999d5c1edbefbc",
       "version_major": 2,
       "version_minor": 0
      },
      "text/plain": [
       "Training:   0%|          | 0/3076 [00:00<?, ?it/s]"
      ]
     },
     "metadata": {},
     "output_type": "display_data"
    },
    {
     "data": {
      "application/vnd.jupyter.widget-view+json": {
       "model_id": "77fcfdbd86f44eaebe19b1aeafc77a5a",
       "version_major": 2,
       "version_minor": 0
      },
      "text/plain": [
       "Validation:   0%|          | 0/543 [00:00<?, ?it/s]"
      ]
     },
     "metadata": {},
     "output_type": "display_data"
    },
    {
     "name": "stdout",
     "output_type": "stream",
     "text": [
      "Loss Decreasing.. 1.360 >> 1.360 \n",
      "EMA mIoU Increasing.. 0.593 >> 0.594 \n",
      "Epoch:32/50.. Train Loss: 1.400.. Val Loss: 1.360.. Train mIoU:0.568.. Val mIoU: 0.597.. Train Acc:0.741.. Val Acc:0.762.. Time: 52.52m\n"
     ]
    },
    {
     "data": {
      "application/vnd.jupyter.widget-view+json": {
       "model_id": "f032c05065894278891aa7249e76dc04",
       "version_major": 2,
       "version_minor": 0
      },
      "text/plain": [
       "Training:   0%|          | 0/3076 [00:00<?, ?it/s]"
      ]
     },
     "metadata": {},
     "output_type": "display_data"
    },
    {
     "data": {
      "application/vnd.jupyter.widget-view+json": {
       "model_id": "3bb8609fa0de4b229ccadd380ca971eb",
       "version_major": 2,
       "version_minor": 0
      },
      "text/plain": [
       "Validation:   0%|          | 0/543 [00:00<?, ?it/s]"
      ]
     },
     "metadata": {},
     "output_type": "display_data"
    },
    {
     "name": "stdout",
     "output_type": "stream",
     "text": [
      "Loss Not Decrease for 1 time\n",
      "Epoch:33/50.. Train Loss: 1.396.. Val Loss: 1.361.. Train mIoU:0.570.. Val mIoU: 0.593.. Train Acc:0.743.. Val Acc:0.762.. Time: 52.15m\n"
     ]
    },
    {
     "data": {
      "application/vnd.jupyter.widget-view+json": {
       "model_id": "0ec8cd8edc23430ea83a0b437c59bad0",
       "version_major": 2,
       "version_minor": 0
      },
      "text/plain": [
       "Training:   0%|          | 0/3076 [00:00<?, ?it/s]"
      ]
     },
     "metadata": {},
     "output_type": "display_data"
    },
    {
     "data": {
      "application/vnd.jupyter.widget-view+json": {
       "model_id": "7dc983381ef941e7950220c6e5e00cd1",
       "version_major": 2,
       "version_minor": 0
      },
      "text/plain": [
       "Validation:   0%|          | 0/543 [00:00<?, ?it/s]"
      ]
     },
     "metadata": {},
     "output_type": "display_data"
    },
    {
     "name": "stdout",
     "output_type": "stream",
     "text": [
      "Loss Decreasing.. 1.361 >> 1.356 \n",
      "Epoch:34/50.. Train Loss: 1.393.. Val Loss: 1.356.. Train mIoU:0.572.. Val mIoU: 0.593.. Train Acc:0.744.. Val Acc:0.764.. Time: 51.94m\n"
     ]
    },
    {
     "data": {
      "application/vnd.jupyter.widget-view+json": {
       "model_id": "42102262df5c4c318257817593323ffd",
       "version_major": 2,
       "version_minor": 0
      },
      "text/plain": [
       "Training:   0%|          | 0/3076 [00:00<?, ?it/s]"
      ]
     },
     "metadata": {},
     "output_type": "display_data"
    },
    {
     "data": {
      "application/vnd.jupyter.widget-view+json": {
       "model_id": "46fd08cc652b488c840db51d5f05baa6",
       "version_major": 2,
       "version_minor": 0
      },
      "text/plain": [
       "Validation:   0%|          | 0/543 [00:00<?, ?it/s]"
      ]
     },
     "metadata": {},
     "output_type": "display_data"
    },
    {
     "name": "stdout",
     "output_type": "stream",
     "text": [
      "Loss Decreasing.. 1.356 >> 1.349 \n",
      "saving model...\n",
      "Epoch:35/50.. Train Loss: 1.391.. Val Loss: 1.349.. Train mIoU:0.574.. Val mIoU: 0.595.. Train Acc:0.746.. Val Acc:0.765.. Time: 52.01m\n"
     ]
    },
    {
     "data": {
      "application/vnd.jupyter.widget-view+json": {
       "model_id": "326833136ef740fa8fda9d8b0bf85ec1",
       "version_major": 2,
       "version_minor": 0
      },
      "text/plain": [
       "Training:   0%|          | 0/3076 [00:00<?, ?it/s]"
      ]
     },
     "metadata": {},
     "output_type": "display_data"
    },
    {
     "data": {
      "application/vnd.jupyter.widget-view+json": {
       "model_id": "dda6dcfb1abc48df8a06f01bce6b2c24",
       "version_major": 2,
       "version_minor": 0
      },
      "text/plain": [
       "Validation:   0%|          | 0/543 [00:00<?, ?it/s]"
      ]
     },
     "metadata": {},
     "output_type": "display_data"
    },
    {
     "name": "stdout",
     "output_type": "stream",
     "text": [
      "Loss Not Decrease for 1 time\n",
      "Epoch:36/50.. Train Loss: 1.388.. Val Loss: 1.365.. Train mIoU:0.576.. Val mIoU: 0.595.. Train Acc:0.747.. Val Acc:0.764.. Time: 51.61m\n"
     ]
    },
    {
     "data": {
      "application/vnd.jupyter.widget-view+json": {
       "model_id": "4dc25df28a9643c095b3a4e463634b8e",
       "version_major": 2,
       "version_minor": 0
      },
      "text/plain": [
       "Training:   0%|          | 0/3076 [00:00<?, ?it/s]"
      ]
     },
     "metadata": {},
     "output_type": "display_data"
    },
    {
     "data": {
      "application/vnd.jupyter.widget-view+json": {
       "model_id": "18b298b23dac422babfbef41497d4b60",
       "version_major": 2,
       "version_minor": 0
      },
      "text/plain": [
       "Validation:   0%|          | 0/543 [00:00<?, ?it/s]"
      ]
     },
     "metadata": {},
     "output_type": "display_data"
    },
    {
     "name": "stdout",
     "output_type": "stream",
     "text": [
      "Loss Decreasing.. 1.365 >> 1.344 \n",
      "EMA mIoU Increasing.. 0.594 >> 0.595 \n",
      "Epoch:37/50.. Train Loss: 1.386.. Val Loss: 1.344.. Train mIoU:0.576.. Val mIoU: 0.602.. Train Acc:0.748.. Val Acc:0.767.. Time: 52.16m\n"
     ]
    },
    {
     "data": {
      "application/vnd.jupyter.widget-view+json": {
       "model_id": "e118b9f43652418284dd5322ceacd3c9",
       "version_major": 2,
       "version_minor": 0
      },
      "text/plain": [
       "Training:   0%|          | 0/3076 [00:00<?, ?it/s]"
      ]
     },
     "metadata": {},
     "output_type": "display_data"
    },
    {
     "data": {
      "application/vnd.jupyter.widget-view+json": {
       "model_id": "b7a6e83eb0e74f02bd8549ca212177fa",
       "version_major": 2,
       "version_minor": 0
      },
      "text/plain": [
       "Validation:   0%|          | 0/543 [00:00<?, ?it/s]"
      ]
     },
     "metadata": {},
     "output_type": "display_data"
    },
    {
     "name": "stdout",
     "output_type": "stream",
     "text": [
      "Loss Decreasing.. 1.344 >> 1.344 \n",
      "EMA mIoU Increasing.. 0.595 >> 0.600 \n",
      "Epoch:38/50.. Train Loss: 1.382.. Val Loss: 1.344.. Train mIoU:0.578.. Val mIoU: 0.603.. Train Acc:0.749.. Val Acc:0.767.. Time: 51.61m\n"
     ]
    },
    {
     "data": {
      "application/vnd.jupyter.widget-view+json": {
       "model_id": "6207bdf78e3c474396292e1e49b30b7f",
       "version_major": 2,
       "version_minor": 0
      },
      "text/plain": [
       "Training:   0%|          | 0/3076 [00:00<?, ?it/s]"
      ]
     },
     "metadata": {},
     "output_type": "display_data"
    },
    {
     "data": {
      "application/vnd.jupyter.widget-view+json": {
       "model_id": "3ed2f09392bb4c2c9cc3fdecfb0dcce9",
       "version_major": 2,
       "version_minor": 0
      },
      "text/plain": [
       "Validation:   0%|          | 0/543 [00:00<?, ?it/s]"
      ]
     },
     "metadata": {},
     "output_type": "display_data"
    },
    {
     "name": "stdout",
     "output_type": "stream",
     "text": [
      "Loss Decreasing.. 1.344 >> 1.342 \n",
      "EMA mIoU Increasing.. 0.600 >> 0.600 \n",
      "Epoch:39/50.. Train Loss: 1.381.. Val Loss: 1.342.. Train mIoU:0.579.. Val mIoU: 0.606.. Train Acc:0.750.. Val Acc:0.768.. Time: 51.95m\n"
     ]
    },
    {
     "data": {
      "application/vnd.jupyter.widget-view+json": {
       "model_id": "f26bcbaa16e946fb9b110811e3090ed9",
       "version_major": 2,
       "version_minor": 0
      },
      "text/plain": [
       "Training:   0%|          | 0/3076 [00:00<?, ?it/s]"
      ]
     },
     "metadata": {},
     "output_type": "display_data"
    },
    {
     "data": {
      "application/vnd.jupyter.widget-view+json": {
       "model_id": "72052c625ef6410798783f44d77b4836",
       "version_major": 2,
       "version_minor": 0
      },
      "text/plain": [
       "Validation:   0%|          | 0/543 [00:00<?, ?it/s]"
      ]
     },
     "metadata": {},
     "output_type": "display_data"
    },
    {
     "name": "stdout",
     "output_type": "stream",
     "text": [
      "EMA mIoU Increasing.. 0.600 >> 0.601 \n",
      "Loss Not Decrease for 1 time\n",
      "Epoch:40/50.. Train Loss: 1.377.. Val Loss: 1.342.. Train mIoU:0.581.. Val mIoU: 0.605.. Train Acc:0.752.. Val Acc:0.768.. Time: 51.88m\n"
     ]
    },
    {
     "data": {
      "application/vnd.jupyter.widget-view+json": {
       "model_id": "ce55717838b04001a1d3cad2e5d9a4bf",
       "version_major": 2,
       "version_minor": 0
      },
      "text/plain": [
       "Training:   0%|          | 0/3076 [00:00<?, ?it/s]"
      ]
     },
     "metadata": {},
     "output_type": "display_data"
    },
    {
     "data": {
      "application/vnd.jupyter.widget-view+json": {
       "model_id": "d14fc4e7734543699d08b2906e54ab86",
       "version_major": 2,
       "version_minor": 0
      },
      "text/plain": [
       "Validation:   0%|          | 0/543 [00:00<?, ?it/s]"
      ]
     },
     "metadata": {},
     "output_type": "display_data"
    },
    {
     "name": "stdout",
     "output_type": "stream",
     "text": [
      "Loss Not Decrease for 2 time\n",
      "Epoch:41/50.. Train Loss: 1.375.. Val Loss: 1.342.. Train mIoU:0.582.. Val mIoU: 0.603.. Train Acc:0.752.. Val Acc:0.769.. Time: 51.74m\n"
     ]
    },
    {
     "data": {
      "application/vnd.jupyter.widget-view+json": {
       "model_id": "babdb139e1e045ad9356b86ea27ea0c8",
       "version_major": 2,
       "version_minor": 0
      },
      "text/plain": [
       "Training:   0%|          | 0/3076 [00:00<?, ?it/s]"
      ]
     },
     "metadata": {},
     "output_type": "display_data"
    },
    {
     "data": {
      "application/vnd.jupyter.widget-view+json": {
       "model_id": "6554f81b2f5d408496bd5e5812ef6050",
       "version_major": 2,
       "version_minor": 0
      },
      "text/plain": [
       "Validation:   0%|          | 0/543 [00:00<?, ?it/s]"
      ]
     },
     "metadata": {},
     "output_type": "display_data"
    },
    {
     "name": "stdout",
     "output_type": "stream",
     "text": [
      "Loss Not Decrease for 3 time\n",
      "Epoch:42/50.. Train Loss: 1.371.. Val Loss: 1.350.. Train mIoU:0.585.. Val mIoU: 0.603.. Train Acc:0.755.. Val Acc:0.768.. Time: 51.74m\n"
     ]
    },
    {
     "data": {
      "application/vnd.jupyter.widget-view+json": {
       "model_id": "3607eeddfe4b4af888a8c7ab09fc0190",
       "version_major": 2,
       "version_minor": 0
      },
      "text/plain": [
       "Training:   0%|          | 0/3076 [00:00<?, ?it/s]"
      ]
     },
     "metadata": {},
     "output_type": "display_data"
    },
    {
     "data": {
      "application/vnd.jupyter.widget-view+json": {
       "model_id": "d7b61a2a279f406f8db51a22126ee5c2",
       "version_major": 2,
       "version_minor": 0
      },
      "text/plain": [
       "Validation:   0%|          | 0/543 [00:00<?, ?it/s]"
      ]
     },
     "metadata": {},
     "output_type": "display_data"
    },
    {
     "name": "stdout",
     "output_type": "stream",
     "text": [
      "Loss Decreasing.. 1.350 >> 1.345 \n",
      "Epoch:43/50.. Train Loss: 1.370.. Val Loss: 1.345.. Train mIoU:0.584.. Val mIoU: 0.600.. Train Acc:0.754.. Val Acc:0.767.. Time: 52.34m\n"
     ]
    },
    {
     "data": {
      "application/vnd.jupyter.widget-view+json": {
       "model_id": "576fa74e15764d46ad55da306256308d",
       "version_major": 2,
       "version_minor": 0
      },
      "text/plain": [
       "Training:   0%|          | 0/3076 [00:00<?, ?it/s]"
      ]
     },
     "metadata": {},
     "output_type": "display_data"
    },
    {
     "data": {
      "application/vnd.jupyter.widget-view+json": {
       "model_id": "3b2d6408865b4b15aeb6c86f36eddce1",
       "version_major": 2,
       "version_minor": 0
      },
      "text/plain": [
       "Validation:   0%|          | 0/543 [00:00<?, ?it/s]"
      ]
     },
     "metadata": {},
     "output_type": "display_data"
    },
    {
     "name": "stdout",
     "output_type": "stream",
     "text": [
      "Loss Decreasing.. 1.345 >> 1.336 \n",
      "saving model...\n",
      "Epoch:44/50.. Train Loss: 1.369.. Val Loss: 1.336.. Train mIoU:0.585.. Val mIoU: 0.605.. Train Acc:0.755.. Val Acc:0.769.. Time: 52.28m\n"
     ]
    },
    {
     "data": {
      "application/vnd.jupyter.widget-view+json": {
       "model_id": "26a3afe9d82d43919fc1e72fc6598473",
       "version_major": 2,
       "version_minor": 0
      },
      "text/plain": [
       "Training:   0%|          | 0/3076 [00:00<?, ?it/s]"
      ]
     },
     "metadata": {},
     "output_type": "display_data"
    },
    {
     "data": {
      "application/vnd.jupyter.widget-view+json": {
       "model_id": "d1b2b95a457f4ba1ba889cb8cf585fcb",
       "version_major": 2,
       "version_minor": 0
      },
      "text/plain": [
       "Validation:   0%|          | 0/543 [00:00<?, ?it/s]"
      ]
     },
     "metadata": {},
     "output_type": "display_data"
    },
    {
     "name": "stdout",
     "output_type": "stream",
     "text": [
      "Loss Not Decrease for 1 time\n",
      "Epoch:45/50.. Train Loss: 1.367.. Val Loss: 1.337.. Train mIoU:0.587.. Val mIoU: 0.605.. Train Acc:0.756.. Val Acc:0.771.. Time: 52.57m\n"
     ]
    },
    {
     "data": {
      "application/vnd.jupyter.widget-view+json": {
       "model_id": "337571af203942d28552af76b50357d3",
       "version_major": 2,
       "version_minor": 0
      },
      "text/plain": [
       "Training:   0%|          | 0/3076 [00:00<?, ?it/s]"
      ]
     },
     "metadata": {},
     "output_type": "display_data"
    },
    {
     "data": {
      "application/vnd.jupyter.widget-view+json": {
       "model_id": "eb3a9f4bac24456fb282132d7267e0b7",
       "version_major": 2,
       "version_minor": 0
      },
      "text/plain": [
       "Validation:   0%|          | 0/543 [00:00<?, ?it/s]"
      ]
     },
     "metadata": {},
     "output_type": "display_data"
    },
    {
     "name": "stdout",
     "output_type": "stream",
     "text": [
      "Loss Decreasing.. 1.337 >> 1.337 \n",
      "EMA mIoU Increasing.. 0.601 >> 0.602 \n",
      "Epoch:46/50.. Train Loss: 1.367.. Val Loss: 1.337.. Train mIoU:0.587.. Val mIoU: 0.606.. Train Acc:0.756.. Val Acc:0.770.. Time: 52.88m\n"
     ]
    },
    {
     "data": {
      "application/vnd.jupyter.widget-view+json": {
       "model_id": "5c799247440244539fc94aab8a0675ca",
       "version_major": 2,
       "version_minor": 0
      },
      "text/plain": [
       "Training:   0%|          | 0/3076 [00:00<?, ?it/s]"
      ]
     },
     "metadata": {},
     "output_type": "display_data"
    },
    {
     "data": {
      "application/vnd.jupyter.widget-view+json": {
       "model_id": "e789e117ee194e4794454258274620c5",
       "version_major": 2,
       "version_minor": 0
      },
      "text/plain": [
       "Validation:   0%|          | 0/543 [00:00<?, ?it/s]"
      ]
     },
     "metadata": {},
     "output_type": "display_data"
    },
    {
     "name": "stdout",
     "output_type": "stream",
     "text": [
      "Loss Not Decrease for 1 time\n",
      "Epoch:47/50.. Train Loss: 1.365.. Val Loss: 1.349.. Train mIoU:0.588.. Val mIoU: 0.603.. Train Acc:0.757.. Val Acc:0.770.. Time: 52.18m\n"
     ]
    },
    {
     "data": {
      "application/vnd.jupyter.widget-view+json": {
       "model_id": "dcac4d7bbd3548d29899bb97b5712203",
       "version_major": 2,
       "version_minor": 0
      },
      "text/plain": [
       "Training:   0%|          | 0/3076 [00:00<?, ?it/s]"
      ]
     },
     "metadata": {},
     "output_type": "display_data"
    },
    {
     "data": {
      "application/vnd.jupyter.widget-view+json": {
       "model_id": "e683bda5b8484db99d48e4883327561f",
       "version_major": 2,
       "version_minor": 0
      },
      "text/plain": [
       "Validation:   0%|          | 0/543 [00:00<?, ?it/s]"
      ]
     },
     "metadata": {},
     "output_type": "display_data"
    },
    {
     "name": "stdout",
     "output_type": "stream",
     "text": [
      "Loss Decreasing.. 1.349 >> 1.341 \n",
      "Epoch:48/50.. Train Loss: 1.366.. Val Loss: 1.341.. Train mIoU:0.587.. Val mIoU: 0.604.. Train Acc:0.756.. Val Acc:0.770.. Time: 52.38m\n"
     ]
    },
    {
     "data": {
      "application/vnd.jupyter.widget-view+json": {
       "model_id": "0ff6d7f7214b4721929dd0ea5eac0508",
       "version_major": 2,
       "version_minor": 0
      },
      "text/plain": [
       "Training:   0%|          | 0/3076 [00:00<?, ?it/s]"
      ]
     },
     "metadata": {},
     "output_type": "display_data"
    },
    {
     "data": {
      "application/vnd.jupyter.widget-view+json": {
       "model_id": "032c59fd5e634c89bacde374930c4276",
       "version_major": 2,
       "version_minor": 0
      },
      "text/plain": [
       "Validation:   0%|          | 0/543 [00:00<?, ?it/s]"
      ]
     },
     "metadata": {},
     "output_type": "display_data"
    },
    {
     "name": "stdout",
     "output_type": "stream",
     "text": [
      "Loss Decreasing.. 1.341 >> 1.338 \n",
      "Epoch:49/50.. Train Loss: 1.364.. Val Loss: 1.338.. Train mIoU:0.587.. Val mIoU: 0.603.. Train Acc:0.756.. Val Acc:0.770.. Time: 52.14m\n"
     ]
    },
    {
     "data": {
      "application/vnd.jupyter.widget-view+json": {
       "model_id": "1f88a4c5500f421da5ca839c78da30c2",
       "version_major": 2,
       "version_minor": 0
      },
      "text/plain": [
       "Training:   0%|          | 0/3076 [00:00<?, ?it/s]"
      ]
     },
     "metadata": {},
     "output_type": "display_data"
    },
    {
     "data": {
      "application/vnd.jupyter.widget-view+json": {
       "model_id": "a1446581ead94dc1929416824a4cc68c",
       "version_major": 2,
       "version_minor": 0
      },
      "text/plain": [
       "Validation:   0%|          | 0/543 [00:00<?, ?it/s]"
      ]
     },
     "metadata": {},
     "output_type": "display_data"
    },
    {
     "name": "stdout",
     "output_type": "stream",
     "text": [
      "Loss Decreasing.. 1.338 >> 1.336 \n",
      "Epoch:50/50.. Train Loss: 1.365.. Val Loss: 1.336.. Train mIoU:0.587.. Val mIoU: 0.603.. Train Acc:0.757.. Val Acc:0.769.. Time: 54.00m\n",
      "Total time: 1687.51 m\n"
     ]
    }
   ],
   "source": [
    "################################################################################\n",
    "#     You can adjust those hyper parameters to loop for max_epochs times       #\n",
    "################################################################################\n",
    "max_lr = 1e-3\n",
    "epoch = 50\n",
    "weight_decay = 1e-4\n",
    "\n",
    "criterion1 = nn.CrossEntropyLoss(label_smoothing=0.1)\n",
    "criterion2 = DiceLoss()\n",
    "optimizer = torch.optim.AdamW(model.parameters(), lr=max_lr, weight_decay=weight_decay)\n",
    "sched = torch.optim.lr_scheduler.OneCycleLR(optimizer, max_lr, epochs=epoch,\n",
    "                                            steps_per_epoch=len(train_loader))\n",
    "\n",
    "history = fit(epoch, model, train_loader, val_loader, criterion1, criterion2, optimizer, sched)\n",
    "################################################################################\n",
    "#                               End of your code                               #\n",
    "################################################################################"
   ]
  },
  {
   "cell_type": "code",
   "execution_count": 31,
   "metadata": {
    "execution": {
     "iopub.execute_input": "2023-10-07T10:59:19.933339Z",
     "iopub.status.busy": "2023-10-07T10:59:19.932737Z",
     "iopub.status.idle": "2023-10-07T10:59:20.020877Z",
     "shell.execute_reply": "2023-10-07T10:59:20.01997Z",
     "shell.execute_reply.started": "2023-10-07T10:59:19.933299Z"
    },
    "id": "km58PT8qvJ4g",
    "is_executing": true,
    "papermill": {
     "duration": 0.15037,
     "end_time": "2021-02-18T11:11:15.01764",
     "exception": false,
     "start_time": "2021-02-18T11:11:14.86727",
     "status": "completed"
    },
    "tags": [],
    "trusted": true
   },
   "outputs": [],
   "source": [
    "torch.save(model, 'Unet-Resnet.pt')"
   ]
  },
  {
   "cell_type": "markdown",
   "metadata": {},
   "source": [
    "#### Visualize accuracy and loss"
   ]
  },
  {
   "cell_type": "code",
   "execution_count": 22,
   "metadata": {
    "execution": {
     "iopub.execute_input": "2023-10-07T10:59:20.022607Z",
     "iopub.status.busy": "2023-10-07T10:59:20.022258Z",
     "iopub.status.idle": "2023-10-07T10:59:20.030974Z",
     "shell.execute_reply": "2023-10-07T10:59:20.029721Z",
     "shell.execute_reply.started": "2023-10-07T10:59:20.02257Z"
    },
    "id": "ojw74huJJSgn",
    "is_executing": true,
    "papermill": {
     "duration": 0.094126,
     "end_time": "2021-02-18T11:11:15.563574",
     "exception": false,
     "start_time": "2021-02-18T11:11:15.469448",
     "status": "completed"
    },
    "tags": [],
    "trusted": true
   },
   "outputs": [],
   "source": [
    "def plot_loss(history):\n",
    "    plt.plot(history['val_loss'], label='val', marker='o')\n",
    "    plt.plot( history['train_loss'], label='train', marker='o')\n",
    "    plt.plot( history['ema_loss'], label='ema', marker='o')\n",
    "    plt.title('Loss per epoch'); plt.ylabel('loss');\n",
    "    plt.xlabel('epoch')\n",
    "    plt.legend(), plt.grid()\n",
    "    plt.show()\n",
    "    \n",
    "def plot_score(history):\n",
    "    plt.plot(history['train_miou'], label='train_mIoU', marker='*')\n",
    "    plt.plot(history['val_miou'], label='val_mIoU',  marker='*')\n",
    "    plt.plot(history['ema_miou'], label='ema_mIoU',  marker='*')\n",
    "    plt.title('Score per epoch'); plt.ylabel('mean IoU')\n",
    "    plt.xlabel('epoch')\n",
    "    plt.legend(), plt.grid()\n",
    "    plt.show()\n",
    "    \n",
    "def plot_acc(history):\n",
    "    plt.plot(history['train_acc'], label='train_accuracy', marker='*')\n",
    "    plt.plot(history['val_acc'], label='val_accuracy',  marker='*')\n",
    "    plt.plot(history['ema_acc'], label='ema_accuracy',  marker='*')\n",
    "    plt.title('Accuracy per epoch'); plt.ylabel('Accuracy')\n",
    "    plt.xlabel('epoch')\n",
    "    plt.legend(), plt.grid()\n",
    "    plt.show()"
   ]
  },
  {
   "cell_type": "code",
   "execution_count": 23,
   "metadata": {
    "execution": {
     "iopub.execute_input": "2023-10-07T10:59:20.032698Z",
     "iopub.status.busy": "2023-10-07T10:59:20.032188Z",
     "iopub.status.idle": "2023-10-07T10:59:20.516335Z",
     "shell.execute_reply": "2023-10-07T10:59:20.515198Z",
     "shell.execute_reply.started": "2023-10-07T10:59:20.032662Z"
    },
    "id": "KT-pRvoJJSgq",
    "is_executing": true,
    "outputId": "76a82c62-46ca-44db-9129-8d20ec586471",
    "papermill": {
     "duration": 0.71827,
     "end_time": "2021-02-18T11:11:16.361999",
     "exception": false,
     "start_time": "2021-02-18T11:11:15.643729",
     "status": "completed"
    },
    "tags": [],
    "trusted": true
   },
   "outputs": [
    {
     "data": {
      "image/png": "[encoded data removed]",
      "text/plain": [
       "<Figure size 640x480 with 1 Axes>"
      ]
     },
     "metadata": {},
     "output_type": "display_data"
    },
    {
     "data": {
      "image/png": "[encoded data removed]",
      "text/plain": [
       "<Figure size 640x480 with 1 Axes>"
      ]
     },
     "metadata": {},
     "output_type": "display_data"
    },
    {
     "data": {
      "image/png": "[encoded data removed]",
      "text/plain": [
       "<Figure size 640x480 with 1 Axes>"
      ]
     },
     "metadata": {},
     "output_type": "display_data"
    }
   ],
   "source": [
    "plot_loss(history)\n",
    "plot_score(history)\n",
    "plot_acc(history)"
   ]
  },
  {
   "cell_type": "markdown",
   "metadata": {},
   "source": [
    "## Predict Result\n",
    "\n",
    "預測`test`並將結果上傳至[**Kaggle**](https://www.kaggle.com/t/13040d09b42940ba90f96cca324ee90d)\n",
    "\n",
    "執行完畢此區的程式碼後，會將`test`預測完的結果存下來。\n",
    "\n",
    "上傳流程\n",
    "1. 點選左側選單最下方的資料夾圖示\n",
    "2. 右鍵「output.csv」\n",
    "3. 點選「Download」\n",
    "4. 至連結網頁點選「Submit Predictions」\n",
    "5. 將剛剛下載的檔案上傳\n",
    "6. 系統會計算並公布其中50%資料的正確率"
   ]
  },
  {
   "cell_type": "code",
   "execution_count": 24,
   "metadata": {
    "is_executing": true
   },
   "outputs": [],
   "source": [
    "TEST_IMAGE_PATH = 'BCSS/test/'"
   ]
  },
  {
   "cell_type": "code",
   "execution_count": 25,
   "metadata": {
    "is_executing": true
   },
   "outputs": [],
   "source": [
    "test_df = create_df(TEST_IMAGE_PATH)"
   ]
  },
  {
   "cell_type": "code",
   "execution_count": 26,
   "metadata": {
    "is_executing": true
   },
   "outputs": [],
   "source": [
    "X_test = test_df['id'].to_numpy()"
   ]
  },
  {
   "cell_type": "code",
   "execution_count": 36,
   "metadata": {
    "is_executing": true
   },
   "outputs": [],
   "source": [
    "model = torch.load('Unet-Mobilenet_v2_EMA_mIoU-best.pt')"
   ]
  },
  {
   "cell_type": "code",
   "execution_count": 37,
   "metadata": {
    "is_executing": true
   },
   "outputs": [
    {
     "name": "stdout",
     "output_type": "stream",
     "text": [
      "4021\n"
     ]
    }
   ],
   "source": [
    "class BCSSTestDataset(Dataset):\n",
    "    \n",
    "    def __init__(self, img_path, X, transform=None):\n",
    "        self.img_path = img_path\n",
    "        self.X = X\n",
    "        self.transform = transform\n",
    "      \n",
    "    def __len__(self):\n",
    "        return len(self.X)\n",
    "    \n",
    "    def __getitem__(self, idx):\n",
    "        img = cv2.imread(self.img_path + self.X[idx] + '.png')\n",
    "        img = cv2.cvtColor(img, cv2.COLOR_BGR2RGB)\n",
    "        \n",
    "        if self.transform is not None:\n",
    "            aug = self.transform(image=img, mask=mask)\n",
    "            img = Image.fromarray(aug['image'])\n",
    "        \n",
    "        if self.transform is None:\n",
    "            img = Image.fromarray(img)\n",
    "        \n",
    "        return img\n",
    "\n",
    "test_set = BCSSTestDataset(TEST_IMAGE_PATH, X_test)\n",
    "print(len(test_set))"
   ]
  },
  {
   "cell_type": "code",
   "execution_count": 38,
   "metadata": {
    "is_executing": true
   },
   "outputs": [],
   "source": [
    "def predict_image(model, image, mean=[0.485, 0.456, 0.406], std=[0.229, 0.224, 0.225]):\n",
    "    model.eval()\n",
    "    t = T.Compose([T.ToTensor(), T.Normalize(mean, std)])\n",
    "    image = t(image)\n",
    "    model.to(device); image=image.to(device)\n",
    "    with torch.no_grad():\n",
    "        \n",
    "        image = image.unsqueeze(0)\n",
    "        \n",
    "        output = model(image)\n",
    "        masked = torch.argmax(output, dim=1)\n",
    "        masked = masked.cpu().squeeze(0)\n",
    "    return masked"
   ]
  },
  {
   "cell_type": "code",
   "execution_count": 39,
   "metadata": {
    "is_executing": true
   },
   "outputs": [
    {
     "name": "stderr",
     "output_type": "stream",
     "text": [
      "100%|██████████| 4021/4021 [01:31<00:00, 44.17it/s]\n"
     ]
    }
   ],
   "source": [
    "import pandas as pd\n",
    "from tqdm import tqdm\n",
    "\n",
    "data = []\n",
    "\n",
    "for i in tqdm(range(len(test_set))):\n",
    "    img = test_set[i]\n",
    "    pred_mask = predict_image(model, img)\n",
    "    index = i \n",
    "\n",
    "    data.append({'index': index, 'pred_mask': pred_mask.numpy().tolist()})\n",
    "\n",
    "df = pd.DataFrame(data)\n",
    "\n",
    "df.to_csv('output.csv', index=False)"
   ]
  }
 ],
 "metadata": {
  "kaggle": {
   "accelerator": "gpu",
   "dataSources": [
    {
     "datasetId": 333968,
     "sourceId": 1834160,
     "sourceType": "datasetVersion"
    }
   ],
   "dockerImageVersionId": 30061,
   "isGpuEnabled": true,
   "isInternetEnabled": true,
   "language": "python",
   "sourceType": "notebook"
  },
  "kernelspec": {
   "display_name": "Python 3",
   "language": "python",
   "name": "python3"
  },
  "language_info": {
   "codemirror_mode": {
    "name": "ipython",
    "version": 3
   },
   "file_extension": ".py",
   "mimetype": "text/x-python",
   "name": "python",
   "nbconvert_exporter": "python",
   "pygments_lexer": "ipython3",
   "version": "3.11.2"
  }
 },
 "nbformat": 4,
 "nbformat_minor": 4
}
