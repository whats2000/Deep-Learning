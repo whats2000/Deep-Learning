{
 "cells": [
  {
   "cell_type": "markdown",
   "metadata": {},
   "source": [
    "# MIS 583 A7 Semantic Segmentation on BCSS"
   ]
  },
  {
   "cell_type": "markdown",
   "metadata": {},
   "source": [
    "Before we start, please put your name and SID in following format: <br>\n",
    ": LASTNAME Firstname, ?00000000   //   e.g.) 李晨愷 M114020035"
   ]
  },
  {
   "cell_type": "markdown",
   "metadata": {},
   "source": [
    "**Your Answer:**    \n",
    "Hi I'm 鄔仁迪, B104020009."
   ]
  },
  {
   "cell_type": "markdown",
   "metadata": {},
   "source": [
    "## Overview\n",
    "\n",
    "- Semantic segmentation is a computer vision task that aims to classify each pixel in an image into specific objects or regions.\n",
    "\n",
    "- In this assignment, you will implement a segmentor to classify the specific types of breast cancer lesions.\n",
    "\n",
    "- The segmentor implemented in this assignment is U-Net, and you are required to construct it from scratch\n"
   ]
  },
  {
   "cell_type": "markdown",
   "metadata": {},
   "source": [
    "## Kaggle Competition\n",
    "Kaggle is an online community of data scientists and machine learning practitioners. Kaggle allows users to find and publish datasets, explore and build models in a web-based data-science environment, work with other data scientists and machine learning engineers, and enter competitions to solve data science challenges.\n",
    "\n",
    "This assignment use kaggle to calculate your grade.  \n",
    "Please use this [**LINK**](https://www.kaggle.com/t/13040d09b42940ba90f96cca324ee90d) to join the competition."
   ]
  },
  {
   "cell_type": "markdown",
   "metadata": {},
   "source": [
    "## Google Colab Setup\n",
    "Next we need to run a few commands to set up our environment on Google Colab. If you are running this notebook on a local machine you can skip this section.\n",
    "\n",
    "Run the following cell to mount your Google Drive. Follow the link, sign in to your Google account (the same account you used to store this notebook!) and copy the authorization code into the text box that appears below."
   ]
  },
  {
   "cell_type": "code",
   "execution_count": 1,
   "metadata": {
    "ExecuteTime": {
     "end_time": "2023-12-20T04:35:28.900250300Z",
     "start_time": "2023-12-20T04:35:28.886600200Z"
    }
   },
   "outputs": [],
   "source": [
    "# from google.colab import drive\n",
    "# drive.mount('/content/drive')"
   ]
  },
  {
   "cell_type": "markdown",
   "metadata": {},
   "source": [
    "## How to Get Data\n",
    "\n",
    "請先到共用雲端硬碟將檔案 `BCSS.zip`，建立捷徑到自己的雲端硬碟中。\n",
    "\n",
    "> 操作步驟\n",
    "1. 點開雲端[連結](https://drive.google.com/file/d/1uW9SInf6jrF5YUCjf-2ObxLolYYEb2Np/view?usp=sharing)\n",
    "2. 點選右上角「新增雲端硬碟捷徑」\n",
    "3. 點選「我的雲端硬碟」\n",
    "4. 點選「新增捷徑」\n",
    "\n",
    "完成以上流程會在你的雲端硬碟中建立一個檔案的捷徑，接著我們在colab中取得權限即可使用。"
   ]
  },
  {
   "cell_type": "markdown",
   "metadata": {},
   "source": [
    "## Unzip Data\n",
    "\n",
    "解壓縮 `BCSS.zip` \n",
    "\n",
    "+ `train` : 包含了train的所有圖片\n",
    "+ `val` : 包含了val的所有圖片\n",
    "+ `test` : 包含了test的所有圖片\n",
    "+ `train_mask` : 包含了train的所有mask\n",
    "+ `val_mask` : 包含了val所有mask\n",
    "+ `test_mask` : 包含了test的所有mask\n",
    "\n",
    "\n",
    "其中`train`的圖片 30760 張，`val`的圖片 5429 張，`test` 的圖片 4021 張。\n",
    "\n",
    "注意: 若有另外設定存放在雲端硬碟中的路徑，請記得本處路徑也須做更動。"
   ]
  },
  {
   "cell_type": "code",
   "execution_count": 2,
   "metadata": {
    "ExecuteTime": {
     "end_time": "2023-12-20T04:35:28.908249900Z",
     "start_time": "2023-12-20T04:35:28.901254500Z"
    }
   },
   "outputs": [],
   "source": [
    "# !unzip -qq C:/Users/eddie/GitHub/Deep-Learning/PyTorch/Class/pytorch107/BCSS.zip"
   ]
  },
  {
   "cell_type": "markdown",
   "metadata": {
    "id": "l5i3N-weKP6-",
    "papermill": {
     "duration": 0.022866,
     "end_time": "2021-02-18T10:06:03.865074",
     "exception": false,
     "start_time": "2021-02-18T10:06:03.842208",
     "status": "completed"
    },
    "tags": []
   },
   "source": [
    "# Import Libraries"
   ]
  },
  {
   "cell_type": "code",
   "execution_count": 3,
   "metadata": {
    "ExecuteTime": {
     "end_time": "2023-12-20T04:35:46.089303800Z",
     "start_time": "2023-12-20T04:35:28.904247700Z"
    },
    "execution": {
     "iopub.execute_input": "2023-10-07T09:51:23.323783Z",
     "iopub.status.busy": "2023-10-07T09:51:23.32341Z",
     "iopub.status.idle": "2023-10-07T09:51:46.33636Z",
     "shell.execute_reply": "2023-10-07T09:51:46.335174Z",
     "shell.execute_reply.started": "2023-10-07T09:51:23.323704Z"
    },
    "id": "kFSYoYRqJSfB",
    "papermill": {
     "duration": 23.025453,
     "end_time": "2021-02-18T10:06:26.911588",
     "exception": false,
     "start_time": "2021-02-18T10:06:03.886135",
     "status": "completed"
    },
    "tags": [],
    "trusted": true
   },
   "outputs": [],
   "source": [
    "import numpy as np \n",
    "import pandas as pd\n",
    "import matplotlib.pyplot as plt\n",
    "\n",
    "import torch\n",
    "import torch.nn as nn\n",
    "from torch.utils.data import Dataset, DataLoader\n",
    "from torchvision import transforms as T\n",
    "import torchvision\n",
    "import torch.nn.functional as F\n",
    "from torch.autograd import Variable\n",
    "\n",
    "from PIL import Image\n",
    "import cv2\n",
    "import albumentations as A\n",
    "\n",
    "import time\n",
    "import os\n",
    "from tqdm.notebook import tqdm\n",
    "\n",
    "device = torch.device(\"cuda\" if torch.cuda.is_available() else \"cpu\")"
   ]
  },
  {
   "cell_type": "markdown",
   "metadata": {
    "id": "1_HWVOdhJSfP",
    "papermill": {
     "duration": 0.026783,
     "end_time": "2021-02-18T10:06:26.966143",
     "exception": false,
     "start_time": "2021-02-18T10:06:26.93936",
     "status": "completed"
    },
    "tags": []
   },
   "source": [
    "# Preprocessing\n",
    "\n",
    "#### Verify that the paths to the image and mask are correct, and plot the position of the mask on the image.\n",
    "\n",
    "First, the code establishes DataFrames for the paths of training and validation images, including their corresponding mask paths.\n",
    "\n",
    "Second, it presents the total number of images in both the training and validation sets.\n",
    "\n",
    "Third, the code loads a sample training image and its associated mask, visually demonstrating the image and the applied mask in a graphical representation."
   ]
  },
  {
   "cell_type": "code",
   "execution_count": 4,
   "metadata": {
    "ExecuteTime": {
     "end_time": "2023-12-20T04:35:46.094252800Z",
     "start_time": "2023-12-20T04:35:46.091736500Z"
    },
    "execution": {
     "iopub.execute_input": "2023-10-07T09:51:46.338892Z",
     "iopub.status.busy": "2023-10-07T09:51:46.338474Z",
     "iopub.status.idle": "2023-10-07T09:51:46.342763Z",
     "shell.execute_reply": "2023-10-07T09:51:46.341799Z",
     "shell.execute_reply.started": "2023-10-07T09:51:46.338854Z"
    },
    "papermill": {
     "duration": 0.033799,
     "end_time": "2021-02-18T10:06:27.027862",
     "exception": false,
     "start_time": "2021-02-18T10:06:26.994063",
     "status": "completed"
    },
    "tags": [],
    "trusted": true
   },
   "outputs": [],
   "source": [
    "TRAIN_IMAGE_PATH = 'BCSS/train/'\n",
    "VAL_IMAGE_PATH = 'BCSS/val/'\n",
    "TRAIN_MASK_PATH = 'BCSS/train_mask/'\n",
    "VAL_MASK_PATH = 'BCSS/val_mask/'"
   ]
  },
  {
   "cell_type": "code",
   "execution_count": 5,
   "metadata": {
    "ExecuteTime": {
     "end_time": "2023-12-20T04:35:47.610153800Z",
     "start_time": "2023-12-20T04:35:46.096251700Z"
    },
    "execution": {
     "iopub.execute_input": "2023-10-07T09:51:46.344808Z",
     "iopub.status.busy": "2023-10-07T09:51:46.344281Z",
     "iopub.status.idle": "2023-10-07T09:51:46.56445Z",
     "shell.execute_reply": "2023-10-07T09:51:46.563454Z",
     "shell.execute_reply.started": "2023-10-07T09:51:46.344771Z"
    },
    "id": "gmPIy2ZFJSfQ",
    "outputId": "895760d0-0896-49e9-b90b-3a06dc227886",
    "papermill": {
     "duration": 0.157328,
     "end_time": "2021-02-18T10:06:27.211938",
     "exception": false,
     "start_time": "2021-02-18T10:06:27.05461",
     "status": "completed"
    },
    "tags": [],
    "trusted": true
   },
   "outputs": [
    {
     "name": "stdout",
     "output_type": "stream",
     "text": [
      "Total Train Images:  30760\n",
      "Total Val Images:  5429\n"
     ]
    }
   ],
   "source": [
    "n_classes = 3\n",
    "\n",
    "def create_df(IMAGE_PATH):\n",
    "    name = []\n",
    "    for dirname, _, filenames in os.walk(IMAGE_PATH):\n",
    "        for filename in filenames:\n",
    "            name.append(filename.split('.')[0])\n",
    "    \n",
    "    return pd.DataFrame({'id': name}, index = np.arange(0, len(name)))\n",
    "\n",
    "train_df = create_df(TRAIN_IMAGE_PATH)\n",
    "val_df = create_df(VAL_IMAGE_PATH)\n",
    "\n",
    "\n",
    "print('Total Train Images: ', len(train_df))\n",
    "print('Total Val Images: ', len(val_df))"
   ]
  },
  {
   "cell_type": "code",
   "execution_count": 6,
   "metadata": {
    "ExecuteTime": {
     "end_time": "2023-12-20T04:35:47.616359700Z",
     "start_time": "2023-12-20T04:35:47.611155300Z"
    }
   },
   "outputs": [],
   "source": [
    "X_train = train_df['id'].to_numpy()\n",
    "X_val = val_df['id'].to_numpy()"
   ]
  },
  {
   "cell_type": "code",
   "execution_count": 7,
   "metadata": {
    "ExecuteTime": {
     "end_time": "2023-12-20T04:35:47.998541800Z",
     "start_time": "2023-12-20T04:35:47.617366400Z"
    },
    "execution": {
     "iopub.execute_input": "2023-10-07T09:51:46.58284Z",
     "iopub.status.busy": "2023-10-07T09:51:46.58261Z",
     "iopub.status.idle": "2023-10-07T09:51:50.573511Z",
     "shell.execute_reply": "2023-10-07T09:51:50.572598Z",
     "shell.execute_reply.started": "2023-10-07T09:51:46.582818Z"
    },
    "id": "-uXF6vetJSff",
    "outputId": "3dbf6719-75ed-46f7-805c-7892b7b3a6d1",
    "papermill": {
     "duration": 4.280771,
     "end_time": "2021-02-18T10:06:31.595115",
     "exception": false,
     "start_time": "2021-02-18T10:06:27.314344",
     "status": "completed"
    },
    "tags": [],
    "trusted": true
   },
   "outputs": [
    {
     "name": "stdout",
     "output_type": "stream",
     "text": [
      "Image Size (224, 224, 3)\n",
      "Mask Size (224, 224)\n"
     ]
    },
    {
     "data": {
      "image/png": "[encoded data removed]",
      "text/plain": [
       "<Figure size 640x480 with 1 Axes>"
      ]
     },
     "metadata": {},
     "output_type": "display_data"
    }
   ],
   "source": [
    "img = Image.open(TRAIN_IMAGE_PATH + train_df['id'][100] + '.png')\n",
    "mask = Image.open(TRAIN_MASK_PATH + train_df['id'][100] + '.png')\n",
    "print('Image Size', np.asarray(img).shape)\n",
    "print('Mask Size', np.asarray(mask).shape)\n",
    "\n",
    "\n",
    "plt.imshow(img)\n",
    "plt.imshow(mask, alpha=0.6)\n",
    "plt.title('Picture with Mask Appplied')\n",
    "plt.show()"
   ]
  },
  {
   "cell_type": "markdown",
   "metadata": {
    "id": "dkjFEoe7JSfo",
    "papermill": {
     "duration": 0.030107,
     "end_time": "2021-02-18T10:06:31.656378",
     "exception": false,
     "start_time": "2021-02-18T10:06:31.626271",
     "status": "completed"
    },
    "tags": []
   },
   "source": [
    "# Loading the Dataset\n",
    "\n",
    "Define the BCSSDataset for loading the dataset, where each sample comprises an image and its corresponding mask\n",
    "\n",
    "Build a classs inherit `torch.utils.data.Dataset`.\n",
    "  \n",
    "Implement `__init__`, `__getitem__` and `__len__` 3 functions.  \n",
    "\n",
    "Some operations could be there: setting location of dataset, the method of reading data, label of dataset or transform of dataset.\n",
    "\n",
    "See [torch.utils.data.Dataset](https://pytorch.org/docs/stable/data.html#torch.utils.data.Dataset) for more details"
   ]
  },
  {
   "cell_type": "code",
   "execution_count": 8,
   "metadata": {
    "ExecuteTime": {
     "end_time": "2023-12-20T04:35:47.998541800Z",
     "start_time": "2023-12-20T04:35:47.997541600Z"
    },
    "execution": {
     "iopub.execute_input": "2023-10-07T09:51:50.576239Z",
     "iopub.status.busy": "2023-10-07T09:51:50.575909Z",
     "iopub.status.idle": "2023-10-07T09:51:50.729274Z",
     "shell.execute_reply": "2023-10-07T09:51:50.728347Z",
     "shell.execute_reply.started": "2023-10-07T09:51:50.57618Z"
    },
    "id": "yne-vteuJSfp",
    "papermill": {
     "duration": 0.045449,
     "end_time": "2021-02-18T10:06:31.732603",
     "exception": false,
     "start_time": "2021-02-18T10:06:31.687154",
     "status": "completed"
    },
    "tags": [],
    "trusted": true
   },
   "outputs": [],
   "source": [
    "class BCSSDataset(Dataset):\n",
    "    \n",
    "    def __init__(self, img_path, mask_path, X, mean, std, transform=None):\n",
    "        self.img_path = img_path\n",
    "        self.mask_path = mask_path\n",
    "        self.X = X\n",
    "        self.transform = transform\n",
    "        self.mean = mean\n",
    "        self.std = std\n",
    "        \n",
    "    def __len__(self):\n",
    "        return len(self.X)\n",
    "    \n",
    "    def __getitem__(self, idx):\n",
    "        img = cv2.imread(self.img_path + self.X[idx] + '.png')\n",
    "        img = cv2.cvtColor(img, cv2.COLOR_BGR2RGB)\n",
    "        mask = cv2.imread(self.mask_path + self.X[idx] + '.png', cv2.IMREAD_GRAYSCALE)\n",
    "        \n",
    "        if self.transform is not None:\n",
    "            aug = self.transform(image=img, mask=mask)\n",
    "            img = Image.fromarray(aug['image'])\n",
    "            mask = aug['mask']\n",
    "        \n",
    "        if self.transform is None:\n",
    "            img = Image.fromarray(img)\n",
    "        \n",
    "        t = T.Compose([T.ToTensor(), T.Normalize(self.mean, self.std)])\n",
    "        img = t(img)\n",
    "        mask = torch.from_numpy(mask).long()\n",
    "            \n",
    "        return img, mask"
   ]
  },
  {
   "cell_type": "markdown",
   "metadata": {},
   "source": [
    "## Data augmentation \n",
    "\n",
    "Data augmentation are techniques used to increase the amount of data by adding slightly modified copies of already existing data or newly created synthetic data from existing data.\n",
    "\n",
    "PyTorch use `torchvision.transforms` to do data augmentation.\n",
    "[You can see all function here.](https://pytorch.org/vision/stable/transforms.html)"
   ]
  },
  {
   "cell_type": "code",
   "execution_count": 9,
   "metadata": {
    "ExecuteTime": {
     "end_time": "2023-12-20T04:35:48.139252400Z",
     "start_time": "2023-12-20T04:35:47.998541800Z"
    },
    "execution": {
     "iopub.execute_input": "2023-10-07T09:51:50.731573Z",
     "iopub.status.busy": "2023-10-07T09:51:50.730886Z",
     "iopub.status.idle": "2023-10-07T09:51:50.746718Z",
     "shell.execute_reply": "2023-10-07T09:51:50.745914Z",
     "shell.execute_reply.started": "2023-10-07T09:51:50.731536Z"
    },
    "id": "CCL93_giJSft",
    "papermill": {
     "duration": 0.041706,
     "end_time": "2021-02-18T10:06:31.80439",
     "exception": false,
     "start_time": "2021-02-18T10:06:31.762684",
     "status": "completed"
    },
    "tags": [],
    "trusted": true
   },
   "outputs": [],
   "source": [
    "mean=[0.485, 0.456, 0.406]\n",
    "std=[0.229, 0.224, 0.225]\n",
    "\n",
    "# For TRAIN\n",
    "########################################################################\n",
    "#  TODO: use transforms.xxx method to do some data augmentation        #\n",
    "#  This one is for training, find the composition to get better result #\n",
    "########################################################################\n",
    "transforms_train = A.Compose([\n",
    "    A.HorizontalFlip(p=0.5),\n",
    "    A.VerticalFlip(p=0.5),\n",
    "    A.RandomRotate90(p=0.5),\n",
    "    A.ColorJitter(brightness=0.2, contrast=0.2, saturation=0.2, hue=0.1, p=0.5),\n",
    "    A.GaussianBlur(blur_limit=(3, 7), p=0.5),\n",
    "    A.ElasticTransform(alpha=1, sigma=50, alpha_affine=50, p=0.5)\n",
    "])\n",
    "########################################################################\n",
    "#                           End of your code                           #\n",
    "########################################################################\n",
    "\n",
    "# For VAL\n",
    "########################################################################\n",
    "#  TODO: use transforms.xxx method to do some data augmentation        #\n",
    "#  This one is for validate and test,                                  #\n",
    "#  NOTICE some operation we usually not use in this part               #\n",
    "########################################################################\n",
    "transforms_val = A.Compose([\n",
    "    # Usually, validation transforms are simpler and do not include augmentation\n",
    "])\n",
    "########################################################################\n",
    "#                           End of your code                           #\n",
    "########################################################################\n",
    "\n",
    "#datasets\n",
    "train_set = BCSSDataset(TRAIN_IMAGE_PATH, TRAIN_MASK_PATH, X_train, mean, std, transforms_train)\n",
    "val_set = BCSSDataset(VAL_IMAGE_PATH, VAL_MASK_PATH, X_val, mean, std, transforms_val)\n",
    "\n",
    "#dataloader\n",
    "batch_size= 8\n",
    "\n",
    "train_loader = DataLoader(train_set, batch_size=batch_size, shuffle=True)\n",
    "val_loader = DataLoader(val_set, batch_size=batch_size, shuffle=True)               "
   ]
  },
  {
   "cell_type": "code",
   "execution_count": 10,
   "metadata": {
    "ExecuteTime": {
     "end_time": "2023-12-20T04:35:48.166975100Z",
     "start_time": "2023-12-20T04:35:48.040252500Z"
    }
   },
   "outputs": [
    {
     "data": {
      "text/plain": [
       "(tensor([[[-0.5767, -0.5767, -0.5596,  ...,  1.1700,  1.1187,  1.1015],\n",
       "          [-0.5767, -0.5596, -0.5596,  ...,  1.1700,  1.1187,  1.1015],\n",
       "          [-0.5596, -0.5424, -0.5253,  ...,  1.1700,  1.1358,  1.1187],\n",
       "          ...,\n",
       "          [ 1.0844,  1.0844,  1.0673,  ...,  1.4440,  1.4612,  1.4612],\n",
       "          [ 1.1015,  1.0844,  1.0673,  ...,  1.4098,  1.4269,  1.4440],\n",
       "          [ 1.1015,  1.0844,  1.0673,  ...,  1.4098,  1.4269,  1.4269]],\n",
       " \n",
       "         [[-1.1604, -1.1604, -1.1429,  ...,  0.4853,  0.3978,  0.3627],\n",
       "          [-1.1604, -1.1604, -1.1429,  ...,  0.4853,  0.3978,  0.3803],\n",
       "          [-1.1604, -1.1429, -1.1253,  ...,  0.4678,  0.4153,  0.3803],\n",
       "          ...,\n",
       "          [ 0.1702,  0.1702,  0.1877,  ...,  0.5028,  0.5203,  0.5378],\n",
       "          [ 0.1352,  0.1527,  0.1702,  ...,  0.4328,  0.4678,  0.4678],\n",
       "          [ 0.1352,  0.1352,  0.1702,  ...,  0.4153,  0.4503,  0.4503]],\n",
       " \n",
       "         [[ 0.4614,  0.4614,  0.4614,  ...,  1.6640,  1.6117,  1.5942],\n",
       "          [ 0.4614,  0.4614,  0.4788,  ...,  1.6640,  1.6117,  1.5942],\n",
       "          [ 0.4788,  0.4788,  0.4962,  ...,  1.6640,  1.6291,  1.6117],\n",
       "          ...,\n",
       "          [ 1.3502,  1.3502,  1.3851,  ...,  1.6465,  1.6640,  1.6640],\n",
       "          [ 1.3328,  1.3328,  1.3677,  ...,  1.6117,  1.6291,  1.6291],\n",
       "          [ 1.3154,  1.3328,  1.3677,  ...,  1.5942,  1.6117,  1.6117]]]),\n",
       " tensor([[1, 1, 1,  ..., 1, 1, 1],\n",
       "         [1, 1, 1,  ..., 1, 1, 1],\n",
       "         [1, 1, 1,  ..., 1, 1, 1],\n",
       "         ...,\n",
       "         [1, 1, 1,  ..., 2, 2, 2],\n",
       "         [1, 1, 1,  ..., 2, 2, 2],\n",
       "         [1, 1, 1,  ..., 2, 2, 2]]))"
      ]
     },
     "execution_count": 10,
     "metadata": {},
     "output_type": "execute_result"
    }
   ],
   "source": [
    "train_set[0]"
   ]
  },
  {
   "cell_type": "markdown",
   "metadata": {
    "id": "jJ-ZypiFJSgJ",
    "papermill": {
     "duration": 0.029797,
     "end_time": "2021-02-18T10:06:31.864199",
     "exception": false,
     "start_time": "2021-02-18T10:06:31.834402",
     "status": "completed"
    },
    "tags": []
   },
   "source": [
    "# U-net\n",
    "\n",
    "U-net is a fully convolution neural network for image semantic segmentation. Consist of encoder and decoder parts connected with skip connections. Encoder extract features of different spatial resolution (skip connections) which are used by decoder to define accurate segmentation mask. Use concatenation for fusing decoder blocks with skip connections.\n",
    "\n",
    "\n",
    "![image](https://hackmd.io/_uploads/rJXtsY_Up.png)"
   ]
  },
  {
   "cell_type": "code",
   "execution_count": 11,
   "metadata": {
    "ExecuteTime": {
     "end_time": "2023-12-20T04:35:48.233564900Z",
     "start_time": "2023-12-20T04:35:48.162973Z"
    }
   },
   "outputs": [],
   "source": [
    "class DoubleConv(nn.Module):\n",
    "    \"\"\"\n",
    "    Block with two convolutional blocks\n",
    "    \"\"\"\n",
    "\n",
    "    def __init__(self, in_channels, out_channels, mid_channels=None):\n",
    "        \"\"\"\n",
    "        Double convolution\n",
    "\n",
    "        :param in_channels: number of in channels for first conv layer\n",
    "        :param out_channels: number of out channels for last conv layer\n",
    "        :param mid_channels: number of out channels for first conv layer\n",
    "        \"\"\"\n",
    "        super().__init__()\n",
    "        if not mid_channels:\n",
    "            mid_channels = out_channels\n",
    "        ########################################################################\n",
    "        #  TODO:                                                               #\n",
    "        #  write model that contains 2 conv layer with batch normalization     #\n",
    "        #  and relu activation function                                        #\n",
    "        ########################################################################\n",
    "        self.double_conv = nn.Sequential(\n",
    "            nn.Conv2d(in_channels, mid_channels, kernel_size=3, padding=1),\n",
    "            nn.BatchNorm2d(mid_channels),\n",
    "            nn.ReLU(inplace=True),\n",
    "            nn.Conv2d(mid_channels, out_channels, kernel_size=3, padding=1),\n",
    "            nn.BatchNorm2d(out_channels),\n",
    "            nn.ReLU(inplace=True)\n",
    "        )\n",
    "        ########################################################################\n",
    "        #                           End of your code                           #\n",
    "        ########################################################################\n",
    "\n",
    "    def forward(self, x):\n",
    "        return self.double_conv(x)\n",
    "\n",
    "\n",
    "class Down(nn.Module):\n",
    "    \"\"\"\n",
    "    Block for down path\n",
    "    \"\"\"\n",
    "\n",
    "    def __init__(self, in_channels, out_channels):\n",
    "        \"\"\"\n",
    "        Down block\n",
    "\n",
    "        :param in_channels: number of in channels for double conv block\n",
    "        :param out_channels: number of out channels for double conv block\n",
    "        \"\"\"\n",
    "        super().__init__()\n",
    "        ########################################################################\n",
    "        #  TODO:                                                               #\n",
    "        #  write model which contains pooling and double conv block            #\n",
    "        ########################################################################\n",
    "        self.maxpool_conv = nn.Sequential(\n",
    "            nn.MaxPool2d(2),\n",
    "            DoubleConv(in_channels, out_channels)\n",
    "        )\n",
    "        ########################################################################\n",
    "        #                           End of your code                           #\n",
    "        ########################################################################\n",
    "\n",
    "    def forward(self, x):\n",
    "        return self.maxpool_conv(x)\n",
    "\n",
    "\n",
    "class Up(nn.Module):\n",
    "    \"\"\"\n",
    "    Block for up path\n",
    "    \"\"\"\n",
    "\n",
    "    def __init__(self, in_channels, out_channels):\n",
    "        \"\"\"\n",
    "        Down block\n",
    "\n",
    "        :param in_channels: number of in channels for transpose convolution\n",
    "        :param out_channels: number of out channels for double conv block\n",
    "        \"\"\"\n",
    "        super().__init__()\n",
    "\n",
    "        self.up = nn.ConvTranspose2d(in_channels, in_channels // 2, kernel_size=2, stride=2)\n",
    "        self.conv = DoubleConv(in_channels, out_channels)\n",
    "\n",
    "    def forward(self, x1, x2): \n",
    "        \n",
    "        #########################################################################################\n",
    "        # 1. Up-sample the input tensor using transpose convolution                             #\n",
    "        # 2. Calculate the difference in height and width between x2 and the up-sampled x1      #\n",
    "        # 3. Pad the up-sampled x1 to match the size of x2                                      #\n",
    "        # 4. Concatenate x2 and the up-sampled x1 along the channel dimension                   #\n",
    "        #########################################################################################\n",
    "        # Upsample x1\n",
    "        x1 = self.up(x1)\n",
    "\n",
    "        # Calculate size differences\n",
    "        diff_y = x2.size()[2] - x1.size()[2]\n",
    "        diff_x = x2.size()[3] - x1.size()[3]\n",
    "\n",
    "        # Padding x1 to match the size of x2\n",
    "        x1 = F.pad(x1, [diff_x // 2, diff_x - diff_x // 2,\n",
    "                        diff_y // 2, diff_y - diff_y // 2])\n",
    "\n",
    "        # Concatenate along the channel dimension\n",
    "        x = torch.cat([x2, x1], dim=1)\n",
    "\n",
    "        return self.conv(x)\n",
    "\n",
    "\n",
    "class OutConv(nn.Module):\n",
    "    def __init__(self, in_channels, out_channels):\n",
    "        \"\"\"\n",
    "        Final convolution block\n",
    "\n",
    "        :param in_channels: number of in channels for conv layer\n",
    "        :param out_channels: number of out channels for conv layer\n",
    "        \"\"\"\n",
    "        super(OutConv, self).__init__()\n",
    "        self.conv = nn.Conv2d(in_channels, out_channels, kernel_size=1)\n",
    "\n",
    "    def forward(self, x):\n",
    "        x = self.conv(x)\n",
    "        return x"
   ]
  },
  {
   "cell_type": "code",
   "execution_count": 12,
   "metadata": {
    "ExecuteTime": {
     "end_time": "2023-12-20T04:35:48.256565200Z",
     "start_time": "2023-12-20T04:35:48.181098100Z"
    }
   },
   "outputs": [],
   "source": [
    "class UNet(nn.Module):\n",
    "    \"\"\"\n",
    "    UNet model\n",
    "    \"\"\"\n",
    "\n",
    "    def __init__(self, n_channels, n_classes):\n",
    "        super(UNet, self).__init__()\n",
    "        self.n_channels = n_channels\n",
    "        self.n_classes = n_classes\n",
    "\n",
    "        #############################################################\n",
    "        #  implement the model according to the UNet architecture   #\n",
    "        ############################################################# \n",
    "        self.inc = DoubleConv(n_channels, 64)\n",
    "        self.down1 = Down(64, 128)\n",
    "        self.down2 = Down(128, 256)\n",
    "        self.down3 = Down(256, 512)\n",
    "        self.down4 = Down(512, 1024)\n",
    "        self.up1 = Up(1024, 512)\n",
    "        self.up2 = Up(512, 256)\n",
    "        self.up3 = Up(256, 128)\n",
    "        self.up4 = Up(128, 64)\n",
    "        self.outc = OutConv(64, n_classes)\n",
    "\n",
    "    def forward(self, x):\n",
    "        # Contracting Path\n",
    "        x1 = self.inc(x)\n",
    "        x2 = self.down1(x1)\n",
    "        x3 = self.down2(x2)\n",
    "        x4 = self.down3(x3)\n",
    "        x5 = self.down4(x4)\n",
    "\n",
    "        # Expansive Path\n",
    "        x = self.up1(x5, x4)\n",
    "        x = self.up2(x, x3)\n",
    "        x = self.up3(x, x2)\n",
    "        x = self.up4(x, x1)\n",
    "\n",
    "        # Output Layer\n",
    "        logits = self.outc(x)\n",
    "        return logits\n",
    "        #############################################################\n",
    "        #                   End of your code                        #\n",
    "        #############################################################"
   ]
  },
  {
   "cell_type": "code",
   "execution_count": 13,
   "metadata": {
    "ExecuteTime": {
     "end_time": "2023-12-20T04:35:48.511633900Z",
     "start_time": "2023-12-20T04:35:48.192565300Z"
    }
   },
   "outputs": [],
   "source": [
    "model = UNet(n_channels=3, n_classes=3)"
   ]
  },
  {
   "cell_type": "code",
   "execution_count": 14,
   "metadata": {
    "ExecuteTime": {
     "end_time": "2023-12-20T04:35:48.526992800Z",
     "start_time": "2023-12-20T04:35:48.512634Z"
    }
   },
   "outputs": [
    {
     "data": {
      "text/plain": [
       "UNet(\n",
       "  (inc): DoubleConv(\n",
       "    (double_conv): Sequential(\n",
       "      (0): Conv2d(3, 64, kernel_size=(3, 3), stride=(1, 1), padding=(1, 1))\n",
       "      (1): BatchNorm2d(64, eps=1e-05, momentum=0.1, affine=True, track_running_stats=True)\n",
       "      (2): ReLU(inplace=True)\n",
       "      (3): Conv2d(64, 64, kernel_size=(3, 3), stride=(1, 1), padding=(1, 1))\n",
       "      (4): BatchNorm2d(64, eps=1e-05, momentum=0.1, affine=True, track_running_stats=True)\n",
       "      (5): ReLU(inplace=True)\n",
       "    )\n",
       "  )\n",
       "  (down1): Down(\n",
       "    (maxpool_conv): Sequential(\n",
       "      (0): MaxPool2d(kernel_size=2, stride=2, padding=0, dilation=1, ceil_mode=False)\n",
       "      (1): DoubleConv(\n",
       "        (double_conv): Sequential(\n",
       "          (0): Conv2d(64, 128, kernel_size=(3, 3), stride=(1, 1), padding=(1, 1))\n",
       "          (1): BatchNorm2d(128, eps=1e-05, momentum=0.1, affine=True, track_running_stats=True)\n",
       "          (2): ReLU(inplace=True)\n",
       "          (3): Conv2d(128, 128, kernel_size=(3, 3), stride=(1, 1), padding=(1, 1))\n",
       "          (4): BatchNorm2d(128, eps=1e-05, momentum=0.1, affine=True, track_running_stats=True)\n",
       "          (5): ReLU(inplace=True)\n",
       "        )\n",
       "      )\n",
       "    )\n",
       "  )\n",
       "  (down2): Down(\n",
       "    (maxpool_conv): Sequential(\n",
       "      (0): MaxPool2d(kernel_size=2, stride=2, padding=0, dilation=1, ceil_mode=False)\n",
       "      (1): DoubleConv(\n",
       "        (double_conv): Sequential(\n",
       "          (0): Conv2d(128, 256, kernel_size=(3, 3), stride=(1, 1), padding=(1, 1))\n",
       "          (1): BatchNorm2d(256, eps=1e-05, momentum=0.1, affine=True, track_running_stats=True)\n",
       "          (2): ReLU(inplace=True)\n",
       "          (3): Conv2d(256, 256, kernel_size=(3, 3), stride=(1, 1), padding=(1, 1))\n",
       "          (4): BatchNorm2d(256, eps=1e-05, momentum=0.1, affine=True, track_running_stats=True)\n",
       "          (5): ReLU(inplace=True)\n",
       "        )\n",
       "      )\n",
       "    )\n",
       "  )\n",
       "  (down3): Down(\n",
       "    (maxpool_conv): Sequential(\n",
       "      (0): MaxPool2d(kernel_size=2, stride=2, padding=0, dilation=1, ceil_mode=False)\n",
       "      (1): DoubleConv(\n",
       "        (double_conv): Sequential(\n",
       "          (0): Conv2d(256, 512, kernel_size=(3, 3), stride=(1, 1), padding=(1, 1))\n",
       "          (1): BatchNorm2d(512, eps=1e-05, momentum=0.1, affine=True, track_running_stats=True)\n",
       "          (2): ReLU(inplace=True)\n",
       "          (3): Conv2d(512, 512, kernel_size=(3, 3), stride=(1, 1), padding=(1, 1))\n",
       "          (4): BatchNorm2d(512, eps=1e-05, momentum=0.1, affine=True, track_running_stats=True)\n",
       "          (5): ReLU(inplace=True)\n",
       "        )\n",
       "      )\n",
       "    )\n",
       "  )\n",
       "  (down4): Down(\n",
       "    (maxpool_conv): Sequential(\n",
       "      (0): MaxPool2d(kernel_size=2, stride=2, padding=0, dilation=1, ceil_mode=False)\n",
       "      (1): DoubleConv(\n",
       "        (double_conv): Sequential(\n",
       "          (0): Conv2d(512, 1024, kernel_size=(3, 3), stride=(1, 1), padding=(1, 1))\n",
       "          (1): BatchNorm2d(1024, eps=1e-05, momentum=0.1, affine=True, track_running_stats=True)\n",
       "          (2): ReLU(inplace=True)\n",
       "          (3): Conv2d(1024, 1024, kernel_size=(3, 3), stride=(1, 1), padding=(1, 1))\n",
       "          (4): BatchNorm2d(1024, eps=1e-05, momentum=0.1, affine=True, track_running_stats=True)\n",
       "          (5): ReLU(inplace=True)\n",
       "        )\n",
       "      )\n",
       "    )\n",
       "  )\n",
       "  (up1): Up(\n",
       "    (up): ConvTranspose2d(1024, 512, kernel_size=(2, 2), stride=(2, 2))\n",
       "    (conv): DoubleConv(\n",
       "      (double_conv): Sequential(\n",
       "        (0): Conv2d(1024, 512, kernel_size=(3, 3), stride=(1, 1), padding=(1, 1))\n",
       "        (1): BatchNorm2d(512, eps=1e-05, momentum=0.1, affine=True, track_running_stats=True)\n",
       "        (2): ReLU(inplace=True)\n",
       "        (3): Conv2d(512, 512, kernel_size=(3, 3), stride=(1, 1), padding=(1, 1))\n",
       "        (4): BatchNorm2d(512, eps=1e-05, momentum=0.1, affine=True, track_running_stats=True)\n",
       "        (5): ReLU(inplace=True)\n",
       "      )\n",
       "    )\n",
       "  )\n",
       "  (up2): Up(\n",
       "    (up): ConvTranspose2d(512, 256, kernel_size=(2, 2), stride=(2, 2))\n",
       "    (conv): DoubleConv(\n",
       "      (double_conv): Sequential(\n",
       "        (0): Conv2d(512, 256, kernel_size=(3, 3), stride=(1, 1), padding=(1, 1))\n",
       "        (1): BatchNorm2d(256, eps=1e-05, momentum=0.1, affine=True, track_running_stats=True)\n",
       "        (2): ReLU(inplace=True)\n",
       "        (3): Conv2d(256, 256, kernel_size=(3, 3), stride=(1, 1), padding=(1, 1))\n",
       "        (4): BatchNorm2d(256, eps=1e-05, momentum=0.1, affine=True, track_running_stats=True)\n",
       "        (5): ReLU(inplace=True)\n",
       "      )\n",
       "    )\n",
       "  )\n",
       "  (up3): Up(\n",
       "    (up): ConvTranspose2d(256, 128, kernel_size=(2, 2), stride=(2, 2))\n",
       "    (conv): DoubleConv(\n",
       "      (double_conv): Sequential(\n",
       "        (0): Conv2d(256, 128, kernel_size=(3, 3), stride=(1, 1), padding=(1, 1))\n",
       "        (1): BatchNorm2d(128, eps=1e-05, momentum=0.1, affine=True, track_running_stats=True)\n",
       "        (2): ReLU(inplace=True)\n",
       "        (3): Conv2d(128, 128, kernel_size=(3, 3), stride=(1, 1), padding=(1, 1))\n",
       "        (4): BatchNorm2d(128, eps=1e-05, momentum=0.1, affine=True, track_running_stats=True)\n",
       "        (5): ReLU(inplace=True)\n",
       "      )\n",
       "    )\n",
       "  )\n",
       "  (up4): Up(\n",
       "    (up): ConvTranspose2d(128, 64, kernel_size=(2, 2), stride=(2, 2))\n",
       "    (conv): DoubleConv(\n",
       "      (double_conv): Sequential(\n",
       "        (0): Conv2d(128, 64, kernel_size=(3, 3), stride=(1, 1), padding=(1, 1))\n",
       "        (1): BatchNorm2d(64, eps=1e-05, momentum=0.1, affine=True, track_running_stats=True)\n",
       "        (2): ReLU(inplace=True)\n",
       "        (3): Conv2d(64, 64, kernel_size=(3, 3), stride=(1, 1), padding=(1, 1))\n",
       "        (4): BatchNorm2d(64, eps=1e-05, momentum=0.1, affine=True, track_running_stats=True)\n",
       "        (5): ReLU(inplace=True)\n",
       "      )\n",
       "    )\n",
       "  )\n",
       "  (outc): OutConv(\n",
       "    (conv): Conv2d(64, 3, kernel_size=(1, 1), stride=(1, 1))\n",
       "  )\n",
       ")"
      ]
     },
     "execution_count": 14,
     "metadata": {},
     "output_type": "execute_result"
    }
   ],
   "source": [
    "model"
   ]
  },
  {
   "cell_type": "markdown",
   "metadata": {
    "id": "ncudHa0UJSgQ",
    "papermill": {
     "duration": 0.031715,
     "end_time": "2021-02-18T10:06:32.670851",
     "exception": false,
     "start_time": "2021-02-18T10:06:32.639136",
     "status": "completed"
    },
    "tags": []
   },
   "source": [
    "# Training\n",
    "\n",
    "In this section, you will implement some functions in your training loop. There are several crucial functions you need to implement:\n",
    "\n",
    "- Pixel Accuracy: Pixel Accuracy measures the percentage of correctly predicted pixels out of the total pixels in the image\n",
    "\n",
    "- mIoU (Mean Intersection over Union): mIoU evaluates the spatial overlap between the predicted and ground truth segmentation masks for multiple classes.\n",
    "\n",
    "- Dice Loss: Dice Loss quantifies the dissimilarity between the predicted and ground truth masks, emphasizing the agreement between the two masks\n",
    "\n",
    "Try to use labeled data design and train a segmentor (Unet) from scratch to predict the mask of a breast cancer lesions image. "
   ]
  },
  {
   "cell_type": "code",
   "execution_count": 15,
   "metadata": {
    "ExecuteTime": {
     "end_time": "2023-12-20T04:35:48.612296400Z",
     "start_time": "2023-12-20T04:35:48.525992900Z"
    },
    "execution": {
     "iopub.execute_input": "2023-10-07T09:51:51.219871Z",
     "iopub.status.busy": "2023-10-07T09:51:51.219382Z",
     "iopub.status.idle": "2023-10-07T09:51:51.229928Z",
     "shell.execute_reply": "2023-10-07T09:51:51.229293Z",
     "shell.execute_reply.started": "2023-10-07T09:51:51.219835Z"
    },
    "papermill": {
     "duration": 0.039711,
     "end_time": "2021-02-18T10:06:32.742919",
     "exception": false,
     "start_time": "2021-02-18T10:06:32.703208",
     "status": "completed"
    },
    "tags": [],
    "trusted": true
   },
   "outputs": [],
   "source": [
    "def pixel_accuracy(output, mask):\n",
    "    with torch.no_grad():\n",
    "        #############################################################################################################\n",
    "        #  1. Convert the output to class predictions using argmax after applying softmax                           # \n",
    "        #  2. Create a tensor of binary values indicating correct predictions                                       #\n",
    "        #  3. Calculate accuracy by dividing the number of correct predictions by the total number of predictions   #\n",
    "        #############################################################################################################\n",
    "        # Apply softmax and then argmax to get class predictions\n",
    "        predictions = torch.argmax(F.softmax(output, dim=1), dim=1)\n",
    "\n",
    "        # Create a binary tensor indicating correct predictions\n",
    "        correct_predictions = (predictions == mask)\n",
    "\n",
    "        # Calculate accuracy\n",
    "        accuracy = torch.sum(correct_predictions).item() / correct_predictions.numel()\n",
    "        #############################################################################################################\n",
    "        #                                      End of your code                                                     #\n",
    "        #############################################################################################################\n",
    "    return accuracy"
   ]
  },
  {
   "cell_type": "markdown",
   "metadata": {},
   "source": [
    "## mIoU\n",
    "\n",
    "mean Intersection over Union (mIoU), a metric used to evaluate the performance of a segmentation model. It takes predicted masks and ground truth masks as input, computes the IoU for each class, and returns the average IoU across all classes. \n",
    "\n",
    "![image](https://hackmd.io/_uploads/SkLIbhFL6.png)"
   ]
  },
  {
   "cell_type": "code",
   "execution_count": 16,
   "metadata": {
    "ExecuteTime": {
     "end_time": "2023-12-20T04:35:48.636295300Z",
     "start_time": "2023-12-20T04:35:48.554305700Z"
    },
    "execution": {
     "iopub.execute_input": "2023-10-07T09:51:51.231937Z",
     "iopub.status.busy": "2023-10-07T09:51:51.231409Z",
     "iopub.status.idle": "2023-10-07T09:51:51.241722Z",
     "shell.execute_reply": "2023-10-07T09:51:51.240971Z",
     "shell.execute_reply.started": "2023-10-07T09:51:51.231895Z"
    },
    "id": "5cqfcLtOJSgS",
    "papermill": {
     "duration": 0.048322,
     "end_time": "2021-02-18T10:06:32.826838",
     "exception": false,
     "start_time": "2021-02-18T10:06:32.778516",
     "status": "completed"
    },
    "tags": [],
    "trusted": true
   },
   "outputs": [],
   "source": [
    "def mIoU(pred_mask, mask, smooth=1e-10, n_classes=3):\n",
    "    with torch.no_grad():\n",
    "        pred_mask = F.softmax(pred_mask, dim=1)\n",
    "        pred_mask = torch.argmax(pred_mask, dim=1)\n",
    "        pred_mask = pred_mask.contiguous().view(-1)\n",
    "        mask = mask.contiguous().view(-1)\n",
    "\n",
    "        iou_per_class = []\n",
    "        for clas in range(0, n_classes): #loop per pixel class\n",
    "            true_class = pred_mask == clas\n",
    "            true_label = mask == clas\n",
    "\n",
    "            if true_label.long().sum().item() == 0: #no exist label in this loop\n",
    "                iou_per_class.append(np.nan)\n",
    "            else:\n",
    "\n",
    "                #############################################################################################################\n",
    "                #  Calculate the intersection of the true positive pixels for the current class                             # \n",
    "                #  Calculate the union of the true positive and false negative pixels for the current class                 #\n",
    "                #############################################################################################################\n",
    "                # Calculate the intersection and union\n",
    "                intersect = torch.logical_and(true_class, true_label).sum().item()\n",
    "                union = torch.logical_or(true_class, true_label).sum().item()\n",
    "                #############################################################################################################\n",
    "                #                                      End of your code                                                     #\n",
    "                #############################################################################################################\n",
    "                iou = (intersect + smooth) / (union +smooth)\n",
    "                iou_per_class.append(iou)\n",
    "        return np.nanmean(iou_per_class)"
   ]
  },
  {
   "cell_type": "markdown",
   "metadata": {},
   "source": [
    "## Dice Loss\n",
    "\n",
    "Dice loss is based on Sørensen-Dice coefficient. It measures the overlap between the predicted and target segmentation masks. Dice loss provides a differentiable and smooth measure of segmentation accuracy.\n",
    "\n",
    "${DiceLoss}(y, \\bar p) = 1 - \\cfrac{(2y\\bar p + \\epsilon)}{(y + \\bar p + \\epsilon)}$ \n",
    "\n",
    "- $y$ represents the ground truth mask.\n",
    "- $\\bar p$ represents the predicted mask.\n",
    "- $\\epsilon$ is a small constant added for numerical stability."
   ]
  },
  {
   "cell_type": "code",
   "execution_count": 17,
   "metadata": {
    "ExecuteTime": {
     "end_time": "2023-12-20T04:35:48.637295100Z",
     "start_time": "2023-12-20T04:35:48.577418700Z"
    }
   },
   "outputs": [],
   "source": [
    "class DiceLoss(nn.Module):\n",
    "    \"\"\"\n",
    "    Dice loss\n",
    "    \"\"\"\n",
    "\n",
    "    def __init__(self):\n",
    "        super(DiceLoss, self).__init__()\n",
    "\n",
    "    def forward(self, inputs, targets, eps=1e-6):\n",
    "        \"\"\"\n",
    "        Calculation of dice loss\n",
    "\n",
    "        :param inputs: model predictions\n",
    "        :param targets: target values\n",
    "        :param eps: stability factor, defaults to 1e-6\n",
    "        :return: loss value\n",
    "        \"\"\"\n",
    "        # \n",
    "        #######################################\n",
    "        #        implement dice loss          #                                                                      \n",
    "        #######################################\n",
    "        # Apply softmax to the inputs\n",
    "        inputs = torch.softmax(inputs, dim=1)\n",
    "\n",
    "        # Create the one-hot encoding of targets\n",
    "        targets_one_hot = F.one_hot(targets, num_classes=inputs.shape[1])\n",
    "        targets_one_hot = targets_one_hot.permute(0, 3, 1, 2).float()\n",
    "\n",
    "        # Flatten inputs and targets\n",
    "        inputs_flat = inputs.view(inputs.shape[0], inputs.shape[1], -1)\n",
    "        targets_flat = targets_one_hot.view(targets_one_hot.shape[0], targets_one_hot.shape[1], -1)\n",
    "\n",
    "        # Calculate intersection and union\n",
    "        intersection = torch.sum(inputs_flat * targets_flat, dim=2)\n",
    "        total = torch.sum(inputs_flat, dim=2) + torch.sum(targets_flat, dim=2)\n",
    "\n",
    "        # Calculate dice score for each class and average\n",
    "        dice = (2. * intersection + eps) / (total + eps)\n",
    "        dice = dice.mean(dim=1)  # Average over classes\n",
    "        #######################################\n",
    "        #          End of your code           #                              \n",
    "        #######################################\n",
    "        return 1.0 - dice.mean()"
   ]
  },
  {
   "cell_type": "markdown",
   "metadata": {},
   "source": [
    "# Training loop\n",
    "\n",
    "Call train function in a loop.  \n",
    "Take a break and wait."
   ]
  },
  {
   "cell_type": "code",
   "execution_count": 18,
   "metadata": {},
   "outputs": [
    {
     "data": {
      "text/plain": [
       "EMA(\n",
       "  (online_model): UNet(\n",
       "    (inc): DoubleConv(\n",
       "      (double_conv): Sequential(\n",
       "        (0): Conv2d(3, 64, kernel_size=(3, 3), stride=(1, 1), padding=(1, 1))\n",
       "        (1): BatchNorm2d(64, eps=1e-05, momentum=0.1, affine=True, track_running_stats=True)\n",
       "        (2): ReLU(inplace=True)\n",
       "        (3): Conv2d(64, 64, kernel_size=(3, 3), stride=(1, 1), padding=(1, 1))\n",
       "        (4): BatchNorm2d(64, eps=1e-05, momentum=0.1, affine=True, track_running_stats=True)\n",
       "        (5): ReLU(inplace=True)\n",
       "      )\n",
       "    )\n",
       "    (down1): Down(\n",
       "      (maxpool_conv): Sequential(\n",
       "        (0): MaxPool2d(kernel_size=2, stride=2, padding=0, dilation=1, ceil_mode=False)\n",
       "        (1): DoubleConv(\n",
       "          (double_conv): Sequential(\n",
       "            (0): Conv2d(64, 128, kernel_size=(3, 3), stride=(1, 1), padding=(1, 1))\n",
       "            (1): BatchNorm2d(128, eps=1e-05, momentum=0.1, affine=True, track_running_stats=True)\n",
       "            (2): ReLU(inplace=True)\n",
       "            (3): Conv2d(128, 128, kernel_size=(3, 3), stride=(1, 1), padding=(1, 1))\n",
       "            (4): BatchNorm2d(128, eps=1e-05, momentum=0.1, affine=True, track_running_stats=True)\n",
       "            (5): ReLU(inplace=True)\n",
       "          )\n",
       "        )\n",
       "      )\n",
       "    )\n",
       "    (down2): Down(\n",
       "      (maxpool_conv): Sequential(\n",
       "        (0): MaxPool2d(kernel_size=2, stride=2, padding=0, dilation=1, ceil_mode=False)\n",
       "        (1): DoubleConv(\n",
       "          (double_conv): Sequential(\n",
       "            (0): Conv2d(128, 256, kernel_size=(3, 3), stride=(1, 1), padding=(1, 1))\n",
       "            (1): BatchNorm2d(256, eps=1e-05, momentum=0.1, affine=True, track_running_stats=True)\n",
       "            (2): ReLU(inplace=True)\n",
       "            (3): Conv2d(256, 256, kernel_size=(3, 3), stride=(1, 1), padding=(1, 1))\n",
       "            (4): BatchNorm2d(256, eps=1e-05, momentum=0.1, affine=True, track_running_stats=True)\n",
       "            (5): ReLU(inplace=True)\n",
       "          )\n",
       "        )\n",
       "      )\n",
       "    )\n",
       "    (down3): Down(\n",
       "      (maxpool_conv): Sequential(\n",
       "        (0): MaxPool2d(kernel_size=2, stride=2, padding=0, dilation=1, ceil_mode=False)\n",
       "        (1): DoubleConv(\n",
       "          (double_conv): Sequential(\n",
       "            (0): Conv2d(256, 512, kernel_size=(3, 3), stride=(1, 1), padding=(1, 1))\n",
       "            (1): BatchNorm2d(512, eps=1e-05, momentum=0.1, affine=True, track_running_stats=True)\n",
       "            (2): ReLU(inplace=True)\n",
       "            (3): Conv2d(512, 512, kernel_size=(3, 3), stride=(1, 1), padding=(1, 1))\n",
       "            (4): BatchNorm2d(512, eps=1e-05, momentum=0.1, affine=True, track_running_stats=True)\n",
       "            (5): ReLU(inplace=True)\n",
       "          )\n",
       "        )\n",
       "      )\n",
       "    )\n",
       "    (down4): Down(\n",
       "      (maxpool_conv): Sequential(\n",
       "        (0): MaxPool2d(kernel_size=2, stride=2, padding=0, dilation=1, ceil_mode=False)\n",
       "        (1): DoubleConv(\n",
       "          (double_conv): Sequential(\n",
       "            (0): Conv2d(512, 1024, kernel_size=(3, 3), stride=(1, 1), padding=(1, 1))\n",
       "            (1): BatchNorm2d(1024, eps=1e-05, momentum=0.1, affine=True, track_running_stats=True)\n",
       "            (2): ReLU(inplace=True)\n",
       "            (3): Conv2d(1024, 1024, kernel_size=(3, 3), stride=(1, 1), padding=(1, 1))\n",
       "            (4): BatchNorm2d(1024, eps=1e-05, momentum=0.1, affine=True, track_running_stats=True)\n",
       "            (5): ReLU(inplace=True)\n",
       "          )\n",
       "        )\n",
       "      )\n",
       "    )\n",
       "    (up1): Up(\n",
       "      (up): ConvTranspose2d(1024, 512, kernel_size=(2, 2), stride=(2, 2))\n",
       "      (conv): DoubleConv(\n",
       "        (double_conv): Sequential(\n",
       "          (0): Conv2d(1024, 512, kernel_size=(3, 3), stride=(1, 1), padding=(1, 1))\n",
       "          (1): BatchNorm2d(512, eps=1e-05, momentum=0.1, affine=True, track_running_stats=True)\n",
       "          (2): ReLU(inplace=True)\n",
       "          (3): Conv2d(512, 512, kernel_size=(3, 3), stride=(1, 1), padding=(1, 1))\n",
       "          (4): BatchNorm2d(512, eps=1e-05, momentum=0.1, affine=True, track_running_stats=True)\n",
       "          (5): ReLU(inplace=True)\n",
       "        )\n",
       "      )\n",
       "    )\n",
       "    (up2): Up(\n",
       "      (up): ConvTranspose2d(512, 256, kernel_size=(2, 2), stride=(2, 2))\n",
       "      (conv): DoubleConv(\n",
       "        (double_conv): Sequential(\n",
       "          (0): Conv2d(512, 256, kernel_size=(3, 3), stride=(1, 1), padding=(1, 1))\n",
       "          (1): BatchNorm2d(256, eps=1e-05, momentum=0.1, affine=True, track_running_stats=True)\n",
       "          (2): ReLU(inplace=True)\n",
       "          (3): Conv2d(256, 256, kernel_size=(3, 3), stride=(1, 1), padding=(1, 1))\n",
       "          (4): BatchNorm2d(256, eps=1e-05, momentum=0.1, affine=True, track_running_stats=True)\n",
       "          (5): ReLU(inplace=True)\n",
       "        )\n",
       "      )\n",
       "    )\n",
       "    (up3): Up(\n",
       "      (up): ConvTranspose2d(256, 128, kernel_size=(2, 2), stride=(2, 2))\n",
       "      (conv): DoubleConv(\n",
       "        (double_conv): Sequential(\n",
       "          (0): Conv2d(256, 128, kernel_size=(3, 3), stride=(1, 1), padding=(1, 1))\n",
       "          (1): BatchNorm2d(128, eps=1e-05, momentum=0.1, affine=True, track_running_stats=True)\n",
       "          (2): ReLU(inplace=True)\n",
       "          (3): Conv2d(128, 128, kernel_size=(3, 3), stride=(1, 1), padding=(1, 1))\n",
       "          (4): BatchNorm2d(128, eps=1e-05, momentum=0.1, affine=True, track_running_stats=True)\n",
       "          (5): ReLU(inplace=True)\n",
       "        )\n",
       "      )\n",
       "    )\n",
       "    (up4): Up(\n",
       "      (up): ConvTranspose2d(128, 64, kernel_size=(2, 2), stride=(2, 2))\n",
       "      (conv): DoubleConv(\n",
       "        (double_conv): Sequential(\n",
       "          (0): Conv2d(128, 64, kernel_size=(3, 3), stride=(1, 1), padding=(1, 1))\n",
       "          (1): BatchNorm2d(64, eps=1e-05, momentum=0.1, affine=True, track_running_stats=True)\n",
       "          (2): ReLU(inplace=True)\n",
       "          (3): Conv2d(64, 64, kernel_size=(3, 3), stride=(1, 1), padding=(1, 1))\n",
       "          (4): BatchNorm2d(64, eps=1e-05, momentum=0.1, affine=True, track_running_stats=True)\n",
       "          (5): ReLU(inplace=True)\n",
       "        )\n",
       "      )\n",
       "    )\n",
       "    (outc): OutConv(\n",
       "      (conv): Conv2d(64, 3, kernel_size=(1, 1), stride=(1, 1))\n",
       "    )\n",
       "  )\n",
       "  (ema_model): UNet(\n",
       "    (inc): DoubleConv(\n",
       "      (double_conv): Sequential(\n",
       "        (0): Conv2d(3, 64, kernel_size=(3, 3), stride=(1, 1), padding=(1, 1))\n",
       "        (1): BatchNorm2d(64, eps=1e-05, momentum=0.1, affine=True, track_running_stats=True)\n",
       "        (2): ReLU(inplace=True)\n",
       "        (3): Conv2d(64, 64, kernel_size=(3, 3), stride=(1, 1), padding=(1, 1))\n",
       "        (4): BatchNorm2d(64, eps=1e-05, momentum=0.1, affine=True, track_running_stats=True)\n",
       "        (5): ReLU(inplace=True)\n",
       "      )\n",
       "    )\n",
       "    (down1): Down(\n",
       "      (maxpool_conv): Sequential(\n",
       "        (0): MaxPool2d(kernel_size=2, stride=2, padding=0, dilation=1, ceil_mode=False)\n",
       "        (1): DoubleConv(\n",
       "          (double_conv): Sequential(\n",
       "            (0): Conv2d(64, 128, kernel_size=(3, 3), stride=(1, 1), padding=(1, 1))\n",
       "            (1): BatchNorm2d(128, eps=1e-05, momentum=0.1, affine=True, track_running_stats=True)\n",
       "            (2): ReLU(inplace=True)\n",
       "            (3): Conv2d(128, 128, kernel_size=(3, 3), stride=(1, 1), padding=(1, 1))\n",
       "            (4): BatchNorm2d(128, eps=1e-05, momentum=0.1, affine=True, track_running_stats=True)\n",
       "            (5): ReLU(inplace=True)\n",
       "          )\n",
       "        )\n",
       "      )\n",
       "    )\n",
       "    (down2): Down(\n",
       "      (maxpool_conv): Sequential(\n",
       "        (0): MaxPool2d(kernel_size=2, stride=2, padding=0, dilation=1, ceil_mode=False)\n",
       "        (1): DoubleConv(\n",
       "          (double_conv): Sequential(\n",
       "            (0): Conv2d(128, 256, kernel_size=(3, 3), stride=(1, 1), padding=(1, 1))\n",
       "            (1): BatchNorm2d(256, eps=1e-05, momentum=0.1, affine=True, track_running_stats=True)\n",
       "            (2): ReLU(inplace=True)\n",
       "            (3): Conv2d(256, 256, kernel_size=(3, 3), stride=(1, 1), padding=(1, 1))\n",
       "            (4): BatchNorm2d(256, eps=1e-05, momentum=0.1, affine=True, track_running_stats=True)\n",
       "            (5): ReLU(inplace=True)\n",
       "          )\n",
       "        )\n",
       "      )\n",
       "    )\n",
       "    (down3): Down(\n",
       "      (maxpool_conv): Sequential(\n",
       "        (0): MaxPool2d(kernel_size=2, stride=2, padding=0, dilation=1, ceil_mode=False)\n",
       "        (1): DoubleConv(\n",
       "          (double_conv): Sequential(\n",
       "            (0): Conv2d(256, 512, kernel_size=(3, 3), stride=(1, 1), padding=(1, 1))\n",
       "            (1): BatchNorm2d(512, eps=1e-05, momentum=0.1, affine=True, track_running_stats=True)\n",
       "            (2): ReLU(inplace=True)\n",
       "            (3): Conv2d(512, 512, kernel_size=(3, 3), stride=(1, 1), padding=(1, 1))\n",
       "            (4): BatchNorm2d(512, eps=1e-05, momentum=0.1, affine=True, track_running_stats=True)\n",
       "            (5): ReLU(inplace=True)\n",
       "          )\n",
       "        )\n",
       "      )\n",
       "    )\n",
       "    (down4): Down(\n",
       "      (maxpool_conv): Sequential(\n",
       "        (0): MaxPool2d(kernel_size=2, stride=2, padding=0, dilation=1, ceil_mode=False)\n",
       "        (1): DoubleConv(\n",
       "          (double_conv): Sequential(\n",
       "            (0): Conv2d(512, 1024, kernel_size=(3, 3), stride=(1, 1), padding=(1, 1))\n",
       "            (1): BatchNorm2d(1024, eps=1e-05, momentum=0.1, affine=True, track_running_stats=True)\n",
       "            (2): ReLU(inplace=True)\n",
       "            (3): Conv2d(1024, 1024, kernel_size=(3, 3), stride=(1, 1), padding=(1, 1))\n",
       "            (4): BatchNorm2d(1024, eps=1e-05, momentum=0.1, affine=True, track_running_stats=True)\n",
       "            (5): ReLU(inplace=True)\n",
       "          )\n",
       "        )\n",
       "      )\n",
       "    )\n",
       "    (up1): Up(\n",
       "      (up): ConvTranspose2d(1024, 512, kernel_size=(2, 2), stride=(2, 2))\n",
       "      (conv): DoubleConv(\n",
       "        (double_conv): Sequential(\n",
       "          (0): Conv2d(1024, 512, kernel_size=(3, 3), stride=(1, 1), padding=(1, 1))\n",
       "          (1): BatchNorm2d(512, eps=1e-05, momentum=0.1, affine=True, track_running_stats=True)\n",
       "          (2): ReLU(inplace=True)\n",
       "          (3): Conv2d(512, 512, kernel_size=(3, 3), stride=(1, 1), padding=(1, 1))\n",
       "          (4): BatchNorm2d(512, eps=1e-05, momentum=0.1, affine=True, track_running_stats=True)\n",
       "          (5): ReLU(inplace=True)\n",
       "        )\n",
       "      )\n",
       "    )\n",
       "    (up2): Up(\n",
       "      (up): ConvTranspose2d(512, 256, kernel_size=(2, 2), stride=(2, 2))\n",
       "      (conv): DoubleConv(\n",
       "        (double_conv): Sequential(\n",
       "          (0): Conv2d(512, 256, kernel_size=(3, 3), stride=(1, 1), padding=(1, 1))\n",
       "          (1): BatchNorm2d(256, eps=1e-05, momentum=0.1, affine=True, track_running_stats=True)\n",
       "          (2): ReLU(inplace=True)\n",
       "          (3): Conv2d(256, 256, kernel_size=(3, 3), stride=(1, 1), padding=(1, 1))\n",
       "          (4): BatchNorm2d(256, eps=1e-05, momentum=0.1, affine=True, track_running_stats=True)\n",
       "          (5): ReLU(inplace=True)\n",
       "        )\n",
       "      )\n",
       "    )\n",
       "    (up3): Up(\n",
       "      (up): ConvTranspose2d(256, 128, kernel_size=(2, 2), stride=(2, 2))\n",
       "      (conv): DoubleConv(\n",
       "        (double_conv): Sequential(\n",
       "          (0): Conv2d(256, 128, kernel_size=(3, 3), stride=(1, 1), padding=(1, 1))\n",
       "          (1): BatchNorm2d(128, eps=1e-05, momentum=0.1, affine=True, track_running_stats=True)\n",
       "          (2): ReLU(inplace=True)\n",
       "          (3): Conv2d(128, 128, kernel_size=(3, 3), stride=(1, 1), padding=(1, 1))\n",
       "          (4): BatchNorm2d(128, eps=1e-05, momentum=0.1, affine=True, track_running_stats=True)\n",
       "          (5): ReLU(inplace=True)\n",
       "        )\n",
       "      )\n",
       "    )\n",
       "    (up4): Up(\n",
       "      (up): ConvTranspose2d(128, 64, kernel_size=(2, 2), stride=(2, 2))\n",
       "      (conv): DoubleConv(\n",
       "        (double_conv): Sequential(\n",
       "          (0): Conv2d(128, 64, kernel_size=(3, 3), stride=(1, 1), padding=(1, 1))\n",
       "          (1): BatchNorm2d(64, eps=1e-05, momentum=0.1, affine=True, track_running_stats=True)\n",
       "          (2): ReLU(inplace=True)\n",
       "          (3): Conv2d(64, 64, kernel_size=(3, 3), stride=(1, 1), padding=(1, 1))\n",
       "          (4): BatchNorm2d(64, eps=1e-05, momentum=0.1, affine=True, track_running_stats=True)\n",
       "          (5): ReLU(inplace=True)\n",
       "        )\n",
       "      )\n",
       "    )\n",
       "    (outc): OutConv(\n",
       "      (conv): Conv2d(64, 3, kernel_size=(1, 1), stride=(1, 1))\n",
       "    )\n",
       "  )\n",
       ")"
      ]
     },
     "execution_count": 18,
     "metadata": {},
     "output_type": "execute_result"
    }
   ],
   "source": [
    "from ema_pytorch import EMA\n",
    "\n",
    "alpha = 0.999  # decay factor for EMA\n",
    "global_step = 0  # to keep track of the number of steps\n",
    "\n",
    "# Initialize EMA with your model and decay rate\n",
    "# Initialize EMA\n",
    "ema = EMA(\n",
    "    model=model,\n",
    "    beta=0.9999,  # Decay rate for EMA\n",
    "    update_after_step=100,  # Number of steps after which to start updating EMA\n",
    "    update_every=10,  # Frequency of updates (every 10 steps)\n",
    "    # Other parameters as needed\n",
    ")\n",
    "\n",
    "ema.to(device)"
   ]
  },
  {
   "cell_type": "code",
   "execution_count": 19,
   "metadata": {
    "ExecuteTime": {
     "end_time": "2023-12-20T04:35:48.708663Z",
     "start_time": "2023-12-20T04:35:48.603297500Z"
    },
    "execution": {
     "iopub.execute_input": "2023-10-07T09:51:51.24363Z",
     "iopub.status.busy": "2023-10-07T09:51:51.243068Z",
     "iopub.status.idle": "2023-10-07T09:51:51.262225Z",
     "shell.execute_reply": "2023-10-07T09:51:51.26144Z",
     "shell.execute_reply.started": "2023-10-07T09:51:51.243596Z"
    },
    "id": "8i9UIFUJJSgZ",
    "papermill": {
     "duration": 0.060048,
     "end_time": "2021-02-18T10:06:32.922403",
     "exception": false,
     "start_time": "2021-02-18T10:06:32.862355",
     "status": "completed"
    },
    "tags": [],
    "trusted": true
   },
   "outputs": [],
   "source": [
    "def get_lr(optimizer):\n",
    "    for param_group in optimizer.param_groups:\n",
    "        return param_group['lr']\n",
    "\n",
    "def fit(epochs, model, train_loader, val_loader, criterion1, criterion2, optimizer, scheduler, patch=False):\n",
    "    torch.cuda.empty_cache()\n",
    "    train_losses = []\n",
    "    test_losses = []\n",
    "    val_iou = []; val_acc = []\n",
    "    train_iou = []; train_acc = []\n",
    "    lrs = []\n",
    "    min_loss = np.inf\n",
    "    max_iou = 0\n",
    "    decrease = 1 ; not_improve=0\n",
    "\n",
    "    model.to(device)\n",
    "    fit_time = time.time()\n",
    "    for e in range(epochs):\n",
    "        since = time.time()\n",
    "        running_loss = 0\n",
    "        iou_score = 0\n",
    "        accuracy = 0\n",
    "        #training loop\n",
    "        model.train()\n",
    "        train_loop = tqdm(train_loader, desc='Training', leave=True)\n",
    "        for i, data in enumerate(train_loop):\n",
    "            #training phase\n",
    "            ########################################################################\n",
    "            # TODO: Forward, backward and optimize                                 #\n",
    "            # 1. process input through the network                                 #\n",
    "            # 2. compute the two losses                                            #\n",
    "            # 3. calculate mIoU and pixel accuracy                                   #\n",
    "            # 4. propagate gradients back into the network’s parameters            #\n",
    "            # 5. update the weights of the network                                 #\n",
    "            # 6. reset gradient                                                    #\n",
    "            ########################################################################\n",
    "            image, mask = data\n",
    "            image = image.to(device)\n",
    "            mask = mask.to(device)\n",
    "\n",
    "            # 1. process input through the network\n",
    "            output = model(image)\n",
    "\n",
    "            # 2. Compute the two losses\n",
    "            loss = criterion1(output, mask) + criterion2(output, mask)\n",
    "\n",
    "            # 3. Calculate mIoU and pixel accuracy\n",
    "            iou_score += mIoU(output, mask)\n",
    "            accuracy += pixel_accuracy(output, mask)\n",
    "\n",
    "            # 4. Propagate gradients back into the network’s parameters\n",
    "            loss.backward()\n",
    "\n",
    "            # 5. Update the weights of the network\n",
    "            optimizer.step()\n",
    "\n",
    "            # 6. Reset gradient\n",
    "            optimizer.zero_grad()\n",
    "\n",
    "            # Show Current Mean Loss, Mean mIoU, Mean Accuracy to tqdm\n",
    "            train_loop.set_postfix(loss=(running_loss + loss.item())/(i+1), mIoU=iou_score/(i+1), acc=accuracy/(i+1))\n",
    "            \n",
    "            # Update EMA after every training step\n",
    "            ema.update()\n",
    "            ########################################################################\n",
    "            #                           End of your code                           #\n",
    "            ########################################################################\n",
    "            #step the learning rate\n",
    "            lrs.append(get_lr(optimizer))\n",
    "            scheduler.step() \n",
    "            \n",
    "            running_loss += loss.item()\n",
    "            \n",
    "        else:\n",
    "            model.eval()\n",
    "            test_loss = 0\n",
    "            test_accuracy = 0\n",
    "            val_iou_score = 0\n",
    "            \n",
    "            ema_loss = 0\n",
    "            ema_accuracy = 0\n",
    "            ema_iou_score = 0\n",
    "\n",
    "            val_loop = tqdm(val_loader, desc='Validation', leave=True)\n",
    "            #validation loop\n",
    "            with torch.no_grad():\n",
    "                for i, data in enumerate(val_loop):\n",
    "                    ########################################################################\n",
    "                    # TODO: Forward, backward and optimize                                 #\n",
    "                    # 1. process input through the network                                 #\n",
    "                    # 2. compute the two losses                                            #\n",
    "                    # 3. caluate mIoU and piexl accuracy                                   #\n",
    "                    # 4. save this batch's loss into test_loss                             #\n",
    "                    ########################################################################\n",
    "                    image, mask = data\n",
    "                    image = image.to(device)\n",
    "                    mask = mask.to(device)\n",
    "\n",
    "                    # 1. Process input through the network\n",
    "                    output = model(image)\n",
    "\n",
    "                    # 2. Compute the two losses\n",
    "                    loss = criterion1(output, mask) + criterion2(output, mask)\n",
    "\n",
    "                    # 3. Calculate mIoU and pixel accuracy\n",
    "                    val_iou_score += mIoU(output, mask)\n",
    "                    test_accuracy += pixel_accuracy(output, mask)\n",
    "\n",
    "                    # 4. Save this batch's loss into test_loss\n",
    "                    test_loss += loss.item()\n",
    "                    \n",
    "                    # Get exponential moving average of model predictions\n",
    "                    output = ema(image)\n",
    "                    loss = criterion1(output, mask) + criterion2(output, mask)\n",
    "                    ema_iou_score += mIoU(output, mask)\n",
    "                    ema_accuracy += pixel_accuracy(output, mask)\n",
    "                    ema_loss += loss.item()\n",
    "\n",
    "                    # Show Current Mean Loss, Mean mIoU, Mean Accuracy to tqdm\n",
    "                    val_loop.set_postfix(loss=test_loss/(i+1), mIoU=val_iou_score/(i+1), acc=test_accuracy/(i+1), ema_loss=ema_loss/(i+1), ema_mIoU=ema_iou_score/(i+1), ema_acc=ema_accuracy/(i+1))\n",
    "                    ########################################################################\n",
    "                    #                           End of your code                           #\n",
    "                    ########################################################################\n",
    "            \n",
    "            #calculatio mean for each batch\n",
    "            train_losses.append(running_loss/len(train_loader))\n",
    "            test_losses.append(test_loss/len(val_loader))\n",
    "\n",
    "\n",
    "            if min_loss > (test_loss/len(val_loader)):\n",
    "                print('Loss Decreasing.. {:.3f} >> {:.3f} '.format(min_loss, (test_loss/len(val_loader))))\n",
    "                min_loss = (test_loss/len(val_loader))\n",
    "                decrease += 1\n",
    "                torch.save(model, 'Unet-Mobilenet_v2_mIoU-best.pt'.format(val_iou_score/len(val_loader)))\n",
    "                if decrease % 5 == 0:\n",
    "                    print('saving model...')\n",
    "                    torch.save(model, 'Unet-Mobilenet_v2_mIoU-{:.3f}.pt'.format(val_iou_score/len(val_loader)))\n",
    "                    \n",
    "            if ema_iou_score/len(val_loader) > max_iou:\n",
    "                print('EMA mIoU Increasing.. {:.3f} >> {:.3f} '.format(max_iou, ema_iou_score/len(val_loader)))\n",
    "                max_iou = (ema_iou_score/len(val_loader))\n",
    "                torch.save(model, 'Unet-Mobilenet_v2_EMA_mIoU-best.pt'.format(val_iou_score))\n",
    "                    \n",
    "\n",
    "            if (test_loss/len(val_loader)) > min_loss:\n",
    "                not_improve += 1\n",
    "                min_loss = (test_loss/len(val_loader))\n",
    "                print(f'Loss Not Decrease for {not_improve} time')\n",
    "                if not_improve == 5:\n",
    "                    print('Loss not decrease for 5 times, Stop Training')\n",
    "                    break\n",
    "            else:\n",
    "                not_improve = 0\n",
    "            \n",
    "            #iou\n",
    "            val_iou.append(val_iou_score/len(val_loader))\n",
    "            train_iou.append(iou_score/len(train_loader))\n",
    "            train_acc.append(accuracy/len(train_loader))\n",
    "            val_acc.append(test_accuracy/ len(val_loader))\n",
    "            print(\"Epoch:{}/{}..\".format(e+1, epochs),\n",
    "                  \"Train Loss: {:.3f}..\".format(running_loss/len(train_loader)),\n",
    "                  \"Val Loss: {:.3f}..\".format(test_loss/len(val_loader)),\n",
    "                  \"Train mIoU:{:.3f}..\".format(iou_score/len(train_loader)),\n",
    "                  \"Val mIoU: {:.3f}..\".format(val_iou_score/len(val_loader)),\n",
    "                  \"Train Acc:{:.3f}..\".format(accuracy/len(train_loader)),\n",
    "                  \"Val Acc:{:.3f}..\".format(test_accuracy/len(val_loader)),\n",
    "                  \"Time: {:.2f}m\".format((time.time()-since)/60))\n",
    "        \n",
    "    history = {'train_loss' : train_losses, 'val_loss': test_losses,\n",
    "               'train_miou' :train_iou, 'val_miou':val_iou,\n",
    "               'train_acc' :train_acc, 'val_acc':val_acc,\n",
    "               'lrs': lrs}\n",
    "    print('Total time: {:.2f} m' .format((time.time()- fit_time)/60))\n",
    "    return history"
   ]
  },
  {
   "cell_type": "code",
   "execution_count": 20,
   "metadata": {
    "ExecuteTime": {
     "start_time": "2023-12-20T04:35:48.710670500Z"
    },
    "execution": {
     "iopub.execute_input": "2023-10-07T09:51:51.263871Z",
     "iopub.status.busy": "2023-10-07T09:51:51.263388Z",
     "iopub.status.idle": "2023-10-07T10:59:19.931143Z",
     "shell.execute_reply": "2023-10-07T10:59:19.930125Z",
     "shell.execute_reply.started": "2023-10-07T09:51:51.263837Z"
    },
    "id": "vo-VQwfJJSgg",
    "is_executing": true,
    "outputId": "6f9ba55a-1dc1-49e2-f4ef-6fac29b235e8",
    "papermill": {
     "duration": 3881.864248,
     "end_time": "2021-02-18T11:11:14.819081",
     "exception": false,
     "start_time": "2021-02-18T10:06:32.954833",
     "status": "completed"
    },
    "tags": [],
    "trusted": true
   },
   "outputs": [
    {
     "data": {
      "application/vnd.jupyter.widget-view+json": {
       "model_id": "6954b7aa92ef4f048a8220d1b657e25d",
       "version_major": 2,
       "version_minor": 0
      },
      "text/plain": [
       "Training:   0%|          | 0/3845 [00:00<?, ?it/s]"
      ]
     },
     "metadata": {},
     "output_type": "display_data"
    },
    {
     "data": {
      "application/vnd.jupyter.widget-view+json": {
       "model_id": "98da4b79377f4ed2a84b509aee016439",
       "version_major": 2,
       "version_minor": 0
      },
      "text/plain": [
       "Validation:   0%|          | 0/679 [00:00<?, ?it/s]"
      ]
     },
     "metadata": {},
     "output_type": "display_data"
    },
    {
     "name": "stdout",
     "output_type": "stream",
     "text": [
      "Loss Decreasing.. inf >> 1.528 \n",
      "EMA mIoU Increasing.. 0.000 >> 0.450 \n",
      "Epoch:1/50.. Train Loss: 1.661.. Val Loss: 1.528.. Train mIoU:0.409.. Val mIoU: 0.479.. Train Acc:0.593.. Val Acc:0.674.. Time: 21.85m\n"
     ]
    },
    {
     "data": {
      "application/vnd.jupyter.widget-view+json": {
       "model_id": "0b7a9ef755524756918f1c4efb99a3e7",
       "version_major": 2,
       "version_minor": 0
      },
      "text/plain": [
       "Training:   0%|          | 0/3845 [00:00<?, ?it/s]"
      ]
     },
     "metadata": {},
     "output_type": "display_data"
    },
    {
     "data": {
      "application/vnd.jupyter.widget-view+json": {
       "model_id": "3ed01a73480e4f4e98857c68f00491a6",
       "version_major": 2,
       "version_minor": 0
      },
      "text/plain": [
       "Validation:   0%|          | 0/679 [00:00<?, ?it/s]"
      ]
     },
     "metadata": {},
     "output_type": "display_data"
    },
    {
     "name": "stdout",
     "output_type": "stream",
     "text": [
      "Loss Decreasing.. 1.528 >> 1.502 \n",
      "EMA mIoU Increasing.. 0.450 >> 0.487 \n",
      "Epoch:2/50.. Train Loss: 1.580.. Val Loss: 1.502.. Train mIoU:0.464.. Val mIoU: 0.509.. Train Acc:0.646.. Val Acc:0.697.. Time: 21.76m\n"
     ]
    },
    {
     "data": {
      "application/vnd.jupyter.widget-view+json": {
       "model_id": "aa59bb5524114726af36120f9b36042d",
       "version_major": 2,
       "version_minor": 0
      },
      "text/plain": [
       "Training:   0%|          | 0/3845 [00:00<?, ?it/s]"
      ]
     },
     "metadata": {},
     "output_type": "display_data"
    },
    {
     "data": {
      "application/vnd.jupyter.widget-view+json": {
       "model_id": "88a84eee5158402bbfe16594f1c21b8e",
       "version_major": 2,
       "version_minor": 0
      },
      "text/plain": [
       "Validation:   0%|          | 0/679 [00:00<?, ?it/s]"
      ]
     },
     "metadata": {},
     "output_type": "display_data"
    },
    {
     "name": "stdout",
     "output_type": "stream",
     "text": [
      "Loss Decreasing.. 1.502 >> 1.496 \n",
      "EMA mIoU Increasing.. 0.487 >> 0.508 \n",
      "Epoch:3/50.. Train Loss: 1.554.. Val Loss: 1.496.. Train mIoU:0.482.. Val mIoU: 0.503.. Train Acc:0.663.. Val Acc:0.697.. Time: 21.69m\n"
     ]
    },
    {
     "data": {
      "application/vnd.jupyter.widget-view+json": {
       "model_id": "086edda62e9d42f7b61497ed12d3d711",
       "version_major": 2,
       "version_minor": 0
      },
      "text/plain": [
       "Training:   0%|          | 0/3845 [00:00<?, ?it/s]"
      ]
     },
     "metadata": {},
     "output_type": "display_data"
    },
    {
     "data": {
      "application/vnd.jupyter.widget-view+json": {
       "model_id": "a96aa46c347d4658b92018db6a9d2bfd",
       "version_major": 2,
       "version_minor": 0
      },
      "text/plain": [
       "Validation:   0%|          | 0/679 [00:00<?, ?it/s]"
      ]
     },
     "metadata": {},
     "output_type": "display_data"
    },
    {
     "name": "stdout",
     "output_type": "stream",
     "text": [
      "Loss Decreasing.. 1.496 >> 1.476 \n",
      "saving model...\n",
      "EMA mIoU Increasing.. 0.508 >> 0.514 \n",
      "Epoch:4/50.. Train Loss: 1.537.. Val Loss: 1.476.. Train mIoU:0.492.. Val mIoU: 0.523.. Train Acc:0.672.. Val Acc:0.707.. Time: 21.51m\n"
     ]
    },
    {
     "data": {
      "application/vnd.jupyter.widget-view+json": {
       "model_id": "fd9515830e1842ae8015c49d549bbe35",
       "version_major": 2,
       "version_minor": 0
      },
      "text/plain": [
       "Training:   0%|          | 0/3845 [00:00<?, ?it/s]"
      ]
     },
     "metadata": {},
     "output_type": "display_data"
    },
    {
     "data": {
      "application/vnd.jupyter.widget-view+json": {
       "model_id": "6c67c7f617f34e51aeadcbd3d2033272",
       "version_major": 2,
       "version_minor": 0
      },
      "text/plain": [
       "Validation:   0%|          | 0/679 [00:00<?, ?it/s]"
      ]
     },
     "metadata": {},
     "output_type": "display_data"
    },
    {
     "name": "stdout",
     "output_type": "stream",
     "text": [
      "EMA mIoU Increasing.. 0.514 >> 0.522 \n",
      "Loss Not Decrease for 1 time\n",
      "Epoch:5/50.. Train Loss: 1.528.. Val Loss: 1.488.. Train mIoU:0.496.. Val mIoU: 0.508.. Train Acc:0.678.. Val Acc:0.701.. Time: 21.48m\n"
     ]
    },
    {
     "data": {
      "application/vnd.jupyter.widget-view+json": {
       "model_id": "fd45484621fd4aa99c4e94236b98e9aa",
       "version_major": 2,
       "version_minor": 0
      },
      "text/plain": [
       "Training:   0%|          | 0/3845 [00:00<?, ?it/s]"
      ]
     },
     "metadata": {},
     "output_type": "display_data"
    },
    {
     "data": {
      "application/vnd.jupyter.widget-view+json": {
       "model_id": "f8cea9a335d24476ab1f4d4793dce1f3",
       "version_major": 2,
       "version_minor": 0
      },
      "text/plain": [
       "Validation:   0%|          | 0/679 [00:00<?, ?it/s]"
      ]
     },
     "metadata": {},
     "output_type": "display_data"
    },
    {
     "name": "stdout",
     "output_type": "stream",
     "text": [
      "Loss Decreasing.. 1.488 >> 1.464 \n",
      "EMA mIoU Increasing.. 0.522 >> 0.530 \n",
      "Epoch:6/50.. Train Loss: 1.517.. Val Loss: 1.464.. Train mIoU:0.502.. Val mIoU: 0.532.. Train Acc:0.684.. Val Acc:0.713.. Time: 21.47m\n"
     ]
    },
    {
     "data": {
      "application/vnd.jupyter.widget-view+json": {
       "model_id": "6edb3ade6248421d8d11f3ad4b6b7579",
       "version_major": 2,
       "version_minor": 0
      },
      "text/plain": [
       "Training:   0%|          | 0/3845 [00:00<?, ?it/s]"
      ]
     },
     "metadata": {},
     "output_type": "display_data"
    },
    {
     "data": {
      "application/vnd.jupyter.widget-view+json": {
       "model_id": "336077a5fd1a439cbd226ff3c3fda00b",
       "version_major": 2,
       "version_minor": 0
      },
      "text/plain": [
       "Validation:   0%|          | 0/679 [00:00<?, ?it/s]"
      ]
     },
     "metadata": {},
     "output_type": "display_data"
    },
    {
     "name": "stdout",
     "output_type": "stream",
     "text": [
      "EMA mIoU Increasing.. 0.530 >> 0.532 \n",
      "Loss Not Decrease for 1 time\n",
      "Epoch:7/50.. Train Loss: 1.510.. Val Loss: 1.474.. Train mIoU:0.507.. Val mIoU: 0.526.. Train Acc:0.688.. Val Acc:0.711.. Time: 21.39m\n"
     ]
    },
    {
     "data": {
      "application/vnd.jupyter.widget-view+json": {
       "model_id": "2847abdcdf3c4a9a8b3b7511f4f148a3",
       "version_major": 2,
       "version_minor": 0
      },
      "text/plain": [
       "Training:   0%|          | 0/3845 [00:00<?, ?it/s]"
      ]
     },
     "metadata": {},
     "output_type": "display_data"
    },
    {
     "data": {
      "application/vnd.jupyter.widget-view+json": {
       "model_id": "2e434fc6669b4242861960e9e0b64c1c",
       "version_major": 2,
       "version_minor": 0
      },
      "text/plain": [
       "Validation:   0%|          | 0/679 [00:00<?, ?it/s]"
      ]
     },
     "metadata": {},
     "output_type": "display_data"
    },
    {
     "name": "stdout",
     "output_type": "stream",
     "text": [
      "Loss Decreasing.. 1.474 >> 1.464 \n",
      "EMA mIoU Increasing.. 0.532 >> 0.537 \n",
      "Epoch:8/50.. Train Loss: 1.499.. Val Loss: 1.464.. Train mIoU:0.511.. Val mIoU: 0.535.. Train Acc:0.694.. Val Acc:0.721.. Time: 21.37m\n"
     ]
    },
    {
     "data": {
      "application/vnd.jupyter.widget-view+json": {
       "model_id": "eaee60a3bbb542858a93fa9afa3ea4ba",
       "version_major": 2,
       "version_minor": 0
      },
      "text/plain": [
       "Training:   0%|          | 0/3845 [00:00<?, ?it/s]"
      ]
     },
     "metadata": {},
     "output_type": "display_data"
    },
    {
     "data": {
      "application/vnd.jupyter.widget-view+json": {
       "model_id": "55c5b0519a9048e4a46edae12e7a0d3e",
       "version_major": 2,
       "version_minor": 0
      },
      "text/plain": [
       "Validation:   0%|          | 0/679 [00:00<?, ?it/s]"
      ]
     },
     "metadata": {},
     "output_type": "display_data"
    },
    {
     "name": "stdout",
     "output_type": "stream",
     "text": [
      "Loss Decreasing.. 1.464 >> 1.455 \n",
      "EMA mIoU Increasing.. 0.537 >> 0.544 \n",
      "Epoch:9/50.. Train Loss: 1.490.. Val Loss: 1.455.. Train mIoU:0.516.. Val mIoU: 0.540.. Train Acc:0.698.. Val Acc:0.723.. Time: 21.45m\n"
     ]
    },
    {
     "data": {
      "application/vnd.jupyter.widget-view+json": {
       "model_id": "2abc522dc7b84b8085f3f341b2e3e58b",
       "version_major": 2,
       "version_minor": 0
      },
      "text/plain": [
       "Training:   0%|          | 0/3845 [00:00<?, ?it/s]"
      ]
     },
     "metadata": {},
     "output_type": "display_data"
    },
    {
     "data": {
      "application/vnd.jupyter.widget-view+json": {
       "model_id": "71c148866dee4238a46b7a9db3c64910",
       "version_major": 2,
       "version_minor": 0
      },
      "text/plain": [
       "Validation:   0%|          | 0/679 [00:00<?, ?it/s]"
      ]
     },
     "metadata": {},
     "output_type": "display_data"
    },
    {
     "name": "stdout",
     "output_type": "stream",
     "text": [
      "Loss Not Decrease for 1 time\n",
      "Epoch:10/50.. Train Loss: 1.487.. Val Loss: 1.462.. Train mIoU:0.517.. Val mIoU: 0.532.. Train Acc:0.700.. Val Acc:0.719.. Time: 21.39m\n"
     ]
    },
    {
     "data": {
      "application/vnd.jupyter.widget-view+json": {
       "model_id": "34e7129394e44e5588df0f0c88a7fbb5",
       "version_major": 2,
       "version_minor": 0
      },
      "text/plain": [
       "Training:   0%|          | 0/3845 [00:00<?, ?it/s]"
      ]
     },
     "metadata": {},
     "output_type": "display_data"
    },
    {
     "data": {
      "application/vnd.jupyter.widget-view+json": {
       "model_id": "10eea53a29034d708e0248ee1fa49953",
       "version_major": 2,
       "version_minor": 0
      },
      "text/plain": [
       "Validation:   0%|          | 0/679 [00:00<?, ?it/s]"
      ]
     },
     "metadata": {},
     "output_type": "display_data"
    },
    {
     "name": "stdout",
     "output_type": "stream",
     "text": [
      "Loss Decreasing.. 1.462 >> 1.448 \n",
      "EMA mIoU Increasing.. 0.544 >> 0.545 \n",
      "Epoch:11/50.. Train Loss: 1.477.. Val Loss: 1.448.. Train mIoU:0.525.. Val mIoU: 0.538.. Train Acc:0.705.. Val Acc:0.725.. Time: 21.34m\n"
     ]
    },
    {
     "data": {
      "application/vnd.jupyter.widget-view+json": {
       "model_id": "2f3f1acd916342c3bddb0e1055db8203",
       "version_major": 2,
       "version_minor": 0
      },
      "text/plain": [
       "Training:   0%|          | 0/3845 [00:00<?, ?it/s]"
      ]
     },
     "metadata": {},
     "output_type": "display_data"
    },
    {
     "data": {
      "application/vnd.jupyter.widget-view+json": {
       "model_id": "06c3aab7d37b4ff1935878f07f77a499",
       "version_major": 2,
       "version_minor": 0
      },
      "text/plain": [
       "Validation:   0%|          | 0/679 [00:00<?, ?it/s]"
      ]
     },
     "metadata": {},
     "output_type": "display_data"
    },
    {
     "name": "stdout",
     "output_type": "stream",
     "text": [
      "Loss Decreasing.. 1.448 >> 1.441 \n",
      "saving model...\n",
      "EMA mIoU Increasing.. 0.545 >> 0.551 \n",
      "Epoch:12/50.. Train Loss: 1.473.. Val Loss: 1.441.. Train mIoU:0.525.. Val mIoU: 0.541.. Train Acc:0.707.. Val Acc:0.725.. Time: 21.65m\n"
     ]
    },
    {
     "data": {
      "application/vnd.jupyter.widget-view+json": {
       "model_id": "b8a077805dfe4c658e0ab1115d2869b8",
       "version_major": 2,
       "version_minor": 0
      },
      "text/plain": [
       "Training:   0%|          | 0/3845 [00:00<?, ?it/s]"
      ]
     },
     "metadata": {},
     "output_type": "display_data"
    },
    {
     "data": {
      "application/vnd.jupyter.widget-view+json": {
       "model_id": "b32d9ba2c3fa47d38f042f7f40476fd8",
       "version_major": 2,
       "version_minor": 0
      },
      "text/plain": [
       "Validation:   0%|          | 0/679 [00:00<?, ?it/s]"
      ]
     },
     "metadata": {},
     "output_type": "display_data"
    },
    {
     "name": "stdout",
     "output_type": "stream",
     "text": [
      "Loss Not Decrease for 1 time\n",
      "Epoch:13/50.. Train Loss: 1.465.. Val Loss: 1.462.. Train mIoU:0.531.. Val mIoU: 0.525.. Train Acc:0.712.. Val Acc:0.716.. Time: 21.82m\n"
     ]
    },
    {
     "data": {
      "application/vnd.jupyter.widget-view+json": {
       "model_id": "b83e2cd95cf74302bc1b3f9bbf8ca686",
       "version_major": 2,
       "version_minor": 0
      },
      "text/plain": [
       "Training:   0%|          | 0/3845 [00:00<?, ?it/s]"
      ]
     },
     "metadata": {},
     "output_type": "display_data"
    },
    {
     "ename": "KeyboardInterrupt",
     "evalue": "",
     "output_type": "error",
     "traceback": [
      "\u001b[1;31m---------------------------------------------------------------------------\u001b[0m",
      "\u001b[1;31mKeyboardInterrupt\u001b[0m                         Traceback (most recent call last)",
      "Cell \u001b[1;32mIn[20], line 14\u001b[0m\n\u001b[0;32m     10\u001b[0m optimizer \u001b[38;5;241m=\u001b[39m torch\u001b[38;5;241m.\u001b[39moptim\u001b[38;5;241m.\u001b[39mAdamW(model\u001b[38;5;241m.\u001b[39mparameters(), lr\u001b[38;5;241m=\u001b[39mmax_lr, weight_decay\u001b[38;5;241m=\u001b[39mweight_decay)\n\u001b[0;32m     11\u001b[0m sched \u001b[38;5;241m=\u001b[39m torch\u001b[38;5;241m.\u001b[39moptim\u001b[38;5;241m.\u001b[39mlr_scheduler\u001b[38;5;241m.\u001b[39mOneCycleLR(optimizer, max_lr, epochs\u001b[38;5;241m=\u001b[39mepoch,\n\u001b[0;32m     12\u001b[0m                                             steps_per_epoch\u001b[38;5;241m=\u001b[39m\u001b[38;5;28mlen\u001b[39m(train_loader))\n\u001b[1;32m---> 14\u001b[0m history \u001b[38;5;241m=\u001b[39m \u001b[43mfit\u001b[49m\u001b[43m(\u001b[49m\u001b[43mepoch\u001b[49m\u001b[43m,\u001b[49m\u001b[43m \u001b[49m\u001b[43mmodel\u001b[49m\u001b[43m,\u001b[49m\u001b[43m \u001b[49m\u001b[43mtrain_loader\u001b[49m\u001b[43m,\u001b[49m\u001b[43m \u001b[49m\u001b[43mval_loader\u001b[49m\u001b[43m,\u001b[49m\u001b[43m \u001b[49m\u001b[43mcriterion1\u001b[49m\u001b[43m,\u001b[49m\u001b[43m \u001b[49m\u001b[43mcriterion2\u001b[49m\u001b[43m,\u001b[49m\u001b[43m \u001b[49m\u001b[43moptimizer\u001b[49m\u001b[43m,\u001b[49m\u001b[43m \u001b[49m\u001b[43msched\u001b[49m\u001b[43m)\u001b[49m\n\u001b[0;32m     15\u001b[0m \u001b[38;5;66;03m################################################################################\u001b[39;00m\n\u001b[0;32m     16\u001b[0m \u001b[38;5;66;03m#                               End of your code                               #\u001b[39;00m\n\u001b[0;32m     17\u001b[0m \u001b[38;5;66;03m################################################################################\u001b[39;00m\n",
      "Cell \u001b[1;32mIn[19], line 48\u001b[0m, in \u001b[0;36mfit\u001b[1;34m(epochs, model, train_loader, val_loader, criterion1, criterion2, optimizer, scheduler, patch)\u001b[0m\n\u001b[0;32m     45\u001b[0m loss \u001b[38;5;241m=\u001b[39m criterion1(output, mask) \u001b[38;5;241m+\u001b[39m criterion2(output, mask)\n\u001b[0;32m     47\u001b[0m \u001b[38;5;66;03m# 3. Calculate mIoU and pixel accuracy\u001b[39;00m\n\u001b[1;32m---> 48\u001b[0m iou_score \u001b[38;5;241m+\u001b[39m\u001b[38;5;241m=\u001b[39m \u001b[43mmIoU\u001b[49m\u001b[43m(\u001b[49m\u001b[43moutput\u001b[49m\u001b[43m,\u001b[49m\u001b[43m \u001b[49m\u001b[43mmask\u001b[49m\u001b[43m)\u001b[49m\n\u001b[0;32m     49\u001b[0m accuracy \u001b[38;5;241m+\u001b[39m\u001b[38;5;241m=\u001b[39m pixel_accuracy(output, mask)\n\u001b[0;32m     51\u001b[0m \u001b[38;5;66;03m# 4. Propagate gradients back into the network’s parameters\u001b[39;00m\n",
      "Cell \u001b[1;32mIn[16], line 13\u001b[0m, in \u001b[0;36mmIoU\u001b[1;34m(pred_mask, mask, smooth, n_classes)\u001b[0m\n\u001b[0;32m     10\u001b[0m true_class \u001b[38;5;241m=\u001b[39m pred_mask \u001b[38;5;241m==\u001b[39m clas\n\u001b[0;32m     11\u001b[0m true_label \u001b[38;5;241m=\u001b[39m mask \u001b[38;5;241m==\u001b[39m clas\n\u001b[1;32m---> 13\u001b[0m \u001b[38;5;28;01mif\u001b[39;00m \u001b[43mtrue_label\u001b[49m\u001b[38;5;241;43m.\u001b[39;49m\u001b[43mlong\u001b[49m\u001b[43m(\u001b[49m\u001b[43m)\u001b[49m\u001b[38;5;241;43m.\u001b[39;49m\u001b[43msum\u001b[49m\u001b[43m(\u001b[49m\u001b[43m)\u001b[49m\u001b[38;5;241;43m.\u001b[39;49m\u001b[43mitem\u001b[49m\u001b[43m(\u001b[49m\u001b[43m)\u001b[49m \u001b[38;5;241m==\u001b[39m \u001b[38;5;241m0\u001b[39m: \u001b[38;5;66;03m#no exist label in this loop\u001b[39;00m\n\u001b[0;32m     14\u001b[0m     iou_per_class\u001b[38;5;241m.\u001b[39mappend(np\u001b[38;5;241m.\u001b[39mnan)\n\u001b[0;32m     15\u001b[0m \u001b[38;5;28;01melse\u001b[39;00m:\n\u001b[0;32m     16\u001b[0m \n\u001b[0;32m     17\u001b[0m     \u001b[38;5;66;03m#############################################################################################################\u001b[39;00m\n\u001b[1;32m   (...)\u001b[0m\n\u001b[0;32m     20\u001b[0m     \u001b[38;5;66;03m#############################################################################################################\u001b[39;00m\n\u001b[0;32m     21\u001b[0m     \u001b[38;5;66;03m# Calculate the intersection and union\u001b[39;00m\n",
      "\u001b[1;31mKeyboardInterrupt\u001b[0m: "
     ]
    }
   ],
   "source": [
    "################################################################################\n",
    "#     You can adjust those hyper parameters to loop for max_epochs times       #\n",
    "################################################################################\n",
    "max_lr = 1e-3\n",
    "epoch = 50\n",
    "weight_decay = 1e-4\n",
    "\n",
    "criterion1 = nn.CrossEntropyLoss(label_smoothing=0.1)\n",
    "criterion2 = DiceLoss()\n",
    "optimizer = torch.optim.AdamW(model.parameters(), lr=max_lr, weight_decay=weight_decay)\n",
    "sched = torch.optim.lr_scheduler.OneCycleLR(optimizer, max_lr, epochs=epoch,\n",
    "                                            steps_per_epoch=len(train_loader))\n",
    "\n",
    "history = fit(epoch, model, train_loader, val_loader, criterion1, criterion2, optimizer, sched)\n",
    "################################################################################\n",
    "#                               End of your code                               #\n",
    "################################################################################"
   ]
  },
  {
   "cell_type": "code",
   "execution_count": null,
   "metadata": {
    "execution": {
     "iopub.execute_input": "2023-10-07T10:59:19.933339Z",
     "iopub.status.busy": "2023-10-07T10:59:19.932737Z",
     "iopub.status.idle": "2023-10-07T10:59:20.020877Z",
     "shell.execute_reply": "2023-10-07T10:59:20.01997Z",
     "shell.execute_reply.started": "2023-10-07T10:59:19.933299Z"
    },
    "id": "km58PT8qvJ4g",
    "is_executing": true,
    "papermill": {
     "duration": 0.15037,
     "end_time": "2021-02-18T11:11:15.01764",
     "exception": false,
     "start_time": "2021-02-18T11:11:14.86727",
     "status": "completed"
    },
    "tags": [],
    "trusted": true
   },
   "outputs": [],
   "source": [
    "torch.save(model, 'Unet-Resnet.pt')"
   ]
  },
  {
   "cell_type": "markdown",
   "metadata": {},
   "source": [
    "#### Visualize accuracy and loss"
   ]
  },
  {
   "cell_type": "code",
   "execution_count": 21,
   "metadata": {
    "execution": {
     "iopub.execute_input": "2023-10-07T10:59:20.022607Z",
     "iopub.status.busy": "2023-10-07T10:59:20.022258Z",
     "iopub.status.idle": "2023-10-07T10:59:20.030974Z",
     "shell.execute_reply": "2023-10-07T10:59:20.029721Z",
     "shell.execute_reply.started": "2023-10-07T10:59:20.02257Z"
    },
    "id": "ojw74huJJSgn",
    "is_executing": true,
    "papermill": {
     "duration": 0.094126,
     "end_time": "2021-02-18T11:11:15.563574",
     "exception": false,
     "start_time": "2021-02-18T11:11:15.469448",
     "status": "completed"
    },
    "tags": [],
    "trusted": true
   },
   "outputs": [],
   "source": [
    "def plot_loss(history):\n",
    "    plt.plot(history['val_loss'], label='val', marker='o')\n",
    "    plt.plot( history['train_loss'], label='train', marker='o')\n",
    "    plt.title('Loss per epoch'); plt.ylabel('loss');\n",
    "    plt.xlabel('epoch')\n",
    "    plt.legend(), plt.grid()\n",
    "    plt.show()\n",
    "    \n",
    "def plot_score(history):\n",
    "    plt.plot(history['train_miou'], label='train_mIoU', marker='*')\n",
    "    plt.plot(history['val_miou'], label='val_mIoU',  marker='*')\n",
    "    plt.title('Score per epoch'); plt.ylabel('mean IoU')\n",
    "    plt.xlabel('epoch')\n",
    "    plt.legend(), plt.grid()\n",
    "    plt.show()\n",
    "    \n",
    "def plot_acc(history):\n",
    "    plt.plot(history['train_acc'], label='train_accuracy', marker='*')\n",
    "    plt.plot(history['val_acc'], label='val_accuracy',  marker='*')\n",
    "    plt.title('Accuracy per epoch'); plt.ylabel('Accuracy')\n",
    "    plt.xlabel('epoch')\n",
    "    plt.legend(), plt.grid()\n",
    "    plt.show()"
   ]
  },
  {
   "cell_type": "code",
   "execution_count": 24,
   "metadata": {
    "execution": {
     "iopub.execute_input": "2023-10-07T10:59:20.032698Z",
     "iopub.status.busy": "2023-10-07T10:59:20.032188Z",
     "iopub.status.idle": "2023-10-07T10:59:20.516335Z",
     "shell.execute_reply": "2023-10-07T10:59:20.515198Z",
     "shell.execute_reply.started": "2023-10-07T10:59:20.032662Z"
    },
    "id": "KT-pRvoJJSgq",
    "is_executing": true,
    "outputId": "76a82c62-46ca-44db-9129-8d20ec586471",
    "papermill": {
     "duration": 0.71827,
     "end_time": "2021-02-18T11:11:16.361999",
     "exception": false,
     "start_time": "2021-02-18T11:11:15.643729",
     "status": "completed"
    },
    "tags": [],
    "trusted": true
   },
   "outputs": [
    {
     "ename": "NameError",
     "evalue": "name 'history' is not defined",
     "output_type": "error",
     "traceback": [
      "\u001b[1;31m---------------------------------------------------------------------------\u001b[0m",
      "\u001b[1;31mNameError\u001b[0m                                 Traceback (most recent call last)",
      "Cell \u001b[1;32mIn[24], line 1\u001b[0m\n\u001b[1;32m----> 1\u001b[0m plot_loss(\u001b[43mhistory\u001b[49m)\n\u001b[0;32m      2\u001b[0m plot_score(history)\n\u001b[0;32m      3\u001b[0m plot_acc(history)\n",
      "\u001b[1;31mNameError\u001b[0m: name 'history' is not defined"
     ]
    }
   ],
   "source": [
    "plot_loss(history)\n",
    "plot_score(history)\n",
    "plot_acc(history)"
   ]
  },
  {
   "cell_type": "markdown",
   "metadata": {},
   "source": [
    "## Predict Result\n",
    "\n",
    "預測`test`並將結果上傳至[**Kaggle**](https://www.kaggle.com/t/13040d09b42940ba90f96cca324ee90d)\n",
    "\n",
    "執行完畢此區的程式碼後，會將`test`預測完的結果存下來。\n",
    "\n",
    "上傳流程\n",
    "1. 點選左側選單最下方的資料夾圖示\n",
    "2. 右鍵「output.csv」\n",
    "3. 點選「Download」\n",
    "4. 至連結網頁點選「Submit Predictions」\n",
    "5. 將剛剛下載的檔案上傳\n",
    "6. 系統會計算並公布其中50%資料的正確率"
   ]
  },
  {
   "cell_type": "code",
   "execution_count": 25,
   "metadata": {
    "is_executing": true
   },
   "outputs": [],
   "source": [
    "TEST_IMAGE_PATH = 'BCSS/test/'"
   ]
  },
  {
   "cell_type": "code",
   "execution_count": 26,
   "metadata": {
    "is_executing": true
   },
   "outputs": [],
   "source": [
    "test_df = create_df(TEST_IMAGE_PATH)"
   ]
  },
  {
   "cell_type": "code",
   "execution_count": 27,
   "metadata": {
    "is_executing": true
   },
   "outputs": [],
   "source": [
    "X_test = test_df['id'].to_numpy()"
   ]
  },
  {
   "cell_type": "code",
   "execution_count": 28,
   "metadata": {
    "is_executing": true
   },
   "outputs": [],
   "source": [
    "ema = torch.load('Unet-Mobilenet_v2_EMA_mIoU-best.pt')"
   ]
  },
  {
   "cell_type": "code",
   "execution_count": 29,
   "metadata": {
    "is_executing": true
   },
   "outputs": [
    {
     "name": "stdout",
     "output_type": "stream",
     "text": [
      "4021\n"
     ]
    }
   ],
   "source": [
    "class BCSSTestDataset(Dataset):\n",
    "    \n",
    "    def __init__(self, img_path, X, transform=None):\n",
    "        self.img_path = img_path\n",
    "        self.X = X\n",
    "        self.transform = transform\n",
    "      \n",
    "    def __len__(self):\n",
    "        return len(self.X)\n",
    "    \n",
    "    def __getitem__(self, idx):\n",
    "        img = cv2.imread(self.img_path + self.X[idx] + '.png')\n",
    "        img = cv2.cvtColor(img, cv2.COLOR_BGR2RGB)\n",
    "        \n",
    "        if self.transform is not None:\n",
    "            aug = self.transform(image=img, mask=mask)\n",
    "            img = Image.fromarray(aug['image'])\n",
    "        \n",
    "        if self.transform is None:\n",
    "            img = Image.fromarray(img)\n",
    "        \n",
    "        return img\n",
    "\n",
    "test_set = BCSSTestDataset(TEST_IMAGE_PATH, X_test)\n",
    "print(len(test_set))"
   ]
  },
  {
   "cell_type": "code",
   "execution_count": 30,
   "metadata": {
    "is_executing": true
   },
   "outputs": [],
   "source": [
    "def predict_image(model, image, mean=[0.485, 0.456, 0.406], std=[0.229, 0.224, 0.225]):\n",
    "    model.eval()\n",
    "    t = T.Compose([T.ToTensor(), T.Normalize(mean, std)])\n",
    "    image = t(image)\n",
    "    model.to(device); image=image.to(device)\n",
    "    with torch.no_grad():\n",
    "        \n",
    "        image = image.unsqueeze(0)\n",
    "        \n",
    "        output = model(image)\n",
    "        masked = torch.argmax(output, dim=1)\n",
    "        masked = masked.cpu().squeeze(0)\n",
    "    return masked"
   ]
  },
  {
   "cell_type": "code",
   "execution_count": 32,
   "metadata": {
    "is_executing": true
   },
   "outputs": [
    {
     "name": "stderr",
     "output_type": "stream",
     "text": [
      "100%|██████████| 4021/4021 [01:38<00:00, 40.97it/s]\n"
     ]
    }
   ],
   "source": [
    "import pandas as pd\n",
    "from tqdm import tqdm\n",
    "\n",
    "data = []\n",
    "\n",
    "for i in tqdm(range(len(test_set))):\n",
    "    img = test_set[i]\n",
    "    pred_mask = predict_image(ema, img)\n",
    "    index = i \n",
    "\n",
    "    data.append({'index': index, 'pred_mask': pred_mask.numpy().tolist()})\n",
    "\n",
    "df = pd.DataFrame(data)\n",
    "\n",
    "df.to_csv('output.csv', index=False)"
   ]
  }
 ],
 "metadata": {
  "kaggle": {
   "accelerator": "gpu",
   "dataSources": [
    {
     "datasetId": 333968,
     "sourceId": 1834160,
     "sourceType": "datasetVersion"
    }
   ],
   "dockerImageVersionId": 30061,
   "isGpuEnabled": true,
   "isInternetEnabled": true,
   "language": "python",
   "sourceType": "notebook"
  },
  "kernelspec": {
   "display_name": "Python 3",
   "language": "python",
   "name": "python3"
  },
  "language_info": {
   "codemirror_mode": {
    "name": "ipython",
    "version": 3
   },
   "file_extension": ".py",
   "mimetype": "text/x-python",
   "name": "python",
   "nbconvert_exporter": "python",
   "pygments_lexer": "ipython3",
   "version": "3.11.2"
  }
 },
 "nbformat": 4,
 "nbformat_minor": 4
}
