{
 "cells": [
  {
   "cell_type": "code",
   "execution_count": 272,
   "outputs": [
    {
     "data": {
      "text/plain": "['SDBU\\n', 'SDLU\\n', 'SDQU\\n', 'SEBU\\n', 'SELU\\n']"
     },
     "execution_count": 272,
     "metadata": {},
     "output_type": "execute_result"
    }
   ],
   "source": [
    "# First, let's read the uploaded file to understand its structure before proceeding with the modifications.\n",
    "file_path = 'Resource/tokenized_sentences_output.txt'\n",
    "\n",
    "# Read the contents of the file\n",
    "with open(file_path, 'r') as file:\n",
    "    content = file.readlines()\n",
    "\n",
    "# Display the first few lines to understand the structure\n",
    "content[:5]"
   ],
   "metadata": {
    "collapsed": false,
    "ExecuteTime": {
     "end_time": "2023-11-06T11:49:49.862810Z",
     "start_time": "2023-11-06T11:49:49.857416700Z"
    }
   }
  },
  {
   "cell_type": "code",
   "execution_count": 273,
   "outputs": [
    {
     "data": {
      "text/plain": "(['UUUUSDBU\\n', 'UUUUSDLU\\n', 'UUUUSDQU\\n', 'UUUUSEBU\\n', 'UUUUSELU\\n'],\n 'Resource/modified_tokenized_sentences_output.txt')"
     },
     "execution_count": 273,
     "metadata": {},
     "output_type": "execute_result"
    }
   ],
   "source": [
    "# Add \"UUUU\" to the front of each line in the file\n",
    "modified_content = ['UUUU' + line.strip() for line in content]\n",
    "\n",
    "# Save the modified content to a new file\n",
    "modified_file_path = 'Resource/modified_tokenized_sentences_output.txt'\n",
    "with open(modified_file_path, 'w') as file:\n",
    "    for line in modified_content:\n",
    "        file.write(line + '\\n')\n",
    "\n",
    "# Read back the modified content to ensure it's correctly formatted\n",
    "with open(modified_file_path, 'r') as file:\n",
    "    modified_content_check = file.readlines()\n",
    "\n",
    "# Show the first few lines of the modified content\n",
    "modified_content_check[:5], modified_file_path"
   ],
   "metadata": {
    "collapsed": false,
    "ExecuteTime": {
     "end_time": "2023-11-06T11:49:49.885766200Z",
     "start_time": "2023-11-06T11:49:49.861827300Z"
    }
   }
  },
  {
   "cell_type": "code",
   "execution_count": 274,
   "outputs": [
    {
     "data": {
      "text/plain": "    UUUU   UUUS  UUSD  USDB  USDL  USDQ  UUSE  USEB  USEL  USEQ  ...  SFLJ   \nS  555.0    0.0   0.0  22.0   0.0   0.0   0.0   5.0   0.0   0.0  ...   2.0  \\\nA    6.0    0.0   8.0   1.0   0.0   1.0   3.0   0.0   0.0   0.0  ...   0.0   \nJ   49.0    0.0  20.0   3.0   1.0   2.0   1.0   0.0   2.0   2.0  ...   0.0   \nN   92.0    0.0  32.0   0.0   2.0   2.0  47.0   2.0  10.0   6.0  ...   0.0   \nT   11.0    0.0  23.0   0.0   2.0   0.0  18.0   3.0   3.0   6.0  ...   0.0   \nD    0.0  128.0   0.0   0.0   0.0   0.0   0.0   0.0   0.0   0.0  ...   0.0   \nE    0.0  119.0   0.0   0.0   0.0   0.0   0.0   0.0   0.0   0.0  ...   0.0   \nH    0.0   68.0   0.0   0.0   0.0   0.0   0.0   0.0   0.0   0.0  ...   0.0   \nK    0.0   35.0   0.0   0.0   0.0   0.0   0.0   0.0   0.0   0.0  ...   0.0   \nM    0.0   39.0   0.0   0.0   0.0   0.0   0.0   0.0   0.0   0.0  ...   0.0   \nO    0.0  148.0   0.0   0.0   0.0   0.0   0.0   0.0   0.0   0.0  ...   0.0   \nC    0.0    1.0   0.0   0.0   0.0   0.0   0.0   0.0   0.0   0.0  ...   0.0   \nF    0.0    7.0   0.0   0.0   0.0   0.0   0.0   0.0   0.0   0.0  ...   0.0   \nP    0.0    1.0   0.0   0.0   0.0   0.0   0.0   0.0   0.0   0.0  ...   0.0   \nR    0.0    1.0   0.0   0.0   0.0   0.0   0.0   0.0   0.0   0.0  ...   0.0   \nI    0.0    8.0   0.0   0.0   0.0   0.0   0.0   0.0   0.0   0.0  ...   0.0   \nB    0.0    0.0  27.0   0.0   0.0   0.0  11.0   0.0   0.0   0.0  ...   0.0   \nL    0.0    0.0   6.0   0.0   0.0   0.0  16.0   0.0   0.0   0.0  ...   0.0   \nQ    0.0    0.0   6.0   0.0   0.0   0.0  15.0   0.0   0.0   0.0  ...   0.0   \nG    0.0    0.0   6.0   0.0   0.0   0.0   8.0   0.0   0.0   0.0  ...   0.0   \nU    0.0    0.0   0.0   1.0   1.0   1.0   0.0   1.0   1.0   1.0  ...   0.0   \n\n   FLJS  SRLJ  RLJS  SOKT  OKTS  SOKS  OKSD  LJSO  OKSO  \nS   0.0   2.0   0.0  23.0   0.0   0.0   0.0   0.0   0.0  \nA   0.0   0.0   0.0   0.0   0.0   0.0   0.0   0.0   0.0  \nJ   0.0   0.0   0.0   0.0   0.0   0.0   0.0   0.0   0.0  \nN   0.0   0.0   0.0   0.0   0.0   0.0   0.0   0.0   0.0  \nT   0.0   0.0   0.0   0.0   0.0   0.0   0.0   0.0   0.0  \nD   0.0   0.0   0.0   0.0   0.0   1.0   0.0   0.0   0.0  \nE   0.0   0.0   0.0   0.0   0.0   0.0   0.0   0.0   0.0  \nH   0.0   0.0   0.0   0.0   0.0   0.0   0.0   0.0   0.0  \nK   1.0   0.0   1.0   0.0   0.0   0.0   0.0  18.0   0.0  \nM   0.0   0.0   0.0   0.0   0.0   0.0   0.0   0.0   0.0  \nO   1.0   0.0   1.0   0.0   0.0   2.0   0.0   0.0   0.0  \nC   0.0   0.0   0.0   0.0   8.0   0.0   0.0   0.0   0.0  \nF   0.0   0.0   0.0   0.0   7.0   0.0   0.0   0.0   0.0  \nP   0.0   0.0   0.0   0.0   0.0   0.0   0.0   0.0   0.0  \nR   0.0   0.0   0.0   0.0   8.0   0.0   0.0   0.0   0.0  \nI   0.0   0.0   0.0   0.0   0.0   0.0   0.0   0.0   0.0  \nB   0.0   0.0   0.0   0.0   0.0   0.0   0.0   0.0   0.0  \nL   0.0   0.0   0.0   0.0   0.0   0.0   0.0   0.0   0.0  \nQ   0.0   0.0   0.0   0.0   0.0   0.0   0.0   0.0   0.0  \nG   0.0   0.0   0.0   0.0   0.0   0.0   0.0   0.0   0.0  \nU   0.0   0.0   0.0   0.0   0.0   0.0   1.0   0.0   2.0  \n\n[21 rows x 528 columns]",
      "text/html": "<div>\n<style scoped>\n    .dataframe tbody tr th:only-of-type {\n        vertical-align: middle;\n    }\n\n    .dataframe tbody tr th {\n        vertical-align: top;\n    }\n\n    .dataframe thead th {\n        text-align: right;\n    }\n</style>\n<table border=\"1\" class=\"dataframe\">\n  <thead>\n    <tr style=\"text-align: right;\">\n      <th></th>\n      <th>UUUU</th>\n      <th>UUUS</th>\n      <th>UUSD</th>\n      <th>USDB</th>\n      <th>USDL</th>\n      <th>USDQ</th>\n      <th>UUSE</th>\n      <th>USEB</th>\n      <th>USEL</th>\n      <th>USEQ</th>\n      <th>...</th>\n      <th>SFLJ</th>\n      <th>FLJS</th>\n      <th>SRLJ</th>\n      <th>RLJS</th>\n      <th>SOKT</th>\n      <th>OKTS</th>\n      <th>SOKS</th>\n      <th>OKSD</th>\n      <th>LJSO</th>\n      <th>OKSO</th>\n    </tr>\n  </thead>\n  <tbody>\n    <tr>\n      <th>S</th>\n      <td>555.0</td>\n      <td>0.0</td>\n      <td>0.0</td>\n      <td>22.0</td>\n      <td>0.0</td>\n      <td>0.0</td>\n      <td>0.0</td>\n      <td>5.0</td>\n      <td>0.0</td>\n      <td>0.0</td>\n      <td>...</td>\n      <td>2.0</td>\n      <td>0.0</td>\n      <td>2.0</td>\n      <td>0.0</td>\n      <td>23.0</td>\n      <td>0.0</td>\n      <td>0.0</td>\n      <td>0.0</td>\n      <td>0.0</td>\n      <td>0.0</td>\n    </tr>\n    <tr>\n      <th>A</th>\n      <td>6.0</td>\n      <td>0.0</td>\n      <td>8.0</td>\n      <td>1.0</td>\n      <td>0.0</td>\n      <td>1.0</td>\n      <td>3.0</td>\n      <td>0.0</td>\n      <td>0.0</td>\n      <td>0.0</td>\n      <td>...</td>\n      <td>0.0</td>\n      <td>0.0</td>\n      <td>0.0</td>\n      <td>0.0</td>\n      <td>0.0</td>\n      <td>0.0</td>\n      <td>0.0</td>\n      <td>0.0</td>\n      <td>0.0</td>\n      <td>0.0</td>\n    </tr>\n    <tr>\n      <th>J</th>\n      <td>49.0</td>\n      <td>0.0</td>\n      <td>20.0</td>\n      <td>3.0</td>\n      <td>1.0</td>\n      <td>2.0</td>\n      <td>1.0</td>\n      <td>0.0</td>\n      <td>2.0</td>\n      <td>2.0</td>\n      <td>...</td>\n      <td>0.0</td>\n      <td>0.0</td>\n      <td>0.0</td>\n      <td>0.0</td>\n      <td>0.0</td>\n      <td>0.0</td>\n      <td>0.0</td>\n      <td>0.0</td>\n      <td>0.0</td>\n      <td>0.0</td>\n    </tr>\n    <tr>\n      <th>N</th>\n      <td>92.0</td>\n      <td>0.0</td>\n      <td>32.0</td>\n      <td>0.0</td>\n      <td>2.0</td>\n      <td>2.0</td>\n      <td>47.0</td>\n      <td>2.0</td>\n      <td>10.0</td>\n      <td>6.0</td>\n      <td>...</td>\n      <td>0.0</td>\n      <td>0.0</td>\n      <td>0.0</td>\n      <td>0.0</td>\n      <td>0.0</td>\n      <td>0.0</td>\n      <td>0.0</td>\n      <td>0.0</td>\n      <td>0.0</td>\n      <td>0.0</td>\n    </tr>\n    <tr>\n      <th>T</th>\n      <td>11.0</td>\n      <td>0.0</td>\n      <td>23.0</td>\n      <td>0.0</td>\n      <td>2.0</td>\n      <td>0.0</td>\n      <td>18.0</td>\n      <td>3.0</td>\n      <td>3.0</td>\n      <td>6.0</td>\n      <td>...</td>\n      <td>0.0</td>\n      <td>0.0</td>\n      <td>0.0</td>\n      <td>0.0</td>\n      <td>0.0</td>\n      <td>0.0</td>\n      <td>0.0</td>\n      <td>0.0</td>\n      <td>0.0</td>\n      <td>0.0</td>\n    </tr>\n    <tr>\n      <th>D</th>\n      <td>0.0</td>\n      <td>128.0</td>\n      <td>0.0</td>\n      <td>0.0</td>\n      <td>0.0</td>\n      <td>0.0</td>\n      <td>0.0</td>\n      <td>0.0</td>\n      <td>0.0</td>\n      <td>0.0</td>\n      <td>...</td>\n      <td>0.0</td>\n      <td>0.0</td>\n      <td>0.0</td>\n      <td>0.0</td>\n      <td>0.0</td>\n      <td>0.0</td>\n      <td>1.0</td>\n      <td>0.0</td>\n      <td>0.0</td>\n      <td>0.0</td>\n    </tr>\n    <tr>\n      <th>E</th>\n      <td>0.0</td>\n      <td>119.0</td>\n      <td>0.0</td>\n      <td>0.0</td>\n      <td>0.0</td>\n      <td>0.0</td>\n      <td>0.0</td>\n      <td>0.0</td>\n      <td>0.0</td>\n      <td>0.0</td>\n      <td>...</td>\n      <td>0.0</td>\n      <td>0.0</td>\n      <td>0.0</td>\n      <td>0.0</td>\n      <td>0.0</td>\n      <td>0.0</td>\n      <td>0.0</td>\n      <td>0.0</td>\n      <td>0.0</td>\n      <td>0.0</td>\n    </tr>\n    <tr>\n      <th>H</th>\n      <td>0.0</td>\n      <td>68.0</td>\n      <td>0.0</td>\n      <td>0.0</td>\n      <td>0.0</td>\n      <td>0.0</td>\n      <td>0.0</td>\n      <td>0.0</td>\n      <td>0.0</td>\n      <td>0.0</td>\n      <td>...</td>\n      <td>0.0</td>\n      <td>0.0</td>\n      <td>0.0</td>\n      <td>0.0</td>\n      <td>0.0</td>\n      <td>0.0</td>\n      <td>0.0</td>\n      <td>0.0</td>\n      <td>0.0</td>\n      <td>0.0</td>\n    </tr>\n    <tr>\n      <th>K</th>\n      <td>0.0</td>\n      <td>35.0</td>\n      <td>0.0</td>\n      <td>0.0</td>\n      <td>0.0</td>\n      <td>0.0</td>\n      <td>0.0</td>\n      <td>0.0</td>\n      <td>0.0</td>\n      <td>0.0</td>\n      <td>...</td>\n      <td>0.0</td>\n      <td>1.0</td>\n      <td>0.0</td>\n      <td>1.0</td>\n      <td>0.0</td>\n      <td>0.0</td>\n      <td>0.0</td>\n      <td>0.0</td>\n      <td>18.0</td>\n      <td>0.0</td>\n    </tr>\n    <tr>\n      <th>M</th>\n      <td>0.0</td>\n      <td>39.0</td>\n      <td>0.0</td>\n      <td>0.0</td>\n      <td>0.0</td>\n      <td>0.0</td>\n      <td>0.0</td>\n      <td>0.0</td>\n      <td>0.0</td>\n      <td>0.0</td>\n      <td>...</td>\n      <td>0.0</td>\n      <td>0.0</td>\n      <td>0.0</td>\n      <td>0.0</td>\n      <td>0.0</td>\n      <td>0.0</td>\n      <td>0.0</td>\n      <td>0.0</td>\n      <td>0.0</td>\n      <td>0.0</td>\n    </tr>\n    <tr>\n      <th>O</th>\n      <td>0.0</td>\n      <td>148.0</td>\n      <td>0.0</td>\n      <td>0.0</td>\n      <td>0.0</td>\n      <td>0.0</td>\n      <td>0.0</td>\n      <td>0.0</td>\n      <td>0.0</td>\n      <td>0.0</td>\n      <td>...</td>\n      <td>0.0</td>\n      <td>1.0</td>\n      <td>0.0</td>\n      <td>1.0</td>\n      <td>0.0</td>\n      <td>0.0</td>\n      <td>2.0</td>\n      <td>0.0</td>\n      <td>0.0</td>\n      <td>0.0</td>\n    </tr>\n    <tr>\n      <th>C</th>\n      <td>0.0</td>\n      <td>1.0</td>\n      <td>0.0</td>\n      <td>0.0</td>\n      <td>0.0</td>\n      <td>0.0</td>\n      <td>0.0</td>\n      <td>0.0</td>\n      <td>0.0</td>\n      <td>0.0</td>\n      <td>...</td>\n      <td>0.0</td>\n      <td>0.0</td>\n      <td>0.0</td>\n      <td>0.0</td>\n      <td>0.0</td>\n      <td>8.0</td>\n      <td>0.0</td>\n      <td>0.0</td>\n      <td>0.0</td>\n      <td>0.0</td>\n    </tr>\n    <tr>\n      <th>F</th>\n      <td>0.0</td>\n      <td>7.0</td>\n      <td>0.0</td>\n      <td>0.0</td>\n      <td>0.0</td>\n      <td>0.0</td>\n      <td>0.0</td>\n      <td>0.0</td>\n      <td>0.0</td>\n      <td>0.0</td>\n      <td>...</td>\n      <td>0.0</td>\n      <td>0.0</td>\n      <td>0.0</td>\n      <td>0.0</td>\n      <td>0.0</td>\n      <td>7.0</td>\n      <td>0.0</td>\n      <td>0.0</td>\n      <td>0.0</td>\n      <td>0.0</td>\n    </tr>\n    <tr>\n      <th>P</th>\n      <td>0.0</td>\n      <td>1.0</td>\n      <td>0.0</td>\n      <td>0.0</td>\n      <td>0.0</td>\n      <td>0.0</td>\n      <td>0.0</td>\n      <td>0.0</td>\n      <td>0.0</td>\n      <td>0.0</td>\n      <td>...</td>\n      <td>0.0</td>\n      <td>0.0</td>\n      <td>0.0</td>\n      <td>0.0</td>\n      <td>0.0</td>\n      <td>0.0</td>\n      <td>0.0</td>\n      <td>0.0</td>\n      <td>0.0</td>\n      <td>0.0</td>\n    </tr>\n    <tr>\n      <th>R</th>\n      <td>0.0</td>\n      <td>1.0</td>\n      <td>0.0</td>\n      <td>0.0</td>\n      <td>0.0</td>\n      <td>0.0</td>\n      <td>0.0</td>\n      <td>0.0</td>\n      <td>0.0</td>\n      <td>0.0</td>\n      <td>...</td>\n      <td>0.0</td>\n      <td>0.0</td>\n      <td>0.0</td>\n      <td>0.0</td>\n      <td>0.0</td>\n      <td>8.0</td>\n      <td>0.0</td>\n      <td>0.0</td>\n      <td>0.0</td>\n      <td>0.0</td>\n    </tr>\n    <tr>\n      <th>I</th>\n      <td>0.0</td>\n      <td>8.0</td>\n      <td>0.0</td>\n      <td>0.0</td>\n      <td>0.0</td>\n      <td>0.0</td>\n      <td>0.0</td>\n      <td>0.0</td>\n      <td>0.0</td>\n      <td>0.0</td>\n      <td>...</td>\n      <td>0.0</td>\n      <td>0.0</td>\n      <td>0.0</td>\n      <td>0.0</td>\n      <td>0.0</td>\n      <td>0.0</td>\n      <td>0.0</td>\n      <td>0.0</td>\n      <td>0.0</td>\n      <td>0.0</td>\n    </tr>\n    <tr>\n      <th>B</th>\n      <td>0.0</td>\n      <td>0.0</td>\n      <td>27.0</td>\n      <td>0.0</td>\n      <td>0.0</td>\n      <td>0.0</td>\n      <td>11.0</td>\n      <td>0.0</td>\n      <td>0.0</td>\n      <td>0.0</td>\n      <td>...</td>\n      <td>0.0</td>\n      <td>0.0</td>\n      <td>0.0</td>\n      <td>0.0</td>\n      <td>0.0</td>\n      <td>0.0</td>\n      <td>0.0</td>\n      <td>0.0</td>\n      <td>0.0</td>\n      <td>0.0</td>\n    </tr>\n    <tr>\n      <th>L</th>\n      <td>0.0</td>\n      <td>0.0</td>\n      <td>6.0</td>\n      <td>0.0</td>\n      <td>0.0</td>\n      <td>0.0</td>\n      <td>16.0</td>\n      <td>0.0</td>\n      <td>0.0</td>\n      <td>0.0</td>\n      <td>...</td>\n      <td>0.0</td>\n      <td>0.0</td>\n      <td>0.0</td>\n      <td>0.0</td>\n      <td>0.0</td>\n      <td>0.0</td>\n      <td>0.0</td>\n      <td>0.0</td>\n      <td>0.0</td>\n      <td>0.0</td>\n    </tr>\n    <tr>\n      <th>Q</th>\n      <td>0.0</td>\n      <td>0.0</td>\n      <td>6.0</td>\n      <td>0.0</td>\n      <td>0.0</td>\n      <td>0.0</td>\n      <td>15.0</td>\n      <td>0.0</td>\n      <td>0.0</td>\n      <td>0.0</td>\n      <td>...</td>\n      <td>0.0</td>\n      <td>0.0</td>\n      <td>0.0</td>\n      <td>0.0</td>\n      <td>0.0</td>\n      <td>0.0</td>\n      <td>0.0</td>\n      <td>0.0</td>\n      <td>0.0</td>\n      <td>0.0</td>\n    </tr>\n    <tr>\n      <th>G</th>\n      <td>0.0</td>\n      <td>0.0</td>\n      <td>6.0</td>\n      <td>0.0</td>\n      <td>0.0</td>\n      <td>0.0</td>\n      <td>8.0</td>\n      <td>0.0</td>\n      <td>0.0</td>\n      <td>0.0</td>\n      <td>...</td>\n      <td>0.0</td>\n      <td>0.0</td>\n      <td>0.0</td>\n      <td>0.0</td>\n      <td>0.0</td>\n      <td>0.0</td>\n      <td>0.0</td>\n      <td>0.0</td>\n      <td>0.0</td>\n      <td>0.0</td>\n    </tr>\n    <tr>\n      <th>U</th>\n      <td>0.0</td>\n      <td>0.0</td>\n      <td>0.0</td>\n      <td>1.0</td>\n      <td>1.0</td>\n      <td>1.0</td>\n      <td>0.0</td>\n      <td>1.0</td>\n      <td>1.0</td>\n      <td>1.0</td>\n      <td>...</td>\n      <td>0.0</td>\n      <td>0.0</td>\n      <td>0.0</td>\n      <td>0.0</td>\n      <td>0.0</td>\n      <td>0.0</td>\n      <td>0.0</td>\n      <td>1.0</td>\n      <td>0.0</td>\n      <td>2.0</td>\n    </tr>\n  </tbody>\n</table>\n<p>21 rows × 528 columns</p>\n</div>"
     },
     "execution_count": 274,
     "metadata": {},
     "output_type": "execute_result"
    }
   ],
   "source": [
    "import pandas as pd\n",
    "from collections import defaultdict\n",
    "\n",
    "# Define a function to get all overlapping 5-character sequences in the content\n",
    "def get_all_overlapping_sequences(lines, sequence_length=5):\n",
    "    all_sequences = defaultdict(lambda: defaultdict(int))\n",
    "    for line in lines:\n",
    "        # Clean up the line\n",
    "        line = line.strip()  # Remove whitespace\n",
    "        # Loop through the line to get all overlapping sequences of the given length\n",
    "        for i in range(len(line) - sequence_length + 1):\n",
    "            sequence = line[i:i+sequence_length]\n",
    "            prefix = sequence[:-1]\n",
    "            next_char = sequence[-1]\n",
    "            all_sequences[prefix][next_char] += 1\n",
    "    return all_sequences\n",
    "\n",
    "# Use the function to get all overlapping sequences\n",
    "all_overlapping_sequences = get_all_overlapping_sequences(modified_content)\n",
    "pd.DataFrame(all_overlapping_sequences).fillna(0)"
   ],
   "metadata": {
    "collapsed": false,
    "ExecuteTime": {
     "end_time": "2023-11-06T11:49:49.923884800Z",
     "start_time": "2023-11-06T11:49:49.887767500Z"
    }
   }
  },
  {
   "cell_type": "code",
   "execution_count": 275,
   "outputs": [
    {
     "data": {
      "text/plain": "       UUUU      UUUS      UUSD      USDB      USDL      USDQ      UUSE   \nS  0.778401  0.000000  0.000000  0.814815  0.000000  0.000000  0.000000  \\\nA  0.008415  0.000000  0.062500  0.037037  0.000000  0.166667  0.025210   \nJ  0.068724  0.000000  0.156250  0.111111  0.166667  0.333333  0.008403   \nN  0.129032  0.000000  0.250000  0.000000  0.333333  0.333333  0.394958   \nT  0.015428  0.000000  0.179688  0.000000  0.333333  0.000000  0.151261   \nD  0.000000  0.230631  0.000000  0.000000  0.000000  0.000000  0.000000   \nE  0.000000  0.214414  0.000000  0.000000  0.000000  0.000000  0.000000   \nH  0.000000  0.122523  0.000000  0.000000  0.000000  0.000000  0.000000   \nK  0.000000  0.063063  0.000000  0.000000  0.000000  0.000000  0.000000   \nM  0.000000  0.070270  0.000000  0.000000  0.000000  0.000000  0.000000   \nO  0.000000  0.266667  0.000000  0.000000  0.000000  0.000000  0.000000   \nC  0.000000  0.001802  0.000000  0.000000  0.000000  0.000000  0.000000   \nF  0.000000  0.012613  0.000000  0.000000  0.000000  0.000000  0.000000   \nP  0.000000  0.001802  0.000000  0.000000  0.000000  0.000000  0.000000   \nR  0.000000  0.001802  0.000000  0.000000  0.000000  0.000000  0.000000   \nI  0.000000  0.014414  0.000000  0.000000  0.000000  0.000000  0.000000   \nB  0.000000  0.000000  0.210938  0.000000  0.000000  0.000000  0.092437   \nL  0.000000  0.000000  0.046875  0.000000  0.000000  0.000000  0.134454   \nQ  0.000000  0.000000  0.046875  0.000000  0.000000  0.000000  0.126050   \nG  0.000000  0.000000  0.046875  0.000000  0.000000  0.000000  0.067227   \nU  0.000000  0.000000  0.000000  0.037037  0.166667  0.166667  0.000000   \n\n       USEB    USEL      USEQ  ...  SFLJ  FLJS  SRLJ  RLJS  SOKT      OKTS   \nS  0.454545  0.0000  0.000000  ...   1.0   0.0   1.0   0.0   1.0  0.000000  \\\nA  0.000000  0.0000  0.000000  ...   0.0   0.0   0.0   0.0   0.0  0.000000   \nJ  0.000000  0.1250  0.133333  ...   0.0   0.0   0.0   0.0   0.0  0.000000   \nN  0.181818  0.6250  0.400000  ...   0.0   0.0   0.0   0.0   0.0  0.000000   \nT  0.272727  0.1875  0.400000  ...   0.0   0.0   0.0   0.0   0.0  0.000000   \nD  0.000000  0.0000  0.000000  ...   0.0   0.0   0.0   0.0   0.0  0.000000   \nE  0.000000  0.0000  0.000000  ...   0.0   0.0   0.0   0.0   0.0  0.000000   \nH  0.000000  0.0000  0.000000  ...   0.0   0.0   0.0   0.0   0.0  0.000000   \nK  0.000000  0.0000  0.000000  ...   0.0   0.5   0.0   0.5   0.0  0.000000   \nM  0.000000  0.0000  0.000000  ...   0.0   0.0   0.0   0.0   0.0  0.000000   \nO  0.000000  0.0000  0.000000  ...   0.0   0.5   0.0   0.5   0.0  0.000000   \nC  0.000000  0.0000  0.000000  ...   0.0   0.0   0.0   0.0   0.0  0.347826   \nF  0.000000  0.0000  0.000000  ...   0.0   0.0   0.0   0.0   0.0  0.304348   \nP  0.000000  0.0000  0.000000  ...   0.0   0.0   0.0   0.0   0.0  0.000000   \nR  0.000000  0.0000  0.000000  ...   0.0   0.0   0.0   0.0   0.0  0.347826   \nI  0.000000  0.0000  0.000000  ...   0.0   0.0   0.0   0.0   0.0  0.000000   \nB  0.000000  0.0000  0.000000  ...   0.0   0.0   0.0   0.0   0.0  0.000000   \nL  0.000000  0.0000  0.000000  ...   0.0   0.0   0.0   0.0   0.0  0.000000   \nQ  0.000000  0.0000  0.000000  ...   0.0   0.0   0.0   0.0   0.0  0.000000   \nG  0.000000  0.0000  0.000000  ...   0.0   0.0   0.0   0.0   0.0  0.000000   \nU  0.090909  0.0625  0.066667  ...   0.0   0.0   0.0   0.0   0.0  0.000000   \n\n       SOKS  OKSD  LJSO  OKSO  \nS  0.000000   0.0   0.0   0.0  \nA  0.000000   0.0   0.0   0.0  \nJ  0.000000   0.0   0.0   0.0  \nN  0.000000   0.0   0.0   0.0  \nT  0.000000   0.0   0.0   0.0  \nD  0.333333   0.0   0.0   0.0  \nE  0.000000   0.0   0.0   0.0  \nH  0.000000   0.0   0.0   0.0  \nK  0.000000   0.0   1.0   0.0  \nM  0.000000   0.0   0.0   0.0  \nO  0.666667   0.0   0.0   0.0  \nC  0.000000   0.0   0.0   0.0  \nF  0.000000   0.0   0.0   0.0  \nP  0.000000   0.0   0.0   0.0  \nR  0.000000   0.0   0.0   0.0  \nI  0.000000   0.0   0.0   0.0  \nB  0.000000   0.0   0.0   0.0  \nL  0.000000   0.0   0.0   0.0  \nQ  0.000000   0.0   0.0   0.0  \nG  0.000000   0.0   0.0   0.0  \nU  0.000000   1.0   0.0   1.0  \n\n[21 rows x 528 columns]",
      "text/html": "<div>\n<style scoped>\n    .dataframe tbody tr th:only-of-type {\n        vertical-align: middle;\n    }\n\n    .dataframe tbody tr th {\n        vertical-align: top;\n    }\n\n    .dataframe thead th {\n        text-align: right;\n    }\n</style>\n<table border=\"1\" class=\"dataframe\">\n  <thead>\n    <tr style=\"text-align: right;\">\n      <th></th>\n      <th>UUUU</th>\n      <th>UUUS</th>\n      <th>UUSD</th>\n      <th>USDB</th>\n      <th>USDL</th>\n      <th>USDQ</th>\n      <th>UUSE</th>\n      <th>USEB</th>\n      <th>USEL</th>\n      <th>USEQ</th>\n      <th>...</th>\n      <th>SFLJ</th>\n      <th>FLJS</th>\n      <th>SRLJ</th>\n      <th>RLJS</th>\n      <th>SOKT</th>\n      <th>OKTS</th>\n      <th>SOKS</th>\n      <th>OKSD</th>\n      <th>LJSO</th>\n      <th>OKSO</th>\n    </tr>\n  </thead>\n  <tbody>\n    <tr>\n      <th>S</th>\n      <td>0.778401</td>\n      <td>0.000000</td>\n      <td>0.000000</td>\n      <td>0.814815</td>\n      <td>0.000000</td>\n      <td>0.000000</td>\n      <td>0.000000</td>\n      <td>0.454545</td>\n      <td>0.0000</td>\n      <td>0.000000</td>\n      <td>...</td>\n      <td>1.0</td>\n      <td>0.0</td>\n      <td>1.0</td>\n      <td>0.0</td>\n      <td>1.0</td>\n      <td>0.000000</td>\n      <td>0.000000</td>\n      <td>0.0</td>\n      <td>0.0</td>\n      <td>0.0</td>\n    </tr>\n    <tr>\n      <th>A</th>\n      <td>0.008415</td>\n      <td>0.000000</td>\n      <td>0.062500</td>\n      <td>0.037037</td>\n      <td>0.000000</td>\n      <td>0.166667</td>\n      <td>0.025210</td>\n      <td>0.000000</td>\n      <td>0.0000</td>\n      <td>0.000000</td>\n      <td>...</td>\n      <td>0.0</td>\n      <td>0.0</td>\n      <td>0.0</td>\n      <td>0.0</td>\n      <td>0.0</td>\n      <td>0.000000</td>\n      <td>0.000000</td>\n      <td>0.0</td>\n      <td>0.0</td>\n      <td>0.0</td>\n    </tr>\n    <tr>\n      <th>J</th>\n      <td>0.068724</td>\n      <td>0.000000</td>\n      <td>0.156250</td>\n      <td>0.111111</td>\n      <td>0.166667</td>\n      <td>0.333333</td>\n      <td>0.008403</td>\n      <td>0.000000</td>\n      <td>0.1250</td>\n      <td>0.133333</td>\n      <td>...</td>\n      <td>0.0</td>\n      <td>0.0</td>\n      <td>0.0</td>\n      <td>0.0</td>\n      <td>0.0</td>\n      <td>0.000000</td>\n      <td>0.000000</td>\n      <td>0.0</td>\n      <td>0.0</td>\n      <td>0.0</td>\n    </tr>\n    <tr>\n      <th>N</th>\n      <td>0.129032</td>\n      <td>0.000000</td>\n      <td>0.250000</td>\n      <td>0.000000</td>\n      <td>0.333333</td>\n      <td>0.333333</td>\n      <td>0.394958</td>\n      <td>0.181818</td>\n      <td>0.6250</td>\n      <td>0.400000</td>\n      <td>...</td>\n      <td>0.0</td>\n      <td>0.0</td>\n      <td>0.0</td>\n      <td>0.0</td>\n      <td>0.0</td>\n      <td>0.000000</td>\n      <td>0.000000</td>\n      <td>0.0</td>\n      <td>0.0</td>\n      <td>0.0</td>\n    </tr>\n    <tr>\n      <th>T</th>\n      <td>0.015428</td>\n      <td>0.000000</td>\n      <td>0.179688</td>\n      <td>0.000000</td>\n      <td>0.333333</td>\n      <td>0.000000</td>\n      <td>0.151261</td>\n      <td>0.272727</td>\n      <td>0.1875</td>\n      <td>0.400000</td>\n      <td>...</td>\n      <td>0.0</td>\n      <td>0.0</td>\n      <td>0.0</td>\n      <td>0.0</td>\n      <td>0.0</td>\n      <td>0.000000</td>\n      <td>0.000000</td>\n      <td>0.0</td>\n      <td>0.0</td>\n      <td>0.0</td>\n    </tr>\n    <tr>\n      <th>D</th>\n      <td>0.000000</td>\n      <td>0.230631</td>\n      <td>0.000000</td>\n      <td>0.000000</td>\n      <td>0.000000</td>\n      <td>0.000000</td>\n      <td>0.000000</td>\n      <td>0.000000</td>\n      <td>0.0000</td>\n      <td>0.000000</td>\n      <td>...</td>\n      <td>0.0</td>\n      <td>0.0</td>\n      <td>0.0</td>\n      <td>0.0</td>\n      <td>0.0</td>\n      <td>0.000000</td>\n      <td>0.333333</td>\n      <td>0.0</td>\n      <td>0.0</td>\n      <td>0.0</td>\n    </tr>\n    <tr>\n      <th>E</th>\n      <td>0.000000</td>\n      <td>0.214414</td>\n      <td>0.000000</td>\n      <td>0.000000</td>\n      <td>0.000000</td>\n      <td>0.000000</td>\n      <td>0.000000</td>\n      <td>0.000000</td>\n      <td>0.0000</td>\n      <td>0.000000</td>\n      <td>...</td>\n      <td>0.0</td>\n      <td>0.0</td>\n      <td>0.0</td>\n      <td>0.0</td>\n      <td>0.0</td>\n      <td>0.000000</td>\n      <td>0.000000</td>\n      <td>0.0</td>\n      <td>0.0</td>\n      <td>0.0</td>\n    </tr>\n    <tr>\n      <th>H</th>\n      <td>0.000000</td>\n      <td>0.122523</td>\n      <td>0.000000</td>\n      <td>0.000000</td>\n      <td>0.000000</td>\n      <td>0.000000</td>\n      <td>0.000000</td>\n      <td>0.000000</td>\n      <td>0.0000</td>\n      <td>0.000000</td>\n      <td>...</td>\n      <td>0.0</td>\n      <td>0.0</td>\n      <td>0.0</td>\n      <td>0.0</td>\n      <td>0.0</td>\n      <td>0.000000</td>\n      <td>0.000000</td>\n      <td>0.0</td>\n      <td>0.0</td>\n      <td>0.0</td>\n    </tr>\n    <tr>\n      <th>K</th>\n      <td>0.000000</td>\n      <td>0.063063</td>\n      <td>0.000000</td>\n      <td>0.000000</td>\n      <td>0.000000</td>\n      <td>0.000000</td>\n      <td>0.000000</td>\n      <td>0.000000</td>\n      <td>0.0000</td>\n      <td>0.000000</td>\n      <td>...</td>\n      <td>0.0</td>\n      <td>0.5</td>\n      <td>0.0</td>\n      <td>0.5</td>\n      <td>0.0</td>\n      <td>0.000000</td>\n      <td>0.000000</td>\n      <td>0.0</td>\n      <td>1.0</td>\n      <td>0.0</td>\n    </tr>\n    <tr>\n      <th>M</th>\n      <td>0.000000</td>\n      <td>0.070270</td>\n      <td>0.000000</td>\n      <td>0.000000</td>\n      <td>0.000000</td>\n      <td>0.000000</td>\n      <td>0.000000</td>\n      <td>0.000000</td>\n      <td>0.0000</td>\n      <td>0.000000</td>\n      <td>...</td>\n      <td>0.0</td>\n      <td>0.0</td>\n      <td>0.0</td>\n      <td>0.0</td>\n      <td>0.0</td>\n      <td>0.000000</td>\n      <td>0.000000</td>\n      <td>0.0</td>\n      <td>0.0</td>\n      <td>0.0</td>\n    </tr>\n    <tr>\n      <th>O</th>\n      <td>0.000000</td>\n      <td>0.266667</td>\n      <td>0.000000</td>\n      <td>0.000000</td>\n      <td>0.000000</td>\n      <td>0.000000</td>\n      <td>0.000000</td>\n      <td>0.000000</td>\n      <td>0.0000</td>\n      <td>0.000000</td>\n      <td>...</td>\n      <td>0.0</td>\n      <td>0.5</td>\n      <td>0.0</td>\n      <td>0.5</td>\n      <td>0.0</td>\n      <td>0.000000</td>\n      <td>0.666667</td>\n      <td>0.0</td>\n      <td>0.0</td>\n      <td>0.0</td>\n    </tr>\n    <tr>\n      <th>C</th>\n      <td>0.000000</td>\n      <td>0.001802</td>\n      <td>0.000000</td>\n      <td>0.000000</td>\n      <td>0.000000</td>\n      <td>0.000000</td>\n      <td>0.000000</td>\n      <td>0.000000</td>\n      <td>0.0000</td>\n      <td>0.000000</td>\n      <td>...</td>\n      <td>0.0</td>\n      <td>0.0</td>\n      <td>0.0</td>\n      <td>0.0</td>\n      <td>0.0</td>\n      <td>0.347826</td>\n      <td>0.000000</td>\n      <td>0.0</td>\n      <td>0.0</td>\n      <td>0.0</td>\n    </tr>\n    <tr>\n      <th>F</th>\n      <td>0.000000</td>\n      <td>0.012613</td>\n      <td>0.000000</td>\n      <td>0.000000</td>\n      <td>0.000000</td>\n      <td>0.000000</td>\n      <td>0.000000</td>\n      <td>0.000000</td>\n      <td>0.0000</td>\n      <td>0.000000</td>\n      <td>...</td>\n      <td>0.0</td>\n      <td>0.0</td>\n      <td>0.0</td>\n      <td>0.0</td>\n      <td>0.0</td>\n      <td>0.304348</td>\n      <td>0.000000</td>\n      <td>0.0</td>\n      <td>0.0</td>\n      <td>0.0</td>\n    </tr>\n    <tr>\n      <th>P</th>\n      <td>0.000000</td>\n      <td>0.001802</td>\n      <td>0.000000</td>\n      <td>0.000000</td>\n      <td>0.000000</td>\n      <td>0.000000</td>\n      <td>0.000000</td>\n      <td>0.000000</td>\n      <td>0.0000</td>\n      <td>0.000000</td>\n      <td>...</td>\n      <td>0.0</td>\n      <td>0.0</td>\n      <td>0.0</td>\n      <td>0.0</td>\n      <td>0.0</td>\n      <td>0.000000</td>\n      <td>0.000000</td>\n      <td>0.0</td>\n      <td>0.0</td>\n      <td>0.0</td>\n    </tr>\n    <tr>\n      <th>R</th>\n      <td>0.000000</td>\n      <td>0.001802</td>\n      <td>0.000000</td>\n      <td>0.000000</td>\n      <td>0.000000</td>\n      <td>0.000000</td>\n      <td>0.000000</td>\n      <td>0.000000</td>\n      <td>0.0000</td>\n      <td>0.000000</td>\n      <td>...</td>\n      <td>0.0</td>\n      <td>0.0</td>\n      <td>0.0</td>\n      <td>0.0</td>\n      <td>0.0</td>\n      <td>0.347826</td>\n      <td>0.000000</td>\n      <td>0.0</td>\n      <td>0.0</td>\n      <td>0.0</td>\n    </tr>\n    <tr>\n      <th>I</th>\n      <td>0.000000</td>\n      <td>0.014414</td>\n      <td>0.000000</td>\n      <td>0.000000</td>\n      <td>0.000000</td>\n      <td>0.000000</td>\n      <td>0.000000</td>\n      <td>0.000000</td>\n      <td>0.0000</td>\n      <td>0.000000</td>\n      <td>...</td>\n      <td>0.0</td>\n      <td>0.0</td>\n      <td>0.0</td>\n      <td>0.0</td>\n      <td>0.0</td>\n      <td>0.000000</td>\n      <td>0.000000</td>\n      <td>0.0</td>\n      <td>0.0</td>\n      <td>0.0</td>\n    </tr>\n    <tr>\n      <th>B</th>\n      <td>0.000000</td>\n      <td>0.000000</td>\n      <td>0.210938</td>\n      <td>0.000000</td>\n      <td>0.000000</td>\n      <td>0.000000</td>\n      <td>0.092437</td>\n      <td>0.000000</td>\n      <td>0.0000</td>\n      <td>0.000000</td>\n      <td>...</td>\n      <td>0.0</td>\n      <td>0.0</td>\n      <td>0.0</td>\n      <td>0.0</td>\n      <td>0.0</td>\n      <td>0.000000</td>\n      <td>0.000000</td>\n      <td>0.0</td>\n      <td>0.0</td>\n      <td>0.0</td>\n    </tr>\n    <tr>\n      <th>L</th>\n      <td>0.000000</td>\n      <td>0.000000</td>\n      <td>0.046875</td>\n      <td>0.000000</td>\n      <td>0.000000</td>\n      <td>0.000000</td>\n      <td>0.134454</td>\n      <td>0.000000</td>\n      <td>0.0000</td>\n      <td>0.000000</td>\n      <td>...</td>\n      <td>0.0</td>\n      <td>0.0</td>\n      <td>0.0</td>\n      <td>0.0</td>\n      <td>0.0</td>\n      <td>0.000000</td>\n      <td>0.000000</td>\n      <td>0.0</td>\n      <td>0.0</td>\n      <td>0.0</td>\n    </tr>\n    <tr>\n      <th>Q</th>\n      <td>0.000000</td>\n      <td>0.000000</td>\n      <td>0.046875</td>\n      <td>0.000000</td>\n      <td>0.000000</td>\n      <td>0.000000</td>\n      <td>0.126050</td>\n      <td>0.000000</td>\n      <td>0.0000</td>\n      <td>0.000000</td>\n      <td>...</td>\n      <td>0.0</td>\n      <td>0.0</td>\n      <td>0.0</td>\n      <td>0.0</td>\n      <td>0.0</td>\n      <td>0.000000</td>\n      <td>0.000000</td>\n      <td>0.0</td>\n      <td>0.0</td>\n      <td>0.0</td>\n    </tr>\n    <tr>\n      <th>G</th>\n      <td>0.000000</td>\n      <td>0.000000</td>\n      <td>0.046875</td>\n      <td>0.000000</td>\n      <td>0.000000</td>\n      <td>0.000000</td>\n      <td>0.067227</td>\n      <td>0.000000</td>\n      <td>0.0000</td>\n      <td>0.000000</td>\n      <td>...</td>\n      <td>0.0</td>\n      <td>0.0</td>\n      <td>0.0</td>\n      <td>0.0</td>\n      <td>0.0</td>\n      <td>0.000000</td>\n      <td>0.000000</td>\n      <td>0.0</td>\n      <td>0.0</td>\n      <td>0.0</td>\n    </tr>\n    <tr>\n      <th>U</th>\n      <td>0.000000</td>\n      <td>0.000000</td>\n      <td>0.000000</td>\n      <td>0.037037</td>\n      <td>0.166667</td>\n      <td>0.166667</td>\n      <td>0.000000</td>\n      <td>0.090909</td>\n      <td>0.0625</td>\n      <td>0.066667</td>\n      <td>...</td>\n      <td>0.0</td>\n      <td>0.0</td>\n      <td>0.0</td>\n      <td>0.0</td>\n      <td>0.0</td>\n      <td>0.000000</td>\n      <td>0.000000</td>\n      <td>1.0</td>\n      <td>0.0</td>\n      <td>1.0</td>\n    </tr>\n  </tbody>\n</table>\n<p>21 rows × 528 columns</p>\n</div>"
     },
     "execution_count": 275,
     "metadata": {},
     "output_type": "execute_result"
    }
   ],
   "source": [
    "# Calculate probabilities from the overlapping sequences\n",
    "overlapping_probabilities = {}\n",
    "for prefix, suffixes in all_overlapping_sequences.items():\n",
    "    total = sum(suffixes.values())\n",
    "    overlapping_probabilities[prefix] = {char: count / total for char, count in suffixes.items()}\n",
    "\n",
    "pd.DataFrame(overlapping_probabilities).fillna(0)"
   ],
   "metadata": {
    "collapsed": false,
    "ExecuteTime": {
     "end_time": "2023-11-06T11:49:49.947832500Z",
     "start_time": "2023-11-06T11:49:49.930897Z"
    }
   }
  },
  {
   "cell_type": "code",
   "execution_count": 276,
   "outputs": [
    {
     "data": {
      "text/plain": "'M'"
     },
     "execution_count": 276,
     "metadata": {},
     "output_type": "execute_result"
    }
   ],
   "source": [
    "import random\n",
    "\n",
    "# Define the text predictor function\n",
    "def text_predictor(input_text, probabilities_dict, sequence_length=4):\n",
    "    # Ensure the input text is at least as long as the sequence length\n",
    "    if len(input_text) < sequence_length:\n",
    "        return \"Input text is too short.\"\n",
    "\n",
    "    # Take the last 'sequence_length' characters as the context\n",
    "    context = input_text[-sequence_length:]\n",
    "\n",
    "    # Look up the context in the probability dictionary\n",
    "    next_char_probs = probabilities_dict.get(context, None)\n",
    "\n",
    "    # If the context isn't found, return a message stating so\n",
    "    if not next_char_probs:\n",
    "        return \"Context not found in the probability dictionary.\"\n",
    "\n",
    "    # Select the next character based on the probabilities\n",
    "    next_chars = list(next_char_probs.keys())\n",
    "    probabilities = list(next_char_probs.values())\n",
    "\n",
    "    # Randomly select a character using the probabilities as weights\n",
    "    predicted_char = random.choices(next_chars, weights=probabilities, k=1)[0]\n",
    "\n",
    "    # Return the predicted character\n",
    "    return predicted_char\n",
    "\n",
    "# Demonstrate the text predictor with a sample context\n",
    "sample_context = \"UUUS\"\n",
    "predicted_character = text_predictor(sample_context, overlapping_probabilities)\n",
    "predicted_character"
   ],
   "metadata": {
    "collapsed": false,
    "ExecuteTime": {
     "end_time": "2023-11-06T11:49:49.982257800Z",
     "start_time": "2023-11-06T11:49:49.948834100Z"
    }
   }
  },
  {
   "cell_type": "code",
   "execution_count": 277,
   "outputs": [],
   "source": [
    "# We will adjust the function to ensure that the starting 'U's are removed from the generated text, even if the 'U' is part of the starting text.\n",
    "\n",
    "def continue_text_generation_no_u_at_all(start_text, probabilities_dict, end_char='U', sequence_length=4):\n",
    "    generated_text = start_text\n",
    "\n",
    "    # Keep generating characters until an 'end_char' is predicted\n",
    "    while True:\n",
    "        # Get the last 'sequence_length' characters as the context\n",
    "        context = generated_text[-sequence_length:]\n",
    "        # Predict the next character\n",
    "        next_char = text_predictor(context, probabilities_dict, sequence_length)\n",
    "\n",
    "        # If the predicted character is the end character, break the loop\n",
    "        if next_char == end_char:\n",
    "            break\n",
    "\n",
    "        # Append the predicted character to the generated text\n",
    "        generated_text += next_char\n",
    "\n",
    "    # Remove all leading 'U's from the generated text\n",
    "    return generated_text.lstrip('U')"
   ],
   "metadata": {
    "collapsed": false,
    "ExecuteTime": {
     "end_time": "2023-11-06T11:49:50.032915400Z",
     "start_time": "2023-11-06T11:49:49.959911Z"
    }
   }
  },
  {
   "cell_type": "code",
   "execution_count": 278,
   "outputs": [
    {
     "data": {
      "text/plain": "'SEQNSF'"
     },
     "execution_count": 278,
     "metadata": {},
     "output_type": "execute_result"
    }
   ],
   "source": [
    "# Start the text generation without the initial 'U's\n",
    "start_text = \"UUUS\"\n",
    "generated_text_no_u_at_all = continue_text_generation_no_u_at_all(start_text, overlapping_probabilities)\n",
    "generated_text_no_u_at_all"
   ],
   "metadata": {
    "collapsed": false,
    "ExecuteTime": {
     "end_time": "2023-11-06T11:49:50.066271Z",
     "start_time": "2023-11-06T11:49:49.965774400Z"
    }
   }
  },
  {
   "cell_type": "code",
   "execution_count": 282,
   "outputs": [
    {
     "data": {
      "text/plain": "['A: \" at\"\\n', 'B: \" ate\"\\n', 'C: \" bed\"\\n', 'D: \" boy\"\\n', 'E: \" cat\"\\n']"
     },
     "execution_count": 282,
     "metadata": {},
     "output_type": "execute_result"
    }
   ],
   "source": [
    "# First, let's read the uploaded tokens file to understand its structure before proceeding with the translation of the encoded result.\n",
    "tokens_file_path = 'Resource/tokens.txt'\n",
    "\n",
    "# Read the contents of the tokens file\n",
    "with open(tokens_file_path, 'r') as file:\n",
    "    tokens_content = file.readlines()\n",
    "\n",
    "# Display the first few lines to understand the structure\n",
    "tokens_content[:5]"
   ],
   "metadata": {
    "collapsed": false,
    "ExecuteTime": {
     "end_time": "2023-11-06T11:53:13.566080300Z",
     "start_time": "2023-11-06T11:53:13.561460800Z"
    }
   }
  },
  {
   "cell_type": "code",
   "execution_count": 283,
   "outputs": [
    {
     "data": {
      "text/plain": "' the cat sat on the chair'"
     },
     "execution_count": 283,
     "metadata": {},
     "output_type": "execute_result"
    }
   ],
   "source": [
    "# Create a dictionary from the tokens file\n",
    "token_dict = {}\n",
    "\n",
    "# Process each line in the tokens file to populate the dictionary\n",
    "for line in tokens_content:\n",
    "    # The structure is assumed to be 'X: \" Y\"'\n",
    "    token, word_fragment = line.strip().split(': ')\n",
    "    # Remove the quotes around the word fragment\n",
    "    word_fragment = word_fragment.strip('\"')\n",
    "    token_dict[token] = word_fragment\n",
    "\n",
    "# Now we decode the generated text 'SFNSIQ' using the dictionary\n",
    "decoded_text = ''.join([token_dict.get(token, '') for token in generated_text_no_u_at_all])\n",
    "\n",
    "decoded_text"
   ],
   "metadata": {
    "collapsed": false,
    "ExecuteTime": {
     "end_time": "2023-11-06T11:53:15.169758300Z",
     "start_time": "2023-11-06T11:53:15.162357200Z"
    }
   }
  },
  {
   "cell_type": "code",
   "execution_count": 284,
   "outputs": [
    {
     "data": {
      "text/plain": "'The cat sat on the chair.'"
     },
     "execution_count": 284,
     "metadata": {},
     "output_type": "execute_result"
    }
   ],
   "source": [
    "# Capitalize the first letter, strip the leading space, and add a period at the end\n",
    "formatted_decoded_text = decoded_text.strip().capitalize() + '.'\n",
    "\n",
    "formatted_decoded_text"
   ],
   "metadata": {
    "collapsed": false,
    "ExecuteTime": {
     "end_time": "2023-11-06T11:53:17.635587900Z",
     "start_time": "2023-11-06T11:53:17.626622100Z"
    }
   }
  },
  {
   "cell_type": "code",
   "execution_count": 319,
   "outputs": [
    {
     "data": {
      "text/plain": "('The chair lay under the table.',\n '>> THE<< 77.84%,  on 12.90%,  in 6.87%,  under 1.54%,  at 0.84%\\n pickle 26.67%,  boy 23.06%,  cat 21.44%,  dog 12.25%,  mouse 7.03%,  jar 6.31%,  floor 1.44%, >> CHAIR<< 1.26%,  bed 0.18%,  refrigerator 0.18%,  table 0.18%\\n sat 42.86%,  on 28.57%, >> LAY<< 28.57%\\n on 50.00%, >> UNDER<< 50.00%\\n>> THE<< 100.00%\\n>> TABLE<< 100.00%\\n>>.<< 100.00%\\n')"
     },
     "execution_count": 319,
     "metadata": {},
     "output_type": "execute_result"
    }
   ],
   "source": [
    "# Further adjust the function to ensure that the spacing is consistent, even when the first word is selected.\n",
    "def text_predictor_with_consistent_spacing(input_text, probabilities_dict, sequence_length=4):\n",
    "    if len(input_text) < sequence_length:\n",
    "        return \"Input text is too short.\", \"\"\n",
    "\n",
    "    context = input_text[-sequence_length:]\n",
    "    next_char_probs = probabilities_dict.get(context, None)\n",
    "\n",
    "    if not next_char_probs:\n",
    "        return \"Context not found in the probability dictionary.\", \"\"\n",
    "\n",
    "    next_chars = list(next_char_probs.keys())\n",
    "    probabilities = list(next_char_probs.values())\n",
    "    predicted_char = random.choices(next_chars, weights=probabilities, k=1)[0]\n",
    "\n",
    "    # Sort the probabilities in descending order\n",
    "    sorted_probs = sorted(next_char_probs.items(), key=lambda item: item[1], reverse=True)\n",
    "\n",
    "    # Format the probabilities output with consistent spacing\n",
    "    probabilities_output = ', '.join(\n",
    "        f\">>{token_dict.get(char, char).upper()}<< {prob*100:.2f}%\" if char == predicted_char else\n",
    "        f\"{token_dict.get(char, char)} {prob*100:.2f}%\" for char, prob in sorted_probs\n",
    "    )\n",
    "\n",
    "    return probabilities_output, predicted_char\n",
    "\n",
    "def text_generation_with_consistent_spacing(start_text, probabilities_dict, token_dict, end_char='U', sequence_length=4):\n",
    "    generated_text = start_text\n",
    "    output_text = \"\"\n",
    "\n",
    "    while True:\n",
    "        context = generated_text[-sequence_length:]\n",
    "        probabilities_output, next_char = text_predictor_with_consistent_spacing(context, probabilities_dict, sequence_length)\n",
    "\n",
    "        if next_char == end_char:\n",
    "            if len(generated_text) > sequence_length:\n",
    "                generated_text += next_char\n",
    "            output_text += probabilities_output + '\\n'\n",
    "            break\n",
    "\n",
    "        generated_text += next_char\n",
    "        output_text += probabilities_output + '\\n'\n",
    "\n",
    "    generated_text = generated_text.lstrip('U')\n",
    "    decoded_sentence = ''.join([token_dict.get(token, token) for token in generated_text]).strip().capitalize()\n",
    "\n",
    "    if not decoded_sentence.endswith('.'):\n",
    "        decoded_sentence += '.'\n",
    "\n",
    "    return decoded_sentence, output_text\n",
    "\n",
    "# Simulate one iteration of the loop\n",
    "start_text = \"UUUU\"\n",
    "decoded_sentence, output_text = text_generation_with_consistent_spacing(start_text, overlapping_probabilities, token_dict)\n",
    "decoded_sentence, output_text"
   ],
   "metadata": {
    "collapsed": false,
    "ExecuteTime": {
     "end_time": "2023-11-06T12:16:37.463888300Z",
     "start_time": "2023-11-06T12:16:37.456882100Z"
    }
   }
  },
  {
   "cell_type": "code",
   "execution_count": 320,
   "outputs": [
    {
     "name": "stdout",
     "output_type": "stream",
     "text": [
      ">> THE<< 77.84%,  on 12.90%,  in 6.87%,  under 1.54%,  at 0.84%\n",
      " pickle 26.67%,  boy 23.06%,  cat 21.44%,  dog 12.25%,  mouse 7.03%,  jar 6.31%,  floor 1.44%, >> CHAIR<< 1.26%,  bed 0.18%,  refrigerator 0.18%,  table 0.18%\n",
      " sat 42.86%,  on 28.57%, >> LAY<< 28.57%\n",
      " on 50.00%, >> UNDER<< 50.00%\n",
      ">> THE<< 100.00%\n",
      ">> TABLE<< 100.00%\n",
      ">>.<< 100.00%\n",
      "\n"
     ]
    }
   ],
   "source": [
    "print(output_text)"
   ],
   "metadata": {
    "collapsed": false,
    "ExecuteTime": {
     "end_time": "2023-11-06T12:16:38.390287300Z",
     "start_time": "2023-11-06T12:16:38.369273100Z"
    }
   }
  },
  {
   "cell_type": "code",
   "execution_count": 323,
   "outputs": [
    {
     "name": "stdout",
     "output_type": "stream",
     "text": [
      ">> THE<< 77.84%,  on 12.90%,  in 6.87%,  under 1.54%,  at 0.84%\n",
      " pickle 26.67%,  boy 23.06%,  cat 21.44%, >> DOG<< 12.25%,  mouse 7.03%,  jar 6.31%,  floor 1.44%,  chair 1.26%,  bed 0.18%,  refrigerator 0.18%,  table 0.18%\n",
      ">> ON<< 39.71%,  lay 17.65%,  under 16.18%,  chased 11.76%,  ate 7.35%,  sat 7.35%\n",
      ">> THE<< 100.00%\n",
      " floor 51.72%, >> BOY<< 31.03%,  bed 17.24%\n",
      ">> IN<< 33.33%,  on 22.22%, . 22.22%,  lay 11.11%,  under 11.11%\n",
      ">> THE<< 72.73%,  bed 27.27%\n",
      ">> CHAIR<< 59.46%,  bed 40.54%\n",
      ">> ATE<< 27.27%,  at 27.27%,  sat 18.18%,  lay 18.18%, . 9.09%\n",
      " the 66.67%, . 16.67%, >> AT<< 16.67%\n",
      ">> THE<< 100.00%\n",
      ">> TABLE<< 100.00%\n",
      ">>.<< 100.00%\n",
      "\n",
      "The dog on the boy in the chair ate at the table.\n",
      " the 77.84%, >> ON<< 12.90%,  in 6.87%,  under 1.54%,  at 0.84%\n",
      ">> THE<< 100.00%\n",
      " boy 27.17%,  bed 26.09%,  chair 13.04%,  floor 11.96%,  refrigerator 10.87%, >> TABLE<< 10.87%\n",
      " sat 60.00%, >> LAY<< 40.00%\n",
      ". 50.00%, >> THE<< 50.00%\n",
      ">> CAT<< 33.33%,  pickle 33.33%,  dog 16.67%,  jar 8.33%,  mouse 8.33%\n",
      ">>.<< 100.00%\n",
      "\n",
      "On the table lay the cat.\n",
      " the 77.84%,  on 12.90%, >> IN<< 6.87%,  under 1.54%,  at 0.84%\n",
      ">> THE<< 100.00%\n",
      " jar 32.65%, >> PICKLE<< 32.65%,  bed 14.29%,  refrigerator 14.29%,  chair 6.12%\n",
      ">> JAR<< 100.00%\n",
      " on 32.63%, >>.<< 29.47%,  under 24.21%,  in 8.42%,  the 3.16%,  lay 1.05%,  sat 1.05%\n",
      "\n",
      "In the pickle jar.\n",
      ">> THE<< 77.84%,  on 12.90%,  in 6.87%,  under 1.54%,  at 0.84%\n",
      " pickle 26.67%, >> BOY<< 23.06%,  cat 21.44%,  dog 12.25%,  mouse 7.03%,  jar 6.31%,  floor 1.44%,  chair 1.26%,  bed 0.18%,  refrigerator 0.18%,  table 0.18%\n",
      " on 25.00%,  ate 21.09%,  under 17.97%, >> IN<< 15.62%,  at 6.25%,  lay 4.69%,  sat 4.69%,  chased 4.69%\n",
      ">> THE<< 100.00%\n",
      ">> CHAIR<< 59.46%,  bed 40.54%\n",
      ">> ATE<< 27.27%,  at 27.27%,  sat 18.18%,  lay 18.18%, . 9.09%\n",
      " the 66.67%, . 16.67%, >> AT<< 16.67%\n",
      ">> THE<< 100.00%\n",
      ">> TABLE<< 100.00%\n",
      ">>.<< 100.00%\n",
      "\n",
      "The boy in the chair ate at the table.\n"
     ]
    }
   ],
   "source": [
    "# Define a loop that generates sentences, displays the progress, and asks the user whether they want to continue.\n",
    "# The last newline character has been removed as per the request.\n",
    "\n",
    "def interactive_text_generation_loop():\n",
    "    user_input = 'y'\n",
    "    while user_input.lower() == 'y':\n",
    "        start_text = \"UUUU\"\n",
    "        decoded_sentence, output_text = text_generation_with_consistent_spacing(\n",
    "            start_text, overlapping_probabilities, token_dict\n",
    "        )\n",
    "        print(output_text)  # Print the progress with line spacing\n",
    "        print(decoded_sentence)  # Print the output sentence\n",
    "        user_input = input('Do you want to continue? (yes/no): ')  # Ask the user to continue or not\n",
    "\n",
    "# Call the function to start the interactive loop\n",
    "interactive_text_generation_loop()"
   ],
   "metadata": {
    "collapsed": false,
    "ExecuteTime": {
     "end_time": "2023-11-06T12:33:05.731568100Z",
     "start_time": "2023-11-06T12:32:59.353590200Z"
    }
   }
  },
  {
   "cell_type": "markdown",
   "source": [
    "https://chat.openai.com/share/ab0b82d1-a359-48ff-bc13-01ec43594b1e"
   ],
   "metadata": {
    "collapsed": false
   }
  },
  {
   "cell_type": "markdown",
   "source": [],
   "metadata": {
    "collapsed": false
   }
  }
 ],
 "metadata": {
  "kernelspec": {
   "display_name": "Python 3",
   "language": "python",
   "name": "python3"
  },
  "language_info": {
   "codemirror_mode": {
    "name": "ipython",
    "version": 2
   },
   "file_extension": ".py",
   "mimetype": "text/x-python",
   "name": "python",
   "nbconvert_exporter": "python",
   "pygments_lexer": "ipython2",
   "version": "2.7.6"
  }
 },
 "nbformat": 4,
 "nbformat_minor": 0
}
