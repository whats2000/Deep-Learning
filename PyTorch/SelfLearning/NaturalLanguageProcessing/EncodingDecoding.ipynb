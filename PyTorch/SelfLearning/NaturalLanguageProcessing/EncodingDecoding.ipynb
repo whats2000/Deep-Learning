{
 "cells": [
  {
   "cell_type": "code",
   "execution_count": 771,
   "outputs": [
    {
     "data": {
      "text/plain": "{'A': 'at',\n 'B': 'ate',\n 'C': 'bed',\n 'D': 'boy',\n 'E': 'cat',\n 'F': 'chair',\n 'G': 'chased',\n 'H': 'dog',\n 'I': 'floor',\n 'J': 'in',\n 'K': 'jar',\n 'L': 'lay',\n 'M': 'mouse',\n 'N': 'on',\n 'O': 'pickle',\n 'P': 'refrigerator',\n 'Q': 'sat',\n 'R': 'table',\n 'S': 'the',\n 'T': 'under',\n 'U': '.'}"
     },
     "execution_count": 771,
     "metadata": {},
     "output_type": "execute_result"
    }
   ],
   "source": [
    "# Update the code to read the new token file format\n",
    "token_dictionary = {}\n",
    "with open('Resource/tokens.txt', 'r') as f:\n",
    "    lines = f.readlines()\n",
    "    for line in lines:\n",
    "        token, word = line.strip().split(': ')\n",
    "        token = token.strip('\" ')\n",
    "        word = word.strip('\" ')\n",
    "        token_dictionary[token] = word\n",
    "\n",
    "# Test the updated token dictionary\n",
    "token_dictionary"
   ],
   "metadata": {
    "collapsed": false,
    "ExecuteTime": {
     "end_time": "2023-10-30T13:41:50.795685Z",
     "start_time": "2023-10-30T13:41:50.772686400Z"
    }
   }
  },
  {
   "cell_type": "code",
   "execution_count": 772,
   "outputs": [
    {
     "data": {
      "text/plain": "['The boy ate.',\n 'The boy lay.',\n 'The boy sat.',\n 'The cat ate.',\n 'The cat lay.',\n 'The cat sat.',\n 'The dog ate.',\n 'The dog lay.',\n 'The dog sat.',\n 'The jar sat.',\n 'The mouse lay.',\n 'The mouse sat.',\n 'The pickle lay.',\n 'The pickle sat.',\n 'The pickle jar sat.',\n 'The boy ate in bed.',\n 'The boy ate the pickle.',\n 'The boy chased the mouse.',\n 'The cat ate the mouse.',\n 'The cat chased the boy.',\n 'The cat chased the mouse.',\n 'The dog chased the boy.',\n 'The dog chased the cat.',\n 'The dog chased the mouse.',\n 'The mouse chased the boy.',\n 'At the table sat the boy.',\n 'At the table sat the cat.',\n 'In the bed ate the boy.',\n 'On the bed ate the boy.',\n 'The bed sat on the floor.',\n 'The boy at the table ate.',\n 'The boy at the table sat.',\n 'The boy ate at the table.',\n 'The boy ate in the bed.',\n 'The boy ate in the chair.',\n 'The boy in the bed ate.',\n 'The boy in the bed lay.',\n 'The boy in the bed sat.',\n 'The boy in the chair ate.',\n 'The boy in the chair sat.',\n 'The boy on the bed ate.',\n 'The boy on the bed lay.',\n 'The boy on the bed sat.',\n 'The boy on the floor ate.',\n 'The boy on the floor lay.',\n 'The boy on the floor sat.',\n 'The boy sat at the table.',\n 'The boy sat in the bed.',\n 'The boy sat in the chair.',\n 'The boy sat on the bed.',\n 'The boy sat on the chair.',\n 'The boy under the bed ate.',\n 'The boy under the bed lay.',\n 'The boy under the table ate.',\n 'The boy under the table lay.',\n 'The boy under the table sat.',\n 'The cat at the table sat.',\n 'The cat ate on the floor.',\n 'The cat ate on the table.',\n 'The cat ate under the chair.',\n 'The cat ate under the table.',\n 'The cat in the chair sat.',\n 'The cat on the bed lay.',\n 'The cat on the bed sat.',\n 'The cat on the boy lay.',\n 'The cat on the boy sat.',\n 'The cat on the chair lay.',\n 'The cat on the chair sat.',\n 'The cat on the floor ate.',\n 'The cat on the floor lay.',\n 'The cat on the floor sat.',\n 'The cat on the refrigerator lay.',\n 'The cat on the refrigerator sat.',\n 'The cat on the table ate.',\n 'The cat on the table lay.',\n 'The cat on the table sat.',\n 'The cat sat in the bed.',\n 'The cat sat in the chair.',\n 'The cat sat on the bed.',\n 'The cat sat on the boy.',\n 'The cat sat on the chair.',\n 'The cat sat on the floor.',\n 'The cat sat on the refrigerator.',\n 'The cat sat on the table.',\n 'The cat sat under the bed.',\n 'The cat sat under the chair.',\n 'The cat sat under the table.',\n 'The cat under the bed ate.',\n 'The cat under the bed lay.',\n 'The cat under the chair ate.',\n 'The cat under the chair lay.',\n 'The cat under the table ate.',\n 'The cat under the table lay.',\n 'The chair sat at the table.',\n 'The chair sat on the floor.',\n 'The chair sat under the table.',\n 'The dog ate on the floor.',\n 'The dog ate under the chair.',\n 'The dog ate under the table.',\n 'The dog on the bed lay.',\n 'The dog on the bed sat.',\n 'The dog on the boy lay.',\n 'The dog on the floor ate.',\n 'The dog on the floor lay.',\n 'The dog on the floor sat.',\n 'The dog sat in the bed.',\n 'The dog sat on the bed.',\n 'The dog sat on the floor.',\n 'The dog sat under the table.',\n 'The dog under the bed ate.',\n 'The dog under the bed lay.',\n 'The dog under the chair ate.',\n 'The dog under the chair lay.',\n 'The dog under the table ate.',\n 'The dog under the table lay.',\n 'The dog under the table sat.',\n 'The jar in the refrigerator lay.',\n 'The jar in the refrigerator sat.',\n 'The jar on the bed lay.',\n 'The jar on the bed sat.',\n 'The jar on the chair lay.',\n 'The jar on the chair sat.',\n 'The jar on the refrigerator lay.',\n 'The jar on the refrigerator sat.',\n 'The jar on the table lay.',\n 'The jar on the table sat.',\n 'The jar sat in the refrigerator.',\n 'The jar sat on the bed.',\n 'The jar sat on the chair.',\n 'The jar sat on the floor.',\n 'The jar sat on the refrigerator.',\n 'The jar sat on the table.',\n 'The jar sat under the bed.',\n 'The jar sat under the chair.',\n 'The jar sat under the table.',\n 'The mouse on the floor lay.',\n 'The mouse on the floor sat.',\n 'The mouse sat on the floor.',\n 'The mouse sat under the bed.',\n 'The mouse sat under the chair.',\n 'The mouse sat under the refrigerator.',\n 'The mouse sat under the table.',\n 'The mouse under the bed lay.',\n 'The mouse under the bed sat.',\n 'The mouse under the chair lay.',\n 'The mouse under the chair sat.',\n 'The mouse under the refrigerator lay.',\n 'The mouse under the refrigerator sat.',\n 'The mouse under the table lay.',\n 'The mouse under the table sat.',\n 'The pickle on the bed lay.',\n 'The pickle on the chair lay.',\n 'The pickle on the chair sat.',\n 'The pickle on the floor lay.',\n 'The pickle on the refrigerator lay.',\n 'The pickle on the refrigerator sat.',\n 'The pickle on the table lay.',\n 'The pickle on the table sat.',\n 'The pickle sat in the jar.',\n 'The pickle sat in the refrigerator.',\n 'The pickle under the bed lay.',\n 'The pickle under the chair lay.',\n 'The pickle under the table lay.',\n 'The refrigerator sat on the floor.',\n 'The table sat on the floor.',\n 'The boy ate the pickle in bed.',\n 'The pickle jar in the refrigerator lay.',\n 'The pickle jar in the refrigerator sat.',\n 'The pickle jar on the bed lay.',\n 'The pickle jar on the bed sat.',\n 'The pickle jar on the chair lay.',\n 'The pickle jar on the chair sat.',\n 'The pickle jar on the refrigerator lay.',\n 'The pickle jar on the refrigerator sat.',\n 'The pickle jar on the table lay.',\n 'The pickle jar on the table sat.',\n 'The pickle jar sat in the refrigerator.',\n 'The pickle jar sat on the bed.',\n 'The pickle jar sat on the chair.',\n 'The pickle jar sat on the floor.',\n 'The pickle jar sat on the refrigerator.',\n 'The pickle jar sat on the table.',\n 'The pickle jar sat under the bed.',\n 'The pickle jar sat under the chair.',\n 'The pickle jar sat under the table.',\n 'In the bed the boy ate the pickle.',\n 'On the bed the boy ate the pickle.',\n 'The boy at the table ate the pickle.',\n 'The boy ate the pickle at the table.',\n 'The boy ate the pickle in the bed.',\n 'The boy ate the pickle in the jar.',\n 'The boy ate the pickle in the refrigerator.',\n 'The boy ate the pickle on the table.',\n 'The boy chased the mouse on the floor.',\n 'The boy chased the mouse under the bed.',\n 'The boy chased the mouse under the chair.',\n 'The boy chased the mouse under the refrigerator.',\n 'The boy chased the mouse under the table.',\n 'The boy in the bed ate the pickle.',\n 'The boy in the chair ate the pickle.',\n 'The boy on the bed ate the pickle.',\n 'The boy on the floor ate the pickle.',\n 'The boy on the floor chased the mouse.',\n 'The boy under the table ate the pickle.',\n 'The cat ate the mouse on the floor.',\n 'The cat ate the mouse under the chair.',\n 'The cat ate the mouse under the table.',\n 'The cat chased the boy on the floor.',\n 'The cat chased the mouse on the floor.',\n 'The cat chased the mouse under the bed.',\n 'The cat chased the mouse under the chair.',\n 'The cat chased the mouse under the refrigerator.',\n 'The cat chased the mouse under the table.',\n 'The cat on the boy in bed lay.',\n 'The cat on the boy in bed sat.',\n 'The cat on the floor ate the mouse.',\n 'The cat on the floor chased the boy.',\n 'The cat on the floor chased the mouse.',\n 'The cat under the bed chased the mouse.',\n 'The cat under the chair ate the mouse.',\n 'The cat under the chair chased the mouse.',\n 'The cat under the table ate the mouse.',\n 'The cat under the table chased the mouse.',\n 'The dog chased the cat under the bed.',\n 'The dog chased the cat under the table.',\n 'The dog chased the mouse under the bed.',\n 'The dog chased the mouse under the refrigerator.',\n 'The dog chased the mouse under the table.',\n 'The dog on the boy in bed lay.',\n 'The dog on the floor chased the boy.',\n 'The dog on the floor chased the cat.',\n 'The dog on the floor chased the mouse.',\n 'The mouse chased the boy on the floor.',\n 'The mouse on the floor chased the boy.',\n 'At the table sat the boy in the chair.',\n 'At the table sat the boy on the chair.',\n 'At the table sat the cat in the chair.',\n 'At the table sat the cat on the chair.',\n 'The boy at the table sat in the chair.',\n 'The boy at the table sat on the chair.',\n 'The boy in the chair at the table ate.',\n 'The boy in the chair at the table sat.',\n 'The boy in the chair ate at the table.',\n 'The boy in the chair sat at the table.',\n 'The boy under the table sat on the floor.',\n 'The cat at the table sat in the chair.',\n 'The cat at the table sat on the chair.',\n 'The cat on the boy in the bed lay.',\n 'The cat on the boy in the bed sat.',\n 'The cat on the boy in the chair lay.',\n 'The cat on the boy in the chair sat.',\n 'The cat on the boy on the bed lay.',\n 'The cat on the boy on the bed sat.',\n 'The cat on the boy on the floor lay.',\n 'The cat on the boy on the floor sat.',\n 'The cat on the boy under the bed lay.',\n 'The cat on the boy under the bed sat.',\n 'The cat on the boy under the table lay.',\n 'The cat on the boy under the table sat.',\n 'The cat on the floor ate under the table.',\n 'The cat on the floor sat under the bed.',\n 'The cat on the floor sat under the table.',\n 'The cat sat under the bed on the floor.',\n 'The cat sat under the bed under the table.',\n 'The cat sat under the table on the floor.',\n 'The cat under the bed sat on the floor.',\n 'The cat under the chair sat on the floor.',\n 'The cat under the table sat on the floor.',\n 'The chair on the floor sat under the table.',\n 'The dog on the boy in the bed lay.',\n 'The dog on the boy in the chair lay.',\n 'The dog on the boy on the bed lay.',\n 'The dog on the boy on the floor lay.',\n 'The dog on the boy under the table lay.',\n 'The dog on the floor ate under the table.',\n 'The dog on the floor sat under the table.',\n 'The dog under the table sat on the floor.',\n 'The jar on the floor sat under the bed.',\n 'The jar on the floor sat under the chair.',\n 'The jar on the floor sat under the table.',\n 'The mouse on the floor sat under the bed.',\n 'The mouse on the floor sat under the refrigerator.',\n 'The mouse on the floor sat under the table.',\n 'The mouse under the bed sat on the floor.',\n 'The mouse under the chair sat on the floor.',\n 'The mouse under the refrigerator sat on the floor.',\n 'The mouse under the table sat on the floor.',\n 'The pickle in the jar in the refrigerator lay.',\n 'The pickle in the jar in the refrigerator sat.',\n 'The pickle in the jar on the bed lay.',\n 'The pickle in the jar on the bed sat.',\n 'The pickle in the jar on the chair lay.',\n 'The pickle in the jar on the chair sat.',\n 'The pickle in the jar on the refrigerator lay.',\n 'The pickle in the jar on the refrigerator sat.',\n 'The pickle in the jar on the table lay.',\n 'The pickle in the jar on the table sat.',\n 'The pickle on the bed sat in the jar.',\n 'The pickle on the floor sat in the jar.',\n 'The pickle sat in the jar in the refrigerator.',\n 'The pickle sat in the jar on the bed.',\n 'The pickle sat in the jar on the chair.',\n 'The pickle sat in the jar on the floor.',\n 'The pickle sat in the jar on the table.',\n 'The pickle sat in the jar under the bed.',\n 'The pickle sat in the jar under the chair.',\n 'The pickle sat in the jar under the table.',\n 'The pickle under the bed sat in the jar.',\n 'The pickle under the chair sat in the jar.',\n 'The pickle under the table sat in the jar.',\n 'The pickle jar on the floor sat under the bed.',\n 'The pickle jar on the floor sat under the chair.',\n 'The pickle jar on the floor sat under the table.',\n 'In the bed lay the boy.',\n 'In the bed sat the boy.',\n 'In the bed the boy ate the pickle in the jar.',\n 'In the chair sat the cat.',\n 'In the jar lay the pickle.',\n 'In the jar sat the pickle.',\n 'In the refrigerator lay the jar.',\n 'In the refrigerator sat the jar.',\n 'In the refrigerator sat the pickle.',\n 'On the bed lay the boy.',\n 'On the bed lay the cat.',\n 'On the bed lay the dog.',\n 'On the bed lay the jar.',\n 'On the bed lay the pickle.',\n 'On the bed sat the boy.',\n 'On the bed sat the cat.',\n 'On the bed sat the dog.',\n 'On the bed sat the jar.',\n 'On the bed sat the pickle.',\n 'On the bed the boy ate the pickle in the jar.',\n 'On the boy lay the cat.',\n 'On the boy lay the dog.',\n 'On the boy sat the cat.',\n 'On the chair lay the cat.',\n 'On the chair lay the jar.',\n 'On the chair lay the pickle.',\n 'On the chair sat the cat.',\n 'On the chair sat the jar.',\n 'On the chair sat the pickle.',\n 'On the floor lay the cat.',\n 'On the floor lay the dog.',\n 'On the floor lay the mouse.',\n 'On the floor sat the cat.',\n 'On the floor sat the dog.',\n 'On the floor sat the jar.',\n 'On the floor sat the mouse.',\n 'On the floor sat the pickle.',\n 'On the refrigerator lay the cat.',\n 'On the refrigerator lay the jar.',\n 'On the refrigerator lay the pickle.',\n 'On the refrigerator sat the cat.',\n 'On the refrigerator sat the jar.',\n 'On the refrigerator sat the pickle.',\n 'On the table lay the cat.',\n 'On the table lay the jar.',\n 'On the table lay the pickle.',\n 'On the table sat the cat.',\n 'On the table sat the jar.',\n 'On the table sat the pickle.',\n 'The boy at the table ate the pickle in the jar.',\n 'The boy at the table ate the pickle on the table.',\n 'The boy ate the pickle in the jar in the refrigerator.',\n 'The boy ate the pickle in the jar on the chair.',\n 'The boy ate the pickle in the jar on the floor.',\n 'The boy ate the pickle in the jar on the table.',\n 'The boy ate the pickle in the jar under the chair.',\n 'The boy ate the pickle in the jar under the table.',\n 'The boy in the bed ate the pickle in the jar.',\n 'The boy in the chair at the table ate the pickle.',\n 'The boy in the chair ate the pickle in the jar.',\n 'The boy in the chair ate the pickle on the table.',\n 'The boy lay in the bed.',\n 'The boy lay on the bed.',\n 'The boy lay on the floor.',\n 'The boy lay under the bed.',\n 'The boy lay under the table.',\n 'The boy on the bed ate the pickle in the jar.',\n 'The boy on the floor ate the pickle in the jar.',\n 'The boy on the floor ate the pickle in the refrigerator.',\n 'The boy on the floor ate the pickle under the chair.',\n 'The boy on the floor ate the pickle under the table.',\n 'The boy on the floor chased the mouse under the bed.',\n 'The boy on the floor chased the mouse under the refrigerator.',\n 'The boy on the floor chased the mouse under the table.',\n 'The boy under the table ate the pickle in the jar.',\n 'The cat ate under the bed.',\n 'The cat lay in the bed.',\n 'The cat lay in the chair.',\n 'The cat lay on the bed.',\n 'The cat lay on the boy.',\n 'The cat lay on the chair.',\n 'The cat lay on the floor.',\n 'The cat lay on the table.',\n 'The cat lay under the bed.',\n 'The cat lay under the chair.',\n 'The cat lay under the table.',\n 'The cat on the floor ate the mouse under the table.',\n 'The cat on the floor chased the mouse under the bed.',\n 'The cat on the floor chased the mouse under the refrigerator.',\n 'The cat on the floor chased the mouse under the table.',\n 'The chair lay on the floor.',\n 'The chair lay under the table.',\n 'The dog ate under the bed.',\n 'The dog lay in the bed.',\n 'The dog lay on the bed.',\n 'The dog lay on the boy.',\n 'The dog lay on the floor.',\n 'The dog lay under the bed.',\n 'The dog lay under the chair.',\n 'The dog lay under the table.',\n 'The dog on the floor chased the cat under the bed.',\n 'The dog on the floor chased the cat under the table.',\n 'The dog on the floor chased the mouse under the bed.',\n 'The dog on the floor chased the mouse under the refrigerator.',\n 'The dog on the floor chased the mouse under the table.',\n 'The floor lay under the bed.',\n 'The floor lay under the boy.',\n 'The floor lay under the cat.',\n 'The floor lay under the chair.',\n 'The floor lay under the dog.',\n 'The floor lay under the mouse.',\n 'The floor lay under the refrigerator.',\n 'The floor lay under the table.',\n 'The jar lay in the refrigerator.',\n 'The jar lay on the bed.',\n 'The jar lay on the chair.',\n 'The jar lay on the floor.',\n 'The jar lay on the refrigerator.',\n 'The jar lay on the table.',\n 'The jar lay under the bed.',\n 'The jar lay under the chair.',\n 'The jar lay under the table.',\n 'The mouse lay on the floor.',\n 'The mouse lay under the bed.',\n 'The mouse lay under the chair.',\n 'The mouse lay under the refrigerator.',\n 'The mouse lay under the table.',\n 'The pickle lay in the jar.',\n 'The pickle lay in the refrigerator.',\n 'The pickle lay on the bed.',\n 'The pickle lay on the chair.',\n 'The pickle lay on the refrigerator.',\n 'The pickle lay on the table.',\n 'The pickle lay under the bed.',\n 'The pickle lay under the chair.',\n 'The pickle lay under the refrigerator.',\n 'Under the table lay the cat.',\n 'Under the table lay the dog.',\n 'Under the table lay the mouse.',\n 'Under the table sat the cat.',\n 'Under the table sat the dog.',\n 'Under the table sat the jar.',\n 'Under the table sat the mouse.',\n 'Under the table sat the pickle.',\n 'In the pickle jar lay the pickle.',\n 'In the pickle jar sat the pickle.',\n 'In the refrigerator lay the pickle jar.',\n 'In the refrigerator sat the pickle jar.',\n 'On the bed lay the pickle jar.',\n 'On the bed sat the pickle jar.',\n 'On the chair lay the pickle jar.',\n 'On the chair sat the pickle jar.',\n 'On the floor sat the pickle jar.',\n 'On the refrigerator lay the pickle jar.',\n 'On the refrigerator sat the pickle jar.',\n 'On the table lay the pickle jar.',\n 'On the table sat the pickle jar.',\n 'The cat on the floor sat under the bed on the floor.',\n 'The cat on the floor sat under the table on the floor.',\n 'The pickle jar lay in the refrigerator.',\n 'The pickle jar lay on the bed.',\n 'The pickle jar lay on the chair.',\n 'The pickle jar lay on the floor.',\n 'The pickle jar lay on the refrigerator.',\n 'The pickle jar lay on the table.',\n 'The pickle jar lay under the bed.',\n 'The pickle jar lay under the chair.',\n 'The pickle jar lay under the table.',\n 'The pickle on the floor sat in the jar under the bed.',\n 'The pickle on the floor sat in the jar under the chair.',\n 'The pickle on the floor sat in the jar under the table.',\n 'The pickle sat in the pickle jar.',\n 'Under the table sat the pickle jar.',\n 'On the boy in bed lay the cat.',\n 'On the boy in bed lay the dog.',\n 'On the boy in bed sat the cat.',\n 'The boy under the bed ate the pickle.',\n 'The cat ate the mouse under the bed.',\n 'The cat under the bed ate the mouse.',\n 'In the bed lay the dog on the boy.',\n 'In the chair at the table sat the boy.',\n 'In the chair at the table sat the cat.',\n 'In the jar in the refrigerator lay the pickle.',\n 'In the jar in the refrigerator sat the pickle.',\n 'In the jar on the bed lay the pickle.',\n 'In the jar on the bed sat the pickle.',\n 'In the jar on the chair lay the pickle.',\n 'In the jar on the chair sat the pickle.',\n 'In the jar on the floor sat the pickle.',\n 'In the jar on the refrigerator lay the pickle.',\n 'In the jar on the refrigerator sat the pickle.',\n 'In the jar on the table lay the pickle.',\n 'In the jar on the table sat the pickle.',\n 'In the jar under the bed sat the pickle.',\n 'In the jar under the chair sat the pickle.',\n 'In the jar under the table sat the pickle.',\n 'In the refrigerator sat the pickle in the jar.',\n 'On the bed lay the dog on the boy.',\n 'On the bed lay the pickle in the jar.',\n 'On the bed sat the pickle in the jar.',\n 'On the boy at the table lay the cat.',\n 'On the boy at the table sat the cat.',\n 'On the boy in the bed lay the cat.',\n 'On the boy in the bed lay the dog.',\n 'On the boy in the bed sat the cat.',\n 'On the boy in the chair lay the cat.',\n 'On the boy in the chair lay the dog.',\n 'On the boy in the chair sat the cat.',\n 'On the boy on the bed lay the cat.',\n 'On the boy on the bed lay the dog.',\n 'On the boy on the bed sat the cat.',\n 'On the boy on the floor lay the cat.',\n 'On the boy on the floor lay the dog.',\n 'On the boy on the floor sat the cat.',\n 'On the boy under the bed lay the cat.',\n 'On the boy under the bed sat the cat.',\n 'On the boy under the table lay the cat.',\n 'On the boy under the table lay the dog.',\n 'On the boy under the table sat the cat.',\n 'On the chair at the table sat the boy.',\n 'On the chair at the table sat the cat.',\n 'On the chair sat the pickle in the jar.',\n 'On the floor sat the pickle in the jar.',\n 'On the refrigerator sat the pickle in the jar.',\n 'On the table sat the pickle in the jar.',\n 'The boy at the table ate the pickle in the jar on the table.',\n 'The boy ate the pickle in the pickle jar.',\n 'The boy in the chair at the table ate the pickle in the jar.',\n 'The boy in the chair at the table ate the pickle on the table.',\n 'The boy in the chair ate the pickle in the jar on the table.',\n 'The boy on the floor ate the pickle in the jar in the refrigerator.',\n 'The boy on the floor ate the pickle in the jar on the floor.',\n 'The boy on the floor ate the pickle in the jar under the chair.',\n 'The boy on the floor ate the pickle in the jar under the table.',\n 'The boy on the floor lay under the bed.',\n 'The boy on the floor lay under the table.',\n 'The boy under the bed lay on the floor.',\n 'The boy under the table ate the pickle in the jar on the floor.',\n 'The boy under the table ate the pickle in the jar under the table.',\n 'The boy under the table lay on the floor.',\n 'The cat lay on the boy at the table.',\n 'The cat lay on the boy in the chair.',\n 'The cat lay on the boy on the floor.',\n 'The cat lay on the boy under the bed.',\n 'The cat lay on the boy under the table.',\n 'The cat on the bed lay on the boy.',\n 'The cat on the floor ate under the bed.',\n 'The cat on the floor lay under the bed.',\n 'The cat on the floor lay under the table.',\n 'The cat under the bed lay on the floor.',\n 'The cat under the chair lay on the floor.',\n 'The cat under the table lay on the floor.',\n 'The chair on the floor lay under the table.',\n 'The dog lay on the boy in the bed.',\n 'The dog lay on the boy on the bed.',\n 'The dog lay on the boy on the floor.',\n 'The dog lay on the boy under the table.',\n 'The dog on the bed lay on the boy.',\n 'The dog on the floor lay under the bed.',\n 'The dog on the floor lay under the table.',\n 'The dog under the bed lay on the floor.',\n 'The dog under the chair lay on the floor.',\n 'The dog under the table lay on the floor.',\n 'The jar on the floor lay under the bed.',\n 'The jar on the floor lay under the chair.',\n 'The jar on the floor lay under the table.',\n 'The mouse on the floor lay under the bed.',\n 'The mouse on the floor lay under the refrigerator.',\n 'The mouse on the floor lay under the table.',\n 'The mouse under the bed lay on the floor.',\n 'The mouse under the chair lay on the floor.',\n 'The mouse under the refrigerator lay on the floor.',\n 'The mouse under the table lay on the floor.',\n 'The pickle lay in the jar in the refrigerator.',\n 'The pickle lay in the jar on the bed.',\n 'The pickle lay in the jar on the chair.',\n 'The pickle lay in the jar on the floor.',\n 'The pickle lay in the jar on the table.',\n 'The pickle lay in the jar under the bed.',\n 'The pickle lay in the jar under the chair.',\n 'The pickle lay in the jar under the table.',\n 'The pickle on the bed lay in the jar.',\n 'The pickle on the floor lay in the jar.',\n 'The pickle on the floor lay under the bed.',\n 'The pickle on the floor lay under the chair.',\n 'The pickle on the floor lay under the refrigerator.',\n 'The pickle under the bed lay in the jar.',\n 'The pickle under the chair lay in the jar.',\n 'The pickle under the table lay in the jar.',\n 'Under the table sat the pickle in the jar.',\n 'In the pickle jar in the refrigerator lay the pickle.',\n 'In the pickle jar in the refrigerator sat the pickle.',\n 'In the pickle jar on the bed lay the pickle.',\n 'In the pickle jar on the bed sat the pickle.',\n 'In the pickle jar on the chair lay the pickle.',\n 'In the pickle jar on the chair sat the pickle.',\n 'In the pickle jar on the floor sat the pickle.',\n 'In the pickle jar on the refrigerator lay the pickle.',\n 'In the pickle jar on the refrigerator sat the pickle.',\n 'In the pickle jar on the table lay the pickle.',\n 'In the pickle jar on the table sat the pickle.',\n 'In the pickle jar under the bed sat the pickle.',\n 'In the pickle jar under the chair sat the pickle.',\n 'In the pickle jar under the table sat the pickle.',\n 'The pickle in the pickle jar in the refrigerator lay.',\n 'The pickle in the pickle jar in the refrigerator sat.',\n 'The pickle in the pickle jar on the bed lay.',\n 'The pickle in the pickle jar on the bed sat.',\n 'The pickle in the pickle jar on the chair lay.',\n 'The pickle in the pickle jar on the chair sat.',\n 'The pickle in the pickle jar on the refrigerator lay.',\n 'The pickle in the pickle jar on the refrigerator sat.',\n 'The pickle in the pickle jar on the table lay.',\n 'The pickle in the pickle jar on the table sat.',\n 'The pickle jar on the floor lay under the bed.',\n 'The pickle jar on the floor lay under the chair.',\n 'The pickle jar on the floor lay under the table.',\n 'The pickle on the bed sat in the pickle jar.',\n 'The pickle on the floor sat in the pickle jar.',\n 'The pickle sat in the pickle jar in the refrigerator.',\n 'The pickle sat in the pickle jar on the bed.',\n 'The pickle sat in the pickle jar on the chair.',\n 'The pickle sat in the pickle jar on the floor.',\n 'The pickle sat in the pickle jar on the table.',\n 'The pickle sat in the pickle jar under the bed.',\n 'The pickle sat in the pickle jar under the chair.',\n 'The pickle sat in the pickle jar under the table.',\n 'The pickle under the bed sat in the pickle jar.',\n 'The pickle under the chair sat in the pickle jar.',\n 'The pickle under the table sat in the pickle jar.',\n 'The boy ate the pickle in the jar under the bed.',\n 'The boy on the floor ate the pickle under the bed.',\n 'The boy under the bed ate the pickle in the jar.',\n 'The cat on the floor ate the mouse under the bed.',\n 'In the bed the boy ate the pickle in the pickle jar.',\n 'On the bed ate the pickle in the pickle jar the boy.',\n 'On the bed the boy ate the pickle in the pickle jar.',\n 'The boy ate the pickle in the pickle jar in the refrigerator.',\n 'The boy ate the pickle in the pickle jar on the chair.',\n 'The boy ate the pickle in the pickle jar on the floor.',\n 'The boy ate the pickle in the pickle jar on the table.',\n 'The boy ate the pickle in the pickle jar under the bed.',\n 'The boy ate the pickle in the pickle jar under the chair.',\n 'The boy ate the pickle in the pickle jar under the table.',\n 'The boy in the bed ate the pickle in the pickle jar.',\n 'The boy in the chair at the table ate the pickle in the jar on the table.',\n 'The boy on the bed ate the pickle in the pickle jar.',\n 'The boy on the floor ate the pickle in the pickle jar.',\n 'The boy under the bed ate the pickle in the pickle jar.',\n 'The boy under the table ate the pickle in the pickle jar.',\n 'The cat on the bed lay on the boy in the bed.',\n 'The cat on the bed lay on the boy on the bed.',\n 'The dog on the bed lay on the boy in the bed.',\n 'The dog on the bed lay on the boy on the bed.',\n 'The pickle lay in the pickle jar.',\n 'The pickle on the floor lay in the jar under the bed.',\n 'The pickle on the floor lay in the jar under the chair.',\n 'The pickle on the floor lay in the jar under the table.',\n 'The pickle on the floor sat in the pickle jar under the bed.',\n 'The pickle on the floor sat in the pickle jar under the chair.',\n 'The pickle on the floor sat in the pickle jar under the table.',\n 'The boy on the floor ate the pickle in the jar under the bed.',\n 'The boy under the bed ate the pickle in the jar on the floor.',\n 'The boy under the bed ate the pickle in the jar under the bed.',\n 'The boy under the bed ate the pickle in the jar under the table.',\n 'In the refrigerator sat the pickle in the pickle jar.',\n 'On the bed lay in the pickle jar the pickle.',\n 'On the bed lay the pickle in the pickle jar.',\n 'On the bed sat in the pickle jar the pickle.',\n 'On the bed sat the pickle in the pickle jar.',\n 'On the chair sat the pickle in the pickle jar.',\n 'On the floor sat the pickle in the pickle jar.',\n 'On the refrigerator sat the pickle in the pickle jar.',\n 'On the table sat the pickle in the pickle jar.',\n 'The boy on the floor ate the pickle in the pickle jar in the refrigerator.',\n 'The boy on the floor ate the pickle in the pickle jar on the floor.',\n 'The boy on the floor ate the pickle in the pickle jar under the bed.',\n 'The boy on the floor ate the pickle in the pickle jar under the chair.',\n 'The boy on the floor ate the pickle in the pickle jar under the table.',\n 'The boy under the bed ate the pickle in the pickle jar on the floor.',\n 'The boy under the bed ate the pickle in the pickle jar under the bed.',\n 'The boy under the table ate the pickle in the pickle jar on the floor.',\n 'The boy under the table ate the pickle in the pickle jar under the table.',\n 'The pickle lay in the pickle jar in the refrigerator.',\n 'The pickle lay in the pickle jar on the bed.',\n 'The pickle lay in the pickle jar on the chair.',\n 'The pickle lay in the pickle jar on the floor.',\n 'The pickle lay in the pickle jar on the table.',\n 'The pickle lay in the pickle jar under the bed.',\n 'The pickle lay in the pickle jar under the chair.',\n 'The pickle lay in the pickle jar under the table.',\n 'The pickle on the bed lay in the pickle jar.',\n 'The pickle on the floor lay in the pickle jar.',\n 'The pickle under the bed lay in the pickle jar.',\n 'The pickle under the chair lay in the pickle jar.',\n 'The pickle under the table lay in the pickle jar.',\n 'Under the table sat the pickle in the pickle jar.',\n 'The pickle on the floor lay in the pickle jar under the bed.',\n 'The pickle on the floor lay in the pickle jar under the chair.',\n 'The pickle on the floor lay in the pickle jar under the table.']"
     },
     "execution_count": 772,
     "metadata": {},
     "output_type": "execute_result"
    }
   ],
   "source": [
    "# Reading the file into a 'pandas' Series\n",
    "file_path = 'Resource/sentences.txt'\n",
    "\n",
    "# Reading the file line by line to treat each line as a tokenized sentence\n",
    "with open(file_path, 'r') as f:\n",
    "    sentences = f.readlines()\n",
    "\n",
    "# Remove newline characters\n",
    "sentences = [sentence.strip() for sentence in sentences]\n",
    "\n",
    "# Display the first few sentences for verification\n",
    "sentences"
   ],
   "metadata": {
    "collapsed": false,
    "ExecuteTime": {
     "end_time": "2023-10-30T13:41:55.266730600Z",
     "start_time": "2023-10-30T13:41:55.255089500Z"
    }
   }
  },
  {
   "cell_type": "code",
   "execution_count": 773,
   "outputs": [],
   "source": [
    "def convert_sentences_to_tokens(sentences_list: list, token_dict: dict) -> list:\n",
    "    convert_token_arrays = []\n",
    "    reversed_token_dict = {v: k for k, v in token_dict.items()}  # Reverse the token dictionary for look-up\n",
    "\n",
    "    for sentence in sentences_list:\n",
    "        token_array = []\n",
    "        words = sentence.split()\n",
    "\n",
    "        for w in words:\n",
    "            clean_word = w.lower().rstrip('.')\n",
    "            t = reversed_token_dict.get(clean_word)  # Remove a trailing period and convert to lowercase\n",
    "            if t:\n",
    "                token_array.append(t)\n",
    "            else:\n",
    "                token_array.append(\"[Unknown]\")\n",
    "\n",
    "        # Add the 'U' token for the period at the end of the sentence, if applicable\n",
    "        if sentence.endswith('.'):\n",
    "            token_array.append('U')\n",
    "\n",
    "        convert_token_arrays.append(token_array)\n",
    "\n",
    "    return convert_token_arrays"
   ],
   "metadata": {
    "collapsed": false,
    "ExecuteTime": {
     "end_time": "2023-10-30T13:42:01.076467600Z",
     "start_time": "2023-10-30T13:42:01.069005900Z"
    }
   }
  },
  {
   "cell_type": "code",
   "execution_count": 774,
   "outputs": [
    {
     "data": {
      "text/plain": "[['S', 'D', 'B', 'U'],\n ['S', 'D', 'L', 'U'],\n ['S', 'D', 'Q', 'U'],\n ['S', 'E', 'B', 'U'],\n ['S', 'E', 'L', 'U'],\n ['S', 'E', 'Q', 'U'],\n ['S', 'H', 'B', 'U'],\n ['S', 'H', 'L', 'U'],\n ['S', 'H', 'Q', 'U'],\n ['S', 'K', 'Q', 'U'],\n ['S', 'M', 'L', 'U'],\n ['S', 'M', 'Q', 'U'],\n ['S', 'O', 'L', 'U'],\n ['S', 'O', 'Q', 'U'],\n ['S', 'O', 'K', 'Q', 'U'],\n ['S', 'D', 'B', 'J', 'C', 'U'],\n ['S', 'D', 'B', 'S', 'O', 'U'],\n ['S', 'D', 'G', 'S', 'M', 'U'],\n ['S', 'E', 'B', 'S', 'M', 'U'],\n ['S', 'E', 'G', 'S', 'D', 'U'],\n ['S', 'E', 'G', 'S', 'M', 'U'],\n ['S', 'H', 'G', 'S', 'D', 'U'],\n ['S', 'H', 'G', 'S', 'E', 'U'],\n ['S', 'H', 'G', 'S', 'M', 'U'],\n ['S', 'M', 'G', 'S', 'D', 'U'],\n ['A', 'S', 'R', 'Q', 'S', 'D', 'U'],\n ['A', 'S', 'R', 'Q', 'S', 'E', 'U'],\n ['J', 'S', 'C', 'B', 'S', 'D', 'U'],\n ['N', 'S', 'C', 'B', 'S', 'D', 'U'],\n ['S', 'C', 'Q', 'N', 'S', 'I', 'U'],\n ['S', 'D', 'A', 'S', 'R', 'B', 'U'],\n ['S', 'D', 'A', 'S', 'R', 'Q', 'U'],\n ['S', 'D', 'B', 'A', 'S', 'R', 'U'],\n ['S', 'D', 'B', 'J', 'S', 'C', 'U'],\n ['S', 'D', 'B', 'J', 'S', 'F', 'U'],\n ['S', 'D', 'J', 'S', 'C', 'B', 'U'],\n ['S', 'D', 'J', 'S', 'C', 'L', 'U'],\n ['S', 'D', 'J', 'S', 'C', 'Q', 'U'],\n ['S', 'D', 'J', 'S', 'F', 'B', 'U'],\n ['S', 'D', 'J', 'S', 'F', 'Q', 'U'],\n ['S', 'D', 'N', 'S', 'C', 'B', 'U'],\n ['S', 'D', 'N', 'S', 'C', 'L', 'U'],\n ['S', 'D', 'N', 'S', 'C', 'Q', 'U'],\n ['S', 'D', 'N', 'S', 'I', 'B', 'U'],\n ['S', 'D', 'N', 'S', 'I', 'L', 'U'],\n ['S', 'D', 'N', 'S', 'I', 'Q', 'U'],\n ['S', 'D', 'Q', 'A', 'S', 'R', 'U'],\n ['S', 'D', 'Q', 'J', 'S', 'C', 'U'],\n ['S', 'D', 'Q', 'J', 'S', 'F', 'U'],\n ['S', 'D', 'Q', 'N', 'S', 'C', 'U'],\n ['S', 'D', 'Q', 'N', 'S', 'F', 'U'],\n ['S', 'D', 'T', 'S', 'C', 'B', 'U'],\n ['S', 'D', 'T', 'S', 'C', 'L', 'U'],\n ['S', 'D', 'T', 'S', 'R', 'B', 'U'],\n ['S', 'D', 'T', 'S', 'R', 'L', 'U'],\n ['S', 'D', 'T', 'S', 'R', 'Q', 'U'],\n ['S', 'E', 'A', 'S', 'R', 'Q', 'U'],\n ['S', 'E', 'B', 'N', 'S', 'I', 'U'],\n ['S', 'E', 'B', 'N', 'S', 'R', 'U'],\n ['S', 'E', 'B', 'T', 'S', 'F', 'U'],\n ['S', 'E', 'B', 'T', 'S', 'R', 'U'],\n ['S', 'E', 'J', 'S', 'F', 'Q', 'U'],\n ['S', 'E', 'N', 'S', 'C', 'L', 'U'],\n ['S', 'E', 'N', 'S', 'C', 'Q', 'U'],\n ['S', 'E', 'N', 'S', 'D', 'L', 'U'],\n ['S', 'E', 'N', 'S', 'D', 'Q', 'U'],\n ['S', 'E', 'N', 'S', 'F', 'L', 'U'],\n ['S', 'E', 'N', 'S', 'F', 'Q', 'U'],\n ['S', 'E', 'N', 'S', 'I', 'B', 'U'],\n ['S', 'E', 'N', 'S', 'I', 'L', 'U'],\n ['S', 'E', 'N', 'S', 'I', 'Q', 'U'],\n ['S', 'E', 'N', 'S', 'P', 'L', 'U'],\n ['S', 'E', 'N', 'S', 'P', 'Q', 'U'],\n ['S', 'E', 'N', 'S', 'R', 'B', 'U'],\n ['S', 'E', 'N', 'S', 'R', 'L', 'U'],\n ['S', 'E', 'N', 'S', 'R', 'Q', 'U'],\n ['S', 'E', 'Q', 'J', 'S', 'C', 'U'],\n ['S', 'E', 'Q', 'J', 'S', 'F', 'U'],\n ['S', 'E', 'Q', 'N', 'S', 'C', 'U'],\n ['S', 'E', 'Q', 'N', 'S', 'D', 'U'],\n ['S', 'E', 'Q', 'N', 'S', 'F', 'U'],\n ['S', 'E', 'Q', 'N', 'S', 'I', 'U'],\n ['S', 'E', 'Q', 'N', 'S', 'P', 'U'],\n ['S', 'E', 'Q', 'N', 'S', 'R', 'U'],\n ['S', 'E', 'Q', 'T', 'S', 'C', 'U'],\n ['S', 'E', 'Q', 'T', 'S', 'F', 'U'],\n ['S', 'E', 'Q', 'T', 'S', 'R', 'U'],\n ['S', 'E', 'T', 'S', 'C', 'B', 'U'],\n ['S', 'E', 'T', 'S', 'C', 'L', 'U'],\n ['S', 'E', 'T', 'S', 'F', 'B', 'U'],\n ['S', 'E', 'T', 'S', 'F', 'L', 'U'],\n ['S', 'E', 'T', 'S', 'R', 'B', 'U'],\n ['S', 'E', 'T', 'S', 'R', 'L', 'U'],\n ['S', 'F', 'Q', 'A', 'S', 'R', 'U'],\n ['S', 'F', 'Q', 'N', 'S', 'I', 'U'],\n ['S', 'F', 'Q', 'T', 'S', 'R', 'U'],\n ['S', 'H', 'B', 'N', 'S', 'I', 'U'],\n ['S', 'H', 'B', 'T', 'S', 'F', 'U'],\n ['S', 'H', 'B', 'T', 'S', 'R', 'U'],\n ['S', 'H', 'N', 'S', 'C', 'L', 'U'],\n ['S', 'H', 'N', 'S', 'C', 'Q', 'U'],\n ['S', 'H', 'N', 'S', 'D', 'L', 'U'],\n ['S', 'H', 'N', 'S', 'I', 'B', 'U'],\n ['S', 'H', 'N', 'S', 'I', 'L', 'U'],\n ['S', 'H', 'N', 'S', 'I', 'Q', 'U'],\n ['S', 'H', 'Q', 'J', 'S', 'C', 'U'],\n ['S', 'H', 'Q', 'N', 'S', 'C', 'U'],\n ['S', 'H', 'Q', 'N', 'S', 'I', 'U'],\n ['S', 'H', 'Q', 'T', 'S', 'R', 'U'],\n ['S', 'H', 'T', 'S', 'C', 'B', 'U'],\n ['S', 'H', 'T', 'S', 'C', 'L', 'U'],\n ['S', 'H', 'T', 'S', 'F', 'B', 'U'],\n ['S', 'H', 'T', 'S', 'F', 'L', 'U'],\n ['S', 'H', 'T', 'S', 'R', 'B', 'U'],\n ['S', 'H', 'T', 'S', 'R', 'L', 'U'],\n ['S', 'H', 'T', 'S', 'R', 'Q', 'U'],\n ['S', 'K', 'J', 'S', 'P', 'L', 'U'],\n ['S', 'K', 'J', 'S', 'P', 'Q', 'U'],\n ['S', 'K', 'N', 'S', 'C', 'L', 'U'],\n ['S', 'K', 'N', 'S', 'C', 'Q', 'U'],\n ['S', 'K', 'N', 'S', 'F', 'L', 'U'],\n ['S', 'K', 'N', 'S', 'F', 'Q', 'U'],\n ['S', 'K', 'N', 'S', 'P', 'L', 'U'],\n ['S', 'K', 'N', 'S', 'P', 'Q', 'U'],\n ['S', 'K', 'N', 'S', 'R', 'L', 'U'],\n ['S', 'K', 'N', 'S', 'R', 'Q', 'U'],\n ['S', 'K', 'Q', 'J', 'S', 'P', 'U'],\n ['S', 'K', 'Q', 'N', 'S', 'C', 'U'],\n ['S', 'K', 'Q', 'N', 'S', 'F', 'U'],\n ['S', 'K', 'Q', 'N', 'S', 'I', 'U'],\n ['S', 'K', 'Q', 'N', 'S', 'P', 'U'],\n ['S', 'K', 'Q', 'N', 'S', 'R', 'U'],\n ['S', 'K', 'Q', 'T', 'S', 'C', 'U'],\n ['S', 'K', 'Q', 'T', 'S', 'F', 'U'],\n ['S', 'K', 'Q', 'T', 'S', 'R', 'U'],\n ['S', 'M', 'N', 'S', 'I', 'L', 'U'],\n ['S', 'M', 'N', 'S', 'I', 'Q', 'U'],\n ['S', 'M', 'Q', 'N', 'S', 'I', 'U'],\n ['S', 'M', 'Q', 'T', 'S', 'C', 'U'],\n ['S', 'M', 'Q', 'T', 'S', 'F', 'U'],\n ['S', 'M', 'Q', 'T', 'S', 'P', 'U'],\n ['S', 'M', 'Q', 'T', 'S', 'R', 'U'],\n ['S', 'M', 'T', 'S', 'C', 'L', 'U'],\n ['S', 'M', 'T', 'S', 'C', 'Q', 'U'],\n ['S', 'M', 'T', 'S', 'F', 'L', 'U'],\n ['S', 'M', 'T', 'S', 'F', 'Q', 'U'],\n ['S', 'M', 'T', 'S', 'P', 'L', 'U'],\n ['S', 'M', 'T', 'S', 'P', 'Q', 'U'],\n ['S', 'M', 'T', 'S', 'R', 'L', 'U'],\n ['S', 'M', 'T', 'S', 'R', 'Q', 'U'],\n ['S', 'O', 'N', 'S', 'C', 'L', 'U'],\n ['S', 'O', 'N', 'S', 'F', 'L', 'U'],\n ['S', 'O', 'N', 'S', 'F', 'Q', 'U'],\n ['S', 'O', 'N', 'S', 'I', 'L', 'U'],\n ['S', 'O', 'N', 'S', 'P', 'L', 'U'],\n ['S', 'O', 'N', 'S', 'P', 'Q', 'U'],\n ['S', 'O', 'N', 'S', 'R', 'L', 'U'],\n ['S', 'O', 'N', 'S', 'R', 'Q', 'U'],\n ['S', 'O', 'Q', 'J', 'S', 'K', 'U'],\n ['S', 'O', 'Q', 'J', 'S', 'P', 'U'],\n ['S', 'O', 'T', 'S', 'C', 'L', 'U'],\n ['S', 'O', 'T', 'S', 'F', 'L', 'U'],\n ['S', 'O', 'T', 'S', 'R', 'L', 'U'],\n ['S', 'P', 'Q', 'N', 'S', 'I', 'U'],\n ['S', 'R', 'Q', 'N', 'S', 'I', 'U'],\n ['S', 'D', 'B', 'S', 'O', 'J', 'C', 'U'],\n ['S', 'O', 'K', 'J', 'S', 'P', 'L', 'U'],\n ['S', 'O', 'K', 'J', 'S', 'P', 'Q', 'U'],\n ['S', 'O', 'K', 'N', 'S', 'C', 'L', 'U'],\n ['S', 'O', 'K', 'N', 'S', 'C', 'Q', 'U'],\n ['S', 'O', 'K', 'N', 'S', 'F', 'L', 'U'],\n ['S', 'O', 'K', 'N', 'S', 'F', 'Q', 'U'],\n ['S', 'O', 'K', 'N', 'S', 'P', 'L', 'U'],\n ['S', 'O', 'K', 'N', 'S', 'P', 'Q', 'U'],\n ['S', 'O', 'K', 'N', 'S', 'R', 'L', 'U'],\n ['S', 'O', 'K', 'N', 'S', 'R', 'Q', 'U'],\n ['S', 'O', 'K', 'Q', 'J', 'S', 'P', 'U'],\n ['S', 'O', 'K', 'Q', 'N', 'S', 'C', 'U'],\n ['S', 'O', 'K', 'Q', 'N', 'S', 'F', 'U'],\n ['S', 'O', 'K', 'Q', 'N', 'S', 'I', 'U'],\n ['S', 'O', 'K', 'Q', 'N', 'S', 'P', 'U'],\n ['S', 'O', 'K', 'Q', 'N', 'S', 'R', 'U'],\n ['S', 'O', 'K', 'Q', 'T', 'S', 'C', 'U'],\n ['S', 'O', 'K', 'Q', 'T', 'S', 'F', 'U'],\n ['S', 'O', 'K', 'Q', 'T', 'S', 'R', 'U'],\n ['J', 'S', 'C', 'S', 'D', 'B', 'S', 'O', 'U'],\n ['N', 'S', 'C', 'S', 'D', 'B', 'S', 'O', 'U'],\n ['S', 'D', 'A', 'S', 'R', 'B', 'S', 'O', 'U'],\n ['S', 'D', 'B', 'S', 'O', 'A', 'S', 'R', 'U'],\n ['S', 'D', 'B', 'S', 'O', 'J', 'S', 'C', 'U'],\n ['S', 'D', 'B', 'S', 'O', 'J', 'S', 'K', 'U'],\n ['S', 'D', 'B', 'S', 'O', 'J', 'S', 'P', 'U'],\n ['S', 'D', 'B', 'S', 'O', 'N', 'S', 'R', 'U'],\n ['S', 'D', 'G', 'S', 'M', 'N', 'S', 'I', 'U'],\n ['S', 'D', 'G', 'S', 'M', 'T', 'S', 'C', 'U'],\n ['S', 'D', 'G', 'S', 'M', 'T', 'S', 'F', 'U'],\n ['S', 'D', 'G', 'S', 'M', 'T', 'S', 'P', 'U'],\n ['S', 'D', 'G', 'S', 'M', 'T', 'S', 'R', 'U'],\n ['S', 'D', 'J', 'S', 'C', 'B', 'S', 'O', 'U'],\n ['S', 'D', 'J', 'S', 'F', 'B', 'S', 'O', 'U'],\n ['S', 'D', 'N', 'S', 'C', 'B', 'S', 'O', 'U'],\n ['S', 'D', 'N', 'S', 'I', 'B', 'S', 'O', 'U'],\n ['S', 'D', 'N', 'S', 'I', 'G', 'S', 'M', 'U'],\n ['S', 'D', 'T', 'S', 'R', 'B', 'S', 'O', 'U'],\n ['S', 'E', 'B', 'S', 'M', 'N', 'S', 'I', 'U'],\n ['S', 'E', 'B', 'S', 'M', 'T', 'S', 'F', 'U'],\n ['S', 'E', 'B', 'S', 'M', 'T', 'S', 'R', 'U'],\n ['S', 'E', 'G', 'S', 'D', 'N', 'S', 'I', 'U'],\n ['S', 'E', 'G', 'S', 'M', 'N', 'S', 'I', 'U'],\n ['S', 'E', 'G', 'S', 'M', 'T', 'S', 'C', 'U'],\n ['S', 'E', 'G', 'S', 'M', 'T', 'S', 'F', 'U'],\n ['S', 'E', 'G', 'S', 'M', 'T', 'S', 'P', 'U'],\n ['S', 'E', 'G', 'S', 'M', 'T', 'S', 'R', 'U'],\n ['S', 'E', 'N', 'S', 'D', 'J', 'C', 'L', 'U'],\n ['S', 'E', 'N', 'S', 'D', 'J', 'C', 'Q', 'U'],\n ['S', 'E', 'N', 'S', 'I', 'B', 'S', 'M', 'U'],\n ['S', 'E', 'N', 'S', 'I', 'G', 'S', 'D', 'U'],\n ['S', 'E', 'N', 'S', 'I', 'G', 'S', 'M', 'U'],\n ['S', 'E', 'T', 'S', 'C', 'G', 'S', 'M', 'U'],\n ['S', 'E', 'T', 'S', 'F', 'B', 'S', 'M', 'U'],\n ['S', 'E', 'T', 'S', 'F', 'G', 'S', 'M', 'U'],\n ['S', 'E', 'T', 'S', 'R', 'B', 'S', 'M', 'U'],\n ['S', 'E', 'T', 'S', 'R', 'G', 'S', 'M', 'U'],\n ['S', 'H', 'G', 'S', 'E', 'T', 'S', 'C', 'U'],\n ['S', 'H', 'G', 'S', 'E', 'T', 'S', 'R', 'U'],\n ['S', 'H', 'G', 'S', 'M', 'T', 'S', 'C', 'U'],\n ['S', 'H', 'G', 'S', 'M', 'T', 'S', 'P', 'U'],\n ['S', 'H', 'G', 'S', 'M', 'T', 'S', 'R', 'U'],\n ['S', 'H', 'N', 'S', 'D', 'J', 'C', 'L', 'U'],\n ['S', 'H', 'N', 'S', 'I', 'G', 'S', 'D', 'U'],\n ['S', 'H', 'N', 'S', 'I', 'G', 'S', 'E', 'U'],\n ['S', 'H', 'N', 'S', 'I', 'G', 'S', 'M', 'U'],\n ['S', 'M', 'G', 'S', 'D', 'N', 'S', 'I', 'U'],\n ['S', 'M', 'N', 'S', 'I', 'G', 'S', 'D', 'U'],\n ['A', 'S', 'R', 'Q', 'S', 'D', 'J', 'S', 'F', 'U'],\n ['A', 'S', 'R', 'Q', 'S', 'D', 'N', 'S', 'F', 'U'],\n ['A', 'S', 'R', 'Q', 'S', 'E', 'J', 'S', 'F', 'U'],\n ['A', 'S', 'R', 'Q', 'S', 'E', 'N', 'S', 'F', 'U'],\n ['S', 'D', 'A', 'S', 'R', 'Q', 'J', 'S', 'F', 'U'],\n ['S', 'D', 'A', 'S', 'R', 'Q', 'N', 'S', 'F', 'U'],\n ['S', 'D', 'J', 'S', 'F', 'A', 'S', 'R', 'B', 'U'],\n ['S', 'D', 'J', 'S', 'F', 'A', 'S', 'R', 'Q', 'U'],\n ['S', 'D', 'J', 'S', 'F', 'B', 'A', 'S', 'R', 'U'],\n ['S', 'D', 'J', 'S', 'F', 'Q', 'A', 'S', 'R', 'U'],\n ['S', 'D', 'T', 'S', 'R', 'Q', 'N', 'S', 'I', 'U'],\n ['S', 'E', 'A', 'S', 'R', 'Q', 'J', 'S', 'F', 'U'],\n ['S', 'E', 'A', 'S', 'R', 'Q', 'N', 'S', 'F', 'U'],\n ['S', 'E', 'N', 'S', 'D', 'J', 'S', 'C', 'L', 'U'],\n ['S', 'E', 'N', 'S', 'D', 'J', 'S', 'C', 'Q', 'U'],\n ['S', 'E', 'N', 'S', 'D', 'J', 'S', 'F', 'L', 'U'],\n ['S', 'E', 'N', 'S', 'D', 'J', 'S', 'F', 'Q', 'U'],\n ['S', 'E', 'N', 'S', 'D', 'N', 'S', 'C', 'L', 'U'],\n ['S', 'E', 'N', 'S', 'D', 'N', 'S', 'C', 'Q', 'U'],\n ['S', 'E', 'N', 'S', 'D', 'N', 'S', 'I', 'L', 'U'],\n ['S', 'E', 'N', 'S', 'D', 'N', 'S', 'I', 'Q', 'U'],\n ['S', 'E', 'N', 'S', 'D', 'T', 'S', 'C', 'L', 'U'],\n ['S', 'E', 'N', 'S', 'D', 'T', 'S', 'C', 'Q', 'U'],\n ['S', 'E', 'N', 'S', 'D', 'T', 'S', 'R', 'L', 'U'],\n ['S', 'E', 'N', 'S', 'D', 'T', 'S', 'R', 'Q', 'U'],\n ['S', 'E', 'N', 'S', 'I', 'B', 'T', 'S', 'R', 'U'],\n ['S', 'E', 'N', 'S', 'I', 'Q', 'T', 'S', 'C', 'U'],\n ['S', 'E', 'N', 'S', 'I', 'Q', 'T', 'S', 'R', 'U'],\n ['S', 'E', 'Q', 'T', 'S', 'C', 'N', 'S', 'I', 'U'],\n ['S', 'E', 'Q', 'T', 'S', 'C', 'T', 'S', 'R', 'U'],\n ['S', 'E', 'Q', 'T', 'S', 'R', 'N', 'S', 'I', 'U'],\n ['S', 'E', 'T', 'S', 'C', 'Q', 'N', 'S', 'I', 'U'],\n ['S', 'E', 'T', 'S', 'F', 'Q', 'N', 'S', 'I', 'U'],\n ['S', 'E', 'T', 'S', 'R', 'Q', 'N', 'S', 'I', 'U'],\n ['S', 'F', 'N', 'S', 'I', 'Q', 'T', 'S', 'R', 'U'],\n ['S', 'H', 'N', 'S', 'D', 'J', 'S', 'C', 'L', 'U'],\n ['S', 'H', 'N', 'S', 'D', 'J', 'S', 'F', 'L', 'U'],\n ['S', 'H', 'N', 'S', 'D', 'N', 'S', 'C', 'L', 'U'],\n ['S', 'H', 'N', 'S', 'D', 'N', 'S', 'I', 'L', 'U'],\n ['S', 'H', 'N', 'S', 'D', 'T', 'S', 'R', 'L', 'U'],\n ['S', 'H', 'N', 'S', 'I', 'B', 'T', 'S', 'R', 'U'],\n ['S', 'H', 'N', 'S', 'I', 'Q', 'T', 'S', 'R', 'U'],\n ['S', 'H', 'T', 'S', 'R', 'Q', 'N', 'S', 'I', 'U'],\n ['S', 'K', 'N', 'S', 'I', 'Q', 'T', 'S', 'C', 'U'],\n ['S', 'K', 'N', 'S', 'I', 'Q', 'T', 'S', 'F', 'U'],\n ['S', 'K', 'N', 'S', 'I', 'Q', 'T', 'S', 'R', 'U'],\n ['S', 'M', 'N', 'S', 'I', 'Q', 'T', 'S', 'C', 'U'],\n ['S', 'M', 'N', 'S', 'I', 'Q', 'T', 'S', 'P', 'U'],\n ['S', 'M', 'N', 'S', 'I', 'Q', 'T', 'S', 'R', 'U'],\n ['S', 'M', 'T', 'S', 'C', 'Q', 'N', 'S', 'I', 'U'],\n ['S', 'M', 'T', 'S', 'F', 'Q', 'N', 'S', 'I', 'U'],\n ['S', 'M', 'T', 'S', 'P', 'Q', 'N', 'S', 'I', 'U'],\n ['S', 'M', 'T', 'S', 'R', 'Q', 'N', 'S', 'I', 'U'],\n ['S', 'O', 'J', 'S', 'K', 'J', 'S', 'P', 'L', 'U'],\n ['S', 'O', 'J', 'S', 'K', 'J', 'S', 'P', 'Q', 'U'],\n ['S', 'O', 'J', 'S', 'K', 'N', 'S', 'C', 'L', 'U'],\n ['S', 'O', 'J', 'S', 'K', 'N', 'S', 'C', 'Q', 'U'],\n ['S', 'O', 'J', 'S', 'K', 'N', 'S', 'F', 'L', 'U'],\n ['S', 'O', 'J', 'S', 'K', 'N', 'S', 'F', 'Q', 'U'],\n ['S', 'O', 'J', 'S', 'K', 'N', 'S', 'P', 'L', 'U'],\n ['S', 'O', 'J', 'S', 'K', 'N', 'S', 'P', 'Q', 'U'],\n ['S', 'O', 'J', 'S', 'K', 'N', 'S', 'R', 'L', 'U'],\n ['S', 'O', 'J', 'S', 'K', 'N', 'S', 'R', 'Q', 'U'],\n ['S', 'O', 'N', 'S', 'C', 'Q', 'J', 'S', 'K', 'U'],\n ['S', 'O', 'N', 'S', 'I', 'Q', 'J', 'S', 'K', 'U'],\n ['S', 'O', 'Q', 'J', 'S', 'K', 'J', 'S', 'P', 'U'],\n ['S', 'O', 'Q', 'J', 'S', 'K', 'N', 'S', 'C', 'U'],\n ['S', 'O', 'Q', 'J', 'S', 'K', 'N', 'S', 'F', 'U'],\n ['S', 'O', 'Q', 'J', 'S', 'K', 'N', 'S', 'I', 'U'],\n ['S', 'O', 'Q', 'J', 'S', 'K', 'N', 'S', 'R', 'U'],\n ['S', 'O', 'Q', 'J', 'S', 'K', 'T', 'S', 'C', 'U'],\n ['S', 'O', 'Q', 'J', 'S', 'K', 'T', 'S', 'F', 'U'],\n ['S', 'O', 'Q', 'J', 'S', 'K', 'T', 'S', 'R', 'U'],\n ['S', 'O', 'T', 'S', 'C', 'Q', 'J', 'S', 'K', 'U'],\n ['S', 'O', 'T', 'S', 'F', 'Q', 'J', 'S', 'K', 'U'],\n ['S', 'O', 'T', 'S', 'R', 'Q', 'J', 'S', 'K', 'U'],\n ['S', 'O', 'K', 'N', 'S', 'I', 'Q', 'T', 'S', 'C', 'U'],\n ['S', 'O', 'K', 'N', 'S', 'I', 'Q', 'T', 'S', 'F', 'U'],\n ['S', 'O', 'K', 'N', 'S', 'I', 'Q', 'T', 'S', 'R', 'U'],\n ['J', 'S', 'C', 'L', 'S', 'D', 'U'],\n ['J', 'S', 'C', 'Q', 'S', 'D', 'U'],\n ['J', 'S', 'C', 'S', 'D', 'B', 'S', 'O', 'J', 'S', 'K', 'U'],\n ['J', 'S', 'F', 'Q', 'S', 'E', 'U'],\n ['J', 'S', 'K', 'L', 'S', 'O', 'U'],\n ['J', 'S', 'K', 'Q', 'S', 'O', 'U'],\n ['J', 'S', 'P', 'L', 'S', 'K', 'U'],\n ['J', 'S', 'P', 'Q', 'S', 'K', 'U'],\n ['J', 'S', 'P', 'Q', 'S', 'O', 'U'],\n ['N', 'S', 'C', 'L', 'S', 'D', 'U'],\n ['N', 'S', 'C', 'L', 'S', 'E', 'U'],\n ['N', 'S', 'C', 'L', 'S', 'H', 'U'],\n ['N', 'S', 'C', 'L', 'S', 'K', 'U'],\n ['N', 'S', 'C', 'L', 'S', 'O', 'U'],\n ['N', 'S', 'C', 'Q', 'S', 'D', 'U'],\n ['N', 'S', 'C', 'Q', 'S', 'E', 'U'],\n ['N', 'S', 'C', 'Q', 'S', 'H', 'U'],\n ['N', 'S', 'C', 'Q', 'S', 'K', 'U'],\n ['N', 'S', 'C', 'Q', 'S', 'O', 'U'],\n ['N', 'S', 'C', 'S', 'D', 'B', 'S', 'O', 'J', 'S', 'K', 'U'],\n ['N', 'S', 'D', 'L', 'S', 'E', 'U'],\n ['N', 'S', 'D', 'L', 'S', 'H', 'U'],\n ['N', 'S', 'D', 'Q', 'S', 'E', 'U'],\n ['N', 'S', 'F', 'L', 'S', 'E', 'U'],\n ['N', 'S', 'F', 'L', 'S', 'K', 'U'],\n ['N', 'S', 'F', 'L', 'S', 'O', 'U'],\n ['N', 'S', 'F', 'Q', 'S', 'E', 'U'],\n ['N', 'S', 'F', 'Q', 'S', 'K', 'U'],\n ['N', 'S', 'F', 'Q', 'S', 'O', 'U'],\n ['N', 'S', 'I', 'L', 'S', 'E', 'U'],\n ['N', 'S', 'I', 'L', 'S', 'H', 'U'],\n ['N', 'S', 'I', 'L', 'S', 'M', 'U'],\n ['N', 'S', 'I', 'Q', 'S', 'E', 'U'],\n ['N', 'S', 'I', 'Q', 'S', 'H', 'U'],\n ['N', 'S', 'I', 'Q', 'S', 'K', 'U'],\n ['N', 'S', 'I', 'Q', 'S', 'M', 'U'],\n ['N', 'S', 'I', 'Q', 'S', 'O', 'U'],\n ['N', 'S', 'P', 'L', 'S', 'E', 'U'],\n ['N', 'S', 'P', 'L', 'S', 'K', 'U'],\n ['N', 'S', 'P', 'L', 'S', 'O', 'U'],\n ['N', 'S', 'P', 'Q', 'S', 'E', 'U'],\n ['N', 'S', 'P', 'Q', 'S', 'K', 'U'],\n ['N', 'S', 'P', 'Q', 'S', 'O', 'U'],\n ['N', 'S', 'R', 'L', 'S', 'E', 'U'],\n ['N', 'S', 'R', 'L', 'S', 'K', 'U'],\n ['N', 'S', 'R', 'L', 'S', 'O', 'U'],\n ['N', 'S', 'R', 'Q', 'S', 'E', 'U'],\n ['N', 'S', 'R', 'Q', 'S', 'K', 'U'],\n ['N', 'S', 'R', 'Q', 'S', 'O', 'U'],\n ['S', 'D', 'A', 'S', 'R', 'B', 'S', 'O', 'J', 'S', 'K', 'U'],\n ['S', 'D', 'A', 'S', 'R', 'B', 'S', 'O', 'N', 'S', 'R', 'U'],\n ['S', 'D', 'B', 'S', 'O', 'J', 'S', 'K', 'J', 'S', 'P', 'U'],\n ['S', 'D', 'B', 'S', 'O', 'J', 'S', 'K', 'N', 'S', 'F', 'U'],\n ['S', 'D', 'B', 'S', 'O', 'J', 'S', 'K', 'N', 'S', 'I', 'U'],\n ['S', 'D', 'B', 'S', 'O', 'J', 'S', 'K', 'N', 'S', 'R', 'U'],\n ['S', 'D', 'B', 'S', 'O', 'J', 'S', 'K', 'T', 'S', 'F', 'U'],\n ['S', 'D', 'B', 'S', 'O', 'J', 'S', 'K', 'T', 'S', 'R', 'U'],\n ['S', 'D', 'J', 'S', 'C', 'B', 'S', 'O', 'J', 'S', 'K', 'U'],\n ['S', 'D', 'J', 'S', 'F', 'A', 'S', 'R', 'B', 'S', 'O', 'U'],\n ['S', 'D', 'J', 'S', 'F', 'B', 'S', 'O', 'J', 'S', 'K', 'U'],\n ['S', 'D', 'J', 'S', 'F', 'B', 'S', 'O', 'N', 'S', 'R', 'U'],\n ['S', 'D', 'L', 'J', 'S', 'C', 'U'],\n ['S', 'D', 'L', 'N', 'S', 'C', 'U'],\n ['S', 'D', 'L', 'N', 'S', 'I', 'U'],\n ['S', 'D', 'L', 'T', 'S', 'C', 'U'],\n ['S', 'D', 'L', 'T', 'S', 'R', 'U'],\n ['S', 'D', 'N', 'S', 'C', 'B', 'S', 'O', 'J', 'S', 'K', 'U'],\n ['S', 'D', 'N', 'S', 'I', 'B', 'S', 'O', 'J', 'S', 'K', 'U'],\n ['S', 'D', 'N', 'S', 'I', 'B', 'S', 'O', 'J', 'S', 'P', 'U'],\n ['S', 'D', 'N', 'S', 'I', 'B', 'S', 'O', 'T', 'S', 'F', 'U'],\n ['S', 'D', 'N', 'S', 'I', 'B', 'S', 'O', 'T', 'S', 'R', 'U'],\n ['S', 'D', 'N', 'S', 'I', 'G', 'S', 'M', 'T', 'S', 'C', 'U'],\n ['S', 'D', 'N', 'S', 'I', 'G', 'S', 'M', 'T', 'S', 'P', 'U'],\n ['S', 'D', 'N', 'S', 'I', 'G', 'S', 'M', 'T', 'S', 'R', 'U'],\n ['S', 'D', 'T', 'S', 'R', 'B', 'S', 'O', 'J', 'S', 'K', 'U'],\n ['S', 'E', 'B', 'T', 'S', 'C', 'U'],\n ['S', 'E', 'L', 'J', 'S', 'C', 'U'],\n ['S', 'E', 'L', 'J', 'S', 'F', 'U'],\n ['S', 'E', 'L', 'N', 'S', 'C', 'U'],\n ['S', 'E', 'L', 'N', 'S', 'D', 'U'],\n ['S', 'E', 'L', 'N', 'S', 'F', 'U'],\n ['S', 'E', 'L', 'N', 'S', 'I', 'U'],\n ['S', 'E', 'L', 'N', 'S', 'R', 'U'],\n ['S', 'E', 'L', 'T', 'S', 'C', 'U'],\n ['S', 'E', 'L', 'T', 'S', 'F', 'U'],\n ['S', 'E', 'L', 'T', 'S', 'R', 'U'],\n ['S', 'E', 'N', 'S', 'I', 'B', 'S', 'M', 'T', 'S', 'R', 'U'],\n ['S', 'E', 'N', 'S', 'I', 'G', 'S', 'M', 'T', 'S', 'C', 'U'],\n ['S', 'E', 'N', 'S', 'I', 'G', 'S', 'M', 'T', 'S', 'P', 'U'],\n ['S', 'E', 'N', 'S', 'I', 'G', 'S', 'M', 'T', 'S', 'R', 'U'],\n ['S', 'F', 'L', 'N', 'S', 'I', 'U'],\n ['S', 'F', 'L', 'T', 'S', 'R', 'U'],\n ['S', 'H', 'B', 'T', 'S', 'C', 'U'],\n ['S', 'H', 'L', 'J', 'S', 'C', 'U'],\n ['S', 'H', 'L', 'N', 'S', 'C', 'U'],\n ['S', 'H', 'L', 'N', 'S', 'D', 'U'],\n ['S', 'H', 'L', 'N', 'S', 'I', 'U'],\n ['S', 'H', 'L', 'T', 'S', 'C', 'U'],\n ['S', 'H', 'L', 'T', 'S', 'F', 'U'],\n ['S', 'H', 'L', 'T', 'S', 'R', 'U'],\n ['S', 'H', 'N', 'S', 'I', 'G', 'S', 'E', 'T', 'S', 'C', 'U'],\n ['S', 'H', 'N', 'S', 'I', 'G', 'S', 'E', 'T', 'S', 'R', 'U'],\n ['S', 'H', 'N', 'S', 'I', 'G', 'S', 'M', 'T', 'S', 'C', 'U'],\n ['S', 'H', 'N', 'S', 'I', 'G', 'S', 'M', 'T', 'S', 'P', 'U'],\n ['S', 'H', 'N', 'S', 'I', 'G', 'S', 'M', 'T', 'S', 'R', 'U'],\n ['S', 'I', 'L', 'T', 'S', 'C', 'U'],\n ['S', 'I', 'L', 'T', 'S', 'D', 'U'],\n ['S', 'I', 'L', 'T', 'S', 'E', 'U'],\n ['S', 'I', 'L', 'T', 'S', 'F', 'U'],\n ['S', 'I', 'L', 'T', 'S', 'H', 'U'],\n ['S', 'I', 'L', 'T', 'S', 'M', 'U'],\n ['S', 'I', 'L', 'T', 'S', 'P', 'U'],\n ['S', 'I', 'L', 'T', 'S', 'R', 'U'],\n ['S', 'K', 'L', 'J', 'S', 'P', 'U'],\n ['S', 'K', 'L', 'N', 'S', 'C', 'U'],\n ['S', 'K', 'L', 'N', 'S', 'F', 'U'],\n ['S', 'K', 'L', 'N', 'S', 'I', 'U'],\n ['S', 'K', 'L', 'N', 'S', 'P', 'U'],\n ['S', 'K', 'L', 'N', 'S', 'R', 'U'],\n ['S', 'K', 'L', 'T', 'S', 'C', 'U'],\n ['S', 'K', 'L', 'T', 'S', 'F', 'U'],\n ['S', 'K', 'L', 'T', 'S', 'R', 'U'],\n ['S', 'M', 'L', 'N', 'S', 'I', 'U'],\n ['S', 'M', 'L', 'T', 'S', 'C', 'U'],\n ['S', 'M', 'L', 'T', 'S', 'F', 'U'],\n ['S', 'M', 'L', 'T', 'S', 'P', 'U'],\n ['S', 'M', 'L', 'T', 'S', 'R', 'U'],\n ['S', 'O', 'L', 'J', 'S', 'K', 'U'],\n ['S', 'O', 'L', 'J', 'S', 'P', 'U'],\n ['S', 'O', 'L', 'N', 'S', 'C', 'U'],\n ['S', 'O', 'L', 'N', 'S', 'F', 'U'],\n ['S', 'O', 'L', 'N', 'S', 'P', 'U'],\n ['S', 'O', 'L', 'N', 'S', 'R', 'U'],\n ['S', 'O', 'L', 'T', 'S', 'C', 'U'],\n ['S', 'O', 'L', 'T', 'S', 'F', 'U'],\n ['S', 'O', 'L', 'T', 'S', 'P', 'U'],\n ['T', 'S', 'R', 'L', 'S', 'E', 'U'],\n ['T', 'S', 'R', 'L', 'S', 'H', 'U'],\n ['T', 'S', 'R', 'L', 'S', 'M', 'U'],\n ['T', 'S', 'R', 'Q', 'S', 'E', 'U'],\n ['T', 'S', 'R', 'Q', 'S', 'H', 'U'],\n ['T', 'S', 'R', 'Q', 'S', 'K', 'U'],\n ['T', 'S', 'R', 'Q', 'S', 'M', 'U'],\n ['T', 'S', 'R', 'Q', 'S', 'O', 'U'],\n ['J', 'S', 'O', 'K', 'L', 'S', 'O', 'U'],\n ['J', 'S', 'O', 'K', 'Q', 'S', 'O', 'U'],\n ['J', 'S', 'P', 'L', 'S', 'O', 'K', 'U'],\n ['J', 'S', 'P', 'Q', 'S', 'O', 'K', 'U'],\n ['N', 'S', 'C', 'L', 'S', 'O', 'K', 'U'],\n ['N', 'S', 'C', 'Q', 'S', 'O', 'K', 'U'],\n ['N', 'S', 'F', 'L', 'S', 'O', 'K', 'U'],\n ['N', 'S', 'F', 'Q', 'S', 'O', 'K', 'U'],\n ['N', 'S', 'I', 'Q', 'S', 'O', 'K', 'U'],\n ['N', 'S', 'P', 'L', 'S', 'O', 'K', 'U'],\n ['N', 'S', 'P', 'Q', 'S', 'O', 'K', 'U'],\n ['N', 'S', 'R', 'L', 'S', 'O', 'K', 'U'],\n ['N', 'S', 'R', 'Q', 'S', 'O', 'K', 'U'],\n ['S', 'E', 'N', 'S', 'I', 'Q', 'T', 'S', 'C', 'N', 'S', 'I', 'U'],\n ['S', 'E', 'N', 'S', 'I', 'Q', 'T', 'S', 'R', 'N', 'S', 'I', 'U'],\n ['S', 'O', 'K', 'L', 'J', 'S', 'P', 'U'],\n ['S', 'O', 'K', 'L', 'N', 'S', 'C', 'U'],\n ['S', 'O', 'K', 'L', 'N', 'S', 'F', 'U'],\n ['S', 'O', 'K', 'L', 'N', 'S', 'I', 'U'],\n ['S', 'O', 'K', 'L', 'N', 'S', 'P', 'U'],\n ['S', 'O', 'K', 'L', 'N', 'S', 'R', 'U'],\n ['S', 'O', 'K', 'L', 'T', 'S', 'C', 'U'],\n ['S', 'O', 'K', 'L', 'T', 'S', 'F', 'U'],\n ['S', 'O', 'K', 'L', 'T', 'S', 'R', 'U'],\n ['S', 'O', 'N', 'S', 'I', 'Q', 'J', 'S', 'K', 'T', 'S', 'C', 'U'],\n ['S', 'O', 'N', 'S', 'I', 'Q', 'J', 'S', 'K', 'T', 'S', 'F', 'U'],\n ['S', 'O', 'N', 'S', 'I', 'Q', 'J', 'S', 'K', 'T', 'S', 'R', 'U'],\n ['S', 'O', 'Q', 'J', 'S', 'O', 'K', 'U'],\n ['T', 'S', 'R', 'Q', 'S', 'O', 'K', 'U'],\n ['N', 'S', 'D', 'J', 'C', 'L', 'S', 'E', 'U'],\n ['N', 'S', 'D', 'J', 'C', 'L', 'S', 'H', 'U'],\n ['N', 'S', 'D', 'J', 'C', 'Q', 'S', 'E', 'U'],\n ['S', 'D', 'T', 'S', 'C', 'B', 'S', 'O', 'U'],\n ['S', 'E', 'B', 'S', 'M', 'T', 'S', 'C', 'U'],\n ['S', 'E', 'T', 'S', 'C', 'B', 'S', 'M', 'U'],\n ['J', 'S', 'C', 'L', 'S', 'H', 'N', 'S', 'D', 'U'],\n ['J', 'S', 'F', 'A', 'S', 'R', 'Q', 'S', 'D', 'U'],\n ['J', 'S', 'F', 'A', 'S', 'R', 'Q', 'S', 'E', 'U'],\n ['J', 'S', 'K', 'J', 'S', 'P', 'L', 'S', 'O', 'U'],\n ['J', 'S', 'K', 'J', 'S', 'P', 'Q', 'S', 'O', 'U'],\n ['J', 'S', 'K', 'N', 'S', 'C', 'L', 'S', 'O', 'U'],\n ['J', 'S', 'K', 'N', 'S', 'C', 'Q', 'S', 'O', 'U'],\n ['J', 'S', 'K', 'N', 'S', 'F', 'L', 'S', 'O', 'U'],\n ['J', 'S', 'K', 'N', 'S', 'F', 'Q', 'S', 'O', 'U'],\n ['J', 'S', 'K', 'N', 'S', 'I', 'Q', 'S', 'O', 'U'],\n ['J', 'S', 'K', 'N', 'S', 'P', 'L', 'S', 'O', 'U'],\n ['J', 'S', 'K', 'N', 'S', 'P', 'Q', 'S', 'O', 'U'],\n ['J', 'S', 'K', 'N', 'S', 'R', 'L', 'S', 'O', 'U'],\n ['J', 'S', 'K', 'N', 'S', 'R', 'Q', 'S', 'O', 'U'],\n ['J', 'S', 'K', 'T', 'S', 'C', 'Q', 'S', 'O', 'U'],\n ['J', 'S', 'K', 'T', 'S', 'F', 'Q', 'S', 'O', 'U'],\n ['J', 'S', 'K', 'T', 'S', 'R', 'Q', 'S', 'O', 'U'],\n ['J', 'S', 'P', 'Q', 'S', 'O', 'J', 'S', 'K', 'U'],\n ['N', 'S', 'C', 'L', 'S', 'H', 'N', 'S', 'D', 'U'],\n ['N', 'S', 'C', 'L', 'S', 'O', 'J', 'S', 'K', 'U'],\n ['N', 'S', 'C', 'Q', 'S', 'O', 'J', 'S', 'K', 'U'],\n ['N', 'S', 'D', 'A', 'S', 'R', 'L', 'S', 'E', 'U'],\n ['N', 'S', 'D', 'A', 'S', 'R', 'Q', 'S', 'E', 'U'],\n ['N', 'S', 'D', 'J', 'S', 'C', 'L', 'S', 'E', 'U'],\n ['N', 'S', 'D', 'J', 'S', 'C', 'L', 'S', 'H', 'U'],\n ['N', 'S', 'D', 'J', 'S', 'C', 'Q', 'S', 'E', 'U'],\n ['N', 'S', 'D', 'J', 'S', 'F', 'L', 'S', 'E', 'U'],\n ['N', 'S', 'D', 'J', 'S', 'F', 'L', 'S', 'H', 'U'],\n ['N', 'S', 'D', 'J', 'S', 'F', 'Q', 'S', 'E', 'U'],\n ['N', 'S', 'D', 'N', 'S', 'C', 'L', 'S', 'E', 'U'],\n ['N', 'S', 'D', 'N', 'S', 'C', 'L', 'S', 'H', 'U'],\n ['N', 'S', 'D', 'N', 'S', 'C', 'Q', 'S', 'E', 'U'],\n ['N', 'S', 'D', 'N', 'S', 'I', 'L', 'S', 'E', 'U'],\n ['N', 'S', 'D', 'N', 'S', 'I', 'L', 'S', 'H', 'U'],\n ['N', 'S', 'D', 'N', 'S', 'I', 'Q', 'S', 'E', 'U'],\n ['N', 'S', 'D', 'T', 'S', 'C', 'L', 'S', 'E', 'U'],\n ['N', 'S', 'D', 'T', 'S', 'C', 'Q', 'S', 'E', 'U'],\n ['N', 'S', 'D', 'T', 'S', 'R', 'L', 'S', 'E', 'U'],\n ['N', 'S', 'D', 'T', 'S', 'R', 'L', 'S', 'H', 'U'],\n ['N', 'S', 'D', 'T', 'S', 'R', 'Q', 'S', 'E', 'U'],\n ['N', 'S', 'F', 'A', 'S', 'R', 'Q', 'S', 'D', 'U'],\n ['N', 'S', 'F', 'A', 'S', 'R', 'Q', 'S', 'E', 'U'],\n ['N', 'S', 'F', 'Q', 'S', 'O', 'J', 'S', 'K', 'U'],\n ['N', 'S', 'I', 'Q', 'S', 'O', 'J', 'S', 'K', 'U'],\n ['N', 'S', 'P', 'Q', 'S', 'O', 'J', 'S', 'K', 'U'],\n ['N', 'S', 'R', 'Q', 'S', 'O', 'J', 'S', 'K', 'U'],\n ['S', 'D', 'A', 'S', 'R', 'B', 'S', 'O', 'J', 'S', 'K', 'N', 'S', 'R', 'U'],\n ['S', 'D', 'B', 'S', 'O', 'J', 'S', 'O', 'K', 'U'],\n ['S', 'D', 'J', 'S', 'F', 'A', 'S', 'R', 'B', 'S', 'O', 'J', 'S', 'K', 'U'],\n ['S', 'D', 'J', 'S', 'F', 'A', 'S', 'R', 'B', 'S', 'O', 'N', 'S', 'R', 'U'],\n ['S', 'D', 'J', 'S', 'F', 'B', 'S', 'O', 'J', 'S', 'K', 'N', 'S', 'R', 'U'],\n ['S', 'D', 'N', 'S', 'I', 'B', 'S', 'O', 'J', 'S', 'K', 'J', 'S', 'P', 'U'],\n ['S', 'D', 'N', 'S', 'I', 'B', 'S', 'O', 'J', 'S', 'K', 'N', 'S', 'I', 'U'],\n ['S', 'D', 'N', 'S', 'I', 'B', 'S', 'O', 'J', 'S', 'K', 'T', 'S', 'F', 'U'],\n ['S', 'D', 'N', 'S', 'I', 'B', 'S', 'O', 'J', 'S', 'K', 'T', 'S', 'R', 'U'],\n ['S', 'D', 'N', 'S', 'I', 'L', 'T', 'S', 'C', 'U'],\n ['S', 'D', 'N', 'S', 'I', 'L', 'T', 'S', 'R', 'U'],\n ['S', 'D', 'T', 'S', 'C', 'L', 'N', 'S', 'I', 'U'],\n ['S', 'D', 'T', 'S', 'R', 'B', 'S', 'O', 'J', 'S', 'K', 'N', 'S', 'I', 'U'],\n ['S', 'D', 'T', 'S', 'R', 'B', 'S', 'O', 'J', 'S', 'K', 'T', 'S', 'R', 'U'],\n ['S', 'D', 'T', 'S', 'R', 'L', 'N', 'S', 'I', 'U'],\n ['S', 'E', 'L', 'N', 'S', 'D', 'A', 'S', 'R', 'U'],\n ['S', 'E', 'L', 'N', 'S', 'D', 'J', 'S', 'F', 'U'],\n ['S', 'E', 'L', 'N', 'S', 'D', 'N', 'S', 'I', 'U'],\n ['S', 'E', 'L', 'N', 'S', 'D', 'T', 'S', 'C', 'U'],\n ['S', 'E', 'L', 'N', 'S', 'D', 'T', 'S', 'R', 'U'],\n ['S', 'E', 'N', 'S', 'C', 'L', 'N', 'S', 'D', 'U'],\n ['S', 'E', 'N', 'S', 'I', 'B', 'T', 'S', 'C', 'U'],\n ['S', 'E', 'N', 'S', 'I', 'L', 'T', 'S', 'C', 'U'],\n ['S', 'E', 'N', 'S', 'I', 'L', 'T', 'S', 'R', 'U'],\n ['S', 'E', 'T', 'S', 'C', 'L', 'N', 'S', 'I', 'U'],\n ['S', 'E', 'T', 'S', 'F', 'L', 'N', 'S', 'I', 'U'],\n ['S', 'E', 'T', 'S', 'R', 'L', 'N', 'S', 'I', 'U'],\n ['S', 'F', 'N', 'S', 'I', 'L', 'T', 'S', 'R', 'U'],\n ['S', 'H', 'L', 'N', 'S', 'D', 'J', 'S', 'C', 'U'],\n ['S', 'H', 'L', 'N', 'S', 'D', 'N', 'S', 'C', 'U'],\n ['S', 'H', 'L', 'N', 'S', 'D', 'N', 'S', 'I', 'U'],\n ['S', 'H', 'L', 'N', 'S', 'D', 'T', 'S', 'R', 'U'],\n ['S', 'H', 'N', 'S', 'C', 'L', 'N', 'S', 'D', 'U'],\n ['S', 'H', 'N', 'S', 'I', 'L', 'T', 'S', 'C', 'U'],\n ['S', 'H', 'N', 'S', 'I', 'L', 'T', 'S', 'R', 'U'],\n ['S', 'H', 'T', 'S', 'C', 'L', 'N', 'S', 'I', 'U'],\n ['S', 'H', 'T', 'S', 'F', 'L', 'N', 'S', 'I', 'U'],\n ['S', 'H', 'T', 'S', 'R', 'L', 'N', 'S', 'I', 'U'],\n ['S', 'K', 'N', 'S', 'I', 'L', 'T', 'S', 'C', 'U'],\n ['S', 'K', 'N', 'S', 'I', 'L', 'T', 'S', 'F', 'U'],\n ['S', 'K', 'N', 'S', 'I', 'L', 'T', 'S', 'R', 'U'],\n ['S', 'M', 'N', 'S', 'I', 'L', 'T', 'S', 'C', 'U'],\n ['S', 'M', 'N', 'S', 'I', 'L', 'T', 'S', 'P', 'U'],\n ['S', 'M', 'N', 'S', 'I', 'L', 'T', 'S', 'R', 'U'],\n ['S', 'M', 'T', 'S', 'C', 'L', 'N', 'S', 'I', 'U'],\n ['S', 'M', 'T', 'S', 'F', 'L', 'N', 'S', 'I', 'U'],\n ['S', 'M', 'T', 'S', 'P', 'L', 'N', 'S', 'I', 'U'],\n ['S', 'M', 'T', 'S', 'R', 'L', 'N', 'S', 'I', 'U'],\n ['S', 'O', 'L', 'J', 'S', 'K', 'J', 'S', 'P', 'U'],\n ['S', 'O', 'L', 'J', 'S', 'K', 'N', 'S', 'C', 'U'],\n ['S', 'O', 'L', 'J', 'S', 'K', 'N', 'S', 'F', 'U'],\n ['S', 'O', 'L', 'J', 'S', 'K', 'N', 'S', 'I', 'U'],\n ['S', 'O', 'L', 'J', 'S', 'K', 'N', 'S', 'R', 'U'],\n ['S', 'O', 'L', 'J', 'S', 'K', 'T', 'S', 'C', 'U'],\n ['S', 'O', 'L', 'J', 'S', 'K', 'T', 'S', 'F', 'U'],\n ['S', 'O', 'L', 'J', 'S', 'K', 'T', 'S', 'R', 'U'],\n ['S', 'O', 'N', 'S', 'C', 'L', 'J', 'S', 'K', 'U'],\n ['S', 'O', 'N', 'S', 'I', 'L', 'J', 'S', 'K', 'U'],\n ['S', 'O', 'N', 'S', 'I', 'L', 'T', 'S', 'C', 'U'],\n ['S', 'O', 'N', 'S', 'I', 'L', 'T', 'S', 'F', 'U'],\n ['S', 'O', 'N', 'S', 'I', 'L', 'T', 'S', 'P', 'U'],\n ['S', 'O', 'T', 'S', 'C', 'L', 'J', 'S', 'K', 'U'],\n ['S', 'O', 'T', 'S', 'F', 'L', 'J', 'S', 'K', 'U'],\n ['S', 'O', 'T', 'S', 'R', 'L', 'J', 'S', 'K', 'U'],\n ['T', 'S', 'R', 'Q', 'S', 'O', 'J', 'S', 'K', 'U'],\n ['J', 'S', 'O', 'K', 'J', 'S', 'P', 'L', 'S', 'O', 'U'],\n ['J', 'S', 'O', 'K', 'J', 'S', 'P', 'Q', 'S', 'O', 'U'],\n ['J', 'S', 'O', 'K', 'N', 'S', 'C', 'L', 'S', 'O', 'U'],\n ['J', 'S', 'O', 'K', 'N', 'S', 'C', 'Q', 'S', 'O', 'U'],\n ['J', 'S', 'O', 'K', 'N', 'S', 'F', 'L', 'S', 'O', 'U'],\n ['J', 'S', 'O', 'K', 'N', 'S', 'F', 'Q', 'S', 'O', 'U'],\n ['J', 'S', 'O', 'K', 'N', 'S', 'I', 'Q', 'S', 'O', 'U'],\n ['J', 'S', 'O', 'K', 'N', 'S', 'P', 'L', 'S', 'O', 'U'],\n ['J', 'S', 'O', 'K', 'N', 'S', 'P', 'Q', 'S', 'O', 'U'],\n ['J', 'S', 'O', 'K', 'N', 'S', 'R', 'L', 'S', 'O', 'U'],\n ['J', 'S', 'O', 'K', 'N', 'S', 'R', 'Q', 'S', 'O', 'U'],\n ['J', 'S', 'O', 'K', 'T', 'S', 'C', 'Q', 'S', 'O', 'U'],\n ['J', 'S', 'O', 'K', 'T', 'S', 'F', 'Q', 'S', 'O', 'U'],\n ['J', 'S', 'O', 'K', 'T', 'S', 'R', 'Q', 'S', 'O', 'U'],\n ['S', 'O', 'J', 'S', 'O', 'K', 'J', 'S', 'P', 'L', 'U'],\n ['S', 'O', 'J', 'S', 'O', 'K', 'J', 'S', 'P', 'Q', 'U'],\n ['S', 'O', 'J', 'S', 'O', 'K', 'N', 'S', 'C', 'L', 'U'],\n ['S', 'O', 'J', 'S', 'O', 'K', 'N', 'S', 'C', 'Q', 'U'],\n ['S', 'O', 'J', 'S', 'O', 'K', 'N', 'S', 'F', 'L', 'U'],\n ['S', 'O', 'J', 'S', 'O', 'K', 'N', 'S', 'F', 'Q', 'U'],\n ['S', 'O', 'J', 'S', 'O', 'K', 'N', 'S', 'P', 'L', 'U'],\n ['S', 'O', 'J', 'S', 'O', 'K', 'N', 'S', 'P', 'Q', 'U'],\n ['S', 'O', 'J', 'S', 'O', 'K', 'N', 'S', 'R', 'L', 'U'],\n ['S', 'O', 'J', 'S', 'O', 'K', 'N', 'S', 'R', 'Q', 'U'],\n ['S', 'O', 'K', 'N', 'S', 'I', 'L', 'T', 'S', 'C', 'U'],\n ['S', 'O', 'K', 'N', 'S', 'I', 'L', 'T', 'S', 'F', 'U'],\n ['S', 'O', 'K', 'N', 'S', 'I', 'L', 'T', 'S', 'R', 'U'],\n ['S', 'O', 'N', 'S', 'C', 'Q', 'J', 'S', 'O', 'K', 'U'],\n ['S', 'O', 'N', 'S', 'I', 'Q', 'J', 'S', 'O', 'K', 'U'],\n ['S', 'O', 'Q', 'J', 'S', 'O', 'K', 'J', 'S', 'P', 'U'],\n ['S', 'O', 'Q', 'J', 'S', 'O', 'K', 'N', 'S', 'C', 'U'],\n ['S', 'O', 'Q', 'J', 'S', 'O', 'K', 'N', 'S', 'F', 'U'],\n ['S', 'O', 'Q', 'J', 'S', 'O', 'K', 'N', 'S', 'I', 'U'],\n ['S', 'O', 'Q', 'J', 'S', 'O', 'K', 'N', 'S', 'R', 'U'],\n ['S', 'O', 'Q', 'J', 'S', 'O', 'K', 'T', 'S', 'C', 'U'],\n ['S', 'O', 'Q', 'J', 'S', 'O', 'K', 'T', 'S', 'F', 'U'],\n ['S', 'O', 'Q', 'J', 'S', 'O', 'K', 'T', 'S', 'R', 'U'],\n ['S', 'O', 'T', 'S', 'C', 'Q', 'J', 'S', 'O', 'K', 'U'],\n ['S', 'O', 'T', 'S', 'F', 'Q', 'J', 'S', 'O', 'K', 'U'],\n ['S', 'O', 'T', 'S', 'R', 'Q', 'J', 'S', 'O', 'K', 'U'],\n ['S', 'D', 'B', 'S', 'O', 'J', 'S', 'K', 'T', 'S', 'C', 'U'],\n ['S', 'D', 'N', 'S', 'I', 'B', 'S', 'O', 'T', 'S', 'C', 'U'],\n ['S', 'D', 'T', 'S', 'C', 'B', 'S', 'O', 'J', 'S', 'K', 'U'],\n ['S', 'E', 'N', 'S', 'I', 'B', 'S', 'M', 'T', 'S', 'C', 'U'],\n ['J', 'S', 'C', 'S', 'D', 'B', 'S', 'O', 'J', 'S', 'O', 'K', 'U'],\n ['N', 'S', 'C', 'B', 'S', 'O', 'J', 'S', 'O', 'K', 'S', 'D', 'U'],\n ['N', 'S', 'C', 'S', 'D', 'B', 'S', 'O', 'J', 'S', 'O', 'K', 'U'],\n ['S', 'D', 'B', 'S', 'O', 'J', 'S', 'O', 'K', 'J', 'S', 'P', 'U'],\n ['S', 'D', 'B', 'S', 'O', 'J', 'S', 'O', 'K', 'N', 'S', 'F', 'U'],\n ['S', 'D', 'B', 'S', 'O', 'J', 'S', 'O', 'K', 'N', 'S', 'I', 'U'],\n ['S', 'D', 'B', 'S', 'O', 'J', 'S', 'O', 'K', 'N', 'S', 'R', 'U'],\n ['S', 'D', 'B', 'S', 'O', 'J', 'S', 'O', 'K', 'T', 'S', 'C', 'U'],\n ['S', 'D', 'B', 'S', 'O', 'J', 'S', 'O', 'K', 'T', 'S', 'F', 'U'],\n ['S', 'D', 'B', 'S', 'O', 'J', 'S', 'O', 'K', 'T', 'S', 'R', 'U'],\n ['S', 'D', 'J', 'S', 'C', 'B', 'S', 'O', 'J', 'S', 'O', 'K', 'U'],\n ['S',\n  'D',\n  'J',\n  'S',\n  'F',\n  'A',\n  'S',\n  'R',\n  'B',\n  'S',\n  'O',\n  'J',\n  'S',\n  'K',\n  'N',\n  'S',\n  'R',\n  'U'],\n ['S', 'D', 'N', 'S', 'C', 'B', 'S', 'O', 'J', 'S', 'O', 'K', 'U'],\n ['S', 'D', 'N', 'S', 'I', 'B', 'S', 'O', 'J', 'S', 'O', 'K', 'U'],\n ['S', 'D', 'T', 'S', 'C', 'B', 'S', 'O', 'J', 'S', 'O', 'K', 'U'],\n ['S', 'D', 'T', 'S', 'R', 'B', 'S', 'O', 'J', 'S', 'O', 'K', 'U'],\n ['S', 'E', 'N', 'S', 'C', 'L', 'N', 'S', 'D', 'J', 'S', 'C', 'U'],\n ['S', 'E', 'N', 'S', 'C', 'L', 'N', 'S', 'D', 'N', 'S', 'C', 'U'],\n ['S', 'H', 'N', 'S', 'C', 'L', 'N', 'S', 'D', 'J', 'S', 'C', 'U'],\n ['S', 'H', 'N', 'S', 'C', 'L', 'N', 'S', 'D', 'N', 'S', 'C', 'U'],\n ['S', 'O', 'L', 'J', 'S', 'O', 'K', 'U'],\n ['S', 'O', 'N', 'S', 'I', 'L', 'J', 'S', 'K', 'T', 'S', 'C', 'U'],\n ['S', 'O', 'N', 'S', 'I', 'L', 'J', 'S', 'K', 'T', 'S', 'F', 'U'],\n ['S', 'O', 'N', 'S', 'I', 'L', 'J', 'S', 'K', 'T', 'S', 'R', 'U'],\n ['S', 'O', 'N', 'S', 'I', 'Q', 'J', 'S', 'O', 'K', 'T', 'S', 'C', 'U'],\n ['S', 'O', 'N', 'S', 'I', 'Q', 'J', 'S', 'O', 'K', 'T', 'S', 'F', 'U'],\n ['S', 'O', 'N', 'S', 'I', 'Q', 'J', 'S', 'O', 'K', 'T', 'S', 'R', 'U'],\n ['S', 'D', 'N', 'S', 'I', 'B', 'S', 'O', 'J', 'S', 'K', 'T', 'S', 'C', 'U'],\n ['S', 'D', 'T', 'S', 'C', 'B', 'S', 'O', 'J', 'S', 'K', 'N', 'S', 'I', 'U'],\n ['S', 'D', 'T', 'S', 'C', 'B', 'S', 'O', 'J', 'S', 'K', 'T', 'S', 'C', 'U'],\n ['S', 'D', 'T', 'S', 'C', 'B', 'S', 'O', 'J', 'S', 'K', 'T', 'S', 'R', 'U'],\n ['J', 'S', 'P', 'Q', 'S', 'O', 'J', 'S', 'O', 'K', 'U'],\n ['N', 'S', 'C', 'L', 'J', 'S', 'O', 'K', 'S', 'O', 'U'],\n ['N', 'S', 'C', 'L', 'S', 'O', 'J', 'S', 'O', 'K', 'U'],\n ['N', 'S', 'C', 'Q', 'J', 'S', 'O', 'K', 'S', 'O', 'U'],\n ['N', 'S', 'C', 'Q', 'S', 'O', 'J', 'S', 'O', 'K', 'U'],\n ['N', 'S', 'F', 'Q', 'S', 'O', 'J', 'S', 'O', 'K', 'U'],\n ['N', 'S', 'I', 'Q', 'S', 'O', 'J', 'S', 'O', 'K', 'U'],\n ['N', 'S', 'P', 'Q', 'S', 'O', 'J', 'S', 'O', 'K', 'U'],\n ['N', 'S', 'R', 'Q', 'S', 'O', 'J', 'S', 'O', 'K', 'U'],\n ['S',\n  'D',\n  'N',\n  'S',\n  'I',\n  'B',\n  'S',\n  'O',\n  'J',\n  'S',\n  'O',\n  'K',\n  'J',\n  'S',\n  'P',\n  'U'],\n ['S',\n  'D',\n  'N',\n  'S',\n  'I',\n  'B',\n  'S',\n  'O',\n  'J',\n  'S',\n  'O',\n  'K',\n  'N',\n  'S',\n  'I',\n  'U'],\n ['S',\n  'D',\n  'N',\n  'S',\n  'I',\n  'B',\n  'S',\n  'O',\n  'J',\n  'S',\n  'O',\n  'K',\n  'T',\n  'S',\n  'C',\n  'U'],\n ['S',\n  'D',\n  'N',\n  'S',\n  'I',\n  'B',\n  'S',\n  'O',\n  'J',\n  'S',\n  'O',\n  'K',\n  'T',\n  'S',\n  'F',\n  'U'],\n ['S',\n  'D',\n  'N',\n  'S',\n  'I',\n  'B',\n  'S',\n  'O',\n  'J',\n  'S',\n  'O',\n  'K',\n  'T',\n  'S',\n  'R',\n  'U'],\n ['S',\n  'D',\n  'T',\n  'S',\n  'C',\n  'B',\n  'S',\n  'O',\n  'J',\n  'S',\n  'O',\n  'K',\n  'N',\n  'S',\n  'I',\n  'U'],\n ['S',\n  'D',\n  'T',\n  'S',\n  'C',\n  'B',\n  'S',\n  'O',\n  'J',\n  'S',\n  'O',\n  'K',\n  'T',\n  'S',\n  'C',\n  'U'],\n ['S',\n  'D',\n  'T',\n  'S',\n  'R',\n  'B',\n  'S',\n  'O',\n  'J',\n  'S',\n  'O',\n  'K',\n  'N',\n  'S',\n  'I',\n  'U'],\n ['S',\n  'D',\n  'T',\n  'S',\n  'R',\n  'B',\n  'S',\n  'O',\n  'J',\n  'S',\n  'O',\n  'K',\n  'T',\n  'S',\n  'R',\n  'U'],\n ['S', 'O', 'L', 'J', 'S', 'O', 'K', 'J', 'S', 'P', 'U'],\n ['S', 'O', 'L', 'J', 'S', 'O', 'K', 'N', 'S', 'C', 'U'],\n ['S', 'O', 'L', 'J', 'S', 'O', 'K', 'N', 'S', 'F', 'U'],\n ['S', 'O', 'L', 'J', 'S', 'O', 'K', 'N', 'S', 'I', 'U'],\n ['S', 'O', 'L', 'J', 'S', 'O', 'K', 'N', 'S', 'R', 'U'],\n ['S', 'O', 'L', 'J', 'S', 'O', 'K', 'T', 'S', 'C', 'U'],\n ['S', 'O', 'L', 'J', 'S', 'O', 'K', 'T', 'S', 'F', 'U'],\n ['S', 'O', 'L', 'J', 'S', 'O', 'K', 'T', 'S', 'R', 'U'],\n ['S', 'O', 'N', 'S', 'C', 'L', 'J', 'S', 'O', 'K', 'U'],\n ['S', 'O', 'N', 'S', 'I', 'L', 'J', 'S', 'O', 'K', 'U'],\n ['S', 'O', 'T', 'S', 'C', 'L', 'J', 'S', 'O', 'K', 'U'],\n ['S', 'O', 'T', 'S', 'F', 'L', 'J', 'S', 'O', 'K', 'U'],\n ['S', 'O', 'T', 'S', 'R', 'L', 'J', 'S', 'O', 'K', 'U'],\n ['T', 'S', 'R', 'Q', 'S', 'O', 'J', 'S', 'O', 'K', 'U'],\n ['S', 'O', 'N', 'S', 'I', 'L', 'J', 'S', 'O', 'K', 'T', 'S', 'C', 'U'],\n ['S', 'O', 'N', 'S', 'I', 'L', 'J', 'S', 'O', 'K', 'T', 'S', 'F', 'U'],\n ['S', 'O', 'N', 'S', 'I', 'L', 'J', 'S', 'O', 'K', 'T', 'S', 'R', 'U']]"
     },
     "execution_count": 774,
     "metadata": {},
     "output_type": "execute_result"
    }
   ],
   "source": [
    "# Test the function\n",
    "token_arrays = convert_sentences_to_tokens(sentences, token_dictionary)\n",
    "token_arrays"
   ],
   "metadata": {
    "collapsed": false,
    "ExecuteTime": {
     "end_time": "2023-10-30T13:42:02.474905400Z",
     "start_time": "2023-10-30T13:42:02.417907900Z"
    }
   }
  },
  {
   "cell_type": "code",
   "execution_count": 775,
   "outputs": [
    {
     "data": {
      "text/plain": "'Resource/tokenized_sentences_output.txt'"
     },
     "execution_count": 775,
     "metadata": {},
     "output_type": "execute_result"
    }
   ],
   "source": [
    "# Convert the token arrays to strings\n",
    "token_strings = [''.join(token_array) for token_array in token_arrays]\n",
    "\n",
    "# Write the strings to a txt file\n",
    "output_file_path = 'Resource/tokenized_sentences_output.txt'\n",
    "with open(output_file_path, 'w') as f:\n",
    "    for token_string in token_strings:\n",
    "        f.write(f\"{token_string}\\n\")\n",
    "\n",
    "output_file_path"
   ],
   "metadata": {
    "collapsed": false,
    "ExecuteTime": {
     "end_time": "2023-10-30T13:42:08.214903800Z",
     "start_time": "2023-10-30T13:42:08.196937200Z"
    }
   }
  },
  {
   "cell_type": "code",
   "execution_count": 777,
   "outputs": [
    {
     "data": {
      "text/plain": "['SDBU\\n',\n 'SDLU\\n',\n 'SDQU\\n',\n 'SEBU\\n',\n 'SELU\\n',\n 'SEQU\\n',\n 'SHBU\\n',\n 'SHLU\\n',\n 'SHQU\\n',\n 'SKQU\\n',\n 'SMLU\\n',\n 'SMQU\\n',\n 'SOLU\\n',\n 'SOQU\\n',\n 'SOKQU\\n',\n 'SDBJCU\\n',\n 'SDBSOU\\n',\n 'SDGSMU\\n',\n 'SEBSMU\\n',\n 'SEGSDU\\n',\n 'SEGSMU\\n',\n 'SHGSDU\\n',\n 'SHGSEU\\n',\n 'SHGSMU\\n',\n 'SMGSDU\\n',\n 'ASRQSDU\\n',\n 'ASRQSEU\\n',\n 'JSCBSDU\\n',\n 'NSCBSDU\\n',\n 'SCQNSIU\\n',\n 'SDASRBU\\n',\n 'SDASRQU\\n',\n 'SDBASRU\\n',\n 'SDBJSCU\\n',\n 'SDBJSFU\\n',\n 'SDJSCBU\\n',\n 'SDJSCLU\\n',\n 'SDJSCQU\\n',\n 'SDJSFBU\\n',\n 'SDJSFQU\\n',\n 'SDNSCBU\\n',\n 'SDNSCLU\\n',\n 'SDNSCQU\\n',\n 'SDNSIBU\\n',\n 'SDNSILU\\n',\n 'SDNSIQU\\n',\n 'SDQASRU\\n',\n 'SDQJSCU\\n',\n 'SDQJSFU\\n',\n 'SDQNSCU\\n',\n 'SDQNSFU\\n',\n 'SDTSCBU\\n',\n 'SDTSCLU\\n',\n 'SDTSRBU\\n',\n 'SDTSRLU\\n',\n 'SDTSRQU\\n',\n 'SEASRQU\\n',\n 'SEBNSIU\\n',\n 'SEBNSRU\\n',\n 'SEBTSFU\\n',\n 'SEBTSRU\\n',\n 'SEJSFQU\\n',\n 'SENSCLU\\n',\n 'SENSCQU\\n',\n 'SENSDLU\\n',\n 'SENSDQU\\n',\n 'SENSFLU\\n',\n 'SENSFQU\\n',\n 'SENSIBU\\n',\n 'SENSILU\\n',\n 'SENSIQU\\n',\n 'SENSPLU\\n',\n 'SENSPQU\\n',\n 'SENSRBU\\n',\n 'SENSRLU\\n',\n 'SENSRQU\\n',\n 'SEQJSCU\\n',\n 'SEQJSFU\\n',\n 'SEQNSCU\\n',\n 'SEQNSDU\\n',\n 'SEQNSFU\\n',\n 'SEQNSIU\\n',\n 'SEQNSPU\\n',\n 'SEQNSRU\\n',\n 'SEQTSCU\\n',\n 'SEQTSFU\\n',\n 'SEQTSRU\\n',\n 'SETSCBU\\n',\n 'SETSCLU\\n',\n 'SETSFBU\\n',\n 'SETSFLU\\n',\n 'SETSRBU\\n',\n 'SETSRLU\\n',\n 'SFQASRU\\n',\n 'SFQNSIU\\n',\n 'SFQTSRU\\n',\n 'SHBNSIU\\n',\n 'SHBTSFU\\n',\n 'SHBTSRU\\n',\n 'SHNSCLU\\n',\n 'SHNSCQU\\n',\n 'SHNSDLU\\n',\n 'SHNSIBU\\n',\n 'SHNSILU\\n',\n 'SHNSIQU\\n',\n 'SHQJSCU\\n',\n 'SHQNSCU\\n',\n 'SHQNSIU\\n',\n 'SHQTSRU\\n',\n 'SHTSCBU\\n',\n 'SHTSCLU\\n',\n 'SHTSFBU\\n',\n 'SHTSFLU\\n',\n 'SHTSRBU\\n',\n 'SHTSRLU\\n',\n 'SHTSRQU\\n',\n 'SKJSPLU\\n',\n 'SKJSPQU\\n',\n 'SKNSCLU\\n',\n 'SKNSCQU\\n',\n 'SKNSFLU\\n',\n 'SKNSFQU\\n',\n 'SKNSPLU\\n',\n 'SKNSPQU\\n',\n 'SKNSRLU\\n',\n 'SKNSRQU\\n',\n 'SKQJSPU\\n',\n 'SKQNSCU\\n',\n 'SKQNSFU\\n',\n 'SKQNSIU\\n',\n 'SKQNSPU\\n',\n 'SKQNSRU\\n',\n 'SKQTSCU\\n',\n 'SKQTSFU\\n',\n 'SKQTSRU\\n',\n 'SMNSILU\\n',\n 'SMNSIQU\\n',\n 'SMQNSIU\\n',\n 'SMQTSCU\\n',\n 'SMQTSFU\\n',\n 'SMQTSPU\\n',\n 'SMQTSRU\\n',\n 'SMTSCLU\\n',\n 'SMTSCQU\\n',\n 'SMTSFLU\\n',\n 'SMTSFQU\\n',\n 'SMTSPLU\\n',\n 'SMTSPQU\\n',\n 'SMTSRLU\\n',\n 'SMTSRQU\\n',\n 'SONSCLU\\n',\n 'SONSFLU\\n',\n 'SONSFQU\\n',\n 'SONSILU\\n',\n 'SONSPLU\\n',\n 'SONSPQU\\n',\n 'SONSRLU\\n',\n 'SONSRQU\\n',\n 'SOQJSKU\\n',\n 'SOQJSPU\\n',\n 'SOTSCLU\\n',\n 'SOTSFLU\\n',\n 'SOTSRLU\\n',\n 'SPQNSIU\\n',\n 'SRQNSIU\\n',\n 'SDBSOJCU\\n',\n 'SOKJSPLU\\n',\n 'SOKJSPQU\\n',\n 'SOKNSCLU\\n',\n 'SOKNSCQU\\n',\n 'SOKNSFLU\\n',\n 'SOKNSFQU\\n',\n 'SOKNSPLU\\n',\n 'SOKNSPQU\\n',\n 'SOKNSRLU\\n',\n 'SOKNSRQU\\n',\n 'SOKQJSPU\\n',\n 'SOKQNSCU\\n',\n 'SOKQNSFU\\n',\n 'SOKQNSIU\\n',\n 'SOKQNSPU\\n',\n 'SOKQNSRU\\n',\n 'SOKQTSCU\\n',\n 'SOKQTSFU\\n',\n 'SOKQTSRU\\n',\n 'JSCSDBSOU\\n',\n 'NSCSDBSOU\\n',\n 'SDASRBSOU\\n',\n 'SDBSOASRU\\n',\n 'SDBSOJSCU\\n',\n 'SDBSOJSKU\\n',\n 'SDBSOJSPU\\n',\n 'SDBSONSRU\\n',\n 'SDGSMNSIU\\n',\n 'SDGSMTSCU\\n',\n 'SDGSMTSFU\\n',\n 'SDGSMTSPU\\n',\n 'SDGSMTSRU\\n',\n 'SDJSCBSOU\\n',\n 'SDJSFBSOU\\n',\n 'SDNSCBSOU\\n',\n 'SDNSIBSOU\\n',\n 'SDNSIGSMU\\n',\n 'SDTSRBSOU\\n',\n 'SEBSMNSIU\\n',\n 'SEBSMTSFU\\n',\n 'SEBSMTSRU\\n',\n 'SEGSDNSIU\\n',\n 'SEGSMNSIU\\n',\n 'SEGSMTSCU\\n',\n 'SEGSMTSFU\\n',\n 'SEGSMTSPU\\n',\n 'SEGSMTSRU\\n',\n 'SENSDJCLU\\n',\n 'SENSDJCQU\\n',\n 'SENSIBSMU\\n',\n 'SENSIGSDU\\n',\n 'SENSIGSMU\\n',\n 'SETSCGSMU\\n',\n 'SETSFBSMU\\n',\n 'SETSFGSMU\\n',\n 'SETSRBSMU\\n',\n 'SETSRGSMU\\n',\n 'SHGSETSCU\\n',\n 'SHGSETSRU\\n',\n 'SHGSMTSCU\\n',\n 'SHGSMTSPU\\n',\n 'SHGSMTSRU\\n',\n 'SHNSDJCLU\\n',\n 'SHNSIGSDU\\n',\n 'SHNSIGSEU\\n',\n 'SHNSIGSMU\\n',\n 'SMGSDNSIU\\n',\n 'SMNSIGSDU\\n',\n 'ASRQSDJSFU\\n',\n 'ASRQSDNSFU\\n',\n 'ASRQSEJSFU\\n',\n 'ASRQSENSFU\\n',\n 'SDASRQJSFU\\n',\n 'SDASRQNSFU\\n',\n 'SDJSFASRBU\\n',\n 'SDJSFASRQU\\n',\n 'SDJSFBASRU\\n',\n 'SDJSFQASRU\\n',\n 'SDTSRQNSIU\\n',\n 'SEASRQJSFU\\n',\n 'SEASRQNSFU\\n',\n 'SENSDJSCLU\\n',\n 'SENSDJSCQU\\n',\n 'SENSDJSFLU\\n',\n 'SENSDJSFQU\\n',\n 'SENSDNSCLU\\n',\n 'SENSDNSCQU\\n',\n 'SENSDNSILU\\n',\n 'SENSDNSIQU\\n',\n 'SENSDTSCLU\\n',\n 'SENSDTSCQU\\n',\n 'SENSDTSRLU\\n',\n 'SENSDTSRQU\\n',\n 'SENSIBTSRU\\n',\n 'SENSIQTSCU\\n',\n 'SENSIQTSRU\\n',\n 'SEQTSCNSIU\\n',\n 'SEQTSCTSRU\\n',\n 'SEQTSRNSIU\\n',\n 'SETSCQNSIU\\n',\n 'SETSFQNSIU\\n',\n 'SETSRQNSIU\\n',\n 'SFNSIQTSRU\\n',\n 'SHNSDJSCLU\\n',\n 'SHNSDJSFLU\\n',\n 'SHNSDNSCLU\\n',\n 'SHNSDNSILU\\n',\n 'SHNSDTSRLU\\n',\n 'SHNSIBTSRU\\n',\n 'SHNSIQTSRU\\n',\n 'SHTSRQNSIU\\n',\n 'SKNSIQTSCU\\n',\n 'SKNSIQTSFU\\n',\n 'SKNSIQTSRU\\n',\n 'SMNSIQTSCU\\n',\n 'SMNSIQTSPU\\n',\n 'SMNSIQTSRU\\n',\n 'SMTSCQNSIU\\n',\n 'SMTSFQNSIU\\n',\n 'SMTSPQNSIU\\n',\n 'SMTSRQNSIU\\n',\n 'SOJSKJSPLU\\n',\n 'SOJSKJSPQU\\n',\n 'SOJSKNSCLU\\n',\n 'SOJSKNSCQU\\n',\n 'SOJSKNSFLU\\n',\n 'SOJSKNSFQU\\n',\n 'SOJSKNSPLU\\n',\n 'SOJSKNSPQU\\n',\n 'SOJSKNSRLU\\n',\n 'SOJSKNSRQU\\n',\n 'SONSCQJSKU\\n',\n 'SONSIQJSKU\\n',\n 'SOQJSKJSPU\\n',\n 'SOQJSKNSCU\\n',\n 'SOQJSKNSFU\\n',\n 'SOQJSKNSIU\\n',\n 'SOQJSKNSRU\\n',\n 'SOQJSKTSCU\\n',\n 'SOQJSKTSFU\\n',\n 'SOQJSKTSRU\\n',\n 'SOTSCQJSKU\\n',\n 'SOTSFQJSKU\\n',\n 'SOTSRQJSKU\\n',\n 'SOKNSIQTSCU\\n',\n 'SOKNSIQTSFU\\n',\n 'SOKNSIQTSRU\\n',\n 'JSCLSDU\\n',\n 'JSCQSDU\\n',\n 'JSCSDBSOJSKU\\n',\n 'JSFQSEU\\n',\n 'JSKLSOU\\n',\n 'JSKQSOU\\n',\n 'JSPLSKU\\n',\n 'JSPQSKU\\n',\n 'JSPQSOU\\n',\n 'NSCLSDU\\n',\n 'NSCLSEU\\n',\n 'NSCLSHU\\n',\n 'NSCLSKU\\n',\n 'NSCLSOU\\n',\n 'NSCQSDU\\n',\n 'NSCQSEU\\n',\n 'NSCQSHU\\n',\n 'NSCQSKU\\n',\n 'NSCQSOU\\n',\n 'NSCSDBSOJSKU\\n',\n 'NSDLSEU\\n',\n 'NSDLSHU\\n',\n 'NSDQSEU\\n',\n 'NSFLSEU\\n',\n 'NSFLSKU\\n',\n 'NSFLSOU\\n',\n 'NSFQSEU\\n',\n 'NSFQSKU\\n',\n 'NSFQSOU\\n',\n 'NSILSEU\\n',\n 'NSILSHU\\n',\n 'NSILSMU\\n',\n 'NSIQSEU\\n',\n 'NSIQSHU\\n',\n 'NSIQSKU\\n',\n 'NSIQSMU\\n',\n 'NSIQSOU\\n',\n 'NSPLSEU\\n',\n 'NSPLSKU\\n',\n 'NSPLSOU\\n',\n 'NSPQSEU\\n',\n 'NSPQSKU\\n',\n 'NSPQSOU\\n',\n 'NSRLSEU\\n',\n 'NSRLSKU\\n',\n 'NSRLSOU\\n',\n 'NSRQSEU\\n',\n 'NSRQSKU\\n',\n 'NSRQSOU\\n',\n 'SDASRBSOJSKU\\n',\n 'SDASRBSONSRU\\n',\n 'SDBSOJSKJSPU\\n',\n 'SDBSOJSKNSFU\\n',\n 'SDBSOJSKNSIU\\n',\n 'SDBSOJSKNSRU\\n',\n 'SDBSOJSKTSFU\\n',\n 'SDBSOJSKTSRU\\n',\n 'SDJSCBSOJSKU\\n',\n 'SDJSFASRBSOU\\n',\n 'SDJSFBSOJSKU\\n',\n 'SDJSFBSONSRU\\n',\n 'SDLJSCU\\n',\n 'SDLNSCU\\n',\n 'SDLNSIU\\n',\n 'SDLTSCU\\n',\n 'SDLTSRU\\n',\n 'SDNSCBSOJSKU\\n',\n 'SDNSIBSOJSKU\\n',\n 'SDNSIBSOJSPU\\n',\n 'SDNSIBSOTSFU\\n',\n 'SDNSIBSOTSRU\\n',\n 'SDNSIGSMTSCU\\n',\n 'SDNSIGSMTSPU\\n',\n 'SDNSIGSMTSRU\\n',\n 'SDTSRBSOJSKU\\n',\n 'SEBTSCU\\n',\n 'SELJSCU\\n',\n 'SELJSFU\\n',\n 'SELNSCU\\n',\n 'SELNSDU\\n',\n 'SELNSFU\\n',\n 'SELNSIU\\n',\n 'SELNSRU\\n',\n 'SELTSCU\\n',\n 'SELTSFU\\n',\n 'SELTSRU\\n',\n 'SENSIBSMTSRU\\n',\n 'SENSIGSMTSCU\\n',\n 'SENSIGSMTSPU\\n',\n 'SENSIGSMTSRU\\n',\n 'SFLNSIU\\n',\n 'SFLTSRU\\n',\n 'SHBTSCU\\n',\n 'SHLJSCU\\n',\n 'SHLNSCU\\n',\n 'SHLNSDU\\n',\n 'SHLNSIU\\n',\n 'SHLTSCU\\n',\n 'SHLTSFU\\n',\n 'SHLTSRU\\n',\n 'SHNSIGSETSCU\\n',\n 'SHNSIGSETSRU\\n',\n 'SHNSIGSMTSCU\\n',\n 'SHNSIGSMTSPU\\n',\n 'SHNSIGSMTSRU\\n',\n 'SILTSCU\\n',\n 'SILTSDU\\n',\n 'SILTSEU\\n',\n 'SILTSFU\\n',\n 'SILTSHU\\n',\n 'SILTSMU\\n',\n 'SILTSPU\\n',\n 'SILTSRU\\n',\n 'SKLJSPU\\n',\n 'SKLNSCU\\n',\n 'SKLNSFU\\n',\n 'SKLNSIU\\n',\n 'SKLNSPU\\n',\n 'SKLNSRU\\n',\n 'SKLTSCU\\n',\n 'SKLTSFU\\n',\n 'SKLTSRU\\n',\n 'SMLNSIU\\n',\n 'SMLTSCU\\n',\n 'SMLTSFU\\n',\n 'SMLTSPU\\n',\n 'SMLTSRU\\n',\n 'SOLJSKU\\n',\n 'SOLJSPU\\n',\n 'SOLNSCU\\n',\n 'SOLNSFU\\n',\n 'SOLNSPU\\n',\n 'SOLNSRU\\n',\n 'SOLTSCU\\n',\n 'SOLTSFU\\n',\n 'SOLTSPU\\n',\n 'TSRLSEU\\n',\n 'TSRLSHU\\n',\n 'TSRLSMU\\n',\n 'TSRQSEU\\n',\n 'TSRQSHU\\n',\n 'TSRQSKU\\n',\n 'TSRQSMU\\n',\n 'TSRQSOU\\n',\n 'JSOKLSOU\\n',\n 'JSOKQSOU\\n',\n 'JSPLSOKU\\n',\n 'JSPQSOKU\\n',\n 'NSCLSOKU\\n',\n 'NSCQSOKU\\n',\n 'NSFLSOKU\\n',\n 'NSFQSOKU\\n',\n 'NSIQSOKU\\n',\n 'NSPLSOKU\\n',\n 'NSPQSOKU\\n',\n 'NSRLSOKU\\n',\n 'NSRQSOKU\\n',\n 'SENSIQTSCNSIU\\n',\n 'SENSIQTSRNSIU\\n',\n 'SOKLJSPU\\n',\n 'SOKLNSCU\\n',\n 'SOKLNSFU\\n',\n 'SOKLNSIU\\n',\n 'SOKLNSPU\\n',\n 'SOKLNSRU\\n',\n 'SOKLTSCU\\n',\n 'SOKLTSFU\\n',\n 'SOKLTSRU\\n',\n 'SONSIQJSKTSCU\\n',\n 'SONSIQJSKTSFU\\n',\n 'SONSIQJSKTSRU\\n',\n 'SOQJSOKU\\n',\n 'TSRQSOKU\\n',\n 'NSDJCLSEU\\n',\n 'NSDJCLSHU\\n',\n 'NSDJCQSEU\\n',\n 'SDTSCBSOU\\n',\n 'SEBSMTSCU\\n',\n 'SETSCBSMU\\n',\n 'JSCLSHNSDU\\n',\n 'JSFASRQSDU\\n',\n 'JSFASRQSEU\\n',\n 'JSKJSPLSOU\\n',\n 'JSKJSPQSOU\\n',\n 'JSKNSCLSOU\\n',\n 'JSKNSCQSOU\\n',\n 'JSKNSFLSOU\\n',\n 'JSKNSFQSOU\\n',\n 'JSKNSIQSOU\\n',\n 'JSKNSPLSOU\\n',\n 'JSKNSPQSOU\\n',\n 'JSKNSRLSOU\\n',\n 'JSKNSRQSOU\\n',\n 'JSKTSCQSOU\\n',\n 'JSKTSFQSOU\\n',\n 'JSKTSRQSOU\\n',\n 'JSPQSOJSKU\\n',\n 'NSCLSHNSDU\\n',\n 'NSCLSOJSKU\\n',\n 'NSCQSOJSKU\\n',\n 'NSDASRLSEU\\n',\n 'NSDASRQSEU\\n',\n 'NSDJSCLSEU\\n',\n 'NSDJSCLSHU\\n',\n 'NSDJSCQSEU\\n',\n 'NSDJSFLSEU\\n',\n 'NSDJSFLSHU\\n',\n 'NSDJSFQSEU\\n',\n 'NSDNSCLSEU\\n',\n 'NSDNSCLSHU\\n',\n 'NSDNSCQSEU\\n',\n 'NSDNSILSEU\\n',\n 'NSDNSILSHU\\n',\n 'NSDNSIQSEU\\n',\n 'NSDTSCLSEU\\n',\n 'NSDTSCQSEU\\n',\n 'NSDTSRLSEU\\n',\n 'NSDTSRLSHU\\n',\n 'NSDTSRQSEU\\n',\n 'NSFASRQSDU\\n',\n 'NSFASRQSEU\\n',\n 'NSFQSOJSKU\\n',\n 'NSIQSOJSKU\\n',\n 'NSPQSOJSKU\\n',\n 'NSRQSOJSKU\\n',\n 'SDASRBSOJSKNSRU\\n',\n 'SDBSOJSOKU\\n',\n 'SDJSFASRBSOJSKU\\n',\n 'SDJSFASRBSONSRU\\n',\n 'SDJSFBSOJSKNSRU\\n',\n 'SDNSIBSOJSKJSPU\\n',\n 'SDNSIBSOJSKNSIU\\n',\n 'SDNSIBSOJSKTSFU\\n',\n 'SDNSIBSOJSKTSRU\\n',\n 'SDNSILTSCU\\n',\n 'SDNSILTSRU\\n',\n 'SDTSCLNSIU\\n',\n 'SDTSRBSOJSKNSIU\\n',\n 'SDTSRBSOJSKTSRU\\n',\n 'SDTSRLNSIU\\n',\n 'SELNSDASRU\\n',\n 'SELNSDJSFU\\n',\n 'SELNSDNSIU\\n',\n 'SELNSDTSCU\\n',\n 'SELNSDTSRU\\n',\n 'SENSCLNSDU\\n',\n 'SENSIBTSCU\\n',\n 'SENSILTSCU\\n',\n 'SENSILTSRU\\n',\n 'SETSCLNSIU\\n',\n 'SETSFLNSIU\\n',\n 'SETSRLNSIU\\n',\n 'SFNSILTSRU\\n',\n 'SHLNSDJSCU\\n',\n 'SHLNSDNSCU\\n',\n 'SHLNSDNSIU\\n',\n 'SHLNSDTSRU\\n',\n 'SHNSCLNSDU\\n',\n 'SHNSILTSCU\\n',\n 'SHNSILTSRU\\n',\n 'SHTSCLNSIU\\n',\n 'SHTSFLNSIU\\n',\n 'SHTSRLNSIU\\n',\n 'SKNSILTSCU\\n',\n 'SKNSILTSFU\\n',\n 'SKNSILTSRU\\n',\n 'SMNSILTSCU\\n',\n 'SMNSILTSPU\\n',\n 'SMNSILTSRU\\n',\n 'SMTSCLNSIU\\n',\n 'SMTSFLNSIU\\n',\n 'SMTSPLNSIU\\n',\n 'SMTSRLNSIU\\n',\n 'SOLJSKJSPU\\n',\n 'SOLJSKNSCU\\n',\n 'SOLJSKNSFU\\n',\n 'SOLJSKNSIU\\n',\n 'SOLJSKNSRU\\n',\n 'SOLJSKTSCU\\n',\n 'SOLJSKTSFU\\n',\n 'SOLJSKTSRU\\n',\n 'SONSCLJSKU\\n',\n 'SONSILJSKU\\n',\n 'SONSILTSCU\\n',\n 'SONSILTSFU\\n',\n 'SONSILTSPU\\n',\n 'SOTSCLJSKU\\n',\n 'SOTSFLJSKU\\n',\n 'SOTSRLJSKU\\n',\n 'TSRQSOJSKU\\n',\n 'JSOKJSPLSOU\\n',\n 'JSOKJSPQSOU\\n',\n 'JSOKNSCLSOU\\n',\n 'JSOKNSCQSOU\\n',\n 'JSOKNSFLSOU\\n',\n 'JSOKNSFQSOU\\n',\n 'JSOKNSIQSOU\\n',\n 'JSOKNSPLSOU\\n',\n 'JSOKNSPQSOU\\n',\n 'JSOKNSRLSOU\\n',\n 'JSOKNSRQSOU\\n',\n 'JSOKTSCQSOU\\n',\n 'JSOKTSFQSOU\\n',\n 'JSOKTSRQSOU\\n',\n 'SOJSOKJSPLU\\n',\n 'SOJSOKJSPQU\\n',\n 'SOJSOKNSCLU\\n',\n 'SOJSOKNSCQU\\n',\n 'SOJSOKNSFLU\\n',\n 'SOJSOKNSFQU\\n',\n 'SOJSOKNSPLU\\n',\n 'SOJSOKNSPQU\\n',\n 'SOJSOKNSRLU\\n',\n 'SOJSOKNSRQU\\n',\n 'SOKNSILTSCU\\n',\n 'SOKNSILTSFU\\n',\n 'SOKNSILTSRU\\n',\n 'SONSCQJSOKU\\n',\n 'SONSIQJSOKU\\n',\n 'SOQJSOKJSPU\\n',\n 'SOQJSOKNSCU\\n',\n 'SOQJSOKNSFU\\n',\n 'SOQJSOKNSIU\\n',\n 'SOQJSOKNSRU\\n',\n 'SOQJSOKTSCU\\n',\n 'SOQJSOKTSFU\\n',\n 'SOQJSOKTSRU\\n',\n 'SOTSCQJSOKU\\n',\n 'SOTSFQJSOKU\\n',\n 'SOTSRQJSOKU\\n',\n 'SDBSOJSKTSCU\\n',\n 'SDNSIBSOTSCU\\n',\n 'SDTSCBSOJSKU\\n',\n 'SENSIBSMTSCU\\n',\n 'JSCSDBSOJSOKU\\n',\n 'NSCBSOJSOKSDU\\n',\n 'NSCSDBSOJSOKU\\n',\n 'SDBSOJSOKJSPU\\n',\n 'SDBSOJSOKNSFU\\n',\n 'SDBSOJSOKNSIU\\n',\n 'SDBSOJSOKNSRU\\n',\n 'SDBSOJSOKTSCU\\n',\n 'SDBSOJSOKTSFU\\n',\n 'SDBSOJSOKTSRU\\n',\n 'SDJSCBSOJSOKU\\n',\n 'SDJSFASRBSOJSKNSRU\\n',\n 'SDNSCBSOJSOKU\\n',\n 'SDNSIBSOJSOKU\\n',\n 'SDTSCBSOJSOKU\\n',\n 'SDTSRBSOJSOKU\\n',\n 'SENSCLNSDJSCU\\n',\n 'SENSCLNSDNSCU\\n',\n 'SHNSCLNSDJSCU\\n',\n 'SHNSCLNSDNSCU\\n',\n 'SOLJSOKU\\n',\n 'SONSILJSKTSCU\\n',\n 'SONSILJSKTSFU\\n',\n 'SONSILJSKTSRU\\n',\n 'SONSIQJSOKTSCU\\n',\n 'SONSIQJSOKTSFU\\n',\n 'SONSIQJSOKTSRU\\n',\n 'SDNSIBSOJSKTSCU\\n',\n 'SDTSCBSOJSKNSIU\\n',\n 'SDTSCBSOJSKTSCU\\n',\n 'SDTSCBSOJSKTSRU\\n',\n 'JSPQSOJSOKU\\n',\n 'NSCLJSOKSOU\\n',\n 'NSCLSOJSOKU\\n',\n 'NSCQJSOKSOU\\n',\n 'NSCQSOJSOKU\\n',\n 'NSFQSOJSOKU\\n',\n 'NSIQSOJSOKU\\n',\n 'NSPQSOJSOKU\\n',\n 'NSRQSOJSOKU\\n',\n 'SDNSIBSOJSOKJSPU\\n',\n 'SDNSIBSOJSOKNSIU\\n',\n 'SDNSIBSOJSOKTSCU\\n',\n 'SDNSIBSOJSOKTSFU\\n',\n 'SDNSIBSOJSOKTSRU\\n',\n 'SDTSCBSOJSOKNSIU\\n',\n 'SDTSCBSOJSOKTSCU\\n',\n 'SDTSRBSOJSOKNSIU\\n',\n 'SDTSRBSOJSOKTSRU\\n',\n 'SOLJSOKJSPU\\n',\n 'SOLJSOKNSCU\\n',\n 'SOLJSOKNSFU\\n',\n 'SOLJSOKNSIU\\n',\n 'SOLJSOKNSRU\\n',\n 'SOLJSOKTSCU\\n',\n 'SOLJSOKTSFU\\n',\n 'SOLJSOKTSRU\\n',\n 'SONSCLJSOKU\\n',\n 'SONSILJSOKU\\n',\n 'SOTSCLJSOKU\\n',\n 'SOTSFLJSOKU\\n',\n 'SOTSRLJSOKU\\n',\n 'TSRQSOJSOKU\\n',\n 'SONSILJSOKTSCU\\n',\n 'SONSILJSOKTSFU\\n',\n 'SONSILJSOKTSRU\\n']"
     },
     "execution_count": 777,
     "metadata": {},
     "output_type": "execute_result"
    }
   ],
   "source": [
    "# Reading the file into a pandas.Series\n",
    "file_path = 'Resource/tokenized_sentences_output.txt'\n",
    "\n",
    "# Reading the file line by line to treat each line as a tokenized sentence\n",
    "with open(file_path, 'r') as f:\n",
    "    tokenized_sentences = f.readlines()\n",
    "\n",
    "tokenized_sentences"
   ],
   "metadata": {
    "collapsed": false,
    "ExecuteTime": {
     "end_time": "2023-10-30T13:42:20.443300Z",
     "start_time": "2023-10-30T13:42:20.427290500Z"
    }
   }
  },
  {
   "cell_type": "code",
   "execution_count": 713,
   "outputs": [
    {
     "data": {
      "text/plain": "0                SDBU\n1                SDLU\n2                SDQU\n3                SEBU\n4                SELU\n            ...      \n708       SOTSRLJSOKU\n709       TSRQSOJSOKU\n710    SONSILJSOKTSCU\n711    SONSILJSOKTSFU\n712    SONSILJSOKTSRU\nLength: 713, dtype: object"
     },
     "execution_count": 713,
     "metadata": {},
     "output_type": "execute_result"
    }
   ],
   "source": [
    "import pandas as pd\n",
    "\n",
    "# Converting the list of tokenized sentences to a pandas.Series\n",
    "tokenized_sentences_series = pd.Series(tokenized_sentences).map(lambda x: x.strip('\\n'))\n",
    "\n",
    "# Displaying the first few entries to get an idea of the content\n",
    "tokenized_sentences_series"
   ],
   "metadata": {
    "collapsed": false,
    "ExecuteTime": {
     "end_time": "2023-10-30T13:12:35.618498900Z",
     "start_time": "2023-10-30T13:12:35.572907600Z"
    }
   }
  },
  {
   "cell_type": "code",
   "execution_count": 714,
   "outputs": [
    {
     "data": {
      "text/plain": "     X_sequences y_tokens\n0            SDB        U\n1            SDL        U\n2            SDQ        U\n3            SEB        U\n4            SEL        U\n...          ...      ...\n4331         JSO        K\n4332         SOK        T\n4333         OKT        S\n4334         KTS        R\n4335         TSR        U\n\n[4336 rows x 2 columns]",
      "text/html": "<div>\n<style scoped>\n    .dataframe tbody tr th:only-of-type {\n        vertical-align: middle;\n    }\n\n    .dataframe tbody tr th {\n        vertical-align: top;\n    }\n\n    .dataframe thead th {\n        text-align: right;\n    }\n</style>\n<table border=\"1\" class=\"dataframe\">\n  <thead>\n    <tr style=\"text-align: right;\">\n      <th></th>\n      <th>X_sequences</th>\n      <th>y_tokens</th>\n    </tr>\n  </thead>\n  <tbody>\n    <tr>\n      <th>0</th>\n      <td>SDB</td>\n      <td>U</td>\n    </tr>\n    <tr>\n      <th>1</th>\n      <td>SDL</td>\n      <td>U</td>\n    </tr>\n    <tr>\n      <th>2</th>\n      <td>SDQ</td>\n      <td>U</td>\n    </tr>\n    <tr>\n      <th>3</th>\n      <td>SEB</td>\n      <td>U</td>\n    </tr>\n    <tr>\n      <th>4</th>\n      <td>SEL</td>\n      <td>U</td>\n    </tr>\n    <tr>\n      <th>...</th>\n      <td>...</td>\n      <td>...</td>\n    </tr>\n    <tr>\n      <th>4331</th>\n      <td>JSO</td>\n      <td>K</td>\n    </tr>\n    <tr>\n      <th>4332</th>\n      <td>SOK</td>\n      <td>T</td>\n    </tr>\n    <tr>\n      <th>4333</th>\n      <td>OKT</td>\n      <td>S</td>\n    </tr>\n    <tr>\n      <th>4334</th>\n      <td>KTS</td>\n      <td>R</td>\n    </tr>\n    <tr>\n      <th>4335</th>\n      <td>TSR</td>\n      <td>U</td>\n    </tr>\n  </tbody>\n</table>\n<p>4336 rows × 2 columns</p>\n</div>"
     },
     "execution_count": 714,
     "metadata": {},
     "output_type": "execute_result"
    }
   ],
   "source": [
    "# Creating sequences of four characters where the first three characters are the input (X), and the 4th character is what we want to predict (y)\n",
    "X_sequences = []\n",
    "y_tokens = []\n",
    "\n",
    "# Loop through each string in the Series\n",
    "for string in tokenized_sentences_series:\n",
    "    # Create sequences of four characters\n",
    "    for i in range(len(string) - 3):\n",
    "        X_sequences.append(string[i:i + 3])\n",
    "        y_tokens.append(string[i + 3])\n",
    "\n",
    "# Converting to pandas.Series for easier manipulation later\n",
    "X_series = pd.Series(X_sequences)\n",
    "y_series = pd.Series(y_tokens)\n",
    "\n",
    "# Displaying some sample X sequences and corresponding y tokens for verification\n",
    "sample_X_sequences = X_series\n",
    "sample_y_tokens = y_series\n",
    "\n",
    "# Converting the X_series and y_series into a pandas.DataFrame\n",
    "conversation_df = pd.DataFrame({\n",
    "    'X_sequences': X_series,\n",
    "    'y_tokens': y_series\n",
    "})\n",
    "\n",
    "# Displaying the first few rows of the DataFrame for verification\n",
    "conversation_df"
   ],
   "metadata": {
    "collapsed": false,
    "ExecuteTime": {
     "end_time": "2023-10-30T13:12:35.618498900Z",
     "start_time": "2023-10-30T13:12:35.582664500Z"
    }
   }
  },
  {
   "cell_type": "code",
   "execution_count": 715,
   "outputs": [
    {
     "data": {
      "text/plain": "S    555\nN     92\nJ     49\nT     11\nA      6\nName: count, dtype: int64"
     },
     "execution_count": 715,
     "metadata": {},
     "output_type": "execute_result"
    }
   ],
   "source": [
    "# Counting the occurrences of the first character in each sequence in the Series\n",
    "first_char_counts = tokenized_sentences_series.apply(lambda x: x[0]).value_counts()\n",
    "\n",
    "# Displaying the frequency table for the first character in each sequence\n",
    "first_char_counts"
   ],
   "metadata": {
    "collapsed": false,
    "ExecuteTime": {
     "end_time": "2023-10-30T13:12:35.721317200Z",
     "start_time": "2023-10-30T13:12:35.601662400Z"
    }
   }
  },
  {
   "cell_type": "code",
   "execution_count": 716,
   "outputs": [],
   "source": [
    "import numpy as np\n",
    "\n",
    "np.set_printoptions(precision=2)\n",
    "\n",
    "def get_token_and_chance(chance_dict: dict, decimals: int = 2, token_dict: dict=token_dictionary) -> pd.DataFrame:\n",
    "    \"\"\"\n",
    "    Get each token's corresponding word and its chance to be the first character in a sequence.\n",
    "\n",
    "    Parameters:\n",
    "    - token_dict (dict): Dictionary that maps tokens to words.\n",
    "    - decimals (int): Number of decimal places for rounding the chances. Default is 2.\n",
    "\n",
    "    Returns:\n",
    "    - list: A list of lists where each inner list contains the word and its rounded chance.\n",
    "    \"\"\"\n",
    "    return pd.DataFrame([[token_dict.get(key[-1], f\"[Unknown: {key}]\"), np.around(chance_dict.get(key, 0), decimals=decimals)] for key in chance_dict], columns=['Word', 'Chance'])"
   ],
   "metadata": {
    "collapsed": false,
    "ExecuteTime": {
     "end_time": "2023-10-30T13:12:35.721317200Z",
     "start_time": "2023-10-30T13:12:35.617498900Z"
    }
   }
  },
  {
   "cell_type": "code",
   "execution_count": 717,
   "outputs": [],
   "source": [
    "from collections import Counter\n",
    "\n",
    "\n",
    "def get_first_n_char_chance(n: int, start_with: str = None) -> dict:\n",
    "    \"\"\"\n",
    "    Get the chance for each sequence of N characters to be the first N characters in a sequence,\n",
    "    optionally filtering sequences that start with a given string.\n",
    "\n",
    "    Parameters:\n",
    "    - n (int): The length of the character sequence.\n",
    "    - start_with (str, optional): A string that the sequence should start with.\n",
    "\n",
    "    Returns:\n",
    "    - dict: A dictionary showing the chance for each sequence of N characters to be the first ones in a sequence.\n",
    "    \"\"\"\n",
    "    if start_with:\n",
    "        # Count the occurrences of each sequence of first N characters in the sequences, filtering by the start_with string\n",
    "        counter = Counter(tokenized_sentences_series.apply(lambda x: x[:n] if (len(x) >= n and x.startswith(start_with)) else None).dropna())\n",
    "    else:\n",
    "        # Count the occurrences of each sequence of first N characters in the sequences without filtering\n",
    "        counter = Counter(tokenized_sentences_series.apply(lambda x: x[:n] if len(x) >= n else None).dropna())\n",
    "\n",
    "    # Calculate the chance for each sequence\n",
    "    total_count = sum(counter.values())\n",
    "    chance_dict = {char_seq: count / total_count for char_seq, count in counter.items()}\n",
    "\n",
    "    return chance_dict"
   ],
   "metadata": {
    "collapsed": false,
    "ExecuteTime": {
     "end_time": "2023-10-30T13:12:35.721317200Z",
     "start_time": "2023-10-30T13:12:35.621498800Z"
    }
   }
  },
  {
   "cell_type": "code",
   "execution_count": 758,
   "outputs": [],
   "source": [
    "import random\n",
    "\n",
    "\n",
    "# Modify the function to handle token arrays of length less than 3 by adding 'U' at the front until the length is 3\n",
    "def predict_next_step(triplet: list, df: pd.DataFrame, token_dict: dict) -> str:\n",
    "    \"\"\"\n",
    "    Predict the next character based on different conditions:\n",
    "    1. If the triplet exists in the DataFrame, select y based on occurrences in that subset.\n",
    "    2. If the triplet doesn't exist, try getting the chance to start with the last two characters of the triplet.\n",
    "    3. If that fails, try getting the chance to start with the last character of the triplet.\n",
    "    4. If all else fails, start a random conversation.\n",
    "\n",
    "    Parameters:\n",
    "    - triplet (list): List of three characters that form the sequence to predict the next character for.\n",
    "    - df (pd.DataFrame): DataFrame containing the sequences and corresponding tokens to predict.\n",
    "    - token_dict (dict): Dictionary that maps tokens to words.\n",
    "\n",
    "    Returns:\n",
    "    - str: The next character based on one of the conditions above.\n",
    "    \"\"\"\n",
    "    # Add 'U' at the front until the length is 3\n",
    "    while len(triplet) < 3:\n",
    "        triplet.insert(0, 'U')\n",
    "\n",
    "    triplet_str = ''.join(triplet)\n",
    "\n",
    "    # Condition 1: Triplet exists in DataFrame\n",
    "    if triplet_str in df['X_sequences'].values:\n",
    "        print(f'Continue With {[token_dict.get(triplet_str[n], f\"[Unknown: {triplet_str[n]}]\") for n in range(0, 3)]}')\n",
    "        # Subset DataFrame and calculate chance\n",
    "        subset_y = df[df['X_sequences'] == triplet_str]['y_tokens']\n",
    "        counter = Counter(subset_y)\n",
    "        total_count = sum(counter.values())\n",
    "        chance_dict = {char: count / total_count for char, count in counter.items()}\n",
    "        print(f'{get_token_and_chance(chance_dict)}\\n')\n",
    "        characters = list(chance_dict.keys())\n",
    "        probabilities = list(chance_dict.values())\n",
    "        return random.choices(characters, probabilities)[0]\n",
    "\n",
    "    # Condition 2: Try getting chance starting with the last two characters of triplet\n",
    "    chance_dict = get_first_n_char_chance(3, start_with=triplet_str[1:])\n",
    "    if chance_dict:\n",
    "        print(f'Start Conversation With {[token_dict.get(triplet_str[n], f\"[Unknown: {triplet_str[n]}]\") for n in range(1, 3)]}')\n",
    "        print(f'{get_token_and_chance(chance_dict)}\\n')\n",
    "        characters = list(chance_dict.keys())\n",
    "        probabilities = list(chance_dict.values())\n",
    "        return random.choices(characters, probabilities)[0][-1]  # Take the last character of the chosen triplet\n",
    "\n",
    "    # Condition 3: Try getting chance starting with last character of triplet\n",
    "    chance_dict = get_first_n_char_chance(2, start_with=triplet_str[-1])\n",
    "    if chance_dict:\n",
    "        print(f'Start Conversation With {[token_dict.get(triplet_str[-1], f\"[Unknown: {triplet_str[-1]}]\")]}')\n",
    "        print(f'{get_token_and_chance(chance_dict)}\\n')\n",
    "        characters = list(chance_dict.keys())\n",
    "        probabilities = list(chance_dict.values())\n",
    "        return random.choices(characters, probabilities)[0][-1]  # Take the last character of the chosen triplet\n",
    "\n",
    "    print(f'Start A Random Conversation!')\n",
    "    chance_dict = get_first_n_char_chance(1)\n",
    "    print(f'{get_token_and_chance(chance_dict)}\\n')\n",
    "    characters = list(chance_dict.keys())\n",
    "    probabilities = list(chance_dict.values())\n",
    "    return random.choices(characters, probabilities)[0][-1]  # Take the last character of the chosen triplet"
   ],
   "metadata": {
    "collapsed": false,
    "ExecuteTime": {
     "end_time": "2023-10-30T13:27:11.510742400Z",
     "start_time": "2023-10-30T13:27:11.467940800Z"
    }
   }
  },
  {
   "cell_type": "code",
   "execution_count": 739,
   "outputs": [
    {
     "name": "stdout",
     "output_type": "stream",
     "text": [
      "Start A Random Conversation!\n",
      "    Word  Chance\n",
      "0    the    0.78\n",
      "1     at    0.01\n",
      "2     in    0.07\n",
      "3     on    0.13\n",
      "4  under    0.02\n",
      "\n",
      "Select word: the\n"
     ]
    }
   ],
   "source": [
    "# Test the function with various conditions\n",
    "predict_token_0 = predict_next_step(['U', 'U', 'U'], conversation_df, token_dictionary)\n",
    "print(f'Select word: {token_dictionary.get(predict_token_0, f\"[Unknown: {predict_token_0}]\")}')"
   ],
   "metadata": {
    "collapsed": false,
    "ExecuteTime": {
     "end_time": "2023-10-30T13:22:37.709784100Z",
     "start_time": "2023-10-30T13:22:37.686729600Z"
    }
   }
  },
  {
   "cell_type": "code",
   "execution_count": 740,
   "outputs": [
    {
     "name": "stdout",
     "output_type": "stream",
     "text": [
      "Start Conversation With ['the']\n",
      "            Word  Chance\n",
      "0            boy    0.23\n",
      "1            cat    0.21\n",
      "2            dog    0.12\n",
      "3            jar    0.06\n",
      "4          mouse    0.07\n",
      "5         pickle    0.27\n",
      "6            bed    0.00\n",
      "7          chair    0.01\n",
      "8   refrigerator    0.00\n",
      "9          table    0.00\n",
      "10         floor    0.01\n",
      "\n",
      "Select word: cat\n"
     ]
    }
   ],
   "source": [
    "# Test the function with various conditions\n",
    "predict_token_1 = predict_next_step(['U', 'U', predict_token_0], conversation_df, token_dictionary)\n",
    "print(f'Select word: {token_dictionary.get(predict_token_1, f\"[Unknown: {predict_token_1}]\")}')"
   ],
   "metadata": {
    "collapsed": false,
    "ExecuteTime": {
     "end_time": "2023-10-30T13:22:38.380679Z",
     "start_time": "2023-10-30T13:22:38.351415300Z"
    }
   }
  },
  {
   "cell_type": "code",
   "execution_count": 741,
   "outputs": [
    {
     "name": "stdout",
     "output_type": "stream",
     "text": [
      "Start Conversation With ['the', 'cat']\n",
      "     Word  Chance\n",
      "0     ate    0.09\n",
      "1     lay    0.13\n",
      "2     sat    0.13\n",
      "3  chased    0.07\n",
      "4      at    0.03\n",
      "5      in    0.01\n",
      "6      on    0.39\n",
      "7   under    0.15\n",
      "\n",
      "Select word: ate\n"
     ]
    }
   ],
   "source": [
    "# Test the function with various conditions\n",
    "predict_token_2 = predict_next_step(['U', predict_token_0, predict_token_1], conversation_df, token_dictionary)\n",
    "print(f'Select word: {token_dictionary.get(predict_token_2, f\"[Unknown: {predict_token_2}]\")}')"
   ],
   "metadata": {
    "collapsed": false,
    "ExecuteTime": {
     "end_time": "2023-10-30T13:22:38.722207900Z",
     "start_time": "2023-10-30T13:22:38.698239800Z"
    }
   }
  },
  {
   "cell_type": "code",
   "execution_count": 742,
   "outputs": [
    {
     "name": "stdout",
     "output_type": "stream",
     "text": [
      "Continue With ['the', 'cat', 'ate']\n",
      "    Word  Chance\n",
      "0      .    0.09\n",
      "1    the    0.45\n",
      "2     on    0.18\n",
      "3  under    0.27\n",
      "\n",
      "Select word: the\n"
     ]
    }
   ],
   "source": [
    "# Test the function with various conditions\n",
    "predict_token = predict_next_step([predict_token_0, predict_token_1, predict_token_2], conversation_df, token_dictionary)\n",
    "print(f'Select word: {token_dictionary.get(predict_token, f\"[Unknown: {predict_token}]\")}')"
   ],
   "metadata": {
    "collapsed": false,
    "ExecuteTime": {
     "end_time": "2023-10-30T13:22:39.197211800Z",
     "start_time": "2023-10-30T13:22:39.183859400Z"
    }
   }
  },
  {
   "cell_type": "code",
   "execution_count": 743,
   "outputs": [],
   "source": [
    "def continue_conversation_until_end(conversation: list, df: pd.DataFrame, token_dict: dict) -> list:\n",
    "    \"\"\"\n",
    "    Continue an existing conversation by generating next characters until 'U' is generated.\n",
    "\n",
    "    Parameters:\n",
    "    - conversation (list): List of characters that form the existing conversation.\n",
    "    - df (pd.DataFrame): DataFrame containing the sequences and corresponding tokens to predict.\n",
    "\n",
    "    Returns:\n",
    "    - list: The extended conversation including new characters.\n",
    "    \"\"\"\n",
    "    while True:\n",
    "        # Take the last three characters from the conversation to predict the next character\n",
    "        last_triplet = conversation[-3:]\n",
    "\n",
    "        # Predict the next character or start a new conversation if the triplet doesn't exist\n",
    "        next_char = predict_next_step(last_triplet, df, token_dict)\n",
    "\n",
    "        # Print the selected character\n",
    "        print(f'Select token {next_char}: {token_dict.get(next_char, f\"[Unknown: {next_char}]\")}\\n')\n",
    "\n",
    "        # Append the predicted character to the conversation\n",
    "        conversation.append(next_char)\n",
    "\n",
    "        # Break the loop if the predicted character is 'U'\n",
    "        if next_char == 'U':\n",
    "            break\n",
    "\n",
    "    return conversation"
   ],
   "metadata": {
    "collapsed": false,
    "ExecuteTime": {
     "end_time": "2023-10-30T13:22:39.916587400Z",
     "start_time": "2023-10-30T13:22:39.910892200Z"
    }
   }
  },
  {
   "cell_type": "code",
   "execution_count": 748,
   "outputs": [
    {
     "name": "stdout",
     "output_type": "stream",
     "text": [
      "Start A Random Conversation!\n",
      "    Word  Chance\n",
      "0    the    0.78\n",
      "1     at    0.01\n",
      "2     in    0.07\n",
      "3     on    0.13\n",
      "4  under    0.02\n",
      "\n",
      "Select token T: under\n",
      "\n",
      "Start Conversation With ['under']\n",
      "  Word  Chance\n",
      "0  the     1.0\n",
      "\n",
      "Select token S: the\n",
      "\n",
      "Start Conversation With ['under', 'the']\n",
      "    Word  Chance\n",
      "0  table     1.0\n",
      "\n",
      "Select token R: table\n",
      "\n",
      "Continue With ['under', 'the', 'table']\n",
      "     Word  Chance\n",
      "0     ate    0.10\n",
      "1     lay    0.16\n",
      "2     sat    0.19\n",
      "3       .    0.53\n",
      "4  chased    0.01\n",
      "5      on    0.02\n",
      "\n",
      "Select token U: .\n",
      "\n"
     ]
    }
   ],
   "source": [
    "# Test the function with the modified predict_next_step function\n",
    "initial_conversation = ['U', 'U', 'U']\n",
    "extended_conversation = continue_conversation_until_end(initial_conversation.copy(), conversation_df, token_dictionary)"
   ],
   "metadata": {
    "collapsed": false,
    "ExecuteTime": {
     "end_time": "2023-10-30T13:22:53.457692Z",
     "start_time": "2023-10-30T13:22:53.444982600Z"
    }
   }
  },
  {
   "cell_type": "code",
   "execution_count": 749,
   "outputs": [
    {
     "data": {
      "text/plain": "['U', 'U', 'U', 'T', 'S', 'R', 'U']"
     },
     "execution_count": 749,
     "metadata": {},
     "output_type": "execute_result"
    }
   ],
   "source": [
    "# Print the extended conversation\n",
    "extended_conversation"
   ],
   "metadata": {
    "collapsed": false,
    "ExecuteTime": {
     "end_time": "2023-10-30T13:22:54.472715900Z",
     "start_time": "2023-10-30T13:22:54.467497300Z"
    }
   }
  },
  {
   "cell_type": "code",
   "execution_count": 750,
   "outputs": [],
   "source": [
    "# Redefine the function to decode a token array back to words and make the first word's first letter uppercase\n",
    "def decode_tokens_to_words(token_array: list, token_dict: dict) -> str:\n",
    "    \"\"\"\n",
    "    Decode an array of tokens back to a string of words based on a given token dictionary.\n",
    "    The first word in the sentence (that is not a period) will have its first letter capitalized.\n",
    "\n",
    "    Parameters:\n",
    "    - token_array (list): Array of tokens to decode.\n",
    "    - token_dict (dict): Dictionary that maps tokens to words.\n",
    "\n",
    "    Returns:\n",
    "    - str: A string of words obtained by decoding the token array.\n",
    "    \"\"\"\n",
    "    words = [token_dict.get(t, f\"[Unknown: {t}]\") for t in token_array]\n",
    "\n",
    "    # Capitalize the first letter of the first word that is not a period\n",
    "    for n in range(len(words)):\n",
    "        if words[n] != '.':\n",
    "            words[n] = words[n].capitalize()\n",
    "            break\n",
    "\n",
    "    return ' '.join(words)"
   ],
   "metadata": {
    "collapsed": false,
    "ExecuteTime": {
     "end_time": "2023-10-30T13:22:55.413472300Z",
     "start_time": "2023-10-30T13:22:55.405957900Z"
    }
   }
  },
  {
   "cell_type": "code",
   "execution_count": 751,
   "outputs": [
    {
     "data": {
      "text/plain": "'. . . Under the table .'"
     },
     "execution_count": 751,
     "metadata": {},
     "output_type": "execute_result"
    }
   ],
   "source": [
    "# Test the function again with the updated token dictionary\n",
    "decoded_sentence = decode_tokens_to_words(extended_conversation, token_dictionary)\n",
    "decoded_sentence"
   ],
   "metadata": {
    "collapsed": false,
    "ExecuteTime": {
     "end_time": "2023-10-30T13:22:56.246044700Z",
     "start_time": "2023-10-30T13:22:56.239984200Z"
    }
   }
  },
  {
   "cell_type": "code",
   "execution_count": 752,
   "outputs": [
    {
     "name": "stdout",
     "output_type": "stream",
     "text": [
      "Start A Random Conversation!\n",
      "    Word  Chance\n",
      "0    the    0.78\n",
      "1     at    0.01\n",
      "2     in    0.07\n",
      "3     on    0.13\n",
      "4  under    0.02\n",
      "\n",
      "Select token S: the\n",
      "\n",
      "Start Conversation With ['the']\n",
      "            Word  Chance\n",
      "0            boy    0.23\n",
      "1            cat    0.21\n",
      "2            dog    0.12\n",
      "3            jar    0.06\n",
      "4          mouse    0.07\n",
      "5         pickle    0.27\n",
      "6            bed    0.00\n",
      "7          chair    0.01\n",
      "8   refrigerator    0.00\n",
      "9          table    0.00\n",
      "10         floor    0.01\n",
      "\n",
      "Select token E: cat\n",
      "\n",
      "Start Conversation With ['the', 'cat']\n",
      "     Word  Chance\n",
      "0     ate    0.09\n",
      "1     lay    0.13\n",
      "2     sat    0.13\n",
      "3  chased    0.07\n",
      "4      at    0.03\n",
      "5      in    0.01\n",
      "6      on    0.39\n",
      "7   under    0.15\n",
      "\n",
      "Select token L: lay\n",
      "\n",
      "Continue With ['the', 'cat', 'lay']\n",
      "    Word  Chance\n",
      "0      .    0.06\n",
      "1     in    0.12\n",
      "2     on    0.62\n",
      "3  under    0.19\n",
      "\n",
      "Select token N: on\n",
      "\n",
      "Continue With ['cat', 'lay', 'on']\n",
      "  Word  Chance\n",
      "0  the     1.0\n",
      "\n",
      "Select token S: the\n",
      "\n",
      "Continue With ['lay', 'on', 'the']\n",
      "           Word  Chance\n",
      "0           bed    0.11\n",
      "1         floor    0.36\n",
      "2           boy    0.32\n",
      "3         chair    0.08\n",
      "4         table    0.08\n",
      "5  refrigerator    0.06\n",
      "\n",
      "Select token I: floor\n",
      "\n",
      "Continue With ['on', 'the', 'floor']\n",
      "     Word  Chance\n",
      "0       .    0.34\n",
      "1     ate    0.14\n",
      "2     lay    0.21\n",
      "3     sat    0.21\n",
      "4  chased    0.10\n",
      "\n",
      "Select token U: .\n",
      "\n"
     ]
    }
   ],
   "source": [
    "sentence = decode_tokens_to_words(continue_conversation_until_end(['U', 'U', 'U'], conversation_df, token_dictionary), token_dictionary)"
   ],
   "metadata": {
    "collapsed": false,
    "ExecuteTime": {
     "end_time": "2023-10-30T13:22:57.936785100Z",
     "start_time": "2023-10-30T13:22:57.902652100Z"
    }
   }
  },
  {
   "cell_type": "code",
   "execution_count": 753,
   "outputs": [
    {
     "data": {
      "text/plain": "'. . . The cat lay on the floor .'"
     },
     "execution_count": 753,
     "metadata": {},
     "output_type": "execute_result"
    }
   ],
   "source": [
    "sentence"
   ],
   "metadata": {
    "collapsed": false,
    "ExecuteTime": {
     "end_time": "2023-10-30T13:22:58.805145800Z",
     "start_time": "2023-10-30T13:22:58.801040500Z"
    }
   }
  },
  {
   "cell_type": "code",
   "execution_count": 754,
   "outputs": [],
   "source": [
    "# Define the function to encode a sentence, extend the conversation, and then decode it back to words\n",
    "def encode_extend_decode(sentences_list: list, token_dict: dict, df: pd.DataFrame) -> list[str]:\n",
    "    \"\"\"\n",
    "    Encode a sentence into tokens, extend the conversation based on those tokens, and then decode it back into words.\n",
    "\n",
    "    Parameters:\n",
    "    - sentence (str): The sentence to start the conversation with.\n",
    "    - token_dict (dict): Dictionary that maps tokens to words.\n",
    "    - df (pd.DataFrame): DataFrame containing the sequences and corresponding tokens to predict.\n",
    "\n",
    "    Returns:\n",
    "    - str: The extended conversation decoded back into words.\n",
    "    \"\"\"\n",
    "    # Step 1: Encode the sentence into tokens\n",
    "    encode_sentences = convert_sentences_to_tokens(sentences_list, token_dict)\n",
    "\n",
    "    # Step 2: Extend the conversation\n",
    "    extended_conversation_encode = [continue_conversation_until_end(encode_sentence, df, token_dict) for encode_sentence in encode_sentences]\n",
    "\n",
    "    # Step 3: Decode the tokens back to words\n",
    "    return [decode_tokens_to_words(encode, token_dict) for encode in extended_conversation_encode]"
   ],
   "metadata": {
    "collapsed": false,
    "ExecuteTime": {
     "end_time": "2023-10-30T13:22:59.639772600Z",
     "start_time": "2023-10-30T13:22:59.633773500Z"
    }
   }
  },
  {
   "cell_type": "code",
   "execution_count": 766,
   "outputs": [
    {
     "name": "stdout",
     "output_type": "stream",
     "text": [
      "Continue With ['boy', 'ate', 'the']\n",
      "     Word  Chance\n",
      "0  pickle     1.0\n",
      "\n",
      "Select token O: pickle\n",
      "\n",
      "Continue With ['ate', 'the', 'pickle']\n",
      "    Word  Chance\n",
      "0      .    0.14\n",
      "1     in    0.76\n",
      "2     at    0.01\n",
      "3     on    0.05\n",
      "4  under    0.04\n",
      "\n",
      "Select token U: .\n",
      "\n",
      "Continue With ['the', 'dog', 'sat']\n",
      "    Word  Chance\n",
      "0      .     0.2\n",
      "1     in     0.2\n",
      "2     on     0.4\n",
      "3  under     0.2\n",
      "\n",
      "Select token T: under\n",
      "\n",
      "Continue With ['dog', 'sat', 'under']\n",
      "  Word  Chance\n",
      "0  the     1.0\n",
      "\n",
      "Select token S: the\n",
      "\n",
      "Continue With ['sat', 'under', 'the']\n",
      "           Word  Chance\n",
      "0           bed    0.33\n",
      "1         chair    0.18\n",
      "2         table    0.42\n",
      "3  refrigerator    0.06\n",
      "\n",
      "Select token R: table\n",
      "\n",
      "Continue With ['under', 'the', 'table']\n",
      "     Word  Chance\n",
      "0     ate    0.10\n",
      "1     lay    0.16\n",
      "2     sat    0.19\n",
      "3       .    0.53\n",
      "4  chased    0.01\n",
      "5      on    0.02\n",
      "\n",
      "Select token U: .\n",
      "\n",
      "Start Conversation With ['the', 'pickle']\n",
      "    Word  Chance\n",
      "0    lay    0.18\n",
      "1    sat    0.14\n",
      "2    jar    0.24\n",
      "3     on    0.21\n",
      "4  under    0.10\n",
      "5     in    0.14\n",
      "\n",
      "Select token N: on\n",
      "\n",
      "Continue With ['the', 'pickle', 'on']\n",
      "  Word  Chance\n",
      "0  the     1.0\n",
      "\n",
      "Select token S: the\n",
      "\n",
      "Continue With ['pickle', 'on', 'the']\n",
      "           Word  Chance\n",
      "0           bed    0.14\n",
      "1         chair    0.06\n",
      "2         floor    0.57\n",
      "3  refrigerator    0.06\n",
      "4         table    0.17\n",
      "\n",
      "Select token P: refrigerator\n",
      "\n",
      "Continue With ['on', 'the', 'refrigerator']\n",
      "  Word  Chance\n",
      "0  lay    0.38\n",
      "1  sat    0.44\n",
      "2    .    0.19\n",
      "\n",
      "Select token L: lay\n",
      "\n",
      "Continue With ['the', 'refrigerator', 'lay']\n",
      "  Word  Chance\n",
      "0    .    0.50\n",
      "1  the    0.45\n",
      "2   on    0.05\n",
      "\n",
      "Select token U: .\n",
      "\n",
      "Start Conversation With ['on']\n",
      "  Word  Chance\n",
      "0  the     1.0\n",
      "\n",
      "Select token S: the\n",
      "\n",
      "Start Conversation With ['on', 'the']\n",
      "           Word  Chance\n",
      "0           bed    0.26\n",
      "1           boy    0.27\n",
      "2         chair    0.13\n",
      "3         floor    0.12\n",
      "4  refrigerator    0.11\n",
      "5         table    0.11\n",
      "\n",
      "Select token D: boy\n",
      "\n",
      "Continue With ['on', 'the', 'boy']\n",
      "    Word  Chance\n",
      "0    lay    0.06\n",
      "1    sat    0.03\n",
      "2      .    0.10\n",
      "3     in    0.32\n",
      "4     on    0.25\n",
      "5  under    0.19\n",
      "6     at    0.04\n",
      "\n",
      "Select token N: on\n",
      "\n",
      "Continue With ['the', 'boy', 'on']\n",
      "  Word  Chance\n",
      "0  the     1.0\n",
      "\n",
      "Select token S: the\n",
      "\n",
      "Continue With ['boy', 'on', 'the']\n",
      "    Word  Chance\n",
      "0    bed    0.29\n",
      "1  floor    0.69\n",
      "2  chair    0.02\n",
      "\n",
      "Select token I: floor\n",
      "\n",
      "Continue With ['on', 'the', 'floor']\n",
      "     Word  Chance\n",
      "0       .    0.34\n",
      "1     ate    0.14\n",
      "2     lay    0.21\n",
      "3     sat    0.21\n",
      "4  chased    0.10\n",
      "\n",
      "Select token B: ate\n",
      "\n",
      "Continue With ['the', 'floor', 'ate']\n",
      "    Word  Chance\n",
      "0      .    0.12\n",
      "1    the    0.77\n",
      "2  under    0.12\n",
      "\n",
      "Select token T: under\n",
      "\n",
      "Continue With ['floor', 'ate', 'under']\n",
      "  Word  Chance\n",
      "0  the     1.0\n",
      "\n",
      "Select token S: the\n",
      "\n",
      "Continue With ['ate', 'under', 'the']\n",
      "    Word  Chance\n",
      "0  chair    0.22\n",
      "1  table    0.44\n",
      "2    bed    0.33\n",
      "\n",
      "Select token R: table\n",
      "\n",
      "Continue With ['under', 'the', 'table']\n",
      "     Word  Chance\n",
      "0     ate    0.10\n",
      "1     lay    0.16\n",
      "2     sat    0.19\n",
      "3       .    0.53\n",
      "4  chased    0.01\n",
      "5      on    0.02\n",
      "\n",
      "Select token Q: sat\n",
      "\n",
      "Continue With ['the', 'table', 'sat']\n",
      "  Word  Chance\n",
      "0  the    0.56\n",
      "1    .    0.24\n",
      "2   on    0.13\n",
      "3   in    0.07\n",
      "\n",
      "Select token S: the\n",
      "\n",
      "Continue With ['table', 'sat', 'the']\n",
      "     Word  Chance\n",
      "0     boy    0.17\n",
      "1     cat    0.30\n",
      "2     jar    0.07\n",
      "3  pickle    0.40\n",
      "4     dog    0.03\n",
      "5   mouse    0.03\n",
      "\n",
      "Select token D: boy\n",
      "\n",
      "Continue With ['sat', 'the', 'boy']\n",
      "  Word  Chance\n",
      "0    .    0.71\n",
      "1   in    0.14\n",
      "2   on    0.14\n",
      "\n",
      "Select token U: .\n",
      "\n"
     ]
    },
    {
     "data": {
      "text/plain": "['The boy ate the pickle .',\n 'The dog sat under the table .',\n 'The pickle on the refrigerator lay .',\n 'On the boy on the floor ate under the table sat the boy .']"
     },
     "execution_count": 766,
     "metadata": {},
     "output_type": "execute_result"
    }
   ],
   "source": [
    "encode_extend_decode(['The boy ate the', 'The dog sat', 'The pickle', 'On'], token_dictionary, conversation_df)"
   ],
   "metadata": {
    "collapsed": false,
    "ExecuteTime": {
     "end_time": "2023-10-30T13:31:46.797241600Z",
     "start_time": "2023-10-30T13:31:46.754647100Z"
    }
   }
  },
  {
   "cell_type": "code",
   "execution_count": null,
   "outputs": [],
   "source": [],
   "metadata": {
    "collapsed": false
   }
  }
 ],
 "metadata": {
  "kernelspec": {
   "display_name": "Python 3",
   "language": "python",
   "name": "python3"
  },
  "language_info": {
   "codemirror_mode": {
    "name": "ipython",
    "version": 2
   },
   "file_extension": ".py",
   "mimetype": "text/x-python",
   "name": "python",
   "nbconvert_exporter": "python",
   "pygments_lexer": "ipython2",
   "version": "2.7.6"
  }
 },
 "nbformat": 4,
 "nbformat_minor": 0
}
