{
 "cells": [
  {
   "cell_type": "code",
   "execution_count": 1,
   "id": "initial_id",
   "metadata": {
    "collapsed": true,
    "ExecuteTime": {
     "end_time": "2024-02-05T10:10:26.109047300Z",
     "start_time": "2024-02-05T10:10:22.412532600Z"
    }
   },
   "outputs": [],
   "source": [
    "import torch\n",
    "import torchvision.transforms as transforms\n",
    "from torch.utils.data import Dataset, DataLoader\n",
    "import matplotlib.pyplot as plt\n",
    "from torchvision import datasets\n",
    "from collections import Counter\n",
    "from model import MarginLoss, make_model\n",
    "from torch.optim import lr_scheduler\n",
    "from torch import optim\n",
    "from torch.autograd import Variable\n",
    "import torch.nn.functional as F\n",
    "import seaborn as sns\n",
    "import numpy as np\n",
    "from tqdm import tqdm"
   ]
  },
  {
   "cell_type": "code",
   "outputs": [
    {
     "data": {
      "text/plain": "{'1': 0, '2': 1, '3': 2, '4': 3, '5': 4, '6': 5, '7': 6, '8': 7, '9': 8}"
     },
     "execution_count": 2,
     "metadata": {},
     "output_type": "execute_result"
    }
   ],
   "source": [
    "# Define the transfer learning dataset\n",
    "data_path = 'numbers'\n",
    "\n",
    "transfer_target_dataset = datasets.ImageFolder(\n",
    "    root=data_path,\n",
    "    transform=transforms.Compose([\n",
    "        transforms.Grayscale(num_output_channels=1),\n",
    "        transforms.Pad(2),\n",
    "        transforms.RandomCrop((28, 28)),\n",
    "        transforms.ToTensor(),\n",
    "]))\n",
    "\n",
    "class_mapping = transfer_target_dataset.class_to_idx\n",
    "class_mapping"
   ],
   "metadata": {
    "collapsed": false,
    "ExecuteTime": {
     "end_time": "2024-02-05T10:10:26.155103500Z",
     "start_time": "2024-02-05T10:10:26.110056900Z"
    }
   },
   "id": "7ca5e5c2e3b13eff",
   "execution_count": 2
  },
  {
   "cell_type": "code",
   "outputs": [
    {
     "name": "stdout",
     "output_type": "stream",
     "text": [
      "Train size:  1292\n",
      "Test size:  323\n"
     ]
    }
   ],
   "source": [
    "# Split data to test and train\n",
    "# Use 80% to train\n",
    "train_size = int(0.8 * len(transfer_target_dataset))\n",
    "test_size = len(transfer_target_dataset) - train_size\n",
    "\n",
    "train_dataset, test_dataset = torch.utils.data.random_split(transfer_target_dataset, [train_size, test_size], generator=torch.Generator().manual_seed(42))\n",
    "\n",
    "print('Train size: ', len(train_dataset))\n",
    "print('Test size: ', len(test_dataset))"
   ],
   "metadata": {
    "collapsed": false,
    "ExecuteTime": {
     "end_time": "2024-02-05T10:10:26.157098500Z",
     "start_time": "2024-02-05T10:10:26.139528200Z"
    }
   },
   "id": "3a54f7b880b81ead",
   "execution_count": 3
  },
  {
   "cell_type": "code",
   "outputs": [
    {
     "data": {
      "text/plain": "Counter({0: 188,\n         1: 185,\n         2: 190,\n         3: 168,\n         4: 166,\n         5: 175,\n         6: 165,\n         7: 191,\n         8: 187})"
     },
     "execution_count": 4,
     "metadata": {},
     "output_type": "execute_result"
    }
   ],
   "source": [
    "# Label distribution\n",
    "train_classes = [label for _, label in transfer_target_dataset]\n",
    "Counter(train_classes)"
   ],
   "metadata": {
    "collapsed": false,
    "ExecuteTime": {
     "end_time": "2024-02-05T10:10:26.583490300Z",
     "start_time": "2024-02-05T10:10:26.147098Z"
    }
   },
   "id": "e40ee6ce600ee01c",
   "execution_count": 4
  },
  {
   "cell_type": "code",
   "outputs": [],
   "source": [
    "train_loader = DataLoader(dataset=train_dataset, batch_size=64, shuffle=True)\n",
    "test_loader = DataLoader(dataset=test_dataset, batch_size=64, shuffle=False)"
   ],
   "metadata": {
    "collapsed": false,
    "ExecuteTime": {
     "end_time": "2024-02-05T10:10:26.583533500Z",
     "start_time": "2024-02-05T10:10:26.580468200Z"
    }
   },
   "id": "c48a0c94bc14cfb6",
   "execution_count": 5
  },
  {
   "cell_type": "code",
   "outputs": [
    {
     "data": {
      "text/plain": "<Figure size 640x480 with 1 Axes>",
      "image/png": "[encoded data removed]"
     },
     "metadata": {},
     "output_type": "display_data"
    }
   ],
   "source": [
    "# Check a sample\n",
    "sample = next(iter(train_loader))\n",
    "\n",
    "plt.imshow(sample[0][0].reshape(28, 28), cmap='gray')\n",
    "plt.title('y = {}'.format(sample[1][0]))\n",
    "plt.show()"
   ],
   "metadata": {
    "collapsed": false,
    "ExecuteTime": {
     "end_time": "2024-02-05T10:10:26.747387500Z",
     "start_time": "2024-02-05T10:10:26.582488800Z"
    }
   },
   "id": "17430a6af1e76ed1",
   "execution_count": 6
  },
  {
   "cell_type": "code",
   "outputs": [
    {
     "data": {
      "text/plain": "EfficientCapsNetWithReconstruction(\n  (efficient_capsnet): EfficientCapsNet(\n    (conv1): Conv2d(1, 32, kernel_size=(5, 5), stride=(1, 1), padding=valid)\n    (batch_norm1): BatchNorm2d(32, eps=1e-05, momentum=0.1, affine=True, track_running_stats=True)\n    (conv2): Conv2d(32, 64, kernel_size=(3, 3), stride=(1, 1), padding=valid)\n    (batch_norm2): BatchNorm2d(64, eps=1e-05, momentum=0.1, affine=True, track_running_stats=True)\n    (conv3): Conv2d(64, 64, kernel_size=(3, 3), stride=(1, 1), padding=valid)\n    (batch_norm3): BatchNorm2d(64, eps=1e-05, momentum=0.1, affine=True, track_running_stats=True)\n    (conv4): Conv2d(64, 128, kernel_size=(3, 3), stride=(2, 2), padding=valid)\n    (batch_norm4): BatchNorm2d(128, eps=1e-05, momentum=0.1, affine=True, track_running_stats=True)\n    (primary_caps): PrimaryCapsLayer(\n      (depthwise_conv): Conv2d(128, 128, kernel_size=(9, 9), stride=(1, 1), padding=valid, groups=128)\n    )\n    (digit_caps): RoutingLayer()\n  )\n  (reconstruction_net): ReconstructionNet(\n    (fc1): Linear(in_features=160, out_features=512, bias=True)\n    (fc2): Linear(in_features=512, out_features=1024, bias=True)\n    (fc3): Linear(in_features=1024, out_features=784, bias=True)\n  )\n)"
     },
     "execution_count": 7,
     "metadata": {},
     "output_type": "execute_result"
    }
   ],
   "source": [
    "model = make_model()\n",
    "model.load_state_dict(torch.load('checkpoints/019_model_dict_reconstructionTrue.pth')['model_state_dict'])\n",
    "\n",
    "model.train()\n",
    "\n",
    "device = torch.device('cuda' if torch.cuda.is_available() else 'cpu')\n",
    "model.to(device)"
   ],
   "metadata": {
    "collapsed": false,
    "ExecuteTime": {
     "end_time": "2024-02-05T10:10:26.923554200Z",
     "start_time": "2024-02-05T10:10:26.744377800Z"
    }
   },
   "id": "5dfbd51722339562",
   "execution_count": 7
  },
  {
   "cell_type": "code",
   "outputs": [],
   "source": [
    "args = {\n",
    "    \"batch_size\": 64,\n",
    "    \"test_batch_size\": 64,\n",
    "    \"epochs\": 50,\n",
    "    \"lr\": 5e-4,\n",
    "    \"reconstruction_alpha\": 0.0005,\n",
    "}\n",
    "\n",
    "optimizer = optim.Adam(model.parameters(), lr=args[\"lr\"])\n",
    "\n",
    "scheduler = lr_scheduler.ReduceLROnPlateau(\n",
    "    optimizer, verbose=True, factor=0.9, patience=4, min_lr=1e-5, mode=\"max\"\n",
    ")\n",
    "\n",
    "loss_fn = MarginLoss(0.9, 0.1, 0.5)"
   ],
   "metadata": {
    "collapsed": false,
    "ExecuteTime": {
     "end_time": "2024-02-05T10:10:26.924552100Z",
     "start_time": "2024-02-05T10:10:26.918671900Z"
    }
   },
   "id": "ade666319a1250ef",
   "execution_count": 8
  },
  {
   "cell_type": "code",
   "outputs": [],
   "source": [
    "confusion_mat = np.zeros((9, 9), dtype=int)\n",
    "max_test_accuracy = 0\n",
    "\n",
    "def train(current_epoch):\n",
    "    model.train()\n",
    "    # 將train_loader包裝在tqdm進度條中\n",
    "    train_loader_tqdm = tqdm(enumerate(train_loader), total=len(train_loader), desc=f'Train Epoch: {current_epoch}')\n",
    "    for batch_idx, (data, target) in train_loader_tqdm:\n",
    "        data, target = data.to(device), target.to(device)\n",
    "        \n",
    "        data, target = Variable(data), Variable(target, requires_grad=False)\n",
    "        optimizer.zero_grad()\n",
    "        \n",
    "        output, probs = model(data)\n",
    "        reconstruction_loss = F.mse_loss(output, data.view(-1, 784))\n",
    "        margin_loss = loss_fn(probs, target)\n",
    "        loss = args[\"reconstruction_alpha\"] * reconstruction_loss + margin_loss\n",
    "            \n",
    "        loss.backward()\n",
    "        optimizer.step()\n",
    "        \n",
    "        # 更新tqdm進度條的描述信息\n",
    "        train_loader_tqdm.set_description(\n",
    "            \"Train Epoch: {} [{}/{} ({:.0f}%)]\\tLoss: {:.6f}\".format(\n",
    "                current_epoch,\n",
    "                batch_idx * len(data),\n",
    "                len(train_loader.dataset),\n",
    "                100.0 * batch_idx / len(train_loader),\n",
    "                loss.item(),\n",
    "            )\n",
    "        )\n",
    "            \n",
    "def test(final=False):\n",
    "    global confusion_mat, max_test_accuracy\n",
    "    model.eval()\n",
    "    test_loss = 0\n",
    "    correct = 0\n",
    "    if final:\n",
    "        confusion_mat = np.zeros((9, 9), dtype=int)\n",
    "    with tqdm(test_loader, unit=\"batch\", desc=\"Test Set\") as test_loader_tqdm:\n",
    "        for data, target in test_loader_tqdm:\n",
    "            data, target = data.to(device), target.to(device)\n",
    "            data, target = Variable(data), Variable(target)\n",
    "\n",
    "            output, probs = model(data)\n",
    "            reconstruction_loss = F.mse_loss(\n",
    "                output, data.view(-1, 784), reduction='sum'\n",
    "            ).item()\n",
    "            test_loss += loss_fn(probs, target, size_average=False).item()\n",
    "            test_loss += args[\"reconstruction_alpha\"] * reconstruction_loss\n",
    "\n",
    "            pred = probs.data.max(1, keepdim=True)[1]  # get the index of the max probability\n",
    "            correct += pred.eq(target.data.view_as(pred)).cpu().sum()\n",
    "\n",
    "            if final:\n",
    "                for i in range(len(pred)):\n",
    "                    true_label = target.data[i]\n",
    "                    pred_label = pred.data[i]\n",
    "                    confusion_mat[true_label][pred_label] += 1\n",
    "            test_loader_tqdm.set_postfix(Loss=test_loss / len(test_loader.dataset), Accuracy=100.0 * correct / len(test_loader.dataset))\n",
    "            \n",
    "            if 100.0 * correct / len(test_loader.dataset) > max_test_accuracy:\n",
    "                max_test_accuracy = 100.0 * correct / len(test_loader.dataset)\n",
    "                torch.save(\n",
    "                    model.state_dict(),\n",
    "                    f\"checkpoints/{max_test_accuracy:0.2f}_reconstruction_transfer.pth\",\n",
    "                )\n",
    "\n",
    "    if final:\n",
    "        sns.heatmap(confusion_mat, annot=True, cmap=\"Blues\", fmt=\"d\")\n",
    "        plt.xlabel(\"Predicted label\")\n",
    "        plt.ylabel(\"True label\")\n",
    "        plt.title(\"Efficient CapsNet - MNIST Confusion Matrix\")\n",
    "        plt.savefig(\"confusion_mat-reconstruction.png\")\n",
    "    return test_loss"
   ],
   "metadata": {
    "collapsed": false,
    "ExecuteTime": {
     "end_time": "2024-02-05T10:10:26.935035500Z",
     "start_time": "2024-02-05T10:10:26.922551800Z"
    }
   },
   "id": "e41c4f112a91af4b",
   "execution_count": 9
  },
  {
   "cell_type": "code",
   "outputs": [
    {
     "name": "stderr",
     "output_type": "stream",
     "text": [
      "Train Epoch: 1 [240/1292 (95%)]\tLoss: 0.066898: 100%|██████████| 21/21 [00:04<00:00,  4.86it/s] \n",
      "Test Set: 100%|██████████| 6/6 [00:00<00:00, 27.91batch/s, Accuracy=tensor(32.5077), Loss=0.607]\n",
      "Train Epoch: 2 [240/1292 (95%)]\tLoss: 0.047792: 100%|██████████| 21/21 [00:00<00:00, 35.65it/s] \n",
      "Test Set: 100%|██████████| 6/6 [00:00<00:00, 36.36batch/s, Accuracy=tensor(57.8947), Loss=0.395]\n",
      "Train Epoch: 3 [240/1292 (95%)]\tLoss: 0.016103: 100%|██████████| 21/21 [00:00<00:00, 37.10it/s] \n",
      "Test Set: 100%|██████████| 6/6 [00:00<00:00, 39.21batch/s, Accuracy=tensor(71.8266), Loss=0.305]\n",
      "Train Epoch: 4 [240/1292 (95%)]\tLoss: 0.022015: 100%|██████████| 21/21 [00:00<00:00, 35.53it/s] \n",
      "Test Set: 100%|██████████| 6/6 [00:00<00:00, 40.54batch/s, Accuracy=tensor(80.1858), Loss=0.255]\n",
      "Train Epoch: 5 [240/1292 (95%)]\tLoss: 0.010688: 100%|██████████| 21/21 [00:00<00:00, 34.37it/s] \n",
      "Test Set: 100%|██████████| 6/6 [00:00<00:00, 42.86batch/s, Accuracy=tensor(86.3777), Loss=0.213]\n",
      "Train Epoch: 6 [240/1292 (95%)]\tLoss: 0.018092: 100%|██████████| 21/21 [00:00<00:00, 33.00it/s] \n",
      "Test Set: 100%|██████████| 6/6 [00:00<00:00, 39.19batch/s, Accuracy=tensor(89.7833), Loss=0.183]\n"
     ]
    },
    {
     "name": "stdout",
     "output_type": "stream",
     "text": [
      "Epoch 00006: reducing learning rate of group 0 to 4.5000e-04.\n"
     ]
    },
    {
     "name": "stderr",
     "output_type": "stream",
     "text": [
      "Train Epoch: 7 [240/1292 (95%)]\tLoss: 0.004457: 100%|██████████| 21/21 [00:00<00:00, 31.58it/s] \n",
      "Test Set: 100%|██████████| 6/6 [00:00<00:00, 40.82batch/s, Accuracy=tensor(94.1176), Loss=0.149]\n",
      "Train Epoch: 8 [240/1292 (95%)]\tLoss: 0.005492: 100%|██████████| 21/21 [00:00<00:00, 31.29it/s] \n",
      "Test Set: 100%|██████████| 6/6 [00:00<00:00, 41.04batch/s, Accuracy=tensor(94.4272), Loss=0.145]\n",
      "Train Epoch: 9 [240/1292 (95%)]\tLoss: 0.009046: 100%|██████████| 21/21 [00:00<00:00, 30.66it/s] \n",
      "Test Set: 100%|██████████| 6/6 [00:00<00:00, 51.28batch/s, Accuracy=tensor(92.8793), Loss=0.142]\n",
      "Train Epoch: 10 [240/1292 (95%)]\tLoss: 0.010500: 100%|██████████| 21/21 [00:00<00:00, 30.32it/s] \n",
      "Test Set: 100%|██████████| 6/6 [00:00<00:00, 42.25batch/s, Accuracy=tensor(95.3560), Loss=0.128]\n",
      "Train Epoch: 11 [240/1292 (95%)]\tLoss: 0.005240: 100%|██████████| 21/21 [00:00<00:00, 29.77it/s] \n",
      "Test Set: 100%|██████████| 6/6 [00:00<00:00, 48.00batch/s, Accuracy=tensor(94.1176), Loss=0.139]\n"
     ]
    },
    {
     "name": "stdout",
     "output_type": "stream",
     "text": [
      "Epoch 00011: reducing learning rate of group 0 to 4.0500e-04.\n"
     ]
    },
    {
     "name": "stderr",
     "output_type": "stream",
     "text": [
      "Train Epoch: 12 [240/1292 (95%)]\tLoss: 0.006596: 100%|██████████| 21/21 [00:00<00:00, 29.56it/s] \n",
      "Test Set: 100%|██████████| 6/6 [00:00<00:00, 41.75batch/s, Accuracy=tensor(95.6656), Loss=0.12] \n",
      "Train Epoch: 13 [240/1292 (95%)]\tLoss: 0.003540: 100%|██████████| 21/21 [00:00<00:00, 29.91it/s] \n",
      "Test Set: 100%|██████████| 6/6 [00:00<00:00, 46.87batch/s, Accuracy=tensor(94.1176), Loss=0.124]\n",
      "Train Epoch: 14 [240/1292 (95%)]\tLoss: 0.007950: 100%|██████████| 21/21 [00:00<00:00, 29.58it/s] \n",
      "Test Set: 100%|██████████| 6/6 [00:00<00:00, 40.94batch/s, Accuracy=tensor(95.9752), Loss=0.115]\n",
      "Train Epoch: 15 [240/1292 (95%)]\tLoss: 0.003731: 100%|██████████| 21/21 [00:00<00:00, 29.89it/s] \n",
      "Test Set: 100%|██████████| 6/6 [00:00<00:00, 39.18batch/s, Accuracy=tensor(96.9040), Loss=0.109]\n",
      "Train Epoch: 16 [240/1292 (95%)]\tLoss: 0.002189: 100%|██████████| 21/21 [00:00<00:00, 29.41it/s] \n",
      "Test Set: 100%|██████████| 6/6 [00:00<00:00, 44.48batch/s, Accuracy=tensor(97.2136), Loss=0.113]\n"
     ]
    },
    {
     "name": "stdout",
     "output_type": "stream",
     "text": [
      "Epoch 00016: reducing learning rate of group 0 to 3.6450e-04.\n"
     ]
    },
    {
     "name": "stderr",
     "output_type": "stream",
     "text": [
      "Train Epoch: 17 [240/1292 (95%)]\tLoss: 0.011348: 100%|██████████| 21/21 [00:00<00:00, 30.26it/s] \n",
      "Test Set: 100%|██████████| 6/6 [00:00<00:00, 44.61batch/s, Accuracy=tensor(97.8328), Loss=0.106]\n",
      "Train Epoch: 18 [240/1292 (95%)]\tLoss: 0.001709: 100%|██████████| 21/21 [00:00<00:00, 29.58it/s] \n",
      "Test Set: 100%|██████████| 6/6 [00:00<00:00, 48.78batch/s, Accuracy=tensor(95.9752), Loss=0.114]\n",
      "Train Epoch: 19 [240/1292 (95%)]\tLoss: 0.003784: 100%|██████████| 21/21 [00:00<00:00, 30.05it/s] \n",
      "Test Set: 100%|██████████| 6/6 [00:00<00:00, 48.39batch/s, Accuracy=tensor(95.9752), Loss=0.115]\n",
      "Train Epoch: 20 [240/1292 (95%)]\tLoss: 0.000417: 100%|██████████| 21/21 [00:00<00:00, 29.96it/s] \n",
      "Test Set: 100%|██████████| 6/6 [00:00<00:00, 50.41batch/s, Accuracy=tensor(97.2136), Loss=0.104]\n",
      "Train Epoch: 21 [240/1292 (95%)]\tLoss: 0.018017: 100%|██████████| 21/21 [00:00<00:00, 29.66it/s] \n",
      "Test Set: 100%|██████████| 6/6 [00:00<00:00, 51.28batch/s, Accuracy=tensor(97.2136), Loss=0.107]\n"
     ]
    },
    {
     "name": "stdout",
     "output_type": "stream",
     "text": [
      "Epoch 00021: reducing learning rate of group 0 to 3.2805e-04.\n"
     ]
    },
    {
     "name": "stderr",
     "output_type": "stream",
     "text": [
      "Train Epoch: 22 [240/1292 (95%)]\tLoss: 0.001321: 100%|██████████| 21/21 [00:00<00:00, 29.64it/s] \n",
      "Test Set: 100%|██████████| 6/6 [00:00<00:00, 45.80batch/s, Accuracy=tensor(97.5232), Loss=0.109]\n",
      "Train Epoch: 23 [240/1292 (95%)]\tLoss: 0.000514: 100%|██████████| 21/21 [00:00<00:00, 28.02it/s] \n",
      "Test Set: 100%|██████████| 6/6 [00:00<00:00, 47.25batch/s, Accuracy=tensor(96.9040), Loss=0.106]\n",
      "Train Epoch: 24 [240/1292 (95%)]\tLoss: 0.000568: 100%|██████████| 21/21 [00:00<00:00, 28.73it/s] \n",
      "Test Set: 100%|██████████| 6/6 [00:00<00:00, 49.18batch/s, Accuracy=tensor(97.5232), Loss=0.0994]\n",
      "Train Epoch: 25 [240/1292 (95%)]\tLoss: 0.001996: 100%|██████████| 21/21 [00:00<00:00, 30.30it/s] \n",
      "Test Set: 100%|██████████| 6/6 [00:00<00:00, 47.25batch/s, Accuracy=tensor(97.8328), Loss=0.102]\n",
      "Train Epoch: 26 [240/1292 (95%)]\tLoss: 0.000813: 100%|██████████| 21/21 [00:00<00:00, 29.92it/s] \n",
      "Test Set: 100%|██████████| 6/6 [00:00<00:00, 48.39batch/s, Accuracy=tensor(96.2848), Loss=0.101]\n"
     ]
    },
    {
     "name": "stdout",
     "output_type": "stream",
     "text": [
      "Epoch 00026: reducing learning rate of group 0 to 2.9525e-04.\n"
     ]
    },
    {
     "name": "stderr",
     "output_type": "stream",
     "text": [
      "Train Epoch: 27 [240/1292 (95%)]\tLoss: 0.002392: 100%|██████████| 21/21 [00:00<00:00, 29.17it/s] \n",
      "Test Set: 100%|██████████| 6/6 [00:00<00:00, 49.59batch/s, Accuracy=tensor(97.2136), Loss=0.106]\n",
      "Train Epoch: 28 [240/1292 (95%)]\tLoss: 0.001827: 100%|██████████| 21/21 [00:00<00:00, 29.33it/s] \n",
      "Test Set: 100%|██████████| 6/6 [00:00<00:00, 48.38batch/s, Accuracy=tensor(97.8328), Loss=0.106]\n",
      "Train Epoch: 29 [240/1292 (95%)]\tLoss: 0.001167: 100%|██████████| 21/21 [00:00<00:00, 30.17it/s] \n",
      "Test Set: 100%|██████████| 6/6 [00:00<00:00, 48.39batch/s, Accuracy=tensor(97.8328), Loss=0.102]\n",
      "Train Epoch: 30 [240/1292 (95%)]\tLoss: 0.003485: 100%|██████████| 21/21 [00:00<00:00, 29.86it/s] \n",
      "Test Set: 100%|██████████| 6/6 [00:00<00:00, 45.78batch/s, Accuracy=tensor(98.1424), Loss=0.1]   \n",
      "Train Epoch: 31 [240/1292 (95%)]\tLoss: 0.000765: 100%|██████████| 21/21 [00:00<00:00, 29.98it/s] \n",
      "Test Set: 100%|██████████| 6/6 [00:00<00:00, 47.53batch/s, Accuracy=tensor(96.5944), Loss=0.107]\n"
     ]
    },
    {
     "name": "stdout",
     "output_type": "stream",
     "text": [
      "Epoch 00031: reducing learning rate of group 0 to 2.6572e-04.\n"
     ]
    },
    {
     "name": "stderr",
     "output_type": "stream",
     "text": [
      "Train Epoch: 32 [240/1292 (95%)]\tLoss: 0.001211: 100%|██████████| 21/21 [00:00<00:00, 30.12it/s] \n",
      "Test Set: 100%|██████████| 6/6 [00:00<00:00, 50.42batch/s, Accuracy=tensor(97.2136), Loss=0.106]\n",
      "Train Epoch: 33 [240/1292 (95%)]\tLoss: 0.001092: 100%|██████████| 21/21 [00:00<00:00, 30.26it/s] \n",
      "Test Set: 100%|██████████| 6/6 [00:00<00:00, 50.42batch/s, Accuracy=tensor(95.3560), Loss=0.109]\n",
      "Train Epoch: 34 [240/1292 (95%)]\tLoss: 0.001647: 100%|██████████| 21/21 [00:00<00:00, 30.17it/s] \n",
      "Test Set: 100%|██████████| 6/6 [00:00<00:00, 46.87batch/s, Accuracy=tensor(96.9040), Loss=0.104]\n",
      "Train Epoch: 35 [240/1292 (95%)]\tLoss: 0.000424: 100%|██████████| 21/21 [00:00<00:00, 29.57it/s] \n",
      "Test Set: 100%|██████████| 6/6 [00:00<00:00, 43.80batch/s, Accuracy=tensor(98.1424), Loss=0.0988]\n",
      "Train Epoch: 36 [240/1292 (95%)]\tLoss: 0.001458: 100%|██████████| 21/21 [00:00<00:00, 29.91it/s] \n",
      "Test Set: 100%|██████████| 6/6 [00:00<00:00, 48.00batch/s, Accuracy=tensor(98.1424), Loss=0.101]\n"
     ]
    },
    {
     "name": "stdout",
     "output_type": "stream",
     "text": [
      "Epoch 00036: reducing learning rate of group 0 to 2.3915e-04.\n"
     ]
    },
    {
     "name": "stderr",
     "output_type": "stream",
     "text": [
      "Train Epoch: 37 [240/1292 (95%)]\tLoss: 0.000944: 100%|██████████| 21/21 [00:00<00:00, 28.91it/s] \n",
      "Test Set: 100%|██████████| 6/6 [00:00<00:00, 48.00batch/s, Accuracy=tensor(97.5232), Loss=0.101]\n",
      "Train Epoch: 38 [240/1292 (95%)]\tLoss: 0.001029: 100%|██████████| 21/21 [00:00<00:00, 29.82it/s] \n",
      "Test Set: 100%|██████████| 6/6 [00:00<00:00, 48.00batch/s, Accuracy=tensor(97.8328), Loss=0.0955]\n",
      "Train Epoch: 39 [240/1292 (95%)]\tLoss: 0.000389: 100%|██████████| 21/21 [00:00<00:00, 29.80it/s] \n",
      "Test Set: 100%|██████████| 6/6 [00:00<00:00, 46.50batch/s, Accuracy=tensor(96.2848), Loss=0.102] \n",
      "Train Epoch: 40 [240/1292 (95%)]\tLoss: 0.000215: 100%|██████████| 21/21 [00:00<00:00, 30.04it/s] \n",
      "Test Set: 100%|██████████| 6/6 [00:00<00:00, 49.59batch/s, Accuracy=tensor(97.2136), Loss=0.107]\n",
      "Train Epoch: 41 [240/1292 (95%)]\tLoss: 0.001930: 100%|██████████| 21/21 [00:00<00:00, 30.20it/s] \n",
      "Test Set: 100%|██████████| 6/6 [00:00<00:00, 48.74batch/s, Accuracy=tensor(97.5232), Loss=0.107]\n"
     ]
    },
    {
     "name": "stdout",
     "output_type": "stream",
     "text": [
      "Epoch 00041: reducing learning rate of group 0 to 2.1523e-04.\n"
     ]
    },
    {
     "name": "stderr",
     "output_type": "stream",
     "text": [
      "Train Epoch: 42 [240/1292 (95%)]\tLoss: 0.000555: 100%|██████████| 21/21 [00:00<00:00, 29.66it/s] \n",
      "Test Set: 100%|██████████| 6/6 [00:00<00:00, 48.00batch/s, Accuracy=tensor(97.5232), Loss=0.0977]\n",
      "Train Epoch: 43 [240/1292 (95%)]\tLoss: 0.000369: 100%|██████████| 21/21 [00:00<00:00, 29.30it/s] \n",
      "Test Set: 100%|██████████| 6/6 [00:00<00:00, 49.59batch/s, Accuracy=tensor(98.1424), Loss=0.0946]\n",
      "Train Epoch: 44 [240/1292 (95%)]\tLoss: 0.000808: 100%|██████████| 21/21 [00:00<00:00, 29.83it/s] \n",
      "Test Set: 100%|██████████| 6/6 [00:00<00:00, 44.12batch/s, Accuracy=tensor(98.4520), Loss=0.099] \n",
      "Train Epoch: 45 [240/1292 (95%)]\tLoss: 0.000331: 100%|██████████| 21/21 [00:00<00:00, 29.66it/s] \n",
      "Test Set: 100%|██████████| 6/6 [00:00<00:00, 46.85batch/s, Accuracy=tensor(98.1424), Loss=0.0965]\n",
      "Train Epoch: 46 [240/1292 (95%)]\tLoss: 0.000606: 100%|██████████| 21/21 [00:00<00:00, 29.62it/s] \n",
      "Test Set: 100%|██████████| 6/6 [00:00<00:00, 49.18batch/s, Accuracy=tensor(97.8328), Loss=0.103]\n"
     ]
    },
    {
     "name": "stdout",
     "output_type": "stream",
     "text": [
      "Epoch 00046: reducing learning rate of group 0 to 1.9371e-04.\n"
     ]
    },
    {
     "name": "stderr",
     "output_type": "stream",
     "text": [
      "Train Epoch: 47 [240/1292 (95%)]\tLoss: 0.000265: 100%|██████████| 21/21 [00:00<00:00, 29.45it/s] \n",
      "Test Set: 100%|██████████| 6/6 [00:00<00:00, 46.15batch/s, Accuracy=tensor(98.4520), Loss=0.0952]\n",
      "Train Epoch: 48 [240/1292 (95%)]\tLoss: 0.009221: 100%|██████████| 21/21 [00:00<00:00, 29.29it/s] \n",
      "Test Set: 100%|██████████| 6/6 [00:00<00:00, 44.44batch/s, Accuracy=tensor(98.7616), Loss=0.0942]\n",
      "Train Epoch: 49 [240/1292 (95%)]\tLoss: 0.000393: 100%|██████████| 21/21 [00:00<00:00, 29.74it/s] \n",
      "Test Set: 100%|██████████| 6/6 [00:00<00:00, 48.39batch/s, Accuracy=tensor(98.7616), Loss=0.0919]\n",
      "Train Epoch: 50 [240/1292 (95%)]\tLoss: 0.000254: 100%|██████████| 21/21 [00:00<00:00, 29.27it/s] \n",
      "Test Set: 100%|██████████| 6/6 [00:00<00:00, 35.28batch/s, Accuracy=tensor(98.1424), Loss=0.0958]\n"
     ]
    },
    {
     "name": "stdout",
     "output_type": "stream",
     "text": [
      "\n",
      " ---------------------------- Finished Training ---------------------------- \n"
     ]
    },
    {
     "data": {
      "text/plain": "<Figure size 640x480 with 2 Axes>",
      "image/png": "[encoded data removed]"
     },
     "metadata": {},
     "output_type": "display_data"
    }
   ],
   "source": [
    "for epoch in range(1, args[\"epochs\"] + 1):\n",
    "    final = True if epoch == args[\"epochs\"] else False\n",
    "    train(epoch)\n",
    "    test_loss = test(final)\n",
    "    scheduler.step(test_loss)\n",
    "    if epoch % 10 == 0 or epoch == args[\"epochs\"]:\n",
    "        # Save the model dict\n",
    "        torch.save(\n",
    "            model.state_dict(),\n",
    "            f\"checkpoints/{epoch:03d}_model_dict_reconstruction_transfer.pth\",\n",
    "        )\n",
    "\n",
    "print(\"\\n\", \"-\" * 28, \"Finished Training\", \"-\" * 28, \"\\n\")"
   ],
   "metadata": {
    "collapsed": false,
    "ExecuteTime": {
     "end_time": "2024-02-05T10:11:12.606548300Z",
     "start_time": "2024-02-05T10:10:26.936036800Z"
    }
   },
   "id": "8d82261ebdd3a3f0",
   "execution_count": 10
  },
  {
   "cell_type": "code",
   "outputs": [],
   "source": [],
   "metadata": {
    "collapsed": false,
    "ExecuteTime": {
     "end_time": "2024-02-05T10:11:12.607558300Z",
     "start_time": "2024-02-05T10:11:12.601320700Z"
    }
   },
   "id": "d90fbe3177070d8d",
   "execution_count": 10
  }
 ],
 "metadata": {
  "kernelspec": {
   "display_name": "Python 3",
   "language": "python",
   "name": "python3"
  },
  "language_info": {
   "codemirror_mode": {
    "name": "ipython",
    "version": 2
   },
   "file_extension": ".py",
   "mimetype": "text/x-python",
   "name": "python",
   "nbconvert_exporter": "python",
   "pygments_lexer": "ipython2",
   "version": "2.7.6"
  }
 },
 "nbformat": 4,
 "nbformat_minor": 5
}
