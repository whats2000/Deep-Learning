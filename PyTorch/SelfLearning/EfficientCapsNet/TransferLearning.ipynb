{
 "cells": [
  {
   "cell_type": "code",
   "execution_count": 1,
   "id": "initial_id",
   "metadata": {
    "collapsed": true,
    "ExecuteTime": {
     "end_time": "2024-02-05T19:17:08.970534500Z",
     "start_time": "2024-02-05T19:17:04.042641500Z"
    }
   },
   "outputs": [],
   "source": [
    "import torch\n",
    "import torchvision.transforms as transforms\n",
    "from torch.utils.data import Dataset, DataLoader\n",
    "import matplotlib.pyplot as plt\n",
    "from torchvision import datasets\n",
    "from collections import Counter\n",
    "from model import MarginLoss, make_model\n",
    "from torch.optim import lr_scheduler\n",
    "from torch import optim\n",
    "from torch.autograd import Variable\n",
    "import torch.nn.functional as F\n",
    "import seaborn as sns\n",
    "import numpy as np\n",
    "from tqdm import tqdm"
   ]
  },
  {
   "cell_type": "code",
   "outputs": [
    {
     "data": {
      "text/plain": "{'1': 0, '2': 1, '3': 2, '4': 3, '5': 4, '6': 5, '7': 6, '8': 7, '9': 8}"
     },
     "execution_count": 2,
     "metadata": {},
     "output_type": "execute_result"
    }
   ],
   "source": [
    "# Define the transfer learning dataset\n",
    "data_path = 'numbers'\n",
    "\n",
    "transfer_target_dataset = datasets.ImageFolder(\n",
    "    root=data_path,\n",
    "    transform=transforms.Compose([\n",
    "        transforms.Grayscale(num_output_channels=1),\n",
    "        transforms.Pad(2),\n",
    "        transforms.RandomCrop((28, 28)),\n",
    "        transforms.ToTensor(),\n",
    "]))\n",
    "\n",
    "class_mapping = transfer_target_dataset.class_to_idx\n",
    "class_mapping"
   ],
   "metadata": {
    "collapsed": false,
    "ExecuteTime": {
     "end_time": "2024-02-05T19:17:09.044586500Z",
     "start_time": "2024-02-05T19:17:08.972522900Z"
    }
   },
   "id": "7ca5e5c2e3b13eff",
   "execution_count": 2
  },
  {
   "cell_type": "code",
   "outputs": [
    {
     "name": "stdout",
     "output_type": "stream",
     "text": [
      "Train size:  12780\n",
      "Test size:  3195\n"
     ]
    }
   ],
   "source": [
    "# Split data to test and train\n",
    "# Use 80% to train\n",
    "train_size = int(0.8 * len(transfer_target_dataset))\n",
    "test_size = len(transfer_target_dataset) - train_size\n",
    "\n",
    "train_dataset, test_dataset = torch.utils.data.random_split(transfer_target_dataset, [train_size, test_size], generator=torch.Generator().manual_seed(42))\n",
    "\n",
    "print('Train size: ', len(train_dataset))\n",
    "print('Test size: ', len(test_dataset))"
   ],
   "metadata": {
    "collapsed": false,
    "ExecuteTime": {
     "end_time": "2024-02-05T19:17:09.053339200Z",
     "start_time": "2024-02-05T19:17:09.046588200Z"
    }
   },
   "id": "3a54f7b880b81ead",
   "execution_count": 3
  },
  {
   "cell_type": "code",
   "outputs": [
    {
     "data": {
      "text/plain": "Counter({0: 1761,\n         1: 1743,\n         2: 1801,\n         3: 1741,\n         4: 1847,\n         5: 1781,\n         6: 1779,\n         7: 1777,\n         8: 1745})"
     },
     "execution_count": 4,
     "metadata": {},
     "output_type": "execute_result"
    }
   ],
   "source": [
    "# Label distribution\n",
    "train_classes = [label for _, label in transfer_target_dataset]\n",
    "Counter(train_classes)"
   ],
   "metadata": {
    "collapsed": false,
    "ExecuteTime": {
     "end_time": "2024-02-05T19:17:13.013690100Z",
     "start_time": "2024-02-05T19:17:09.053339200Z"
    }
   },
   "id": "e40ee6ce600ee01c",
   "execution_count": 4
  },
  {
   "cell_type": "code",
   "outputs": [],
   "source": [
    "train_loader = DataLoader(dataset=train_dataset, batch_size=64, shuffle=True)\n",
    "test_loader = DataLoader(dataset=test_dataset, batch_size=64, shuffle=False)"
   ],
   "metadata": {
    "collapsed": false,
    "ExecuteTime": {
     "end_time": "2024-02-05T19:17:13.014689400Z",
     "start_time": "2024-02-05T19:17:13.001522100Z"
    }
   },
   "id": "c48a0c94bc14cfb6",
   "execution_count": 5
  },
  {
   "cell_type": "code",
   "outputs": [
    {
     "data": {
      "text/plain": "<Figure size 640x480 with 1 Axes>",
      "image/png": "[encoded data removed]"
     },
     "metadata": {},
     "output_type": "display_data"
    }
   ],
   "source": [
    "# Check a sample\n",
    "sample = next(iter(train_loader))\n",
    "\n",
    "plt.imshow(sample[0][0].reshape(28, 28), cmap='gray')\n",
    "plt.title('y = {}'.format(sample[1][0]))\n",
    "plt.show()"
   ],
   "metadata": {
    "collapsed": false,
    "ExecuteTime": {
     "end_time": "2024-02-05T19:17:13.192785200Z",
     "start_time": "2024-02-05T19:17:13.008692800Z"
    }
   },
   "id": "17430a6af1e76ed1",
   "execution_count": 6
  },
  {
   "cell_type": "code",
   "outputs": [
    {
     "data": {
      "text/plain": "EfficientCapsNetWithReconstruction(\n  (efficient_capsnet): EfficientCapsNet(\n    (conv1): Conv2d(1, 32, kernel_size=(5, 5), stride=(1, 1), padding=valid)\n    (batch_norm1): BatchNorm2d(32, eps=1e-05, momentum=0.1, affine=True, track_running_stats=True)\n    (conv2): Conv2d(32, 64, kernel_size=(3, 3), stride=(1, 1), padding=valid)\n    (batch_norm2): BatchNorm2d(64, eps=1e-05, momentum=0.1, affine=True, track_running_stats=True)\n    (conv3): Conv2d(64, 64, kernel_size=(3, 3), stride=(1, 1), padding=valid)\n    (batch_norm3): BatchNorm2d(64, eps=1e-05, momentum=0.1, affine=True, track_running_stats=True)\n    (conv4): Conv2d(64, 128, kernel_size=(3, 3), stride=(2, 2), padding=valid)\n    (batch_norm4): BatchNorm2d(128, eps=1e-05, momentum=0.1, affine=True, track_running_stats=True)\n    (primary_caps): PrimaryCapsLayer(\n      (depthwise_conv): Conv2d(128, 128, kernel_size=(9, 9), stride=(1, 1), padding=valid, groups=128)\n    )\n    (digit_caps): RoutingLayer()\n  )\n  (reconstruction_net): ReconstructionNet(\n    (fc1): Linear(in_features=160, out_features=512, bias=True)\n    (fc2): Linear(in_features=512, out_features=1024, bias=True)\n    (fc3): Linear(in_features=1024, out_features=784, bias=True)\n  )\n)"
     },
     "execution_count": 7,
     "metadata": {},
     "output_type": "execute_result"
    }
   ],
   "source": [
    "model = make_model()\n",
    "model.load_state_dict(torch.load('checkpoints/019_model_dict_reconstructionTrue.pth')['model_state_dict'])\n",
    "\n",
    "model.train()\n",
    "\n",
    "device = torch.device('cuda' if torch.cuda.is_available() else 'cpu')\n",
    "model.to(device)"
   ],
   "metadata": {
    "collapsed": false,
    "ExecuteTime": {
     "end_time": "2024-02-05T19:17:13.453838400Z",
     "start_time": "2024-02-05T19:17:13.194784100Z"
    }
   },
   "id": "5dfbd51722339562",
   "execution_count": 7
  },
  {
   "cell_type": "code",
   "outputs": [],
   "source": [
    "args = {\n",
    "    \"batch_size\": 64,\n",
    "    \"test_batch_size\": 64,\n",
    "    \"epochs\": 50,\n",
    "    \"lr\": 5e-4,\n",
    "    \"reconstruction_alpha\": 0.0005,\n",
    "}\n",
    "\n",
    "optimizer = optim.Adam(model.parameters(), lr=args[\"lr\"])\n",
    "\n",
    "scheduler = lr_scheduler.ReduceLROnPlateau(\n",
    "    optimizer, verbose=True, factor=0.9, patience=4, min_lr=1e-5, mode=\"max\"\n",
    ")\n",
    "\n",
    "loss_fn = MarginLoss(0.9, 0.1, 0.5)"
   ],
   "metadata": {
    "collapsed": false,
    "ExecuteTime": {
     "end_time": "2024-02-05T19:17:13.454833500Z",
     "start_time": "2024-02-05T19:17:13.449356300Z"
    }
   },
   "id": "ade666319a1250ef",
   "execution_count": 8
  },
  {
   "cell_type": "code",
   "outputs": [],
   "source": [
    "confusion_mat = np.zeros((9, 9), dtype=int)\n",
    "max_test_accuracy = 0\n",
    "\n",
    "def train(current_epoch):\n",
    "    model.train()\n",
    "    # 將train_loader包裝在tqdm進度條中\n",
    "    train_loader_tqdm = tqdm(enumerate(train_loader), total=len(train_loader), desc=f'Train Epoch: {current_epoch}')\n",
    "    for batch_idx, (data, target) in train_loader_tqdm:\n",
    "        data, target = data.to(device), target.to(device)\n",
    "        \n",
    "        data, target = Variable(data), Variable(target, requires_grad=False)\n",
    "        optimizer.zero_grad()\n",
    "        \n",
    "        output, probs = model(data)\n",
    "        reconstruction_loss = F.mse_loss(output, data.view(-1, 784))\n",
    "        margin_loss = loss_fn(probs, target)\n",
    "        loss = args[\"reconstruction_alpha\"] * reconstruction_loss + margin_loss\n",
    "            \n",
    "        loss.backward()\n",
    "        optimizer.step()\n",
    "        \n",
    "        # 更新tqdm進度條的描述信息\n",
    "        train_loader_tqdm.set_description(\n",
    "            \"Train Epoch: {} [{}/{} ({:.0f}%)]\\tLoss: {:.6f}\".format(\n",
    "                current_epoch,\n",
    "                batch_idx * len(data),\n",
    "                len(train_loader.dataset),\n",
    "                100.0 * batch_idx / len(train_loader),\n",
    "                loss.item(),\n",
    "            )\n",
    "        )\n",
    "            \n",
    "def test(final=False):\n",
    "    global confusion_mat, max_test_accuracy\n",
    "    model.eval()\n",
    "    test_loss = 0\n",
    "    correct = 0\n",
    "    if final:\n",
    "        confusion_mat = np.zeros((9, 9), dtype=int)\n",
    "    with tqdm(test_loader, unit=\"batch\", desc=\"Test Set\") as test_loader_tqdm:\n",
    "        for data, target in test_loader_tqdm:\n",
    "            data, target = data.to(device), target.to(device)\n",
    "            data, target = Variable(data), Variable(target)\n",
    "\n",
    "            output, probs = model(data)\n",
    "            reconstruction_loss = F.mse_loss(\n",
    "                output, data.view(-1, 784), reduction='sum'\n",
    "            ).item()\n",
    "            test_loss += loss_fn(probs, target, size_average=False).item()\n",
    "            test_loss += args[\"reconstruction_alpha\"] * reconstruction_loss\n",
    "\n",
    "            pred = probs.data.max(1, keepdim=True)[1]  # get the index of the max probability\n",
    "            correct += pred.eq(target.data.view_as(pred)).cpu().sum()\n",
    "\n",
    "            if final:\n",
    "                for i in range(len(pred)):\n",
    "                    true_label = target.data[i]\n",
    "                    pred_label = pred.data[i]\n",
    "                    confusion_mat[true_label][pred_label] += 1\n",
    "            test_loader_tqdm.set_postfix(Loss=test_loss / len(test_loader.dataset), Accuracy=100.0 * correct / len(test_loader.dataset))\n",
    "            \n",
    "            if 100.0 * correct / len(test_loader.dataset) > max_test_accuracy:\n",
    "                max_test_accuracy = 100.0 * correct / len(test_loader.dataset)\n",
    "                torch.save(\n",
    "                    model.state_dict(),\n",
    "                    f\"checkpoints/{max_test_accuracy:0.2f}_reconstruction_transfer.pth\",\n",
    "                )\n",
    "\n",
    "    if final:\n",
    "        sns.heatmap(confusion_mat, annot=True, cmap=\"Blues\", fmt=\"d\")\n",
    "        plt.xlabel(\"Predicted label\")\n",
    "        plt.ylabel(\"True label\")\n",
    "        plt.title(\"Efficient CapsNet - MNIST Confusion Matrix\")\n",
    "        plt.savefig(\"confusion_mat-reconstruction.png\")\n",
    "    return test_loss"
   ],
   "metadata": {
    "collapsed": false,
    "ExecuteTime": {
     "end_time": "2024-02-05T19:17:13.463067200Z",
     "start_time": "2024-02-05T19:17:13.451831200Z"
    }
   },
   "id": "e41c4f112a91af4b",
   "execution_count": 9
  },
  {
   "cell_type": "code",
   "outputs": [
    {
     "name": "stderr",
     "output_type": "stream",
     "text": [
      "Train Epoch: 1 [8756/12780 (100%)]\tLoss: 0.002834: 100%|██████████| 200/200 [00:14<00:00, 13.85it/s]\n",
      "Test Set: 100%|██████████| 50/50 [00:02<00:00, 20.29batch/s, Accuracy=tensor(95.0861), Loss=0.0756]\n",
      "Train Epoch: 2 [8756/12780 (100%)]\tLoss: 0.004705: 100%|██████████| 200/200 [00:08<00:00, 24.67it/s]\n",
      "Test Set: 100%|██████████| 50/50 [00:01<00:00, 35.18batch/s, Accuracy=tensor(98.1221), Loss=0.0469]\n",
      "Train Epoch: 3 [8756/12780 (100%)]\tLoss: 0.002024: 100%|██████████| 200/200 [00:07<00:00, 27.57it/s]\n",
      "Test Set: 100%|██████████| 50/50 [00:01<00:00, 40.60batch/s, Accuracy=tensor(99.3740), Loss=0.0355] \n",
      "Train Epoch: 4 [8756/12780 (100%)]\tLoss: 0.002015: 100%|██████████| 200/200 [00:07<00:00, 27.16it/s]\n",
      "Test Set: 100%|██████████| 50/50 [00:01<00:00, 40.98batch/s, Accuracy=tensor(99.3114), Loss=0.0331] \n",
      "Train Epoch: 5 [8756/12780 (100%)]\tLoss: 0.000292: 100%|██████████| 200/200 [00:07<00:00, 27.69it/s]\n",
      "Test Set: 100%|██████████| 50/50 [00:01<00:00, 41.05batch/s, Accuracy=tensor(99.5618), Loss=0.0318] \n",
      "Train Epoch: 6 [8756/12780 (100%)]\tLoss: 0.000084: 100%|██████████| 200/200 [00:07<00:00, 28.08it/s]\n",
      "Test Set: 100%|██████████| 50/50 [00:01<00:00, 40.64batch/s, Accuracy=tensor(99.5618), Loss=0.0312] \n"
     ]
    },
    {
     "name": "stdout",
     "output_type": "stream",
     "text": [
      "Epoch 00006: reducing learning rate of group 0 to 4.5000e-04.\n"
     ]
    },
    {
     "name": "stderr",
     "output_type": "stream",
     "text": [
      "Train Epoch: 7 [8756/12780 (100%)]\tLoss: 0.000276: 100%|██████████| 200/200 [00:07<00:00, 28.21it/s]\n",
      "Test Set: 100%|██████████| 50/50 [00:01<00:00, 39.96batch/s, Accuracy=tensor(99.7183), Loss=0.029]  \n",
      "Train Epoch: 8 [8756/12780 (100%)]\tLoss: 0.000334: 100%|██████████| 200/200 [00:07<00:00, 27.87it/s]\n",
      "Test Set: 100%|██████████| 50/50 [00:01<00:00, 41.32batch/s, Accuracy=tensor(99.5931), Loss=0.0285] \n",
      "Train Epoch: 9 [8756/12780 (100%)]\tLoss: 0.000250: 100%|██████████| 200/200 [00:07<00:00, 28.17it/s]\n",
      "Test Set: 100%|██████████| 50/50 [00:01<00:00, 41.32batch/s, Accuracy=tensor(99.8748), Loss=0.0275] \n",
      "Train Epoch: 10 [8756/12780 (100%)]\tLoss: 0.000149: 100%|██████████| 200/200 [00:07<00:00, 28.00it/s]\n",
      "Test Set: 100%|██████████| 50/50 [00:01<00:00, 41.53batch/s, Accuracy=tensor(99.7496), Loss=0.0279] \n",
      "Train Epoch: 11 [8756/12780 (100%)]\tLoss: 0.000495: 100%|██████████| 200/200 [00:07<00:00, 28.05it/s]\n",
      "Test Set: 100%|██████████| 50/50 [00:01<00:00, 40.06batch/s, Accuracy=tensor(99.4679), Loss=0.0299] \n"
     ]
    },
    {
     "name": "stdout",
     "output_type": "stream",
     "text": [
      "Epoch 00011: reducing learning rate of group 0 to 4.0500e-04.\n"
     ]
    },
    {
     "name": "stderr",
     "output_type": "stream",
     "text": [
      "Train Epoch: 12 [8756/12780 (100%)]\tLoss: 0.000113: 100%|██████████| 200/200 [00:07<00:00, 27.73it/s]\n",
      "Test Set: 100%|██████████| 50/50 [00:01<00:00, 40.67batch/s, Accuracy=tensor(99.8435), Loss=0.0266] \n",
      "Train Epoch: 13 [8756/12780 (100%)]\tLoss: 0.000040: 100%|██████████| 200/200 [00:07<00:00, 27.91it/s]\n",
      "Test Set: 100%|██████████| 50/50 [00:01<00:00, 40.26batch/s, Accuracy=tensor(99.8748), Loss=0.0268] \n",
      "Train Epoch: 14 [8756/12780 (100%)]\tLoss: 0.000045: 100%|██████████| 200/200 [00:07<00:00, 27.93it/s]\n",
      "Test Set: 100%|██████████| 50/50 [00:01<00:00, 40.88batch/s, Accuracy=tensor(99.7183), Loss=0.0272] \n",
      "Train Epoch: 15 [8756/12780 (100%)]\tLoss: 0.000044: 100%|██████████| 200/200 [00:07<00:00, 27.78it/s]\n",
      "Test Set: 100%|██████████| 50/50 [00:01<00:00, 41.44batch/s, Accuracy=tensor(99.8748), Loss=0.0269] \n",
      "Train Epoch: 16 [8756/12780 (100%)]\tLoss: 0.000291: 100%|██████████| 200/200 [00:07<00:00, 27.80it/s]\n",
      "Test Set: 100%|██████████| 50/50 [00:01<00:00, 40.71batch/s, Accuracy=tensor(99.8748), Loss=0.0259] \n"
     ]
    },
    {
     "name": "stdout",
     "output_type": "stream",
     "text": [
      "Epoch 00016: reducing learning rate of group 0 to 3.6450e-04.\n"
     ]
    },
    {
     "name": "stderr",
     "output_type": "stream",
     "text": [
      "Train Epoch: 17 [8756/12780 (100%)]\tLoss: 0.000320: 100%|██████████| 200/200 [00:07<00:00, 27.57it/s]\n",
      "Test Set: 100%|██████████| 50/50 [00:01<00:00, 40.65batch/s, Accuracy=tensor(99.8748), Loss=0.0269] \n",
      "Train Epoch: 18 [8756/12780 (100%)]\tLoss: 0.000120: 100%|██████████| 200/200 [00:07<00:00, 27.83it/s]\n",
      "Test Set: 100%|██████████| 50/50 [00:01<00:00, 41.52batch/s, Accuracy=tensor(99.8435), Loss=0.0261] \n",
      "Train Epoch: 19 [8756/12780 (100%)]\tLoss: 0.000042: 100%|██████████| 200/200 [00:07<00:00, 28.03it/s]\n",
      "Test Set: 100%|██████████| 50/50 [00:01<00:00, 40.49batch/s, Accuracy=tensor(99.9061), Loss=0.0256] \n",
      "Train Epoch: 20 [8756/12780 (100%)]\tLoss: 0.000038: 100%|██████████| 200/200 [00:07<00:00, 27.86it/s]\n",
      "Test Set: 100%|██████████| 50/50 [00:01<00:00, 41.02batch/s, Accuracy=tensor(99.8122), Loss=0.0261] \n",
      "Train Epoch: 21 [8756/12780 (100%)]\tLoss: 0.000041: 100%|██████████| 200/200 [00:07<00:00, 27.62it/s]\n",
      "Test Set: 100%|██████████| 50/50 [00:01<00:00, 40.91batch/s, Accuracy=tensor(99.8435), Loss=0.0261] \n"
     ]
    },
    {
     "name": "stdout",
     "output_type": "stream",
     "text": [
      "Epoch 00021: reducing learning rate of group 0 to 3.2805e-04.\n"
     ]
    },
    {
     "name": "stderr",
     "output_type": "stream",
     "text": [
      "Train Epoch: 22 [8756/12780 (100%)]\tLoss: 0.000184: 100%|██████████| 200/200 [00:07<00:00, 27.98it/s]\n",
      "Test Set: 100%|██████████| 50/50 [00:01<00:00, 41.15batch/s, Accuracy=tensor(99.7809), Loss=0.0263] \n",
      "Train Epoch: 23 [8756/12780 (100%)]\tLoss: 0.000044: 100%|██████████| 200/200 [00:07<00:00, 27.77it/s]\n",
      "Test Set: 100%|██████████| 50/50 [00:01<00:00, 41.52batch/s, Accuracy=tensor(99.7809), Loss=0.0262] \n",
      "Train Epoch: 24 [8756/12780 (100%)]\tLoss: 0.000084: 100%|██████████| 200/200 [00:07<00:00, 27.78it/s]\n",
      "Test Set: 100%|██████████| 50/50 [00:01<00:00, 39.54batch/s, Accuracy=tensor(99.9061), Loss=0.025]  \n",
      "Train Epoch: 25 [8756/12780 (100%)]\tLoss: 0.000136: 100%|██████████| 200/200 [00:07<00:00, 27.74it/s]\n",
      "Test Set: 100%|██████████| 50/50 [00:01<00:00, 41.24batch/s, Accuracy=tensor(99.8748), Loss=0.0261] \n",
      "Train Epoch: 26 [8756/12780 (100%)]\tLoss: 0.000087: 100%|██████████| 200/200 [00:07<00:00, 28.10it/s]\n",
      "Test Set: 100%|██████████| 50/50 [00:01<00:00, 41.11batch/s, Accuracy=tensor(99.9374), Loss=0.0253] \n"
     ]
    },
    {
     "name": "stdout",
     "output_type": "stream",
     "text": [
      "Epoch 00026: reducing learning rate of group 0 to 2.9525e-04.\n"
     ]
    },
    {
     "name": "stderr",
     "output_type": "stream",
     "text": [
      "Train Epoch: 27 [8756/12780 (100%)]\tLoss: 0.000067: 100%|██████████| 200/200 [00:07<00:00, 26.75it/s]\n",
      "Test Set: 100%|██████████| 50/50 [00:01<00:00, 41.02batch/s, Accuracy=tensor(99.9374), Loss=0.0251] \n",
      "Train Epoch: 28 [8756/12780 (100%)]\tLoss: 0.000045: 100%|██████████| 200/200 [00:07<00:00, 28.13it/s]\n",
      "Test Set: 100%|██████████| 50/50 [00:01<00:00, 41.51batch/s, Accuracy=tensor(99.8748), Loss=0.0257] \n",
      "Train Epoch: 29 [8756/12780 (100%)]\tLoss: 0.000063: 100%|██████████| 200/200 [00:07<00:00, 28.05it/s]\n",
      "Test Set: 100%|██████████| 50/50 [00:01<00:00, 41.00batch/s, Accuracy=tensor(99.8748), Loss=0.0254] \n",
      "Train Epoch: 30 [8756/12780 (100%)]\tLoss: 0.000028: 100%|██████████| 200/200 [00:07<00:00, 27.88it/s]\n",
      "Test Set: 100%|██████████| 50/50 [00:01<00:00, 40.58batch/s, Accuracy=tensor(99.9687), Loss=0.0249] \n",
      "Train Epoch: 31 [8756/12780 (100%)]\tLoss: 0.000029: 100%|██████████| 200/200 [00:07<00:00, 27.43it/s]\n",
      "Test Set: 100%|██████████| 50/50 [00:01<00:00, 38.34batch/s, Accuracy=tensor(99.9374), Loss=0.025]  \n"
     ]
    },
    {
     "name": "stdout",
     "output_type": "stream",
     "text": [
      "Epoch 00031: reducing learning rate of group 0 to 2.6572e-04.\n"
     ]
    },
    {
     "name": "stderr",
     "output_type": "stream",
     "text": [
      "Train Epoch: 32 [8756/12780 (100%)]\tLoss: 0.000034: 100%|██████████| 200/200 [00:07<00:00, 27.54it/s]\n",
      "Test Set: 100%|██████████| 50/50 [00:01<00:00, 39.75batch/s, Accuracy=tensor(99.8435), Loss=0.0258] \n",
      "Train Epoch: 33 [8756/12780 (100%)]\tLoss: 0.000040: 100%|██████████| 200/200 [00:07<00:00, 26.81it/s]\n",
      "Test Set: 100%|██████████| 50/50 [00:01<00:00, 41.08batch/s, Accuracy=tensor(99.8748), Loss=0.0252] \n",
      "Train Epoch: 34 [8756/12780 (100%)]\tLoss: 0.000037: 100%|██████████| 200/200 [00:07<00:00, 27.39it/s]\n",
      "Test Set: 100%|██████████| 50/50 [00:01<00:00, 40.68batch/s, Accuracy=tensor(100.), Loss=0.0251]    \n",
      "Train Epoch: 35 [8756/12780 (100%)]\tLoss: 0.000044: 100%|██████████| 200/200 [00:07<00:00, 27.88it/s]\n",
      "Test Set: 100%|██████████| 50/50 [00:01<00:00, 41.08batch/s, Accuracy=tensor(99.9061), Loss=0.025]  \n",
      "Train Epoch: 36 [8756/12780 (100%)]\tLoss: 0.000055: 100%|██████████| 200/200 [00:07<00:00, 28.00it/s]\n",
      "Test Set: 100%|██████████| 50/50 [00:01<00:00, 40.95batch/s, Accuracy=tensor(99.9374), Loss=0.0255] \n"
     ]
    },
    {
     "name": "stdout",
     "output_type": "stream",
     "text": [
      "Epoch 00036: reducing learning rate of group 0 to 2.3915e-04.\n"
     ]
    },
    {
     "name": "stderr",
     "output_type": "stream",
     "text": [
      "Train Epoch: 37 [8756/12780 (100%)]\tLoss: 0.000048: 100%|██████████| 200/200 [00:07<00:00, 27.43it/s]\n",
      "Test Set: 100%|██████████| 50/50 [00:01<00:00, 41.24batch/s, Accuracy=tensor(99.9374), Loss=0.0247] \n",
      "Train Epoch: 38 [8756/12780 (100%)]\tLoss: 0.000047: 100%|██████████| 200/200 [00:07<00:00, 28.23it/s]\n",
      "Test Set: 100%|██████████| 50/50 [00:01<00:00, 40.42batch/s, Accuracy=tensor(99.8122), Loss=0.0255] \n",
      "Train Epoch: 39 [8756/12780 (100%)]\tLoss: 0.000054: 100%|██████████| 200/200 [00:07<00:00, 27.84it/s]\n",
      "Test Set: 100%|██████████| 50/50 [00:01<00:00, 41.32batch/s, Accuracy=tensor(99.9374), Loss=0.025]  \n",
      "Train Epoch: 40 [8756/12780 (100%)]\tLoss: 0.000031: 100%|██████████| 200/200 [00:07<00:00, 27.67it/s]\n",
      "Test Set: 100%|██████████| 50/50 [00:01<00:00, 41.26batch/s, Accuracy=tensor(99.9061), Loss=0.0246] \n",
      "Train Epoch: 41 [8756/12780 (100%)]\tLoss: 0.000131: 100%|██████████| 200/200 [00:07<00:00, 27.84it/s]\n",
      "Test Set: 100%|██████████| 50/50 [00:01<00:00, 40.86batch/s, Accuracy=tensor(99.8748), Loss=0.0248] \n"
     ]
    },
    {
     "name": "stdout",
     "output_type": "stream",
     "text": [
      "Epoch 00041: reducing learning rate of group 0 to 2.1523e-04.\n"
     ]
    },
    {
     "name": "stderr",
     "output_type": "stream",
     "text": [
      "Train Epoch: 42 [8756/12780 (100%)]\tLoss: 0.000044: 100%|██████████| 200/200 [00:07<00:00, 27.62it/s]\n",
      "Test Set: 100%|██████████| 50/50 [00:01<00:00, 40.76batch/s, Accuracy=tensor(99.9374), Loss=0.0248] \n",
      "Train Epoch: 43 [8756/12780 (100%)]\tLoss: 0.000036: 100%|██████████| 200/200 [00:07<00:00, 27.94it/s]\n",
      "Test Set: 100%|██████████| 50/50 [00:01<00:00, 40.71batch/s, Accuracy=tensor(99.9374), Loss=0.0247] \n",
      "Train Epoch: 44 [8756/12780 (100%)]\tLoss: 0.000131: 100%|██████████| 200/200 [00:07<00:00, 27.87it/s]\n",
      "Test Set: 100%|██████████| 50/50 [00:01<00:00, 40.43batch/s, Accuracy=tensor(100.), Loss=0.0245]    \n",
      "Train Epoch: 45 [8756/12780 (100%)]\tLoss: 0.000092: 100%|██████████| 200/200 [00:07<00:00, 27.90it/s]\n",
      "Test Set: 100%|██████████| 50/50 [00:01<00:00, 40.75batch/s, Accuracy=tensor(99.8748), Loss=0.0256] \n",
      "Train Epoch: 46 [8756/12780 (100%)]\tLoss: 0.000048: 100%|██████████| 200/200 [00:07<00:00, 27.85it/s]\n",
      "Test Set: 100%|██████████| 50/50 [00:01<00:00, 40.14batch/s, Accuracy=tensor(99.9374), Loss=0.0247] \n"
     ]
    },
    {
     "name": "stdout",
     "output_type": "stream",
     "text": [
      "Epoch 00046: reducing learning rate of group 0 to 1.9371e-04.\n"
     ]
    },
    {
     "name": "stderr",
     "output_type": "stream",
     "text": [
      "Train Epoch: 47 [8756/12780 (100%)]\tLoss: 0.000025: 100%|██████████| 200/200 [00:07<00:00, 27.84it/s]\n",
      "Test Set: 100%|██████████| 50/50 [00:01<00:00, 39.93batch/s, Accuracy=tensor(99.9061), Loss=0.0247] \n",
      "Train Epoch: 48 [8756/12780 (100%)]\tLoss: 0.000027: 100%|██████████| 200/200 [00:07<00:00, 27.83it/s]\n",
      "Test Set: 100%|██████████| 50/50 [00:01<00:00, 40.93batch/s, Accuracy=tensor(99.9687), Loss=0.0247] \n",
      "Train Epoch: 49 [8756/12780 (100%)]\tLoss: 0.000035: 100%|██████████| 200/200 [00:07<00:00, 27.86it/s]\n",
      "Test Set: 100%|██████████| 50/50 [00:01<00:00, 40.95batch/s, Accuracy=tensor(99.8748), Loss=0.0248] \n",
      "Train Epoch: 50 [8756/12780 (100%)]\tLoss: 0.000033: 100%|██████████| 200/200 [00:07<00:00, 28.07it/s]\n",
      "Test Set: 100%|██████████| 50/50 [00:01<00:00, 36.41batch/s, Accuracy=tensor(99.9687), Loss=0.0244] \n"
     ]
    },
    {
     "name": "stdout",
     "output_type": "stream",
     "text": [
      "\n",
      " ---------------------------- Finished Training ---------------------------- \n"
     ]
    },
    {
     "data": {
      "text/plain": "<Figure size 640x480 with 2 Axes>",
      "image/png": "[encoded data removed]"
     },
     "metadata": {},
     "output_type": "display_data"
    }
   ],
   "source": [
    "for epoch in range(1, args[\"epochs\"] + 1):\n",
    "    final = True if epoch == args[\"epochs\"] else False\n",
    "    train(epoch)\n",
    "    test_loss = test(final)\n",
    "    scheduler.step(test_loss)\n",
    "    if epoch % 10 == 0 or epoch == args[\"epochs\"]:\n",
    "        # Save the model dict\n",
    "        torch.save(\n",
    "            model.state_dict(),\n",
    "            f\"checkpoints/{epoch:03d}_model_dict_reconstruction_transfer.pth\",\n",
    "        )\n",
    "\n",
    "print(\"\\n\", \"-\" * 28, \"Finished Training\", \"-\" * 28, \"\\n\")"
   ],
   "metadata": {
    "collapsed": false,
    "ExecuteTime": {
     "end_time": "2024-02-05T19:24:25.023030500Z",
     "start_time": "2024-02-05T19:17:13.465065700Z"
    }
   },
   "id": "8d82261ebdd3a3f0",
   "execution_count": 10
  },
  {
   "cell_type": "code",
   "outputs": [
    {
     "data": {
      "text/plain": "<All keys matched successfully>"
     },
     "execution_count": 16,
     "metadata": {},
     "output_type": "execute_result"
    }
   ],
   "source": [
    "# Load the best model\n",
    "model.load_state_dict(torch.load('checkpoints/99.97_reconstruction_transfer.pth'))"
   ],
   "metadata": {
    "collapsed": false,
    "ExecuteTime": {
     "end_time": "2024-02-05T19:27:21.851613900Z",
     "start_time": "2024-02-05T19:27:21.824733200Z"
    }
   },
   "id": "d90fbe3177070d8d",
   "execution_count": 16
  },
  {
   "cell_type": "code",
   "outputs": [
    {
     "data": {
      "text/plain": "EfficientCapsNet(\n  (conv1): Conv2d(1, 32, kernel_size=(5, 5), stride=(1, 1), padding=valid)\n  (batch_norm1): BatchNorm2d(32, eps=1e-05, momentum=0.1, affine=True, track_running_stats=True)\n  (conv2): Conv2d(32, 64, kernel_size=(3, 3), stride=(1, 1), padding=valid)\n  (batch_norm2): BatchNorm2d(64, eps=1e-05, momentum=0.1, affine=True, track_running_stats=True)\n  (conv3): Conv2d(64, 64, kernel_size=(3, 3), stride=(1, 1), padding=valid)\n  (batch_norm3): BatchNorm2d(64, eps=1e-05, momentum=0.1, affine=True, track_running_stats=True)\n  (conv4): Conv2d(64, 128, kernel_size=(3, 3), stride=(2, 2), padding=valid)\n  (batch_norm4): BatchNorm2d(128, eps=1e-05, momentum=0.1, affine=True, track_running_stats=True)\n  (primary_caps): PrimaryCapsLayer(\n    (depthwise_conv): Conv2d(128, 128, kernel_size=(9, 9), stride=(1, 1), padding=valid, groups=128)\n  )\n  (digit_caps): RoutingLayer()\n)"
     },
     "execution_count": 17,
     "metadata": {},
     "output_type": "execute_result"
    }
   ],
   "source": [
    "# For deployment, we only need the convolutional layers, no need for the decoder\n",
    "deploy_model = model.efficient_capsnet\n",
    "deploy_model"
   ],
   "metadata": {
    "collapsed": false,
    "ExecuteTime": {
     "end_time": "2024-02-05T19:27:23.404900100Z",
     "start_time": "2024-02-05T19:27:23.379900Z"
    }
   },
   "id": "db0b78debe60f239",
   "execution_count": 17
  },
  {
   "cell_type": "code",
   "outputs": [],
   "source": [
    "# Save the model\n",
    "torch.save(deploy_model.state_dict(), 'checkpoints/efficient_capsnet_deploy.pth')"
   ],
   "metadata": {
    "collapsed": false,
    "ExecuteTime": {
     "end_time": "2024-02-05T19:27:28.223595800Z",
     "start_time": "2024-02-05T19:27:28.208880100Z"
    }
   },
   "id": "7bd956351f1b0b99",
   "execution_count": 18
  },
  {
   "cell_type": "code",
   "outputs": [
    {
     "data": {
      "text/plain": "torch.Size([64, 10, 16])"
     },
     "execution_count": 19,
     "metadata": {},
     "output_type": "execute_result"
    }
   ],
   "source": [
    "# Check the model output shape\n",
    "deploy_model.eval()\n",
    "sample = next(iter(train_loader))\n",
    "output, prob = deploy_model(sample[0].to(device))\n",
    "output.shape"
   ],
   "metadata": {
    "collapsed": false,
    "ExecuteTime": {
     "end_time": "2024-02-05T19:27:30.686604700Z",
     "start_time": "2024-02-05T19:27:30.627164800Z"
    }
   },
   "id": "b79b021cea6b1d69",
   "execution_count": 19
  },
  {
   "cell_type": "code",
   "outputs": [
    {
     "data": {
      "text/plain": "torch.Size([64, 10])"
     },
     "execution_count": 20,
     "metadata": {},
     "output_type": "execute_result"
    }
   ],
   "source": [
    "prob.shape"
   ],
   "metadata": {
    "collapsed": false,
    "ExecuteTime": {
     "end_time": "2024-02-05T19:27:31.399613400Z",
     "start_time": "2024-02-05T19:27:31.393084500Z"
    }
   },
   "id": "ce0cafa8309a62a1",
   "execution_count": 20
  },
  {
   "cell_type": "code",
   "outputs": [],
   "source": [],
   "metadata": {
    "collapsed": false,
    "ExecuteTime": {
     "end_time": "2024-02-05T19:24:25.128816Z",
     "start_time": "2024-02-05T19:24:25.099298500Z"
    }
   },
   "id": "1ae08e71db375af9",
   "execution_count": 15
  }
 ],
 "metadata": {
  "kernelspec": {
   "display_name": "Python 3",
   "language": "python",
   "name": "python3"
  },
  "language_info": {
   "codemirror_mode": {
    "name": "ipython",
    "version": 2
   },
   "file_extension": ".py",
   "mimetype": "text/x-python",
   "name": "python",
   "nbconvert_exporter": "python",
   "pygments_lexer": "ipython2",
   "version": "2.7.6"
  }
 },
 "nbformat": 4,
 "nbformat_minor": 5
}
