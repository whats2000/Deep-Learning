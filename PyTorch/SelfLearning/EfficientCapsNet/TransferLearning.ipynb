{
 "cells": [
  {
   "cell_type": "code",
   "execution_count": 2,
   "id": "initial_id",
   "metadata": {
    "collapsed": true,
    "ExecuteTime": {
     "end_time": "2024-02-05T20:14:12.805527700Z",
     "start_time": "2024-02-05T20:14:08.309569200Z"
    }
   },
   "outputs": [],
   "source": [
    "import torch\n",
    "import torchvision.transforms as transforms\n",
    "from torch.utils.data import Dataset, DataLoader\n",
    "import matplotlib.pyplot as plt\n",
    "from torchvision import datasets\n",
    "from collections import Counter\n",
    "from model import MarginLoss, make_model\n",
    "from torch.optim import lr_scheduler\n",
    "from torch import optim\n",
    "from torch.autograd import Variable\n",
    "import torch.nn.functional as F\n",
    "import seaborn as sns\n",
    "import numpy as np\n",
    "from tqdm import tqdm\n",
    "import io\n",
    "from PIL import Image, ImageFilter\n",
    "import time\n",
    "import aiohttp"
   ]
  },
  {
   "cell_type": "code",
   "outputs": [],
   "source": [
    "class ApplyMedianFilter(object):\n",
    "    \"\"\"\n",
    "    Applies a Median Filter to the image.\n",
    "\n",
    "    Args:\n",
    "    - size (int): The size of the median filter.\n",
    "    \"\"\"\n",
    "    def __init__(self, size: int = 3):\n",
    "        self.size = size\n",
    "\n",
    "    def __call__(self, img: Image.Image) -> Image.Image:\n",
    "        \"\"\"\n",
    "        Apply the Median Filter to the given image.\n",
    "\n",
    "        Args:\n",
    "        - img (PIL.Image.Image): The input image.\n",
    "\n",
    "        Returns:\n",
    "        - PIL.Image.Image: The image after applying the Median Filter.\n",
    "        \"\"\"\n",
    "        return img.filter(ImageFilter.MedianFilter(self.size))"
   ],
   "metadata": {
    "collapsed": false,
    "ExecuteTime": {
     "end_time": "2024-02-05T20:14:12.814418800Z",
     "start_time": "2024-02-05T20:14:12.805527700Z"
    }
   },
   "id": "ece8ae3bcaa190e4",
   "execution_count": 3
  },
  {
   "cell_type": "code",
   "outputs": [
    {
     "data": {
      "text/plain": "{'1': 0, '2': 1, '3': 2, '4': 3, '5': 4, '6': 5, '7': 6, '8': 7, '9': 8}"
     },
     "execution_count": 4,
     "metadata": {},
     "output_type": "execute_result"
    }
   ],
   "source": [
    "# Define the transfer learning dataset\n",
    "data_path = 'numbers'\n",
    "\n",
    "transfer_target_dataset = datasets.ImageFolder(\n",
    "    root=data_path,\n",
    "    transform=transforms.Compose([\n",
    "        transforms.Grayscale(num_output_channels=1),\n",
    "        transforms.Resize((28, 28)),\n",
    "        ApplyMedianFilter(size=3),\n",
    "        transforms.ToTensor(),\n",
    "]))\n",
    "\n",
    "class_mapping = transfer_target_dataset.class_to_idx\n",
    "class_mapping"
   ],
   "metadata": {
    "collapsed": false,
    "ExecuteTime": {
     "end_time": "2024-02-05T20:14:12.892201Z",
     "start_time": "2024-02-05T20:14:12.810427300Z"
    }
   },
   "id": "7ca5e5c2e3b13eff",
   "execution_count": 4
  },
  {
   "cell_type": "code",
   "outputs": [
    {
     "name": "stdout",
     "output_type": "stream",
     "text": [
      "Train size:  12780\n",
      "Test size:  3195\n"
     ]
    }
   ],
   "source": [
    "# Split data to test and train\n",
    "# Use 80% to train\n",
    "train_size = int(0.8 * len(transfer_target_dataset))\n",
    "test_size = len(transfer_target_dataset) - train_size\n",
    "\n",
    "train_dataset, test_dataset = torch.utils.data.random_split(transfer_target_dataset, [train_size, test_size], generator=torch.Generator().manual_seed(42))\n",
    "\n",
    "print('Train size: ', len(train_dataset))\n",
    "print('Test size: ', len(test_dataset))"
   ],
   "metadata": {
    "collapsed": false,
    "ExecuteTime": {
     "end_time": "2024-02-05T20:14:12.893214300Z",
     "start_time": "2024-02-05T20:14:12.886708700Z"
    }
   },
   "id": "3a54f7b880b81ead",
   "execution_count": 5
  },
  {
   "cell_type": "code",
   "outputs": [
    {
     "data": {
      "text/plain": "Counter({0: 1761,\n         1: 1743,\n         2: 1801,\n         3: 1741,\n         4: 1847,\n         5: 1781,\n         6: 1779,\n         7: 1777,\n         8: 1745})"
     },
     "execution_count": 6,
     "metadata": {},
     "output_type": "execute_result"
    }
   ],
   "source": [
    "# Label distribution\n",
    "train_classes = [label for _, label in transfer_target_dataset]\n",
    "Counter(train_classes)"
   ],
   "metadata": {
    "collapsed": false,
    "ExecuteTime": {
     "end_time": "2024-02-05T20:14:17.753422500Z",
     "start_time": "2024-02-05T20:14:12.892201Z"
    }
   },
   "id": "e40ee6ce600ee01c",
   "execution_count": 6
  },
  {
   "cell_type": "code",
   "outputs": [],
   "source": [
    "train_loader = DataLoader(dataset=train_dataset, batch_size=64, shuffle=True)\n",
    "test_loader = DataLoader(dataset=test_dataset, batch_size=64, shuffle=False)"
   ],
   "metadata": {
    "collapsed": false,
    "ExecuteTime": {
     "end_time": "2024-02-05T20:14:17.754422900Z",
     "start_time": "2024-02-05T20:14:17.748293400Z"
    }
   },
   "id": "c48a0c94bc14cfb6",
   "execution_count": 7
  },
  {
   "cell_type": "code",
   "outputs": [
    {
     "data": {
      "text/plain": "<Figure size 640x480 with 1 Axes>",
      "image/png": "[encoded data removed]"
     },
     "metadata": {},
     "output_type": "display_data"
    }
   ],
   "source": [
    "# Check a sample\n",
    "sample = next(iter(train_loader))\n",
    "\n",
    "plt.imshow(sample[0][0].reshape(28, 28), cmap='gray')\n",
    "plt.title('y = {}'.format(sample[1][0]))\n",
    "plt.show()"
   ],
   "metadata": {
    "collapsed": false,
    "ExecuteTime": {
     "end_time": "2024-02-05T20:14:17.943839700Z",
     "start_time": "2024-02-05T20:14:17.751425500Z"
    }
   },
   "id": "17430a6af1e76ed1",
   "execution_count": 8
  },
  {
   "cell_type": "code",
   "outputs": [
    {
     "data": {
      "text/plain": "EfficientCapsNetWithReconstruction(\n  (efficient_capsnet): EfficientCapsNet(\n    (conv1): Conv2d(1, 32, kernel_size=(5, 5), stride=(1, 1), padding=valid)\n    (batch_norm1): BatchNorm2d(32, eps=1e-05, momentum=0.1, affine=True, track_running_stats=True)\n    (conv2): Conv2d(32, 64, kernel_size=(3, 3), stride=(1, 1), padding=valid)\n    (batch_norm2): BatchNorm2d(64, eps=1e-05, momentum=0.1, affine=True, track_running_stats=True)\n    (conv3): Conv2d(64, 64, kernel_size=(3, 3), stride=(1, 1), padding=valid)\n    (batch_norm3): BatchNorm2d(64, eps=1e-05, momentum=0.1, affine=True, track_running_stats=True)\n    (conv4): Conv2d(64, 128, kernel_size=(3, 3), stride=(2, 2), padding=valid)\n    (batch_norm4): BatchNorm2d(128, eps=1e-05, momentum=0.1, affine=True, track_running_stats=True)\n    (primary_caps): PrimaryCapsLayer(\n      (depthwise_conv): Conv2d(128, 128, kernel_size=(9, 9), stride=(1, 1), padding=valid, groups=128)\n    )\n    (digit_caps): RoutingLayer()\n  )\n  (reconstruction_net): ReconstructionNet(\n    (fc1): Linear(in_features=160, out_features=512, bias=True)\n    (fc2): Linear(in_features=512, out_features=1024, bias=True)\n    (fc3): Linear(in_features=1024, out_features=784, bias=True)\n  )\n)"
     },
     "execution_count": 9,
     "metadata": {},
     "output_type": "execute_result"
    }
   ],
   "source": [
    "model = make_model()\n",
    "model.load_state_dict(torch.load('checkpoints/019_model_dict_reconstructionTrue.pth')['model_state_dict'])\n",
    "\n",
    "model.train()\n",
    "\n",
    "device = torch.device('cuda' if torch.cuda.is_available() else 'cpu')\n",
    "model.to(device)"
   ],
   "metadata": {
    "collapsed": false,
    "ExecuteTime": {
     "end_time": "2024-02-05T20:14:18.112998600Z",
     "start_time": "2024-02-05T20:14:17.944846100Z"
    }
   },
   "id": "5dfbd51722339562",
   "execution_count": 9
  },
  {
   "cell_type": "code",
   "outputs": [],
   "source": [
    "args = {\n",
    "    \"batch_size\": 64,\n",
    "    \"test_batch_size\": 64,\n",
    "    \"epochs\": 30,\n",
    "    \"lr\": 3e-4,\n",
    "    \"reconstruction_alpha\": 0.0005,\n",
    "}\n",
    "\n",
    "optimizer = optim.Adam(model.parameters(), lr=args[\"lr\"])\n",
    "\n",
    "scheduler = lr_scheduler.ReduceLROnPlateau(\n",
    "    optimizer, verbose=True, factor=0.9, patience=4, min_lr=1e-5, mode=\"max\"\n",
    ")\n",
    "\n",
    "loss_fn = MarginLoss(0.9, 0.1, 0.5)"
   ],
   "metadata": {
    "collapsed": false,
    "ExecuteTime": {
     "end_time": "2024-02-05T20:14:18.124748900Z",
     "start_time": "2024-02-05T20:14:18.114998600Z"
    }
   },
   "id": "ade666319a1250ef",
   "execution_count": 10
  },
  {
   "cell_type": "code",
   "outputs": [],
   "source": [
    "confusion_mat = np.zeros((9, 9), dtype=int)\n",
    "max_test_accuracy = 0\n",
    "\n",
    "def train(current_epoch):\n",
    "    model.train()\n",
    "    # 將train_loader包裝在tqdm進度條中\n",
    "    train_loader_tqdm = tqdm(enumerate(train_loader), total=len(train_loader), desc=f'Train Epoch: {current_epoch}')\n",
    "    for batch_idx, (data, target) in train_loader_tqdm:\n",
    "        data, target = data.to(device), target.to(device)\n",
    "        \n",
    "        data, target = Variable(data), Variable(target, requires_grad=False)\n",
    "        optimizer.zero_grad()\n",
    "        \n",
    "        output, probs = model(data)\n",
    "        reconstruction_loss = F.mse_loss(output, data.view(-1, 784))\n",
    "        margin_loss = loss_fn(probs, target)\n",
    "        loss = args[\"reconstruction_alpha\"] * reconstruction_loss + margin_loss\n",
    "            \n",
    "        loss.backward()\n",
    "        optimizer.step()\n",
    "        \n",
    "        # 更新tqdm進度條的描述信息\n",
    "        train_loader_tqdm.set_description(\n",
    "            \"Train Epoch: {} [{}/{} ({:.0f}%)]\\tLoss: {:.6f}\".format(\n",
    "                current_epoch,\n",
    "                batch_idx * len(data),\n",
    "                len(train_loader.dataset),\n",
    "                100.0 * batch_idx / len(train_loader),\n",
    "                loss.item(),\n",
    "            )\n",
    "        )\n",
    "            \n",
    "def test(final=False):\n",
    "    global confusion_mat, max_test_accuracy\n",
    "    model.eval()\n",
    "    test_loss = 0\n",
    "    correct = 0\n",
    "    if final:\n",
    "        confusion_mat = np.zeros((9, 9), dtype=int)\n",
    "    with tqdm(test_loader, unit=\"batch\", desc=\"Test Set\") as test_loader_tqdm:\n",
    "        for data, target in test_loader_tqdm:\n",
    "            data, target = data.to(device), target.to(device)\n",
    "            data, target = Variable(data), Variable(target)\n",
    "\n",
    "            output, probs = model(data)\n",
    "            reconstruction_loss = F.mse_loss(\n",
    "                output, data.view(-1, 784), reduction='sum'\n",
    "            ).item()\n",
    "            test_loss += loss_fn(probs, target, size_average=False).item()\n",
    "            test_loss += args[\"reconstruction_alpha\"] * reconstruction_loss\n",
    "\n",
    "            pred = probs.data.max(1, keepdim=True)[1]  # get the index of the max probability\n",
    "            correct += pred.eq(target.data.view_as(pred)).cpu().sum()\n",
    "\n",
    "            if final:\n",
    "                for i in range(len(pred)):\n",
    "                    true_label = target.data[i]\n",
    "                    pred_label = pred.data[i]\n",
    "                    confusion_mat[true_label][pred_label] += 1\n",
    "            test_loader_tqdm.set_postfix(Loss=test_loss / len(test_loader.dataset), Accuracy=100.0 * correct / len(test_loader.dataset))\n",
    "            \n",
    "        if 100.0 * correct / len(test_loader.dataset) > max_test_accuracy:\n",
    "            max_test_accuracy = 100.0 * correct / len(test_loader.dataset)\n",
    "            torch.save(\n",
    "                model.state_dict(),\n",
    "                f\"checkpoints/{max_test_accuracy:0.2f}_reconstruction_transfer.pth\",\n",
    "            )\n",
    "\n",
    "    if final:\n",
    "        sns.heatmap(confusion_mat, annot=True, cmap=\"Blues\", fmt=\"d\")\n",
    "        plt.xlabel(\"Predicted label\")\n",
    "        plt.ylabel(\"True label\")\n",
    "        plt.title(\"Efficient CapsNet - MNIST Confusion Matrix\")\n",
    "        plt.savefig(\"confusion_mat-reconstruction.png\")\n",
    "    return test_loss"
   ],
   "metadata": {
    "collapsed": false,
    "ExecuteTime": {
     "end_time": "2024-02-05T20:14:18.147829400Z",
     "start_time": "2024-02-05T20:14:18.128748700Z"
    }
   },
   "id": "e41c4f112a91af4b",
   "execution_count": 11
  },
  {
   "cell_type": "code",
   "outputs": [
    {
     "name": "stderr",
     "output_type": "stream",
     "text": [
      "Train Epoch: 1 [8756/12780 (100%)]\tLoss: 0.004311: 100%|██████████| 200/200 [00:34<00:00,  5.87it/s]\n",
      "Test Set: 100%|██████████| 50/50 [00:01<00:00, 26.85batch/s, Accuracy=tensor(95.8998), Loss=0.0606]\n",
      "Train Epoch: 2 [8756/12780 (100%)]\tLoss: 0.000976: 100%|██████████| 200/200 [00:07<00:00, 26.08it/s]\n",
      "Test Set: 100%|██████████| 50/50 [00:01<00:00, 34.80batch/s, Accuracy=tensor(98.5290), Loss=0.0309] \n",
      "Train Epoch: 3 [8756/12780 (100%)]\tLoss: 0.001524: 100%|██████████| 200/200 [00:07<00:00, 25.92it/s]\n",
      "Test Set: 100%|██████████| 50/50 [00:01<00:00, 38.99batch/s, Accuracy=tensor(98.9045), Loss=0.0256] \n",
      "Train Epoch: 4 [8756/12780 (100%)]\tLoss: 0.001373: 100%|██████████| 200/200 [00:07<00:00, 27.14it/s]\n",
      "Test Set: 100%|██████████| 50/50 [00:01<00:00, 40.23batch/s, Accuracy=tensor(99.4053), Loss=0.0207] \n",
      "Train Epoch: 5 [8756/12780 (100%)]\tLoss: 0.001006: 100%|██████████| 200/200 [00:07<00:00, 27.26it/s]\n",
      "Test Set: 100%|██████████| 50/50 [00:01<00:00, 39.63batch/s, Accuracy=tensor(99.4679), Loss=0.0184] \n",
      "Train Epoch: 6 [8756/12780 (100%)]\tLoss: 0.000239: 100%|██████████| 200/200 [00:07<00:00, 27.19it/s]\n",
      "Test Set: 100%|██████████| 50/50 [00:01<00:00, 38.97batch/s, Accuracy=tensor(99.5618), Loss=0.0154] \n"
     ]
    },
    {
     "name": "stdout",
     "output_type": "stream",
     "text": [
      "Epoch 00006: reducing learning rate of group 0 to 2.7000e-04.\n"
     ]
    },
    {
     "name": "stderr",
     "output_type": "stream",
     "text": [
      "Train Epoch: 7 [8756/12780 (100%)]\tLoss: 0.000240: 100%|██████████| 200/200 [00:07<00:00, 26.25it/s]\n",
      "Test Set: 100%|██████████| 50/50 [00:01<00:00, 39.22batch/s, Accuracy=tensor(99.7496), Loss=0.0147] \n",
      "Train Epoch: 8 [8756/12780 (100%)]\tLoss: 0.000645: 100%|██████████| 200/200 [00:07<00:00, 27.00it/s]\n",
      "Test Set: 100%|██████████| 50/50 [00:01<00:00, 39.49batch/s, Accuracy=tensor(99.9061), Loss=0.0141] \n",
      "Train Epoch: 9 [8756/12780 (100%)]\tLoss: 0.000131: 100%|██████████| 200/200 [00:07<00:00, 26.86it/s]\n",
      "Test Set: 100%|██████████| 50/50 [00:01<00:00, 40.32batch/s, Accuracy=tensor(99.7496), Loss=0.0137] \n",
      "Train Epoch: 10 [8756/12780 (100%)]\tLoss: 0.000122: 100%|██████████| 200/200 [00:07<00:00, 27.13it/s]\n",
      "Test Set: 100%|██████████| 50/50 [00:01<00:00, 40.20batch/s, Accuracy=tensor(99.7496), Loss=0.0134] \n",
      "Train Epoch: 11 [8756/12780 (100%)]\tLoss: 0.000224: 100%|██████████| 200/200 [00:07<00:00, 27.19it/s]\n",
      "Test Set: 100%|██████████| 50/50 [00:01<00:00, 39.42batch/s, Accuracy=tensor(99.7496), Loss=0.0124] \n"
     ]
    },
    {
     "name": "stdout",
     "output_type": "stream",
     "text": [
      "Epoch 00011: reducing learning rate of group 0 to 2.4300e-04.\n"
     ]
    },
    {
     "name": "stderr",
     "output_type": "stream",
     "text": [
      "Train Epoch: 12 [8756/12780 (100%)]\tLoss: 0.000064: 100%|██████████| 200/200 [00:07<00:00, 27.14it/s]\n",
      "Test Set: 100%|██████████| 50/50 [00:01<00:00, 39.78batch/s, Accuracy=tensor(99.8748), Loss=0.0124] \n",
      "Train Epoch: 13 [8756/12780 (100%)]\tLoss: 0.000114: 100%|██████████| 200/200 [00:07<00:00, 27.04it/s]\n",
      "Test Set: 100%|██████████| 50/50 [00:01<00:00, 40.48batch/s, Accuracy=tensor(99.7183), Loss=0.0129] \n",
      "Train Epoch: 14 [8756/12780 (100%)]\tLoss: 0.000051: 100%|██████████| 200/200 [00:07<00:00, 27.20it/s]\n",
      "Test Set: 100%|██████████| 50/50 [00:01<00:00, 38.92batch/s, Accuracy=tensor(99.8122), Loss=0.0124] \n",
      "Train Epoch: 15 [8756/12780 (100%)]\tLoss: 0.000137: 100%|██████████| 200/200 [00:07<00:00, 27.35it/s]\n",
      "Test Set: 100%|██████████| 50/50 [00:01<00:00, 39.59batch/s, Accuracy=tensor(99.7809), Loss=0.0122] \n",
      "Train Epoch: 16 [8756/12780 (100%)]\tLoss: 0.000027: 100%|██████████| 200/200 [00:07<00:00, 27.06it/s]\n",
      "Test Set: 100%|██████████| 50/50 [00:01<00:00, 39.68batch/s, Accuracy=tensor(99.8122), Loss=0.0126] \n"
     ]
    },
    {
     "name": "stdout",
     "output_type": "stream",
     "text": [
      "Epoch 00016: reducing learning rate of group 0 to 2.1870e-04.\n"
     ]
    },
    {
     "name": "stderr",
     "output_type": "stream",
     "text": [
      "Train Epoch: 17 [8756/12780 (100%)]\tLoss: 0.000041: 100%|██████████| 200/200 [00:07<00:00, 27.13it/s]\n",
      "Test Set: 100%|██████████| 50/50 [00:01<00:00, 39.71batch/s, Accuracy=tensor(99.8122), Loss=0.0117] \n",
      "Train Epoch: 18 [8756/12780 (100%)]\tLoss: 0.000069: 100%|██████████| 200/200 [00:07<00:00, 26.79it/s]\n",
      "Test Set: 100%|██████████| 50/50 [00:01<00:00, 40.06batch/s, Accuracy=tensor(99.8435), Loss=0.0129] \n",
      "Train Epoch: 19 [8756/12780 (100%)]\tLoss: 0.000050: 100%|██████████| 200/200 [00:07<00:00, 27.37it/s]\n",
      "Test Set: 100%|██████████| 50/50 [00:01<00:00, 38.08batch/s, Accuracy=tensor(99.9061), Loss=0.0112] \n",
      "Train Epoch: 20 [8756/12780 (100%)]\tLoss: 0.000034: 100%|██████████| 200/200 [00:07<00:00, 27.14it/s]\n",
      "Test Set: 100%|██████████| 50/50 [00:01<00:00, 39.45batch/s, Accuracy=tensor(99.9061), Loss=0.0123] \n",
      "Train Epoch: 21 [8756/12780 (100%)]\tLoss: 0.000046: 100%|██████████| 200/200 [00:07<00:00, 27.04it/s]\n",
      "Test Set: 100%|██████████| 50/50 [00:01<00:00, 40.29batch/s, Accuracy=tensor(99.6870), Loss=0.0121] \n"
     ]
    },
    {
     "name": "stdout",
     "output_type": "stream",
     "text": [
      "Epoch 00021: reducing learning rate of group 0 to 1.9683e-04.\n"
     ]
    },
    {
     "name": "stderr",
     "output_type": "stream",
     "text": [
      "Train Epoch: 22 [8756/12780 (100%)]\tLoss: 0.000016: 100%|██████████| 200/200 [00:07<00:00, 27.28it/s]\n",
      "Test Set: 100%|██████████| 50/50 [00:01<00:00, 39.55batch/s, Accuracy=tensor(99.8122), Loss=0.0114] \n",
      "Train Epoch: 23 [8756/12780 (100%)]\tLoss: 0.000012: 100%|██████████| 200/200 [00:07<00:00, 26.71it/s]\n",
      "Test Set: 100%|██████████| 50/50 [00:01<00:00, 38.48batch/s, Accuracy=tensor(99.9374), Loss=0.0111] \n",
      "Train Epoch: 24 [8756/12780 (100%)]\tLoss: 0.000126: 100%|██████████| 200/200 [00:07<00:00, 26.96it/s]\n",
      "Test Set: 100%|██████████| 50/50 [00:01<00:00, 39.46batch/s, Accuracy=tensor(99.8435), Loss=0.011]  \n",
      "Train Epoch: 25 [8756/12780 (100%)]\tLoss: 0.000023: 100%|██████████| 200/200 [00:07<00:00, 26.91it/s]\n",
      "Test Set: 100%|██████████| 50/50 [00:01<00:00, 39.33batch/s, Accuracy=tensor(99.8748), Loss=0.0107] \n",
      "Train Epoch: 26 [8756/12780 (100%)]\tLoss: 0.000119: 100%|██████████| 200/200 [00:07<00:00, 27.07it/s]\n",
      "Test Set: 100%|██████████| 50/50 [00:01<00:00, 40.31batch/s, Accuracy=tensor(99.8435), Loss=0.0111] \n"
     ]
    },
    {
     "name": "stdout",
     "output_type": "stream",
     "text": [
      "Epoch 00026: reducing learning rate of group 0 to 1.7715e-04.\n"
     ]
    },
    {
     "name": "stderr",
     "output_type": "stream",
     "text": [
      "Train Epoch: 27 [8756/12780 (100%)]\tLoss: 0.000072: 100%|██████████| 200/200 [00:07<00:00, 27.13it/s]\n",
      "Test Set: 100%|██████████| 50/50 [00:01<00:00, 40.51batch/s, Accuracy=tensor(99.9061), Loss=0.0106] \n",
      "Train Epoch: 28 [8756/12780 (100%)]\tLoss: 0.000027: 100%|██████████| 200/200 [00:07<00:00, 27.31it/s]\n",
      "Test Set: 100%|██████████| 50/50 [00:01<00:00, 40.11batch/s, Accuracy=tensor(99.7809), Loss=0.0105] \n",
      "Train Epoch: 29 [8756/12780 (100%)]\tLoss: 0.001218: 100%|██████████| 200/200 [00:07<00:00, 27.48it/s]\n",
      "Test Set: 100%|██████████| 50/50 [00:01<00:00, 40.47batch/s, Accuracy=tensor(99.9061), Loss=0.0103] \n",
      "Train Epoch: 30 [8756/12780 (100%)]\tLoss: 0.000012: 100%|██████████| 200/200 [00:07<00:00, 27.43it/s]\n",
      "Test Set: 100%|██████████| 50/50 [00:01<00:00, 35.26batch/s, Accuracy=tensor(99.8435), Loss=0.0105] \n"
     ]
    },
    {
     "name": "stdout",
     "output_type": "stream",
     "text": [
      "\n",
      " ---------------------------- Finished Training ---------------------------- \n"
     ]
    },
    {
     "data": {
      "text/plain": "<Figure size 640x480 with 2 Axes>",
      "image/png": "[encoded data removed]"
     },
     "metadata": {},
     "output_type": "display_data"
    }
   ],
   "source": [
    "for epoch in range(1, args[\"epochs\"] + 1):\n",
    "    final = True if epoch == args[\"epochs\"] else False\n",
    "    train(epoch)\n",
    "    test_loss = test(final)\n",
    "    scheduler.step(test_loss)\n",
    "    if epoch % 10 == 0 or epoch == args[\"epochs\"]:\n",
    "        # Save the model dict\n",
    "        torch.save(\n",
    "            model.state_dict(),\n",
    "            f\"checkpoints/{epoch:03d}_model_dict_reconstruction_transfer.pth\",\n",
    "        )\n",
    "\n",
    "print(\"\\n\", \"-\" * 28, \"Finished Training\", \"-\" * 28, \"\\n\")"
   ],
   "metadata": {
    "collapsed": false,
    "ExecuteTime": {
     "end_time": "2024-02-05T20:19:07.318797800Z",
     "start_time": "2024-02-05T20:14:18.133830700Z"
    }
   },
   "id": "8d82261ebdd3a3f0",
   "execution_count": 12
  },
  {
   "cell_type": "code",
   "outputs": [
    {
     "data": {
      "text/plain": "<All keys matched successfully>"
     },
     "execution_count": 27,
     "metadata": {},
     "output_type": "execute_result"
    }
   ],
   "source": [
    "# Load the best model\n",
    "model.load_state_dict(torch.load('checkpoints/99.94_reconstruction_transfer.pth'))"
   ],
   "metadata": {
    "collapsed": false,
    "ExecuteTime": {
     "end_time": "2024-02-05T20:22:35.538632800Z",
     "start_time": "2024-02-05T20:22:35.502195900Z"
    }
   },
   "id": "d90fbe3177070d8d",
   "execution_count": 27
  },
  {
   "cell_type": "code",
   "outputs": [
    {
     "data": {
      "text/plain": "EfficientCapsNet(\n  (conv1): Conv2d(1, 32, kernel_size=(5, 5), stride=(1, 1), padding=valid)\n  (batch_norm1): BatchNorm2d(32, eps=1e-05, momentum=0.1, affine=True, track_running_stats=True)\n  (conv2): Conv2d(32, 64, kernel_size=(3, 3), stride=(1, 1), padding=valid)\n  (batch_norm2): BatchNorm2d(64, eps=1e-05, momentum=0.1, affine=True, track_running_stats=True)\n  (conv3): Conv2d(64, 64, kernel_size=(3, 3), stride=(1, 1), padding=valid)\n  (batch_norm3): BatchNorm2d(64, eps=1e-05, momentum=0.1, affine=True, track_running_stats=True)\n  (conv4): Conv2d(64, 128, kernel_size=(3, 3), stride=(2, 2), padding=valid)\n  (batch_norm4): BatchNorm2d(128, eps=1e-05, momentum=0.1, affine=True, track_running_stats=True)\n  (primary_caps): PrimaryCapsLayer(\n    (depthwise_conv): Conv2d(128, 128, kernel_size=(9, 9), stride=(1, 1), padding=valid, groups=128)\n  )\n  (digit_caps): RoutingLayer()\n)"
     },
     "execution_count": 28,
     "metadata": {},
     "output_type": "execute_result"
    }
   ],
   "source": [
    "# For deployment, we only need the convolutional layers, no need for the decoder\n",
    "deploy_model = model.efficient_capsnet\n",
    "deploy_model"
   ],
   "metadata": {
    "collapsed": false,
    "ExecuteTime": {
     "end_time": "2024-02-05T20:22:36.135920Z",
     "start_time": "2024-02-05T20:22:36.129055400Z"
    }
   },
   "id": "db0b78debe60f239",
   "execution_count": 28
  },
  {
   "cell_type": "code",
   "outputs": [],
   "source": [
    "# Save the model\n",
    "torch.save(deploy_model.state_dict(), 'checkpoints/EfficientCapsNetDeploy.pth')"
   ],
   "metadata": {
    "collapsed": false,
    "ExecuteTime": {
     "end_time": "2024-02-05T20:25:04.190095400Z",
     "start_time": "2024-02-05T20:25:04.177102300Z"
    }
   },
   "id": "7bd956351f1b0b99",
   "execution_count": 44
  },
  {
   "cell_type": "code",
   "outputs": [
    {
     "data": {
      "text/plain": "torch.Size([64, 10, 16])"
     },
     "execution_count": 30,
     "metadata": {},
     "output_type": "execute_result"
    }
   ],
   "source": [
    "# Check the model output shape\n",
    "deploy_model.eval()\n",
    "sample = next(iter(train_loader))\n",
    "output, prob = deploy_model(sample[0].to(device))\n",
    "output.shape"
   ],
   "metadata": {
    "collapsed": false,
    "ExecuteTime": {
     "end_time": "2024-02-05T20:22:37.433306900Z",
     "start_time": "2024-02-05T20:22:37.373292Z"
    }
   },
   "id": "b79b021cea6b1d69",
   "execution_count": 30
  },
  {
   "cell_type": "code",
   "outputs": [
    {
     "data": {
      "text/plain": "torch.Size([64, 10])"
     },
     "execution_count": 31,
     "metadata": {},
     "output_type": "execute_result"
    }
   ],
   "source": [
    "prob.shape"
   ],
   "metadata": {
    "collapsed": false,
    "ExecuteTime": {
     "end_time": "2024-02-05T20:22:38.153442100Z",
     "start_time": "2024-02-05T20:22:38.148073100Z"
    }
   },
   "id": "ce0cafa8309a62a1",
   "execution_count": 31
  },
  {
   "cell_type": "code",
   "outputs": [
    {
     "data": {
      "text/plain": "<Figure size 1000x300 with 4 Axes>",
      "image/png": "[encoded data removed]"
     },
     "metadata": {},
     "output_type": "display_data"
    },
    {
     "name": "stdout",
     "output_type": "stream",
     "text": [
      "9967\n"
     ]
    }
   ],
   "source": [
    "import asyncio\n",
    "\n",
    "BASEURL = \"https://selcrs.nsysu.edu.tw/menu1\"\n",
    "MODULE_PATH = \"checkpoints/efficient_capsnet_deploy.pth\"\n",
    "\n",
    "def parse_valid_code(img: bytes):\n",
    "    # Load the image\n",
    "    image = Image.open(io.BytesIO(img))\n",
    "\n",
    "    # Convert the image to grayscale\n",
    "    image = image.convert(\"L\")\n",
    "\n",
    "    # Apply Median Filter to reduce noise\n",
    "    image = image.filter(ImageFilter.MedianFilter(size=3))\n",
    "\n",
    "    # Get the width of the image\n",
    "    width = image.size[0]\n",
    "\n",
    "    # Determine the size of each slice\n",
    "    slice_width = width // 4\n",
    "\n",
    "    # Create a list to hold the image slices\n",
    "    slices = []\n",
    "\n",
    "    # Slice the image and resize each slice\n",
    "    for i in range(4):\n",
    "        slice_img = image.crop(\n",
    "            (i * slice_width, 0, (i + 1) * slice_width, image.size[1])\n",
    "        )\n",
    "        # Resize and apply Median Filter again to ensure consistency after cropping\n",
    "        slice_img = slice_img.resize((28, 28))\n",
    "        slices.append(slice_img)\n",
    "\n",
    "    # Determine the device to use\n",
    "    device = torch.device(\"cuda\" if torch.cuda.is_available() else \"cpu\")\n",
    "\n",
    "    # Convert the slices to a NumPy array and normalize the pixel values\n",
    "    slices = np.array([np.array(slice_img) / 255.0 for slice_img in slices])\n",
    "\n",
    "    # Load the model weights\n",
    "    deploy_model.load_state_dict(torch.load(MODULE_PATH, map_location=device))\n",
    "    deploy_model.to(device)\n",
    "    deploy_model.eval()\n",
    "\n",
    "    # Convert slices to a tensor, normalize and add a batch dimension\n",
    "    slices_tensor = torch.tensor(slices, dtype=torch.float32).unsqueeze(1)  # Add channel dimension\n",
    "    slices_tensor = slices_tensor.to(device)  # Move the slices tensor to the correct device\n",
    "    \n",
    "    # Plot the slices\n",
    "    fig, axes = plt.subplots(1, 4, figsize=(10, 3))\n",
    "    for i, ax in enumerate(axes):\n",
    "        ax.imshow(slices[i], cmap=\"gray\")\n",
    "        ax.axis(\"off\")\n",
    "    \n",
    "    plt.show()\n",
    "    \n",
    "    with torch.no_grad():\n",
    "        _, predictions = deploy_model(slices_tensor)\n",
    "\n",
    "    # Get the predicted classes\n",
    "    predicted_classes = torch.argmax(predictions, dim=1).cpu().numpy() + 1\n",
    "\n",
    "    return \"\".join(map(str, predicted_classes))\n",
    "\n",
    "async with aiohttp.ClientSession() as s:\n",
    "    async with s.get(f\"{BASEURL}/validcode.asp?epoch={time.time()}\") as out:\n",
    "        img = await out.read()\n",
    "        code = parse_valid_code(img)\n",
    "        print(code)"
   ],
   "metadata": {
    "collapsed": false,
    "ExecuteTime": {
     "end_time": "2024-02-05T20:23:34.131584100Z",
     "start_time": "2024-02-05T20:23:33.834713500Z"
    }
   },
   "id": "1ae08e71db375af9",
   "execution_count": 42
  },
  {
   "cell_type": "code",
   "outputs": [],
   "source": [],
   "metadata": {
    "collapsed": false,
    "ExecuteTime": {
     "start_time": "2024-02-05T20:19:07.172810300Z"
    }
   },
   "id": "7d56d3eb0db072c7"
  }
 ],
 "metadata": {
  "kernelspec": {
   "display_name": "Python 3",
   "language": "python",
   "name": "python3"
  },
  "language_info": {
   "codemirror_mode": {
    "name": "ipython",
    "version": 2
   },
   "file_extension": ".py",
   "mimetype": "text/x-python",
   "name": "python",
   "nbconvert_exporter": "python",
   "pygments_lexer": "ipython2",
   "version": "2.7.6"
  }
 },
 "nbformat": 4,
 "nbformat_minor": 5
}
