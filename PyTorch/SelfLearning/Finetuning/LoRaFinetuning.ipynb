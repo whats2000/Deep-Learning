{
 "cells": [
  {
   "metadata": {},
   "cell_type": "markdown",
   "source": [
    "# LoRa Fine-tuning\n",
    "\n",
    "LoRa 是一種輕量化微調的技術，在微調後，會將修改後的參數Merge到原本的模型中，因此Inference時，不會需要使用額外的路徑。\n",
    "利用兩個額外矩陣，就能達到相當不錯的效果。"
   ],
   "id": "fec3d7116bf4bb34"
  },
  {
   "cell_type": "code",
   "execution_count": null,
   "id": "initial_id",
   "metadata": {
    "collapsed": true
   },
   "outputs": [],
   "source": [
    ""
   ]
  }
 ],
 "metadata": {
  "kernelspec": {
   "display_name": "Python 3",
   "language": "python",
   "name": "python3"
  },
  "language_info": {
   "codemirror_mode": {
    "name": "ipython",
    "version": 2
   },
   "file_extension": ".py",
   "mimetype": "text/x-python",
   "name": "python",
   "nbconvert_exporter": "python",
   "pygments_lexer": "ipython2",
   "version": "2.7.6"
  }
 },
 "nbformat": 4,
 "nbformat_minor": 5
}
