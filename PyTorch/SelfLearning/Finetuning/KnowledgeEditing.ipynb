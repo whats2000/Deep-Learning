{
 "cells": [
  {
   "metadata": {},
   "cell_type": "markdown",
   "source": [
    "# Knowledge Editing\n",
    "\n",
    "由於知識是與Time有關的，所以我們需要一個知識編輯的工具，來幫助我們編輯知識。像是美國總統大選已經過了，且總統已經更換，我們需要將知識庫中的知識進行更新。這個工具可以幫助我們對知識進行編輯。這項技術需要確保知識的一致性，並且不能破壞知識的完整性。\n",
    "1. 像是問\"Who is the president of the United States?\"，我們修改知識庫中的知識，將知識庫中的知識進行更新。但是當詢問\"Who was the leader of the United States?\"，這時候我們也要將知識庫中的知識進行更新。\n",
    "2. 然而我們不能影響到其他的知識，像是\"Who is the president of Germany?\"，這時候我們需要除了更新美國總統的知識外，也不能影響到德國總統的知識。\n",
    "\n",
    "解法：\n",
    "\n",
    "### Memory Based\n",
    "這個方法是將擴展記憶庫，將知識庫中的知識進行更新。這個方法的優點是簡單，但是缺點是當知識庫中的知識很多時，這個方法會變得很沒有效率。且如果未被收集的知識，這個方法無法處理。\n",
    "\n",
    "### Locate and Edit\n",
    "這個方法是將模型參數中找到與要修改的知識相關的神經元，然後進行修改參數。但是這面臨個問題，如何找到要修改的知識相關的神經元？\n",
    "\n",
    "### Addition Challenge\n",
    "- Reversal Curse: 當我們對知識進行修改時，很常反向關係無法有效處理。\n",
    "- Ripple Effect: 當我們對知識進行修改時，會牽連到非常多的知識。\n",
    "\n",
    "### Summary\n",
    "- 在只有局部知識需要修改時，Knowledge Editing是一個有效的方法。"
   ],
   "id": "e310c8c875d4d358"
  },
  {
   "cell_type": "code",
   "execution_count": null,
   "id": "initial_id",
   "metadata": {
    "collapsed": true
   },
   "outputs": [],
   "source": [
    ""
   ]
  }
 ],
 "metadata": {
  "kernelspec": {
   "display_name": "Python 3",
   "language": "python",
   "name": "python3"
  },
  "language_info": {
   "codemirror_mode": {
    "name": "ipython",
    "version": 2
   },
   "file_extension": ".py",
   "mimetype": "text/x-python",
   "name": "python",
   "nbconvert_exporter": "python",
   "pygments_lexer": "ipython2",
   "version": "2.7.6"
  }
 },
 "nbformat": 4,
 "nbformat_minor": 5
}
