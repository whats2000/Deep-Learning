{
 "cells": [
  {
   "metadata": {},
   "cell_type": "markdown",
   "source": [
    "# Audio in LLM\n",
    "\n",
    "## Two type of models\n",
    "\n",
    "### Command Model\n",
    "這類型的模型是用來做一些簡單的指令在前，語音在後的模型。這樣的模型可以依據指令做特定辨析理解。\n",
    "\n",
    "### Dialog Model\n",
    "這類更複雜，直接用語音做回答，這樣的模型可以做更複雜的對話。但是相應的，這樣的模型也更難訓練。GPT-4o-Audio 就是這樣的模型。\n",
    "\n",
    "## Why discrete tokens?\n",
    "\n",
    "真正影響的是輸出，由於輸出語音需要一個一個的音節，所以輸出的音節必須是離散的，而不是連續的。舉個例子A與B都是正確，但是如果只是學平均值，那麼就會錯誤的C。\n",
    "\n",
    "然而，這無法解決嗎? 實際上，影像上想法已經變了，現在語音也正在變，或許未來可以解決 Continuous 的生成問題，藉此提升成效。\n",
    "\n",
    "## What is the best choice of tokens?\n",
    "\n",
    "若用 ASR 當 tokenizer，Spoken LM 會有缺失的信息，像是是誰說的。\n",
    "但是如果把全部取樣出來，那麼就會有太多的資料，所以要找一個平衡點。\n",
    "\n",
    "## 聲音變成 Tokens 就能當文字處理了嗎?\n",
    "\n",
    "是的，語音也可以近似 Pretrain 的方式，採用 next token prediction 的方式。但是這樣真的能有效嗎? 這是一個值得思考的問題。\n",
    "經過實驗，語音的 Pretrain 產生合理的結果都有問題。實際，文字只是語音的一個壓縮，而預訓練語音實際是相當困難的。而資料量大，也造就比文字更高昂的運算成本。\n",
    "這造就了 Training solely on unlabeled speech data inefficient。\n",
    "\n",
    "## Starting from Text LLM\n",
    "\n",
    "與其從零開始，不如從文字開始，這樣可以省下很多時間。目前也有大量模型基於此想法。\n",
    "\n",
    "## Fine-tuning on Speech Data\n",
    "\n",
    "1. 看過的任務與沒看過任務有很顯著成效差距。建議可以從語音Adapter出發微調，單純只做Audio Captioning，這無法做像是 Speaker 辨析，此時，利用Alpha以及LoRA的方式，可以有效的提升效果。\n",
    "2. Forgetting Issue: 當訓練23個Speech Task一個 Epoch ，並要求JSON Format輸出，模型此時還能有效輸出Json，然而到了第三個 Epoch，雖然語音解析正確，但是Json Format卻出現問題。這是展現出隨者訓練次數增加，模型會遺忘先前的任務。這是一個很大的挑戰。這有一些研究發現到，用語音+Instruction的方式與Transcript+Instruction的差異比對學習，可以有效的提升效果。經過觀察對於未被訓練的任務，模型會有更好的表現。\n",
    "\n",
    "## RL Human Feedback (RLHF)\n",
    "\n",
    "目前還相對較少的研究，但是這是一個很有趣的方向。這是一個很有趣的方向，但是目前還沒有很多的研究。"
   ],
   "id": "4922ec12288249a"
  },
  {
   "cell_type": "code",
   "execution_count": null,
   "id": "initial_id",
   "metadata": {
    "collapsed": true
   },
   "outputs": [],
   "source": [
    ""
   ]
  }
 ],
 "metadata": {
  "kernelspec": {
   "display_name": "Python 3",
   "language": "python",
   "name": "python3"
  },
  "language_info": {
   "codemirror_mode": {
    "name": "ipython",
    "version": 2
   },
   "file_extension": ".py",
   "mimetype": "text/x-python",
   "name": "python",
   "nbconvert_exporter": "python",
   "pygments_lexer": "ipython2",
   "version": "2.7.6"
  }
 },
 "nbformat": 4,
 "nbformat_minor": 5
}
